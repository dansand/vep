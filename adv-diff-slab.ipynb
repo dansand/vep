{
 "cells": [
  {
   "cell_type": "markdown",
   "metadata": {},
   "source": [
    "#diffusion-slab\n",
    "\n",
    "Notebook to test thermal lithosphere generation, rheology, etc "
   ]
  },
  {
   "cell_type": "markdown",
   "metadata": {},
   "source": [
    "##Thermal boundary layer\n",
    "\n",
    "We wil always scale the temperature using \n",
    "\n",
    "$T - T_0 = \\Delta T T' $\n",
    "\n",
    "The dimensionless Halfspace cooling model is:\n",
    "\n",
    "$$ T'(z', A) = T_m'erf \\left( \\frac{z'}{\\left( 2\\sqrt{A\\kappa}\\right)/D} \\right)$$\n",
    "\n",
    "Where $D$ is the length scale\n",
    "\n",
    "$$ T'(z', A) = T_m'erf \\left( \\frac{z'}{2\\sqrt{A/ \\tau}} \\right)$$\n",
    "\n",
    "Where, $\\tau$ is the thermal diffusion timescale $\\tau = D^2/\\kappa$\n"
   ]
  },
  {
   "cell_type": "code",
   "execution_count": 4,
   "metadata": {
    "collapsed": false
   },
   "outputs": [
    {
     "name": "stdout",
     "output_type": "stream",
     "text": [
      "Populating the interactive namespace from numpy and matplotlib\n"
     ]
    }
   ],
   "source": [
    "%pylab inline\n",
    "import numpy as np\n",
    "import math\n",
    "import matplotlib.pylab as pyplt\n",
    "import os\n",
    "import shutil"
   ]
  },
  {
   "cell_type": "code",
   "execution_count": null,
   "metadata": {
    "collapsed": false
   },
   "outputs": [],
   "source": []
  },
  {
   "cell_type": "code",
   "execution_count": 5,
   "metadata": {
    "collapsed": false
   },
   "outputs": [],
   "source": [
    "def mpy_to_kmpma(mpy):\n",
    "    \"\"\"\n",
    "    convert meters per year to kilometers per year\n",
    "    Args:\n",
    "        mpy (float): velocity in meters per year\n",
    "    Returns:\n",
    "        velocity in kilometers per year\n",
    "    Raises:\n",
    "        TypeError: not implemented\n",
    "        ValueError: not implemented\n",
    "    \"\"\"\n",
    "    return 1e3*mpy\n",
    "\n",
    "def myts(mys):\n",
    "    \"\"\"\n",
    "    convert millions of years to seconds\n",
    "    Args:\n",
    "        mys (float): millions or years\n",
    "    Returns:\n",
    "        seconds\n",
    "    Raises:\n",
    "        TypeError: not implemented\n",
    "        ValueError: not implemented\n",
    "    \"\"\"\n",
    "    secs = mys*(3600.*24*365)*1e6\n",
    "    return secs\n",
    "\n",
    "def stmy(secs):\n",
    "    \"\"\"\n",
    "    convert millions of years to seconds\n",
    "    Args:\n",
    "        mys (float): millions or years\n",
    "    Returns:\n",
    "        seconds\n",
    "    Raises:\n",
    "        TypeError: not implemented\n",
    "        ValueError: not implemented\n",
    "    \"\"\"\n",
    "    myr = secs/((3600.*24*365)*1e6)\n",
    "    return myr"
   ]
  },
  {
   "cell_type": "code",
   "execution_count": 6,
   "metadata": {
    "collapsed": false
   },
   "outputs": [],
   "source": [
    "#Thermal convection paramters\n",
    "D = 1500\n",
    "T0 = 273.\n",
    "g = 9.81\n",
    "delT = 2500.\n",
    "rho0 = 3300.\n",
    "eta0 = 1e23\n",
    "k = 10**(-6)\n",
    "alpha = 3.0e-5\n",
    "kappa = 1e-6\n",
    "\n",
    "#Boundary layer paramaters\n",
    "velmy = 0.02 #m/y\n",
    "vel = mpy_to_kmpma(velmy) #km/my\n",
    "off = -0.4 #dimensionless offset\n",
    "\n",
    "#Slab perturbation paramaters\n",
    "Roc = 450.\n",
    "Crust = 35.\n",
    "theta = 89.\n",
    "\n",
    "#X Domain\n",
    "maxx = 1.5\n",
    "minx = -1.5\n"
   ]
  },
  {
   "cell_type": "code",
   "execution_count": null,
   "metadata": {
    "collapsed": true
   },
   "outputs": [],
   "source": []
  },
  {
   "cell_type": "code",
   "execution_count": 8,
   "metadata": {
    "collapsed": false
   },
   "outputs": [],
   "source": [
    "#Age function:\n",
    "def agefunc(x, szloc, vel = 100., dom = (-1.,1.), D = 2890.):\n",
    "    \"\"\"\n",
    "    Create a (linear) age function based on ridges being the sides of the model,\n",
    "    and subduction zone location at the dimesnionaless (model) position \"szloc\"\n",
    "    Args:\n",
    "        x (float): dimenisionless value to get age (horizontal coordinate)\n",
    "        szloc (float): dimensionless (model) horizntal extent\n",
    "        vel(float): in km/my\n",
    "        dom (tuple): domain boundary\n",
    "        D (float): dimensional domain depth\n",
    "        \n",
    "    Returns:\n",
    "        the age in millions of years\n",
    "    Raises:\n",
    "        TypeError: not implemented\n",
    "        ValueError: not implemented\n",
    "    \"\"\"\n",
    "    if x >= szloc:\n",
    "        #distance from ridge in km\n",
    "        dx = (dom[1] - x) * D\n",
    "        age = (dx)/vel\n",
    "    else:\n",
    "        dx = abs(dom[0] - x) * D\n",
    "        age = (dx)/vel\n",
    "    return age \n",
    "\n",
    "\n",
    "def tempfunc(age, kappa, depth,  t0=0.64):\n",
    "    \"\"\"\n",
    "    return dimensionless halfspace cooling model fucntion,\n",
    "    Args:\n",
    "        age (float): millions or years\n",
    "        kappa (float): diffusivity, m**2/s\n",
    "        depth (float): kilometers\n",
    "        t0 (float): the initial temperature of the halfspace\n",
    "    Returns:\n",
    "        dimensionless temp (0. - 1.)\n",
    "    Raises:\n",
    "        TypeError: not implemented\n",
    "        ValueError: not implemented\n",
    "    \"\"\"\n",
    "    #1000 in line below to convert back to km\n",
    "    secs = myts(age)\n",
    "    temp = t0*math.erf((depth)/(2*math.sqrt(secs*kappa)/1000))\n",
    "    return temp\n",
    "                       \n",
    "def lithdepthfunc(age, kappa):\n",
    "    \"\"\"\n",
    "    returns depth or thermal lithosphere in kilometers\n",
    "    Args:\n",
    "        age (float): millions or years\n",
    "        kappa (float): diffusivity, m**2/s\n",
    "    Returns:\n",
    "        depth kilometers\n",
    "    Raises:\n",
    "        TypeError: not implemented\n",
    "        ValueError: not implemented\n",
    "    \"\"\"\n",
    "    depth_metres = 2.32*math.sqrt(myts(age)*kappa)\n",
    "    return depth_metres/1000."
   ]
  },
  {
   "cell_type": "code",
   "execution_count": 9,
   "metadata": {
    "collapsed": false
   },
   "outputs": [
    {
     "data": {
      "text/plain": [
       "1261440000.0"
      ]
     },
     "execution_count": 9,
     "metadata": {},
     "output_type": "execute_result"
    }
   ],
   "source": [
    "myts(40)*kappa"
   ]
  },
  {
   "cell_type": "code",
   "execution_count": 10,
   "metadata": {
    "collapsed": false
   },
   "outputs": [],
   "source": [
    "#Check age fucnction\n",
    "#xs = np.linspace(minx,maxx,200)\n",
    "#ages = [agefunc(loc, off, vel = vel, D = D, dom = (minx,maxx)) for loc in xs]\n",
    "#pyplt.scatter(xs, ages)"
   ]
  },
  {
   "cell_type": "code",
   "execution_count": 11,
   "metadata": {
    "collapsed": false
   },
   "outputs": [
    {
     "data": {
      "text/plain": [
       "0.27305156436971606"
      ]
     },
     "execution_count": 11,
     "metadata": {},
     "output_type": "execute_result"
    }
   ],
   "source": [
    "#Check temp function\n",
    "tempfunc(80, 1e-6, 40)"
   ]
  },
  {
   "cell_type": "code",
   "execution_count": 12,
   "metadata": {
    "collapsed": false
   },
   "outputs": [],
   "source": [
    "zs = np.linspace(0,200,100)\n",
    "age = 60\n",
    "temps = [tempfunc(age, kappa,depth) for depth in zs]"
   ]
  },
  {
   "cell_type": "code",
   "execution_count": 13,
   "metadata": {
    "collapsed": false
   },
   "outputs": [],
   "source": [
    "#pyplt.scatter(zs, temps)"
   ]
  },
  {
   "cell_type": "code",
   "execution_count": 14,
   "metadata": {
    "collapsed": true
   },
   "outputs": [],
   "source": [
    "# RT PIC - classic and nearest neighbour\n",
    "import underworld as uw\n",
    "import math\n",
    "from underworld import function as fn\n",
    "import glucifer.pylab as plt\n",
    "import numpy as np\n",
    "import os\n",
    "from shapely.geometry import Polygon\n",
    "from shapely.geometry import Point"
   ]
  },
  {
   "cell_type": "markdown",
   "metadata": {},
   "source": [
    "##Directory / filepaths"
   ]
  },
  {
   "cell_type": "code",
   "execution_count": 15,
   "metadata": {
    "collapsed": false
   },
   "outputs": [],
   "source": [
    "\n",
    "\n",
    "#Setup some output parameters\n",
    "identifier = 1\n",
    "outputPath = 'Output_' + str(identifier)\n",
    "imagePath = outputPath + '/images'\n",
    "filePath = outputPath + '/files'\n",
    "dbPath = outputPath + '/gldbs'\n",
    "outputFile = 'results_case' + str(identifier ) + '.dat'\n",
    "\n",
    "if uw.rank()==0:\n",
    "\n",
    "    #############Careful!##### \n",
    "    # make directories if they don't exist\n",
    "    # remove any existing files first\n",
    "    ##########################\n",
    "\n",
    "    if os.path.isdir(outputPath):\n",
    "        shutil.rmtree(outputPath)\n",
    "        os.makedirs(outputPath)\n",
    "    else:\n",
    "        os.makedirs(outputPath)\n",
    "\n",
    "    if os.path.isdir(imagePath):\n",
    "        shutil.rmtree(imagePath)\n",
    "        os.makedirs(imagePath)\n",
    "    else:\n",
    "        os.makedirs(imagePath)\n",
    "\n",
    "    if os.path.isdir(filePath):\n",
    "        shutil.rmtree(filePath)\n",
    "        os.makedirs(filePath)\n",
    "    else:\n",
    "        os.makedirs(filePath)\n",
    "\n",
    "    if os.path.isdir(dbPath):\n",
    "        shutil.rmtree(dbPath)\n",
    "        os.makedirs(dbPath)\n",
    "    else:\n",
    "        os.makedirs(dbPath)\n"
   ]
  },
  {
   "cell_type": "markdown",
   "metadata": {},
   "source": [
    "##Underworld setup"
   ]
  },
  {
   "cell_type": "code",
   "execution_count": 16,
   "metadata": {
    "collapsed": true
   },
   "outputs": [],
   "source": [
    "dim = 2\n",
    "\n",
    "meshX = 384\n",
    "meshY = 192"
   ]
  },
  {
   "cell_type": "code",
   "execution_count": 17,
   "metadata": {
    "collapsed": false
   },
   "outputs": [],
   "source": [
    "# create mesh objects\n",
    "\n",
    "elementMesh = uw.mesh.FeMesh_Cartesian( elementType='Q1/dQ0', \n",
    "                                         elementRes=(meshX, meshY), \n",
    "                                           minCoord=(minx,0.), \n",
    "                                           maxCoord=(maxx,1.),periodic=[True,False])\n",
    "linearMesh   = elementMesh\n",
    "constantMesh = elementMesh.subMesh "
   ]
  },
  {
   "cell_type": "code",
   "execution_count": null,
   "metadata": {
    "collapsed": true
   },
   "outputs": [],
   "source": []
  },
  {
   "cell_type": "code",
   "execution_count": 18,
   "metadata": {
    "collapsed": false
   },
   "outputs": [],
   "source": [
    "# create fevariables\n",
    "velocityField    = uw.fevariable.FeVariable( feMesh=linearMesh,   nodeDofCount=dim )\n",
    "pressureField    = uw.fevariable.FeVariable( feMesh=constantMesh, nodeDofCount=1 )\n",
    "temperatureField = uw.fevariable.FeVariable( feMesh=linearMesh,   nodeDofCount=1 )"
   ]
  },
  {
   "cell_type": "code",
   "execution_count": 19,
   "metadata": {
    "collapsed": false
   },
   "outputs": [
    {
     "data": {
      "text/plain": [
       "(18721, 2)"
      ]
     },
     "execution_count": 19,
     "metadata": {},
     "output_type": "execute_result"
    }
   ],
   "source": [
    "elementMesh.data.shape"
   ]
  },
  {
   "cell_type": "code",
   "execution_count": 20,
   "metadata": {
    "collapsed": false
   },
   "outputs": [],
   "source": [
    "# Initialise data.. Note that we are also setting boundary conditions here\n",
    "velocityField.data[:] = [0.,0.]\n",
    "pressureField.data[:] = 0.\n",
    "temperatureField.data[:] = 0.64\n",
    "       \n",
    "\n",
    "# Setup temperature initial condition via numpy arrays\n",
    "toptemp = 0.\n",
    "bottomtemp = 1."
   ]
  },
  {
   "cell_type": "markdown",
   "metadata": {
    "collapsed": false
   },
   "source": [
    "##Refine Mesh"
   ]
  },
  {
   "cell_type": "code",
   "execution_count": 21,
   "metadata": {
    "collapsed": true
   },
   "outputs": [],
   "source": [
    "def gauss(r,a):\n",
    "   return np.exp(-r**2/a**2) \n",
    "\n",
    "def three_way_node_density(alpha, beta, yLoc):\n",
    "    \"\"\"\n",
    "    This is a function to return a new distribution of point densities on the unit interval\n",
    "    in three gaussian-shaped regions (surface, base and one specified - \n",
    "    presumed to be where the forcing function is concentrated)\n",
    "    \n",
    "    \"\"\"\n",
    "\n",
    "    count = len(yLoc)\n",
    "    new_vpoints            = np.zeros(count)\n",
    "\n",
    "    refine1 = gauss(yLoc, beta) \n",
    "    refine2 = gauss(yLoc-1.0, beta)\n",
    "    refine3 = gauss(yLoc-alpha, beta)\n",
    "\n",
    "    node_density_function = (refine1 + refine2 + refine3)\n",
    "                \n",
    "    return node_density_function\n",
    "\n",
    "\n",
    "def unit_interval_node_spacer(node_count, separation, yd):\n",
    "\n",
    "    from scipy import interpolate as interpolate\n",
    "    from scipy.misc import derivative as derivative\n",
    "\n",
    "    count = node_count\n",
    "\n",
    "    ys = np.linspace(0.0,1.0,count)\n",
    "    \n",
    "    # separation = 10.0 * np.sin(4.0*math.pi*yd)**2\n",
    "    separation -= separation.min() - 1.0\n",
    "    separation_fn_rbf = interpolate.Rbf(yd, separation)\n",
    "    separation_fn_rbf_deriv = derivative(separation_fn_rbf, ys, dx=0.5/count)\n",
    "\n",
    "    sep = ys.copy() \n",
    "    sep[1:-1] = 0.5 * (ys[2:] - ys[0:-2])\n",
    "    sep[-1] = sep[-2]\n",
    "    sep[0] = sep[1]\n",
    "\n",
    "    sep_ratio = sep / sep.min() \n",
    "\n",
    "    node_separation_anomaly = (sep_ratio - separation_fn_rbf(ys))\n",
    "    node_separation_anomaly_rbf = interpolate.Rbf(ys, node_separation_anomaly, smooth=0.5)\n",
    "    node_flux =  derivative(node_separation_anomaly_rbf, ys, dx=0.5/count)\n",
    "\n",
    "    node_separation_anomaly0 = node_separation_anomaly.copy()\n",
    "\n",
    "    delta = np.abs(sep / node_flux).min() / count\n",
    "    residual = (node_separation_anomaly**2).sum()\n",
    "    residual0 = residual\n",
    "    loops = 0\n",
    "    while loops < 1000 and residual > residual0 * 0.001:\n",
    "\n",
    "        y_old = ys.copy()\n",
    "\n",
    "        for i in range(1, count-1):\n",
    "            ys += node_flux * delta  # ? SOR\n",
    "\n",
    "        ys /= (ys.max() - ys.min()) \n",
    "        ys -= ys.min()\n",
    "\n",
    "        ys = 0.75 * ys + 0.25 * y_old\n",
    "\n",
    "        sep = ys.copy() \n",
    "        sep[1:-1] = 0.5 * (ys[2:] - ys[0:-2])\n",
    "        sep[-1] = sep[-2]\n",
    "        sep[0] = sep[1]\n",
    "\n",
    "        sep_ratio = sep / sep.min() \n",
    "\n",
    "        node_separation_anomaly = (sep_ratio - separation_fn_rbf(ys))\n",
    "        node_separation_anomaly_rbf = interpolate.Rbf(ys, node_separation_anomaly, smooth=0.5)\n",
    "        node_flux = derivative(node_separation_anomaly_rbf, ys, dx=1.0/count)\n",
    "\n",
    "        residual = (node_separation_anomaly**2).sum()\n",
    "\n",
    "        delta = np.abs(sep / node_flux).min() / count\n",
    "        loops += 1\n",
    "\n",
    "#    print loops, \"iterations, residual = \", residual / residual0\n",
    "    \n",
    "    return ys, sep_ratio\n",
    "\n",
    "\n",
    "# Need to fix this for non-unit mesh sizes #\n",
    "\n",
    "def remap_vmesh_pmesh_y(alpha, beta, intensity):\n",
    "    \"\"\"\n",
    "    remap the mesh in x to give better resolution on boundaries and around one horizontal line\n",
    "    \"\"\"\n",
    "    with elementMesh.deform_mesh():\n",
    "        yd = np.linspace(0,1.0,1000)\n",
    "        separation = intensity * ( 1.0 - three_way_node_density(alpha, beta, yd)) \n",
    "\n",
    "        new_yVcoords, sep = unit_interval_node_spacer(meshY+1, separation, yd)\n",
    "\n",
    "        vpoints = elementMesh.data.reshape(meshY+1,meshX+1,2)\n",
    "\n",
    "        meshMinY = elementMesh.minCoord[1]\n",
    "        meshDY =   elementMesh.maxCoord[1] - elementMesh.minCoord[1]\n",
    "\n",
    "        for column in range(0,meshX+1):\n",
    "            vpoints[:,column,1] = new_yVcoords[:] * meshDY + meshMinY\n",
    "\n",
    "        # This will have changed the mesh since {v,p}points is a view into the original mesh data    \n",
    "\n",
    "        actual_level = 0\n",
    "        actual_coord = 0.0\n",
    "        distance = 1.0\n",
    "\n",
    "        for i in range(0,meshY+1):\n",
    "            this_distance = np.abs(new_yVcoords[i] - alpha)\n",
    "            if this_distance < distance:\n",
    "                distance = this_distance\n",
    "                actual_coord = new_yVcoords[i]\n",
    "                actual_level = i\n",
    "\n",
    "        return actual_coord, actual_level\n",
    "\n",
    "\n",
    "def remap_vmesh_pmesh_x(alpha, beta, intensity):\n",
    "    \"\"\"\n",
    "    remap the mesh in x to give better resolution on boundaries and around one vertical line.\n",
    "    Caution, the kernel routines / ffts currently assume even spacing laterally !!\n",
    "    \"\"\"\n",
    "    with elementMesh.deform_mesh():\n",
    "\n",
    "        xd = np.linspace(0,1.0,1000)\n",
    "        separation = intensity * ( 1.0 - three_way_node_density(alpha, beta, xd)) \n",
    "\n",
    "        new_xVcoords, sep = unit_interval_node_spacer(meshX+1, separation, xd)\n",
    "\n",
    "        vpoints = elementMesh.data.reshape(meshY+1,meshX+1,2)\n",
    "\n",
    "        meshMinX = elementMesh.minCoord[0]\n",
    "        meshDX =   elementMesh.maxCoord[0] - elementMesh.minCoord[0]\n",
    "\n",
    "        for row in range(0,meshY+1):\n",
    "            vpoints[row,:,0] = new_xVcoords[:] * meshDX + meshMinX\n",
    "\n",
    "        # This will have changed the mesh since {v,p}points is a view into the original mesh data    \n",
    "\n",
    "        actual_column = 0\n",
    "        actual_coord = 0.0\n",
    "        distance = 1.0\n",
    "\n",
    "        for i in range(0,meshX+1):\n",
    "            this_distance = np.abs(new_xVcoords[i] - alpha)\n",
    "            if this_distance < distance:\n",
    "                distance = this_distance\n",
    "                actual_coord = new_xVcoords[i]\n",
    "                actual_column = i\n",
    "\n",
    "        return actual_coord, actual_column\n"
   ]
  },
  {
   "cell_type": "code",
   "execution_count": 22,
   "metadata": {
    "collapsed": false
   },
   "outputs": [],
   "source": [
    "xCoordFn = fn.input()[0]\n",
    "yCoordFn = fn.input()[1]\n",
    "\n",
    "#This mesh refinement stuff is switch off, as it won't un in parallel\n",
    "\n",
    "#actual_y, layer  = remap_vmesh_pmesh_y(0.9,0.1, 0.2) \n",
    "#actual_x, column = remap_vmesh_pmesh_x(0.,0.01,0.2) \n",
    "\n"
   ]
  },
  {
   "cell_type": "code",
   "execution_count": 23,
   "metadata": {
    "collapsed": false
   },
   "outputs": [],
   "source": [
    "# Get the actual sets \n",
    "#\n",
    "#  HJJJJJJH\n",
    "#  I      I\n",
    "#  I      I\n",
    "#  I      I\n",
    "#  HJJJJJJH\n",
    "#  \n",
    "#  Note that H = I & J \n",
    "\n",
    "# Note that we use operator overloading to combine sets\n",
    "IWalls = linearMesh.specialSets[\"MinI_VertexSet\"] + linearMesh.specialSets[\"MaxI_VertexSet\"]\n",
    "JWalls = linearMesh.specialSets[\"MinJ_VertexSet\"] + linearMesh.specialSets[\"MaxJ_VertexSet\"]"
   ]
  },
  {
   "cell_type": "code",
   "execution_count": 24,
   "metadata": {
    "collapsed": false
   },
   "outputs": [],
   "source": [
    "#Make the thermal boundary layer\n",
    "#Including a fudge that further reduces the depth of the thermal lithosphere\n",
    "fudge = 0.8\n",
    "\n",
    "for index, coord in enumerate(linearMesh.data):\n",
    "    xloc = coord[0]\n",
    "    agema = agefunc(xloc, off, vel = vel, dom = (minx,maxx))\n",
    "    if (1.-coord[1]) < (lithdepthfunc(agema, kappa)/D)*fudge: #comparison of dimensionless (model) lengths\n",
    "        zlockm = (1.- coord[1]) * D # dimensional depth kms\n",
    "        t = tempfunc(agema, kappa, zlockm,  t0=0.64)\n",
    "        temperatureField.data[index] = t        \n",
    "    else:\n",
    "        temperatureField.data[index] = 0.64"
   ]
  },
  {
   "cell_type": "code",
   "execution_count": 25,
   "metadata": {
    "collapsed": false
   },
   "outputs": [],
   "source": [
    "#Set sticky air Temp to zero\n",
    "\n",
    "for index, coord in enumerate(linearMesh.data):\n",
    "    if coord[1] > 1:\n",
    "        temperatureField.data[index] = 0."
   ]
  },
  {
   "cell_type": "code",
   "execution_count": 26,
   "metadata": {
    "collapsed": false
   },
   "outputs": [],
   "source": [
    "#figtemp = plt.Figure()\n",
    "#tempminmax = fn.view.min_max(temperatureField)\n",
    "#figtemp.Surface(tempminmax, elementMesh)\n",
    "#figtemp.Mesh(linearMesh, colourBar=False)\n",
    "#figtemp.save_database('test.gldb')\n",
    "#figtemp.show()"
   ]
  },
  {
   "cell_type": "code",
   "execution_count": 27,
   "metadata": {
    "collapsed": false
   },
   "outputs": [
    {
     "data": {
      "text/plain": [
       "0.61276311171258735"
      ]
     },
     "execution_count": 27,
     "metadata": {},
     "output_type": "execute_result"
    }
   ],
   "source": [
    "temperatureField.data.mean()"
   ]
  },
  {
   "cell_type": "markdown",
   "metadata": {},
   "source": [
    "##Slab perturbation shape "
   ]
  },
  {
   "cell_type": "code",
   "execution_count": 28,
   "metadata": {
    "collapsed": false
   },
   "outputs": [],
   "source": [
    "import shapely\n",
    "from shapely.geometry.point import Point\n",
    "from shapely.geometry import Polygon\n"
   ]
  },
  {
   "cell_type": "code",
   "execution_count": 29,
   "metadata": {
    "collapsed": false
   },
   "outputs": [
    {
     "data": {
      "text/plain": [
       "202.29999999999998"
      ]
     },
     "execution_count": 29,
     "metadata": {},
     "output_type": "execute_result"
    }
   ],
   "source": [
    "agefunc(off, off, vel)"
   ]
  },
  {
   "cell_type": "code",
   "execution_count": 30,
   "metadata": {
    "collapsed": false
   },
   "outputs": [
    {
     "data": {
      "text/plain": [
       "185.3058925741974"
      ]
     },
     "execution_count": 30,
     "metadata": {},
     "output_type": "execute_result"
    }
   ],
   "source": [
    "lithdepthfunc(agefunc(off, off, vel), kappa)"
   ]
  },
  {
   "cell_type": "code",
   "execution_count": 31,
   "metadata": {
    "collapsed": false
   },
   "outputs": [],
   "source": [
    "#Setup slab perturbation params (mostly dimensionles / model params here)\n",
    "phi = 90. - theta\n",
    "RocM = Roc/D\n",
    "CrustM = Crust/D\n",
    "slabdepth = lithdepthfunc(agefunc(off, off, vel), kappa)\n",
    "slabdepthM = lithdepthfunc(agefunc(off, off, vel), kappa)/D\n",
    "Org = (0.+off, 1.-RocM)\n",
    "\n",
    "\n",
    "#Shapely stuff\n",
    "\n",
    "Oc = Point(Org).buffer(RocM)\n",
    "Ic = Point(Org).buffer(RocM - slabdepthM)\n",
    "Cc = Point(Org).buffer(RocM - CrustM)\n",
    "dx = (RocM)/(np.math.tan((np.math.pi/180.)*phi))\n",
    "if off > 1: \n",
    "    ptx = off + dx\n",
    "else:\n",
    "    ptx = off - dx\n",
    "#ptx = -1*(Rc)/(np.math.tan((np.math.pi/180.)*phi))\n",
    "coords = ((0.+off, 1), (0.+off, 1.-RocM), (ptx, 1.))\n",
    "Tri = Polygon(coords)\n",
    "slabshape = Oc.difference(Ic).intersection(Tri)\n",
    "crustshape = Oc.difference(Cc).intersection(Tri)"
   ]
  },
  {
   "cell_type": "code",
   "execution_count": 32,
   "metadata": {
    "collapsed": false
   },
   "outputs": [],
   "source": [
    "#Geopandas for a quick look at geoms\n",
    "#from geopandas import GeoSeries\n",
    "#shapes = GeoSeries((crustshape, slabshape))\n",
    "#shapes.plot()"
   ]
  },
  {
   "cell_type": "code",
   "execution_count": 33,
   "metadata": {
    "collapsed": false
   },
   "outputs": [],
   "source": [
    "#Assign temperatures in the perturbation region\n",
    "\n",
    "for index, coord in enumerate(linearMesh.data):\n",
    "    pt = Point(coord)\n",
    "    if pt.within(slabshape):\n",
    "        sd = pt.distance(Oc.boundary)*D\n",
    "        if sd < (lithdepthfunc(agefunc(off, off, vel = vel, dom = (minx,maxx)), kappa))*fudge:\n",
    "            t = tempfunc(agefunc(off, off, vel = vel, dom = (minx,maxx)), kappa, sd, t0=0.64)\n",
    "            temperatureField.data[index] = t\n",
    "        else: \n",
    "            temperatureField.data[index] = 0.64"
   ]
  },
  {
   "cell_type": "code",
   "execution_count": null,
   "metadata": {
    "collapsed": false
   },
   "outputs": [],
   "source": []
  },
  {
   "cell_type": "code",
   "execution_count": 34,
   "metadata": {
    "collapsed": false
   },
   "outputs": [],
   "source": [
    "#figtemp.show()"
   ]
  },
  {
   "cell_type": "code",
   "execution_count": 35,
   "metadata": {
    "collapsed": true
   },
   "outputs": [],
   "source": [
    "#figtemp = plt.Figure()\n",
    "#tempminmax = fn.view.min_max(temperatureField)\n",
    "#figtemp.Surface(tempminmax, elementMesh)\n",
    "#figtemp.Mesh(linearMesh, colourBar=False)\n",
    "#figtemp.save_database('test.gldb')"
   ]
  },
  {
   "cell_type": "markdown",
   "metadata": {},
   "source": [
    "##test checkpointing"
   ]
  },
  {
   "cell_type": "code",
   "execution_count": 36,
   "metadata": {
    "collapsed": false
   },
   "outputs": [],
   "source": [
    "\n",
    "#temperatureField.save('temp.hdf5')\n",
    "#temperatureField.data[:] = 0.\n",
    "#figtemp.show()\n",
    "#temperatureField.load('temp.hdf5')\n",
    "#figtemp.show()"
   ]
  },
  {
   "cell_type": "markdown",
   "metadata": {},
   "source": [
    "##ICs BCs"
   ]
  },
  {
   "cell_type": "code",
   "execution_count": 37,
   "metadata": {
    "collapsed": true
   },
   "outputs": [],
   "source": [
    "# Now setup the dirichlet boundary condition\n",
    "# Note that through this object, we are flagging to the system \n",
    "# that these nodes are to be considered as boundary conditions. \n",
    "\n",
    "\n",
    "BWalls = linearMesh.specialSets[\"MinJ_VertexSet\"]\n",
    "\n",
    "TWalls = linearMesh.specialSets[\"MaxJ_VertexSet\"]\n",
    "\n",
    "#No slip on bottom\n",
    "slipBC = uw.conditions.DirichletCondition(     variable=velocityField, \n",
    "                                              nodeIndexSets=(BWalls,JWalls) )\n",
    "\n",
    "# also set dirichlet for temp field\n",
    "tempBC = uw.conditions.DirichletCondition(     variable=temperatureField, \n",
    "                                              nodeIndexSets=(JWalls,) )\n",
    "\n"
   ]
  },
  {
   "cell_type": "code",
   "execution_count": 38,
   "metadata": {
    "collapsed": false
   },
   "outputs": [],
   "source": [
    "# lets ensure temp boundaries are still what we want as the IC above might have set slightly different values\n",
    "# on the boundaries\n",
    "for index in linearMesh.specialSets[\"MinJ_VertexSet\"]:\n",
    "    temperatureField.data[index] = 1.\n",
    "for index in linearMesh.specialSets[\"MaxJ_VertexSet\"]:\n",
    "    temperatureField.data[index] = 0."
   ]
  },
  {
   "cell_type": "code",
   "execution_count": 39,
   "metadata": {
    "collapsed": true
   },
   "outputs": [],
   "source": [
    "#for index, coord in enumerate(linearMesh.data):\n",
    "#    #temperatureField.data[index] = 0.64\n",
    "#    if coord[1] == 1:\n",
    "#        if coord[0] > off - Rc/2.:\n",
    "#            temperatureField.data[index] = 0.\n",
    "#        else:\n",
    "#            temperatureField.data[index] = 0."
   ]
  },
  {
   "cell_type": "markdown",
   "metadata": {},
   "source": [
    "##Particles"
   ]
  },
  {
   "cell_type": "code",
   "execution_count": 40,
   "metadata": {
    "collapsed": true
   },
   "outputs": [],
   "source": [
    "# We create swarms of particles which can advect, and which may determine 'materials'\n",
    "gSwarm = uw.swarm.Swarm( feMesh=elementMesh )\n",
    "\n",
    "# Now we add a data variable which will store an index to determine material\n",
    "materialVariable = gSwarm.add_variable( dataType=\"char\", count=1 )\n",
    "tempVariableVis = gSwarm.add_variable( dataType=\"float\", count=1 )\n",
    "\n",
    "\n",
    "# Layouts are used to populate the swarm across the whole domain\n",
    "# Create the layout object\n",
    "layout = uw.swarm.layouts.GlobalSpaceFillerLayout( swarm=gSwarm, particlesPerCell=25 )\n",
    "# Now use it to populate.\n",
    "gSwarm.populate_using_layout( layout=layout )\n",
    "\n",
    "\n",
    "# Lets initialise the 'materialVariable' data to represent different materials.\n",
    "\n",
    "temp = temperatureField.evaluate(gSwarm)\n",
    "tempVariableVis.data[:] = temp[:]\n",
    "\n",
    "\n",
    "lowermantleIndex = 0\n",
    "mantleIndex = 1\n",
    "lithosphereIndex = 2\n",
    "crustIndex = 3\n",
    "airIndex = 4\n",
    "\n",
    "\n",
    "# Set the material to heavy everywhere via the numpy array\n",
    "materialVariable.data[:] = mantleIndex\n",
    "\n",
    "def in_shape(arr, shape):\n",
    "    \"\"\"\n",
    "    arr: coordinates of point\n",
    "    This function determines whether a point is inside or outside a shape /\n",
    "    \"\"\"\n",
    "    pt = Point(arr[0], arr[1])\n",
    "    return shape.contains(pt)\n",
    "\n",
    "lithtemp = 0.95*0.64\n",
    "tempswarm = temperatureField.evaluate(gSwarm)[:,0]\n",
    "\n",
    "#At this point, we only have to assign any materials that are defined by setup shapes,\n",
    "#the rest of the materials will be assigned using the materials graph\n",
    "\n",
    "for particleID in range(gSwarm.particleCoordinates.data.shape[0]):\n",
    "    if gSwarm.particleCoordinates.data[particleID][1] > (1.0 - CrustM) or in_shape(gSwarm.particleCoordinates.data[particleID], crustshape):\n",
    "        materialVariable.data[particleID] =  crustIndex\n"
   ]
  },
  {
   "cell_type": "code",
   "execution_count": null,
   "metadata": {
    "collapsed": false
   },
   "outputs": [],
   "source": []
  },
  {
   "cell_type": "markdown",
   "metadata": {},
   "source": [
    "##Materials graphs"
   ]
  },
  {
   "cell_type": "code",
   "execution_count": 41,
   "metadata": {
    "collapsed": false
   },
   "outputs": [
    {
     "name": "stdout",
     "output_type": "stream",
     "text": [
      "0\n",
      "1\n",
      "2\n",
      "3\n"
     ]
    }
   ],
   "source": [
    "##############\n",
    "#Important: This is a quick fix for a bug that arises in parallel runs\n",
    "##############\n",
    "material_list = [0,1,2,3]\n",
    "for matindex in material_list:\n",
    "    print matindex\n"
   ]
  },
  {
   "cell_type": "code",
   "execution_count": 42,
   "metadata": {
    "collapsed": false
   },
   "outputs": [],
   "source": [
    "\n",
    "\n",
    "\n",
    "#All depth conditions are given as (km/D) where D is the length scale, \n",
    "#note that 'model depths' are used, e.g. 1-z, where z is the vertical Underworld coordinate\n",
    "#All temp conditions are in dimensionless temp. [0. - 1.]\n",
    "\n",
    "import networkx as nx\n",
    "\n",
    "#######Setup some variables which help define condtions\n",
    "#rock-air topography limits\n",
    "dz = 10./D\n",
    "#mantle - lower mantle  topography limits\n",
    "dlm = 50./D\n",
    "#avgtemp, needed for lithosphere condition\n",
    "#avgtemp = uw.utils.Integral(temperatureField, linearMesh).integrate()[0] #I caught this one giving answers > 1.\n",
    "avgtemp = temperatureField.data.mean()\n",
    "\n",
    "#######Graph object\n",
    "DG = nx.DiGraph(field=\"Depth\")\n",
    "\n",
    "#######Nodes\n",
    "#Note that the order of materials, deepest to shallowest is important \n",
    "DG.add_node(0, mat='lowermantle')\n",
    "DG.add_node(1, mat='mantle')\n",
    "DG.add_node(2, mat='lithosphere')\n",
    "DG.add_node(3, mat='crust')\n",
    "DG.add_node(4, mat='air')\n",
    "\n",
    "\n",
    "labels=dict((n,d['mat']) for n,d in DG.nodes(data=True))\n",
    "pos=nx.spring_layout(DG) \n",
    "\n",
    "\n",
    "#######Edges\n",
    "#anything to air\n",
    "DG.add_edges_from([(0,4), (1,4), (2,4), (3,4)])\n",
    "DG[0][4]['depthcondition'] = -1*dz\n",
    "DG[1][4]['depthcondition'] = -1*dz\n",
    "DG[2][4]['depthcondition'] = -1*dz\n",
    "DG[3][4]['depthcondition'] = -1*dz\n",
    "\n",
    "#Anything to mantle\n",
    "DG.add_edges_from([(4,1), (3,1), (0,1)])\n",
    "DG[4][1]['depthcondition'] = dz\n",
    "DG[3][1]['depthcondition'] = (300./D)\n",
    "DG[0][1]['depthcondition'] = (660./D)\n",
    "\n",
    "\n",
    "#Anything to crust\n",
    "DG.add_edges_from([(1,3), (2,3)])\n",
    "DG[1][3]['depthcondition'] = CrustM\n",
    "DG[2][3]['depthcondition'] = CrustM\n",
    "\n",
    "\n",
    "#Anything to lower mantle\n",
    "DG.add_edges_from([( 1, 0)])\n",
    "DG[1][0]['depthcondition'] = (660./D)\n",
    "\n",
    "\n",
    "\n",
    "#Amything to lithsphere\n",
    "DG.add_edges_from([(1,2)])\n",
    "DG[1][2]['depthcondition'] = (lithdepthfunc(agefunc(off, off, vel = vel), kappa)*fudge)/D\n",
    "DG[1][2]['avgtempcondition'] = 0.95*avgtemp #definition of thermal lithosphere\n",
    "\n"
   ]
  },
  {
   "cell_type": "code",
   "execution_count": 43,
   "metadata": {
    "collapsed": true
   },
   "outputs": [],
   "source": [
    "remove_nodes = []\n",
    "for node in DG.nodes_iter():\n",
    "    if not node in material_list:\n",
    "        remove_nodes.append(node)\n",
    "        \n",
    "for rmnode in remove_nodes:\n",
    "    DG.remove_node(rmnode)\n",
    "    "
   ]
  },
  {
   "cell_type": "code",
   "execution_count": 44,
   "metadata": {
    "collapsed": false
   },
   "outputs": [],
   "source": [
    "#nx.draw_graphviz(DG, with_labels=True)"
   ]
  },
  {
   "cell_type": "code",
   "execution_count": 45,
   "metadata": {
    "collapsed": true
   },
   "outputs": [],
   "source": [
    "#A Dictionary to map strings in the graph (e.g. 'depthcondition') to particle data arrays\n",
    "\n",
    "particledepths = 1. - gSwarm.particleCoordinates.data[:,1]\n",
    "particletemps = temperatureField.evaluate(gSwarm)[:,0]\n",
    "\n",
    "conditionmap = {}\n",
    "\n",
    "conditionmap['depthcondition'] = {}\n",
    "conditionmap['depthcondition']['data'] = particledepths\n",
    "conditionmap['avgtempcondition'] = {}\n",
    "conditionmap['avgtempcondition']['data'] = particletemps"
   ]
  },
  {
   "cell_type": "code",
   "execution_count": 46,
   "metadata": {
    "collapsed": false
   },
   "outputs": [
    {
     "data": {
      "text/plain": [
       "(460800, 2)"
      ]
     },
     "execution_count": 46,
     "metadata": {},
     "output_type": "execute_result"
    }
   ],
   "source": [
    "gSwarm.particleCoordinates.data.shape"
   ]
  },
  {
   "cell_type": "code",
   "execution_count": 47,
   "metadata": {
    "collapsed": false
   },
   "outputs": [
    {
     "data": {
      "text/plain": [
       "{0: {'depthcondition': 0.44},\n",
       " 2: {'avgtempcondition': 0.58167409106412937,\n",
       "  'depthcondition': 0.0988298093729053},\n",
       " 3: {'depthcondition': 0.023333333333333334}}"
      ]
     },
     "execution_count": 47,
     "metadata": {},
     "output_type": "execute_result"
    }
   ],
   "source": [
    "DG[1]"
   ]
  },
  {
   "cell_type": "code",
   "execution_count": 48,
   "metadata": {
    "collapsed": false
   },
   "outputs": [],
   "source": [
    "def update_swarm(graph, particleIndex):\n",
    "    \"\"\"\n",
    "    This function takes the materials graph (networkx.DiGraph), and a particle index,\n",
    "    then determines if a material update is required \n",
    "    and if so, returns the new materialindex\n",
    "    Args:\n",
    "        graph (networkx.DiGraph): Directed multigraph representing the transformation of material types\n",
    "        particleIndex (int): the particle index as corressponding to the index in the swarm data arrays\n",
    "    Returns:\n",
    "        if update is required the function returns the the new material variable (int) \n",
    "        else returns None\n",
    "    Raises:\n",
    "        TypeError: not implemented\n",
    "        ValueError: not implemented\n",
    "    \"\"\"\n",
    "    ##Egde gives links to other materials, we then query the conditions to see if we should change materials\n",
    "    matId = materialVariable.data[particleIndex][0]\n",
    "    innerchange = False\n",
    "    outerchange = False\n",
    "    for edge in graph[matId]:\n",
    "        if outerchange:\n",
    "            break\n",
    "        for cond in graph[matId][edge].keys():\n",
    "            outerchange = False\n",
    "            if innerchange: #found a complete transition, break inner loop\n",
    "                break\n",
    "            currentparticlevalue = conditionmap[cond]['data'][particleIndex]\n",
    "            crossover = graph[matId][edge][cond]\n",
    "            if ((matId > edge) and (currentparticlevalue > crossover)):\n",
    "                innerchange = False # continue on, \n",
    "                if graph[matId][edge].keys()[-1] == cond:\n",
    "                    #print \"all conditions met\"\n",
    "                    outerchange = True\n",
    "                    innerchange = edge\n",
    "                    break\n",
    "            elif ((matId < edge) and (currentparticlevalue < crossover)):\n",
    "                innerchange = False\n",
    "                if graph[matId][edge].keys()[-1] == cond:\n",
    "                    outerchange = True\n",
    "                    innerchange = edge\n",
    "                    break\n",
    "                    #print \"met all\"\n",
    "            else:\n",
    "                #condition not met, break outer loop, go to next edge, outerchange should still be False\n",
    "                break\n",
    "    if type(innerchange) == int:\n",
    "        #print change, type(change)\n",
    "        #print \"yes\"\n",
    "        return innerchange\n",
    "    \n",
    "    \n"
   ]
  },
  {
   "cell_type": "code",
   "execution_count": 49,
   "metadata": {
    "collapsed": false
   },
   "outputs": [
    {
     "name": "stdout",
     "output_type": "stream",
     "text": [
      "279912\n",
      "0\n"
     ]
    }
   ],
   "source": [
    "#Cleanse the swarm of its sins\n",
    "#For some Material Graphs, the graph may have to be traversed more than once\n",
    "\n",
    "check = -1\n",
    "number_updated = 1\n",
    "\n",
    "while number_updated != 0:\n",
    "    number_updated = 0\n",
    "    for particleID in range(gSwarm.particleCoordinates.data.shape[0]):\n",
    "                check = update_swarm(DG, particleID)\n",
    "                #print check\n",
    "                if check > -1:\n",
    "                    number_updated += 1\n",
    "                    materialVariable.data[particleID] = check\n",
    "    print number_updated"
   ]
  },
  {
   "cell_type": "code",
   "execution_count": 50,
   "metadata": {
    "collapsed": false
   },
   "outputs": [],
   "source": [
    "# visualise\n",
    "#fig1 = plt.Figure()\n",
    "#fig1.Surface(temperatureField, elementMesh)\n",
    "#fig1.Points( swarm=gSwarm, colourVariable=materialVariable , pointSize=1.0)\n",
    "#fig1.Mesh(linearMesh, colourBar=False)\n",
    "\n",
    "#fig1.VectorArrows(velocityField, linearMesh,arrowHeadSize=0.3, lengthScale=0.00001 )\n",
    "#fig1.show()\n",
    "#fig1.save_database('test.gldb')"
   ]
  },
  {
   "cell_type": "markdown",
   "metadata": {},
   "source": [
    "##Rheology"
   ]
  },
  {
   "cell_type": "markdown",
   "metadata": {},
   "source": [
    "$$\\eta(T, z) = \\exp \\left(\\frac{E' + V'(1-z)}{T + T_s} - \\frac{E + V'(1-D_s)}{T_r + T_s} \\right) $$\n",
    "\n",
    "Crameri use as a reference, z = 0, T = 1600"
   ]
  },
  {
   "cell_type": "code",
   "execution_count": 51,
   "metadata": {
    "collapsed": false
   },
   "outputs": [
    {
     "name": "stdout",
     "output_type": "stream",
     "text": [
      "Effective Rayleigh number for given viscosity ~ 2.43e+04\n"
     ]
    }
   ],
   "source": [
    "#Dimensional parameters\n",
    "D = 1000\n",
    "T0 = 273.\n",
    "g = 9.81\n",
    "delT = 2500.\n",
    "rho0 = 3300.\n",
    "eta0 = 1e23\n",
    "alpha = 3.0e-5\n",
    "kappa = 1e-6\n",
    "\n",
    "#Dimensional reference values\n",
    "Tr = 1600.\n",
    "rd = 0.0\n",
    "\n",
    "#linear viscosity paramters\n",
    "E = 240000. # J mol−1\n",
    "R = 8.314 # m^3 mol\n",
    "V = 6.34e-7\n",
    "\n",
    "#Psudo-plasticity paramters\n",
    "cohesion = 5e7 # 50 MPa\n",
    "\n",
    "Rayleigh_num = rho0*g*alpha*delT*((D*1000)**3)/(eta0*kappa)\n",
    "print \"Effective Rayleigh number for given viscosity ~ \" + \"%.3g\" % Rayleigh_num"
   ]
  },
  {
   "cell_type": "code",
   "execution_count": 52,
   "metadata": {
    "collapsed": false
   },
   "outputs": [
    {
     "name": "stdout",
     "output_type": "stream",
     "text": [
      "Fixed Rayleigh number = 1.2e+07 with new viscisity: 2.0233125e+20\n"
     ]
    }
   ],
   "source": [
    "##Model Rayleigh number\n",
    "Rayleigh_num = 1.2e7\n",
    "eta0 = rho0*g*alpha*delT*((D*1000)**3)/(Rayleigh_num*kappa)\n",
    "Ra = rho0*g*alpha*delT*((D*1000)**3)/(eta0*kappa)\n",
    "print \"Fixed Rayleigh number = \" + \"%.3g\" % Rayleigh_num + \" with new viscisity: \" + str(eta0)"
   ]
  },
  {
   "cell_type": "code",
   "execution_count": 53,
   "metadata": {
    "collapsed": false
   },
   "outputs": [
    {
     "data": {
      "text/plain": [
       "8.3521e+18"
      ]
     },
     "execution_count": 53,
     "metadata": {},
     "output_type": "execute_result"
    }
   ],
   "source": [
    "#scaling factors, still some fudging here, as I'm using the total mantle depth, \n",
    "#and the stress scale from a visocity that would apply if w had internal heating - i.e Crameri and Tackley\n",
    "Dr = 2890.\n",
    "\n",
    "stressscale  = (1e23*kappa)/((Dr*1000)**2)\n",
    "stressscale2  =  rho0*g/(Dr*1000) #i.e. rho*g*D/D**2\n",
    "\n",
    "timeScale = ((Dr*1000)**2) / kappa\n",
    "timeScale"
   ]
  },
  {
   "cell_type": "code",
   "execution_count": 54,
   "metadata": {
    "collapsed": false
   },
   "outputs": [
    {
     "name": "stdout",
     "output_type": "stream",
     "text": [
      "this is the 1st dimensionless cohesion: 4176.05\n",
      "this is the 2nd dimensionless cohesion: 4463596206.72\n"
     ]
    }
   ],
   "source": [
    "#Non-dimensional parameters\n",
    "\n",
    "#reference temp, pressure, depth\n",
    "Trp =1600./2500.\n",
    "T0p = T0/2500.\n",
    "Prp = 0.\n",
    "rdp = 1.\n",
    "\n",
    "#linear viscosity paramters\n",
    "Ep = E/(R*delT)\n",
    "#Ep = 3.\n",
    "Vp = (rho0*9.81*V*(Dr*1000))/(R*delT) \n",
    "#For the Vp scaling, see for instance, Christensen, \"Convection with pressure- and temperature-dependent non-Newtonian rheology\":\n",
    "\n",
    "#Psudo-plasticity paramters\n",
    "fc = 0.1\n",
    "ndc1 = cohesion/stressscale\n",
    "ndc2 = cohesion/stressscale2\n",
    "print \"this is the 1st dimensionless cohesion: \" + str(ndc1)\n",
    "print \"this is the 2nd dimensionless cohesion: \" + str(ndc2)\n"
   ]
  },
  {
   "cell_type": "code",
   "execution_count": 55,
   "metadata": {
    "collapsed": true
   },
   "outputs": [],
   "source": [
    "#Required fields for rheology formulation\n",
    "#At the moment I'm just using a static 'lithostatic' pressure field, i.e. I'm not calculating the full pressure.\n",
    "#There are some things to figure out still in relation to sticky air\n",
    "\n",
    "\n",
    "pressureFieldCopy = uw.fevariable.FeVariable( feMesh=constantMesh, nodeDofCount=1)\n",
    "pressureFieldCopy.data[:] = (pressureField.data - pressureField.data.max())*-1.\n",
    "\n",
    "lithopressureField = uw.fevariable.FeVariable( feMesh=constantMesh, nodeDofCount=1)\n",
    "lithopressuregrad = rho0*g*(D*1e3)**3/(eta0*kappa)\n",
    "\n",
    "for index, coord in enumerate(constantMesh.data):\n",
    "    lithopressureField.data[index] = (1-coord[1])*lithopressuregrad\n",
    "lithopressureField.data[lithopressureField.data < 0] = 0\n",
    "\n",
    "secinvCopy = fn.tensor.second_invariant( \n",
    "                    fn.tensor.symmetric( \n",
    "                        velocityField.gradientFn ))"
   ]
  },
  {
   "cell_type": "code",
   "execution_count": 56,
   "metadata": {
    "collapsed": false
   },
   "outputs": [],
   "source": [
    "#pressureField.data.max() - pressureField.data.min()"
   ]
  },
  {
   "cell_type": "code",
   "execution_count": 57,
   "metadata": {
    "collapsed": false
   },
   "outputs": [
    {
     "data": {
      "text/plain": [
       "417.605"
      ]
     },
     "execution_count": 57,
     "metadata": {},
     "output_type": "execute_result"
    }
   ],
   "source": [
    "#lithopressureField.data.max()\n",
    "ndc1*0.1"
   ]
  },
  {
   "cell_type": "code",
   "execution_count": 58,
   "metadata": {
    "collapsed": false
   },
   "outputs": [],
   "source": [
    "#Linear viscosity\n",
    "coordinate = fn.input()\n",
    "#depth and temp\n",
    "arhennius = fn.math.exp(((Ep + Vp*(1.-coordinate[1]))/(temperatureField + T0p)) - ((Ep + Vp*(1.- rdp))/(Trp + T0p)))\n",
    "\n",
    "#Temp only\n",
    "#arhennius = fn.math.exp(((Ep)/(temperatureField + T0p)) - ((Ep )/(Trp + T0p)))\n",
    "\n",
    "\n",
    "viscosityl = fn.misc.min(fn.misc.constant(1e4),arhennius)\n",
    "\n",
    "\n",
    "############\n",
    "#Mantle\n",
    "############\n",
    "\n",
    "ycmp = ndc1 + fc*(lithopressureField)\n",
    "mantleviscosityp = ycmp/(secinvCopy/math.sqrt(0.5)) #extra factor to account for underworld second invariant form\n",
    "mantleviscosityFn = fn.exception.SafeMaths(fn.misc.min(viscosityl, mantleviscosityp))\n",
    "\n",
    "\n",
    "############\n",
    "#crust\n",
    "############\n",
    "\n",
    "ycc = (ndc1*0.1) + (lithopressureField*fc*0.1)\n",
    "crustviscosityp = ycc/(secinvCopy/math.sqrt(0.5)) #extra factor to account for underworld second invariant form\n",
    "crustviscosityFn = fn.misc.min(viscosityl, crustviscosityp)\n",
    "\n",
    "\n",
    "############\n",
    "#sticky air\n",
    "############\n",
    "\n",
    "airviscosity = 0.01\n",
    "airdensity = Ra*10.\n",
    "\n",
    "############\n",
    "#lower mantle\n",
    "############\n",
    "\n",
    "#lmviscosity = 1.\n",
    "#lmdf = 1."
   ]
  },
  {
   "cell_type": "code",
   "execution_count": 59,
   "metadata": {
    "collapsed": false
   },
   "outputs": [],
   "source": [
    "# Here we set a viscosity value of '1.' for both materials\n",
    "viscosityMapFn = fn.branching.map( keyFunc = materialVariable,\n",
    "                         mappingDict = {airIndex:airviscosity, crustIndex:crustviscosityFn,lithosphereIndex:mantleviscosityFn, mantleIndex:mantleviscosityFn, lowermantleIndex:mantleviscosityFn } )\n",
    "\n",
    "densityMapFn = fn.branching.map( keyFunc = materialVariable,\n",
    "                         mappingDict = {airIndex:airdensity, crustIndex:Ra*temperatureField, lithosphereIndex:Ra*temperatureField, mantleIndex:Ra*temperatureField,lowermantleIndex:Ra*temperatureField} )\n",
    "\n",
    "# Define our gravity using a python tuple (this will be automatically converted to a function)\n",
    "gravity = ( 0.0, 1.0 )\n",
    "\n",
    "buoyancyFn = gravity*densityMapFn"
   ]
  },
  {
   "cell_type": "code",
   "execution_count": 60,
   "metadata": {
    "collapsed": false
   },
   "outputs": [
    {
     "data": {
      "text/plain": [
       "0.006723524514332251"
      ]
     },
     "execution_count": 60,
     "metadata": {},
     "output_type": "execute_result"
    }
   ],
   "source": [
    "math.exp(((Ep)/(1.00 + T0p)) - ((Ep )/(Trp + T0p)))"
   ]
  },
  {
   "cell_type": "code",
   "execution_count": null,
   "metadata": {
    "collapsed": false
   },
   "outputs": [],
   "source": []
  },
  {
   "cell_type": "markdown",
   "metadata": {
    "collapsed": false
   },
   "source": [
    "##Solvers"
   ]
  },
  {
   "cell_type": "code",
   "execution_count": 61,
   "metadata": {
    "collapsed": false
   },
   "outputs": [],
   "source": [
    "# Setup a stokes system\n",
    "# For PIC style integration, we include a swarm for the a PIC integration swarm is generated within.\n",
    "# For gauss integration, simple do not include the swarm. Nearest neighbour is used where required.\n",
    "stokesPIC = uw.systems.Stokes(velocityField=velocityField, \n",
    "                              pressureField=pressureField,\n",
    "                              conditions=[slipBC,],\n",
    "                              viscosityFn=fn.exception.SafeMaths(viscosityl), \n",
    "                              bodyForceFn=buoyancyFn )"
   ]
  },
  {
   "cell_type": "code",
   "execution_count": 62,
   "metadata": {
    "collapsed": false
   },
   "outputs": [],
   "source": [
    "solver=uw.systems.Solver(stokesPIC)\n",
    "solver.solve()\n",
    "#stokesPIC.solve()"
   ]
  },
  {
   "cell_type": "code",
   "execution_count": 63,
   "metadata": {
    "collapsed": false
   },
   "outputs": [],
   "source": [
    "pressureFieldCopy.data[:] = (pressureField.data[:] - pressureField.data.max())*-1. + lithopressureField.data[:]"
   ]
  },
  {
   "cell_type": "code",
   "execution_count": 64,
   "metadata": {
    "collapsed": false
   },
   "outputs": [],
   "source": [
    "# Setup the Stokes system again, now with full viscosity\n",
    "# For PIC style integration, we include a swarm for the a PIC integration swarm is generated within.\n",
    "# For gauss integration, simple do not include the swarm. Nearest neighbour is used where required.\n",
    "stokesPIC2 = uw.systems.Stokes(velocityField=velocityField, \n",
    "                              pressureField=pressureField,\n",
    "                              conditions=[slipBC,],\n",
    "                              viscosityFn=fn.exception.SafeMaths(viscosityMapFn), \n",
    "                              bodyForceFn=buoyancyFn,rtolerance=1e-04)"
   ]
  },
  {
   "cell_type": "code",
   "execution_count": 65,
   "metadata": {
    "collapsed": false
   },
   "outputs": [],
   "source": [
    "# Create advdiff system\n",
    "#advDiff = uw.systems.AdvectionDiffusion( temperatureField, velocityField, diffusivity=1., conditions=[tempBC,] )\n",
    "advDiff = uw.systems.AdvectionDiffusion( temperatureField, velocityField, diffusivity=1., conditions=[tempBC,] )\n",
    "\n",
    "# Also create some integral objects which are used to calculate statistics.\n",
    "v2sum_integral  = uw.utils.Integral( feMesh=linearMesh, fn=fn.math.dot(velocityField, velocityField) ) \n",
    "volume_integral = uw.utils.Integral( feMesh=linearMesh, fn=1. )"
   ]
  },
  {
   "cell_type": "code",
   "execution_count": 66,
   "metadata": {
    "collapsed": false
   },
   "outputs": [],
   "source": [
    "# Create advector objects to advect the swarms. We specify second order integration.\n",
    "advector = uw.systems.SwarmAdvector(swarm=gSwarm, velocityField=velocityField, order=1)\n"
   ]
  },
  {
   "cell_type": "code",
   "execution_count": 67,
   "metadata": {
    "collapsed": false
   },
   "outputs": [],
   "source": [
    "# Stepping. Initialise time and timestep.\n",
    "realtime = 0.\n",
    "earthtimeMy = 0.\n",
    "step = 0\n",
    "\n",
    "timevals = []\n",
    "vrmsvals = []"
   ]
  },
  {
   "cell_type": "code",
   "execution_count": 68,
   "metadata": {
    "collapsed": true
   },
   "outputs": [],
   "source": [
    "import time"
   ]
  },
  {
   "cell_type": "code",
   "execution_count": 69,
   "metadata": {
    "collapsed": true
   },
   "outputs": [],
   "source": [
    "# create global copy of vel field\n",
    "velocityFieldCopy = uw.fevariable.FeVariable( feMesh=linearMesh, nodeDofCount=dim )\n",
    "velocityFieldCopy.data[:] = velocityField.data[:]"
   ]
  },
  {
   "cell_type": "code",
   "execution_count": 70,
   "metadata": {
    "collapsed": true
   },
   "outputs": [],
   "source": [
    "#stokesPIC2.solve(nonLinearIterate=True)"
   ]
  },
  {
   "cell_type": "code",
   "execution_count": 71,
   "metadata": {
    "collapsed": false
   },
   "outputs": [],
   "source": [
    "solver=uw.systems.Solver(stokesPIC2)\n",
    "\n",
    "solver.options.main.Q22_pc_type='uwscale'  # also try 'gtkg', 'gkgdiag' and 'uwscale'\n",
    "solver.options.main.penalty = 1.0\n",
    "solver.options.A11.ksp_rtol=1e-6\n",
    "solver.options.scr.ksp_rtol=1e-5\n",
    "solver.options.scr.use_previous_guess = True\n",
    "solver.options.scr.ksp_set_min_it_converge = 1\n",
    "solver.options.scr.ksp_set_max_it = 100\n",
    "solver.options.mg.levels = 5\n",
    "solver.options.mg.mg_levels_ksp_type = 'chebyshev'\n",
    "solver.options.mg_accel.mg_accelerating_smoothing = True\n",
    "solver.options.mg_accel.mg_accelerating_smoothing_view = False\n",
    "solver.options.mg_accel.mg_smooths_to_start = 1"
   ]
  },
  {
   "cell_type": "code",
   "execution_count": 72,
   "metadata": {
    "collapsed": false
   },
   "outputs": [],
   "source": [
    "#print(advector.get_max_dt(), advDiff.get_max_dt())"
   ]
  },
  {
   "cell_type": "markdown",
   "metadata": {},
   "source": [
    "##Metrics and Integrals etc."
   ]
  },
  {
   "cell_type": "code",
   "execution_count": 73,
   "metadata": {
    "collapsed": true
   },
   "outputs": [],
   "source": [
    "#Create some dummy fevariables for doing top and bottom boundary calculations.\n",
    "topField    = uw.fevariable.FeVariable( feMesh=linearMesh,   nodeDofCount=1)\n",
    "bottomField    = uw.fevariable.FeVariable( feMesh=linearMesh,   nodeDofCount=1)\n",
    "\n",
    "topField.data[:] = 0.\n",
    "bottomField.data[:] = 0.\n",
    "\n",
    "# lets ensure temp boundaries are still what we want \n",
    "# on the boundaries\n",
    "for index in linearMesh.specialSets[\"MinJ_VertexSet\"]:\n",
    "    bottomField.data[index] = 1.\n",
    "for index in linearMesh.specialSets[\"MaxJ_VertexSet\"]:\n",
    "    topField.data[index] = 1."
   ]
  },
  {
   "cell_type": "code",
   "execution_count": 74,
   "metadata": {
    "collapsed": false
   },
   "outputs": [],
   "source": [
    "#Setup some Integrals. We want these outside the main loop...\n",
    "tempint = uw.utils.Integral(temperatureField, linearMesh)\n",
    "areaint = uw.utils.Integral(1.,linearMesh)\n",
    "\n",
    "v2int = uw.utils.Integral(fn.math.dot(velocityField,velocityField), linearMesh)\n",
    "topareaint = uw.utils.Integral((topField*1.),linearMesh)\n",
    "\n",
    "dwint = uw.utils.Integral(temperatureField*velocityField[1], linearMesh)\n",
    "\n",
    "secinv = fn.tensor.second_invariant(\n",
    "                    fn.tensor.symmetric(\n",
    "                        velocityField.gradientFn ))\n",
    "\n",
    "sinner = fn.math.dot(secinv,secinv)\n",
    "vdint = uw.utils.Integral((4.*viscosityMapFn*sinner), linearMesh)"
   ]
  },
  {
   "cell_type": "code",
   "execution_count": 75,
   "metadata": {
    "collapsed": true
   },
   "outputs": [],
   "source": [
    "def avg_temp():\n",
    "    return tempint.integrate()[0]/areaint.integrate()[0]\n",
    "\n",
    "#This one gets cleaned up when Surface integrals are available\n",
    "def nusselt(temp_field, mesh):\n",
    "    #surface_Tgradient = -temp_field.gradientFn.evaluate(mesh.specialSets[\"MaxJ_VertexSet\"]).T[1]\n",
    "    #basalT = temp_field.evaluate(mesh.specialSets[\"MinJ_VertexSet\"])\n",
    "    #nusselt = surface_Tgradient.mean() / basalT.mean()\n",
    "    #return nusselt\n",
    "    return 0.\n",
    "\n",
    "def rms():\n",
    "    return math.sqrt(v2int.integrate()[0]/areaint.integrate()[0])\n",
    "\n",
    "\n",
    "#This one gets cleaned up when Surface integrals are available\n",
    "def rms_surf():\n",
    "    xvelocityField = fn.math.dot(velocityField,np.array([1.,0.]))\n",
    "    return math.sqrt(v2int.integrate()[0]/topareaint.integrate()[0])\n",
    "\n",
    "def max_vx_surf(velfield, mesh):\n",
    "    vuvelxfn = fn.view.min_max(velfield[0])\n",
    "    vuvelxfn.evaluate(mesh.specialSets[\"MaxJ_VertexSet\"])\n",
    "    return vuvelxfn.max_global()\n",
    "\n",
    "def gravwork(workfn):\n",
    "    return workfn.integrate()[0]\n",
    "\n",
    "def viscdis(vdissfn):\n",
    "    return vdissfn.integrate()[0]\n",
    "\n",
    "def visc_extr(viscfn):\n",
    "    vuviscfn = fn.view.min_max(viscfn)\n",
    "    vuviscfn.evaluate(linearMesh)\n",
    "    return vuviscfn.max_global(), vuviscfn.min_global()"
   ]
  },
  {
   "cell_type": "code",
   "execution_count": null,
   "metadata": {
    "collapsed": false
   },
   "outputs": [
    {
     "data": {
      "text/plain": [
       "<glucifer.pylab._drawing.Points at 0x11444b350>"
      ]
     },
     "execution_count": 76,
     "metadata": {},
     "output_type": "execute_result"
    }
   ],
   "source": [
    "#Fields / images / dbs for saving \n",
    "\n",
    "#Files\n",
    "\n",
    "rmsField = uw.fevariable.FeVariable( feMesh=linearMesh,   nodeDofCount=1)\n",
    "rmsfn = fn.math.sqrt(fn.math.dot(velocityField,velocityField))\n",
    "rmsdata = rmsfn.evaluate(linearMesh)\n",
    "rmsField.data[:] = rmsdata \n",
    "\n",
    "#viscField = uw.fevariable.FeVariable( feMesh=linearMesh,   nodeDofCount=1)\n",
    "#viscdata = viscosityl.evaluate(linearMesh)\n",
    "#viscField.data[:] = viscdata\n",
    "\n",
    "\n",
    "#stressField = uw.fevariable.FeVariable( feMesh=linearMesh,   nodeDofCount=1)\n",
    "#srtdata = fn.tensor.second_invariant( \n",
    "#                    fn.tensor.symmetric( \n",
    "#                        velocityField.gradientFn ))\n",
    "#rostfield = srtdata.evaluate(linearMesh)\n",
    "#stressinv = 2*viscdata*rostfield[:]\n",
    "#stressField.data[:] = stressinv\n",
    "\n",
    "#images/dbs\n",
    "\n",
    "viscVariable = gSwarm.add_variable( dataType=\"float\", count=1 )\n",
    "viscVariable.data[:] = viscosityMapFn.evaluate(gSwarm)\n",
    "\n",
    "figEta = plt.Figure()\n",
    "figEta.VectorArrows(velocityField, linearMesh,arrowHeadSize=0.1, lengthScale=0.0005 )\n",
    "figEta.Points(gSwarm,viscVariable, logScale=True)\n",
    "#figEta.save_database('viscMap.gldb')"
   ]
  },
  {
   "cell_type": "code",
   "execution_count": null,
   "metadata": {
    "collapsed": false
   },
   "outputs": [
    {
     "name": "stdout",
     "output_type": "stream",
     "text": [
      "step = 2 dt 2.04954500394e-06 realtime 4.59229540341e-06 earthtime 1.21623891549\n",
      "number of particles updated: 240\n",
      "(1.2162389154868072, 0.1, 0.1)\n",
      "step = 4 dt 1.96651282304e-06 realtime 8.58584802688e-06 earthtime 2.27390478518\n",
      "number of particles updated: 211\n",
      "(2.2739047851759224, 0.1, 0.2)\n",
      "step = 6 dt 1.75914976241e-06 realtime 1.22348332149e-05 earthtime 3.24031425971\n",
      "number of particles updated: 190\n",
      "(3.2403142597070853, 0.1, 0.30000000000000004)\n",
      "step = 8 dt 1.76438982646e-06 realtime 1.57681585917e-05 earthtime 4.17609200195\n",
      "number of particles updated: 172\n",
      "(4.176092001949148, 0.1, 0.4)\n",
      "step = 10 dt 1.63546556056e-06 realtime 1.91020701431e-05 earthtime 5.05905631793\n",
      "number of particles updated: 176\n",
      "(5.059056317925924, 0.1, 0.5)\n",
      "step = 12 dt 1.54846772213e-06 realtime 2.22423308229e-05 earthtime 5.89073348764\n",
      "number of particles updated: 130\n",
      "(5.8907334876405475, 0.1, 0.6)\n",
      "step = 14 dt 1.50030535984e-06 realtime 2.52545317774e-05 earthtime 6.68849489023\n",
      "number of particles updated: 140"
     ]
    }
   ],
   "source": [
    "Avg_temp = avg_temp()\n",
    "# create integral to get diff \n",
    "start = time.clock()\n",
    "# setup summary output file (name above)\n",
    "f_o = open(outputPath+ '/' +outputFile, 'w')\n",
    "start = time.clock()\n",
    "time_incr = 0.1 #Ma\n",
    "incr_count = 0.0\n",
    "incr = 0.1\n",
    "swarm_update = 5.\n",
    "max_time = 200. #Ma\n",
    "earthtimeMy = 0.\n",
    "realtime = 0.\n",
    "files_output = 30\n",
    "gldbs_output = 300\n",
    "while earthtimeMy < max_time:\n",
    "    velocityFieldCopy.data[:] = velocityField.data[:]\n",
    "    #stokesPIC2.solve(nonLinearIterate=True)\n",
    "    solver.solve(nonLinearIterate=True)\n",
    "    #Fic pressure\n",
    "    pressureFieldCopy.data[:] = (pressureField.data[:] - pressureField.data.max())*-1. + lithopressureField.data[:]\n",
    "    #\n",
    "    secinvCopy = fn.tensor.second_invariant( \n",
    "                    fn.tensor.symmetric( \n",
    "                        velocityField.gradientFn ))\n",
    "    dt = advDiff.get_max_dt()\n",
    "    # Advect temp using this timestep size   \n",
    "    advDiff.integrate(dt)\n",
    "    # Advect swarm using this timestep size\n",
    "    advector.integrate(dt)\n",
    "    # Increment\n",
    "    realtime += dt\n",
    "    step += 1\n",
    "    timevals.append(time)\n",
    "    earthtimeMy = stmy((realtime*timeScale))\n",
    "    #Save same fields at the specified time increment (or near)\n",
    "    if step % files_output == 0:\n",
    "        incr_count += incr\n",
    "        print 'step =', step, 'dt', dt, 'realtime', realtime, 'earthtime', earthtimeMy\n",
    "        ##HDF5 files to save\n",
    "        #Temp\n",
    "        fnametemp = \"temperatureField\" + \"_\" + str(identifier) + \"_\" + str(step) + \".hdf5\"\n",
    "        fullpath = os.path.join(filePath + \"/\" + fnametemp)\n",
    "        temperatureField.save(fullpath)\n",
    "        #RMS\n",
    "        fnamerms = \"rmsField\" + \"_\" + str(identifier) + \"_\" + str(step) + \".hdf5\"\n",
    "        fullpath = os.path.join(filePath + \"/\" + fnamerms)\n",
    "        rmsField.save(fullpath)\n",
    "        ##GLDBs files to save\n",
    "        #fnameswarm = \"viscMap\" + \"_\" + str(identifier) + \"_\" + str(step) + \".gldb\"\n",
    "        #fullpath = os.path.join(dbPath + \"/\" + fnameswarm)\n",
    "        #figEta.save_database(fullpath)\n",
    "    if step % gldbs_output ==0:\n",
    "        fnameswarm = \"viscMap\" + \"_\" + str(identifier) + \"_\" + str(step) + \".gldb\"\n",
    "        fullpath = os.path.join(dbPath + \"/\" + fnameswarm)\n",
    "        figEta.save_database(fullpath)\n",
    "    ###\n",
    "    # Calculate the Metrics\n",
    "    Avg_temp = avg_temp()\n",
    "    Rms = rms()\n",
    "    Rms_surf = rms_surf()\n",
    "    Max_vx_surf = max_vx_surf(velocityField, linearMesh)\n",
    "    Gravwork = gravwork(dwint)\n",
    "    Viscdis = viscdis(vdint)\n",
    "    nu1, nu0 = nusselt(temperatureField, linearMesh), nusselt(temperatureField, linearMesh)\n",
    "    etamax, etamin = visc_extr(viscosityl)\n",
    "    #Do any non-parallel writing from a single processor\n",
    "    if uw.rank()==0:\n",
    "        f_o.write((12*'%-15s ' + '\\n') % (realtime,earthtimeMy, Viscdis, nu0, nu1, Avg_temp, Rms,Rms_surf,Max_vx_surf,Gravwork, etamax, etamin))\n",
    "    ################\n",
    "    #Particle update\n",
    "    ###############\n",
    "    particledepths = 1. - gSwarm.particleCoordinates.data[:,1]\n",
    "    particletemps = temperatureField.evaluate(gSwarm)[:,0]\n",
    "    conditionmap['depthcondition']['data'] = particledepths\n",
    "    conditionmap['avgtempcondition']['data'] = particletemps\n",
    "    if step % swarm_update == 0:\n",
    "        number_updated = 0\n",
    "        for particleID in range(gSwarm.particleCoordinates.data.shape[0]):\n",
    "            check = update_swarm(DG, particleID)\n",
    "            if check > -1:\n",
    "                number_updated += 1\n",
    "                #if check == 0:\n",
    "                #    print \"from \" + str(materialVariable.data[particleID]) + \" to \" + str(check)\n",
    "                materialVariable.data[particleID] = check\n",
    "            else:\n",
    "                pass\n",
    "        #update the particle location swarm ready for next comparison\n",
    "        print \"number of particles updated: \" + str(number_updated)\n",
    "        print(earthtimeMy, incr, incr_count)\n",
    "f_o.close()"
   ]
  },
  {
   "cell_type": "code",
   "execution_count": null,
   "metadata": {
    "collapsed": false
   },
   "outputs": [],
   "source": [
    "#stmy((0.000159917267983*timeScale))"
   ]
  },
  {
   "cell_type": "code",
   "execution_count": 106,
   "metadata": {
    "collapsed": false
   },
   "outputs": [
    {
     "data": {
      "image/png": "[encoded data removed]",
      "text/plain": [
       "<IPython.core.display.Image object>"
      ]
     },
     "execution_count": 106,
     "metadata": {},
     "output_type": "execute_result"
    }
   ],
   "source": [
    "#figEta = plt.Figure()\n",
    "#figEta.VectorArrows(velocityField, linearMesh,arrowHeadSize=0.1, lengthScale=0.0005 )\n",
    "#figEta.Points(gSwarm,viscVariable, logScale=True)\n",
    "#figEta.show()"
   ]
  }
 ],
 "metadata": {
  "kernelspec": {
   "display_name": "Python 2",
   "language": "python",
   "name": "python2"
  },
  "language_info": {
   "codemirror_mode": {
    "name": "ipython",
    "version": 2
   },
   "file_extension": ".py",
   "mimetype": "text/x-python",
   "name": "python",
   "nbconvert_exporter": "python",
   "pygments_lexer": "ipython2",
   "version": "2.7.11"
  }
 },
 "nbformat": 4,
 "nbformat_minor": 0
}
