{
 "cells": [
  {
   "cell_type": "code",
   "execution_count": 234,
   "metadata": {
    "collapsed": true
   },
   "outputs": [],
   "source": [
    "import underworld as uw\n",
    "import math\n",
    "from underworld import function as fn\n",
    "import glucifer\n",
    "import matplotlib.pyplot as pyplot\n",
    "import numpy as np\n",
    "from easydict import EasyDict as edict\n",
    "%matplotlib inline\n"
   ]
  },
  {
   "cell_type": "code",
   "execution_count": 235,
   "metadata": {
    "collapsed": false
   },
   "outputs": [],
   "source": [
    "from slippy2 import boundary_layer2d"
   ]
  },
  {
   "cell_type": "code",
   "execution_count": 236,
   "metadata": {
    "collapsed": true
   },
   "outputs": [],
   "source": [
    "MAXX = 1.\n",
    "MINX = -1.\n",
    "MINY = 0.\n",
    "MAXY = 1.\n",
    "dim = 2          # number of spatial dimensions\n",
    "\n",
    "\n",
    "#MESH STUFF\n",
    "\n",
    "RES = 128\n",
    "Yres = RES\n",
    "if MINX == 0.:\n",
    "    Xres = RES\n",
    "else:\n",
    "    Xres = 2*RES\n",
    "periodic = [True, False]\n",
    "\n",
    "elementType = \"Q1/dQ0\"\n"
   ]
  },
  {
   "cell_type": "code",
   "execution_count": 237,
   "metadata": {
    "collapsed": false
   },
   "outputs": [],
   "source": [
    "mesh = uw.mesh.FeMesh_Cartesian( elementType = elementType,\n",
    "                                 elementRes  = (Xres, Yres), \n",
    "                                 minCoord    = (MINX,MINY), \n",
    "                                 maxCoord=(MAXX,MAXY), periodic=periodic)\n",
    "\n",
    "\n",
    "\n",
    "velocityField       = uw.mesh.MeshVariable( mesh=mesh,         nodeDofCount=dim )\n",
    "pressureField       = uw.mesh.MeshVariable( mesh=mesh.subMesh, nodeDofCount=1 )\n",
    "temperatureField    = uw.mesh.MeshVariable( mesh=mesh,         nodeDofCount=1 )"
   ]
  },
  {
   "cell_type": "code",
   "execution_count": 238,
   "metadata": {
    "collapsed": false
   },
   "outputs": [],
   "source": [
    "#dimensional parameter dictionary\n",
    "dp = edict({'LS':2890.*1e3,\n",
    "           'rho':3300,\n",
    "           'g':9.81, \n",
    "           'eta0':1e23,\n",
    "           'k':10**-6,\n",
    "           'a':1.25*10**-5, \n",
    "           'TS':273.,\n",
    "           'TB':2773.,\n",
    "           'deltaT':2500, \n",
    "           'cohesion':1e7, \n",
    "           'E':240000., \n",
    "           'R':8.314,\n",
    "           'V':6.34*(10**-7),\n",
    "           'StALS': 27.*1e3})\n",
    "\n",
    "MANTLETOCRUST = (27.*1e3)/dp.LS #Crust depth\n",
    "CRUSTTOMANTLE = (300.*1e3)/dp.LS \n",
    "LITHTOMANTLE = (660.*1e3)/dp.LS \n"
   ]
  },
  {
   "cell_type": "code",
   "execution_count": 239,
   "metadata": {
    "collapsed": true
   },
   "outputs": [],
   "source": [
    "subzone = -0.3\n",
    "mor = 0.5\n",
    "vel = 20e3\n",
    "agelim = False\n",
    "thermallimit = False\n",
    "\n",
    "#Slab perturbation paramaters\n",
    "Roc = 450.\n",
    "Crust = 35.\n",
    "theta = 89.\n"
   ]
  },
  {
   "cell_type": "code",
   "execution_count": 241,
   "metadata": {
    "collapsed": false
   },
   "outputs": [],
   "source": [
    "from slippy2 import unit_conversions\n",
    "from slippy2 import boundary_layer2d\n"
   ]
  },
  {
   "cell_type": "code",
   "execution_count": 218,
   "metadata": {
    "collapsed": false
   },
   "outputs": [
    {
     "data": {
      "text/plain": [
       "1e-06"
      ]
     },
     "execution_count": 218,
     "metadata": {},
     "output_type": "execute_result"
    }
   ],
   "source": [
    "dp.k"
   ]
  },
  {
   "cell_type": "code",
   "execution_count": 242,
   "metadata": {
    "collapsed": false
   },
   "outputs": [
    {
     "data": {
      "text/plain": [
       "115.59999999999998"
      ]
     },
     "execution_count": 242,
     "metadata": {},
     "output_type": "execute_result"
    }
   ],
   "source": [
    "lith= LithosphereTemps(mesh, temperatureField, 2890e3, subzone, mor, tint=0.8, vel= 10e3, diffs = 1e-6)\n",
    "\n",
    "\n",
    "age = lith.agefunc(0.1)\n",
    "age"
   ]
  },
  {
   "cell_type": "code",
   "execution_count": 243,
   "metadata": {
    "collapsed": false
   },
   "outputs": [
    {
     "data": {
      "text/plain": [
       "True"
      ]
     },
     "execution_count": 243,
     "metadata": {},
     "output_type": "execute_result"
    }
   ],
   "source": [
    "lith.periodic"
   ]
  },
  {
   "cell_type": "code",
   "execution_count": 244,
   "metadata": {
    "collapsed": false
   },
   "outputs": [
    {
     "name": "stdout",
     "output_type": "stream",
     "text": [
      "('age at subduction zone is:', 346.8)\n",
      "('age in seconds is: ', 3645561599999999.5)\n",
      "('dimesnsionless temp at 66 km depth is :', 0.4483544749374847)\n",
      "('depth of thermal lithosphere is :', 140078.088064622)\n"
     ]
    }
   ],
   "source": [
    "print(\"age at subduction zone is:\", lith.agefunc(subzone))\n",
    "print(\"age in seconds is: \", unit_conversions.myts(age))\n",
    "print(\"dimesnsionless temp at 66 km depth is :\", lith.tempfunc(age, 66e3))\n",
    "print(\"depth of thermal lithosphere is :\", lith.lithdepthfunc(age))"
   ]
  },
  {
   "cell_type": "code",
   "execution_count": null,
   "metadata": {
    "collapsed": true
   },
   "outputs": [],
   "source": []
  },
  {
   "cell_type": "code",
   "execution_count": 245,
   "metadata": {
    "collapsed": false
   },
   "outputs": [
    {
     "data": {
      "text/html": [
       "<img src='data:image/png;base64,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'>"
      ],
      "text/plain": [
       "<IPython.core.display.HTML object>"
      ]
     },
     "execution_count": 245,
     "metadata": {},
     "output_type": "execute_result"
    }
   ],
   "source": [
    "figTemp= glucifer.Figure()\n",
    "figTemp.append( glucifer.objects.Surface(mesh, temperatureField))\n",
    "figTemp.show()"
   ]
  },
  {
   "cell_type": "code",
   "execution_count": 246,
   "metadata": {
    "collapsed": false
   },
   "outputs": [
    {
     "data": {
      "text/plain": [
       "False"
      ]
     },
     "execution_count": 246,
     "metadata": {},
     "output_type": "execute_result"
    }
   ],
   "source": [
    "thermallimit\n"
   ]
  },
  {
   "cell_type": "code",
   "execution_count": 247,
   "metadata": {
    "collapsed": false
   },
   "outputs": [
    {
     "name": "stderr",
     "output_type": "stream",
     "text": [
      "/Users/dansandiford/anaconda/lib/python2.7/site-packages/ipykernel/__main__.py:96: RuntimeWarning: divide by zero encountered in double_scalars\n",
      "/Users/dansandiford/anaconda/lib/python2.7/site-packages/ipykernel/__main__.py:96: RuntimeWarning: invalid value encountered in double_scalars\n"
     ]
    }
   ],
   "source": [
    "fudge = 1.\n",
    "\n",
    "for index, coord in enumerate(mesh.data):\n",
    "    xloc = coord[0]\n",
    "    agema = lith.agefunc(xloc)\n",
    "    if agelim:\n",
    "        agema = min(agelim, agema)\n",
    "    if thermallimit:\n",
    "        if (1.-coord[1]) < (lith.lithdepthfunc(agema)/dp.LS)*thermallimit: #comparison of dimensionless (model) lengths\n",
    "            zloc = ((1.- coord[1])* dp.LS) # dimensional depth kms\n",
    "            t = lith.tempfunc(agema,  zloc)\n",
    "            temperatureField.data[index] = t\n",
    "        else:\n",
    "            temperatureField.data[index] = lith.tint\n",
    "    \n",
    "    else:\n",
    "        zloc = ((1.- coord[1])* dp.LS) # dimensional depth kms\n",
    "        t = lith.tempfunc(agema, zloc)\n",
    "        temperatureField.data[index] = t  "
   ]
  },
  {
   "cell_type": "code",
   "execution_count": 248,
   "metadata": {
    "collapsed": false
   },
   "outputs": [],
   "source": [
    "def inCircleFnGenerator(centre, radius):\n",
    "    coord = fn.input()\n",
    "    offsetFn = coord - centre\n",
    "    return fn.math.dot( offsetFn, offsetFn ) < radius**2\n",
    "\n",
    "#Setup slab perturbation params (mostly dimensionles / model params here)\n",
    "phi = 90. - theta\n",
    "RocM = (Roc/dp.LS)*1e3\n",
    "CrustM = MANTLETOCRUST\n",
    "#slabdepth = lithdepthfunc(agefunc(off, off, vel), dp.k)\n",
    "slabdepthM = lith.lithdepthfunc(lith.agefunc(subzone)) /dp.LS\n",
    "#slabdepthM *= 5.\n",
    "Org = (0.+subzone, 1.-RocM)\n",
    "#Use three circles to define our slab and crust perturbation,  \n",
    "Oc = inCircleFnGenerator(Org , RocM)\n",
    "Oc2 = inCircleFnGenerator(Org , RocM + (20e3/dp.LS)) #a slightly larger circle helps smother the interpolation\n",
    "Ic = inCircleFnGenerator(Org , RocM - slabdepthM)\n",
    "Cc = inCircleFnGenerator(Org , RocM - CrustM)\n",
    "dx = (RocM)/(np.math.tan((np.math.pi/180.)*phi))\n",
    "\n",
    "#Work our which way the slab should face:\n",
    "sense = 'Left'\n",
    "if lith.agefunc(subzone + 0.0001) < lith.agefunc(subzone - 0.0001):\n",
    "    sense = 'Right'\n",
    "\n",
    "#We'll also create a triangle which will truncate the circles defining the slab...\n",
    "if sense == 'Left': \n",
    "    ptx = subzone - dx\n",
    "else:\n",
    "    ptx = subzone + dx\n",
    "\n",
    "coords = ((0.+subzone, 1), (0.+subzone, 1.-RocM), (ptx, 1.))\n",
    "Tri = fn.shape.Polygon(np.array(coords))\n",
    "\n"
   ]
  },
  {
   "cell_type": "code",
   "execution_count": 249,
   "metadata": {
    "collapsed": false
   },
   "outputs": [
    {
     "data": {
      "text/html": [
       "<img src='data:image/png;base64,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'>"
      ],
      "text/plain": [
       "<IPython.core.display.HTML object>"
      ]
     },
     "execution_count": 249,
     "metadata": {},
     "output_type": "execute_result"
    }
   ],
   "source": [
    "figTemp.show()"
   ]
  },
  {
   "cell_type": "code",
   "execution_count": 250,
   "metadata": {
    "collapsed": false
   },
   "outputs": [
    {
     "data": {
      "text/plain": [
       "242622.36555503285"
      ]
     },
     "execution_count": 250,
     "metadata": {},
     "output_type": "execute_result"
    }
   ],
   "source": [
    "slabdepthM*dp.LS"
   ]
  },
  {
   "cell_type": "code",
   "execution_count": 251,
   "metadata": {
    "collapsed": false
   },
   "outputs": [
    {
     "data": {
      "text/plain": [
       "True"
      ]
     },
     "execution_count": 251,
     "metadata": {},
     "output_type": "execute_result"
    }
   ],
   "source": [
    "coord = tuple((subzone, 0.92))\n",
    "Oc.evaluate(tuple(coord)) and Tri.evaluate(tuple(coord)) and not Ic.evaluate(tuple(coord))"
   ]
  },
  {
   "cell_type": "code",
   "execution_count": 252,
   "metadata": {
    "collapsed": false
   },
   "outputs": [
    {
     "data": {
      "text/plain": [
       "1.0"
      ]
     },
     "execution_count": 252,
     "metadata": {},
     "output_type": "execute_result"
    }
   ],
   "source": [
    "fudge"
   ]
  },
  {
   "cell_type": "code",
   "execution_count": 253,
   "metadata": {
    "collapsed": false
   },
   "outputs": [],
   "source": [
    "#Assign temperatures in the perturbation region\n",
    "#sds = []\n",
    "if sense == 'Left': \n",
    "    age = lith.agefunc(subzone + 0.001)\n",
    "else:\n",
    "    age = lith.agefunc(subzone - 0.001)\n",
    "    \n",
    "if agelim:\n",
    "        age = min(agelim, age)\n",
    "\n",
    "for index, coord in enumerate(mesh.data):\n",
    "    #if Oc.evaluate(tuple(coord)) and Tri.evaluate(tuple(coord)) and not Ic.evaluate(tuple(coord)): #in inner circle, not in outer circle\n",
    "    if Oc.evaluate(tuple(coord)) and Tri.evaluate(tuple(coord)): #In the quarter-circle defining the lithosphere\n",
    "\n",
    "        sd = ((RocM - math.sqrt((coord[0] - Org[0])**2 + (coord[1] - Org[1])**2))*dp.LS) #distance from slab edge in m\n",
    "        #print sd\n",
    "        if thermallimit:\n",
    "            if sd < (lith.lithdepthfunc(age))*thermallimit: #comparison of dimensionless (model) lengths\n",
    "                t = lith.tempfunc(age, sd)\n",
    "                temperatureField.data[index] = t\n",
    "        else:\n",
    "            t = lith.tempfunc(age, sd)\n",
    "            temperatureField.data[index] = t\n",
    "            #print('true')\n",
    "        #else: \n",
    "         #   temperatureField.data[index] = 0.8\n",
    "            #print('true')"
   ]
  },
  {
   "cell_type": "code",
   "execution_count": 254,
   "metadata": {
    "collapsed": false
   },
   "outputs": [
    {
     "data": {
      "text/html": [
       "<img src='data:image/png;base64,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'>"
      ],
      "text/plain": [
       "<IPython.core.display.HTML object>"
      ]
     },
     "execution_count": 254,
     "metadata": {},
     "output_type": "execute_result"
    }
   ],
   "source": [
    "figTemp.show()"
   ]
  },
  {
   "cell_type": "code",
   "execution_count": 233,
   "metadata": {
    "collapsed": false
   },
   "outputs": [],
   "source": [
    "figTemp.show()\n",
    "figTemp.save_database('test.gldb')"
   ]
  },
  {
   "cell_type": "code",
   "execution_count": null,
   "metadata": {
    "collapsed": true
   },
   "outputs": [],
   "source": []
  }
 ],
 "metadata": {
  "kernelspec": {
   "display_name": "Python 2",
   "language": "python",
   "name": "python2"
  },
  "language_info": {
   "codemirror_mode": {
    "name": "ipython",
    "version": 2
   },
   "file_extension": ".py",
   "mimetype": "text/x-python",
   "name": "python",
   "nbconvert_exporter": "python",
   "pygments_lexer": "ipython2",
   "version": "2.7.11"
  }
 },
 "nbformat": 4,
 "nbformat_minor": 0
}
