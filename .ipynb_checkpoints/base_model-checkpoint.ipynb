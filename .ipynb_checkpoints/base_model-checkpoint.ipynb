{
 "cells": [
  {
   "cell_type": "markdown",
   "metadata": {
    "collapsed": true
   },
   "source": [
    "\n",
    "Viscoplastic thermal convection in a 2-D square box\n",
    "=======\n",
    "\n",
    "Benchmarks from Tosi et al. 2015\n",
    "--------\n",
    "\n"
   ]
  },
  {
   "cell_type": "markdown",
   "metadata": {
    "collapsed": true
   },
   "source": [
    "This notebook generates models from the <a name=\"ref-1\"/>[(Tosi et al., 2015)](#cite-tosi2015community) in Underworld2. The Underworld2 results are compared to the model run on Fenics. Input files for the Fenics models were provided by Petra Maierova.\n",
    "\n",
    "This example uses the RT PIC solver with classic and nearest neighbour\n",
    "\n",
    "\n",
    "References\n",
    "====\n",
    "\n",
    "<a name=\"cite-tosi2015community\"/><sup>[^](#ref-1) </sup>Tosi, Nicola and Stein, Claudia and Noack, Lena and H&uuml;ttig, Christian and Maierov&aacute;, Petra and Samuel, Henri and Davies, DR and Wilson, CR and Kramer, SC and Thieulot, Cedric and others. 2015. _A community benchmark for viscoplastic thermal convection in a 2-D square box_.\n",
    "\n"
   ]
  },
  {
   "cell_type": "markdown",
   "metadata": {},
   "source": [
    "Load python functions needed for underworld. Some additional python functions from os, math and numpy used later on."
   ]
  },
  {
   "cell_type": "code",
   "execution_count": 584,
   "metadata": {
    "collapsed": false
   },
   "outputs": [],
   "source": [
    "#!pip install natsort\n",
    "#!pip install networkx"
   ]
  },
  {
   "cell_type": "code",
   "execution_count": 585,
   "metadata": {
    "collapsed": false
   },
   "outputs": [],
   "source": [
    "import networkx as nx\n",
    "import underworld as uw\n",
    "import math\n",
    "from underworld import function as fn\n",
    "import glucifer\n",
    "#import matplotlib.pyplot as pyplot\n",
    "import time\n",
    "import numpy as np\n",
    "import os\n",
    "import sys\n",
    "import natsort\n",
    "import shutil\n",
    "from easydict import EasyDict as edict\n",
    "import slippy2 as sp\n",
    "\n",
    "\n",
    "\n",
    "from mpi4py import MPI\n",
    "comm = MPI.COMM_WORLD\n",
    "rank = comm.Get_rank()"
   ]
  },
  {
   "cell_type": "code",
   "execution_count": 586,
   "metadata": {
    "collapsed": true
   },
   "outputs": [],
   "source": [
    "def mpy_to_kmpma(mpy):\n",
    "    \"\"\"\n",
    "    convert meters per year to kilometers per year\n",
    "    Args:\n",
    "        mpy (float): velocity in meters per year\n",
    "    Returns:\n",
    "        velocity in kilometers per year\n",
    "    Raises:\n",
    "        TypeError: not implemented\n",
    "        ValueError: not implemented\n",
    "    \"\"\"\n",
    "    return 1e3*mpy\n",
    "\n",
    "def myts(mys):\n",
    "    \"\"\"\n",
    "    convert millions of years to seconds\n",
    "    Args:\n",
    "        mys (float): millions or years\n",
    "    Returns:\n",
    "        seconds\n",
    "    Raises:\n",
    "        TypeError: not implemented\n",
    "        ValueError: not implemented\n",
    "    \"\"\"\n",
    "    secs = mys*(3600.*24*365)*1e6\n",
    "    return secs\n",
    "\n",
    "def stmy(secs):\n",
    "    \"\"\"\n",
    "    convert millions of years to seconds\n",
    "    Args:\n",
    "        mys (float): millions or years\n",
    "    Returns:\n",
    "        seconds\n",
    "    Raises:\n",
    "        TypeError: not implemented\n",
    "        ValueError: not implemented\n",
    "    \"\"\"\n",
    "    myr = secs/((3600.*24*365)*1e6)\n",
    "    return myr"
   ]
  },
  {
   "cell_type": "code",
   "execution_count": 587,
   "metadata": {
    "collapsed": false
   },
   "outputs": [
    {
     "name": "stdout",
     "output_type": "stream",
     "text": [
      "/Users/dansandiford/Documents/programming/earthsci_code/python/vep\r\n",
      "Untitled.ipynb      base_model.ipynb    \u001b[1m\u001b[34mresults\u001b[m\u001b[m\r\n",
      "adv-diff-slab.ipynb base_model.py       test.gldb\r\n"
     ]
    }
   ],
   "source": [
    "#Display working directory info if in nb mode\n",
    "if (len(sys.argv) > 1):\n",
    "    if (sys.argv[1] == '-f'):\n",
    "        !pwd && ls"
   ]
  },
  {
   "cell_type": "code",
   "execution_count": 588,
   "metadata": {
    "collapsed": false
   },
   "outputs": [],
   "source": [
    "############\n",
    "#Model name.  \n",
    "############\n",
    "Model = \"T\"\n",
    "ModNum = 4\n",
    "\n",
    "if len(sys.argv) == 1:\n",
    "    ModIt = \"Base\"\n",
    "elif sys.argv[1] == '-f':\n",
    "    ModIt = \"Base\"\n",
    "else:\n",
    "    ModIt = str(sys.argv[1])\n"
   ]
  },
  {
   "cell_type": "code",
   "execution_count": 589,
   "metadata": {
    "collapsed": true
   },
   "outputs": [],
   "source": [
    "###########\n",
    "#Standard output directory setup\n",
    "###########\n",
    "\n",
    "\n",
    "outputPath = \"results\" + \"/\" +  str(Model) + \"/\" + str(ModNum) + \"/\" + str(ModIt) + \"/\"\n",
    "imagePath = outputPath + 'images/'\n",
    "filePath = outputPath + 'files/'\n",
    "checkpointPath = outputPath + 'checkpoint/'\n",
    "dbPath = outputPath + 'gldbs/'\n",
    "outputFile = 'results_model' + Model + '_' + str(ModNum) + '_' + str(ModIt) + '.dat'\n",
    "\n",
    "if uw.rank()==0:\n",
    "    # make directories if they don't exist\n",
    "    if not os.path.isdir(outputPath):\n",
    "        os.makedirs(outputPath)\n",
    "    if not os.path.isdir(checkpointPath):\n",
    "        os.makedirs(checkpointPath)\n",
    "    if not os.path.isdir(imagePath):\n",
    "        os.makedirs(imagePath)\n",
    "    if not os.path.isdir(dbPath):\n",
    "        os.makedirs(dbPath)\n",
    "    if not os.path.isdir(filePath):\n",
    "        os.makedirs(filePath)\n",
    "        \n",
    "comm.Barrier() #Barrier here so not procs run the check in the next cell too early "
   ]
  },
  {
   "cell_type": "code",
   "execution_count": 590,
   "metadata": {
    "collapsed": false
   },
   "outputs": [
    {
     "name": "stdout",
     "output_type": "stream",
     "text": [
      "results/T/3/Base/checkpoint/ is empty\n"
     ]
    }
   ],
   "source": [
    "###########\n",
    "#Check if starting from checkpoint\n",
    "###########\n",
    "\n",
    "checkdirs = []\n",
    "for dirpath, dirnames, files in os.walk(checkpointPath):\n",
    "    if files:\n",
    "        print dirpath, 'has files'\n",
    "        checkpointLoad = True\n",
    "        checkdirs.append(dirpath)\n",
    "    if not files:\n",
    "        print dirpath, 'is empty'\n",
    "        checkpointLoad = False\n",
    "        \n",
    "\n",
    "        "
   ]
  },
  {
   "cell_type": "markdown",
   "metadata": {},
   "source": [
    "Set physical constants and parameters, including the Rayleigh number (*RA*). "
   ]
  },
  {
   "cell_type": "code",
   "execution_count": 645,
   "metadata": {
    "collapsed": false
   },
   "outputs": [],
   "source": [
    "###########\n",
    "#Physical parameters\n",
    "###########\n",
    "\n",
    "#The Slippy rheology class will contain dimensional and nondimensional values, linked in a self-consistent way by scaling paramters\n",
    "#lowermantle.nondimensional['cohesion']\n",
    "#Where lowermantle is a material class (generated within a rheology class); and non dimensional is a dictionary\n",
    "\n",
    "#UW naming conventions: \n",
    "#module_name, package_name, ClassName, function_name, method_name, \n",
    "#ExceptionName, propertyName GLOBAL_CONSTANT_NAME, globalVarName, instanceVarName, functionParameterName, localVarName\n",
    "###########\n",
    "\n",
    "\n",
    "#dimensional parameter dictionary\n",
    "dp = edict({'LS':2890.*1e3,\n",
    "           'rho':3300,\n",
    "           'g':9.81, \n",
    "           'eta0':1e23,\n",
    "           'k':10**-6,\n",
    "           'a':1.25*10**-5, \n",
    "           'TS':273.,\n",
    "           'TB':2773.,\n",
    "           'deltaT':2500, \n",
    "           'cohesion':1e7, \n",
    "           'E':240000., \n",
    "           'R':8.314,\n",
    "           'V':6.34*(10**-7),\n",
    "           'StALS': 28.*1e3})\n",
    "\n",
    "#non-dimensional parameter dictionary\n",
    "#One draw back of a dictionary structure, is that variables cannot link to other variables\n",
    "RAfac = 20.\n",
    "Stressfac =(RAfac**(2/3.))\n",
    "ndp = edict({'RA':1e6*RAfac,      \n",
    "              'LS':1.,\n",
    "              'eta0':1.,\n",
    "              'StAeta0':0.1,\n",
    "              'k':1.,\n",
    "              'E':11.55,\n",
    "              'V':3.0,\n",
    "              'H':20.,\n",
    "              'TR':(1600./2500.),\n",
    "              'TS':(dp.TS/2500.),\n",
    "              'RD':1.,\n",
    "              'cohesion':1577.*RAfac,\n",
    "              'cohesion_reduce':10.,\n",
    "              'fc':0.1, \n",
    "              'low_visc':RAfac*1e-4,\n",
    "              'up_visc':1e5,\n",
    "              'random_temp': 0.05})\n",
    "\n",
    "\n",
    "#A few parameters defining lengths scales, affects materal transistions etc.\n",
    "MANTLETOCRUST = (27.*1e3)/dp.LS #Crust depth\n",
    "CRUSTTOMANTLE = (300.*1e3)/dp.LS \n",
    "LITHTOMANTLE = (660.*1e3)/dp.LS \n",
    "MANTLETOLITH = (200.*1e3)/dp.LS \n",
    "TOPOHEIGHT = (0.*1e3)/dp.LS  #rock-air topography limits\n",
    "CRUSTTOECL  = (100.*1e3)/dp.LS\n",
    "AVGTEMP = 0.53 #Used to define lithosphere\n",
    "\n",
    "\n",
    "#Switch on additinal physical mechanisms like crust buoyancy, eclogite buoyancy, lower mantle viscosity, melt viscosity reduction \n",
    "\n",
    "crust_bouyancy = False\n",
    "ecl_bouyancy = True\n",
    "lower_mantle = True\n",
    "melt_viscosity_reduction= True\n",
    "\n",
    "\n",
    "#Compositional Rayliegh numbers for air, crust, ecglogite\n",
    "ETAREF = dp.rho*dp.g*dp.a*dp.deltaT*((dp.LS)**3)/(ndp.RA*dp.k) #equivalent dimensional reference viscosity\n",
    "#RC = (3300.*dp.g*(dp.LS)**3)/(ETAREF *dp.k) #Composisitional Rayleigh number for rock-air buoyancy force\n",
    "RCA = (1650.*dp.g*(dp.LS)**3)/(ETAREF *dp.k) #Composisitional Rayleigh number for rock-air buoyancy force\n",
    "COMP_RA_FACT_AIR = RCA/ndp.RA\n",
    "RCC = (100.*dp.g*(dp.LS)**3)/(ETAREF *dp.k) #Composisitional Rayleigh number for crust\n",
    "COMP_RA_FACT_CRUST = RCC/ndp.RA\n",
    "RCE = -1*(100.*dp.g*(dp.LS)**3)/(ETAREF *dp.k) #Composisitional Rayleigh number for eclogite \n",
    "COMP_RA_FACT_ECL = RCE/ndp.RA\n",
    "ndp[\"StA_RA\"] = ndp.RA*COMP_RA_FACT_AIR\n",
    "if crust_bouyancy:\n",
    "    ndp[\"Crust_RA\"] = ndp.RA*COMP_RA_FACT_CRUST\n",
    "else:\n",
    "    ndp[\"Crust_RA\"] = 0.\n",
    "if ecl_bouyancy:\n",
    "    ndp[\"Ecl_RA\"] = ndp.RA*COMP_RA_FACT_ECL\n",
    "else:\n",
    "    ndp[\"Ecl_RA\"] = 0.\n",
    "    \n",
    "\n",
    "\n",
    "#######################To be replaced soon\n",
    "#Physical parameters that can be defined with STDIN,\n",
    "#The == '-f': check is a a hack check to see cover the notebook case\n",
    "if len(sys.argv) == 1:\n",
    "    ndp.cohesion = ndp.cohesion\n",
    "elif sys.argv[1] == '-f':\n",
    "    ndp.cohesion = ndp.cohesion\n",
    "else:\n",
    "    ndp.cohesion = float(sys.argv[1])*newvisc"
   ]
  },
  {
   "cell_type": "code",
   "execution_count": 592,
   "metadata": {
    "collapsed": false
   },
   "outputs": [],
   "source": [
    "###########\n",
    "#Boundary layer / slab paramaters\n",
    "###########\n",
    "velmy = 0.01 #m/y\n",
    "vel = mpy_to_kmpma(velmy) #km/my\n",
    "off = -0.0 #dimensionless offset\n",
    "\n",
    "#Slab perturbation paramaters\n",
    "Roc = 450.\n",
    "Crust = 35.\n",
    "theta = 89.\n"
   ]
  },
  {
   "cell_type": "code",
   "execution_count": 593,
   "metadata": {
    "collapsed": false
   },
   "outputs": [],
   "source": [
    "###########\n",
    "#Model setup parameters\n",
    "###########\n",
    "\n",
    "stickyAir = True\n",
    "\n",
    "MINX = -1.\n",
    "MINY = 0.\n",
    "MAXX = 1.0\n",
    "\n",
    "#MAXY = 1.035\n",
    "MAXY = 1.\n",
    "\n",
    "if MINX == 0.:\n",
    "    squareModel = True\n",
    "else: \n",
    "    squareModel = False\n",
    "    \n",
    "    \n",
    "dim = 2          # number of spatial dimensions\n",
    "\n",
    "\n",
    "#MESH STUFF\n",
    "\n",
    "RES = 64\n",
    "\n",
    "#######################To be replaced soon\n",
    "#Physical parameters that can be defined with STDIN,\n",
    "#The == '-f': check is a a hack check to see cover the notebook case\n",
    "if len(sys.argv) == 1:\n",
    "    ndp.cohesion = ndp.cohesion\n",
    "elif sys.argv[1] == '-f':\n",
    "    ndp.cohesion = ndp.cohesion\n",
    "else:\n",
    "    ndp.cohesion = float(sys.argv[1])*newvisc1\n",
    "\n",
    "\n",
    "if MINX == 0.:\n",
    "    Xres = RES\n",
    "else:\n",
    "    Xres = 2*RES\n",
    "\n",
    "if stickyAir:\n",
    "    Yres = RES\n",
    "    MAXY = 1. + dp.StALS/dp.LS #150km\n",
    "    \n",
    "else:\n",
    "    Yres = RES\n",
    "    MAXY = 1.\n",
    "\n",
    "\n",
    "periodic = [False, False]\n",
    "elementType = \"Q1/dQ0\"\n",
    "#elementType =\"Q2/DPC1\"\n",
    "\n",
    "refineMesh = True\n",
    "\n",
    "\n",
    "#System/Solver stuff\n",
    "\n",
    "PIC_integration=True\n",
    "ppc = 25"
   ]
  },
  {
   "cell_type": "code",
   "execution_count": 594,
   "metadata": {
    "collapsed": false
   },
   "outputs": [],
   "source": [
    "###########\n",
    "#Model Runtime parameters\n",
    "###########\n",
    "\n",
    "swarm_update = 10\n",
    "swarm_repop = 100\n",
    "files_output = 1e6\n",
    "gldbs_output = 5\n",
    "images_output = 1e6\n",
    "checkpoint_every = 500\n",
    "metric_output = 20\n",
    "sticky_air_temp = 20\n",
    "\n",
    "comm.Barrier() #Barrier here so not procs run the check in the next cell too early \n",
    "\n",
    "#assert metric_output <= checkpoint_every, 'Checkpointing should run less or as ofen as metric output'\n",
    "#assert (metric_output >= swarm_update), 'Swarm update is needed before checkpointing'\n",
    "#assert metric_output >= sticky_air_temp, 'Sticky air temp should be updated more frequently that metrics'\n"
   ]
  },
  {
   "cell_type": "code",
   "execution_count": null,
   "metadata": {
    "collapsed": true
   },
   "outputs": [],
   "source": []
  },
  {
   "cell_type": "code",
   "execution_count": 595,
   "metadata": {
    "collapsed": false
   },
   "outputs": [],
   "source": [
    "###########\n",
    "#Model output parameters\n",
    "###########\n",
    "\n",
    "#Do you want to write hdf5 files - Temp, RMS, viscosity, stress?\n",
    "writeFiles = True\n",
    "loadTemp = True\n",
    "\n",
    "    "
   ]
  },
  {
   "cell_type": "code",
   "execution_count": 596,
   "metadata": {
    "collapsed": false
   },
   "outputs": [],
   "source": [
    "mesh = uw.mesh.FeMesh_Cartesian( elementType = elementType,\n",
    "                                 elementRes  = (Xres, Yres), \n",
    "                                 minCoord    = (MINX,MINY), \n",
    "                                 maxCoord=(MAXX,MAXY), periodic=periodic)\n",
    "\n",
    "\n",
    "\n",
    "velocityField       = uw.mesh.MeshVariable( mesh=mesh,         nodeDofCount=dim )\n",
    "pressureField       = uw.mesh.MeshVariable( mesh=mesh.subMesh, nodeDofCount=1 )\n",
    "temperatureField    = uw.mesh.MeshVariable( mesh=mesh,         nodeDofCount=1 )\n",
    "temperatureDotField = uw.mesh.MeshVariable( mesh=mesh,         nodeDofCount=1 )"
   ]
  },
  {
   "cell_type": "code",
   "execution_count": 597,
   "metadata": {
    "collapsed": false
   },
   "outputs": [
    {
     "data": {
      "text/plain": [
       "(128, -1.0, [False, False], 'Q1/dQ0')"
      ]
     },
     "execution_count": 597,
     "metadata": {},
     "output_type": "execute_result"
    }
   ],
   "source": [
    "Xres, MINX, periodic, elementType"
   ]
  },
  {
   "cell_type": "markdown",
   "metadata": {},
   "source": [
    "Create Finite Element (FE) variables for the velocity, pressure and temperature fields. The last two of these are scalar fields needing only one value at each mesh point, while the velocity field contains a vector of *dim* dimensions at each mesh point."
   ]
  },
  {
   "cell_type": "markdown",
   "metadata": {},
   "source": [
    "Create some dummy fevariables for doing top and bottom boundary calculations."
   ]
  },
  {
   "cell_type": "markdown",
   "metadata": {},
   "source": [
    "## Refine mesh"
   ]
  },
  {
   "cell_type": "code",
   "execution_count": 598,
   "metadata": {
    "collapsed": false
   },
   "outputs": [
    {
     "name": "stdout",
     "output_type": "stream",
     "text": [
      "Min\n",
      "(128, 0.0078140624999999998, 1.5001999999999998, 0.99960000000000093)\n",
      "('edges', 128)\n",
      "-- iteration 0 --\n",
      "| F( p_n ) |^2: 0.000125834660797\n",
      "| p_n+1 - p_n |^2: 1.06884342198\n",
      "-- iteration 1 --\n",
      "| F( p_n ) |^2: 4.05552698039e-31\n",
      "Min, Max element width: \n",
      "0.00781\n",
      "0.02344\n"
     ]
    }
   ],
   "source": [
    "#X-Axis\n",
    "\n",
    "if refineMesh:\n",
    "    mesh.reset()\n",
    "    axis = 0\n",
    "    origcoords = np.linspace(mesh.minCoord[axis], mesh.maxCoord[axis], mesh.elementRes[axis] + 1)\n",
    "    edge_rest_lengths = np.diff(origcoords)\n",
    "\n",
    "    deform_lengths = edge_rest_lengths.copy()\n",
    "    min_point =  (abs(mesh.maxCoord[axis]) - abs(mesh.minCoord[axis]))/2.\n",
    "    el_reduction = 0.5001\n",
    "    dx = mesh.maxCoord[axis] - min_point\n",
    "\n",
    "    deform_lengths = deform_lengths - \\\n",
    "                                    ((1.-el_reduction) *deform_lengths[0]) + \\\n",
    "                                    abs((origcoords[1:] - min_point))*((0.5*deform_lengths[0])/dx)\n",
    "\n",
    "    #print(edge_rest_lengths.shape, deform_lengths.shape)\n",
    "\n",
    "    sp.deform_1d(deform_lengths, mesh,axis = 'x',norm = 'Min', constraints = [])"
   ]
  },
  {
   "cell_type": "code",
   "execution_count": 599,
   "metadata": {
    "collapsed": false
   },
   "outputs": [],
   "source": [
    "axis = 1\n",
    "orgs = np.linspace(mesh.minCoord[axis], mesh.maxCoord[axis], mesh.elementRes[axis] + 1)\n",
    "\n",
    "value_to_constrain = 1.\n",
    "\n",
    "\n",
    "yconst = [(sp.find_closest(orgs, value_to_constrain), np.array([1.,0]))]\n"
   ]
  },
  {
   "cell_type": "code",
   "execution_count": 600,
   "metadata": {
    "collapsed": false
   },
   "outputs": [
    {
     "name": "stdout",
     "output_type": "stream",
     "text": [
      "Min\n",
      "(64, 0.0078897696799307502, 0.75342330882352937, 1.0313396825396706)\n",
      "('edges', 64)\n",
      "-- iteration 0 --\n",
      "| F( p_n ) |^2: 0.000251641855063\n",
      "| p_n+1 - p_n |^2: 0.550931693977\n",
      "-- iteration 1 --\n",
      "| F( p_n ) |^2: 6.5757984686e-06\n",
      "| p_n+1 - p_n |^2: 2.94490144085e-28\n",
      "Min, Max element width: \n",
      "0.00811\n",
      "0.02363\n"
     ]
    }
   ],
   "source": [
    "#Y-Axis\n",
    "if refineMesh:\n",
    "    #Y-Axis\n",
    "    axis = 1\n",
    "    origcoords = np.linspace(mesh.minCoord[axis], mesh.maxCoord[axis], mesh.elementRes[axis] + 1)\n",
    "    edge_rest_lengths = np.diff(origcoords)\n",
    "\n",
    "    deform_lengths = edge_rest_lengths.copy()\n",
    "    min_point =  (mesh.maxCoord[axis])\n",
    "    el_reduction = 0.5001\n",
    "    dx = mesh.maxCoord[axis]\n",
    "\n",
    "    deform_lengths = deform_lengths - \\\n",
    "                                    ((1.-el_reduction)*deform_lengths[0]) + \\\n",
    "                                    abs((origcoords[1:] - min_point))*((0.5*deform_lengths[0])/dx)\n",
    "\n",
    "    #print(edge_rest_lengths.shape, deform_lengths.shape)\n",
    "\n",
    "    sp.deform_1d(deform_lengths, mesh,axis = 'y',norm = 'Min', constraints = yconst)"
   ]
  },
  {
   "cell_type": "code",
   "execution_count": null,
   "metadata": {
    "collapsed": true
   },
   "outputs": [],
   "source": [
    "\n"
   ]
  },
  {
   "cell_type": "markdown",
   "metadata": {},
   "source": [
    "# ICs and BCs"
   ]
  },
  {
   "cell_type": "code",
   "execution_count": 601,
   "metadata": {
    "collapsed": true
   },
   "outputs": [],
   "source": [
    "# Initialise data.. Note that we are also setting boundary conditions here\n",
    "velocityField.data[:] = [0.,0.]\n",
    "pressureField.data[:] = 0.\n",
    "temperatureField.data[:] = 0.\n",
    "temperatureDotField.data[:] = 0.\n"
   ]
  },
  {
   "cell_type": "markdown",
   "metadata": {},
   "source": [
    "## Temp ICs"
   ]
  },
  {
   "cell_type": "code",
   "execution_count": 602,
   "metadata": {
    "collapsed": true
   },
   "outputs": [],
   "source": [
    "#Age function:\n",
    "def agefunc(x, szloc, vel = 100., dom = (-1.,1.), D = 2890.):\n",
    "    \"\"\"\n",
    "    Create a (linear) age function based on ridges being the sides of the model,\n",
    "    and subduction zone location at the dimesnionaless (model) position \"szloc\"\n",
    "    Args:\n",
    "        x (float): dimenisionless value to get age (horizontal coordinate)\n",
    "        szloc (float): dimensionless (model) horizntal extent\n",
    "        vel(float): in km/my\n",
    "        dom (tuple): domain boundary\n",
    "        D (float): dimensional domain depth\n",
    "        \n",
    "    Returns:\n",
    "        the age in millions of years\n",
    "    Raises:\n",
    "        TypeError: not implemented\n",
    "        ValueError: not implemented\n",
    "    \"\"\"\n",
    "    if x >= szloc:\n",
    "        #distance from ridge in km\n",
    "        dx = (dom[1] - x) * D\n",
    "        age = (dx)/vel\n",
    "    else:\n",
    "        dx = abs(dom[0] - x) * D\n",
    "        age = (dx)/vel\n",
    "    return age \n",
    "\n",
    "\n",
    "def tempfunc(age, kappa, depth,  t0=0.64):\n",
    "    \"\"\"\n",
    "    return dimensionless halfspace cooling model fucntion,\n",
    "    Args:\n",
    "        age (float): millions or years\n",
    "        kappa (float): diffusivity, m**2/s\n",
    "        depth (float): kilometers\n",
    "        t0 (float): the initial temperature of the halfspace\n",
    "    Returns:\n",
    "        dimensionless temp (0. - 1.)\n",
    "    Raises:\n",
    "        TypeError: not implemented\n",
    "        ValueError: not implemented\n",
    "    \"\"\"\n",
    "    #1000 in line below to convert back to km\n",
    "    secs = myts(age)\n",
    "    temp = t0*math.erf((depth)/(2*math.sqrt(secs*kappa)/1000))\n",
    "    return temp\n",
    "                       \n",
    "def lithdepthfunc(age, kappa):\n",
    "    \"\"\"\n",
    "    returns depth or thermal lithosphere in kilometers\n",
    "    Args:\n",
    "        age (float): millions or years\n",
    "        kappa (float): diffusivity, m**2/s\n",
    "    Returns:\n",
    "        depth kilometers\n",
    "    Raises:\n",
    "        TypeError: not implemented\n",
    "        ValueError: not implemented\n",
    "    \"\"\"\n",
    "    depth_metres = 2.32*math.sqrt(myts(age)*kappa)\n",
    "    return depth_metres/1000."
   ]
  },
  {
   "cell_type": "code",
   "execution_count": 603,
   "metadata": {
    "collapsed": false
   },
   "outputs": [],
   "source": [
    "#agefunc(0.2, off, vel = vel, dom = (MINX,MAXX))"
   ]
  },
  {
   "cell_type": "code",
   "execution_count": 604,
   "metadata": {
    "collapsed": false
   },
   "outputs": [],
   "source": [
    "#Make the thermal boundary layer\n",
    "#Including a fudge that can reduce the depth of the thermal lithosphere\n",
    "fudge = 1.\n",
    "\n",
    "for index, coord in enumerate(mesh.data):\n",
    "    xloc = coord[0]\n",
    "    agema = agefunc(xloc, off, vel = vel, dom = (MINX,MAXX))\n",
    "    #print(agema)\n",
    "    if (1.-coord[1]) < (lithdepthfunc(agema, dp.k)*1e3/dp.LS)*fudge: #comparison of dimensionless (model) lengths\n",
    "        zlockm = ((1.- coord[1])* dp.LS)/1e3 # dimensional depth kms\n",
    "        t = tempfunc(agema, dp.k, zlockm,  t0=0.64)\n",
    "        temperatureField.data[index] = t        \n",
    "    else:\n",
    "        temperatureField.data[index] = 0.64"
   ]
  },
  {
   "cell_type": "code",
   "execution_count": 605,
   "metadata": {
    "collapsed": false
   },
   "outputs": [
    {
     "data": {
      "text/plain": [
       "0.06375414758206731"
      ]
     },
     "execution_count": 605,
     "metadata": {},
     "output_type": "execute_result"
    }
   ],
   "source": [
    "(lithdepthfunc(200., dp.k)*1e3)/dp.LS"
   ]
  },
  {
   "cell_type": "code",
   "execution_count": 606,
   "metadata": {
    "collapsed": false
   },
   "outputs": [
    {
     "data": {
      "text/plain": [
       "0.0"
      ]
     },
     "execution_count": 606,
     "metadata": {},
     "output_type": "execute_result"
    }
   ],
   "source": [
    "(lithdepthfunc(agema, dp.k)*1e3/dp.LS)"
   ]
  },
  {
   "cell_type": "markdown",
   "metadata": {},
   "source": [
    "## Slab perturbation"
   ]
  },
  {
   "cell_type": "code",
   "execution_count": 607,
   "metadata": {
    "collapsed": true
   },
   "outputs": [],
   "source": [
    "import shapely\n",
    "from shapely.geometry.point import Point\n",
    "from shapely.geometry import Polygon\n"
   ]
  },
  {
   "cell_type": "code",
   "execution_count": 608,
   "metadata": {
    "collapsed": false
   },
   "outputs": [
    {
     "data": {
      "text/plain": [
       "221.4829042829265"
      ]
     },
     "execution_count": 608,
     "metadata": {},
     "output_type": "execute_result"
    }
   ],
   "source": [
    "lithdepthfunc(agefunc(off, off, vel), dp.k)"
   ]
  },
  {
   "cell_type": "code",
   "execution_count": 609,
   "metadata": {
    "collapsed": false
   },
   "outputs": [
    {
     "data": {
      "text/plain": [
       "3.2327199147519783e-09"
      ]
     },
     "execution_count": 609,
     "metadata": {},
     "output_type": "execute_result"
    }
   ],
   "source": [
    "MANTLETOCRUST/dp.LS"
   ]
  },
  {
   "cell_type": "code",
   "execution_count": 610,
   "metadata": {
    "collapsed": false
   },
   "outputs": [],
   "source": [
    "#Setup slab perturbation params (mostly dimensionles / model params here)\n",
    "phi = 90. - theta\n",
    "RocM = (Roc/dp.LS)*1e3\n",
    "CrustM = MANTLETOCRUST\n",
    "slabdepth = lithdepthfunc(agefunc(off, off, vel), dp.k)\n",
    "slabdepthM = (lithdepthfunc(agefunc(off, off, vel), dp.k)/dp.LS)*1e3\n",
    "Org = (0.+off, 1.-RocM)\n",
    "\n",
    "\n",
    "#Shapely stuff\n",
    "\n",
    "Oc = Point(Org).buffer(RocM)\n",
    "Ic = Point(Org).buffer(RocM - slabdepthM)\n",
    "Cc = Point(Org).buffer(RocM - CrustM)\n",
    "dx = (RocM)/(np.math.tan((np.math.pi/180.)*phi))\n",
    "if off > 1: \n",
    "    ptx = off + dx\n",
    "else:\n",
    "    ptx = off - dx\n",
    "#ptx = -1*(Rc)/(np.math.tan((np.math.pi/180.)*phi))\n",
    "coords = ((0.+off, 1), (0.+off, 1.-RocM), (ptx, 1.))\n",
    "Tri = Polygon(coords)\n",
    "slabshape = Oc.difference(Ic).intersection(Tri)\n",
    "crustshape = Oc.difference(Cc).intersection(Tri)"
   ]
  },
  {
   "cell_type": "code",
   "execution_count": 611,
   "metadata": {
    "collapsed": false
   },
   "outputs": [],
   "source": [
    "#%matplotlib inline\n",
    "#from geopandas import GeoSeries\n",
    "#shapes = GeoSeries((crustshape, slabshape))\n",
    "#shapes.plot()"
   ]
  },
  {
   "cell_type": "code",
   "execution_count": 612,
   "metadata": {
    "collapsed": false
   },
   "outputs": [],
   "source": [
    "#Assign temperatures in the perturbation region\n",
    "\n",
    "for index, coord in enumerate(mesh.data):\n",
    "    pt = Point(coord)\n",
    "    if pt.within(slabshape):\n",
    "        #print(\"true\")\n",
    "        sd = (pt.distance(Oc.boundary)*dp.LS)/1e3\n",
    "        if sd < (lithdepthfunc(agefunc(off, off, vel = vel, dom = (MINX,MAXX)), dp.k))*fudge:\n",
    "            t = tempfunc(agefunc(off, off, vel = vel, dom = (MINX,MAXX)), dp.k, sd, t0=0.64)\n",
    "            temperatureField.data[index] = t\n",
    "        else: \n",
    "            temperatureField.data[index] = 0.64"
   ]
  },
  {
   "cell_type": "code",
   "execution_count": 613,
   "metadata": {
    "collapsed": false
   },
   "outputs": [
    {
     "data": {
      "text/plain": [
       "2479.5430282896605"
      ]
     },
     "execution_count": 613,
     "metadata": {},
     "output_type": "execute_result"
    }
   ],
   "source": [
    "(pt.distance(Oc.boundary)*dp.LS)/1e3"
   ]
  },
  {
   "cell_type": "code",
   "execution_count": 614,
   "metadata": {
    "collapsed": false
   },
   "outputs": [],
   "source": [
    "# Get the actual sets \n",
    "#\n",
    "#  HJJJJJJH\n",
    "#  I      I\n",
    "#  I      I\n",
    "#  I      I\n",
    "#  HJJJJJJH\n",
    "#  \n",
    "#  Note that H = I & J \n",
    "\n",
    "# Note that we use operator overloading to combine sets\n",
    "# send boundary condition information to underworld\n",
    "IWalls = mesh.specialSets[\"MinI_VertexSet\"] + mesh.specialSets[\"MaxI_VertexSet\"]\n",
    "JWalls = mesh.specialSets[\"MinJ_VertexSet\"] + mesh.specialSets[\"MaxJ_VertexSet\"]\n",
    "TWalls = mesh.specialSets[\"MaxJ_VertexSet\"]\n",
    "BWalls = mesh.specialSets[\"MinJ_VertexSet\"]"
   ]
  },
  {
   "cell_type": "code",
   "execution_count": null,
   "metadata": {
    "collapsed": true
   },
   "outputs": [],
   "source": []
  },
  {
   "cell_type": "code",
   "execution_count": 615,
   "metadata": {
    "collapsed": false
   },
   "outputs": [],
   "source": [
    "# Now setup the dirichlet boundary condition\n",
    "# Note that through this object, we are flagging to the system \n",
    "# that these nodes are to be considered as boundary conditions. \n",
    "# Also note that we provide a tuple of sets.. One for the Vx, one for Vy.\n",
    "freeslipBC = uw.conditions.DirichletCondition(     variable=velocityField, \n",
    "                                              indexSetsPerDof=(IWalls, JWalls) )\n",
    "\n",
    "# also set dirichlet for temp field\n",
    "tempBC = uw.conditions.DirichletCondition(     variable=temperatureField, \n",
    "                                              indexSetsPerDof=(JWalls,) )"
   ]
  },
  {
   "cell_type": "markdown",
   "metadata": {},
   "source": [
    "##Add Random 125 K temp perturbation\n"
   ]
  },
  {
   "cell_type": "markdown",
   "metadata": {
    "collapsed": true
   },
   "source": [
    "tempNump = temperatureField.data\n",
    "\n",
    "#In gerneral we only want to do this on the initial setup, not restarts\n",
    "\n",
    "if not checkpointLoad:\n",
    "    for index, coord in enumerate(mesh.data):\n",
    "        pertCoeff = (0.05*(np.random.rand(1)[0] - 0.5)) #this should create values between [-0.5,0.5] from uniform dist.\n",
    "        ict = tempNump[index]\n",
    "        tempNump[index] = ict + pertCoeff"
   ]
  },
  {
   "cell_type": "markdown",
   "metadata": {},
   "source": [
    "##Reset bottom Dirichlet conds."
   ]
  },
  {
   "cell_type": "code",
   "execution_count": 616,
   "metadata": {
    "collapsed": false
   },
   "outputs": [],
   "source": [
    "\n",
    "# Set temp boundaries \n",
    "# on the boundaries\n",
    "for index in mesh.specialSets[\"MinJ_VertexSet\"]:\n",
    "    temperatureField.data[index] = ndp.TR\n",
    "for index in mesh.specialSets[\"MaxJ_VertexSet\"]:\n",
    "    temperatureField.data[index] = ndp.TS"
   ]
  },
  {
   "cell_type": "code",
   "execution_count": 617,
   "metadata": {
    "collapsed": false
   },
   "outputs": [],
   "source": [
    "\n",
    "figVelocityMag = glucifer.Figure(figsize=(1024,384))\n",
    "figVelocityMag.append( glucifer.objects.Surface(mesh, temperatureField) )\n",
    "figVelocityMag.show()\n",
    "figVelocityMag.append(glucifer.objects.Mesh(mesh))\n",
    "figVelocityMag.save_database('test.gldb')"
   ]
  },
  {
   "cell_type": "code",
   "execution_count": null,
   "metadata": {
    "collapsed": true
   },
   "outputs": [],
   "source": []
  },
  {
   "cell_type": "markdown",
   "metadata": {},
   "source": [
    "# Particles"
   ]
  },
  {
   "cell_type": "code",
   "execution_count": 618,
   "metadata": {
    "collapsed": false
   },
   "outputs": [],
   "source": [
    "###########\n",
    "#Material Swarm and variables\n",
    "###########\n",
    "\n",
    "gSwarm = uw.swarm.Swarm(mesh=mesh)\n",
    "materialVariable = gSwarm.add_variable( dataType=\"char\", count=1 )\n",
    "rockIntVar = gSwarm.add_variable( dataType=\"double\", count=1 )\n",
    "airIntVar = gSwarm.add_variable( dataType=\"double\", count=1 )\n",
    "lithIntVar = gSwarm.add_variable( dataType=\"double\", count=1 )\n",
    "dummyIntVar = gSwarm.add_variable( dataType=\"double\", count=1 ) #This one is used so we can safely ignore values in the air region\n",
    "\n",
    "varlist = [materialVariable, rockIntVar, airIntVar, lithIntVar]\n",
    "varnames = ['materialVariable', 'rockIntVar', 'airIntVar', 'lithIntVar']"
   ]
  },
  {
   "cell_type": "code",
   "execution_count": 619,
   "metadata": {
    "collapsed": false
   },
   "outputs": [],
   "source": [
    "###########\n",
    "#Swarms for surface integrals when using Sticky air\n",
    "###########\n",
    "\n",
    "snum = 1000.\n",
    "dx = (mesh.data[:,0].max()- mesh.data[:,0].min())/snum\n",
    "yp = 0.9947 #1. - yelsize/2. at res = 96\n",
    "\n",
    "mesh.data[:,0].max()\n",
    "xps = np.linspace(mesh.data[:,0].min(),mesh.data[:,0].max(), snum)\n",
    "yps = [yp for i in xps]\n",
    "\n",
    "surfintswarm = uw.swarm.Swarm( mesh=mesh )\n",
    "dumout = surfintswarm.add_particles_with_coordinates(np.array((xps,yps)).T)\n",
    "\n",
    "yps = [ 1.- yp  for i in xps]\n",
    "\n",
    "baseintswarm = uw.swarm.Swarm( mesh=mesh)\n",
    "dumout = baseintswarm.add_particles_with_coordinates(np.array((xps,yps)).T)"
   ]
  },
  {
   "cell_type": "code",
   "execution_count": 620,
   "metadata": {
    "collapsed": false
   },
   "outputs": [
    {
     "data": {
      "text/plain": [
       "15316.999999999918"
      ]
     },
     "execution_count": 620,
     "metadata": {},
     "output_type": "execute_result"
    }
   ],
   "source": [
    "(1. - yp)*dp.LS"
   ]
  },
  {
   "cell_type": "markdown",
   "metadata": {},
   "source": [
    "#Initialise swarm variables, or Swarm checkpoint load"
   ]
  },
  {
   "cell_type": "code",
   "execution_count": 621,
   "metadata": {
    "collapsed": false
   },
   "outputs": [],
   "source": [
    "mantleIndex = 0\n",
    "lithosphereIndex = 1\n",
    "eclIndex = 2\n",
    "crustIndex = 3\n",
    "airIndex = 4\n",
    "\n",
    "\n",
    "\n",
    "\n",
    "if checkpointLoad:\n",
    "    checkpointLoadDir = natsort.natsorted(checkdirs)[-1]\n",
    "    temperatureField.load(os.path.join(checkpointLoadDir, \"temperatureField\" + \".hdf5\"))\n",
    "    pressureField.load(os.path.join(checkpointLoadDir, \"pressureField\" + \".hdf5\"))\n",
    "    velocityField.load(os.path.join(checkpointLoadDir, \"velocityField\" + \".hdf5\"))\n",
    "    gSwarm.load(os.path.join(checkpointLoadDir, \"swarm\" + \".h5\"))\n",
    "    for ix in range(len(varlist)):\n",
    "        varb = varlist[ix]\n",
    "        varb.load(os.path.join(checkpointLoadDir,varnames[ix] + \".h5\"))\n",
    "\n",
    "else:\n",
    "\n",
    "    # Layouts are used to populate the swarm across the whole domain\n",
    "    # Create the layout object\n",
    "    layout = uw.swarm.layouts.PerCellRandomLayout(swarm=gSwarm, particlesPerCell=ppc)\n",
    "    # Now use it to populate.\n",
    "    gSwarm.populate_using_layout( layout=layout )\n",
    "\n",
    "    # Lets initialise the 'materialVariable' data to represent different materials\n",
    "    # Set the material to heavy everywhere via the numpy array\n",
    "    materialVariable.data[:] = mantleIndex\n",
    "    \n",
    "    \n",
    "    #Set initial air and crust materials (allow the graph to take care of lithsophere)\n",
    "    #########\n",
    "    #This initial material setup will be model dependent\n",
    "    #########\n",
    "    for particleID in range(gSwarm.particleCoordinates.data.shape[0]):\n",
    "        if (1. - gSwarm.particleCoordinates.data[particleID][1]) < 0:\n",
    "                 materialVariable.data[particleID] = airIndex\n",
    "        elif (1. - gSwarm.particleCoordinates.data[particleID][1]) < MANTLETOCRUST:\n",
    "                 materialVariable.data[particleID] = crustIndex\n"
   ]
  },
  {
   "cell_type": "code",
   "execution_count": null,
   "metadata": {
    "collapsed": true
   },
   "outputs": [],
   "source": []
  },
  {
   "cell_type": "markdown",
   "metadata": {},
   "source": [
    "#Material Graphs"
   ]
  },
  {
   "cell_type": "code",
   "execution_count": 623,
   "metadata": {
    "collapsed": false
   },
   "outputs": [],
   "source": [
    "##############\n",
    "#Important: This is a quick fix for a bug that arises in parallel runs\n",
    "##############\n",
    "material_list = [0,1,2,3,4]\n"
   ]
  },
  {
   "cell_type": "code",
   "execution_count": 624,
   "metadata": {
    "collapsed": false
   },
   "outputs": [
    {
     "name": "stdout",
     "output_type": "stream",
     "text": [
      "unique values after swarm has loaded:[0 3 4]\n"
     ]
    }
   ],
   "source": [
    "print( \"unique values after swarm has loaded:\" + str(np.unique(materialVariable.data[:])))\n"
   ]
  },
  {
   "cell_type": "code",
   "execution_count": 625,
   "metadata": {
    "collapsed": false
   },
   "outputs": [],
   "source": [
    "\n",
    "\n",
    "#All depth conditions are given as (km/D) where D is the length scale,\n",
    "#note that 'model depths' are used, e.g. 1-z, where z is the vertical Underworld coordinate\n",
    "#All temp conditions are in dimensionless temp. [0. - 1.]\n",
    "\n",
    "#######Graph object\n",
    "DG = nx.DiGraph(field=\"Depth\")\n",
    "\n",
    "#######Nodes\n",
    "#Note that the order of materials, deepest to shallowest is important\n",
    "DG.add_node(0, mat='mantle')\n",
    "DG.add_node(1, mat='lithosphere')\n",
    "DG.add_node(2, mat='ecl')\n",
    "DG.add_node(3, mat='crust')\n",
    "DG.add_node(4, mat='air')\n",
    "\n",
    "\n",
    "labels=dict((n,d['mat']) for n,d in DG.nodes(data=True))\n",
    "pos=nx.spring_layout(DG)\n",
    "\n",
    "\n",
    "#######Edges\n",
    "#anything to air\n",
    "DG.add_edges_from([(0,4),(1,4), (3,4)])\n",
    "DG[0][4]['depthcondition'] = -1*TOPOHEIGHT\n",
    "DG[1][4]['depthcondition'] = -1*TOPOHEIGHT\n",
    "DG[3][4]['depthcondition'] = -1*TOPOHEIGHT\n",
    "\n",
    "\n",
    "#Anything to mantle\n",
    "DG.add_edges_from([(3,0), (1,0), (2,0)])\n",
    "DG[3][0]['depthcondition'] = CRUSTTOMANTLE #Normal crust\n",
    "DG[1][0]['depthcondition'] = LITHTOMANTLE #This means we're going to kill lithosphere at the 660.\n",
    "DG[2][0]['depthcondition'] = CRUSTTOMANTLE #Eclogite crust\n",
    "\n",
    "#Anything to lithsphere\n",
    "DG.add_edges_from([(0,1),(4,1)])\n",
    "DG[0][1]['depthcondition'] = MANTLETOLITH\n",
    "DG[0][1]['avgtempcondition'] = 0.75*AVGTEMP #definition of thermal lithosphere\n",
    "\n",
    "\n",
    "#Anything to crust\n",
    "DG.add_edges_from([(0,3), (1,3), (4,3)])\n",
    "DG[0][3]['depthcondition'] = MANTLETOCRUST\n",
    "DG[1][3]['depthcondition'] = MANTLETOCRUST\n",
    "DG[4][3]['depthcondition'] = TOPOHEIGHT\n",
    "\n",
    "#crust to eclogite\n",
    "DG.add_edges_from([(3,2)])\n",
    "DG[3][2]['depthcondition'] =CRUSTTOECL\n",
    "\n",
    "\n",
    "\n",
    "\n"
   ]
  },
  {
   "cell_type": "code",
   "execution_count": 626,
   "metadata": {
    "collapsed": false
   },
   "outputs": [
    {
     "data": {
      "text/plain": [
       "0.03460207612456748"
      ]
     },
     "execution_count": 626,
     "metadata": {},
     "output_type": "execute_result"
    }
   ],
   "source": [
    "CRUSTTOECL"
   ]
  },
  {
   "cell_type": "code",
   "execution_count": 627,
   "metadata": {
    "collapsed": false
   },
   "outputs": [
    {
     "data": {
      "text/plain": [
       "[0, 1, 2, 3, 4]"
      ]
     },
     "execution_count": 627,
     "metadata": {},
     "output_type": "execute_result"
    }
   ],
   "source": [
    "DG.nodes()"
   ]
  },
  {
   "cell_type": "code",
   "execution_count": 628,
   "metadata": {
    "collapsed": false
   },
   "outputs": [],
   "source": [
    "remove_nodes = []\n",
    "for node in DG.nodes():\n",
    "    if not node in material_list:\n",
    "        remove_nodes.append(node)\n",
    "        \n",
    "for rmnode in remove_nodes:\n",
    "    DG.remove_node(rmnode)"
   ]
  },
  {
   "cell_type": "code",
   "execution_count": 629,
   "metadata": {
    "collapsed": false
   },
   "outputs": [
    {
     "data": {
      "text/plain": [
       "[0, 1, 2, 3, 4]"
      ]
     },
     "execution_count": 629,
     "metadata": {},
     "output_type": "execute_result"
    }
   ],
   "source": [
    "DG.nodes()"
   ]
  },
  {
   "cell_type": "code",
   "execution_count": 630,
   "metadata": {
    "collapsed": true
   },
   "outputs": [],
   "source": [
    "#A Dictionary to map strings in the graph (e.g. 'depthcondition') to particle data arrays\n",
    "\n",
    "particledepths = 1. - gSwarm.particleCoordinates.data[:,1]\n",
    "particletemps = temperatureField.evaluate(gSwarm)[:,0]\n",
    "\n",
    "conditionmap = {}\n",
    "\n",
    "conditionmap['depthcondition'] = {}\n",
    "conditionmap['depthcondition']['data'] = particledepths\n",
    "conditionmap['avgtempcondition'] = {}\n",
    "conditionmap['avgtempcondition']['data'] = particletemps"
   ]
  },
  {
   "cell_type": "code",
   "execution_count": 631,
   "metadata": {
    "collapsed": true
   },
   "outputs": [],
   "source": [
    "def update_swarm(graph, particleIndex):\n",
    "    \"\"\"\n",
    "    This function takes the materials graph (networkx.DiGraph), and a particle index,\n",
    "    then determines if a material update is required \n",
    "    and if so, returns the new materialindex\n",
    "    Args:\n",
    "        graph (networkx.DiGraph): Directed multigraph representing the transformation of material types\n",
    "        particleIndex (int): the particle index as corressponding to the index in the swarm data arrays\n",
    "    Returns:\n",
    "        if update is required the function returns the the new material variable (int) \n",
    "        else returns None\n",
    "    Raises:\n",
    "        TypeError: not implemented\n",
    "        ValueError: not implemented\n",
    "    \"\"\"\n",
    "    ##Egde gives links to other materials, we then query the conditions to see if we should change materials\n",
    "    matId = materialVariable.data[particleIndex][0]\n",
    "    innerchange = False\n",
    "    outerchange = False\n",
    "    for edge in graph[matId]:\n",
    "        if outerchange:\n",
    "            break\n",
    "        for cond in graph[matId][edge].keys():\n",
    "            outerchange = False\n",
    "            if innerchange: #found a complete transition, break inner loop\n",
    "                break\n",
    "            currentparticlevalue = conditionmap[cond]['data'][particleIndex]\n",
    "            crossover = graph[matId][edge][cond]\n",
    "            if ((matId > edge) and (currentparticlevalue > crossover)):\n",
    "                innerchange = False # continue on, \n",
    "                if graph[matId][edge].keys()[-1] == cond:\n",
    "                    outerchange = True\n",
    "                    innerchange = edge\n",
    "                    break\n",
    "            elif ((matId < edge) and (currentparticlevalue < crossover)):\n",
    "                innerchange = False\n",
    "                if graph[matId][edge].keys()[-1] == cond:\n",
    "                    outerchange = True\n",
    "                    innerchange = edge\n",
    "                    break\n",
    "            else:\n",
    "                #condition not met, break outer loop, go to next edge, outerchange should still be False\n",
    "                break\n",
    "    if type(innerchange) == int:\n",
    "        return innerchange"
   ]
  },
  {
   "cell_type": "code",
   "execution_count": 633,
   "metadata": {
    "collapsed": true
   },
   "outputs": [],
   "source": [
    "# Set the material to heavy everywhere via the numpy array\n",
    "materialVariable.data[:] = mantleIndex\n",
    "\n",
    "def in_shape(arr, shape):\n",
    "    \"\"\"\n",
    "    arr: coordinates of point\n",
    "    This function determines whether a point is inside or outside a shape /\n",
    "    \"\"\"\n",
    "    pt = Point(arr[0], arr[1])\n",
    "    return shape.contains(pt)\n",
    "\n",
    "lithtemp = 0.95*0.64\n",
    "tempswarm = temperatureField.evaluate(gSwarm)[:,0]\n",
    "\n",
    "#At this point, we only have to assign any materials that are defined by setup shapes,\n",
    "#the rest of the materials will be assigned using the materials graph\n",
    "\n",
    "for particleID in range(gSwarm.particleCoordinates.data.shape[0]):\n",
    "    if gSwarm.particleCoordinates.data[particleID][1] > (1.0 - CrustM) or in_shape(gSwarm.particleCoordinates.data[particleID], crustshape):\n",
    "        materialVariable.data[particleID] =  crustIndex"
   ]
  },
  {
   "cell_type": "code",
   "execution_count": 634,
   "metadata": {
    "collapsed": false
   },
   "outputs": [],
   "source": [
    "#Cleanse the swarm of its sins\n",
    "#For some Material Graphs, the graph may have to be treaversed more than once\n",
    "\n",
    "check = -1\n",
    "number_updated = 1\n",
    "\n",
    "while number_updated != 0:\n",
    "    number_updated = 0\n",
    "    for particleID in range(gSwarm.particleCoordinates.data.shape[0]):\n",
    "                check = update_swarm(DG, particleID)\n",
    "                if check > -1:\n",
    "                    number_updated += 1\n",
    "                    materialVariable.data[particleID] = check"
   ]
  },
  {
   "cell_type": "code",
   "execution_count": null,
   "metadata": {
    "collapsed": false
   },
   "outputs": [],
   "source": []
  },
  {
   "cell_type": "code",
   "execution_count": 635,
   "metadata": {
    "collapsed": false
   },
   "outputs": [
    {
     "data": {
      "text/html": [
       "<img src='data:image/png;base64,iVBORw0KGgoAAAANSUhEUgAAAoAAAAHgCAIAAAC6s0uzAAAgAElEQVR42uy9Z1RUyfb/XacTDQiSkyhBRKXJQYJIFFCMICgYxzQGFHMO44xxzHHGq+OMiayCKAoqCiqKgiACOqBixCyggErovf8vqmmbMPd5dX/PunfVZ7lYzelz6lTVqdrfXXvXQQ4RCYPBYDAYjP9beKwLGAwGg8FgAsxgMBgMBhNgBoPBYDAYTIAZDAaDwWACzGAwGAwGgwkwg8FgMBhMgBkMBoPBYDABZjAYDAaDCTCDwWAwGAwmwAwGg8FgMAFmMBgMBoMJMIPBYDAYDCbADAaDwWAwAWYwGAwGg8EEmMFgMBgMJsAMBoPBYDCYADMYDAaDwQSYwWAwGAwGE2AGg8FgMJgAMxgMBoPBBJjBYDAYDAYTYAaDwWAwmAAzGAwGg8FgAsxgMBgMBhNgBoPBYDAYTIAZDAaDwWACzGAwGAwGgwkwg8FgMBhMgBkMBoPBYALMYDAYDAaDCTCDwWAwGEyAGQwGg8FgMAFmMBgMBoMJMIPBYDAYDCbADAaDwWAwAWYwGAwGg8EEmMFgMBgMJsAMBoPBYDABZjAYDAaDwQSYwWAwGAwmwAwGg8FgMJgAMxgMBoPBBJjBYDAYDAYTYAaDwWAwmAAzGAwGg8FgAsxgMBgMBhNgBoPBYDCYADMYDAaDwWACzGAwGAwGE2AGg8FgMBhMgBkMBoPBYALMYDAYDAaDCTCDwWAwGEyAGQwGg8FgMAFmMBgMBoMJMIPBYDAYTIAZDAaDwWAwAWYwGAwGgwkwg8FgMBgMJsAMBoPBYDABZjAYDAaDwQSYwWAwGAwmwAwGg8FgMJgAMxgMBoPBBJjBYDAYDCbADAaDwWAwmAAzGAwGg8EEmMFgMBgMBhNgBoPBYDCYADMYDAaDwWACzGAwGAwGE2AGg8FgMBhMgBkMBoPBYALMYDAYDAYTYAaDwWAwGEyAGQwGg8FgAsxgMBgMBoMJMIPBYDAYTIAZDAaDwWAwAWYwGAwGgwkwg8FgMBgMJsAMBoPBYDABZjAYDAaDCTCDwWAwGAwmwAwGg8FgMAFmMBgMBoPBBJjBYDAYDCbADAaDwWAwmAAzGAwGg8EEmMFgMBgMBhNgBoPBYDCYADMYDAaDwWACzGAwGAzG/x8I/tM34DiO9TKDwWAw/utAxP/iFTDHcXl5eV26dEHE5cuXz5s3z9fX19/f39zcnMfjffr0acmSJatXrzYyMkJERCwoKLhw4YJIJELE/fv3I6KRkZGJicmmTZs2btz4/v17W1vbiIiIu3fvGhoa0kv8/f0RMTg4OCIiIjQ0VE1NbcWKFZGRkbNnz0bEcePGLViwYNq0affv30fEhIQEPp/PcdyPP/44c+ZMRLx27VpOTo61tfWOHTsQccSIEebm5oh46NAhWn7//v0R8cuXL+/evQsODjYzM6PHX79+PWXKFES0tLR0cnJCxOrq6nXr1vXt25fWn56Zn58fGhqqr6//119/icViROzXrx8qIJFIunfvXlZWNmXKlG7dusmPCwSCBw8eFBcX6+npnThxIioqisfjpaWl7dmzh8/nnzx5EhE1NDQQccWKFYiYmJgov3bkyJHa2tqIaG5u/vfffxsbGyOim5ubhoZGVFSU/LQFCxYgIsdxBgYGwcHBPB6Pz+f7+PjQWqmoqNAKd+/eHREHDx7co0cPU1PTsLAwgUBQWFhI296tWzdNTU1E7Ny5MyIaGhq+ffuWx+MpKytra2u/fv16xIgRampqmpqa3bt3F4lEDx48WLFiRX19PSJOnjzZ1tZWRUVFR0eHVqmiooKOFmNjYyUlpYCAANqZRUVF4eHhycnJiOjn58fn8xMTE+Pj43ft2hUeHm5hYUEImT179p9//vnjjz/SRmlpaRFCZs6caWpqeuzYMQ0NjWnTpnEcd+DAAaFQ6OTkJJVKVVVV+Xz+mjVrVq1a5e7uLhKJGhoajIyMCCHm5uYBAQGI2KVLly1btgiFwoCAABMTE2Nj4759+wYFBamqqt68eVMoFB4+fFhNTW3QoEF8Pr+8vHzFihWEkKioqE6dOiFiRERERkbG7NmzO3furKur6+Li0rt37yVLlgQHBy9YsIDH45mamnIcJxKJBAIBn8/v1q3bjh07+Hy+q6vr8uXL5f7r77//LhaLDQwMLCwsBAIBx3Hu7u7r1q1TUVGxs7MjhJiZmUVFRQkEAkKIioqKQCAQi8Xdu3cnhPTr12/u3Ln9+/cnhMyfP9/W1tbAwMDe3j47O5sQYmhoqK2tvWTJkv3793fr1s3IyCg5OblLly63b98mhKiqqopEIh6Pd+TIkdTUVDpIzpw5c/369fLycjU1NWVlZdrhkZGR8+fPHzlyJB1aOjo6y5cvX7ZsmVAoRMTw8PBPnz5lZmZ27doVEbOysg4fPpySkjJr1iyxWEzbSIdB7969LSwsdHV1CwoKbGxs+Hy+urp6UFBQRUXF6NGjjx8/vnXr1p07dyopKfF4PERcsmSJs7Pznj17xowZIxaLU1JSPnz44OvrGxIS4uvra2NjM3LkSD6fb2pqSqf206dPqWHdsmWLQCBAxOHDh798+TIqKmratGkJCQmIqKen19DQYGpqyuPx/Pz8ENHAwMDKygoR1dTU7ty5ExgYiIjjx4/38fGxsLDIzMxExH/961+IOH/+fDqYlZWVIyIiEJHP5yOiWCxevHjxqlWrPD0979y58+nTJ/lMrK2tpcaH4zgejzd27NizZ89aWlpKJJKoqCgHB4fjx49bWFgg4vTp06dMmdKrVy+BQLB582ba84GBgceOHaNFZWZm0q7bsmULIpqYmNA2IqKNjU1UVNTOnTv79++vpqYmFot1dXURccKECZWVlfTaOXPmbNmy5aefflJVVR0/fjw1L0Kh8NSpU1++fJHbHAod4U1NTZmZmUOHDu3Tp098fPzFixc1NDRycnLmzJmDiCKRiJr3Tp06iUSi1atXW1hYnDp1ChHt7e0XLFhAx090dDTHcX/88cfRo0fl1uDo0aOIuGzZMlo9amcIIWvWrHn06BEizpo1CxEHDhzI5/N/++235uZmWtTPP/9M72hgYFBYWBgeHl5QUDBx4kRa7C+//IKIY8aMQUQtLS35z2HDhlFTg4iPHj3i8/n/Rwr/n4MQMn36dDMzMz6f//PPP1tbW48ePRoRjx079urVKy8vLxcXF3Nzczq26ECh5v7Zs2f29vZ8Pj8hIeHFixcbNmyQlzljxgwNDQ36MCj6+vqI+PbtW/rIDQ0NBw0atH379rlz5yLi2bNn7e3tvby83NzcTExMaK10dHRMTU0tLS0R0dfX99q1a4gYEhJCC1RVVU1KSurcufPWrVtDQkLo4yGEHDx48Pr168uWLdu3bx8iLly4cPXq1RzH9e7dm44nRExLSxOJRH379uXz+VSY6aQdNmyYj4+Pj48Px3FKSkqenp4cx1EJ37FjBxUVRNy7dy+9V0NDA5/Ppz0TFxenOOLv3btHVWrx4sV0niPigAEDCCH5+fmGhob79++Pjo6ePXv23LlzeTwebaaHh8cvv/wybtw42l1U2Kj7wuPx6K9CoXDSpEmhoaH79u2rra09e/ZsWloaIiopKSHi9u3bd+zY0atXLx6PN3XqVER88OABInp6elpaWhJCPDw8Zs+ebWdnh4ilpaXW1tZ2dnaBgYEaGhrJycnLli0zNja2tbUViUR04PXp02fDhg1LliyhlvT9+/cGBgZRUVEHDx5ExMjISG1tbT6f7+XlJRQKaf9s2rSJGh1zc3PqhcgNsY+Pz8mTJwcMGODt7f3DDz9wHEen3Ny5c8ViMX1GAoFAR0dn2rRp9LkLhUKBQPDhw4czZ86oq6tzHKesrLxx48aSkpKcnBza56dOndLX16fuiJmZWa9evZYsWcJx3Jo1a1auXEklHBEnTZpkaGg4YsSITp06UdfTzs6uU6dOeXl5nTp10tDQmDdvnkgksrOzE4vFy5cv5/F43t7eY8eOlUgkz549u379+pIlS7S1tYVCoVgsVldX9/f35/P5ffr0sbCwoC6X/BkRQsaNG2djYyOX54kTJ6qoqIhEogULFhgZGYnFYh8fnwMHDnTu3JnH43Ech4h0NPJ4vB49etAHKhAIJk6c6OnpuXbtWh6Pt3DhQh0dndDQ0Hnz5mlra9vY2PTt25f2dl1dnZOTU2JiYkBAgJKS0urVq8Vi8ebNmx0dHQcPHsxxnIqKiqWlZVxcnI2NTUZGhoGBAfXkxGIxHfAbN25UVlbW19cnhIhEIh0dncbGxkOHDkVERCxevHjs2LFU5MRi8a5du86dO/f8+fO0tLR79+4pKSl17do1LCwMEdesWSMWi6nzPWfOnKVLl9LqxcbGPnz4cM+ePampqXp6eg4ODoreGyKePHmS+gG1tbXUF6dmd/r06bq6uj169KDiTY8XFxcHBQV5e3sj4qhRo2xtbT9//jxlyhShUKitrR0aGkqNjI2NjZ+fn5KSEvXdOY7T09P7+eef1dXVEdHBwSEkJEQoFC5btozOuB07dty7d8/IyGjVqlVPnjzR09PT19f38vLKyMgYMmQIvbWLi8v48eP5fH5ERASPx3v37t2YMWPkQjtv3jwej6fowWtra5uZmenq6lZXV2tqalpYWJiZmYlEoq9fvz59+nTDhg3Hjx9HRC8vr7KyMrkSl5SUUG2mvxoaGiYmJvJ4PD09PUS8cOECfXDU83j58iUVXRMTEz6fr6+v7+rqOnHixHPnzlGfu7Gxcc+ePdQ0GRsbU9f/48ePFhYW5ubmV69e9fPz09bWpp4x9Q8UNaKiooJ+4DiOmqOysjKqEdSeq6qqIuL9+/f9/Pw8PT0PHTokX7Ddv39/zpw5mpqaVIm/fv2KiFu3bqUd3rVr159++ik4OJiad2oKrK2te/XqJbfzcvdIW1t77ty5nTt3njx5srGx8ZMnT6ZMmfKf1kdE/I8LMCJ+MDLC8+cREcRiRITevXHjRoyPx8ePmywtQSC4dOkSbtkCixYBx+GECYjYTMgXxcaXlr5wccGMDNy2LTQ09Opvv2VlZT3R1QVDQ10tLejUCfh8emL1H3+Avj5ERyMiXe2dd3fHtWtxyxbw8gJbW7x+HV++REQwNcXsbLC0xIQERMTjx7W0tOglXydPxoYGRASOm87nIyJMn/4kNhYRMTubrizpHWHMGDA2/qaq2uDklPqvf+G5c5kiEfTubWBgQOsDJiaIeHLfPkxJQcRbt25hebm5uTmMHg3yBu7e7eTk9MzPT+YOt8wTIAT/+gsRcc8eqmrQpw9mZ0NYGCLSCjTx+TB79pkzZ5pFItDUpP7NZ1XVBULhg+zsBmtrGDgQHB1pgU969vyqoYGIeXl5uHIlIkKvXtevXy/t1g0EAujSBeztqWP46tUresn27t2dnJwgIgIIkRJyWlkZP33CzZtnzJhBXdTtGzeCrS14eICWFlhbw7RpUkK+fv0KSkrg5wciEaipZaxefcbVFTQ0MCurQSjEjRu/iESrxo0bO3YsBgZ+1tZ+UVoKc+c+fvzYzc0NCLktEIClJZ/Pf9ipU114OK3J20mT8MABCAgAQqq1telwauI46hpLCQEdnScSyRdb27f6+tCly0c+H8zMmpWVpYaG98aNA4kEETEhYd6oUdSUY2Xla4mkjsejWgtdu9KFframJowaVaqkhBUVoKxcOXMm6Oo2mZuf5vNh+fK3jo7NhLy1t8eff8ZlyzaEhu7bt2/y5Mk1mpqvZs0CQkAk+uuPP8DCIrNHD1djY+jRA3/6qcnAANesAT4fCKnX0ZmipYWImceOSefMwaamsrKyr0pKjTyelJBlSkowfXqjQPADn48nTgAhT1xd8eDBZkKaeTw9PT0pIUUaGsbGxkd69gRjYykhIBS+cHaGkBAg5MLEiaClBaqqQMhajsPlyz+rqS1fvrxOJMKNG+/t3l0uFFLfEXg84DgIDW0kBDp1AmXlJo7LNTFZOnx4jb5+dq9e0LNnoZGRlOOkfD5oaICSUjMhn7t2bebzISoKNDUfqalVi8VgZQWE/C0UfurWDTQ1gRDQ0gINjUNdu/r5+VV17Qoch7/95u3tjb/9BjNm/LVuHSxciIh2dnYwYMBLNzeYPBkEgte9eqUPHFhuaXl52TLMzQUej04BUFPDJ09AKETE0hUrQCIBNTU8dCjfxAQiIsDfH3g8IOSCtTUWF3/48AE4Duzs/jQ0hMmTYeHCod26Acfhvn07J050cnKikw5UVa9mZtbRW6ipgbb2okWLwNoaf/kFOA5TUxHxU3AwLZm6hocPH4ZevcDa+vz58/j06TElpVO9e2NpKSxfDu7uiPjAycnc3BzCwoAQ6ibuHzwYJJKmiAhEBA8PCAqiI3nbtm1gbAxCIXTrhoi5VlaYlWVrawtz5/bo1Ommvz8iligr46NHIBSCldXDWbPOnTsHIhEEBCAi7t07cOBARHzu7Q26ujBiBH75gleugEg0e/ZsBwcH8PICS0sYPnzdunVYWkqXm4gITk6gp4eIuGMHzJr17M8/8du3pxyXlpa254cfoH9/GDAAEXV1dWH27DxHx9DQ0Pfv3z+lfsnx4xgfT8t59uyZj48PXrr09dUr3LoVEfHhQ0QEBwfQ0KABOZg1KyUlBRFh8mSZsb18Gaur6WP9zsOHoKmJiNCpk7OzMyLin3/a2Njgzz8DIe9CQrCoqIHHq1JWpoETsLRERFBWxuZmDA9v0NenazZ6XMb69SAUQufO+P79uylTwNkZevb8qKODiA0NDTh0KDXsn378sZHjYNEimDv3K701Yl1oKKiqIiKIRHL9+q8XYAgOxvv3cdMm4PGgd28MDQUjIxg9GquqqAZg3744YwYi4m+/yUTawkI2/ezsYPZs2QCSSGDAAJgz5/sNLl+GwEAIDgZC8PZtRAQlJTAzw0OHEBGCgnDNGujSBfr1w6IiTE+n8VmsrcUZM3DVKuA4RMSnT+XlgaoqHjkCixZhaSk+eADOzuDoCAsX4rt3OG8enauIiDNnfr+kZUjR0kBdHYyN8fffQUMDCIFZs8DVFYYMAVVVLC/He/egRw/89VdEBBUVGDQI+vVDRKAu8M6dMHQo9dghLAzc3BARNDWpP4HFxYgIAgGePg0hIVhYiEeOAF21X7ggq01SEu7cCSoqoK4ODg4gFIKTE+jqgrc3NjSAsjIi4u3boKIChICJCQgE4OSEiGBvD127wurVuHWrzLcQi3HOHFy6FMRiGDVK5hBs3AgTJ8psd3Q0vnwJAwZgY6N8ckJ0NFhYYHY26Oriq1dgZISzZ+OOHXjxIhgby86xtARXV3z4kFo6RMSffpLVVlUVtLVh8GDo0gWLi4HHAxsbUFYGHg9v3QIHBzAzQ0SZC+LnB336ICKeOwfq6ogIRkYYFoZ//AEcByIR8HjY2AhmZtCzJxACfD6IxWBgAL16QWAgEIJLlwIhMk8oLg40NcHKCng86NwZvL1BWRmUlTErC6hLFBcH3bsDIaChAT16gIMDIuLChaChAQsXwqpVEB4OM2eCnR1YWECXLrRkEItxyxZwdQVCYNAg4PHwxg1QVwdCQCjEW7fA2RkIwRUrgBDgOOA44PPx5UvcuBF695YdEQiAzwceDwcPBl1dGDwYevYEHg8PHYKhQ6FnTxAK6WmICM7OIBaDsjKoqQEhaGcHhICpKdjb01FKdQXCw8HICBwdQUkJy8pgwACZF7t4Mejr44YNcjMEXbvC5MlACHh4ICK4udFaYYvLCAYGuHkzKClhQgJ07QoBAbh9O6irg40N9OgBo0eDigro6UHnzqCvD506QUQEhoYiIpibIyLu2gUGBsDng64uTJggm1NJSWBoCL6+stEoEIC2NoSFUSUGNTWwswOBAIKDQU0NTE3x40fw98eEBKrZQAiOHYvV1TBoEJaVgaoqhIcjIujo0BKo0Qdra1y+HP/4A7p2BY6jCgcWFhgcjEeOyGbBsWO4cyd4eYGKiuxCap1anH4QCkFPD3x8aIBONlrWrQMej7pcePIk7UywtQVCICoKxo8HQ0MwMMANG7CiAoRC0NTEffvA2hpcXTEuDkNCcPNmMDPDHTsQEQ8cgIkTZcZnxgzw9v5ueZYsAS8vWU20tXH0aKBR4oULQVsbU1MhKAjXrUNEGDEClJVh9mywtISW2IDsKezciePGgb6+zP4g4s2bWFmJiDBsGN68CSEhoKwMfD5ERGBVFV69+v3yqCh88gRLS2HmTNDUxGvXMCAA9+yByEj88gX09WVjsqW7EBH69sVLlyAgADduxOPHERF8fNDHRzaAqWMUEQFDhgCfj48e0cEJfD7evYsfPoCVlaygrVvps8A3b75bYD4fT50CPT1wdYUJE2hf0XUOXr4MYjHW1+OXL6CrC716gbExZmTA/PmyLuXz8dAhUFOjVzz+HxBgeWNAIMBFi9qe8fvv0KULTJ+OiGBtDe7uePQo1tbijh346pWsQwUCsLOTFdKnj2wGchzMnAmE4OnT4OJCJQoiI2nQEJyd8ehRUFWF4cNl06a0FBcvBg0NsLHB5mYYMAA8PPDRI1y7Fk+epJMHnJ1ls0hRXJOTQSjET59ASQn375eZJHV1CA4GU9NWo0q+cu3bFx89ggkToG9f3LIFEWHOHHByoioLPB6MG0c9WfD0BI7D4cMxJwcPHcKyMrqegOHDcetW2ZgQCmH0aLo+w7Iy6mnKnMpVq2DgQAgJgYAA3L0b5s3DmzehVy9QVgYbG9mI3L4dESE0FHr2BGVlWbTgzh0wMwNnZ7xyReb3dO2KeXkyJSbke4cTgoMGYVgYBAVhWhrw+dC7t+wrqoXUkgoE6O8vO96zp9ylgMWLZWsOOztsbERE0NAAY2NQUYEBA0AkApEINDRw0ybgONnk37VL9txtbcHCAsRiUFMDY2OYOZNqFejogLW1bN5yHBgbg4MDXrwIfD4IhdRS46ZNMGgQuLmBnh5YWcGPPwIhYG8PnTuDRAI9emBiIujrA58PS5ciInUFQCAAJSWMjYU+fcDaGpydYcYM3LwZV60CQsDICIyNwdYWuncHjgMjIxg4EJcsARcX8PMDPh86dQKhEPT1oUcPPHAAHz0CU1NQUaGrIuA4EApx3z4wNQUDAxg1CtTUoF8/PHgQCMHkZFi5EkQiUFICjoOICBAIgIbaamuBEBg8GCIigOOwuRkEAvDwAFtbmD8fdHVl3eLsDO7uGBEBSkrUyQNCwNcXN2wAsRhEIplDQAg4O8vcYuoQXLoEPJ5sYFtYAJ8PKioypdTQAI4DHR3w94elS/HaNZmJNDICLS3o2hX8/MDXF6dNkw1skQiXLYPhw+mMxl27wMEBw8PB2BiUlMDaGng8Kg+grAw6OtC5Mygpgbk5FhYCIXj5smwIqagAj4ezZilOMejXT9ZwXV1EBH19XLAAEWHkSIiIoM4x9OyJ9fW4di2MHo0LF37XeETQ1gY1NTAzAxsbOqnB3h7GjsUdO4DHw6wsWLoU3NzAwwN8fXHWLODxwMcHdHRARwc0NGRO59ChIBaDigr+9htERSEirF4NCmlR3LUL9PWhd2/8+hUR8dAhCAzE5cvB1JT6czB0KHAcHj2Kp09jQgJ4eoK2NlUXcHODHj3AwABHjsQvX8DCAmiYijpMkyfjw4eyZQY1qleuYEYGjB0rcyz69weRCNTVQSgEsVj2lEUiPHNGNpHpfBk6FGtrcds2cHKC/v3ByAhbEnwgEODVq9CyEwWCgxERN2wAIyOYOxfT0mRtfPdONvcJAbEYDA2xvByXLMENG8DRUaaOhYWgpAQGBuDnBw4OuGULDBwoq0OPHsDng4cHPnmC0dGyRe2AAaCriytWgK6uzOUSCvHsWdDQgF696CSVtc7UVFY9JSWZhZkxA+vrsaICXF2/m8elS2HKFOjdG9esQUQwNgYvL/D1xZs3Zc66uTldnWNlJUyeDDY2wOPhypUwfjxIJDB+PEyaNOR/YwV8+ccfY62tU2j8BPHavHl3pk79WFISY2WV4OyMiGXHjyPi29u3L4wZcz4sDKRSAEAAfP26oboaAWQ9LpWCVIr0K0SgSKWIiOXlCCA7QfGrt29b5LGlEHotvarlcsVf6YXw4QOtQ6vzFarx/V/LfeXnfK9ny4XQ+kbw+rViCQgATU2yb1tqLvvcukx5ZUDeCW2arHCjNlWS90OrE2gD6cGWD/KSFO8F7SvTUh/FJsubgAqXt+neNtWT94Di821VmlQKdXVtCpSdXFXVqhCFLv3e/637E06fBqkUa2pa1UTh2laf/+mgYg3pXc6da/VAOxoboPhw29VZdr6ysszr8vcHsRj09EAgALEYOA7c3GDhQpBK4fLltsW2ue8/tULhcbT9rFCrDj4r3qK2Ftu0q+X5tmp4Y2PH86WlzrKTX73q+KbNzR2O+Q4b+90gtG4aSKWQn9/BHFcottUwU2zRlSvtqy2/BAsLod0IB6kUMzPh2zfFyaLYM4oTEBHx5ctWZkHeQPl8RMTS0u+1VTQpip1Au7q6WvZtc7OiZfh+0zaTvT0K07mVwVSoFSi2pV0DW10oleLr120MAgLghQsdmjXMzu7QRLQxoYo1bDsCW5to+a+XWrZfPf/rL0R8nJxcFhsbY2WFiPEODsm+vpcmTarMzk7x9/98+fJJLy9EzFu37l1BwZbu3f8XBBgRk3196YfzLSm9lP79EbGhpob+mtinz4fiYkRs/vqV6nGSm1tWVFTl1av0s2KxzQ0NsRJJ3atXiPg2L6/NI2k/qhTlBNt8aK0rrSZDR/Pn+3hq/bzb/PynAaRYuOL0aDt0FCupMCGhtefR1pK2cQXajOPWFrlV21tLbJt53t42tTIl/1R5BTnv2ClpXdr3GipO5jbeQ2u9bKM3HUi+gl/SShva+ARtfBEFW9NG0RWfSIeyge1kr1WB//6fr69suePuTkOXYG0NbWSgXSs6VKN/uh3+0/GOXKJWj7j94OlIpNs/6A6djFYq2O+F5nkAACAASURBVM5Hae8rKx7sQDVaD8g2A6m9YrVpYKsKtKmJwrTtYPy3V0RFlfpnz6PDWdOm2A4c+o5c/zYmrv3DamNJ2piyVn3euuZtLBsojIe2/dnOKLWZwh243Qr+RPsJrlhgB/3T0sxYa+t3BQWpAwciIlXNSz/8kLdu3eucnKyWdz2oyj5LTy89eDBGIkkfOTJv7dq6ly8R8YS7+91du94VFCBiRkQEIsba2CS5uaUOGFC0a1f27NnlcXH/Bzng/4s/xBFva+u+aVPt06dJrq5f3r4lhDxPTzf287vy44/VZWWxEgkhhCcUZs+YcapfP75YbDlmzKdHj6CpSd3MzKhfP0KIupkZISRr+vTLU6YQQs6HhBAeT9XQMNHZuWjXruqysgujR3M83tO0tJvLluUsWnR3x444G5tTXl7Fv/9OOO7m0qXxNjaEkJN9+2ZOnnzCw6M8NvZhfHzWjBmpgYHyer64dIluxkMAur9U5kZwnPxtMI7HIxzHcRxBRACCKDvY/qUxjpO/Bk0L5DiO4/EQgJ5Kr6KjTfYBgOPxOB4P5SVwHCJyLZ/p7Qgix3GE4+T3ld2IVowQ2V3otTwerTM9Ti+Rt5Hj8Yi8gbRKiBwhskoqVKPN62W0/O976Wkr6Jn02xYPjJNXu6Ubv3dXy10U+41T6G1aK3nn0P753quKVyn8qvjqOUeI/EHKHwqRX6jYLtpw2g/yIy09hoRg61cD5ZXnFHpD1gnykls6lvzT24QXL5LoaGJrS8Ri8uAB0id18yaXkkKkUlJUxHl7Kw48Iu9SxVa0aTvHcfLz27yIT0eI/EjLB9oW+Vj93sbWj6NVexWeo2zIIX4fwHR2KM6X7/fn5COKdji95PvIlD8s+SUKw0zW8BbtlPU8vUrx+dIZ2lKNVi99yBuIiC0tlbVF3iGKg6H1OG/zIL5XqfXEx5YJLu8lOiu5lmdEFFYpbcdtS5/IatvRn1KQmyDZ1FMY0thm3LbUWb4iojNUcYR8r4nCB/lXHI/HyUd1e1NAn7viU6ZX0pvSIdHamFxfuFA+rxP79Pny9u0pb29CSOHWrY9OnEhwcUlydT3t739t9uyinTuTXF1ryso4Hu90QAAhJM7Oru7582Qfn8ji4ovjxvns35/k6qphaUkI0XN2fp6enrtypbqZ2fuCgqJduzR69CjZv//trVtWU6bw+PyG6uqGT5/qXr5s/vJlxI0bPceM0XVwIIQI1dXzN2xQ1tUNSkioff7cNjraIiys4Ndf/xdeQ5J/LouNfXDkCCJenDDhXGhorK0tPX59/vxvHz8+SU19c+uWtLGReiKIeGX6dEQ84el50tMzyd09ztY2Z/HijMjIzEmTklxd6yor4x0cMiIjU/r3Tw0KOtG3byrNWCC+LyqKs7NDxIzISESMkUgQMdnP786mTQ8TExNdXPLXr78yY8aVadMQ8WFiYoy19ZPUVEQ84eGR0r9/krs7IsbZ2sbZ2mZERn6qqLi9dm3Tly/yhlCvKm3YsEcnT7aJEjd+/gxS6f1Dh0AqVVyat/JV2/vR7SNdrX35jlel7QLObSN17d1VxQV9m2BU61/bOJuKi842HncHS9h/CMPKL+wwPtwqftXa+W0brVIIaWCHbnLrnum4bq3XuB143+3ifopLqw7Wjv8mvNyuMrKanzuHiHjnDmhqglgMhEDnzvDxY6s+/7dL57aLzvaBkNYBw45Xye36898EsdveQmF8KhbVQWCgzQrpn4Mr/z7s30FbFMNIrfM+/7R2bx+tabOKbbOibbUcVJjLbcppFYFT7FWFA21Xlq3Dtm2iwa0CEoqrRsUQTpuEUYdx+/bJgvZx5jbfdpSgeVdQ8OratfPh4XSt8uX9+3t7954PC6suLwepNCUgQHZVczMtJ87W9v5ff92nr3Ignhk0iH64t28fIp4fObLy6lVqhxEx2d//weHDxb/9Fmdre//PP+U9QYOg0sbGSz/88OTsWURMDQ7OW7cuRiKJtbaOsbKiwVRFbq9dm7tqVay1dULL9uacRYvKYmMRMSsqKm3oUES8Mm0aDaxKm5pokLX2xQtETB00CBELt29PcHLaTnd4/beHoB8mJSkezJw0CRFrHj1CxOyWWAHt0De3bhVu3x5rY3OyXz9EfHDkSErL1p7TQUFUVpNbjsil+s2tW+dGjEDE+4cOvbl5s+HTJ0Rs+vo1ViJJGzZMMQfw4vLlmytWJLm6lh0/Hmdre8Ld/WNp6Skfn8rs7G8fP8peGezX75SPz7fq6srsbESMs7OLd3R8feOGXHqvTJ9edf9+2vDhaSEhb3JzTwcFxdrYxEgkMRJJgqNjSv/+0oaGKzNmXJk+PSUwMG348Bgrq48lJXF2dq+uXj0dFEQdgk+PH7/IzJQP99yVK1/n5IBUWrRrFyI+TUtDxOsLF7bRhoeJiSCVNn/71jZIqzi32+loB6HXdlagA1egTVKnI/OhaLI7iE63CV61SxS1svuKkcM2OYXW7kub0KKil9PejrfygVpn9Nvnrf9d6rdNYLx1llqx29vqU2uxl3118SKoqgLd+UwIWFi0iRZ2LPDto81tougdBZY7fqztBbh9sv8f9hN0kBtu3xv/7J200cUONbJtPrL9z47SK20EqcPu6vDaNtd1GIn99//a69k/edUdZP3b97O8i1o/rLYuMgAiNtbXt3FPn6alvbxyJZ2+uSCVnvDwOOHhQSt2d9cuRMyeNYv+enHCBLreKD1wgEZxs6KiYqys/j56NHfVqhPu7jRL+rnlPZEYiYTawOZv37JnzYqztU3287v9yy/1b94gYvFvv50LDX2Wnh5vb0+tHDXRtc+fN9XXI+L5sLBkP78zQ4Y8PnXq4oQJDxMTETHW2hoRE11cSg8eVJSJB0eOUGU9HxYWK5Hc2bQp1tr6It2+ipjo6prg5BRna1u8f7/sNcXbt+nPgs2bETHB2flqdPSFsWMR8dW1a7krVya5uSU4Ob3JzU10cUHEBCenU15eeevXI2LuqlWyl/5bNuHSc/4XXkNKCwmJd3A4FxKCiG9yc9/fvRtnZxdrbU37nZIWEnJvz57616/f371bFht7cdy4l1lZD44ePeXtfW/vXtrdiJg+ciQivrxyBRFrHj68PHWqPDd8feHCBCenc6GhCc7OtO+uTJt2ffHia/Pm3VyxovTgwfKWv2Xx99GjpwMD5aloOXSP2M3ly/PWrqVH4mxt6QCKsbKqevCAVuNTRQUiPkpKoidUZmXRZTq96auWv95AOeHhQV22z8+eIWLhtm3vi4pS+vf//OzZrZ9+OhMcTPMW9CtErEhNTXByirGyipFIXl65kjllyumgoPNhYRUpKbS7klxd6ciuf/Mmb/36c6GhGZGRmZMnZ06eLB/xMRIJAmTPnk3rT6dxeVzc8wsXvlVXt9FOaWNjeXw8SKVvcnPbJ+3a7K9ptURoJ4rQJq3VToqwtda2slPtUuztLfg/Jv8Us4bt9oX9k5lrm2lrt2Ou/TqpY0P8z7nY9jk8WfP79gUbG1yzBnr0wL17ke5i/Tcrv/+vFWEHydQOU9Ht8/Htl/sdiUqrfTStd/+1lZ82+y3aezmtNRv+YXNfxwOpI8+jTRKxrQ/XPsf8D5sMOthA1M6NQMWdRO12+rRyDTvaotGhS4SId379tWjXLgBI9vUFqfTrhw8AkNPywkiMlRUCPExK+lBUhIhZM2c21tZ+fvYs1to6Y/TotJAQRHx/9268vT1dn9xYupQuV1IHDkyPiEh0cbkwdmxZTAxd7ZTHxdFFS9nx458ePy7cuhURk9zdL0+ZQu+VNXMmIuYsXvzo5Em6/Kh5/Lju1au8detibWyuzplDVwjVZWVNX7+e7NfvzKBBZTEx6aNGVaSmnh0yhBrMU97e+Rs2yBdLzd++xdnYIOKdTZtoXPPskCHZs2Y11tVRA57s6/v03LmsGTOolftYXFzX8ncI4h0cchYtOuXldX7kyMJt2y6OHy/biF1QgIinvL3PDBp0Oijo2rx5n58+pc4EpTwu7sHhw3F2dmXHj58LDaXNbGNAqsvKmr9+vb5gwcusLNkWpREj6Ic7mzYhYlSXLv9pAeb+o3/rkuO4eEdH7717DdzdCSGnvL2xuVnf1dVz+/acBQscFi9W0dcnhJzw8Ai7cYMQEmdjE1lcfGbgQIvw8MrsbHVT02fnzzfV148uLb2xZEmnLl1so6O/fvjw/s6dr+/eFWze7Llt25MzZ7z27En29Q25cqWhpkZJQ+NCZKSaiUnXgABjf39CyLnQUIvw8C4+PjSFoKyjo6ShwReLq0pLe/3wQ01ZmYalZePnzxUpKT1Gjfry+rXX3r3XoqNf37gRlpsbb2/ve+DAlR9/HF1SEmdjI1BVFaqo9Bo3rmj3bpPgYC2J5F1+vuf27a9v3CiPianMyrIYObKqpERZV7dTt24Vp06F376dv359Q3W1mqlp9f37SpqaaqamkqlTYyUSwnHBJ09q9OyZNX06NDfXlJUFHD+uamjIE4kIIXWVleUxMV28vfVdXatKS2+tXv3t48c+P/3UxdeXduyl8ePr37wZduECISRWIhldWkqPf3r8+HxoKMfjgVRq4OZWU14ekpVFCLm7Y8fz9HSLkSPv7thh/eOPvSZMeHHpUvcRIyqSk8vj4vpu2aJmYhLv4DDs4sUUP7/Ie/dqnz1LGzaMJxRyHBd++3bOwoX1r15Jfvyxi4/Puzt39Jyc6O3yN2zQc3K6sWSJSF099OrV9wUFuo6OVWVltRUVJgMH5ixcKJk6NX/TJsuIiK4BAc8vXDAJCiLyRCPHEcSG6mqxtjYh5P3duzq2tt/TTgqJNJphorkrTuHg91ScPJOtkPCTp9jpt6iQO2+T4ebkaVSFVKV8N4C8/O9Z5DYf5J85jmvJ2WP7cwgh1dUkKIgUFRFHR6KuTvLySFWVPHHbJlvZJvn6vUrt8+UKd/m+yaBdOW1O/jdnyhrS+tt/Uw35c1Hs9jZ5zVZXtcrSc/JH2WFzFFPUioXIBkbLo5EPCXlKXnGodPhTcRzSct7duaPn7EzXJedDQ5X19e3nztXs3TvZxwcB/A4d4otEaiYmhJDKrCw9Z2dhp05lx49XpKQMPHHi2fnzJgMHnuzbl6+kpKynp6SpWff8+Ze3b9XNzPofPfrp4cOLEyZEFBbeWrXqRWYmNXelBw8+OX168NmzacOGGfbt67h4cd4vvzxOTtaWSOrfvFHr1o0AdA0MtBw9Os7WVt/FxWrq1KLdu+tevFA1MPhWVTU8M/Pa3Ll28+apm5jE29mpGBp+fftWpKERcuVKeUyMXp8+V6ZOdVyypHDLFmhqaqiu1nFwCDh2jHZsrESi1q3bkPPnZfZk4kR1U9M+P/2U5OamYWkZcPQoPZ46YIBmz56vrl4dVVh4bvjwb9XVlpGRWlZWWTNm+OzfX5GS8jwjo4u3t9WUKRXJya+ys0Oys+UPNm/tWutp0zInTVI1Mnqbny/W0BCoqAw+e5bu5oGmJo7H6zVxoqGHR7y9fcTduyl+fmqmpn1Wr36Wnt4jIiJr+vTqv/8eVVDwoahIrKX1OienZP9+Iy+v19evN9XVjczPrykvJzyehoUFISR14ECrSZMeJiRYT5vWNSAgIzKy/uVLs+HDHRYsODt48OCzZ1P8/BwWLnyUlKSkpeW5bdvdHTua6ure3rr1rapKSyL5XFHB8XjfPn4cVVDwvrDw4tixo0tLC7dsyTl4cFZ5+X93Drixrq4iOfnihAllMTGxNjZv8/OT3NySXF2T3NyuRkd/LCm5PHXqKW9vRPz72LETffvGOzjc+ukn6q28v3v3lJcXIl5fsAARb65c+TIr68zgwdlRUfK17+WpU0/5+MS1vLeat3595uTJN5Ysqf77729VVVlRUbXPn8fZ2VWXlV2eOjXe3l72x1zOny/YsuXs0KHnQkOvRkfHSCQ1jx6dGzGCroxPeno+OnGiPD7+YULC4+Tkwu3bq1r+fF28oyMi0ihH3rp1z9LTv338mOTufm3evJxFi+jKOHPy5Fgbm1gbm7x162iMpTwu7nFy8glPz1hra2lT0+enT2mMPW34cFps0e7dyf7+CS4udAl7dujQdwUFJ/r2pWnsE337xlhZJfv6vrh0KdHF5fGpU7Th9Nqs6dNjrKyS3N0vjh2b4OxcevBgoosLjYpfGDPmdGDg5alTMydNqnv5MkYioWGfd3fuyJ9RalBQeXx8wbZtMVZWz9LT7/z6K03PSBsbL06YEGtre3XOnPz16096eiLimeDgyqwsGobKnDz5YVJSnK3tpydP6CUxVlZ/HzuWNWMGdV3PjRgRI5HUVVYmODk11dfHOzikDR9+NTr6pKfn6cDAuJZNAAVbtlycMCHByQkRz4WGpo8cGWdnJ4uVzZ4d7+hY+scf0NwcY2V16YcfYq2tQSqljnD+xo35Gza8zcu7Nm/eg8OHc1evBqn0xtKlIJUmOjun9O8PANLGxuq//64uLy/as6fjDdjt3pL6p/hhB7tA/2FPcocbzpubpJ3EjQKeVKdz45Il2D563DbP3W6l3jb729Gqt212tsPo7r/JtrZfaLaPinf46k5HO8NbbTVov9AEQMS6ykqQSp+mpclP+/T4MUilb27dQoBv1dV0xjV/+5bk7g5SaUNNzf2//gKAk15eCY6ONQ8fxkgkt1avPuHpiYhPz50r3LbtTW7uudDQUz4+dPog4oOjR2kq8W1+PiLeXLaMLu8Q8Wp0dF1lZV1lpTzS9vLKlSdnzz5LT7+7c2esjU15XNy1efMQ8cWlS2khIae8vfPWrSvctu10YCC1Qvf27j0dFBRjZVVdVvbkzJkHf/6JiF8/fkREuuH29Y0beWvX0qVnzqJF36qraUL03Z07sRIJne9ZM2Y8OHw4Y/RoGh39ngHNzj4/YkScnR3d2VsWE0MTqLESyUlPzxR/fzqPUgcMeHv7doxEcufXXy+OH//84sXKq1cLt29/lpFR8/gxPSdz0qSUgAAaf36YkPC05b3eRFfXeAeHC2PGZE6Zkujqmh4RgYjUFtHzafb0VU7OnZborrx6n588oW1PcnevefjwW1VVrLV1Af3zWIhJrq5Jrq6nBwy4s2nTzeXLmxsaMiIj5bFPeqOUgIA4O7vTgYGI+Ljlj3ZRRaBR9KoHD2KtrfPWro13cDgTHJwSEEADyxmRkdVlZcW//XZ3587r8+efDw+/3/IH/J+lp6cNHXqy5e+T0IEh79VEV9dzI0YUbNmS5OpKtwfRwXD7l19oyYh4Y8mS+jdvJrf8jwP/xbugX127lrt6dbfAQMvRo3kCgZ6TU9jNm011dZIff7SbN09LIvE9cKChpoYQ0nPs2BHXr48qKNBzdnZfvz7e3r5w61ZOICCEmAwcKG1oeJeX18Xbe/CZMz3Hjh164ULOggWXp0x5l5fXc8wYnkiUt3Zt0c6daiYmfn/84b5pU/bs2Uqampq9el2NjlY1NEwPD1fW0RlVWFhVWtr4+TM0NzssXFj3/Pmnhw8/3Ls3uqRErKWlrKNDV+qh167dXrOmx6hRFiNH5v3yy6vs7Fs//XR19mxCyKg7d+5s3Pj41KmsGTMaa2vz169/nZOjoq//5c0bj82bn50/f33BAiUNDevp0yPv3bOJimr8/Dn02rUeERGvr10bce2aWEsr3t5ezcSkobpa2tBAf54LDa28cuXb+/cjb98mhIwuKfn69m3l5csNNTXW06ZdmzOn+evXLj4+AlVVY39/u7lzpY2N1+bOrX3+/O2tWyl+flZTp44uLR1x/Xq/PXukDQ1lx46F374dcPSoQCwOOH58aEbGp0eP/A4dep6RoW5iYhEenuzr+zYv7+bSpVejo6/NmeOxefODP//sbG6uYmDw5e3bT48fX5k61Xf//qzp0439/PwPHXqZmfmxpMTQ0zPByUnH0bH2xQuBWFy0a9eXN28aqqq6BQVdnz+fEFL79Ono0lIE+FhScjU6mhAy8MQJk+Dg5xkZI/PzE/v0GVVQ8PnJk/rKSi2JxMjLixBy0tPzzKBBDxMS+h8+PDI//9KECb0nTuT4/Ii7d9/m5sZKJC8zM80GD/7y5s0JD4/RpaW9J04UqKiccHNzWbWq+cuX8uPHbWbNKvnXv15cvFi4deubmzc5jnuSmsrxeE1fvtS/esVxXFKfPi+zsp6kpj44dIgQEm9nd37ECI7HqykvPztoEMfjxdrYnHB3f3vrVqy19emAgMLNm+n++YyIiPuHDmVOnPgwISHW2rpw61a6XIu3tT0zcODrnJz7f/xBCEkbOvTd7dsNVVVJLi50+ZXs60sQc1es+L4DFrG6CgVCXiMIr+XwVv4s3LihZZd46x22cqf4+2Zahf3G3/fTKmzRl38lT1nJt+m238D8feewwp7kr+/ecS3LTY4Q6bdvHI9XeuAAadlnm7No0bP0dEJI/rp1hJCG2tokd/eyo0cJIQ3V1W9u3JA2NhKO+3D37sm+fT9XVFybM4fjuAQHhzhb2yRn57PDhnE8Xryd3ZsbN07371+RnJwdFXXS0/NqdPQpb+/TAQEn3N3z169PGzbsfWFhvJ2dtLExzsYmZ8GCJ6mpN5cu7eLt/eLSJb6SklBF5XxoaMGvv/b+4YeiHTsaa2qaGxo6W1h06tJFxcBgWEbG6f79cxYtqrp/X9/VtWtgYMiVK4GxsTSuVlNW1lhTc7Jv34JNm+pevGisrSWEaEkkyb6+QjW122vWpAYFnRk40C46OlYieZSY+OT06Tc3b5YdOxZ5796jEyegqSk1KIgQ0lRXx/H50NxsP3/+0IyMpvp6Qsj9Q4caa2o6d++uYWl5c/nyh0lJhJAzAwfe27376blztGOrHz6MvHePECKZNu3Z+fMolerY2eVv2BBZUqJja1tfWVlXWfmtqspkwICGqqpuAwcmODml+PnVlJXdWLr0W00NSqUNVVUFv/76oahIpK5OCIksKRGpqzd+/mweGvr34cNDzp9/cPhwt8DAyqysTsbGD/78U79PH63evfPXru1sbs4JBBUpKd3DwmyiopQ0NQs2bzbw8Cjavfv6/PlxNjbhubnDMzPF2toGbm7hublBcXFx1ta9xo0jhLisXv3x3r2XmZnxdnaiTp2qiouT/fxG5uWdcHd/kpqaHRUl1tEZmp4+urRUIBZfnz8/NSjIbs6c2qdPCSFPz5wJy80Ny83tFhjouGSJ2/r1ZwcNMvDwiCwujrOxORMcHBQXlx4ebuDmFnbjBl8szo6KMg8JIYS8vHxZ19HxTHBwUHz8mYEDa58/R4DK7GyBsrJYW9t62jQdO7vUoKDA2FgNS8uXV648O3++77Ztnx49qnrwgBByc/nyFxcv1r540VhTE2ttTQhJGzbs3p493UNDCSEXx44Nz80deOKEw8KFGr16XRw7dnhmJiEk4u7dmrIyjpAUP7+Xly+7b9qkoq/vq6n5X//fEeYsXDi6pCRWIukRGTmqoIAejCwpSfb2VtHXVzc1/fr+fcTdu4SQgs2bHRcvTh81qsfIkU9On7YcM0bVwKDnuHEJDg6jCguTvb1DsrNptPP1jRtD0tIM+/W7/+efnEDQc9y4nuPH80Wi22vWNH/9Sgh5lJREw7O2s2bZzppFCHmWnm4yYEBGZGT1gwfDL19+fPKk6eDBowoL72zaRAe0kqamz/79VDmuL1gg1tYuO3ZM19GRJxAEp6TcXLas+4gRKb6+PKGw/s0bYadOPr//Hu/goNS5c2NtbXByct2LF4QQzx07kn189Pv0eZ6RoW1jk7d27bALF56mpd1es2ZkXl7W9Okh2dlvb99u/vIlsriYEOJ74EBTXZ358OEFmzfzlZSyZ870/u23ot27Db28zIYPN/b3r0hJ8dyx4+ayZabBwUbe3nc2bNB3dTX29zcZOLAiJaWprq7bgAGde/RIcHCA5mZCSGRxcd7atYSQ/PXrR+bnJ9jbS5ubR1y7Rgh5X1j4rbr6XX5+Y03Ng7/+Mvbze339OuG4yuxsgpj3yy8BR4+WJyT4/utfhJAEJ6dRd+7cWr367yNHBp0+fXbo0K/v32v27Om0dKlQVbV4376mujpDT89n6elqJiZNtbWEkPBbty798EN9ZWXo1auEkFP9+p0OCFDS0Giur7+3Z4/fwYOnAwP1nJ1VDAz0+/QhhLy/c6f/sWNvb99urKmhUfT3d+7oOjoGxsZW//239fTpVKRzV65U1tLSkkhOeHgIlJWDU1JSAwM/3L3b2cJC19k5Y9QoY19fv4MHX+fk3Fiy5E1urpKmZpKLi7G/v9fu3YSQzj16lPz+u4qeHuG4V9evK2lrf333ru7Fi0vjxzfV18dKJDyBgK+sXPfy5ejS0jhb27Ljx0eXlBBCnqal3dmwITg5+eyQIQJlZYdFi054eCjr6CBifWVl8W+/fbh7t+Rf/xKpqYk6d86cOLH527es6dOrSkt5QmGyl5eygUHRzp12c+cSQo7HkMOHeTweASCufcDNlWt5BYa0CqjSl0mo7LW8i6L4QhcVzmfnz5sGB78rKCjctu3jvXujS0qyo6Je5+TYzJhhOWbMCXd3Aw+Phurq+teveRwn1tX9/OSJsp6eUufOhJCv7983fPpEEOmMi5VI+CIRX1m5ub6e4/NHFRRcGDs2MCYmViLR6t373t69Yi0twnHfPnwQqas/TExU79YtydW1W1BQ5+7dC7duJRzXa8KEB0eOqHbpkh0VNfjs2V7jx/OVlVX09W8uXapqZPTt40fz0NBX166lDhgQUVT05PRpaUODqoGB27p17wsLi3btIgAiNbXGurp+O3bcXL78bW5u/yNHLv3wg2qXLsMuXDgfFua5bdvFsWNfXrkSduOGZNq0Oxs3NtXVEUKqSksjioruHzoU7+BgOmiQ9YwZKX5+NjNn3vrppzc3b95avdpl5cpYiUTUuXPYjRscj9e1f//y+HiBqqpmz57po0bxhcLz7lnwSAAAIABJREFUI0YMPHmSEJLk6srxeF18fb127463t+8WFPTy8uWIu3dLDxyQNjRQP7Ls6NH616+N/f0/3L1rv2BBgpPT29xcr7171U1NP1dUaFlZfSwu/vLmDV1FvL1161S/fuG3bt1YtEja2Jjg6MgTCmm1E5ycCOKoggKaMqOZWgNX16YvXwalpBBCYq2t72zapOfi4rJypXlIyKdHj3QdHPRdXetfvfp4715ldrbp4ME9x44lhFydPVvX0dF17drT/ftXlZbWPHr06urVyOLis4MG6bm4VJWWJjg5hd28KW1qqqus9N6799qcOd779uUsWqRmYtJv1y4lDY1Oxsbmw4dX//33pQkTvn382PDp04vMTKvJkx/8+ScSomJgEGdtHVlS4rxy5cvMzIiioqvR0e8LCpCQOGtr0yFDnp458/X9+4ItW759/Oi9d6+uo+Pniorw27dP9u07+OzZsmPHinbtqszO7rt1a2dz80QnJ42ePc2GDHmUlKSsoxNZXPwuL48QEhgXd2PxYoGKSo+RI8uOH6fqoNa1q+f27QmOjmeCg2mQ3HHJkrvbt1tNmmQbHZ3o4jIyL89h4UJ6srqp6buCgpMeHjyhsO+WLYQQ9w0bbixerNmrl2bv3qbBwfd27/70+DGdJoQQi1GjKrOychYuhOZmm6io5xkZ6SNHDkhMJIQEHD9+yttbpKb29MyZG0uWdPX3v1hdPeY//d/1/qdzwLdWr7YcM4a+p0UIuTRhgr6LSxcfn/RRo0aXlj47d+5JaipKpb4HD+avX69tYyNUVTX293+Tm2vg5vbm5s3yuDjTQYMe/PVX9YMHEUVFlyZMIBxnFx39qaLiwaFD8hzG+bCwgSdO0DRzaHb2+8LC5+np5fHxkUVFGRERHI/Xb9eu0/37a9vZqZuaqpub//3XXw01NV18fe2io9NHjQq/fbsyM9O4f/+s6dNdVq1KGzasR2Tk34cPmwQHe/z66ykvLyVNTWVdXb8//iCEvMvPL96379OjR118fNTNzb99/PguP1/f1dVm5sxL48dbhIff27fvW1WVzfTpDxMTe//ww8P4+CHnz9c+f66srS1QVU3s04eudClJrq5NdXXa1tb9du58mpZmNWXK+8JCXQeHeDu7iKIiQkhDTc2pfv06detW/+JFxL17xfv2lfz+u9e+fV/fvq3MytKytraZOZMWVbRr18O4OG1bW+sZM3QdHC6OG2fg5lZ1/773vn3J3t5N9fUj8/MJIdUPHjw9e9Zh0SJCSLy9fSdj46/v3oXfvp3g5MQXCqWNjd3DwpyXL68pKzsfHk7d9kQnJ9MhQyqSk60mT7aNjr67fXt5bKyes3PXwMD7f/wx5Ny5T48f31q1qrqsjOM4sZbW0AsXin//XatXrydnz3pu20YI+VhSgs3NOvb2t1atqkhJiSwurnv+/MGRI8p6esV79/JEIsfFiztbWGRNnz4yLy/OxkbL2prH57utX5+zYIG2re2T1FRpQ0NkcXGKv/+3jx+huVnD0rKhqkrdzKymrKypvp7jONUuXcyGDXt5+fKnR49oh2j26vXp8WOryZOLf/8dpdJuQUHv8vO/vHmj2bOn2bBhvSZMyBg1KighIdnb22TQIMfFiwkhd7dvtwgPPzt4sKGnZ2V2Nl8o5IlE4bduJfv6fn3/nicQCFVVA44duz5/fu3z56MKCsqOHbvz66/9Dx/OnDRpVEFBvL19z7Fjy2Niek2YIJk6VaiubmrK1daSoUPJ8eNk8mTyr/2I7fO1LWnIVi99KiSY7+3a9fexY9KGBo7j7ObMqTh9+nNFhbBTJ3qOkpZWQ01NeG5unK2tQEWl+etXAkA4TtvG5svr1526/j/qzjKqza1r1ytCcNeiRQqUBA1S3N1dSt276y67Ql2oK7S0UEogECxocXcnwaW4S7B4cn48++3Z4zu/vzPG2x97hDRlP3lkrTnvec9rKjklJAAAfoWHK9jaLnV2zjY2+peXEywsBOTk/EpL00xNWVQqHIXiFRX1KysrCApaGxlBiYn5l5Vl2tpyAZAyMKAvLTHW1jampiBmGZKfn0Oni6ipOSUkZDk6smm04MbGylOnKMPD5o8eTZaVDaWl8QgJcTmcwJqaTDs7DpPpise3R0fbfvgABTf1166Fd3eTPn9GHz2arKtr+fz5VGWlxdOnkGbW+fq1qIYG9OPW7CzR1RV97JjuyZMFQUF2Hz8y1tdF1dVTDAy4LFY4iZTt7Lw1NweDwaAYour0aVENjfXx8aXubkF5eaf4+HQrK+Ht24UUFPTPnWt9/HilpwfJzy+kqGgaFcWm0+uuXbN9/54UEzNRUuJXUgIAyPHw4BUXd0lKyvXyElJSmqmp2fXoUf3165phYQp2du0vXnCYTKiWuTExwScl1XDzptXLl9C1SreyYlAoImpqntnZAIBUY+OQlpbG27fN7t1LNTFhUakRJFJTVNTW7Kzdp0+ZdnYMCgVz4kTX+/cKdnYztbWhra2QIabl4UPjmzf/ODySdXW9cnOFVVTKjhyBwWD2sbHQ0mH59GnlmTPCyspeublF4eFiWloTxcX+FRVwHp5UE5Og+no4EgmtJ1kODn5lZbleXihRUTgCIYFGD+BwAAA5S0u7jx8hcUjexma2oSGkuTnDxoa5sRHa1pbl5CSqpmYfGwv9cxaV2h4dTRkcdPrxI8/HZ0doKHNzc3VgYGNqyj4mZqm7mxwb65SQ8CssbKm7O4JMJpibC8rL7zx4sPPVK9+SEvKXL+gjRwAAud7etMXFoPr6jYmJfH9/eRsbq5cvm+/fl7e27nr3TlJPT1BOru/HDyElJUV7+55v34IbG/+9raRbWdl9/ly8e7dXbq6QklLz/fsmt26VHjggpKQ0nJEhuG2b6Z0726ysoA+zabQ8Hx9VP7+dBw5UnjjhGB9fEBgoICtr+/Ej9IHujx+XuruVXV37fvzwyMiA3pyqrKw6fZrJYu3t6fkvngcMANju7V0UHk6wsMBjsd0fP8qamemeOlV15oxTfHyKgQFzY0Nrzx77L18y7e2Nb97sevt2vKhotb8fAm4MEQjoo0eVXV1dU1IEFRXbo6MX2tutX7/u/vRJIygI2n2Jbm7D6enuBEIyBpOsry9tYAAAKN2/fyQrS9bEJN/fX8Xd3QWHK9q9O6yz0/nHD+bGxs79+/0rK7kcjvXr1yJqarvu34fBYPU3bqQYGMAQCEEFBZNbtwwvXrR6+dLi6dOKEycYFIoEGs3c3OxLSMh2cpIxNnb8/j2gqsrg4sXxX79W+/tdU1K4HE7r48c7DxxQDwpyTU6GIxCYEyec4uP5JCQc4uJGicS2x49py8sAANt37/6cnGQMRtrQkFdUdLm3V2DbtkE8HjJYpe3aFdbZ2fLgQdHu3VkODooODtS5ubCurunq6oni4nASabKsbHVoaLq6GsHLCwXOXDabHBurERJiHxv7Oy9vfWzMOTFxpb9fSFGx880bHmFhETU1goUFAKAwJMTw8uVUY+O6q1fDOjq8cnODm5qY6+v2nz8rubgoOTvrnz1bvGdP0e7d4V1dgMutuXjR/MkTAACHxZqprwcArPT3h7S0cFis1sePdU+eTNHXF1VXd/75c7uHR0hLi09RUZqZ2XJ3d9WZM1Pl5WWHDk1XVfXFxxft3t36+LGImpppVNRMTY2QsjJ1fr77/fvw7m7A5cpbW7c+fAjlHJJ6ektdXYudncV792pGRg6mpm6ztBSQlS2OjGRubYmoqAgrKan5+DA3NxlrazAEIqyzc0dEBGNtDX30qHNiIptOV/P3D2lpWSKR3FJTdQ4fVvP1DevosHj6dGtuLoJMZmxssLa2MmxsKMPDdVev0paWUMLCQ2lpLCp1JCsrx9MThkCs9PXtCA2Fo1A8QkLJurr+5eUIHh6jK1cQfHzQxsNlszNsbNpfvIggkWhLSwq2tnAkUmLnTp2DB2EIBJ1CybS339zgMplgZQXEx4P5Oc7nTxzu/yMv/wFH/JsyAbjcP366dAuLvoQEGAzGIygIFUoZFAqAwThMJpfD4bBYDApF2tAwWU8PAGD38SOXzRaQld1mablMJksZGJjevTtdWYlDo61evPidkzNTVwfFEwr29rSlpeLIyOCmJpfkZA6DQVteTjEwWOnrw16/zlhbm6qooC4uMtfWlJ2dFzs7XfF4No0W1t4upKjIKy4urKpqGhWV5+sb0tIivH07UlBwrqkJhkD0JyUZ37oFhQXMjY0UA4PA2lqP7OxcLy82jdaXkFB54gRlaCi8u3ttdHQ0O7spKgqOQpFjY7ks1khmZkFAQOOtW6q+vhZPn+LQaLyR0VJXlyeR2P3hQ09cHEpIiEdYWFRdvTA4mMNi+VdVJevp8YqLw+DwsM5O7f37AQAwJJK5sbHU2ckvJeUUHz9VXr4jJGS1r4/L4Qhu2zZbX09fW1MLCFgikYhubnAUanNykldcfLK0dGt2dr65ebqqCgCw3NODw2AkdHRs3r6V27VL1dsbjkSOZGXVXrrkkZmJ5OeHclAhJaV8P7/xoqKOly9TjY0BAEgBARgS6ZmdPVNdnePpyabRVgcGpPT0Wh8/dicQIHFlmECw+/Tpd24um8HQjIjQioxUcnS0efuWy2LN1tdvs7AgWFggeHkbbt4kurlFkMm/wsLgPDw1Fy6QPn2aravb7uUFhdFWL17Mt7cj+fhYVGrR7t0r/f2md+8G1tbCeXh+5+RYRkfneHik7do1lptLnZ/3Kyujr66yqNSlzs6137+XurvDOjutXr1S8/EBAPwKC0OJidm8e6cREtKfmMgvI6Nz8GCaiYlfSQmPoGDxnj1+ZWXkL19KDx6UMTaG8/JWnz3rSST2/fiBPnpU1szMNTkZJSKyzdISCvVcU1J4oKGccDhzY2O7p6dvSUnNxYvoI0eIbm6pxsaqPj46hw4Np6cLKSlxmEwZY+OaCxdMbt2SxmKpCwui6uqDeHxgba1rSgpleJi5sbExMTFeWAgAqL9+vevtW2Fl5eLISBkTk1+hoTg0WlxLayA5eXNmxuzePdM7d9T8/Tenp4lubgCA1sePMx0dfYqKdE+eLAgMXCKRoKdvob0dAJCsp9f5+rXuyZMSOjrNUVHMjQ3Crl0AALyR0UJrqxse37e1Bf7bM2Aul5uir88rLq7s6rrd21sSg+n5+lXn8GHoA6PZ2aq+vtDr9pcvfxOJchYW1Lk5h7g4grm54LZt7v8JSQAAfQkJ2vv2Qa/Ljx61j42da2ysOHECUra5XC7ewMC/vJxXQgIKNuEIBKRToUREyLGxwioq/DIy5o8eQb9hsrRU0dFxOCMDqg20P3/O3Nxc7ulxS03NsLYOqK5uffQIe+MGJNxlOTio+vlphoVJoNHJurpKLi5L3d2Qyp1hYwOJrp2vX4uoqo4XFfFJSCy0t4tra6+Pja3296v6+49kZECaMxQxbExMRJDJReHhlJEReRubxY4OvTNnVL292XR6ho1NcGPjAA63MTFhdPXqan9/2dGjrK0tGAJh+exZ7aVLJnfuCMrJtTx+zKBQWFQqlGFYRke3Pn4sjcVuzczonTnTcOPGcm9vBInU9uzZKJGod/q0jLFx8e7dpvfu1Zw/H9zYSHRzc/75c6GtjRwTox4Y2BsfH1RXh0OjvfPzS/buhayMOR4etKUl3+Ji+uqqsLJyuqVlYG1txYkT1Pl59/T0hfb2hdbW0dxcyuCggKzs1tycnIXFSm+vWVRU7/fvzj9/Qhv2dFVV0927RlevDqenL7S18UlIMCgUGA8Pgpc3oLLyj++99ckTSV1dBoWy0ts7UVxsePWqur8/3shIPShosb19dWAgqKGhKCKCT0pqtr6eV1RUQE4Oc+IEl8NpuHEjpKWlMDhY/+xZGVPT4t27V3p7oS0ZsmTj0GgpfX3zJ0+ElZVxaLSQkpK8tfV4UVFAZSXeyEjW1NTu8+dkXV2bd+964uJoS0uSenq/c3JUPDzkrawk0OjSAwdoy8vuBELpwYNGV66QYmIYa2v8MjKUwUEhJSXoOuKxWAFZWdsPH2Zqa9uePuWXluaXkVkmkw3On/+1djApCTQ3g+pqYGXF/R/2439Kuf8q+kIO3tZHj1hUKm152eLZM8hVy2Yw+ERFkYKCSAGBjakpNpWKEhMDbDZtdZVfSoq2vAzVFJe6u5VdXCQwGCiK1QgJUbCxqTxzRsHGRnznzr6EBPrqKuQNljUxcYyPhxKdbVZWPMLCv4lE7b17OWw2m043vXOnICgIJSrKLyk5XV3NWFuDbPakmJjB5GTG+jr62LHRrCx+GRnmxoaQgsJkebmQgoKUvj5ra2umvp7DZoe1tf0KC6OvrgrIyuocOjRTV4e9dg2HRgc1NKCEhfP9/NbGxrhsdkBlZZajo5CSEpQvJuvpCcrLG1682JeQsD42hhQQ0IqM1Nqzh81gtD19anLrVpajo19paeebN6PZ2QKyshqhoQ1//+2RmVkQEABgMGkDAx5hYRFVVRE1tfbo6KC6us7Xr3u+fQvv6oKKO/XXro0VFtp9/tz56pUrHl968CB9ZcUjMxOKeumrq55E4lRFxXxTk6CSUsvDh9L/sg3XXrpkGR0N6VLFkZEL7e0RZHKamZlPYSGvuDhtaWmYQOj5/l1sx47VgYHgxsYcDw+3tLR0CwseQUE2gxHS0rLQ0VG6b19YZyd1YYFPUrI9OtroypU8Hx8pA4PxwsLgpqZhAkFg27b669eh1gCtyEjG2prBhQsjWVlqfn5QnrcxObk+Ntby8KHeqVN1167JGBvDkUg1Pz/h7ds7X79e7ukJrKn5v+qaqan2vn0bU1Nau3dLoNE4DEZUQ8MzK6vq9Gmbd++KwsOXenrCOzsBAND/AodGo0REgurrG2/dMrt/P8vJSf/MmYYbN8S0td0JBKKr647Q0J0HD863tMgYGw/i8Z2vXhnfvClva4sSEUnR10eJiARUV/9Zn6UMDSV27lSws0s1NhZSVvbIyEjW1eUREhJRU1vq6grv7q6/cUNAWlr//Pl8f3/9s2eb7t4VVFBwSUqaqa1FCghIGxqWHjwIOBzH+HgoV+GTkqKvrIhra7vi8QCA6nPnrF+/JuzaFdTQMFlaOtfUtDk7iz58WFJXt/vjR2U3t43xcQU7O9riYtO9ezZv305XV8tbW/8KC1MPCOiNj5c2MFD19ZU1M4NuPH5paTaNFlhb2/Lo0fivX2b37jXcvHm/s7Njff2/ewNONTMLbmjAY7EyWKx9bOxMXR3p40eUqCgkRmU7O/sWF29MTrJpNFJs7FRFBY+AgH9FRZ6PjyeRCAAoCAwUUVVd7unhERL6oyLO1tfDeXhC29rIsbHoo0erz50DXK7xzZt5Pj5BDQ35/v68YmLy1taTFRWi6upcFut3fr6ajw+NQpmtqQluahrJzISq/QCA2suX18fG3FJT51tbFzs7SR8/hrS0/FmaIRFJMzx8pr7enUCAbtPVgYG+hAQxLS1ZM7NhAsH45s3JsjJFB4eCwMCV/n7N8HAxTc2Vvj4WlUoZHAQwmN2nT1lOTmHt7X/KTv+kv7q6DnFx7c+fO//82frokYi6OnV+vjc+Xv/sWcrAwFRlJSQLo4SEoB2x5cEDMW3tnq9f1Xx9N2dmMMePFwQFBdXVDRMILY8fh7a2DqakTJSU8IqLWz5/nm5lpeTsrHfqVJ6PD1JQkLa8rOTgoBEaKoPF9icmTtfULLS18UlKchgMcR0d2/fviyMj+SQlZ2pqnBITJXR0Gv7+m766avv+/VJ3d8Xx4zzCwlwWCykgwCclpREcrOLu/jsvry8+frm31+bNm/obN8zu3p1tbPydl8dlseRtbNDHjolqaKSamIhrae26f7/+5s3V/n7tvXsldXWRQkJC8vIiamrQAgFDIEQ1NHjFxWdqaqBACodGe2Rm5gcEmN6+PVNbO1NXF9LcPJSWxi8p2fb8OYDB1AMDdQ4dSjE01AgOHkhKgpLRtdHRtmfPQlpaUgwMwru6UvT1+aWlaSsroa2t6ZaW2z099U6frrt6FX3sWHt0tHNiYrKurpCiIp+UlO5ff40VFIzl53OYTBgMFtrejsNgIkikXG9vOBIJYDDK4CBKWDiwri7NzIy1taXo4LA6NLQ+NiZtYMAnIbE1N+eKxwMuF4fBABgMycsb0tpaevDgnNO3kycBhQJgMMBh/6tP5t8MyP80Vv35ce3374ni4s43b/TPnh3E4/mlpOR27SJ//brd0xNSbsW1tOgUirKr60xNzdb8vKKd3XhRkZimpoCMDJfLXenroy8vw3l51QMCer9/D6ytzff1FVJSWunvF9fUBDDYYmenzqFDm9PTs42NfqWled7eW/PzMAAk0GinHz9waDQMBoPx8MgYGbHpdJv377McHBzi4uouX96am0Pw8W2ztJyurhaQkdmYnIQhkVbR0VVnzkhiMOuTk0E1NVC9c7un51RlJb+0NJ+U1FJXl7CKipy5udGVK6lYLIfFCuvsTNbVFZCTY6ytSerpzdbVqXh4rA4MOH7/XhgU5FNUBEci8/38kIKCKBGR+ebmkJYWPBbrlJBQFBFhePmy9p49aWZm26ytraKjU01M2HQ6gpc3pLkZb2QkpqnpmpKy1NVVsn+/squr9t69o0TiZHm5T2Fhz9evYwUFMAQCcLkOX7/mBwRQ5+bQR4/K29gMZ2SY3buX7eyM5OPzzMkpCg9nbm7SV1YCqquhlT3bxcU1Obnq7FnKwADm+PHx4mLX5GTIIYE3MoKKDsLbt0MV3I3JSSFFxYa//0agUCa3bxNdXLb7+PDLyLQ9ecLlcPgkJalzc+FQEgbAXFPTdFXVMIHAKyHB2tryr6iov3EDcLmjRKIkBkMZHt5mZWX9+vVcU9NSV5fO4cOQml1z4QKfpCTgco3//hsAMJiSoh4UhDc0FJCT8y0uTrey2u7h8Ts/3ys3l1dM7Fd4OL+MjLCiIlRvqjxxAiUqOlVZyWGx1Pz8RonE4MbGLEdHLpvNptGCGhr+LE1sGo1gaani7i6sooLk5e1LTNycmYHyGbyhoaiGhlta2mBysjQW+ysszOb9e0E5ORE1NaKrq5S+/nhxMUpIaEdoaO/37yGtrSkGBipubuZPnqwODGzNzsJRqMqTJ0Pb2loePTK+cePfmwUOjeYREgpubEwzNUWJiuqfO7fd0zNFX3/ngQOQl6IoIsIFh+t49YpNp49kZnrl5vJLS6dbWorr6Dh8+bLY2bk5NcWiUqX09UU1NGhLS3ySklOVlQq2tn0/fnS8fGn+6FHjnTvYa9ema2qmKio80tMLgoMV7e0nSko8srKKIiKg3rB8X9+NqSlRdXWja9dkjIz+V/fH/08ZMNS9N4DDaUZEAAA4DAbU7YpDo2EIBObYMebmptGVK8WRkQh+fsbqqlta2kBS0urgoOndu1DiRY6J6Xz7dtfDh2p+fkQXF5+iouqzZ63fvIG64lhbW7YfPhB27TK5c6f20iX/8nJ+GRnoADJsbdX8/ATl5XeEhgIA8IaGSCEhg3PnBpOTLZ496/7wgU9Kajg9Hc7DY3zjxlxz81RlJZfFYtNowS0tXBYLzsMDCbwwAKAnp/rsWeri4mp/P7+srHdeXrq1NeByOQyGNBZr9+lTw82bux4+TDMzC25szHZ2ltDRsX7zZjQnp/7aNQCD7XrwoPHWLS6Hox4QYHb/PhTOQ8f5J+Doeveu9/t3TyKx5vz5lf5+x2/fSvbtiyCTUwwMAJcLR6GkjYwU7e1XBwZMbt8u2bfPKSGBsGuXZ27ur9BQ5sZGcGPjUFpa29OnzomJ4jt3AgBGc3JaHjxAiYoKysmpeHjsCAsDAAzi8TtCQ0mfPk2UluqeOFF35Ypbenqup6dvSUm2k5OYpubqwICArCxjfV3vr78637wxunoVwGDQOUzW0xNSVFwfH4f0tJqLF+WtrdX8/KCQAjqT6kFBEOJbQkfHLS2t/NixuaYmJD9/UF3dKJGo6uPz5w6pPndusqREzsICWoVLDxzQP3Om8c4dwOXySkiwGYzghoYUAwMlZ+fxwkI4CoU+fBiGRHKYzImSEsbqqkdWFtHV1fr166ozZ1hUKq+4OGtrK6S5mcNklh87RhkaUvPzW/v9e7a+nldCArDZAA7XDA/vePnSv7y8/OhRST294YwMLoeDOXqUFBOjERJieudO/8+f1Pl5gwsXoOy8eO9eZVfX9uhoRXv76crKkNbWwZQU+spK98eP4d3dBYGBJrdv11y4wFhfl8Fi55ubUSIiviUlPCj4yZOgoAAMDPyrn/j/5Sr/a1eGwWA4XV2HL19W+/sZ6+ukmBgAgMXTp9S5ua737wEAcBQquKEhz8eHw2IJq6jMNTWxaTQ4AsErIcFYWxNRU6MtLiJ4edX8/YfT07fm5sR27JA2MpooLWXTaAJycqv9/TpHjkwUF8tgsXONjbxiYqytrR1hYZ3v3nGYTA6TiUChDC9fnigupi0v79y/nxwbixIRWSKRpA0MAAzmlJBAMDf3+fVrsqyMy+Esk8kmt25Vnzs3UVIibWi4OjDAYbFCW1vxhoZcLhclIrJz//6dBw8CAJrv3UMKCg6npQU1NECPvIq7+0JbG4fB+NM22vv9e9f796GtrVuzs6UHDjA3NiTQ6CUSyfjGDcbaWsujRygREQQfn19JSbKeHp+4uLCKCq+ExFR5uVpAwHhBgbyNze+8PFUfHzFNzYGkJMb6enBjY6qJCa+YGByB0Nq7V1xbG8HHV33uHJtKRR87phUZuUwmL5PJrU+fKru6mj96VPnXX/pnz1aeOgXJWjO1tetjY/OtrRsTE8pubpSBgdmmJv+ysqHU1JaHDwUVFDhM5ub0NCQMEMzNZUxMINNfqrExgpfX+efPfD+/sM7O0gMHaEtLwioqk2VlEWRyMgaj6Oho/eZNU1SU6Z07kJ8I8ruMFxb2JSYu9/SEtbdDFdmwzk6CuTnbmp8QAAAgAElEQVSHwWDT6QHV1YUhIds9PXvi4nYeODDf0iKmpQUAML1zp/vDh1EicWNqyuD8eQicoH/2bFt0NAKFUrC13e7llWpsjBQQEFZWRvDzw+DwjclJHkFB1taWV24uYdcuST093ZMnpQwMcBgMr7h4YHU1HouFweGKjo7TVVW8YmIqHh56p07VXLiwOjAAVb4hK4+ohsZsfb13fj70znB6OlJQsPP1a5/CQgBAx4sXAAYzuHABAFCyf79TfPxyT0/F8eOQWDhbX9/348d0VZWYlpZHRgbRxYW+uqpgZwc5+HRPnkwzNYXz8ATW1uZ6eTE3N/3Ly/8ooJCOxdrc1IyImCguhiTS9fHx8qNHfQoLG+/cmSgqUrC1NX/ypPXJE3Ft7d95eSru7o23b0f8J/QpjozkcjguONxEaWn7s2cQPYJFowX8527McXc3uHBBydk5CY3e/R/Ewn9rDXiqsrJ4z57WJ080IyJKDx0CAOCNjbkczmBKCgyB8M7L609KWh0cpK+s2Lx7x2UylV1d8Vis5u7do9nZ2S4ugbW1OAxmqqoqgkxW9fZuefDAp6gIj8VOlJQMEQj6Z85YPn++Pj5O+vw5qKGh7elTGBz+Z/cFAARUVvbFxw8kJSVjMMm6ul55eaa3brW/eLE1P78xNTVZUTGanR3S0mIXE0MZHTW7d8/84cPA2lo2gwGDwQqCgnq/fUs1No4gkcJJpMGUFACAgJyc7smT/DIygrKyAAAuk8lYW/MrK7P79GmqsnLXw4ebMzPBjY3ZLi6+xcXWb96kW1k13bkDNRcpOjiEd3cjBQXHi4rKDh2Cdt+h9HSim5snkbg+NlZ39are6dNcDqc9OtotLU1w27byY8ciyOR0CwsZLJbDYgnIyvJLS881NiIFBKAiYsWJEzKmpln29gheXquXL5sfPGi+d8+/vByGQOT5+v7Oy1P19uay2fJWVtSlpUE8fnNmJsXQUEBGZmt2dqqiYrW/v+nuXTadTp2bAzBYjptbBJkMRyIjyGQpQ0OPjIyeb99C29tbHjyQt7Yu3rNnNDs7vKtL2sgIuptTTUzmGhrU/PxSjY1T9PQgJ5F6UBAAwC0tjUdQ0C0tDQAw19DgmZkZVFeXbmlJ+vyZTaMVhoTgsdjiyMiJkhJBRcWVvj7A5Y5kZW339OQRFRXevh2GQNi8eePw9WuqsbGan5+QsrJbWhrUHoM+cqT740e9U6fgKBRKRAQlKtr66FFwY2N4VxdjdVXe2jrdygrOw8PlcBgUSs+3b2sjI34lJTAYDCkoCBnWQltb+aSkJDAYg4sXMceOqXp59cTFie/caXrnTrKeXuuTJwYXLgympoa2tzffu7cxMaG1ezfgcGhLSyqenjg0uu3JEyElJTFNTVJMzOrAQMWJExZPnoQ0Nc3W1cHg8K35+c0tuLc3WFkBAwNc8C/g/p++I9h/UPV/nFYp+voEc3MYHF5x/HjPt2+0lRXX5GQYHN7+/PnOgweljYzYdDqHTk+3svIkErUiI+dbWsS1tWEwGIfDEdPURPLzr/b3b/fyYtFo3R8/Ivj4eMXEVvr6BnA4+tISi0rdmpmBwWBzDQ3rv38DGIy5tcVYW9uYnFwbHWXT6ZphYX4lJYIKCj1xcZoREdYvXzZFRdEWFzkslpS+PgwOX2hvT7eykrexybSzgyOR6gEBI1lZODR6m6VlBInknJho8fQpSkgIAIDg4+MwmQ5fv5K/fsWh0UUREbN1dTLGxlAnDProUQDAYkeHb3Gx6I4dODS6OSpqJDNzqqIitLUVAFB+7NjW7Kz127fUxcXAmpqtubnm+/eFFBXpq6uq3t5ppqbhXV2MtTXm5qZGcDD66NGpsjLbjx9/5+cHNTSo+ftDjWpQKwSHxZK3sZEyNGyPjhbX0pLQ0dmcmgqoru569w7qQWqKikLw8MDg8AxbW92TJ8U0Nb3z8ooiIlKx2NpLl9qeP58oLnZLTdU5eJAyMgK43MKQEPKXL2Gdnd75+XQK5Q/9RsnJCdp9iyIi1IOCxLW1RVRVIdqU4aVLG5OTK/39SAGB5vv3AQxGXVhIMTAwvXOn5vx5Pimpkv37BWRklkgkeVtbl6Qk+5iYZD09BoUibWQEALB+/dq/sjKcRBrJzKSvrGz38grv7lbz93fB4RgUyjCBwOVwFjs76RSKZlgYm05vvH3bMjq6ODISDodbPn8uqKDQ/vKlsLIyDIFw/vnT4csX+5gY1+Rk5saG/tmzAABJff0lEqk4MjLLwUHWxISxuprj6Rna2hrS3DxZUgKDwzks1nB6OsHc3OrlS6/c3DRTUwBA29OnTgkJgykp3vn5DX//TXRzWxsZUQ8MlLe0VHFzq7l4cbq6euehQ32JiVBJ1ejKlfmWFgkdHf2zZ1sfPwYAyJmbKzs7R5DJKu7uAADaykpwUxNSUNAsKgrC8vBJS2vv398eHb05Pa1/7hzkMF8mkzNsbGzev1dycVFyccGcOEEZGfnHOK2sTF1YAADI7dolICOzOTMDAMBeuzaYnOzw5Yuan5/F48cAgPnm5lQsdqW3F4FC5fn5KTk6+vz6ZfPunaqvb0BlZfnRo1CC4V1QwGEyK//6K2F29n97f/xf34A5DAZ9aWkwOTk/IGCxo6Phxo3tnp5rv3/vCAvb7uEhpKQUVFeHQKHIX7/m+fhQFxd1Dh/WjIggurmFtrf7FhUtdnS4Ewh8kpKDeDwMgVju7e2JixPbsSOCTNYIChpKS8NjsV45OQp2di2PHkkbGfFJSuYHBAAACgICoHK60dWrm9PTUP5KGR5ujIoKqqvTOXiw/vr10NZW67dvf4WGcuh0/TNnAACbs7MAAGkstvfbNzlz8/GiIvsvX9KtrQEAO8LCspycVgcHt1laeufnrwwOVp05g71+HXC5rY8eAQAUbG0J5uZNt24BAHyLilZ6e/GGhvSVldC2Nj5JSdrSUu+3bwCAkKYm8Z07HeLi8v39AQAdz5+jREUBAAPJyYudnQPJyYLbti11dUG2AmhVUg8KWmhriyCTdQ4f3vXggdWrV8tkMgBA1dt7pqbG6PJlVV9f1ubmNkvLsbw8l6QkgoVF25MnntnZPV++AABCWlrGCgtpCwsemZmL7e0wABTs7bvev5fU1w/v7masrYWTSLJmZhEkEgwOT8ZgVgcGer9/t3jyREhJyfr16/7ERJS4uKC8PIfJVPX1bXv6dCQrK83MrObCBTaNpujg0J+UxGEyw7q6wkkkLoeT4+lJ+vxZQkdH9+TJiaKiTAcHAECOp2emvb3Wnj1IQUEEH5/l8+ehra1GV64g+fktnjzxLy+3+fCBR0DA8PJlJUdHs3v37L98kTI0LAoPlzYyWu7pGSYQWh89Cmlu5rDZJfv3I3h4qk6fZjMYM7W12OvXDa9cybC1TTEw2GZlJW1kpHPo0Gx9/drwMByFiiCReAQFCRYWMAAow8PD6el9P370xMURzM0pQ0M5bm7DGRnUxUV5Gxs+SclMe3t+aWnLZ8+GMzLaHj9Ot7AAcLh/eXmWk5MnkcgvIzOcno7g4+NwODO1teI7dy60tAAYDCUiUnb4cKa9vcPXr8FNTcKPSUpK4ORJcPjQP1OVYP8atvPPRKx/Tempv3at5f59NV9fISUlBC+vnIWFX2mp6e3bpfv3czkcBC8vDo2ea2qKIJN9iopYm5tQXMhhsxc7OlQ8PZWcnNh0OmNtzZNInK2rC6isFFVX35qdDaiqUnR0lNLT4xEW3mZhgRIVdUpMXO7piSCTR7OynL59W5+Y4LBYg3i88fXrEHeXOjfHoFDqrl4tiozcZmHBolKZ6+viO3fOtbSEd3WpBwRMV1XtCAtruHkTh0ZzWSwBObmh1FSChcXayEjX+/fUxUUAAGNtDY5Etjx6ZPH0qfPPny44HIfNbrx9m7W11fPlCzk2FgaDURcXq06dcvj6VTMiYohAULC335ye7v7wIUVfXwaLVfbwkDY0ZG1tAQAgZWVrZoZHQIBfRkbv9OkUQ8PQ9nb39PTNmZllMpnDZo9kZuqfPVt78WLpoUPUhQVPIjG8q4scGytvZWVy65b2vn2hbW10CgUAIKapCUnBuV5eKz09UNu6zqFDzPV1yMzY/eGDCw7HotG2e3lxmEzoTbyBgSQG419eDoPDIU2O6OYG1VBGicSmu3cRvLw4DGampsYFh9MIClIPDAQAIFCovvj4X+HhkhiMqpcXr5iYya1bMDgcwccX1tFBdHe3evVKIzBwoa1tJDu7KDwcEtsqTpwI7+pCiYpyWKyCoCCo9Jairw8lo6IaGulWVlA7zXRVFYR5so+NlcFipfT1Z+vrA2trcWi0iJqa9r59aaambCrV8MIFLpcrbWAAefQAACgREUEFhborV2ovX7aPieEVFRVVV5fU1XX8/t307l3vvDxIm9z16FFgTY3Ezp3+5eWM9fXR7OzuDx/4paXrb9zgsFgDyckRZHKKvj5jbc2nsFBETS3X05NHWBjBx2f14sXv3NwsBwcFW1s1f//G27frrl4dSk+fa2wcIhCMrl5tunsXANCXmAgAQB85gsdidwQHQ72jlSdOtD19utDRsTU7y1hd7U9K0j15Us3XV0BOriAwEM7Dw2WxtmZmDM6eHUpNbb5/P6yjY5lMTtbVxWEwCnZ2AIC++HiP7GynhAQcBpNuaemKxzdFRcHg8Mbbtzteviw9cGCblVVgXZ1DXBxUNch2dp5taBjOyMCh0faxsXgsVkpfv/bSpYabNxfa2vbIyv7Xm7Ca7t0zuXWr6e5drcjI8qNH/crK/vxtKhYb0tpacfIkg0LZmpnxKyvLtLOjLi5C2dVQaupkebndp09pZma8YmLehYVQgtV87x6XwxlKS4P8gRtTU4zVVcjiNJKVNUokOn77lu/vzy8jYx8TQxkaEtXQgCQRIWXl9ujo4MbGwuBgQXl56zdvuj98WGhrW+7r8/31a318vOL4cQFZWQQf3+rgYHBDw1xjo6yZ2R+PVb6fH5fDgYTiFAMDKT29jcnJbVZWZvfuQbUfvJHRrocPe+LioIYoqGq73NNDGR4Obmz8FR4uKCdndu8eY319srQUKSjY/eGDqLr6dk9PCTS649UraUNDncOHCwIC1sfH4ShUUF1dvp8fnUKB5Jflnp6l7m5RNTUZE5P137/zAwKgimnLgwdDBIKwsrInkUiwsHCKj5+prd154AAAIMPOTs3Xl7m+rh4UNJSaanr3bs3Fi1BTEFS+6o2Pn66qEpCR+Z2fr3Po0HxrK4dOd8XjCebmMlisgLz8EB7PLytrevfuUGrqREmJirs7i0qdb24Obmws2bcP8nZB35RFpaaZmHC5XP1z5+grKwM/fyIEBJjr6xFkcoaNjemdO30JCU4/fqRbWWlGROiePLk1O5vr7W0WFdXw99/SWKyAjIz2vn1Nd+8aXLy42t9PX14eTE2lLS3xy8j4l5enYrFWr17VXLggqafn+O1b2eHDs/X1EWRypp0dv6ysqJra79xcHhERg3PnNIKDq06fnmtuhspaknp6Km5u3R8+OCcmtr98OVtfL6igsDE+vt3LSwKN3pyaGsnKYjMY2nv3wnl4RrOyNqanQ5qbB/H4kfR0NoNBnZ/H3rjRdPeugKysqIaG1YsXTVFRk+XlMARC98SJhbY2m3fvmu7cQfDzi+/c2fnyJXVxcWIv6fNn2K1bwNAQ8LZ82ZiakrexWe7pWRsZEdfWJsXE+JWWsun0ZTK56vRpAIMJKSioBweTPnxQdHKSRKPnW1qkDA3XRkdHiUTA5SIFBbeZm6t4ePTExS11d8MQCDgPDwwAFo1mfPNmy8OHO0JDBRUUpsrL+WVkFtrbaYuLvBIStMVFGAJh9eLFEolEXVhA8vMz1tYmS0tRoqLU+XlJXd210VEEL29AVVWamRmHydxmZbXY1sZmsdR8fafKyzempuBIpENcXOmBAwg+PkldXQCA0eXLhSEhPPz8XAA8MjPLjhyRMTFZHRjAXr/e/vw5SlSUy2bP1NRIGxnNt7Q4fP1advjwP/KshYX169cL7e29cXHBTU0ZNja0pSWopGJ65w5zc3OhvZ1NpeqfO9d8//5iRwcChQppbU3W0+NyOBEkUpqpaXBTU5aj446wMPSRI1Pl5Qr29kQ3N+r8PJ+UlHNCgsC2bUUREdT5eX4Zmc2ZGYevX0XV1XEYjLi2NnV+XlxLa761lcvhyBgbs6hU1uamBBq96+FDAEDfjx89X79K6OgwNzdXenuVnJwYGxvLJBKbwQiqq0s1Nrb98KH04EE4EqkeGGhy+3a2k5OgvLzTfxiNy729WzMzrK2tbZaW7S9eiGzfPlZYuNrXF04iNd66NVleHlhT86c3EgCQaWcnbWRk9fJl8Z49ohoa01VVfqWltZcuzTU2/jEu4dBoZVfX9bExyCmSrKsLAPCvqMi0s4Na/KGWpI3Jyc43byhDQ8z1dcPLl5VdXRtv3x7Lz4fz8ATV1/+Ran+FhbmmpDTfu6dgawtDIkezsyfLyqBGRNLHj4yNDVENjZmaGpSIiOndu5OlpZ2vX3vm5EDQhbHCQsrAQF9iopS+PtR7CS2kI5mZgvLy0kZGU5WVSk5OGba2jNVVy+hoUXV1KCKBqjaQZwrKecqOHHH48gXqqhpITtYMD++Lj1/o6FhobbV5/77pzh2PrCwAwGR5Oa+oKCkmxj4mZig1VSMkBADAWF/PtLMzvHBBc/fudEtL/fPnxTQ1J0tLDc6fh4pfGxMT1q9eIQUEBvF46sKCnJmZkovLn2Noj442uHgxz8cHe+3aNktLyBS91NWlf+4c5L1qunNnqrLS6MoVFQ+PqtOnFR0doYCv59s3nYMHAQBfd+483Nv7342ihLhleCwWmpw8VlCQZmYGoSXTzM2H0tIWOjpmGxoIVlYFISFcLheCsUGwQwjzxuVyIYRk9YULTffu1d+4kWps3P3p058RFn/Gbozm5f0uKFhob8djsek2NiX799dcvJhmZgZxzqAJDRtTU9DICwgGudDZ+c+gpJISiFeOQ6OHCIS+xMQ/UzIIlpbMra26a9eSdHRyvb2b799Pt7Yu3ruXYGn5Z5rHXHNziqEh9JrwH+r3XFMTdPyDeHy2iwuXw0lCowmWlhCmjrq4SHRzg9iQBCurxa6ulf7+mdpaLoczUVYGoTeL9+yhr66ujY0l6eiQvnzpePVquqYGOjkQZg+np1d15gyXy6UuLEDEtbboaDadDiEt8/39V4eGWHT6n/ES6TY29Tdv/vOjgUGKoSGXy8319W159CjL0THTwSHFwGCIQGCsr/85sdBn/jnJGAzBwoLNZA4RCBAxDmL7QYD1uZYWiGRZceIEBH4bJRI5LBZEE/wzKwIicaaamaWamlafP195+nTr06c4DGYoPR260GtjY5Pl5cOZmVwut/n+/VRTUwgXB9Hek3R0sl1doSlmef7+XR8+UIaHoW8HnX88Ftv96VN7dDQE/8uwta27fj3FyKj1yZMkNHoAh0uzsPjDpYN4hG3R0aWHDuGNjemrq7m+vjg0GvrixXv24LHYguDgJB0d6LQ33L6drK8P3R7TNTXJenq5vr4phoZQVq2oyDU15SoocJN0dKrOnMn19oaGZAzi8XgjoyQdnSxnZ+idHA+PZD29+bY2HBoNze9qefSoMSoq096+H4erOHkSGsaVamqapKOTYmiYamICgQ9xGEyyvn7Z0aPQAK4UQ0MISlq8d2+en1/xnj1pu3Yl6+mlW1kRLCwg2v7m9HSqiUnt1aupJiaVp06l29iUHjrUExeXHxjY+eYN3tg4PzBwvKgImpmD09MbzcmpvXIFmiQGXbvyY8eK9uxJNTFJNTPDYTCDePxgWlrx3r21ly51vn0L3UJJOjqpJiYZtrY4DCbX2xvi70Pj3qCznayr2/n+PUSshJivi52d/ThcEhq9Pj6+3Nvb+5+5dQVBQXgjo+aHD1NNTSvPnFkfH09Co1k02nxbW7aLCzRGDIdG442NSw8dWh0Y+OdZwGCIbm5zzc1Fu3cn6ejUXLoEHcNKf3+2s3PmfwbdFO/bl6Sjk+noWBAURF9drTp7lvz1a56vb35gYP316zmenvNtbQ1//914507NfyYiVF+4ULx3b29CQs2lS/V///0/VrnivXv7k5KgK9Lx6tVyT89IdnbR7t2kmJgcT880c3PaykrNpUv1N278Cg9f7umBBrdwudzR3Nzpmhrm5mbrkycFgYFt0dFsBiNJRyfVzKzx7t2p6uo/y2ASGl155gzByqru+vXuz5+hi5JhYzNTX7/Q0VFx8mSSjs4SmZzp4ACNMYCejj9gxT/XovTgwWQ9PerSUq63d/G+fZWnT2e7uKQaG0Or3B86LJfLXR0YgF7QV1dbHz/+Z0Frbv6zOKeamq6Njk5VVo5kZ3M5nILAwD9Dk6iLi9B/8cbGTVFRyRjMbGNjnp/fSFbWQHJy+fHj7S9fsqhUHBrd9e7dn7W34/VrLpe70N4OESKh1ZXo7l4YGtr55k37ixd0CiXX2xuaY5tuZQV9O8ro6EpfX0Fw8EJHR8WJE9AvYTOZVWfOjBcVTdfW5nh6zrW01Fy61P3p06+IiPzAwPKjR/99+aYqKzlsdvG+ff9M5XF0TEKjyXFx2a6u/x+mIf2vZ8C1V67QFhfVAwNbHj5UDwqC7C1Zjo4Q4eFPO6xvael8S0tvXNzKwEAEiUR0dd2cmQnv6uJyuWwabSQrS0hRsfLkSSi0maqoULCzm6mpgSORsrt21V+/ztzYsHn3jkGhZDs76xw5gj5yhGBuDsWD6ZaWWnv3kmNjeYSEAiors11cdoSGMiiU2YYGCIDS9e7d75wcFS8vYWVlNT+/vvj4nvh4WSzW8sULyBCY5eiIPnpUe9++kn37eMXEFjs6XFNTq0+fXh8fh6yDY/n5fFJSsqamhaGhbng8FISu9PUZXro0gMPxCArO1NY6xMUVR0ZK6etPlpWJ6+hAmWjR7t12nz6RY2KWSCSnhATa0lLbs2dwJHKxs1NIRQXJxwd9LN3CwvbTJyl9/d7v33ceODBZWkpdWGh58AAGh/sUFfGKi2c7Odl+/PgrLIxfRoa6sGAWFaUeGIjHYhXt7Rlra0pOThohIetjYzxCQhk2NjLGxtSFBfrqKuT6m62v/52X9zsvz51AEFVXT9bTs3z2TNnNrffbt+5PnyyePKm/fj24qYno6iqupTVdWxva2tr7/fv6+DibRhPfuZMcE6Pk4mJ6506amZlGcDDm2LHivXtljI2nKiq25uc90tNhcDibwWi8fXtHSMhwZqZLUlKamZmEjo7j9+8AAKjXq/zo0Y3x8Y2pqfDu7sbbt6cqKqT09Oirq84/f/6JZwkWFpjjx2mLiyOZmV55eSgRkWQMhl9WVsXDoy8+XkRV1ZNITDEwEN2xY3NiQkRNDbLNy5qZjRcVuRMIrY8fL7a3u6amZtrbi2porA0PIwUEYAgEZXhYQlt7a37ePT298uRJOoUipa8/UVQka2pqfPNmro8PgMHCOzsz7eyUXV3nW1spg4NcDie4qal0//6Vvj4BOTnv/Pxf4eHr4+OhTQ3S0kBFBRgZAfchJzaTyWWzIURG5V9/LbS1CcjJbU5Pu6aklOzbJyAn54LDlR85Qhke5rLZOkeOkD59EtfRoS8vq/n7kz59guZ2NNy8iRIT47JYLBqNV0REWFV1qauLR1BQAo2eqa/XOXRoMDmZT1IS0opn6uoiSKSSffvmW1oiyOQ0ExMeERHq/Ly0kdESiYQSEVH18uIVF29/8YJHUFDV13coNVVATo5Fo9GWlpB8fJq7d/d8/aro6Gjz5g0E1ARwuNHly3XXrols374xNQUVRBgUykRxsYiamoCcXGFoKH1lBbrfoCsFGYt6vn4lff6svX//EB5PX11VdHSca2zkl5Gxj40tCA5G8vIKKyvPt7aKamjQFhf9KyqIrq66f/1F+vTJu6AAb2gopKSE4OODAbA6NBTa1lYcGal3+nTpwYMwBALBw8Om0wEMJoFGQ0hRDpMpa2YGsSk4LBYciYQyRdbW1mxDQ/vTp96/fk0UF/clJkqi0UZXr6YYGOgcPiyuqdl8/35AdXWul5eSszObRmPT6YOpqds9PccKCv6sTpn29lJ6esytLZNbt9h0etmhQ+La2kgBAcvo6LXhYTEtLebmJn11dSwvTz0wMMPWFlLv0nbt8i8rKz9+nE9MbLm317e4GDqkdCsrNoMR0tRUffasBAYzlp/vkZk5RCCsjYwYXbnS8fq1wblzkFkV0qgYa2vt0dFm9+5BPqbSgwcdv337Y9gEAAxnZPTFx1Pn56GFCDLwb05PQwqqjInJxsSE3K5dplFRrY8fY69fb7x1ayQ7G3v9umZ4+NbcnICs7GJnJ2V4eLa+3vL5c8hYDofDQzs6AAAphoZIXl7oNydjMHAUKrStLc3UVEBOzvnnTxgCwSMoSDA3Z9FokHGs/+fP9ufPIXwQ9Gd1YGAQjze5davvx4/+xERJPT04ArHdy6s3Pt7hyxcYAlFx4oSKu3vzvXv6586NZGcLSEtDfIzOV6+2WVtDAluul5eQoqKav7+yq+tSV9dCe3vHq1cQyg1qNez99o0UGxvc0NB8//5odrbVy5eTZWWmd++2Pno0VlAQUF0939wsY2Ky0N7edOeO/ZcvArKykLcXMq7/CgtT9fEZLyxUsLdX9fGR0teHerWRgoKX9+9PnZv7764Bs2k0h7g4FQ+PXQ8fau/dq3P4ML+0tISODgCg7NChkr17ofW97sqV7Z6eYpqa0B3s8+sXdIpna2uR/PximpozNTXSWGzZoUMAAAU7u4Hk5EE8vvXZszwfH/PHjyEoa/ODB8FNTQttbQAAaPctDAnhstkSO3c6JSQEVFb2xMX5FhUNpaYaXLgA9bNDmyWAw7lMpvjOnYz1dTmIOMjhFO/ZA5lK/Csr2TRampmZU0KC9Zs3dApFQMxSsakAACAASURBVFZWxdOTT0qq+uzZHHf35Z4ecmzsr9BQiMGU4+EhrKKyOTUFAOCXkRnE4+dbW7s/fFDz99c7fdr2wweIC7jU1bU6MIASETG8fBlqYOeTlBzLz9+YnARcrlV0NHV+HnJ2iGlrS+nrZ1hbt794UbxnD51CIcXEuBEIkvr6VWfP1l+/bnDpUumBAy44HHV+PoJE6nr3bqK4OLS1daamxj42tunevfrr1/N8fSH62ObMjHd+vtiOHQQLC4K5ecfLl8rOzmHt7eVHj5bs2xfe1aXg4ABRUBC8vC0PHzp8+waJzIJKSvpnzw4RCB2vXqm4uY3l53e8fBlYWyuiolKydy9ra6vvx4+xggIpQ8ONyUmXpKTwzs4BHK4wJKRo927BbduaHzyAgHxyFhZbs7NrIyO1V65AkOH51tbN2dnw7u6yI0fM7t1jbmxMlpdv9/HBGxlBI5JyPT2D6ur6vn+fLC9n0Wh1V692vX8vpKTkV1ran5AQ3t3tSSSSY2JQoqLuaWkawcEuOJyqt7eKu/tQWtrqwEDN+fMsKpVOoeT5+Sna20tiMEgBAdsPHxRsbKDmH2U3txwPD8Dl+hYVrfT3o8TEtubmivftC+/q8iIS08zMOCzWYErK5vQ0n5QUgo+PYG6OEhMTVlbmMJlLZPIymcym0Z49A6mpQEMD+Mz5K7m4WD59Kq6t7YrDFQQFrY+NhXd3W795A4PDJXV1pQ0M1sfGiG5uyz09qn5+gbW1cmZmMljs2vAwj7Cw3qlTUoaGHAZjurKSV0xMzszM5u1bFTc3xvr6Ynu73pkzkrq6s/X1MAB6vn5lbm7CeXhoKyszdXWKdnbJurrzLS0CcnI5np6Senr0lRX/8vJlEsno8mV+GRmDixehtnjA5W6Mj7vi8are3tDDyKJSxwsL+aSlbd6+Hc7MVHJ29quoAACoeHgIysm5Z2TsCAkpCArCYTAZtrZNUVECsrK5np4q7u4emZnKbm4AABgCgcNgWFtb6ZaW8tbW0FZNW1lBoFCz9fWMtTWbd+/yfHx4RUToq6vyNjZhHR3uBIKImlphaCivhISqj493QQEOg5EyNESgUG6pqdTlZUEFhcKgIBgSKWtmhuDlDe/qksZiIdiFa0qKmJYWv4wMgp9fIzgYkkmH8PgUPb0IMrn20qXlnh5FBweEgEDN+fNKzs5akZH9SUkbU1NhHR09X74gBQTUAgIAAJtTU/pnz/7OyxsrLLSPjZ0sKwvv6koxMAAAkGNjYXC49v79s/X1S52dgvLyAVVV9JUVq1evFtrbxbS0mBsbKz09na9fjxUUsOl0wOUm6+nluLsHNzSkW1k5xMZOlpfvCAnJsLZW9fXNdnaGwWBCiopTFRUAAHJMjKqvL/nLl8mSEqMrV+abm0eJxJqLF9ueP8dhMFCBabqqaiw/n8NiOcXH53p7zzU1DeLxnkRi27NnAIBcHx/1gACdI0dYNNqf+i4ErHb8/l3WzGyuqckFh9M9dQoAgBIVrbl4kUdIKLyrS2zHjq63bwVkZVOxWCl9/e4PHyDMRUhzc3hXV2hHR8n+/ZC5TEhZGRKW9c+fhw4puKnJk0jcnJnhERSElllJXd2V/n4I6uCclNTx6tVAUlK+nx8eixXT1BzLyysMDp5rbHROTLR68cLi2TN5GxuoSggAoC0tNUVFhbS0aEVGCsnLy5iYQMe/PjHR/f59loPDWEGBV26uRnDwYmcn5L6GIZFQfwcOg+GTlKw+e3bnwYMCcnIAAF4xMatXr+RtbKYqKwEAzM1N+y9fSvburT53Lm3XLmlDQ08isSAoCAAgZWAwWVbW/uJFnq+vgKzs2sgIg0JZJpOhNT/T3l7N338oNTVrYeG/3oQ139IyVVFRfvTo+tgYn6QkdKXRR46M5uTsCA93+vFDQFa29NAhBoVCsLCY+FeFuPXJE8iVkKynJ4PFUoaGnOLjHeLi1kZHmRsbcCRSztzcIyPDk0gsDA52/PYN8sJVnztn9+kTNEKy/vp1t9TUoIYGytAQn4REMgajc+hQy8OHtKWlbCenhdbWlocP08zMYAiEiKpqb0KCuJYWSlhYZPt2dwJB//x5aFOHCvujOTkSaHT1uXMQbCjN1HRtdBRqRMMcP85mMBy+fkUfO2b98iUAwDs/X8HOjrmxkeXo+Dsvz+fXL3EtLfXAQEF5ebyxMUpExOT27Yrjx6HncDQ7G/IWNt6+ne3sHN7dLYFGG1y6hOTnN755s+bSJX4ZGcgEyCcpaXb3rnNiYt/37/7l5UskknNioryVFRyJVPP1DWlpkdLXt/v8ue7qVf+KCiVn53w/P92//oIM2BwWK6yjA8nHN1NTgzl+HDKkBNXVSRsZUYaHofqNX2kphJmt/OsvvKGh3qlT5o8e+ZWVSWIwxZGRkOm/PzFRIygovKtrtqEBKSDAYTJX+/u19+2jLi0BGAyBQjVFRSk6ONh9+gQ53vmkpEJaWrR2715ob+dyOEh+/prz5xXt7BD8/DO1tSpubhwGI8XAILS11e7TpzRTU5O//26+d0/a2DiCTBaUk4OQUnVXrnjl5fXGx8uZm+scOoTk57f79Gk0K4tNp+ONjQUUFDLt7FL09edbWgIqK3M8PAwuXsSh0U1RUULKyt75+Yp2dhPFxcIqKtBciqG0tIGkJEkMBoZETlVWakZEcDmcteFhs6goCObuRSRK7NxpeOkSc3093dIyx9MzuLFxu5eXlL6+uLY2gpeXX1o6rKMDwcurvX+/qq9vxfHjKFHRN/wdly4BOzvQV9rFWFsT27Fjpq7O6sWL4n370EeOWDx5UnrwoKiGBpfDwaHRpv+HurcMi6rr+4Y3DdIqAgZiITDFkEN3SIO0SigmYoCtqCenddrdrcwMQ3d3NwzdKd01DMOwnw9/z7l97/f5ej3Hcc3hhxG3m732Xuu/1l6/+usvHn5+AUlJBEE0r1+vvH17rr+feOGCe3W1grt7uJrafH//8szMQHb28tzcdGtr6bVrI2VlXNzc2+ztG9+9G6upQbi5ubi5vRoa+EVF1+Px3Hx8mwwN9Z89U/LzE964cXF4mF9UdLyujpuXN9rQEF1dFdmyxeDZMzIGQzx3zqWkhF9CYry+vuTSpfnBQbHt24U3bvRqbFwYHLSJjc308am8dUv96tWppqal8fGJhoaFoaFMb++hwkJFb2+JXbu2mJvvdHEpDA5eXV3tjo9PdnSEWuyYleXV0AA7B+n79rlVVqpfvQpv2Fw8PBDXsUFNbaO+vtD69b2pqeN1dQuDg9ijR00/f1749av02jXQZU3Q6cCZYjMY4jt2rFdRMfv6lUokbnNwoKmpLU1OupaXc/PyUnC4rVZWCIquVVYGoUGWn193YqIHnY4giJSqKo+QEBmLXZqcHCouTrSzq3nwgIuLKz8gIM7CYpXNltXTa/3+veD0aYG1axEEwRw5IiQltTQ2Jq2hgSCI5O7dCII0f/tmSaVKEYleDQ3r8PgYI6Pp9vaF4eFf2dkFgYGFQUHJzs4Nb9/qPnggb2ub5unJzcOzzc5OKzQ0wdp6g4ZGwZkz6Oqq8uHDNgkJg3l5DhkZzgUFMlpaCIrqP3smICn5KzdXZMsWo7dv2ymUDRoaq0ym3qNHrqWlO5ydS69epRII8ra2uo8exZmZFQYHM6emzH/8gKl3rqcn6+DBuZ6eSG3t+levFH18Cs+cKbl8eYOqavbhwytLS+N0OtgYCK5bNz8wsDw720Ymz/f2ql68mObpuUFdfbOZGYIgblVVSXZ2/OLinvX1aR4ew6WloKQS3rgx0dp6aXx8trsbQRDX0tL28HAqkRhJIq0sLs60t/MKCgKDKcnefoOaGtwuleDgTB+fkbKyTcbGfGJiolu2pLi46D97ZhURsTQxAXPkdGsrgiAom73T1TXWzMyKRhOUlGz+8oWCxwtJS082NFSEhqa6uS2Nj5t+/eqYnb11zx4qgVD/5o3qhQtZfn7uNTWCkpLo6up0aysxOFh061aYa21iY5dnZtDV1cb37+kvX24xNW149450+3Z3XJzZ9++aN2/yCQt30GgIgoBx/WYTk80mJu1UqntVFXNqanFkREZXV0ZHB2h3uBMn8gMD0dVVAe7/+Pz4H8eAC8+dq374ELbmkxwcILqONT/PQTHzT5/+/+zI5+dzkpMBBkBRlP0vign4ZebBg4OFhQPZ2SiK1r99i6LodEdHyZUrgOw2vHsXb20N8CGKosl798JpAYEGAAZw0xUG439S+ays5n/9SvPw4ABFQyUlNE1NKpFIIRDyT5+uf/MG8vL+RDQBFBwqKkq0syu7efPPnzd9+dKdkADh2PCToeJiFEUnGhoAXRssKqp5/Bj+qfHjxwgSKdrIiLW4yAF0AcsZLChYXVlJ8/RseP/+d5yWhkamjw9FRSVcTY2mpRWlpwfQTvHFiyiKDpeW9qalwT0EtKb48mUURecGBigEAhmHi9TTQ1dX0/fvD/+3IR3R0Rzwg4zBNLx/35uaCoBQjIlJgq1tQVAQiqLRRkZZhw5xnkWUnt5sT0+CrS2nyTQtrTAMJuvQoZpHj8KUlRljY4ujo5V37mQdOtRGoUQbGdU8fNhGoUAI45/41sLgIPz3cA2Nme5uMgaT4uICIH3+6dNNnz93xsQAvpvl71947hz95cs4C4vSa9ei9PXj9+yJNTdv/vYN4N7S69cHCwo4z52mpZXm5dWTktIRFZXl7w9weM2jR4BuRmhpZR482PjhAyDZgPFTCITx+nq4D3CFcRYWnKtFUbTh/XsqkRimrFz1zz/Je/c2f/0KsO7Zs+jWrSgZh2v88CHNwyPF1TXa2Djz4EGapiZVTW2ytZWmoUHB4+OtrfsyMwuCggrPn0+0twfYO0pfn0IglN24EYbBTDY3U/B4qopKmodHvLX1REMDlUgMV1eHpwMgdxgGE2dpGa6mFqmjE2tmFmNsHK6hEa6uHmVgEGtmFobBrK6sTLW2Zvj4DBUXJ1hb1z59SsZioRVxlpbV9+8DQB5raprq4UFVVaVpaCxNTQEYD/h3+v79MSYm9W/fFgQFUYnEMAyGpqkJ941KJJJxuN7U1DAMpv7t22Rn54mGhvLQUEB2wzCYgdzccHX1cHX1grNn80+frn/7dqikpOzmTdbCwvL8fJiycvbhw1l+fpBJF4bB5J08uTg6SlFR6UlJibO0hP9LweMHsrMhIjBcTa36wQNIuINYz3A1tQRr61gzs4XhYQoeD4+gNCQEMHL4K4wsFEVZi4vjdDoZhwtTVmazWNCvkp2cOI81xtgYvkw2NVGJxDYKJdbcvObRo1gzsyQnp7B/OQHQSUpDQqINDBZHR1EUnW5vL//rLwBcsw4eTLCxSf431B0ASxggaR4ev/LzKQRCR0RExa1bnMuDpMX2iAj4AieEApX6by0CbB4YG/C7mNPTEK8Zb2XFOQ/83kgdHcg8hR8uDA3BKAAKTs6xY9DYkqtXK27dSnJyWpqc7IyOjiCRqERiuKpq9pEjUHbi9+yBAQjJgJw6lnviRObBg61hYXXPngFaD3yRsZoaOGx5bq48NLT40qVEW9vq+/fbqFQop7/rg7Iy9CIURRvevQOGUJa/P4qi7TRaZ3Q0zBQQNgq4PnTIvowMmoZG2fXrnEcWa2aWefAgfE/z8oLDRququuLisg4eRFE0ysAASu5vkoSPT92LF0uTk7+pLSoqkHgLwxwKSPHFi9mHD8eYmOQeP5516BA/CBb+qzFgOD8Zg9F/+nQgO5uHn3+woMAxOzvOzAyMihAEme3qgpewbH//ifp6KRUVfgkJ9StX+MXFaerqMtray3NzZl+/hhOJCBcX6fbtjQYGCIqymUwQjSXa2c319Gw0MDB89Sr/1KmhwkIERbfa2JBu3So8e3aouJhw+rSCl1fz169Kvr6ca2NOT0+1tMiQSNn+/tudnEbKyraYm/ckJhLOnIm3sADcsTc5eau1NWx3uFVUZPn5qQQF9aWljZSX8/Dzi+/YMdXaKionZ/DiBYIgkSSS9r179Bcv5vr63CoqZru7BwsKFL29C4OC+tLSvBobw1VVN2hoqF++PNvTs8nIaLikpPTqVRE5ObOvX9O9vBYGBxW9vekvXohu22b48qXwxo0gxs89cQLc0jN9fBZ+/RLetAlBELNv32oePSIGBwM92zo2Fl1dnenokFBQANv0GENDFoPhVl5eeOaM3tOnHMRoh7Nzpre3lJraBnX1qjt35KysuhMS5CwsFn790nvy5HeSdmjoQE4Oa3YW4eZ2q6hI9/S0oFBo6upi27YtDA2tJxAGCwoQBIGdOjlLS+bkpNiOHX2pqfiTJ2V0dCpCQ2H1TcHhZPX1d7m6cnFz1795s8vdXZpESnZ0XFlc3KChYfr5MwWH4+LlxR07hjl6lIzBcHFz84mIcPPxbXNwGMjMxB4/3pucPNXc7JSXl2hjAzr9+d5enQcPyFgsMThYyc8v2tBQ6+bN2mfPGKOjxHPnykJCJBQUrGNiwtXUbOPj07y8eAQELCkUAOeoBAKPoCBrfn6LhYXErl1DhYWyenqNb996/Av41T19utnUFEywU5ydWQsL0lpaPUlJYtu2MUZHubi5WXNz3Pz8Zj9+LI2NFQYFrVdRGSkrk7ezu5l5LLVY9vt3JONHs9Wgq8jmzfP9/cbv3s329Ozev7/k0qXx+vr5vr4NGhojZWVKBw/2JCQsTUzwCAqiKyu2SUkZBw5IEYl8IiKDBQWLw8Mb9fVnOjtxAQFl164JrlvnlJfX8OYNeHGsw2JZ8/O2SUlkDEZaU3OkvNyKRktzd0dRdC0Go+DlVX3/vrSmpt6jR3Hm5msxmIHsbLNv3xZHRgays0dKSyH3E3PkCOH06XRPz9neXtb8vCedXnD69Mri4nBZmSedHq2vv15FBbo0VUWFi5d3PQ5n+uULEJJpGhqCa9cuTUyIbdvGnJnZZGQkvHHjYH7+ZGPjNgeHrthYNoMhICnJXl7WvH59LRabHxg4398vtGGDlIoKc2pqqKTEk04fLi5u/vZtYWDANikpXFUV4eKSs7CY7ekR27YNnGKj9PT2Fha2fP+u6O0N1UNAQmJvURGFQHAtLZ1qbm79+XNpcpJfVHQgJwdAK1ArgBMOTUODT0SEOT29HodjLSzM9fWZfPiQ5ednFRlZcPo0PDWHjIzsw4e3mJrOdHRMNDQsjowwp6e37tnTn5a2xcKiNzFRztqazWCIbd8utGFD85cvguvXW1Iomd7eM11dqyzWTje3zshIwLnKQkK4BQQ0rl1L8/AQkpLabGJScesWj4CAvLU19tgx+suXwps28a5ZI29jE21gwMXFxScqiqCovK3tSFmZoJSUgpfXYG6u5l9/QSJcW1iYoJSU2qVL9OfPl+fmnHJyepOSxmprZ7u7gZAcbWCwnkAwePHiV27u/MDAegJhprOz4tYti58/JRUVaerqSn5+s93drIUFdHV1uKRE9+HDCTod4oOiDQzUr17lFxOb6ewUkJQsvXLF7Pv39QRCupfXbE+P6NatlhRKvJWVrI7OwvCw4YsXrPn5xZERCQUFmoYG/uRJcALOCwiA5KVIbW0pVVXDV6/IWKy8tbXO/fsQZ9JGJm/Q1DR6/Tpj/37dhw/jLS3BpTL/1KntDg6bjIwyvL3nenrMvn2b7ugoCwlxq6iount3o74+Nx8f8JOhD8hoaW00MNjm4JDi4jLd2upZX78wONj44YPmjRsgCASHuK7YWJC8y+roTHd0OGZmRunqSmtpzXZ3g88o9GSUzYawOI2QEAoOxyss7JyXxyMgQMHjxbZvn2lv92psBIciDp37/++c89+3BQ3GTF6Nje1UKmt+vi893TE7G6w2zL59g02PxeHhonPnEAQx+fjR/McPo3fviOfOgTrWrbJysqlpaWKiNyWFR0jIvbq69OpVPmHhgtOnYfZFEERw7VrP+nrwtlwaHxeWlUVRFLZt9Z484ebjAweu5k+fGOPjoAQPV1XtT0+XIZEiNDVNPn5sp1DW4XD1r17p/POPsKys9r17ESQS8NGpKiqTjY2EU6f60tIsqVQubu6lyUnBtWtnOjp+5eWZfvli8OIFtGJvUdEmIyNwzEcQRGzbtsWRkdafP4dLSwGbca+uNn73LmXvXpCszXR2ItzcIFm2IJOdcnO3Ozu719TMdHRAwq6ij09fWprR69cQTWH27ZtDZuZ4XR2vkFCktjZrbo7+4kV3XBxE9WUfOjROp9e/fr0Oh0v39FxhMPSfPAFYKD8wkEokRmhq7nB2pqmrG7x6hQ8MrHv+3DYpaZxOd0hP32Zv35eevjgygiBIG5nMZjIFJCTcqqqsY2LS9+2b7etDEIRPWHh1ZQVlsw1fvfKk09fhcFQCgYuLS+eff+RtbTtoND5R0bIbN1A2mzE+DrYn3Ly8/KKim4yNm799m+/r2+7kNFZVtbq8LCInZ/r5c92zZwiCeNTUTDQ2AkbFzcdn9O4d4dQpflHRxbGx0cpKo7dv2SwWgiC2SUnzv36JycuvxeFaw8Ikdu1qePOGgsPJaGltMja2iY1lzc/vcHbmFxdfHB6uefx4lcX6lZvLzcPDGB0VXLeOi4trrrcXXV0V2bx5m6PjeG1tf2qq+tWrjLEx448fo/T0wtXUUt3cCGfOZPv7A/wvsG6dfVpaT2Ii9tix6bY20a1bWQsLPEJChq9fp7q4yGhrr1VWHiwokFRS0vrrr/RSWS4uRFkZefpkVVpT0z411TErq/jSpd3790fp6nYnJq4uLaEoquDpiQsIaPv5k5uPj1dIaI2MzCqbzc3Htzg83J+Z2RkdLSAhQbp1S/XiRcboaN3Tpwg3t1NeXnd8PIhEnfPyptvbFX19w9XUBNeune/rQxAkLzBQUkmJm49PZNOmlaUl1vz8SFkZCDQXh4cV9u1bnp0tvnCBMToK4SVc3NxL4+MJ1tbb7O25uLk96fTmL1+4eHnn+vpE5eQiSCR+cfEJOh3me9PPn11LS6daW7P9/RX270cQxPTTp8XhYSEpqamWlsWhIfUrV4aLi+d6evSfPFmenl6Pw3nS6bv373ctLS2/ebPu2TMubu5VFotXQGAgO1vR19eTTs/29y8MDt69f79tUhKYAysfOjTT1cUYHdW+c4eCx1fdvQsLhdYfP3KOHAlXU9tiZrbCYGT7+yMoGmNo2BER8Ss3V+fevZn2dsUDB9hMZn9m5vLsLEhdqQSCbUKChIKCyJYtyocPW4SFrTAY61VUdrq5ie/YISAhAZm+CILwCAjUPHw4kJureeOGU04OKTR0urWVi4+PMTrKJybWk5Sk//w5+JPzi4oCXmD2/fvewkIrGg1z+LBLSQkFh0uytx8sLJRWV2+nUi2pVIMXL8pCQtZhMFY0mvq1a7Gmppo3b3Jxcw9kZqa6uir5+ZFu32YzmaJbt4rKyS3PzZl8+ICurIxUVv42LbhwQWDtWsbIyBYzMz4Rkd379lFwuJmuLhRBhktKEATpS0uzjo6ebmujEgh8IiL9WVkVoaGjlZXulZX5gYG5x4+vxWBmOjv70tKM3rwxfvfOk06fbGzkhPchCCJnaclaWBguLpaztFS9eHE9gYCy2Tr37/MJC+vev48gCD4wkDE+LrxxY3dCQt7JkxIKCmQMRkBSkv7iRaaPDwWLne/v3+XpmR8YCGkoAHLB7DuQldWXmsovLj7d2lp19675z58Nb99KEYmGb94k2trOdHZuNjXNPX5cSlV1b1FR+c2bW62sJBUVaRoaG9TV80+dktbSitLXT3Z0BJch5sxMaUgIlEqn3NyEPXuWZ2Y0b9yAd4my69cbP3wA9favnBxPOh0fGAhNsAgL2+XhoRESApYsJZcugY4LQZCu6Gj47lpaChvOCIoSg4K8Ghvrnj9fnpmB2qtx40a0gcE3JaX/+jxgeTu7xeHhmc5Ok0+fQGQGEIuSn18EieRaWpp7/PhGPT2IZyj/66/ptraliQnm1JRrWdlsd7fYtm3gGLXCYJSFhCAIAlEkI+Xl4H+2srjIZjKTHBxs4uLqnj2zIJOBcAgsPo+aGpMPH2A5I6unl7F/P8AV7OVl9vIycApiTEyIZ87I29sPZGeDYs8pN1fexoaCw0lraVmQyc2fPw/k5GxQU9vu6LhWWVl8xw78kyfgIw10KmFZWeAfQhyKe1VV/du3u728JhsaUDbbpbi48MwZ4PG6FBfjAgIqb90aLi0VXLcO4s8QBJnt7q57+nRxbExy925POj2SRCJjsZo3b65VVi4MChKVl4dGkTEYh8zMtrCwbQ4O/RkZmjdvJtjYgHYeQRB4Jx6vq5toaKi6e7f85s0de/eK7dghODe3081to77+SHm5W2Vl08ePXXFxtgkJCIKMlJWtMBgSCgr8YmJrpKVjjIw2GhpCdjeCICKbN/MJC4OQ2ikvD9xoQZQsZ26uef16hrd3pLb2Njs7IGhEGxqKbNmywmBo//NPxV9/2SYlCUlJAYFztrs7SldXRE4OOkDOkSOC69Z51tfnHD06Xlvb+P695s2bwrKyKJvNLy7eTqXuLSjg5uEBOh4YJM339q4sLc12dCyOjhKDg2sfP14jI8MYH4c7LyQl1RoWxi8qSjx/fouZ2crCQiuZvLK46FFbG66qysXDU3rtmrCs7J6oqCgdHVxAwAZ19eS9e/nFxKQ1NS0plERb2+1OTiPl5Ws2bCDdvs1msXIOHx4sKBDZtKmdSjV5/77m8WM2kym5e3cHjeZRWxupq7s8Pb0OixWWlc38WsvNraKjg6ipIVX3Enbv30/GYj3r6pZnZsgYDDcfH6D+eYGB021tjR8+KHp784uJLU1OEs+fj9bTi7e0lLO0nO3s3GpruzAwUHrtmt7Dh+jqKhcPzy5Pz9xjx2Y6O5dnZnj4+fszM9lMZu2TJ7yCgqts9vLEBIIgO5ydJXbuLA0J6c/MHC4p4RUSsomLK758mZuXlzk+3k4mt1OpwyeLMwAAIABJREFU3Hx8KwxGlK6utKbmDheXkkuXbBMT+9PTRbduDVdTYzOZQNzDBwZG6+ujbDZrcZG9tJSwZ48FmZwXEKDg6YkPDIwxNt7h5LQOjxfbsUPJx6c9PFxAUhJybRcGBxP27FkF61YuroXBwZHycjaTqffoUc7RowpeXtKamsPFxTLa2vBqm7F/f+6xY0oHD+o9fiwgKSm6dWsbmax08GBFaKjgunXbHR15BAQWh4cVPD2VDh6M0NQcLCraaGAwVFTEzcPDZjKVDh7sTkhIcnDgXbNmk5FRZ1RU9T//IFxcLsXFfamp4AWLougqk7m6ssIjKOjV0FD7+PFoRUWyk9MKgzE/MKD74AGVQBDZssWtsjLb3585NcUYG2v9+XOut9eSSi0MCuJds4ZfXDw/MJA5NYU9flzr778RFC04c4YxPr7d0bHmwQNJRUWzb988amszfXx2eXgUXbzoWVfXERHRERHh2dCQe/SoyObNEZqaInJyWQcPjtfVuVdVhauo4AMDuXl5G969syCTe5KSHLOy0jw9LSmULebmoJSl4PH84uJCUlKrKyuSu3cvjox41tdPNjUhKLpmw4YIEsnk/XvB9evt09JoamrTbW1mX74UnTtHunULtvRYc3PmP382vHmzNDERa2KisG+f8qFDyzMz8FsKTp8GPQK/uLjh69fhRCLxwoVIEknOykpKTW0tFpsXEGATH98dF8cYH18YHNygqiqyeXNhcLCEgsIGDQ31K1cidXQ4XtZzfX1bzMyEN27sT0/vio9X8PCQ1dNbTyQuTU25VVRw3mI3Gxtvc3Rch8Uyp6bsU1MjSCRJRUXYuptoaBjIzp4fGHDIyCgKDlb09k60tYXwcgoeLyAhMdPeDnR0j5qaKD093IkTRRcuGL1+PdncvA6LtQgLA+q1Q0YGGEyKyMnBDgr95UviuXNrZGTmBwbiLS1VL1zg4uGhP38uKCXlXlNT/eCB6vnzoDZO379fQkGhKyZmo4HBWGWlwNq1+k+fxhgZmXz+bJeSoi0r6/3fjgFX3btHVVMrOHMG1HscWBe27P8HPtTUHKupyTl2LMPHp+LWrdJr11AU7U1LizY0ZExMTDY1gdI398QJwK5Gyst7kpMb3r7lQAIj5eW/N/dVVdP37aMQCIn29vCTCBJpoqEBvgMACSrkTD+/jAMHQFg2XldHxmJT3NwAPyi+eHGmszPb3x+UarknTqAomunrS8bhAJTKCwgAOBbQVgoe30omp+/bF2dhEWNiEkEiQQObPn2Ks7QcLCxs/vaN/vJl7vHjIDzlaJcBvBksLERRdLCgINPP7897EmNszFpYgCMzvL1RFB0qKaEQCHBYmLJyxa1bZTduRJBIBWfO/MaeP32Kt7L6UySde+JET1ISNCHL359zx5o+fy65epWmrp5gbY2iaIKtbYa3N0VFZbS6Gl1djTUzi9LXzzlyZLq9faq1FVCTgrNnF0dHS69fzw0IaHj3DkXRitu3Ad0HgLwjMpJCICQ5Oo6Ul9e/eROurj5aXY2iaPPXr12xsf8L7wedX5SBQRuVGm9tHaasTMbh4EmFKSsDZhlBInEAs+w/BHyJdnY9ycm1z55x7iT8gdaB8RaKog1v32b4+ABAVXjuXJqHR4yxcf3r121U6nRHB3SDZGdnMg4XoaVV8/BhpK7ub6STSCTjcLkBAfC4AUUjY7ErTOZsT0+smVmSg0OGt3eUvv6OHaiVFbq6ipKx2Cg9vURb26nWVjIW25OSQsbhovT1K+/eZTOZUQYGRefOZRw4EKWvT8Zg4DoBo0pxdaUQCBQ8Pvvw4QRbW4qKSgSJBP0kXE0t1sSEjMHQNDXDMJg2CqWdRgtTVu5NTR2rrYVuBr0oQlt7rKYmwcYmwcaGjMPVPnkSbWAw291NwePJOBwQF34r13G4lu/faZqaZAwGIFgYj3BM3bNn4WpqS1NTYRgMPBEKgTBaVZVob1/75AlVRWW4rAwgvVR3dzIWG21k1PL9+1hNTZS+foyxcay5+W84X1W1Ky4u5+jRumfP2igUFEXzAgMzvL3haikEQpSeXgSJlHP0aMnVq1QisSAoKMHWFkZNpp8fAK51L15EGxoC+oui6ER9PYihS0NC8gIDk5ycovT0oFe3UamZfn4N794B4IeiaKy5efbRoxyaBZyw6fNngITLrl+PIJF+5efH79lTcvnyQG4ugKPQbTIOHACSCgy6CB2dcHX13OPHo42MUt3dM/38lufmuuLioC3h6uo0DY0YI6PJpqbelJRIXd2Kv/9uePeu6Px5MhYbqavbl5a2PDeXfeQITUMDTjjR2MghQMRbWcVZWDT+Szjoio/n2CEAptv48eNMd3f1gwcQxgUPqyclpez69QQ7OzisPDR0YXAQ6uTS1FQrmQw3OePAgaHiYmh1uIYGwMwtP34sTU0VBge3/PjxKzeXUyRjTU0jSKQoA4PF8XHOQIMbAgDzcHl5kpMTFB+OPUAYBpPk4ABoboyJSZKDA6eIlVy+DOAuiqKgEl6anIzS1y+5ehWMBAB/BYoJ4NwoiuadPJlgY4Oi6CqbXR4a2p+VBdPB4shItKFhYVAQhUAounix+NIlFEVnuroA3k7eu7crPj7DxyfR3v5PQfMKgwF3+1d+/q/8/N6UFA5zCEwLUBTtiIqK0NaeHxjIO3my7OZNqGZpXl7/D3TA/3kjDlVVMh4PNwvmqopbt6B5UGpzAwLgKcLDDlNW5syRUDJSXFzAk+H3Q71yhaqq+icTarisDCoLEBP+7BwwTWYfOZJgYxNjYlJy9Src+vlfvziTHHyJNjDI8PaO0NIaKi5OcXXlFH0KgUB/9SrD2zvN0xOoDWQcjkokRhsaxpqZzfX3/+6mJiYoitY+eQKchdpnz5KdnDgjmfOJNTOLNjRM379/dWUFRdH+rCwgKfyejaytB3JyMry9w/+V6lMIBCqRmBsQkOTk9Od5wtXVC4ODU1xc/qws3YmJfzaq8s6dme7ujsjIwaIizn+MNjLKPnJkrKaGoqLS/PUrnLzp0yfO04m3smr5+ZPDXuHcYc7cBiWy+uHD/NOngcuW7e8fQSJ1xsSMlJeDk8CfayygwgHlIc7CAgr0/MDAwvAwcHY44x+IHj1JSSiK1r9+nezsDCeP0tcvPHcOCDhlN26kuLmN19dHGRhE6OjA76p+8CDB1nayqWmoqCjayIiqqkrB4xNsbGiamsB7IuNwPSkpqe7ucRYWiQ4OsFiBQQ7LjlgzM7hCmN7IWGyMiUlvSgpUhDQvr2gjo7yTJ8OUlWFw5p44EWtqmmBtXXbzZl9GRu7x49dVr8KwT7SzA6eXnCNHii9dyjp0iFPFyFhsqptbjLFxbmBgnKUlGYebamuDHpXs7Bxnabk8NwcOEmQMJs7KKtHePvfECVgBZBw4sDg2FkEiRenrN336lH/q1EBODkwzWQcPkvH4voyMKH39MGVlqqpqtJERGYfLO3myPysLHlzt06eJtrbQxqLz58OUlSl4fMnlyzQNjXYaLVxNbayuDphWUM6oRGJhcHDTly9QWDtjYkarq0cqKiJ1dZcmJyN1dKhEIrS3MDi4MzY2NyAAinu0kVGCrW1fRka0gUGCjQ2MozBl5Z7k5LoXL8LV1YHLk334cO3Tp4XnzvVnZcFSg0ogZPr6wmr4V34+zEwTjY0UAiFSR6fm8WPo5wPZ2TDW/vzUPn2a5ODQ+OFD5Z07mT4+kXp6vampsaamMFUzxscbP35s/voVRdG4PXs4PgydMTFpnp4cHlMYBgPLx/G6OvqrV7Gmpstzc7knTsSZmxedO0fG4WoePYo2NEx2dgY/isnm5nYabbqjAzoJfFLd3bMOHuyKi4POP93ZmbJ373BpKZy//K+/oHctDA93xsSMVFQM5OYmOTq2fP8ODKnZnp4YI6OelBTOjFX34gXMo8CmBC+ame5ucEThVJXiy5fHamujDQ3zT52abG7+7R9y9myivX3Rv3YihcHB4IDE+VQ/eFD/5k3L9+8wR/75AQIp/dWr33XD0BBKN/kP+lhpSEgYBpNgYzNOp8fb2PxeJfv7Q2Mb37+PIJHG6+t/5ee3/vwJVDKw3YAFGTzQheFhqCfwrzWPHv3Kzy+9dm1xdJRCIMDEMV5XF66unuLqmn/qVMrevQVnz8JSI33fvth/TZY4k0gYFlv75MmfbWmn0chYbKq7O4qicVZWMaamTV++wN0DGxlYwUAxaXj7FkXRZCenaCOjv7Zt+68nYfVnZm42NY3S01Py9W369MmlpKTx/fumT59cy8qq//lH9eJFQPUZ4+PYo0c3m5gkOTjM9fZ61NZSCIQNROJEQwPCxSW+fftcby83J0SWQODh51+rpCRNIuFOnJior8/292ctLHg1NMBedOXt29x8fDMdHcMlJTr372/ds4eCxdomJYlu3cqcmuLm5eUTFW35+pX+6hW/qKje06fr8fhwNbXV5WXP+voYIyMuHh7HrKzax48hzQNBkCh9fbGtWw1evoRgGaCzR2hrezU0gPFbwp49qhcvshYWmr98kdi1S/vuXQRBptvbJXbtWpqcjDEy8qTTIbxorrdXdOvWovPne5OThaSkBCQleYWEplpawBtyqrm5Pz3dvaYm/+TJ+YEB8Z07tzs7y+roIAhSGBQkZ2HR/PUre3mZNT+vfPDg/MDACoOhERICTITptjbW/LxWaCgFizV8/XqjgQGCILknTmw2Mmr6+NHg5UseAQHRrVvjrazkbW1XFheVDh7sjIxcIy1dfvOmlJraKos12djIw8/PZjJX2WxPOp29tJQXEGDy6VNnVNSOvXuTHBw2GRl10Gj8YmKwM5xoa7swOCi8caNtYiK0LtHWdqO+fnt4uHt1dcKePZo3b2b7+3vW1w/m51c/eEAMCtpkbBypowMw8+LIiMimTUp+fusJhBRXV6M3b0A/2vThg/LhwzQNDUklpfGaGs/6egARCoOC9B4/RhCEpqmJrqy4V1fnHD06WlmJrqzscHHZ7uCQ6ePjXlOTYG1tl5xMwWLVr13jExaWt7NLdXPTvnMn09dX3tZ2vK6OV1DQ9MsXqoqKvI3NdienitBQcHVfh8Uqens3ffzInJpyzMmJ0tNbZbFWFhfFd+7k5uObamlZTyCwFhaso6MzfXwmGxvdKitp6uprZGTmensh0GmtsrLI5s2tP38CZLXL03O6pYXNZI5VV8s7OIzX1rLm55cmJsBJY7Opad2TJ1w8PGsxGNb8/FRLi5SKykRjo/j27TI6Oipnz2b5+Y3X1UHoHhcPz5oNGxZHRlA22zwsrPL2bfXLl8tu3pzt7GSzWIJr1zrn58eamtqnpISrqfFLSCzPzKBstvH792DCB9t63Hx87KUlflFR7LFj9Fevdu/bN9nYuMXcfKSiYiArS2TLloVfv6BRKwyGqJycXUpK8cWLfamp8nZ2M52dkw0NnvX17VRqxa1b7lVVEdraHtXVoxUV1Q8ecHFzi2zaNNHYaBUeDuyNqeZmSSWlGCOj5bk596qqWBOTVTZbTF5+sqnJraICWDCupaX0Fy9me3p4BASGS0rYTKZLcTEFj/ek08PV1ITWr7dLTp5ub6959Gh5ZmaHq2tfSspoeTmPkJCYvLzx+/dRenpejY0Rmpqi8vI8/Px8YmJLExO8AgLM6WkrGi1SV1d8+3ariIjmr19n2tpme3rkbW0RLi4FT08INRKQlHTKzf0ziyxaX59HQEBh377RigoZHR1Q5XXHxZVcverV0BBvZcXNwzPb07NeRcXkw4eUvXsRBNlsZvYrJ2d+YEDexoZ0+3aktvZWG5uhggIYIGDECHHCEw0N4tu3oygqZ2Ex1dKidvky/eXLtrAw1vz87gMHehITRbZskbOwaPn2TXD9es2bN0suX15dXgbkPuPAgQk6fU9UFOBBxRcvznR0SCoqCm/aBFHze6KiBvPypjs6lA8dmmlvF9qwId7KyqWkBDhHw6WlY5WVLT9+aFy/PtXc/Csnh3fNGghKAd1tf0ZG2fXrfKKixHPntjs41D5+3B4ezvG2hE+inZ3igQNC0tIzHR1tZPJGAwMFL692CkXj+vWSK1eIwcG5J04sDAyQ7twpCg4GrCpaX5+Ll3e9isp2B4ex6moop1H6+rvc3PCBgXBasBGFSjXf12ebmBhtaOiclwfml5AqiCBImrs7JIdq372be+wYr5DQUEmJ/pMnolu3gkU5/eVLxQMHmNPTOUeOcPHyAjAHqFy0np7h27frsFjWwgJI5hAEGczL22ho2JOQMFpdrXnjRiSJJCQtbRMXt8JgVN+/P9fXN9PWNjo6eqy19b+bhAVS7r2FhfWvX68sLg7m5y9NTrqWlSEIonrxYsnly81fvxq+ekX6+++xmpqSy5dt4uI8amuz/f096+pMv35lLy+b//iBO3kSXV2VIhLBH3WDujqPoKDZ9++4EyfizMzW4XCuZWUAwRq/exdvaal+9aqAhITx+/drlZUhcMOzoSHBxiZCUzPnyBE+UVEEQRR9fWW0tHZ7e6/H47vi4niFhAClx508yRgZQRAE/Ghme3rIWKzhq1fad+8KSEiskZHpiIhAEIRPVNQ+NXWosHB1ZQVBENKdO5uMjOqePt1kZMQjINAZFQW+MM2fPwuuXWvw/Hmmjw8knJRcuZJob6/74MFOFxftO3dmOjosyOTVlRUQv+v884/p16+1T56M19dbx8aKyMnJ6uhk+vggCLJ1z57elBTV8+cFJCQc0tMb378nnjunERISTiQOFhRsd3SU1dHZ5e5OU1f3bGjYaGBQfOkSmMVssbBgLSykurom2dsjCGKfmoo/eXKyqan1x4/61697U1N5BASmW1s36umpX73qUloqo6vLw8eX7OiY5Oho8ukTGYPpz86e6+kR27aNh59/m4OD8KZNhWfOzPX1Gbx44V5dvdnEpOLvv4GFYZuYOFxaKqWmlrF/P3t5WVpLy7O+Pufw4Y0GBotDQxIKCr2pqSuLi3zCwgbPn3s1NGwyMqr4+29JJaWtVlb058/bqNS53t7Z7u5kJydpLS3W/LxnfX1PQoLa5cvpXl5CUlKgU1xPIOjcv1969arxu3fuVVUom92bnNz48aNTXl5fevr8wABVRYV44UJ/ZuZMV1einR0+MFB069aVxcVfubka166NVlVF6eoiCAKy2qWJCa+GBm5ubksqteTKFZVz5/CnTsUYGWEOH15hMHiFhfGnTlnRaCibrRUayhgZ6c/ImOvtlVBQoOBwApKStomJwps2yZmbM0ZHp1paFoaHJXbtijU1XWEwlkZHtf/5x+z7dy5e3p64uIXBQeb0tIyWlti2bbxCQiibvcXcfHVlZay6WnjjRn4xMQAL1+HxzZ8/UwkEFEVXWaxdHh7o6uoaaWnG+Pg6PJ69vJzm7q7k65sXEDDb3c1eXuZbs4bNZCIIwhgboxKJYtu2Kfn6blBT4+LmzjlypOnz5wRrazIGwyMoyGYy1+FwvMLCk83N3Ly8jR8+6Dx4UP7XX3KWli4lJXO9vTyCgpW3bm13dhaWlYXuqhESIm9r2xUTM9PezsXNneLissvDg19UNFxNDWGzEQQpDQlZZTLnenomGhoWh4aSHByoBEIEidQZFYUgyNLkJJvJTPPwWGWxlsbHR6uqeIWEkp2cFDw90ZWVgezskYoKOQsLfECAU04OUCK0794NJxLlLC3X4XCROjqSioo7XVwWBgbkraymmppkdHURLi4BScnO6GjeNWuSnZwE1q4FsshGXV1uHh45S8vZnp6J+noFLy/woKh99GjH3r2QIFT76BFzenqnmxvh9Gnznz8jtLRY8/M73dyaPn8uOHPGuaAAc/Qoc3ra8PVr5tQUOEWUhoQAA2uHs/PS1JTwxo3a9+4tTUxAxBOfiIiApORaZWWYrV1KSjqoVPu0tPR9+yJIpKnm5rqnTxNtbVcYDPvU1JGysuGSku1OTmqXL8dbWeFPnnQpKZHV12fNz0vu3s27Zo2ij49jdjb22LHp1lajt2+BsB1rYjJWU+NaXj5cUkLB4xvfvx8sKOARFNzh4oI7cSJcVVXR17fg7Nn5gYGdbm5Zfn7p+/fnHD0Kc6dGSAhVRWWosLAzNnZ1ebn+1aut1tZbzM0XR0fJGAz9+fNEW9s4C4vtTk7u1dWsubmRsjIuHp7uxESDFy9cSkqWZ2fjrazqnj8vvXLFNiFBzspqvKamIzx8rbLyGmnp3OPHNa5fL//rL+07d4ovXbIKD+fm56+6e1dw/fpYM7OJhgbnggKnnJyFX782GRk1f/0K+e7at2+3/vwZZ24OzJ6qe/eoKioxxsZGr1+vLi8DQ6goOBgUz81fviAIEm9uPt3evtHAAJhovMLCek+eaP31l4y2doK1tTSJVHzxIv7kSX5x8cGCAvu0NGC5AkKcvm/fdmfnxaGhgjNn+ISFJxsbgesjq68PluCdkZGD+fkupaU2cXHAMdK8cYObl3e7s/Pqf1wF/J8PYwjDYDhBjBCPzMHnl2dnPel0KFXLf8R7cdZE3fHxEgoKkoqKoOCW2L07yd5+rr/fIS0NDmh4946Liwtz5Eju0aNLU1MyJBIXL++vnBzrmJjBggLm1FTzly/T7e2iW7faJSVxTA1bf/5kTk3hAwPByezPbFr9p09B8GP27RtVRcWjtrbl61dFX994CwtsQEBlaKhmaKi8jQ3Qx0DwUxYSsrK4uDgyYv7zJ+dU+adOoWz2dFvbJkNDiM7uio3tTkgw/fQJmHh96elGb9+CP1yEtrZrSUmira1tYmKah4fJx498IiKFQUGkW7davn/HHjuW6eMjqaQ0XldnSaFUP3gw095u/P59srOztIYGFy+vxK5dpVevwt2DKGLQRLmUlvZnZjZ//rxGRmaoqGiTsTF7aak/I0OGRFqamFA+ckTe2npxeJgzU4I1Usb+/WpXrjS+fy+5e/caGRkuXt6Kv/5aYTDg/MCVRRAk3sJCSFra/MeP0cpKHgGBub4+5sTEbm/vgtOn+UREwO8enPNiTU0Vvb1BwBCpra168eLiyAikAmx3dCy+dGllYWEgO9siLIxHSIhvzZpMX9+1SkprZGWxx46NVlaK79yZ7e+/FoMxfPmy+cuX3uRkq4iIitBQRV/fRBsbETk5jZAQGRIJjNWGS0t5hYR4hYRwJ0/O9/dDysXC4CD22DH8yZOR2toCEhJzfX1ejY3M6eloAwMeAQEBcXFZPb1VFmu9ikpHZORmExPs0aNUFRVeISEeQUHm5KRHXR0Zg+ETFl5hMj3r6jL275fR0RmvrZWzslocGqp/88b08+ecw4edCwtbv39v+fZNWlNzuLycT1iYMTYGPR86Xpy5ucK+fUJSUvI2NjR19XV4/AqDMdPevsJg8IuLuxQXd0VHl4eG6j1+XBgUZJecnGBlxSsigrLZa2RkJBUUpjs6wGdNeONGiD9iLy8TTp8eq66e7e7GnzhRcu2a/tOnZTduiG7ZMtPVxWYypYhEaS2tvpQU7Xv3BNevT7S1RVZXVxgMpYMHO6Oi8IGBlbdvIwgivnPn8tQUws2t++BBd3x8d1yclKrqRH09ws3tWlqasX8/7sSJ2idPrCIiKDgcj6Agurq6xcxsk5FRd1yckp8fn4jIWgym+csXWT09PmHh7MOH7ZKSFgYHc44eXZqYMH77dh0evzgyEmtqysXNLaOtvcvNrejCBQhTsk9LA1pW0fnzug8eDJeWZh86tNnUFNL9EASpf/lys5mZpKIix1m26MKF5elpPlHR/owMSSWl5elp+7Q0DgWy6Pz5mfZ24U2bfuXmkm7fHsjKEpWXbw0L86iujjE25hUSWhgcdCkqiiCRwDfG/MeP8bq6zuhowXXrZrq6tjs4jJSXTzU1sZlMrVu3ttnZsebnC4OCmNPTk01NxODguufPxeTleYWEzL5+bQ0LU/LzW2WxuPn40vfvn2pqkrOw6E5MlFJVnWxslNXRMXjxIsvPb7KpSf/Zs9zjx0W3bLGKjKSpqQlt2CCpqAiqjZWlJV5BwZoHD4jnz8PeTxuVahMbi3Bx5Rw5YvjqVbyV1SqLxbtmzd7CQs4OUOHZswPZ2R51demenosjI4JSUnPd3WLbtlmGh3dERu50cYG7l+zkxLtmzRppab3Hj3tTUoovXgROU5yZmUNmJoIg43R6648f2KNHxXfuhN0s9+rqoaIiwbVr5wcG+EREZLS1c44eNX73LtvfX9HXd6OeXqaPz0xn597CQgRBMvbt2+XpCQ4qHrW1aZ6e+k+eDBYU9CQm6j1+LLhuXbKj43YnJ0Ufn8nGxt6UFOK5czFGRvxiYlKqquuw2KGior70dE7ZT3Z0RLi4EC4uYVlZw1evIHhjgk7P9PMTXLeOzWQ65+WhbDYXDw/c8z8nGiqBwC8uzl5a4hcXZy0suBQX5x4/bvTmDU1T0628HI7h5K9TiUTJ3btxJ05sNDCINTVVOXsWXBEHCwoqb90CC+RwNTXXsjIePr7/tAzpPz4Bl1y+TLpzBzh+I2Vl4PGt6O0db2mp++jRRH29gKQkn7Aw7D0iCBKhqclaWFDy9SWePw+7talubpONjV6NjcBqRhCk+MIFnfv3VxgMXiGheEtL9StXcgMCvBoaym/cADkdgiC1T540ffoEwzKSRHLMzk738gK9LBc3N2ycwgo3PzBwvK5OUklpT2Rk7ZMnKmfPJuzZY5eSEq6qul5FhTk1pffoEciUYXqj4HDCGzfap6VFaGryCAk55+XlHjsGylfY6NtbVMQvKrrKYoHiaIeLS5qHh7y1tayu7iZj47yTJ1XOnIGtpAhtbTF5ecLp0zIkUs6RI0p+fjLa2qVXrzJnZoaLigxfvx7IyuqIjOTm5RXZskXZ37/m4cPNJiYaISG9qalc3Nzz/f3Cmza1UyhCGzbscHbuTUnRCg1tDw/vjo9fHB5empz0qKkZzMsrDApSOXdOwdMTMqYaP3xcajzqAAAgAElEQVRQvXix4PRp19LS7vj4ne7uNQ8fdkZFCa5duzw3x5qb0/r77+2OjisMxkB2tryNDciRRysrN6irx5qYgKHm0sREtIGBXXIyv5hYtKGhtJaWypkzhUFBqhcvloWE7C0qanj3brikRP/p0/pXrzoiIlA22+DFi/rXr1XOnl0jI5N77JgVjcYvLp5oZ2f29et4bS1YJE63tS2Ojhq/fz9RV8dmMtvI5C3m5qLy8k0fP4ps3jw/MOBaVlZw+rT+s2cIgtCfP99saprp48MjKLg8M2MVEbG6vFz37NlWa+tfubkGL15U3r4Na96lyUmx7duF1q9v/fmTi4cHXE6TnZxm2tvlrKz6MzM9amtrHj1aZbHULl2K0tVlTk9b/Py5ODY2kJnJLybWnZCAoOjeoqLSa9e4uLmXZ2ZGKircKirCVVX5xcQkdu9mMxiLo6Ni27evMpnzv36xmUynnJwIEglZXTX++DHd0xPh4uIVEhKWlQUbE51796RUVePMzbdaWakEB/ckJJSHhnLz8PAJCy+OjCBcXJ719VQVFXRlhVtAYPe+fYMFBYo+PjX3768wmeylpfUEgtj27cMlJZKKimM1NcszM0IbNjBGR7l5ebfa2My0t082NYnv2DHX34+srqKrq5JKStNtbaoXLixNTraHh/Pw80sqKu5yc1uenS0NCXHKyal9+rQrJsaTTi+/cQO89YVlZbl4eOYHBmC8rNmwgYuXV0JBQVpdXUhaWs7SsvTataWJidHKSjlz8/6srJWFBYV9+9QuX47S0dlbXDxRX1/39KnJp0+xpqaM0VFY+NLU1PaWlNQ+fNgRGSm4bp1DRsbC0JCwrGxfWlrz16+LIyNaN29W3rkjsWvXTFeX4Lp1U83NUqqq6wmEnqQkATExbEBA/smTErt3W4WHJzs5cfPxWdFoXbGxFaGhQMIHHj5rYUHn7t2Zzs6GN2+0791jLy/3p6VN1Nc7FxS0USit378vjo66V1XBDiQZiwUVTayJCTc/v31qaoSGhlNeXtahQ5YUSqS2NpvJ5Jx8uq0N7Nbn+/u5eHg86fQYY2OLsLA0Dw95G5uplpYtZmb0ly+l1NQExMUBd1gaH/eg0/MCAna6uvKJim5QUwP6t7SmZpyFhUN6OoIgmd7e2nfvJtrbEwIDFX19YbnGnJ7uSUjYvX9/+c2bbBZLVld3q5VVmru7VWRkvJWVfWoqvJBk+/svDA1phYbOtLdX3buHPXq0MzoabI5cS0thwcQrJLQOi4U0cQhHwQUEMMbGZru6wAEXXjzG6+pKr1yxTUqKNTVdXVlhzc6619R0RUdvd3aOMTZWu3RJztISrPVZCwsetbXR+vrLc3MuRUX1b992xcSw5uY86upo6urSmpo7XV0lFRWTnJxcS0tpGhoKHh4qwcEcSA42sWCPGrwOF0dGIDx0lcXCnTixzd4eYL4kBwfCqVOshYV2KnWLufmvvDwxeXlZXd3CoCAhaWnG8LDcnj1yFhYzHR2TTU1zfX1CUlKjlZUwun8H7qmrc14esv39pTU1MUeOZB86NF5X51peXv3PP6MVFXuio/MCAtbIyCzPzm4yMppqbiaeOxdnZrbZ1FT9ypX/9AT8Hydh/SYNqalxaE3Ahsg/dao9IgLCgmZ7e/uzsoB0A6QP4CDEW1mhq6ucnAoqkZgXGBhvbQ30GQ5/CsixU62t7TRa4/v3Cf/SAcAYJdXDI87CgozFdkZHZ/r6toaFAVxfGhISY2LS8uNHuKoqTVMTeIPwqbp3L8bUNNXN7U+uMic5h6apWR4aWvf8OSdsZLKlBWhEFDwemClkLHayuZlKJA6XlUHzp1pbIaIkzdMz2sgI8mFKrv5m7oBdTtW9e5xrWBwbGy4ry/T1naiv/x+WgbLyOJ3+O41EQ4PNZJaGhETq6qb/S/WabGmBiwR+E4cCWvfsGTh50TQ0GH9QHOOtrODuRerqtnz/Dvy4mocPOUxgKpHYl5FB+Ze52hkbS3/9GnKrZnt6gC432dICtjUUPP5Xfv5UW1vB2bMcOs9MZ2fD27epHh5hysqROjpALWn6/DnR3j5cXZ1DgMw5dizGxATchYBuzaGLD+TkgOFOd0JCjKlpjKkpxysNLJM4ZOxIHR2wWhsuK5sfHOSQroH4w0l/AubwcGkpMMIKz51r+fGj9edPMhYLDU+0tQWSDoqirWFhDe/eDeTk5J85M06nF50/XxgUBNTc2b4+moZGzvHj/dnZQPLncAMhDQlF0crbt6GfxFlaRpBIrIWFma6uCG1toEFR8PhEe/toI6MwDCbN03N5bi4Mg6GoqFDw+NXV1Rhj42Rn52hDw6p//onQ1h6tqoK+lOrunmBtXRgczOkJHPZisrMzGYOpvn+fjMV2xcbGW1sn2tpG6uo2vHvX9OkTMITJOBwZi53/9YuMxVJwuBhjY+BXU/D4Nio12sAARdHGDx8y/fxaw8LIGEyUgcFYbW2chUXJlSsprq5AeIzU1Y0gkeIsLSl4fO6JEzRNTTIeH6mnl+XvDwcsDA9TCAQyBgPZX6nu7tAB4JrDVVVhCOSfPg0BX72pqVX//DOQk1MYHEzG4cpDQ4G5FmdlBY8v69Ch/NOnY83MoJNk+vmlurlVP3hAIRAg7qw7ISH/9OnqR49QFC27caPx/fuymzdpmpoc5QVVRSVMWZmiojLV1lZ24wZnXMODZi0uknG4laWlxg8fUBQdp9M5sUUcZnXts2cDOTlLExO/u5+GRmd0NLC9gE+aYGMz09n5m8vt6wust5yjR4fLyoBSzqkk4WpqVFXVcDW1CG3tsuvXIfktztJyrr+f/uoVlUhM/pd3OVZT0/D+fbi6eqSe3kxnJ4isZru7K/7+u/jKFRaDkflvheQwm8Cym8MLQ1F0fnAQDOAgm4tjODVWVwcDLdbMDLjEsebmkTo65H/Zc0A//i0hcXLi8GE5rYYRCr+05OrVgrNnURQF8hSQkCNIpCRHxxgTk9menpqHD4FQDQf0pacn2NpOd3SQcbjG9+8jdXUr794FSQiKoh0RESiKzvX3sxYWhv5gkibY2k79G9bUHR/Puc7y0NChoqJMP78YU1Pw/AJpRgSJ1PLjR5ylJVSk/+un5cePheFhKoHQGRPD4cC+UVD4r2dBR+rpgdMepzeTsVgooDQNDZqmJv3169Lr16ONjMAMDNjhqW5uQM2FWCuqqiqwZMGKMnnv3tGqqhhjY7ihPSkpHFZz8/fv/0vmlHv8OGeyAS0EVMnOmJiGt29BnAOCpTBl5TAMBqr2ZFNT1b17jR8/pu/bByTnvMBATrvqX7+mv3w50dg4kJ0NLL5kJydOnyBjMNHGxvHW1g3v3w8VFaV5edU+e9b48eNgQQFzenqVzQbaJKxe4XjoKHFWVqOVlfCStDgyUvf8+QqDAa6HmX5+HVFRnAvI9vfnXM/8wEDRhQtgApd/6lQEiQQVCoiaiXZ2FDw+ee/eoZIS4NNGaGtPd3SUXrvGoSuP19WhKJp+4ECUvn6Ki0v969e/9RVqamEYTH92dm5AwGxv72BREXN6GmLU8k6ehPkmxsRkpLKy9No1MhYL9bruxYsoff3mb9/C1dXjLCwGcnIoeDwMeE4JgOjGTF9f4M1yhkqmr2+MsXG4mlqmn1+Km1tvWhpY1v02v9TXj7O0ZLNY4/X1saamJVevZvr5pe/bR8HjY4yN4TYWXbgANQh+I1xnmLJyzvHjGT4+sAqBYg2HdcXHA/MWAgf/ZOD/Zn3jcFH6+kNFRR1RUXGWlm1UKk1LqyAoCPQzpSEhEVpaXXFxsOIpu3Ej3soqSl8/Sl+//s0bMg4XhsFQ8HjQU4GUCHwTow0Mog0N4a9DJSWguUqwtYWEwbLr17MOHqRpatJfvSoNCcn08UmwsQlXVydjsTOdnSkuLqAOyvL3h2UrVC6YYFAUzT9zJgyDIeNwIxUVFBWV1rAwUH2UhoSEKSuD2iTD2zvn6NEMX98wZWU4T6KdHZCof7tRqqrCyf90ahwsKso/cybNyysMg4m3tu5LT4cQwER7e1jYJdrb5wUGRuvrk7HYSD29gjNnlqamYJSRsdiplhYyFgtLkyRHx1hT0yg9vWhj4xgTE5qGRmFQULy19dLU1ExnZ5KDQ3loKGc5HqWvT1VVJePxkTo6NC0tmpZWpI5O5sGDyc7Oq2z2XF8fY3x8hcmE5odhMPODg4OFhUmOjhFaWiBQnG5vB+vZqdZWWHgB7RziRxeHh4dKSpq/fGExGOBI2vjhA7Qo6+BB1sJCtIEBLPLIWGx3QkLiv6v8CBKp+v7934vI48dZ8/OdsbFgspvk6EjGYuuePy8MDh6rrkZRFOQ0KW5uKS4ueSdPttNo3YmJhUFBHK0OCGM4c+f/0isyZ2YWR0dBi8FaXIThQyUSYSmzNDUFi/XGDx96kpOj9PU5gZ6gpALfXBBc0TQ1V5aW2sPDGRMTv0U+/xaNOEvLeCurSD29lL17Jxob4ywsOKqe/FOnsg8fhqk6ydExfs+eNA8PDil9prMzee/eytu3f9elX7+gMP654v9THpn+r9QqXE0Nxh0Zg+mKi4MGQlnIOnSo6fNnMhYbhsGk/PtG1PD2bZSBAbCyE+3sah49YoyPc97HOMINWFiAfoT++jWKol2xseWhoZw3tBhj42gDAzgVh/LdRqEkOztH6elF6etL8PL+10/AnO8Vf//NnJ4eyMlhzsyMlJdD+YNS9VvZ6eCQfeTIdEfHytISjJmu2NicY8c4KpqplhYURdnLy3/yzvMCA2F9SiUSE+3shoqKFoaGaBoaPcnJNC0t0NKApmJxdJSMxYIs9c/3WnhNzDl6lKal1Z2QAMUCglRBEsMR3VY/eNCXmQkKluZv36Dn1b9+DRT/BBsbUMtwlg5QyGDpkBcYyFkV5p8+TdPSAgZ85Z07/4e79wyI8zzThWVv4myc4/U62U32c3J2s9lkN5lOGxh6RxSJJnqREAiBOjLIKkhCvWIJ9S6rTO8zDAy99957BwECRBMIhATnxzU8O/Z3/p4fa34peDK871Puct3Xfd1ZW7cKDA1LDh3qVSqlVlaNt25h+zGVE3/3R16h9MiRvJiYoZyc7G3bUjdtItKvOgHYV6+4FAocNtJu/R+li4vA0BArLLe1hYI0aP1IwflMZq9CoUuyV1Z6ZLKWBw/St2wRGBoiCYMcN+7/yuLi6ocPYg5ncXw8IzAQ35bm67v68SPkizFxk0ejKV1cxBzORH092iT4TCaSLSwjTPzqx4/AObA4FSdOvK6pmaivL9y3r+XRI6WTU/E33wBvQBOhiM3WBgYW7NkzPzTUfO+e1NLyTWtrzvbtYHZwqdSc7dvh6oBnCI2NuRRKj1QKBwM17KKDBxF1kaCNz2TWJSevfvxYdPAgn8ms++47AYuldHFpvn8fx4PPYkmtrIRGRnw6XeHgoPbwyAgORt922dGjXAql5soVgYGB3N6eS6UKDQ2nOzpaHj3K3bEDjnAgPR2C1VIrq7QtWzpevhzMzMTf5VKpUmvrgj17uFRqcXx8ZmhoeWJiXkyMxNKy6OBBdFVlhISk+/khj0daWX78OMYh6zwQhYI34rNYZHoxlppLoZQePlx04ABUhQEvYWYtEtO8mBiRiUntlSs8KrX63LmZri5sotTKCl2budHRZUePFu7fDwPHo9F4VCqUllsfPy4+eBBtbAB1pJaWyMDwyeYHD/JjY2Xrew3UJNXDo/Xp046XL0nna/O9e0oXF52yNIWidHEhcEgHjzeYnV0cH89nMERsNuJ76CcjFEZ4qnRxmWxsFJuZQWYZLl/M4RTs2YOuUDgtpbNz0927Gi8v1caNYxUVIwUFebGx1efOKZyc+jUazGkuO3ZsKCfnVXHxaEnJYFYWXgTpbPvLlwoHB2LQa69e1QYGwlxkhoT8SBweHhr/KElIaLh5E8li+/Pn+EPYOwz05dHpGCoMmeKy48fRhre2tiZYH2Vdff48/Iqurf/Ro4H09JZHj/hMps4k/nAONwI1kYlJ/bVrr4qKMoKDFQ4OK4uL7c+fj1VUqFxdhcbGvUolngTi+ThFSmdnqaXlgFare83Ll2HQkOAuvXmDi1N/7Vrz/fskM2598iR72zb4xW6pVGhs3Pr06draGm5ir0KBu4BoWO7gwKPRqs6dgykr2LMHZhOvkBsdXXvlCh5GYmGRGRrKZzBIQ9Tr6mqxqSn6/RCCVyQlrX74gCOtf6+htE80IUiHFfmA0tmZNEQpHB1/Cn3AGUFBhfv2kfCkT63m0emAOklGu7Kw8HFlReHkhKbYooMH9QFhGP2yY8eyt23js1iI1xBjEgcjYLFgzeFWlc7OUy0tVeuxmP5ZLDt2TO3mhv59dG2+aW1dWViQ29m9Ki5uffqUwBTTHR1cCqVLKJxoaJgbGIBLQK9t5enT84OD1Rcu6JpcDQ1hoXDU0Pb+4d27zNBQuZ3dUFZWx8uX6X5+6OHLDAkBYoMx1PpzoeEUl2dnq8+fnxsYaLh5E/dBaGSUvmXLj/pr5fb2FSdP9shkXSIRWv26pdLUTZuywsNXFhdzIiMBOUitrd/PzVWfO6d2d5fZ2eXt3Nlw4waGwwsNDavPnWu8fVtfGl5f6QJvKrezK0EbrplZ6nrjf2ZISKdAoHJ1HVx/iw/Ly1IrK0SpMz09OoCrvp5Hp8vt7SXm5rBH6MxG+MVnsYA9qD08+AzG25ERpKEA7tJ8fDTe3mp391RPz5GCAqmlJYaoj1dWVp8/D2+BmAZ9mVIrK9i+koQEwHdKZ+eKkyerzp7VxcJeXroqQHAw/o+9SqXG27v95cuSQ4fanj3TeHlJzM3TvL3T/fxqLl6cam7mUalKFxcE41wK5U1ra7dEAuTzdW2t0MRkur0dT8ujUrlUak5UFI9Gq7l4cTAz8+3IiDYgAHYEe5cZGsqjUknAIbOxyQwJqb5wQWptrfOmVCq6aRtv3QKqPJidjbn0xfHxPDq99PBhpbPzVHMzXLvK1TXd319obCyzsYFiDJdCAeIKMKMoLk5oZARAMjMkROPpyaPRhvPypFZW2du3Q3sBEST8mcbTEzeoJCFBGxDQcONG6ubNnXy+yMRE5eoqt7fn0WjIh9DWKTIxEZmYSCwsRktLSc/x2tpaf1qa0Ng4a+tWpZPT+/l5PouVv3t3j0xGThfA4TQvL5GJScXJkx/fv8dIBoAQfSoVsYnDubliDqfx1q2KkycnGxuVLi5IEIGL8qhUGBM+gwHgvWDPnpGCAoGBQeujR+lbtqAGpL8yYlNTMYdTl5ycERxcd+0aLhSOUAPRddGTCQKWgN9wqVSplRX+DQVTHEW1u3v58eNqDw9UuDA8YGl6GgmAzNo6Lyam/cULtYdHXXIyJkkM5eS0v3gxUV+v8fREjqhyc6s4fnyysbFXpVI4OKwsLPBZLKRlcju7jOBgibk5eZ2qHyaas319pKUVDb6oiYhMTNQeHsJ1n40OY+QVPDpdaGxM/JaYw8kMDS08cIBk6kgnkI3UXLpUefo0AnRUBPJ27tS3YLDkP07cabR+jUZibp67Y4fA0BDBK+4dbqjIxISk+6VHjizPzS28ejVSUAD0rubyZUBuUkvL8hMnoDHQcOMGUSkhqAzu9fLMjNTaGtFY+zoUqnB0LD18OM3HB6VP3C8CZffI5ZkhIQj1euRydPnDmuVGR0d9/fX/awf8/7wN6c/+/oaHDvlVVGDoXtPt29YpKX/x88uNikrz8VmamGi8efNnn38uMTdfmZ+vu3xZbGpqmZz8Gxqt7upVAZMpNDJ6XVNTnphodvasw9OnXjk5C69ebdiwAWLxBbt2zXR2btiw4S/BwSuLi+jVAfsLRHnyGF9bWoL/NqjVusnlGDyg8fT8sLT01d/+9rPPP198/bokPv5v27bRd+/uU6nSfX3rrl71zMr6s7//THv7F//6r8M5Oejqqb92zTAhoVsiGSstHczMHMzM/MVXX+Xv3OlTWLhhw4Z/+OMfR/LyQPP+sLhofuXKHxwdf/WHP/xvR0d3larj5Uunly9/b2u7PD1dcujQ4vi42tW1+e7dDRs2QGxv4dWrz/7hH/4SEJDm7c3Ys+ffN2/esGGD0ZEjv6bRglta5np719bW/u6XvxQZGf3iq6/YSUm1ly4tTU7+3s5uw4YN78bH3VUqVlxcdnj4x+Xln3/xhcLBwaegoEssNjp61CM11Ts3l3Xw4HhFhemZM7+h0/1raoyOHqXv2sW5cKFg9+7srVszAgNFRkZvmpuFRkbuKlXNxYv/bGDwfn5+bnBQaGS0pazs39zcFA4O+bGxE/X11WfO/N0vfgGOeuvjxwWxsT6FhRuFQoWDw5d/+lP58eMKe/u2p0+DGhv/2dDwD46OEHEdr6oSsFif/vznQiOjwLq6j0tLbU+e/NHDI7ChYfnNGwyS+5O3d9mRI65SqZtM9msq9Z9ZrJ9/8cWGTz5ZfvPGRSgczssD7fnLP/+Zc+ECj0rNi44WGRn9NTx8vLKSR6N98cc/znR3i4yNf/7FF19bWf3WyOizL77oEgj+zc3t7z7/vOH69c+++KJPpao+e7b86NE/urm1PnzI3L//r+Hhc729viUly7OzG9bWfsdm/5pK/a2p6dvhYfbJk4X79v3sl7/86m9/+9XXX9NiY7/6618/vnv3t23b/vG//gvimr/87W9/Z2Iy096+YcOG17W1/9vJqWDXrrdDQxbJyQIm0yA+ns9kOr14YZKU9GsqVWJm9tk//uPa6upEff2/Ojv/3tr67//pnz759NOv/uu/phob+1Sqprt3F1+//uTTTydqarqFQu/8/M++/PKX//RPnAsX3o6MLM/O/uyXv/zkk0/cVarlqal/+Pd/fzc52XTvXpdA8OWf//z5735XHBf3YXHR8Ntv/+4Xv1hbW/s1hULdseNNWxuKl7+3tf3k008nqqs/+4d/eDc52XTnzmx3t1du7ur794vj41/867/yqNSR/PyP79+3P3vG3LdvQKv1SE396m9/+72tbVBT05+3bGl7+vSTTz/dsGHD1zY2n3z66Vd//eu/cDiNN26AZDvd3t5486Z/VdVfAgOhwPqzX/zC+OjRTi63Ryrl0+nDeXkfFhb+w8fHWSD42eefD+fkfPrzn//9V1+9Kiz88j/+Y3l6+o+bNrlKJJkhIXnR0aVHjkDAdbKhAWxH65s3a86f75ZKs8PDf/kv/9Ijk+Vu3/6fwcEbPvmEsX+/xdWrX1tb/zU8fHFiYra39/3cXJqXl4TD+Q8fn/fz83Jr6y3l5YYJCb81MXHmcj+8fYuI8LfGxpVJSbO9vRovrx6Z7Hempnk7d8JiBDc3s0+c+Pxf/qX57t1Pf/YzSKhKOJz3b9/+bft2anT0hg0bFkZHf/X11+/GxtqfP4fBqUhM/Ltf/AKS2qZnz9revftfoaEeajXr4MGgpqbf0OmF+/b9m5tbXlTUb01M/v43v8kKC/vZL3/ZLZP9hk7/902bVldXe2Qy+0ePvvzTn7LCwr7885+duVyfwkKYu9yoqC6BAH/oV19/rXR0LE1IaH34kE+nF8fFbdiwwSA+/g/29m+Hhv4zJOTd+PivqVT8/p8YjIZr1/7NzS3d13dtdZV54ID9o0ddQuFsd/cnn3zi9OLFZ//rfw1lZZmeOdOrULCTkqAC+7PPP//H//zPvwQEDGZkiE1MFkZHxysrP/viiz84OLyfn+/kcsuOHOlVKPA84LX1qVQbNmz4DYPxb25uv+NwPvvyS/OLF21u3259/Hjl7duKEyc+/eyzmc7O39Dp1rduQUjS9NSpz774ovTw4Y4XL9J9fb/6619HcnMzQ0OllpY+RUU9EklGYGBwS0vb06ezPT2VSUmE//z/mZt/+Ze/bNiwoeLkSZ+Cgi///Of2Fy/6lEohi6VydQXf9jd0+m+NjccrKqD/LGKzPywssA4c+JOX19rq6mdffFF04MA/Gxj8zsxsprOTT6ePl5fb3b//6NWr//HjCEm6g+wEqocYkNf27FlmWBjCSaRWPTJZ0YEDRCaw6uxZgDNNd+8qHB2HcnJQ1RAaGRXu25cTGdmrUtVeuQKtNYKOVp4+LTI1BYSCYkbdd98hPf2wtNTB5SKKFBgYCE1M5Pb2RJCM/Lx/+5ZHow3l5laeOlVz6RJJlwEBzfb05O/erXB0RJWR1LYrTp7s5POBwCDbG9BqASIJDAxqL19G0MdnsUg6rnJzU3t4yO3tG1JSUjdtwtQ5UudASIs/SrLSme5uJNDTHR01ly7VXrmi3LhRZmubFxODr+3gcvtSU9WbNgkMDJru3Wt5+BAxJhIXkJ5yIiPfjoykeXs3rmuHkSxB4+nJZ7GK4uJ0sNL16yitlSUmIo+sSEoqTkjIi4kp2L17KCeHz2CgAg1QDjkERkMiGZLZ2PCZTMBW+E5MBOvg8Zbn5gYzM5ERSiwscqOjiYSN0Ni4WyKRWlsvTkxgTWouXWq+fz87IkJobKwTJaXRVhYXBYaGWBDs76viYgiEARJsuHmz8swZXaRcVIRiAXS+cqOjoXcDkJNLpaLYLGKzc6Oi2l+8EBgYZAQFDWi1ANPkdnZvR0Z65HIkxBpPz1QPD6GhodzOTmBoiOxqMDMz3c8PgppIKd5NTbU+fiyxsBjIyBAaGbW/fCk0MsqLjRWx2VVnzvCZTIWDg8TSUmRkVBQX1/zgQSefr/bwyN2xg0uljhQWAouW29ujkIwqck5kJJdCydu5k89ioe6b7uvbdOeOyMSkJCFhoq6OS6UOpKfn7tihcHISGBh0CYV8JjMjJKRg716JpWX5iRMCQ0M+i1V94UJeTAyS8szQUIWjY8fLlzIbG5GJCQbSNd+/LzI2xt6BANh89y6oank7d0osLPhMptbfX+nkBK5Q+pYtIwUF2RERNRcvpm/ZwmexFE5OuVFRQzk5CgeHhpQUQqgE+1LC4bxpaxMaGgJaX1tdxWUUmZoWxcWVHKjDNssAACAASURBVDqU5uuLTZFZWxPOIxKdtC1bxBwOTkLezp1I3EsPH/7w7t3cwEDzgwcdL168Ki6uv34dyXpRXFzW1q3VFy5A/pMceJmNjU7L08xsMCsrIyhofnBQh9g7OKytraFoimxPbm+PjdZ4erY+fozLnr1tG+T8yo4dq7l0idS2Pr5/LzQx4TOZRQcOzA8Nge3YLRYDCC3YuxdqUxovr+L4+KHcXBg3bUAAErKaixdrLl5809raJRIpN27UeHrCcCFJJeYOphI4XF1y8kBGBqpsyFNVbm4o2dRevVp17lxJQkJdcnLBnj2Ydahcl5FCASjdzy/N15cUvEjlguABuIndEkldcjKZ3IpXwKLpa0BiQVDl4TMYoOAIWKyZ7u7c6Gjkmp18/qQeybTi5Mnpjo782FiJhUXLw4dEJQ1mtu3pU0B9+lnsaEmJ3MFhtrdXYmFBpPqIQVA4Omq8vER6JlQfw8fmLr15A3/0oxm4/Wlprr/5zU+kBqxwcJDb2ZH9llpZjVdWFuzZk+bj83ZkpPXpU9BzeuTy6nPnUFzkUal1ycm6qaWOjrrqzs6dpYcP11658gOt45iYbrEYn0RFHYwGsnlye/u+1NSWhw95VCq8mmjdz+mLEpPSRZdQOFpWJjYzW56bKz18GMdO4+kpMjJClKBPihYaG5d++y2g1LJjx/pSUzOCgwnmIzA01NVRHB3hSltIhZhOR1FtqqVlYXRUbGZWdeaMzMZG6ewss7GR2dhMtbRAuZRLoTTcvAmcaunNGz6LJTQ2zggORuEWmBKBZaY7OqrOndNJx505k+rpCftYkpBQevgwbi+PTl8YHZWYm8OorX74QASBdROXIyJ4dDqqZeAxoWL3pq0N0Nbrmpr5wUEgzJ1CIf70QHr6dEfHu6mp1Y8f5wYGYLZAKVS7u6d6ePCo1Lbvv4fDxshksZkZnkFmY5Pu51eRlNTx8iUubd1334nNzEbLyoCzQUMOtCz+OkZNpDdrr15Vu7sP5+U13r5dfPAgfCSPTs/dsQMg8IBWKzI1zY+NVTg4QPR7QKvl0WjdEknb06cqV1e1u3t/aqqIzX7/9m3TvXvw4s3378OQVSQlCU1Mqs6eTfPx4VKpr4qKeFTqeGUl1i0zLIxLoUx3dPSqVEUHD2aGhclsbLgUipjDAR/qTWsrYQYonZ17lcqSQ4fADhUYGi7PzXFptKK4uKXpaS6FIjIxaX3yBEQhmbV1r0KxOD6Ot8DpFRgYTDY0cCmU5vv34f4FhoZqNzcuhZK9fbvUyopLpfKZTLGZGZHAFBkbwzguTU+L2Ox0Pz8uhdIlEgkMDTOCg/NiYkqPHGm8dWswMxOUC/G6cKDAwEDl6jrV0lJ9/nxOVBSI7rjCWVu3ZkdEiExN+QxG4b59Kjc3KE2meXvDteAWTLW0oASLSEtgaMilUOA/iK9aW1srS0zEUW959Aj14IK9e1GT4tFoQmNjPp3OZzDyd+9GiWdtbW11dVWnVxodrXZ3l6wHymo3N4GhIY9OR3UW1kNmbZ2/a1dfampFUhIgZY23NwaHS62tq86cARjb/OABhDyFxsYAt8Xm5k137+bFxOTFxNRcvCgxNwcNBTtSuH+/wt6+WyotiouDoQczHKFkfkwMygdlx45hTbh67GJgxSg96ApGVlaF+/erXF0lFhZKF5eCvXuxaDJbW6Wzc2ZIiMbbW2pt3XzvXtnRo91S6VBubtXZsyP5+YXrUvD6BgqsN91o8PUy01h5ea9C8aqoKHfHDgzoldvZYTtUbm5ggOsCnbk5LpWq8fKqOHkSBRSkUqkeHuCXyO3sWp886ZHJ2p49U7m6agMDy0+cIIC2/ghtrLPMxoYQAkoPHwZWLLO2xrOp3d3xscpTpwCSlycmwp4P5eSgRkBKYDC/pPrOo9Hm+vr0+S5kmDcZXv5unWXWJRbnREW9rqkRmZj0KBTLc3ONt2+TF8djT3d0aAMDfwo1YGzkbG8v8Y4IZ6DTTerwfCZTam3No1Kx2STh65FKq9YzGJhRQkAo+fbbpelp2DUelcpnMnk0GilLkOwTgRVqq6guQJofNBZwpAmxS+vv3/LwIcjJup2ztp7r6wPjICcyEpFjl1CI4oT+eS06eBC5QumRIyAIaDw9u0QiSPOjJIYqSNHBg8MFBdkREcgUi+Liqs6eTfP1bXv6FNvf/uJFzcWLRNG67enT9ufPiVZzzaVL8PcyW1vCHlQ4OrY9e5bu75/u5zfX16evUI2YbqKurnD/fqKTzqfT21+8ILEtjBqXSkVaLzQ2HszKQoTx/u1bGFBUgHQFMGtr/JJceJGJCY9Gw/PgyeX29q+KiooOHsQ9WZqenmxsnB8cVLu7I7dAnUbp4lJx8mROVFTTvXto4dCPWKdaW6EcO1Ffj2zjw9LScG4uSACpmzZpAwLKjh1TuboqHB1RctN4eiIc4dFo8KPvJiczQ0O1/v5qd/e8mJj8XbsqkpL4dLqIzYaRRR2Xz2Q237+v8fRM8/XN3ratcN++hhs3Jhsbay5e5DMYYjOzhpSUlkePoD6PNEXp7NzB41VfuICIXuHoCEcos7GpuXABpl9oZIQkLM3bW2hk9GFpic9gIBvO2b5dZmuLWegCFovPZOJG8Oj0tu+/Vzo7Y3a9zNpaYm4+3dWFpy05dAhurHD/frm9PY9KVbm6jlVWLk5M5O/axaVQwD0uS0xEWXp1dRU8Uqmei3pdU9OflgYfrHB0zAwJ6eTzeXR6SUKCmMPJiYxEGjHX14cQRGRiMtnUJDI1FRoZ8eh0oYkJj07/uLLS8ujR3MAADmdfampudHTezp2F+/bhJCucnCpOnSpJSKg+f55LoWQEByudnYVGRoX79+MgdfB4jbduIeOf7euTmJtzqVSFg8Ncfz/5zsnGRhQvkUtlhoSMFBSAdAY45N3EBJw9wjWCS2WGhjbduaPx9BzMzMTVU7u7p2/ZkhEcPD88DMQoOyKiWyyuuXhRtXGjwNAQQScCl7Jjx9J8fGS2tuOVlSCxy+zs2p4+JYcz3dcXNOmaixdltrYonSI3WHrzpkcuzwgOHsrOzl9viVmem8vfsycvJqbp3j1Ui/NiYkYKCoCKIawk4Sn+rdq4sf3FCwCBCOUVjo4dPF7qpk3wgjJb2/mBAX2bScho1efPizmc8uPHgcSI2Oz+tLR0Pz/INSPCK09MRPKDIRAIiVI3bQJU+X5+nrSHrK2tyezsSH5MgASJpSV+iTE25Dbhhi7Pzn5cWak8fRrOFZ4e+AcMe7qfH6htQiOjogMHQLmovXpV4+2NXKVXqZxub+9VqWS2tgpHx9rLl8erqkAhbLx5M93Pj6hMg38qs7F5VVz8urr63eRkRVJSj1xenpioI2rQaMDPYeXyd+1qfvAAl3RlYQEx02hZ2YBW+/7tW7md3d9+9av/8Q44Nzq6Pz294vhxwiwHsQgzW+TrlDkd7ZbN7uDxwKRdfP26SyTSBgRUX7iAw5q6eXNeTAw4bERVXOnkRHpL8IN5I+S6Iu1O9fAgLaf/1x+Zra3c1hYJFmF/6LcBiExMwMDqU6tVrq6EvKD/kx8bW3X2LKr9Bbt31165Ajefs307TnD+7t1p3t4ab2+hkRHOUFFcXPX588CRJJaWc/39YxUVQiMj0rGDxlkyGiF72zaVqyuMY0ZQkMTCQuPtjdBP4+2NPD47IqJXqcyLieHRaFIrKzDa0v38dBMjrl9HPwZCCgBiSDo7BQIwM2EaKk+dAmM5OyICuZrQxKThxg0AQUoXl1RPTxBwai5dgsFFWx6a8MoTE2GS6q9fFxgYLIyO8lmstmfP3g4PI0VYmp6ebGhAk7HU0pJHo8E08Oj0xlu3hvPy8mJjCTIx29MzXlXVr9EA95Pb2cFgSddJHGWJiQV7976ureVSKCo3N7RaSa2sgJfymcyShAQBiyU2MxMaGXEpFJmtbV1yssbbW2JurnRyIl6/8dYtLoWCZeExGFwKReHoCO37Di5XwuGo3dykFhYZQUGAaipPn35VWKh0cWl98qQoLk7EZs8PDvYqlV1Coa49mskUGBoOaLXgy/AZDJm1ddHBg2m+vlwKJT82FnOQqi9cgFJ/6qZNCkdH8BbFZmZcCoVPpyOfQ9uSwMBgfmiIz2RKLCx4NFrbs2dw1VIrK42XV/X588CokRpyKZS65OSMoCDdaCMGIyM4mBRBgAAvvXkDQwZfK2CxeHS6gMXCuUKowWcy669dK4qLk9vZdfJ4XApFGxCAiUlATRAhNd6+XX3+fMujR90SyVRLC8b1aAMC0P3JpVJrLl1K9fAAmsqlUOAGCvbuBbSu3LgRnPzpjo5OPh8hO9wqaNVCY+P38/PZERFAwqvPn88MCxstLS2Oj+8SCuX29mm+vgR/4lKpNRcv5sfGknuNJld9VjD+gReHCao+f15saoqwFRw39ETMDw7iKuEkSC0tSaRLKD8YAYKC10R9fe2VK6urq6TdkeCiPDp9MCsL7q38xAl0vspsbbX+/u/n5oBztDx4gOEKcG8iU1OkMQQZxulCdqFjNTKZyCmL4uJIzwXpAhKbmQEkIJkJ2Ebo81G5ukqtrDSenriz2HqU0vQtJ/6rPq8bC4ihbcC9CvftI5F984MHqx8//qgXg89kwqDpYEsrK91wsLIyPoOBoLlbIhGZmACWT/f1Rec0XPVIYWHVuXNIxgr37Uvz9p6oqyOdci2PHiFV0AYE9KnVRXFxMmvr6vPneXQ6WKs4cqurq8DeUjdtEhoZDWRk9Gs0JKkAL5LyE3DAOZGRjbdutTx6lLdzp4jNRlEKMgiw4zJbW/2gjxwjlatrl1CYExkpMjUVGhvzWSwUY9BKD1xieH2WFmCxHwD9hoYiNjsrPJy0zxIf1vzwYa9CITI1rU9J0Y+e8LM0NbU8Nze4fmNxAobz8hROTkIjI5GJCTmCJEklnG3wUZFhNKSk4EXUHh79aWm4JDjQ2sDAytOnZzo7cVFBA8Edw6GX29ujpQ9umIA5iA2XZ2f1c3SM7yg7dqzq7NnGW7fetLbymcz54WH+emWr9sqVxlu33k1NZYaElH77LaAw8PhB2R+rrARq9G5dYaD08GGSf5cnJgqNjBbHx1ufPMGyCFisAa023de3V6kEwlx/7ZrC3p5LpYrYbBGbPdff3/LoEfAGxEOTjY3oNgbsNpyX96q4eKSwUO3unh0R0f78eXliotzODkA39AHwAAIDg9yoKJhggaGhwsFBxGar3Nymmps/LC8j34VxRzvveGVl6+PHE3V1Mlvb0bKy+eFhfTkCQBRY9uoLF7QBAWp3dxBZxRyONiDgVXGxwMBgrr+/+cGDwv37iUPS9X/fvfvx/fvBzEw+i5UdEQE/pw0IELHZC2NjHVxu+pYtcJkEGeOzWHB7WeHh5OgCtCjcu5dLo9VcuoT8D5mlring/XsMJVxZXGz7/nsegzFRX69wdARgyGcw5Pb2+HDh/v0oD8/29CCO6RIKs7ZulVpa8plMZCF1333HNzDIiYoSczg8Gm04P5/PYkksLITGxlIrq9XVVc3mzTq7SaWiF1lsatotFs90dwtYLLm9/cLYWEZwMOkYFBoapvn48Gi0mc5O5KmpmzcP5+YqnZwQSqo2bhSZmFRfuKB2d0/z8Un18ODRaKiGEhLvx5UVPoMhMDRsuHkT9jpr61Z8m9jMLCciYrSkRLVxI5dCIS0ApUeOtL982XDzZnZExPzQUPWFC+8mJ4vi4vJiY7kUyoelJW1AQEViYuWpUwIDg7rk5FfFxen+/o03bxbs3YvJiUoXl5HCwvaXL4Ezo40NrIWGmzfzdu5UODkB5xzQavs1mvnBQdR9eXQ6mTKk8fIqO3o0IygIwTHEhepTUpofPMgICurg8V7X1lacPFl56lSfSoU4Hr4Tb0cED7T+/nAGsA/YULjqprt3AcMiD277/vvi+PiMoKDBrCx4fZDA9fnAOOGI22BnMgICSMmW1GvwajwqdX5w8O367dBlQSoVSZ0VDg6ZISGva2sL9+0r2LNH4eBA1Gz0AW0AP3J7e3Rvo5s0MySEVHanWlsnGhpme3tzo6OFxsYAGPSDXYLVye3s6r77DgSRzJAQ0m0429ODPzfV3MxnMgl9+t3UFMZMYekIOk1GlJJkjwCcROmo+cED4ATjlZWTjY1ra2tlR44IjY1h7Rtu3Ki9cqXm0qVHf/3r/3gHTGz6fzcdmpn9oPi6caOEw0Ge1HjrVurmzUhx4EuQfpUePkycHGLn+mvX8D0VSUkKJye4cKm1Nan7lhw6hHAJZ/Hd1BSI+yT5E7HZgDigt0JKF6CBYP4XmdLV+vSpji118+aHd+9g10jmjfMhNDZWu7kVJyQAAGy6excxGuJcknC0v3iRtXUrLA6fycTdQzBL5gm2PHoEp4LuRpDvwUrL37VLZmsLDRM+i4WQjXS8wdUBaRivrgaOhAACaQo0d5C6IagnVXl4hdGysrrkZOwI7IXU2lpuZ1ccH89nsfJ27iw/frzixImWhw8JO2w4Nxd7IbO17VOrgURBnOvj8rLQ2Hi2pyczNHS0rExoaFiRlISWf94P+RqI08WmphMNDSITkzdtbYX79xfu34+1AjCLPsKFsTEynJFLofQqlfUpKTNdXQT5WBwfxzEQczhtz5+n+/tP1Ne/KioaLSnB73XZLeS9WCyplVVmSAgsF3Z/rr+flJdULi5SK6tehaLq3LnWp0/zdu7EsZRZWxOlDh6NJjAwyAgOhplDrJ0VHi7mcFBfzAwLQ1EW1vN1ba3QyKhfq5VaWaHMmRkaimRCwGKVHDrEYzAGMjKklpbwQPoCWwV792aGhuI6oK9XaGSU5uMjMTfvFAjyYmLWVld5NNpsX19OZKTQ2DgzNLTi5MnsiAjkhTWXLonNzDLDwsRmZuNVVQV79y6Oj4s5HAGLhWBUYmaWGx2tcHTEtOzWJ08qT58WmZhwKZQeuRxhRJqvLx5J1xXNZGJOn8zWVm5vDwUbPpPZLZX2paZ2iUQ5kZF41Prr1wWGhg0pKXwWSxsQoD8jnE+nA6UkCGrrkyf1KSlDublgQigcHftSU7HmhE2CUp/E0lLAYpUdPTrb15ezfTv2LnXTpm69xicEDQCu3s/P50RGkmqX0Mio9vLlvOhogaGh2t1dzOGsLCyMV1WRgeKVp06J2GzQwUjduvibbzCVWeniAsMtYrOX3rwRsFjIWfGoICtB7YTPYuGUriwswGQhG4H1Uzg46MrkBgadPF6PXI5i2VRLS49cLjAwwMO/rq2F21Y4OFSfPw9dl6GcnJYHDxDyIq+tvnBBYGBATIrU0lK8XqJeW1vrlslQ/yKLOdvbW3n6dOnhwyI2G3SByaYmoYlJZliYbgwrjUasK8gKqPgKDAyk1tYA3stPnKhISir99tuVhQWCpekXgyGsRkohPCoVayU2MwO2jxpZeWIimCugXCnXR0Yi5665cIEUv7rE4jft7ZkhIXI7u36NRm5nlxcT03Djxvu5udorV/CndSPb1x9+rKKiT62eampquHGj7to1wPv4QSNoup8f4sifQg1Y6eyMVAYcVBBq6pKTCYFIYmGxurr6o947UlX9QVJrYEDu/Nq6pOWa3vTftfXB0RnBwYX790O0BSceRdy0H07V1SXcLFbLw4eEC11z5QqMC5dCAaq2OD4+NzAAd4vzUfzNN4RuoPNkQ0MKJyeVm9tsT4/U2jrNxyfdz2+mq0vM4cDw6bth/XOJB+6WSGQ2Nm3ff0+SLTGHA0ZxRlDQ69paiYWFxMKCYGs8Gg3rIOZw0AA9UVcHc8ZnMLK3bsUv2549ywgKkqwLN8Ip4uYrnZ2h7tYpEORFRw/n5WEZgTcW7t2LI6twdJRaW093dNRcvJizXj/WeHkJDQ2rzpyBZhBZFpm1tTYgoPTwYbmDAzGRGKpKwnkejZa2ZcvK27cAq2e6u/lMJprfZba2PBqtOD4egGH+7t1af39cntLDh3UShsbGRXFxujzJ1DTVwyN72zbcYYWDAzkJJFcjGD5cY/P9+zwqdTg/v/z4ca2f30hBQUZQkMrVFWEQYpTRsjL8LVJlqLl0aeXtWwhGovgq5nAm1hN6YF+AbZdnZ18VF6f5+Mx0d0NscjgnB3XKwYwMLoUyWlamDQgATNJ09y42MWf79r7U1Ka7d7O3bcME6PbnzzWenjWXLvGoVDyM1t+/IilJZmvbePt2zvbtgIjHa2pA1h3Oy5NaWgqNjZdnZiYbG7PCwrSBgVBdQJ7Ho9Gqzp4Vm5mJTExk1tYAKuT29mBKo+Q8mJnJpVIlFhZ9qalSS0v4p8J9+1oePkzdvHmkoAByDahE5kRGvpuaAvKkdHYuT0zEiPuCvXu5FMrC6OhQbm5GUFCvSvW6pibN17f4m28qTp7k0Wi9SiWPSl168wZxtsTcnGgnwVvo753EwgLBInacR6dDWXNtbQ1gjNbfv+zYMdRi8HexHe3Pn4tMTQFmdolE0OciDQszXV2EjwKWQ5dIVPfddy2PHsEFZoaGwj91CgRo7EYUSwwIAPC65GScHLm9fcGePcQ3IyuQ2doisIYrKjt6lMdg5MfG9sjlQiOjfo2GXPaqs2fbnj2D+2x79gwnJzMsbHlmBlpjad7e45WVedHRaAt+Pz+PtSKRWcmhQ0137kB0Re7gkLdzZ/O9e2oPjzQfH4GhYcHevSMFBTh1Yg5HZGIiMDTMjY7Oi41dnpvT10vAu7Q9fZrm67s4Pi7Uk/IgT5u9bRuRQc2OiAAQhcy47NgxuZ1d3bqWRZqvb6qn59L0NNHERR2hYO9eMYeDPSUiQjBfCiensfJyDGYWGBoSsReRqanS2Vnp7CwyNdV4eaECPZSbS6KoPrU6zcdn8fVr3HTkNpkhIdqAgNTNm+F93k1M9Ken85nM6vPnS48cme7oIDJ8wFyBJnZwuaWHD9enpOz+/e9/CiSsqrNnieeY7e0tPXwYl2ooKwuh348kKcarqrDxZUePQt8RnSSQdwGzH+cA8BGCr+G8PFweLoUy1dzckJJSn5KyMDoKoJu092i8vblUKhET1gYEZAQHIyVCU/yPe8nXwRYc0zRfX2hNkDwe2TA4itXroZn+2GoejUawHZS6kc5mBAUVxcUBmyIQumrjxo8rK1guqZWVfgyrz9Fof/lS6eycFxMj4XCAsTfduQOXgFfLj439uLyM4AOUV7SoI8/j0+n1164Re4EMvlepBFMMQXfpt9+CMQF715+Wtjw7CyUphEpFBw5Ira0hjDDR0IAIA0HDXH8/FB74dPpkY6NAb2I5we0FLBYxiIX79wsMDMiSCo2Nc6OjsWhTLS1pPj49cnlxQkKary+PRis6cAAHoOzYMTS2Im6FRShPTHzT1kYkiPEblDlyoqJWP34cq6xEgF9y6JCIzW64cSMjMBCyXEvT0/UpKaWHD3Op1KywsOWZmfITJ3J37ECNQGJpibpazvbtKNrxaDQAtmXHjsnt7Zvu3Ck5dGhuYAD5YvWFC3IHB7GpKYodand3mY0Nn8GQ2dioPTywNVmhoUIjI21gYMPNm+3Pn39cWcneto2/Lo0JpK706FGlkxOXQuEzmcXx8VwqlUejlR45Mtvbi2BCamWlDQhQODnxaLShnJz0deyk+vz5org4LoWCXUNwhiHqWeHhRXFxZceOFR88yGcySw4dqjh5Etdn9ePHtu+/JxU1gYGBrvHGyys7IoJLpaJng0ejFcXF5e7Y0XjrViePJzA0lJibE0RU6eKSFRbW/uIFZsXn794909W1PDMjMjFBk8x0R4eIzdZ4eeGo52zf3nz/voDFejsyImKzy48fn+vrS/XwIAwApYtLwZ49KldXHo0Gm6BwcFh8/ZpPp0MvYiA9vSguruLkyVclJW3Pn5ccOsRnsUSmpkhlyhMTRWx2fUqKwsmJz2Qio0rz8dEXr8iPjW28fRvnh8RVudHRHVxup0AgNDLqkcmglgUAPzMsDFcSxEMxh8NjMBCdaDw9O3g8tAPgqIhMTYu/+Ua1jkjlRUdXnzuX7u+Pupg2IEBma1ufkkJkHXOjopB/43bn79qVvmVL7o4dhfv3f1haEhoZoatHamk5kJ6udneX29nJrKyIqAUIrR/fv688dWqiro5Lobx99Sp7nSSl21Bv736NBkwUUmvDsfkBsh0YKLe3h8VGJFF79arE3JzPYPTIZLCcEI0nxhAu8FVxcZdQuLa2VnX6NGlPelVSUnn6NOk2XJyYQLwFgnTl6dN1ycmw8zBKUGXXh5TB3gWUDSSsPiVFammJfAweAQwSwpoe0mPzKBwcwDF6XVPDo9OzwsPTfHyI3cYp6lWpUNL+ibCguVTqyuIiboLAwGD140ecnurz59P9/ZsfPBivquLRaOj8gS9BoQumuUlPbg0tN3J7+6zwcB6dPt3eDkJBTmRkl0ikdnPT1/IlSi7guQHrQ9g4NzCADcP2j+lZ8OL4+JJDh8gsAWy2zNoa4K3c3j7dzw9+eiQ/nxQV+AzGWHm5xNxcamlZc+lS3s6dY2Vl2oCApTdvssLCJBzOh+Xl8crKiqSkhps30QSFGHw4N7fy1CkUY+qvXUO7MzJCrb9/2dGjnQKBNjCwRybTeHpmR0TM9vZ2cLkkoQTahjZEQIg9crnYzEynCLZxI2EeFsfHk6i/WyKBox3Kzp5sbBSamGj9/cerqwkGW3Hy5JwetbJHLp/t6SHqY6DIkZo6epxIF2BWePjC6KjM1jY7IqIhJaX+2jURm1175YrQyCgvOppUYnDBUCDIX6+CI13Gv4moECqFfCaThE2kcN7+4gUquNqAgIygoKytW3EzkZFXJCW9KiqqPHVK4eQ0NzgImSRgoaiv85lM2FloBPKZTKxV6+PHCkdHbWCgzMZG4eQkMjYeLS5uvHUL4LnM1hZlV4WDAyx4j0xWeuQIj0arv3YNqUZFUtJ0e3v+rl250dGZwcFpW7YImMw+tVqw3mGF1Lb95Usxh9MjooUbowAAIABJREFUl3OpVGAGYg5nvKoKHxObm2eFhvIZjPdv3woMDUWmpiI2W+ni8qa1VW5ri43GCBCoMsHXKjdubLx9m8dgiM3M0AT8qrhYbGqq41IxGO0vXqR6ehJsABdkQKvFH+0SCtFDUnv5ssLRsS45WW5nt/j6tcDAoPr8eT6dDoYdkExcBB6dnrN9e79Gk79rF2IjgaFh84MHUktLfCefxRKx2Qujo80PHxI2L4/BKDl0SGZr2/r4scjUtPbyZUTJIhMTnA1sN36JyDU7IkJmYyO1sYHFgP1tuHmzYb2UCCrf2tqa/nwCeDVYhpmuLj6Tie9UrQObCGqzt25F9QSf7xKJUIHi0ekri4uoFAIeLzt6tD4lRWJh8aatbXlmBtKbNRcv8plMtYeH0NhYamk53dFBqML5sbFjFRWZYWFiU9Ph3Fyi4g6YSl/jPSMoCPCybhnXRePl9vZ1331Xn5KidnNDOSZ18+bZdQoYISioPTxQd5tqbh7Oy8uLiZkfGoKJwGKS3BTxq9TaenF8HDYQzrX5wYPMkJAeuXysomKsvHy0rAzSmDpJrGvXRCYmRQcO4O0IVwuQMupZLQ8e/IirBSU18prIZNqePcuPjYWZAsMjKywMQQBS6rJjxwBBkaCEtFH9yMuITEya7t0jNDqYx4F12jxOKZTgig4eFLHZlUlJBI4lneXliYkwYvoP/xNxwKRpr/bq1cyQEBgasgT9Go3U1rbt+++nOztBT9Ah0uv5WXZEBMIrbUAAMsXX1dVra2uNd+6I2GxcDNTtcyIjFycm1tbWNOuMA4jDEULg0ps3aT4+YCEhDFQ4Oubt3Eks+/zwMDw6MkUenV575QqqzjJra21gII9Oz9+9GyeDJHYSCwsS0+FAkGZf/WNKmAukUY/Q/9qePi07fBjxGowaoja5vX1/WhqanZQuLvXXrzfduwe2RdXp01CQ/lEZFW89XlWlj8zDCqB1KnfHjte1tRVJSSuLizDBZceOZYWHp/v5gZQuYrNbHj3i0WjgRgIqrL18eX54WL+co3Zzq75wgc9goIUJ6VoHl0sgxE6BYKSwsOnOHRQy8WC5O3ZgZ1HfEpuZFe7fLzY3b7h5c66/v/nePbGp6cf37we0Wj6TSShyIE+p3d1RvxnKycnbufPj+/cNN27Uffed3N5+9cMHiaVlTmQkj0bDISk5dIhHpUrMzQv27u3gcsVmZmJT05JDh0aKiqpOn+bR6aqNGwVMZtbWrbi6iE4yQkJ4VCowFY2nZ1ZY2HR7+5u2NpWra11ysjYgAD3EPXI5iK8qNzcelSo0NibSvmPl5aqNG9VubhDZQDGex2Co3dxEbHbFyZNQdS7cv//D8jJGLxD1TWw9NKWllpYyG5uGGzfwMJmhoaAicqnUhpQULpWaGRKidnfvEgpFbHbBnj2wszwGY2VhAfuYGx0tYrPbX76E6ojMxmaksLBw377M0NBepVK1caPQyAiCEoX79gmNjdUeHqurq6VHjxIsITMkZDAzU2BgMJCR0cnnI00vSUh4OzKSGRpKHgyeRmZjIzYzm+7s5DEY+bt3IzVHcsOlUvNjY4GRCAwNkQjiGNenpGi8vAQGBllhYShLcSmU5ZkZmY1NB5cLSJxwjOuSk9H+sDw3N5yXp3J1xZcAPhGx2SpXV4RQYjOz8epqTNzCISfyCxnBwcXx8XjHrPBwrFtWeDh4cPB8Q9nZgKbqr18HvqLx9i5PTMyLjsbns7dtm2hoALakdHauv3YtdfPm+aEh4h4ELBbcudrdHYwklasrn8EoXi+rvZuc1Hh5EQC24eZNAEjjVVUlCQk5kZE67Zp1MwijB8+H2lzbs2clhw4h4sRtQrFmsqFBZm2t9vB4VVREnmfx9Wutvz9JQkjPNCmlyx0cxGZmpFDan5am9fefHxzEmSQVWR16FxwM44nOFF3fyvg4EVRAHF979Sr+k06S08YGiPr84CCfyWy4cYN0RSIchOudbm+fam4u2Ls3zccHNwg6tYBelM7OSienDi637flzPovVyeePFBSMV1eDtFV04ADpj0KRS+Ho2COXV54+vaYnWoJ47r8t59SUys0tzddXN8uOTked8afggBEeEroKfg/g4v9fECV1OCgMKxwdl6anVxYWBjMzCSlpfmiI8NqVLi5LU1PD+fmoBKDS8GFpCWwd0lLZI5MpXVxKDx8mBl3p4kJ4N2g2B+kDcRO4JLp47cwZoZER/FxOVFT1uXP116+T9mW1m9tUczMSo8Zbt9J8ffFJ1DNUGzfWXrmSs3078bil336LhJ5cgIygoIWxseWZmaK4OL6eLgFpDepPT29/+bLpzh20wy7PzpLmh4K9e9FL18Hlary9i+Pj301MKJycPiwt4cNrenNsxioqMoKDp1pagOD1yOWzfX18FmsoJ0fp7IxGfqwPCSZ0JCxLy4zAQOxdXkxM6eHDIlNTIKhiDqc/LY1Ho5V++23DjRvv5+fRxZETGUnQNuATr4qKJhoaNN7eiMFFbHZudDQiBpAnO16+VHt4ZIaGTtTXQ/pD7uBQduRIv0aTu16LrTh5cnlmhhwVfWRJzOGgkKF0cVG7uyO6Wp6b69doqi9cSPPxaX36FKGV2NQUAEPh3r05kZEVSUldIlHr48dZW7eiww1uQ6d4bGnJYzBUGzfWXLyodnfPCArKCAri0ekyW1uZjU3VmTPtL17M9vUN5+aCigUFiZXFRUTT7yYnpVZWZBQdOpqUzs4ab2/Vxo0ZISESS8t0f38Rm82lUAA5gqaeHxubv3u30sVlrKJCGxDwqqRExGbXXbuGqAgKHuXHj4M0rnJ1hS+EkrbC2XmqpYXPZPZIpV0ikcLJKXvbttmeHvzXLqEQyg9CY2OJhQVqnPBA7yYneXS6xtNT7e5edvQoIKJ+jQb5jZjDQf2bhJK67qN10w+3J7O1JUpkWVu3omemPz09Z/t2mHKM9hKZmuKuweaurU/1Ubm6Yi4CZvPhwCM/y4mMHEhLQ0RO+B/THR1SS8vsbdt4dHrhvn0AvXh0eum338LZgPsm4XB0WNGuXRnBwQpHR7WHR15MTMGePWMVFen+/ui5wq4BNCaKSPODg7DXXAoFgM14ZSUuuH59VGZrizdqvHUL4gRcKrX9+fPsiIjUTZuKDhzICApSubkRXiefyURpti45GbOSai9fBqcMSHL+7t2zfX05UVHN9+9Dco78ucyQEMC8ZGRq1ZkzE3pdBgSIHq+s7FOr+9Tq1E2bgPOVHjkCTS79Zq21tbXK9dERb4eHMwIDSTFuor5+rKJCf9aQxNwcs0MQmpDX4TMYPDpdYmmZGRaGz0stLV/X1EgsLBBeVJw8qXRxEbBYaT4+1efPa7y982JjX9fW9shk5FIDBEUCsLY+FoVUfKrOnAFc3PHyZVZYGNw8n8lEo3baOvzZLZHM9vVVnTs3WlbWI5e3Pn7cdOcOpDyIzACRWfy/Uo46uFyJufn1v/zlf7wDJlIVvSoV5qw13r6dERxM6n+kAlqSkNDB4xHfBroB9kPh6DhaUrK2upobHU3QVzRIkE44goV+WF5eGB2dqKurv35dN0BpPcxsWdfQWVtbe/vqlX4cVHv1ardYnBEURMZygezX/vKl2sOjV6GYbGpCNCe1shorL8/ftavk0CGFk5PGy4sA0cC6eXR62bFj5MXR/anauBH5RMGePeh2JbMZwMUXczj4HoBIladOASrQn7mkm2O4Y4fazW26s5M07aCyCNBYxxhcXVU4OMCh6pA9NhtaGbqEeNcuoLjN9+5lhYfnREYCGircv7/2yhUYgpZHj5CUCA0N5wcHc6KiYEwFLBbiIYTDr4qL8bX4BsgZ4r8iVhgpKFj9+PFNa2sHjycyMUnz9VW7u0utrRfGxnTtgFRq+YkTH5aWCLSFfS89dIiUtVSurmitQdUfOohZW7ci21O6uBC5fB0zmU4HZv5+fr5LJCqOj8d3agMCCvfvh/OQ29nlRkVhGAOGs1acPFmXnCyzscmOiEAROnv79uW5ufdv38J5g6aBda4+fz7N21tXEY+LQ4ySGxXVweUqHB3lDg5cCqUkISEVdCo6vfrcObmdXY9MtjQ9PZiVxaPRssLDlc7OWaGhsOwCFuvd1FTrkydovQPtTuHgkL1tG+7FXF+fytW19soVobExfEZxfHyXWFz67bcwYeNVVRlBQSUJCVwKBS6t6c6d+mvXMEQhJzKSaINkb9tWd+2a0Ng4MySER6crnZwUjo6tjx9zKZQ+lYoYxJqLF1c/fACnAQ6mcO9eLoWidnMTm5pCcoQU8lM3b16anlZv2tSQklL33XfF8fGpmzZJra25VCoiZsyKHqus5LNYZCSazMZGtXEj7GOXSLQwNlaSkNB4+zZwLNTyc6Oi3k1NYSYBKR6B/EwaUXIiI3sVCsSgRCpAamm5+uED9np+eHg4L48QMpamp+V2duhRSd28GW8HfQJtYGD7ixfzg4MNN27MdHWBaj6Qnq6PAKFkBnQNmmvN9+4VHzwoYLFWP37EpZ7u6JDb2b1pbf1vob3Hj/lM5mxvL8lNZVZWqBN9XF5Wu7khb669fJmAW6i1cymU+aEh+D+BoWH9tWuDWVkqV9fUTZtqLl4cLS2F7Eb+rl3jVVUj+fmLr1/PDQxovLz0/Urqpk3lx4/3KpXFCQlY/LyYGAC/MmtrsZmZWk9qquXhQx3Tar1pYqq1NTM4WGplhfZIHp0+Wlama2I0NUW0NJKf/25yUqsnVImOEsV6Dg0SOOm4zQwLg8Ja6vogEOxvX2qqPh0PQ7J1xsHUVGppqa+IUpGUJNNj1ZUfP7764QOpZMvt7dUeHrwfpjczXV3THR1L09NFcXHZERFYhIqkJP3Jcj8RCLohJQW5BXwq8ByJhcVEQ0PO9u1Sa2tYRkRV4KrBshft31965AifyVS5uqb5+iqdnflMJgBkKFiNlpQIjYzArOMzmUSPrVsiWXn7Vu3hgUMG9Ea/Ax2xm1LvTBDsBQaFRHzawMDWJ0+KDhyAe2u+fx8Xm5wwTKwDlwFwUPXFiyuLiysLCxmBgbM9PbWXL8MrQHhZaGzc+vjxTHf3VHMzWNbkkWCqZLa2Ew0NoOdNNjWVnziBzjZCZgZPJzM4+HV1dfvz53h9/YHV+sWetu+/13h6wm1IzM1zIiPRiLUwOoogV+3hgZoHEg7ySJDRzt2xoz89vXD//srTpwlRHFhrybffkuyH5NnVFy70yOVTzc396ekA8XCTS48ckdvZtX3/PSQOgA6JTU3FpqY8Gq3l0SONlxdCH4mFRcGePbCGEgsLAlLxaDRQrDsFgvbnz4VGRnODgzIbG4QFa+sjzFBqar5/X+3uLrW0RIqAfjDsrNDYGGXjqXVgsGKd0C6zthaamHAplHdTU2JTU7WHR7dUOj80pHBwADGkRy5XODtXnjrFo9HeDg8vvn491dKSGRKCQCdr61YAA+8mJ8FJRmzRo1BoAwPhp1sePVoYHZVaWZF5zINZWVIrK4WDA5/F0gFu67Ob5HZ2QhMTfA/UiMDE7pbLRaamyDmgKMKn0wUsVkZQkNjMjEej8el0MYeDMnNGUFDp4cOQxswKD5fZ2qpcXfksVuXp0wtjYzw6faa7G8Fi1blzvQoFj06fbGqqPHUKA5dExsZqd3fd/BwarenuXTzeTFfXq+Li4vj4gr17ZdbWFSdPlhw6hCRsrKKi5uLF1M2boauAzDs3KgqCYlnh4W9HRhROTv1paTIbm/dv34KWBYYaj0aT29mJTE35LFa3WMyj0eQODpWnT7c8fJi+ZYuYw9G1kFGpk42NKwsLxCNmBAXhzsrt7VM9PKCe/WNCJY2GvjLE37qKj7c3tk+7PkwTfDdcwHQ/P8SgKNyi+ws+sun+fTgGBGdr61OuCTag32+JdvmP799/XF6WmJvL7eyUTk5wY3XJyaieItRA1MijUkuPHMnbuZO8IK6Y3M6OtJDM9PR8WF7uVSoHtNqppqbSI0f0FTYA6aFbXWJhoa8EItHjUuD6zPb1AYBJ8/FZmp7u5PP1sxoyvA70cm1AwFx/vzYgAFUSFDv0k0jCnS5PTESFQuHo+PH9+5yoqIWxMdJmRpKHNG9v0AL0eSerHz4QtaWGGzd4NFpmSAjMGoEn669fx8Ukaok9MhmAENQmkMMMZmaOVVR0S6UF614fm9Xy8GHr48dCY2PCQdFPmX4iDrg8MZFAIqurq0h8EZu0PnmS5uur7wUJLUJiYUF6WPWp8AT0gB43j0ZDgUdub09OWKdAwGcwehQK/XGY6GzBLWq8dQsbRlAmnBsozRJXhPhL4eCQAejSzAxBXNbWrYNZWXI7u6pz54R6ut44srO9vUVxcTPd3cgRcaXX9KbKo1JCuvr0OREiNrv6wgVC2J7t7U3380NtMissrF+jabx1C90RhA/Vr9GQ+BQVIDC8tEFBbc+fwwX2paYSL9UlEkmtrNDCoR9gkn4MUFTIEedRqQg1RGx2zvbtLY8e4VaQqZ9ozEBFX+XqqvHy0nh5lSQkYI69Ps4B5EcbGEjYW3XXrimcnNQeHvr6+IiuSNUcEGXLw4eVp07pF6hw/TDLU2JuXpKQkLppE+4bl0LBmmgDAnh0OlotQTkRGBrWX7/+pq2t6e5duYPDysICNlcbEKDrJjIw0LXGffzIpVDIg6H5VZfq7dsH36Z2cyP7O6DV8lmsjODgrLCw/F27qi9c+O8KKIXSyeO1ff89l0oFE0pibt58//5gZqbYzKw8MZF0WOpKwlQqHgOzfjExHmYOZyN182aRqSnErfgMBp/JLNq/H0mSwsmp6uxZFDiAl4yWlgqNjDKCgpru3euRy9HjgTs4UVeHsRAIavG0cnt7lB6aHzwAlQlGdrKpiUuldvB4PDpd5eradPdu7eXLK4uLaT4+H969g0KI2Mxssqmp9enT/N27u8TigfT03OhotE6JOZzyEydExsZ5O3dKLS0rTp0SmpggMIJsC8pANRcvYgDDSGFh3Xff6V9hUlSCIhgxwbjXCPGXpqe1/v7wrAIWq/HGjdGSEmIZ4Od+1O5YkpDw4d278aoqMihCYmGRummT2sNDbGbWJRKlenjI7ewgVa12c0OMNdXSkrN9O5/BULq4pG/ZQgiDxd98M5SbO9Pd3a/RyGxsZLa2PTIZmTIuYrNn1yd15u7YofOp9vYwLE137yIUQKaLUBhtBUhdctcr0FgWQj9cW1vrEotHS0vXVlfTfH0V6x2ACM0nm5pyIiNhMbhUKhgt5SdOEBvSp1YXHjhAkIzi+HiiwobfDGZmijmc2suXxyoq2p49e9PaiiqDPoRLdorPZK5+/Ei6/MmQUJ2lPXCg9ckTVIL1JQvBv9H/nz+aOUhwO+KAy44c4dHp9deuaby8gEMgC8qJimrVo+DwqFRwCPSnqtclJ2v9/RtSUipOnIBBI/MKSVEMY51+Chlwmre30sUFp39+cBB7g/0e0GpFbHbt5cu4fmVHj4I+DqrzXH//D2YBeXpi7QioAloHjBq66Ga6umqvXFkYG6s6d4700SPvQdVNnx0NE4m2JYJ8Kp2c8mJi4GAGMzPzYmIgGq7P1M+Njh5ITx8rL5/t6UH5DXsP7hWCdFIJw+3i0WgkoBOZmECBtvL0aZwVXdfs6irhiIIHD4O7srhYfvx4we7d+rpdEH1FuVTEZiN2IU0F+AYSQ+BA96nVmFDbyecjA0NzJDFJXUKhwMDgw/JyVni42NRU4+XVKRDoHOd6tallXeU8IyiIxP76QAIybKIQCeUHvHWary+qpCI2m1Cy4S3KExNJyJXm7Q2q7ceVldXV1crTp4EzrywuznR2jldV8RmM+aEhHp0ut7Vd++EMlpYHD8bXAQ9w+nh0uszGZqa7G7/PDA3lM5lEhQA4YeuTJ++mpiBZNZiVNZCR0fzwoczaerKxMSs8PDM0VGplhTcqT0xsf/GiJCEB83pRNQDACOKxauNGPI/czi4nKqo+JUVqbd0tFndwuUJjY6GRkdzWdq6vT+Pl1fr4MVa+cN++9hcv1O7uYMEMZmXxGYz+9HS1u3v+7t1yO7t0f38Y67qrV1GRlVha4mmzt20rO3YM30xCWC6F8m5yks9gVJw8CXCbR6VWnjolNDbGdFv4eCxCt0RSHB8vNjXFPGB8WMzhlB45UpGUBEKA0Ni4YO9eobEx5j7x6HQY9/QtWwhWBNQKYHX78+dZ4eGZISFiDofo1ZCKCU7vZFNT4f79CJXAsu5LTcWCQC38w9JS9blzPBoNBZGM4OBuqTQzOJhIfOvI0mZm6AHDxSlPTJSYm0ORFC4qe+tWkkfiseX29qNlZciWCDeHcHzeTU7m7thRefp0J5/PZzByo6MJGpy3cyfisPHKSpmtrU59zMqKSPKVJCTIbGzez8+TM6nTSY6K0m+3bX36FIAfLqzS2bny9OnJhgYegwHsZ6ql5UcqCHJbW21AAInjCaBNkCfib2A0sLCNt26BGaM/8228uhqmDLarcN8+FMW4VGrujh2pmzYh0CGwFhmKQ5Kf8sTEdD+/qrNnm+7dGykoILaOIA0Sc3MYq3dTU0Ar9VNwBOLwi9nbtqFG0CUUIoOvvnhxor6+6OBB1BeG8/Lanj3D5V2cmOjgckdLSwWGhmk+Pu0vX/LodGL0ADwQsSBsun5/Nn5AyCI9V+DzjpaUkBAkd8cOgYFBB5f7k2JBF3/zTZdIhMwVSyYyMQGYkxsdTc4Hj0aruXRJ5ea2PDPTcOPG69panJWVt29xwSpOnHhdU9Nw82bb06e5O3bAfHMpFH1mOan1FsfHp/v7I2JC2kTu4auSEj6Dkbp58/u5OYmZmcbbm0RqRQcOVJ8/L7OxEXM4Smdnsn98FqtXpUKyQhL37IgInLCiuDiimqv198fH6q9dg2VEDItPEi4DKYE33blD+n0RVWDEEOISqbV1TmTkYEaGwMAA0T2Ix3kxMVnh4eWJic337oHwxaNSRwoKVK6uVWfP9ioUaG4hNzkjOLj64kWk4PDKYJ2QOeoFe/ZILCzGq6qywsKAM7d9/33T7dvZ27YRXjesXlZ4ONwqDO5cf3/5iRP1164pHBy6pdKF9dYFbWAgl0oF7UtXKKXRcqOjxWZmpFVaammZHxsr5nBUbm6pmzfrdKZsbflMJpdKTfP25lKpo2VlcDwya2tEu+XHjzfcuIGHmenurjp7VmZj0/78OejNiHuGsrNrLl9GiAbw41Vx8Vh5OZdCIUJ38N9Z4eFkxg7hGZH6Yl1ycpdEMtvb2yUUpm7aBMGQkYICRP3v5+aQAajd3YVGRv3p6S0PH6rd3LhUasHu3aCfcKnU4vj41M2b+zUafP+HpaWmO3deV1dnb9sGiVaplVXL48dZ4eESc3MejQZF63R//4zAQB6VOlFbm71tW79GQ4SKxsrLtYGBUGJBx9GH5WWhoSEIX0Jj4/bnz3k0msLZuV+jwf8lf9cupbOz0NgYEn18BkPj5fVuYoLPZCqdnQWGhrpZPVQqEAsYaIxXghvu5PPRmpnq6Znu5we8RGZjU3LoUNGBAxnBwcjdEVjraqsZGaT2RIAuALwSS8tXRUWpnp7dUqlOZic2tvH27bevXqlcXbkUykh+Ptwz+GKdAsFoaSlcV1FcXFFcnMjEhPAN301MwA9p/f37NZrh/HxC8oCdldnYoASOforCffsAJKT7+eX8H+7e4jnOdPkSXkxMxCy+xWxmMbOYiG8zE1OsErNkMdiyBbYlyzILzMzMzJahzXYxl6DEJWZmRotZsmTJolmcquz3+s4/8Gsvbtzutq2q932ezJMnT57cu5doTLWLC3BA2vbtGnd3WGv15+RACoRtpyVXr8osLUFiUWppk8kkPF6JWc1UePYsoAPa2wDo+SdPSrhcpIrsAweW5uYkPN7C5CQg+NLPnyjotebFXzJLS/KF1axbV377durWrcaYGPgy0iwZmZkMFRfnHj2avn07iP2p9na8awpZSkdHlHqosP8Y8qHYAjYIOzBUTk5p27alb9+ef/w4sCaiEMxbEKa0Hh6Q8qz8/t305QvFTDzJpKCg3z9/DhYUEMjW+/mhQKp7/bri7l0073Deqp8+pXYknkbtq1d/DKPOj4woHRxGq6poiqHp06fKBw+g+aWhYSbhXHzxIq4qEZOG0FCqPUpv3Mjevx8xDfrzf04PODk42BgXBz3kbG9vV0ICaBBmQ5FJ5OKh1L1+TY6DxLLivcptbdE+af76Ve/n15WYSL5LzF9ANHpfXzoNcmvrlC1bsvburX7yBCHJYC7siI/ty8oaLi2lySWpQDBUXEwyZpzX8jt36t+8WZyaQjG9srgIJKF2c6t++pSybLtSqXJy0vn4JJjHyVu+fx+pqKh6+FAqEIASwNQ/vL+LL16Edzw+aunVqxgrxK4V6unigeApVd6/36nVJpi3qmHQiC5kzsGDywsLxuho8h0Ts9kt37+Tv1J/Tk7z16/47mhRl9++XXz5MhTFiDgkoqZpiqX5ebD3A3l57QpF9dOnfZmZv8bG5oeHgZp7U1MXJiYSN26c7etr/vqV+GrAjh9Go5jDgXESkrTMygrvOvfIkbxjx/oheuRyxRzOVHt746dPv0ZHFXZ2UMGgg5W4fj0yjUmrWVPTrlTO9vZWPnyIrya3tgb5jFc82dKCuduGv/6Cl4XM0jIxKKj66dN2lUpuYwNpMaIwuh642Oh/Z+7Zo/PxEbPZk62tKVu2oC40hIaOVlVNd3VhjLjhr790Xl54Lzovr6YvXxYmJzVubqkREf3Z2Y2fPgF3Ls3P17x4kX/ihDE2Fk9e5+Nj2Lx5IC9vID+/RSQSs9nodwzk5Y1UVKRFRiYEBNQ8f45+MIpdTHaNVlUpHR1hTK1ydlbY2gITaNatw0GFq2LK5s3YKgh0iDXGxpiYH0Zj3rFjEoEAD6r+3buymzclfH7ZzZsKW1uY1KdHRbUrlQo7O7Wr62BREUCqmM2uuHcvITDpzstkAAAgAElEQVSw5vlzUk0y6wy1q2v6jh01z57p/fxapVIAQeyAwkkuuXKl7tUrqUDwt9HHpk2miRdfX4TjxZkZaNlSw8PJZFHt6opuSFdiIvqLaBuN1dYSDYBecuHZs3o/PyB+zbp1w2VlCQEBYjZbxGYPFBTUxcer160rvnQJKbng1CkkcvJREvN4M93dxRcvFl++LLO0lPB4xKwUX7wo5nJBaDHLqVaJRMLntysUQ8XFoJHXzNbEYHQG8vPFbHb1s2f45DM9PTXPnuG5GUJDs2JiMnbtqnr8mJwax+rqpEIhccXQGQHl//zxI//UqZXFRaAWCKMWxsezoqPxQKCoUNjZ4fHO9vZW3ruHQih9x460yMjk4OCZ7u5OnQ6qNL2vL47uQF6ezMpKYWcHSgBTYdQllVlaQmoDBr4uPr6XscCGOc+idnUtOHUKLtzEByQGBhpjY5kjEimbNy/Nz/8aG0vZsgViHai6oN+U8PmG0ND0qKiuxERgaHoaWIkB/Sz9L/GUhs2blQ4OqOyJS8c/QvGg9fBg6q2MMTE0m4P4sLa25vpf/+s/IQFjWeb8yIjKxaVNocDhWF1ZQf+GuOU1xiI/NDaSg4Onu7ryjh8vOneuNy0tY/fu3MOHuw0GEYuVuWcPUfbMX6A1ADlpPRZC9kBeXtOXL/hTQMo4SSbR//79zN2CZTdvKu3txRxOi1hMA9rUnKcFziI2u/rJk+onTxo/fpRZW3clJFBd2yqRUM1dev261MIi7+jRmhcvZJaWw2VlzV+/4jxlxcR06vUwB8Y9RERD0jLGxhrN6RwCEOLPgR/JIrvo3Dni+ho/fhwsKDDGxOj9/evi45u/fpXb2HQnJZGPxMLk5O+fP017v+/dQyVE1rX4Eb/Gx5NDQtKjovAuaL9m3vHjdWYlMMIKCCgQ9Uyejc69zsenTSbLjotDekDUyD95ErgEL8u0o4bFkvB4wBPFFy8SKVRw+jTayZC1K+ztO7VaHBUAOJKfmCws7O37MjNBbSHx1L54obS3V9jZNX35gpAk5nBAxiauX28CdtbWCQEBZBoK4QzmSvEqp1pbSdIls7RM2bIlPSoqcf166LDKb99ODgnpTU9Pi4wsJp9hKyvw54iqaPdm7NyJKbis6GgJj5eydavCzi41ImK8vh6LNWVWVkXnzyvs7VXOzhI+H5Ei9+jRlK1btV5eky0tYi63/PZtnbe3VCBAX7DywQO9r2+bTJa4YYOYy0WmIcGByslJZm2dvX9/xe3bMiurX2NjSLq1r16ZKn44fQqFcmvrTp0Odpu/Z2exY1huYyOztFTY25N0H5docXp6cWaGWCIJjzdSUQHmAM77+SdOaDw8ptrbsWhSzONpPTySgoKQ51BYZ+7ZMzcwMNXW1p2cjPZzm1xe+fAhXhw6OL1pabXx8R0aTemNG2Iul3lV8TaHSkow/1Z07hzt1iXETIjEFKPNlXF3cjIGFrAzwxgXV/X4ccauXfPDw2jurK2tGYKD03fsKDp/HuASpBSVaGIul/S3CGhYfI4HMlxeLmaz6Ud36vV5x46hbcHsgLZ8/w4anIyj69+9A60NvKL19AQbh9cEIrr0+vX8U6daxOLiy5eJA1+cmZEKBBoPD+CJutevMS1icvawsEiNiIBgs+rRo8y9e9H5hpQJIqY2ubxNoSAvdOP+/RRXO9TqKrQkAHT4fOaOB2IaULaO1dSADKcdwAhWaDLi8yC4UQucyT9RlJ4bGso5cIDcSyBVw5gDIoyEz0/dunW4tBRfGVMkKG9IP0Ttnv9nU5mY/PmRkYIzZ7AO54fR+P/9p//0Hz4BIwiura3NDQxghw9p8CZbW2nEHgogHAVKzGsMOyQwqMu/fmXs3Flw6hSqE8TKnEOHZJaWpqh9+XKHSmUIDSU8DrFrT0pKxd27ILpLr1+HqnOkvFzt4oL8mrRxY8OHDxV372I4p1Onk1pYlN26lRQURO+eKZToz8nBGSJS+g8YmH/ixA+jsfTaNb2///zISPb+/YgUsHJECOvPzpZbW5s6Vbt2der16Hnjkuu8vUVsNhCfzMoKAG1laSmXoeUbLCxsVyoV9vYQQ5XduAEVD9H++InpO3ZA+vRrfHyqvX1hYkIiELSrVEXnzqldXJJDQhS2tqvLy3A1IeIBM4upERG96emouirM5MxYbW1iYKAhJETv6wuCUSoQDOTlVT15AnKi7vVrhZ1d9dOnCnt7Q2goODfmhmMaNEwOCYF0Wefjg7eGq7I4PZ0cHCxmsxGwdF5erRJJytatPSkp9W/fjtfXo4tc/+6d2uwa2JeZ2fztGyh3nJwEf3+8dKCx7P37fxiNYjZ7fni45sULuLqTUixl69bsuLjC06fnh4dXV1bkNja5hw+rXFzKb98Wsdl9GRmJGzbkHjmSf/KkmM2WWVq2K5UN79/LbWxwz2lCiegymaXlr9HRntRUwBcJn4+CUmph0fjpU+XDh3hEaNiL2GyFjQ3NYeMMpG/fLuZyE/z9844eTQoKMsbG5p84kbp1q87HR2ZlpbC1Lb15E5wntjCJ2WzyDIels1QoBJ3L7CAMl5dXPXqk9fICkynmcNIiI7sNhoxdu/pzctDN7U1JWVtbk3C5iGVyG5vhsjKJQJC9f3+nVpuyZYuEy5VaWGAtStbevQji0x0drVJp0fnzYg6n5MoVyBqav39H/whnoPHDBwLHOGzZcXEpW7Zk7tnTqddXPnwo5nJzjxyR29qmbdvW8P69zNISc7djNTXQi8FTGqry2d5ejYcHDiHWXCJzSwUCQ1iYVChU2NmpnJ1J+vfzxw/KLoCk+AxKR0emeG2isVHr6Zl/8qTMymqwqCg9KgqPJffIkcaPH+tevx4uLc3cvXuqtRX59YfRiLaR6XuZQYbKxQWyalxPoEathwfudYdajTdCvsdtMlmHVgsyFkwPUBTGXqe7unIOHoTFcXpUVNOXLwpbW+iV4JbMjEKjNTV5x4+XXrumcnGhNVzQVHaoVEoHB4AMsBo4M8bYWKbf3OL0NKIWFYvYNJUQECBisRo/fkSPYLyhofblS9yjwcJCXAfMYlU+fIiSFJdaZmUltbDI3r9fbmOjsLfHX47Rr8w9e7AsC10bst1Wu7quLC1RFwOPa2VpicjLucHBtMjItMhIVA7pO3bM9vYqHR1RojR//QpVCnO+FDIjOoR/7AeiYch/AgVddvNmb1oa9fPzT53Cwik8a5yGpE2bpAIBJK/N5l1dEMVBJ9KVmIgyAqe26dMnYjVpby4qDJIQ43dqvbxELNYPo3Hl929DaGjTly8w8wPlAmcitasrzRQVnT9PoAmFXdLGjTpvbxiz4a9F/sNpk/D5IGZFbHb+8eMokXF5UCWnRkSAvh7Iz8f1oHkhvOblhQVac7a2tlb1+LHWw2N5cTElPBxNIFh31b1+nR0X9yMrS2FrOzc4iHxcdutWm0xmsqK1s8NHIltpUMo4oCTWlQoEeERg3vDwCaKW37mDTTiYf/1b1mFpidwp5nLTtm1bXljA/h9cS4WdXadWq7C1RadgZWlJJhRqPT3bVSqK+x1qNV5Q46dPEj4//9gxKFOSg4Pr371T2NvrfX2x5tYEm+rrewwGzbp11U+eNH/7Vnr9uszaOmvfPpIy5p84QV8B8bRDrdZ6ehL4MC18dXAAYZgaEUG4ByEG5CFcNf7Wwx87lhgUNFRSkr59e+P79yBLqx4/BsxSOTlh/yBCFRYAUBGPFUM5Bw9CmSyztla7uiK9NX74AHFf6tatMiurucFBMYcz2dzc8Ndf2XFxLRLJTHf3YGEhJK+V9+8nb9qksLeHqYiEzxdzub0ZGeh5D5eXSy0ssuPiTAswXF2RM+pevx5vaEjZvDnv+HExl5sWEQG2renrV1RRSRs36v39JXz+r7ExhOyqx4+z9+/H5BX+NhGLVXLlit7XN2PnTpmVVfWzZ0C3CIsN79+b5gX4fKmFRcrmzVPt7UlBQTmHD+cePmwy712/vubZs7Rt28Rsts7bGwMqGBFu/vZtpqcHxy8pKKj+7Vu5tTUCKxAYMo2IxRLzeInr10MCkn/ihNLRUeXkBN5S6ehoapfOzSEj6ry8al++lNvY9GVkVD54UPfmzWBBAXQMq8vLBMRp/Lc/N1dqYQH6h0JQcmgokBDgWlJQEEAnXVVitlTOzlKBgPpECPGAIKYO4oMHP/v7NR4ezD3l1U+f6v39J83Kgza5HE8Gm7ioOMPmKxyqn/39Yjb719hYzfPnKFQgc0kKCio8fZrZ1kG6Avmk8/GRWlgg56HMUDk7ozMlt7VdnJ7O3Lu38dMnzLuj0lDY2zd++MCcRMBSxf6cHKmFBURnVCM2ff78a2wMElGktJHKSgmPV/XwIWot1JQobVO2bv1j6GiNscod4yqUC2g4u/nbN1PneNOminv3etPTSWJGv3Te3jXPn/fn5JiQmXn7IVNuPVBQkLFrF9DYaFUV4i3e8mRrK6Ju/du3Wi8vwN+qx4/x3NA+L7t1658jwsIUI5yPNO7ukMng0citrZkCcfz7IjPHW3rtWlpk5HBp6VBxcYdGQ5gFCnjURo2MiWwxlwsgiX5b/Zs3Cjs7Y0wMmi6mzPTqlUQg6E5KSly/fqKpqfnrV0wQAVM3ffnSKpUC4q0uL9PGyr9frVnT9MNorH31ipqjf5wtggUAH8QEMIVgqEUyd+82xsZWPXpEdqZlt27hqyVu2ICHBul4ydWrs319JmN9c9mtdHT8YTSO1tbiChlCQ2WWlmI2G3kiZcuWwfz89O3bjbGxJFchX+WEwEDAdhGLNTc0RBbcEoEARKuU4Zo7092N/U7kkF567VrFvXutMhlocyyE/zU2ZggLI0kLPqFEIEgND2/46y+FvX1CQEDGzp0gvZs+f2auOZPb2g6XlY3X18utrVGOt8nlzd++IbUj2ZgcH0tKsAhBIhCQdRfmfCZbW+cGB0VstsLOzsRI29qiA2SMielJTcUmQciY18xeTsnBwZUPHuDlDhQUrJlXQiGv6H199X5+g8XFxJJ1JSZKLSx0Pj4zXV1iDqf48mWphUX5nTu/Z2b6c3IQ99MiI6EIRR0vEwpNPsMKhVQg0Li7az091a6uCQEBEoFgsrXVGBOTFBSkcnICw5wdFye3sYFPuIjFMsbGpoSFGWNjcTIVtrZYTlB+507OgQPUZqu4f7/o3DmFnZ2IzW789EnM5c50d4t5PBGb3fTlS9mNGwpbW9RDmbt3w/gQ1czf/A2bvTgzo/PxUTk7I4CmRUbq/fyav34tvXEDYAWArD87eyAvD/4PkPGrnJ3ltrZiLhcjcDkHD2q9vFaWluD/MFxejnX0piHU3bvhVKp2c1M5ORWePQu2qfjyZeQ2qYUFpP6/xsaUjo7owmbs2gVnDNDXEh6PKf4fqaxEyZ60cWO7SgWfDaSiBH//2R8/kkNC8o4fx1nSuLujCsTKRci819bWCs+fT9q0KW3bNlLLIwFr3N3pw+MP/hoby9i5c7qzU8LjAfS3KRTIH6T6FnM46D4isndoNLR+BhGDbDrwqXCt8ENJYCxis8vv3AGax338PTtbeu1a/bt3oJeoTzTb22uMjcXPQkkA4oo5JZxz6BDaseihmGdvV02hyd9fzOXiotGsv8zKqvrxY+zF+fnjh9bLa7a3VyoUNn78mH/y5GhNDVMnNVZTg5ndxZmZinv3mOOIxAlLeLzcw4fR4pnu6kIWgLAOoE3p6IiQVX7nTsv371Qm9fxr11nj7k6NYVipE9eCIIZCqE0mUzk51b58iUqA3g7UgniGaldXqYWFhM9HKH73v//3f/gETMGRHKwy9+whURUyn8bdvT8nh7Y0//sEPf0iO5WRioriixf7c3Mzdu2ivIVGSKtE0vT5MxhIEYs10dhIfI6ExwORK2JsK5pqbwcvJGKxVldWuhISap4/T9ywgao3Y2wskpmYy1XY2kotLJI2bqy8d49Ml9Kjoqjyrrx/P/fIESYpDWoON61Dq0XftD8np/z2bbgNJ2/aBOxvCAvD3wmungY8sFcc9wQ8J8R+k62tKhcXtNxqX7zAn6WnMVRcjOI4ZevWFpEIFNzP/n5USGvm9cxqNze9j0+nTofPMFpVBXJYZmmZfeAAYQuTqz6fT+Owzd++McWKqeHhE42NM93dyZs2gRyWWVt3JycPFBQUnj1bdvPm4sxMzfPnS79+/RobW11epnBAJXvjp089KSmG0FDTcmIOh/a0l1y9ikqo9MaNkcrKxKAgYrCLzp+HBpgW/tD1wzslfmllcdFkVcjhaNatGygsBFONTwtxQJuZRcRMtsrFBbCsJzVVaW+P4yqztBSx2ek7diSHhDR9/ox4UX77Nk54/qlTa2trCxMTCNmTLS0IMVKBQGFnV/Pihcbdfai4+Ed29vzwsJjDSQ4OVtjbp23bVnbzJhL24tQUEEPFvXuw1Sw8e1Zpb19w5ozOxwcNSxGLReJbhZ1dUlCQiMUifXJySIiIxSo4fVrp6Ji8aVPZjRuYgTY5cvv7S7jcinv3SBALqKf39c07frz+3TuMLOv9/Zu+fIFnL/htjYdH4vr1Snt7laMjqlu5ra3Czk7j7q50dMR/BVzQ+fgo7O3BMfzIzJRbWydt3Chms6VCYXpUFPwWDKGhIhYL3xRv3BAWpnJ2Ns1KcThiDscYGztYWNj06RNmirQeHgpzJSrmcBS2tuBgJpqbaapexGZr3N2VDg7YCpVz6FDGzp0pW7ZI+HwJn4/ettLBofnr18mWFmRx4K2Ku3dJN9v48SPOJ05gcnAw7SQYq60ly1icMZ2PT9Pnz2pXV5WzM3JDUlBQ6fXrVDSjyUXD1iRYg7JMZmnZ8P49MISIzTaN2E5N4YQDGKVFRnYnJWXt24e1SIawMLAaIhZL5eycEBhI+zpzDh3K3LMHoaP44sWsffs069YZY2NHq6tzDh0yRkcDnUAEDqhdcOYM4HiLWFz95AnCoGmU0axLahGLV1dWyG0elBKmGxo+fIBrG2mPU8PDf42OMufiFsbHG96/h0wkISCg8uFDEIFE9qI7VnThAmK1xsOj4MyZpi9fEDYr7t3TeHhAxS23tcW7JiEOs4ctt7EZLi+XCgRyGxtkGaTwDHOsw3evfvJk5ffvNoVitrfXEBqKGok5mohW9z+kAs49fNi00s6cg6kiJLMk+lV45kxqRETOwYNtMtnc0JCYw2GuvwDriNoRBw60DPoBRRcu/Ozvn2prQ0GGwLdmdmaG6qHkyhVwWfjjxEQh+Go9PPqzs0HvdCcnQ0s82dwMmRhV6gSykDxIerA0NzfZ2lp47lzBqVOQkhpCQuCs+3fXtqiIJo5w0OG3wBRjY4SXEAA5eUl4vOnOTqWjI24d/pTc1pbOMfKHCrJSzHRyOCC+aI0gBFME5DXr1lXev58YGFj3+rXKyaldqayLjzeEhkr4/IIzZ1IjIrL378fNoVl7tasrSKGkoKDKhw9FbDZuNVhlfBiJQFAXH58QGAhdEkKVwta29Pr16Y4OdJfVbm7GuLgEf3+81rIbN2Z6eshUkibTOtTqutevFfb2VQ8fZuza9fPHj4H8/LIbNyARwrQScR5Qz62ZzSkpTwOL1MXHSwQC7NJB6pJZWeWfOIEqvOnrV9xYIjBwQiR8fvmdOyI2G8Ed32X51y/gNixrAotFRgcJgYErv3/Lra2ZKtnlhQVsJsCMtdzSkmAWXDVGysurnz4F+5IcHIxd63IbGwmfn7l3r9LePnPv3k6tticlRWFrK2az5dbWiDjUX6h88EBiYZEWGSlis3szMobLyw0hIYbQUFTeSicnzbp1Gg8Prafn8uIiSabxRZYXFqgZoXRwgM4cnzAlLEzEZkt4PDABa+ZdAu0qld7PD7c7/8QJVGDk+ZXFWF0gs7KCckrl7JwVHa318GiTyyUMu4akjRvFXG75nTsjlZVSgaDHYBCx2aAcsK0P3G/z16/4tFn79hljYzP37s2KjgZPrvPyqnr8mFbPpptRPkLwbF8fsC8OA7PvA7gM/l9qYYHTjt+A/NGdnIzvqPf1ne3rk9vYLExM5B45gsxKkBQZBU8Vr1VuY1P58KHKyQmcbbfBUHTuHE7Ij6wsJGCdtzeWWeFc6X19ARmrnzwpu3FD5eQEj2VUtGhOZ+zalb1//0B+fsGpUwkBAVWPH2vc3WEoPVJZWXDqVH9uLn4i8wuura7mnziB75Xg76/z8gIRgnK8RSSS8PnkoAdCm/Sn+JW2bRsNIuPOilgsksHLLC1/9vfjCNFQyXRXFwhwMYdTfvv2/MhIgr+/ysmp+ulTKMmxXgkoNmH9eoTc2b6+0aqquvj4Tp0OzeA2uRyvD90TEp0BrNAVYHLUZbdu5Z88ieCfuWdPT0rKeH09AF/BqVOkCfjBsJRHoY8m6dra2tf/83/+CQm4+smTroQEJs/MXBD7t2zdxWXNvPCLfD5FbHb9mzeAgTQOT5kVDaSFiQnc5HaVinLh2tpazuHDU21to1VVP7Kz8RvIhqZNLscBxXISAlNiDgcTOwT9Gt6/R76nf4OzRb0NHDgCgCBDcEo6dTpEq5GKColAQH4U9K0VdnbdyckLExNtMlm3wZC2bZsxLg5fgTmGXxcfTyW7mMNZXVnR+fiIWCy9nx+Vd3JrazxV4pkr7t6tffmSHq/KxaXi7l1oYUDaKx0cqh49qrhzB/5iJldbNhvdKYW9vcbDA1cUd2BlaQl+/R1qtdLRUW5jQ2IW+DOA1KWoir8nfccOMYezurzc+OlT1ePHTZ8/m3wN2Ww4D0sYdr7oHmXt25eyZQumlZYXF/V+foszM4BQaCVMNDZi9aSIxap+8gSEARNOpWzZAt2yysmpLj5ezOEMlZQMlZamRUYq7O2lFhZJQUHDpaUqZ+fU8PDpri4xl6t0cJhoaiJbytqXL6sePSqE71hEhNTCovHjR7qrOk9PDEHpfHwAg6R8vsbDA8cATeWcAwcKTp1q+f5dwufLbW1NIhRr64YPHxICApQODs3fvvVlZEj4/Pp370RsdqdeD30WbJylAsFoTU3927dKJyeSKKucnecGB7EYWCoQFJ0/D4FS1t69CgcHmaVlT0pK6tatUgsLZCm1i4tUKNT5+KBo6E1LQ4RlbpaU29hIuFypUJi1b5/Czq7g9OlfY2PTHR1qNzcIrEC9JIeE1Dx7VnDqlM7Xt/DMGfLup2pJZmmpcnbGgUR/sfTatZ6UFMwswHwUL4isDVXOzqXXr2OXcF9mZvqOHUtzc40fPsiEQuK6VC4uSRs3Uj91qq0t9/Dh1C1boBFJj4qaaGxEVhguKwMQHC4txfQREVHUgcIb7M/NXZye7k5KqnnxovLBA6WjI+ntcbW79PqkjRshoqQJqMzdu6HrkQgE5Pqee/gwCmuwQc1fviidnIhxhcNP4oYNaOImrF+fe/gwxvTr37zBa628f/9f7AGcnGCTQnNrNLQp5nJNcgeNBtXLz/5+XF5skGROWpM4pvbFC9qvB4T0a3x8bnjYGBPTqdfDDQp02trqKmiVHoNBamHRm5aGx96fk4OOBulkVc7OpKpLDg6WW1tTIGpXKkkWzpz/Jicf/MFa8wtVOjp2aDTgium5IddSUMWclUkb1NtbFx+fHhWVsnUroIPUwuL37Ox0Z+cfhhsYUfs9O4u+b92bNzS9Sa1M0OxKR8eyW7cy9+6lGgMZIeZ//I//8Ak4c8+ejF27ym/fbpVK0bgFKY0SamluzrQh9dEjeqOpERGGsLD6d+/wn5CK1K6u5GyFh4gyBZQs7g+qHBqjbv76lYI7+FUCaz8HBsQcDuEm7bp16Tt2dGq1phZmaGjSxo0qZ+dfY2O/Z2fbFQrUxOCZsd+DvqNp4baNDV4qxgmQ4aZaW1VOTmU3b+La6H19q58+pUNG036LMzO5R44onZwUdnb9eXl1b96QWAMMcE5cHFX5TJe14dJSqKu6k5JoywrwZsOHD2AXYayTFR0t5nI7dbrpjo7k4GCpQACmgdmQnmhqWjGvpvmb24mOlgqFNc+fk1kYZhOpVIJOm/ABxBczPT1UeqZu3dr0+fPc0BDWw5F4e3FqivrrlDjJ9ihl8+aCM2fULi4Yo4TuZqymZqanB7EMvEjx5cu4ZjmHDmUfOKB0cAABhVWpLYypfJNojseTm92VcdLEXG7z16+JZk6l4u7dogsXsvfvLzx3ruzGDZTRZEK7xnBd0Hl7oz4AhkiLjKTZ8RaRKCEgIDk4eGluDokHzydp06bk4OC0yMjEDRskfD4Gl1VOTipnZwmPp3J2VtjbK+zsptrb844dk1pY5B8/3pWQkLRpk9bDQ2ZlpXJ2bpVIgL1qX77EtBK6oWhc5Z84gTiI/83cvTtzzx65tTUFJhKOrplNUUDNIXYrHR0lPJ7Mykrn5ZUQGJi+c2enVouRNiZW1np6tiuVU+3tUE51JSamb9+O4TExh6P39ZVZWRWcPl31+LHC3j4tIgL0JvVTCk6fprYUiKWM3bsJtNW/e5e5Z8+PrCzqUIjYbK2HB8BlYmAgrh6OH75mf04ObkFPaqqEz08KCjJs3owh8vQdO1K2bCm6eDE1PJw5hfKzv7/sxo28Y8fSo6Kqnz5Vu7j05+RU3L2bHhVV9egRhrtk1tZDpaV6Pz8qPWmTIMgJRLDKBw9obg1HF0u61C4urRKJztsblHLhuXMyS0uJQKBydia6q/7dOzGHo3J0BD8BrTW6y1SsU4VKMYfuWn9urtLRsUUsRoSUWljUvHhRdusWVgMtzc8nMLbZQ5LdbTBkx8Ut/fpF+ko0laufPmXOVvzdnmtrw2Wh9UTMJJpz8GDzt299WVklV65g+Efl7Eyfc3lxkcrl9Kio6c5OtZubzNIyISAgY9eun/39FLKYXfY1hlcokIeKsTkR5TtZneBQYa4pOSSEHlrty5d6Pz8Rm02DoHAph4VOT2oq6HF8tdXlZcwjMDvQfRkZCxMT/xAKWungMPvjx9R8oBkAACAASURBVGBhITPiKx0c0POnoI9icX54GNsz/vjVyUDQJJSvi4/vy8qCtxElP0BREEroDQzk5UkEAuoq1b99i2ZAcmjoYEEB0DETPRWdO0dt46n2dtgCpEVGFp0/D1EDUdB/960FAvQRK+7fR+ZjZkqaKUzauDF9+/bGDx+MMTFVjx9Dhr3GWA22NDen9/MD8pXweNn79yMD1bx4gdM8NzTUYzCgjMM8rsrF5Q+bt8oHD4hgT9u+verRIxRVkDUBnxZduAB8YxJbCYUo2ae7ulQuLlovr/68PCyypkyGyAKydLyhASCj27z4ujctTW5tDU4ebCFROijHRWw2LL2Islv+/RsIvVkkwngfc+oMRhOgwvKOHu3QaApOn8bq3K6EBJAZZbduEQUKCSUetczKKj0qSm5rK7WwYFpeyywta54969TrTfWopeXS/DzkWgWnT2vc3VM2b+5OTh4sKoLh1ML4+PLiosrZue7168mWlrJbt4wxMVnR0aZ+s0CgsLdPDQ+vefYMbgNya+vSGzfEbPZMV1fW3r1iLpeYkqLz50UslsrFRWzeOZqxcyf+HgRHQ2gotgaJ2ezmb98Kz52bbGnBRhrsHTJGR5sm2djspE2bYCQntbAYq6vDTPPa2poxOtq0+pDNbnj/HjdF6eDQlZCAQyvh8UZrapI3bTJV1VZWK0tLdfHxU+3t0JCPVlejFUpFoZjLhdfHYFFR4vr1Wk/PVpkMdn3Yhrs4NaV2cyMFUEp4uNbTsz8np0UsFnM4uLldev3f7khsdl9mpiE0FFkW2Rc6zYTAwIJTp0hbMJCf3/jpk9bTE02c4fLy5YUFkMwt37+TxGZhcrJTq80/ebL0+vXSq1dFbHbDhw8dGo3UwgIJpurRo+y4OJrSAVJfXVlR2Nv3pqcPl5eD38rcsydp40ZI2yrv31fY2ZEmQCoQLP38CQ1B8cWLlAVTNm8uvX49fccOvNbyO3fIMwdT41g7iHmt8lu38NhRCahdXRODgkDFFV+6ZNreweUiryB5lF6/ztwbqHJx6cvIaBWLcRIqHzxAzq558QKAAA2goaKi5JCQVLNqKXPv3qx9+9pkMsS6rL17UZAgpEiFQmoOFl+8SIELXNrc4GDOoUNiLrcuPh5NBOR7MUNGw6zgSSHb+OGD3Na2Q6MhdDXd1UWrVLP27UPtLmKxUMPQjCJ5G2Ts2FF04UKLSIQ6lYguEsOuLi9TW5o5A6awswPzTNNTIjZ7pqsr5+BBeMv3pKbKrKyqHj5kCsc69Xp0HyCDMMbG/rf//J//ISpooI+xmhqTLgag2NY2c88e0jDPdHWV3rihcnJiyveJuG5XKulFItsVX7yYHBIit7HpNhhwo1qlUpykxPXrf8/O1r58SWdX6+n5h56ZIiMYNubCS9L+IQ0DHEEC8Ht2Ft5vOYcONX/7JuHxii9eRO4h4DZYVMTUaKB6Rt93+dcvzE4YwsK6k5LG6+tHysuh76g02/zijIo5HNSLy2a4Sr9+GI3EhycFBaE2bZVIFqamZrq6qMH8t+7/+HEyXh6rqwOgJovmtMhIha0tSooWkSh9+3Z8QYAANL1Uzs4mQ834eCIw1W5ueQwPd8CUuvh4fB68EbRqIC1R2NuLORxjXBxwklQgIH4iPSoKnE/+yZN6P7/aly8nGhtXFhdFbHbGzp0N79+L2Wwxh8N8yCbQ5u8vt7FJ2bp1rLY2LTIS2AKQJSkoCExdknlLKI1xq8xr7FZXV0mg0fDXX4DJOm/vHoMBiZyiTKtUOtXaqvXymmhs/DU6SvEakLz81q3s/fubvn4FgIChlYTHy9y7V2FvL+HzVc7OecePZ0VHy62tRSxW+d271IPIio6ufflS7+tb/+YNSoS+jIzE9euplY6frrC1VTk763x80qOiVM7OeA5SPr/0+vX6t2/VLi4J69fPDw9Pd3RAFr6ytFR0/ryYy+1NSwNqUTo6Fpw+XXLlilQoFHM4CYGBeFALk5OEeJq/foVrx9L8PAo7bO7CUhCpUCizshJzOBk7d850d2OLQ+KGDTUvXnTqdMkhIWIOJzU8XMTh4NvN9vU1fvyYuXv3aFWV1MKiRSweqayse/1as25db2oqahRk5Yzdu0FliTkcaMdIrIu8q/fzkwmFqJl03t4qZ+eUrVsTAgKSgoLKbtwggFt86dLcwADkV7Syl4RmizMz/+7GUHj2bH9ubtOnTwuTk1KzTF1ua5u4YQNzPzf6X6j1pUJh0fnz0OUiKE00N/fn5jI7pvVv34IRUdjZZe7ZYwgNJaGQhMfTrFuHSNWTkkK0Z/O3b3AvN43kRkevrqwUXbiwvLCQuXs3McwtIlFvWprUwkIqFFITl0gdwF8UKiIWqz8399fYmNLBITUiYiAvj+h0lBZotzG3wky1tRWeOUPPE0Gs8uFDlYsLZdm+zMze9HSS5vTn5KRs3SpisXKPHDHGxBD+IA6Mqa+WCoXAxCAF0SNIDAoyGc26uaEMRSe4/u1bYhcQRU0cjJcXAEr106dDpaWNnz7lmI26ICoCvkGEp2oNImoYcCJqmYbxHj2CBJoGUKn9d/Z//s//8Am4Lj6eJqCHSkqQnHQ+Pk3med/50VEUqSOVlYRHFqen9X5+JsfUuLhOnQ7vJnPPHlKOAJxCFl967drS3BxT5MXsKNDFoMq17vXr8fp6mZUVMijanMjESnt7CZ8/29s729eH/WJUQhE2zIqORkuD7rOEz2+VSKAMwigCWJr6d+8SAwNzjxwxxsbSDcSZYJ5yGjtGpmTu/yKSdn5kRMzljjc0oNSApRxwCWmgKh89avryZbqzE8af9HzQjgLWoakDMYeDa4CgQ32yNPP2J9N9y8oCt4PT3/jxI4Jm3atX+BhqV9eyW7dQxs0PDydt3Nip1U61tWnc3VUuLhNNTdVPn678/g1T+4WJCUNYWPHlyxKBgCkXTwwMxLcQsdml16+rXVwQQPGE69++BSxDFb68uIiGrpjDwRNLCAjoTU9Hvhytqvpjv3e3wYB9UFoPj4p799RubmIud7a3F5W9mMMhriwhIEAqFLaIRKkREdBPJQUFyYTCiaYmMZdbfPFiyZUrxZcuidhskB8iNhv7j/W+vqlbtog5nIxdu/JPnEBcJlBf+eAB03MGhVTOoUP5x4+b1t3b2dW+fJm1d2/u0aMpW7YMFBTIrKySQ0LEXO5EY6OIxZIJhTiNUqFQJhS2SaX1b96YdiixWGo3t/mREUDMiaam7Li4qseP50dG4DEus7SEtDhz714Ri5W2fTvqiam2NphO47MVnjtHH7jm+XNMPKvd3IzR0fgKo5WV4w0NEj5fKhSWXr1qjI6m9SRdiYldiYkyK6vU8PAOtZrEwwWnThnCwnTe3lWPH9OuMxLdAOBSZSwVCvOOHUvbvr3hr79+ZGYyGz0TDQ1KR0cKpnB4MEkLzcaBTKiaf/x4/bt3iLnMpVV41Ho/v3/vFwIUGmNiMEeQGBTU8NdfY7W1SCRZ+/YtLy7mHjlCP6Xy/v2CU6cSAgONMTHIZHJrawmfT1OtecePSwQCaAlbRCKUj9QKpXLiR1aWFBYccjldB0SApI0bjbGxGTt2UEP3j/497jXgYNmNG0kbNuB05R49WnLlyh+/E2XG/PAwXFxKr10jjpqkDJS3Fqen07dvB7uL0a+cAwdwJYdLSxPXr2d6YGXv319w6pTe35/5yshjOCs6mqqdTr0+ITAw/8SJtdXVroQEEYtFRare1xc5visxETbda2trJZcvYzGamMcDRCOBpNbLC65tzGYz04oEf7POxwcz7kUM1bREIMBpXF1ZEXM4Om/vmZ4eMhk0zd35+/9z5oCVjo45hw516nToNIAeBF2J455z6BBIY5mFBWpEnMjU8PDEDRuqHj9G7fWzvz9j506tpyf1INsVCuZOnj8KWbrYqKSNMTGVDx8u//rVm56ODhaGoAxhYY2fPqFdJ+ZyG96/xxZCVHXZBw5ABTbV3o6SjsAdGm9zQ0P4DSVXrqicnccbGhT29lR0JgQEIL6XXL0qEQimOzs71Or+3FzmmsXpzk6dj0/ty5cof7P27Zvp6VG7uRnCwpJDQghUjtXWAqOMVFWh9YskUfPsWdOXL6iYse2nTaGof/cOVabY7B2DeqKSsRfF1AflcExetYWFqF+HiotxHAHGBwsLlY6OWdHRiAswF5Pw+fDBYc5r5R45Unbr1tL8fO3Ll+1yeUJAADRlOh+f0mvXCIoVXbhA4hG1m1tqeLjWywv2DijQJ5ubkZlUbm4j5eV1r18jfkn4fEQN1G1DJSXzw8Og1lul0tyjRzs0GkAZbDYtvXZN7+fX+OmTytkZNxmDoWtra/Xv32fs2jXd0SGztMRRlNvYgFo0hIaCTs87erQ7KUkiEMz09OQdPfqzv3+opGR5YcEYE4MaOjUioj8317S9wMZGwuMp7Ox03t5pkZHdycnzw8OpERFYF1hy+XL+yZODBQXtSmWrRIJthsgcvampIja76fNn1CKadeu0np65R46AtW5XKgHVDZs3F5w5g9it8/U1mfnFxMgsLSsfPCBmOzUiAvhAxGab/iWHIxUKjTExYg4Hvpu9qaml165pvbwydu5sEYtzjxyZ6enp0GiW5ucB/5M2bRJzOAuTk0oHBwyWDJeV4QWBM4DxMlyXKx8+lNvYwEaKlJL4MGLzBkYRi6X18GCO/8GGzBAW1pWQILexIaKCSYDRjc7au5dwsMk8efNm6Bu0Hh5diYnjDQ1yGxsycsFpwY8jokUqEIDglfD5WA2r9fSU29pqPT3zjh2rf/MmNTw8NTwcQLDowgWcwKILF1LCw2VmNA/lOciw+eFhva9vzsGDOYcOpYaHD5eWomaY6enRenoa4+L0fn64+zkHD6KZImKxCs+dwy6Q8YYGgtoyKyv8tTPd3aa2C8Zwa2pwv+YGBpBdoC/Da0WQKTxzZrqzk4aJaakMdlEQE/AHrci08l35/Zv8B40xMRoPj4mmph9GI+rFXLMVIIqfhIAAY0yMaXEnKlds2ra0JLVXX0ZG2c2bvamp8LP7kZVFO+Vo4pzZG0rZsgVTkTVm+6Dfs7MLExMY3lO7u3cnJZEur+LuXQmfT/78fy/LwcaRuLixujoEw6ILF0ya+ehocIc9BgN1u0kojiev9/Wd7uhAtVb/5k3ptWux/wARVm96OiRF6Ox2arWmDcyHD1PBSqOrf/yS8PlqV9dfY2OwAm/6/Nm0X91gSN+xQ+ngILexSYuMzNq3r/7NG427+/zwsMzKCgiU2JX6N29gQI1+/sL4OFMpgH5k2fXra2bnRQmPB1lg0+fPmnXrlAwJQOn16+P19S3fv890d0t4vJXfv8kVeayu7ufAgMbDg5QFCKb4x67ExMWZGZDDoG5IcUbN75WlJYpBxZcuEbWLQ59z8CAQAwkQACpRwo7X1ZHBJwZIoKvSuLsXnT9feu0a2mZ44KBJ//bxcHKCGK3i3j29n5/c2toYEzNUUiK3tV1dWUGl0pOaivsGl6tWiaT527eCs2fbZLI2uRwBTmZtXWN2mRdzOEtzc6XXruGy9aSkMBeOUluh6fNnhCelgwNUTkgwQ2VlYg4n79gxhZ0dirPZvr6fAwNNX77AaBN5i4iNNoUCEg/8ezGXOzc4CK41ccMGMZudHBxMXEXKli1YxSrh8foyMmBqmLFrl5jDQcCd7emZam9PCAiYHx1Nj4pqEYlavn/X+/mhC5i1b5+YzYZ5IRyvsPlYYWeHblzlw4c9qamGzZvHamslPF6nVjvb2ztaXZ194EDJ1atiDock9zJLS3hKiDmchYkJNG5Rsg8UFGA2Ue/ruzQ/nxEVlXvkCHrMCIiQYq2ZLcEVtrYZO3YMl5X1pqXVvXkDAAGIs7ywgNoRfP5QUZEhLKzg1KmB/Hy0z3VeXmmRkYmBgSI22xASIuZw8KPFHM7PHz86NBoEOK2HR1ZMDJQTaGQAWkktLFK3bk3csKHg9Gko5EFoFV++nBoRsbq6aggL68vISAgMTNu2DdxDsVlqTsNCadu3V96/r/P2RtZJ2bw5c/duqUCArSGIoTKhMDsuDragyDE4w0p7e6AZsttDPIWEJy0ycm5oqOD0aVRUywsLRefP92dnp0dFUa8RB7L8zh2yFQMMlVlZAfrILC1HKiurHj0iq3MRm5175MivsTHys0vauJE2FlQ+fKjz9p4fGdH7+Zl2PGzaRI1tZL6yGzdQRC7Nz7fJ5fiOqeHh5bdvy21sii5cyNi5k3zgERkkAsHi1FTp9etJQUG4j8a4OLmt7b9XHYbNm2WWltXPnqnd3OBoK2KxCs6cKbtxQ+3qKuZyFyYnIeTG4DL2FohYLApoCnv72pcvNe7ug4WFxG/35+RoPTxAOJNGPXHDhoTAwPp3735kZY1UVhZduIBcTmCIpqcWp6fL79yBZzCT96adjPCU7cvIwNo3OWMXbW9aWs7Bg2IOh9m1HcjLQ5w37enCeqX4+OonT5QODoRIZJaWzEWuOm/v+jdvyNZjoKBgfnR0YXKy7vXrslu3UiMimr99G6ura1co/gkVcPndu0y7BuoXMllWEYvVk5raJpfXPHtm2LyZzrGJwdi7lyhWZCNjbCwVhWIuV2lvr3JxAf/WY9YEtUoksN0BF5QeFUXkj2bdOmClVqkUaAjxNCEwMCs6ui4+HraXqLlRXTG9QYAk6t+9Q6/0b7xvRvcmge7Fi+DKaIUD7TbOjoub6e5enJnJO3as7ObNiaYmWAEwBwlkVlYgSEGkIDeU374t5nJhMkWK1sTAQOIAECvxmevi44lBmmxpAT+GNFx8+fLi1BTZwadt2wa2quTqVQmPZ3Lb8fNDCCPhm2bdOgg98o4fF7PZvWlpA/n5VY8eYVg+79gxtasrmInaV6+MsbGVDx4kBQUVnDmTvmNHp14v5vEGCwr+brQcPWqSmVy7tma2/GR+C5SYSUFBuCo9KSm1L1/ibOBBGWNi6t++lfD5bXJ589evs319cHhAbEoOCRmvr0cdX/PsmcrZOffoUdrE0q5SSXi8Tp1uqq1NwhiKm2xuNoSFzQ0NqV1dk4ODkQ4T169XubgUnDnTrlT2GAzgXUdrasQcznRnZ8Nff6Vs2dL05ctsby+OJVBCckhIxb17CF74wNhpj7dQef9+QkAAWDUIQ0quXFE6OeWfPFl04YKEz5fweImBgehm6by80LfOOXQI+01Lrl4FP1Tz/Hn2/v3o9kl4PKiiNOvW6f388o4d0/v5pW3fXhcf/3t2NiEwMMHfX+/nh96N0tGRYpDC1na8vh5lTeHZswjoYCb+hSnhchPXr0+PitJ6eHQnJ0t4vJ8DA3WvX0vNSguye9N6eEiFQrRsCk6fVjo4IOmChFDY2mJhIrms035SIKS848cVtrbtSiW8FBT29mIeD8djvKFhdWVF7+vb+PEj2lgLk5NQFSgdHDABkRoRoXZxkdvazvb2ll67hsuLu2CCrYGBtACm7NYtajTSbyi7fRtpcn5k5OePH6ifqBM51dam9fCQWlj05+ZSIOrPyUncsMFkMbZnDwUKvHpsd8jcvVvv61t45sxYXR3ogYJTp4ZLS/NPnsRyvX+hpsLDSVSlWbdOzOFkHzig8/GhOcM188oBNCBMOhJnZ/oAWDvf+OkTOqNYWwRTAXpThrCwPsYg7K/RUeJgf/b3y4RClIm4dyhS/4iH7QoFFeXUZVA5OeUdO6bz8hqtri65cqX21SsIRYvOn2cqtiYaGw1hYfBH+mOrEvmWtMnlzH4BLlSX2VgU31Tt5mZyWGKx2pVKpaMjyEucqJWlJRriYDIrbXL5v//7NfOemJ/9/f+EBEyL8BATiUYwtZrM5reAhHiaIjZbbm39R4sUJwCnAerHP4fEt28nVCW3sZEIBCi/WkQiJhZbXV7GD10zL9aouHcvY9cuese0Kgt4SsxmL83NAdOhbi65ciUxMHBhYgKFe+2rV3Ibm7GaGnQjZru7i86dAzWkcXfHZlytp2fNs2dUiKPJypz0nWhqSouMJD0arWyref58rLYWwuO/RdoXLuQdPYr8BMTKXHVONw2xLzUiYvbHDwAR9EHpF+IOTVkgwRtCQ/F8KLJQT2tucHCwqAi0Xq/ZSw/+l6YYl51NDc6EgABmpEBZn3vkCJxVxmpq5oaGFLa2ACXI8VgCjSbTmnnSvzctTWZpSWI6/KyaZ89+9vd3qNXFly6JWKwOtbrs5k29r2/lw4egFoEJSGcg5nBApi0vLoLjklpYdGq1qysr0LNg9L7w3DmVszNOQptcrrC3B2cwNzSkdHTE+xKx2akREUlBQblHjpBNYMXdu1UPH6pdXNpkMlAREj4/98gRrYcHflzjx49KBwcJn78wMdGdlCS1sEC5Vnju3O+ZGaWDA7Z3QHmXf+KE1MJCbm1dcvly4oYNuDI6b28sONJ6ekotLAby8gYLC2U2NvSQZZaWrVKpiMXCDH3J1auJ69fDPLxDraYHCL8Ljbs7/g1aGCIWK9lc+0oEArWrq9bLK+/48YLTpzvU6pStWxHWs/btUzg4NH3+3K5UAs7KLC3zT5yg6TL8nbN9fSg+0OJF9ZZ/4kTe0aPkGEPXreLuXZWLC3gXiLlwDkUsVtmNG7h3zd++SQWCtG3bcEFoQwCZuhPsLrt5s12plAgEGGKuYeguwcYnbtjQ8P59bXx88YULNDsAJZ1MKGyTyRR2dk1fv3ZoNFKhcGF8fKanRyIQtHz/vvL7N6mlcg4dSgkL69BooM1WOjpS4ShisdBBGygoSIuMlAoEwFvwvpZZWVENXXThAsmJM3btmmxulltbg+9JCgrCjWgRidoViqYvXxZnZphp0tSJMJNYta9era2u/jAajbGxEh6POHwms6j38wP6MUUYF5e+zEy5WX3Z9OVLakTEYGHhWF3dWG0tfHAp5kiFQmxWJUkNhF24HRThET3ojU93dpLmRmZlhTeed/QoKopExogUAN/C5CTS4WRLS+6hQwiSSgeH0uvXRSwWVvnSgIyYyzWEhlIVh8IAcYNEDPgKKKPVLi7G2NjCM2d6UlJWfv8mz2AMoZBEQGFvz5Sz/f//5b/8E3rAo1VVCf7+ZHpV9/p1h0ZjWvERFfWHsachLIxgJs6BmMdTu7llHzgwWFQkEQiGiotRa6JQw5UmSpn6CiNlZQTwyU0ep5Z8PAyhoVPt7SI2u/HjR5p2Lzx7drCoiKDcYFHRSEUFXqfS0ZFGOwAw5TY2JucXFxcJn4+oOl5fT5AZh5gWg5MY22QDcvIkzQUp7O0zzc0b08e2tl6cmYEsXCYUgkho+vx5dWWl7s0bSpBIXfXv3s329rZJpQCqP/v7mbNJfRkZKVu2iFisNpkMHwlc8e/ZWYW9/XhDQ/7Jk4ApEh6v+du3hnfvBgoKEgID8awMoaEAT3IbG9RP6Tt2gIHMPXy4TSYrOn+eZkKYr5I5zZK9f3/xxYvMfK92ccG1RE5q/Pix6tGjrOholbMzPX8Q72I2W+/vn71/P9O5DEcIjELJ1avNX7+uLi+PVldDnlP97NnC5CRKSRo8JSI69/BhiUCQd/ToZGurzMpqtKqqXaksvnhRwudrvbwgM04ICBitrpZZWdXGx6tcXDAFQdhf5+OTtW9fu1I529en8/XN2revJyUl/+TJ/JMnUYJ3qNW18fE9BgNMM0gMYbLIcHVNDAxMj4rSuLtXP3lSeO5celQUbQY0hISYVNB8fvbBg2pX1+LLl2VWVnpf3+SQEAmPhw0Een//mmfPNO7uYg4nZevWps+fJTxeb3p6p07XlZiocXP7NT4u5nCgGpPweKXXr5ffvi2ztEyNiMBTUtrbdycnw2hFbmMDkbPCzk7h4FB49mzm7t05Bw+KWCy5jU2LWIyHz5wSbBGJdN7eJVeupGze3KHRyG1soJFGliq/fRvqGLWbG2p9jYeHxt29VSpN2rRJbmNDXi7JwcEyoRCBu+j8eZxtEhKiaYIxZUSGuYEB4LM2pRJ/BMSmzsvLaL56SLd6P7/h8vKGv/4Ca20yzgsNnWhqWvn9W+/nl3f0aPb+/V16vcmB1coKt2ymq4vZpMThoUkhpYMDAdPu5OSuhASdtzdmYaHWnGhsnBsaopwNVISqenFmZrCwkNDbWG1t7atX/bm5kGvhDNBibxwDclYvvnSp/M4dpaOj2tnZGBsLqA2uDoFI5+MzUlmJzouIzU7bvl3C41FwSw4JaZVI0MZSOjlB26VycYGHQcauXXJb29TwcObordbDgzkinBoR0a7RkKh4zTz6P9HYiEMO1PsjOzv38OGFyUlwSA1//SW3sWGaUZM9GeGD6Y4OslGaam+HnII2OTLXxsusrJYXFn7//Cm3ts45dCjv6FEJj9fNmP6g5Q3EPJfdvElCMDGHA7JhdXl5bmiIGEqcfEhlFfb25bdv7/zv//2fM4ZkUiQFBiIf5B45krFrF+kFyu/cIQ0UiV07tVqyYKUxNYW9/UBeHlPNAeP+VokkLTKS5nfTo6Jo/8ni9PTv2Vnwk8wxoT9EyETqApka4+JQhSPQg+Spe/06PSoKWLJDrS65cmUgP3+4tJSoG/DGyDpUoydu2EBlN8hhrZeX1sPDVFSZkSaig0ki9OaNiMViwjGFvT2WGzLZbJoixWnWuLtjj95odfXq8nJ/Xh6hYGNMzFBxcbtSCfZpfngYPWn6YHPDwzRNRBZXA3l5mXv2KB0cEK+ZVTumgamFhmogc+/e8YYGMZdbcffuSEUFsnXxpUtAD2T4ANpDamEB8JsQGDhcVgYb4fQdO/DTkzZtyj95cm5wsCclhYhTlZNT/bt3o1VVuUeP6ry9Fba2iRs2EHdHEzViLneqvR2YIDUiInH9+vQdO0B40BgiU/uaf+IEkhDuOb6m3MYG23aRUGWWlilbtxrCwhICA/NPnaJMnBQUJGKzlQ4OWg+PnAMHTI1JR0c8FqlQmBQUBINocP5JQUF6X9/k4GARepx6vgAAIABJREFUm51z+PBYba3Oy0vj4fF7ZoYqOSjRsA9YxGKp3d0T/P1Tw8MNoaHJwcEV9+5BnE8yKDGPZ9Je2dhgVQPsmVDYFV+6lLV3r0QgKLt5c7qzU8LnF1++XHH3rtzaWufrq7Cz03p66ry907dvxx+BgwTE9moXF+QhuY3Nz/7+rL172xQKjbt7u0KRGhEBs0B6s2o3t5QtW4aKimpfvhSz2WU3bshtbH7Pzkp4PFxMmVBYcOoUXnTi+vV42iDMV1dW8k+enB8dNcbEVD158rO/H7uQgVMhnUP/Ai0e9Iw1bm4Lk5N5x46J2Wyc5+LLlxW2tp06XeXDh2p3d6RJMZdLcG3NvFqx7ObNwrNnCeqhnJIKhYbQUJPCyMGh7OZNCuKolmpfvZIKBL2pqdBbgQGqfPCgVSplzjitLi+jkEjauLHh/fufAwPJwcGoCIfLy+XW1oVnzpRcvjxWW4vOPXMUImPnzpz9++vfvpUKhYOFhUoHh6m2tgwGOk8OCVldXpaazfW6EhKAP5iLXNN37AArO9XaqnZzq3v9GgQYiVQydu1K3759tKYGHTepQJAcHIz/ij4rgQBTQcxmo3ituHev6Pz5qbY2CY9HTS4cb8TwlM2bTUvvzfvKSDfO/Ef04IkUKb12baqzk2IgYReEcaA6k2mzefkEk4SjoATRmYTHAxSbaGpKDg7G76Fmee6RI8mbNrXJZKXXr6OgAijBK8s9cqTywYPZvr5/iAoaRHynVisVCMiXB/VE0cWLTItKsF7AZTRnRoAaHaOULVtQRM4PD2fs3Jm8aVPxxYtwjGr8+BGIG8Tv6vIyyLSMXbvq4uMz9+5Ni4ykiTRmxwJRIOfgQfRaal+9+j0zQ4mtXaHoSkwU83jTHR0Vd+/i89CkpsLWNi0yEp/WtEF6YICYW/AzEj4fkkj4+K+Z7cDwm5OCghICAnACEHFMe3k3biy+dEnl5NSfm4ufNWV2UWZSTDCRgEAG2i78JUUXLhg2b07atAmb/iDcb5XJWkQijM0lBASkbN48NzRE2UjM5TZ/+ya3tk6PiqLMTSCg4u7d4kuXAF9w84FYaRcN4uPizIwpKDNAUsHp03Vv3mAyEt+lU6sFUVl49iwwASAqLDu69HrmH8fXSdq4EVVC2rZt3UlJ5bdv18XHzw8Pa9aty4qOlgoECxMTGINZY4z/0jQnwlPmvn0g9mtfvYLR7hrDzlfMZuefOFH99OnqysrS3FzJ5cv1b9+CQTGEhYlYrOnOztTw8LzjxxMCA5u/fh2rq4OmD18N9iC020Pn4yO3tpYKhcmhoYbg4NJr16a7utIiIxMCAvqzs0EG0G8WsdlaL69OMwzNPXRIamEx3dmpcnJKi4goOHNGYWsr5nByDh/OOXhwaX4+Y9eu2d5eMZersLeX8HjjdXUQ30mFwuJLl/CZxxsa8H9ELBZOjojFQu2Cx4sQqff3x8omqjgLz53rTkqSCoXpO3cWnT9vCAmB52X927dLc3M/jMbS69dRcrVKJOP19QUnT5Zcvlx+65aYy5VbWyf4+8NUa3lxUbNuXWpERIpZwi1ms6ufPTN5wri7k/XK0twcqHgxm92l14s5nNneXox14XOS5cLS3Jzex4f0HzRZtzg1haOIVpTMyurX+HjF/fvjDQ19GRkSgYBZRQEkFZlVuwWnT9P6zsXpac26dRX37jV9+VJ86RJ6sTofHyqVmNbuIDBR+5Zcvqx0cGgRi2lGA+IMpaNjQkCAwtYWtwZpDGARNxFOFFSnrq6u/iEFxx8EDtZ4eMx0d1OlQfQSU9bUnZyMkgDvV2Zpmbh+PeEDAFx0xJbJB8nfn1pLKienNplM7++fc+gQNmVR6kIkGa+vz9yzR+/nl7lnz++fP1UuLiDPh0tLZZaWWfv2Tba2oroVsdmtUulsXx+Jp3pTU7Pj4pq/f6eZiImmJkQbUNDJwcF/X95/W7WesWsX/CTEHI7Wy4uKZjCszOeG0qL40iUiyaufPMFvU7u6Ls3P09ljjlTR2VhbW4v/X//rH1IBVz16BP4Bcgn8L6mgi86fhzR0fmQErr9UFMIyGxCsXaHAMAkyscys88ScKDlow5tJyVgr3Z+bi/gI2RQuAGJuT0pKypYtdPf+xpjmddDEKf3drzX7RJKEBFQP0eCIAsPl5Z06XRaj7ar39ychGFI108ZdzOH0pqVJeLxc2L4MDTGH3pgdUNpiTYxou0KBR/o358yYPRiprAQWrn31qv7NG1BYKmdnlZMTbMiY03vINEQ6qZycEN1Krl7N2LmTFjwgDmKtYdGFC9RTkXC5kFYlBAaCYM89cgSXlgi6xMBAKCwwYZUcHNyhVoOlR9AkoUDB6dNjtbXMyJK5e3fSxo3ld+7gM6icnDDVmnv48Fhd3c/+fpml5cLkJMB74oYNWk9PaNplVlbld+6kRkR0aDSNnz5hg2n9u3dSC4umz59B19e/eSOztOxOStIxkFnGzp0yoZBc7tDtUzo4iLlcradnzfPng0VFWfv2KR0cdF5eaje3nEOH9L6+9Py7k5M7tdoWsTg1PLxdoUjfuVNmaTmQl4eRHpWTU+aePSgF0nfsIJMNraenxsND5eSEzaxp27YNl5WNVFTIrKyKL11amJxEN0Ht5gauKOfQIZWzMyTlVY8eSfh8sC/Z+/evLC1lRUcXX7yodnWFw+JAXp6IxRKxWIawsISAAJmVFRBt3vHjoHzwNBICAhR2drikCjs7hb09eJ307dv1fn7omxBnDjChdHDIP3ECJYUxLo5Iv+LLl9WurtVPnlAoJ/4AUZjuu97Pb6K5GRAtMTDQVMRbW5ffvp0VHZ3g74//pPXwkFla9ufkYPuyztu78MwZhZ3d3NAQ/VVaLy/sm8JRGamoKDh9GggJ+5hTw8MHi4p609Nz9u/H76EUa1rKyePh7KHkwp2VW1v/HBhAxBCxWIgMfyxww4IQsPfGmBiCkokbNkCgLrO2pqoXKaTk6lWdeUkrc9MAmvTLCwsgeE1OFB4eJHRI3LCBlstRe4Warylbt5psqAMD0QVAeTo3NATJMYgluY0NfRHSHrcrlf/PqU7gbOBy0rWQKopGyYmybvryJe/o0br4eCyWpdaYytER5Mri9LREIEjcsIGqi6qHD5l0QvGlS0gB+LkqJyetpydGB0GzTTQ2MiVsKhcXlOZya+uVpSWYtuJGtMlkpANdXliYamsjZJDPoPc69fqG9+//CRVwxs6dCYGB6DiqXVz0vr70znCfqZcAwfNYbW3N8+d9GRmF5879np3FfRNzON1JSShzpzs7kRJULi6DhYVgs6uePKGLJ+HzJ5qaaHQdB2t1ZWWiqQkr1ZjKN2gCFfb2CxMT5CqQHRdHr7/q8eM/blfNvzpq/TAa+7Ky+nNy8k+epFm30mvXpEIh+hwkUQaagzoa58kYGwtsW3H/PvXCdd7eaKugJs7ev79dpZJZW2cfOICURnMsNHM5PzyMRiBNYlTcuzdSUYGRRxGLRXvWINBFixSIWyoUFpw6pffzG62uNq0Vun4dWRlHnCamlI6OeCxyGxskJBpFVTk796amFl+8iGdV/eRJzsGDadu2AT+JOZyB/HyNhwdW5jV/+2aiOs3wQmZp2SqTQblW9/p1/vHjqeHhUL1CgZy4YQNS2urqaqdej5Id6x9yDh3ClWYeJMS1sbq6zN27pULhSGVl0fnzCYGBfZmZEoGg5OpVMY+HH4f6JvvAgV9jYybJMaorDmdtba0/O5twA96XMSYG3v2G0FCydF9bWxssKIBYTMLn92ZkJK5fX3TuHP4qqVAo4fF+jY39GhsbrakpungxPSoKe4KLL15U2Nmlbt0qFQpRUvRlZmq9vGBWJeZw8NMLz53LOXBAzOEgCmOxIMax1G5u2XFxyOjwHC29do3E28Pl5WIOJ+fQIZWTU9a+fRhXNa3R5HByDhzQenmBuW388EEqFP7s71+an885eLDwzBnmt4MJzJp5eBf0ILWEQecszc3RyZRbW3cnJYlYLDBDxKaIOZzJ1laVk1PF3bsozZWOjqYJEy4XQR9nwzT75Om5trZWfutWm1SqcnZmWpvNj44awsJSIyIkPF7F3btqV1cxh6N2dcW6hTa5vPDs2ax9+7oSE1Ff4jPILC2Tg4Oxzh21/kx3t87bG99IzGarnJ1Rv2o9PCiG1Lx4ge/I5LHxCbEakibIjXFxw2Vl+E9diYkdGg353iCZVT161KnTqZycgDirHj3KO3asTS4Hxz43NDTZ0pIVHQ1dW7tKVfX4Man0cRORWgAEJXx+xb17AwUFNS9e4HiMVlXBh3XNbN4HdAXanxTOJVeu0GYR/Kz54eHa+Pj8kyeJ0MKXpS5s05cvNDqMpCVisyHMXJyeNm1vNLNNQyUlYg4HYR8HCYAShgdiDgddbbyU7qQkubU1uJ9Ovb5FLAY3lrFrV+X9+7p/1e3iicEaHVX7758/Ic8eKi5memjTr8XpaeC8Py17Hz5E06f569fxujowZ0tzc/SW/yEUdOXDhyOVlQigNc+fAyKlRUYiXY1UVCT8X+7e4y2q/esSn/SkJ++o++mn5/2bVBVFjhIlZ0EEQQFRQEXFnHPOAbOY0cqRIlPknHPOkqPkHOo3WMX2XHz/ge+twX28ClWnztmfHdZee203t9m+vuZv39qEwnhn56bPn4svX4ZfqNgkDTKth/pkSMPr376VWVlhGxd/M1gWnDlT9fAhEOnKBw/UoaFbtL/xDkRKLDx3TmJuDlwo3tGxXSJh1oVpQUE0NQiGSOPnzxIzs674eIWdXcOHD2W3bv1ualpfWQFoQ7iilqb49u0fUsnGhsTUFGL62t7SjRsaxlQ4kRQyw8PFjB5wp1xOWSoFVCQx88PDuF3Sbdtm+/oKTp9enp4uOn8eGQDidMvPny1xcRgYICZU1ZMnta9eld26hWuA+XapVJgMbomLw00gEhnzhTg9NzCAWAsXhq5wf06OzNJyuLQ0wc0N519ibo5x/sz9+3vV6oWxseqnT8Wmppn79zN3gqIHhtCrDg6WbtsGPINITF1KJe6txMxMamnZm54+Vl29sb4ObENmba2wt08PCYF3mGhsTNm1q+XHj9xjxxYnJuR2di1xcUNFRcgSmr5+Tdm1i6lD25+d3aVS8dlsvo6OYvt2ksfCckaUHfDOQ4WF5XfvSi0s+BxO3vHjWHRPM75AtJSOjn2ZmSIjo8XxceQifA4n3tm57PZtzIymBwevr64qHRx4LFZmeLjSwSErIoLHYqUFBeVFR+cdPy6ztpZu2yY0MCi5dq321auMffvIZjokEqRHS79/S8zMZNbW2OBLBR8CQMW9e3IbG6xmU2zfju3IYlPTqfZ2uY3NVHs7Nqdm7t+Pu0rSSJUPHkDmc6Ss7I8oNJuduX9/vIsLRq5h3jhWYlPTvBMnco8eBSFrY32dr6ODI19w+jTa0pn796O7gai8sbYGy9GSsIyM4CVJMT5l1y6JmRlfR+dXairkoylakPGj9yndtg2wlsrFJcXPL8HdHZ4daxlllpZQQWqJi4MwC8r9JC+vv9ehxru4UGdququrJyWl9tWr5u/ffzc3N3761CYQtItE2LFGMbVLqVxbWgKDBIaENV9or2QeOAD1/9afP/Fo6t+/L7t1K8HDA3lSydWr4Gym7t7dIZMlenmRet3g5hoMeM7amJiMffto5kej0awtLlY9eZLi74+GF2lcQJIMtS94lPXv3olNTJK8vfkcDhK1vyHu+eFhoLLTXV2oAYaLizHxCE9bePYsCbrhm26sreHIt8TFQSYBiiUAMnFY2iUSbDbDLPt4XV1PUlJWZCQ2phC/DPcTIbzq8eOUXbuqHj8GeQ1NTAyLMmcUi86fB7WWyX+mWhk/vDI3V3LlinZjJkPrassEKY/NBqLZn5U1XluLK/83BGA8HjhE1ENZDJoieQqtwRUUIPFZW1qqe/MGhQ6fw6GkjJIgwoH/ARRv2h/mChTbtzd//47OHzy7ytV1srWVKjnUTMyNrYrt2zfW1vC8uxMSIA9E22CE+vpTHR3LU1NUE6MTw8R7idGe4O6+trgoMjIar6+n2vpPGsEgBKpDQjAkU/nw4e+mJhyYtKCgwcJCFEASMzMAzkzmc1pQEFghRNHaWFvLiYqCS+rPzi65cgU6Tcj7aMNS87dvkLJiji1l7t+f4u+fffAgZp9W5+a6ExOlFhZ50dHU8Wr8+FFqaYmHBa4j0LPiS5dSdu0icvj88DDCoYDLrX35EgG4Jymp7s0bPAX8F5E1+9Chpi9fABVqx/5EopXZ2dwjR/DQEzw8FLa2OVFRzV+/Vj58WHrjRoqfH/KD9L17452ckry9V+fn+zIzKx8+lDD6Dl3x8Une3lILi5qYGODnAi6Xuj5VT57AWsSmpgujo4ne3k1fvmB3PdVqKldX3EyBjs50V9fy1BTkF5CilV671p+dnbJrlzo4WGZtLdTXn2xtbXj/HoccAhdwFhJzc6GhIc2YKe3tMe3T+OnTr5SUogsX5oeHoRUsMTffWF9P9vHh6+g0xMYKuFysXhfq62ceOCDgcuOdnVP8/dP37JGYmXUqFNiSxOdwWn78mB8e5rHZVLSJDA2xrb0rPr7h3TuApZgeSfH3T/Hzk9vYJO3YoWUYbWzEOztLzMz6s7OZrnmmpwfTU20CgcTMrPrp07rXr0VGRhn79knMzcvv3Mk9dizFzy/V3x8Cjbh78N0CLjf/1KlulWqmu3uyrU1mZUVz3rUvX061t+efPDlWXZ0eHFx0/jxpm/NYLOAE5HbRj0jw8KBujsjICB8EqqpQTw+OAvF7sq2Nz+WS6Lq2RRUbS9DidHc3DmnmgQPxzs7pe/fKrKx+paQ0vH+feeAAJGtyjx2bHx5Wh4SUXruW4ucHZB6pjNzauvTGDeZ0JbGugG/9GW6+dUvD2MBWcf++0MCgXSwmHb2VuTmxiUne8eOIGdRqKbp4senTJ1gRPAz+iYCE2levWuLiaAkSatnknTvVISECPb2M0FCcppGyMvyBaujMAwfSgoIS3N2RTda9fg0Pg/UJKHDXlpZERkYtjE1iqBz4HA6fzV5fWcmLjsbZRFSufPgQM0JaF2pnlxYYCBy78dOn1YUFyplwwQIulxw13qHk6lUEyNqXL+W2tvDe9BUyDxxAXkhYAui0uPLMAwfAQiBELdnHp0Mm005pvn2Lr9bw4UObUIizOdXeDoPpTU/n6+igWT43ODhaWSngcmuePaMSf8f/+l//8QGY2cAjEkSnXF778iU8e4KbG7MVypw9ne3rYzLc6t6+BXKF5Wt4fmM1NSDmVD58WP3sWca+feizNsTGboFQFsfHt4wOM19dSmVGaCi6VpkHDhCXtT8ri9jUVHwDNMa1rS8v5x47lhoQgN0jUx0dNc+fT3d2Zuzbh8dceuMGrjD36FHkj0J9fVSchefOoTk9VFwM7B1pY4K7u4DLpXytNiZGYm5OFMeKe/cq799v/PQJbZjcY8copxmtqqI5ZopGCHgw606lUktXuXWr8sGDmufPmZPZCe7u2hWkJSX04CofPsRYgkBXN8nHR25jw9znShwQahjP9PSg5kZymuDu3qVU9qrVFffvZx88WHH/PsB28CQxNzVcWqpydV1fWWn++hVNRzjxhthYAJXAV8XGxmJj45oXL8DaUAcHC3R1k3195dbWkEzSaDRJvr4CLhfUktqXLxs/flQHB3cplSPl5dkHDyZ6e8/++jU/PNyTnIw6DJtqii9f5nM42A1QfucOj80u30zL+jIysiIiMvfvT/L2zti/H8D1eG0tgFAei1Vy5QrCGNwKLZ/W+iwdHdr2U3brlha31NXlsVhFFy4I9PTUwcHwwqXXr4OPmhEaClhisq1NW2psbORERaF90BIXJ9DVzQwPFxsbDxUXl964ITQwUAcHK+zsJhobBVwu9hgq7OyGCguZuwg75XLtEidd3U6FAqU23FCStzd2DKCsmWprgwNCWUxlN1biEJMFT7lTocAKwgQ3t06FInnnTszsyiwtF8fH54eGmr9+XV1YGCkvh3olIqhAVxeLAbCLXmRoyNfREerpLYyN/UpNJY1rZoqJfoFQXx9YEZ3r4ZISoLLYELy+sjLV2Vly5QpI7zw2m2agCXTF98KpRGIU7+ys2L5dqK9f9/p187dva0tLOD6Z+/dreX/BwdNdXSSQjpW9i+PjiGTld+6A6I7NUa08Hvplgs0VSSRWXPfqFb642NR0tLIybffuxfHxRC+vtMBAdUhIXnQ0auvlqakUf3+UbsNlZSgVUnbt6klO5rHZxIvsSU4Wm5igjcIkJDPnAJn/hPEN6uwiyPE2CeRzAwN8Dic1IIBaaZOtrdg6TO853dlJgVCzuXquXSTK2LcPPo20JOHVUQojNyIitxbw19H5lZqK4Nr8/TtzSGFhbCzn8GEkHMwlSImensy2NN42+9ChkYoK9AhU7u4z3d2TLS3MPjq9IAYMr5Xk4wMhBCTf6r17QdwhMo3S3t7vf//vfwMEXXLt2nBJCQwdMawvK4tKDZp4me3tRQbal5kJeI1MpOL+/X7GHHq7WEztT/xhsrWV+G9M9mxLXFzx5cta/OT8eZGxMfA0gIQwCCY0nezri4CEf0L3QqCnF+/sXHD2LDor052d8c7OELIfyM0VGRvXvXmTffgwc04gwd0dNSLeHExv5lqewfz8utevh4qKwL1CAjjd1SUyNGRqtGq3C28mjNQVo1w4KyJieXpabmtb/eSJgMuFty27eZOG7nE4mf08YpjTucJRgfOtf/t2fniYtqbgRpH7EBka0ngATa0AfMNH81is/FOnMOtJXpvZxYELWxgZERsb89ns9L17c48c6UlOBngLzA2lUs7hwyCzqIOD24RC3EmphUWbQLA8PQ0fmn3wYEZYGL4dCqaxqqr+nByJmRmiV/GlS10JCZCeL79zZ3VhoS8zMysiIsHDQ6ivz1R6EurrwzbgXxI9PdP37u3LygJdK//EiURPz8qHD5M2N7fg/cdqawFm5B47JjI0bP7+PXnnzrTAwFYer/7DB6GeHkguYzU1WRERuEKxsfHG2lrKrl1/RH11dOKdnYsvX0bmnnf8OMS34fd5LBYahB0yGZ/DAWJccOYMpID5HM7v5mahvn6bQJDq7y8xMyOeDp/DGa2sVG7fjtOEo5caEJC6e3fT588qV1fYEqaSCs6cKTp/Xrs1WU8Po8MDubkDublJ3t4Jbm6LY2MtcXG4krXFRYpqKldXYqLiwM709ORERSns7VN37y69cUNsYrK2tMRjsbD5GBUPn8NBlNWiXDo6hWfOpAcH89jsvBMnaABGC1c8foxmSsquXSuzsy0/fvQkJ+Nr1r15w2OxhktL86KjSRyY+JgSc3PQrRHIc6Kiap4/RzmYERYGXArBKS0oqOLePXVICLowrQIBkqHMAweKL10SGRggQSF6M5XXnUpl8/fvNLLREBsLMGCioaEhNlbAYCQJuFwMtQt0dFDXEu0Za0lTAwKQW1Q+fMiMH5OtrQsjI3TutlBSABIwSdESc/OyW7eYc48wb/pFwPUV9+4JdHWHiou1wxSmpmSQCIrgdsESco8dm+3tbfz0Cfg80GxKvlHBN8TGArqg6T44rox9+6ba2zsVCmB7NS9eSC0syO0zq5q/X6hPJhob6Z0xhTFWXU0yO9hm1p+dnRoQkBYYKDEzSw0I4HM4xAxdnpkRGxsXnjs3PzzMlL0ru3mz8Pz5+aEhCkaI4lmRkakBAZ1K5c9/AvX/wSzo0hs3Ficmap4/pxFpzeYWSRSFoOThRuBnhoqKqPmEpInP5TZ/+wZHH+/sXHjuHPFHYCvqkBAKcsRx1zAWTKI1sqXjqNFoliYmcBiQ+gHHQ0oOmb0tIzHj/4RwNRrNyuwsfTRfRyf32LEkHx+yLe2u1oMH6c21+aNanbJrF5/DERkatgkEpByLSn2woKBNIEAtghIzaceOnKgolatry48fiV5esE7cNIWtLdOU8VtMAanGjx87JBI43JoXLzBJ3BAbm+TtnbFvHwA0eGp6RnJbW8X27fittMBAAlFJ20gbiUND4XkJocWnCPX0mLlzQ2wstXvh+gcLC5N8fJAyU6uCtHMVDg6gdKIW6VQoepKS5Jsssz/eZ3Nbu8zauicpCYFZHRrKY7FKr13LCg9HYs5jsXqSktKDgiAW0SmXSy0sKh8+RBUo0NUF3kC7WfKOH1+anIQwZ83z58RuExkaJu/cialoLD+vfvYsLSioXSTqkEgAF6tDQsBwbomLW56aIvKUQFd3qKgoaccO2LxAT29taQlZOblXHpvdn5VV/ezZ3OCgzNKy+du34bIyHpvdn50ttbLCSleZlZXS0RGK1vHOzjIrK3VwcGpg4GRbG5YoE/iR7OOj2L5d5eKCCJTg4ZEeFIT7P1Zd3fjxY+G5c/FOTrDMkmvX8DWHCgtl1tbVT5+uLS7mHz9efOFC+p497WJx/du3TV++dCoUABUFurrw3Rtra/MjI6kBATw2O8HdvfDs2URv7+SdOwfz8rD/ANwFcIkl5uZozapDQvqysvJPnWrl8QYLCqiyWRgbwzA9Sca2fP9OiGj927c4fel792ZHRuafOEHq6ICskDLCDBZGR5N9fZkgHDNHR6aVf/IkOjvtYnHV48dYA5zk7U2eeqioiM9mIzVB1Fds3x7v5ITkPtHTM2P/fg1jSRFxR3CK54eHqS1F8D7g07zo6Ja4uL/xvzaBYIvOwURjY8cmdxX3UGZjU3b79mhVVdWTJ6OVlSJDQ5xKcMoAgwn19flsdsnVqxn79gEJZ0rQU/uJ4hwgdBLmZIoQEIhC7Sf4Fqo68C3wPkimyR/S6EdtTEyyry/10Xhs9n+zr2lz6YXE3LwnJQXjYaXXr+M9mTI+venpdW/eDBUX9yQltfL5aFcT3iOztgYAMLsp//CnsdLbq7S3B6BYfPHiaFVV/okTMmudULmuAAAgAElEQVTrpq9fkY2R2/w39IDh09HjIS+mcnGhoEivsZoalasrEdXww4T5aLknMlnlo0cLIyOr8/NJ3t54k6YvXxR2drSQWW5rW3H/fiuPpz1m7u4tP36sLiwkeXv3Z2enBQYiYKhcXVG7CPX1qQjG5HtPcjIugxk/NJuqTEyBGzROsg8dind0REZPvInM8HDSyqHjN93VRdXk2vJyakAAkozSGzeav38vvnx5vL4eGCySRyIXIONmhlhkuAjnCZuwM34xdfduVCo030Z97qHCQr6OjszSsuzWrZGKivmhoazISPwryCld8fEFp08jP6W+bPHly4i+da9f48foE4ljJbe2Hquunu7uFnC5QO3UoaHMpb8TDQ2JXl4yK6vfLS0b6+vqkJBOhQKz0fPDw9NdXcTvkFtbVz95MtXWJuBylfb2jZ8/Z0VG1r97J7O0FBkYQBQ3wdOzS6nUrsXV1xebmIxWVZXduiXYDHWgeAj09EhSf7ikZGN9ve7VK9w6xfbt0m3bBLq6qQEBMLb0vXuRGZReu4aLkVlZpe3eXfP8ucrFpT87u+D06bWlJYyySLdtk1laCnR10RMpvXEDi32kFhYqNzc+lysyMoKBZUdGIgAnensn+fgIdHXHqqsLzpxJ2rEDpTmwh3axmMdidalUxZcvkxAun8tFWjNcXj7b31/16FGCm1vz9+8CXd3Sa9caP35UOjioQ0JqYmL4HE7JtWs5R460CQQFp0+3/vyZvHOn2NR0sLAwc//+6qdPaVCk7MaNJG9v9IMw+iIxMxMZGYHwGO/klOLnh6+vdHQUGRrODQwI9fVRLxZdvFh86RKfzca5llpYEAECmDCIYKvz8yXXrvFYLIIrFdu3q0NDJxoapObm4/X1pHKFrDfV319sbNwhlZIWIOabAfiTVEDV48c8NpscOpm32MSk7u1bqbk57YVN3URlIAGGXITP4eQePVrz4oXC3h6OvuzmTXVoaEZYmMrFJWPfvkQvLyyHgBw/vhGI5eSXMOFTeuMGpllWZmeXp6aKLl4k7k/N8+e0vISeI4yKEiPgQ02fP9OOvOmurrKbN0GzAk8FoChmXtMCA5UODuurq7UxMch+Sm/cADY7Ula2trjYEBtb9/p148ePqwsLW6aStrT2xMbGlIhDgWB5ZiYzPLzx48d2sVhuZ5fk4wMIQWphgdOEIRT67sm+vhMNDZRMoyamjCH70KEulUrp4ABCa7KPD4FhQBCXZ2b6s7Jyjx1L9PQsvnw5Iyys6OJFlasrxXuVq+vq3Bw83vrKilBfH6cSIbPx82fKcjBVj+7yFl/NBDUBG/DYbJWLC6pwQiyo852+Zw9ZMiHw/551hFtkgUFNpCUVSH6b4+K0bTxvb/RipZaW+EO8o6PMyopiG/ouf786lUrqGXepVNNdXXhnohGVXr8us7ZGPg6cEwOvzEHsmZ4e0O2yIiKQ4BNSRDht68+frXz+ytwcZPk21tYUdnbMAbj54eGR8nIifNa/f1//7h24xNOMgd2/14PLLC1xYeCjAc2GaWKdnEajSdu9OycqCvztX2lp4Dusr6zgF9FDEujoSDfH7BLc3cl9UHIHpF1pb490pE0sprvU8OED+os4VKn+/kk+PtkHD0JJBw1gZJqYfy26cIHUgtoEAiIP0+Gc6ekpOHOm6tEjkLdJGJYJjNe/e9cuEhWcPo1aDQ31pd+/U/z8UEBkHzpEkyoajaaNz8chlJqbL09NKezsWn7+RN2PaJro6Zm+Zw+cERFrAekrHR3XlpdhbGmBgXWvXyd5e2dFRKyvrpZeuzZWVaVdNOTpmbJrl8rNDZ9Luzdk1tYLo6M40hqG3B2JEhPWl7p7N7jfSkdHoiBNNDSkBQWhDpjp7hbq66fv2ZN/8qQ6JIQyAKmFRdKOHVmRkVkREVnh4YgclQ8eDJeVrczNYXMU9kjyWCxiGKUGBCDrH8jNrXv1SmJuDmPA1K9QT4/HYlU9fpzg7p7i78/ncldmZ8fr6vhs9mBhodzWtuTqVbiz7EOHhktLE728MNINKyq/fTs9KGimpyf/5MmSK1eS/fzGqqv5OjpAg+vfveuKj697/VpmaYlBO6YEm8TMTMDlQnARGedwaWnxpUtMKhNuCMw+LTCQz+FIzM1709IQSvOio3FUq548IX4GiGPUDIaLB9dBo9HkMdLf5ZkZlYtL0aVLMC3igiT7+g7k5lY9fgyfANtDLVUTE4NbR1Cn9ld27CABAyoc86Kj1aGhv5ua5DY2Al1dqYXFRGMjbR1Ynp6GX1qdn5fb2HTK5el79ky2tQG7Svb1JZVcJltToKfHY7Pr377FODtKzPyTJ5N9fNYWFwfz84cKCnC+UGtSmgIjxJ51UvfTglKbPgpnCl9kqKhIaGAAUAcJ62Bh4RbMT9tLzsmBNOFMdzeOEhMPRz8YKTg6L3wOJ9nHZ7Ktjdj1iMq0EpRiHlOZjljoWzIJqYVFWmBg6u7dMCGs9RyrqWFSL5HqCfX00CdK8vYG12TLi9k0AfyDVClj3742kYhUEP6///k//+MD8FR7Oxw3gQMSMzPyvMx+J6080mg0lffvC/X1p7u7B3JzFQy5HBSpMmtrPpvNZA+JTU2XJidbfvwgtKf66VPa9vPfwin0woRc7V9aHGmBgeP19X92gL95I7exiXd27lapENfnh4cbPnwgS6WPA/6jcnHByhrkdJWbW3hpzj15504yRImZGSlUw+tRxsfX0VE6OvJYLKWjI1xbh0wGGovc2hoBVWJuvjAyUnj+POxbqKcH+r7KxQVRHx9KxTePxWL21FHSMZ8RLgbuWOnggNFtvo4OvkXzt29lN292SKV8DqdDJmsXiYjoOD88vDAy0imXAydELMyKiBivr889cgTvX/viRUtc3NzAAJJWzGdPtbfT/CJeuceOtQkE+Jv6t2+BOlA7HN04ymDwB6j2ozKAQy84fRofilPN1ELCr4CTjL4m0pTpzk4kGeBaK7Zvxwq8vowMga5u7pEjKCCA71EuKDYxYV48zAZiFxMNDergYEzlgouHi5/u6pJZWwv19NICA1WurioXl+rnz8XGxunBwQnu7jwWC2DDcGkpAkObQJDi7y+ztoYmBjhHpdevxzs7l968qQ4NLTx7NmnHjqQdO9KDg9EzW5mdBRtRYW+PSKZycdHmDZaWWZGRid7eiV5eCjs7rbTZ/fsiQ8Mkb2/koCjc0cKXmJomuLn9bmri6+hMdXZCxzvZ11eorx/v7Jy6e3eHRIJcpOX79+nOzsz9++mE1r58WX7nztriYub+/Qif5bdvw/s3fvy4trwsNjFJ9PJqFwr5bDafwxkuLZVZWS2OjyPLFBkZUSFbeuMG7VGmMFN04QIxxSYaGmDtqf7+Aj09JqhY9fix0t6eRo8wsjjZ2tohkfC53PVNTShEdCIYzg0MZEVEKO3tsRJg6ffv8fp6OqSZBw40fv5ccPp04dmzv5uagBy0xMX1Z2X1pqcLdHWp242SkcdiZR86VHTx4sLICLJMhZ2d0MCAoNdulWquv1+or1988SKPxaJmcNOXLzTLC9Ll2uJivJMTIBxmCVH/9u1QcbFQXz8zPBw+pCYmJv/UKcLGcw4fRiTmczh50dGJnp4AeJEZ0PcSGRlVP33aEBtbExMDaGFxfFxua6tycUG/Jv/kSQGXW3D2LKjjRFqc6ugQGxuj4zCQm5uya9fy1FSyn5+Ay0WrqycxkRm5Mw8caN/EL9eWl3MOH0YNik+RbV527rFjeDQkIwiLxWnaEmhhz0zdctizysUFIipJPj75J06g6sAQCv0MOfN/QwWMb1v97BkgQUKbmR2RXykp0JkDkar527dOmQw2B0YDjlP+yZNwIiVXruB4UFilIoDSOrhdZvFKWU/+iRMDeXlYr1Zw6tT68jJzjmiLBtaWgrvp61cho41Pu8GJkgC+Igw6fc+enMOHZ/v68GPIGVcXFpDmg6RNuQUm64mboHJx2QK/I9HGRAQB+NkHD850d1c/eVJy9SqQZJRQ2hWqhoZj1dUU2iHD+bu5eaa7G+vYmr9/J/1k4M+/UlOlFhYZoaFiE5O+zEwC54EZIknqlMsnW1pqY2L4HE7RhQskbJK+Z4/I0LA/OxuXB/yQBkaFenq1L1/yWCyMdVU+fDjV3o68h6+jU3H/PjHvOmWyNoGgQyqtf/sW87VMIr3E1JTHYmHYg7KfwcJCPpudd+IErf+TWligwiBxn+HiYqZSEoIolQiY1ZZaWYlNTbEdqCs+nsdiLU1OZoSFiY2NK+7f71Qqy27exAJgPGsKkxqNZmVmBoa0OD7eJhAI9fWzIiLm+vsxCCG3sRmtqlLa20u3bWv58UNmYwNnhOa33NY23tGx4PTp2levEP5nBwZSdu2SWVllRUby2OySq1fBGm348AFoavHFi2U3b3YnJSHBkllZzfT0rMzMNLx/z+dyRYaGrQIBTcoBL239+ROlRvLOnSgjMsPDhXp65XfvZuzbN1xamnfiRH92ttzWFpuhRUZGNS9e5EZF9SQmtgkEwyUlhPTwdXQyw8KSvL3TgoKSfX1ne3u7ExIAdJVeuyaztiZaUOPHjxJT00RPz9Lr19eWlqgyntl0CFILi57kZKGBQc2LF0iekCkSCJTo7d2TnEy8Jx6b3Z+TIzYxEerrDxYUVD1+jGdafPFiyqa8HVITga7uxGaRjT1FaNnw2GxQ8ctv307w8FCHhBSdP49zDQNT2NmVXLs21dYm1NMDggo1pdSAgLGaGoGurszSEkJXPBYrfe9e6IETekk1HI/N7pTLiWjNLCS2dIVhojhfEBjgsVhMeTuxsbHKxUWoq9ufna10dMQc5sLICFOssfjCBeqwwpNkhIXhkkSGhtPd3aU3bpTdvFn36hX8A9R7aCYQzWlsDyT+OW6U0MCAMPa+rCy+jg6fw2n6+hVUm5afP5mXsTQ5uUXDX2RouDI7O15fP9HQgFyBMgbwPYF1I12Id3Lqy8ggmm1qQIBQX19sZIT0DlG5lcdDjgsnOdXZSUAXUyma+tn9OTlAzlSuroq/eCSEwmaEhWXs21f97Bme5r8hAI9UVAyXlsLNIeSg6u1SKkmU409f8+VL5I8gKWRFRiJ0kVwGk7AASHCspuZXaiq8CW4ict7cI0eY5bXS3n5hZKTqyROMrOHhoSLRZoVHjuD5FZ0/LzYxqX76NGPfvubv3+HQq588QZmIopDSVQ1DCZmZRiGutAmFQFEyQkOXfv8mcqZ2tGYzB6xh8BWrnzzJPXKkLyOjLytLqK+PVFdpb9/46dNEY2N3YiLOZGNsrEajYfIyMPaqtem8PABKxJvIiogYLi0lbXSMEuHwy6ytcdjyT54EoRFi+uiUaCktOjpKR8ctoijj9fUCLldkaAhguZXHownI+eFh8FYaP35E0ckU4uGx2WuLi0oHh7o3b2pevABMivucHhyMnUtbDIl2XRC/LMHdvSE2Fm6r5vnzshs3RisrV2ZnUYkOl5RU3Ls3WlmZERKicnPrUipne3uZSzjUISF9GRlSCwusScYWJsrSYAlNX76MlJXVvXmTFRlZePZsybVrIAeVMqbSpzo6kKHDtyb5+MCjqVxdgfrCd1c+eCA2MUneubMhNpZcDwpuPpvdl5FRdutWWmAgRAxklpa/0tLS9+zhsdlQzEjx8ys8exZbYzPCwrRGaGIis7Kqe/tWZGycf+JE4blzv1JT04KC8k+d0q6MVKs1jNnx7EOHJObmlQ8f8rlcxDaMGvNYrLmBgfWVFZGREbweLLPk6lXcDYRSua0tj8VanpqSWVryWKwEd/fmzZ59vLNz7tGj4/X1FffvC7hcdUhIT1JS+t692QcPamUT9PVT/P2zDx2a+fWrUy4vu3kTJ2iioYH24SR6eEy2tPDY7LLbt5N8fWEPRRcu5B49mnngALCfho8f24TCNqGwNy0NGKN2kaWra5KPDw5gWlDQ+soKj83Wrv6FUoelJeBr6h+XXr8+vGkPI2VlfB0d9GIo2ybuAtQLMEFEtGQmlRKJZs2LFy1xcfXv3iGHqH72TLYpXoELm/n1q3cz6qNS7MvMLL1+fX15mU4uE/jNPXoURpXq719y5Qo+cai4eAuYp7S3b/jwYay6OnP/fhLdY8JImWFhFHISvbwqHz4cq6khGing68nWVnBOwYqqffmy+smTP+739m2NRjO8yUdhqhFo/rmgRbOpyQwEcbSykrnKt+jiRZSwVOQgCWNunp3p7iZiF063ytUVxZvUwkLp4DDNiLVMNBteV2puDu/B19EpunCBCnpSLqJXVmTkVHu7eFOgm1g1WOGQf/KkQE/v3xCAG2JjsdoFHBCKGam7d+dFR9e9epUTFSWztGT63MaPH5kLsOACcN5QkFELhzgOfwPI3YmJIkNDeMPco0eTduyQbtuWeeAAcSZzDh+ufPBAamlJz1LbePjnTkCcCqTkQ8XF80NDMisroEnqkBDAgEIDg+pnz7ri43MOHy67dav8zh04OLpOJLZQKOWxWDlHjsA7NH//Pt3VhYmmivv31xYXBwsLa2Ni5DY2qLHyT56c7uwUGxsnuLujP1R47lynQjHd1QXwBJ3F0uvXccaavnwRcLna9SYGBpDzZMIyUCUsu3EDpfDy5gR9+Z07yzMzQgODX6mp+Et4DXVICDO3RTUg2sw/4p2cEMXRR6l5/pzHZncqFPXv36fs2oXxAAGXW/XkyXBJSaKXF4FgBWfOwAXg/Cd5e+ccOcJns6ufPaPkZravD1RtAgP5HE6Cm1vzt2+NHz9qNyZ5e0vMzCRmZgiNgwUFhWfP/tlvc/s2AlX9u3fxLi5VT54UnD6dffAgEu0Ed/eGjx+Fenq5R48m+fj0qtU8Fiv/xImi8+eb4+JgOVJz86KLF+EWJaam1c+eNX3+LDI0FJuapu7eTdvcsH0INpwVGYnLjnd2Vjo6Zh88mHv06MrMDE2aEfqd7Os7kJcnNDCoffkyZedOuKrBwsLpzk6Vq2uiu3vjx49dSqXEzExqYZHo6YntQCpX19Lr17XbUrdtU9rbtwmF1NoXGxun+vujSsDAaCufLzIyKrpwofzOnbKbN/syMpAnZR86JDIygtmsr66ib0Lv06tWZ0VELIyNgWJd+ehRh0SicnXFrcBxEJuadshkf7jxPj4Y9ksLDJRZWbVLJIleXl1KZYdM1vz9O6kVIhwm+/oKdHUFenpLv39nRUQwW4B8DgfUsKavX+W2toVnzzInQbWs4IYG+O6cqCjsi12engaWA9AL09VwF8k+PrRygMdiIcQm+/qqXFxExsYjFRXAP0WGhqkBAbO9vZhPq335Eo0Ays4TPT1b4uLQ8+5SqfoyMmg2hq+j0y6RULuKxlpozmK6u3uwoEBua6sOCck8cEBuY6OwsyPsRNsNAXb1T8IBkx3CRPjyoqMr7t6tevKENExwHJg/BjNQbApH8xkKGDhlCnv7sps3gT62i0T5J0/OMhJlDUNLoObFCwLDym/fXp2fR6DiczhVjx/D3QFpK7l6NScqanlm5m+mDhN8wjujU1Zy5Urf5n5xeB5yFPAP1Ndnqgg3f//e/P270MAA2BVTdR+zZAo7uz+ySB4eTJha5eqKq4Xhpe/Zk3vsWP3791vUEvf8n//zbyBhLYyMJLi7d0ilSnv74kuXEj09QadCKVB6/XrDhw80YIeigemFlfb2NOHHfG1sbCAQUhm9ZanAQG7uYEGBdpnJJgVGo9GUXr1KzCyJuXn53bsiI6OB3FxUeIDRcD3Zhw5JLS0nGht709MhdVl47lzVkydKJydcf8XduzQ/A14A5cug5qJpiq+DpwvLk1laknxMWlBQQ2xsd0JC9qFDiLKoORZGR2tfvUrx8xMZGWEhLlD6v+XXNRpNw+ZKcLmNDfzjaFVVvJNT6Y0bw2VlYlNTlasrvhSmjP5eM4IGDG7mZEtL/fv366ura8vLcwMD1HQpvnRprLqaz+FU3LuXFx0NxCItMBBIlNLRMZsxWoYKgDwRkw/S+OkTjpbSwYHgLy0wsEm8RAwDyhfv7Jzk44MzU3Hvntzamnrq+Fe4gPK7d9FXS/b1zT9xAk2+LQkWiDN9mZmK7dvzTpygpYHwlUJ9fcTvmpgYwiRBYuhOSBguKZFbW2NnauHZs2gJw62ITU3xrUWGhoD3UVFpyykud7a/X2xsrLCzq7h7t+L+fXxNpYMDn8PJDA+Pd3IScLmJnp4ZYWECLhcKw7Dn1IAAuI94JyfA40pHx8zwcImZGUKF3MYmLzpaZm0tMjJanZ8H2ozfrX/3TmxsLDE3zz58GOQJuOC0wMC86Gihvj4663I7O8Jj8k+eBDlcZmk58+uXOiREZGjY9OVL2e3bTNZF6fXrVY8e8djsmhcvsg8dgnGCckhVxZahl8nW1txjxyofPiy5ejV19+7uxESgHZBxZqr4igwNsw8ehD1AtvN3U1Pty5dVjx+n791Ll1H97BlG/LUszu/fhQYG+SdPkkPAoyy/e5fAp4nGRpwduGYUZGivYAJtfngY5CmBri6ObYK7e4K7O4nPUHBlFsEUOJN37kzbvft3U1PxpUsdUun66mrZ7dtaMgeHI9DTm+roaPr8ufrpU4WtLbNDub66qh18KC/PiohQOjhQJZAVEVH1+DHQCJyalF27lA4OxZcvIyBV3r+PRQKgTBeeO9ccF1dy9SqzVpbb2EAJBydrsLCQ9Ac7pFKVm5tQTw8TdP8orx0dccSQjlP5RH0EzaZECdBNob4+kxJFqXNaYGBfVhaOHl9Hh6rk8dpaHosFd7cyOyvdtg1m0BAby+dyfzc3/y2dRJGC+UKXB0BUko9P5v79tLAVjq4/OxuNm5Rdu9AnYirgwtlSnqddzVRf/y9hQYuMjJhC+YAc20UixAx0wnBi+To6xZcvw+475XKmqidm81MDAlDsUoSG+276/Jk5ik5lburu3b1pafPDw90JCRV3767Oz9OeEKah0Ae1/PiRc/hwf3Z2/okTpdevq0NDkzbRErmt7UBubvndu6T4QetscVSYrQW0Ywl++d3S0vD+fYqfX+XDh/giIkPDPrVao9Eg4qYFBaEuwdjGyuwsgVEEBmjrKientcXF1IAAEsgUGxvThMnfL+KITra1FZw5Q7A8zgaFMeatTgsMBJaFEbr6t28FXK52QrSkBChl5YMHSNjJG2KMCj6IePwA7ekcFpw5QzlmvKMj6ubm798bPnyAK4F3SN+zhxo5yZulodzGZqioCNNlFXfvapeKW1g0f/u2sb4ut7WlcU++jg78CB11WgOXf+IEJUw0AQL7SfT2TvbxkZiZySwtFdu3o8Kuf/duqqMDrgpPhHaa0uLSrMjIZF9foZ5e8s6dQgMDibk5rF1kYDBcXIyPa5dIRMbGVY8fC/X1y+/cERkbS83MYIqQ38LtLb1xY7KlJd7ZWaCr2/TlCz5RZmUF8Dz36FGBrq6WT/f2LZIeubW1tko7fFjA5SodHfuysmSWltVPnyb7+krMzFL8/HCpOCnIZXlsNo1tQIBXZm1NdF91SAiPxUrfsyctMHCmp4fYsxJTU5Gh4e+mJj6bnejlJdTXTw0ImOvvx/xxp1w+Nzgot7GR29quzM7iplEJqNFoetPSsiIjRUZGnXI5OXqJuflsb29WRITIyKj527e0wECKcNC90i4IuXkzOzISzd3Cc+fSg4PT9+yhupZyAvrzUFHRVFubYhMsrXr8OMXPrzshYaq9fSAvb7yhIcnHZ354uOzWrZoXLxLc3WVWVgjMaHD0JCXVPH9OLdiN9fXM/ftT/f1lVlYV9+6VXL2ac/gwqRQgUai4d0/LdTAwaIiNzT9xAkcvIzR0rr+/7vXrvowMZtzqTkwUcLmZ4eHpwcHJvr4tP350yuV8HZ3Wnz+x7Qq+RWFnJ7exmRsYaIiN3bIHN97JqTc9HY+m8Nw5lasrqsB2xgq1ps+fkYpNNDb2Z2fnHjmSuimPRS+UQzgjMFeBri7K4i6lUmFvrw4JEerpyW1ticwsMTcHnrE6P8/MswnCrH//nlIWJpTIY7PxJsm+vljbWvfmDaJ7K4+3vrIyVl1NtYSGsT4h3tk5aceO1IAAYrRMd3fnnzrF19Eh0qXcxgazDORJBLq684OD+ETFZkUOQJvQU4SS1ICA3KNHcUnglA0VFv4resCbAQ8AAlCRujdvetXqqU3yLbOLkOjlNdHYiOIj1d+fmcTRn5nj2DJra+BFfB0dbcrs45O5f792omnHjox9+2BbQn392pgYQsxWFxcpUjKLJOqeMrdJU5MGTj/74MFfaWkQ1NWu6jQ331hbo4kUnDQ44pGyMpQ7QIO3dFCIyTmQk6N0cEDXh7Ap2tBO8wnwfUjSc6KikEQDdqOQMJCXh/SiXSSilB+ZY/nduyl+fvHOzomenoBuVC4uMkvLulevZvv68Cko4gH70DLdwfx8FApEjRnIzW348KHu9Wt1SAh682vLyzRZX373LiRb844fzz16NGXXLnIfFOy1Ejzm5sTElllaIiqTkpdGo6l7/Vo7Tnb5MnUocUt/paUVXbzY8P690MAAkyp06/CVx2trh8vKxCYmXSqVzMoK15lz6BB1+GgJFR7NH3md/fvVISFoYKNMxFTbbF8fahGFnR1fR4c2ZFCEbvnxo/z27fS9ezPCwoCwyW1twXlBQSYxN1fY2SFn0s66sNkwy6rHj6ufPauJiUn09FQ6OGDfEZ/NnmpvB/up6fNnsbExn8MRGhiAZCs2Mal58aLq8WMkalILi/WVFT6HM1ZTM9namnvkCDjMYmPj4kuXBLq6UI3AdA1+peH9e6WDA7zS6sICyIlIXzDzA+yn9MaNovPniy9fVoeGQsUM6R2IvkiVUvz9V+fmMsPDRYaGrXw+X0en8OxZOkdwBRB7AqgwVFREW34nGhsV9vaIeSoXFwGXSyyt5m/f0vfsUdjZEY0/ydu79Pp1iJFJTE3r375FcYZHgJ4WumQAACAASURBVJupDg7ms9nN37/nHT/eJhDwORyUj3Vv3mAKo2RzGXCbQDDT3Z0WGJiyaxfx5AFgIDFC1rKxsUECAEDUUNSO1dbmHj1KiCv03cDnkFlaAmKZGxigtVrMTJ1a4Fp+EGOkiqp8+q+2nalULoyOZuzfn3v0qDo4OH3vXqRiMiur4ZKSteXlkfLy/BMnpru7hQYGnXJ5wZkzoFLDmWA7J3GUICVG748cK9HLawuAjERqcWys/PbtX2lphJdsrK3hmvNPnoTLXZ6ZQVpf/+4d5SjMThacVd7x47N9fdJt27TkiR076t+/78vMzIqM/OP9Njc2lt++rXRwgG2Q/g96fEoHh4XRUXouSnt7OLqWHz+UDg5A+9YWF9EEhIccr62lQTKZtTV2gGr+khiLd3L6r//xP/4NFfDixASlLXwOp/Lhw5afP6nxLtTXl27bhqPVnZRUdusW04eSTRPjQ6PR9GVnJ3p5wSlLLS2Ziw2YVB1qaMHy6t+9a/7+fay2VhuP9fSWJicLzpzJi45O37MH4zo5UVFIl8pu3iQVYiAn+N+VmZmJxsbiS5eo14JzRbkhXTBz7OfvV93bt7Q8oGyzXgc6Bx892dZWev261MJCqKeXGx2tLak5nC39IdQxmCXQygb9+EHlHQHvpTduED6f6OlJPRWaHQQlLd7ZmQru9ZWVJG/v4ZISZnsm0dNTbGwsMjSsfPBA5eq6sbEhNjYWGRi0CQS0qLjk6lXk0VmRkamBgfAs9W/fVj99ivCM6ofHYgm43IbYWHwizqfI0BBUCKREWRERKlfXNqFwvL4eDQIIbK0uLAgNDPg6Olnh4cCsWn78SNqxIy86Gl6g8Nw5ShTwpH63tEDECqS5lri4ToWCz2an79mT5O0Nk+NzOCl+fjwWa66/H4xxAZcL0QnmIjNog/M5HJGRUd7x4xA7xEQWHWOAIjM9Paj4U3fvVjo4pAYEtEskS5OTxDznsdmJHh41z54VX7yIQMVjsfKio3E3MkJDc48dq3v9ujYmpl0sTvDwSPb1rXv9+ndzc+2rVwtjY+V37xacPp19+HCilxe2zcCX8TkcdUgIiniJmZl027acqKjco0cxZ1x6/frK7GzusWNAHVCXYFCbZsFx0+KdnDBFA0kZPNZulSo1IAA8moLTp6sePQJsQ2hK+Z07cltbAZdLcweo0qY7O0VGRlJLy0QPD41Gk334cN7x4yIjI7mtLaH3fA5Hum3bxvo6bAn7AfFFOhUKOlBo3RH6IjQ0rHn5svbVq5Rdu4gG361SJfn4bKyvazZ3KFU+eECiEMgOl2dmii5cQMJReP48EzUF0qDYvl1kZASegUajGd8kWq7MzCCHGy4pQXDKiojY0tYh4k+ip2dWZGRaUBAqeM2manqil1fz9+9oGSyMjiIhYPINwbrA3UNuMZCTwwxC2YcO8Visxs+f5dbWQgODmpgYlINSBjEQe5CQaMqsrPKiozukUppuKr97NzUgYKKhIScqCs9lbWkJtyv/5Mn11VWVqytypuHS0j/zFBoNMieloyNhQvSG+SdPwmnQbjp0G1UuLkk7dmQfPDg3OIi7jZQoJypqIC8PjwahMd7JaaKhgYQfsPS66csX5kAEseKXJiaaPn/ukMlKrl7NPXKklcfL2LcPt2jL+iPqdlXcuzfZ2gq7TfLxqXz4cItSRZtQOFxS8i/RgmYqM6B+pdwT9IfU3bsbP38m8yWgBlmYytWV2WdN9PIaZtBZAV+MVlXlHjvGZyjMoZHJxHxkVlZCfX0mGI7HuTgxgeirzYN0dXEgMdo0XldHc0dTHR2AudCZQKK9Mjc3NzCQERYm0NXdWF8fKSvbkklJLSxGysuRLiCOik1M8IdWHg+AHpJ9mDJCPjrEo5WVCDBQzCCJZtAisg8dUtjZJe/cifDQIZVKLS0RBuB5xSYm011daXv2pDG+ddnt2/i4rPBw/ibQ3fD+vdjUdOn3b7p4iakpCCNSC4uZX78aYmPr373b2NhARQg3B+gCHmQgNzfJxwesVAh44a1yoqJQWEvNzSsfPBDo6qLyhtAgqiKlo6PC3n59dbUlLq47IaH62bOxmpr0vXtBKk5lNI8R26QWFuBT4AnmnzqFDJdWOgq43A6JpPjyZSDV9R8+AK3FFgQaeJNZW4/V1KT4+alcXIhgjx9o+vIF2BqUqho/fsw9elRsaio2Ns6LjkbWVfX4MfArGMza0pLCzo7PZuceO4ZtSMtTUwJdXYm5udDAADxhob7+TE8PEnaFvX2bUKgODW0XiYT6+rnHjuGuioyMsDoQ+Yp027aZX7+waTjzwAHcbYWtrdjEJPPAgZ6UlKnOTpQaWE2oreatrVfn52tiYn43N8MdJ7i58Vis2V+/0oOCkn1904KCCs6cERkY5J88KTYxga/ksdlA6urfvIECMwUkYtCszs8PFRUhTxIbG4MuAG7BZFub3NoaYVK74PLgwRQ/v+GSEmx4lNvaNn3+HO/kVH7nTptQSNwChZ3dQF6edNs2pYODys0Ndj7761fTly+4AIKs452coLGFsAR0h7YODBUWCvX0SGYA10zpJp/DATyQERqKBOvvFxRVtW56U5N1sKBAHRxMoZHJVcY5BVCEBAhyXcz2PzybgMtlTkXSDAXSoNyjR8eqqymoqENCEj08EEE7ZDLcYaRHpJZKLzJdVBpZkZHpwcE0mt+XmUnUKrmNDcCz/JMnKWHaAkeTh2Qi3tSLFejq4jwyKQ6tPJ6WRrexweTDZkVGVj15Arpl/du35Xfu8Dkc0ESoBmW+VC4uQ4WFcJUrc3NUhbfy+QN5eSMVFVJzc0BKFXfvFpw5A6vA2UemBeL3f0v7Qk7cxuc3fvzYytj1xAwuBM4lenjkHjnyL+kBj9fVISFCaKQeD8ZUCOBFekhNo5IrV3C6kJcRBosDCfLFbG8vjFtmaQnkITM8fLa3d6Ss7O/ORMHZs0wlajRIKA9g2s366irTOkEtafn5U25rK9TTw1X1ZWYiMJffvVt6/XpWZCTSNOKSyG1teWw26rDmuDhm4Id/oXEUibk5XVhfZqbM0hJZRaKXF0j23YmJ+SdPon1LmJVAVxeKBEJ9/YG8vJIrV9aWlhLc3bVjMG5uWzbJ0PASc6MqoqlAVxcqNuAyQKMDKQKPzaaRvp7kZNwZPofTEhfX9OXLlimy383NUx0dc/3966ur1C/A486KjEz19xcZGta8eKGV7/Hx2aK2k7FvX8uPH9VPn/ZnZVHDBgUrULsOiYQwOhT36NhBEAC5GrmwygcPUvz8YE4LIyPlt2+rQ0OhU9EhkUCgqvbVK3VoaE1MTKK3t1Bfv0Mimevvxw1s+vJF6egot7UF+Ek9FIGeXqdCQdY1kJcHXc8ulQp3D8qFWrd1/jwIunDQiu3btfKoXl7diYllt27x2GxY0fL0dOX9+wlublWPH8usrBI9PRM9PMTGxrUxMfiVDqlUoKcn376dz+EUnTvX/O1bxr59uMkba2tNnz9XP3kiMjZeX13F9Ejm/v0CLhcM4d709MJz5+pev5bZ2BSeOweVNASYrIgI1LICXd2yW7eI3JcaEJCxbx/tmU/ZtQvmV3bz5tzgYE9SEo/Nhqmr9+3LCAsTcDhpgYF8HZ3aV68SPT3BBupUKNShoYAicWwLTp+GqQ+XlYmNjac6OoovXRKbmCAj74qPb/jwoVOhSNqxA/O1TPMQGRkleHrKLC07JJKmr1/FpqZZ4eFTbW1AcZi1zhYmUUNsLNqla0tLGDZT2Nlpxc48PKY7O5ER0tnPPniw7NYtkYFB+d27IEbBGnlsdv3798iKxKam6tBQ4tsDhANNHYcCdwD3E6VwwZkzA7m5TOqWws4uNSAAHmyoqAgwzPLU1OL4OD2IwjNn8K8ajaY/JwfGCdClLysreedOciy5x44tjI7yWCyAH+v/bJA3vH/fvNl9o6CFWN7w4UPF/fu0hDjeyYlJUJpsbYWXzj95cmVujhxj7cuXSd7efy9ZxwmFk5n99UtiakpgYUtcHGpQfDtSLUwLDCRAlPA2zIlo/inDAC9d9+ZNRlgY0VmoqdcuFgNk/iNtffUqjiSTzNX4+XOil1e7SAS0gB6BtvEUGkql+bP/9//+4wMw7nKvWq2ws4OZUu4jMjJiDgVpNjcoSMzNQa8gEhOmSPkcTndiIiiFqwsLv5ubV2Zn0UDNP3ECNajE1BTaHZQnJnl7F124kOTtvb6yAkoO5UrMF7hFQj09XDBzNK1NJFLY2aEzKre2rnr0qDYmBrzKToWC2icNsbELo6NJDB2P0cpKdIXTgoJ4bHZzXBxTw4WOPUFVIiMjdWgoMrLU3bsnGhvJvplkFmSa4OlNtrb+rWdZeO6cxNwcAV5uY1Nx715/VhZTq0TzT5m3lrg4pH7Y99KXkVH9/LnS0RFjJIigqM75OjpgIwMQht5IX2Ymj80Gt67+3TuFvf0fSfTN+onoKlDJ0Wg0mYxxr3aJpObFC9SFAl3d/uxsnPm848f7s7I6JJKCM2fwWLcsElfa2wMqBKIlt7UtOHVqeWZmrLa26OJFga6uOjQ00csLKDefzVbY2TF1VOAp4DLG6+rkdnaL4+ODBQWNnz+rg4MTPDzinZ1Lr1/vkMninZ1709OTfHxkVlbQBgGpu/bVK5GhYfrmYihU1bUxMQlubgi3Ai5X5ewMJQqkNSJDw8XxcaIXEfwus7aGCxZwuel794qMjJCYtsTFlV6/nhEaSo2uvOjownPnqh4/rn76VOHgUPf69fLUFCxEYmbW/P07j8USGRpmHz6MvZa5R450qVQlV67IbWyqHj1K9vFZHB+vfPAAADtZe8uPH0gZtaSV7dvrXr/G29a/eweXLbWwABkQI+BMGqrUwgJXKDY2JvyfmBk42giWta9epe/Z8ys1VcDlFl28+I/pFFNTdHaHy8vhgnksFo/N7t1sBya4umo2FciHioowwazRaMZqa4EJQ25TbmOztrQEPtT6ygqPxcJNhtgL8rbM8HDCVJX29vDd8DxiE5OCU6eodMYXgePaWF9nygAwGSSUlqn37h3Mz8ePqUNCIF9c8eCB1MIi99ixBHf3wnPnSq5ene7qgqIFkYNwXhpiY3vT0panppJ9feEBQE2g9lDLz59M6at4R8e5gQGgfYP5+bScFI9jsKCg6fPnv2G5rvj4NgZdq0upFJuYzA8Pyywtfzc3L4yOAubJ2IQTlA4OxDIBkXhtaan48mV4EmDayNoHCwrQfSCyzhbKsWZz4B4iMzCM383NJVeutItEv1tagOgAzkHIl5iZiU1Ni69cQZmevndvwZkzzDKJObnKY7PxHJu/fdOuv/vnxovRqiqg0My/zD54EI2JX6mpqMLD/u///Y8PwLD77MOHcZJJ7QjudaioiKyZOkYFZ87Q9KrKzS1px47Z3l4m+grDav7+PcHdnbbkwi7zjx9nQjQCPT2FnZ1AVxcWk3ngANncRGMjtSimu7tJRqNXrcY1b0nAKx88wCpWEWMTg8LefmFkRGRgQApWyb6+Aj29jbW19L17mUIZ1BiGb4JtiQwMACvVvnyJeFxy9WrlgwdVjx+LjYx61Wrptm1rS0u9anXZzZuEr/5Bfvj8v6eJUvz9iUKJorDs1q1etZrOucrVtfHzZ6oYwL6pfvq08Px5QPErMzMpfn4Jbm6rCwugpLUJBIQ0yKysIG6AVKPx06flmRlsIIChC3R1ZYx5MJWLy2B+/u+mpoXRUUjhExui/M4dvo5OTlQUCMwFZ84gcRYZG4uMjVHj1r1+nRcdzdfRSXBzK7t1q/DcuRQ/P6Y873R3d2pAQPGlS0pHx9WFBWzAzQgLmx8aojOpHeQ1MwN0D4Ju46dPk83NyTt3bnnQ+SdPZh88SMtrR8rLca9QV7UJBFhwBMdX/+5dvLMzkmixsXFXfDyfzUZ9KdDVnWhoACyJgCG3tUW0KL5yRainV3HvntTCIt7ZGQzqgtOnZZaWqACk27b1Z2cjGcc9wZ5HpKGdcjkwhonGxrpXr4QGBt0qFYSTJhobJaamK3Nz8U5OiJR8Dme2tzfFz69LpaLuTP7Jkxh8yjt+PNHDQ2RoWHj2bEZoKE5Hu0iUGhAQ7+RUeu2aUF9/fWUFjNas8HB0r8dqa/tzcn6lpOAErczMYDROaW9PJk1KyIWblqYODkZFkuLnV/fmjcjQUKinR+sIEzw8KB3nsVjoyaUFBuYeOUKRvuTq1ZmeHqS88U5O66urRA3Bbihy+iJDQyzoXZmbExoYEDeQqS7Xp1bz2WyRvj7yCbGJSeX9+5T00CcWnj9fePZs9sGDTB5AzfPnOYcPUw2H2M/c3kYYm8zKaotgKpNlqdFoeBwOBTAcah6LNT88DC1rZIetAsFgfr7E3BzNo6Hi4kQGLRTXrBVph357QEDDhw+k8AM+PDP6Qr1rcWKCNDEoDRrIyRHo6s6PjDC5Jlq1HENDhFulg0OHTAY1rqpHj/gcDp/DoWbwUFERszFMgFBDbOxkW1ubQNDLYD7isok1kujujtKF+twZoaFiU1OFvT3UVEDForKnOzGx7vXrzPBwQKQ8FgshppXPx/V3KhTQccJJrH/3DiDiYGEhTqVGo1ExOpV/0PiCgn/PMgbNP9dCJfv4iDe9A04gskj0ciioAGErPHt26fdv2kfWl5kJO1bY2uJIpPj5wTkiY2WmRdhVTkY/UlY23dUFd8/sYSCWJHp4NH36VPP8ecHp07SGSG5jg1F3tGHktra5x44hApEeJPphmZuT4KNVVTCCLdEx98gROqI05IfKG/GbOtaTra3N377VvnyJEFJ6/TochEajWZqc7FQqmSM0lNsmenpSyZIWGDjV0UGjxh0SCfWGtRyKsbFOhYKIu4RMAB6ATgKa3BX37+OUwicSxp7g5oaqVG5n1/D+PTYE4GLI0eduhsCqR4+YW41HKytx8GRWVsvT09hVwFxRwoSz8ASrnz5dmZuTWVunBwW1iURwqQo7uw6ZbHFiAjcWP1l++zZKcLQYetPTCcUSGRkt/f4tMTWFvh1hyxV370pMTZX29toh4Bcv4p2dBwsLk3190/fuzTp4ENYyPzwMvwB3mbRjR0ZYGKqWdolkrLpabGKC+9OtUqGOzIqIKLt5Ew9FoKtbdP58WlBQK5+fvHMndBPVwcG/UlIGCwrQfay4cycrIgLecH15mcdi8dnsshs3xmtrhQYGyb6+QgMDYNT4GSqjeSwWXAzspOrRo+yDB+U2Nlgdn7RjB/5M3R8tsi2T1b56RaZb9egRTkfF3bvIwBLc3bs3SWdpgYGwhKLz50cqKkSGhqn+/uivk7NeGB1NDw5G/TFUWIiOwGxfX+HZs/3Z2dpTz1BHohOUf+IEbp3K1bU3LU2oqysyNgY0DTg388CB9D17hPr6Kje3slu3hAYGsCh1cHBaYOBwSQnKWfou3YmJyFlRdsMmEzw8mEL8oxUVRRcvokEwWlnJ7IksjIzAn2SEhk62tib7+kKgRuXmRhnbYEFB8eXLfB0dKGwg3YRsMr4juirUlacADICH2iW062ystnaypWWwoGBtcREnkUSngWAtDA9rNJq8Eydmfv1qEwphAwBjafav8vFjJATIU3vT0wGh5x49ujwz0y4SobnLpOYo7O2Z7aTR6uoUf3+Bri42a6EJxSRygucBVCPzwAEtR3p8nEZpu+Ljpebm1U+fTrW3d8rlY9XVSNDJMyBpkNnYZB44MFJWhkcPEUNmstLy40fz16+o6QkFYSY01HQjFHqoqIh81EBubm1MDLUa/zSnw8MnGhqWp6eRcRZfurSxtlZ2+3bxlSsAtAFZ/xsCMGhWgDFR8sMs0DGFAeHv6zch2SQfH5SJmEbNCA0F/IvzxhwvWxwfZ0oZ467hDia4ufHY7OZv35YmJxHd+f/sOCKI8nV0MJJPY+m0LIHmShs+fCg8exYCv3/S58zMlbm5/JMne5KTmQpwOJyI37WvXgkNDNCMyY6ISN65s/bly6yIiE6lEodTZGgoMjSsfflyi5KXUE/vvx3tFRsbY+C9QyYrvXGjOyFhaXJSum0bnWRqjpIGwvzwMLjWwMHq376Nd3JKCwxE0pDo4VF6/TpC78LICBmuUF9/YWSEuC2DBQXjdXWIeTQg1C6VajSa5q9f1cHB0DEG+wZerOL+/eHS0oywsLrXr/E3hF/lRUcDEQITCmlHy8+fiFha1cBHjwrPnhWbmEDuX2phwWOz1cHB+JXe9PTBgoK1paXknTvzjh9PcHdnNrzbBALmtva03buZ+YrS3r7kypUtsprDJSUos1QuLkoHBx6LBSc12daGJlaXUjnZ0oKjXvP8+VhtLZ/NlpiaJvv4KB0dx2pqco8eha8U6utjk8/a4mJaUBCwnOJLl2pjYn6lpSV6efE3u6oZ+/YpbG3Rp5jp6REbG2OqB3c188ABmZVV3okTSgeH6qdP15aW1CEh011dyb6+QIzzoqOLr1xR2Nsrtm8vunix5sULrNNp/vqVepMiIyO0CdICA0fKylBapezcyWezUQeoNpEbcLB71erCs2eV9vY4tjmb2/34HM7yzMxAXl7RhQtyGxuwBCZbW6ufPau4f3+oqIjHZnerVOsrK01fv8KVYzKq7NattaUl0BqQTdLTB6DSEhc3XFxccPq0lkO+mbMCYs0MC8Pt6klORqJDQitMwiaevtjE5HdTU/XTp8iY844fJ7WptMDABA8Pua0taFBJPj4CLhffjiwhKzIyaccOisGtP39mhIU1fvxIdC2SkmDGofHa2v6cHJmlJQoJ/FdkaIhnlLl//8bGBrIWLCVL3rkz3smJzBUBabKtjc/hZEVGEnTfl5UFKln2wYO4J9XPnvUkJ2MivPjSpf6sLG32vFmZTDQ05Bw5krFvn9zWls7a0uSk1MKCuax3or4exYBAV5eZi5TduFF49uxUe/tUe3vTly85UVFVjx8TeTPzwAGhgcFgQQGNjNbGxDClFyTm5jRx+yeIcrkACZIYvJMUPz8+h9MmFCb7+narVEwceGNtjTpEC6OjOOxCPb2M0FC6M0xz3SKYyGSlMR2CQE+PpsuYkot/y40hbaJIb/Zf//UfH4CLr1zBd95YW2P2LSgiUtIEbTMBl/u7qQnC2VRQZh8+XHH/vsTMjM9mCw0MaHaQxgkodWLqP1c9fYpuccHp00PFxfObZCL0LKkMzYmKSvT0lJiZ5Z86lRoQAJ3F2k30hsdm42En+fjA70gtLJij4ljsqmGosWgj39CQhjFATHGdHMdkS0v9u3cU+JnWs7qwsL66ihwF1XmXUknGDSspu3mTKRCWvHMnVckpu3Yptm9fGBmZ2UQdal++rH72rEMqbfnxQxsA/Pw0Gk28i4vSwQFaKISAlVy9Ck12oopAMknp4CA2MppobEQgARaEtfZgHm6sr2dFRmaEhU11dBD8tbqwkOzri3GpdrFY5eYGxUcem53o5ZXg4cHncARcbsnVqySGMFJWJrOyUrm4AMpemZtjekm+jg6PxcKyipa4OHVISM3z52W3bnVIpWCcJnp48NlshMPB/PyK+/cV9vbwUyIDA83GRl50dM3z52l79iCnQciEPRD2qA4JgTMFdpcTFaV0cIh3ciq7eVNkZIQKRmZlhVIPjpuvo9OXkZG2e7fc1jY1IIDPZo9WVBRduFB86VLtq1e4ZqmlJZQaKx89QibOY7PJKahDQ/lstsjQkMdiiYyMepKTkRb8bm7mczg5UVEKOzsBl9ufk5Pq7y/gcqF6BiQt+9Ch7IMHc44cqX7+HMhw+t699e/fN3769CslBR1llYsLsA3cQ41Gs7a4iPwsNSAgMzycx2LVxsRIt20br6tbGB1N9ffPP3FieXoalj9cWvorJWVpcnKspmaqvb340iWINGWEhY2UlQl0dNDoQaNdbmu7sbY229c309NT8/x5vLNzh0yG0Ci1sBBwuegspAYE1L150xIXp6U03rnTn52dFhQE55t3/DioQ0wtcYDMjbGxmPLPP3UKkCYKstxjx8DHVNjZ4dDJbWxQ7fFYrKHiYsy/4QeoXSo2Na18+LBTLv8zEWtm1peRITY1RYQg/QqRkVFmePhQcTEpOTR//QrMnOiNyb6+qwsLIH5TCUuST+urqzCt8jt3kHaog4PhPcpu3oRrAhqfFx0tt7Gh7lvRhQttQiGSe6a0HzE5kCpNNDRIt20TGxujiY713gIuFzAyhTfQwQA7oUZs+vIlfc+eLV76b8oIckrUUXJbW9KARAO46Px5ahm08Hgpu3aBBZ3o6clUUgORBfkTvEflgwd4skQr43M4TGFg3JnhkhLQAzFYlRoQQD34sZoacG4U27fDGP7uPTOr8PH6epRzk62t88PDTAwAn/VvkKKkb0tPhSpLAKRbgMeMsDBoXAj19HKioqSbDDoiRBRfvAjjW5qYgGec7e1dmZlZmpycHxzk6+jg/WFGpAWKepTZgc4IDUWHteTqVeSG6FsI9fUp1PXn5BAXf6SiIsXPr10kQv5LLK3sgwdB89sikl7/9u1AXh5z8V/yzp3VT5/O9vYm7diBYh1FP/wvRjmpjys2Mfnd0oKEfbSqamVmJicqKnX37tSAgN60tPL/n7uveo5re7qrfKlU8pCqPH1PqVQe8pIaEDOzLLCFliVZlmyZLYMkW2ZmZvuaeRg1whGNmJmZJQstZsrDGrXPHf/yB3xXD7eu7dGcc/bZu3v16tXdN24AEiZ4eTEniBEBABODc8UsJ6CefHRmErduRbquNz29Qy7P3LsX+RhqBglPQwTXaHW1yNg4LzaWZDj0/RR4AbOD/MTSld28SY0PQRLoUOJye/sET8/82FgqUUPtKbQ/y7OzM729Zbduxbu6Vj54MFRSsjgxUf348fpmdJIZGdmpUMwNDaWFhhZdvIg8PWx3kq/v2vIylqXwzJmRysqSy5dRU4tjxmOxSq5c+XP21GB+PlG1C+PjQPGYgYMlIokfJgAAIABJREFUqnv9GtQ3n8OROzgANVY9fJjs749/Qsi4ODEhMjZGuiQzMrLg9Gn08yJWg7qCZOzZQxMaYHpKr1/POXq06MIFmrg3WFCAAiQIphBOxW/ZwmezeWz23M+fKOqtevy4+NKllfl5hZMTX09voqVlrLYWK58aHCw0MhLo6SGRLLe3/1lQ0PjpE87a6uJiyZUrbWLxVEdHm1iMiGd1cRGse/WzZ1WPHiUHBPSmp3coFCITk2Q/P6Wz82Rb23R3d3JAwM+Cgqz9++H5BPr6aKHal5mZuHUrTAG8I2pvhsvLac9n7NkzPzwss7WlrCRcMryI2MyMoGrty5cp27d3yOUjFRWagwfRZAN0DrOnNF4Q1nMgNxcnIt7dvfLBA4qz8RaEhobDpaUjlZVI3MBhDJeWyu3ttW2VuFxAh36NBmPC+zIyQMg1fPgw3d1N9UVpO3fyORzQrTTPZ4PRkA47k5pyNHz8WHzxIoqhtfaE0ZJTc/AgDf6DeAJ+BYEpGKm6168pXCFhR/XjxwT9sbt0jhseHMEGn8MhobK23iEpCXxDsr8/1c4yjza0EdRMUO7gQLUSmXv38lgsAAjmzFC4VWbNT5dKpXRxoUE7kHaTnddOn7xyRQcQSK2tEzw8BPr6tLzYV0xTj64+9W/f8jkchaMjpC1U445EVeqOHbSj4v/IAcMj/HNywHASiL2YIuT8uDjUlgDOYNHJSWBK3W8NLRqIOzltbHZrQmzKbLb1pyipOyVFbm8/0dLSLpXGu7urQ0LaZbKqR4+Y6nYEc8ghVT58SK4UrwGQE6Ru2Y0b8HNdKpWAoadFZi73xImUwEDKLJK8uebZs6WpKR6Ltbq4ONXZ2S6VkpWhEj1K5YIbTPLxad3MMSPkZbawoZ+mz58h9cpndBMrvXpVYm6eEhRU+/Jlkq9vr1otsbQE3QRzhmI+us/hsrIkX18mOQMg2SYSkZ9YmZ9P3LZtrLY268ABMprN376RDgVmOj0iAiPZgWZgy+ZHRuiYEROQEhQEWM1EYMxMcM2LF7h6eng4tEt1jHIRym0XX75MR13blg+ZCIYAuyshAU0cM/fuFZubF8TFKZyd+RxOWlhYX2Zm1v79SODFu7mhXTMiudSgoF+NjQIuF2lFHouVuHWr3MGh5sWL1B075Pb2QO4IcUYqK1sFAgzMKb50CaOCR6urhfr6UIrBAvLY7LzN7ED24cPFly6tr61p9u8XGRnlxsQAI6aFhcFTioyNMTBOoKc3mJdXeOaM0tW1+NIlPoeD4h/Ui8tsbGqePWsVCgvPnUN/rubv36EqEBkbq0NDYaD5XC5sUJKvb9OXLyMVFbnR0SmBgc3fv0+2t6uDg8lJpAQG9mdnl1y9qg4JmR8ernr4MGv/fpwCiYXF6uJiSmDg6sJCsp9fT2qqwtFxdXERuerGz5+z9u+HL8F7ERkb96anazuDcjiT7e1jtbVNX76g27O27YyFhcDAQOXpiZMFl4m0CCmD0nftklpbj9XUTHd1oSd2u0y2ND2dFx0NEqLhwwc+l8vnchs/fxabmqbu2KFNAG+W/SCRPDc0RMpnnDjEhdiWVL9E7WbJ5SOUZDauEhkZdSgUAK+FZ8/WvXnDpKahFSALILezm+ntFZuZVT54ABeb5OOTHxcHgVLGnj1wzPVv3sCJ4gBq+zbn55MRKL9zB/QyCTwXf/0iySqBVyYaZvoeuYPD3wbK9fT8LCxs/vat4PTpn0VFJIuRWlsvjI0VnT+/trxceu0aVmxsc/IEKBydYiGULKM69M8cPxnJBG9vCm9Krl7Ni47GkuoM7v0Nod68mentrXzwAE4UCaDqp0+xMRbGxwno/CwszD1xAqCk6uFDJr0MoEDD0PKio0suXwa0oglXJGpLCwuj9kQf/+///Sc44Jrnz1HjW3TxYmd8vE53EmYeQkuuXr8OdzjZ0aETVkrMzbGxKLCGPAHJA/KpROL3ZWbyudyMiIico0eRBgCzmhoc3JeRQXUd4/X1CQyNAHA0KlsAAEuvXWN2S4bUC+81wdNTZmPDLPKBqZ3s6Kh98QJhHA5S5f37OVFRbSJRckAANHv4+6ILF9qlUoT1QmPjjfX1lfn5dpkMikew6wpHx8StW1ES8KuxEfG0xNyclD5/2+iGhsQRFZ45g6vALUF00MLjaTtguLjQToUrBZ/T/O1bvKsr/F9aWNja8jLKIUAipUdEZEREwH7x2Wy4TKSsym/fBiGvTb0wYAEpUXOPH8dhKL50icq7of6dbGsrv307a98+lYcH0FXVw4fVT57UvHiBZHDptWtVjx9jrSofPFienV1bXtY2zff03NjYWJmbU3l4qLy8MOao9uXLnKNHi86fX5mbW19dVYeEYDjgBqMZLC6EaD5z796+jIyKu3eTtm3LOXpUuCmRTQ4I6ElJgcfNOnCg7q+/fjU2oiMBnGW8mxukvPB2msOHmZoDpbMzyC6wZAne3nwul8dmtwqFQCpDRUUJXl6tAgGfzUZWmwjP0ps380+e7M/OTvL1bZdKkZivffUqNTh4vL4erTMG8/MlFha0Cakl6q/GRh6bnR0VpXB0RB8JkgHyudx+jSbJ1zfZ3z8vNhYUd+2LF3g1IMYbP3zgsVhlt25JbWxKrl4VmZhgz+fFxvampS1OTEAkrzlwIPvw4QGNBqo9XKLm2TN1cDD0TYhIFA4Opdevq4OD+YySmOYfP3KPHWsVCOI3HUZGZGReTAx6RcGR8DmceDc3lYeHzMYGsSaPxZI7OJReu5YZGYlws+H9e7L7AGqglzuVyuonTwrPnGGWBsAJ5Z44QcPsNAcPFsTFCQwMkDNGevhnYaH2bR46hIM2mJfHY7N7UlM75HIIL3A/6EoLVWZeTAy46FahsF+jSdy2rS8zU2BgAJc8UlnJbAmQFhamcHTksdk0Lh09Ikir3yYSQfaxwRjm0yYS6VDQMltb4rpx2JlN7hDqlFy+XH77doKXF0YgAzGvzM9DbgKrwudyZ/r7sc/7s7KI4MFBWJmbW5mbSw4IUG5evfrZs5X5eZWHR6tAAPXZwvi4TlcpHpsNHQyzFGowPx+iNlALmoMHMyMjiQTO2L0b5wUmmlkUmuDlhXb6NFFxqLiYSmkQVJCpgZ9WeXgIjYx0RhTjM5Ct5Bw7huI3dUhI5f37Mhub0Zqa7CNH/vN/+k//kAhYZ8oVDTVrE4u1nXX/3gQ1Y8+eaYZqul0i0ZkRO9PbizfHY7Nzjh1bXVzcYFRkL05MABwl+fq2y2TU3nl1YQEhNbNJZLy7e83z54Vnz+IMtIlEHQoFziHuqvrJE6KREclVPnggsbCgGj4ExzQdASeT2vFoqdT+foG+/mB+PvLHABYCfX0d2QIF9DqUEQWd/dnZxZcvCw0MYJ6YjZH5bDZYRErYVNy/nxwQQB6RwrU2iURqbc3ncIi3UW3ZovL0TNy2bXZwcDA/v+zGjaqHD8dqa8EIic3NcWJ16nopm5AXHT1aXa1wclqZmwM/1vD+PaZMwi/+DkYTE+eGhn4WFk51dmpb7K6taV0F5hPb2hadPy+3t+dzuSIjI1y3X6OJd3PDwpZcvsxE9xJz83aJZKqjo/rpUwyxgE1Ej+L0XbuEBgakJtMcOrQ4MSGxtBzIze1QKPJiYgbz87GG011d6eHhQ6WleTExQgMDtFAGME/w8hIZGQn09PJPnuxQKLKjouLd3RM8PTWHDjV9+TLT11d286bc3h7EckpgYPWTJ2j+0KFQoBQ1/+RJlIeh0S58ZIK3d2pwMKwVXoRWIuTjAwkhEmMYQVF49uxgbm7u8ePoAwVb0/TlS87Rozw2W2xqipqu6qdPEakMl5XVvHwpMjHJi41FSXRedDRMebKfn9DAgM/hjFRUILBI2b4d0UmSj4/U0pLP4YhMTYvOnx/IyVF5evK53OSAAOyx7pQURKgSC4uJ5uZfTU24T4GeXvquXRJLS7m9fcPHjzw2u1et5rHZPBarU6msfvoUNpTP4VDdIDhSzeHDaWFhsN15sbGAQbgEyvC6VCpmqaHYzEw7Yd7ISGRsnOTnh15jVE8hNDQsPH8eygk4FR6LpVP6j9RgSmBg6bVrk+3tAkbE1p+djdwWBD45R48Ol5YuTU9jGyd4eqbt3EmRosjIqPLBg1ahkM/lri0vr8zPA4zyudzCc+dSg4JUHh7TPT0CfX2kaainm9TKCgXoID8FBgbjDQ2aQ4d4bHbF3bsQlkosLAbz8ujEgZWRbc7eAOym58rav7/k8mUem1108aJq88QNFRevr62RNaDxG+kRET2pqRR+kBFgTjSniJm+6rcL9PbG2acSYShmRCYmUiurLpUK2yyecUiZQCEvJmZlfj7e3b340qXFiYm0XbuAD6SM6TgAoMhqpwYFLU9P081jRPdvbt/REQEbpS2Q2x6pqKCybAQVmsOHdeTQ9FDxjOQ0jfH+h1DQ3cnJyFsI9PRAU2ADZTCqgLAF493cpFZWQkPDpq9fy27dSty6FUgZsVdPaurK3NzU5vwGHWaDkgEZe/ZUPniAYBeETF50NHppjZSX42PMeph/+UMZL51Z0ySK7tdoso8cgeFO8PYmUVi8uzsETUm+vr3p6Yu/fiX6+kJrQ0qKVqGQeoGRVhmV43NDQ+0yWcr27dTyicdmj9XWKl1dUxgzTMbr67EmEy0tLXy+zM4OcQmcNFTKeEZk2dUhIbj64sQECB8qsupQKqe7usTm5gWMDIp2d5aWEjkRv2ULxnG3SSRAjniJrUIhMVpMCQPgORFidLAL4uKWpqYkFhYwZxm7dwsNDRs2TwX2ffWzZ4VnzzZ9/bq+upqwdas6OLgrIaFfo5kdGEjw9tYcOgRbRuEOn8NJ9vPry8yU2dquLixQ8JceHr6+ugoczVTOz/T3w9yD/Ztsb0/w8koLCyuIi0vculVz8CDcPB6Qvg11UAiYYHfqXr+e6uyMd3XVzpe0s0MoPFJRkezvLzY1FRoZEWxK8vERGhgI9PRStm/PjIwsv31b7uAAA4GWKQIDA4BIvp6eyMQkLSxspKKiOyWl6MKF5IAAiAmwyC08nkBfvzslBZC0KzFRbGaWHhFREBdXcvVqkq/v4q9fS1NTQiMjNNkviIvjsViF587JHRwE+voTLS0SS0s+lwurVH7njtzOrkOp1Ppmf39mpAILCDBKCT/E3J3x8ckBAXkxMUMlJYnbtmHgGCUs+jWaovPnSTDfoVBoU7BubnmxsSNVVQjRlqamZHZ2KJKROzhUP34M9TV2e1dCQuPHj9Rqm166Tgs2qvOhSjmBvj6VeIrNzISGhmS+kZuU2dpqKyMwiNfVdbqnh8dm/ywsrH/3ruzmTZGxcXdKCjqnwoFpKSsuFw+C5BT8xK/GRomlJThzPptNfC9RU8szMzSLs+7Nm5TAwOSAgOJLlwDpMF4FcGRtaank6tXm798bP37UHD6MKEIdEtL0+XPCZoGszNaWx2YjjJ7u6cHeyIyMBJ9f9fgxVo8JfJkxNzjzdpmMmaKGWRjIyQEgwOJk7tuHOsPFyUmE5kyiWOnsXPvqFTD0/PAwNVRnWoOelBS6itzevuDMmYLTp8E85Rw7VnL1KpPqZ5KdCgcHOPWF8fE0xkVpyOB0Tw8eZCA7u/LBg6wDB8bq6pgF/QM5OcwJwWlhYR0KRcm1a9hXxH5RrKx0daXKdYJi//u//bd/SASMJqV4nTXPn1c/ftz84weztTdxrcyeYR0ymY5jAF+HxEOSnx8lz0cqKkTGxiITk+6UFKSBh8vLwTQyhVfld+7kHj8us7Gpef68XSpl5ir4enq5J07g6CpdXOhlFF++TLn6+jdvkDGqffWKULk6OHhxYqIrIQHlCiBtpnt6knx9yZAp/phNTRpjma1t2s6dZYyqmPmREZihNrG48Nw5PoczXFYmNDIioUTu8eOU9SFRKLMDF3zz0uQkVmCmr6/g9GkULOJsjFZVIRbUHDyojaH19WGPmC4HgHFperrg9Oniy5dJr54RGSk0MhIYGDDfDgAs/MRkW1vWgQMV9+6BmIXVHqmsFDJ6mMCvY20BaUnUPVZTU3zpEhmymZ6e2pcvS65cgS3GOhD9252cvDQ1hfXMjIwE8QvnlH3kSH92Njg9OAN4CGBzlafn6sKCdsBqYGDK9u2g+HR06XiPdX/9Jbezk9rYjFZV0cEWGBhQdYTSyakgLi49PLxNIoH9GiouLrt9G+5c6eysdHbmsdmF584l+fhAI/2zsHB5ZqZdKlW6uo7V1fVnZQ3m5Q2XlfFYrPH6eoG+fnp4OJ/DafjwQeHkNNHS0vztm4DLbXj/HstYef++0MiIfJ7I2LjowgUUtm1sbKCNA9I9IhOTvqyslbk5HouFvwclW3DmzFRHh8zOjnI3pTduaO3aJl6U29svz8zMDg4imqQ0TV5sLKrgaD4rnJzM1rbx0ydsPKmVlcDAID0iQsDl5sXEwBartmxJDw+Pd3dXh4Zi08a7u6uDg0GcCA0Ncf/QxPWo1XjABC8voaEhFrMvIwP+L97dHUaDhnCAkql8+BB/1Bw82CYSiU1NmWmvyfZ2PoeT5OdHotxfTU21r16RwoCOdguf3/LjR+1ff2Xs3t0mFnenpOByUCzD36QEBmJgA5Pb29jYkDs6gl9N8PbGEs0NDYnNzWf7+6kkBjc51dGBkoQ2sfj30Boul1pzjNXVLU5MFJw+TSpr0uqLTU2ZFYwwsDo4uEMuFxoYJPv7Q13/u27C3399bU3h5MTncBROTuST6MYQ/oIJyD95EtQdjYD8l4nexV+/qh4/Tty2DeAbjf8odtdJkPO5XBStYGoWNVBampwsuXq16Px5otk7lMrsI0cq7t5N8vXF9/yZM04LC+Oz2fOjo3J7e2YtDIXyYjMzbIPejAx4XGBZpl4HtRtw5KNVVf+ECJhZJc3ErQJ9fToVwJhpoaFIvSBQ1mY7xOL08PDFX7/4enqoJcBYmKXp6URvbzg2SpiN1dUNFRXlnjgBOE++RB0SwmOxKN+jBct8Po4cDvPs30nyXrUa/gD/ujA2BjBLh2e0poacATGi9W/fItuNjw0VF5Npg+pqqLAQQlbaW/ifxo8fiy5cyIuJgTyy5sULEkMiDFU6O+skemEcEQoXnj/f+PlzdlQUpBlM6Acboa1FZvTQYObR4YR4bHbJlSsL4+Pokwyr0fTlC2L65m/fIKthDgrEyiMhh+/sTUvr12i6k5OXJidhL1r4fDJPCDqJEle6uvJYLFRbNf/4UfvypYDLhWed7u5Gk9Gpjo4EL6++zExSLSLKqfvrLz6Xq3R2ztkcQdiXkSEyNiY7gl2EaKDi3r3R6uoELy8+lwv+MC0sLH3XrtqXLxs/f1aHhLRLpVn79zNtCro0T3d30y7FbbcKBFD5wiFNdXbCKHcnJU22tSV4e+N4D+bnU1izMDaW7O8vMjXFrsg5dkxoYJDo7Y1pg7hJ7fhSA4PiS5cIsqByA4NOwRAoHB0L4uIydu+u++svkYkJGbU2kSgtLAy4DautOXQofdcuPpfbk5qaFxurnUDFZs/09uKF1r58OV5f3yoUdiUkwAEUX7rUwucneHrOj4ygtD0tLAwduxK8vQdyclKCguT29gpHR5GxMbkH4CRKIRVttpb8cxRYalBQp0qlcHSEREOAoHYTpKIXcd1mgZ/U2hpNKNeWl5ltlcSmprUvXiAqwisQmZjkREUhff4n89kulRbExam2bFldWOBzOOkREcwKUW1gzWarN2FEm0hE9gT2CkdsuKysXSaTWFgwA1wwwFTLxJQOkRyXGuf9TRW1SQ7Fu7vTgBbmzMGmL18qGE+N+5zs6ECyk7JdpDGkFsqd8fEwFNVPn+adPJkaHAxpmHrnTszzYDJS1HpMamVVcuWKxNISXYzE5uZU45sSFISgqPL+fYmFBdOF46wl+fpS/MBjs6XW1swHgQkFq0+RJRKuZIIklpZI6/amp1c/fZqwaZegYtFB7VgNsp/tEkn106e04GJTU5W7e/aRIxJLy4zdu9dWVhK3bWNqvNvEYkSDeBAkfaB7mGxrK754caqriwiDf4IDRuoI7o3HYtG712nq+zc6+u9tS8HMoOhTp8M4HRKli8vs4CBBWqWLS/GmZrjp69fKhw9FxsZ0rn4LqTa3OCVifxYVKRwdhYzWknSJBG/voZISrRL77xEtj8WC0URpaYKXF1KnTV++MLMOAgODJF/f5IAA4j0aPnwou3mzLyODOeSSmT8WGhquzM0JjYwoGYNjvEQtrhgF03QzpNrALQ3m52ft25cXHV1y9WrRhQuw2gPZ2fmnThFgJy5hrLYWQKf6yRMwDRTiwOTJ7Oyg5EqPiMBLjHdzU7q6DubnU05IoK9f/+5dSmCgxNKSSfgPFRWNVlcj9UIabOoiwudwGj9+5LHZIC34XO7PwsKRioqaZ88SvLxKr18HsNXOm2OzQYr2azSrCwsSC4ve9HQ+lwv9yEhFxXRXV+HZs5mRkXg1MBbU3gRJO2IO0OZ+ctMu4PMZu3cL9PVTAgJQOZodFdX05Uvqjh2I+wE7YLwIRixNT8vt7Zu/fUsJCoJ1nh8ZGW9o4HM4xRcvau9EpcKuAImHJ1qenoZxlFhaikxM4t3cii5cmOrsXJ6drXnxgvRc6tDQxK1b0QcK6r+00FDN4cMtPB5amfK5XLDT8e7uSldX4gmWpqfVoaGJ27aVXL2atX9/XmysxNISMou616+xDXB7oOuLL15EiVfO0aNzQ0NiU1Ocyp7U1ARvb+QdpJaWKQEBTIRdePaszNZWp/iy4d075vAZgb5+05cv7RKJxMICqRC8UNhQCOLUISFINMjt7fuzs7MOHMiLjiYRAF9PDxctPHMGVEfDu3eaQ4c0hw4tz8xIra2ZQB8nUWRiojl8mJCfjpNGfTAeEBZZc/AgVgP93WBY0G2xTSxWubvPj4wINm8j2d9/prcX7OhATg4z/FK6uo5UVAj09EbKy+dHRiiRVHrtWsW9e1DeKl1cmr58IY+SuXdv7vHjE62tGZGRzd++UQU8SGxC4X1ZWQWnT3fGx6cEBTEnl4MQTvbzA0T707pixXC0Ueo21dUFPc3GZn8hLd9rZbWxsbE8O0uDmevevFlbWtJ2/N5kg0HOA++mhYXlnjiB9CKPzUYKjNlSG+GHlhd0cqJsN1NQzRTKAeOSR+CxWFQWleTjgwgKxJXIxKT5+/c/iwlJJr26tLS6uEiUeDGjqCT/5Mne9PTy27dpJetevx4uLf3nlCExwyZiq/4kMcpv34ZdXmAgpu6kpMLNTkYlV64wi46wn5gajY2/D85kai60TpchZk7y85NaWRGpgrJRdXAwDnAdo9tG5YMHzC4t1U+ejNXWAofqDDnAJTIjI8cbGqAWSfD0RFyLQhGBvj4yH20SSUpgIK61PDubc/SoytNzY32dSHgwIUAwJHdampyEaGJteVlqZbW+vp4dFTU/MlJ04QKAXv3bt8n+/uMNDSkBAZS3E+jrl1y9ilovWtuWHz/KbtzA2cs/eXJ5elpoYNAmEs0ODuKMNX//Hu/mJjI2bpdIUrZvz9q7F11HYGt61WqxqWnhuXPaWcWbSk6BgYHI2JiaOTOpJ7xxyqyLzczgtzAkA6cuwcsLmX6YSwLdxRcvZh89SooSiFNIRjFcWooZTQhHtAqmO3fWlpYa3r9fmZvDoEAiRRSbYmDUIcz290OdtzQ5+auxserxYyw7wp1MBqOAKqCsfftgfLHmkLMBzq/MzOSeODHT21ty5YrIxGS4ogJ62mR//6ILF3hsttzOrjctTWpjI7Wyqnn+vO7165pnz3DyO+Rykamp5tAhPpebEhhYcPp06fXrAn391aUlXK6Fx2v+8UNkbFx6/XpeTEzR+fNDxcUKR0d1aGi8u3uSr2/arl20AngRhOR4bHbdX3+Rv4RRG8jJwbsuPHs2LSys7MYNmo6A71ldWmr89ElsZibQ18eIpOJLl/JOnhytrm7h8xO8vGB5pzo6sKulVlbFFy8C0WJqRcXdu/Hu7sn+/qXXruXFxhadP49wvOjcOSCAgezsteVlkYmJ5uBBoaGh0MBAoK+fuG0bUh59WVnN375Rhc/QpnwhPTy8IC5OaGRUcPp0gpdXr1oNT4C3IDYzK4iLy4uNXRgfb/jwAZWN6PSkPUdTUxV376I8T+HoWPvqFbNcHqukDg0FigKqAxcy0dKCMLThw4eMyEi0RkHg2CoQyO3tAaSSAwL4HA7V6GPfooIIbCePxRqtqgIUy9q3j4n480+e5HM4TD45+8iRjN27MyIiFE5OELTSWJemL180hw7BFcnt7fNiYrD5VR4e1CUQ4n+Bvj6gP/B909evs/39nUpl+e3bKHEsuXIFrwZ0XdHFizw2W2RiMlZbi7bPhML/rLxAO6OyW7eYTaqZTm5pepoiS4ziJvqXuIH82FiBnt7c0BD6q5M6bH11tZExyikzMrL25UuEGQtjY5rDh/lcLqlWYVGhLpTb2xedP4+3QO832d9fc/BgIaM73m/HNDgoNjMrPHcOJKL1//gf/wQHXPX4cV5MzEBuLvRpwFPMBU3285NaWzPjNi1ntWPHTF/f4uRk0cWL88PDMHZCQ8Pe9PTGjx9J49P87RszGZm5bx90PWJTU3j6lKAgpitK3bEDVC1TLs9jsVbm54vOnYM9Kr99G+leQAd1aCi5jcx9+5h90aZ7eiofPEjbubM7OZkpQ6CfvoyMqkePErduRR5Uu+c8PHCHK3NzY3V1CEB/NTbibMNewFsMFRdXPnzY9OVLyZUrQA9Vjx7h15WurrknTugMX9ORM5AaRWRsTEdaam0ttbYuungRyGBlfp7GgNAv/j4VJ0/ClSIOAGouvnSJkoITra3a8embhUngCdpEIng1ibn5b7m1pydynOgPDKFsT2oqU+PD1LDgpbfweNM9PdTQDvZRaGhY9eiRtqWAiQmwLbLjWhaXxerLzFyemflZVIQBw3gLIBfLAAAgAElEQVRf1c+ezQ4MoPeN3N5e7uhYdutWvLs7lWD2pKTIbG3J6Me7ucEZZB85Unr9OrA/lUakBAVhm6Xt3MnncsGvYsXaRCJmEz5CD+nh4aBwe9VqqbW13N4+2c8vLzp6eXq68t69wfz88fp61DXSCkCB36/RdMjl6eHhwIJJvr4Y8sjcA5qDB0erqxF2dKlUGMeUFhpa9ehRgqen0sVleXp6bXm57s2b5ZkZoZFRSlBQ+a1bHQrFUEkJ5KDQBhI+hjJLYmnZlZhYcuVK/qlTSK43vH/PY7PTw8NFxsb01vhcrszWNj08HCW5v5qaqp8+xdtXeXg0vHuH6ZlCI6Opzs6hoqLCs2cXxsbGamrgs3OOHhWZmBSePdudlFT/9m3+ZirnV2NjyvbtKUFBoGdqX74cLisDucJjswX6+iuzswTICuLimr9/V23ZUvfmTeHZs8ATVLWPnp1E8iMipOBYc/Agj8XCr5TeuMEsr4cbBtycHRhoePeOx2YTm0UQmWJfCrVpGgFT1DnT2xvv6io2NUXxEg7+TE9Pw8ePPwsLZ/r6YGR0Jn4y82jgD4gb+7PGZrCgAImhsps3K+7fZ4qM5A4OOEQSc3MmRP5ZVIQvRGsE4nVp9ZihEZY6bedO4uGULi44gCQvJfvD53BA5EBsSD+0JlSrgp3Qo1Zn7N4NapoZjDV8/Jjs74+ol1TueCkKJ6fErVvH6uoaP36kupXfkfdme04txbWp1kaow6yGpZ/If8A0JKo7ZA6jJjZmoqWFzjn1Y6LTgiiHeBsYvpTt29eWl6e7ulK2bx+rqWEOdh6rq0vctu1XU9MEg0sk5XPDhw8Vd+5o/i51A72Zc/Qo6et61WqddlG/Ad3Fi2BHZTY2eGGg+DSHD8frdFkjaZK1NXKEzIO0trKSf/JkT2pqd1KSOiSEyFjgkqHiYkhgdFh6sPfAB/MjI5mRkXBabSIR1UVk7N49XFoKW5C1f39qUJA6JASIu/DsWehcmAOrAQwb3r+H9xLo6+OAoYhwZW4OuT0IL5N8fHB4KHnMrMZWurhQUpOZxS+5epXP4ag8PCBNYjadkdnZET0FC4gvxCdrX7zAvzJ3Dvjw9IiIxs+fh8vKGj58QJadIhs4e3odmXv3wgTkxcZKra2LL14cLisbLiuj8Y7tUunaykqCl1eHUjlSXl73+rU6NLRNJKJIUWJuLjI2Fujp9aanw63K7e2J6ZLZ2eGWlK6u8e7uRefO4XLN37/zuVyJpWX1kyd8DiczMjIzMnJtaQlWdXZgYLi8HK+48fPnXrWaz2ZXPX4Mq83jcJQuLjI7u/TwcGh8NjYHxacEBopMTcdqasRmZhJLS6GhYcnly2U3b/JYLLmjY1pYWHp4OLZNr1qNR+CxWEivFp0/T6LT7CNHMHsAqoskHx+ptXX57ds5x45py9u4XAQB3amp+LzQyIgiKpGxMbgK5HonWlraxWJgTUxSQk25trNuejqybphYtbGx0ZWUNF5fP9nWRtR0y48fc0NDAHA45mU3byJkQcsdzBtN37WrLzMTRUpye3s8Tvnt29RjIT08nFxm1ePHzMYUOt5Rm30PCqLturqwsDgxkXXgwPLMjE4wgFGnucePy+zsIAoRGhoyhZCAxcysUF5sbMHp06mb4Eygr49TSeWU2YcPk/Nu+vqV1ha+hLjQjD17gAtLrlwBbhDo6Y3X1c0PD1MMWvfXXwpHR7wOpoiVWvdUP3mCUz/AcEIImhHs8tjsJD+/jN27mZIuJqpbGBtr4fFqX71KDQpi0vKA6eV37lQ9eiQxN2cWa1CwO1RcrNVzbXplSvxTF0liZYDVKCPwJwTRAohN0ECLAIO8MjdHKfkularuzRsqDCOZTsmVK8szM9QKKTMysj8rS2hoSFeMd3MDrv0nUNDlt28XxMU1vH//q6kJB+ZflhIR/uqQyZhCREKLzD+SGrD66dMELy/Vli0SS0tm80Uk5wvi4oovXWJSxDXPn7f8+IGqIcy829icP7++ugofgM/j24RGRhOtrdWPH7dLpXTAkBv71dhIPdLQ4oDPZldtgjjoXCizUnr9etHfGQ+pldWvxkZmp1OxuTniWjQY2tjYGG9ooLl7ZTdv8vX0dKZa/gvkGxq6PD3dm5bWk5KCUKz+zZskX18009fCvV274GIVTk6Ud8H5nxsawtpqDh1idkvoTU+n4P5XY6PKw2N2cLDywQOls3PBmTNjtbXzw8Ogm7KjoiQWFlUPHwr09ICNal68SN+1KyUwMHHbtoLTpyvu3dNOd96MmWb6+hK3bs2IiECoJ7G0zNy7F5QGEgQ0Bg4tC3pSUxcnJlQeHtlHjiC2kNnawuuA49IGcJjLFhS0sbEx9/Nn5r599OH5oSF4zdXFxZTt2wnooO0U4uncEyfwDdh7yX5+EJIAFA5kZwsNDIBaoFyFWJqqNhHQSK2sxGZmPBZrbWUl98SJ8tu3RcbGKg+PnKNHURSEZCeqw3lsNlpK8Visirt3Zba22hFP4eGqLVv4XK7QyKj+7dvB/Py0sDD44+bv32d6exHoD5eVxbu750VHJ/n6Vj99mrVv39zQkNzeXmZri40t0NPjc7mAtgvj40jkU5SPQyqxshIaGeHzMhub/JMnx2pqWng8SK8pT8lsM1T1+DE03lNdXTTibH54WGRsDN01QADMYum1a9DETjQ3JwcESCwskG2dbG/vz8pCaQp9s8TcXGRiwqxihw+jQ8FsyraxsVFw9mzN8+fkdDuUSoAziaXldHd3gpcXj81OCwvTHD4McislMJB4OBJXZh04kBIYyLxou0SCvLjOoHEduQb6SPRlZjZ+/kz9H1YXF6F8HMjJydy7F1aFOUeZemsQ48Vs1vhnYP2bHNq3D3C24cMHwsGT7e3xbm48FguIHKkTGC4Ei5UPH5Zeu7a+vs7s77i2tKTTixF8D1q20f386Vy7k5JEJiZtIlGrUDhYUKDVn8bGZu3fTzV4aTt35sXE1L5+3fDx49zPn1iu7CNHCDP9amzElsA50hw6NFRSkrZzJ8izteVlctJiMzOgW3gQPperdHX91dTEnNOKr2oViWpevAB0+1uwcfFi87dvOPvMMq3Khw+VLi5w0kgsAl4Y/Pf//h/eAUOZyQwiKS8CXCw0MkJWo10q1VETUNHRn/qpP7lW1FcwNVydKhXM0wYN4sb4nc15QUJDQ5p4z0SdG3/0optobR3IzRXo6y+MjUksLCTm5tBIk73IP3VKbm+PYGV5ZkZkYhLv6krDSpETYiZ1CPvTI2BZBvPzKSEKyQnSS/RQtS9fVj540PzjB7YaLS+zMw4VHf7meVAYvalspGQ2TDzzaNHbmWhpydizBzNkqNQSS1T78iXuqujChdWlJVwub3P9ifNI27mzX6Mh1UPGnj0CPb2pzk6RsfFQcXFqUFDjp0/auiA3N4mFBUHdinv3mDpPWMO+zMzCM2e6k5IAdyaam7OPHKH6TkRyFNwzQ3O5vT25mfRduxo/fqy8f1/p7KzcbLVRfudOXnR046dPhWfOIIBI8vFReXqiyAdmsS8ri14BaT6pwzMKPDSHDg2Xl4vNzKRWVlRSKTY1FRkb8zmcksuXJZaWeTExKYGBGRERTAEE3Hbazp3FFy4kens3ff1a++oVwrKiCxeERkY1L16AoYl3c0sOCEBokrZzZ1dCgoTRvkBmZzeYn68OCUE7PVTVK5ycmj5/rn/3DozleEND8aVLcgeHhvfvs48c0SHrIEkjklCgr5+1fz80NWm7dhWdP5+yfXvJ1aszfX2wYmU3bwL9aKNtNhvTu7VbqLkZ/g9Llx4RQQH67MBAQVzcUEkJYCL2TLtUWn7nDtlNEo5A1oRf5HM4yBzJ7eygisd/FU5OKPdPZWx+gb5+ekSEQF9/MC9vpqdHYGBAVCpOhFb4Zm4OZRAgV/7Jk8Dx2JBM1jdjz57VhQXi25ESGm9ogNx9dWmJdJ14X8jET7a2AhSS1rJdKuWx2fHu7l0q1WBBgdTKSmhkVBAXx+STsYxic/PsI0eYkWLWvn1pO3fyWKxEHx8gHmTcEry8mKC58uHDwYICDF4Tm5pWP30qd3BgzlQY3uyLQPEuok/KLtPPQG6uysODKb4hAklLzlVVgYLKP3WKz+HwuVyJmRkUFcwrEs+sOXgQewx0go6C7HeHkM1/1c4Mrq/H73YnJ8Nb0/GX29tTkuvPahEtqhgawjcwVUEEvsdqa2nbN3/7huKrf9Q8YFDtjZ8/g95J8PJC4WzNs2eUi03w8pJaWcHvqjw9kTGlcziYl0dDipgqR5h+CWPcECxa+Z07Qka7ZpJf4VyJjI1Hq6vzYmLwFknrCxuEP4KZ6c/KKrt5My8mhkwwtDnLMzMgq5Hp+ZdZhL7MzNGaGvgtKvJLDggou3lzIDcXtUxUc0l3jk/iHij0TAkKGi4tFZuZJXh5ER0qtbLS5oNdXJhZ7Zrnz/NjY4Fk1SEh5GL7NZq616/Bnv2ZPEahLXFHOceP8zkcoE4afowf3GHptWtAFcOlpbjb7CNHRCYmdFYB8KsePy5lzFoXGhhQ1Qr6yelE9jwWC6IPWOe5oaHmb99gOvs1mpYfPyru3q188KD52zeBvn7tq1c6bfmk1tbw2ToS8cbPn+EUJRYW0z0962tr2IGgW5TOzkASTHUCWBmJuXnG7t1YLrG5udDQcCAnR3PwYHp4uNzBAduJx2I1fvoks7XF0UXCqS8jA95aZmsb7+4uNjUdzMurf/s2JTBwfngYKzbZ3r48M5Po7V1286bCyUlqZTXV1SU0MuKz2Qhlii9fpk57zd++TXd3S62sEOJILCxQy7g8OwvowGOz0QgJCQulm1tGRETuiRNdKhUGck+0tpZeuyY0NEwPD8+MjIR3yT95EhuvU6VK27UrLzoaYiiRqWl3cjLkLcjd5J86xedyFY6O62tr8W5uSX5+wDpwwGU3by5NTfWq1cUXL47W1GTs3o1tM15fn7h1a9mNG9ifzLE8oA1XGdUNc0NDyX5+zB7jSX5+FOnKbG0BiTL37qXmGChRJaaEaJ6CuDi8DqbzwBAkJLw6FAr0oCD4CBhHcqGMPXtahUKcU2pH3KNWr8zNiYyNxxsaal68yIuNBf7Lj43VHDw41dFReOaMwskJlx6prBSbmWENVR4e4JxgQCjryQQ9QMDAyuCE1KGheTExWQcO1L54QTVU1U+fFl+6pHR1xU6ApKj+3Tuxmdn62hppp9PDw/FVhWfOdMjlABagwakL7G+XvLlKVY8eUUUJNjAwx6/GxloGR010OsoEJJaWTKpyuqenKzFRp+FSenj4n0UuTASp2rKF+H9SmRCRTrjqt8mqqWEm+IHkSG9Fdzjb37+6tARGhBn95zLy+urgYGTrQN0JDQz+IQ4468ABojpRD76xWZOKjn2kSmdCVwAoWEPIZ8Zqa+Pd3GQ2Njry+pX5eYSz2sB3swF67vHjwOCqLVtoqANa2zPjJMKzVEsHP0SJ1bXlZZDVcOH4GJgZgYEBDTapefGi8Ny5nKNHKbgpv317rKYmLzq6+ft3ma0txA4wE4hcBwsKetPT0SmMctXY4kkMMaGuVvzWLWwsCtnF5uY1z55hG2knkhoZ0QdGa2pSd+yAq6t/946GfKFvJXr9DOTkNH3+LLOzk9nYCPT0UoOC8mJjCbCXXr+OozVSXj7T27u6tCS1sgJSGSopAYuAcD/n2LGMiIiCU6eoMUjFvXvwH4nbtgEHQPBFRNxIRUWnSoVQSbVlC4IAPpeb5OuLlmHq0NDe9PTR6moE/cl+fgonp8H8fJxPiYXFUFGRNku6iWeT/f2TAwL6s7PlDg5zP39m7t3L53IH8/KoLTau0qVS9WVkkCXisVhKF5culSp5U51OcT+fyyVHW//2rczODsWOcnt74ugG8/NFRkYI4KhQTR0aCo/IZ7PzoqNB3hIUK7lypfLhw7Jbt3gsFsL0zH37+BwO2lcRqhObmQmNjUE5TrS05ERFIVZTh4bKbG3bJRKBvr6Ay0WisfDsWcz7U7q6yh0dZ3p7x2prZXZ2k+3teGokEdShofVv34KfrLx/n0Y80THBa0rw9taKmPT1R6urKY2Hfbi6uJi4devixAQtl7ZtloVFC48H203AdO7nz+wjR3pSUvhcLg5UX0bGVGfnQE7O6sJCb0aG3NERBrT89m3YdKWrKwhnSrqrQ0KmOjup/o3o3wRvb528lTo4uJlBQeFQ8Nlsub09JVzXV1cXx8dnBwZwlfq3bxFTiv6oPcWxXVtZafnxA9PBmdIEulBBXJzc3n55dvZXU1Ph2bPrq6vMEPB3cW1gIKl2EaeqQ0Mz9uwB7GiXStUhIb+amztVqrq//iq9dq3k6tWKe/d02vHCYDL7xgB11bx4MVpTwySBmDUIZGYTvL2BR9N27cIRxulYW16G8ZkbGqLWPfBJxERCykD3Q0kBHZi+sTm+CYFT0YUL1INvY7MvPRAYZUPQ9w0alIlN6XULj9cukyUHBGCejdjcnMlQMie98lgsar3ATGdgC43V1uKRma3xErdtA7ZO9PamPCN+ov/X//qHRMCagwfhvWgLqrZsgTYEbBtzzEi/RoMCst+jAEtL03ftwqlL8vUlBTm8AlwOpd9+B1tsdr9GA+ito+zV9hLa7Ffe9OULU5uHr2IqiSh0rn31ilIR8yMjtMuRqgF2m+7pgZ0CTwu6A4gSRg0unFkeJ7W2Ljh9uvn799wTJxK8vXGQpru6RCYmJVeuLIyOUijf9O2bDjBcW1nRHDy4PDuLkp7iixcr7t4tuXpVbG4O+pdEmJ2bVbDUkQNFdX1ZWUUXLgD0ZEZGEofMY7Hwl+heVP3kiQ4DEe/unnvsWPnt29j0iBvo/CxNTlKmp+71a+bwKOYKJAcE/CwsxMqQB9VmCltacM47FAqZjQ1CkOnubj6XCw4fHyMjmBYWluTrm+Dtvb6+nuDlhWQ/WrHXvnyZ4OnZl5FR+eCBwtkZW4ioaTxy8/fvqNSC6Cz3xImi8+fj3d0llpazAwMyGxuJuXnzt2/N378Dw4EMHyourrh7F0XMYGtKLl+uf/eOx2ZjwQtOn4ap0sbf5ubZUVESS0u5g0NKQEDW/v1SK6vU7dsnWluR/eXr6c0NDUFAEO/ikrJ9e05UVI9aDYExthbo8X6NBinPZH9/9J6UmJsLDQ2FhoZSa2vSQyicnLQthzgckbExUmgtfD4mGPI5HM2RI3wOJ//kyYq7d+GGR6uqck+c4LFYmfv2kXquR62mmQEUSWCW31RX10RLC5WgKBwchEZGBOB4LNbK3Bz27crCAly+OiREaGjY9OWLQE+Pz2YXX7rUsCnXALzIjY7uy8gAMZB95AgCoNWlJSpUbfryRVsCB+kfn98qEECq9rOwkM/lQlJE4zXBUcOqiE1N4YZpjHdKUFDZzZsiIyOssObQIT6Hk+DpKTQ0nOro6EpM/JfpWLmdXf6pU9rhPKOjOnNZNhiDYZg/FXfvLv76RaHCnz+I4Mtv3WqXSDL37VM4OdFehTAYvF27XN6rVjNbi/DYbJROJXh7IyPDjHTXlpdJVpl7/DjWGWZqY7P5CQXoKLX/nRi6e5fZSwQu+V8ODwb6TNm+HQFAsr9/u0QS7+7eoVA0b6beyBPDes+PjgIENHz4QGYZBF7JlStUWk0Ocm5oqPHjR7o3bAnKdoFD7U1La/jwgTkTJSUwcCAnh6kbwBcqGMw/bC8g8pH/+T//CQ6YyTnknjixNDVF1Tgz/f0dCgWYQHVwsMjIaGFsTGRszMyQtUulEkvLf1lhPVpV1SYWo36XWnygIcPS1NT/LxkA0Wx6RETV48c9qanD5eX1b99SUhavh9l8HBQxMrJgNdvEYmZ+l8/hUKmozNYW56pTqVS6uDBZpo3NnqtAIUoXF7m9PTK+UEjxWCyYY1JowxbojEAAT5Vz9KjM2jrZ37/89u0WHo/Z1zPezQ0ZJmZKjMdiIewAr8Xsm8pjsaqfPFE4OYFRB3+LrZm4davU2hoom8hw4MeOTQivDg7uy8j4XWCqr5914AAZ03hXV83hw83fv8NVaHv3GxgAZSudnfHlAj29qocPc44eHS4rW56eRjdsmLy82FjkF+gGgHnh1XDYhsvKmOcqLSxMZmeHBwHY0vZ2trbmsVhCQ0P87vLMDOzvUHFxgrc32j5QlBDv7k62CYuW6OOTc+zYr6YmqZVV2a1bsC8AFkuTk0l+fmvLy9i61U+fNrx/P9XRoXR1TQ0OFujrj9XV4f5rX77ksdn5J0/y9fQwngFuTO7g8LOwsFetLr12bbisDOHdZFub0Mio+MKFzvj4mhcvwDGqtmyRWlsn+/un7tiRf+qU2MRkvKEBh0hiaSmzsYl3cxObmSFTqPLyUgcHF5w5Q0wPGTg+m40Ahc/hCA0M1KGhEA8KjYxU7u7EM8FWCg0Ns48cwTIqXV2zjxzhczg0om6ipWVhfFxkbJy2c2dmZKTQyEhkYkIkR79GIzI2Lrlyhc/l8jaJCoG+vsLRcaqzc7SyEqqIlKCgzvh4lYcHj8XC9ptsaxMZG6Mu5VdTkzokBEOI03ftGiouRh6X9FO1L1/SdJPKBw8Kz5wRGBjUPH9e8+zZytwcwDHGdQBWTnV2Kpycym7dyj95UuHsXPf6NTm5NrG44u7d5IAAdXBwxu7dlIwcraoieIp9uzI/z6ximOnthblDVJdz7Bh1sRabm6tDQgays5u/fUvw8kry9QXxXhAXJ7OzIz0mlDEyGxu5vX31kyc4azp1Gcj7yGxt00JDwT8LDAyavnypf/u27NYtHY6XvFc9o7HBeEMDiWEXxsehi4QAE2hSVx6bn48NiacmETIccE9qav27dyWXLycyRsv0bWoLetPS2kQigYFB1ePHEy0tNFER5lRkZAR/T+rllMBAHM+MPXuavn6FWora9QCUA8EzpyQxf4BOCP3nHj/e8P496juQLKBtSXZbO/Z7bAzXBXnzT6Cgh8vKso8cAUYDJ8CEJKXXrnUoFNSFlTlCC7TG6uIikiJZ+/djkk/z9+9UW0ZyaOKUNjY2sg8fpizC/PAwwiywGRPNzTDKcE5M5EjQkmK7/E27Tz903eqnT6sePaq8f5+Sc8yXStur5OrVxK1bF8bHpdbWABACPT2dOqgNZrXA06d8LpeUApqDB4s3OQCcz5IrV7KjojJ27y6Ii9NWdDA6uGJrymxsKONb8+xZdlQU/r7y4UMwLThspHRYXVgAPwm/JTQ0JO699tUrsqFlt24hkiBjhHg3cds2sHM1L15AmoE1kVhYlN24keDpCWMh0NMjbplpsPBylc7OvenpBXFxlN1peP8eMAVNX8HijlRWMttyQZIuMjIquXoVNh3dKwtOn9Zqqfz8Sq5eTd2xAw+LKixkPdtlMoJNfA6HCkI0Bw/y2GxMa5BaW1c9elR286bC0VHh6Fh07hx80mhVFV7H+uoqn81OCwuDZ9UpPax/8waPkBoUBIaAjGzF3bvUPQ22tV0qBZwH7xLv5qYOCRmvqxObmSEWn2xtlVpbq4ODfxYWAqLh1ZTdvAlqLj08HO+3/s2bmufPS65erXr0KN7VNS86mho/dalUeNLUHTvmh4dVnp6ri4u50dEN799T5lvu4CC1tgaqUDg64tHSwsJSg4I6lUqQkIix8mJjO+TyogsXBFwusEjl/fvwYfDrmfv2IWzFAZdaW6ft2sVns5G1Sfb1JbZQZmtb8+JFenh47okTJAPksdlye3tUFkAvqd78p5m+PsyTICIXmKnm+XOFs7PC0ZE6Zf4sKkr29wc7neDtrXJ3h7mId3eH9QC31KtWg2JVh4aObqIKgrP1b9/WPH9eduMG+bb19XXsyRY+H2ZEbGaG8nqthEIuT/LxoRZ7ShcXdUgIKAEK4+Blf9dovHypOXAgPTwcsw5bfvwQmZjABFXcv1/95Em7VIrsWObevSmBgVions35VAIDA3Tb4OvpUbgy298/09c3XFZGalNQ4jpZPDhpeKz0iAia3EcDyjb+PvSCtkr24cNpYWGU4V6ZmxutqZkfGenPypru6lqemSk8c4a4+p7NJlYb6L1//DiziLQvM1MdEkIsd/XTp9o2Z4xmgr8aG2mFRyors6Oimr9/R659Y7NtNUXw2VFRBKB/s5s2Nk1fv4L9Hi4rY9aI/iwqwjp0xMfDhf/7f/kv/xAK+nc28e/kO/2/ztA6ZCsb3r8HX4SarZpnz+BNsV7wPalBQWIzM7G5uXbArbOzTnhHzkan8VZnfPz8yAixslJra1j/3vR0HpudffjwVGfn0tQUzUXQuT1U3ZBnpUML40gIUaCn9zvpu76Ovb6+tkaU+0h5Ofw6uhISi4LuCiSARCCbe+IEgVMAOqWrK6pU6cZIRE1abvwr3F7927f4KqqmWFteBl4BNJnq7Gz89An4PWP3bqZeJt7dPefYMZmNTXZUFOydTomezNaWSgJgATWHD9duoquSq1dhMpAHReCicHLSLsX6Op/DIR+WGhwMellqY9P48aPSxSX32LH1tbXx+vrMyMj11dUkPz/0FqZMRHZUlNzefmFsLCUoqPz27ZX5ecoR8tlsJlRi1krilY1WVbUKhQM5OY2fPiHs/llUxBT1tPD5zP2DR8D3gM9HuKk5cCBr3z6UHvFYrNzjx7MPH+5NS1uanKy4d09z4ACfzUYuZnl2ltZKoK8P6Al7h9YES5uTrH4WFqpDQoDQ82JiKu/f70lNxQ6nJgbo+8Zjs1t4PIDL+rdv8Ss8FqtLpSq9di33+HGxuXnF/ftooIHbljs65kVHj1RU8FgskYlJ/smT+SdPyqytGz99AgmEWi90GlK6ukJFJbW2HiwooJ6CfZmZMhubn4WFNS9eNP/4UXrtWs7Ro4BrZBPBxFItEwpm1paXMaNCbGqaFham2rIFQWG8u/vy9HSCtzfWmc/lik1NK+7d69doBPr6zEGlOUePZu3fT7hN7jjMTUMAACAASURBVOAAXIL1lFhagiyh6IpG9SV6eytdXCiLiRoKDOkj6wEBkdDISGxujmyudtqSnh4CstTgYOKraJ9vbM5HgTkqv3ULh3qsrg4ED1PwhTBjfmQkJTAQyLgvK4uy5jXPnwv09Opev0adSHJAwHBpafmdO0zNGrN5Dvl+SleRg1c4O2cfObK6uNihVFIOK//kSZWnZ+Efk9DwN6TJWltZgcNGeztgOAxfYSZTyUNTu+yqx4+XZ2ebv32b6e0tPHt2bmiI2V6Qx2LN/fxZ9+aNQE9PoK/PxCLMpDWNKZwfHkb8Sp9Mj4gYqahgdueGlYNBgAwFXgaQery+fn11FaeMWZ7DpFexc/Dff0IEnB4RgYiwXSpt4fMr798X6OtLrayIeRPo66/Mz+efOpW5d6+WCfHxKbt5s/L+fSj+G96/BwmM5AoQELNDd/2bNwpHx5xjx5i7Ifvw4ZyoKCSBhIaGdX/9JTYzQ8RTfusWKSOYFY0Lo6MjFRV/Vo8B3CGTmhMVxZRCIKrLP3WKuhHBfJPdERkb44Z5bHZ6RITMzo7wILMcEM8FN9+hUHQnJSVu20ZIGd9APp5aIzV/+0ZCX83hwwleXqk7diT7+/M5nJSgoPp378rv3JFaW4tNTUsuX4bhi3dzS/b3h1vty8hIDw8XmZg0//ixPD3N53B+NTbC67TLZBOtretra3/CXubjSywsck+caJfJ0iMiUNXQwuOtLi1BcPirqUnbIjs0lClH14anvr6An3wuV6Cv3/D+/XhDw0Rra1pYWOn16xX37uHkIBSDMyAYh4R9zbNnKUFBEgsLtCPty8rqTU+nlYcDaP7+Hd0WK+7do44/cgeHhg8fkvz8Si5fRuSXfeSITsfa1B07ZDY2mXv3avv9+vkhX8hjs5P9/UcrK1ODg+NdXUXGxipPz/xTp+rfvhUaGs4PDytdXIQGBhILi4Xx8SRf37XlZaSdRior1SEhyDFTaMXncAbz80l8nuTrmxkZmRocjKeu++uvvJiYnKNHC8+eTfDy6k1LE+jp0aTqgdxcHpvd9PVranAw5c5pQHWSj4/E3BypRLGpaeJmnymaGjRaXZ25Zw+fw2n6+lVsbt7w6ZPS1ZUSB7UvX/K5XEyfxOA8wlgzvb0gckuvXau4e1fbiWxzM9MkCSTsO1WqtLCwlbm5yvv3VR4eWfv2FZ49KzQyklpZIf5Th4b2pKamBAbyWKzupCRgQewWdF/PP3UKGx7OT2ZntzI3t7G+rtUHGRkBoWKEpc5eVe/c2ZWQgF+Pd3dv/PSpV61WuroKDQx6UlMXxseTfHwQ9jV9+SJ3cMCXDBYUiM3NqdiMKB+cBZmNDap9gEHzYmMFBgZCA4PK+/dHKitzo6PRnwstM4UGBtg566ur1EMKryDBy0vOaEElMjGh4A/Yi1mLvLGxMdXRgTp4LPJ0dzeTS2P2j2MiRSL51paW+BwOUFf+qVM9ajXRD7AGaF5U8/Rp6o4dpNSh4pSVublEHx9ozcbq6nQKKPoyM6mgGXO4f+9wLrfh40exmdnaykr1kycKZ2cq68qLjk4OCJBaWYEgmR8eZubL0W5hY2MjJSAAZx8Em8rDo0Mup0Q72L6fRUXVT58CsiMnhforSD0St22bHx1t4fNTgoKwW2Z6e1Fj+bfUtaMjzjicy0Rz873/83/+wztgMohMu0NpGzCKmGT+N72iiQktLnDoUEmJ2NR0pLKy9Nq1vJiYn4WFACk6dfEgvoiDhWlreP8eGEdsZoZVRugAX4vgW2RiUhAXh0Z3+C8zk9GhUPxqbFSHhCDTnBYWxqyEG8jOrn7ypPnbt+GysgQvL5rsASNS++oVROBdKhWV7YONr3v9Whvyrq8TCmsTi8dqanrU6n5GO+u+jIye1FQ6cpA0/2ZmmpqYuBtKmeKLF0erq2FHmIEss8kcM4mSxxhgt766mrJ9Oxrq/q2KICJiaXISBKPIxKTy/n2xmZncwUEdEgIpstzOLsHLCzMPdBpzgsyAOaN5TW0SiWYzOmn8+FHh7Jy2cydN2CaXiUcrvX698t49Chx5LFb24cNI6al37kRqA5dO26ybRJlsXkyM2Mys9tUrPpuN3LNAX7/02rXSa9fG6+oKTp+moGq0ulrh6AgUxedyi86d+9XUhKkVqTt20BMJ9PTUISHFFy/SJAOMDpRaWq4uLg7k5DT/+FF8+XLZjRvYBuW3b49UVMgdHcGC0GwiENG48+HycpGJibapC5cr0NObbGuruHcPtIHE0rLx40elq2vF3bv4fMmVK61CIV9PT2Zjg2ZYGbt389nsvJgYuaNjTlRUXnS01Nr6V1PT6tJS4rZt3UlJTV++ZB04gKcYLitjmtGB3Nyi8+d7UlOBAtN27szYvTv3xAmVh4c6OBgKA5mNDZ/LXV1cbBOJwNXTguTFxuYcPYpaA0RIKg8PpasrbByzUSUq8tWhodpzt+m5mSN0Sq5e7U5NXV9fTw0KklhaZuzZs7a8nODp2Z2U1Pz9e8Hp09BG9KalaVt/cLmFZ8+mh4djMIaWo7p4EQzNWF0d+tcyofbG3zsVF1+6VH77tsLJqfnHD5pyT9JLLYg0NEzw9i46f56cDfFYxI1TFUabSDSYl9cuk+n0biRSFIKM9PBwBJoiY+NWgaArMbH527dOlYomjkC11C6TUT2P2MyMtisxc5n79nUoFFn79iEcnO7u/rNiMy86Oi0sbGV+Pjc6WmRsjEC/8uHD2pcv6/76izJfBPGBxTP37gXUgJS14NQpxJdIkUDnpdOzLzc6eqa/n5p7IC6iEmcdWQxWmBTR9W/fEgtI5DPzjdS9eSO1tFxdWKCssM7agg+fHx1FuhobTOfDKUFBzN4SEABRMaTczg7KNf9///d/CAWNVBDcbePnz2l/THPc2Kz3zT5yBJQgTDYz3lKHhHQnJQn09fG2mIN+Szd1zswfetPwJRsbG0k+PlRfWHHvHv6/+NIlbLXB/HyompnVbFRgkLJ9e8OHD2gijWNPgv78kyfnfv5Mj4iQWFom+fgonJz4XC7ZJnK6zAz3b7d08SLBEZA/YlPTRB+fVqFQZGys2rKF9rHC0bHi/n3YMrCI8Ijkp+l+iHBDTrTpyxd8uDM+XmZnJ9DTExoaEr/UlZiYExUFfWNvWlrlgwd1r1/TCCOplRV8cPHFi7nHj/+uQllfR2ao+tkzbOVEHx+RsXFebOz8yEgLnz9cVqYODSUWd354GItWdP488vGIYpu+fu3LyICPwYEpvX59YWxsuLRU4egIch6fT/Dywsje8tu3l2dn0QVJammp2rKF6k+QMGuXyTIiI6kIAddFQEzmr+D0aeB0vPHm79+7EhOh3hTo649UVEgtLWV2dvFubtSybnFiQktmsFi9aWkUZ8S7u1c9eoSbVDg58dhsJN0H8/NTAgOHS0szIyOXZ2Zyjh5N8vFBd6HVpSUIL7GHqTUbPGKSr2/j58+VDx7gElh/Uk4Ml5aqg4PbRCIUTeVERc39/Inqi4YPH2YHBhK3bRMaGQkNDTWHDiFNM1JRkeDp2S6REHc33dODpQACExgYJHh65sXEgDnnsdkIjxSOjoA+QyUl093dkB3IHRzQhAh5X6jEAYNUnp7qnTtltrapwcH5p06RCnJ+eHggN1dsaso8WQDBCkfHqY6O1B07etPSNAcPZkdFDWRn48igphkvSOniIjAw+LNdvNLZeWFsDGctNzq68eNHgZ7e/MgINaHD8Wn48KH6yZPyzU4AKA4kbrb5+3eFszNKaEiPghMBw5Lk45O1fz+pmZjz7zYYo7jpokRFaGFreDifwym7eZNMAfMHcDMvNrblxw+gw5pnz1aXlpZnZuK3bNHxbYlbtxaeOZMaHAxSsCsxUXPwYNXjx5rDhwm2ghsvOHWKmSHSdrY/dCiHoUISmZj8aZSUzs6l16/rSL5nenshVUn08YFxINofyR2dbBTlktokEqArmmJE9wlNz286zdycGYYpXVyQQcuLjq588EBkYtLC5+s0ABmrqxurrS08dw5E5vJms7/Z/n4EfsxApeTy5WR/fxhJSoGPVFSMVlUxQ2HUDtS+fJkZGflv/4w6YEgr/6ZSYwzfpRCZeiWOVFaOVFQwEZn472Iogpna5O7mayu9fp3Z3FFmZ9eTmkrdUujYqzw8wNwK9PWz9u4FYAdyZLbRUTg46LTAhGQmdccOIH36V7SZHK2q0tnNiLYr7t8Hezze0MBMTo83NIAYAfZvFQhoR4Kmrnr8GL4NjFyHQqFNBMbGwvW28PmQOEFgvDQ11SoQYH+PVFVRWz4SalHR1Pzw8PzICMFnmY2N0tm5dbOGD3tU5+Qj18Vk7DGL5vfj1NdvbGxQvTXTipFqseDMmVaRCBizKyFheXqaeW4Lz55l1laC+EXGFHWHoIt1qHsqmF6emUnZvj3Jzw9cQvquXbAR2BIgUZUuLliTFj5faGAgNjdfXVwsuXw5LSysKyFB6eyMRIPm0CGUslBdY/GlSyITE2AO9WaXBkTbSX5+nfHxBXFxJVeu4NJKFxc+h9OpVCocHSeam8Fji4yNOxMS8Ba6k5IAt2tevBhvaJBaW2PSRuWDB7nHj1c9fszncNCMU2RsnBEZyWOzF8bHBQYGPBZLaGSkdHUFtUgGq+H9e3VISF509PraGo/FUrq6/iws5LFYPA4Hg43xSZmNjTo4mGTnAn19kbExOImUwEDYO5mtbV9m5lBx8fLsbMmVK6tLS9QBW+nigtM6kJdHY5KByXTK1n8WForNzDIjI7GlGz5+bPjwAYVSw2VloIhKrlyR29sLDQ2T/f075HLtnOadO8k4Tra2IsQkwRQlTSdaWmh/6tRH4O8llpakz/pt4jf/Mt7dvT87W2JuTjynzg+ypLUvXsjs7NQhIXIHB5GJCTazjjAz68CBlfl5IBs+l9ujVhOvsDQ5iYdCIgwhOJq9U2wQ7+YW7+am8vAQGBjwOZyGDx9UHh4iY2NElqPV1TlHj+afOoUwgM9mp0dELM/M8NlsJOBn+voq799v5fMRE1ODJ+qcFe/u3vD+PVqjkyQCOBIhcodcjv08Xl8P8wXylsLBlfn53zwHI3s92d6Ok5USGMgsnx2prISGC3Z1bmgoc+/eslu36t+8QRKh5OpVZucciuybvn4lgZVOSTfhfpLs/C0pZm6OLBWPzZbZ2v7/Gn2k7dypNSYFBRsbGz8LCvgcDlOlVXLlylBxcfbhw9RY/r/+27/9h3fA4ACTfHxaRaKUzZfKPDOtAkH927cSC4u8mJh2qZQ5JWqopARx0nRPD9ISg/n52BlrKyuD+fnM2LFDLl9bWsKBz4uOzoiMBArDDXQqlaS4Y0rvqD2k3MFhICeH2WOFqb77Ww3A4uLGxsZATg7gFSIA2tZKF5e+jAzmjWn36+ZLJfaVbEp2VBQxMBTvMot9y27cABlbcOYMiDIcMLGpqcTKqurhw5LLl5k1VzouihkWp4WFYVnmfv4U6OmNVFSgGgH8sNLFBV0GBQYGwArMcv7iS5coPiCBD/k2JMYWxsYA88HX6eR9c48fL7t5s/Hz57G6OrGZWfquXUjNYkkVTk4YVF7z/HlXYuJIVRWfw0ndsWPx16/6t28L4uKqnz4F+Gj89Cnn6NHFiQlE/xJLy3apVCfmoAWvfPAgMzIycds2ibn5/OiowtlZqK+/sdkRKTc6WqCnx2Oxkvz8VB4e6bt3L01OMgmr6e5udCxBVSL5vKYvX6hDk9DYeLKtrfrZM6m1deXDhzwWC/U5ZGioKBN3O9Pbm+TjA0Y32c8v/9SpTqWy/M4dgZ4emuvGu7vnnjgx3tAgs7fHIs/09eVFRyM3PFJRATyUc+wYSpYz9uzJ3Lt3dWkpJTBQaGRUeOZMxp49mKQLRQ9mG1c9eUI18eTnVFu2APXP9ven7tiB3mpjNTU0nA62KWv//hY+v/rJE2Tox2prBfr6mFtMW07l4QEyA5tKtWVLZ3x8SmAg+lokbttWce8en8tt/vFDB6iBwu1JTUWhKt3kr+bm6mfPQJhLGU03V5eWSq9fx0FemZ1tl8kEenoCAwMmAqazLLOzA90909eXHBAgNjcvv32bx2bDyuOFUqpFoKcns7FpE4s75HJm1xFEhMkBAcxyduoUUXbzZtWjR3TbFffuiYyNcec4uaXXr1PbHASFIxUVA7n/j7vv+op6bbpcczHzP8z33c5a31p0NzQ5SEaQJKgIilkMCCrmgAHzOR5zDnjMdg40DU2GJuecoyBRcs5gz8XuLh/bM3P/HS7exfGF5vd7QtWuXbuqcqsfPSK+CttEfUlxCKkFFQXWRh02CAlV3r0Lslfu6Lg4MUH/Tgq47tRUmZ0dy9yAdyy9cQMAVxseXnrt2lhzc86RIyoPD/hduYND7bNnRiXLPRkZwBzVjx51JibK7OyQtuvVauPc3Ppyc8tu3MjYu7c/Px9Qg1QOce7ubNFtfWyskMdLDg6GDRmqqKA2uuD5QYZX3b9PlMPKwkLRhQtYVRKF4JD/Pt+28f372YEBNFgcLC9vEQjEFhYKJ6cEP7+MvXtpLKxRSi7/zBms3r9BhFVjKN3R+zkXFwGHQx1Te3NyKPBFVoaVnv6MhIKCRDwe2T5QhQVnzyb4+g5XV6ds2VJ6/TpMEu4/25AFbRerHz5ko08QmIgscc6qHj6c6e9H8jh169amDx+w5XEeHt/S0nKPHiVWFkES29wOoFhmZ5d9+HD5n38mbdxIU0spwhPx+YNlZWyRvmrt2on2doGJCZA1NDV5J04YpaCIP9EfqXfv2Cw10c4SK6uOuDjoRGDrM/ftUzg6Vt67pw0PB9JH9DBUXl7z5Al152h6/56YRqLuYfQb/v6bJYUQW093d5dcvTo/MiKztR2pqYFbggXXT7OxsQHtoXB2JkhedvPmaENDq1hMwpM2iWR5fj7B37/q3r2m9+9rHj8mt4fbxQZVML5oM8suS87RozJ7eyGPR9i86f17IGJoQbEIMBbDVVWZ+/dPfftWdvMmxh7Ux8YWRkdnhoURIsw5fBgsCJhMQhsCExPY6BaRCJAcKiRgFIxNRaU1AXCZrW3Lly/wT1i6midPdD9+qDw907Zv78/Pb5NI9NiFx2v6+LHw3Dksu8TSsjc7m/BE/unTcnv7Lo1G7ePTnZ4u5HITAwL6srOJ+MFghr7sbKm1NVgNLB3ME8KOrP37VZ6eYAvj3N1Vnp65UVGF0dGACEvT0/pyVcOIOv01OXCg9tmzbykpWQcPSiwserVaWLoEP794T8+BwsI4Nzc48jaZLGnTJuxOxe3bUPRk7d8vs7cH+alauzZp40Z4l9GGBm14eGpoaFJQkNjcXO3jg2NGXR0otKICqoa3b+O9vCrv3l2cmJgbHISOAf8LR1t26xYdtpzDh+ueP6dD0p+fD2s+XF09NzyMRU4ODv45OcPwvplhYYCACienwnPn+gsKco8d68nIYOeWCjmcxrdvFc7OUmtr2GtWSwXPUXbjhmbDhna5nMi/bMMECNzQ3uxszcaNxD0Yaaf1EduOHYD1bEcgAB3YtJKYmKSgoKb379lJPkZ5TSGXOzc83JOZSR0A62Nj61+/Xpqe7tVqK27fhtmkPAveCLtcHBMjX7MGgXvOkSNic3Nck5n+/hSDyAZoG09OOcHFyUm0ZKFIABdQZmfHdoedHRhQ+/jUPn+uZkpgEvz8CqOj61+/bnjzBtCEzjk0m6z9NNKXUOnHVFeXvnnD48dse119yCcWEzKmFo165qaoqPTatdXFRVAv/wYHTB6oVSRiCR9kuSfa28GyCkxMqh8/FnA4RByVGDxEu1xONST0aXorv7pKiT31rwMb2GocylUsjI8rXVzKb97U/TYeUseUaVJkAIVX/Lp1ySEh3enpsOlCLrf8zz+FXC7GpBNVDgMttbZGKJzg748r1KFUoi6l4c0bSEOrHz4cb2mBMJUlmXOPHycbRBXAC+Pjmo0bKf9U9/IlwgtWfcYOQ6QlAs+vDQ/H9UDQDM0nyhgmDJX4cgcHI/JcP0SIOZ0SK6uBwkL5mjVSW1vqlKszlLEujI5KrKzqXrww4gOrHjyoun9fZGoKEQDE50Iud2lmpkuj6UxMRGhSefcuohmQ9rAd9CLx3t7dqal035ZnZ/F/wenmnTghMjNTurpmR0bKHR0Lzp1TeXi0SSTAzshlouk3Kc6Gq6rgKrIOHKh79UpiYQHSDKaw4q+/hBzOWHMz3Jh8zZqaJ0+MskSExlgRHE4pjM7i1BTcA/xTf0GBxMqq9tkzoUEejJTHdE8PYlyRqenixITY3LzgzJnVpaVEf/+sAweqHz5EvVD8unViPr/u5UuJlZWAwxmurk4KCoJRK7txQ8znq318Gt+9S9uxo/nzZ32FjGF07o+VFVrJkitX4tetg8hFYGIS7+U10dYms7OrefwYxJLCyWlpZmawtLThzRuM52KXsVUsHiwtlVhZYbOq7t+nouT+vLziy5eLL1+O8/BAg0ygYSQpkjdvrrh9u0UgMOpyA5YizsND4ew8+/17Z2JidkREdkSEZuNGnLHa58/V3t4lV6/qq8nNzFD4B19CkmDcIEx0FvH5aLSCLk7T3d1T3d1NHz7AF6JoB6fup3TA3l7H9HSM9/IitSMbblbevatwdGRTM5n79sns7CY7OyWWlnWvXoF0BWgA+tFs2FD34gV2XMznE+tA0XnTx49gldA/bnl2lgJ9mZ1dxt69FOT9lAevruKMsdIHCL50Op3K03OktraWwR9Qe9XHxv5jTy4hj8fK0yiTTW4PQARmkM3QYWe/xscbcfK9WVmzhjJiNilAgTjencZxYh/ZeIbNr+shVEEBZaCEBqyG3CIKu406h1Q9ePD/GRyH8dL0nxCaJAYEEL3Xk5mZtn271Nr63+CAYTcRK/Tl5hplFsHntEkko3V1ZB+BkrQREZn79jX82teN1W0mBgRQWxOqzKGvxamp+ZGR1eVlSJ17srLYP62vwbewoAPRKhbPDw8D+oElRorXqCssEVD6ZL6lJeUw6l69gi1ofPeu6OJFBNNGWWRNYOCP1VXCa5n792fu24e3KLl6FcCWnXxCDUYS/PyWpqfxLum7duWdONHy5Uucu3tycDB+RgVMZ4A4eSdO1DLcQ2F0NFGyxLoPlpW1M/QLTE/148fwgmzVfN3Ll0MVFTBhRpOpcPS/qtVFFy4sz86Clu/PyxNwOBJLy8o7d8QWFqzclMh5o1YARvljo0HcrD9u+vABri7vxIn50VEhj4dnmOrs1DFdwxCSoki06MKFzH374LEooYUzkxsVhRRd4vr1Yj6/OCbGaEoMGXqlq2tfbu5QRQWWenl2tu7lS7Wvb8vnz8D+2YcOzfT1KV1dJzo6ejIzyYRRxeFgaSm1g9ceOtSdnq50cSmJiYFAVM/i+vpqDx2iWYoTra14vKRNmzD+Hdi8VSxeGB9XeXrmnTwpsbQU8XhCLhfFPCIzM4m1Nc42WXORIQ2s505bWmqfPetMTMSliPPwkNrYSCwsRKamCf7+mCeYGBCgNHQTE/J4CX5+pdevNxn6dSC7WXr9usTCAvHTcHU1yZEKo6PxAAVnz84NDmojIqiZndLVNf/kyebPn6lmt/yPP7CDVJBKWzDR0dEmkRSeOyfkclFesjg1hWcG9aIzdGjXbNgg4HBwF9j+iE3v32sCA9mKfx1TSGr0LwCymsDAtB072EE9BWfODJaWJvj7Z4SFIZYAyBaZmkqsrRMDA/WzWxgLs7q0xOazKEyElf+WnEziMqTYyJsqnJzAVOWdOIGzOvv9OxCDyNS0+dMnwjd6bunWLf0murtXP3xIXDErWKP8lDY8XGxmVnbjBiwVNk5mZ6dP4v5TRlxibS3m86FM7FAqqWUNO2sZ20dPJTIzQ2QMdpfVeeDvLs/NAbMCpCqcnIjuEhgqAthnQCSgjYiY7u7GLy5OTUFYQ1tZ/egRQFtxTIyQy8XiY75q2o4dZbduwekilTlUWcmOHtD9Ng8G9uff4IDxnsCYbEO1doWijJHtkQxHxwjWSeGM1Yxzd885coQiIcqfY3tEpqagpqEp/d1JgBfClieHhAh5PKOQ1+i89ufmEqlFW4IypOGqKkpbGhVQ0TzwXzBXSQnSxsiIpISEEB/eLpeP1teT5ap/9cqobkHHNNAG2QLyAPVFenHv7dtxbm5sykpn6FSVtn17dmQkVe4nbdzIjldj9WK07CJTU/maNSSwkq9ZIzY3ZzVxrNpzuKZmeW5ufnRUaGqaum3baF2dkMvFIn9VqQh043LWPHlCMqterbY+NlZgYjLd21v18CFd1OqHD6e6utJ3767/DQjnnz4Ndr0nIyNtx4703bvh24ouXCi6eFFiaUnM/NzQkMTKqvzPP6e6ujLDwvRD+rZvR+SEk6M9dCgzLKzg7NniXxui1cfG1j57JrOzk1hZifn8gYICJA7iPT2FpqYSS8vS69dXl5fVPj6aDRvGmpqkNjZtMpnAxERuQIFic/MEX1/iCaQ2Nqnbt6vWrtUeOiSztS3/808EK9UPH4r4fLBhejjv7S21sRGamiItXXL1and6uszOTmJpmbh+fXZkZIKvL8YkCExMSq9dU61dK7awoCl7qdu2pWzZ0vDmDc5tYkCAkMcbrq7+8eNHUlCQZsOGulevFsbHxRYWKN9SurombdpEwQfrloRcbvbhwwvj400fP4otLKofPYLENGXrVj0wtbamI2EkZsFBorlMYj4foK3x3bsEf//62Fjk3po/fco5cgSOHG5JyOW2SaUSS8s4Dw+FoyNN184KD0/atAmMUcmVK4OlpauLi0pX16wDBzLDwtJ37YKMUS/M5PNzjx5FS20WmsN/I6AEgaF0dcV8zH80Au0KBQ1Vg/lCLdZwVRXO/3RPj9zRMTcqykiaW3r16vLsbKtYnHfiBIyD2scHnbbU3t4wVrBIOUeOpO3YYdzcjYnn4r28yIvTpWObztbHf0VoYAAAIABJREFUxiIqhQelHgZiCwvyxFQKzIbFBMdRWwxPj01kqx8hmaZhDGzqBzKrvpwcEMUqT0+kbPCfsORtUinI/6SgICoNZY8KAiHSXolMTXE2yB0WRkfry6Z9fUuvXVO6ulJ5VeO7dyhrnhsaKr12bby1FdZ1uLoaufmF8XFK5w2Vl0P9TocW8TRsDvvKyJ6AFzT/F8wD1vczMiwxXjh+3Tp4DtAXKVu2YEcz9u5VurjgOuUcPUr0S4KfH7at6v79oosX03buJBKf3EmHUknVROCLKD4G0E78p/lCNOKKBciQehacPav78WPIgMVktrbs2KIWoZBcr8zOrl2hUPv6go5DPRUIUrZtDRsNG80b/un79+9HGBTv5VX14MFIbW1fXh7iIbYwn/0o4GWFiwtp3BrfvgWgpl+BCLnu5Uu5oyNhWDDqNJjhJ4Fz/z4xckMVFRTJFV++DHOW4OcH28TO8f6dhGAD7gR/f8T9lOMXcrm4SyBgydnHubkhJ9eXnd349q2+nNrPL+vAAaWLCyFlyD6bP3+WWFujAx9r/YfKy8UWFoXR0QArlXfvGuGklcXFpE2bVJ6eVHRY8/hxf15e1sGD+k4v5ubjra3E81fdv6+NiJjq7KQkdN2LFyyIJgilDQ8nUSheBEdrfngYZzjey2uookLI4/VqtUpXVyASiZUV9hFJXCz+0vR06fXrah+f3qys7vT0jN275Q4OUltbMZ8vMDEpunRJaGoa7+VVfPmyzM4u/8wZ5M5pbAmFdKmhoSlbtypdXeEqUrZsQSHsj9VVoAR9bdvbtzgw+gkcPj7woApHxzh3d/AiQh5vdXkZLwvCBq5ItXYtjj1MudLZOTEgAL4hMTAQgEBkZjZaX9+l0UgsLRHHS21sqh8+VHl4wDfEublh8eVr1owyBSSVd+8CWs2PjmLahE6nG6mry9i9W2xuPvXtGzIIBefPw2KAuE7fvVvA4SDQzDlyJG37duAJ+Zo1I7W12ZGR4FGEHE7ts2ery8u4vPMjI5V37xbHxODaGrXAQxSbc/Qo4Lh8zZr03btltrblf/wBW081NrihSA2kbNmSx+DydqUSSp+q+/fB9oE3AgXYrlB0p6bieFOLOqWz88r8fKtYXHX/PnLJZIsQ2OFzEKAj+lyem0Pl23hzM0GrvtzctO3bSTCBlJxm40aSEwp5POrDVXzp0uLkZH9enr6JLJcLY46/lbRxY8aePVhe3LL4deuaP30qvnw5zs2t6eNHIrSKLl5E/4Z/Fifv2MGqPX4vPJnp68sMCxuqqCBrZhRp1D5/jqQVyx22y2SF584hU4n7KDYkpMUWFlIbG0prsqPHWXJOGx7+b5sHTARmzpEjam/vVrEY5oy8aW5UlDYiAqMtZHZ2uPPUpbb02rXh6mp90nF8fKa/v/rhw6SgIJWnp/bQodrnzzuUyp6MDH0uxNDn5R+/lK6uQ5WV+adOIZ7Wj+czoASdTteZkABXwbbXmezoSNm6lcanZO3fD2dPwWJPRsbSzEzxpUsDRUWrS0sCE5MfKytGx0XM55MTSg4OJgDRq9VSCAWYRk5FYGJSGB0NYRcB9smvXzsTEsR8/vzw8M/e10NDOp2uLy8PeWJtePjC+Djm1C6MjbUIBPWxsSVXr9Y8eaLZuBFGRLV2bf3Ll/CRNN29S6OZHxmROziQQSk4ezYxIAC4YbC0NGPvXoWj42h9Pd4Ft1e1di0k1iWGPp05hw+nhobO9PUNV1fPj43B6+efOYMqIFbHQfI6qFTSd+36qlIVnjs3VF4ev24d2/I6/+RJTC9noUOrSISKDjGf3/z580xvL7YJMQGOWd2rV3CZC2NjNBya4iESQ0ptbLSMMFXI4VQ/epTOjDVNDAwE/dCfny+1tsa8BJ1Op3J3Lzx/vvD8+c6EhGxDElHt49MiFIrNzTPDwoj2KIyOltnbwzu2SSQJ/v4o29UZekH/WFkRmZpW3rlTefeu0sUlMSAAFbqU+8zct09qY6N0dsa/ZEdESKysZr9/l1hazg0N1T57lhsV9b20VMDhTHd3t0mlEguLlC1bUHCSGhr6vaRE7e093d2NgbLUry05OBiUPhAASOPZ799xhqU2NqQbkFhaIrmYsnVr0/v3RZcuIdMpd3BA4RP5dZgzCsjK//xTYmkp5vPzT51qVyhmBwYAU1JDQyv++ivOzQ05bIWzc4tQ2PzpU7yXF3xh0qZN8Z6eYnNz3FZYW7G5udrXt/ZXpefk168QNi7NzDS8eQP8LeRw4PWJjyW3hA4Yul/nYZfdvJlz5AjcRsPff9OfQCKm+dMntP8cqqxs/vxZYmlZee9e7rFjZb82JKh98ULI5XYlJdGoU1JXEd873to63dOTEhIi5HLxUj0ZGRJLS/j+ryoVLhcC34w9exC64OH1U93u3dMxM2+AhCjTRDxf5r59ZItAFqZu3w6OqvTatZWFhZ6MjNyoKLW3N4mzSBiBtP3C+DhdOqhJVGvX1r14gUMLmbEREULcAyX+f0fqY01NA0VFlIquvHMndds2sYWFwtk5ZcuWyc5ONvaQ2tgAb60uLeEZcNPJLP//v4Q8HsJrpYuLyNSU7EDx5cv6pICnJ1XJ/kscMJCdfM0aNuwbLC39lpIy1tj4O2OsJ0uB1hm9j9LVFTlgyhUR+QOrPd7SAgePYTIIOLo0GgqFYY6bP39We3vjCPZkZKDXDEn4WoRClqspv3ULeB8aPLWPDy4wfCTcD67NYHl5ZlgYuEQYeqo4YpWlZTdvCrlcEEpkqgj8AnjqRaGbN7NPIuBwupKTqx89QjRAAlE2IQSfinWe7OzM+03BodPp5I6Ocnv7sps38SJqHx/IOGlu41Bl5Y+VFZJT4WLDQBNXM9bUBBuHYCs1NPTH6mrm/v1SG5vMffsS16/PO3my6OJFeERWeIJmDnJ7+7QdO1jmR2ZvH+fhgfuA1YMdEXK5iHi609PTd++mBRmqqBipqfmWnAzTuTA6iqhCvmaNxNKSMmqoHlH7+JCMvOzGjeTgYIQCWOfE9evLbt0Cyab28elMSGgVifDWvVptcnBwydWruVFRfTk5yZs3l16/Tl2csiMi4tzclG5uiHGR3qaOofOjo6lbt8Z7eWFVE9avBx4XmZqCHAZ/zk6eF3A4lDCjKjWYV6mNTe7x41OdnfWvX1P6fKa3l/qNZO7bV/v0afGlS1hhIYcTv25d/evX31JTiy5eTNq0qVUsLrp0Kd7LCx08UPmWvnOnzM5OzOfnHj+eHRGRHByM/sDkfYcqK7MjItS+voB0eOwfKyt9ubk4APknT4r5fPmaNSBX+3JyBBxO5b1735KTk4ODUVUCDn9pelrfD9XTU75mTcGZMwVnzhAoAQsNpDXe2iq1tQUcVHt7J23aRL2fcKcSAwKwUN9LS+Fg0HOG2J2m9+/R9RPl1NSAE98LTExwxgrOnMFrwsSjULv48mWFkxNEahW3byucnORr1nQmJLBKH/maNV0ajdTGJiUkBLSEjmn7ILG0nGhrk9naIp2UGxUV5+ZG3WrJ6+t0ujhXVzy/0sUlY88e1hhSVwCAYIWjY3dGRpdG0xEXN9XVJbW1NRoFSA1fiYjOOniwVSxuFYkA0MFXIWZQurisLi2x/XZ0zLgkIYczWF5e9eABIfvSGzeg08w6eBCfoPu12CTrwAHQ2qU3brQZiirhF9kIROXp2fju3UBhIaWisKq4br+z8Rl79w4UFcV7eYHB7kpK+mroZY3Iday5Ga3xECnhE9QMM8cq6aTW1gQsdEwbbY3hrgH0dGk0483NOYcP/xscMNt4jEoh49zdCQcBj5CPRPKgS6OZHRiAOcahZLX+LGWBGgyk5ZM2bYI9AohO37ULLBmu38LYGNWu6ZhhMrT09Hhf1WpivYxUf+C4SExPd/LnEI+HD40keTDWZJdx4XOOHqXgEpiaVdKDQVqcnEzftWu8tdWoZ2n24cMADTht8Ekye3uS6eccPlz38iWr2k/w98easKEkcaSaDRugXpHa2gLyVz98OFpfj1IK/UP++EH3BENkSYwDv0K5E31An52tz0u9eVP/8mVxTAwsfu6xY/ppEIbQP47hKmjUdnJwMP5Eytatg6WlwCtiCwuRmVnVgwd9OTmQDbNiE5WHR+G5c1T5ILO3l1hbq318MvbsATeLd2+XyWC5VB4e2kOHNIGBKk/PxrdvSZyVGhoKnpOSo6mhoZjmDXhETFfdy5fGXSA4HLG5+fLsLNunV+3jw/YGF5mapoSE/FhZAfsnX7NmaXoaQ3zbpNJ4b+8EPz/V2rWw3fVv3tTHxqo8Pctu3Ypzd6/46y/why1fvlTevZt18OB0dzdp3ABxUEVddv16UlBQQ2ysmM/PO3lSyON9VanQnXGgsDBz3z5sfdrOnSoPD3BOUmtryNTRQnKoshK+QWZnl7RpU1dSEllSXEkMMGAHzoNpGCgqMirzTfD1ldnZ1b98SaMA0ZW9U63GAcuNiiq7cQOIECXUecePf0tOllpbI/TEZSmMjsYj9efnS38V8Yn5/OJLl4QcDjS0aD68ODGhl4KvrrbLZApn57Tt21eXlnAeqPaG6HSgZ4WjI06I0YSYMgM325mQoHByoolYZExG6uqaPnyY7u7Gqah7+TLB318bHi6xsoIpk1hZ6UfZ29rSutE9TVy/vl0uB9HFVmMm+PkBuFBqQ3voEPZipK6OLZHKMoSnfbm5+BUBh4OMniYgAI4K9vb3YedsAwYyxTDLUhsbfIiYz887dWqmv5+ADrU5yjl6NHH9enaqOh1+RAj5p04lh4SUXLmyMD7emZBAHSKzIyIGy8ryT54sungx2zAywWjKXOWdO1n797NdelJDQ3syMohVpkwBIAjliXAOiVlUODlBlkgvi1GbiKa+paT05+ej1xASCv+SCHi8tVXI4SDE/D0T0PjundjCYnVxkRhgo4Q/JSfYf6QDhOvaX1Ags7UtvXaN0saDZWUkWwA0q3nyBPQ1XBFOQOG5c2yxDR5SGx4+3d0Nb43zCsnlyuJid1oafjF+3TqjVmo6na7m6dPZ798XJyeFPB7MPcrR8NVfUMBqnRSOjpqNG1lJRVdSUklMTHdqKv1j1f379POawMCBgoLsiAgUiYv4/MnOzqGKiq6kpM6EhJIrV2b6+oqio1vF4k5DPhuwMWXrVsCdrAMH2LIKgYnJ3PBw0YULVEyC3CoRPuV//DHb3693hFu2/L41uAlKF5fp7m6kYVoEApofPFxdPdHevjw3l75rFzBQ6bVrCX5+AhOT6idPGt+/z42KglwCDTfw2An+/pCNgPzIDAtDFVBySIjKwwM85+9TIKd7eqS2tjlHjwKVL4yNLc/NwWo0xMZKrK2rHz7EPNrMffsWJiak1tawRySmLf/jDyy1jGn40JOeDlhW++yZwMQkNTQUVfwEQfJPn6578UI/dYpRvYI10R46lLh+/VhTU292dvWjR2yxpiYwsCMubnVpCcMzVGvX6meV//iBZfxeVCQwMZnu7u5QqYarq+tevgTJVnL1asHZs2AC1T4+QlPT7MjI3BMnRGZmYnNzlJU3ffgQ5+6evmdP3okTcR4e88PDq0tLmWFhSRs34snBLiQHByM3qXB0BIfU+OEDmnaxauQEX9/UbdsWxsdl9vYCExMkdMFFi0xNEffLHRwQkiKDCLtcfusWFnlucFDI42nDw4U8HisVTt+9W8TnF128iOOHQcsw/TioFN+zyQL6av78GcC36eNH4KfCc+dQko6nSgkN1WzYkGjwPbDIQA+jDQ3o3/k1Ph6hIdx//evXuceOlf/xR2JAgDYiQsjltgiFqBkrvnyZqvX6cnJ+b8/XmZBQcO4cTFx2ZORYc7PM3r5VJJJaW7Nz5kuvXWv+9Knw/HlteLjRhBUBh9OhVJIlrLx3T8jlVj98iJPTIhCgzwFbQgkzVXz5MgjknCNHQAa0CARSa2v2TM6PjOBNpdbWiIsQVGQdPEhogFQsqaGhMLn40whaYCo1GzbgHWkEO+yVvge4tzfQfLtMRm0PAL6Nru3q4iL4D6OxEyQVYo3n4sQEWzvEJv5menvxqPQ5S9PTbHsTo9IbkCi0yPOjo+xcPlK31Tx+/G9wwMjP6wxdGgQczkR7O1W1kvSXrVFDMgAmDOBFGx4us7cfb2kRcjjY1OTg4HaFAi4WzJLE0tJo+iOrZceOAh0LeTxyJB2GhDHlNiY7O9N27kS3qb7cXBxNsbk5flfl6UkKPUJ/q0tLSMyQz2MT2z/lkQbwYVTJ065QEE+L38LQpNyoqDapdGl6mnDlz+ZZkZFSKyt2GRP8/BqZ1l3Zhw+D/QPD+WNlRWJpqQkMRBmJwtGRbfbWJpV2p6cDpqRs2dImlaZu26bZsAG0OQzTyvx8b3Z2/unTE+3thDwQC4pMTTuUyqYPH5QuLlJr6wQ/v3alsispSWZvz9LjenYhPv5nC0wnp8LoaKTh4TjzTpzALZLZ2SUGBuJeoV0OdpDN9sFG462/l5To9fZ2dhJLyzg3t/zTp1E+gZucf/IkmBKxuTkoXFgutn1/l0ZDAKXm6VNqh5scEoKIpDA6WmRqSkQiNArsNDQhj4fKLvpYzYYNEktLgYkJTBvWBKOK2HSjnogzMyu6eFF76JD20CFWNQZbk3P0qIDDWZqaEnI4oJEllpYqD4/imBhUPcW5uzd/+oRAsPHdO4mlZXZERNnNmylbtugFRzwe/tzq0hIy0BILi9Rt2+rfvME8A4WjI6EEiZUVlhTsfdGFC7BZadu2daeno+IFJV46nQ7yHBjlhbGx7IgIibV1fWxs2a1biQEBCChhvjGHGP4yY88ejIQScrllN27gQ+h+ZUdGJoeEfEtNTQ0N7cnMTN68mbUS8M169sVQrZB3/DisNq4tOEYBh1N550767t3jra1sLr/40qXkzZuVrq75p08DuCdv3tyZmJi6bRsogaYPH2qePKFgtFOtFvJ4Y01NCmfn7rQ0CNmMao3oCwrH+thY+HhSk1U/fIgcgVHrDCw1jB47MitlyxaEa5TKRci7Mj8vsbRkPUenWg1raSQ6MYpHdYa5F8Be+adO6cNEg0Oqe/EChlT8awUmiZXw80tMAyUoGXFfVpeX0w2t/kmlSMNgyOyMGJAHqSARsdClI8wksbBgzYjCySlp0yaptXVycHDSpk1V9+7B9qJWOHPfvr7cXPBPyOvhHv0+GBhbkLx5s8zWdmlmBum/MUNrs/xTp4ovXw7/j//4N0TAsHfkonq12rTt239p0fxb/RlbBprg4wOQxaYc2hWK/NOnNRs2UCUrPGhiQAClKHBEpr59S9+1i629oRkm7NfUt29p27cLOZzsiAjKDSRv3lz961CR/NOnSWcBSaTUxoaEWoXR0SIzs9yoKIqrWoRCuMmqBw9EZmaZ+/axDbm609OLLl4E01X7/DlCcyoboMbLhLVFpqasXcapav70aaypCTxk6fXr7MVmv6978QIkqmbDBqmNDTHGmOWO/wQenx8ejvfyQhv6pg8fFsbGOhMTkXue7u5ODAgov3ULJF7G3r1wM7hyxAZjtXHHqJSZvCycKKwt6kCULi5f4+Nrnz9XODlJLC3B4E20t7OYF7VYc8PDmI1a9/IlwMrq4iLlRBMDArQHD+IOwwKKzMxEpqa5UVECDgcpOuAJlgkAe19269ZYc3PlnTukw0zw90fLNlj5+thYBE99OTlkEb7Gx6sMjXYlVlaZ+/b1FxS0KxRx7u5xhngdiEdkZlZ286baxwe7kBQUBAP6vaQEkSulHshzp+/cKbG0lFhakoAFQTAmzNe/fp1/5ozS1RWBO+bRNn34gJKksaYm/CE4qsJz59jCUHipOHd3sbk5mTyBiUn1w4dwlu1yecaePRJr68XJSZGZWX1sLF558utXAYdTfOmSiM/PP326+tGjpE2bkkNChBxO/qlTIMnF5uZ1L15ABQkjPvn1q8TauvzWLfRVZjExXDt8Bo4HflHI40FRyBb5lN++vTQzoz10SMjlJvj5lcTEwKGih+K3lJS+3NzOxMTRhoaF8XGk2POOH+/Pz1e6uMB5T7S29mRkKJyccMagQkjw9Z0bHDQaH1T9+HFSUBCwMkKCmd7edoUCvploz9xjx9g0xOLERK9Wm7l//+zAALk0AuU4S7XPn9e9eFF55w71v+zSaKgco+Kvv7o0Grr7rHqLIBQI+fpXr0jyQuoK/bg9xsTJHRzU3t7ZkZHlt2/jnmoCA/Vh+uHD0FtRx65Mg2wl7/hxGpmj9vXtTk9nnT0GzzS8eZPg7y+1sSm/dYvcLZlfNrIXmZp+S0lBd9XfvaDY3Lzq3j0Qe+R3FyYmZHZ2yzMzqaGhOAlGMxDpDwEDsc0y9WGM4ZIOFBZSiE/Hb25oqODMmemeHjLIYA50TOPPu//n//y3d8DsnOrsyEi2ZbHQ4B7YUjy5g0MJ07dBZ6hV13da9vBI3bYNyRukVXC4Zba2kGngFiUHB0OiydbJTHR00OwXSt5oIyJaRaKOuLhyw/hPOuXo56J0ccElL7t5U+7oyFa8kI8hyEm7W/fyZXFMDBxqzdOn+WfOILDD87ANZWjcE5qDw9TmHDlCCQ/KTbaKRJ1qNRvWT/f2ZuzZQ5+Gjyo4exZrpXB0JChN6S6kz/NOnGgViehFxObm2cyMFJIEs6MXYEk7VKrmT5+yDhxgL5LcwQHvBbBCPbR7MjMT/PyGa2rapFLoehL8/TsTE4fKy/OOH49zd2cHI/6OUkt/LRNvfPcOYQoExhl79w5VVAzX1GQfOjTZ2UleE1wCbiB+HjnmmsePqSFGytatg2VlZB8hJgIp8r2kRGxhkb5z50BhocrTk/qySayt49etmx8dxTPLbG3Vvr5CQ0NsIZfbnZaWum1bzePHmg0b6mNjl2ZmkL2Oc3evefoUAajax6fq/v3V5WV2fO9QZSV6C4j5fKmNjYjPb/nyRcznA3DAOiAJjcAXOxjn7g78vjQ9LTAxSfD3F3A4KSEh8yMjWQcOZOzdq5fIcThooUAbnRISogkMLL91S+XhgaBctXatYs0agBgYbk1gIM4GdAk5R44sz842/P03OQwxnw9rSwhvsLy85MoVuYMDa6YTAwOLY2KI3cFGpISEDBQUaCMiRhsaOhMTqd9Fxp492ZGR3enpRCTK7OyyIyNZRYXUxkbh7IzaMJgFxK9Es1HKKTEgoODcuZwjR0RmZiIeL+fIkar796XW1kMVFSR+NqrfFZubU5DXmZAgs7MTm5tPtLX9ko719R1rbGxXKuO9vNiCmZWFBYWTU/3r191paf15eaBG9BUNzE1ReXrCaf1cIma5Ku/eFZmZwZhA6A6hcs2TJyz3jshPfykMd22gqGhxaooEN5SwS2F8P9AnPL2Qx4PqLWPvXvYFwYuwDSP19SnHjk0YIHtycDDbwEfI400atPFse0jSgvy/2D5Q07DGaOKWHRmpZwIYlU/lvXs4OWSiIauG+wCab/7yBUcxNypKamubdeAA0ePLMzNsYA1+BfFGw99/G5GRoMqxQYnr1//v//W//g0RMJlm+srct68wOlpma0smGLdCZGZm1Nis6f17ljXS3zpn56HKSpLMJQcHw8SgUSLxUQSmdEx3DqI+ACGBm6g6e2VxcXluDliSdNEdSuXKwgL0Mj9P6rp1XRpN1v791PRc7eMjNjfHfyqcnYEMKGBtlUgAPqoePMBp0GzYoHR1bRWLNYGBEktLqa1tR1xchqEmR+7g8I8Imv2qun+/6t49VmuNLzjvH6ur5N214eGdCQlsMaLC0bH22TOhqWnSxo1ImEmsrBrevKl99mxxcrLs5s3R+npE3t3p6fA0/fn57XI56S8Wp6bY5I2Qx5v69o2c3MLYGMyEwtERUPRbSorCyUnI47HqzeSQEKmNTWdiYpybG6xJ/qlTow0NLUJh4fnz5MvVPj5oSZbg6wsgjFiwXS7PPnyYToJ+ZFNnZ2F0dP6pU0UXLiQFBZVcuUIZh7KbN0kf1PzpE/n4kpiYoYoK/FhiQIDC2RmOAZNhBCYm2LL+/Pza58/Z5yewrPbxwYhc2IXhmpr0nTtnentJ+Z8RFkaC59Rt23Awprq6BCYmI7W1aTt2JPj7jzY0tEokow0NZKRUHh5g+EWmpmU3bqh9fbUREamhoXIHh/wzZ9Q+PpCtQTOStmNH9cOHWJ/50VG00Y9ft67sxo2co0fR7QRHoubJE5WXV3damtrXNzsiQunqOtnZGefhofb2FpmZSW1sejIyfqyspG7b1pORkbJli/bQoZJr14arq+NcXbMjI6lp3WBZWZy7O5TGlXfuqNaubfj7b7aZ+bfk5KSgIAGH05udbZQ07c3Oro+NFZmaUiNV8BA6wwxQYimyIyJAVMLR9ufnT3d3t4pEXRoNcQPYeuygJjCQEq4CDmdxcrJDqUzftctINiyxtEwODl5ZWFA4O6ft2IGPyj12rOL27YJz5zD+UmBiMj86Cg1d1sGDY01NmWFh0z09S9PTJDER8fm4WSSkoOTlsiFcpo6kOBv63e/sJBBc8/ixwslJe+hQw9u37XI5vftXtXqkvl5sYQHTl7Z9O07ReHMzvulKSqI/Bx3GWGMjRQKpoaHsoGUjQGD0pQkMxHNS+Tv5LZa30zHztgmTsbMf4r291b6+LGGJ6gMwi8RXQQ9Fj5pz9CgkseDhhQx7152eToeHBqwZBTDGgbWZGThtCBqM2gCw3S7ZNkeImwUcDqK7w//5n//tHfDUt29zw8NgAMaamuD/SCiv9vGhykKdYTSVyMwMKgPNhg39eXkT7e1sNv53chWektBr2a1bQ5WVCBxrnz7Vq3Z5PBB0c4ODv+/Z9+LiVrF4eW4Ou0sK7anOToJIGXv3dsTHoz6BnanJ3mqRmVlfdvbC+DiOI8Jxmb19amgoQCXAAeJLAYcjMTdHhEEGl5TYrEhvmWG9ujMyYCaQ12SL6pKDg+tfv664cwc0FDEq+GozjnqyAAAgAElEQVT4+++sgwch4qAiaeST1OvWVfz119L0NBQ0HQqFkMslbz3b359gSNplHTxIyfKVhQUBl4sEVfmff/bn58NOLYyN0Z2HjUCogbBPbBiMw6ZR6U7+3psszs0tadMmbJnMzq4nMxNpJGrUEOfh0SaVJq5fn3P0aP3r17lRUTVPnkDWRFcU5V4lMTFSO7uFsbHh6urS69d/n1gFkqb506em9+/j3N1n+vqAmXDYYP3RDnBlcXF+dFRqY8MOpZ7s6OjVavGCmfv3qzw9wbJiWlHh+fMyOzvKWQo4nMSAADGfX3r9etnNm9rw8KnOzunubpWHBw17Rilk1YMHWJ/EwMCSK1dEPF75H3+MNTamhobK7e0FJiZqH5+yW7cQxyT4+wtMTHAmq+7dE3K5UhsbsuZqb2+AoaILFyRWVgpn556sLE1g4HhLS/GlS2pvb+iS0EcJXjBz3z7QG6BefqysYG4jiBCZvT0aRMR7eaWGhpJ6C5VdbVLpP7ZfSNq4UeHsPNXVlXXggNTWtlUsTvD17cnMTNq0CfkdQGcoxbL275fZ2UF0ubK4iIuM87M8Ozvb3690cYn39ARbo/b2xg2CtDg7MrLu1SsSD6MHuMrT00isO93dDZwE6zTe3CzkcpM2b0b9MWqjv6rV+jGXu3YBDRiNzFuangYp2i6XI+Ups7PDCFGMySOSbLylhYR+xZcuCUxM/nE+utTa+qta3fDmDbaP7cqnD9MTEwmd1z57RngdS9STkTE/MoLIZKSm5meV8MGDRnooNKtCqLowPl4fG/u7yDExIABTc5o/fsw+dKgrObnuxQsQ2kkbN8rs7UuuXME1L71+XQ9e4+I0gYFU3KH29aUyLaMkYMHZszN9fdSKOTk4+KtKRaRd+q5dbEDcKhLRZ+JNyRqzo26I5yDVSNmNGyuLiwTW2Uw5AXT8ltLVVWRm1qvV/s//8T/+2ztgFnDhgBJ3j2/YURhIDLcIBFIbm+aPH9Xe3pDCslJ7I00Bq3VKDg42uhUKJ6eSK1dWDb2oWFuPb2oeP657+VJiaTnJ4ABg2KnOzlaxmA5u8aVL+srUX8GU7rfuLYALYnNzo/Em6FKJU4tjwUaQAg6HzYV3aTQKR0ecEpmdnWbjxtpnzxSOjsmbN1c/fEhnTsjlJvj7d6enjzU1dSUl6YF2fn52RATANUJSsaUlDmvN06dic3MkjAUcDnHUQxUVI3V1cK65UVEKJ6fR+vr6V6/ozswNDpJ4aml6WmZvT1lkllPS0wyG30owNElI37Ur7+RJwgTgnaa6urACNAWo6OJF/EvBmTMYI1jx1194Kqm1tdrHB3SI2MxMs2FDm0wGG5Rz5AhxblkHD2bt369PAPN4WGqi1HD9ap4+rXn6NDkoKG379oKzZ/WtTPl8hG5VDx4UX74MawLf06FUflWrpTY2QOKajRshcWp8+7b58+fU0FD4SxGfr9mwoezmTQxck1hZAV60y2QiU1O0r8oMC2NBRmJAAPUSl1hZSSwtcZbQcwPucLShITkkJCkoqPHt2+ZPn1K2bMkMC8uJikLVZtGlS41v38avWwf1nNLVVeXpifyLHrXY2oLIldnZ5Rw9ivLxkitXtOHhIlNTlYcHunPgtBCsqbx7V+XlBcdAUiaWPvkaH1//+vXc4CDAltzeHmSSgMNpl8l0P37I7OwQtYjMzIqio9GeF32tmz99WpyYWBgfV7q61j5/3pORUXbzJow+LU6XRqMJDATBsDw3lxwcrD1wQGfo+K37tUOAyMyMok86lgoXFygVkPzGw7CWhPJTGXv3YhHapFJ2tO0vGcdfZ7eMNTVh6N7PyLKuLu/4cVB6bElei0Cg9vVFRG40pQAkVnZkZN6JE6P19RCOrC4tqTw9QWKhRw26sg9XV7eIRHTOB8vK8k6eZFtOxq9bN97aiobewBOIQZGIge0ix49wH2sCf1Z+6xaCUX0Jlp/fj9VVlZeXkVgMpBSQFm6x1MYGOo/cqCiVgczIOXo0ZcsWNtcGLQLMNbrA0kYLudysgwexWdPd3VQjBPQ21tyc92t/X1ToZR08iEYc+qT1iROIRpo+fiTvSwE6aXSa3r9Hf3Ji743GO+YdP46Dkb5z579BBV1w9izbdUhsbr40M4N6/76cHKMBHaP19bSmWEQFU/5L4+rAHI63tFARMI4UBaO9Wu1IXV1vVtZIXd1oQ8P3kpKiixdxSjri4n7RfxGpsmMHe1x+Zn38/eF4CgzdP4xy2JTkSNm6lQw9cXQtAgEOClBzw5s3FBOQ7ELP2TJiJRKCsvWU+pG9hiPOJmhJvzPd3Z3BMPblf/xRyDy2PkD58WO8paXpw4efk88NiYCmjx9hyIovXaIGZPS3YCJhjtGC4JeDC3ixa1ebVNomlbJ3Bmb398TSTH8/KS0JrNS+eBHv5QWroXBySgoKUjg6Lk5O5kZFDRQVKV1dKSmY6O8f7+Uls7dP27694c0bPDBcspDLTf718dS+vsWXL2PeKhA6qjNXFhbYDnZ6dvrzZ7qNOp1ufmgo78QJ7aFD4y0tsCDfkpNFpqZ9OTmwQYghqh48UHl4YNIfdKqDpaX1r183f/pUcfs2PGvWgQMCE5OMvXvZVIuQy624fTspKGj2+3esEiwjJi3C+mPs5mhDA5UUwwISgZYYGJgbFSXk8b6lpPTn5WGv54aGcEFKrl7FAV4YH19dXMQDg2JJ27btW3KyxNo6zt0d2yoyNYVDohR4ztGjqrVrv6WkDBQVCbnc1aWloYqKjN27W4XCODe3saYmta+vxNIywc9P6eo6UFjIXnnyNABAuNFwnyuLi8uzsxl794rMzBROTrUvXiDMktrYSG1s2hWK7yUlND42cf16WAB9+tnMjI3ksiMimj5+RBAv5HJZaTo2CNZZ4eTUl5OD9pNL09MLExNASMTroI3Mt+Rk/WjFv/7K2Lt3qLKyJyvrJ1Zmylpmv39HcqQkJgYcCXI0XRpN0YUL88PDbJUjET9V9+51KJU4q0bh5nR3N878QGHh4uQk5TL1tcubNkFeSuJhnaEt62hDw0htLS5Ugr9/nJtb0YULbPt9NjXQnZ7+symswan/4yBUij7ZQcil169X3r3LipNJ4sf2Z20RCMAhrS4vU5SZHRmpdHWFBIdVbLHxK01y605Lk1hYdCiV9bGxnUy34Dg3NyxmwdmzzZ8+GbVC0xlKTzWBgWChFqemRKamWExIndl0dXd6et7Jk3WvXrGaId2PH/8GB2yk4kMNGbVZZ2fqjbe2Ukbn5zq2tq4uL093d+f905ADykeyFhxOvVerpeMO7qhLo0kJCRHz+Z2JiTglrSJRf14eHZ3x1lZgQFYXCsJk5jfoaqQVMvJGuB7swBCVuztiqfHmZhqHrI/Gnjwh+p20FRRW1j5/XnTx4uzAwHBVFSIb8Lrokk+/gpgP0UlfTg4BzHhvb1zavJMntYcOwbERCf+9uJi9A5gP2CaTSays4DB6tdrGt28nWlsJKrV8+YLYa/rbt/mRkQ6lsuXLl+TNmyHeTtu+vV2h6FAqa58/l1haopUgbTS+Vzo7A0YMV1XppXDh4WyqHlik8u5dpNmAZpI2buwvLGx8907h6Fj4GxjCokmtrVNDQwdLSyEAhmHqyczEhiK8g85CExion4jF58Pqpe/cqXB2pgl3CGIWJya6kpPZ9N5QZWXRxYuU8fqqUn2Nj2+TSFC2i/Xpycqa6uwsiYmZGxxExNkul/dmZQl5vIXx8eW5uZm+PlDH+ORvKSnVDx8m+PkVnjuXdeAAHqz48mVM30sJCal5+lRiaQnAVxgdrXB0HGtqinN1Lb12DULr4aoqzYYNIjMzwq8CDqfs5k2JpWW7QtEqEsW5uU12dKRt384es5onT3CEJtrb8eIKJyeQBFIbm3gvLwQHIsNUA6WrKzTALQIBBPPYPmDlzH37yKZrw8NltrZtUimoGhRlTnV1tUmlE+3tCmdnNnFD3GnKli1gOOQODkapO5WnZ2JgYOG5c2T0STYIT7w0M4MESs7RozRpgIj3kitXEgMCUrdt04aHSywt616+rLp/n1oiyx0ccg4f7s3KIgodXqfx7Vtq6KjvNurpqdPpJjs7qx48YMMvhJvNnz4ROoS/n/3+vS8npyMuDk0cezIzUZqBrScWtObpU1ikRH9/7aFD/1zaZKDHQBGpvb27MzIEJia/myb6WMpn1b16BRCsM3TzJgQMqId1rnvxoj8/HzEuwvG0HTtwqrMjIlgFzC+6Kpnsx8oK3ovtDtupVi+MjeFdsLD4ZAit2yQSlOr9roo3SjiSFcXZ06dafH0JEJTfurU8N9eVnIwXb5NIjOh6uJX0PXt0Oh1SeM0fP4IeUDg7A9GiyY+RY/739IJmW6uzXwIOp/D8eRT4/xLMGbKeBAlBUA8aBt3/PoCaKhGpoStdnt+/CPS1SSQVt2/H/9q6DL2lyH/rxa4cTnJwMNEjCkdHOpEqD4/kzZvj3NxAvKSGhhZduMB2liG6jD3E5AXjvbyQYJtoa0MEkBEWRhJNapGKYRIiU9MfKyuthmZvI7W18MpNHz4Q9Q3QQFFO5d27BEshX0zbvh1hX2F0dHZkpMjUFKwA/IpRJ69fOJxz58pu3kSqbKCwkCwFG88lBgRgzi4LZXKOHiW9EvLQpGceKCqC9Kb0+vX616+JUQCymWhraxEIYHbzUKwiEOAiQUkANCDm89ntHqqsFHK5cW5uMjs7NN9B9+OqBw/AQFDCkoq+vpeU5B471pmYqHR1RW9FlacnbjtBuvRdu4iSQQq5+dOnyrt3RXx+xt69lXfuCDgcBbPFQh5P6eIy0d4+NzhIxl3I5Q4UFqbv3AnTKTAxKf/zT7G5uZDDYVEjuRa5oyOsv9LVVWZrW/vsWf6ZMz0ZGTI7O7RUlFhZ4QfiPT0VTk4oNc46eJAEcZNfv6Zs2VJ49mx/QYHK03N+ZGRhfFzE58PolFy9CsIzNTR0pK5OYGIClSkGLukd6qFDuceOLc/Owl7Xv34tMjOTWlvXx8ZCMipfs6bg7NmezMyGv//W3+UfP+pjYwH45kdHsYPwxGpv7wRfX3bqs8TaeqqzU3voUPquXYPl5QTI/l9HERFPq0hEP0B2vOHNG/DMuGu42ipmYLbAxISoYyGXi/42+g9h1MuZYWFFFy+ioK4vNzc1NFTt68uesZIrVwrOni25cmWgqIjVKAlMTChZ05ORAdvVn59PJguNSwFNED3He3n15eSgGxfgtdTaGiEHSab1vTPPngWtmr5rF6DSSG3tj9VVIY+XHRk5PzLSpdE0vHmjrxTYs6dNIgHCLoyO/jkW+upV1dq1cGw/RxT/ZlHbJBLkB8v/+GOyo4PIGDxwcnCwfM0alj3SBAaO1NSA6siNiurPz0d6gowV+ycI0Gfu3w+wAs3B7z+JFcjavz/n8GF2siG4d9jqyc5OltdkE5FGPaJxv/DYRm3s4j092ZDpX+KAiy5cqLp/P2P37lSD2TXqaWXU8ZG4DsAZEDhlN24oHB3Rr05qY1MYHY21E/J4cMmzAwN5J0/SThu5c9z8midPSDD80yExvGjDmzdyB4eCc+coEUUEzs8BYQZXjYhT7eNDeBM/k7Rxo8DEpPnLF6OiGvwh9gCx2FlnKObT50WSkshLLU1N4WiqfXxo1jp7enCk6PwtTkwQcQ1DJjIzmza0Fwegiff0TNm6dXFqCuUNWLfh6uqq+/cREQKhk9hhurt7oLCQYuWE9etZXMJG8+DTCs+dmxsaMupHWHHnDuXRsafGIey7d2I+X2Rq2qvVSiws4BVWl5a+JScLTExAH5Vevy6xsiq5erXy7t12uXyktvZbSgr4BkjQUb+BYzNQVKRvze3hIbawaBWJhBwOhgmq1q7VbNyo9vWVWFnBTFQ/fCi1sYF3b/78mR4eabPE9etldnYqDw+ZvT1sPeA8gZ7MfftEZmZI8LcIBFicrAMHtOHhvVlZCkdHZPKmvn1TurhMdXaK+PwEP7++nBxglARfX6Wzc+H58wVnziicnFrFYlCp9a9fi83NhaamoAdVHh4SC4s4N7emDx+SN29ODg7ODAvLjoxEf66koCBU9LXL5Ql+fvMjI43v3nWnpa0sLMCRYCgeZQ3V3t55J07MDQ2BkUJUWvv8+VhjY+7x46XXr8Ovg85N27699Pr10YYGbUQENbLGXUvbtUv3W5dTsYUFLgvUVeV//BHn5rY8N9cqFudGRcV7e7P6Qar7x09SziXBzy999+54L68OpRKXOt7Ts+bJE8gYSULRlZSUGBCQHBIClNOXm4tj2Z+XtzA+LuRyIUoo/+MP+Zo134uLB8vK0nftGiwthQZCYGKysriYd/w4dl/A4eSfPp2yZcuPlZWco0ebP31CSgIsCIsJKm7fbjcwT5ScpneR2dtnhoXNMFfvp3c3GKLOxEQQ0RTM4RWULi7Y0Ma3b4U8XvWjR/0FBbnHjtW/elV4/jyV7UJWUvvsGWBo8aVLzV++sNXztJjVjx5pNmyAqr/i9m2yHnid4suX+wsKRmpq2BAW4CA3KopgB2tXqecgPpOA6Y+VFbSt7dVql2dnv8bHUyCOpgj4EJKpI3cj5HKpWC4pKAgQsCcrC1EE0XtGX1grlo1nLSHtFDAQ7ibMshGfSu+FoIj6r/0bHPC35GQhh9OdlsZyX5RXIK15i0Ag4HBgvn9Jb3R1kWcaKCjA+WCF42ySWGxhgcM3WFYGg/W9uJgU10a1a//4wCA/iy9fBhcqMjWVM2ai5csXuAGSRuccPTpQUADtNMuLTn79ioFCFMm1ikQrCwuZYWGSX/vLAHQ3vntHKWExn9+XkwMrjzBa6eLSl5uLWRRpO3aAHIY4mS5YZlgYO4IGmrLKu3epxkNkaoplr3nyJDEwUGBigkVIDQ1lQWJvVlarWAwdIJ1j1dq1uLG1z54RB9ifnw+APFJbW//6Na6KkMcDi0i9u9Xe3vFeXvhbY42N9bGxxBDWPn8+NziYd/w4WpEURkcTClY6O7eKRHHu7otTUxJLSwSLSEyi4ShYE1yY6e5uEZ9PqoqkoCDUM8CzGkVRam/v3KiorIMH4XXANBAzgSehPKuIz88MC1N7ey8xlAwo8Zne3so7dxD6Q/MCNDNUUQFp9NzgoMjMDIO/FE5O0GrN9PX1ZGRMdXaC4k709+9Uq9N37fpeXJwaGtqVlKT29U3atAmuBVFCf16eau1asbm5Njy8+PJloMOOuDgEUnqBdEBA6fXrCien5s+f5Q4O8V5eKk9PtY+P3N5eyOVmHTgA5AqskHv0aH9BAYIkqbU1q4IU8ngAqQIOp/rRo6wDB2CqGt+9kzs4jNTWoqsXmS02fymzs4OrWJ6bg4x5qLJSZmc33d1NWvHe7Gyc2KRNm0R8fotA0KvVCrlcvAVeDaPi9AXQ27ZNdnTAaApMTPrz85vev6es6sLY2HhLS9GFC/Genuww419k7YcPx7m5TXd3gxUXmZqmbNkCeDTd08O2F8be0fRZOF2qF2CrX7AI2RER2CYcWhwkvPj86CgACrLCAg6HsulCHu+7gbuGsSr6NepqfPdObG4OMESQd7i6Grk8GKiK27drX7wwyu5NdXXlnzqV4OcHoFD9+PHixES7TEbORmRq2mHoDMNyXWyWmuITdjAU2+77lwzgr+IJkLd03cCBscMPfiYdHBwo+V0SEyN3cGgViUZqalAQzzb4o8pmfAO0aiSbYh1BwZkzKVu39mRkrMzPI1hnfximiQBo8+fPZD9JLPxjdVXu4IC+nv8GB0xyJJybnKiowbIyeAIcILYMnGzfQEEBm9+l0Ha2r0+n0w3/qi4GWGPl1uAV49etYwm9kbo6fedbZ2dKGBeeP090B5mJ1aUlVtkrtbbGmUjdtm32+/c2qVTfUR3DbZiEzU/X8uzZ4sREypYt8yMjRRcuYJsLTp9mZxIjvOhKTi67eRMIHS0eKUo2QnBGuAGrB7CWFBQE3J2+axeVNKA/FwI4uYND8aVLxILSNYNw+uc8A09Po+4EcgcHpYtLd2oq/enU0FDUuvykywxcOqgLNMlDwEfZWSGXK7O371Aqkf9G/VVKSAgEjQSEQc3Vv36dGBDAjvHQ6XSY/lZy5Urj+/c5R440vHlDMjSJldXK/DwOzNL09O8ptM7ExO7U1PI//ySblRoa2qvVtslk9O4KJycoBHWGrlL6ZfzwATMqRhsaRKamelLB1FTp6tr8+bPCyen3UkicqL6cnDaJROnuXnzp0urSUnJQEBiCkitXqu7dw88kBwcLOZzhmhrSEIzU1TW+eyd3dJRYWak8PAQmJoR4VB4eYj5/urs7adMmqa0t5VzwWyIzs4w9e8R8vn7AsIWF0tUV0nG1t7dRWjT/1KnimJiiS5fY9c+OjKQijZGamsywMDow5X/8wQ7DJvykn4PCALihysrqR4+QFkHGt/Hdu3aZrPHtW7GFRXZkZBMj7kNkU3ThAkJPqtEHrGn58kVsYSFfs0bE53dpNEQ+pW7bBtndT9So1Ta+f7+6vAzYqvbxgQWAMal++DAlJETfQ+raNdwXI7Vzgp9fUXQ0TcWhGl9KIS1OTgo4HJmdHV4ZvCgu12RnJxR/eAsRn19240a8l9dwVRUL/upjY2m103fvRgq54q+/pnt7KaKIc3Mj1k1sYZF7/Hjq1q1SO7viy5eJY1+ank7dtk3fbK6uDlxxZ0JCb1aW1NqabQhFP0/BJXJhtc+fs6//e3IX/y/YnamuLrYTQ2ZYmMjMrPrhQ+2hQ0Y3lI2PjdqK6Ym0nh7Q7HNDQwOFhbmGHDwbDVOYRGNy4MhBcoAtAO7J3L8/5+hRTM/MOnBAyOXS8yDm7kxIgKFenJyk1iijDQ3UUcRoyI2REvZflQPG9aYJ3iRrxN4LTExwbuK9vJQuLi0CQWZYGMKdOHf3scbGocpKo/6iIK7RcwB2Hz6SlNLE0sCVsiAOxyt+3ToKtcnGLYyPI9QDPwYYrnB2JtMA7AaozhZC4EOULi7g69ga09yoKJrt8zNcMJgY8rVGLWOMFH05hw/XM8Xj5Cb7mWnSIoPnTgkO/qbRQPrU+P69kdRcyOMVx8Toow1bW31ZbUNDvJcX8ApoTKm1NfA73QRUT7IsutTGRu3jA+dRdOFCPkPs6Ech/f03KA16YE1gIHYEk38QH2Tt368JDPyWkjLa0FD77BnLauh0uuSQkO+G3D+sHtnHOFfX5dlZhJ4Jfn7DVVV0q1cWFqA8kFhaphrcG1Lsmg0bKm7fphYZPRkZmGKbsnUrYR1Aq9pnz5o/fxaZmuJUgJOvffasNyenKzm56cOHAqb/gM4wIAgD71K3bUMiGWtYefeuNiJiqLISeVCWgCULCIcnsbQcLC1dGB8vvnxZbGEhsbLKDAsTmpqWXr/+vaSk8Px5IY8ns7WdaGsTcrlCDifey2usqQkqm/RduyRWVkWXLjW8eSM2N49zcyM4krF3b/LmzfHe3nJ7e5jv/FOn5oaGZPb2GXv34slFZmYIfQQmJt9LStplMqR4UrZuzTt5cn5kRGZnJ7O1ZfsYLIyNgaIEU4UQcLS+XmY4WrgC7QoFTbDAv4MDoJQEsssUUo+3tHwvKqp9/nx1cbH0+nUEuFJb2/68PEq4ok5XamvbnZ5OfQqNesL3ZGbWvXpF+EPh5ES3vlUsXpycTN+9W8DhZEdGste5KykJIq+G2NgEX9++nJwEX18Bh9MqFhMdqnR1ZQ/qQGFh+Z9/kta34q+/EM+BVaIfo8xL+q5daPCEVyNFmI4R4XclJcGSJK5fj4UCDCWhkMrDg0qe0rZv/15aCruHOsOWL1++l5SwBZb9+fnFly9Th1Q2xJTa2opMTWX29qBG2PJOtpxSbGFhlODDyicGBo63tEx+/YqHr7h9G3XM3ampCLF6MjJaBIJ/zMGxn9+ZkBDn7k4Li1ANe4EVGG9pUTg5sfpTtpFiT0bGP7Z9poBKamtLwnL9RGcDOqGMBrWNiv2v//r3OOBf0t3r1i1OTraKxWILC7aRE8st5586Bav3e3szksZBoISxXxR5fI2Pz9y3Dx66lZlMqfutzcUv6Ky7GxgZMWXFnTsw6+MtLYjwkOKits/4i3SZwThl7N2bHRGBehhYXnbYEUVUeprLzw/ZCJzg/FOnKMoE095fUACjRjWp8d7egHI4ZDi4KAxlQSjbsBoiXlY9BJyRHBQU5+GBo9b47t1Xtbo4JgbtC37aMiurgcJC0ODpu3cTNYRYJP/06cnOTjYN/GNlhfKIRljyZzJ+/36dTqdYsyZlyxaJhUXzx4+4ZpMdHRAtIwiD28g7eRK0RJtUSuekOCYGSycwMVmcmKh5/DjOzS07MrI7LQ1kYNW9e3j9eC8vuAo0Rohzdx+urqZ1yD12TMDhYBJXSkgIYPh4S0vK1q1TXV2F586Nt7aK+PyRmhoKBBMMdJaQy805ckSzcWNnYiK6NMAigCxpVygkVlbFly8XnDsn4HAEJiYVt2/HublpNm4UmZml79qF6Pl7SYnEyio5KGh+ZKTqwQPtoUNlN25U/PVXR1xcb1YWZKgCE5Oap0/hsb4XFwt5vNTQUJm9/Y/V1W8pKY3v3imcnDL372+Ty3EjUrdtQ1cvTFHtz88nnhAoU8jjLU1Nifh8TWBgzdOnKmYWJHZ8rLFxtKEh0d8/99ixzLAwuEyVp2dxTIzUxkbI5Q5XVY3U1NAQIQQZHSoVIAXY3Th399WlJdDRAHDUX32kpkbI4zV//jxYWgr6IW37dpWHB06R3MGh9Pr1rAMH6l6+xJ9We3urvb3bZTLM7Sg8f36qqwvOMs7NbfLr1x8/fhDeJSjzvaREZGaGgAm4n1KtuEFxrq7sHEyxuXn67t3Ls7NiC4ukTZtws5C/b3z3Di/V9OED271Bz5d+/MgGcMmbN7NpVD0D9P49PdhoXV3G3r1SGxuxhQWL9uDX4b9pzbFWUDMAW6jWrkW8Qa3ZdJ1i2hkAACAASURBVDrdRHs7jOTi5KTAxMSowyvuUdr27RILC21EROL69T9WVr4XF0ssLYcqK0uvX8eNg1R4oLAQECr/9OmGN2/Aq402NADyFpw7x76sQZ39Aw+p8vTUU5uZmXhrI67YKJXLKuNwzVt/bZ7FCjYp0bO6tARYj1I3CuXTd+7EmswNDuKxJRYWX+Pjadrjyvx8UlAQNb8D0MSHGHWP0NOoMTGv/x0OeG54mBo+sNg5MyyMcn6wmEi0kL685OrV31sj6X5rbPlLyicigsIjtsZJ7uCAi4fDDQdGsV3i+vWY68LGqSwLnb5zp3zNGqWLCyuV+ona1GpExkpXV5oUBLoJRFnj+/d5x48vGuaHjDU2Lk5Ooiqf7AJ9Y5RZQXqMHe6rYyp3K/76i9IYiLypD7A+Er13DxGqiMcTmJiwg1YAd/SNMnbuTNuxAzQjNXiaaG1NDQ0tOHs2Y+9ebUTETH8/aAmFo2OvVlt57x69kZDD6VSrGwyVfMg7ALKIzc1VHh5G97ZNJmMn5nanpytdXbEdQg4nOzJycWqqOz29XS7PDAurefqU+De9eS0qStq4UWJhoQ0PF1tYpISEII9FHY6WZmbKbt1iW56V3biB81AUHQ2aC+av+fNnJCYQe2nDw0GxVN67N9nZ2REXh+xd5b17LDpUe3uDAIfZ0oaH1z571vDmDZzc0syM2ttbamWF0kbk7NFmhDLNEmvrhr//rme04rXPn0PqRcnLxPXrNYGBdCYb37+XWFn1ZmerfXwwkEBmb6/y9BTyeDN9fSAMJZaWS9PTMlvbupcvIS9QrV2rWrtW5elJobDUxgbKhvHWVtXatanbtsns7SVWVgIOBw4Ay4j1kTs6CrlclacnlqX22TORmVlySEjTx48iHm9+eLj22TMI1qQ2NiLSJLu4xHt6kngndds2AFYhlztSU4NPVjg5iczMUJMd5+amCQxM27Ej9/hx1EkXXbw4XFUls7Vli02zDx9uEQphiFWMuAHZB4mVVdm1awn+/kUXLvxYWQEXtTA+jv9XY+isNFJX15WcrAkMnGhvZ+O82mfPxpqbIT9M9PdfnpujylRA0vTdu7vT0kBrT337tjg5KfxVOQwvKLO3BzQZqqigrES7XA6NAlF0JLHU6XSg5YsvX04MCEC8iE3X1zIxhUZzw8NSa2t8VJtEYpQGZsk8cH6N7979o5I8ZevW8lu3Wr58YTOAcgcHo5F/UJAgyJbZ2eGjyCZrIyKav3xBuSCbMdRH23l5bC0+ELnC0ZFtHocudRSFY8tahMJsg3HI3LePaH/2i7WH+adOqb292Vlw/zgPioIxPBUZh/SdOweKivTqopgYnWH2uZDL/ZdQ0EaN/nGCq+7fT9u+Xenq+o/N6v4xaQ+Mj0Fs483NrGxdZ2hPWv34MdFNYFAhqKOMUeq2bbBx6LcFW0PEV9X9+2QlEwMCCLZjd/sLCiChEpmZ4UOaPnzAX2kViZB2AiJL8PNbGBsjaqWD4XwQgeUcORLv5SUwMSG4UP7nn6D76I82f/o0PzpKIjI6QGPNzYNlZXFubqXXr7NpXazSt+RklYdHUlDQbH+/gMORr1mDHgLfS0qKL18eKC4mH0/HOmPv3pSQEKLgap4+hWFCY2qlqyseKW3Hjpn+fuCYnCNHejIy8MqIenFLWVRbdvNmzdOncHsEhlJCQvqys9m5wo1v3yKJyHpZqm6EKgpmMcHXlxgI/FFteDgixVaxmFS4iKShidNLLu/dk1pbN3/+PDswEOfmRo26ZLa2Rn22M/bs+Vn44eGBJN9wTY3Eykq+Zk3h+fND5eViPh/WXMDhpO/atbKwUP3okYDDafr4sb+gIGPv3naZDA0rMFZE4egotrRsl8ux4Muzs/gGozAzdu9GBzdNYCBp8lVr18KStopESheXLo1GZmdX/fBh/Lp1CmdnIZcrd3Coe/FCYmmZtn37YGlpop9fypYtSUFBAhMT5BEklpbJmzdDgwrKLis8HCek8s6dr/HxUmvroosXp7q6ejIzc48dyztxAuYVwxwLzp6V2duDPim5ciVp48bJr18JvWk2bKBR8H25uZV37wImCkxMlC4uYnPzpvfvhVwuOnskBwfnHD1a93+5e6+oKNPvS/h2bmfW3MxaM+u7nUUVOWdUBAERUUBRFBMGjIA5otLmbnNCMbUVKShSUVCkgiLnnHPOOaf6LnbV8bHo39z/u65aG4v3fcI5++yzzznv33enpfG53KHi4tzQUD6Xm3/tGvhSUH9Vr1+PVFbCbWC01Exvb096+vzwcPLu3eP19dSLHwzqRh0lNI90X4ipTvb2HiotxYVtlUhGq6qg0MTmDhUXt0okZY8fi0xNEafSN1T89ZfY0hIBdP3XrwgS+FxuX3b2xmY+OJkdiYksr7C2soJulP+Ybc0+d06tbXdFGoKa9+9r3r8fyM/f6DhB4FU+f560fTuF8kTGCgwNARYXJyfB3qHZGfG0ZU+fynbuBEVc/e5dooeHKiSE7ZuB7o9U6rkwNsaSBKCdFkZHG3/8QCyrI2GjWHasoQHpdkVAQN/vmbWu1FRlcPBkaysSMQD0qf7+tGJT7e0l9++zTwWDLN+9W72heVHRnTsFN2/SSdBICm7cQI7yH7Va1I9dJxxP9vYeZubcwNr8SxwwaNjM48dJUdyekJAZFKSpPdXK2RX79ytPnYLF1EmvbvyQoRcaG1OHlMmWlpGKCjh4xCtJO3bIvL3nBgZwGyebm4vu3AHHqEFYx47N9vXlX7u2kSuu+/RJbGm5cew2GKFUf38YC7L77KFRa0eUF96+raPPTD90KPvMGfK7ZY8fVzx7VhsZSeVYWdpR0nIfn3gXF0oI9WRk5F+5wuLHX/JsLXVD7oRuL7Er7ISWBDc35alTIlPTnowM9GWllKTI1JRqFhfHx7G21W/fwtrmnDtX8/49gccEN7fF8XGxhQVFVxnHjkHuDqQyVleXd+lS3JYt0ZaWeZcvx9jbt8XG0kIhVzqqzdTmX73ar1IV3LgRbWmpg67weHWfPxffvbs0NRW3dSuxF2CYOxIS0gMDNZ2lTU3ZiKdboUg/cgT8OQ0xxeVEbCr38SGZCaS2k21tmsaKenqkeKfUl3TTpnqtjYZkRke5BlJdeeqUwMgIXAseqSQiQmxpWRQeLtDX53O5KX5+RXfuDBYV9eXkFN2+rQwOzggKAo6Md3EByQEwgaokyG4RPkLN161QJLi5VT5/nnf5MrZMbGExNziYefy42NIy1tEx1smp+P59ZXAwNdoFp5fi55fk6UktVNmyyxaxWGRmhoh5bWmpKyVFYmNDtoxyeMCsiJ/I1Y03NuLm5pw7pwoJ6U5LWxgdxVVl6Vb2U/70abS1dZtUGufsPFJZqREVatt0xDo4sEOxcsPCSF1fcO0a6IeMY8dk3t6DBQWdMln5kyekTaMz2ZWS0p+bO1xaGrd1K92CiaYmDRe9eTNxSOONjdMdHXIfn9IHD+oiI5dnZ2MdHRO2bSNPw2ZzE7dvj3dxyTx+XGJjs9FZKg4cwN3h6+v3ZWdjpCM50am2NmBQ5enTuZcuwdqgZT1NMmU/K/PzqgsXSh88YGPBme5uRUBAwrZtPA4Hw0OpARmsX+L27aiw1+kL9o+fkYqKgYICmlaH+0KxKavtotGuqC8nG86ycZnHj6tCQ4vu3JkbGKBmAPVRUQRcgAWBMuuiokhhV3DzJqqo8b/IeLbHxREoR9xP+1sSEcG2NhIaG1f89ZfAwGCopATOmIwJsGm8q+tYXR3Lj9IrLM/MNHz/XqKFev8GB9yfmxtjb48cxvzQUM379wgZB4uKMrWeBpmDjGPHwMsLjIzgZhT79+OO4e9JskSjjXAb6Yrim1GaPT80VPvxY93nz/VRUSzN0hodnbJnD8IjJcOCZhw9OlJZiSB7Y006BdAlERF8AwOxublOed90Z2ebVErHtEUkAqeRvHs3LmfRnTuaKVr6+qRx0GkAIjA0VAYHkw4QlgtDikhUjBuYGxZGRj89MDB51y5E3osTE1TyW/fpEysCT9y+XWxpiVz1QH4+WwAtMjVt+PaNrY/S0UpIN2+W2NhQMr5boWD1dDnnz7N5L5YzBO9EViMtMFBiY5N18iR1KkjetSszKAg5vFR/f3JyixMTpQ8eoCd79tmzlS9eSGxs+vPyZF5esQ4OZALwnA3fv4NGzrt8OXXvXlVoaP2XL3j3nowMgYFBgptbi1ic+3vxX8aRI4i9UCqztrISbWUV7+ra8P37RFOTYv9+ua+vyMxstr8/7/Jl+NFmobDq9euSiAhkSfDA9V+/Co2NQdYleXqClkRMT9g8bssWsaUlAiByZhSIC4yMRqur6798mevvFxgapu7bVxIRwedwAHp4enoiU1M+hyMyNa398AGS8pzz56vfvcPrA3HWff5MdhaGuP7Ll5S9e3PDwqrfvEGclODmhmVZHBtDhJTo6dn44wdfXz9lzx7VhQv9eXmNf/+9MDoK8oalWDKOHJH7+Mz29jb+/Tesc97ly4nbtyfv2kU9Z2D3dTAiDGWrRDLZ0pK4fTte5Nd9lEjYnjaUgQK50q9SsWN2yh4/ZofC4l2ahcLqt28bvn3D6+eGhkKwid8SY2cXbW0tNjfHIYQXJMHjRGNjgzZVmX327NryMoxvT2YmOwEQ2dn6L1+K79/vSkkZq61VhYRA2wgvDoam+N49Gh6K9a95904VEpLEqG1FZmaUY2IrgFnk3cTn64xkZbnfovBwzfBvrc5joKCAqpBJ+dUiFIKpgqefHxrKPnNGJ5XD1gvAd2YeP05GqerVK0q7kEkE2KLSpuTduzUNOnJzIW6Kd3FB7/2G7981TZuDgmDk8ZN1nz8D9CMGXZqaoqFnuNdk5ykCLrh2DRlodnogci4682HZz+rSErwsAgYkyFjuGqQIjmu0tTXcBPvbQ/7P//mXiLBUFy4kuLmhzmR5dpaNGIB2eRwOrvHS9DQkM8TYIJNUcv8+OVpSAyVs25YbFjbT3V368GH2mTNJO3ZAGInWBBTrVL97JzYzYwXDOCjZp08jN5nq749As+r1a2hf6RTCSkIAwnospFfhfsh84HxnBgWl7tuHFDKfw0k7cCB51y6RqSlbrbEwMpIWGAjKqF+lovZD/4l+1/mw/FtuWNjGJu/o8dbw7Vu0lRXJfXHgaj98yDh6lM/lDpWW5l+71pWS0p2eztpE4odRoodz2ZWSksHI5QAtE7Zti7a2xr8l8SGcaOkff/D09NheM+w96UpJSd69O8bePmXv3gR397bYWOw+7VrN+/ctIhGrdZRu2iT39cUaCo2Nwfh1ymQIXuO2bh2trlaeOhXr6AibWHjzJksvw4QlamteKWUltrCQ+/kluLml7NkzNzg4kJ9POQixhQVwcfG9e3mXL09pbRx6Xs6PjCS4uU22tiIWTN61a7KlBbgqmmnvV/Hnn7GOjmBTND01d+0quH6dp6dHCr76L19+lSFVVSW4uTX++FH/+XOMvT2S+rCPtR8/pgUG1rx9i2qZ3LAwguowMZ0yGeQRIjMzvr6+6sKFjKNHm4XCZoGAxZRiCwuRmVmKn19PerrAwEBgZERWG3XAQiOjTplMbGVFnArbGJzP4RRcvw4HOdPbO9nSAviF5sMr8/Oxjo6qkJDK588pfOHp6dVGRsY6OsKbynbuHMjPxy3uy8mRbtrECmtLIiLwhbD1EDSAHRWZmcHDsT1rC7TuX2BkVPPuncTWlo4NICyFp8uzswXXrwPgkmgOVoXMLjJHOF0CQ0P8OpmXl062teb9+16lkrKh7fHxcHhCY+PSBw/IwcNhCAwNY+zswD0IjY2RhFKFhuIFdSbYD5eVESmNXUaUSZ6DBcoz3d39eXnUFIXS1aB2ezIyEpkib00OyN8//dAhFH838XjQSLP0mAYE8HjDZWVAeFAqlD54wLZrpqs6WlPTKpGwfaSBXRDMUJBD6Xbiz9BgHBmx1H37sk6eHCwqguElyM6GEKymjHSvv7Hf/6GQREe4Ux8VRegKWEFx4MB4fT1fXz+H0aIvTkz8e8qQhL9XoNJQjo2KQWwViF9UWNZ//Rq/deuYVh1AsjeBgQGfw2GlMeShl2dnadFT9uzhc7m4b3Qapjs7MVRVJ6nApmBhFNiqJCItoU2V+/jQi6h/b8eo3tBjXa2tLoA/08zPMTDoVSrXV1fXV1cnW1uJPcPT8vT0WiUSiJXIRP7SOPx+b4HvwEWP1dYiBhIaG/P19ac6OhDBg2YnR0gVIAQg1paXFfv3S7ds6VYohkpKYrQEAwJWwKbGHz+QvCQ02hYXB+tALdEHi4rY2oDyP//EDWf15JnHj2NV54eHUcMNz5fo4dH44weiN9rB1aWlf9SSVL9+HePgQAovIiqm2ttBDvdkZJRouwvlXryIllLR1tYIXxI9PJCMkG7a1JeTI9+9uz0+HjuO0QWVf/0lsbNrj4+n5jj0H/Fbt8KLU4gW6+goNDICAZN36VL81q09GRnQ13TJ5TF2djUfPlALmmgrK9X589mnT6cfOoRjGevkFLdlS7SV1XhDQ3F4ePHdu9hNmZcXytgyjhzhcTh1nz7x9PRKIiKExsbphw/35eTAuVa/fq08dSr77Fm08k4/fLhbm7JtT0iAmCvtwIE+pbL0wYP+3Fyy8srgYCjRRGZmCCLLHj1CnlVgZCQwMloYHUW5QZyzc96lS+hzUvvx40hlJY/DkXl5daWmSrds6UhMjHVwKH/6NMbBYai4uDczk+o6cPLhobEpY3V1sH2wyyl79+ZdutQiFmP+rtjcnByVmqkzaRGJWkSi9CNHsGvURjHFz6/s8WM+l5vg5oZwiuBgtLX1dEdH5cuXg0VFGUePNgsEgNSQnlCCSdN6KSMjZc+eWEdH+DzU9cJDxNjZUdpLFRKS5Om5MDoKCEW8l07YSgwNfQ9hwdR9+3ASSv/4g0oeyIjBjrWIxflXrsDcDZeXs3oxMHYFN26k+PnVvHvXxOePNzSAaJXY2rJ9fFngBYzbFhu7AnHc+jqYReqcDMtAs0SXZ2ezz5yBUl1nuC9hepa6GC4vRxoV2ROgw1R//6pXr9iEkUbRIhCotf0AyOqSRVJrZ7TriE9JIUHGp/LFizaplHX/v6Yy5+SomcZEbL8RmPGC69dBBLKmO40ZDfnvccAw/RtxFsTG80ND0x0d0s2bl6ampru6YEZX5uaoHWDCtm1Yo4Jr1xCIsM1XWV4iNyzsPxXUImW7ERKCD9F0B7W2BsXKTvxle4noDEZEQAZsqzPkEtEt27EdIg5gOjqRMCXJu3aBZMY1E5maFly7VvHnn0Jj496srFgHB9WFC1gNiinzr11DHKwMDpbY2sq8vPIuXfrHcJnFPYr9+9tiY4FOEDum+vuXP32aefw4yRNEJiaoSmRrVdVq9dzgIHwkngHXFU5oorERf0w/dAgbpDP8HFYSX1jx119kUjVGQSpt+PZNbG4u3717oqkJVqPyxYvyp08HCwupaVeSpye5YcriT3d1JWzbJvfxQVREmsnF8fHkXbvIN483NGjG81lbS2xsaNpo6r599J1rKyuNP37AplBKXmBkhF0W6OsTHsdMaPxDIhIb//4bf5Pi50eGSXXhQvbp0/iHORcuKIODayMjYxwcyp89w7kdr68vuHFjrK5OM8uBz49zdhZbWCyOjTV8/47Gztlnzsz09MBP1376JN28WWRigmRh1evXo1VVJBQQGBoiZBRbWNB143E4CR4e052dWMaVuTkIQZF3jHFwWJyYUJ46RdTo0uSkwMioSy6P27q14q+/yp8+RdRFXk3u40PaY4ixo62t+VxuR2LiaE0NoGf5kyeaDtWurmptIwXcr8I7dygwpVbn2HToA9jSRMRSeZcu4YAJjYw0taHBwWw4GO/qigKE7tRUopqItVIEBCBiGyouTti2LePoUVT2S34/4WCwcE6a+Py1lZUYBwdsE3wVn8sliQlSknwutz0uTublVXD9Op0ZZXBw/tWrEDyTWWDHWMGmUU8S+Gk4obHa2uo3b/AMpQ8f4kb3q1TQoIF3XVteHm9o4HM4KP5G5EediNjEFtxYgrs7/Ap6zrNYFt1LWM5PR1aiE4m2iMULvw8aR9hQ/ebNRvMOPwehK8ux/bNbZfSbQyUlioAApPkWtd1L2EYICe7uRKMCPLEzg4tu36559262r09oZEQkVvLu3ZQgwKMSjKA8EZy08vRp2Pl/gwOmTvqafWUYduSZIJZhA9n2+HidVgwswUK3S6jtfqWTrWGh8cYPS4RW/PUXjoKOXg6W6B+/hAW5OHng6GKdnOYGBwELcBTWV1d5HA6cNyLI+qgovGyMnR3uzLp2woli//6pjg6RmVkzw6tQb0u8IGnr0YlCc7W2baOIWWfMOBjFtthYnQHGWGpQVSzklNjZlT16VPn8OYX1QyUllD7HqwGbo3iA/p4VaLB9DQUGBgBeMz09ZU+elEZEENiEfUFbbzVTVZV/9SoNYvpNhGVvj5YUcl9fTBND5E0c/mxf39rSEnn9RA+PiebmssePVxcXhaamJX/8QYIDMkDR1tZiS0vQg4S9KLlV8ddflDCD8YKxWxgb0zDJu3enHzrUGh29MjeHWBMVNXwul8/lUifU2g8fKF+Qc+5cpzaXj8sPpyswNJwfGhouK2v8+++skyfh59hhHoW3bo1UVkpsbIQmJlWvX8MkjdbUQDCFQcKq0FB2dhAFuAXXr+ecO4d8YayTEyEPHoczVl8PkVebVNqVkhJjb49HVQQElD16tDwzIzAwmGxtHW9oEBgZoRV2s0CwND2NNB7KDcYbGqY6OsAksR0V1tfWFAEBlS9eJG3fXnj7dqq/P1gcPoezPDNT+uABdbXEOgOqLoyNjVRWwnXhrrVKJM1CIc551smTJX/8Uf/1K5/L7UpJyTl3jiZMo2ZJx/3M9vXhxXEw8IUFN29qmNXISKjAcs6fL7p9m8iwpB07BouKpjs65L6+xJ1MtrUl7dihGQxlby/39U1wdxcYGlb8+ScUDHiL8fr6hdFRaq+mgf6HD7MK27zLlyW2tnIfH6x29du3xMAjGh6rqyP+CS6h8edPxHMpe/awfo70jJriqM5OSqKLLS1TtRwSiAcUGSpPnWJhB9WkoPwX5IrO7dMgkp8/K/78E19S++ED4ELawYPEAOHuKAICWMsp3by5Pze36tWrme5usmBk7SV2dqTn6ElPl27atLayApQAqNGulbhiy/KvXt3Yy2GwqGijhBYkR4ydHQw+n8PBF+J9411cgGzyr12b6ekhqib/2jUeh5MWGFj36dO/pBXlxr8k2pkwERXYsK6a1RwR3yj388s6cQI3J/3w4ZGKiqLbt2GqBEZG88PDuH4Vz56l+vvXff5MVbkUzMEbLY6NiUxNUQVB/kNiZwd7pOOnWeqDQG7N27cs3THR3DxYVIQKluWZGbLdNAaKr6+PG4VALfv06U6ZDO0XapjGh3MDAy1Mz2o1UzhILQ+zTp6kS6hpd6w18aNVVcrg4O60tCYer+nnT5BLkELgjK4sLNCziczM4pydYTR70tORPhf+3qo6Zc8eIAxqr7g8M8Ni+ZW5ucGiopxz52KdnBa0joEkM7+8u63t3MBAbWRk6YMHsp07Ffv3C42M0gMDJ5qbFQcOxLu4DOTl8TgcEn+1iMVsnnuiuRnFVEITk4G8vKwTJ1bm5qKtrCAGrnz5siMxkbV60ZaWRCvBhKGN0dLkpNDICI0bM44cGW9oKLpzpyQigmR9dVFRigMHpJs2CY2N6RvapNK0Awdq3r2D50Z2v+L5cyjM869dYxfkV2NOAwORiUn2mTNCQ8Pqt29ZngaAj16w9NGjjKNHM48dW5mfX11aSvHz43E4bVJpooeHyMws7cCBJj6fp6cnNDFJcHPLu3SJWhnDYqpCQ9GAU2xpKTIxwYyHGDu7aCurWEdHnp4eCFVIFNVqtXTLlq6UlP68vFhHxzhnZ76+ftrBgyhtAhJqi42t/fABEfZcfz8Ij+xz5+aHhwUGBuVPniR5ek62tuJOoenB+uoqm7kcb2joycxcmpxMCwiAf2IPA+jfovBwSIdK7t+XbtlCxFX64cNQHcN3AgISPQNfVfvxI5qkgkNGCdxEU5PI1FRsaTleX19469ZIRYVOcWrpgwdiCws2n83ScrlhYQujo6SHhylgW9rhvdpiY2lmg46YDmojNlATGhlhlRCHtYjFQmPjjch+bWmJBMzQLYrMzMhdlUREtIjFZGoqX7xo/d1E4DeSsJEIv4mmJvjLovBw6ZYtQBioqFSeOpUbGjrb2yvbuRPMHDgb6D9YO/yPZReEsaDaKX3wAJeCFbIAj+p0BYm2tqa8+Ehl5XB5uSYYffcu8/jxqba2RA8PCrFIVAhIAfQ/WFiIBUz19/8lb/b0BBGlszJUkooTRTMZ6V+x/QnKHj8mwTYIwn+DAy68dWt1cTHj6NE2qXQjRwFCmEJYlljWdPbx96fEnk7t3WxfX7dCAU+Jy0Dutvr1a5xXOutgkCpfvqSyHJmXV+7vfQSrXr1Cl3+oGFjfj2RPvItLjhZ/AT1Mtra2/l5PhpAalkVHS1z99m2MvX2rRELeHQaCrZfQEVJRkDqi7YWJgy40MWFnRsGFU8vJOGdnSjvNDQyUP3mSfvgwWGWolzODgnSECeQM6r9+JbAiMDBICwykt8g6eTL34kXcdpm3N5EBvVlZ5IEKbtxg006KgIDJlpaZ7m6JrW3awYNyX1+ST+devJiyd+90R4emplZPT2xhEevo2Pj335TNIstFkLlboQBcjduyBarL/txcFjQgFtQwig4Osp07hSYmFApknTpV+/HjUEkJm1ZADnJ1cTFx+/butLT6qChUTxXfuycwMop3dc0+e5Z1sbAs0KxKN28uvHWL5FQN375FW1uDQY22smoWCkH7AwnRwpY8eBBtbZ26dy9ia6mTE6xSf24uFRQhvACkFQ9ehAAAIABJREFUExobiy0s4AijraxaY2JaJZL0Q4eGy8qAEjKOHi2+e7dboeDp6eVduVIUHk6FlTF2dokeHrUfPya4ucVt3So0MRFo5wp3paainTUOXhOfzzcwkFhb10VFyXbuLL5/P9bREWIrgYEB/KvExqYoPFxobExBW/mTJzp+rj0hoT4qarKlBRQRTlp7QgLLfOJdlKdOgcOgEbBLU1N1nz6RegvLXvXqVeHNmzQ4Mt7VNf/qVfyxNSam/OnT1L17ezIyJHZ2CW5u5U+fLk9PS2xtJTY2XXL5RFOTMjgYPaT4XK7QyIhtf40TBcyasG0bYnTppk2tEonI1JRUhxBbNXz7Bsot3sUlxc8P/qzp50/cwaqXL6ltU6tEkrh9e4y9fdGdO/DKOt0O6MCM1tSQv+lOTWV5mrTAQIGBQXtcHMvNYqlbJZK6z5+pADLB3Z1sY9njxyyz2p+Xp9PEW2JrG21l9auk29tbrW3cm+ztPVpT0/DtG0tA0tWDuEG9vt708+fq4iIOAFtMMTc4yPbxIL06uDqdvDh1W2KFXeR3qXVE3NatOh2nh4qLf4U3Wta9VSIZqazUOYcEeZenp7vT0jbKaITGxgBP1OxMefo0VVItjI39Gxxwt0LB9uUnMSH8a87589hCupy9SmX2mTN1UVG1Hz+m+PltjIlbxGJVaGhHUhIM9NLU1NzgILBS/pUrsHFCE5PGHz8Kb91ShYbCU4Jgwe0FHxW3dWvelSuJnp6E0WLs7WmSwfzwsEBfX82UpVOnlYyjR6WbNmGGCSbSpAUG4hKyniDn3LmFsbFoa2tSz4JbwxtJbGyo5E55+nT+1avwNNNdXSvz86yCSa2diEB/BMUtsbVFqTuPwwFaFxobq0JD6RSCrSq4dq3q1SuAXHbCCQX6iOkRJKGFenpgICak4o4V372bvHt33NatHUlJfdnZ4BhaY2LiXV2Vp0+z+oWcc+dWl5aSvb2HSkqICUT3dqTcMHtYc5/fvEFMT1svsbWV+/rC5jb+/TciQtIBEG+G61f/5QsZccwqr//6VadrKVBIe3w8WDVqdkj5LR10DyumqUT388PPE4Ev8/bGw5OVodrW5N270csCr4Pfm3vxIk1RzDhyBLODurRjLQpv315bXu5WKJK9vWHvRBYWaq0OH8N6ZV5ech8fimzSAgNT/PwQKsl27hRbWMRv3crncvEW7QkJo9XVpIMruH4dlk5sZSW2sKCO3yl+fhXPnhWHhyd5eg6VlOBcdSQmFoeHz/b28jkcvHVHYqLMywvvO1hUlODmlq4NDnh6erhBs/39Ne/eoScUrgxG5Db+/In9hYvKv34dgQify6XKmaHiYqz2+upqe0LC3OBgb1bWUGmpBhxcuaLW9uiv//pVqeXMSB8EJNoaE8OqIDf21odZKH/6tD0+fmlqKv3w4Y32BGxtrKMjFlYzezEggDLibEe8aEvLmZ6eaGtrinrZXonwUm2xsan79uHhC65dq/3wQcPucjjSLVuoRz3UHnwuV2Rq2sTnU0vn2o8fkYAEhCJ2UHXhAlvOuzgxoTPuM3nXLrmvr2znzlR/f4GhYdmjRwJDQx1Ca3VxkaIgesGFkZGmDT0gyVMio/9rNMK7d2q1ulMuJ2OCI8cy/wiZulJT6yIjiVGA5u63LLibGynLiIKibyAQgJ+Z7uwEamELvVheUAfbqX+vH+Hr62edOkV/g7Xd2ORYZ7Lhv8EBUz5vpqeHykLSDx2idjN8Lhchxa886507gLds8hI8M9oUEFGwsRMbNMPTXV1ry8to40IwNu3gQWwA/WragIxjx6j4BMcO7lBia0tpLVL99OXkgMpgLz+8OPs3GrBpadmnVIKWVJ4+jV9dcv8+dW0svHWLz+XODQwgWAfvF89gXtadEPSr+Osv6t6evGvXwugojYuAE93oaykWgYOpfv06edcuvr6+2MKCrBKJSLEvaYGBXSkpuABQpZH+Anr9qbY2+e7dwIw8PT0KK+W+vjPd3TwOJ8nLix2lIra0xP0nM6STKgMMRzqwm9nceFdXnp5e3qVLPA6nW6GY7e2NcXAg40IYf2FsjOqzwSvIfX170tNpcUDClz1+DB+ZvHt3448fE01NcIoZTN/TfpWKlAH9eXn5ly+TiUn08OhKTSWlevaZM0Xh4Q3fvlW+eAExlMDQsP7LF+nmzSB4C2/dqnr9uuLZs06ZTGhikn32bLdCAQlPbliYYv9+oYlJwY0bybt2SWxsKLJM8fMTW1rGu7hoOgM7O5P5iLayQiOXaGvrwps3VRcuCI2Ncc6rXr1K8vQsvn8fuLPm48d4V1cMQiC+Z6KpSWJrG2NvDwcZY28ft3XrQEEBBLdIK7LQBEiUSODBoqIkLy9lcLDqwgWAyLXlZczIAtyZ7e2NdXDIPH6cHb1Q9uiRKiRkqKRkbWkp7/JlsYUFT0+v/NkzVABOtrYWXL/el5ODsAkGYaikpPL5c5GZGYG8zuRkCpg05HNTE4l9yHrA2022tPRlZ1NmVye1iVQiVol1P4r9+6nXx8LYWNGdOyhXhVgMkRmSRCyJMtvXl7xrV11kZP2XL5NtbZUvXjQLBMQqN/F4gA463hoOu4KJ8CS2ttSylG030RodPTc42CmTZQYFlURE4H1T/f1LIiI0dTt6ejpYAUhR7uuriVy1baTY+BjELBw5eyUxDUxsbo71AR6qjYxkARBOyGxfHwwXaaAmW1rY0Vvphw6RGW/88QNfVfn8OSkWSfPVrVAU3rrVn5sLwX/l8+cY5KVmplNAKwA1Ilam8NYtnRk/eDDaRPwYWw+p/r1pUvnTp63R0bO9vVT++q9ywDRdi03UEzshsbZeXVhIP3wYroUAUd6lS3ODgxv7i+rgVnYkmcYbaTUmrDfFuUfumc4Q20I5xsEBmeCcc+foMrN1REigIhrmcbkAfcNlZbN9fb1ZWaBMMTqbBQ2w4DgB1e/eZZ8586ut//btEHAqg4OnOzo2lrvhOdMDA5HZArNNx4hQRWt09NrycvmTJ3CNlOdL9PBQ7N/f8O3beEMDtDNyPz/Il8gKJHl6Nnz9SjIrPANS1FgEhEcUs9Jgg9ywsN6sLKoHQ4kneX3CN2qmMAwXSQeg8DgcvBefy8XzI1O4urBA/D9IORhx4Fb0FhguLy+4dg2bCHa0PioKvYc6EhObeLzie/eyTp6c6e2F30K0Gu/ikrR9O8KX8YYGCnRKHzyIc3EhQqzm3TuxmRnR4EW3b3cmJ+Mb8q5cgcURmZk1fPvWxOfzOJxkHx88MGIXnDqZtzefy12enpZ5eQ2Xl+ddulT5/LkiIAA7O9vXl3nsmNjCIsnTM9raGgldFAtlHDmCOlSJjQ1GbAmNjARGRv25uUJj4+WZGSJs8bQoV+VxOJlBQSITE9nOnRIbG9nOnRPNzaqQEBzdteVlPDb924IbN6RbtrBah7pPnyr+/DPa0hIoEG0jiccGAiZ98mh1NawYX1+fwsGF0VEi+lAiRRiXkkHRWhjB19efHx6W+/oWhYfXf/lCjaOJnBwqKeFzuZpZy1FR2CCBgQGcTZKnJ95F7uOD44quC2jjBcdMiRW2NQdK5HsyM3Wkl2TlpZs30z0Vmpiwkt21lRV27Hf169eDhYW4IHWRkauLi3SRC2/ehLdmHT/BGmVwcEdiIiwAj8OJdXJiG34R08Cmk0Ez1H36VP/163RnZ5yzc8WzZ3HOzl2pqaQ9pN7suGtVr16lHzqExUEMwAoRlqamlMHBgFBjtbUUHa0uLtZFRdEtnmxtxfw+mbc3+89/NaK6d69Qm43CIC+sG0z66uKijvPDq7H+Xrp5c+L27RuFVHmXL9e8fw9N1saZibjX8S4upMocKinR6QJNbRZ1fLBOyWjdp08T2i9BhkIRECCxsfn//tt/+/eIsHLOn4fgrfD2bZ1Gg6rQUAma7moxCNtllJ3PPFJVBZECirgpumLVvHCcrK0n6qYvO5uVKmwc4t2Xk5Nx5IjO8FQ+h8MmRXTmQ2hUdlo0R0iwkyHef2Uozc1Hq6tzQ0M1/RpNTQlztMfFSTdv5uvrY5UG8vNjtQX7oIhr3r1jSRWxuTkqE2BHYKcwzjbRwwM+QCftARICoUysoyOemVgXHaiU6O6ed/ny2soKDFBXSkpfTo7qwgW6eHVRUetra6yuIdbBAYECLMtUW5ti//6yR48WRkYQr3enpYHrlnl7KwICEIYSp1QcHg4FEAkdqYlY9du32NYkLy+5jw+lpQkcQKqGqfX4h+gwUP32raZ65+NH+OacCxfiXV3lPj65Fy/WfvwIa5528GDGkSNkg0gWhxG8Ehsb0mpWv32rCgkRW1jEODqKzMxm+/rqv35F2B1tZYXNoigWd36kogKzwQtv3lxfXe1WKMBIt8fFxTo5LY6PIwLjcTgibbW6IiBgqq2Nx+HUfvgA01D99m2Mg0O3QjHV3i40Mal49gzlnoAgYAsQjiOzq1aru+TyvCtX0OVKZGqKExJjb5+4fTuM48r8PIp20g8eJNsttrBo+Po13sVlpKqKUnHYmpxz58AlYJczjh1TXbigCgnpz8uTbt4MgJIbFpZ5/HjlixfLMzNVL19q5o1q4VT22bPRVlbg6pemp8ufPQMcEZqY8DgcJDXZphzSLVv6srP78/LitfNFYp2cEtzd8dYx9vaZx45lHjtW8/59jJ0dfAxGEVPOtezRI4GBQfrhw9gCKLagHupWKKrfvOHr64tMTWlmCSJL7GPSjh06nCRMBILO+eFh2PfxhoalyUnZzp2amWyGhpgFiaxT08+fuLZkkdIOHkzYto3tJTJaU5OwbdvS1BS4PbG5efaZM6M1NeMNDRj9i5tCSSu25IZoANzrkYqKvuxs4vMWxsZYL/6LULxyReblpckRXLmyvr4OW1r/5ct0VxddybrISFx/yjfTp/L5c3Aq1b8rm0i5Nj88DL1CXWRkX3a2TowBO4DCjeJ790i+w8rZdIMrLc4Yq60lM87T0xOZmZFh7EhMnGpvX56ZaZVIxJaWVOLMfkn6oUNdcjmCQBxaHLmF0dG0AwfiXV3TDh5EiPXvUUGLTE2Vp08vTkzE2NvXvH+vUxLH3jo6OqRRBCkqMjcn3qBTJit79Ajeuj4qikoJKSFPplmn2RtLqWkezMQETQdVTJ/CuYEBADSBgQFB/oo//6TUbJtU2p+buzgxgaobtp1IvIsLq/IQmZmxXXAppp/u6tJRY/K53KLwcOSw4ZWzTp7U4QCmOzoAqOnAlT16lHPhAl42+8yZlbm59EOH6j59IsVK9u+TMIgXEhgaNv74QavdKZPVf/7M53KFxsbq9fXF8XFVSAi4nemODuXp0+wIRbV2YrnExmZ+eHhucFBsYYHgteD6dWD59vh4kiXHOjmx21oUHq4KCflP6krKbK0uLia4u6f4+cm8vatevkQHjBg7O4Ts8yMj7GAZsbk5kY3dCkV3WppOO/FYR0eJra3Y0rLw5s3csLDcsLCh4uLKFy9S/PzYRS66c4cSIonu7p1yOYwRn8sVmZu3SaVpgYGAApC8CQwMyh49wrjiaCuraCsr2EFyOTlnz/K5XIGRUWZQkMDAQGRqmnP+PPAlnhAgo/HHj/TDhxO3b49xcIDHRQfK4bIyia0tcH1HUhKfw0ndt49wBk4LjJEyOBg2pfDmTaGREQ09zdNGbOgcJDIzyz5zJi0wEBtadOcOzmHh7dt8ff2+nBwy7hA9wIMir5F78SJ0TCUREezMLlzn2shIHoeDdIbM21toYkIJaXym2trapFJVSAjhp4q//hKZmWEd5H5+9V+/ii0toVonTXW6FmRXvnghsbWtefcOxppWGGyBxoCsr8du2tTw/bvYwiLFz6/h2zcKgvn6+gTXpJs2QZeHrURQC2TPxkyLk5PQFmExh0pLQbHAPcQ4OFS/ebOxaAfoZyA/f7isrCc9vfrNGwon2NG8BO7VavXq0hKALDukhFXnat7061ckwgYKCuDPQDBMdXRI7OyGSkuL796Nd3Vl42D61H78yOdyeXp6PZmZch8f/MPRqioovLCYOqXAixMTJX/8gdOV6u9PHcdW5ucLb91Cz7Xiu3fH6uoEhoZou7HRTwPq4STMDQ62SiRQz7A51/ovX5BQ6EpJAT/HTskk5PQrJPv+PWnHjtWFhVaJRLZzZ/aZM4U3b6pCQ7Emky0txLD2q1QgP4gaVDMdsxGuoOcMOI+OxMTShw/jXVxwMP4NDnhjdxgdSoqS80Jj4/7cXGVwcNnjxxSbii0tKSuJvaHlY5FU0vbtMgZhsU1P4BVYfmNucBBWT8fZq5k2W2xQO9XeXvHs2XhDA5u0gKwpxs4u1slJ7uubsnfvQH7++toaFDoN37/DIgA/5pw/35mcnLxrV25YGJFyzQIBtYMHokw/dIjVBPL19VlZvM6lVTOq78oXL1L27KFqNlVoKFLXTX//vaJl9vj6+tLNm1eXlvBjKGPXwebqf6qR11jq27dJKyGxsaHarRg7O3Jgc4ODCE1K7t9P9PDAmWartEsiIvAbkarH8091dODmt0mlsU5OZY8f13/5sjA6mnPuXIK7e2ZQEBINmuJsU1NikEgD2SmTjdXVTXd1SWxtayMjezIyUvz80g8fLomI6EhMxLXUtKcwN0/dt2+wqEhkajo/PIywuD83l8J6iY0NVmagoGC4rAxkLH41PAerEkKbQPx8W1xcbWQk/jtuy5b6qKg+pVJ56lTK3r0Yy5EbGjo/NDTT01PNVJ2VPnyIqlCwu+mBgQMFBU083vLMDP5yqq0Nd0Hu4yM0MmqJjs46cQKRFpCByNw8futWoalpzvnzQCRNP38W372rDA5O9PBo+PZNZGqafvhwzfv3oEOwmyV//JEbFqYT3klsbFBGUvP+ffmTJ2JLS/Sdppelo9KnVGrmbzo6Lo6NDRYXZ508mbxrV6q//8r8fM2HD5MtLVTAI/P2hqXLv3qVxoKpLlwAbq5+86YjKQkVaPCaILR5enpAtyMVFTnnz1e9fo1mwqrQULG5+crcHEXnxMEAQwM/tUokgALAQ0C0eZcvA6WxiSodI9AiEsn9/CAQo/XJOX8e7Eh7fDyOU7S1dXF4OLrRZZ08SW6YQreyDZ1lq16+zL9yRXXhwkx3N1uJhHl88HPI8rD0bOnDh/BeLWJx9du31W/eTLa2jtXW/sP8j5076YYWaGd4/6MbAyeEDaJOQdA0EIrNPH486fc4m40xcAd1qjzwLgDKmj4nv/cFgqCazXrI/fzAkJM0DJd6rL4+9XcATYXUgGsJ27Zp6rsuXoQekLS0dZ8/s0Q0mVAdcPOPQTYSYeS/z/3v//1f3gGP1dbiYrCyoPxr11A+SGsBtwpOFTYi/dAhmbe3TsNFnUwAoWCqwKH8KAVYFFvTv41zdobXzz5zRocMV//ewmmypYWnpxdjZ0dafIgbc86fJ45LaGLStYFtRqKLKnrhMsn1UhzJsuuYPzrANKyOsbcHcOvNytKBgRV//qkRF1hbpx85AoQu3bxZaGKCW5Hq7x/r6Ci2sACkICYAyG6iqWmqrY3l+orCw1EtgEqwghs3ci5cYNPkuC3sjVqcmGAT3nmXLqEOe7K5mYqg+rKzZV5eMIUgBqY7OxdGRlqjo1GBpti/n5J/HUlJTXx+3JYteOZfLfFmZlL37sVOadZfK0AruH4dt0XTW0Ob5pF5e4stLamAAWEQVnusrm51YUHu64tuUO1xcXhxrCeNYlSr1bUfPsS7uuKeV718idCcsu80Qx5nbLCwsPDmzbHa2japtE+l2jgUHbx61vHjo9XVsY6OmUFB2KnutLSGv/+Od3HhcziapvOXL8c4OMRt3YpXFhgYNAsEsp07i27f5uvrjzc0zHR354aFzfb1iUxNSx8+BCYADIJXpvVJcHdHShUdK3vS0+NdXbFWuRcvlj97VvboEVT6S9PTPD29teVlHoeTtGMHsnrQ76Cd+PrqqtjCIjMoKHn37qwTJ2g0DW5us1BIJfKDhYWAxQjd8GBE76cdPIjgqU+pLHv0CDETe66g+2UPPB4mwd0979IlIIDSBw8QlPekp5NB70hKYq+zwNCw7PHjhm/fiK6kWZaAdLWRkewVwLIk7dhBhgK+IcnTEwCRFdyyc1zg/HqzsmLs7Apv3ox3cRGamGAF1Go1NOE0ImVxfLzq5ct4ZmK3wMCgNjJSYmMDoNMiEsl37y57/LhB+y6z/f1gI4hRgLsqvncPz4wvxz9nC5laRKJ4F5flmZnVhQV8w8rcHPAcXe2Mo0exkkSZ/ALTDx+WREQkeXqCLedzOPDohA7pPhIZA++7MbVX+fLlRHMz2+UGCXW+vj7Jv3E2RquqiB8tffiwRCub/8cPDCxu91BJiSokREfdmX36NAjRrJMnl6amYGryLl3SqUIsuHEj2tqamkCQPulfQkFTzKpTgY6uWCwVyTZNFRgZ/SN9qvOhDDyg3OriYsqePXSvQKKy1dnphw6B3cLDIJgAYYucK3FQSTt2xNjZ0dx4IKYEN7emnz8JQeP7WS2YdNMmgaEhK3CHfaTDR/ZCp0IAaby15WXMTgH/Q6lHHXEWfeKcncH00sQVGswAe6ERX3h6sr3GYJR5HM5IVRV4dWpx3CaVQlQstrDAzQTBjuWS+/oKTUzginh6evBAkGvytePcsapYWLGFRdaJE6C5MDeNmGEAMrYQngXstClkyEha0iaVZp08CWSWsndv/ZcvLWIxxhtoSiZ+v7RU2by2tJSwbVtvVhZABmKjrJMn11ZW6FdDnb66tDTT09OblRXr5CQwMJju7Ezdu5fP4XSlpJARB7JulUiAJBbGxiQ2NrN9ffEuLgXXr3fJ5VMdHeShM44cARMQ5+ws8/JqEYvB67THx/fn5iIpSPmtxh8/+FxuvIsLgjMWYQD2FYeHK0+dEpmYFN68GevkhKLzsidPSh8+nO3tzb92bWVuLtrSsuzRo6rXr5EfJV695v17jaLN2RmBdaKHh+LAAQSpxD9Ty9WF0dGNRBFSts0CwdzAQM2HD/gjDFnVq1eynTsltrZCI6PhsjKJtTXgFF9ff7isTGxpif6Lcl/fTplspqcHD9+ujYx/TUg0NAQl2J+bi+uGm54eGMjT0+tOTWUrULtSUqKtrIAJUvbuLbx5E9J0yn+pf59fkhkURPLyOmaQO8uF1H3+rDELjo7TXV0N378nbt+OOoLie/eITC68fRuYAK/Z+ONH4c2bmhvBEGasxaczvzI/P5CfTwawUybLDQtjlcwsW8uGaLCc1OsbAUD127dTHR31UVGLExOynTtbxGLK/rL6Xpy0qba25ZkZBBto5tUaE6MMDt6o00Zcjo5jIMDZxGrCtm1xW7bgTfFv2Z7V5c+ewTbGOTsvz87SCF4E33ODg2So411cfiUINm/WSV6o1WqJnR2ca6q//3h9/WBhYdc/iWzYMLo2MjLv8mVkDajYGsgJgA/gj2pDcKPZbhMu/+N//Jd3wFS9Qz5Gp9Egiig2/lsKjHBesetYTWwVxZHt8fHA1xtZBZ1BmKg6b/zxo4nPZ+u72QAauRZNXa/2wUjnCf9HkdZQSUnlixflz54NFhUtMz3QdT7wIiOVlex0YbqTRXfujDc0IAUFXq5ZIMAbsVw6+3agUnXYeJ3PZFtbrJMTaDR6ERijnPPnV+bnG3/8KL57V2hsTGO3k3ftGqmsTN61C0go3tUVPlViYyMyM4N0Bb29JLa2S5OTlOUVGBqONzSITE0hX6K0d7yLC5FLsIAsOs69eFHFjB/Z2CGokMlfIAqRa5UyQhOT5N27eRwOLnzpH3+ILS3hgMUWFrDOcl9fiY0Nj8Np+P4959y54bKyhZERoZGRDu1R8+4dHrj86VNFQEB7XByehNR2AE+ZQUEI5dtiYxHbTTQ3w4LgVie4ucU4ONR++IAEbUdiIordYYNIWFv78SPbJlB5+jR4DrmvL9K0052dYC9gFGjcbIydXeXLl6S0T9i2baq9vSMxcSA/HwOAk729YVO6FQq5r6/A0BCLj7Zi1Ju+/ssXHVgTY2/P43DAEFS9fDnR2CjfvRtnpljrxkofPsTfUCubJE/P/KtXUQrfLBCk7tuXcfSoxNa2Lyen+N49tnyIjjFAITsJil2Zdu1gbzghNv+C2r/hsjJ4etx9Kg2HQc+9eBE3Aruff+WKzgXB88Ot4pfGu7iAwyRDoQgISPX375TLESOySgLchS65vF+lyrt0CdI5xf79YJtbY2IAj9rj4kA4xdjZTba2zvb1zfb3E0eNr0VbdYg92RqbaGtrHEVaE7o+YO+xiaz6AeFv2ePH5MAwhpkiH9Q0UkdlsIwwy5rRqK6ubId8EmFQFDFeXx/r6NgmlbLZk43gmM03g8ZPCwxE+oYALsGg4rt3kWJHSywyqgIDA9LeEypK2rED5Dzea2V+fn11FUtEnDkCDDBAch+fovBwVvZFdoP8bu2HD1InJxzIvMuXs06eZCEdROCf/+///S/vgGPs7UlhjzeMdXTkGxhkBgVpek75+wsMDFh8yuZi411dp9rahkpKVubm5L6+msFnWodBIJdUuOrfWyLzuVzMYChksCTlStn0J3xJtJVV/rVrGLsN2LixwTJLI8fY2cE4Amym7NlDQQ/+HvSXTrALArNXqWz8+2+xhYXc11enW43Gu5eW5oaGiszMerOyYh0ddVo6q7Wt4FjQqgoNFf3+u9IPHSq6fbv04cOUvXsJ3NFDri4s1Hz4kBYYCL0ln7pkvH1bcOOGIiCAbWsVbWWVd/my2NIy/+pVVoOj8yHFOE2gQvDHlgGUPnwI5pMuSc758xS7lz15AqSS6OEB9oJKwvB7F0ZHeb+vBpK1CW5uUka+oav8vHYN/5ZgkPLUqcygoCQvL4w1bRGLpc7OdCrElpaxDg7xLi51kZHK4OC0wEC8CGF8NJCiQCftwAFVSEhvVhZeDX4XHhq4hH4S+Uv8LzL9Mm/vPpUKF2HiRZpvAAAgAElEQVR5Zib34sUYe3toWEAeQDPYHhfH09ObbG1FVRt6PEmdnABlBPr6KXv2CAwMKJOS4OaWdeIET9thg8fhZJ89K9u5k29gUBcVxedw1tfWpJs3Z504EevoiBPC53JhfAtv3Ur29gZhwNPTU4WEzA0MUF1pe1xc8b170dbW7IUC5UBzvaSbNonMzQUGBqtLS+j+sb62hpCr/MkTOIOyR4/qPn3qlMmafv6k+K9XqVxbXh6pqECuiirgp7u62GYafC4X5rvw5s2JpiYUJvH19XVcLyoFlmdnQcKrfp8MDZ6Dz+X2ZGQQo5Zx5EiSlxe8NSvhYeuF4l1cwO50yeWoloFFIr4dyIOaaVBehiXM6KhAVxFtZZV18iSwS+nDh4OFhetra1SXkbp/f9KOHT3p6XHOztQQRmRqCrBCgQTcvNDYOMnLK2HbNtgEykMtTkygd03msWOs/kNsYSG2sIjbsgV1R9CO0eB6+smG799bJRJ8J4zSQH6+Toa17vNn4rQRWugseMbRo2QV4TUXJyawyx0JCXHOzgU3b+qET7oR2tISDoDA0BDBD4nImn7+RC4PZGfepUu5YWFs/RhFdzraWMQ/9OT/Bgq64MYNHfcz1d7OqngQkv6K87Q5Nqh+KLGxMDY229enY3YRmFICaWMtnZrp0oANQ2gL2ye2sGC75zTz+dBDIVuZfe4cfhLWn94CKEynoR2Mwq+gVosMdOrSYhwcdMQFNNJV55N++DDea7i0FItA5BjhXzDJOqR0jL29ToscCi8AgGZ7e8Hw8PX1aekIccPyUoabson1UVGgdikAIivGkttUQQSuYryhAR4O8AsuEJBCMwAuPR0vW/b4MXnuFrEYwVCvUik0MelWKKKtrZt4PBJHQCmGR6XUIxH+s729rH4EVxSoAq08UvfuHS4r683KahYIaiMjAdFIW0fmMsHNDZQJIieKRWReXs1C4UBBQbNQ2BodLTA0BKaW+/jwOJzyJ09gv+KcnXuzssCLCk1M8LWsAqWJxwOMW5yY6FIockND+RxOb2ZmV2pq/devie7ufA6HsCnai2YeOwaWGBZEERCA/sy1kZGASjirfH399EOH4l1cVubnU/bsST98OMXPj2pL8L7xrq55ly7BmwoMDEoiIgC/kry8yDyBuI62tFyansbiT7a1lT95gt8lNDEhEwm2AHU7iR4euCMlf/zB09ODvwGCYXdKbGkJQNMiEg2XlYktLAYLC5H/m2xpURw4wNfXB5fQlZKiXl+nYVZ44Botv5pz/rzM23uyubkoPLwnPV3u4zNcVoYIj3p/UjPRkvv3o62sFAEBSTt2oO4O9qH43r3pri4YpSRPT2LpRiorU/bsqXz+nHp45V26hENOcCrrxAmUMI1UVgKsZBw9mrBtGxY8xsEBmzI3MFB05w4lX2vev1+Zn8eVzD5zRhkczI5xExob47dgC5amphp//tTJra4uLuo0FacDD9QS7+KiMwSdIDgr9taZ8Jbo4RGjTfGi2AHWUqfXNMAc1rkkIkInbP1/fNg2f3wulx3Pk3/lCiuekNjY0H0hH8F21FLs20dbXB8VpQoJUWvH2/ynD1V/TTQ25jArjFRjUXh4l0Ih02YYD/+v//VvyAGzEW3hzZsz3d3UsB7vn7JnT9Xr19Sph/heomqlW7awWVU4mOWZmfovXyAuKLx1S+7jQ7HgRm4EJyn30iUk1Taqi1lY+uss/t7crj0ubnVxMTc0FH5aGRwcY29PSUGJtTWl0Ih415kardO0ZXVpSRkcLDA0pAVJ2LYt9+JFfA87D4el3MF/Zp08ybKaGviirYdWhYaiyy4B8FhHx8WJCemmTUmengiPYuzsZF5erPCbzErVq1fUAgyLiR8jw4QViLa0pOadytOn6YHzr11D9UiCm5tmjuT161knTmQGBbHdYqc7OxdGR9MPH0bsG+fsjEC2NjIScAeXjaJwJHJKIiLwSyEEBRzRaaZGTlQZHFz3+XN/bi7bwU5obFz54kXthw8pe/bId+9OdHcXmZnhhse7uAyXl1N8n3XiRNbJk7P9/SX378NS133+XPb4cV1kZMaRI0vT0wIjo4Lr12kjlKdPr6+uTnd1jdXV5Zw/DwAuNDYeLitDEIz3Kr57l7L7KXv2pB04ILawqP/ypfrNGwxUwMum+PmJLSxKHzxoT0hojY7GrqHdIA3kIF5B4zy0JzD7zBmRuflEU1NuWNhEU1PDt29LU1PdCgWqMhI9PLAvGGaVGRSE8KhFJIJjS/X3V4WEsPMoEdVBpUX8MPx36t69yLpNNDdTRT6fy827fJmdjxTv6prs40OAJvv0aaxznLMzSYf4+vqJHh4CQ0N4psTt27sVitaYGE2kVVAA1hEPRmX0VKiTf+VKors7X1+/+O7dwaKisdpasbk5S4pMNDaCxS24dm22txc6hvJnz7AsPRkZQBI4PxV//hnj4JB78SJYYp3aCmKVUVOrQQNnz6o3tEtkx2jCfIktLYvCw9l0KUWQWadO1X3+DGZIaGSUuH07zjnSIjhF8M3t8fGUo4HEXWxpuTI/H21tLbG1LbhxA5hD5u0NBLC+tsbjcP7fYSXdGjABlJ/uSk2FCcVTVb16xWbcOmWypelpZXAw1o1yN9RCH7vGwmJWf0ofVoKKSCz/yhUeh4OAoScjAwNOKJP9G7Yg/gzDxK5cIX4eWpaNCXWK+1Xnzyd6eOi0CVKFhv4bIuCNcvnie/eUwcHQ4AwVF2N72LNIIV2HNifEejJ8IU2fZfUFpQ8e0CVhI1SWQZrt60MMR3TN/NBQX05O0o4dEJv0q1T4Adg4VWjo4tjYVFub+PfmKTrz4f+xxywdwWhra3ZkNOkpEtzdQWHpZK+JByNHpeO5KTvSJpVC8U8IVAeKpgcGlj1+vFFHs7662hYTA4Id1q09Ph5U2PzwME3FgE8lPhMapVaJRNM2mapdtcLFsbo6kakpKzmBKck8fjx5925Y7ZGKClVoaO2HD9LNm1slEk2Fsbs76z90Poj1iVdgpVtqtVq+ezfaL8AbwUgNFhQg3dD499/STZuKwsNhtthx5WJLy4HCQlb/WXjzptjCovHnz8zjxzvl8hgHB1ZygvBFGRxMGt2yR4/gTmYYCSWdjfovX4pu355sbVUEBBTfvZt35YoyOLj20ydNSBEdjWM8092d4OoKFCXdtEliY9OblUX4SWcRVubmcNhEZmYJ7u65Fy9CC5p3+XKnTJZ14gT2lGVWYK3Ae+ecOwcLFW1tnXXyZNmjR8X37qUfOiSxsWn88QOmClnVyZaWOGdnDLoXGBhQBoQlDKba21O1YBfvoggIYBmvwYKC5dlZuoBxzs5Qz80PD/M5nPxr15TBwT1paWJzc/DYOG/Ar4OFhaS27cnIiHFw0LTaMDXFRst9fLDX8S4u+VevSmxtdToDi83NO2WytMDAwlu3xBYWTTxe7ceP1DaA8hqspFkVGpq8axceEleeeLXs4OBoKysFM7AdOqC5gQEwRggAyP0QEY0zj4EW6YGBxXfv4iBlnz2LDmiDRUU0x5O0IMiaNfF4NR8+TLa2sjAC3AkVy+JWYls1Gbdbt9TaKQio81ZpQ14+lzuQn98plyNNEO/qWvn8ebUWHeI7NU3Utcq4VW3QSaVfIlNTmi2NW4Cp1WrtcOLhsrLajx9jnZxinZx0JMdgsAQGBvi2XC2RVvboEcXlQDzIVuDi133+nH32bKyjY/aZM4r9+6nPAU5IW0wMnAVo85W5OdZg4pEQqrG+APTJbF9f1cuXCW5ufTk5BIuB8Jz/+3//L++Au1JSfoVN2hPDpi0p8/dbpDg9TcY91smJvBdgO8oYql6+ZEmtit+HZqDGFNVjDd++YfVHa2pAziCaZGdEZwYFsWZdZGpafP8+aDfUUEZbWf0nL1t4+3ZmUBAg2+LERJtU2peTo5kB/PusYpjmX038d+1SaweuNXz/Tl0hcVtI5gcvHuvklMekMWrevxdpLUjhrVu92dkkKSSsUHjrliZPqW2whd/eLBBMtraifxOg6GRra+q+fcm7di2Ojye4u+MCU5voPpVKzQzaYykjxECZx48X3bnTxOfjPixOTIDGpFQcVMS4ML91h7awgApxfXUVGDbRw6Pir7/APfD19YXGxtTWda6/v/7LF6GxcfWbN7DyAAo1797h90o3bVIGB+PC92RkqEJCBAYG3Wlp+LEYe/tKpuJCJ0xRq9UYbKUICMg5fz7W0RHGnaenl336NFyCYt8+ovfTjxxBRIj4O2HbNnjQ+aGh6e5uua9v8b175LQIhia4uSW4ubXHxw8VF+MwZBw9ij0quHEjNzQUhqPmw4dYJycswurCgtDIKN7VlUVp0dbW6D/QLBBUvX4tNDbmc7m4VglubnhaWOSa9+97s7Lyr14VGBgIDA07k5Mn29p4enoZx45BnqM8dar0wQOZt7d0yxYSiw4VF2O7u9PSpjs7O5OT+Vwu3AY7PXO0urouMnKiqan0wYONsxBK/vgj1d8/efdukakpVStBqwHnN1hU1KtUsgogSh7/42dpejrz2DHKB7OZ+LgtW/qysyVMtyn0bkNfbkKQaEZREhEBe708PY30Af/31qc0wKeJx5toauLp6cU5Oyd5eiILw+dwYF7QcQmhQubx46CFgIAzjhz5R0XxOsORImcJb9efm1v64EE6M9KRwkGxhQUcUubx47KdOwF0at6/b9B28sHhl3l7syU9OjkyNVPFpBPBs44/7eDBtIMHYaj5+vrocgW9KmpSJLa2iKFBbitPndIJqakZO8gPPC0ySrjpyuBgsaUlxT/NAkFHYiL4p9ywsLLHj6kLZrS1tTI4WHnqVMP37xXPnpH92RjUkQtXM61MSe6D8AM2P//6dYL7mmSBmxslCtnq7WgbG8//+T//yztgdMCQMZXvq4uL1Qwdt1H1ur62JjI1hZdK2rFDFRJSePs2wBEBHwBYIh6jLS2xhcrg4OHy8pKIiLitW+F0WTlGbliYIiAAWYf11VVM+GGrVui/e5XKBqZT1XB5uU5XM3zJoDbcpDTM0tQU9bKYam/HWWkWCKSbNwMRw8ZRn4raDx9QToD7UP3mzWx/f9WrV/VRUZTybJNKxRYWGmnuoUPEEEh+50x+S9twONCzYP3zr15lM7Wg18AWajB4YSEuFb1IjL39WG3teENDw/fvAgMDkq3i7eBsZDt2ZAYFpfr7xzo5oYoORkcVEtLHAIKFkRGEERAKsUlrsbk5n8ste/JEbGExWl1ddOdObWQksUlNfH5fTs5Afn7Z48cJ27bBOcVt2VLz/j158YG8PFVICDot9+XkLM/MdCQkVD5/rvy9hm15ehroTXXhQk9mpk7/vOyzZxM9PFpjYtiKMpGZmaabt5FRR2IiTcggLagiIIACF9KvxdjbF4WHs2l47LjAyCg9MFBoZJR57BhModjCAoae+AmBoaFi/3445lR//8ygoJ6MDJ6eHk9PL3H7dnwP/i1PT6/w9u0ENzcK4wA7yh4/Bq+bvHu31MlJrVb3ZGZi5qBOaq0+Kirn/PkEd/ei27dpLBXr/1bm51mk2J2WpgwOxmAidMynjGyso6PQ2LjsyRP8UWRq2q1QwECnHz5c9epV499/C42Nq9+9w5WvfvMm7+JFvKNi//70Q4eo2CnGwYFyOrQO7E6R6lVDX42MsLlJVlxT/eYNaDPgWlyHrpSUteVlVu8KolunL7TAwAAmC0cReRMWgC5PT8ML1rx7hxuxPD0Nv0VRePG9ezwOB9Vuidu3UyA40dRE2sP6L18ou1n3+TOZRDzPUHEx+/o6HYyTPD3p3WPs7TfmaNkXzLtypTcrqyslBbe+Lzu7RSQCkQMNeX1U1ERT00x3N8hILNf66qrc1xdzlFkBKdklJL+lmzfHOjgoAgKwZdQYa7avj1Ajm87Q4WYoKyH388s4dmymp2emu3vjqCKW8frtjz4+arWaSqujf+/+wWPKI0VmZnAKfC63/uvXFEYaTZ+sEydQCKD+N7WiFBoZ8TgcVlJb9+lT3JYt7L7qkLTsHykVX/HsGaveQuGHrtooPl7n0uJYA7Syg8HZ9CocFaWsWqOj2RPD1uP2ZmUBUDf++KEKDcVFHamqqnj+nE4D5UvYT1pg4Mbcc6KHB2hzdJEEHwBOTGhsnHn8ONujoJ6pWaz7/BmerCMhAblGvr4+j8PRyY6Izc15enr9ubm/Ovh//NiVmlp87x5u7HhDQ9zWrbgw6MPVwGji4PVZqLQ4MTE/MjJWV0dVfbAg8NCAmXwOpyczk6enlxkUBHZabG6esnfvVHt7R1JSe1xc1okTYMZYUZLmVjPzlXkcjsDISBkc3MTnowsjvn9tZQVMMnYzydMT/o+vry8yN8dbsNLcpB07kry8KP2cpmURk7Zvb5NKSx88wIYujI7G2NtLbG2FJiZkOIRGRglubnAnLSJRX07O4sQEiQy65HIYU4GhIf4jde/eNqm0NjKyLipqaWqq6tUrvr4+0AnAzXRnp/LUKVg91YULAwUFfH19uY/PwugoNYGCSQXohJ3lc7nZZ87knDsH5MfjcBYnJqpev6569apWy0CuLS3hV8AH5IaFYcxXl1zO43DElpZs3iTn/Pm+7Gzsb9GdO6gBldjYCE1MiKabHx6Gw9PZpkR3dx6H05OeLjAyKomISNqxI8bBAT8zWFiYsG3bbF9f3ZcvarVaYmcnRJrcxEStVqf4+S1OTAiNjfn6+iITk/yrVztlMj6XK7GxGauri7a2rvn4EdnotpiYojt30DNSbGGB94qxs8sMChIaGbG9bFP27KEElo66FW28sC/jDQ2ynTvx36COCq5fj7ayUl24kOjhkbxrl+LAAba8hxUosVJK4JuNJQkaOJifr9i/H8Fiv0oVu2lTZlDQcHk5gtRoKys6V3Ifn6pXr9jejQSRJba2BOLzr11L9fcXGhun+vvLdu7sychAvQYCzbnBwS65nNWvLI6N8TicCi1MgdfXkYKuzM4KDAxyL17UlPA9eEByS1C4Q8XFMz09NDIc+VS5jw/Ihn80oXwuF3skMDRkY2KoOkBi6xTosyWIrMhrtKZGZzCDju9g26dsTAOzP7nxQ99Mg93UavVYfT3Rn/Avw+Xl0k2b/iUOuPD27fXVVcAQHFwCg6WPHgGO8fX1l6amKL1U+fw5gUTSHwKvIfThcThYMsgExurqdLT+lJfty86GredxOChqpN+is1UtYjHFMdTwaOPnPzUxzjl/PsHNbW15eWVurluhoDZYRXfuwHHODw2h7QAyTJo+qF+/IijBVayPiiq+e5fm4tHvKn/6tPThQ0qEZ585U/32LVXiq5k6DQ2FqO3c1iwQNP74UfrHHyzfTrRV4a1bcVu3ki6RwilyUbiiEhsbksixzrhTJoNzwl0ioq/y+XM0BgE8YguQ+lUq+J6xmhoU5+GldFYVBqjm/XvCHKUPH0o3b6Z6jPnhYQ1UNzbOv3pVYGgIwoA0Aal791I5jXpDa0C+vv762hoBtcm2tpwLF3JDQ1Hn1vTzZ3tcHH41tgkiI+p2krRjB85b2ePHMm/v8idPIP2lABoZXB6HE7dlCyG5jsTE0gcPsoOD4auyz5yR2NhMd3ZmHDu2PDOztrwMLzVcVsbX16c8gsjMrEuhwEEquH6dz+HEOTsnurtjsqHM27vu8+f5oSFFQABk2zAxfC43accOkJxic/NET8/ss2f78/LKnz3jcTg179/DXFLkl+DuPj8yohllY2yc6OHRIhIJjYzmh4ZGKioaf/6sfPGChi9lnz4NNwn9QcaxYzhO1BQdmBJXlbx+4a1bNB1EbGbWFhsLDRSSTTla/TyrxJT7+AhNTBq+fwevyNfXzwwK4nO59NgxdnYCA4MYOztoSqpfvwaAG6mshIvqSEyUbt4Mk027w+Nwiu/ehY6BxPxSJyc26gLHw9fXH/tdEwoSnq1pwWXBa9Lgy/X1dR1xMpL9eK/VhQWWI4l1coJjHiwqak9I+E86qUR396XpaYCPuK1bq7SU8tzgoGaS96FDTTye4sCBgps32UTP4vj4UElJ448fxB+UP3s2Wl0tMjOrfP5cB7Ww2g6dhELZo0dEHa+vr+cwHhTeGgSYTh6h/uvXpB07KAfB6lEg1dw4B1DN6LQLrl+vfP4c13BteRl6N3YUN6KRguvXUWAiMDAAS9Tw7VtncjJbGgMTAdaK7v5EU9NIVRWQPcJoUsD8eyJgNdO5l/WOVa9e6WQmIPKkRILQxIT6M6QFBrKFvxA7EAfYnZYm27lTZGaGk0eTG3QEO8hZ0v5VvnwJ0Ef9evBs0dbWOu5ZERDQKZdTC1ycOTalD1kgTZZGmU1ncnLWiRM6zg9AVdNN2t4eJoPQN7GF8wxGY0GfKiREp8mqmulfCj0IslOg6AlZs+JwtImhIVxJO3Yo9u0jNfV0Z+fi+Hjqvn2wdHmXLiW6uQFjynbu1JGpU9/8sbo63C72Bya1eSl2hAtdOUq2UcN6xYEDeFk0OmAJJSCn8YYGia2tzMuLRdCgZyndgP7Aa8vLMz09GGNH7EKLWDzZ2lr/5YvYwgLII97FBfLaZqEQniPrxAk6NnmXLkXb2DR8/ZoWGCgwNGSJvoLr16HoIbkNlkJibV325ElfdvZAfn68i8v66mq/SoVUHwblUn4Rtg90n2aQrZ6e3McHQC3Wyanh27ckLy8QRYp9+0Bv4GdGq6vjtm5FoL84MbE8MyPdvBmwD4inIzFR7uOzMjcH5CrdvBkPn3HkSFpgIHL/xffuCU1MBPr68a6uKiZO4nE4cj8/ynGUPnhAlfRwnFQu0iIW54aFjdfXQwPBqilLIiIS3N1zzp9P2LZtpKKCbdqafeYMWCKKiqgmUGBomHbgADtRADBdtkGgR+68+s0bquEBUsw6caKJx4ORbRGJqB0ETcMVGhmVP3lS/fZt5cuXbPMjloVG7owa4pLAM87Zmc/lDuTlJXl60vuWPnw429cHH4/LWP7kCbYDMELu67ux0fpURweuTLNAUPf5M7muOGdnzVOtr6+trIgtLCpfvFianl5dXOT/5whPZGZGVZdA5NGWlvNDQ9lnzug4xaQNCXtC8EjBtojF7BSZij//bBYKFfv3s20Giu7cgXFu4vHQFCXu9yr8jCNH6j59kvv6slgEC4u8gPL06eWZmZQ9e0YqKzsSE7F3AFvED2/krms+fCCLqukt4eRU+fw5rBksOdvKFPVmOgE3qbSwR7DkM93dbbGxVCr2b3DARLp2MeEaUiaVL160x8fP9PRge7AErGQOzjXFz2+kooIESu3x8Vhi0jgo9u+XbtrUk54ObAgoCmtLfmuopCTGwQG9dimoSjt4EJyzTtl+4a1bsA6VL17AlumQJ9kMWm8WCHi/a20S3NyIsoPImTqUEsUNGmeopAQFiMvT03WfP7fHxYEh0PRt0Nefam9Hiw+2U0d/Xp7OqB+1Wq08eRLZpqmOjqI7d+DFkbdO2bMHDltiY9OXnU0aB+RBSdHAcvvqDfW1+LYF7WMIDAyUwcFA8TBMiPmK7tz51XH382ccZTbyQB5ufng458KFoZKS0ocPEaznXrpU+ddfMMRY85709MHCQsX+/YW3b/dmZfXl5KTu24dnjnd1hXnCMwsMDPAroq2ty58960pNFRoZNQuF/z937/UV9fq8id7MWnPu5g84a86ZWWsuZtE0OQuCKKCSRAQVUVExIypmRVFRMWBWtmHrVrcdoYGGhibnnJucG8k559Tn4mnK1w/u35nb3+biu9xfsfsT6q166qmnqlDukpia5pw9m3niRNqhQ3CXuIzuzEzN6irq05Sl1f35J7DwaH191unTfQUFMZs3t0gkcMHJe/cC2C3Pz+MPiZ6e2mFYp041/v13+pEjxbdva8eoGRnVRETgTUFsDONsEggw9gFfAXiU4O4OtiDF17dFImmPi0PwWBgfB2wiJVq0rW2Gv3/6kSNsujahVte+fw/PhZcCeDo7OFhy5w6laxh22PDXX7GbNxNS7CssFBkYoJKC+DTT10cosFkkKn/8GBcDjzzA0IPKXbuirKyoHb/k7t1YBwfav4ImEPzbqa6uhYkJlPoGysr68vPZFaJDlZWErTkbzNL8/MQGBkAehTduiPT0OpOT8YRr37/nKDO0EzGZDJL40r7CQkp6YtfK+ZxETbM2KIrOoMTYuF0uT9q9u/LpUyCMyvBw7TomHR02bsFNaX4d4IWbapPJWqTSrrS02cFB0mBDTV374UPc9u0ld+5M/vhRev8+vByIBJC3BF6RqdOH9+TkTPf2clp4NRpNT1YWi12I7QM9m3/pEpEHFb+qVmEPHKUIaDn2IeOxwDw4v8wWrdrj4iItLdH589tBh/8nPzH29tQW0ZmSsl4Dy2k3xRcJdXU5oz8Sd+7E3WlXmrq5SYyNWZk0x+TwkKOsrP49GTAMi0bHZRw9Coa5OCSEKg2A2JEWFvRYk/bs4QzZIXj4k6lYo0YpgaaqLdHILF8EmMMu65WamVEEVbi7I+D15ORE29qmHjzI6jWqX7+GWmRuaIjdLYNLEhsZpfv79+blRdvaFly9OlhennH0KLEZmrURFvmXLklNTdl22CahUGJiAtQMCovSweq3byMtLKgZQ61Q4ADHu7hAD0yJ/m81C/gWrV3y+ZSXs6t/EVpoujXE5HFOTqkHD6bs2wffyv6+gMfLOnWKIyGu+/gxYceOFF/frrQ0hatrX0GBkM/PCQyMsbcvuXOn9N49ksux7FazSISqEltibPz2LcPfv/TePdXLl2BQ5Y6ONH267uNHmsAAHJa6fz+dJampaVFwMAj8GHt7TuUy78KFtpiYFF9f9p3GbNoEfx3r4JB64EBvbm6CuzsVimYHB8sePCBcL+TzE3bsSNq9G4o5sYHBeEtLpIUFDrDY0LBJICh/+FDh5jZSWztYUaH08lLHxeVdvJhx7Jg6Pp7yAIAbdrG0zNoa68C1hOUAACAASURBVPbA8MusrRenp4V8fvrhw6jdZp08yXFkyNpF+voFV6/iqeZfvCg2NBQbGalevy64dg0xW6irWxYWxu5bFRsZTbS3Y/FUoqdnTURE7fv3dHCAA8oePFB6eVVHRKQfPtyZklL38aPcyQkYAnPiEH2lZmYoLdVERERaWPTk5MDgkeXIHR1F+vrarRv795NoKzcoKNHTk/T5aLpbnp/H+0IhA0dAHR/PuWso2HHu2mNjc4OCcO+AfS2RkeByC2/cqHz2jGS3lc+esawMCAaNRoOcSWpuPjswAM4z2tb2h1KZtGdPvLMzAg/NOh5raqJ5/QDKnBG2yJiT9uxhkzZ2x1/6kSPwe20xMUszM+WPHuFvEbRapNLlubnotXkvGo1GuXu3hlnKxNFArf988rR42nIHB07zZLNYTLUedug0tNlDVVVRlpbA8dpoamyMZwL6ARCEI28U6uriOctsbKZ7e3tzczktmtqS0Br6qVm3nzg7IICTAuVduAAUXnTzZtKePbCx+k+f2Gm1FBrYoSLJPj41v87LpPiasn//6soK/Ss4geX5eRKdyJ2cutLS2JFe/4YADPtAwAMJgLyWU+eg06hhNoD+5LJCQ1nRfOyWLWIDA3ZQsNjIiC3VgB/jdMRGmpuTAgLpGiI9xTCK5do59UwbHw45vSqk6UCXBIFhMRxITp853dNT/fZtmp8fnZ/50dEUX98moTDz+HF2StFkRwdnpBf5IFaYhhlSlU+fRtvaUpintLXo5k2WrieUQ588UlPDNp7LrK2HVarqN29AD+C0KFxd2+Vy0l7SiV2amyu4cmVSrW6PjU1wd0ddNvvMGZYkxOXJnZzQ9yXS02MrwVAUI9jEbtki5PGkZmbFt2+zs/RQ1pKamwO94gOhj6t++5Yo9/UHEnAeowO0yURvb8WTJ92ZmVC2rywsFAYHx2/fHr1xY96FC6vLy1icDvXccE0NDEDA4y1OT8e7uIzU1iL5a5FKFycn8y5cwH/C0VS/eVP95g1CjkBHJ9bBQWJiIjYyKr13T/X69XRPT5S1Na4t2taWRnwQEIH54Zik+vqCiE7396eSxPLCwkxfX+aJE4XXr8usrXuys8eamyMtLZfn5lBNL7h2jZ6t2NBQyOOhK6y/qAj0xqRaXXL7tlBXV6irC8HOdE+PkM8HHxPv7By3bVtRcHCkuXmMvT2SqtaoKBwWoa5ud2Zm3LZtqOxgdYHYwGBYpSKSUKCjIzEyGm9tjbSwiLK2BhtcGhoaZWWFQ1T95k1ZWFj64cNw7gk7dgyrVDlnz4KYyTh2DKYFNV+0rS1eE+kr2XkALNXP6ga0enU+H5lif3ExOevF6enyR49gh4XXrxfdvJl26JBIX1/h6krL1ihmNItEvfn5tLyIg/vpdIv09KC0it+2jY7nQEkJbHWwvJxqYRqmcavuzz/7i4uhRAGpRhVozjdOdXYm+/gQYUbj55CZAQMhj1crFFknT8odHAquXsXprv/0icQcffn5462txPyD4RDp6bFRnA1gJXfuEMAquHZtPe3PrqejBXecjJOmW6cfPtwqk/UVFODx4lhlnTol4PEo4hK5mH/5coy9PRu86chrf+HKFRZHVqypOkiD1pWWFvm7xhD6yTh2jEBwDAN0qApGeUKan99EW9u/qgace/58/efPFeHhIC5YueZ/8MM2dbGyIFavmODhUfbgAU6gQEcHQ4y1JqJSkSyCS1+sY3HJv68XQ1I7LzjVKCsrtmPvZy77/Ttb6qZO9p9J8PPnVDRK8fFZ/HV1NkXr+r/+mlCrhbq6so0biUQinf3i9HSLVMpODxAbGpLQUVu72rEj0sKCLRULdHRoIHv5o0eDmHS9sMAB0SzZDiTUFhMjd3SMtLSEBqdJIIAoBsejMzWVUDaqWctzcwIeD0kkmOHBior+4mL4msrw8Lht29qio+n8LE5NsYKLvKCgiidPZDY2ZQ8ewF9gne3c8HDOuXPUbMoG4NbISBw8uaMjDj9uvL+oiKb3dSiVKAy3ymTaflknJyoF0SKE0fp6iakpzatTx8fPDg2pXr/ODgioevFCYmxMlzTa0FD+8CHejkhPr10uL7hyZaSuLu/CBfxzuBtkPNkBAZGWlkI+H1lps1BY8fhxtJ2d6vVr4Rq2E/L5Sbt39xcVrS4vR1lZgS4S6enRGWmXy+FY54aHx1taiBcR6OikHjigcHMbqauTmppibYbIwEBqaloaGpp38WLdx4/pR45AbJzg7j7V3T03PAxWA63e7IxDuHU8xqKbN6OsrFCOEenpwU5yAgNxU4U3bqCIXnDlitjAoOTOncrwcIRGkuOxmwaaJRJQU30FBVEbNkTb2ooNDBBlE3bsSD98WPXqFdg/gBKFq6ts40biZuo+f6Z9OxVPnpCrpfBc/eZNT07OytISFS85neuQsoPJVHp7s9khdiHj3hN37mS7khCEhDweJm8DOfXk5LB1TaW3N54hoUD8rerVKwR+XC1a/vIvXSLnQ/Fmpq9PbGRE0+44P0I+f7ylpfHbN6LcBDo6Q5WV/WvbfNmflYUFibFx6v79nSkpsPmcs2ephIeXAgU7kAFNYujNz4cu8kdyMs7yQEkJgf7BsjLsgAJamurqAj8sd3KiYRosJT7W3Iya90hNDU2VKX/0CA45ac8edsjPSE1NxtGjE+3thcHBQE492dnFISGkGuOMuvslPfu1oVkrWHNxSTt0iFM/ZjlzgiCUp423tFQ8eVJ04wbsQenl9S8JwD3Z2WidVMfFwfo5i2ZxhEru3q168YLTQZR54gTIJbx7dJoDByl37aJpLEDWtJo76/RpfIV2FeDabnCUPQquXcsOCKDEF1gMWjCxoSFiLZWC4H2yz5xp+v4dM4bYYaSIB3TNuefPs+Xh6I0bEcsHSkthVc1iMZvdRlpasoJ7yI6Uu3Zxiiu5QUEsGEzx8dFoNKp1G7sGSkrkTk6UFiBEtUgk4y0tqlev5I6Oc0NDFU+eCHg8orhZaYmAx6ORKYk7d5bcuQOHJTYy4pBgVEcgKjLR0xOeFLKdhB07OBWmops3M44f5+BT6g7Pu3jxt30dUjMz7WSPNQ4cr2Omr2+ivf2HUskWF4S6uiN1dcpdu7JOnaoMD8c/jNqwoTMlBXlnkrc3CEzs6qF/2JmS0hYbS6Fd7uQElyQxMVHu2sUmHwBVkC9JTUzon+D5gCenbpzlhYXKZ88izc2FfL7C1VXI52efOTPT1zdQUjLW2AheId7FpfrtWwhbGr58GW9tLbt/f0KtTt67V+7oGGVlRRlz1atXIj5/WKVK2bdPZGCAnKa/uFjh6jpaXx9jbz9QWqpwcVlZXEw7dGh2YGBxchKno1kiyTx+XMjnyzZupJxyuLo6ysqqKz19pLZ2rLl5qqsLHExNRETsli3jra0jdXUkgMc/yTl3DnCq8No1HJmJtrbcc+dI3xBpabkwPk4xj+ww6+TJouDgwuBgmocAvNUkENBb6CssVLi5oTOEVckm790LbgyJV3ZAAFir+k+fyCQkJiZRVlacsq5wLUxinEWUtTVbcmaD33hz80hdXdWLFwIdHfTSQNDXV1hIm6BgtwR5U/btQ7k34+jRztRUqssWBQevLC4uTk0tzc0RD5d77hzxT3QwoVbBx0ZaWPQXFeE0Idrh4hWurrjm1shIzrLeaDs7cBurKyscvnfyxw8MfoIYEy4LYZWlxPC39KiBRVAoGampQZ2rLSYGehFwluAv168s0zArVTCEvCcr67c6ak41Yb3YGxMFqPYMfx6zaVPc1q2IEQRQom1t0w4ezA4MzGT2H6P5CqRX+pEjHHkv1NSsZpZAfG5QEJWrqFRR9eLFvyQAl9y9K7OxAVxq+PpVwOONt7YCHHFwzVRn5/rC/kBpacHVq+j6IDc9NzzMkiHIrqZ7egi60sgOWE+kuTmVLqqeP+cQxZq1FRFxW7eCWFs/W7y/uBjKWCpRU/cOYCk2nqb5+XFKziyPjTOJtIndlkVCSuJY5E5OCje3ouDg1qgoIZ/PSgbgfItu3qSonLR7d5K3N5SNSFMInhPM/+2mip7sbOLucCNEDBIwQt8hqkFlDx/Oj41B+pRz5gysNvfcOTxPFDXZcTzatuZTp+CyWXQ1XF0NDLQ4NVUTETE/Oirg8cSGhusHKpEuD56uKz294MoVZDnsGDVyl8sLC4TE4cJ+sg779hFsqv/0CWCrMyVlqquLwMH82Fjdn3/GbNqUdfLk6vKy3NERrEDG0aNII5S7dkGwA9qwv6go88SJlshIuaNj/qVLaX5+aM9I8fVFEJpUq7FyqvbDh7ht25oEgtgtWwib17x9K+DxgBcLg4MFPB6SyLyLF0koIOTzxUZGQl1d6sJC/CAj186o+uMPChKVz57NDgxA9kyEJAw7OyAgxde3LTa28e+/8Qmrq6uTHR2pBw/mrWOkAArZqjPq7mUPHsCAm4RCUoxXhocP19RUR0QI+XyaLyHk8xv//pvydemaB8dtUgMb1NTEPCd6ehbeuFH14sVYS4vC1VU7UTw4mPbKjTY0LE5PY1eP1NQUQ29YXoQW/ZbcvVv/119SM7N4Z+el2VnOKA/SReNKsIcA8QM4NW779vTDh+dHR1nh90x/v1BXlzNtKuPo0aWZmbo//4R+qkUqxZOJ2bRpeW4u/fDhkrt3AVAoJYAdIi1pl8spRBWHhPTm56/P7aZ7eprF4uo3b5DA0dIUjUYj1NPDy6IYiSVUMBXk8evbMSba22cHBzOOHoXjbfz2LdHTEwMGyh8+zD13ruzBA9h/X34+p/2BpiP8E/Hbm5uL9IlW7HAuIPP48ZzAQKWnJxw4Jcp4DihR4RMS17SiP5KSYAxs4yU6wRq+fk0/fJgMD3NRhiorVS9fssFivXws9cCBhi9fWMkIQPa/JADXffzIqduzdV/6AzjJnMBAELM5Z89WhIcn793LTpZYmpvjzKzBcEFy+qxFtsXEcIZtUdOLzMYGcJuEMJGWlniv5Q8fUvUX7qkzJaWYqTePNzcT+v6twK+/pESgo6Pd/LzmdyjVY2ctgSpnl0FB5UGTyimPRKzC/9Z//kycYbSdHeIlMoCe3FyYERG8+EB4BILAmcePI3hnnjih9PLKv3yZhgAjhysOCRlvaWHfWmdKStapU5jYwCYQ2C+r0WhqP3zAXyHKRm3YkH748FBV1XRvL24wOyCg6ObN9rg43EXV8+fsOAXOkdYOwv3+PcHdXWxoWBoainMIUAwEM1xTE+vgIOTx8i5ebPz2rTUqimQBVS9e5J47h3Cbf+kSOGFkzwpX1/zLl9kNmDGbNsXY24MVjLSwkJiYTPf2gm/PPH6cmJJICwscY4GOTsq+fTIbm8Hy8umentoPHxApgcNyz53Dv616/ny8pUVqZkZz79QKhXzrVomRUayDA0wrzc+vr7Aw0tJyqLJSYmKCDAwIr+zBA8CIBHd3kb5+9pkzqlevhDxezKZNIn19kZ5ekrd3ur+/ws2NbSlRuLo2CYXDKtXC5GTizp0ifX3MlZsdGECrNF3MdE/P3NBQ/uXLSXv2lIaGFl6/nuDuXnzrVuzmzck+PoK1uaFsCSna1rYjIaH80aMkb2+kL3jXVc+fR2/cmODhEbd9e7yzM2rnsLe4rVuj7ezKw8Lkjo7g5EHDNotEIIcA72Q2NqCacSJgtOvrU9D71H/6xCqN8y9fZhGG3NEx2cdneW5O4eaGY0KIOdLSUvXyJekMRHp6ODWVT59KTEwqnz5FAIAREpWF0k9nSgoFDyxc+i1dzFZDx1tbyVnNDgwoXF27MzNhTmwHbcPXr41//73wazWKCFJa6xLv7EydjetjSbStbdbp0ySx/ukwZ2c1a632eKcya+t0f3+IckT6+tHrBhmt/6l++1b1+nXRrVvraSpqVEMEpYrD0uwsEtBhlYqtMde8ewcsrty1i/3q4pCQqpcvxUZGuDDOnlkqCeHgw4RQxOWwC6A88Yiovzl5714ayqslxqysKAejRFlibDxQWirU1SUc8H//1//6nz4Ac8yU08AqNTcHBzvEVGoxpwbmAiyGav/i5CRCI4AhfoESO3ZG/OzAgOrly+neXgSJroyMeGdnZAMtUulYc3PFkycSY2OSCLGESU5gIOgddVwczrncyYltjvqRlITx9NrKf3o6fHftmrqPzZ5/7pDw9CTxLcu9CHm8mnfvcAEtUmmkpWX+rwk0Sz5XPn2afeZM3oULbNUWMxN++/yHqqqQqym9vGrfv2fpI1brqCUVBgdJzIImn6XZWXLBKNWwhA/nBwY9VFnZ8OULQpHYwKAsLEz16hUKECRhU7i5wQ31FRbO9PeT4ol1uHPDw5z9E+lHjkRv3EjjGtIOHfqRnExIVuHuPlBSkhsUBDNolcmUXl4IwNlnzkx2dMDR9+blTawpYFP274chIUtAPMg9d67kzp38S5eGq6tzg4LgLJBYFF6/DnDDme+devBgzrlzJIMiGp/gXfaZM0pPT7ihwuvXl2Zmim7dKrh6FaIPwnBCHg+ZRO379zO9vdh10yKRIA9L9PRs+PIFjDQiQeH16/B3NX/8kXnyZOapU2IDA1ZrTYgT7QDxLi4V4eEiPb2UffsEPN7SzMywSpUbFJR38SJ8mUhfP9LcvOTu3dLQ0NygoNQDBwquXh1SqaTm5sg2Enfu5IjtpSYmc8PDrTIZmz1E29qyGR6L4TQaDSRa7OR2AY8X9WutLv/SpRRfX9zmVFcXufW2mJjR+vomoVA71UdXF8FysLy84evXrjX1EEekg1QYz5+V/nLCSeO3b6BGgPjZ7BNVJ8TCmogInF+Rnp6Ax2PbHCqfPtWsrk53d+OgxTs79+TkNH77RplG2YMHMhubmE2bOB01hTduEK7FB8qdnNIOH07esweNbcDQ7OKysgcPBDo66O1kxdiog9A3soq/rrQ0Cvzwe+DwVhYWysLCaPE5WEmtpIbHQ8GOwySDUppob4f7nVSrWyMjgde5upa16DukUqXs2zfe2spWo3/LThdcvbqysDDGLKQhMQ3HJyxOT//MoBiNJxWwcOXssHHNr6NwIy0sSHKLw9X4/Ts9T6v/9t/+DRkwuCbW5pBrNotEEmNjylnzL13S7irYuZMCDEq///SzfilVw9evQ5WVk2o1lXw4m4Uqw8Pjtm+ntIaaX6sjIlaXlykRRNFF7uTETsDoSkvry89v+PqVFUCRBcCm8ckZx46lHjxIrYQajSbRwyPKyopTGSXdEyUxBMeiN23qSEzMPnOGrWRApYWVbb99INTUm+Lru7K42PjtW8a6kEk05mRHB2JPV3o6+hRpkhGmRky0ta2urPzsWzA01DAT47BlqPDatUhzcw4tQcemMzlZ4e4Oy+7Ny8s4dgwwhU5La1RU5okTcVu3Qm2HIE3eHM8W9TY6yVJT0xapVOHmhkiTefJkpIUFZ1Uq3h3lSdF2djP9/Rn+/pi7hJItxfIWqXR1dbVZKCQNOewKWtyZ3t6VpSUYZM0ff2SfOQOes+T27eq3b4V8vszGBrz9SG1t7fv3qpcvM48fZ81GbGSUdepU/PbtSzMz421tuBeo5DAMhJh5mF/uuXORFhYFV69mBwSwjklkYICRrkQ/DFZUIPMQ8vnJe/dip2nthw81ERECHg9DpPMuXlS9eJHo4UGtASV37kRZWwt0dNgJ7ZTzSc3MhDxed2bm6vKy1NS0MDh4oKxMZm09NzQktbAouXNnqKoq2ccnbutWVMdhHhyvmnn8eIKHB1vNlZqZqePi2BZ5wgcjtbXIaaTm5vEuLtUREZM/fqDxHZS4yMBAq637lU/SNjUx2eRUVxfLgf0C91dXEa6Kb9/uzcvDC5I7Oqbs24eWxcLr1xM9PSFmxLnIDggAY0w90+RkMCGgWSisfvs2Zd8+7UqGtXZSQLTyR49oQad28NytW0pvb6rrg5diETZxubnnz091dkpMTDDBjfTGleHhbAcjKvcxmzaVhoaWhYWhhKxWKKgwPDcyoo6PFxsZpa8TjfZkZ5fcvQurWM8hy2xsfiiVnLxcw8i2EQ5xMTTjgdKhnMDA0nv3RPr6RAnQu6DO7HR/f47AouDaNSGf35mSMlJXV/7wIcpn6MugzjFtJh0RgdcE3Lw0OztSV0fVBKoMwtgAQPE5cVu3riwupvj6CvX0JpkNZn3r5GwJ7u7/HhU064/6i4r+aecJSiZkKw1fv3ImCBIQxonFU8OftYmapyfQ9MrSEllDpKUlS1KBZdICn127WFaHI9qaaG9PO3QILg/GjZNGIk+AxHhnZ9TDin63chL9USw7VPvhA1jZH8nJMfb2iF5tMTEya2vYXOWzZzgS2QEB1W/eSIyNh6urkf2jtyHNz4+T9QI4ayWXDBicGx6mBAKuSsDjJbi7Y/jzRFtbi0SC2VK4/tmBARJjt8pkbCpDpb66P/8UGRgUXLsG+EKnHeylzNp6bmQk9/x5mg2bdeoUpWXVb9/mX76c4e9PTSwAHxhtgYyTs5wR5X+5k1Pjt29tsbEE89fLQIpv3xbq6rJt9TiB0AYXXr8+PzraV1BQ88cfQEVx27Z1pqZGWVqyA6hl1tYc2EfRBZFboKMDBLm6spJ5/Hjh9evJPj4pvr5iQ8Pp3l65k1PVixdsWQEXJtLTmx8dnVCrq9+80XZm83iYk/wjKWnqx4/Jjg6aDNzw9avUzAzVUJhf3ceP2pnG9fUJ7u54JjAG0vmDt+gvLi68caP+r79okBlebmdKylhzc87ZszBFsYFBf0kJhUO2qY+yOjDtWadPE0XUmZoqNjLSrK5SQRQTv+HjUvfvx7S4wYoKGFjs5s2UmM4ODIw1NyP/QM7dX1SEEwfpHKqGyXv3sjqAND8/uM7+oqL22FiRnl6kpWXmyZNEQc3091NUwKFui4mZ7ukhKUb958/dmZk4vy1SaePff0daWs709wt4vIQdO1htxGBFRcq+ffWfPgFvseinea0WjhMKJE1WvTg5iTI8Svt0O1TI1HaKr814Wg+g50dHEz08lmZnqUzWnZnZm5dXcvduxZMnQITpR45E29qyi3i1Z+r1a+D+4pCQwfLyolu3fq7QHh/n7KjPu3gR84iWFxayAwI4uTLHe4gMDPAuIHfoycqKtrVdWVjo/HWqUsPXr1AVaH5t/RgoLcVb4MzAJ6BPFDG5F4JTMOa54eHx5mZ2JolaoRAbGrJT8Ws/fGj48kViZMS63+X5+ZR9+9hphmqFouTuXXwUFCRE75O8i7ARyLN/QwCO2rAh+8wZzriMjsTErrQ0wJ80Pz+2JQsenzJUymJxJFC4hd0vTE7CiaOLvPTePZwNZDbjLS3LCwus4KInO7s3N5cjwdBG9NhYtqeQHBBdNpG3mGSJ04WcjOSX1IjMUQDSidISs7+WpUV6eiyzxBrQ/+FDBh0ESEgHG9rm/uJiIrQ5Rk+150m1WqSvP9XVxdaWSPYM/lNsYJDi6wswC0cz1twMWUfhjRvghUpDQ/GOOA12yXv3coanU7YaaWlZ9/Fj7fv3U52d7O8Uh4Qk7d4NGwC9X3rvXuyWLXCIBdeu5Z47J9LXl23cOD8ywibfNX/8QdI2am9AYxg9mQQPj+q3b4FU5sfH5Q4OeMsSExMEoYIrV+o+fsTmA1gaDm3O2bPUZMJ6GSTEeOD4ffxv+pEjUVZWsGeJicmkWs36EfZBwbryLlzozc0VGxkV37olNjDIDgioePw4OyAg0dMTA5xZzKfctUugo4P8TKSnV/v+/eLkZJqfH7ji7ICA8TUMIdLTyw0K0jaA6uvH2Nkl7d6NJykxNhbq6mKcMlBCqq9va1TU5I8fWPYArnVxamplaang2jVSgMM9xdjb/3bFDTLp9MOHVa9f43rgfzFfVuHqmuLrW/327UR7e8WTJ8jhsgMCoHGDaBkPKsrKCndNhYaimzfrP3+mcIv0a3l+Xmxo2JGYuLK4yJlKAZ5GOyVxy5b22FhEaDAN8LZgWcjgV1dWEKpVL19SKIIiDMZPU3LLHz4UGxlF29p2paWVP3yYc+5cYXAwK8BM2LEDlgC+nTK/1shIjUZT/+efWCMBLDjW2Bi3ffsvGqXVVZbkS3B3xxGu+/SJpBIp+/dXv3lDA3FrP3zAnl2xkRFLDBRcuwZMOVBaSl0PrIYGpe654eGJtjYSqUz39DR+/17C9CXC+9Gq6Z/f+/49wYvWqCiFm9sPpbL+0yfQ+CN1dazwBbCs/NGjND+/zBMn4l1c+ouKyN21ro3QBwmnWRvxy/7knDvH8hy4nn+at0WlBOR1ZQ8esKM2NL/Ow+Ew2P/tv/yX//QBmBIdEOvqtZuneXKgO9Yz+D+SktaPwRprbFyem1O4uhJwY/cUscDtny6pJDR0dXkZ4QooHgkcwgmx/1QpXC+H5tCtOJnrO9abBAJO7QF8psTYuD02drS+PnX//uwzZ0CDjNTVEVcTY29PAoG4bdtSmQXgLVJps0gEATnHbpL37v3JOw0Pg11cmp1Fbof1sYR+RPr68ETaRUxru5uUXl7T3d0tUikmAOCSBisqaDJtXlBQT3Y2pKcajUa2cWNncjKgK76dzfx6c3NpE5xAR4ems4r09Bq+fmXltTS9EvfFkSwWh4TAj+dfuTLe2or4nezjszg1RWEp/fDhrrQ0gINICwv2NAJOdaaladZGRmuf7a9vh7wJu6QMmHplcZEmpUhNTbVRVlc31sFBbGgYbWe3urqKbyy6eTPe2VnE52edPNmRmJh++HCyjw84f62xreVMIj293vx8JKAJ7u7lYWEpvr5CHg9PLGHHDozZQmmm8du3qA0bWIksAjZKISJdXez6FRsZyZ2cxAYGYkPD3HPnSu7eRXAaKC2tiYgYKCuTmpq2y+Xljx4hgk51dg6rVGyzLCKZ3NGxJDR0tK5O9fIlXCdyaK0GjcejyRLs+NJmsTjn7NlED4+6jx8rnz5N8PBI3b+fc4Qrnz3Tdnnm5LRERgKMlty5eF+pZAAAIABJREFUM6FWjzU1Fd++PVBWBuQEmgHoVu7oKODxcNKnurq6s7JIpdj499+4QjJvBJ5mkag9Nlbu6NiVnk6ayvq//ppUq5dmZuSOjvD4NAW64MoVbam1vx+nT+nlNaFWF928WXDtGuWs9Z8//9P8ADyKrrS0ZrGY2KnYLVtwxNgoQjZAUZ/sP9LcXMDjoZiadepUgrs7rL303r36v/5ij8w//eQFBVH1LdLSEjF7oq0t4+jR8ocP12N9MMNphw9zOEL6ASm1urq6urwM9oKtnWP/QW9ubvaZM5xd95wEl+hDhZsb9ovjkyXGxmwWDm0KyWWmmTYH+BbcwvpRDaj1Nn77Rlvnyx48yDxxAsieVvUAddFQ7swTJ6AO6fx16Aeu4f/5v/6vfwMFXXL3bvnjxwhpGUePjjc3YxINm5cgJFMSKdTVhUZOZGCALtjp7m5S3EVaWPxW5YHXKdLTY7O9Ooas0KzNYErz8xPweAkeHoDMqLPGbd1KmS40mbB46uuPsrRcDxRIddJXUMCpSbMdw9CCJe3enX7kSIKHB3VkoqRadv/+8sICp6Wv9o8/4Du61hkHvFL548d5TEkGnpTdgoLMhubplN67JzU1hYOL27oVZRVMgOKoIYZrahAvx36toKPpM+fcObGR0W/rCPHOzgIdnbL7938olUDEJNvB6BKRnl7aoUNZJ08OVVZGWVnFraUs0LEPlJUtzc52Z2UV374N6FD99m1/cXGkpSXyRXoXaoVCuWsXBQABj4dX1h4b25WWBtlXWVgYnCnb8bU0M0NcokBHBw6o/NGjjsREgY4O9O0rS0tRVlaqly8n1epIC4vad+/yLl7E8NH+wsKCq1eT9+4dqa1libVoOzswInCmxSEhS7OzcyMj+Pyimzf7i4oArbD7KNHDQ6inB4JBpK+fGxTUk5OTcezY0uxss1g8UFq6srAATzc3MoIwhjlBcgeH0YaGuG3bMo8fj92ypfzRI6AQEi0OVVYKebyZ/n6Rvr7S27v+8+fi27fbYmPLwsLYQpfUzEz1+nXehQtVL17AGpN27xbq6pY9fAhqSmJsHGVlBREfxf6pzs5oOzuFmxseFATGTQKBdmwWn08Damb6+1uk0qnu7rIHD1D4zzx+HOV8SkFyz51DLCeqcGVxMWbTJuWuXWCkEKGHq6s5Ki2cFCoJiwwMSFIrs7aeVKtRlVS4uCi9vWsiItBpPdXd3ZuXJ7OxoZAc7+wcu2aBqQcOUGjsSExkl7jMDg6qXr6U2djABuQODlXPn1eGh/fm5eVfupTo4aElGNYG+QFF4ezgFqgYTP8PTisVWVukUiQkckfH8ocPFS4uJXfvsh19nASg4MoVLSb49AnSSDJytjfvt6Satt3L2pot8P12yaCG6Svpzc1FoYFKPJwK7vrkZHZggNNsifiHGDlcU8MOhVW9fCnU1YVj/wmgV1cBr3uysrIDAhBNqWK9vOZgsYuTam0tkZH0Ccja/+mn7MEDJF0UMlQvXyLnWV1dffa//td/+gBM/q5tjbUbKC0ltpOwT8ymTSjsCfl84p8lxsYKd/fUAwfKwsJYKI32cOBE9Id1paezGlpEd6Q+ZWFhNOxidWWl6vlzgCyEXvjH4pAQmAJmPy3PzYEKY3+o65f2IkiMjJL37v3tHBaWHKbZTJAgrg/hOK7UHwkjRrMvqTngf+NdXHDBM/39MhsbtsIRt3UrVqtWv3lDO53+g1eD3E5mY5Pm50ef05mSgogVtWEDGn7gsoW6uuB58LdVz5/jwjCMen323ywSkZMdra+HdyavTc8QguGMo0eRCoAli7Sw4FSMpru7BTweltXjXI01NcFywH6Pt7TMDQ0hArH9VCgQCHR0Is3M4rZtmx8fJyaT5a9wVbiYaFtbNKQJdXUlxsZJe/a0x8aSHxypq8s6dQooTenlJTYyqn7zpuz+fYWra9zWrZR5SM3M0g4ezD13Djg9dsuWolu34rZvF/L5Qh5PO8Dy7Vu5oyNumfV9YgOD6I0bYSTwHQVXrkx2dCxMTKQeOBCzaVOsg0NPTg5xleyMlN78fFpi3/DlC1la1smTLLYT6upKzcxit2wZrqkR6euDoh9rasJ90aIqMATEMJXeu6cdROXkhAebdfKkgMfDlaTu34+xLVJT07itWxFjMPpKuWtXs0iEXcs4/k1CYcHVqyN1ddM9PSJ9fYSisaYmzuS4qA0blmZmCq5do9WtiZ6ePTk5dC+N374l7tyJvDwnMLDi8ePZwUEa5Vbz9m3Cjh3AxAnu7j+UytSDB9d3maNIJNDRaZFKFS4uQ1VVUqbNNC8oaGF8vDgkpC0mJmbTJmRLGma8PLqcqa6kHfWz9rdiI6MoKyuBjk60rW1uUBAdyayTJ9cvK4QjgqMDLq9k6mU4RDTBsf7zZxBRxITBrQG4IMOLsbdHhbtZJMJDaxYKFS4uQOQ/kpMRwtkBt7ODg92/ismJZAJbgHg83durVey/eyfS02P3DcPqou3s2mJiSu7cIftB/op4vL4rNf/yZXYcdPqRI2x1Q7lrF1uvhVeZGxkhWFMZHs4Zh6lwdaWC7kBJCbLzwfJykZ4exJWUXv9ISoq2s8MDz/51J+af//t//xsy4Ax/f1Lndmdm4gxopTdrEKY3P5/dfrW+HAs4CXxE04kJttC8OiSLwzU1rE4KrCxYRM7qMZwoWqykTZJmZ6VmZoisjd++TXV3F4eEcLoSx5qbZba2yT4+kRYWCGCdKSkdCQnq+HiRgQGI68WpKZx/ZAAld+7g/0eS2pOVNTc83BYdXf32bf3nzwTn2WahzOPH22JjQUWK9PXJ9Uyo1Zzx5Zp1u0EA6ptFouq3b0kyw4n69IEA0VNdXZzdnOsnpor09ddjDomxMSmnKAVXenmNt7SQFBb4o4oJkAIej1qB0Z1SeP06An+UlRUaNjQaTfGtW8k+PpNqNU5U1YsXnGaYlYUF9JxkHj9e/fYtPjNu61ZCwQIeT+HqmnniRMymTXHbtpXev9+Tk4MIFLt5s9TcfKa3N9nHh5o06j5+lNnYgNWkjsxET894Z+fikJDa9+9lNjZEuFWEh7dIpRXh4TIbG4RSlAkXJiepAF944wZbxI22s8O9pPv7A2+VhYWJDAwWp6ZgpXIHh2GVKtrOLuPYMQGP1/D1K5K2qhcv4pycMo8fh3n/SEqSOzkJeDyA16HKSqyWirSwKA0NVb14EW1rOzs4KNLXT3B3hx4+buvW2g8fEAm0fds+Pvi0+k+fqt+8KQwOxnPrzctL2bdPYmKijovD+RIbGSEsSUxMUOVBtFC9etUkEABUgRCmSLM4PY2Ne0l79uBJxru4iAwMcK6r377FHxanpohV7isszD5zRmJqCq2QdG1kmDYkz86ScEw73JShVclcS+/dK71/X+nlxdHrkceQmplRGpC0Z4/MxobVEmoFEGvlJzbs4fbb5XJOBCX/kB0QAN6YTjTR40TG/lO6OT82hpkV1W/fssOC6C4A6caamtTx8dlrYQw3Bd3AdHc3uxEyOyCAqqra/Livb7imhsaIrv+Bs0LdmqJaRXg4uJDFqamysLAGptKEz6+OiEjw8MBrStm3j7AU7BkOlqwCjba9eXlIA9j+MUq0SLVa/eYNaP+Cq1dpcJPEyIg0zLnnz1NNhBoZYjZtgm6OggWrkS78nVq28du3zpQUuK/KZ8+qX7/+f/8dFLRIX78nOzv9yJFJtTrR05Odllx448ZgeTk7mbLmjz/gmwC1RuvrM44dS9m/H/2LbODMOn2a4jpn16Hm15nG82Nj65doImDQgaRIkHrwYP7ly6m/LoSAGdX/ymaztQQUFxu/fYPkiu1XIw5grLGRsxQZ2H+qs3OssbFdLqfGUw0zppGlDelBIe/JOHasOyuLfjNu2zYIggqvXwfeLAsLa5fL22NjfzDbnxJ27IBRwh1kHDvGFqgWJiZiN29Wx8WxuFij0fQXFck2bqTRP6MNDXPDw+SD5kZGUg8e5KTC/Uz5PHbzZrb9jmgMDq+I3yFhKpveUXU50sJCamqa4OHRFh0NHx1lZQV/UXrvXndmZld6euH1600CARU4YCfgD9MPH867eDHa1rZFKpU7OWWfPo18hVYsIBplHD0KXJ918mT+lSv5ly+n+voKdXXxtAU6OnlBQQo3N5ArmceOxTs70+zZtujokbo6saEh3i9yAlpeK9TVpYxByOcX3rgxUl+f6OEBU5wfG1O4uAyUlSm9vKI2bPhp4UplzObNI3V1UVZWRPTlX7kCLy93dESuD7Qh0tcnnSr1oVHpLmn3btTGKI0W6OhgUB0qGomenr15eTGbN+MDi27elBgbF1y9isgnNjSkWBVpYZF/6RKsXWJi0ldQgHMnd3SUmJjkBAZOdnRgMw+NiWUFiZq1DWno3h4sL9cGWiurocpKHK7e3FzAdAS/krt3m0UiEvWQBQp0dPAuZDY2+HCAzu7MTLmj40R7e9rBg8RGcjRBGHiCYKB69SrS0rIrPb0sLCza1hbsCEe49FuG9qdS6c2b/DXxJiXcJbdvl96/P9bYOFJbm7R7d7StLaf0g/oOm4REWlqmHzlCNG9FeHhXWprExISiOLCyQEcH17CwRvDMDg62ymR9hYVU3UeaITU3B7GHLHllYYHaq6i1faypKcbODghMvm5p49LaaAuOTur/9wdoFYgHQZ28AaewzY4ooafHtn0CN2iXe/L5sOe4bdvwFZzuA+0R8PfPPX8+5+zZxJ078Srljo4s3RJta5t/5cr6t/w//h0BeP3+qfQjR7QU4uQkkONER0fvGutL6Rrhndzz5zNPnCAgSVIaSJrBHlCr3OzgIOKN2MgICQGQEQHDuj//VL16pXr9Gv0b9GkQVQLao45CuqH8S5cavnxhl7HjZ1Ktxi4ObbX417RbYmxME9Q0vy7dgy5AqKuLiJvm59cqk6X5+bF7f6Fyqvv4kcABDA5RVsDjtUil5Y8eiQwMcK7IpuOdndXx8aC+xUZG7OYTGC6bwsY7Ow9VVqb4+iIA0IC3uO3bUw8cUL16RRItjUZDkYO6+qI2bCh/9Ahgk542yleJu3aR0491cCi8caPk7t3yhw9j7O3jtm8X6esDA3Wmpibu3Cnk8wFjs06dYhv/8VK0a+dHR4kt/5GcvLK4iCMKElKkr8/SVrQ5HGEmxt5+uqcHTla4tjNHO+ZFpar98EGzujrd00Pp1ExfH/Umsckri+QgNlbu2pV+5EiCu7uAx1O4uSFjQ1U11sFhprdXbGiIlePwkl3p6Tnnzi1OTiKbEerqYnnlj6QkjPVBMxWEV6kHDizPzQGIxDs7j7e2ql69Krh6Ncnbe1KtRuRI8fWNsbf/kZICMCc1M0MEqggPh/tuEghIio/eJ1bB15uXh4AU6+DQkZCg9PLiTMvRaDTtcXF414SNVhYWqOuj4smT1ZWVvIsXgS/L7t0DTR1pbp7s4wOjjd28ua+gAJsNY5ghghROOMJJXHnCjh2q168FOjpwl2qFAkFlpr+fBM+42bKwsNG6OqSe1M01XF1Np16kr8++R5Q5Jn/80K7K3rAhbvt2HIHZoaG5oSHOiChMcMPydvQ9sqMQtQTyWisXoQ1OF/5IbS2mpC1OT8dt27Z+IG7WqVMDpaUld+7gNimL4Iw17s7KgqkX3bwpNjTEXYOCbhII0o8cYdet/lTAPX06/+vsTM6yCso0qDoj5PEgs4h3dqaMU/XqFQkY2RZQmO7i9DQ9f1Z8x6EPWW8JAp/6UChj0Wg0ffn5iZ6e1LqCswxjIPSgVijaYmII4LLcw9LMDMwDLw48GbT9RF/DaHEigOHUCgWolNv/83/+GwIwxR5OQT7zxAlYasKOHWVhYRNqNUkSKGZEWVkhBRxvbaUZK+wU3NoPH+aGh8HmJzMCRdLKs7ts2Tk4KFLCyc6PjVH8ZklUhZsbfRHxkOx/DlZUFF6/3v7rurS0Q4dA48Rt29YSGcn2A2iYgRIZ/v6/7RtOPXCAMoyMY8fSDh78bcUo+3fTPWO3bImxt6eRrRTycexxWopv36a4iF+gr0MKmxMYuLywQOgHIAAvRWZtjcU+mSdOLC8sgDcW8nj0RRB6YKibOj5+rLlZ6eUVv3271NR0bmgoee/esocP5U5OckdHqhMjDjV8/bqyuFj38WPu+fO4DOqkTD1wQLZxo8TEBNknDnNvfj6MhFMwZtl41evX483NLFffGhWVuHMnWx3H6xDweBXh4UJdXS3XamAAM4iysCi4dm2oqgqhri06uuLJk/7iYjxAKrLCcSu9vVFIxqspuHoVy2rwa1NdXXjO9Z8/Q/eBkFNy547Sy6vq+XPMBF6amal+8yZ2yxbovFL27YMSWKSvLzExGW1oEBkYtEilcgeHrFOnCq9fJxcPDVFZWNji5GSip2fc1q3FISGV4eEQ91Y8fkw4mIagdaakCPn8uo8fJ9rbayIiSIsrNjJqEgg6lMrZgQE8XnYUKxYo4V2M1NZCgA2MSJEbSjpIl/EulLt2RVpYgHpBOKn//Jm0rESH4IxnBwTU//UXajHrR6ywJQzgszQ/v+rXr3E8m75/lxgbd6amsmXvvvx8IZ+Pw47Uk3MqU3x92SAxUlsrMTEpuXu3r6gIdRN2JUnl06eckqRmrWGvMy2tOCRkYWICjDqA49CaChI8Qen9+/hbkZ4e1SmJsfin/sOutDSwskMqFXkhpbc3nhKMBJkuDcQmp1F061aSt3fm8ePzo6N4lZMdHUDhNDW9WSxGWZBo/HhnZ9REyXIQjCm85QQG4uCX3r+ftGcPwnm8iwuVfnD0OHmz1lz37+/Ny8NDgw1XPHky1twMwDRaX18WFjY3MqLctWuquxvPhN2slXfhQpSVFRoW2BmIqhcvNBpNyv79hOfaYmIogVmv7KGfqa6upu/ffyiV0Rs34rILrl799wziINIMvm+0oYGWOLJ1eDZ31DCLKX6pSq7F5uLbt0FSNX3/TvCnNTJyUq2m30HkIItM3ruXTUM5MwVrP3zIDgggYCUxNoYSEk0FbPAmmRhCRc0ff8CSaHUPar2Nf/8NXwNkMN7SArIIRl/95g0eCysnxnGC2rD84cOsU6eaBAI2fHKoFc2azFju6MjpjgeYxe30FRQgXMlsbGQbNw5VVirc3OCPlLt2QSgBl8rRiBENhWbZeGdnnBAWO1c+e5YXFATYGLtlS96FC30FBeynFd+8iTR6eW5uaXYWOSJexA+lkm00JPUKhIh4j3DrLRKJzNo67dAh1atXRcHBsVu2cDqqQavEbd3KjvWBg+OUu3Bik3181HFxyMCmOjsFPJ7MxobGDJU9eLA8P69wcdHyujo6SHp68/LYAU9yJ6fU/ftFDDzCaZfZ2KwuL1OoA/kJc0r184PHidqwAc+n7uPH+r/+EujoJHl7D5SVlT96JHd0pI64pdnZgqtX8aUCHR2oBbvS0xu+fIm2sxPp6YFph8fJOHpUam6OlhKBjg7AfrSdXfrhw3gsYiOjxJ07u7OyUHzFW6h5965dLk89eHC8rQ2YOP/KleKQkKGqqvxLl0CDT3V2loaGVr9+HWlpCSKEklfgj4IrV0icHLVhQ5NA0CwSsbLY4pAQjnIeATjexaUzJSXt0CHMsGOn+1LWFWlu3iwSKdzdS+7ene7pYXlLtneWXC3aTthEvy0mhgpGFJxQwsBbaJFK048cqX3/Hl1zqIYm7NgBE6LxsSw90y6XS83MSm7fTvPzS3B3H6yoKH/4EIAj79Iloa4ua6IECHDBMmtr2APaQ5oEgoQdO7rS06nOBePHHakVCnBj1W/f/pyb9urVYEVF6oED1DiXvrbzQKPRJO/b1yKRUCdkpLk5bhPNvqhtLU5NRVlZwRoTPTwUrq7YAtcqk9X88UdfQcHgGqfF1v7Yb5kfG1tZWACLibOT4uvLQl4gWmrmrH3/nhg15DnZZ84gwHOmBSjc3Tn+mYUm7Hxp6Gw4s3UlxsYICv/U5jtQVlYaGlr59On6obzr49d/+gCsLVowS7WiNmwouHIFh402mml+XfgMX5+8dy9cNsleaDY3ERcUVvHPwW+TEBeMB6Ij/m0Fo79nRRwsrcRunkGogIngjaK9EsdYYmwMJ4WQRjov2bpB52IDg+wzZ8aam3Gumr5/JxFKUXBw+pEjvXl5+PzVlRUoKmXW1trlrMHBBVevSkxMsGZHqKuLYmfGsWMrCwua1dWSO3eAPQuDg4U8HittYAvJrTIZfEpnSspvqzicFVWcOEf2He/sXHTz5m+XLFHOrVmbDbRe+5B/+XLy3r0AZGzyAVSBon7y7t0TbW1CHg/+lOptsAesP4KLIVmWSE9PbGgYZWVFNLtAR4fm2OFdk1sB3AHJwdmILjE2RsUdXCjdDkKp1NR0dnBwdWUled++4pCQnpwcmFzaoUOYDFVy507Mpk15Fy8uTE5qx3sdO1Zy9y5wSdSGDYNlZQAWmBYZ7+ISaWEx3d0NHTuyisIbN9IOHepKS+vOzBTy+YkeHoi+leHhCldXoa7uwvh49pkzQj4f8CjSwmK0oSFu+/a4rVuFurr1nz8n7d5dcOUKqsJQLC/Pz1eGh1e/eVP1/HnxrVsiPT1t1LS0RO0AH4VcoeTOnYavX8l7zg4OkveP374dxxNEIkJ+xrFj1RERc8PD7OzG5L17u9LSEHVSfH2TvL3HmpqwlaRDqRwsK6t5967uwweFq2vRzZsifX3YcIy9fcXjx6wLJrfemZo6PzaGgkXx7dvsXIWutLScwMD6z59RqoCCDBAnxt6+9N49NN5EWlpqO/TKy9laoOr168XpaUIJWqHZmrKhNy+PDeEoYLOKJwQG4CFOOGmXy8Fq/Fz4s3asMHUkxt4e1KtWTbKW7Wm3kIWFEb1H3Ck2y2l+7TzMOXt2sKJibni4LTaW0hKW64YJjTU1Cfl8OEaOIontlSe0QYQi56f84UPKNZuEwu6sLOjFABdiNm3KOnWKaG1WqBy3bRsra5UYGcmdnOJdXABfZDY2kx0dSLhjN29m5zLhwRZcvdqZkkKamMXpaer0Barryc6mchWnzNwqk7Fbs36+TWarzXB19UBp6b8hACtcXdkTItTVbRaJlLt2ZZ08SRkb3lDy3r0V4eHsflxin1DBQpQlzo2Cx0BpKf5PICnCqokeHqysnFVecDRW7E+yj8/iugmowzU1EmNjmCNHbIyiIOldk/fuxSn9bVs6gbjfSr45fcDaY782rkHI54PR4vQXJfv4THV1xTo41H74QIbVm5fX+Pffo/X1pCqMsrTkSNW0U4X5fJZ+/8nienuPt7a2xcTEbt4MVB67ZUtHQgJn4CrbUTDV2Znu7w//VRQcjBLv/NgYZwIUmz2z2SpVvDoSEhI9PQfLywFOkfp3Z2biVKceOPAjOZnd6RttZ4c/L83MpB48mHP27EBpKSHf4pCQ2YEBEZ/Ppl8J7u7Ig4GcFqemEGiFurp4SsQxgvuVOzpS86hAR0fA4zV8+RKzeTOKCLGbNwt1deHOFO7uWpqnvl6kp5d9+nT9X39Fr63Yo7dPonGpsXGLVCrg8eo/fUJ0FxsY0LLn6jV55+LkZNSGDWqFojc3d2Fioj0uLvv06SahcGlmRmxklHv+PJ6kzMYGTVYCHZ2xpqaZ/v7kfftwjwCX0ba2BVevKr29BTze/Ogo2VLRrVsCHZ1oOzuEWBpEIzU3V7i5odaOdx1pZaVwc0M3FIicSbWa6gVx27dnnzkDukjI50tNTVP371e4ueUEBmaeONEilcbY2wv5/N78fAxYZQ2jMDg4NyioIjxcbGgYaWExVFXVlZZWGhqKK6fMiVonSkNDoQrE8afZAOSLuzIyioKDZdbW/7Qvb2F8PMnbG/6n8tkzuA7EyMbv32MdHDDHm5IkJFsQh4MckqzNrxhSqVDtwuCB6d5eZISou63PwxI9PX87WKN8TfCc7OODFWREU68sLmIC2n/sdaXm5gS4iU/GMxmuro7ZvLldLgfoLLlzh21lrHz2LN3fv/LZM5GBARUFiFQoDQ0FzBXp65OCDO+dlGJsavTzY58/1/xufCywC8fpcTZkoJy8fhiWZt305rmREUT09SMiav74gy0ZkANfmJj4p/lZ+Dn/3//7vyED1hJWPj4apuMeHAI72pt+cs+fR8oywQzgBn8iNjDI8Pdfv8mZs5SKBT5l9+5p1vbC/lNKV//XX8C57ICV0tBQqK5q3r2j8ljx7ducHhhA0WhbW6LQpWZmUVZWE2q13MFBwOORkosyQqQL7GWA1ZkbHh4sK2uLiYEN4cwgXK0sLNDvAwtrR9j4+VEOqvTyIkfzc3WalxfoQTyN5fl5eJP1csH8S5dqP3wgfgkuY1ilQtxi4Utvbm57bCxVmKBOVysU6f7+WSdP9hcX06GSmpqicEUnc6SmBoVAlMHiXVz6CgtL7t4tvH493d9famamevVKampKRJxIX39xcnKoqoqWaoj09AqDg8FnrCwuql6/RoBRuLvXvn8PA6t5965DqSy4ehV9YkS6zA0P9xUU4MqpwNGbl1d8+zaOYtSGDRzzwHEtf/gQMKhlrakjLyhoor0dGBxj30vv35c7OY23ts6PjWEgTPnDh715eVRuVL18mX/pUtSGDSN1dYXXrtW8fy/k84mk5diVSE+v5o8/RAYGgxUVhTduADIKdHRGGxqgLxPq6uLWJtRqmbW1xMQk/fDhrJMnYzdvjrK0hLSk8tmzgmvXVldXq549Qx4m5PPzL13CznapqSkMpmqNgSh/+JAlfmb6+wFT4l1cgGXzL13CA+nOygIPQbiEiqxzIyMwWsod22NjY+ztUV9ANlZ67x4yrSRv7660tCaBoCYiAu+u+s2bND+/ZB8fIpCKb90iQXu8szOIkO6MDO3vv30LQX7l06dFwcGtMhl012Ijo7L792ko1aRa3S6X0+QHGvxU8eQJp/sTIH795nmsIv7Z6XT/vkajSfHxqX77dnVlJc0r5zXLAAAgAElEQVTPjyVsqWM4asOGKCsr1atXyT4+TQIB8viB0tKl2dm8CxeEPN5UZydLVv1QKgEIWF5Qe0IvXtQw0/qkZmaVz54JdHRIozfa0AD9KatIYmMSTd7gSFt+JCX9fCBoZWZoMBxYVlrFylGLb98mC1+YmBhrbBxvaRlramr89g1mNsxsuqMMfv1mYlhs1unT82NjAh6PJbq1F//oEbVvyTZuLH/4sL+4mBAkW8Gkq6UZROUPHxaHhHC0bBwZXVd6Oqwdl/2voqAJRjX+/XduUJBITw81YJxGdh4KtNBgYyBJH6mpgcfkdDIgK9Kyl6uriC5zw8MT7e3USy4xMVnfHUtEhIbZIcj+IGZUv3kztzZqmDB1vKurhunXpheMy9ASX6ammnUTplB1YElpTrCkEXec8eiS342I42xeY702XRur3Y/dvBnlruJbt1ihNXr4ANLVCkXZgwd41AIej2hbdrDO6upqZ0pKpIVFwo4diJGAscTQajSa6e5uds2OkM/POnkSyR9gtYDHyzl7FlGqWSTSUmqrq0DoXRkZtR8+wE9VvXixOD1NDznKygq+gGKV2Mgo0tycWkhxhlMPHEjevRsCMaqBodKMbvKutLRmiQTzIujcTnZ0CHV14dwRjLMDAhI9PJL27GGbx2aHhqKZ3mgEhvXDVYiZrHn/XmZtjRFvQCpKLy/Efpm1tUhfP9LSUqCjU/vhA85Fwo4dcIWxW7ZIjI1BiEnNzVlomHXq1IRa3RoVFbt5c8G1a6R4gDD4J6O4ugrTkpiYVDx58iM5uVkiSdixQ7lrV9mDBwOlpSn795MwuDsri61tR9vadqamwhRj7O0Td+6UmplRoUf1+nVXejqQWc27d8W3b4N9Gamryzh6lJ75L5u8Z2ZI9oFpWYTJRPr66AD5rf4IV1h869bcyEiip+dASYnY0JAtVI02NOAtZJ08yQlaFGayAwISPDzAlpO3qfvzTyw9TNm3DySNQEenKy2tJyeH2ggT3N3Z7yoOCUFg5kwOGCwrAyLksFMri4tCHg/zpWO3bInZtCnr9GkU6bvS0qBOmvzxg1wBOwSDJWxjHRx+y5rKrK0lRkZsIWm8pWV95F6fF8KrCPl82gMr0tcX6OgUh4T8tkd2vV9CtbgrIyPv4sW8oKAWqRQxO2bTJpyp5fl5gY4OZxDhWFOTUFeXlU2ReWCEAzurvyI8PPPEiYJr10YbGvoKC4lJJbqRQNKwSjVSW8sZG6xe08ay6hmcRHpNMfb2HDYUAh2chX9DAEZMYtXtnFvltMZSMxZqPMTyA1OP1NWhkSPr9GmW1WmVyVjkPlJXR9/I7mflnOp/+pGYmIj09bvS09tiYtgJXEI+vzsjY35sjFggtpbcLBJRaarswQP2exXu7k1CYU5gYKS5OVJPiuh0d7KNG+fHxjgHGBLWjLVRc8Dgg+Xlcsa14cnIrK2JTmEnPUnNzXtzc4l8xo1D/dH499+0zuwnUf/pE3DiL+7Yzg6IMnbLlhRf3/a4OPgydHWD24BeBh01pMigfIIyzhapFJkQbYQtDQ1FuBqpq4t3du5ISEj28YGoTbO2JhJXHr1x40BZGSkzld7eNKRzoKSEBn9GWVnFb98eaWFBjQ15Fy4AsxP7HW1jgwtO8vYW6eu3ymRDVVVs0rM0MwNUIbOxmenrSz98eHF6enVlJfXAgbqPH/MvXx5fNyZQOwwyPDzz2DEk5TUREahiUsfF4tRUTmAg0jJUWNB0J3dwUHp5ZZ8+3Zufr46PV3p5JXh4ZJ0+PTc8jHy3OyMjytJSxOcn7twp1NWN27695M4dfA5OkOrVq+7MTIGOTvKePSI9veKQEICJsvv3sYCZsKaQz8czpNJajL19WVgYsUTZAQHp/v6dycl4U1HW1tpqwuho7bt3RG9gpwKhEKmZGcxJ4eYm5PHaYmJQJsg8fjx1/35w9X35+VIzs0gLC7bJR8Dj4fkQTG+PjQXKgbxIamamcHND+M8JDIx3dk7394c+kWaRxjo41P/1F2cjPZ1BapthX/H86OikWg0mKcXXF43vOYGBlLyypChnrCxkiTT2YbCi4odSibAtd3KqfvOGDjjw60hdHdVK8TBh8715ebEODgp396yTJ7EtAA4HbCoOJoToUjMzFuamHzlS/ugROSJwG+RLm0Wimf7+xakpOMn5sTG88aQ9eyqePIEWB8rwBHd3TodFvLOzdqXH6dOsPobzbEFtZp06FW1nV3rvXlFwMLmR6V/lFJknTky0t8e7uFBFmRUDrRfcFN64wRKW2gwnPHywooIASuH164AUdFU0sgk4D6+m7sMHpDqYd8RWPH+WI9eG7cMA4KxWlpYSd+78t4mwNBpNf3ExSmXrqzKxDg6ZJ05kHD2KICRaNzqDlTYkenoqmRZbVr3FUVoW376NDAlhCdQ34CoIcOwozTh6FKiQCBNWwMkStgm/NlNpGCm/5netdXSGp3t7Yx0coiwt2RkUSHdwxjhjpyhd/m1tmDNzUfO7qaeZx48X3bxZeP16cUgIPqQ7K6vw+nUMtYHuFIhHam7eLBYTLsHJJOaZECuMPjsgAI+RoDeONxzoTF8fy4ApvbyADJL37BlSqZAsjjU1cQxgYXx8aXZ2dnCwSShM3rt3qKJivKUl8+RJuZMTy36ThgVUW8axY3jgk2q1gMcjMddUZ+cPpZKdO1geFpYTGCh3dMRzyDh6FBmGyMBgaW6u4MoVlgGe7umhXouFiQl2uxxQdsKOHRWPH0dZWQEggrVG7b8rIyPn7FkOwlucmupITIy2tV2YmCi9e7dJICgLCxtvaUFdU6inJ+DxyL3Wf/4M9y02NJRZW6NROMPfn9Z0Ft++XfbgAeYwjLe04PGWhIYS5dssFmefOSPU1c04dixm8+bKZ884JgTmQ2JkFG1n1yQQCPn86rdvgVdSDxxQenkV3riBpYoVT55oN2ow1TLCPXMjIxNtbT05OWIjo8rw8Ha5nBI1kDRRlpaZx49T7ounN9bUJOLzMZZBO1chJGRxchJmKWQWHucEBiKoDFVWZp06RVtAtFXAgoKutDTN6irUA5CPRW3YoFldHVapsk6dophHziTa1lbA4yE5Q34MmwGGQODB1VaEh+ecOwcEjJWa2uPv4cEmcIjoo42NCJwc2TANYoQpArRlnTpFWVekhUXizp1xW7fScwMNkH3mDCfgNX3/3pGQQK8Y/b6s/xHq6vZkZ7MdwOmHD1Nw7c7K6issZEcCaIFyQwOKU72/tuiI9PWLQ0ISd+4klBa7eTOkeYmenmxBl41n7NZebJ/8KX9Za0bCvQ9VVmpWVyseP6ZtNJq1ScBKb+/sgAA8uvzLl2EzbBbLdpb+rAN++UL+anV5mZzn6srK+s0NS7OzcLy5QUEkPSFZhsLNDSMNbv6P//GfPgAn7NgxUFJC01zX66FYeAVkRPQdACxExfAOSi8vhYsLO9lcoKPTm5fHroBlh6NC5cEqniA07c3PFxsYgJAEocEZTyrS12dTQC2IXtusCWIwYccOdhsMXmTO2bNwxAkeHtF2dovT0wOlpQQOQH+J9PRKQ0Pr/vyTnXgQ7+IyPzY23d3NgnR8kTo+PicwcKiyEi6j4vFjBDy1QpHg4ZF/6VKkpeV4ayumPOLIQUrD6hTSft3IPaxSaRf4BAcTeFTHxxPNqM3P1pAp+V+1QkH93Oq4OKgbSkNDl2ZmFK6uGf7+cicnmbW1bONGzq66jGPH5oaHOxITtVFnLURJjI2jNmxI8PAQ6ukleHiUP3yocHNTvXqFg423mRcUxFlXAo9GhSuxoeFEezsJzXD7gGsld++m+fnJbGxqIiLS/PymurqGq6upFQR+k92Gq61ySSS5QUH49oYvX2TW1sAcWI9TcufO+hoheQei0fAEBDo6KI4m+/go3NwQOJtFogQPD4Wbm8TYOPXgwZzAQESLZB8f5a5dQEWDFRUSE5Pi27elpqajDQ0J7u4FV68S7oyyskrw8JBZW091dhbeuEFHYG5kJNLcnK2xSYyM6j9/JtFpxePHlc+e1X38KOTzMYoLX81SStEbN47U1EjNzUdqa7uzssjlifT0QHTDBpL37Il3cRmprSUtMR4L6rusVkO2cWPqgQN4DoSikP7CYlkZR7yzc/qRIzH29pknTrRGR5PvRjikn6rnz9E0j3MEGISwgZg01tgILSTC+WB5OQ30r37zZpBpz9V6jHV9ohR+Uvfvlxgbzw4OloWFpezb15WWlnnyJHKsuk+f5sfG2I33E21tYgODxJ07FW5uqC+QT5OameFi2GoUyVF/q4lhhdZ1nz6pXr8maR681nRPD1vTHSwvx6mUGBtTNv8jOVn866gTsAKTHR1IPGgQGxtZCXagEkzhHLCJJPFaerm5WfPrZGm2MIRvidu2DckMGVu0nV1XejocWv3nzz9+HSFCrh6VRDAliCZd6elzw8MoqC3NzAAxIwn5OR9tTWfKOhwozAG46z99ArUOg6HqL9zC53/BLOgUX1+E29LQUBJVsXv6lmZnB8rKCDohQyKhI6qJQj6fwC9bksm/fBl2LDYwWJ8RUmpFIrqp7u6ad+9AacqdnDKOHcs9fx7FV+xGZQMwW5nWaDRdHEAqELA5AXwNWRXpfilCEAk5XF2N2CY2NCxe5/epZN747Vtvbi57ZhBfgT21pG51NUhdAY+3ND1NNXL2xMIucRmLU1NIMuDEq1+/HigpYWe/1UREzA4NIUEX8vmgT8EWsqBHpK8PJVe0nR1xAyn79jV8+TI3PAxgTpU5wihCPp8zKUzDtDcgIUbpt+n795R9+0YbGsofPmQJT2Tq6C+SWVsLeTyqc6cfPly/NmOdrc7O9PeDR0UORK9MpK9fcPUqjlnV8+fljx+D8GiRSCqfPp3p61ucmsI/TN67d6C4eKC0tPH7d3hzuZNT1fPncM0QK/yspGZkiA0MQFeK9PWla3NoYWNL09MaZlqFgMdTenmBwJc7OYkNDUtDQ/MuXswJDBTweMPV1SS3ibSyUsfHt0VHd2dltcvlIKXjtm7NOXtWYmKyurwMOCKiPYlbtgyrVHhitR8+iI2MhHw+wByeEjAiqEKJiQmidcWTJxVPngh4PGIy411c0IBb9uABHp1QV7fuzz+RqRQFByfu3Mn2xWLjE/wdXHnCjh2Vz57Fbd+euHMnWOUUX19EyvHWVlySkMfDKS5/9AiGXXr/PooRZQ8eJOzYAY/ZV1Ag0tMrvXcPc06oHEtwRPNrk2726dORFhbgEsru38+7eJHlzGoiItIOHSKKNScwEGqyVWZ9veRXOR4pj0QGBmyzBqKXWqGAzgBvjSrcDV++cLabsz9iI6Oskyep6SjB3Z1ABvgPxB42MNPISfhGBH7ib0gThzKT6vVrGiy1NDMDubJyrW+Y9p13/FrfrX33jirBHE2iUFeX1caCf5Kamq4nLGf6+2siIiD6Y2vbdKJRIiEpuMTEBAwBwBz5jdmBgR9K5XqhXOrBg2yO1JGYWHDlSu27d6jpQPqatHt3lJUVByg0i0T4cM5iYDaVAj3zb6Cgke5knzkDLIbYQ/Ac5w13G7dtG4IcElZWNYAFAP8UYsn+gMqpZwDwELm1wtWVOE+UJ6lVEcwDGI8Ye3uOxJpDC1PjRM7Zs2JDQ/SfsFu9ysLCqARLnUjxzs4TajW+F2ees5gz9cCBnqwsiBd+lodXV0fr6zmTgMZbW7WjMExNKc9mr3m4pqbo1q347dupZxGpW8mdO0RPqV69gjPCsQF7A9ZF4epa+fQpe9cUNes/fap6/vw/Fu7Hbd3alZFBTwm3ySnzK1xccgIDi0NCaiIicC+VT5/iGiqePKFMovHvv2f6+1kamSp5qQcOzPT1kS6a3YIOsqTs/v2k3buJXMI1zw0Px23dilv7D5aUiQwMWAodJ7/q+fOhqip8EXi80tBQ/KeAx4u0tAQXPdbYmHP2LAm7ytbgBbJeUPScgSpVL16U3b//s2dRIMBXKHftwqVC7tsilSIeFF6/vjw/n+7vr3r1Ci4s49ixdH9/PEnyttO9vakHD2KLYrq/P6JCW0yMWqGA3wFo6MnJwe1whgVqmEYsGFLK/v1KLy/8mc5mkre3kMdDTtmTk0NF95WFBcIZlEW1x8ZSFo4i32BFBVH9yD5p6BJnrniHUhmzaRMBd7pNuaNjlLU1zUClHYI0RQsFqWGVqjcvj95LylrZT+nt3SwSjTU3o7muv7h4bmSkMyUlfvv2+s+fo21tqaefLVLCwyDpJP0dhUB2sj27W5pNJSufPl3fiwHyKfXAAVaIpPl1wO3S7CzBCLmjY+rBg5CD0TGhtuxWmSz7zJmOxEQqeJFWmZThbF0Pr5ujJSYYMaFWs9P1EURzz51jx0Zydj9zhNZsJzG+Zby19Udy8tzQ0D9JSkvu3CHsknv+/P/H3XsFRbl2UcJXczdVU1NzMTVXUzVVczF0A03OIIgBQUEBFSNmVMCcc9ZjxHTMCTsncpNzzjlnJEsQJEno/2J1bx/e5pz6bz/74is/DnS//YS911577b1xNdgxkbieI42NhmQGe/bGOjoAniBkYdcTToFmORTfuQN8D2j4h+SA6YxGe3qyA5Zj1q2refeO6AJWtQuxK9tlEJ0HEEw3KxTzv37BHiGc1YkYeTy6J90ZGYba1LQDB9Rubr05OaBQdAmD+XkAzF/j44p/qBc0zHbApgNvUqzMagdk1tbf0tLg1+dnZ3GTI1euJBuUEBCQfeIEriuxtQhQSA5aev8+ZSZ0nysQDFVXc8wTemHCDXfEx0stLZWOjuVPnvRkZ3NGvFU8fcpmrBch1t7embExEZ/PjrLh/M7kwADx1T1ZWRVPnyqdnIaqq+kC5Jw+zQ5jlllbS8zMlE5Olc+ff0tPR4qB8hG0vzM/flCaEPzkz+5uKoTIPXcu7cABOOaqV6+aZLJmhQIobWFuDn1J1cuXYyXzzp+PcHdHMi/v/HmY9Zi1a6XW1vScv8bHgf1Bl0HwpUMkpqbAyFThI+LzK549w0qK+Hyxiclkf39ffn7Sjh0ya+uc06fHOzvJpxbdvFnz7l2sj09nUlJ3ejqgd975840SyY/W1uwTJzri46Eer/v8OevoUaWTE+CRzMpKbGraHhuLTDDQVYtaLTQyAg8ht7NTODgoHB2Td+4c7+yM9vQUm5iQKRHxeIXXr6fu3z/e1YUvArAi5PEkZmYpe/d+r6hQ2NuL+Py+/Pyf3d1iY2MkYggS6YZJ79gBTUqpXiIHEACoMVBSknfhQvapU2j0yMpiY729K549a4uJSdmzB+HF7MRE7pkzaQcOjNTXt0ZFUQ/t9pgYEZ9P3AAObbSXV/Ht22WPHk0PDwPxtMfGDlVXV/39t8bXV7u4BkZkbEyPh+wmZhvDC9K4Lew1XEXEihXzv34Ry42xdEonJyCYwsXMtqFCE2Cd6ilojJKQxxvv7JweHjbUb3dnZHQmJdHBkNvaqpYty7twoT02VmJmRhYfj1f36RMFwWDFGsXinuxsEZ8/PTLSmZjYGhUFCNVfWGjYHxAtJOV2du0aDVXaFN282RYdXXjtWuG1ax0aDQsLYn18AI84tgVgjtqGo8+P2MQEanaFg4Pa1ZUqDthkc5NUSu6W5QYMG2kp7O05JaOU85KYmyudnGDZwIBWhIURPvv3F+roMoKD0w8dYvV9C/PzRAnoQoJHj2BYWiMj2TIkDCOJ8vCAUYKV+/L//t8fJcIiyohNzi85tpaVKbEhINvtWfcTfZU6+5qbnqZbtDA/LzE31xUzXLnC6f3Ecjsaf//e3NypwUGiu3E4ZDY2XSkpkatWETyMW7+ebQFj+MK5Sdi8mW0rw8G8MLLsN1U6OQGOgGfWNes3Np4ZHUXk0axUAlN3JCSACALuplLgWj2ggbuKXLmSrlN3VhZgIKf8X2xqCtwQ7elJEVuEuzurNRsoLUXf3bxz5xa1a79xI+vYMYIUoDTH2trIHhVcuTI/MzMzNtZfXJx17JjQyCh1/350MCDgtTA3B+ugXr6cA8DzL12CBIONyFnjq9Vqc8+exfcSm5omBASkHzqUdfRoWlAQYWeiB2DjRHy+rrEJj1f611+VL16kBwcnBASkHTggNjGJW78eZDu7WfDQsd7e1a9f63IiPF5rZOQSqreDB5ElAdc3PTIis7YGmv7R0pK4bRuSTKgqkdvaivj8Jrkc9RIiHq/k7l2ZtXW0lxceRmFvL+TxfnZ3w+qJeLxYH5/ad+9Uy5Z9r6wcrqtL2bMH0UyqvmiyWamETS/966+YtWvbYmJivb2h5BLxeCQgj/P1Vbu66uKYY8fwJtFr1uScPo3egcV37iRs2VLz7h1YnK6UFLWbW+z69ZGrViFYpMI2vElbdDSHGkFsMd7ZCSJKpkfDEjMzWLfevLz4jRvHOztZiYbG378zMTFqzZrRxka6GpSIKX/8mHN6W6OiJAIBqK+RhgYQCXTpVC4uQiOjb2lpiN5wpJE1xKhHXWaqq4tNxBJPhqVI2bOn4ulTXEbUdi+yaRYWybt21X36hGCr4unTZoWCnXkQu359RkhIwdWr8HYUU8asXcs5yRR7IMJemJuLXrOm6MaN4tu3qU0bfAaLcQcrKthkGWlZyh49IrI6ftOm8idPWDJJN9jK3BwWFUe0b3FrC3q1qFQZhw8DrRpmqdm7ySaAY729Rf9cbIIQqP7Ll8HycmKbuzMz8y9cqA8Pj2JylPTAIFPZSY4ARsAcHQbjv1jZDae7H6slLL5zZ6ShgdO1UMjjZR079odEwORi4zZskDFVrTXv3kG4H+fr2ySXSy0sOEl+YjVZPhMel6U+iItIDgwsf/IkYvny7JMncdyHqqs56j6FvT1+knvuHG5+wdWrqfv3A1fiI2CpK54+JS5IV36qb4xsKKPHKef4j4zDh/MvXWJ/qLN0Xl5lDx6QQoquEzx66f37MWvXks4Q3GDpgweTAwOcLlSUqcLDQ/nJDmkYrqubGR0F5UhkGiAhB+az6TRdjaCJCaQiUWvWdGdkSC0tyUJBBQprPjc9Pf/rFwyf3NY26/jxnNOnhUZGdE/AARRcuYKab7Wrq8rF5Vta2mBFRdXff2M8O11UaEFFfH57XFyst/dIfT0eO0Ffdpm0ffuP1lbW1nckJOjY+HXr2mNjxQIBNW1Qu7klBATkX7qUf+kStoztCZB17JiIz0cRrcjYmE2cC42MRHy+wsGBWDuqKVwyDyIxN8c8qK7k5OpXrwAZO5OTMW0elIPUwqK/oEDp7Fx6/77S2TnO1xd+veDaNSwpHlvE49GBiV6zBukMzNSK8vBojYyUmJtLLS0xdA+1PVILizS90cFHd2dlCY2M0oKCmpVKCggQeWN2gszKCr1l0g8f/tHWFuvt3Z2RkaanoIgPTz98GK4dZwZKQI2/P2xuT1ZWyd27PTk5Y+3t7PzzoepqzcaNuPVg3SkXA7YTi0lz0RM2b1a5uORduMDmZcA0fq+shDok88gRgFqwzWpXV4A2lk6c6Olhh1z97O6GY1YtW/YtPX3JUgJ8EbmtbeTKlbrKiKNH8UWSd+1CGptivkUqjSNH4ESBgLOPHwf3xvonmbV16YMHC3NzE319maGhU0NDxbdvy21tlU5OYCk0fn6sYwAJDOuE71V08+ZIYyMuBYDv96oquFVU8WWfPDnW0UFOl6I9HAOq5dPqq3jhciCja1YocI9S9++vCAuT2dggyK798IGeCu9Dra8IlbJydOqnRq3Kaj98aBCJFubn0XQaDAqWF0eLOmexdILY1NRwPBRuQeaRIxRj1H3+LDQyStq505B2pkggedcutud/zdu3RICrli0jChD6FZyWrpQUWCqKWLRa7dP/+3//4x1wT07OkjYrLSioLz8/LShooKSEHQLfGhEhs7HR+PnB3COjzo681Wq1M2Nj4HDa4+JooYkvZZttJe3ciYIwzi2i/WB7p8WsW6dwcOjQaCqePWPrx0HKsVVJ4K7JR4KbktvZKZ2cEE22RkbmXbgw0ddXxyiD6NTiYuMZRDweK8Elag4eTmxqOtbe/qOtTcMkk8hZshQxRBMVz56RcwJYpqJ1gsOgu9MOHJDb2lJBhczGBguFSyuztoYjZ3XaCgcH4p/LHz0C6dSiUk309YHKG2tvxx2GmKL8yZPhurrIFStQksiRQrCv2cnJBpFI5eLCNqL60dYGe5194kSzUll8+zZhqd6cHLRliFy1qvr1a5wBxDGwYgMlJfgiQE5KJydIxxMCAhK3b5eYmwNL0Y4U37qlcnUFq4bdYZmrnFOnOpOSSu7dAwAipQ/MNy14nK8vlXnAnUvNzaGpgUWTWVmJjI21CwtAWkIeD8f7Z3c3jH6zUkkVPhKBYLK/vzMpCYKJaE9PrG32yZMiPh+Nc8nDwU9P9PWlBQWl7t+vsLfPPXeu8tkzgozq5cvhehHVVf39d1pQUNyGDRHLl7OmaqyjIzM0tOTePamFhYjHK75zB44QCEkiEMBzQNdN1ELOmTMIK6kGb25mJnnXrvTDh5eMPNhRzVSUjAzUzOgoISH22ZC1ZbuBKh0dOxISql+/Lr1/v+rlS0NMDOFbMZN6LLp5kxha6MjAlyILELF4/G3dp08kLJdaWHRnZEx9/1728CHnG5U9ekSoruzhQ7mtbd6FCzHr1kErmn/xosrZGQYw1sfnW1qa2tWV1f5UPH3aHhOTe/YssSmaxU1qcWsMhRdxGzZ0p6e3x8ayzoyUkim7d+edPw/5S0JAQP2XL2S+6INw2jmVWrSM6YcPc5K49Mo+cSJx2zbaQUCQtujohICAvvz8iqdPcSZL//qrKzlZIhAM19XlX7zIdn7GXqCpHN6nWaHgdAxEbrH6zZv+oiKOYwaeI42CkMejLvG4oVnHjrET2X9LhfRbTN37f0fYeq9BJk6r1Tr+t//2H++AB8vKWGk7vSJXrOB0bGHxb+Xz55QgFPH5WBSRgdCONgagZqK3V0HaloAAACAASURBVCIQsDmGZoVC6egY5+tLwigYRNxksUBQ9fffImNjoGNg6n/qnFVw+XL28eO6USd6nJu6d2/RzZtDNTWEIZDDQIMOjZ8fXTaxqSnF9xp//9HGRomZGdVjQF0iMTePXLnydwDEUEb/NPsaQTxuODwQEIDC0ZEtRCm+fZudASyzsmI1bmUPH+qqNTAiRm9Yf/38iXNJ5Yy6Npbh4XBUUktLoZFRu0aDeJpm19ADw0XFeHtjbAu2LC0oiOLvsfZ2iZkZp8fZ5MAAflnt5sZRdlS+eIEvy5meDUWx2tVVbGKCxYfFSdy+HcuSuHUrpzfZ5OCgxMwsISBAtWyZzMpKorf1g+Xlpffvo1pxuK4u1scHSWuFvb3KxWVhYQEOuObt25Tdu7OOHwf3qFq2TO3mBrYG7Dd66WEBk7Zvr3nzJn7TJhBiMn3hh9TS8tfYWIS7e9L27S1Mtl7t5ia3s8OERCrUEfJ4idu2VTx7VvboUU929khDg8bfH4x6T06O0Miov7CwNTJyoKSEuqDIbGxS9+0rf/Kk+tWrmvfvhUZGxbduiYyNp0dGRhsb68PDE7ZsUbm4SC0s6Lp901dipOzeXfbgQdTq1cTOJQcGfq+ogPZCyOPBztKYyMrnzxfm5pakVUHkik1NATiwNUiu4xzGbdgAA03dzus+f/6Wmlr5/HnOmTMpu3Yhq8phmBolkpzF+jsCTAiPKCjHlwJhoHRymhocxOdWv3lT+eIFq+uhMwzAyspQAA0rnz+n/h5k99niGepVQFAStLnMxgbvRlIyZNYNx5kgg0P4niYfs/LjnDNnwGGwxWOsCLzgypXIVatyz57FNzJshRTDmBdD1RhYdISw2Oj6L1+aFYpvaWnEaAKL5J49C/sJxE8a0kaJBGgS6TDEG9h6/CGLKlROTkMGue1muVzE53OU9s1KJdvYeaShgSNqYS3G94qKf5GgG8rcvldWNgiFVKX9P/7Lf/mPd8DwvgSXMg4f7s7KYonoGEZP1JmYiEOGH3LSLfQmiGxYKBrr44NFjPX2Higuzjh8WM2UnON8LNnRG2+bc+oUPpedoMDuOjwKO/c3YcsWzowBHIv8f6gsYnf6t4jDyIgyKMTZ5l+8iH/D7A6UlKAKEygk1sdH4eBAt05sYkIQmAPhB8vLs44erfv0CdrUZqUSvBkcEuue2Woo/A6BlUaxGNwaEGWjREK965IDA8EF0VvVffoE0FB47VrZgwcl9+/PTk6C0lE6Ok4ODMAWQN9kCCnSgoJgdJrkcnjoaC+vxG3bUvftw+RRLEjyrl2o98g6dowlBhCEsfKC3rw8pbOzbiC8u3vt+/dYt18/f0oEApLeRCxf3h4Xl3fhwo+WFoIpCVu2oGhVh8cXFkDOIzFZdOOG0tGxv7i45v37+dnZJqlUamk50thYcPUq4qGF+XmRsbHCzk5hZzc3PS0yNpbb2uaeOVN448ZIQ4PCwaHh61dagVgfn5h168BAKB0dEbWL+HxqNA2bEuPlBR4P51AiEKTs3i00MhIbGwPO9xcVKeztI1euVDo755w+PdrUpLC3r/3wASdnoqcn99y5vPPnC69doylDlMqh7sdCHi/Wx6fh61eEpGpXV/BM7UypPS7U7MRER0LC7ORkW3T0UE1N/MaNMmtrcj/SxVPWDVOGtZ8+afz9GyWSnuzs7xUVdGGJycSf47hKzM3npqfTDx8GbSg0Miq6cUNibt6ZlJR3/vzkwEB7bCwIZ1xAmP6FuTkayd5fVCS1sFAtW0akDvWx0vkAV9fB8nKW8iGBm9LRsfjOHbBupJuD5Ie9MmziDH4IEkjE2XHr1yOlVXj9OmVzZFZWKmdnBJHx/v5arbY8LIyqazg3GiHpkgOSs0+eRKez9IMHQSEgjcoW8rao1Sl79iBNOzs5yWroahc3jMT5Bz4o/euvGoP/qtVqG75+jVi+vGpxK9+qv/8uffCArXpAjjlp587U/fvjGQUPFUokbt06WF5u+KXqv3wBLtcN4lycMqt88YKyQq0REcBb7bGxCgcHlhIouHKl5O5drDZ0l6xugxJM452dbPszogH+qE5Y1D0VRzzv/Pn0oCDtUgM0cHZhpjkNSCmyZCNgis905Amjpia/Pj00RMe64OrVbCZVU/X335RCoyI85EF/q5EZXF/5/DlrI1QuLrnnzg1VV6O3MGJQOO/aDx/AoSEYQvk8TgC0Razuo7+oCAFx1atXNW/fsn10Y318EgICYB9bIyPFJiYDpaWcSTKjTU3AK2hJQV39wACz2amhqipIjoHxlU5OHDGR3NZWZGys8feXCASGTWRAtndnZoKQwMVgZSBweBShxvr4AIQWXL3aGhFRERbGadmqwx9377JoLF6vDYFiq+DqVShZat68QVgzWFEhs7SkBEH5UmkOjb9/zunTxbduKZ2dmxUKjm2NWbtWYmZWcOUK4qqiGzcqnj0jtQsWMO/8eZ0s7vZtLTPWVGppmbp///TICAUWyYGBuo5U169HeXiU3r8/OTAwPzOD9ZmdmKDhTnG+vuVhYWpX156srGgvL/xCk0xWcu9e6t69RTduRK1enbpvn8zKCqFG7YcPKXv3NisUaOKodHZWOTtnHjmSd+FCk0wW6+0Ngd631NT8y5epdJUz5XSwvHyopgadLIeqq+V2dro20RYWuiGbO3fOjI1R6IxFJm9KNXtFN24onZx6c3OpZYHU0rInKwtBcKNYjDC3USzWdXCcnS26cSNl927W20309RF6zr94UW5nJ+Lz8/WFp51JST3Z2TCpBZcvR7i740bAsAqNjOJ8faeGhiAXB4ip/fAhes2a6ZERAKw4X1/KPhJegShscmAA2gvwZCzfKDQywpo3isWIjwlwlz95Quhf4+fH0fFWvXwJz1py9+700BBY0LH2drGpKeGP+E2bYAD7CwuzmMp7NjPdJJVS18nZyUlyObinRbdu6ZRTetKY01G59OHDZqWy8Pp1NuYr/esv/BXHlxsqWCUCAfUMKLpxA8cDBDi4yf7iYjZmJa0J0GHK7t0Ke3uJmZnhrJpf4+NjHR1ICaUfPiy1tCy8fv17VVUMI/Mca2/n9MbvLypiZRnYi/lfvyh6mZ+ZEQsESienRokEBGTp/fssaEaCgGU043x9C69fxwPnnj1LRSukfmVdldDI6E9wwJzWjDR9naLb9EOHyh4+FPH5iVu39ubmIpdJnXeiPDzgloQ8Hr0VdG6GA+oJ1+NgYSIN+wtKZ2fsLumeMkND2WYXcHKwtr15ea1RUcT/UIU+rHBfQUHRrVuGKvm6T584DfPSDx1ie0TQYCWtVtsWE6N0cpLrHQP54/7CwmaFQkdrM50BWA4ZR4SUCLBfzSoVK0+DeYrftCkjOBgeJSMkZHJwUKbnDyjgw4LANOBix/n6sjccae+u1FTd2O3t27Vabc7p0yONjZRK6C8qGu/qEpuaql1dq168AMkPE5O9OAMEQIB0F2Lr0vv3ZycmWGKZ2HtQ4vjfqcFBEA/JO3ey3B0CIwCyyJUrq169Ujo5ISKJ9vREjDI1NNSbl5d55Ej2iRP5Fy/m6RNmGSEhCgeHtAMH1K6uQh4vavVqjZ9f1rFjCju7RrFYYmamdnMT8niU78g+eVJiZpa8axfVuf1oa+vLz49Ztw5GJO3AgY74eEQkEoGg6ObN7BMnyh8/pkpK2OWIFSuQMwZtoFq2LHHr1vLHj1UuLplHjwKSoy15/sWLJXfvJu/ahTl9MisrqaWlrqGSo6NWP/1mcnBQ4eAw2twsNjGBABgGPTM0FIap7MEDoA141vLHj2Hl+4uK8i9exNdRODhknziRERIy2tws4vFkVlbxmzbhtsKyL8zPy6ytUTdV/uRJ9vHjkMghIqFbSRcH7HHx7dtyvb6B0GGjWFx8546IzweA68nKklpZKeztU/ftQ0hU/fr11NBQ8q5ds5OTOOo459hQsq3Fd+/mnT+PaI/KYOgf5WFhtR8/xq5fjxCWpSiJvVQtW/YtLQ0GBNhXbmdX8eyZyNg47/x5glnUk4te+czogtbIyBa1WmRsjGhebGoa4e4O4g1Y6ntVFYAIwITKxSVx69burKxf4+NJO3YQDi66ebNRLI7bsCHC3R3kNv5Tor5dpXr58malsvr168mBgTmmSTW1NSaVK5v+hD9rjYpCbjtm7drBsjJdX7O1aym2BiGvcnGJXLVKbmvLNqCGSyZuXGxiAj6DFR6zI5x/Q2E/P9oRtpNS6r59nOR9zdu3CgeH1AMHvldWJu3cSZuVtH271Nyck5DCiQUeKrp1iy0rYiOHiBUrkH3/LRxjsqJqNzc8M5XIDpaVpezerbCz+xMcMCUVOOMHZicnJQZlPJQdYR1bX0HBP7HHaldXuZ2d4ZyQ6jdvWCF7k0ymG4H35QtEB+2LG55RJgabJOLzU/ftw590Z2bWffqECw9w1xIRgZiDao4jV62CbYKNBoEMR9tfVBTh7k5lvjgx9DVVi7XvrMh5ScFz4bVrWceO4cGa5XIk52TW1tTRhsPVAE8g8kNiI8bbW2ZjI7W0nBoaomazRNq0RkaiJABfUMjj6T5LJmNHrP9OBn/5knP69EBZGWfOFxlrwpXRa9ZQ5gwkGJ4TkVNCQEDqvn09OTkU90stLUfq69mSx4jly+vDw6m7CJWWMbKNhfyLFzuTkuikyaytsYwSc/ORxsaKZ8/QZKP88ePyJ0/qPn2iHB5sN+JdQDQ09/nZ0zPW1gY+Q2ZlFblypdzWltNiE3/YnZk51tFBSUrccGxQV3IySQRYu6BatizG23t6ZGRyYCBq9WokQUFvUoaME9lnHj0qMjZWu7nhGZrkckxXTNy6NSEgYKC0tOb9e12nvRUrIleuhKOFfdT5FT2/TaSc0MgIlrrh61f8nO0zXHjtGjW+zwgJmdIX2NR/+YJfxmkve/jwW2oqRcxNUinB5e9VVeTAAIiBlgg7cqbCjXd1SczN8QByW1twYPVfvjRJpTM/fjQIhRErVtDjDZSWRnt6tqjVcFTQdoBUyz550lB9AnME7CUxM2PLiwfLyjR+fnWfPsX5+tL7wz2kBQVxAgk8c/bJk6wRw9eUmJkR7md77jYIhawNpOwJyr1Yxot94SsAGeddvIjrSdkx9C3Q+PsvOX2cTY2REBU3N+3gwenh4fRDh1iQzdZVYqNzTp2CpyeqVqufqjLa1MShJ8n+NOtHdmr1dQ10/g2/ptzWtj48nJWkUO6cLjsBKVYnpSsI1DeHMHyh+S414cKvkaCByA/SvcZt2BC/eTPb+fxPcMBFt26RChowsL+oqDMxUeXigtCWjCB7UpE4lC01iY8ruNCrMDJDQ3EBAPQMc7FEHIEKRnKUUDnbqGXJ5OgiUz8/DyjNNsT4NTbGfk3OC5Ai//Lljvh4tasrsehtTF6ZYErRrVuEE8G6d2dkwNKNd3aKeDzW47JEFhmUib4+nKQ4vYAcYQq9LfA+28s6YfPmDo2Gkjp5584V374tNjXNCA5O3bePGgXgayodHZVOTghY52dnyW0A7bJ72pGQQPYiIzi4+s2byBUrSu/fVzg4ZBw+DI4LpqHy+fOO+HgwZonbttWHh0vMzbGnSA1UvXzJoT0k5uZk9IGvlU5OupHyra3YdPwteAtsNzx3fXh4cmAgsD/WKuPwYaiEYALYZBILHBHApe7dW/H0aR7TqxbkmNzWtis1FU00VS4uP1pbdbzohg0VYWEsqxbt6Zl+6FBGcHCLWp1z6lTuuXMAZFV//400CnmmPj31DTcQsXw5vgI2F3+1MD+fe+bMz54ehYMDcABORUVYWLSnJ9voqvL5c1a3EqknJ8Wmpk1SKdtVLePw4SaptPLly9K//hppaEBGRsjjCY2MEAYBrIhNTHBTErdtw8FGtjJ13z4wJbCVFL7IrK1JOYyrxCoSlE5OnB6BtR8/ErH5o60tYcuWyufPUWc49f27zNqazhvOYe7ZsxBdZoaGUgHFz66uyf5+sYkJwkShkVGstzdcTmZoKJueQLKGEKfM2rr248fWyMio1avZlGrKnj0Y9iyztkY6RmJu3l9YCFYJnAT8Te6ZM2iXxtJXrF6BJX4qX7zgBJ2GVSSkGkOfr+g1a8oePmQHLWj141BZvRIuICIT8GSUeU3dt4/SwBClA4KQK03duzf33DnqH4I3l1pZifh81bJlaQcOIKrOCA5WoH3m4hZgdPw4uhlDVoxdea1WG7NuHU4a67nJd2aEhJDwGzIO7eJGvDiNhnNs2Vfi1q1ksVF096O1FYbxT3DASMg3fP3K5htaVCpKYRpWp0BNIzE3R6ZWammJC5l98iRHY9kaGZl+6BCRXYhiqVYh3t9fxOPVvn//o7mZLfYfbWz8p25QbL5Bh/T1jgegTzfJ1dlZy9T7w4LrpH3m5vAELNWMCL4rOZm8heGLU6fYJJOV/vVX0s6dREGn7tuH45sZGsppqsxpn8m5chyEDosp4vOJvEI+LzkwECuJjDWd7PSDB0caGrpSUuityh4+nJuernr5cnJgQGxqim+H7GlvXh6WGhASDg9OHTyP0MiI6I3pkZGM4GC5rW3t+/d0waaHhtrj4nrz8sY6OiD/aRAKp0dGErdu7dBoYOiJQsApoliq8Pr1hICAhq9fU3bvTggI6MnORpdQtasrkhqzExMw1r05OZUvXshtbQk65Jw8WXTrFtHpVS9fyqysNH5+CkfHmHXr4ER/NzDi8ZTOzlnHjiHnSmEESBERn9+VkhLh7i42NQW3r/H3JycRsXx5b26uzMqqPTZWZmODU0S3I8rDI3L1alwBpNli1q0re/SITL9YIJDb2la9ehXt6Snk8WSWljJr66qXL9MPHpQIBBSUQPNFaTYy2XhUhYODxMwsZt26ib6+wuvXATgkAkF9eDg1OZeYmQl5PLGxceSqVaxxnxkb+5aWJjEzE/F4Sien7owM8hCx69eTdkxhb0/qJKXe0Ne8fYsbBMqk7uPHlN27JebmGSEhOF14vKnBQbZqJS0oiLKPJXfvQoFRHx6ORO9EXx8cyVhHB0EWljMTm5qy+s1mhaLm3bvkwEDcJkBexIWEwhO3bZvo6wN9ovH3r/v0yXBweNHNm9S+jaU38y9eTNmz55/6DLeo1ZwBtNT3FKSR3NZWbGICr6NwdBwsK1M4OAAoSAQCfEEceMNeCN0ZGXA/lAJvUanifH1pMYeqqtg8LjqTRLi7k3ksuXePRDlsFQbL/VJHAS3Tx4p9IXxii0sNsxKUvmHfGWG3xt8fQJMjg+WMY2G7kYBbapRK8UjJgYEABOWPH1O+Q8vMaO8vLo7fvJlsO3X5/paWRnuac+rUv5jr/zwRFiys2MSkRaVib9dwbS32YBEBou9WyBkMiYNO9yTv4sWoVasili9Hjqo7MzNy5UrW82mZdmsiExN2DAsphtgEhsbPL/PoUdAmbTExrVFRP1paim/fnh4ejvXxaVGpErdvZ9E68DtwKMtMYucMQ2Gg4CaZjHLhGIZIycWCy5f/HSTCjSVs2SIWCGrevYNYDC5TZmUFS6qwt4/fvJmmxLASDCy1wsGBOgoNlJSwwxY5fZVJ0AFZac3btzDxiEiAdaI8PCpfvKh++5ZdmfyLF/+lAAAGEVibJcO1+rKK0cbGskePDMFZ5cuXaEGgdHRsFItBwQErkL0YLC+nm9OZmFj78WOLSkU4RiIQYJVkVlaIPJDGK7l7l1V0Ix+Pr6l2dW1WKkvu3Ruur6dHqv/6VctMnB1tbsbDkKVWOTsrHB1FJiYJmzcDKNR+/EgMmMrZOe3AAamFRfXr14gPVMuWLczN1X36FLV6dd758zJraxT+ik1NI1auVLu54Uv1ZGeLeDywgknbtxdeu0ZUfMTy5dQSCxqonqys5MBAhb397MQETWltViiEPB7M91BNza/xcVhDsUCQc+rUwvx89Zs3lK4GhIr19gbJKbOxAW5DjNsWHY0VQCJfbmeXsncvQcm6z59hQ3HCybT9RhI2NrHe3oQmJWZmmo0bpebmYFlyz54dKC7mlKBw8WVICDV2np2YKLp1a0mj2axQoKEHO0dvcnAQZGyEu3v+pUtwhMR/sqSO1MIidd8+jZ9f6r59bE9HXQb69u3OxER2WonC0RFSCfQ2aY2M5DxV9smTWceO4avhvnPqVqM9Pce/fZsZHaU8d7RB1VDl8+dg9VhzOjc9zXabAcWIyrolS2MXqaX0HB7dfbFAQFEyuU/DRDhIJvgz1ggseevBrnEOA+vLyRFAYKXV9/OvfPFCYW8Pm5N37pzG35+UAUA25PI5BOFvX6A39YhYIlevpqozjq0GTPxDVNA5p0+zwj823w5FIpsEgp4QuUOxqWnd589k49IPHoQgsCM+volJMzQrlbQNmGOKi5SwZUtCQEDRjRucwYIsVQuYAxJvuLa2dinBPTI6FHUBpFOUTMrYaC8vUuhhO8seP9b+Qxc0lvpjU4PsOYAJoOPYFhWVvGsX/QJHuJ+yZw/rrthpu6T+FwsEqfv3I9iiomo4jN/JWi+v+i9f1K6uyJ305uYSOjZE3GwIzinqIMkSSF2W25ifncVVIW0aPS0rLy+4fDnv3DmJuXlPVpba1ZUkKojqOhMTpTSLUCBI2rkzZffu1P372VhNN33IwaE+PHywvFxuZwd9KQHwuo8flc7ORTdvdiYmElcvNTcHB5i0fbvSyYkVe8P/YbyuyNiYmvvkXbgAYATuF+et+vVrhYMDhdRljx7FeHsDmLPTwEru3RssL5+fne1ISCh78EBuZ4dcFLJi+RcvtkZGzoyO9uXnw7R9S09P2Lw598wZlbNz/KZNpffvV716lX7wYN758whuim7epMC3/utXnN7Kly/hA5DxGtHPscCaZwQHA5B1paa2qNWTAwP1X76ITU1BxMEZTw0NTfb3Sy0s6AQO19Z2JiSApRQZG3+vrMT3KrpxQ+Pnl7R9Ozxr1tGjyYGB1AkHdSm4aH0FBWkHDiCPQ1uv0APZyFWrMkND0TwOPEG0p2ejWIwv8psS0BvulsVtz7E1+Zcu/ezpoWwi1e+BSyu6dQs+TGFvj60R8fkwJil79iA9AZdc9uiR0MgIwV8io3VK2bt3vKuLWrlRSkvt5kYPBhhnOC8o7/x58kl4nuJbt9IPHcLdYecyQbMy0tDAqWWH14f/axCJdPIFG5sUPQ7TarWYzdWVnMzp/Jx++DA7RVHl4jI7OYn1yTp+HGcb2r2x9nbkU9gYt/7LF6qjA4IkZgsPCViAJ8RSxG/aJDE3B8PcolLhqsJqlT95YthsZHZyEgE9QYe5qSmurtbJSWvQvEG9fDlMDYvbItzdOVMuiLhass5Kq9UG/M//+edEwFqmSzBCrvLHj9nKsIGSksStW6Eb+hdOlaDWv/8Oi7CggI9Yvpx1EiQ9xc1P3LaNsG36wYNsCuefGF1YBNhcOgFT37/jiABbzfz4geQ/pM7ID5FzIu4OzeQoKmWdFvuheQzKpo9AJSh9X1zp0r/+Yiccg3Jvi46GWy1//Lj69WtWfygyNmYrgGGjQaPlnD5NRXJIwRZcviw2Man9+DGVuecYdEqNi4moZ62P2s1NZmVF2KUnO/tHS8vM6Gj6wYNJO3ZkhoZSpM72HaNhKUAJSGpQnqzo1i2dxrK0FITHeGfnzNiYnOkpRn87Mzam1WozQkNrP36cm5rC9YaFrfv0ic2II3yBdVC5uqIJV4S7O45ERnBw4fXroLUX5ubAhlW/eoVPaY2MBB2CjDsIm/hNm9gsg9rNDQGuodpOZGycERzcrFDErV+fc/IkAErRzZulDx6k7N2bFhTUGhXV8PVrRnDw/OxsrI8PRdUld++iGDf75MnE7duFRkYVT5/G+foW3byZHBiIXtx0wpEtSwgIiFm7Vq4f8kgKJtBIMWvXymxscs+dk1lbF1y5gg+K9vKCaIuOXNL27TXv31e/eQO3ymnGy0myIAYlOVJ/UVFGSAikTDJr6wh3d3AwdR8/xqxdO9bWJjYxAW1DNG/q/v04xim7d7eoVFTfKDYxASPF9pwRGRtjhUfq62m8I/pyyBafkK7k5OI7d1L27o3fuJFgEwJ9ViKk1Wqnh4fhccEwxW/aNDkwwM4DZveU08UJVouTQoKHKLl3T7VsWeSqVUIjI8yKwH8iI4mBHPCjqfv349SxDmmso4PKw/oKCw0pKDxkRVgYvGlHfDw196BYUCIQAHLFb9rExgNdycmoiGN1LfUMIMBl6UxMZOeLY2eJV5NaWnZnZk4PD493dYF5Stm9u+TuXWxNtJcXJ5Ot+2j9xrEvti2J4bLnnT/Pyq0XCUcYT692c6PgrejmTUrGgwz/o+qAqTobJmy0ubmL4fSTAwNxsMY7O8kRst5uYX6eMwJIu1hZnbR9O511au7PSVGI+Hy2lzdMTNmjRwCYcltbYm/6CwvlS01GAnTgjJ5lqSdkCjlNviqePo1atYodmVJ47RrVXOruRmAge1LRiUbp5NQRH/8tLQ0tYemEUYaJ0hhgXeDRWUVJ2WLQR6ez5N69id5eeCCa5ka991htJ64ERG2x3t5AixT3k7RNbGIy3tWF4ICWjp6EEl3NcjkuAET/wFsQX6Tu3QtM0F9YSGVLeDZWq/mzu7tRIon28gK/9+vnz7qPH4U8ntTSsujWLamFRf2XL/D61W/eUJ6+7vNnErKCqBjv6opZt46j30bKg36zKzlZ6eRE0l9qHoTsLE4XeXqppeVkfz/rfhQODi0qFUZZqJydozw8sk+cgDtZmJ+HdSu4ciVp+3aRsfHc9LTM2lrt6orTVXjtWt2nTzCUajc3jHb/0dpK0mWsSc2bN0i+RHt6Rnt6ym1tNf7+rA4FDAdG68xNTdW8f9+iVI53ds5OTLCAoPrNm/InTxK2bIEpBKZpi4mpeftWl27YuLHq778L9AMQM0JCpgYHcWcX5uelFhZIKGBzM0JC8i5cgJBH6ehIkpzkwEC5jU3kypV5589HeRK4cgAAIABJREFUe3ktzM+D32qPjZVZW1NQ+2t8nEpoFPb2QiMjBDSosWajZNAzk/39tGVYlt7cXCydatmygqtXS+7dG21qgqI4as0aAMqc06fxE7Wra7SXF2cAAELSaE/PDn30SUGe2MSk6u+/YSuQXMfFhOMZrq+njH5HQgL1e5mfmZn58SNm7dqJvr72uLiimzcLr11Dl1ZO9Fz28CFLFycHBrZGRgKS9mRl9TMjhuBQOWrk4tu3f7fzZIYkSi0t2dJbrX50MYee1ZnTxaUlEnPzui9fpoaGyKvRL6DqktWTa7XaymfPwK6T2rT8yZPUffsiV62qCAszLEJpEIkID9W+f8+2pkekRPiGJVMR0XI2ruDy5bR/gICgsjjJYzqcSAvG+foSpvmjHDBBG2RMl3zhzpAfxV1ivSwN11M6ORmOaCafKjYx6VqcsScTGevj06HRwIotKaNP0k8aUDo5VTx7FuHuTvSszMpKZmUVuWpV9smTtIsJAQFjDBYb7+wsuXuXnbjZnZ4OAc5Ef79h2zmoFVrUarE+CPheUZGye7eYKQz/NT6eduAAzCVdgO6MjJH6etSGGiK75N27CTjTaSbcDWul8ffHT4Q8HquShYcoe/QIX5yTHck6fpxiDjZO1Wq1mUeOCI2MELTRCmQEB1e+eCE2NR2sqGiNiIhctUoiEEStXo28A4Qz9eHhmaGh9eHhmSEh1IFWZmOD58RIg8GKisKrVylHMNrUxAL8+vBwjb8/SPvenBxc12gvL9DmBFw4hZK/c//+/pDOiU1MUvfvV7m4SMzNK8LCYKnZjmxyO7vOpCQ4Hphgua1ti1qdsmsXYZ38S5fSDx7MPnECjSm0zHRb2Gh4poIrVwquXh1tahKbmv789q0rOVlsYlL38WNaUFDKnj1I2daHh+PMo0eErrW1szOWJXX/frWra+HNmxKBYKimJtrLC2PvMA8Dm4XiDQQuZQ8fKp2cWAMktbD4lpYG49ukUCBkxCwKnVxAD6HExsZ0EQouX5aYm4/U11e/ekWIlm1lgD8sf/q0SSqt//JF6eQ02tRU8fSp2NQUvVZqF/dmL7x2DUsk4vOxWZV6vduizBSfPz0yAjyUtn8/yMy26GiaIsoGZBIzM5Wzc7NCgaprymrD6XKUxqTbwDHozsgwZL9yTp9m6+JwNrAjsDbkQtgGlqTwIl0LEl6qZctEfH59eLjc1jZyxYr5mRlWKcbpXd8kk4lNTUm4NDs5KdZnRppkMigG0g8d6snOxt0UGRvjF4BjOGRh1OrVoAoUDg7clq5GRhXPnnFqeUV8fvzmzZyOSQp7+8Jr10TGxpj4ST3gAB9zz50DZhIbQHmxQNAgFKpdXTsTE1m3Hevjw7boYZuFwRdwMomtEREskdCrbxQ/0dcH6SU1xmHbsQ2UlqYfOhS1evXPnh4Kzxbm59tiYliJO7byT3DAA6WlrYsrbeBROGa9USwmk43QkNhIMBtsu6vU/fvzL18mUQDbDZVi08nBQWgKWCE+uSiCeyxPS4BOxOdXPH2KK6p2dW1Rqb6lpeHasHX3QN+l9+8nbttmWLJC9Q+GbAmJaTV+fjN64cOSlXyJW7eKTUwS9bU6JAyJWDy6h4I8+uHM6CiCv968PHwELe/C/HzagQNUYICYmzwEGzwNFBezQRJlUBQODpRvBjv3vaoK6TFY4fRDhxICAtj210j5D5aVkQQ0IziYM1yS7SJJ2hlO6T25jd8XLy+PCDTivrJPnsw+ebLi2bOulBSFgwOQfl9+PmsZM4KDc8+eRXoCdxugPjkwcHZiYrK/P9bHZ2Z0lKwezCibhJv6/r3k3r3ujAzkj2U2Ni0qVWZoKIf6I8Na/eYNkF/B5cvIKWo2biRpes3bt9hfbGhXSspEX1/OmTMiY2MAuBa1GlBGyOMN19UJjYzyL12CX5mbmmJjuGalcmZsLPPIkeHaWpmNTUZISM27d0Az6YcO9eXlVb9+HbdhQ29OTuG1a1nHj4t4PCqmrA8Px0aLBQKlszMiGByPyNWrQTs3SiTwedknTgA0/2hryz13LmXPHlxGgGMijXHgWWsrFgiapFKViwsbaRHjBXxDVbzljx9LrazUbm5Zx47F+vhA10p/yL4t7W/6oUMqFxdMp6ZUCyF7OKeCq1dVLi5Uiw9kIDI2nhocxEfHeHuXP36MpyL9V+n9+wlbtiQHBhLspv0l94yNgAVgA1Z4R6xG5fPnhq2EiNnCX8Vv3EhHOnLlSppu1Jefz3rrzCNHCq5cgaFD5QgRP0pnZ9b7GhZ2yqyt8RG5584hPq4IC1M6OlJLOPYVsXw5JwVLSaiat2+pLwLZFvo6EjMzmIL2uDhOJYvK2bn0wYP0w4cRA0jMzTmlU2RsKQhGhg5xBVXea/z96ari/OAXJObmM6OjHRpNyu7dSxYWsnUurPLuz4mAWfX5IiVUTAzsO4Ke2clJTu4TMRZpxKFuRxCDEwZDzJmz26HRwGCxoTb+FkKeuampypcvgTEbxWJc4LGODsLI9EI1YdaxY5zeC7i02SdOwCiDxCD+Fueg6tUr6otW9+kTCloA0GbGxtghiUIjI4iS8Hix3t7Ev421teWcPo0VkJibkxWI9fHR+PmJ+Pzcs2eRiQQ51pmUlLxrV+q+fVILC5ZczTp6lK3NBUVG3QozgoNpVlLN27cFV6+2RUXhZJOZywwNpbvXk5OD+1/16lXt+/c1796hIwqc05KnHAw23g3EA4bUgiKLWbu26u+/VS4uc1NTKXv3Kp2dS+7dg2WHUSi+fXuopoYjJR0oLQWi6s7MlFpaKuzt8c6wwhIzs9Gmps6kJE5HcVBYmUeO6Nr+2dpSfNyXny+3syP5Bvj80aampB07YB2mvn9Xu7pGrlzJVrlIzMzkdnb4lPyLFwGrv6WlLczPw2JSGWL1mzeAlZErVy7MzZFeulmhWJifJzw+1tZW9vAhZoTUvn8vt7WV29l9r6qK8fICSuvJzs4+cYJE75UvXjQrFHJbW5m1tdrNrTUighoM0d1pUam+paZCixTn69vw9etgefl4Vxd4iK7k5B8tLUIeL3rNmrnp6Yzg4Jq3bzOPHq39+BHqs18/f8ptbXVDAm7dotmr1Eep4etXfFnovTsSEqJWr0ans6QdOyglkbRjR+TKlVgrzcaNIw0NImPjrqQkmPKf3d3IrVJHUom5ua6LiIcHoBgu15K9FwqvXx8oLYVKFjhyvKsLz489bRAKCRGyikXaCFbJjLOaGRrKoueEgAClkxNUIxErV0LA3xoRgZwX25QKW9NfWAhYSbWtjSIRG5CITU2llpZU+EBdAXJOneorKGDR53BtbeG1a1WvXkktLJJ27Ch7+LBBJML2dSYmdmg0nJRWRkgI1Z7Vf/2ae+4cgofK58/p4hMC0I1bCA/X6gcdguyBJxtrb29WKIaqq5EqklpYgJYnag2rnRESQhMt2aX4//8i+w9YD5vGJiIBDQno4Iv8U5smrVabFhRU9vCh0MhoyYl8RPgTDUMuXGxikrht2+7/9b/+4x0w9WVEUTzbfLVdo+FIeTX+/iV37wI5kqaOmgnj54bjVuo+fyYGlaLhb2lpv99BH4zG6idsg1eEUIX2FZ4DdmRJMT1bTEzmsjc3lzwT1ZzNL3X+YtatUxg0UcIDU44TxACNCu7Ly5NaWuJawq1mHT8+9f171rFjS44pHevokFpaDpSUQPzJ9lFqkkrRPQO4mCqh0WEYIQ7YzrovXyh71JOVBZ5HYW9PoFvh4KBycUndtw/3f6KvL2XPHkgxU/bsMWxnzxVB6AETCY/7i4qwNXPT02whTYNQmHbgQLSXFxwJRZ+JW7ZQyYHM2losELDcPqJhLCnacYx3dkotLKSWljNjY0hag0/7lp4OE0MjgIRGRgVXr3IEXNju8c7OtpiY/EuX6vRVWzqk9fIlO9osfuPG7owMXX8JS8sWlWq0qUnE5yft2JF79izoU5mVVdXLl0Ieb7yzsyM+fmF+fqSxMcLdPevYseRdu/ry8iRmZrEbNsCKiXg8OFf6CKWTk9zWdrK/PyM4eKiqSiwQgJkHFMPDtKhU8Zs2JWzZknPq1HhXF7LXKOcYqq5GiCbk8TS+vjBA7EDyuPXrE7duFQsE+NDpkREEZJmhoVJzc+Tk+gsL6QpMDg7i5MOh0i1Q2Nkp7O0n+/uJeYKjKg8La4uOJhtNk8qATtCWUiIQSAQCHTculZJrhNGvCAtT2NtD+QhkSXGMwt6enCvcbcm9e3JbW3JmmUePwsISYVDx9Gn8xo3q5cuReW2PjW1jJk9QbM3pM8x5dSQkpB08CPvWGhlJvqRJJotdLLliDxXLjsKype7dixkqcDPE1VFnTc6r8vlzMA1USZEQEJB38SKWF+tGPDOmpGgZ0WjNu3d1nz8bdkNSOjqONjcXXL1K3pqloNleV/MzM0T56A7M6Gj28eM4Jy1qtWHv966UFPh+4tsgqmhkMnf0+paa2iASQfaIPf33Bk3sgCyOBih5584fLS2FN25QWhMKrCVjhj8tB6xyds6/fJnuCYtAyYGxakM2Xce2Vte927JlnP5wAOPFt29nHTs23tnJznNFxug3Y3P0KMXHODq0AVRt0pubm37oEM5cs1LJKa1jTzD9g6Py/5aWRngqftMmNLQqvX9fN7vexoYlc9hzQKxv7YcPS955zgdp9S31xzs7a969o9OZsmcP2x+AZV8R9Ofp6XRYwIGSkojly9VubigmgTpmYW6ORq2NNDQghFK7ufUXFc1NT4v4/PxLl9AqWavvFUdpWnB031JTiWwg/42HTNqxgwbIRHl44A+RfWHL54nS1OqLVVD8iqh6dmKC/CWb+J8ZHUXik1Mf1RYdLTI2RriAXBegA2yBiM8Xm5ig5SdgGTau7vPnmrdvM0JC0g8fJnBW/vgxYjs05Erbv1/E4yH1rnR0xIEUGhnhrZJ27mxRKqlepb+4GCdH4eAwPTKSdfRoa2QkPNCP9nY4cpm1NVzaRF8fYE3itm1KZ+eJvj5MDoj391e7uf3s7lYtW4Yt+NHS8r2yEoFInK9vk0RCHEaDUIihBeA/ck6fbo2Kmhkb687MxJvHrl8vt7EBcUKbmLhtW+2HD7CntM7f0tMJZkHilLJ3L5u8AEEFNXKcvmUgNXiXWVsT8Zu6f/9YR4fUwoKiMdhZCOXwpYh6TQsKAkYsuXdPamlJ4Wzi9u1weJqNG1P27BHxeLC8yONO9PbCi+DU0fxasMcQFSJC7cnJIToEMA6VNoDyxKjhNH6vqurNzWVZGbaBbt6FC5mhoeDGJKamVHK5JCOosLcntrbs0SNgx0o9cULJqZTduzGzb6i6uubtW5kBTKQcEwfpJgQExPn6QmSUvGtX5KpVjfqCC3Lt9CkQkDZKJIaMIM6DytmZdoSTMKJc+/TQEPA6rFnW8ePNSqXE3Lw9NjZ+0yaxQICKA043YpGxMWvcCi5fBl9V+ewZ5ddYbWxmaChU3/iUJQdOLCkrW5ibw2ZVhIWRYo5gNA3m+kMcMDuYBUZZbmubsdjCQiONEgUEmlEeHmyeGK4IsSCbmGQlWkW3bpXcvUtXgrgLlbOzbuQLxgzoFxqUWu7i2h7DF9vDC04Ug31wCguuXi179Ii4l2R9okKyeNI1WxaFQ0Y8HvHbbBXsP72wmJQeAwTpyckR8Xg4+pToGq6v1+rbBE4NDcEmTusFveDAWWG2VqulXg2zk5PdGRmEHwuvXasPD5+dnCx79IilwREisynP6levpBYWRbduDdfVVb18GeXhARQi4vOjPDwg/4ldv75FpUo7cGC4tpZK5pN27uwrKGCNuNjERGppOVRdzeaGZ6emtHqpfE9ODj46+8QJlCpBfEFptkWCZHv71L17hUZGUgsLWC6EZZ2JifhHyd27maGhyALkX7xY/eaNysWl+NYtPDOeU9d+1sRE4eAg4vEGSkpq3rxJCwriCOYrnj7F4kSuWoXirqIbN9DBOCEgQGhkNFxbW/niRUZISNSqVVjewmvXxCYmCnt7OBV2vqzS0ZEGNiudndWurvGbN0vMzevDw2PWrYOHEJuaVr18ie9VERZGudvq16/JS6mWLRuurUUnpupXr0R8Pu4RmWno0hV2dvOzs5mhoTIrK6GREbsjIj4/QS/GaYuJWRId0tAttta54etX6uqaffKk2tX1W1oa/rzu40eKjyFHiFm7tujmzeRduwquXhUZG6tcXLqzslTLls2MjpL6D6wJ6Tql5ubgwIDvSX4I9cNIY2OxPg2BjDuBVKoP7s7IoKhOZmUVs3Yt1CQk8xmsqKA0Td3nz5GMRAuMeuz69XUfP+KtyAVy7jXddKx8X37+klce+TKO6Ytes4ZVVEStXs3+X7Y7Vf6lS2w/A42/v9zGBviGqPuimzdr3r2L37iR4hxCAJxKS2LaiDAo/esv5MjwJ4DdAEzAMRyZMZteRYzBlqLEb95c/erVz56ejOBg6oNb8/ZtZ1ISyP/sEyekFhYcShJRNQ45bDvbbgEwNyMkJHHbttnJye+VlSwKp7YTYx0d8Nnw7qV660HB2B8VAQNxZJ88yRbGDVZU9BcWcrIXWFbW7UV5eHQmJRXfugVbgw2mdYTDhmaqNzd3ZnS0/PHj9IMHAbKg3iIrszA/n7ht22hjo5DHm9CPv6h+/bo7Pb1RImmPjaV6OGw59pI15QCwKheXyufPUZWE/av9+JECNamFBc4xMnnIp3LKwElCjKuO54cpz1gsDWuPjSUQk3v2LDo4cpYah5UlyfHY6FjSubiQjqOwEPF4Qh6PM5YE1qQ1MnKksZGNRzsSEqimiGNlvqWlSS0scs+dA82la9a/OAXLko3sJdR18T13jpO8xzeC+xEZGyscHaUWFmkHD059/5555Mjs5CR8sOE8UVJ7RXt6pgUFcbL4hPdL7t6lTi8srtcRKvrGSRO9vRKBoL+oqOb9+5q3b6PXrIHSOMLdXSwQCHm8zsTEKA+P+E2bSu7dA3BJCAhg1QngTpVOTi0q1URPD5JShs0ZxCYm879+4R0oyhQaGaGYONrTk5MIl9vZkbce6+hI3rUrYcsWqArqw8N1E5OcnXPOnBGbmKTs3atz2CYmhuFCo1DIamKVjo5CHi/7xAkRM/RCZmUV5eHBcoDlT56IjI2TduwQmZhIzM2j1qyB04LnjlyxYrCsjEIKLALpzmo/fEDaHrAVjlNibp559Oj87CzEOD97epDkS927FzGW2s1NZGxc/epVX0FBf1ERWN84X9/+wsKyhw+Tdu5Uu7nlnDqFKyMRCHpzckh0DV4Xxrr8yROxqWmzXD45MICNQL6DhdqEUH+NjzdKJEDVJLhVubhkBAcnbtsGW8RmpuvDw+M2bAAP1ygWQzKNX0MUITEzyz5xAgEJ/pf6e+CXFQ4OOJCG/b+0Wm3NmzfgnBH614eHD1ZUoBBcJ4fURylEg0ktLXEgQRSxhcsx69axJoWUTcRy1378yNJp7IszduU3B3DxYu2HDwkBAZXPnuFh2OKiwbKyFpWK4gH2RUJawxB/emTEULlGthoVIrE+PnSMOWQD4pb8S5fUrq5FN26UPngQ7enJsY0QBADBn/3f//tPcMBigYBTjc7e586kJFpoqg+jpkvUJRE3hEpx2LCVDmi0l1e0vtU4QkO4CmImcVhzTp0abW7W9ZEXCCqeP0/auZMz7YRl0ihZhbs9UFpa8fRp3IYNrGshKnWgtLT88eMfLS0DJSXZJ09S/mOsvZ0SS5pNm3Caf/38ycqqibwi2EtqIKwD3YGIFSsUDg4VT59iWQj/Kuztyc23RUezGm+ZtTWcmcrFpf7LFwpQWLU2bD0MH1symH/pksbPj3J1RIhx+lcjCoGkjggf9ndwSyufP0f8Da3NQElJ3IYNMMRUH0W2koU+P7u7wUkCoiFhUf3mTdbRozGM3eRky+I2bABCGuvogCmXWVsPVVdz2t/05uWhXSV4lzhf3/mZmcoXLxYWFlCDAXnRUHV18q5dUguLmHXrKCfdodHQDGZ8X5mVVY2+0AXZlqGaGjjUFrW6USKBZBSagOI7d8QCQdaxYxo/v4TNm8sePEjaubP8yRMRjxe5alXN27elDx7gi8ttbaPWrJmfnVW7uTXJ5QgBq1+96kxK0vj7Kx0dQWuLTU2lVlb4ryIeD4+Ud+4cxVul9+/nnD5NDh68bu65c80KBYLCvAsXql69Krx2DVeSjYPpFe3piSyGwt7+Z3e3xMyMOpmMdXSwMdk/veq/fKn98EFqaYnzUHTzJhZEaGRU+/EjTmC0lxfCF1DTcb6+aIdEFwT4AMFxe1xc7Pr1rEKYTQSyd5xqWlihU0ZISOXz55ErV6YdOIC3nf35M37zZiAGhH1AciI+v/jOnb68PAoZ4YfYue7/0pSRqLWRxsaJ3t656enhujp2KLKW6cJL/fWAJ3DsWfZbbGJS+fKlRCCo+/yZLun8zAyxDlWvXsH5ZYSEUHRu6PzwO2A+lshY68Ei1VPAdLAzi1J27QIJJ7e1zTt//kdLy9z0NHVaZRtvcfC3jt/euhUGk61vrFrchRurCrZP4+dnyOd3Z2aSEpDygxJzc2Q9WFG67j/pCRhD4dgfEgGnHzoE6EFhR9KOHewkg/nZWU5FKXhjorMMrxObn2DJh+Lbt9MOHODOzsvLg/SmJzvbsO6o7tMnlA/KrK0RGg7X1WUdP85GA6X378OxsTAw6/jx+MWFNARykXAVmZg0isXI/eDURnt5kR6PE3GybHzmkSMZwcGwKdAHcfqHqFxcqhYXSuKGIKbHYiIDSggAjELe+fPjHR1kzrRa7WhjI0Io9OFi5RWZoaHlBn08wG5pFofaWqZcuOb9e1gB4INfP39S/oYSbDDo7bGxIh6PLkDdp08l9+4hymF5ApIpIlRC4pba4CkcHGA4sOaxPj4wqXNTU/AH6B+EqQlsn53xri7Eza2RkZXPnpHYleaXfa+oMDyWGSEhUatX9+bkzPz4UREW9rO7W+HgELFiBQuYJObmaLmXe/asyMSk4MoVlo/Fh5LagLKhaQcO4JqQt0NymmSM8KOZR44M19cPlpcnbN6cHBhIDQtZoCMWCLqSk+nM/BobUzg6Rnl4zIyOyu3sSBot4vMX5udVLi6IwKLWrCGfkX7wYEVYGLYGY3FJ0ERMrFarVTo4sJ+bvHjMgK53RHY2Fpnw0O+rGhSUuHUrvi9nrgbOpFggwO0W8fn/0hk/1tsb51xmZQX4CG2jroWInx/WP87XV2RsXHj9+mhjI4HmgqtXYS7kNjY4aRxIOtHbO1hWlnP6NOL+8idPKILvzshojYwEUkwODIxcuRK/Q05dbm+ff+kSC19wSrEyWG3Km4h4PCKfl9QZgdQpvX+f0+6+7NEjtatrs1xecveu2tWVyOS+ggJOOXXFs2d4eJWzs9zGRuXs3J2ZCcA62tTULJcjFsLzI6BvUavBUCL0rHj2bKyjg3XSnKmgQzU1VPEstbTk9JYHMoBN04kSPD0N53sirWAYnBBS1J23wEBIzGjBKRCXmJmNNDTgBmUdOaLVF2hx+o1wyizZ/1r/5cuf4IBxVv5dt0bQI3HrVgg18Vc1794RUKX2coasHV5TiwFdyt69LHWDTCQ0ESgLAUCjHCc+glX60UGHlCNy5crUvXvZpqO02UM1NW0xMaDCOB1hdAHr8uVafVNc+DlDbJF3/jycX2ZoKKsblNvapu7fDzNEnUMK9O112I4fUE90xMezSVlOg3WtvncScbZSCwtKrWn8/NgRxc1yOXvVlywno3yPkMcT8fn4c5Z6JQDbIBI1fP0qs7YGGAIUVbm6GrZEkFlakjTsZ3e3zMYGlSpwRXJbWySuevPyIJlGZEMdPCRmZgBP411dzQpFh0azMDdHPUcl5uZdKSm0d9R2pzUiAockavVqMi5AFdQ3O3LVqviNG+s+f0Y/FvriP7u70fm2+vXrlD17frS0wKZwbBMZ7qGqKrmtbe7Zs2ITk+mRkchVq6JWry65ezf94EHgJKm5edyGDan79qEdQdr+/Z1JSTAWSHPgwTQbNwLw4ePwv1JLy+pXr8ba28sePYrfuLFFpUoLCqLECjwcXELNu3fo3YGu2hO9vdGenojnkA+j3BDt0UhjI5KC5Cm1Wu3kwEBHQkLt+/el9+/jGo40NiLHDMAq5PGwXBO9vSBOy8PC6JAQxU25ACRiqPs3/bsnK0tqYSEyNi57+PBHWxv2a6yjA/KuOn3QDNaBIFHRjRsseQPZGphh9GNPP3yYbV2XGRICt9GVkoLr/C0trVEsTjtwgOwDWaGKp08RV4BmL7hyhaAhEVGUI8BqIA8KRRt8Kh2M31lzoRA/7M3Lk9vaJm7fvqhEdWFBq58oxb46k5JY+zPS0EC+DVkSUjPA94+1t2sXFiLc3dndJIqYNgjG53tVFYHs/EuXUvbswTb90/AY/Hlvbi6rTZseGcEjkSZ0dnISh40lqFkdlojPhwaWfZ+Su3cNWRmoaqgQZlGptH5YLXAJoriU3btZnoYDa6Tm5n9ODrgvPz/aywsbRsUnlMRdpIg2NY3z9eW0ckR2JPvkSbGJCUxn9smT452dbO0E8FpGSAjwbNLOnblnz3JYoCVLvLvT0zX+/ngG+eISGkP4FuXhkXX8eOFifWD+pUtwjZw4Vbf3R45QshkxXHlYWPmTJ98rK2PWrUO6BWeL/Tos7xrh7k4arswjRyQCAY2Q013s5ctj1q6N8fbOPHo0efduBJFRHh6o+iA5ZdnDh1ODg9Q80jCkoOQWvCM7LgLx+lBV1Uh9vdLZOXnXLpWLCwoN6QZiWdi6yZHGRqmlZd2nTyxVoKuwPHJEq1dOJgcGJmzZAt+jdHKSWlpSy2WyLGyOquzRo9R9+7A7cju79IMHYRrIKapcXGLWrs06fhyPrfH3b4mIaPj6Fc1uQL2S5B4jLmAKk3bsSN23DywFOlv1FxUJjYxi16+X29qyWnoR/KemAAAgAElEQVRK+KEtSaNEApl3RnCwiM8HhIpbvx6p1qQdO7DaalfX3HPnSh880Pj5GTJ40Z6exBIX3bihdnUdbWqqfPECIxDIP+WcOiUxM0PBd1t0NDqES/X8KtqbFN26hbUtf/KEBVW4WQVXrqTu25eyZ0/htWsR7u7tMTEYnggQE+3piTwrkmH4R9HNm6hVi/b0ZOOGRL1Wo/T+/dyzZ8nqYanhETMOHx5rbxeZmJTcvYvvS32mojw8kMoZa29P2bUrZu1alYsLyF5WCcHqeoC3KDk11t4O9JMcGEjsxe/Dtn17QkBAV0oK0szUmpGyrfX6ojssr8zWlooXKEJizchIff387Gxvbm78xo2tUVFkuzBbiZYaaa+5qSkoLpsVCiCnxK1bNX5+0sWtCzhCfRytpB07DIf9JW7d2iASEc7oycoytBht0dGTg4NFt26N1Ndju3PPnKGrAZRPUf6P1laxqSnsD2f8OT5dZGyMy8uOLAOBwVL6M6OjfQUFxXfu4PqzKkJI4fBuLH2SuHUrJ8uLx+DwKEgdJmzZAlTNdqX9TWJv2oSdjfLwoH4gnEKYJaM1xCqUIR1paECVdtSaNcN1de7//b//xztgVmcLOM/R8lHUX/HsGSggzujN4bo6Mj2cFzt0k4Bnq8FQFO3i9si/HeflyxO9vQgi2aZLbMUOJXops5h79iwLcrOOHweo5LTGJABO5BubDzbsJMBOAhgsL08PCqKwI9rLi5iA+M2bqXYQmI4dJkgOAFHO5MAAvB3OGacgr+zBg4KrV+s+fSKrFLlypUQgiFm7dn5mpu7jx7GOjtmJCdgjEIltMTFCHg+fCyIhcevWsbY26uJW9fIlYuvKZ89YZUfuuXNJgYGzExMkNcQQbyzdt/T02vfvOYi+/MmT9IMHk3ft0vj5ERRgDSjtQkdCQoNIRLXg4PTwm6MtLTJr6+G6OuxyW0wMrmUXY6mFPF6sj8/c1BQhEl3LX4Gg5u3bJpksxtsb5iPC3Z2u7sLcXMHVq9g1kJlyW1uQLlSuA4uGAz//61dXSgpgR6NYrHB0hLo7ISAgysNjeng4cdu2uenpus+fUeKssLcvunmTdc9E3laEhcV4eYmMjaWWls0KhczKqvTBg9j162PXr9ds3Fj++LHY1FRsarowNxezbl2Eu/vM6Cj8wc+eHhGfH7lyJbhuoZERiahZr0MJi/iNG7FuOFTFt28nbNnSFh1ddPMme4slZmbIfzeKxdhQpbNzQkDA98pKANO0AwdwDtP1xQII1CgwZdvANUoklHSQ29oSp8IB00AqPTk5nPPPSiJ0YqvHjznNh6UWFvDxv37+TN65U+PnJzY1nR4e7snJgYdokkpxQ6k0hdNFebi+/rcUSx9IQIiAHE3M2rUI9djgG/lXtskl65BoSTOPHJFaWFCQ3ZWaCuINTrRFrWbHxxHxw/JeQh6PPtew4S4xXnTgEeEgrzc5ONiiUuEjaCOmvn/n9DvixDP5Fy/CdUWsWNEeG5t17Bh2nGodDZsssZE6RzLSlZycsns3IXt8BcPap+G6OraP1aLvuG0bIv6OhITRpiYIePEMCPdJKJ4REgKCjdMGS6vVmv7X//qHRMBlDx+SC+TwLYlbt3JEE2x4QZFTb15erI/PRG8vR1ULe5oREtKZmEh9R3EoqcSljpHwcSp6U/fti9dLosiFAH4OGtT+sm9OUj2qg8IFiF67NjkwUNcMgTErKPPXyRz0yJEdQLRkcx/4OZJAC/l8wgfRa9bAT6Ac1nDgIyeZyl48uBNUrBfduNGh0RDLmnH4cOLWrXWfPrElehIzs5wzZxCFDNfVkahVYm7eKJVmHD5c9ugRHpI1KJUvXvQXFnLUtjArnA60KXv2pB86BCOOawwQlnX0KFbyW3p6yt697NxTuNvZiQnO15ydnNT4+482NbHHrP7Ll9bISOys0tExaccO0nkmBwZCm5Z79ixpntWurkk7dhTfujU1NIR9yTlzhqQGWceP133+jIhH4+sL2qPg6tWO+Pi2mBggThGfjwlClAxDPlXE5wt5vEXFjlevNopESdu3pwUFIeklNjXNPnlSamEx9f271MKiLSYGKYyaDx/g2+DGYtaurQgLq379WmJmhh4OhVevyqyto1avBvXdX1Q02tzcIBTGbdggFghExsZpBw6Apss6diwzNBS/plq2rCcrC1kYtAxEkIEuld+rqjB6WavV/hofH6qpkQgE5AszjxwBRJjo6xMZG3doNGn79+Nbgx2p/fiRDnlnYiKloqpevco+cSLKwwMySeymyNh4ZnQ0LSgI3RM7k5Lqw8P7CwsN9bdYQPiPkrt368PDi27erH79Ov/SJZmNDcjJJpksavXq4jt3NH5+w3V1htdB5eKCR4Vjw7XCdrcxzaqQ/CrWD90iPhw1e3WfP7MyWgoeWHco4vORMyq6caNZLm9Rq2miefaJE8S0ZwQHo/SAHTKGDWqUSHDZ+woL4eSAkBA6c8YVcF4cpSRLxbPYMe4fuoWQ+mxJbk9XvHD2LIAafCSuHud5EvUuFm61+Pbt/EuXDC2/Tl3l79+h0SAjDqtFzh55w/GuLolAkLBlC6tQ0+pnw6DxGfXqWURh6tGPytWVLbSZn53NCA4GDKUY+o8qQ8LCEfVBifrf6p7FI4YIDxrmJ1iQTvINyjSzs06HmX9rDcaKqd3cUPsI+0Lw/HeMxZSr09XCg6UwDahTdu8uuHw5OTCwSSYDjYxujv+0LGpXV4W9/Whzs5DHYz3Wb1Y8K4uT0ob5xv/SF58ZG+tOT5+fmSm+fRsEEctZqd3ccGpxw4EioTKj0yy1sOgrKACNBllc3sWLxbdvC3k8tuaSUt2EglvUasO8ftL27VILi/lfvyYHBxMCAtjm5j3Z2c1yOXvJAbFVLi6GAypk1tb0QyI/yI7kXbjAUsH4XsBhUktLWgGSO87/+gXbGuXhQagC1BzQGJ6z8Pp1gsD1X74gXYIRdRIzMyqsStq5s/7LF4hdyapyzLrS2ZmtICJqBGGBUl+V3igWF167JrO2Hiwri1i+vEkm683JISufFhSUEBAA9VC7RgOdMPZIyOPFeHsnbt1aHx4uMTOT29j8Gh+v+/gxcsUKtoVTb26uxNxcxOc3KxT9RUUaPz9KA6ldXSkwQmOEmHXr6CeTg4PjnZ2kv4tctSo5MJACstyzZ0H+Tw4Owogj1MsMCSEEnLhtG6FGKO+mvn9n+/LjJCB4rXr5EmA3ISDgZ08PTVb49fOnwtGx+Pbt4jt3Mg4fZlu+U2JPam6efeIEEhCx69dDoCe1tMSNlpiZ9WRlYdMBFOAVKFHKIiGxiQkNxqEXtUjjBHCRqCdeqnQCliRq9WqOAErh4MAmfbAanYmJUMBQH3LKvFDiHPF3rI9PjLd35MqVTTIZqyD59fMnYD0SBEk7d4pNTaELSz90CKxefXh4zqlTYhMToEMhj4ciLnKZWPPCa9fGOzvFJiYcEeuimQe5uUNVVaTQxuGsY0w3bGaEuzspLuFlwW9Nj4xUhIWxjf3H2ts5gAM7iE5nHBXFP4UWWq1WZmNDJsKwVIn9COwyeqobvg8sJMiM2//n//wJDjgjJIRK3DKPHGEZmB+trVToXXr/PpgiRK5NMhk0IG0xMWi/wMqv2v8/7r4jKsr8i3I5q9nOauacOWdWQ5ElSBQEAREQULANoBgwi1kxtBhADG3OaGurFahEAVXknIqcc85ZyTnN4hbPH1/R/5ntWIs+tqH4vl9477777ntPpQKf82+BI/g99kaBmQQNDv6K0gmkC9WQn0+fInHS8P07Lh5Hf1QSHg5Hy07C0p7OBC9CVBUsSF5wMH7RFBlZ988/eKl1pVsceQW+J2rz5qGKCjQ41P5rORcuEOefe/kyHA/FK4RUpnp7gUPBQBKXS6T3zNBQ1pkzbIaGonnWrMwMDxeHhdGGEtGHmHKoogIXlUiCmK1bC+/exZLGuLiUPHgAC650d1d5eUksLGLd3Fi8BXvK9mMRb9xITUh+kZYCAfAKYHje1av0InwdncxTp2Ld3HDZiu/fj9ywYbCkBA2/YrdtE+rrw4z25+fH7dihKQNdXsYuz42NkVgdjrb206ei0FDi97pSUmCeQLXVfvpEViBm69af9fXs/JyM48ej7O2R4hosLVV5eSGmR2eYipcvWQMNABFlb58VFDRUXs7n8frU6rK//ko9fFigpyc2M6t684Z0LvB58b6+K6ujb6revEkJCEjev1+gpwc9PJrsx/v4rCwvSywssGsFt27JrK0VW7bE+/iIDA1BDMTv2EEgD+czZuvWmaEhAA6hgQGeM//mTYIsRB6wY7XaYmPZCxjv45N68OBUby+yORNdXTQBvubjx7TDhwW6ui1yOUtsktR/oLAQHiv30qXOpCQgAGBc5eqgiJHGRmwWqBqxmRlVM9I1r3r7FhQa6uOpOxWbCETyiPaRQCcOVebJk8gBJe7du7LeuMzYtdPxwOEl7t5dePdutItLe3x8T2ZmxvHjbBkI6bMS/vijKy2NSHX8IDIOAJeayLW5+d9CW9xWzejukBDEryj0wLuj6xGb8ZHZ2AgNDOh3poeGEMbkXr5c9eZN7adPLAnBSgrK/vor/ehRqCNZCpfTmoYtJUegpfTwoGAMVrTuy5fi+/eJiqOCLtZNLkxOTnR3U66QLBvRbOtWCZNPaYmKKg4L41h7CmzW3L7Cwt8qAob5pp6oQFgyKyt0hZwZHiZItTgzQ1FvzoULtPGw6f2rWUxiI5F1Y5vxckQNsattb1dWVoarqlgk2xodLTYzm2QUUnTQp4eGYGSRxoOzR6ik2LKFzI1G08+kZGCUKW4jNRl2lEXcRL8gpKZiZamVFQRBZB0EPN54R0fmqVN8Hg+EWEpAQFdKSuXr1zSunO4nq9NO3L0bwL/y1StOe9uerCySjMW4uqqvXUs7cgReeebHDzwSYaP5ycmJzk4Y5cHS0tJHj+D+Y7dtg3dEwKd0d+/OyKDIibXFxWFhmn7CQUEIEzsSE+W2ti1RUWmHD4vNzYvDw3F5FI6O6UePwqoW3b0b7eQEKRnhGHbq4lhra09mJl4ZHkViYUF1OyIjI4pRKl+9AswfbWpiW950JieXM89JaBqQi20KLbO15fN4gyUluKisTrDw7l16Kpw0/Ddh165YV1exmRk9/MLUFNxk+rFjY21tyu3bo+zto7dsmRsbG66okFpaJvv5UV55tKmJeKCMkycFPJ7YzKw1JgY0stDAoFEohFOM3bYt0sRkenAQscXy4qLQ0FC1fXuMi0trdHRWUBCnmavYzExsajrZ3R3v46P08IjavDl5//52lSp22zYkAqSWlnweL8rBQX3jBnu8qUdKZ3Iych8d8fFiM7Pqt28JAIFJStq7FxRixvHjM8PDGSdP1kRERJqYsPgp48SJqf5+iryjNm/W9CSPjkb7mh81NVRhj5su37QJ65956hQE1SS2SNyzp+7Ll8HSUpm1NYdOo2zUr8axgYHkGKrevh2uqlpeXo7fsUOgqxvt7CyxsIjz9gbrW3TvHpLKSX5+bNNgnGRY89RDh9aNBOq+fEncvbvi+XOWDcJ6si4NCWZOX8Y4L68oe/v8mzfxviidIhpAuwox/ehR+lO2ehAovC8vr0ksHq6q4rhGvFHu5cvaddtg8tnrxhpVoHaVlxfh75SAAOhCiPzjPGTx/fs9WVlIdiA+zv/zT9Lkss06kBpICwxc+vehDkSxyGxs4A6iNm9OPXgwad++NqUyfudOan3atVaaJ9+0aWZ4GA9ZvJoL0KgH1vqC//5f/svv4IABXaM2b4Y541TikiFDuJN/40bcjh3pR492paayY0OAMTuTkuK8vTUdD1ZtE3w2Ww2s4cq0NMxUVjHV3689Grbo3j2SX7EJf/YITvb2wlOCoS0OC+OMEZzo7k7ev7/g1i24DRCzKEFbmJ7OvXSJ1ByseERkaCgxNwfghY3gjPBkzX31+/cpq0OLaWVIoy80NKx8/RpoFD17B9aKF4rv34/esqXuyxeWQItxcSkICWmLjVV5eFD53UBxsdLDI9rZmTXBbFesJrE42tm5RS5P2rsX20GRE2FS2CmRkZF2KgFwBNgcKly5nR261P4aPXvrFhg54uqXl5YATag2tDU6Osrevj0ubqKzE16fmsvPT06yOiYiuIYqKprEYsK8nJlxEgsLhDtCfX0EhRJzc8pQwO7H79w52tRUEh5e9e6d0t1dZmNDtDMysk1iMXatPS5OZGys9PBI2rev+P59HMvKV69ExsYNfH7e1asKBwd4F6Gh4Whzs/raNbGJScqBA7MjIzS8ZKqvT2ZrG+3snLx/P4U+TZGRKk9P5Lpa5HLYO/h+PLbS3T3G1TXhjz8aBAI8HjwBHc6VVSVjcWgoVnVpYQF7l//nn60KBYq5ETOJjI2n+voomoGBJul+3ZcvlI3+lX3/9q0zKanu8+eM48enBwfb4+PRURykCEq/8PyUHiIehW33qNq+vUUun+zpibK3h1+v+fhRu8Quad++vCtXkHhqkcsFenpJe/ciBl1aWIA0l7DISGOjZOPGGBcX5Ggqnj+P8/JSODquWw/DZnYkFhbpx4+XPn7cy4xS4PN4bE0gn8djoTBx4JQiSQsMpJYArAAz++xZmCkarkChOYqgYEXzb9ygpZ7s6ZFaWgIyzk9MAMhWvnpFhmuiq6v20yfi9rvS0nAMOuLjOYmkvrw87K/Q0FC7V9q/DYT4tU2enniqia6uzJMncWVYwjnO2ztrVa2CS4ofxzF37IcuabSz87ppXWpehvVvkkjWzJsyNKx6/ZpCOM5LwYvTUq+hLnx9f6scMEKltMOHf9bVRTJaDBLBc2jY2ZER0Mi4/BwKmu0gWBQaip5Esa6uAl1d9IjIPH2aOGGOghERA20SJ37Fdc1ZzbKUPnqEMg/hWnyaeeoUMCzao7NclnxtNRHF3FlBQTj32sUDQgMDXDOxuXlBSEiUvX3stm1wkIJV1fHK2oZE+Cq1ViNrpJQoMUkjyWo+fSoJD1d6eKBfIMdNUpQAcp5MPJ1+YoQWZ2YqXryA1JkkjqmrKRbtOhANJcWMo6l6+xahdvnTp7mXL4vNzcuePNHoPJnnId/DweBlf/2FvYh2dubzeKCLK168IGxEVpKNMDjDo2S2tsuLizR5kOis5cVFFiAKeDyZtXXCH39EOzkRNRqzdSutKixdxfPnVW/fRjs7s5UPIPSmenvB5MttbeHUlW5uP6qrceqwoSkBAVJLS3CSAn39JrG4TakUGhqqr19vj4tbWlgQ6uuLDA0bhcLCO3dkNjaERcBG1n7+rPL05PN4IgODsZYWiaVlsr9/pIlJnJfX8vKy+vr1BF/f5AMHaD3nxsb61GqFoyPOVebJk/k3bpQ+fMjX0cm7ckWgq6vy9Kx+9y7G1RX/BDQyX0cn68yZqrdvi+/fl1pa4gyDamqLja2JiFA4Oo61trLWFkqrOG/vrtRUhaMjTnhJeDiCJ5m1NQsri0ND0b2E8kfFYWGwjBXPn+MXSXv39jFzPBN376YcrcjIqO7LF6wwTi8cLWrwlNu3jzY3C3R18f1TfX1ssRzLc0AcG7djByBs4u7dSBuz3jTSxKT6wwcKsDSmXK0GDmbZOLbFRMbx4zR1+xcRtVpeyEqWtLPdHMO4vLgY7+NDP0jA46G46Ed1dZy3N7KweGAEf0NlZf/W9oereuHzV1ZWOhIT0au/c7VfPTgPBC0CPT3t4eXIy0KYlnX2bNaZM5Pd3bV//01wR1usvu6n6t07BFRsagwhEyxb7qVLIw0NbGt9qK7YbGDF8+c9mZkwbhJzc4o0WA1Qwq5dYnNzoFX19etsEgGGfbSpyeS//tf/7x1w3I4dbJ9eVmOiAc5ry58BoyjRyCFGFufmZn78wL8FN1V4507khg2jjY0SCwuYyPRjx/KuXKl+/x6kK90BuOHpgQGRsTGOeOrhw1RZD9VG7d9/F9y6hbOLiHx+fBypU7Y/atK+fQUhIdjOhu/fRUZGBGzJB9R8+JB7+XJPVhZGFcW6uVW9eQNn3Jub25WSUvv33yXh4dqXTW5nl3roUPL+/UTNJfv74+Gzz55lTT/HLYF3guNBn0XY9II//xSbmvbn55N3ZOlohPKsKyKSkGUL+9TqihcvkvbuTQsMTAkIYKMEuAEM6451c6tby/7hZGtkbidPUtkAdpaIOCIwAIxExsa1f/8d7+MTaWKiMVurLZ/ygoM5aWBKPhWEhBTeuaMZwHLuHL6t5uNHqaUlXpOd/sYakemBAWyc0NDwR3U1mw3CMSsJDx9tbERqIOfCBdgCpbs7EmwZx49TTMnX0eHzeDEuLgV//gl1m8LRUWxuzuY+ZDY2P2pqxlpaUgICOhISOpOT5ba2sz9+ULqrKzUVcHNufFxkZFT7+fNEZ6emSjIgIC84WGRkVPHyJfUwIkJCYmFREBKCSRIwSTjh0FEX3buXfvw4jY4hDMo2UMy5cAFerTMpKdrJSZP3NTQEozjW0jJQWBi1eTMeBgvVk5WF3YzZulXh6Ai3nXn6tNzOTuXhsbJ2slnRvXvwFnjaotDQ7rQ0YJS8q1eXl5bQ54j1zd1paZwaGLGpKTXin/35U6ivz8mwIOeKy4IhgypPT3LAeAyEBHnBwSpPT9X27W2xsWwtlszaGqV3bA6yQSCgZlWk7lZ6eBAzDyYDRBpHxsjWI2UcOybQ1//VGdDPT+HoCC6B1VHi/CAkSPbzgxPNCgoCSmiLiWFjErwmKKWp3t6UAweQxyULU/3u3cL0NLYM6zDa1ASjgc5cbB9syeqO0O8gSC34889YNzcwRtRmUrJxo8rLSyN2W4VEtCCt0dHpx46Ry2SjCFapSiUD7GeovHyksbE4LIzoJawGUDJHRZV/48a6PVPzmfrmX6VNaHFz7BgbM8T7+CxMTxP9dvN//s/fIQKO8/Zu+P6doziHLaNdGW9vj9ywge3LCiDDnloU5rP9yWh6z7q9pqVWViyuHCwt1eRpVk05ouq8q1c55fkrq9paQqx0K+gXiGAgsVF6eOD3OxISAA5YfYQ29ANPS/VUSMNw4jzt5uYrKytRDg6E1Fqiohamp6OdnVXbt0stLbU7DJCtEZuZQSONK4QMaPSWLXDVAj09PGHx/ftUk02Sb1QGw5HnXr7MepG5sTHqK4unLbh1S7ltG1YV9zBq8+bOVcdW9eZNzsWLvTk57HDsHzU1IADZUgeKNqhzZLKfHxTL8HPETyT88cdQWRk4N9Z6Yjuyz53Lu3JFfe0aohNW/be8uJhx4oTYzAzrhvtcFBrakZAA69abnV0QEoKIPGnfvqjNmwvv3BlpbJweGqr+8KEzKWl2ZETh6AjCLf/mzZ7sbFSUcmR9421txffvT/b2Li8uJu3dy26T2Nw868yZhF27hisq8q9fj9q8WWRoKNDTGyguJjsCo4ZvS9y9G9OylW5ueEG4EKGhIegQga4umkrOjY1RmWNKQMCPmhq5nZ3M1jb92LHK169LHz9uVypFxsZ5V67MDA3h38a6upY/ezZUXk4HTGJuzqnxQGAqs7WtfP2aTfDTSV5eWsIVblepSE3TLJVCIA0Otubjx0aRSKCnx5JGCkdHsalpX25uV2oqqnrwGEJDQ/xQAMSR+nqowWnoGfwHrTa9tdjMjNqI8nV0mqXSkvBwCq06kpLQNAYRfEpAAEA2/nkHE/Yl/PFH1tmzU319lMTl+InaT5/gBgAR+DwemwwW6uuzbP8aDsbGpuLFC6xS5unTk93dxffvE3xHtzXWypGzaZHLK1+/xp+y0QvHBk4PDgJXUUEUp01QX15ecVgYG6+z/Q9mR0ZYrTWbw452caGVBImSuHt32ePHrFJ1oqvrZ319zsWLJeHhZIg4bSB/1taiKx+y+EBLAD0l4eGkZWvg8zuTk2FPqIEJGaJYNzd2v9iInIUCtDiNIpF2TurfPjd+DwcMgUADn892vCIqmMrgtHOEIJTalEoEHLGurkPl5WzzjaHycgpWikJDWbl82uHDcGyJu3f/srzLyxOdnQht2Q9HQBHt7AzJw0hjIxVdrDm7ubl0ntgBRBxfC0Gy9vhelglQbt9OVyXB15dj8tb9sIMHOL1y1Nev51y8iOuByhnA6rnxcRZ2/IJBfn6SjRvV16+zgmf5pk1wqLGuruSJ47y9J7q6Sh8+7C8oWJydrXz9WmppOdLYSDw/aZULbt3CmvTl5jaKREJDQwSsCNSiXVwgR8ey0Pj0pfn5Frk8ztsbVwWwHTEE2XoWwxXevj3W0oJAHGaUDHrCrl1jLS2phw7JN20S8HgYTzTW2gpROoy1UF+/4NYtnBAEIiONjerr1+u/fVuan1ds2VIUGrq8vIwy8daYGLG5ecmDB8BzLO1JjGtrbGyMi0vp48dYB0qy9BcUNPD5Kk9Pvo5OQUgIhpwXhIRIzM0p57I4O0s8Tebp09FOTlh/4J6KFy/qPn8mSFcSHq7avj3ex6ctNrY3O7u/oAAwiEyMyNBwenAQ5U9tMTHqa9fEZmbRTk7F4eEUk0ksLGBSo52clpeWelalc/OTk4MlJdSeV+HoWHjnjsjQsCQ8fLyjY35iAigH/+WIORBPT3R2Vqx2XkMySH3t2uLsLMv9SCwsUgICCu/cwerNDA/zeTyJuTmbJmDhFKrGcy9fhvgR+4XthkUebWoS6OrWf/2atHdvrJtb3Zcv2WfPomU3hXcry8vwhWWPH2PF4OlHm5sFenrAcHSEhPr6Kfv3SywskE6K3bZNvmkTvCMUCQCRSD9Ba81W5ohNTbGDE52dcOo0+YAEgEgSxbi40MWJ9/VN9vNjsxjUfgcyBeS2s8+fX+MaV3ehRaFg81+5ly6VPX6cc/Ei0WaaNvVMQQ475wAefaKzU7FlC9t9nZPFA5SfHhig7FWctzedK9BFHYmJrQqFzNaWdM6w//RtaIwK043EbU1ExLrFRRjzOltqduYAACAASURBVNLQgOYKQCHa4w4VDg6ta8s+cVQ4taDazTuRble6u7NLTRqg3yoHrGGTVo1X1tmzoB+r3r2jfkkg6ykAApmpfRo46dhkf386DcRUjK/meJTu7mzcRmel6t27tCNHiu7eJQ+auGdP3pUrrDoRne5xjEiN+R8+qDbjqBmhes08daogJGRpYQEQT1tBQE+rIWdWrXPmyZM9mZnqa9cSd+9OXwshtdOlOHPtcXGI3XHxqBRkeWkJucb8P/+EIZBaWoJSo8hMbGbG19EhohsBDS5nlINDkpZyjexO5qlTCzMzYCY5lRi/IPbBg9CtyO3s1mWciNlmKcf0wMA2laojISF227b4nTvHWlo6EhORg1yYni4ICcEPzThxApWvE52dsI9UkQW5ACbKZZ4+vTg3V/LgAUv+V75+Xf/9O5gJut6RJiYtMhkFH5EbNiTv3w/iMdnPD5Yu3senNTqawnd8p9Tauubjx9SDByM3bIiytxebmuZduUJL2h4fXxMRgQq0PrU69dChmeFhladn1bt3yu3bSb/amZzcJBYX3LoVtXnzwtQUVmakoUFmayvQ1UVhktjUNMbFJXHPntq//8ZITdq14vv3f9bXY9weSzu1xcb+rK1NPXQoxsWlv6CgIz6+JSpKammJW1b25ElHfLxAV5dCHAA40E6wwkWhod0ZGdSYsE+txixCycaNuLkULaG2VWZrOzc2Ntnbi6RpvI8P8rJRmzc3y2TJ/v5Kd3cAL0JaRXfvsiEXMFPy/v2oQSK6aHF2NvXw4cHiYgSCTZGRfbm5FMbBk+EkACayVOT85OTizExRaChVjgl4POK9oYrilPnOj4/H7djRIBCAmOXr6HRnZEg2bgQNVhIe3igSye3t1+WuYMrid+5UODmROVqYnFz37rOf7AsXVNu3EybjxDBsHyjAi5SDB3uyskrCw0mHGLttG9WMkEyMQg51cDB718A0zAwPw5AOlZfjntZ//Vr35QsH7rNYQbV9e8GtW+TG1p2cwVbMIwzFl3fExxOXxt7KdeussA44ANRVd+VfWkkvzs3BnnMavXFWEsYWgVn60aMgpStfv/5NHLB80yZ6WzJV1C+3du1UuBWt7o8s0Z976RLbka5dpUKJMK4ln8crDg2FSyBWiu2ctby0pPTwYBMndMfSjx/n9GxjBzMg7B5va6MrSt2g+vLygLZwdFjuF7Cd9TQYMq++cQM3PP3YsdTDh0sfPiRzQ10FEORx2plmnT6N7CnrxUcaGjoTEzkIbg3o0RJGSczNSa6Myq5/axSHMBrWuVkqHa6oEBkbL0xNiYyM0ASYQmfqByQyNMw+e5Zl3mCX048di2QklwOFhSpPT5JKAZ4j5gMpknb4MNkXTgow/+ZNCAsQfCACHq6spA60CK8pxybQ1W34/r3q3buBoiJkRrHXxWFhEguLgaKi2G3bKN3VJJGAGVNs2ZJ76dJoYyO72pmnT4N2m1+1nnOjo0n79qGLeOLevbHu7tXv32OJ5La2OPAdiYnJ+/enHz++tLAwUFSUdeYMLM5kby/8Pc5k4e3bfB6v7MkTwKPe3NzShw8jN2xARj/K3h4hOAwT7gVEczkXL84MDcV5e4+3teVcuMAaI5GhYYyLi8rTE7cJ60z5QsAvvo4OJLLgeyENVXl5wV4Th4k71RYTk7h7d1ZQUIyra0tUlNDQELUcRffuAQdnnDjRn58vMTef6OyM3bYt2tk5cc8emY0Nn8ej5gwiQ8N1bXTjausb+FG8Y9mTJxKt0bArTOV9/M6drOauJysLsWzRvXs5Fy+yGkwYbtgclq8i/oCTBZPb2ck3baJvUHp4QFsw2d2NRcYfkdONcnDIuXCh4NatZH9/nF56yGaJhCJXKqHRBJFas8XoUUvCw8kPzY6MwLaQ/hRuEiCJ8jJ4JKTSAQ5A0tJADqKjwUAArGMBIzdsaJJIci9dYuu4yCKJDA1Rs1AcFjbS0JB5+jSRUmSlif/QGJAnTyBFZBPAcP99anXSvn3LS0tQ/MAdlK1V0VNJIaKIvrw8kr4Cr3BOEQ45ihiJw6cQLs7LC4s5uFr1UPvpE4sqqIwYt/J3cMCsvpySf8n79q2snQ0HyC+3sxtrbc04ceJHTc3SwgJnM4hqzjx1SluGx+LltthYhNpwSxQNL0xNTQ8NZQUFkS6Mc/TRUn+4qmqyt3e4qgpRb6SJCTaGPGvOxYsYNEYNH9CAGiwKbiaVHgKmARbgKGgPnsQ/lNnYsBouSntP9fdToQLbW7s9Lm6stRUWATQd1bEl7t7Nug2AiYyTJ2kpOMp7mg3AGgVit+K1OgStrK1HWmebVqdX/Rt5ACOyND+/riEmiwbWqFEoVHp49ObksHmKjsTEjBMn8m/eVDg4pB46xDb/i/fxERkZtcXEwJMh+kw/dkyyceP0wADIutRDh37W1hKeg4LvZ23t9OAgO/gBm66+fl0zFHY1dGiJikKdDKtfUwcHRzs5jTQ0yG1tpVZW6UePDhQVVbx8WRgSUvX2rUBPT+HgQEKw+YkJga6u2NycZRTTjhxBAUl/fn5XaqrUymphejrZzw/PvDg7K9DTGygsHCguxqoSIpRv2gRWIO3wYfJekcbG7SoV2yKGEGeclxf7++XPnkktLOBxpwcH+3JzSx89apZKwdv3FxSg+weAAmw9oK3QwOBnbW3upUtAV+VPn5Itzj53brytjeUGSx8+rHr3rn51jrJAT6/g1q2S8PDsc+cg02OVmDSaaWa15RYrhiD3SQqvubExMvRwJz/r6mQ2NmSIhQYGkRs2FIaEYOzEQGEh7QU6ubKULIE5CrPiduygsHJl7RQNQKjaz5/Z9hoJu3YtTE0JDQzgC3OvXAHuaY+P55gv7bl7gFkCPT2FoyOlJ5plMuSM2bLdtKNHe1eV4dSfYLy9XTNS8OPHlbUNYrW5wF/x9PfvlNUizT9nCjjhkiQ/v5/19dq9wxr4/F+tc9drNaUdEOcFB6ev1vhp08tYClY4srK2YBcgEoGEpkQtIgLWr/TxY/h15L9YRhpiLu3ImHj1342CphR9+rFjGSdPcu5bzNatJG3V1gWgPm+FaSzOkq4I5rrT0wHM2a/FNoBb+FFTA5NB9Jomf7BlC9sxh7YELjD7/Hn2Z7XGxLC8R1ZQkMzGhqNkppwxqNHyp09xXJqlUtaOlD56hJcCPYAgGLcCQ/SK7t2r//YNPTul1tZ1X77MDA/35uRod3tRODrCsAI1J+3dS8jxZ20ttMT0lwtCQmARaFwjqw0GDigOC9NUCq12HoASJNLEhM0ICA0MOMwPhJesVBtREULSVoVC6e4eu20bJHjtSiVMXrSTE+4qGlopHBwQqGWcODHW2kqT7TmpBw6rhlgQ67AwNQXkN97RAfMEOnR6cDDGxWWypwdHAnBEbGaGCJivo6NwdMy5eJHP40XZ2yMcFBkbY7nifX2XFxdzL1+uRnXNjh1dKSlJe/ciOi8ICUHVI4wg1f6rr18fLC4u++uvrtTUpYWFwtu3UwICsoKCulJT1deuTXZ392ZnRxob/6iuLrp3rzEyUtPzUk8Pfiv30iUq9xTo6hbevh3n5YVb0CyRJOzaRaSCUF9/bnxcsWULCakiN2wQm5qipUaTWCzftIkzWjj/5k2lm9tQeTky8ZEmJvOTk2C8KR1LMAsuTeHoGOXgoA4OHigsrPvyBZcaHkK5fTsyZ5WvXxNpzOfxtPs1FoeFldy/35mcLLOxIVExmIzqDx8oAwVOBbOD4ry82pRKGn5c8uBBSXh42ePHQI0VL150pqT0r2Zwcy5eTPD1ZU12zNatMPGJe/ZoBp5++QLaGUoO8B/NUin2WmppCTvA19Ehr4bECvlgdjreylpRvcTCAtCfFeWqr1/n83idqwgbEHN+cpIKqTEIbkWrOwQnFlxhKidRCQ2lOg7D4swMRczwInjBJpFoZWWl9vNntq+cBnys4j+gK8o6dSQk4Nk4aTLinDXLslokOdrUlHbkCOEhlpNjJ8Pi7jesgjBuKCKT4WSSsBzYiMqoIJdRODjAVlDGMPfyZVYFhnPFFo+Bk2v4/h2uF/oAsm8wXBxZw+/ggFuiojqTkvg6OmmBgaR+Stq7VxuUcUYeKT08aj990syWP3RI6eGh8aOrvf0qXrwQ8HgKBwd0laPwFGxVxcuX+X/+2Z2e/rO2Fn6OrbX4t0/5s2eo9eZ0DuIkaUDY1n/7ln3unCZUPXWKkiIxW7fKbW3jduygSRJSS0tcLSQO21UqUF64zLjJcV5ehGo5PJh2WoWvo0OWNy84uFkqhbXqTk/njEpcYQZa/Pqd3bvhxTuTkuq/fWP75mjAx6dP2efPw0iptm+PNDbOPn8+4/hxDrdT8eJFcVgYa0N/2Yu5ucrXr0ED4GJnHD+uEUuvDjPWvKyXV8WLFzGurlH29thidigk5QvmxsZERkYCXV0waRQWCA0MaLnEpqYCXV3Yi6S9ewdLSuCGk/btS/LzU2zZgm9bnJ2Fv5eYm8d5eRWEhHBqOrUDcTqTcju7tMOHcy5cKH34MMHXN8bZGc8jtbKKsrfvSknJvXxZ5eXVl5dX8uBB2dOncM8CPb0miQSlMtXv3hXevg1SAdwgDoDY3JyMeNmTJ5HGxmisIeDxyJYJDQwUjo4DRUU4SPMTEyn79wv09IQGBsWhofJNm1IPHRIZGg4UFtZ//aravl1mY8NaOj6PB85AoKtLxeXtKlWjUNiuUolNTUsfPuSgnPwbN7rT0/vU6jgvr/qvX+HGNETu58/SjRuzgoLiduyQ29kBhvbm5qq2by++f1/h6IgQR2plJTIywumNdnIC31gQEpJz4QKWjhPcaJKmqwiAFJQc4xhlb98WE7O0sED93kECkaVm+53Njoxwsjn5N24I9fUxCgKBEfUbATtNMBroeWF6OmrzZsL3GF21srLSr1YDBBTfvw++l+V7ss6cUW3fDiTH3keAeLBE8xMT2efOqTw9WZvTLJVyPGXFixcJvr58Hu9XZ9mKipW1pfx5V67I7ewWZ2fnJyfx+uVPn5Y8eNARH89+G2ZXgFMpefAAb0rqd7gxoaEhJ1D5zx+E/jkXLsBIrpvPXllZGSwtZZ0x7l20szNrtTR9wYyNqdKMIHjNx4/sHJdGpvMJx5XAwPZkZuI8r2vPxaamP+vqcrRGs9Ot/w1FWCsrKxPd3XwdnfqvX8fb2xtFonV7oFBCkShiYnQnurtzr1wRm5vH79zZsXbK2K/ANzeXzqXS3Z1KeFlOO/PUqZKHD9OYDhJZQUEcV9QoFCocHTn0F5sdSdq3D8iUnpPol/qvX0vCw8l8UCqaEHSzTAYLCxu9pnvLalpC4eiYrDUdk9NXhI0wZn/+rHz1CnZkYWqKJG9kAiQbNwK6gjvqz89PO3Kk+v170kZWf/iQtipjiTQ1JY6d/XCqaZP9/KhDTfWHDyBmiRWo//oVElDIIGEHe7OzE3btIr6OncfQqlB0paXhAMAWIJ6mXSBeC1cR9F3t58+pBw+ue+1JF0pjmyG7ADomk8rCFKh1tDGi1Mqq9PFjtoS9KyUl/ejRRqEQrh1oPdrZeW58PM7bO8renviS2ZGR+J0784KDkbFOP3asICREbmdHKjahoeFUf3/mqVMSc/Oyp0+F+vpCAwOppSVMp0BXF0XqMhsbOksxrq5yOzugFghJyp89y7tyBXm4Zqm05sOHmk+f+nJzZ0dGIk1NZ0dG+Do6NauqCwARwJdoJyeFg0P2+fNSKytkFhN27Yo0MenLzW2Njo5ycBDq6YGOinZ2lllb83V0cNSnBwfHOzqIh0DSdGV5mTOXnvqQN/D5nLoA+GaRsTGbPpyfnCwICZkdGWENbu2nTypPT+x4yap/1fT+ZOApQXny4oV37rB1bqzLR3VWtJMTcCQUlLV//w3qtSg0FCAJNFX9169s0irWzY3NVhApTdch9fBhga4u3QWQfByWji1qxw9dFw6yXhwNGms+fGiRy2Hc6FJ0JCSUP3uGBhpI0LI8cMqBA0Pl5aUPHxJmZS1elL29zNo60sQEuERbfoF6IZGhodTKiqIppF053fI5n+nBQbJpQG9IkM8MD1MurPD27db1BtgU3LrFodk45LnS3X1hejrZ35+FyxRAa4j6VfkqfhG1eXMUkwCNcnAg7IXo+Ud19XhHx+/ggAcKC6vevmU1PtpzJen+gE/Ajsatbe+8hiNdjX7AK9IM83U3qYlRgZLagnjU2G3bWNEytSQsDAlhb0L9168tcnlKQEBBSAhbe4djB6fSl5uLcYFzo6PaJVXIFLYplSItHlVsZgZxDdtplj6s6IwEa2wuCuvJmfXLyb4MlZVFmpgA8xI72pebS1+OI85CDdbwNYlEZEBXmBns7LQosoCI4wkwcbCFdn87kbFx0r598+Pj64oe1y2jhO/MPHlycXY2xsVFbmcHO5j4xx/UbZTyrKBwtU9djIsL2Eg8OZ/HK7x9u1EoxN8sDg0V6OmpPD0pywUGharmiu/fJ8YCxuVnff1QRQWNsgevBWdZ8uABVpivo4M/zb18ebyjA9kTma2tytNTbGYG8gabUvX2bdXbt5knT5K75fN40C5QATewQtaZM2ARIXbFKco+d06or5956tRQWRleEP8qcfdu4uXoFuAeNUVGdiQkdKel1X//TuFj5atXwBAqT09MICbJwlBZmWLLFizvzPCwyNAQndGGKyvpXLHHgE2+YMXgiWkeBtxzzoULCbt2LS8u0lHJuXChfJVLULq5kWKfkoi47KQrnOrvZ+FUgq+v0t0dPwIrTNNnV1bVlL1Mgy029biydhYIi30lGzcuLy11p6XRyW9TKn81DNDXp/+SHgITHtcEjqsgb7S5Gc+WfuzYWGsr/iE2SH3tGhAhUUesRJwKnETGxmMtLYMlJdqSLvwU7THAnM6O0DfgrWNdXVlskRIQwNo0mbX13OjoQGGhzMYGyG+4shL4Cf5Vu2ll6qFDAHagKv8t18vKGkgrgH8CTmtlbdtBKm7OPnuWr6ND5oIj2Cb0UP3+PWtniGDjhF7IvPwmEXCbUrlugxJa9PRjx6YHB8GBsGNc21Uq9bVruMO5ly7huvbn5+PvwNxwFppsX15wMPrNUooF2Zfyp0/RjJuFbziaU319CLZaoqLifX2xT93p6WyLDMih8UdgYhHBACCLzcwKb98Wm5qCP4dvrvvyhdVbTnR20oUEuwVpBmQC85OTdM6grPnlqIyMgExZFTdZKE5YDNBd+/ffcTt2IM6mZ2j9lzmJ6uvX4b2ohUJvVpbczk5sZoaVhAWMdnLqSEjgzMFempvrzclBW1fKjcGFg2sVGRlN9vbiBibu2YPjLrW0jPP2FhkZxbq5sWFBq0JBRCL4vYbv30myx9fRKbp3j5OwYMF1q0Ih1NdPPXy4+v17cObF9+9rup0YG0OPBhvEdgZgK6HR9xF3laC9QFeXcqWklZvs6RHo6kLqydfR0Z6vnuTnJ7ezI1/SKBBEOzvDBUrMzTOOHfvV0nxuDs+mGdRoZ0cBPQIjUuoSYlsT6G/aRJYF3SUTfH1ltrYAEGIzs9RDh9gwsXTVcsW6uaHfCK5VS1QU7hTbJXi4qgqeIysoCFAs2d+fzqHQwCD/5k3aQc4MUKoMnOzpwYvE+/jABWIxySuz6UYKjLrS0nIvXUJ9PGmhMSERxhqnLm6thBDMExsIzk9Ozo2P07HpU6vbYmKo9WlXamoDn090PZaXw1qzQfPK2tZ4xOXQbjZFRkIxwDmc421t4HtYw1Xx8iXBwWgnJ1xYjg/TTktpV7XiqKAwhO2tSJzHMJMtyj53bt3SncLbt2kr2X5k2JRGkYgNCfry8qSWluK1GvWsM2eKw8LY6d0skUawiaIIwkPpR4+WPHig6Y5y8CAUPHDVFHuAwONMNOIMMx4sKenJyor38SHuQcDjsc8Tv3NnxcuXUktLasCwwrQZAHGicHT8TRzwwvT0zNAQXf7F2Vma0UbFA315eZxF5Jj4mrXVSlOMCo6mW3NkEb+O1J07yfv3kzqAkjSseKokPDztyBE2flJfv06cEqsXJRoTpBCkN/Vfvy4tLKDZBUJkwmJsz6CJri6iwdlutGyKK3HPHrDcUmtrsPE4c2ARcFipI4zS3X1pYeEHM/MOETZJJFgY+yuqXr143enpcnt7JEvKnz5VursDSUAG0qPVszrvyhWgcoWDg/raNYm5uXZfa6iyk/39QVRUvHgR6+bG9rSbGx/HTiExIzQwYGV3sFmKLVsoDcG2F2Zrw7QZlKygIBoV0JudrT3um+QtVe/e9eXloW9JR2IiPCJfR4elFrLPn8//8094NZGRUeWrVxDrxbq6Vr17hx/UIpNlnj6NGh6IgFqjo1HplHbkCF4Bh5yvoyOzscHyRm7YMNHVBYss37QJiB78sPrGDfiniufPcZCyz55FEMaSB2QEMfFXff062n7hO4UGBuXPngG95QUHdyYlxfv6diYntygU8Tt3Sq2ssIl8Ho+IAaWHB5JBNEkscc8ePo+HowhfW/nqVdnjx3SRUw4eZGOR+m/fhkpLEZNpumCunQKSfe5c7adPoKZj3dwWZ2cHS0qWl5cTdu3KOH4c+e/hykqVp6fC0REaKJmNzfzExML0dN5qz3MqaEzcs6c4NJSI5d6cHKGhYU1EREdCgtzObk3f+AcPVtaOxGkUiZL9/QnSwRf2Zmf35eXNjY83CAQCPT3EDGjV165SQcQk4PFw4IkIgSkrvn8fooqOxERKUbEcEmERUFMIx9m2aPh98nx8HZ1WhYLEVrmXL7fFxrIUK5sRT9y9e3poCF9CKbCBoqKMEyfI81EqhNVGJe7eTU1G25RKos0k5uZszABjsu7EgszTp7POnGlh0rqkWSPyAE1q2SwPK2v9z0pp6nIV5+2NyJ69oRrAV1dHKd5IExNsDfVR6EhIKH38uPr9e5ijyPX419aYmMQ9e3D+aWRFzoULX//3//6tcsAqL6+YrVsHS0pSVvOaEguLudWRJvE7dlBfJNj6sbY28sra03ZZFkW7WRUbCzZLJEl79/6sq+vJzARYq37/HidYoKtLKlNiITQ5MC3tUv3Xr1IrK/bEdKenrysRpDhgaX6eYAHsEeJd1i+uW6WDiE1oYDDR1aWNxON37pzs6an58AEPk7hnD8UriNgGS0vnJyfblEqc9eWlJdxt/NzO5GSWChObmoLBrnz1StP7cG0BqMTCgrQ52BF4WaWHB56TOvF2paQQncjxfyP19eXPnyPCzrlwoeL1azwYfGrKgQNRDg4aPzczE+/jA++VFhiYuHu3phWGiQkcBqBJs0wm0NMTGRkR/Y57jsz33NiYxNy84Natglu35HZ2xWFhZJQHiovZrnvg1ojAZFXu9d++RdnbY0xTSXh40b17tZ8/tyoUbEpFqK+fe+lSi1xe9tdf04ODeNScCxc6EhMFurqwQdpl1trT6/ry8iY6OlZWVubHx5ul0pIHDxJ27RLo6qYFBko2buTr6ACalD19ikCwLSYGbqkzOXl6YABCp86kJLiurtRUbfqXTS6CCMF0B8I9madONXz/rtiyJf/6dSSh2coc1nATtxm5YQNilMzTp2lVO5OTayIiFmZmMM1zqq8PJwqLw5IZK0zxJUI6YLU4b++84OCezMyaiAjWk0ktLXGP6HTNj4+DRqbBJEtzczJb29JHj6hVbZS9feGdO6i86M3JEejp5TFTTKAFq/vnn/H2dvwdVlch0NPDz9I0NGUouvqvX2FPiJAA45J+9CigPBA8MjWcJAiMTE9WFieDhhi9KTJSQ+BZW5OIAQos0HWEALQ/Yy0ttZ8/F4SEzI2P43JBsCnQ02PHLmlLLynVsrTa6pzy5SxtiwND8UPm6dNFd+9SmeX0wMDPujrq04IVqP/2reTBA4T+BKzX/bBib04AzWnvk+znR6xA8v797XFxLDOvnebTuJWrVwk20UNy0Pl/1jD9f+aAM06erP7wAYibA16Ix2PzBJRfwQkYqqiAnojV6XAZIRsbBBkd8fHQpuddu0Z0EMWCvTk5UZs3005Ac9EgFGrama51t7mXLlW+fo1gl5VP4zvZ7qNiMzO2oBmOEIcMPBj+S/Yi8/TpkYYGGmLKpjrghxDolD97BnMptbTklDkh5hbweFhACi7hyAV6ermXL1e+fFlw6xac5dLcHO5S0t69NNmpPz8fo+K0E/PsZevNzWV7f2o+y8usDot9/emhIZah4jiYhu/fUwICKKvKpuJYL4UgCWE6Z1YV+yl78oQihsW5uaK7d4m1Y2MF3FLwt7mXL/dmZyf4+haHhQl4PAjcqDuE0t29Pz+/JiICmGy4ogIBUNbp00p39+KwMDLoxeHhCb6+YjOzorXHMtrJSWphkX/zZuLu3ZSKi7K3TwsMrP7w4VeHbWfnf5OJRq2+L9i/ort30fe4/Nmzui9fftTU0KvhGyQWFvJNm4bKyhJ27cq5eLHy1Sulh0fh7dvtKlW7SpVx8iSJqrBiFJW2xsTknD9f+fKl2NQ0fm3WkGLc4vv3WfkogQaRsXHCrl1gBQFAK54/x+WlGZGAiXwdHSxy1tmz00ND421t0HmUPn7cLJN1p6dnnjrVnZYGrCDQ0wOXCzwHv05MWNXbtwIeT2JunnnqVNK+fUJ9fcqJknGofP1aYm6eHhi4ODODmwjwSkwb6czZqiF2fBlsPRgRTVnO2hFGYhMTTjgY6+pK5xDSsLK//prq6yt78qQgJETh4EDRavnTp0vz83lXrwp0dWm6JT49mZlomNMaHT1QVJTs7w+vySkRXEOzu7qmHDgw0dW1hgAzMuJUGWje0c4OoTyBJxSOR9nbI/k10dVFsXvCH39M9vSwjbpYcrFPK18u0NXNu3KFjjdyhYDvImNjGP+lhQWptTWOItAe27CI8yGltHzTJphfElWxtDksHkf+QqGOYssWga4u24iJCA+6BfAvrJaFPulHj57/H//j0a3bLwAAIABJREFUd4iAsQHgedaNFyd7e/OuXInR6l84PzkJnQulQrn6SR6vLTYWHqvwzp3FmRmlhwel9zvXNukuffSIdXucQZjr5ETXq47X/rCphXU/QJpQKFBCeqKzE+2Ukf1lH+z/+qE4b3poCOI9FpWDk2FTYjDZmnritSy9NqNL3pcN2lIPHap89arm40cyxxhABKQstbQUGhikHDhQ9eYNDXPtSExEZS1LBs6OjHSlpKzj0Vc1QfPj41iTkfp6CNThOIl9LQ4LK7p7l9JXfB6P5DNZQUEtcnl/fn5ecDAZzZH6ehw5TRq1sREOIM7Li9697MmTWDe34YqK/Js3K54/Z9lyJOkr37wZa2kRGRlNDw5KLS3zb97EOoDuq3r7NvPUqdRDhxDJZZ8/L+DxxGZmbP4PZlTp7p4SEPCjuppSj3lXr5JOBxBttLEx0sSExPMARnHe3jUfP6qDg+dGR6cHB6OdnIi+xt/hrDMqZKrevl2an087ckSor9+dlpZz4YJ806bhqqqJzs6EP/6ojoggqEQhJrRXOI3137/jFTQH+PnzjJMnsb8I+6Ls7dMOHybCYKqvDyq/xD17QMNknjq1MDXF9gQmFQV9EIVMdneDkkkJCIh2dq79+29WLFYcFsZmTJP9/QtCQrrS0lL2728Si6OdnFReXkThIoEnt7MjtES3I9nfH4Fj6ePHAHlQMImMjKrevWuLiYGQAknumo8fgeahAumIj0/Zv5+s+UBREWciHlUr9GRmrls7wH6Q0kYZevSWLQQBqaq1USSq+/KFIrzJnh64N7wLjlNbbCyiZKKyWVEVX0dntLm58M4dvo6OpoEajyfZuJGCddqIJD+/zqQkoaFh6qFD0F4QOlkzhvzDB3qAyA0bIjdsQEMhIIm0I0cogkRgwCFgCOtD9Y0wmm3XsyaLHBTEyblE2dkV3b3bIBCUhIdLLS0Hi4uzz58nGyVgWMkoe/vOpCSxqanMxgYgINLEhA7Dz7o6nGpqRKHNBMhsbKrevEny8/P5b//tt6KgV9a2RUSmCnhtZK1wY41d1uqHpb52Lf3oUUok0+XsLyjg6+igzgHwXOHgQB6Fo/4nvoXa8lH+A78/MzREcAH85PzEBO45pZPBzwxXVcFtJO3bB5In2tkZM1hYSrn04cOUAwcoOUG9ZjgogeMd8aOLw8IoSAUrSyxiX17eaFMT0CtC3omuLlAIrastn9Y1f9rTrZP27gWNM9LQQHiWDM1Ufz9eX+nh0adWc6gzpFhQUtmfnx/n7c0qSyueP4/fuZO9J+vOqEAapjs9HXeYwkTgjJpPn8hVxO3YAe+IV15eXATZzja7KQkPR/6vWSLBN8wMD8NasSImCIgQdYmMjPg8nlBff6ShQaivjy8v+PPPmoiI3EuXqGQOxqWBzycYJzI0lDLly+0qldDAAHEedWOGOWiRyye6uiiEqnj+XKCn1yAQ1Hz8WP/tG19HR2Ro+LOuLtLEJNbNDQB0qKwsbufORpEo/dixsZYWdKWPdXVNCwxMPXgw4/jxdpUKB09mYxOzdStRC63R0V0pKTSusVWhwB9JLCxit20Dcxvt7CzZuHFudLQvNxdKLuwybRYsLPL0UktLZB+QekBCMePECfXa1i7ItEVt3ox0ACQzcCcKBwdwuclr+4pP9fdHmppShTRCT7G5udTSEnvXqlAszs7WfvrEFviCTWH7GdG8d+KNJnt6AHyVbm4iY+PC27fldnbwslIrK1aiwbEnNRER6UePssxk1Zs35Czx17pSU+cnJmK2btU0yr57F0xpTURE1du3MVu3DldWolxVu2aSrfbB8Zvq7UWmLNnfH1wdrlWTRJISECAyNmZHPlCOs+L5c5xzTjM77Q+AKZ5EsnFjlL198f37Iw0NJFghNQZ8cItc/rO2ljNL+1e0rZVP5RSRi4yMgKtAUcjt7CilWLm2Y2XNx4+UveZEYvRs7IFB1mDdttv0ATQsYBqAs1lndF2k34Q1I2kR4OxvIsLSgKZV6oDtTlLx8mVfXl5JeDjZI4WjY1ZQkNjcXOXpSaWEpY8fc1qM4g5rzxJmCf3y1asF19seFzdcVQW3xynxhMof11igq1v15g2F0SiQhTwSMdlEV9dwVVWyvz8cJI4C5Dlw9pQ6/VFTw+lXB59Bpf3Y6Y6EBHijvKtX5Zs2oUXAymqbezoNYEvom9edwEgEO+idnqys1IMHNcOC8vKo31ujUNiTkQGH0SKXU2WU2MyMxYODJSWUq0ZGvPbz5+70dJhgai2LMcBUtq9wcMg+dw6ZqngfHyKahPr6FC1RwpWIONx8ob7+/MSExNxcamEBSFESHo5dJupMbGqae/kyDcGN8/Ym+wsfjDJcbQc/2dtLbSPbVSoitYCFcxkZQfa5c9QtdmFyMs7bG5pSDmHQlZIiNDCQ2dhknztH5xOREFBj0d27ko0blxYW5La2ko0ba//+u/D27YWZGbjkzFOnFmdn4318Ug4cwJMjoCl78qTq3bvqd+/4PF7Svn2IhuN37iT3352ePtHZKTY3Jx/J19FJ9vcnbjDK3r44NHRubKzsyZOajx9Hm5tFxsaIJ1hdPbYGbiDG1ZVlpwhMxLq5AWTIbG2pfJY8evrRozhyCGSbJBKxqWnFq1ds22HsrIba9fUd7+j4WVcH7yXU18dQ9NKHD+WbNrFzI1AsgEh6eWlpXVPbk5EhNjdnVf0IbgR6evG+vvk3b1a/fw9JP0LGglu3EDNRPqgvN7f82TOZjQ23oVtjY9lffyFcjjQ2phuNJJrS3T3SxGSytxfAgkSgWECQEzIbGyLGiZwoDg1tjYmZHhigEJnGe6wwgw4TfH1h+jQ8EyNCpA8SHHQAREZGsa6ufB6PrtvS3ByFFpxG8RxtM6420bA4IeB1OWz2aHMz/BlABh0YtsaazGBncvJ/FlhRCMHn8dhYBX69LTY2JSCA+MV2LfgiNjMj8BTv44OHAepqiozU7pH5b9N0JBYW7Ay6gaIiAka/ZyMO+qxbIwjjvrKyEuXggJwTuFM24iQ3E79zJ8u+9qvV8O4Aeu0qFUdpDGtb9uTJ9OAgRcawNWzCA0dQbmfHmfL9b5+etTOo/0PN1X/4xLq5TQ8O4qrjxRGMag+DWpMy3Lx5ZW0VPGoYWF6XtapgF1lCD1BmtKlpsLh4oLiYFWfFbN1Kq8Q65pQDB6gHTV5wMM24pvC99PFjdA3UzK07cULp7g5MQ0xU+dOnko0bhysqBHp6kLiv2xSaCGG0g2afgTNX6hecunFDqK8v1NeHmVN6eNDoJKmlZaNQGLO2aQBkgAiSikNDYfWKw8I4tfxjra1ZQUGphw4hKBGsnYyWe+VK1ObNCbt2NUkkQF109vg8HjXU/VFdDQGBUF+fz+Nphg08fpx15gx8QObp03QMaAHhMMDNwAfEuLjgj9BQGrCy+sMHPo+HYVByW1sCT0JDw8XZ2eqIiKWFBb6ODq2zlOkmJrO1hfuPdnZemJ4ebWqCAALWUGRkREmNyZ4eOj+gKOBpRMbGKQEBfWr1ZE9P/o0b6ceOIXvXmZAAy4i3IKlU4p49cd7egAUEymU2NiUPHlS8erXCNBkdqqiQb9rUrlLBFCTt20d/v4HPb4+LSwkIAPvN8jFslrfwzh0A1oyTJ7V7MWadOUNesDg8fEVr6C9HvLKm9c3ISE1EBGhVyjQvLSy0KZUFt26lHT7cnZ5OtapsoX+zVApYDzM4XFXFSQ+x/9ufn9+uUiHAxU/HeCWicCkUYTUTXSkpecHBUktLtvkUWU6QjgNFRXStREZGmoZ6GRkgDFhSJ27HDuna0SnRTk446mmBgUAhsdu2pR4+3CyTEURj2x6IjIwyT57sTktL+OMPqmphf8Q6whG1mlMdE79jB5/HUzg4wOMCKAh0dVvXHgAcZvazODenDQhwxhSOjtpLlHrw4O/ggKM2b56fmGDbOeHYIRqjUjYqfiBUgggsessW6hTDTrNiy5AQ3WrXw6xZzcOHKfUCq8E57sTaxfv4kDpOamFBNAunqEAzX2xVnyzQ0yt78gScXvL+/fS+bB+J/oICkqHC7kwPDLBxLXxes0zWwOdzgi2EFCpPT0Th3RkZ2uMzEVgL9PQIwXGGrsA3cxTjKk/PgeJiBJRwOQNFRWj6/8sSLS/3ZGXhcjYKhV1paYhcWWzEgl+Zre1AYWF7fPxQWRnsIBJ1K6t9UVhWHDP7cMOBD/KCg2kBK1+96khIKA4LI/I8ztsbtz35wAGW5a799GlNK5xViR9L9FFCsSkyMvfSpaS9eyM3bGhXqVhjrfTw4LxX5unTLI6pfvdOZmMT6+oq37RJaGAgWz1IHFFJTUSExMIi9eDBpYWFrDNnFmdmEv/4o+DWLZRp4l8BbsZu26ZwdMTSFYWGyu3sFI6OLXL5ZG/v9NCQUF//Z20tm+KF60VH5ZwLF6SWlsl+fgjXRMbG8T4+Uiur2k+fUvbvT/D1xa4tzs6CEsAxVnl6aoourK0Rsf2sr88+d05qaYkzQ2nF3CtXaiIicDD4OjoVL1+O1NdLrayKQkNl1tY/6+sRP7FgCDdxvL1d29Uhxm1TKgkElD99KjQwQMJotLl5bnz8R02NxjOtGvGUgweT9+8nziPK3l5ibi6ztQWHFO/jAzA0UFj4s7ZWbGpKI5UQJqq8vKLs7cG70rkSGhi0xcayxbJIYwM5cWog2bNBXpZ0BrkXLyJNk7hnD4wVncP6r19B9kx2d5OnUXl4LExPYxwWmjkLtCr71/XEFJywKapGobAkPBx0EVveo/2/2NOUAwf4PB5b1RmnRVxHbd4MYzve3p5y4MDS3BxhNeRE2L5RbJsEFtwDRGIL2MqCXzZNKzpaWVn52dCATmfssADiJzjdDuhP2ZJf7Q+JBymnTqECqbEklpYAMfge0E6/SQTMqpk4icOerCyYtornz0HxtyoUM8PD4O5oF9VMzYBAV5eUgbjGyH715uaSBRTo6rZGR687Y4TYEugt044cQfvApL17ZTY2rPKo4M8/le7ubHxMPpivo1Px/DkOENtJbqS+fmlujq2gR1yVtHdvv1oN2Ag72ygQlD54ANpTamU12tw8UFwc7eTEafxU8eJF6cOHs6OjsB1Cff26f/5p0QJrMhsbqoUf7+gA0Cb2pvbTJ7oAvbm5g6WlyCSVhIfXfPwoNDAg6xm7bRtBIrYKC7wTrBU8wcLUVN0//4iMjUkCzW2b7O6OCJ5tobXuB7Ag/+bN0aYmCjpnhob68vLSjx0DMBooLKS2U2AaZ3/+rHrzpuyvv8Tm5tqlgZQMnh4cFOjra5yKgwPOWO3ff5c9fkzdN5FzgklSeXqONjeXPHiAcsasoKCsoCDwydnnzlW/f1/+7BlCw2R/f9BceVevLkxPjzQ2RpqY4GTCeP0b/1bx4oVQX1/p7q50d6f4gCTTtZ8/51y4AFMrtbKSmJvLbW2xuQOFhT/r6tAhMvfy5f7CQrmt7Y/q6rK//pJv2gQ2D5ax7MkTAEdqfhTn7Q2B7lB5OUwkO78PJj4tMBDXrTc3l1pkkO3D+EVQo5C0kGNQursDqLXFxorNzAS6utnnzmUFBamvXYs0NY12dm4SixN8fSNNTDJPnVJfu4Yzk+zvX/nyJRlHrP9UXx81I1thBiMid6Bc5TyBxsB+xfv65jBCSLgZ5AU0UY5EAn5VQ3VYW4O6jN22rfTRI/Lr1KmUHVmPL2RVsrWfPuFlUa/PoUnYI83Watd9+UIQX3vKKn2K7t5Vbd9OLm2iq2u4sjIrKCjn0iUOpwrOo3st98bmOAU8Xsqq0KFQSxede+UKEVf/L5+soKBIExOcUjh7UFzxvr6Vb95QW4zqDx9Ip9mnVgvWviNHK6oJjRgsDhsitbKqiYgAMaC+do3TypDl7egDwBS3Y0f+zZvEHjWKRDgD7PSaic7OrtRUAH3qRknLyHng38QBs61wVlYreqm2RzuXuTA1RRoZtmsrWw8wNzqKmxaz3uz3udFRVjhAfClLz050dqqvXSOHp5mtpq/PORN41LTAQIGubl9eHsycQotk7kpNHW1qIjM6PzmJW9SRkDA9NJS0b19KQEBNRAS6igM3pB87VvflS9Xbt81SKafaslEopGOUfvQoTjw7TFfh5MQWA9CN1e5z2a9Wc7rGgA4lwmBudJTFsLGurmlHjjRLpdg1whxL8/NNYjHRQWmBgajjUnp4JOzaxY5rxcojfCEYWxwWln/jBqKxSBMTkaHhKEbPqtV5V6/Cg8JgoUYcCRulm1vFixdASEV37gwUFqIoK3bbNui88A8Jj1MkgTYC4CeggdQmSLpSUlIOHqSTJjE352AIiNTgs1MPHsTxo7X6WVvbJBZHrR2pyUrMQNrX/fMPm6SsePlS6e4e5eiYe+lS6sGDvbm54H6kVlYya2uZtTVS6STaxCtM9fVJrawwxkBma5t+9OjM8HCyv39vbi7hkmapNHLDhvqvX6mdKtBA/devRffutSmVMlvbzNOno52cCkJC4ry9cVRKHz+e+fGj5uNHlJ9ODwwMFBdPdHb2FxTUfflC1UG0O8vLy5BrNEVGqoODB4qKqEobvqr+2zcq2c+5eJFkdEVrZ4RQF/Tk/ftzL13iZCXJkUQ7Oyf7+4vNzak8dHpwEAeYNp0lJyigodQJiQyoWAXQSn3tGidVVPrw4Xh7O9CtNi/K2hOSJbICLlZzwNF7qry8pvr7kU9VurtTJ5/MkydFxsa4Ke0qVXFYGAxI/s2bqCn/RXoz96spMlJiYcGS5DiEUisreDj2H3LcFZiGylev6r99K75/H5KxdTXbMqY0iw0wYIg4ymFcIpJwpxw4gNTMup226DGS/f21SxbZ+i58bfb585rurZcuQQLSxMxgiFyvmCXr7FlO9VHu5cslDx7EurlFmpiMt7XJbW0RHpDFgMSE3TiBnt5vmANma0wVDg6UvMSJh9wDHCnuVemjR6Q9AaPFiVOJRFqYnl63mfB/+LBXVx0cjOCP+nLg0Pfn57NMDhIPNR8+NAqFORcvsgFr5unT2s2c22JjgaoEurqdSUnrdkCFgS7VEnuPtbYSj4o0UntcXGt0NAc701WZGxtrlsno5EWamjaJxVXv3tVERLAMPwf5JuzaxdGZC3R1s1elpJxJwPS+CX/8AVYcdge2niWmuEv95AkhMC6t5+6O72GnXMT7+vLXNrYkDaRAT4/VQ7L1lHI7O1zatpiYmogIPo9Hpid6tbCHc9XH2tqGq6qohB9XfaisDACoIyGBGo+vrKyMtbRINm7ELlc8f94oEiX5+YGzEhkZadiaa9fAskz196O5NDD4j5oaWHw2WRVpYoJQRmJhMd7RAS4nZutWGGI2VY/DKTYzk1lbI30DMKRwdKx89UpqaUlQNdLUFKQrXbexlpbOpCSBru7Mat9gCqHIY+EegZorundvbmws7ciRqjdv1Nevy+3sBoqK2lUqqZXVcGUlXDWdOpGBQey2bSONjShE6UhMhEoZQ5CmBwczTpxQeXpCWwDTWfLwITuqIf34cWSRm8Ri4GnFli2RGzYQ6y61sip99AhZG6xMZ0oKSJ0kPz+gZ4GeHp2E7HPnlG5uaBGKXOBkd3dfXh6ab8xPTorNzJaXl4mbAcFT/+1b0t69madPE6nDXnw0Bqf/Tdy9m9NcRWZjQ7O6m6XSonv3SD5NRWWcNBZHgJ3EnGpW/UQCgqygIJGR0VB5ebyPT0FICGHH1EOHOCm8JrG4XaXCgUSIH2liApQMSIf+YtrhOwnHqC9C5evXJYzsnF0BzQU8eVJmbV3211/oNVb66BG43NJHjya6uiKNjWNcXMD8px0+TIkk9t2XFxdpvi9K2IlPZpNobPfZf8sRcPLcecHBAJr095ERyAoKWreRJ8kRBoqKJru7fwcHDDMn0NPjJMlHm5sxT6M/P58zzw4BInDZaHNz+tGjCgcHKcOYsSmQlZWVKDs7rKZAV5fsNVijnIsXsaDpR49yEnva2kIOn5Nz8SKrtohxceGccraugNweJfPnRkcB9DiwgAasooyKYkrgVmBM1ugjH0b9wn4lrffvhw1C8q9FLh9ra2P/IU45kDVHr8SyOpQgIHAgt7OT2diQ6yI7CGqOXQT0qiQnjbmTnH2EI4EtQMKbJRj4PJ7QwGCksXGyt5eALZ/Hq/7wgRAJhdHzExOJu3fDELfFxIiMjEiEQuVAfWp1s0yGNcG1F/B4c2NjjSKR1MoKLy6zti59/Dhm69YkPz+U5OLvpx48GOvqymJwTqdxUttB2QtrknPpUvX791GbN0M60CgUgnJoEAg0Qw+ZIhkBj9eRmJhy4AA8fb9a3SyTVbx4gbg/7+rV6vfvmyIjZ378SPb31+jC7t/Hls2OjIiMjQHSZTY2M0NDDd+/N4nFE52dMmvr1ujonIsXoXLAFLxoFxf1tWu0fROdnUp3d47lyj57NtLEJNrZGYMO2Yb7iEqxiU2RkSkHDow0NCTu2TNcVVUcGkqh7czQEHaBxuOIDA2hWSXKqkkq7UhMhJFlB34g9V7x8iXi/oGiosQ9e1IPHmyWSqf6+nBTwCLOT06ONjdH2duz0ofR5mY85MLUlHCVvWC3jOhQDrVIquAEX1+2lgYvVf7smUbtvJpx5GT3EWhSwMfiGOCDpL175ycnQdqToKRVoSgKDUU4Ufn6dUFIiMjQsDs9ndLSGCkPdQsiE7ZXOZkI8s1F640NJpoX7wjIJTQwWFztxvMrLF4rEPm3D2ajUXUfW+mEDF3Tv8wEZFUm9Ov5VTsGFoGEioV37rTHxUEiw8pf0KSILRfOOnMGm47XwXXgtHz4WVvL6RRGtBBnSdXXr7P1NSJDQ3bq1G/RCWsVliLIANBGRmGFEToiGwqSIS0wELeII+Kg2hXK6vep1SyPBHu3MDkpt7MD7sP+yaytWbdR/vQppwxJZGREpEr506cxLi7rKnJ/Oe9VQoz8PWWCKYGEkjj6WtYEULFgZ3IyEsmsUKjg1i3oVxHnsVxQs1RK38M2awVyxJkGl8D50591dVlnzlAmmHh7uBB4CPy3JDx8qq9P5emJwiqWoEsLDMRNIPl6TUTESGNjemBg0r59HEJPoKtLgCba2TnWzQ1bgKhCsZa5pZ811d+fe+kSZSXofk719XWlpOD25t+4QRX62KbaT5/G29pSDhzAoSIUj1WFcRcZGvJ5PI5EnIrEREZGaYGBcTt2ADM1SyTgCTJOnKCjIjI0RKPB3pyceB8fPo+3srzcKBTCvkTZ2+P0QnmA3cdzRjs5KT084HiQa5Bv2pQXHFwTEUFamPa4uNJHj0SGhrCqWUFBCNcKb99Gg2g2y1D94YPYzExiYcHX0WmKjMy7ckVmbY2fXhIeDuAitbTE4mDeF7UgTjlwINrZOcbFJSsoSH39OhCb0MCA/HR3ejorSVtZLamSbNzYlZICfBnt5DRYWlrx4gVdE4WjI7WHwyLHeXsL9PSIuYU/QB5UbGa2MDUVZW8/0tAw3t4us7XF9YER+FW9Y2DAEe8UhYbGbtvGeTyOkqj8+XMY6PGODpiRBF/fvOBgsamp9sg8QsMs1G6SSODGMk+ehNWijADlbtIDAzmtg4msAq2aceIEkkRk3zHLUjuztrKyMlhaSn462c8PEj/OWW2JipKYm4NqGq6qogCO7afI5lAaRaL8GzfYLlGIgKMcHHDGaA4u1B6Ft2+zJWorawcg/tLQrPLV7XFxrHKYtDUEr9uUSpWnJ5/Hq373bnlxEcl+7YQu5kn/B2UW6RgKQkKUa/s4wa1KLSwASjidFajjAmuocQ4JxGhXgbNCpQf/63/9DhQ0gSY6K4OlpSyfILOx4VSScUKfn7W15U+f0olcXloihQVat0BdiZZvIJG0O5BR8R9LvBSEhFA2RenhgTPKUQ+y/AwMCmenKb9FpBM8ivZMLhZ948ljXFwIlBFq49AjhbdvUzk5TtLM0FCyn59AV5fzN9nifboGLO7T9EBgekASmGBDk7p//qEkPRkpcBi0XOCy4BjI+nTEx68JgrWUJhSLs82ZNT7+8WP27yNVJrezSz10iCxL3I4dzTIZBCDaZoKya/DlJL5olkpnR0YgGsBSEPEAC5t68GDSvn1oDiCzsck8eRJePyUggAUi+AaSBI42NQFIxe/cmeTnJzE3R8wUuWFDxcuXbD4pcsMGahAh4PGaJZKK589H6uvhNiJNTXEdFmdm5sbGwL/Fr7LQFH4BTyg9PEofPozcsIGvo6N0d5/9+RPIKe/q1bQjR3AA+gsKJGZmpGTGsgxXViJQQ8yH+i7i+lIOHqz/+jVx9+7UgwfhDpP27hUaGGSdPk1tk6M2bx4sLi776y8+j6d0d2cTAWzVh6YphKdn8oEDWGE0dRIZGo63tcW4uuZcuCA2M1N6eOAwo58and7yZ88EurpUfsbmDtICA1MCArS76YFmlNvZsaEqbCv1mMMlRbp0oKgIvMKPqqqhioraz5+nBwaoTwhuGXz/YEkJomFyThBvKj08aHnp3eu+fBmuqFhZLVsS8HjgG8ZaWgCPyNxPMkUcJPZeWav/murvJ9wGo1QUGkqkAqeRBSFdPFu0szM2EWiA/hWwi9DAAD6YZKoABLlXrqQdOYJ1wMGIsrdnFUwxzF5ozwldV1ZWcOtWyoEDxI5M9ffHbtvGdg9k0//q69djtFJFpJIbKiuDF5/q758eHKSj25OVBcmI2NSU7ia4HM7M7zVx+doOoytanXF/kwi4NTq6T62uiYjA2rFpeU4Pz+zz5xsEgvRjx4ru3WsSi2GpOe1yIk1Mkv391deuNfD5jUKhSqvh4r99gLxY18tWsLCHjIVLmadP0+1C3ojztYgFkQfljOFEdIViA7wLQgTtbV5DcjL97VhuZ932jd0ZGfB29KO1JWl050HSigwNQdfgB6k8PSmXA1QLg9WVkkJhLqiqnAsXoKUkc1x45w7wCmt8cbXifXxYs9Lw/bvG+R0+zPZDWOtYAAAgAElEQVSt7S8oYK8ideaC7cD/YuMoC5V/4wYxuj9qatjOO60KhUBPT25ri0zEWGsrMVezIyMw7hgcJDQ0HGloIICsDg6mS06vg+MqtbTMPHUqcsOGRqGwKzUVBo5dMRbr/Kyra1epMk6cwM+llae+EwI9PaGhYYyLS/b58zIbG6G+fryPT1tMTMKuXfJNm6iUEzOdSh8+zDh+PNbdPdbNDSin/OlTlZeXwsEBnrj282elu7tAV7czMRGHTaCri1vAckXwB6PNzTSmBkiUflzm6dNtsbG9OTkSCwvSW6ysrEwPDPysrc04cQLvi++cGxtjxxisrCdt7UxKoqQS22aOKq3pQiXt2dORmNibk5N15kxPZmajQKDcvr3uy5fi0NCaiIjShw8FenpEnFKmIy0wEOmblIAAqaXlSGMjEhmxbm5oPQ2vA1PDKUJbYSrLV5iZKIm7dxfcukVpso6EBLZvA5xu/M6dzVJpkp+f0MAAtyNux47cK1eaZTJcasKCsW5uCAbo3CKFNFhS8qOmpr+gQLFlS+KePShG6EhIGCwpST18GCXIQOHED0O3mH70KO6a+vp1Tpwa4+LCQucmkUjl6UnpYe04BJyc0sODlcVxpB4EcYru3m2Pj6egNuf8efayw4cReUBXnpLr8KYcqrz86VOSvkNzgPsev2MHvgFBApIy+HKhgQHiYACsVoVCu60YWwDNNkQC4Mav0UCJA+A0ygxGKdmXl4dUzm/biAO2L+fChYHiYlZAS0TuVF9fcWgoNYXIOnOG6Gjtpc//88/FVRD9bxMJqfg1+9y5+YkJNv5WODrOM104lubmZn78oFNeEBIi2bixJSqKXIXMxiYlIIAdJaYds9KR1R5JtrSwgLApad8+CrXblUqcMD6Px3ajpBCzNTo62d9fHRycfvz4wtTUrwZby8stcvlIQ4PSw4PyxEJ9fcRwNINhqKyMOEzWNZJs5NdqbNlCRhN9hSrfvCl7/DjSxITekc0Uzvz4gZeVWFiQ3cdxhwf6WVc3VF4uMjLCX6OAm1JfecHBcGPzk5Mzw8NgCNhMHrXfK1w1GRXPn7MZOGp00J+fP9bSgtAcQL7w9m1ttUVXampaYCCNHJ4dGYn39Y11deXMGObr6Cg9PLDUBICAimB/u1JTIZAB2S7g8Tg1kQoHh5yLF5P378dxAloS6uuPNjUV3rlT/uxZzcf/0953h1WdZmlSVd09sz2z073dsz1pe3pCd88sOQkIJjCCmDEHMBYmDJgtyhIpU5lLy2yZLvde7iXnnHOUDBIEiRIFEVTk7h8vHD9+F93ZfTaMznmffvqh9Hr5he874T3vOd+twJkzS27dIgFawfnzAdOmDQ4MyPT0GpOSyh8+7KqshD1VT5iQf/Zs4PTp4YsXP8vNjXd1hYoQ9q5CJkNS8qavryk5OWOEMim7d6/K1zfDw6P8/v2c48ex9vBw1NbWKGYHzpz5LC+v5PbttP37Zbq6WOqwmyU3b4odmbS8G5OSyJDFbdjQVVGBHVH4/ffl9+9DbYeITTth1T5Ypa+pSRyQJ4Y4kmiyNjiYnpXCxISawWgl53z7LYqIT2NiMr76qvTOHawfNCmQ6hWTziS/CNFh+cOHbQUFuGuFiclwZjxS9XjT14cTJ+Ha47/8UjluXLCjY+mPP4Y7ORVdvYqsQKS7SXtIOaJ4LNWo59Dc/CQ0NGnHjswjR4h+j1q1KtzJSfS7khhIG94GBgj9SRf58tkzUeT4PmR988271jUho0D9qKe2FuunraAgbrSeVOzGDHJw0B6SQyrxrKNH2wsL375+rdKS9RCR5j91qqiceEd3jRSnqAdEMtIfdx0yb157UREiMHG8mr/WyS5gm8UTR/zt7F6/eIHf/uk4YAQUqKt1lJQETJ8OLgjhHg41o0OBXjQ00FzDMbmOD0gPxCNIxc6B1qys4uvXK7y9xzxQNu/0adgycmwVMplMV1dpbk4veMwzRpAZQBZL3agqKyuaU93b0CD5jTWBgRCSIGr2t7ND6UumZb5xO/gY9SnlHD9efP067D4+j5XtbWCQc/w4OkCe19aKpzvknz1bKZfXR0eLTks84pCWtXavDhGniGwiliyhJhOUS4kIgtP1NjSsCQzUHkOjHYyLybrKyipi6VKUFRqTksQKPdms9x0mOvT27Zglg5zjx4dPnNTT63782G/SpORdu0JGeCekzhCnaDSaEEfHJ2FhlE9XKhQ+I11JxI7IdHWfxsTgNvs7OmTCFEDJkU0gV7Bg1BMm4KkqTE2T3Nz8bW1jXFwGuroily/va2qqCQgQz2xAwB6xdGm4kxPUYT4WFlQnDnZwQFziY2GBU5zlhoblDx4ozczAamCR4C0rx42rCw+nC1NbW6vGj1eNH48NAruT7eUFWZnCyCjL0xO6gWd5eXJjY4REEUuXDnR35546lbpnj/jKYtauRd5A1CLWSbyrq0TaIwagKe7uoqojfPFifzs7VCKRbmLXq6ys6IVW+/mFzJnzoqEBYqLwxYvB8ZbcuoUFGTx7Nn24u7ra39bWx9KSBlKK+prep0/JSjwJDQUfgFdMEp66yEht1yiWh98H1GtEDhZScCp7lY4+zrzt0SMYHEg6UIDDTidxNZ42FO9xo1uTyUa96u5GRJi6b1/7o0fqCRO6KirEXoOWzMyye/cGurpE2XmGh8dwr/D7WUM4WnHwxUBnJ1YFTlpEIUNpbo6FKg4nEGWnL1tbJeKvl8+eJe/aRR4aZ4YOl0gETpRUOz7jxolPrzk1lYpiYubTnJ5Ou5u6tuqjo+noWzAfEnHMB5Di7u7+aZyGpBlR2IojScWRh+9c5o8/YlkEzpzpO2mSGPQRiUfsCiVJcRs3Yk1I8iH6GDXGxa5fj5dXcOFCR0nJmL1uIKa0+4UQWw2Hz7m5Ke7ug/39tKxLf/wxes2aBFfXjuLiwsuXszw9FSYm0c7OH5iGWh8d3VlW9q5p0t2d2Fpk+aL2ryYgAKufUjFqeRrz+D86O7Pw8mXKYB4rlTJdXWJ6xT1JDAGl0dV+fiRfBG2IuAHRd8SyZa8FYXZ9TIxYUhJ1j5UKBQxrTUCAZF5g3MaNkvS09+nTLE/PaGfn2pAQsUKcd/q0j6UlRABB9vZIQMlPv2hokBsZ+VhY0IQW+rfI5h8rlfXR0T4WFgpj46cxMUSiNMTHh86f31NXV/rjj+Q5knfvlhsbIz/uLCujN5jl6UnK+dT9++VGRjJd3ejVq2NcXKi9x3/q1Ib4+ITNm5Pc3ETDTfkiTMOLxkaZrq7axmb4sFU9PSxFHwsLCsLK7t5Vmpl56+vHbdwIY40pquT2xCKW78SJMl1dCTkpmU9C0RVcl9LMrPfpU6wBbBk6oyls4cKWzExvff3QefOoRS3JzU2mq5uweTNVRpJ37QpbuBAiA+IzXjQ2DnR1IR/1sbBQmpmBL8n85hvxCGTymhR/IPqp9vMLXbCgKSXFb/JkyZgqcdJIX1OT0tRUuz2mp65OIh2ihxC7fj2FwjEuLr319fCaqvHjh1/NuHFgMpSmpmGLFlUHBmpGxJ5wjRUjGYKkQU67SPTYx6clI4PqGkpTU+1Jh9Lk/uxZhbGxOBdPJIEkp0fnnz1bcPEi3h29DoR9wVpFKFi8+E2bKA5I3rUr85tvYlxcsOtrg4Of5eW9yz5tbYm+ilq1KmHr1tix3D+2drC9vUajKb5xQ3K2rkbonpKMEGkXilAiGdBWUCAWLLTz41FWfWSDJ2zZ0piQUB0QEOPi0pafX3jlSmdZmXJE2f68trZKpZIbG5c/fEi1P+3jC7sfP8ZuAm/xqrsbueL1f/mXT8EBi2o08FQIY2lAhBjRaNfwpQGppSVIBrHyMapObGqasns3CCK/KVMiRh/0qxEmupGWCu4WDGFdRETh5ctPY2LEvIoIKElfyjtfsmFDW36+wtg42NHx7Zs3RJY+9vEhIbTS3Nx34sSs0RMJOsvLMzw8gh0clGZmuadOSfIh3CxaqtAkWhscXHDhgnZPlJiG1oaEIKVQmpvDtkLsg6g/y9MzauXKwBkzEP+KjDfxSGIM21FSgnohVcVS3N3hfRO3by+9fRuxcHNamsrSsik19dXz5yJ51V5YCMeMY2SS3NyKb9zwNjCA4Si5eTP98GF4xIStW+M2bQpbuDB69eqolStj160j2j/e1bUpJUWcNgfGUmVlJTcyUpiadpSUqMaP766qCpwxI3H79iB7e1wzUkClmRkSC8om0w8dIh0WeMgnoaGUL+JP8A1xmzYpjI1zvv2WshmYp4Dp01WWlrDd5Q8eYLVA7kGHD75LRNLTwbDBiJOUPXX//mp///qYmLQDB9IPHyYJSfSaNQmbNyvNzdXW1iFz5uDzdeHhIXPnKkxN411d0w4c8DY0hNQZjWSFV640p6dDUwYWUW1tHbFsGTy6wtgYPrLg4sXIFSvUNjZp+/erra0RxkHPNVxLG+3FRe5HaW5eIZOhZtSQkCASFag+yI2MKMj21tcvvnEDoZu/ra3SxMRn3LiOkpL4ET1g6t69FBkjpEBs3ZSURCXAMXkUMWgb6OqCGan292/Lzx9zEgCic9Exwx2i3wyZgNzIqFIYd6UwMck/dy7JzQ32R6ari5MoRWKJfpeYNHeWlibv3g3f3JqVJTa9IEojESVslNjzhlc25oDGvuZmpbk5surakJAge3vy96KFRGQw5pGvT8LCim/cEJnhcCcnOp2lOS0NAhd8Laxc7unTCJ3xol80NsauWwdTqd3CJKooxEoTcuW+lhaFiUnitm2iaif31Kn4zZtlenpxGzYQQQ3XQDpkumBRbKG2tqaVEzJ3LsUc1f7+73rhtNjED6C9sLA1JweWRCM0ZUz65S8/egessrKiAq1Ga+bzsCxTa37T8MOdMydx27ae2lrxRLCncXHoCsDK87G0FI/ogookYNo0GsNGgdhw+fDSpWE9joEBOWNJrP0+tGRmQrMHZUS4kxPVET+A9EOH6KSH3JMnU/bsIfurNDcPX7JE+8z559XV4h+KwSAimJqAAHEpI3QQZSNgmH0nTMD34Fn529p2V1WJujaluXldeDisgGr8+KQdO/zt7FL27Hnd26ut53p08WLO8eNwlpErV4LpEoXHeNTQfsOOIMlI278f1xaxbBlZ86cjB1PmnTlTKZdjB8LFIppuzcqq8vVFsYcGg6AiEDp/fltBAaj71qysoFmzVOPHE10GTykJyYNnzyZCktTpeG7hTk7Bs2fjQcGao3cOWSlm6Ejq5Xj4kthOaW7+6NKlsrt3K+Vy5bhxahsbfzs7mZ4eKArRNzzLzfXW18fioYM4aVVErViBKA33/qq7u7e+vjk9XWlu3vv0KSaX1QQEZHh41AYHo3xAnJuoGVZZWWmGhuI2baLEnbpfHn3//bO8PMqJ5cbGaDyrDQlBCOg7cSJtW387O1DQpCaNcXEhuh7OPnj2bGRpsOAvmpoyv/4ab7Pazw/JWeDMmY1JSb6TJr16/rwxKQkPpK2gAPk9DZ8KW7SIYqO68HCa0xTj7IxrQ2BUExiY4eEh9rMVjHZm2sUmv8mT4RF9J06MdnbGC5UbGqbs2SORdIilK79Jk57GxiJOLbl5M3L5coWJCWKsga6umsBAuoa3b96g1ibKJxO3b0d0Unb3LsY2SWpqROnlHD+O0uPb169Fchj+Tyyy4mvFUbuRy5eLjAj5LewXbI2AqVPJtaisrGD0XnV3S3wn3mZ7YSFSYaKL3g3BHum7e3TxotigReUJHIUixrKq8eObkpO1Tyii3JeInProaElTLzWAEDlPgThxEtnHjiGxbkpOFk8RfqxUph869Pb166SdO0FvaIvyiE0UfTbe6d3//t8/egdMNC/NU/WdNElUIIsnAYfMnSuSLfQmgh0csr28qNEQEvy8774rvn69v719WC4xcnS5uChV48e/r988yN4+7eBB6G6Kr1+H9C7Y0RFJZPiSJS/b2jRa8zqSduwgUd/zmpq0Awfg/qNWrep58oTWPSXZMl1dIsFQyCm+cSPI3r5KpZJIfsagkR0diRUhfyw+H6IWKry9fSdNEjdtbWCgyIlJ7oII9uDZs0kICkJPZWWFIIlEENpCLfpzbDPJYWchc+e+aGp6GhODLdGWnw8DFOzoiHgL1ylphRQRvWbNm5cvUcKvDQqi4Dds4UIxDRVDN7pIOAkyFkQgw76HL15M+7ngwgXqmELapzQ399bXB0+AbAM6jtR9+yjrwifx6yDyDLK3B4Xz9vVrotfqIiKq1GpaD6gmIHrrqqhI3bsXJ8nUBASELVr0WKWSGxqm7tuHZ17x8GFLZiZV3xvi4gZfvUrdty9x+3bEjo9VqtI7d0SKuzktDYsBq5GebeDMmbiF9qKiyOXLJQli7smTJOwnYVT8l1/6WFqGzJ3bWVrqb2sr09UtuX1bYWoaMG0aGdDGxETUU4MdHBCohcyZU3b3LlFZXZWVxdev5548CccmiVQQnOFNQfeksrJSmpn529khEQ+YPv1layso1oilS0Pnz0cBSJwk35iU5G1ggHxaaW4evWoV6qbiLiA3UHb3bkdxseQy8KxEAc6YyhKxQzL31CkaEfVUONpcLMSILlD8tyDPxySu4AtByJEUBhwPJAht+flw+c2pqdleXtFr1kjkGmA+xDJZ+YMHr3t7Bzo68BBePnuGGBf2BDSGRJaBYSZQTog1OKWZ2ah+2dHNIJUKRcH582LnQoVMJg7KlaButH/VvOdocG08VqlC589HxKk9CYuYm9I7dyTD/qg5DRk/0h4Km14+eyYWa+qjosiJfAoirIglS8TeBn87OzwOSZv54MAAFmtLZibRCJKJrCToIJ0eDCXN+lDb2NB0SXEBYSnjxdO8iCq1OsjBIXzJEjint0KaLl6ewtT0sY+PWJsht6cwM8v28qKzJKv9/bVbjEDmpB04kLxrl5iLV8rleM1juuFnublhCxeSF+kVTlclChT7RKPV/iRO9qH4VJIdaoQxVaB5qQWZds6rnp766GiJzVJZWg6+eiU5IbG7shKbPOfEieGBt46OEsdcdvcuVZLERmFYpYGuLklyQJNrhsOOW7c0IyJGHE2RunevTFcX8XXOiROURjTExcl0dV91d4fMmUNiUXQfIU7C80FjCbLz4DlzqLKAucS1QUEBU6dK2gcLLlwgcbvITyhMTcErgoWW6epKku+IZcvCFi3CslGYmvpYWnZXV2tGGkI6y8pg3fwmT3504QJK6cUjmrvGpKSye/di161LdHPLPXWKtlJPXR1+C0jC3JMn88+eDXZ0LDh/HqV6LJ7ckycpfY9es6bwyhUY7pA5c/DK4jZsGOzvTz98uK+lJXXfvuc1NfTkxWpL8OzZ5ffv4/YDpk1TmpmhoJC6d68opBANHwXWbQUFNYGBCG2fhIaiGkI9u4gJnoSEVMrlYokBcq3SO3fqo6KqfH1xaKvPuHG0KSgSDZkzpzExMXr16me5ueLS8rG0zDt9GoUbelMJW7eKAgVthM6fPzQ4CDEmAsfckydleno9dXU9T56g8iI2bmiEXqbhxWZg0Fla+iQsjHp7so4effX8edujR1GrVinNzaNWrvQZN06ybVP27KkNCYFTx2+v8PbOPHIEhYO806dVlpbaxcth3rusLPf06SqViuQdxEunHz4M7y65ZhGSjJw8Wez69eX372NVjzmNUsJW+lhYhC9enLp/f21ISKVcTtGPytKS2kzSDx3C1svw8BCb5UDCIdpI3r0bkVZnaSnCBfG8AGqfG445RtqIUWKQnF0I/cGYguoxi/eiww5buPATUUGTIj/I3r7gwoXiGzfSDhzABqN8S1IqFmUFohKPos6gWbPE7giRhZboUxDpUL255PZt0pVo92KLdoR4aVFIRakt+miJBYpxcamLiKCyNPogxUIIPASFXWjCexIaStwXuWey8sS7SpwWEi9Sb4nHDY0a2j5SG4OHExWh0Lj5jBtHhExjYmLSjh14BYEzZ0IxKK5mMVgGuUfcFAnFETDJdHUrFYq4TZtIuY0HTnHSo4sXafayNmDZyZaJdRpRNUb1e4kGDc8TZh1/lbJnD0p3AdOm4SHTeHeJNlUzehqJwtQUmSutBJWVVcZXX+Glw/dTtw/4ump/f6WZWdymTTJdXd8JE4p++GG4/d3MDJlT8OzZGO9FulZcaoaHByzdk7AwVCUr5fK8777DdZbcuuVjYQHLKPZd5J87V3DuXPKuXWkHDmCEYYyLS7Wfn9LcvKO0FAsD3/Cmrw9Nrkozs9D581N27SLzRFabQiLiaZ9XV79+8YKGPT26dAnSM6xexLvoHItatSra2RlkqdhQhC0WuXy5OGBBciQaLDVNQoZnQn/Us9xceFz8IdlK1IDGPIFu6O3bnidPErZseXTp0rsas1YHTmNiIoLF0PnzlWZmWCGx69ejDJ/t5eU/dWq8qyvYUclJEvlnzypMTOg2xUiFAlaJ0dc+sOvRpUsdxcXaMyL8Jk8mC/ByZHpuwLRpeIB4Dglbt75vnMBgf39/WxuMKrXyq62tJcVmiQY2YNq0nidPuquqfCwtJSSTdjQs9u5LoJ4wQXuSxvDZsiO9i956euX370vKjlDjw0imHzxYcPEiMfli3+mz3NyXz56NObWJTOJTgYfQCJ1maQcPFt+4EbdxI4R1tSEhRT/8oLKyEr9NYWwcuXw5jVr7pPqAx+QZolatEmfs5Z87R1oJ5EaSyAtORWynAduDCKvk1i3qe3usVIo6DtokeSNfCBax5ObNhM2bydPknjypFOYEUcFMewQH+WaqQyDq7HnyBGaCBjFql3gzPDzwNLqrqih8jli6dMzDxTSj569KHgXWXMSSJTBYEogtv+LABO3J0u+My5kzCHRQv0T0U+3vHzRrFu0EhBeBM2dKDleA0QmZMyf/3DkYEaWpafrBg94GBmobmyQ3N4Ri4qWKLhYHA+N5dj9+TCsBv1c5bpxMT49G2b199ert69cI3mtDQqJWriTSAi6cQha6mGo/v7J792Aguioqwhcv9tbXD5w5M2DatMakJDwfSQ6R8+23j318Utzd0w8dCp49+91UFktLULtt+fmVCkXqgQPkDEjUFrlihWr8ePyT1uxsONrSO3fwA8xES0ZGmJMTsgS5sXHZ3buJW7eCjk5xd0/asSNy+fLcU6ciFi+Gv6FyMln/JDc3xD0UwCnNzORGRhKlIaqnciOjSoWiNSsLPi9lzx71+PGBQs3Md8IE34kTcWsIuV719OB3tWRkVDx8GL95s9+kSZqRKaFyIyOxHK4wNi65dStg+vTHPj59TU3gnCjBwhOmNVkXESHT0wNJ05iYODxY7T0ix/dBbmQk9gcOdHZipAZV5YfHcWvlf+AS/G1tM48cST98eFg7MnUqNnVtSAi8l+Tw7Cpf34QtWxri4kChg3fFikJ4FO7kVHLzJghSb339d/36I8GBpFiDZKvw8uVKhUJpato9wodr61LFXYMyJ6QAHSUlT2NiOoqLJecCqSwtY9etS3JzC1+0qL+jg06tJv8qxklyQ0PabiorqyqVSnKkUu6pU4VXrqBaPNDVRTkJ7rqzrAzJRtzGjWV370omAIqE5eueHgpNwHS+r0SI9ZB78mRnWRnkEVmennEbN9YEBmKDB9nbjzksU/znKXv3vi9S8bezQyIh4SCRoGODTP/Vrz7+GvBI558YmIAFkugtJUyOiFHDuHfsQARd9uOPeadPS5gcyob9pkx5dPGipIdPHN//PqDaR+z3o0uXKCsSk48x+4t8J0wQI02EmZJhzqJuC9KkhoQEPKXhE2wMDMTQPnD6dPgS/P9L4UiJxBEW2t/ODt9QfO1akL192v79jy5eHD7j5f59WNKwRYtgJTHTX4PRkkNDjYmJYgwonvECtidhy5biEbov2tk5buNGhbFxX0tLXUSEytISp8eTeJtKiSnu7iW3biGOwZaDWRdfOh5sTVAQ6nCU8acfPvwsNxcuBNRx7smT3vr6IhMV/+WX1f7+tHur/f2bkpPzz56N//JL34kT411diaoaLpPLZCjz5548mT56jgEGcWg0mv6Ojvxz50SBQuq+fUipkbL7jBsnMUxY1WobGwTvUStXIoBDATtm7Vp4HeTQCL1luroI+LDS4rds8Z0wAQ/qVU9PbUhI7qlTDQkJIoMXMH06FiQUSYEzZ0auWCE3NoZfqQkIQCNTwpYt3gYGMj09Cj1lIydxYWmlHTzoY2lJFjBhy5bAadMoUgmcORO6NswuyPbykunqhsybh6slpmF4SPWxY1QSBg2IwkRnebkkqyZRTIVMhusR4zZ8bW99PaVrofPmERlWfONGtLMz6Y+aUlNBsFep1f62thFLl8LD4Vlh44uST0q18YFRg/P09cVtXh8VpTQzI75anLDmY2lJxS9/Ozti7Aa6ul739ia5uZGTxsewYsWcuyklRW5s3JqVRVlgsXD86IvGxsjly5HTAzUBAQhVaVtJ8kWqAaXu21d09WrI3LnDBQ4TExgQ9IZ9AM9raiQ5sQjRKaa4u/vb2opnjkGd0JafT/o4MoaiRxQdPMWmdHxnpUJBRbR/O8RRhpRTgfspvnEDzzze1fVVd/eLhgZQpFScwnJN2rmz7O5diWyF1omkKP6JZMAp7u7F16/3NTUhMpX06VImJI6GEB9ElVqNHS5WN8XIWpTdg4PFehUnd0vae3CUXl14eJWvb+bRoxphBIcYnWnnu5RU0WQoHLIk7lhUhYeGhiQDIrKOHi2/fx+/CPeizQoMvnqFFFBuaJg6srGxG0VdA25ZaWZWdu9e3pkz7UVF/lOnJm7bBtaR9J/Do6EnTkQGX3ztWt7Zs2LI0pqTQ7Re8fXrlI+GODoOdHWJHUpwlkgRghwcSKArXjzNGRWjE/D5ciMjGIXk3btB/Cbt2JHh4aE0MwudN6/g/HnK2Ih/S927t7+tzVtfvzUnJ/vYMQiLguztsa9gEZTjxmCE/WMAACAASURBVFFpWWluHuTgMDQ01JiUhGxAcoJWz5MnClNTsfI0fADld9+pxo8PnDFDaWbWnJZGyylpxw6Zrm7YggXwpggdaEQ27FRzaip2OHk1ZHgo69I8GbmxsUQH521gAKOJkIVcjt/kyXD5DQkJWCTEf6osLf1HuqpEVlNhYpJz4oTcyAg7K2rFCtAA+I34MN6ITF9fHETw2MdnoKsr88gRHwuLmLVr6a01xMdT32rgzJmIjGOcneWGhiorq86ysvyzZxHwUfYpOSglbtMmCsWiVq1C0txTV4dApK+5GeHRY6WyytcXAgtUxLOOHs3w8KBIl6rpZOuf5eXlnz0bOGsWJoTD5VB/udzYWBxuhaVOe/91Tw+J6eRGRiVCAQL5Jey72tq6wtsbb6Hkxo0x1YJYhFDP4gm/aGpC2FH0ww80YETCRVF55fWLF1jnRVev4tUPj1ixtCy/f58q/WTiJBMzyH9naU0Hwtdi44sdSujFenTpUtm9e976+nSo1Jh8smKkJ5tMruRUDHqqCFnCFi3qqqiAJcRmkTQugzYDzy+S87Dz0c7OiJAkRAX0Oi+amsigjTldHxIWxJESD4rXBBYKFkbShazd5trb0ECb/RNxwAg9yBsRF4oICJadYkxyz/62tmTfm9PSUvfuxSJ+NNYU8jELQs9ra2PXr5cEj6jzv2xtfTJCqKJZW4yLsf8zvvpK4pU/AO/R5wpQVVthahq7fj2MQsSSJb319XEbN4qrM//cOXEyX/7ZsyDuiJkv+uGHwOnTIfOhdizayflnz1KIFzR6mGL2sWNQTuIx9re3dxOpO9I7pN0y2FleDoGuRqMJW7AA9RtsDPpFyFbB4dMBL0jHI5cvB8eAOkqSmxu9F1SSRFNSevs2yrqFgiIvfMkSDGikXo54V1dkUS+fPWuIj09ycwONVhMcDL6or6VFnHr2LvNIThabcUU6pOfJE7mRUXVAQPm9e/RvI5YtU5qZIThrycyk7ilY9ob4eFAaYOBBbaFc2pSSIuoJgmbNqvD2Vpqbv+ruLr5xA/mETE8vaNas4NmzE7Zu9Z04seTmzRR395KbN6EWHOzvHxwYaHv0KMjeHs4mbf9+b339kDlz/KZMSd65M2jWrLrIyMIrV/LPnq1UKnNPnZIbGvpNmdJZVuZtYACpTsmtW1jtckNDma4upQhqa2v0nqUdOKAdWSbv2jU0OCjT08Orkenp+U+dioWRdvAgvkSmp/fo++8VpqYlt2/HbdqkPVYCVKpMV1fslNXGi8ZGIlexnHqePsWWR7EjdP5834kTW7Oy/G1t0w8don6/4SHAgYHkzOrCw2PXrYtauVIcn64tB0EMUeHtrbSwQA4NKT4sbOmPP+aePBm9Zo0YMlImkOXp+by2VmRQNaOHBg+7ov378ZT6OzpAkFA5wN/ODun+4MAAlqK44yhPxefJKbYXFVWp1eUPHlR4e4uCxwqZjHTskStWiAWmVz09kskVeULxDocJ0tEOJIipCQgY6OwkhXPuqVMSKyo5pFxuZJS2fz/V1JJ3734SGtqcnv5MKBLDlWq3dUmPtlu+nCaZJGzd2llejgUgnileHx0tHl1aFxEh0ochoxU8idu2YeOA5yMm730DOCm4wfQPkV371DJgUTchAYT7WBAIJGn/kP0VpZWjfMCuXRTjEOUl4Zxj16+n6So4ME48L0XcDPhm9FT0NTVJKvkST19w4QI5EoraIBADA1YfHU26YupFoSCDuLvo1atxrIrkcG84MKpDIw7FncZt2kRRnsrSEm6AzAfVgbI8PcVjRqSLDxM5jh7N9vJSmJjQ06tSq2lkv/bDxMdElwZFq7e+vv/o4wXpkiTHRpXcvFmpUNDVdhQXi+Iy5B/Y3hJRumZoSFLk7m9vx+QEso8SRVWVry9I+KQdOxK3b5cbGuIDNQEBybt2IftBBoOP+dvZ0VcpTE3JyjSM6P4St24le6S2sZHp6dEYqa7KyqjVqxO3b+8oLi67d08UEDwJDwdp6W1ggGJE2MKFSnNzhYlJV0UF3lfqnj0YpoG32VlWlnX0aOq+fYVXrgTOnNkQH4811l1ZiXIjyQ6IdegsLxeZFdhZtY1N0bVrUatX550+Pdjf7zdlSsGFCy9bW9MOHPDW15fp6SGt8TYwAKuce+JE4ZUreM7q8eOJzxAPUAmePbu3oQEbtq2goPD774uuXfM2MEARIWLJEvhmiPvSDh6MXbfuRWNjya1bTampSlNTH0tL8ENIheG3QufP729vD3dyonIdSZmwH2NcXFAFfN3b21ZQ0FFSgtkXFMiqrKziN21qycgov38/dN48kVh60dAQNGuW6Ks0o1sk3nmISZPgC7OPHQNXXHb3rt/kye8oohs34DVT3N2lOrKRyaYiNYq5mJQBh8ydi0KAv60tXlBDQgLpChFzaEb0wBRMoPbRlp/vbWj4oqkJz6Ha17cpJUWi5Mg7c6YpOZnG/ohWtCklBQ88bNEiSq9RqO4sK4M5ktTmHo0eUUf3C1KB/GLcxo0SzwptwfCB2eHhfra2kkpthodHR0lJlVr9pq8PmQld88vWVniBsEWLPsCQj0mVvxMbCXO71NbW/W1tVVpnIIphwbPcXO0G5YQtWxSmpn/6+eefiANGkDVm3fRZXh7tt7AFC1L37lVZWqYfOkSe8k1fn7ijCi9fLrp2DZU27EDkxBHLlpUJ9FrEkiXvm6AGo1wfGdmcmpq2fz/NdEzctg2rk/reWnNyQLJB5IXrLLt7d2hwEEmkZKy8KHsW+We4Lkn3jkbo+dPQ6fH6+pQiiPIBMK74fiquSNSJVD/WTtyj16yB0RwlRu3rA40Jjw4DlHX0aLiTkxgPxm3a9KKxMdzJqbe+HuFtyNy52g34tIGj16yBNhhvMHXvXmwqhPnF16+TBBqhVei8eRjprBF06diTJPAWHwX4CRo+Ba/QVVGRdvDgQGfnYx+fYEfHloyMoqtXY9etU9vYBM6YkbBlS+poNQ1iixR3d7HPCn4IVwVuKnTePJqzA3flY2EhpkTvjnZfurQ+OlpuaIh3XXDhAi4PMUrcpk3Rzs5Bs2YhCIh2du558gS27O2bN76TJimMjWuDg5G/4s+Rbb95+RLP5Fl+vkajeRodrRlptZIcWS3T06v29/c2MCj84QfQDz4WFs2pqRUPH7YVFJCpinZ27n78uOD8eVTyhvn8rVsDRx+xTNaWdAnwc5nffIPVhaUYMns2beqwBQtqg4Ke5eUhCa6LjMSSwxQwIk7FXmQSPWFRiVM1JLYCB1egGPz2zRt8FaK02HXr0g8fzjlx4kVDQ+mdOyj0YnvGbdiQe/Jk3KZN2HrIn0Lnz8dNieN34EGhLCOa2sfCor+tTawc+9va5p48CfdDTB724/OaGgqjySwMDQ5KBgEh38DaGBwYkI+w6GJ1DPQ19csiGdDWgaI0IJZaQQtLTh+i7RY6IjWtkMniN22ivSaeBYdF7jdlCuXT3vr6dEiUGBZHr1kT7+oKBkjS1IDtr7axidu4kTZLhocH9ppERUFSmGe5uQUXLvS3t5NtAQVNDxMFewRw4tBKMal4Z/9H9jX90FtfX+Xrm+Lurj27F9lwR0kJFcLwn59OBlylVksWIlUiqRFeVMZTwSxm7VqYTjTm49mJcwbElDHzm2/EuCl23TqazyAObNKuT0hkI9QrQuUK+AOEn89yc/vb2oinakxMpJ0c4+KSd/q02DeVsGVLxLJlT0JD88+eFdtDq/z8xA5FjXBwqXiyvViigBNKP3wYM+0QItB3ItZGZA23OuYQ+Wp/f4w3kUjeolavzvL0hNyms7SUBLejgt8RS+Rva9vX3FylUlGs0NfSQu83cMYMGFmiofC+YF4LL19+7ONDMiiwcO9rcIT+Of3w4WhnZ1i9hM2bS27dgpyKugWGO82USrGJqODCBbFwVfbjjzJdXZrCIdPTE8tFmKUctWoVWArSe8NwgxukLApeUGVlVR8VlXPiBFYy/hOBPwTbiBGzPD0xpRkhFOiQmLVr8W1xGzcmbNnSlJJCBV0sHpABOSdOFF6+jNuMWbsW5duIpUvjXV0Dpk0T3ZVYZ/GxsPAZNw5/ItPTa83KqpDJIpYtA9vkbWhY/vAhxQ2q8eNfNDSELVwYu36978SJeA5ga/0mTy784Ye0Awdi1q7FC62Uy3vr65N27kzasQMjA5Hp0t5BrbdKrcbGaUxMbCsowNEOXZWVCmNjsI4YLYIML/Obb2Cv/adOpRWrsrQkhpByRNpxA52d4IGph0diUh9dukSUjEqQUGHZ9LW0iDn9o++/104MhgYHxSmSmpHhIZI+BVQr8s+dK75+PdzJCbkgZcB1ERHwJdgI4U5O4EIQ04NZ0aa+JOZRJNhL79yplMsDZ86U/KsKmQzLqTUrq2/kpGFSOyKeGHNi/P8U5N0ltdVXz58PDQ7SoZOIibUnbIzKAVavFgnt59XVKVrHASDRQhU2cvly8RWI4s2knTt9J06kM5XJ9fpOnKh9/OKwLZo6VdLmisFQktPqlObm3UK+/ok4YAp5UKWX0EEgKMhWij5VXHyS1iMJqB1TI8xYgHAJX5K6dy+2GX5d+f37pXfuZHl6Ju3cibUu6gblhoZUj9FOMcXaksRTvunvL7h4kS5A/AD2KpHeXeXlVG6BYU3avh0Lrvj69ZLbt0GBwugk796df/YsDDHKn2CWKh4+TNqxw8fSUpSnld27p9aaY06tz3lnzohlFQSSvhMnkiJRfJKJW7c2JiWJITYMLtWQ5EZGgwMDb1+/fl5Tg0vCrLv+jo6ia9de9/QkbNkCoqxSoVCYmnobGFC43RAfLzc29jYwoHDqSXg4OjjV1tbiSQwB06e35eeD2xzO7SwtYdR6nz6FR0/ZswfFtpC5c1EID5w5U2lqmuXp2VVZWXj5cuCMGdBiIGSBi8VzC5g+PW7TpsakJJJhw74/ungRbzDYwSHJzQ1hPqJ1KivURUTknDyJdIGY59AFCyJXrPDW08v59tsqlYosBQmgxMG2IotOZRoUYqA9iVq9OtvLS25khKg0Zu1aHOQg8vZRK1YE2duLHeG0UBsTEvLPnUvYvHlocFCSNON2cPEgpbEYkBZ76+sj+WsvLKSkKsje/tGlS9AWBEyf3l1V5W1gQN7Od+JE5IX1UVGld+4kbttWfv++35QpvfX13np6MWvXSrK9tAMHyu/fzz11qsrXtzExsWREaRU6fz46XiQF3dbsbFqo8HZhCxcmbNlCQut4V1dRIxK7cWPyrl3gJBHXIu2TTAQDLfSmr69A0FvhRuBBC69cIeoIRUpxa7cXFmLxw39Qxjw8AHL6dLxi0Zr5TZpE4azSzGy4BHDqlFgBxXobLuIMDT36/nvJGHnK3Wl8G0XD/R0dYmtD5PLlYQsWhMyd+3xk0HRbfr5oUSlniP/yS7WNDWZdiVals7QU0YN4cit4MswnJz689PZtYrkrZDKx0Vk72ghduDBi6VLkuCIHrn1gZU9dnXanpdisJc7ToLKgSDq2FxZWjq6pi+mHZrQkFlVzm1/84qN3wOKAYo0wiQILSz7WFOgQR0fYgoilSztKSihhhZiIinP0A9ma2uDgnOPHiVKmWgUlspIVUCmXV/n6imYLoTGiRdBEYF/jXV2JSUvbv59+o6Sxj5hh4i1f9fTUBAQU37hBYQeixcwjR+CAJQdnBtnbt2RkvO7tHXNkncLU1FtfH+ruKpVKW3dGGt2Bzk4fS0saEy83NtbuCgicMSNu0yZYedhQpbm5eNYvLcRh5/3dd2IMUXT1qmSGQ/65c2K3MdLNYfbS0pIOzEEGINPTgxUjmXTZ3buDr16hHUXiKuoiIyXj5ch8BDs60lw6hHEIgLz19YNmzqS0KW7jxsAZM7KPHVNZWcl0dVEFRAEM11P+4AE1IPlOmEA5pWr8eLmRUYq7+9O4OCQ3NAJFLF9RxIClW3b3bt6ZM2LQXaVWV3h7011gZcr09J7l5sKzNiYlhS1YgPH0krpayJw5fpMm5Xz7Lc2LDrK3lxsZBUybln7okO+ECVGrVmV89VXo/PkIMhBA+FhYiMR72oEDEKQk79wZvWYNhQVY86KgPXH7dqjc4XX6mpuxnuVGRvCgqXv3Bjk4qK2tJT3uOcePk5VUW1uXP3hAiezbV6/K7t17dOmSZPKw2sYGKwrkvHjjrVlZoDSIHKoNCck/e3ZMKWzYwoWPfXye19aSp1SPHy8yK2/fvAl2dAxxdHz7+rXonCSjK+XGxuGLF4ttQmSjKXKNdnZuzcnxE9oLoSVWW1tD0IdQDG6+6OpVpIYiH0NSuHAnJzBMb1+/rlQoaOJe6t69YCngv70NDIi0AIMVv3mz6JDI6CEgIzoKTAMiv7iNG3sbGjDHVwxBBl+9Stq5M9rZGZ30aQcOPI2JeV8jU7W/f8C0aeLIawjg4TJRxqK90F5YSAeFSZ/nSNCZtn9/a05OkpsbDTOoCQjIOnZMDMG99fUzPDzeN4wB1RDIvKNXr1aamSVs2ZJ55AjZLhLVg2Ih0yFpq5EmdR4e1z6N05AkWiQKjsYcRIVAhsxf5IoVT2NixMZB/6lTkUCMWYGXHFUtRlIRS5eSOcg5cQKcBtGkcmNjmEvxd7ULEyhFhC9ejGWHjE3yt1menrmnTmFj+1haPvbxwe96PPqU3HcTr3btkkxafx+6ysuJSoIZilyxojU7G6mDj4XFcCLe1yfmWI1JSfjPrKNHYTHDFi589P33YsOraKok89kpC1FPmBC/aVPJrVsRS5dmfv110KxZSW5uIe+ZJkaWvSYgAHEPkQqt2dngFdUTJoAfexIWJhn71ZqdDSvWWVZGadOr58+DZs3Cg8Xzl+np+U2ZoraxKb19G7JPv0mTEBZELluW5emZ8+23FcIpN2LAVHb3LugEpZkZifteNDTURUY2JCYqzczCFy0iVTkddKgZPQT41fPnSjOzFHf3rGPHqAGmcCQJE7XZEUuXPlapEO6IZxaBXovbsIFKX+Rl411dqb0HxkJtbY0gQDxxOdjBQT1hQuTy5ThzHjlQ1MqVjUlJKiurtrw8jUbzuqcHDsN30iSEYgFTp9KxHJTPpR08SI+r4uFDrFuFiYm/rW3M2rWwj2ELF6KuNvy3pqbBs2cH2dsrzcyyPD3V1tYpe/fC6iH7ASnira+funcvHriYrOCuszw9A2fO7Cgqyj11CmuY5BS+EyeiiIO8SmFqigWpNDVVGBuLJaensbGi8EJcUeIx4Sglhjg64jJgIvB+qatKYWwcuWzZYH8/To7SaDQ+5uYtmZmdpaUI3YIdHfHQWrOzkX1W+/kh1U7dtw/+lVSQ8V9+WXD+PNhObXmwwsREFIVRc5QYZyBEg//oLCsjIaTYFEdSI1AaQQ4OcDx45uI8KQpJxd9LYaXCxGSgq4vO+fCbPDl88eIxh09JwsT6qCjkVzAsciMjMmsUtfe3tzckJATZ22sfuqUZLYEWt5I4zHiYTNKaBS2m+8RDxK5f//bNG5qkLc2/R2yX2F5MwpdPh4Iu/fFHn9FTWgY6O9sKCvpaWoiCpzPpRG8tTiX0sbTMPHJEu1rjO3EitatKelHE6RbavJMkFAUfCyKlLjKSLHX8l1/GbthAo8/BoKbu2+czbpzE2QfNmpXl6Ym0ryUjA3uGuB18OGTOHBrYRNeD1QkvAjvbmpXVPJJwSx7d8KCWsQYGRa1eDYY2ZM4czLh/09dHdZSwhQvlRkawGnCN/nZ2CZs30yaEyJNSRmQk3VVV8BnaE3RJmw2nTvwqNjzJuESL0/34Ma4cO41OFI5cuVJpaloz+rRgUaEGIw7v8iwnp/fpU3hBouJJx0hmC+0l9ZGRFHUhbIfxil2/Pm7jRpTV4eBFe036gyqVKufEiahVq2S6ukVXrxL3rh7NIWd4eNA5M+S9yu/fT3Jzq1Kr37x8mbxzJ/mAIAcHlZVV4rZtcmPjzK+/boiPB7Ev09VFBavgwgW5oWHgjBl+kyfTxFaxaRVRS+r+/ZnffJO8a1fawYNPwsOhoiq7e7e3vj549uzY9etx43JjY0omSJ0HBVby7t0Ry5b1NjTErF2bdvAgVgWq43QoHsJEuEnINbwNDdP275cbGlb7+SVu29ZRUpJ28CDto/aiojd9faRjohlztK7o6G5wxVT8VpqZBY0c7SCmJmobm87SUjhaUI5RK1fSYss5fpx0HmRM1BMm0LwnmiARumCB2sYGhkVsRaXWPgo0U9zdY9evj1yxAveO7BYVEHHfIaCRlIqJEYHGIuf48eIbN8AfZH/7bfrBg5IjsYkwL/rhB1ToENEGTJsGsiTv9GnQANHOzq3Z2XnffZdz/HjCaBU3EVG4WbD0NIk6XTg0SWIkUT4QhdMk+BhzdjS8ZvKuXRRCiQIubbskFp7F/jTUASXJMYL+SoUC4k2VICCnz2R7eYnzDf3t7ELmzqWoi4w2qUMoVEXUTtUBbATJcP53KYerKz6gXbL5KB0wnuCr7m5iREPnzYPBGhoawrZviI/HD2KXy4flCVSSTHJzi1q1CpJg8ltEBOGhI8bxtbEZHkYvNCCFLVyIf4Vw8sMnDNJ2RZoi2X50/SCdHqtUY473ok0Ifil1374qPz8KZrV7wx+rVGVCN5u/nR3tz3dc8WjKSBxHAH3WY5UKJgOulKZAw1S9ffNGW6YhLkpsrbAFC8Q6WX109NO4ODwEiidQVyZvivAoctky7Pzk3bth0UQjGDJ3rljOCXZwCJg6lUj4DqF3HgYCYkVy7ZlHjvTW14fMnUuPLmbtWjrrVIy1+9vbYaTgSrHnseGr1GqZri6UceGLF6Mc211VVXDhArx7/tmzlKQ+ViprAgPx69oKCmLXr/e3tUXIIlKaEUuWhC1alLp3L5Kk9MOH0w4ehLlEXJjz7bfe+vo1gYH9HR1Jbm7V/v5+trbgwGV6enJDw57aWipwJu3YITc2lozqLTh/PmrlSniseFfXwJkz5YaGQfb20WvWJG7bVvjDD/ir2HXrIpctk+jy+pqaCi5cwIFC7YWFvhMnYtJn+cOHeFnPq6uD7O0zPDzEITnkxQe6ulRWVr6TJoXOmycShqV37hR+/704lhwHKRK3hGHa/ra2fS0tvU+fUv7dmJiofRpuwfnzrTk53oaG4ggFhalp2KJFyJKbkpMp+qHPyI2NZXp6KkvLjK+/ft3TI+oeJBUfZLFUKcN3is2jybt2IQwqu3uXTnovvnat+No1lFSpsErDSok4kfQ7IV4svHx5WKSWlES1/LqICFGCC0OX4eGBdYj4Bh9Qmpnhdp7X1vbU1WFAt0Y4xbb36VOZnp5E9EohS+/Tp9Fr1sS4uCTv3p124IBkSWBACg0IS969u7+9vUImw9wYhDhhCxbQZQ9v+dENUUh8o9esQVWVhvBIyLwx83KQKyFz50qyYRAz2kdMjkEdjw44JEdNkHxa0kiGf4jpZlRo+BQyYGRCAx0dQ0NDXRUVWEnDZSfhtSFBFIXQ0c7OImHYnJYmjkN7R868eiWGSyFz5rx+8aK9qAjZc4yLC1VKsOgfXbr0oqEhdv16yZiqd3nzhAkaYXBm3pkzcI3wT9oTYcofPBB7e4j0plCgKTmZCJAxqw6UXkvOHkDsgiZ3HwsLbKExc9/Xvb1i76l2BatKpcr85hsEj4OvXokSElGz9m9H9Jo1PaPPaCJyosrXV3ufiF3goPr97eyw2bC1KM6VGxtTOksKDvyusIUL8XYoHUQkTn2xVPIE05CpNSdIo9EUX78+9PYtHhcEWYgL5YaGciMjpbk50mLteQ7e+voDXV3i5CBwyEozs/L795G4JG7f3l5UlOTmhkJdd1UV1qfcyAhXjnkX9OXENoctXIhV5G1gEOPikn/unBj4+1hYxG3ahKAKri523TqlmRlZz7AFC0IcHXOOH492do7dsAHTFfBGwKBQ7IsIMnT+/J66Om99/drgYKwK8A0IH6nbBE6UOlKIAMg6evTRxYstmZlFV6+m7t0b7OCQsmdPlqdntpdX4IwZEMeqrKwily8vvnFj6O3bcCen6oCAtP37/SZPlhsbZ3l6dpSUtOXngwNEyIvfAgdWFx4eJjT/qK2tk9zcyMdTRwPFrHBsspGJwSgkYadQGBe+eLGYC3aUlFAuPjwudO1aytIG+/srZDKKtiVa2dR9+6hNY+jtWzT/+E2eLLb/oexSdvdukL09jTQgEb7PuHGS4Vb1kZF9zc0iFwqDg+IIAiBqaRtzS8Zu2JDh4SGGGuC0YHxS3N3DnZzEmj2iCoqbJdw4CjrYQXSqCrXYjXkBSdu3k14H+/1NX58og4hYupQuIMjePnDGDIlJf15dXXr7tkh8im8Zjzdg6tSye/fCFi3CiyZRFYVQ9VFRlQpF2KJFSTt2UEeJXGtQEnjHan//sEWLKPeg0XXaJdSP1QEnbN5Mc45oPG99VJTkPMvnWpGvRhiVpe1RaMwF+QPtP1eYmHSWlZHpiV69mtyAyFFoNBpkdaJAjuqOEcuWqaysJOO0KNMiS4qVOtDZibE++EX0t9ECbaLt7AOmThWnyBZcuICoRaKxIiVz4rZtChMTv8mT8UsrHj7E58XmCjw3ypa8DQwGRhM+WUePDh81+ugR8Wm01RO3bVONHx+9ejU9PfpyPOHUffuIn4lZuzZs0SJEu+X374uhN5iGsPnz6dBG3GDw7NmUTSLqovYJMYwQ9wPcD+5CUonAbcKBEWOPwEtlZQURfm1IiMhGqK2t8Xjbi4og+6IoKnHbtrqICCw5FJ/6mpvxGbW1NSXurdnZ2V5eYGV9J06EoelraQlbsCDby6spJYVICOJI8ehkeno+lpbP8vIQ46ttbPzt7GjeZNSqVeIJtSFz5iS5ubVkZoLULb5+3XfCBIWpqcLERD5iweuionrq6lLc3SFZiHFxyfz664GuLh8LC2QqRVev4u10FBeHLVoEV5fi7o5T9hDuPPr++5aMjGAHB7mhqZuM0wAAFVNJREFUYUtmZtyGDRiPBUpfu0gWOGMG7HtfSwt5MtpBWPCS6olERTGqEvTjj5rRvYLphw9Ti52/nR2SP/geoq/U1tYQguAW6qOiFCYmIXPmUIE8cObMlL174Yklc2kG+/t76uqyjh4lD026B8SFkaMHYFHM+iQ0tCYwkO40fyRApyyChloPF7DWrw+ZOzfvu+9qgoLE6Dlt/361tXVNQABdbfG1a6JK1Gc0CSw2rIMuAjWNIFUiUEIgFbV6dVteXrCjIwphDYJ24X3pB9HUSOKzvbxwGKvS3Lzaz48Ic387u2wvLySLknm02mn3cEV8JJtK2rFDnAItSQDEE9hEOlMjNKQNh0F794qD/6ggLfZtSxwqRUja6xk6fx9LSzFqX/Kb33z0DlhtbZ128CA2GOmNs7288NqCHR3Ftlc8RMlTE1OQ+C+/LLt7t1Kp1OY0sKUbRzfqPcvNFYVU2BsIbMUxHeKc3heNjaLU/gOIXL6cbKs4ggPuDTFB/tmz76jdoSHKRWJcXJC9tWRkUCw8ZsYmenqFqSn8FgIIiceVzKIbM9suf/BgzDFAFJ43JCRoj7USURMQQKOdKFghewQbRIeWD/dtj+zbxO3bEXGLE7JE5g0R8QcOH33T14e7pqLjsOLD0HBocNDHwuLtq1eZX3+dtGMH1Vx7njwBsYyQmTJLPO0xn1LmkSNQfwTOmFEpaLjyvvsOXAvUnkhAKXZsTEwMW7RIrLFBupJ24EDw7NmkQaNgPMvTs/j6dRiFgvPnURRQWVml7tsXuWKFysoKp3a25uTknTlD2VvI3Lkt6enIRZ6EhqKTOG7jxiAHB/zquA0bmtPTawICOsvKuququiorg+zts728sr28xBWisrJCKzlV96mdPXD6dIWJSfrhw63Z2bDvnaWlMj09fFJuaFh27x4Fl/GurkNDQzFr11L/N0INXxsb/CcsL7kTWNXa0FAqDeSfO4dgJffUqSQ3N/Jn2JV9LS20LwKmTwcFBd9Dcdjg6Llp2upOsryPLl0STUe0szPCsixPz+a0NLEaqraxERv6KW/DKno3NX3ePPhmlFqIiApycKCreq11+Fh9dHRTaqoopxfrx7RZYMGiVq1CECl6WfGsjjHlRRJFBaU01PUXvWZN+qFDRCb7TZqERqCSmzflxsZj0o0SJO/eTa/mSWiomERhfdKQpZwTJ8TaIrLtCm9vKoSlCMRS4tatH7bA5DLI/KqtrakpWdLjR0YJjiBiJCwmCaR2+zKqmQ0JCZ/OIA4xqBfpDsmfD/upkVg1YsmSkps3aZn2NTWBbBRNdtzGjUpzc6zdIHv757W1kuPQtdGalYVNXnjlCg1qp1KB35Qp+LanMTGoSIHVGRwYUFlaxjg7Y61g32Z8/bXIO0GpEb95sxhVKAUTj/gOEj5cA86cAT8j5o5Bs2ZVKhRFP/zQVVkZ7uSUtGNHta+vv60tNThJMnXSs6CNXQw7noSH5548KV6nj4UFIr7o1avp8TYmJCS6uXWWl+My4JnkhoZRK1dGLFmSunev3MhIbmgoDruIXbcOHwaVOtDV5W9rq7axCZg2DdmeWMiBG37T1xe7fj0cttLcXOy2QpaGUtarnh6xliOGGi2ZmTnHj5fcugW+C08v65tvKKpNO3iQut0Qa9cEBuLMmXf0gK0t/E1bQQH8BCgsXFj6oUPY2yL1gqJRjIuLOMiFAvb8c+f629u9DQyQk6Xu2dNeVBTs6FgfHY3TcvDSMUBDJGBev3gBNcpjpTJiyZLGpCR49+zjx2mb4PapmJJ35gy8iNzIaKCzkya6wMmB5essL68LC8NvVFlakqkKmDYNSXze6dPE9SlMTJTm5hKrJ5H342shYorbuBEPs8rXV3sSIa5WMpkIvKXc0DDDwwNMj1j/I2qht75edEt4Nb319VlHj8p0deWGhtSok3PiBGwuTTqUGxm9aGyk+mXA1KkQMZQ/eBA6b57cyKjk1i3KQdMPHxZbJELmzBEHfHprDaii9OsdFfT99976+uFOTkGjt2TM2rUU1RFdDDIARFfFw4d9TU1IHx9duqSytOwqLw+dP18kuiVHd7zp78/77rvGxMTuqipvQ0O8ccnEKzGwbisooJ3lbWAg1qc075GjjrKQ2dm4fVCDZDoUxsYB06eDcBLnwcEmeBsYUJiVduBA2sGDdA50+qFDAdOnk2usCw8X8+bW7Gyx2khrldJo7CnEuxlaEhlJqbj0zh1EFXggZH79pkyh1rtsL6+AqVPxAYnAG+3a6YcOBdnbfzoOGCsg6+hRMFrEtCBVIv4TRBx4Px8LC+2maRx2NvzzSPRE+pp3tv7SJThaYj4bExNLtE5fHx57FBExLOwaCTBFmxLt7NxTWwt9TdtYXUmwLN4GBmpra3QCEAciyqmIy9WMPpFDMvFDPJaA1gpSXrH7RRS8UNAXOGNGX3PzYx+feFdX4tNE999bX085ED2usEWL6iIjxfkb4LhwX2BWQ+fNq4uISNiyBVmL2tq6QiZL2rkz/ssvh0f7rl0LPoOsob+trXgCVWdpaXtR0bO8vMTt25N3736sVKIwFrNuHVhlSrvRFE/F0abkZLgusSaKspbaxgaxkVj3QtmJiseoBShNTdMOHuyqrMQCk+nqIn7y1tdP3rWrSqXC+1WYmEQsWxa3cWPchg14R7iM0HnzQhwdVePHw6CLw34zjxx50dgYNGvW05gYGJGQOXPevHgRvXp1tb8/iosgSLEFeuvrI5YsiVi6FPzw2zdviq5ezfL0JG+XvHu3avx49FZpNJr0r75SjR9PQU/k8uVKc3NqCU3eubMpLU2j0VT7+RWcP49HGrthA1I3+s78M2fqIiLSDhxozcry1tfPP3s2fPFi2g41gYH97e39HR2gZMIWLvS3te0oKalSqfC4YIVhW5XjxgUI5wdjZyVu24Y7hYpbMswSIZrK0jJ5927yCggWxYmnyBe99fUl7Kj4bYWXLwfZ27dmZ4NZKbl5syUjI2LpUlwnXILK2tpbXx/+w9/Orq2goPzhQ205K6QV8a6u2KQKU1NxiJJMVxdWCJE0nK7cyCj72DGFqWno/Pm+kyaR3v7t69fZXl4k6qny9RWrpDiRRTMyDFwkSPArolevbs3OFudi4jmEzJkTOHOmj4XF4MAAQiXUg3GzZFv8Jk+OGmknC5o5s/zhQ6rmRC5blrJnz9vXr6l4L9EoQX+HUhTuVBwDQKVfsYDaXlREgSDUAzR/XmFikj3WqBDR/WNGENUsJFUkhJVok6NN7TNunL+d3ZjlDPG+xgSWJW6tJiAg28uL6vGSWAS5k3h0rEajWfwJUNAI9AKmThU7tyRTGDWChE8st7xPu/g0NjZ03rxgR0e5kRGFgURBDG94gW2LcXFJP3RIElRq3n+4VfG1a+GLF6e4u2MJxgtsjNjNnLxrV/ujR1j9FHfTudySnEAUlWiEQ1LHdOdj1MycnEYd2OLkJI68KP3xRyQooJElFBwGE6YfOpR55IhyNOOae+oUDeiQsPoo4wXZ24fOny83NlaPH68cN44kFeL1B82apRw3TnLOl0aj6amrC50/n4zssOJUa341jHuMi4sYfMj09DK+/jrDwwPWQWluXhscnHPiBIVuMArRq1cHzpiR99131GgooeWHI63m5gqZLGrlSigzfSwt5YaGFNc/9vHpFSjxZ7m5XRUVqpEXmrBlS/Tq1ZgY8yQ8XEJYqW1sakNCMO6f4jMyjmJ0FTJnDoLr0tu3Sb9WHxXVnJ7e19KCpy03MhoaHPSbMiXB1ZUGAynNzJBuZnz1FWZ0RK1apbaxkRsapu7bpxkakrSCaDSalN27sQte9/TAciVu24aj6+JdXZFP0GHSWDmRK1dSNp+wdWuwg0PhlSuoBZDtA4cRumCBTFeX9G5xGzeKCX3q3r10+xkeHt4GBtRtLJYeMCSh58kTxMrF165B1Y9ITpRcaKdrYQsXkkuoj44u0opZP4CS27ff9PU1xMURu0DU1+DAANJcVBZFi49yEqkE4KVIp5l76lTsiFyjMTHRb8qU/HPnYOjJ5oQLvRt0llRjUpKo8Pc2MADjErt+feCMGRKV1mMfn+DZs5VmZmLvrxjQo9aAskJfc/Obly8pqqaMHJGZ2sZmoKuLBDFUXS6/fx+OEOU87aPSaHPBXPtOmpR19CjkhyU3b364fyT72DEaNYVQT7Qh2V5eHzh9gZJ7bwMDRDClt2+LVi5s0SLsUFSUkV1gtoHfpElQz2jPu838YDKt+TREWCIZS+devSv6TphA3WDiis86ejTjq6+IwAlfvFi7F1uj0bxoaMCOlcjiZbq6cBVjxk1Id2AcQScOF7dGC4yDHRyyjh4F74FjHihKlTQMvIsMYmKGD/4cMQpKc/NgR8eiq1eHNa4jg0m1KzR0VoHf5Mm0t2W6umkHD5bevk3K4Xem5OZNLKDXL15A0YYwGfkWckRRpIDid299/aNLl1oyM9VWVnBjNFug+Pp1DGulNgkJ8IeFly/Xap3IJqY1FI97GxjknzuHvASbmaQ3EAnD9sW7ulJY4zd5suS4aJmeHnZapVzuY2GRvGuXpCOZmGeUnaLXrEEwRERW0Q8/gCeAgDlh69ZEQQPSnJ4ONgwvGuEIEiaJbAdxITbzq+5upJ7ehobIxsQnBq4i3MkpZO7cYAeHvuZm+Fc6yW7o7VufceMwzr78wQOZrm5jYqLC2JiKjriY3vr6snv3ErdtC5gxo6O4OGX3brFZS8xU6qOjwxcvRnQV/+WXcKX97e3tBQUVMtnwjW/ZQskHlgeECwoTk6yjR/Gack+f7iguDlu4MHTuXARMWUePRq1a1ZiURPUR1GVEt0cSyL6mJsrwSm/fLr1zpzktDeMqi65ebcnMlOnqFt+4QQxna1ZW8OzZtM0Dpk6tj45Gj3VtcHD64cMxLi7Uco2FoTQzE11y9+PH1ExBv5rcHoxy5pEjSjMzmPuYdetC5s4tvHIFeRtFh3R4X/n9++gQI8kefh0NnBkcGJAMShTP0qEgBi6q7O7dKl9fmoFMXh+FcMnUufIHD0SaR2lqqtKaKStxhBItG7JbpZmZdl1THE+LUB4ZC7Epz3JzQ+bMgdcHO1IXEQE5Dj4f7uQE3UxnWVlzRoZkSFGkoBFL2Lo1/8wZuZFRjIuL2AUEolHMHDSCTF1iVMXDyEmdF7ZwIYWbT2NjEcpQsSBw+nRYA7mBgfbcgoQtWyjBpX/S19zsb2urfToALOdH74BxD/9TrP2bv5H8yba/+zv8sPKv/kryVxN+8QvxP8///vcn/umfzvz+99pf6/mP/6ijo/OPf/qn+M/Lf/wj/dXu3/5W+/MbtC5DR0fH6i/+Ysxr/uPPf7717/5OR0fnL37ykw/f3cHf/e5vfvazib/8pfZf6f/Znx37x3+k/7T+xS90dHR+/dOfLvvNb8b8qlm/+pXkT/7l5z//8y+++Ps//VMdHR3nv/5r8a+ujNyvpXALX/3ud/jB4x/+Ycxf8S8//zl+sPsv/+XEP/2T+FdTRm7h0O9+96uf/lTn/xDOjvXugAt/+MNvfvazPX//9/jP3/z0pzo6Ol989tmlP/yBVgjwy5/8ZMF//a8f/kUuwvPZ8d/+G3748m//VvyMu9bCuPCHP/znL77Q0dHZP3IZ//mLL4z+/M8lH/v7kWWmo6Nz6Q9/EP9q129/e+WPfxw/8haW/OY3x0c/WFon+Lfr/+ZvrghrVUdHZ89vfzv717/+/X/6T7QpVo/cy6l//ucxb4Rg8Rd/oaOjc1G4pIkjO+gXo5fun3/xBX5w+PWv6Q8/H/nhr372s/l/+Zfi5+khnP7nf9bR0fn6PSsKODyy8Ah/+dOf7vrtb3/5nu0jeQKA469/vVG4TZe//uvzv/89PQTxdrDBxQ//2Rdf/NPIA/wH4WXp6OgcFfagCLx3us2//ZM/+TcuafuRfbpHWE5L3rOpF//mN9tHVuO/EZv+9m91dHTOjd441qMNo4jpI9ezdWTXiCb3K61XA/zrz38u2WX/e9gy1pdI1hK93/d9yZiP6AOf/9/DTz/77Na//it+/u2f/Mn/Awf82b/RRzIYDAaDwfg/iM/5ETAYDAaDwQ6YwWAwGAx2wAwGg8FgMNgBMxgMBoPBDpjBYDAYDAY7YAaDwWAw2AEzGAwGg8FgB8xgMBgMBjtgBoPBYDAY7IAZDAaDwWAHzGAwGAwGO2AGg8FgMBjsgBkMBoPBYAfMYDAYDAaDHTCDwWAwGOyAGQwGg8FgsANmMBgMBoMdMIPBYDAYDHbADAaDwWCwA2YwGAwGgx0wg8FgMBgMdsAMBoPBYLADZjAYDAaDwQ6YwWAwGAx2wAwGg8FgMNgBMxgMBoPBDpjBYDAYDAY7YAaDwWAw2AEzGAwGg8EOmMFgMBgMBjtgBoPBYDDYATMYDAaDwWAHzGAwGAwGO2AGg8FgMBjsgBkMBoPBYAfMYDAYDAaDHTCDwWAwGOyAGQwGg8FgB8xgMBgMBoMdMIPBYDAY7IAZDAaDwWCwA2YwGAwGgx0wg8FgMBgMdsAMBoPBYLADZjAYDAaDwQ6YwWAwGAx2wAwGg8FgsANmMBgMBoPBDpjBYDAYDHbADAaDwWAw2AEzGAwGg8EOmMFgMBgMBjtgBoPBYDDYATMYDAaDwWAHzGAwGAwGO2AGg8FgMNgBMxgMBoPBYAfMYDAYDAY7YAaDwWAwGOyAGQwGg8FgB8xgMBgMBoMdMIPBYDAY7IAZDAaDwWCwA2YwGAwGgx0wg8FgMBjsgBkMBoPBYLADZjAYDAbj08ZPPuqr/+yzz/gVMhgMxn9MaDQadsD/PyHT0/vss88++/xznc8/xw+fff65zvt/+Oyzz3S0fhD/ufYP/x6+8MPf/P/xCzU6nw0N6Xy8/9NodD7q69fRaD7XGfp4//eZzsd9/To6miEdnY/3f5qP+eLffvwBBFPQDAaDwWCwA2YwGAwGgx0wg8FgMBgMdsAMBoPBYLADZjAYDAaDwQ6YwWAwGAx2wAwGg8FgMNgBMxgMBoPx7w+ffdSTRHgSFoPBYPyHBU/C4hfAYDAYDE7A/pfBFDSDwWAwGOyAGQwGg8FgB8xgMBgMBuP/Ej7jGiqDwWAwGJwBMxgMBoPBDvjff/4+An6RDAaD8R8QH7X9//yjfu4ajQYUOvtgBoPBYO/LDvj/NbiMzWAwGOx92QEzGAwGg8HZFztgBoPBYHyK6e8nwH2yA2YwGAzGR+Z9P40bYQfMYDAYjI/SDcMTf7z++CefxmvgtchgMBj/QSCSzx81F/2Tj/odkOtlITSDwWAwPi78D7pJQjBhUjikAAAAAElFTkSuQmCC'>"
      ],
      "text/plain": [
       "<IPython.core.display.HTML object>"
      ]
     },
     "execution_count": 635,
     "metadata": {},
     "output_type": "execute_result"
    }
   ],
   "source": [
    "figMat = glucifer.Figure()\n",
    "figMat.append( glucifer.objects.Points(gSwarm,materialVariable, colours='brown white blue red black'))\n",
    "\n",
    "figMat.save_database('test.gldb')\n",
    "figMat.show()"
   ]
  },
  {
   "cell_type": "code",
   "execution_count": 528,
   "metadata": {
    "collapsed": false
   },
   "outputs": [
    {
     "data": {
      "text/plain": [
       "0.9906574394463667"
      ]
     },
     "execution_count": 528,
     "metadata": {},
     "output_type": "execute_result"
    }
   ],
   "source": [
    "1.0 - CrustM"
   ]
  },
  {
   "cell_type": "markdown",
   "metadata": {},
   "source": [
    "##Set the values for the masking swarms"
   ]
  },
  {
   "cell_type": "code",
   "execution_count": 529,
   "metadata": {
    "collapsed": false
   },
   "outputs": [],
   "source": [
    "#Setup up a masking Swarm variable for the integrations.\n",
    "#These should be rebuilt at same frequency as the metric calcualtions\n",
    "\n",
    "rockIntVar.data[:] = 0.\n",
    "notair = np.where(materialVariable.data != airIndex)\n",
    "rockIntVar.data[notair] = 1.\n",
    "\n",
    "airIntVar.data[:] = 0.\n",
    "notrock = np.where(materialVariable.data == airIndex)\n",
    "airIntVar.data[notrock] = 1.\n",
    "\n",
    "lithIntVar.data[:] = 0.\n",
    "islith = np.where((materialVariable.data == lithosphereIndex) | (materialVariable.data == crustIndex))\n",
    "lithIntVar.data[islith] = 1.\n",
    "\n",
    "dummyIntVar.data[:] = 1.\n",
    "notrock = np.where(materialVariable.data == airIndex)\n",
    "dummyIntVar.data[notrock] = 1e10  #We'll multiply certain swarm variables by this guy,which\n",
    "#will allow us grab minimum values and assume they are from the rock part"
   ]
  },
  {
   "cell_type": "markdown",
   "metadata": {
    "collapsed": false
   },
   "source": [
    "#Material properties\n"
   ]
  },
  {
   "cell_type": "code",
   "execution_count": 530,
   "metadata": {
    "collapsed": false
   },
   "outputs": [],
   "source": [
    "# The yeilding of the upper slab is dependent on the strain rate.\n",
    "strainRate_2ndInvariant = fn.tensor.second_invariant( \n",
    "                            fn.tensor.symmetric( \n",
    "                            velocityField.fn_gradient ))\n",
    "\n",
    "\n",
    "coordinate = fn.input()\n",
    "depth = 1. - coordinate[1]\n",
    "\n",
    "#Determine yield criterion for depth (rather than pressure as given in Crameri)\n",
    "#Scaling is same as van Heck and Tackley, EPSL, 2011\n",
    "lithopressuregrad = dp.rho*dp.g*(dp.LS)**3/(dp.eta0*dp.k)"
   ]
  },
  {
   "cell_type": "code",
   "execution_count": 637,
   "metadata": {
    "collapsed": false
   },
   "outputs": [
    {
     "data": {
      "text/plain": [
       "0.22837370242214533"
      ]
     },
     "execution_count": 637,
     "metadata": {},
     "output_type": "execute_result"
    }
   ],
   "source": [
    "660e3/dp.LS"
   ]
  },
  {
   "cell_type": "code",
   "execution_count": 715,
   "metadata": {
    "collapsed": false
   },
   "outputs": [
    {
     "name": "stdout",
     "output_type": "stream",
     "text": [
      "true\n"
     ]
    }
   ],
   "source": [
    "############\n",
    "#Mantle\n",
    "############\n",
    "\n",
    "#Linear viscosity\n",
    "arhennius = fn.misc.min(ndp.up_visc,fn.math.exp(((ndp.E + ndp.V*(1.-coordinate[1]))/\n",
    "                                         (temperatureField + ndp.TS)) - ((ndp.E + ndp.V*(1.- ndp.RD))/(ndp.TR + ndp.TS))))\n",
    "\n",
    "lower_mantle = True\n",
    "\n",
    "#Quick implementation of the lower mantle viscosity increase \n",
    "a = 1.\n",
    "B = 30.\n",
    "d0 = 0.2283\n",
    "ds = d0/5.\n",
    "if lower_mantle:\n",
    "    print(\"true\")\n",
    "    inner1 = 1. - 0.5*(1. - fn.math.tanh((d0-(1.- coordinate[1]))/(ds)))\n",
    "    modfac = a*fn.math.exp(np.log(B)*inner1)\n",
    "    arhennius = arhennius*modfac \n",
    "    \n",
    "#implementation of the melt viscosity reduction\n",
    "Tmvp = 0.4\n",
    "if melt_viscosity_reduction:\n",
    "    mvptest =  fn.branching.conditional( [ (temperatureField > (Tmvp + 2.*(1. - coordinate[1])) , 0.1 ),   (         True, 1.) ] )\n",
    "    arhennius = arhennius*mvptest\n",
    "\n",
    "#Psuedo-plastic \n",
    "ys =  ndp.cohesion + (depth*ndp.fc*lithopressuregrad)\n",
    "#ys =  ndp.fc*lithopressuregrad*(30e3/dp.LS) # this is the byerlee strength at 30 km\n",
    "yss = fn.misc.max(ndp.cohesion, ys)\n",
    "plasticvisc = yss*(math.sqrt(2))/(strainRate_2ndInvariant*2.)\n",
    "plastic = fn.misc.max(ndp.low_visc,plasticvisc)\n",
    "#combine these\n",
    "mantleviscosityFn = fn.exception.SafeMaths(fn.misc.min(arhennius, plastic))\n",
    "\n",
    "############\n",
    "#crust\n",
    "############\n",
    "\n",
    "\n",
    "\n",
    "ysc = (ndp.cohesion/ndp.cohesion_reduce) + (depth*(ndp.fc/100.)*lithopressuregrad)\n",
    "#ysc = ys/100.\n",
    "ycs = fn.misc.max((ndp.cohesion/ndp.cohesion_reduce), ysc)\n",
    "crustplasticvisc = ycs*(math.sqrt(2))/(strainRate_2ndInvariant*2.)\n",
    "crustplastic = fn.misc.max(ndp.low_visc,crustplasticvisc) \n",
    "crustviscosityFn = fn.exception.SafeMaths(fn.misc.min(arhennius, crustplastic))"
   ]
  },
  {
   "cell_type": "code",
   "execution_count": 718,
   "metadata": {
    "collapsed": false
   },
   "outputs": [],
   "source": [
    "#figStrainRate = glucifer.Figure()\n",
    "#figStrainRate.append( glucifer.objects.Surface(mesh, mvptest))\n",
    "#figStrainRate.show()"
   ]
  },
  {
   "cell_type": "code",
   "execution_count": 719,
   "metadata": {
    "collapsed": false
   },
   "outputs": [],
   "source": [
    "#figStrainRate = glucifer.Figure()\n",
    "#figStrainRate.append( glucifer.objects.Surface(mesh, arhennius, logScale=True))\n",
    "#figStrainRate.show()"
   ]
  },
  {
   "cell_type": "markdown",
   "metadata": {},
   "source": [
    "Set up simulation parameters and functions\n",
    "====\n",
    "\n",
    "Here the functions for density, viscosity etc. are set. These functions and/or values are preserved for the entire simulation time. "
   ]
  },
  {
   "cell_type": "code",
   "execution_count": 375,
   "metadata": {
    "collapsed": false
   },
   "outputs": [],
   "source": [
    "# Here we set a viscosity value of '1.' for both materials\n",
    "viscosityMapFn = fn.branching.map( fn_key = materialVariable,\n",
    "                         mapping = {airIndex:ndp.StAeta0, \n",
    "                                    lithosphereIndex:mantleviscosityFn, \n",
    "                                    crustIndex:crustviscosityFn,\n",
    "                                    mantleIndex:mantleviscosityFn, \n",
    "                                    eclIndex:crustviscosityFn} )\n",
    "\n",
    "densityMapFn = fn.branching.map( fn_key = materialVariable,\n",
    "                         mapping = {airIndex:ndp.StA_RA, \n",
    "                                    lithosphereIndex:ndp.RA*temperatureField, \n",
    "                                    crustIndex:(ndp.RA*temperatureField + ndp.Crust_RA), \n",
    "                                    mantleIndex:ndp.RA*temperatureField, \n",
    "                                    eclIndex:ndp.RA*temperatureField + ndp.Ecl_RA} )\n",
    "\n",
    "# Define our gravity using a python tuple (this will be automatically converted to a function)\n",
    "gravity = ( 0.0, 1.0 )\n",
    "\n",
    "buoyancyFn = gravity*densityMapFn"
   ]
  },
  {
   "cell_type": "code",
   "execution_count": 419,
   "metadata": {
    "collapsed": false
   },
   "outputs": [
    {
     "data": {
      "text/plain": [
       "38787878.78787879"
      ]
     },
     "execution_count": 419,
     "metadata": {},
     "output_type": "execute_result"
    }
   ],
   "source": [
    "abs(ndp.Ecl_RA)"
   ]
  },
  {
   "cell_type": "markdown",
   "metadata": {},
   "source": [
    "Build the Stokes system, solvers, advection-diffusion\n",
    "------\n",
    "\n",
    "Setup linear Stokes system to get the initial velocity."
   ]
  },
  {
   "cell_type": "code",
   "execution_count": 378,
   "metadata": {
    "collapsed": false
   },
   "outputs": [],
   "source": [
    "stokesPIC = uw.systems.Stokes( velocityField = velocityField, \n",
    "                               pressureField = pressureField,\n",
    "                               #swarm         = gSwarm, \n",
    "                               conditions    = [freeslipBC,],\n",
    "                               fn_viscosity   = arhennius, \n",
    "                               fn_bodyforce   = buoyancyFn,\n",
    "                               swarm=gSwarm)\n"
   ]
  },
  {
   "cell_type": "markdown",
   "metadata": {},
   "source": [
    "We do one solve with linear viscosity to get the initial strain rate invariant. This solve step also calculates a 'guess' of the the velocity field based on the linear system, which is used later in the non-linear solver."
   ]
  },
  {
   "cell_type": "code",
   "execution_count": 379,
   "metadata": {
    "collapsed": true
   },
   "outputs": [],
   "source": [
    "#We do one solve with linear viscosity to get the initial strain rate invariant. \n",
    "#This solve step also calculates a 'guess' of the the velocity field based on the linear system, \n",
    "#which is used later in the non-linear solver.\n",
    "\n",
    "solver = uw.systems.Solver(stokesPIC)\n",
    "# If not doing a restart, do a solve on the non-plastic system\n",
    "if not checkpointLoad:\n",
    "    solver.solve()"
   ]
  },
  {
   "cell_type": "code",
   "execution_count": 380,
   "metadata": {
    "collapsed": false
   },
   "outputs": [],
   "source": [
    "#Switch particle escape on, this will also trigger the inflow population control \n",
    "gSwarm.particleEscape = True"
   ]
  },
  {
   "cell_type": "code",
   "execution_count": 381,
   "metadata": {
    "collapsed": false
   },
   "outputs": [],
   "source": [
    "####################\n",
    "#Add the non-linear viscosity to the Stokes system\n",
    "stokesPIC.fn_viscosity = viscosityMapFn\n",
    "###################\n",
    "\n",
    "#Set more advanced solver option\n",
    "solver.options.main.Q22_pc_type='gkgdiag'\n",
    "#solver.options.A11.ksp_rtol=1e-2\n",
    "#solver.options.scr.ksp_rtol=1e-3\n",
    "#solver.options.A11.ksp_type=\"cg\"\n",
    "solver.options.scr.use_previous_guess = True\n",
    "#solver.options.scr.ksp_set_min_it_converge = 1\n",
    "#solver.options.main.penalty=10.0\n",
    "\n",
    "#solver.options.mg.levels = 3\n",
    "#solver.options.main.remove_constant_pressure_null_space=True\n",
    "#solver.options.main.penalty = 1e2\n",
    "\n",
    "solver.options.A11.ksp_rtol=1e-4\n",
    "solver.options.scr.ksp_rtol=1e-4\n",
    "\n",
    "solver.options.A11.ksp_monitor=''\n",
    "solver.options.A11.ksp_converged_reason=''"
   ]
  },
  {
   "cell_type": "code",
   "execution_count": 382,
   "metadata": {
    "collapsed": true
   },
   "outputs": [],
   "source": [
    "solver.solve(nonLinearIterate=True)"
   ]
  },
  {
   "cell_type": "markdown",
   "metadata": {
    "collapsed": false
   },
   "source": [
    "solver = uw.systems.Solver(stokesPIC2) # altered from PIC2\n",
    "\n",
    "\n",
    "\n",
    "#Set more advanced solver option\n",
    "solver.options.main.Q22_pc_type='uw'\n",
    "solver.options.A11.ksp_rtol=1e-5\n",
    "solver.options.scr.ksp_rtol=1e-5\n",
    "#solver.options.A11.ksp_type=\"cg\"\n",
    "solver.options.scr.use_previous_guess = True\n",
    "solver.options.scr.ksp_set_min_it_converge = 1\n",
    "\n",
    "solver.options.mg.levels = 3\n",
    "\n",
    "#solver.options.A11.ksp_monitor=''\n",
    "#solver.options.A11.ksp_converged_reason='"
   ]
  },
  {
   "cell_type": "markdown",
   "metadata": {},
   "source": [
    "Solve for initial pressure and velocity using a quick non-linear Picard iteration\n"
   ]
  },
  {
   "cell_type": "markdown",
   "metadata": {},
   "source": [
    "Create an advective-diffusive system\n",
    "=====\n",
    "\n",
    "Setup the system in underworld by flagging the temperature and velocity field variables."
   ]
  },
  {
   "cell_type": "code",
   "execution_count": 356,
   "metadata": {
    "collapsed": false
   },
   "outputs": [],
   "source": [
    "#uw.systems.AdvectionDiffusion?"
   ]
  },
  {
   "cell_type": "code",
   "execution_count": 357,
   "metadata": {
    "collapsed": false
   },
   "outputs": [],
   "source": [
    "#Create advdiff system\n",
    "\n",
    "\n",
    "\n",
    "advDiff = uw.systems.AdvectionDiffusion( phiField       = temperatureField, \n",
    "                                         phiDotField    = temperatureDotField, \n",
    "                                         velocityField  = velocityField, \n",
    "                                         fn_diffusivity = 1.0,\n",
    "                                         fn_sourceTerm = 0.,\n",
    "                                         conditions     = [tempBC,] )\n",
    "\n",
    "\n",
    "\n",
    "advector = uw.systems.SwarmAdvector( swarm         = gSwarm, \n",
    "                                     velocityField = velocityField, \n",
    "                                     order         = 1)"
   ]
  },
  {
   "cell_type": "markdown",
   "metadata": {},
   "source": [
    "Metrics for benchmark\n",
    "=====\n",
    "\n",
    "Define functions to be used in the time loop. For cases 1-4, participants were asked to report a number of diagnostic quantities to be measured after reaching steady state:\n",
    "\n",
    "* Average temp... $$  \\langle T \\rangle  = \\int^1_0 \\int^1_0 T \\, dxdy $$\n",
    "* Top and bottom Nusselt numbers... $$N = \\int^1_0 \\frac{\\partial T}{\\partial y} \\rvert_{y=0/1} \\, dx$$\n",
    "* RMS velocity over the whole domain, surface and max velocity at surface\n",
    "* max and min viscosity over the whole domain\n",
    "* average rate of work done against gravity...$$\\langle W \\rangle = \\int^1_0 \\int^1_0 T u_y \\, dx dy$$\n",
    "* and the average rate of viscous dissipation...$$\\langle \\Phi \\rangle = \\int^1_0 \\int^1_0 \\tau_{ij} \\dot \\epsilon_{ij} \\, dx dy$$\n",
    "\n",
    "* In steady state, if thermal energy is accurately conserved, the difference between $\\langle W \\rangle$ and $\\langle \\Phi \\rangle / Ra$ must vanish, so also reported is the percentage error: \n",
    "\n",
    "$$ \\delta = \\frac{\\lvert \\langle W \\rangle - \\frac{\\langle \\Phi \\rangle}{Ra} \\rvert}{max \\left(  \\langle W \\rangle,  \\frac{\\langle \\Phi \\rangle}{Ra}\\right)} \\times 100% $$"
   ]
  },
  {
   "cell_type": "code",
   "execution_count": 358,
   "metadata": {
    "collapsed": false
   },
   "outputs": [],
   "source": [
    "#Setup some Integrals. We want these outside the main loop...\n",
    "tempVariable = gSwarm.add_variable( dataType=\"double\", count=1 )\n",
    "tempVariable.data[:] = temperatureField.evaluate(gSwarm)[:]\n",
    "tempint = uw.utils.Integral((tempVariable*rockIntVar), mesh)\n",
    "\n",
    "\n",
    "areaint = uw.utils.Integral((1.*rockIntVar),mesh)\n",
    "lithareaint = uw.utils.Integral((1.*lithIntVar),mesh)\n",
    "\n",
    "v2int = uw.utils.Integral(fn.math.dot(velocityField,velocityField)*rockIntVar, mesh)\n",
    "\n",
    "\n",
    "dwint = uw.utils.Integral(temperatureField*velocityField[1]*rockIntVar, mesh)\n",
    "\n",
    "\n",
    "sinner = fn.math.dot(strainRate_2ndInvariant,strainRate_2ndInvariant)\n",
    "vdint = uw.utils.Integral((4.*viscosityMapFn*sinner)*rockIntVar, mesh)\n",
    "vdintair = uw.utils.Integral((4.*viscosityMapFn*sinner)*airIntVar, mesh)\n",
    "vdintlith = uw.utils.Integral((4.*viscosityMapFn*sinner)*lithIntVar, mesh)\n",
    "\n",
    "\n",
    "fn_stress = 2.*viscosityMapFn*uw.function.tensor.symmetric(velocityField.fn_gradient)\n",
    "rockstress = fn.tensor.second_invariant(fn_stress)*rockIntVar\n",
    "lithstress = fn.tensor.second_invariant(fn_stress)*lithIntVar\n",
    "\n",
    "stresslithint = uw.utils.Integral(lithstress, mesh)\n"
   ]
  },
  {
   "cell_type": "code",
   "execution_count": 359,
   "metadata": {
    "collapsed": false
   },
   "outputs": [
    {
     "name": "stdout",
     "output_type": "stream",
     "text": [
      "95276740.6106\n",
      "41836960.3966\n",
      "21088502.1485\n",
      "2678868.05175\n",
      "26329125.9812\n",
      "16958482.4986\n"
     ]
    }
   ],
   "source": [
    "#These should differ if the the map function assigns different properties to bulk mantle\n",
    "\n",
    "print(uw.utils.Integral((4.*mantleviscosityFn*sinner)*rockIntVar, mesh).evaluate()[0])\n",
    "print(uw.utils.Integral((4.*viscosityMapFn*sinner)*rockIntVar, mesh).evaluate()[0])\n",
    "\n",
    "\n",
    "print(uw.utils.Integral((4.*mantleviscosityFn*sinner)*airIntVar, mesh).evaluate()[0])\n",
    "print(uw.utils.Integral((4.*viscosityMapFn*sinner)*airIntVar, mesh).evaluate()[0])\n",
    "\n",
    "print(uw.utils.Integral((4.*mantleviscosityFn*sinner)*lithIntVar, mesh).evaluate()[0])\n",
    "print(uw.utils.Integral((4.*viscosityMapFn*sinner)*lithIntVar, mesh).evaluate()[0])"
   ]
  },
  {
   "cell_type": "markdown",
   "metadata": {},
   "source": [
    "\\begin{equation}  \\langle T \\rangle  = \\int^1_0 \\int^1_0 T \\, dxdy \\end{equation}"
   ]
  },
  {
   "cell_type": "code",
   "execution_count": 360,
   "metadata": {
    "collapsed": false
   },
   "outputs": [],
   "source": [
    "def avg_temp():\n",
    "    return tempint.evaluate()[0]/areaint.evaluate()[0]\n",
    "\n",
    "#This one gets cleaned up when Surface integrals are available\n",
    "def nusselt(tempfield, swarm, dx):\n",
    "    #Update the swarm variable\n",
    "    tempgrad = tempfield.fn_gradient\n",
    "    valcheck = tempgrad[1].evaluate(swarm)\n",
    "    if valcheck is None:\n",
    "        vals = np.array(0, dtype='float64')\n",
    "    else:\n",
    "        vals = valcheck.sum()*dx\n",
    "    return vals\n",
    "\n",
    "def rms():\n",
    "    return math.sqrt(v2int.evaluate()[0]/areaint.evaluate()[0])\n",
    "\n",
    "#This one gets cleaned up when Surface integrals are available\n",
    "def rms_surf(swarm, dx):\n",
    "    rmsmaxfn = fn.math.dot(velocityField,velocityField)\n",
    "    rmscheck = rmsmaxfn.evaluate(swarm)\n",
    "    if rmscheck is None:\n",
    "        #print \"watch out\"\n",
    "        rmsvals = np.array(0, dtype='float64')\n",
    "    else:\n",
    "        rmsvals = np.sqrt(rmscheck.sum()*dx)\n",
    "        #print \"okay\"\n",
    "    return rmsvals\n",
    "\n",
    "def max_vx_surf(velfield, swarm):\n",
    "    check = velfield[0].evaluate(swarm)\n",
    "    if check is None:\n",
    "        return 0.\n",
    "    else:\n",
    "        return check.max()\n",
    "\n",
    "\n",
    "#def max_vy_surf(velfield, swarm):\n",
    "#    surfvelxmaxfn = fn.view.min_max(velfield[1])\n",
    "#    surfvelxmaxfn.evaluate(swarm)\n",
    "#    return surfvelxmaxfn.max_global()\n",
    "\n",
    "def gravwork(workfn):\n",
    "    return workfn.evaluate()[0]\n",
    "\n",
    "def viscdis(vdissfn):\n",
    "    return vdissfn.evaluate()[0]\n",
    "\n",
    "def visc_extr(viscfn):\n",
    "    vuviscfnMax = fn.view.min_max(viscfn)\n",
    "    vuviscfnMax.evaluate(gSwarm)\n",
    "    vuviscfnMin = fn.view.min_max(viscfn*dummyIntVar)\n",
    "    vuviscfnMin.evaluate(gSwarm)\n",
    "    return vuviscfnMax.max_global(), vuviscfnMin.min_global()\n",
    "\n",
    "\n",
    "def stress_max(scalarStressfn):\n",
    "    fn_minmax_stress = fn.view.min_max(scalarStressfn)\n",
    "    ignore_stress = fn_minmax_stress.evaluate(gSwarm)\n",
    "    return fn_minmax_stress.max_global()\n",
    "\n",
    "\n",
    "def avg_lith_stress():\n",
    "    return stresslithint.evaluate()[0]/lithareaint.evaluate()[0]"
   ]
  },
  {
   "cell_type": "code",
   "execution_count": 361,
   "metadata": {
    "collapsed": false
   },
   "outputs": [
    {
     "data": {
      "text/plain": [
       "0.023471005390947902"
      ]
     },
     "execution_count": 361,
     "metadata": {},
     "output_type": "execute_result"
    }
   ],
   "source": [
    "lithareaint.evaluate()[0]"
   ]
  },
  {
   "cell_type": "code",
   "execution_count": 362,
   "metadata": {
    "collapsed": false
   },
   "outputs": [],
   "source": [
    "#Check dem \n",
    "#stress_max(rockstress)\n",
    "#visc_extr(viscosityMapFn), ndp.StAeta0\n",
    "#avg_lith_stress()"
   ]
  },
  {
   "cell_type": "code",
   "execution_count": 363,
   "metadata": {
    "collapsed": false
   },
   "outputs": [],
   "source": [
    "#Fields for saving data / fields\n",
    "\n",
    "rmsField = uw.mesh.MeshVariable( mesh=mesh,   nodeDofCount=1)\n",
    "rmsfn = fn.math.sqrt(fn.math.dot(velocityField,velocityField))\n",
    "rmsdata = rmsfn.evaluate(mesh)\n",
    "rmsField.data[:] = rmsdata \n",
    "\n",
    "viscField = uw.mesh.MeshVariable( mesh=mesh,   nodeDofCount=1)\n",
    "viscdata = mantleviscosityFn.evaluate(mesh)\n",
    "viscField.data[:] = viscdata\n",
    "\n",
    "\n",
    "strainrateField = uw.mesh.MeshVariable( mesh=mesh,   nodeDofCount=1)\n",
    "srtdata = fn.tensor.second_invariant( \n",
    "                    fn.tensor.symmetric( \n",
    "                        velocityField.fn_gradient ))\n",
    "rostfield = srtdata.evaluate(mesh)\n",
    "strainrateField.data[:] = rostfield\n",
    "\n",
    "viscVariable = gSwarm.add_variable( dataType=\"float\", count=1 )\n",
    "viscVariable.data[:] = viscosityMapFn.evaluate(gSwarm)\n"
   ]
  },
  {
   "cell_type": "code",
   "execution_count": 364,
   "metadata": {
    "collapsed": false
   },
   "outputs": [],
   "source": [
    "#Images\n",
    "figEta = glucifer.Figure()\n",
    "figEta.append( glucifer.objects.Points(gSwarm,viscVariable, logScale=True))\n",
    "\n",
    "\n",
    "figMat = glucifer.Figure()\n",
    "figMat.append( glucifer.objects.Points(gSwarm,materialVariable, colours='brown white blue red'))\n",
    "figMat.append( glucifer.objects.Mesh(mesh))\n",
    "\n",
    "\n",
    "figStrainRate = glucifer.Figure()\n",
    "figStrainRate.append( glucifer.objects.Surface(mesh, strainRate_2ndInvariant, logScale=True))\n",
    "\n",
    "\n",
    "figVelocityMag = glucifer.Figure()\n",
    "figVelocityMag.append( glucifer.objects.Surface(mesh, fn.math.dot(velocityField,velocityField))\n",
    ")\n",
    "figTemp = glucifer.Figure()\n",
    "figTemp.append( glucifer.objects.Surface(mesh, temperatureField))\n",
    "\n",
    "\n",
    "\n",
    "#Pack some stuff into a database as well\n",
    "figDb = glucifer.Figure()\n",
    "figDb.append( glucifer.objects.Points(gSwarm,viscVariable, logScale=True, colours='brown white blue'))\n",
    "figDb.append( glucifer.objects.Points(gSwarm,materialVariable, colours='brown white blue red'))\n",
    "figDb.append( glucifer.objects.Mesh(mesh))\n",
    "figDb.append( glucifer.objects.VectorArrows(mesh,velocityField, arrowHead=0.2, scaling=0.01))\n",
    "figDb.append( glucifer.objects.Surface(mesh, strainRate_2ndInvariant, logScale=True, colours='brown white blue'))\n",
    "figDb.append( glucifer.objects.Surface(mesh, temperatureField))\n",
    "                           "
   ]
  },
  {
   "cell_type": "code",
   "execution_count": 365,
   "metadata": {
    "collapsed": true
   },
   "outputs": [],
   "source": [
    "\n",
    "pics = uw.swarm.PICIntegrationSwarm(gSwarm)"
   ]
  },
  {
   "cell_type": "code",
   "execution_count": 366,
   "metadata": {
    "collapsed": false
   },
   "outputs": [],
   "source": [
    "def checkpoint1(step, checkpointPath,filename, filewrites):\n",
    "    path = checkpointPath + str(step) \n",
    "    os.mkdir(path)\n",
    "    ##Write and save the file, if not already a writing step\n",
    "    if not step % filewrites == 0:\n",
    "        f_o.write((15*'%-15s ' + '\\n') % (realtime, Viscdis, float(Nu0glob), float(Nu1glob), Avg_temp, \n",
    "                                              Rms,Rmsurfglob,Max_vx_surfglob,Gravwork, etamax, etamin, \n",
    "                                              Viscdisair, Viscdislith,Avg_stress, Max_stress))\n",
    "    filename.close()\n",
    "    shutil.copyfile(os.path.join(outputPath, outputFile), os.path.join(path, outputFile))\n",
    "\n",
    "\n",
    "def checkpoint2(step, checkpointPath, swarm, filename, varlist = [materialVariable], varnames = ['materialVariable']):\n",
    "    path = checkpointPath + str(step) \n",
    "    velfile = \"velocityField\" + \".hdf5\"\n",
    "    tempfile = \"temperatureField\" + \".hdf5\"\n",
    "    pressfile = \"pressureField\" + \".hdf5\"\n",
    "    velocityField.save(os.path.join(path, velfile))\n",
    "    temperatureField.save(os.path.join(path, tempfile))\n",
    "    pressureField.save(os.path.join(path, pressfile))\n",
    "    swarm.save(os.path.join(path, \"swarm.h5\") ) \n",
    "    for ix in range(len(varlist)):\n",
    "        varb = varlist[ix]\n",
    "        varb.save(os.path.join(path,varnames[ix] + \".h5\"))\n",
    "        \n",
    "    "
   ]
  },
  {
   "cell_type": "code",
   "execution_count": 218,
   "metadata": {
    "collapsed": false
   },
   "outputs": [],
   "source": [
    "###########\n",
    "#Open file for writing metrics\n",
    "###########\n",
    "\n",
    "if checkpointLoad:\n",
    "    if uw.rank() == 0:\n",
    "        shutil.copyfile(os.path.join(checkpointLoadDir, outputFile), outputPath+outputFile)\n",
    "    comm.Barrier()\n",
    "    #os.rename(os.path.join(checkpointLoadDir, outputFile), outputPath+outputFile)\n",
    "    f_o = open(os.path.join(outputPath, outputFile), 'a')\n",
    "    prevdata = np.genfromtxt(os.path.join(outputPath, outputFile), skip_header=0, skip_footer=0)\n",
    "    realtime = prevdata[prevdata.shape[0]-1, 0]\n",
    "    step = int(checkpointLoadDir.split('/')[-1])\n",
    "    timevals = [0.]\n",
    "else:\n",
    "    f_o = open(outputPath+outputFile, 'w')\n",
    "    realtime = 0.\n",
    "    step = 0\n",
    "    timevals = [0.]"
   ]
  },
  {
   "cell_type": "markdown",
   "metadata": {},
   "source": [
    "Main simulation loop\n",
    "=======\n",
    "\n",
    "The main time stepping loop begins here. Before this the time and timestep are initialised to zero and the output statistics arrays are set up. Also the frequency of outputting basic statistics to the screen is set in steps_output.\n"
   ]
  },
  {
   "cell_type": "code",
   "execution_count": null,
   "metadata": {
    "collapsed": false
   },
   "outputs": [],
   "source": [
    "# initialise timer for computation\n",
    "startMain = time.clock()\n",
    "# Perform steps#\n",
    "while realtime < 0.2:\n",
    "#while step < 25:\n",
    "    #Enter non-linear loop\n",
    "    print step\n",
    "    solver.solve(nonLinearIterate=True)\n",
    "    dt = advDiff.get_max_dt()\n",
    "    if step == 0:\n",
    "        dt = 0.\n",
    "    #start = time.clock()\n",
    "    advDiff.integrate(dt)\n",
    "    #machine_time = (time.clock()-start)\n",
    "    #print(\"total advDiff time is: \" + str(machine_time))\n",
    "    # Advect swarm using this timestep size\n",
    "    #start = time.clock()\n",
    "    advector.integrate(dt)\n",
    "    #machine_time = (time.clock()-start)\n",
    "    #print(\"total advector time is: \" + str(machine_time))\n",
    "    # Increment\n",
    "    realtime += dt\n",
    "    step += 1\n",
    "    timevals.append(realtime)\n",
    "    \n",
    "    ################\n",
    "    #Update temperature field in the air region\n",
    "    ################\n",
    "    if (step % sticky_air_temp == 0):\n",
    "        for index, coord in enumerate(mesh.data):\n",
    "            if coord[1] >= 1.:\n",
    "                temperatureField.data[index] = 0.\n",
    " \n",
    "    ################\n",
    "    #Particle update\n",
    "    ###############\n",
    "    if (step % swarm_update == 0) or (step % metric_output == 0): #These updates should be done before any metric output\n",
    "        #These swarm variables get updated first, as they are used to determine material changes\n",
    "        particledepths = 1. - gSwarm.particleCoordinates.data[:,1]\n",
    "        particletemps = temperatureField.evaluate(gSwarm)[:,0]\n",
    "        conditionmap['depthcondition']['data'] = particledepths\n",
    "        conditionmap['avgtempcondition']['data'] = particletemps\n",
    "        ################\n",
    "        number_updated = 0\n",
    "        for particleID in range(gSwarm.particleCoordinates.data.shape[0]):\n",
    "            check = update_swarm(DG, particleID)\n",
    "            if check > -1:\n",
    "                number_updated += 1\n",
    "                #if check == 0:\n",
    "                #    print \"from \" + str(materialVariable.data[particleID]) + \" to \" + str(check)\n",
    "                materialVariable.data[particleID] = check\n",
    "            else:\n",
    "                pass\n",
    "        #Also update those integration swarms\n",
    "        rockIntVar.data[:] = 0.\n",
    "        notair = np.where(materialVariable.data != airIndex)\n",
    "        rockIntVar.data[notair] = 1.\n",
    "        airIntVar.data[:] = 0.\n",
    "        notrock = np.where(materialVariable.data == airIndex)\n",
    "        airIntVar.data[notrock] = 1.\n",
    "        lithIntVar.data[:] = 0.\n",
    "        islith = np.where((materialVariable.data == lithosphereIndex) | (materialVariable.data == crustIndex))\n",
    "        lithIntVar.data[islith] = 1.\n",
    "        dummyIntVar.data[notrock] = 1e10 \n",
    "\n",
    "    ################            \n",
    "    # Calculate the Metrics, only on 1 of the processors:\n",
    "    ################\n",
    "    if (step % metric_output == 0):\n",
    "        ###############\n",
    "        #Swarm - based Metrics\n",
    "        ###############\n",
    "        tempVariable.data[:] = temperatureField.evaluate(gSwarm)[:]\n",
    "        Avg_temp = avg_temp()\n",
    "        Rms = rms()\n",
    "        Gravwork = gravwork(dwint)\n",
    "        Viscdis = viscdis(vdint)\n",
    "        Viscdisair = viscdis(vdintair)\n",
    "        Viscdislith = viscdis(vdintlith)\n",
    "        etamax, etamin = visc_extr(viscosityMapFn)\n",
    "        #These are the ones that need mpi4py treatment\n",
    "        Nu0loc = nusselt(temperatureField, baseintswarm, dx)\n",
    "        Nu1loc = nusselt(temperatureField, surfintswarm, dx)\n",
    "        Rmsurfloc = rms_surf(surfintswarm, dx)\n",
    "        Max_vx_surfloc = np.array(max_vx_surf(velocityField, surfintswarm),'d') #This float needed to be an array to play with mpi4py\n",
    "        #Setup the global output arrays\n",
    "        dTp = Nu0loc.dtype\n",
    "        Nu0glob = np.array(0, dtype=dTp)\n",
    "        dTp = Nu1loc.dtype\n",
    "        Nu1glob = np.array(0, dtype=dTp)\n",
    "        dTp = Rmsurfloc.dtype\n",
    "        Rmsurfglob = np.array(0, dtype=dTp)\n",
    "        dTp = Max_vx_surfloc.dtype\n",
    "        Max_vx_surfglob = np.array(0.0,dtype=dTp)\n",
    "        #ignore_stress = fn_minmax_stress.evaluate(gSwarm)\n",
    "        Avg_stress = avg_lith_stress()\n",
    "        Max_stress_rock = stress_max(rockstress)\n",
    "        Max_stress_lith = stress_max(lithstress)\n",
    "        #Do global operation ... sum, or max\n",
    "        comm.Allreduce(Nu0loc, Nu0glob, op=MPI.SUM)\n",
    "        comm.Allreduce(Nu1loc, Nu1glob, op=MPI.SUM)\n",
    "        comm.Allreduce(Rmsurfloc, Rmsurfglob, op=MPI.SUM)\n",
    "        comm.Allreduce([Max_vx_surfloc, MPI.DOUBLE],[Max_vx_surfglob, MPI.DOUBLE],op=MPI.MAX)      \n",
    "        # output to summary text file\n",
    "        if uw.rank()==0:\n",
    "            f_o.write((16*'%-16s ' + '\\n') % (realtime, Viscdis, float(Nu0glob), float(Nu1glob), Avg_temp, \n",
    "                                              Rms,Rmsurfglob,Max_vx_surfglob,Gravwork, etamax, etamin, \n",
    "                                              Viscdisair, Viscdislith,Avg_stress, Max_stress_rock, Max_stress_lith))\n",
    "        #test = max_vx_surf(velocityField, surfintswarm)    \n",
    "        #if uw.rank()==0:\n",
    "         #   print(Rmsurfglob,MRms_surf, Max_vx_surfglob, MMax_vx_surf, etamax, Metamax)\n",
    "        #print(Rmsurfloc, test)\n",
    "    ################\n",
    "    #Gldb output\n",
    "    ################ \n",
    "    if (step % gldbs_output == 0) & (writeFiles == True):\n",
    "        #Rebuild any necessary swarm variables\n",
    "        viscVariable.data[:] = viscosityMapFn.evaluate(gSwarm)\n",
    "        #Write gldbs\n",
    "        fnamedb = \"dbFig\" + \"_\" + str(ModIt) + \"_\" + str(step) + \".gldb\"\n",
    "        fullpath = os.path.join(outputPath + \"gldbs/\" + fnamedb)\n",
    "        figDb.show()\n",
    "        figDb.save_database(fullpath)\n",
    "    ################\n",
    "    #Also repopulate entire swarm periodically\n",
    "    ################\n",
    "    if step % swarm_repop == 0:\n",
    "        pics.repopulate()\n",
    "    ################\n",
    "    #Checkpoint\n",
    "    ################\n",
    "    if step % checkpoint_every == 0:\n",
    "        if uw.rank() == 0:\n",
    "            checkpoint1(step, checkpointPath,f_o, metric_output)           \n",
    "        checkpoint2(step, checkpointPath, gSwarm, f_o, varlist = varlist, varnames = varnames)\n",
    "        f_o = open(os.path.join(outputPath, outputFile), 'a') #is this line supposed to be here?\n",
    "     \n",
    "    \n",
    "f_o.close()\n",
    "#print 'step =',step, '; dt =', dt, '; CPU time =', time.clock()-startMain"
   ]
  },
  {
   "cell_type": "code",
   "execution_count": null,
   "metadata": {
    "collapsed": false
   },
   "outputs": [],
   "source": [
    "#avg_temp(), areaint.evaluate()[0]"
   ]
  },
  {
   "cell_type": "code",
   "execution_count": null,
   "metadata": {
    "collapsed": true
   },
   "outputs": [],
   "source": []
  },
  {
   "cell_type": "code",
   "execution_count": null,
   "metadata": {
    "collapsed": false
   },
   "outputs": [],
   "source": [
    "#figEta = glucifer.Figure(figsize=(1024,384))\n",
    "#figEta.append( glucifer.objects.Points(gSwarm,viscVariable, logScale=True))\n",
    "#figEta.save_database('test.gldb')\n",
    "#figEta.show()\n",
    "\n"
   ]
  },
  {
   "cell_type": "code",
   "execution_count": 531,
   "metadata": {
    "collapsed": false
   },
   "outputs": [],
   "source": [
    "\n",
    "figMat = glucifer.Figure()\n",
    "figMat.append( glucifer.objects.Points(gSwarm,materialVariable, colours='brown white blue red black'))\n",
    "\n",
    "figMat.show()\n",
    "figMat.save_database('test.gldb')\n",
    "#valueRange=None"
   ]
  },
  {
   "cell_type": "code",
   "execution_count": 386,
   "metadata": {
    "collapsed": false
   },
   "outputs": [],
   "source": [
    "\n",
    "figMat = glucifer.Figure()\n",
    "figMat.append( glucifer.objects.Points(gSwarm,densityMapFn, logScale=True,))\n",
    "\n",
    "figMat.show()\n",
    "figMat.save_database('test.gldb')\n",
    "#valueRange=None,"
   ]
  },
  {
   "cell_type": "code",
   "execution_count": null,
   "metadata": {
    "collapsed": false
   },
   "outputs": [],
   "source": [
    "#figMat = glucifer.Figure()\n",
    "#figMat.append( glucifer.objects.Points(gSwarm,rockIntVar))\n",
    "#figMat.append( glucifer.objects.Points(gSwarm,rockIntVar, pointSize= 5.))\n",
    "#figMat.append( glucifer.objects.Mesh(mesh))\n",
    "#figMat.save_database('test.gldb')\n",
    "#figMat.show()"
   ]
  },
  {
   "cell_type": "code",
   "execution_count": 384,
   "metadata": {
    "collapsed": false
   },
   "outputs": [],
   "source": [
    "figDb.show()\n",
    "figDb.save_database('test.gldb')"
   ]
  },
  {
   "cell_type": "code",
   "execution_count": 73,
   "metadata": {
    "collapsed": false
   },
   "outputs": [],
   "source": [
    "#figStrainRate = glucifer.Figure()\n",
    "#figStrainRate.append( glucifer.objects.Surface(mesh, strainRate_2ndInvariant, logScale=True))\n",
    "#figStrainRate.show()\n",
    "#figStrainRate.save_database('test.gldb')\n"
   ]
  },
  {
   "cell_type": "code",
   "execution_count": null,
   "metadata": {
    "collapsed": false
   },
   "outputs": [],
   "source": [
    "machine_time = (time.clock()-startMain)\n",
    "print(\"total machine time is: \" + str(machine_time))"
   ]
  },
  {
   "cell_type": "code",
   "execution_count": null,
   "metadata": {
    "collapsed": true
   },
   "outputs": [],
   "source": [
    "print(\"dimensionless time is: \" + str(realtime))"
   ]
  },
  {
   "cell_type": "code",
   "execution_count": null,
   "metadata": {
    "collapsed": false
   },
   "outputs": [],
   "source": [
    "velocityField.evaluate(IWalls)[:,0].max()"
   ]
  },
  {
   "cell_type": "code",
   "execution_count": null,
   "metadata": {
    "collapsed": false
   },
   "outputs": [],
   "source": [
    "#velocityField.evaluate(TWalls)[:,0].max()"
   ]
  },
  {
   "cell_type": "code",
   "execution_count": null,
   "metadata": {
    "collapsed": true
   },
   "outputs": [],
   "source": []
  }
 ],
 "metadata": {
  "kernelspec": {
   "display_name": "Python 2",
   "language": "python",
   "name": "python2"
  },
  "language_info": {
   "codemirror_mode": {
    "name": "ipython",
    "version": 2
   },
   "file_extension": ".py",
   "mimetype": "text/x-python",
   "name": "python",
   "nbconvert_exporter": "python",
   "pygments_lexer": "ipython2",
   "version": "2.7.11"
  }
 },
 "nbformat": 4,
 "nbformat_minor": 0
}
