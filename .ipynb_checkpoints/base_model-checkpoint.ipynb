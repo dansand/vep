{
 "cells": [
  {
   "cell_type": "markdown",
   "metadata": {
    "collapsed": true
   },
   "source": [
    "# Thermal slabs with a visco-elastic-plastic core\n",
    "\n"
   ]
  },
  {
   "cell_type": "markdown",
   "metadata": {},
   "source": [
    "Load python functions needed for underworld. Some additional python functions from os, math and numpy used later on."
   ]
  },
  {
   "cell_type": "code",
   "execution_count": 35,
   "metadata": {
    "collapsed": false
   },
   "outputs": [],
   "source": [
    "#!pip install natsort\n",
    "#!pip install networkx"
   ]
  },
  {
   "cell_type": "code",
   "execution_count": 36,
   "metadata": {
    "collapsed": false
   },
   "outputs": [],
   "source": [
    "import networkx as nx\n",
    "import underworld as uw\n",
    "import math\n",
    "from underworld import function as fn\n",
    "import glucifer\n",
    "#import matplotlib.pyplot as pyplot\n",
    "import time\n",
    "import numpy as np\n",
    "import os\n",
    "import sys\n",
    "import natsort\n",
    "import shutil\n",
    "from easydict import EasyDict as edict\n",
    "import slippy2 as sp\n",
    "from slippy2 import unit_conversions\n",
    "from slippy2 import boundary_layer2d\n",
    "\n",
    "\n",
    "\n",
    "from mpi4py import MPI\n",
    "comm = MPI.COMM_WORLD\n",
    "rank = comm.Get_rank()"
   ]
  },
  {
   "cell_type": "code",
   "execution_count": null,
   "metadata": {
    "collapsed": true
   },
   "outputs": [],
   "source": []
  },
  {
   "cell_type": "markdown",
   "metadata": {
    "collapsed": true
   },
   "source": [
    "def mpy_to_kmpma(mpy):\n",
    "    \"\"\"\n",
    "    convert meters per year to kilometers per year\n",
    "    Args:\n",
    "        mpy (float): velocity in meters per year\n",
    "    Returns:\n",
    "        velocity in kilometers per year\n",
    "    Raises:\n",
    "        TypeError: not implemented\n",
    "        ValueError: not implemented\n",
    "    \"\"\"\n",
    "    return 1e3*mpy\n",
    "\n",
    "def myts(mys):\n",
    "    \"\"\"\n",
    "    convert millions of years to seconds\n",
    "    Args:\n",
    "        mys (float): millions or years\n",
    "    Returns:\n",
    "        seconds\n",
    "    Raises:\n",
    "        TypeError: not implemented\n",
    "        ValueError: not implemented\n",
    "    \"\"\"\n",
    "    secs = mys*(3600.*24*365)*1e6\n",
    "    return secs\n",
    "\n",
    "def stmy(secs):\n",
    "    \"\"\"\n",
    "    convert millions of years to seconds\n",
    "    Args:\n",
    "        mys (float): millions or years\n",
    "    Returns:\n",
    "        seconds\n",
    "    Raises:\n",
    "        TypeError: not implemented\n",
    "        ValueError: not implemented\n",
    "    \"\"\"\n",
    "    myr = secs/((3600.*24*365)*1e6)\n",
    "    return myr"
   ]
  },
  {
   "cell_type": "code",
   "execution_count": 37,
   "metadata": {
    "collapsed": false,
    "scrolled": true
   },
   "outputs": [
    {
     "name": "stdout",
     "output_type": "stream",
     "text": [
      "/Users/dansandiford/Documents/programming/earthsci_code/python/vep\r\n",
      "Peterson.ipynb      Untitled.ipynb      base_model.py\r\n",
      "Peterson.py         adv-diff-slab.ipynb \u001b[1m\u001b[34mresults\u001b[m\u001b[m\r\n",
      "README.md           base_model.ipynb    test.gldb\r\n"
     ]
    }
   ],
   "source": [
    "#Display working directory info if in nb mode\n",
    "if (len(sys.argv) > 1):\n",
    "    if (sys.argv[1] == '-f'):\n",
    "        !pwd && ls"
   ]
  },
  {
   "cell_type": "code",
   "execution_count": 38,
   "metadata": {
    "collapsed": false
   },
   "outputs": [],
   "source": [
    "############\n",
    "#Model name.  \n",
    "############\n",
    "Model = \"T\"\n",
    "ModNum = 5\n",
    "\n",
    "if len(sys.argv) == 1:\n",
    "    ModIt = \"Base\"\n",
    "elif sys.argv[1] == '-f':\n",
    "    ModIt = \"Base\"\n",
    "else:\n",
    "    ModIt = str(sys.argv[1])\n"
   ]
  },
  {
   "cell_type": "code",
   "execution_count": 39,
   "metadata": {
    "collapsed": true
   },
   "outputs": [],
   "source": [
    "###########\n",
    "#Standard output directory setup\n",
    "###########\n",
    "\n",
    "\n",
    "outputPath = \"results\" + \"/\" +  str(Model) + \"/\" + str(ModNum) + \"/\" + str(ModIt) + \"/\"\n",
    "imagePath = outputPath + 'images/'\n",
    "filePath = outputPath + 'files/'\n",
    "checkpointPath = outputPath + 'checkpoint/'\n",
    "dbPath = outputPath + 'gldbs/'\n",
    "outputFile = 'results_model' + Model + '_' + str(ModNum) + '_' + str(ModIt) + '.dat'\n",
    "\n",
    "if uw.rank()==0:\n",
    "    # make directories if they don't exist\n",
    "    if not os.path.isdir(outputPath):\n",
    "        os.makedirs(outputPath)\n",
    "    if not os.path.isdir(checkpointPath):\n",
    "        os.makedirs(checkpointPath)\n",
    "    if not os.path.isdir(imagePath):\n",
    "        os.makedirs(imagePath)\n",
    "    if not os.path.isdir(dbPath):\n",
    "        os.makedirs(dbPath)\n",
    "    if not os.path.isdir(filePath):\n",
    "        os.makedirs(filePath)\n",
    "        \n",
    "comm.Barrier() #Barrier here so no procs run the check in the next cell too early "
   ]
  },
  {
   "cell_type": "code",
   "execution_count": 40,
   "metadata": {
    "collapsed": false
   },
   "outputs": [
    {
     "name": "stdout",
     "output_type": "stream",
     "text": [
      "results/T/1/Base/checkpoint/ is empty\n",
      "results/T/1/Base/checkpoint/100 has files\n",
      "results/T/1/Base/checkpoint/125 has files\n",
      "results/T/1/Base/checkpoint/150 has files\n",
      "results/T/1/Base/checkpoint/175 has files\n",
      "results/T/1/Base/checkpoint/200 has files\n",
      "results/T/1/Base/checkpoint/225 has files\n",
      "results/T/1/Base/checkpoint/25 has files\n",
      "results/T/1/Base/checkpoint/50 has files\n",
      "results/T/1/Base/checkpoint/75 has files\n"
     ]
    }
   ],
   "source": [
    "###########\n",
    "#Check if starting from checkpoint\n",
    "###########\n",
    "\n",
    "checkdirs = []\n",
    "for dirpath, dirnames, files in os.walk(checkpointPath):\n",
    "    if files:\n",
    "        print dirpath, 'has files'\n",
    "        checkpointLoad = True\n",
    "        checkdirs.append(dirpath)\n",
    "    if not files:\n",
    "        print dirpath, 'is empty'\n",
    "        checkpointLoad = False\n",
    "        \n",
    "\n",
    "        "
   ]
  },
  {
   "cell_type": "markdown",
   "metadata": {},
   "source": [
    "Set physical constants and parameters, including the Rayleigh number (*RA*). "
   ]
  },
  {
   "cell_type": "code",
   "execution_count": 41,
   "metadata": {
    "collapsed": false
   },
   "outputs": [
    {
     "data": {
      "text/plain": [
       "12.5"
      ]
     },
     "execution_count": 41,
     "metadata": {},
     "output_type": "execute_result"
    }
   ],
   "source": [
    "(1600)/128."
   ]
  },
  {
   "cell_type": "code",
   "execution_count": 42,
   "metadata": {
    "collapsed": false
   },
   "outputs": [],
   "source": [
    "###########\n",
    "#Physical parameters\n",
    "###########\n",
    "\n",
    "#The Slippy rheology class will contain dimensional and nondimensional values, linked in a self-consistent way by scaling paramters\n",
    "#lowermantle.nondimensional['cohesion']\n",
    "#Where lowermantle is a material class (generated within a rheology class); and non dimensional is a dictionary\n",
    "\n",
    "#UW naming conventions: \n",
    "#module_name, package_name, ClassName, function_name, method_name, \n",
    "#ExceptionName, propertyName GLOBAL_CONSTANT_NAME, globalVarName, instanceVarName, functionParameterName, localVarName\n",
    "###########\n",
    "\n",
    "\n",
    "#dimensional parameter dictionary\n",
    "dp = edict({'LS':2890.*1e3,\n",
    "           'rho':3300,\n",
    "           'g':9.81, \n",
    "           'eta0':1e23,\n",
    "           'k':10**-6,\n",
    "           'a':1.25*10**-5, \n",
    "           'TS':273.,\n",
    "           'TB':2773.,\n",
    "           'deltaT':2500, \n",
    "           'cohesion':1e7, \n",
    "           'E':240000., \n",
    "           'R':8.314,\n",
    "           'V':6.34*(10**-7),\n",
    "           'StALS': 27.*1e3})\n",
    "\n",
    "#non-dimensional parameter dictionary\n",
    "#One draw back of a dictionary structure, is that variables cannot link to other variables\n",
    "RAfac = 80.\n",
    "Stressfac =(RAfac**(2/3.))\n",
    "ndp = edict({'RA':1e6*RAfac,      \n",
    "              'LS':1.,\n",
    "              'eta0':1.,\n",
    "              'StAeta0':0.01,\n",
    "              'k':1.,\n",
    "              'E':11.55,\n",
    "              'V':3.0,\n",
    "              'H':20.,\n",
    "              'TR':(1600./2500.),\n",
    "              'TS':(dp.TS/2500.),\n",
    "              'RD':1.,\n",
    "              'cohesion':1577.*RAfac,\n",
    "              'cohesion_reduce':10.,\n",
    "              'fc':0.2, \n",
    "              'low_visc':1e-4,\n",
    "              'up_visc':1e5,\n",
    "              'random_temp': 0.05})\n",
    "\n",
    "\n",
    "#A few parameters defining lengths scales, affects materal transistions etc.\n",
    "MANTLETOCRUST = (24.*1e3)/dp.LS #Crust depth\n",
    "CRUSTTOMANTLE = (900.*1e3)/dp.LS \n",
    "LITHTOMANTLE = (900.*1e3)/dp.LS \n",
    "MANTLETOLITH = (200.*1e3)/dp.LS \n",
    "TOPOHEIGHT = (0.*1e3)/dp.LS  #rock-air topography limits\n",
    "CRUSTTOECL  = (100.*1e3)/dp.LS\n",
    "AVGTEMP = 0.53 #Used to define lithosphere\n",
    "\n",
    "\n",
    "#Switch on additinal physical mechanisms like crust buoyancy, eclogite buoyancy, lower mantle viscosity, melt viscosity reduction \n",
    "\n",
    "crust_buoyancy = True\n",
    "ecl_buoyancy = True\n",
    "lower_mantle = True\n",
    "melt_viscosity_reduction= True\n",
    "\n",
    "\n",
    "#Compositional Rayliegh numbers for air, crust, ecglogite\n",
    "ETAREF = dp.rho*dp.g*dp.a*dp.deltaT*((dp.LS)**3)/(ndp.RA*dp.k) #equivalent dimensional reference viscosity\n",
    "#RC = (3300.*dp.g*(dp.LS)**3)/(ETAREF *dp.k) #Composisitional Rayleigh number for rock-air buoyancy force\n",
    "RCA = (1650.*dp.g*(dp.LS)**3)/(ETAREF *dp.k) #Composisitional Rayleigh number for rock-air buoyancy force\n",
    "COMP_RA_FACT_AIR = RCA/ndp.RA\n",
    "RCC = (100.*dp.g*(dp.LS)**3)/(ETAREF *dp.k) #Composisitional Rayleigh number for crust\n",
    "COMP_RA_FACT_CRUST = RCC/ndp.RA\n",
    "RCE = -1*(200.*dp.g*(dp.LS)**3)/(ETAREF *dp.k) #Composisitional Rayleigh number for eclogite \n",
    "COMP_RA_FACT_ECL = RCE/ndp.RA\n",
    "ndp[\"StA_RA\"] = ndp.RA*COMP_RA_FACT_AIR\n",
    "if crust_buoyancy:\n",
    "    ndp[\"Crust_RA\"] = ndp.RA*COMP_RA_FACT_CRUST\n",
    "else:\n",
    "    ndp[\"Crust_RA\"] = 0.\n",
    "if ecl_buoyancy:\n",
    "    ndp[\"Ecl_RA\"] = ndp.RA*COMP_RA_FACT_ECL\n",
    "else:\n",
    "    ndp[\"Ecl_RA\"] = 0.\n",
    "    \n",
    "\n",
    "\n",
    "#######################To be replaced soon\n",
    "#Physical parameters that can be defined with STDIN,\n",
    "#The == '-f': check is a a hack check to see cover the notebook case\n",
    "if len(sys.argv) == 1:\n",
    "    ndp.cohesion = ndp.cohesion\n",
    "elif sys.argv[1] == '-f':\n",
    "    ndp.cohesion = ndp.cohesion\n",
    "else:\n",
    "    ndp.cohesion = float(sys.argv[1])*newvisc"
   ]
  },
  {
   "cell_type": "code",
   "execution_count": 43,
   "metadata": {
    "collapsed": false
   },
   "outputs": [],
   "source": [
    "###########\n",
    "#Boundary layer / slab paramaters\n",
    "###########\n",
    "\n",
    "subzone = -0.4\n",
    "mor = 0.5\n",
    "vel = 50e3\n",
    "agelimit = 70.\n",
    "thermallimit = 0.8\n",
    "\n",
    "#Slab perturbation paramaters\n",
    "Roc = 450.\n",
    "Crust = 35.\n",
    "theta = 89.\n"
   ]
  },
  {
   "cell_type": "code",
   "execution_count": 44,
   "metadata": {
    "collapsed": false
   },
   "outputs": [
    {
     "data": {
      "text/plain": [
       "0.1092"
      ]
     },
     "execution_count": 44,
     "metadata": {},
     "output_type": "execute_result"
    }
   ],
   "source": [
    "ndp.TS"
   ]
  },
  {
   "cell_type": "code",
   "execution_count": 45,
   "metadata": {
    "collapsed": false
   },
   "outputs": [],
   "source": [
    "###########\n",
    "#Model setup parameters\n",
    "###########\n",
    "\n",
    "stickyAir = False\n",
    "\n",
    "MINX = -0.75\n",
    "MINY = 0.\n",
    "MAXX = 0.75\n",
    "\n",
    "#MAXY = 1.035\n",
    "MAXY = 1.\n",
    "\n",
    "if MINX == 0.:\n",
    "    squareModel = True\n",
    "else: \n",
    "    squareModel = False\n",
    "    \n",
    "    \n",
    "dim = 2          # number of spatial dimensions\n",
    "\n",
    "\n",
    "#MESH STUFF\n",
    "\n",
    "RES = 128\n",
    "\n",
    "\n",
    "if MINX == 0.:\n",
    "    Xres = RES\n",
    "else:\n",
    "    Xres = 192\n",
    "\n",
    "if stickyAir:\n",
    "    Yres = RES\n",
    "    MAXY = 1. + dp.StALS/dp.LS #150km\n",
    "    \n",
    "else:\n",
    "    Yres = RES\n",
    "    MAXY = 1.\n",
    "\n",
    "\n",
    "periodic = [True, False]\n",
    "elementType = \"Q1/dQ0\"\n",
    "#elementType =\"Q2/DPC1\"\n",
    "\n",
    "refineMesh = True\n",
    "\n",
    "\n",
    "#System/Solver stuff\n",
    "\n",
    "PIC_integration=True\n",
    "ppc = 25"
   ]
  },
  {
   "cell_type": "code",
   "execution_count": 46,
   "metadata": {
    "collapsed": false
   },
   "outputs": [],
   "source": [
    "###########\n",
    "#Model Runtime parameters\n",
    "###########\n",
    "\n",
    "swarm_update = 10\n",
    "swarm_repop = 25\n",
    "files_output = 1e6\n",
    "gldbs_output = 5\n",
    "images_output = 1e6\n",
    "checkpoint_every = 25\n",
    "metric_output = 25\n",
    "sticky_air_temp = 10\n",
    "\n",
    "comm.Barrier() #Barrier here so not procs run the check in the next cell too early \n",
    "\n",
    "assert metric_output <= checkpoint_every, 'Checkpointing should run less or as ofen as metric output'\n",
    "#assert (metric_output >= swarm_update), 'Swarm update is needed before checkpointing'\n",
    "#assert metric_output >= sticky_air_temp, 'Sticky air temp should be updated more frequently that metrics'\n"
   ]
  },
  {
   "cell_type": "code",
   "execution_count": 47,
   "metadata": {
    "collapsed": false
   },
   "outputs": [],
   "source": [
    "###########\n",
    "#Model output parameters\n",
    "###########\n",
    "\n",
    "#Do you want to write hdf5 files - Temp, RMS, viscosity, stress?\n",
    "writeFiles = True\n",
    "loadTemp = True\n",
    "\n",
    "    "
   ]
  },
  {
   "cell_type": "code",
   "execution_count": 48,
   "metadata": {
    "collapsed": false
   },
   "outputs": [],
   "source": [
    "mesh = uw.mesh.FeMesh_Cartesian( elementType = elementType,\n",
    "                                 elementRes  = (Xres, Yres), \n",
    "                                 minCoord    = (MINX,MINY), \n",
    "                                 maxCoord=(MAXX,MAXY), periodic=periodic)\n",
    "\n",
    "\n",
    "\n",
    "velocityField       = uw.mesh.MeshVariable( mesh=mesh,         nodeDofCount=dim )\n",
    "pressureField       = uw.mesh.MeshVariable( mesh=mesh.subMesh, nodeDofCount=1 )\n",
    "temperatureField    = uw.mesh.MeshVariable( mesh=mesh,         nodeDofCount=1 )\n",
    "temperatureDotField = uw.mesh.MeshVariable( mesh=mesh,         nodeDofCount=1 )"
   ]
  },
  {
   "cell_type": "code",
   "execution_count": 49,
   "metadata": {
    "collapsed": false
   },
   "outputs": [
    {
     "data": {
      "text/plain": [
       "(192, -0.75, [True, False], 'Q1/dQ0')"
      ]
     },
     "execution_count": 49,
     "metadata": {},
     "output_type": "execute_result"
    }
   ],
   "source": [
    "Xres, MINX, periodic, elementType"
   ]
  },
  {
   "cell_type": "markdown",
   "metadata": {},
   "source": [
    "Create Finite Element (FE) variables for the velocity, pressure and temperature fields. The last two of these are scalar fields needing only one value at each mesh point, while the velocity field contains a vector of *dim* dimensions at each mesh point."
   ]
  },
  {
   "cell_type": "markdown",
   "metadata": {},
   "source": [
    "Create some dummy fevariables for doing top and bottom boundary calculations."
   ]
  },
  {
   "cell_type": "markdown",
   "metadata": {},
   "source": [
    "## Refine mesh"
   ]
  },
  {
   "cell_type": "code",
   "execution_count": 50,
   "metadata": {
    "collapsed": false
   },
   "outputs": [],
   "source": [
    "#X-Axis\n",
    "\n",
    "if refineMesh:\n",
    "    mesh.reset()\n",
    "    axis = 0\n",
    "    origcoords = np.linspace(mesh.minCoord[axis], mesh.maxCoord[axis], mesh.elementRes[axis] + 1)\n",
    "    edge_rest_lengths = np.diff(origcoords)\n",
    "\n",
    "    deform_lengths = edge_rest_lengths.copy()\n",
    "    min_point =  (abs(mesh.maxCoord[axis]) - abs(mesh.minCoord[axis]))/2.\n",
    "    el_reduction = 1.00\n",
    "    dx = mesh.maxCoord[axis] - min_point\n",
    "\n",
    "    deform_lengths = deform_lengths - \\\n",
    "                                    ((1.-el_reduction) *deform_lengths[0]) + \\\n",
    "                                    abs((origcoords[1:] - min_point))*((0.5*deform_lengths[0])/dx)\n",
    "\n",
    "    #print(edge_rest_lengths.shape, deform_lengths.shape)\n",
    "\n",
    "    sp.deform_1d(deform_lengths, mesh,axis = 'x',norm = 'Min', constraints = [])"
   ]
  },
  {
   "cell_type": "code",
   "execution_count": 51,
   "metadata": {
    "collapsed": false
   },
   "outputs": [],
   "source": [
    "axis = 1\n",
    "orgs = np.linspace(mesh.minCoord[axis], mesh.maxCoord[axis], mesh.elementRes[axis] + 1)\n",
    "\n",
    "value_to_constrain = 1.\n",
    "\n",
    "\n",
    "yconst = [(sp.find_closest(orgs, value_to_constrain), np.array([1.,0]))]\n"
   ]
  },
  {
   "cell_type": "code",
   "execution_count": 52,
   "metadata": {
    "collapsed": false
   },
   "outputs": [],
   "source": [
    "#Y-Axis\n",
    "if refineMesh:\n",
    "    #Y-Axis\n",
    "    axis = 1\n",
    "    origcoords = np.linspace(mesh.minCoord[axis], mesh.maxCoord[axis], mesh.elementRes[axis] + 1)\n",
    "    edge_rest_lengths = np.diff(origcoords)\n",
    "\n",
    "    deform_lengths = edge_rest_lengths.copy()\n",
    "    min_point =  (mesh.maxCoord[axis])\n",
    "    el_reduction = 0.75001\n",
    "    dx = mesh.maxCoord[axis]\n",
    "\n",
    "    deform_lengths = deform_lengths - \\\n",
    "                                    ((1.-el_reduction)*deform_lengths[0]) + \\\n",
    "                                    abs((origcoords[1:] - min_point))*((0.5*deform_lengths[0])/dx)\n",
    "\n",
    "    #print(edge_rest_lengths.shape, deform_lengths.shape)\n",
    "\n",
    "    sp.deform_1d(deform_lengths, mesh,axis = 'y',norm = 'Min', constraints = yconst)"
   ]
  },
  {
   "cell_type": "markdown",
   "metadata": {},
   "source": [
    "# ICs and BCs"
   ]
  },
  {
   "cell_type": "code",
   "execution_count": 53,
   "metadata": {
    "collapsed": true
   },
   "outputs": [],
   "source": [
    "# Initialise data.. Note that we are also setting boundary conditions here\n",
    "velocityField.data[:] = [0.,0.]\n",
    "pressureField.data[:] = 0.\n",
    "temperatureField.data[:] = 0.\n",
    "temperatureDotField.data[:] = 0.\n"
   ]
  },
  {
   "cell_type": "markdown",
   "metadata": {},
   "source": [
    "## Temp ICs"
   ]
  },
  {
   "cell_type": "code",
   "execution_count": 54,
   "metadata": {
    "collapsed": false
   },
   "outputs": [
    {
     "data": {
      "text/plain": [
       "2890000.0"
      ]
     },
     "execution_count": 54,
     "metadata": {},
     "output_type": "execute_result"
    }
   ],
   "source": [
    "dp.LS"
   ]
  },
  {
   "cell_type": "code",
   "execution_count": 55,
   "metadata": {
    "collapsed": false
   },
   "outputs": [],
   "source": [
    "#boundary_layer2d.agefunc(0.0, off, vel = vel, dom = (MINX,MAXX))\n",
    "\n",
    "lith= boundary_layer2d.LithosphereTemps(mesh, temperatureField, 2890e3, subzone, mor, tint=0.8, vel= 10e3, diffs = 1e-6)\n",
    "\n",
    "\n",
    "#lith= boundary_layer2d.LithosphereTemps(mesh, temperatureField, dp.LS, subzone, mor, tint=0.8, vel=vel, diffs = 1e-6)\n",
    "\n"
   ]
  },
  {
   "cell_type": "code",
   "execution_count": 56,
   "metadata": {
    "collapsed": false
   },
   "outputs": [],
   "source": [
    "#lith.agefunc?"
   ]
  },
  {
   "cell_type": "code",
   "execution_count": 57,
   "metadata": {
    "collapsed": false
   },
   "outputs": [],
   "source": [
    "fudge = 1.\n",
    "\n",
    "for index, coord in enumerate(mesh.data):\n",
    "    xloc = coord[0]\n",
    "    agema = lith.agefunc(xloc)\n",
    "    #print agema\n",
    "    if agelimit:\n",
    "        agema = min(agelimit, agema)\n",
    "    if thermallimit:\n",
    "        if (1.-coord[1]) < (lith.lithdepthfunc(agema)/dp.LS)*thermallimit: #comparison of dimensionless (model) lengths\n",
    "            zloc = ((1.- coord[1])* dp.LS) # dimensional depth kms\n",
    "            t = lith.tempfunc(agema,  zloc)\n",
    "            temperatureField.data[index] = t\n",
    "        else:\n",
    "            temperatureField.data[index] = lith.tint\n",
    "    \n",
    "    else:\n",
    "        if coord[1] >= 1.:\n",
    "            temperatureField.data[index] = ndp.TS\n",
    "        else:\n",
    "            zloc = ((1.- coord[1])* dp.LS) # dimensional depth kms\n",
    "            t = lith.tempfunc(agema, zloc)\n",
    "            temperatureField.data[index] = t  "
   ]
  },
  {
   "cell_type": "code",
   "execution_count": 58,
   "metadata": {
    "collapsed": false
   },
   "outputs": [
    {
     "data": {
      "text/plain": [
       "2890000.0"
      ]
     },
     "execution_count": 58,
     "metadata": {},
     "output_type": "execute_result"
    }
   ],
   "source": [
    "lith.tempfunc(50., 150e3)\n",
    "dp.LS"
   ]
  },
  {
   "cell_type": "markdown",
   "metadata": {},
   "source": [
    "## Slab perturbation"
   ]
  },
  {
   "cell_type": "code",
   "execution_count": 59,
   "metadata": {
    "collapsed": true
   },
   "outputs": [],
   "source": [
    "#testField    = uw.mesh.MeshVariable( mesh=mesh,         nodeDofCount=1 )\n",
    "#testField.data[:] = 0."
   ]
  },
  {
   "cell_type": "code",
   "execution_count": 60,
   "metadata": {
    "collapsed": false
   },
   "outputs": [],
   "source": [
    "def inCircleFnGenerator(centre, radius):\n",
    "    coord = fn.input()\n",
    "    offsetFn = coord - centre\n",
    "    return fn.math.dot( offsetFn, offsetFn ) < radius**2\n",
    "\n",
    "#Setup slab perturbation params (mostly dimensionles / model params here)\n",
    "phi = 90. - theta\n",
    "RocM = (Roc/dp.LS)*1e3\n",
    "CrustM = MANTLETOCRUST\n",
    "#slabdepth = lithdepthfunc(agefunc(off, off, vel), dp.k)\n",
    "slabdepthM = lith.lithdepthfunc(lith.agefunc(subzone)) /dp.LS\n",
    "#slabdepthM *= 5.\n",
    "Org = (0.+subzone, 1.-RocM)\n",
    "#Use three circles to define our slab and crust perturbation,  \n",
    "Oc = inCircleFnGenerator(Org , RocM)\n",
    "Gc = inCircleFnGenerator(Org , RocM + (50e3/dp.LS)) #a slightly larger circle for the 'gap'\n",
    "Ic = inCircleFnGenerator(Org , RocM - slabdepthM)\n",
    "Cc = inCircleFnGenerator(Org , RocM - CrustM)\n",
    "dx = (RocM)/(np.math.tan((np.math.pi/180.)*phi))\n",
    "\n",
    "#Work our which way the slab should face:\n",
    "sense = 'Left'\n",
    "#if lith.agefunc(subzone + 0.0001) < lith.agefunc(subzone - 0.0001):\n",
    "#    sense = 'Right'\n",
    "\n",
    "#We'll also create a triangle which will truncate the circles defining the slab...\n",
    "if sense == 'Left': \n",
    "    ptx = subzone - dx\n",
    "else:\n",
    "    ptx = subzone + dx\n",
    "\n",
    "coords = ((0.+subzone, 1), (0.+subzone, 1.-RocM), (ptx, 1.))\n",
    "Tri = fn.shape.Polygon(np.array(coords))\n",
    "\n"
   ]
  },
  {
   "cell_type": "code",
   "execution_count": 65,
   "metadata": {
    "collapsed": false
   },
   "outputs": [],
   "source": [
    "#Assign temperatures in the perturbation region\n",
    "#sds = []\n",
    "if sense == 'Left': \n",
    "    age = lith.agefunc(subzone + 0.001)\n",
    "else:\n",
    "    age = lith.agefunc(subzone - 0.001)\n",
    "    \n",
    "if agelimit:\n",
    "        age = min(agelimit, age)\n",
    "\n",
    "for index, coord in enumerate(mesh.data):\n",
    "    #if Oc.evaluate(tuple(coord)) and Tri.evaluate(tuple(coord)) and not Ic.evaluate(tuple(coord)): #in inner circle, not in outer circle\n",
    "    if Oc.evaluate(tuple(coord)) and Tri.evaluate(tuple(coord)): #In the quarter-circle defining the lithosphere\n",
    "\n",
    "        sd = ((RocM - math.sqrt((coord[0] - Org[0])**2 + (coord[1] - Org[1])**2))*dp.LS) #distance from slab edge in m\n",
    "        #print sd\n",
    "        if thermallimit:\n",
    "            if sd < (lith.lithdepthfunc(age))*thermallimit: #comparison of dimensionless (model) lengths\n",
    "                t = lith.tempfunc(age, sd)\n",
    "                temperatureField.data[index] = t\n",
    "        else:\n",
    "            t = lith.tempfunc(age, sd)\n",
    "            temperatureField.data[index] = t\n",
    "    if Gc.evaluate(tuple(coord)) and Tri.evaluate(tuple(coord)) and not Oc.evaluate(tuple(coord)):\n",
    "        temperatureField.data[index] =  lith.tint"
   ]
  },
  {
   "cell_type": "code",
   "execution_count": 66,
   "metadata": {
    "collapsed": false
   },
   "outputs": [
    {
     "data": {
      "text/html": [
       "<img src='data:image/png;base64,iVBORw0KGgoAAAANSUhEUgAAAoAAAAHgCAIAAAC6s0uzAAAbfElEQVR42u3dy3IbaZqY4f+QCYCAWnXq6Y6OdsRsfRv2xfhmvPDeF2Pfgpeza8/YHjv6VFKJIgkg///zIhMHkqpjSzWt0vMEgwElQYhMEHjxJTKBHBEJAPh5FasAAAQYAAQYABBgABBgAECAAUCAAQABBgABBgAEGAAEGAAEGAAQYAAQYABAgAFAgAEAAQYAAQYABBgABBgABBgAEGAAEGAAQIABQIABAAEGAAEGAAQYAAQYAAQYABBgABBgAECAAUCAAQABBgABBgAEGAAEGAAEGAAQYAAQYABAgAFAgAEAAQYAAQYABBgABBgAPkXDB730nLNVDMDHKCI+4gCnlP7Df/1vrsXnarR1O6za8bxkN919dXj1Yro7L9mXel/rVC5bKf68/s0fN7851PXV30dKV38hOaWaWo12vSSnnh//GXlYxKd8p5of36nmFDmlRzekSDnFu87z5Azx6IYW71hyfTlP/7ks6fnRTbg/+ZaSWo5+XlJSrzE9WVKubvIpxdD7cH2GiHVv695yjpxSyvH8HuBYyr7UKZeIFClHpJZLy6XncvVLl55LXN1/tDz0PFz/+D2Xnuv1muvzndBl7eeeclzNZvH4n+cl1xcbKaV3Lbn6lhRP79ie/p6R8rPzpPj2KfG//6f/+HFPwCmlz9e3bvHPszcHeP4o0VNKu7j7qr76qr36av+qRk8p7Uu5r8N9He7r8gf95/7XX/e//mn1269XX57/7FKkOP2h5RQ12pBaPd2Mc0RJfb7lX27Y4drgU7zdXQX4+s458uPiLredFOdl881n/sbLkqvvyinmh7mXJfON7iq6OaJ8z5JYbrCnuueIEq3kObGRUirRa5pKbjWmU197jlZSL6fo1uhDtKH3snzLEuB1a0Pq+dSva1Mu+1L3pe5r7ZEjLQGecm2nBvdcetS4qnJLQ09DS/W0JPdcey491VPYcqTcU4nTt8xxvW5wpNxzjsdL4vmSpcHX57mO7vLPy5LTV6+jG0uV89Ud4aMlP/O94wcP8BcC/K57hKsA79ftsOrHXdx/WV99VV59VV99dXj1Ynq7L3Wu730d7kudSlkC3L/+U/rNHze/PZTVfA8QpwbnFDX6kNo8Bw+ppxRleZQ939T744eIrg0+tRJHTun0oDXmWTaflp8etp4Lffq8LLmK9/Kg9jLXnh/mnkt81eDH/4w4pbHnJbqnry4Pl3tOUaLnHDl6Sa1EK9Fz6iW1mlqJqeY2j8Il9ZxamU9EyymG3pcGR6/R6xzg1pYM9/Z85SwBrkuGj7ksAS51WkbhvNQ3LRmOlJcA59rS0HOdR+Se6jwHRyqR8nzOeXRePnI5N/i0JJ8zPIfzHOA5vbGk96qypxNxHdqcl1H4cX2fLLnq7vWX8s8/m3z4AMdrt/wcfYzj9ePrGrFux7nBm3ZYt8NDWR1X4zGNhzQe0phTqiXXWk4f9VDrb6c/5imXKZcp5yl/vf5q6FOc7jEiUo5UUhuW+raa+ukW3svp8+WBnyuGX754NgdfjapxGXbPZZ2nzycNnjcv5+sSnxdG5JTKchM7bWqKKMtj38soPP9HJSIvt8plsC7LGXpJkSKV1M8Zni+zLANuK9FKihqtxFSj1ZhKTPPTTEuho5XUU0pD70O0Gn1ucIlYR1tHX0db9zY8fiC+bIXOZd/rMgeXGjm15c6mtlKmXFJKc1wjl55rT6Xn0nJteeinBvece6rnM5zqm69jfD3y9qWalyWPv5oizydqXIr7NManBp83XF+dmLOaT9f21RAccf6uR9u0f1kT8P4v7gNKxKrv132f0/J3P0Rs2rRpbd2XDdEPZfX16uW/bv7hoYz7Ou7LOJXxdtzeDZtlCK517NOqH3fT3d10t5vuDvVmbMdVP+boyw08oqRWY56A+5BaWZ4AvszB2QZoPr2p99EEHE9H26vKptOTNY+WpMdz7TnV59Mleo1WTxNtTlEilUtcz9/+dDI+Vfn8PNEcjevHzfPlzBNwqxEloqZeYypx2RCdU5Ro87h8vtsZotfea+o/ZF2N0YepD7UP0YfofalRnpZR+LwNeX4muPZcWs495ZZry7Xnoefal2d5y2kIXloYqcQ5wymlnHrKkUs/BTKutjz3nNvjHrdcWq7XE/MydVx6nE4Lz0HN55k4pavPp6n6sjBfT8k/62zywQP85f6v7gVy9HU/rPp+1ffzKDxEX7e2aW3T26Yd1+2wL6vddPf16uXX48t9We3LairD23F7O2zfjtv7Ot7XYezHsR9X7bg73u2Gu0O5WfXj2I6rfhj6lCKn5YbaSrSa2pBaiX565L48yjb48ullOB6diKeT7tWwe94ofanseXv1u+bg5UJKLBNnjXbeqlwi6mXzcrpMYel603RKj54wTtc/Qzm1fD49j8L1dLE1Won2eKetyzPBcy6H6PUH78qbU9q0VnvUGo93tsrT9a5VOZ0Sm1vKc4lbHnoq57G1p9wvyVyeke2pXG0KTtcbma82Keee0tzgZTN1zi3PW8LreVP24yd9Hw3B6bTV+pLh0wbq00bp663Q5x/gepP1z5Thn2ECFuBUos8T8Kof5hNDtE1rmzZt+pLhfVltp7vddLdb3X09fvavm3+YA/x23L0dtvMovAR4ie5xN92t2rzkMJ+YH4aXaCXNj45bvt4Dy/jLpzgBx+MT5y3Pj6KbTnspnufdZw1+5xy8LC8R5wAvo3BEXap5HoUfzd9X/0znUfjy1TjPyqmcPpdlJ6xT2iOeT7f5WW5/7K1+HoX7sz2Tn27cX+qbT3Nw7rn0lGOZblM/j7+nTbuXE8vMmtLTp2mXfbJ6yi2nvoR8GbLbssV72Qvsqr5Ph+DTmHve5pzTZf+sfP28bzxdkn7OfWM+eIC/2r9yL5BTKilWfb9qc4b393Xzv9a/3vRLg1dpmup4rOOxjMc63I3boU9jO47lOJbjqh0PZawxDX2qfRpiqjFtjvc1plU7J/mw6tPYl/H3NAr3cn1v8uS4JfjkMpzeld6rPJ/2qLreHJ0uO1vFuXDXj2tzSjmWXZ8uc3BKcybnAKerefd6wrra8+t8sVc7gkUqy/7S6Twin+ob9cMcqDr/5E+C+/RMkcaUruo7H3GU+im9/RL/fHq8kx9vi7ik7nyg0bykP77YSGkJcKktl55KeveMez0HX023j5ak9Ghn6Xxd4qvf8xcxAX91+MbtP59uP0Mc1/24alOJ45/G4Z92/5hSnbdFr9I05Dbm9mr18tXq5avx5dDbdrr7fP967NPYpqFPQxzGfhjjME/AYz/WmGochz6t+nHVDmOf1r2tej/vplFSnx8sm4DR4KdzYUR+OiY+PXL3cZ7Tk0ex+ekwnZYhuLfzjFuXyfX5YU7X02U8uct/GumrAP9dmX+7nFJL6byPZ+TcI0W+TOPx7IjbOP/q+dmSdB6FU7tsoz72tBwWdT4O6rwN+VFcT609r93HhxFfNkQ/ugbyO6b8X8AEbC/o5ao+70+x7scS5cV0fDEd/3Dz2z9vv9z0toppKG1u8KGOX69eDn061HF7vN9O92M/BTj2Yz8MfX8V4KnEVGNu8HHV26r3dW9jbyW1En15sHzZFVOD+ZQz/KgCT1+7IcWzTs+vd/N4I/ZVMS7P6V7u13tddqpa/sfzBPzjfpjnLxgSf48HL+QUQ0S+HivjtIH+8c/77JUx3rEm4nGJ+/Kk8mV9tFz79Yty5HcMr0/X06MX8Thfb88fEPzyAmwCvpqAL/tT1DnA04vp+Odx+KfdP7ZS5/oOuQ1lGnMb+nQsq0NZHepqO91/fng99OMS4OXzYZ6A5wzXPo0xzQFe9TZ/DL2X03NRc4ldHfAdIXzXfXC8Y5h+Vo/8qMfp6jDi8ybOX/Ktr0bEk1/wJ/66OR4NxJdnjk+fp3g8NJ+ug+9+7vb7n9n9+a+eDx7gMZpbeE95X+r1ENxKHksby7Qq01jaWFqkvJkezgEeclv3/brfrfv9ut1v2v12ur9p0+pU37HvhzjOxyfUmGo/1pjmIxDmCXjV26q1etl9YwmwrdDwg0fk7zxbvGMWzM8mqeeblz/xtfe9HcyPApznLRBx+VrE81H6vKXi76+y/5YBLu7tU8o5Sop9qS2X+XCCh2G4r0OqMdQ21jbUFimv+/FXh9tVOg6lDXla9f2636/6/a7db6c5wMdNmzZ9Gvt+jMPQD3PRa+pl2Ra9PNwZIla9r66OQCinDdGuDvip/Ygf8l2O9HtfV0ekOb+X14rMkeLpFuV07nP+wVfC38n94AcPcDVvpdQj1Yia4pjTvgw5pYc6vh2GuzocaxlqG0uLnMfehtp2x7vt8X7IbdUf5gCv+/1mCfB006dNm27acdWPQxyuj0+oMT05BHDVe338kjclhXsHeM+ePVlrlbzXh0RPnwJ4MgHndwT347gKfoYJ2N9iSjmXlEosxyTsa31bh7d1eDuMd3W4qzXVGHIb2jTUNvS2bocXh7ebdjfXd9Uf1u1+1e9v2vEU4GkehZfjE5YDDd3ygV/+lon8rmOiPkaDa/eDjLxX+9anlPZ59c+b378Zbval7Gt9KLWk9vJweyybQ14fyuaYN8dSN+3upr29abebdnvTbnfT4aYdVv0wHzq87vt82oxcrw4BvDq+Qn0BBPiTF3OGU0rzseo5/Xn15f9b/8NDqfs5wO3Ny3b75f71VNbHvD6Wuu53c4O37e1Nu71p+207bttx3U4BPh0IeN6jynoGEGDeneH5rcV6yj3l+7L+l5vfv6k3OU2ftduX88f+zTGvj2VYt7t1v1u3u9MovL9px5t23E7HTTsF+LSnZYmo1i+AAHOJbs5TrucXYzu/6mmk+T0D46+rL97U3ct2+7K9OWf48+M363a36XenDN9v2mHTjpt23PTjth227ZhPhxSn54eRAyDA/N+b3/5l/dn8UmqRckqxboeX8fZl3L7st7/qt6nEtr05P91702637f6mHTZtv26HdT+s236IdvXmZXILIMD8AHfD9l92vzvmIXJKEet+WLXDy/72Zdy+jNvcYxdvt/321OA3N+3hph1upsNN36/bft0OQ7TTS0im69kXAAHm+0bh7W/+uv48Razn/ZnbYd0OL/ttzrHtt7t+u+u326XBDzfT4aYdtu1w0w7rvh96q+dXsHJAF4AA891ieUeQ5dnf27r9y+bzTduv2hLgdT+8aHe7eLuLu21/u+tvt+1u3R42/bDph3U/bPrhZjrU6PXqZZxtggYQYJ5F9/E/e8o9yvXHajq8mG6v5uD9pj8sT/f2w7rv1/049D70GHofeh+iG3kBBJgfHeNIuUduUebPLXLufTu9XUbhvt+0+017OAX4sG77de+raGPEEDE4zBdAgPnx9T2dmBvcLwPx2OZReL9pD5t+v2n368so3NatrUzAAALMD/FQV+lqK3SkNMQ0xFSjDTEN0Ur0HD1FT9Fz70M77qb7Tbvf9IfTHLwfYhp7G6KNvY/RvNAVgADzPY55eDXuei7njc8PdfOi3b1ob1+0uxft7r6tb9r9ui8fqz6/s8Lh9PaCx02bakx2swIQYH60N8P2btjME/BD3TzUTU6xa3cv2tv7tn7R3+7a3fymRqcGHzbtuG3HmzZt+rFGS15tA0CA+Wmj8Otx13J5qJuH4eahbh7qetfv7tp6HoVf9Lub+e0F+/26H1f9sO6Hm3a8adMQ03whGgwgwPyw2be8eFN258/fjNtN7B/KOH8cyvCi3e+mh117eDHdv2j3u3a/6oca0xDHIaYax7FPQ/RzejUYQID5fi2VP9Vf/3H44vXw4vWw+6Zuv+jffDG9LtFLRIloZdhO9y+m/W46zB837TCc9rHKogsgwPxkt3n3v+vvXtfdN8Pubd+97dsv+uvtdFciWqnb6f5mut9N+xfT4cW037TDML/QVXT1BRBg/rZRONc/1l//uX7+tmzf9u3bvvuiv/6ivV71tJ3ut9P9zXS3ne530+Gm7WvEqcGhwQCfmmIV/O1qjVr7+eNh3Dyk1fXHuu1X/bhux/Xp86q3MdoQfext7G1wyC+ACZifsh5rX63aapxWqzaObYxp3B/G/jD2/Rj7Vd+v+mFcXmSjz5+tNAAB5j3IJcZVG8dptZpW0Va9reK4avtV3y8l7vtVn84NtsYABJj3t0KHPo5t7G2MaYw29mk8zEPww6rvx9iP/bDqbSXAAALMj3IspeVHu0zVmMZ+XLXlY50OYz6M6Tim43xi6Meceo5WopfUc+o5edIXQID5sQ3OZV/r+Z+3wxipb9rDpu03bb+Z9pu2X/XDEIehH4Y4jLEf+iS6AAjw3ypSeii15ZJSuh2G22F8qHXsh/Xc4LbftId1249xGPth6IcxpjGO5fR6kwAIMH/DKFzyvtTbYbwdhjnDj0bh9rBp+7HvxzgM/Tj0aYzj0I/ZQUcAnzzHAf8UOaUcKZ9ePaNErzHV3mqfakzrfhx6q9GG6LW35f2AU+QUKWI5AYAA8xMbfM5wxND7uh3W/bBux1U7rPph7K1Gr2l5vcka3eALgAC/jwZHKimVSOXU47FPq35Ydofuh7Efh+hzfUtETb2YfQEQ4PcgTnNwpBKRI9XeV/24bodVO676cdXmNxycR+GlxDZBAyDAP2XwnZ/HXT4iarQxpiHaENMQ09inGlEi5s8loly914L6AiDAP33wTemyE1ZOKUcf+jT0NvZp6NMQ0xBtqW+k+YT3OwJAgN9Xh+ftyZFTyilqtGEOcJ+G3oY+1eiXOTjCc8AAzBwH/KNNubZcWqotlZZqTzVHyhHz5xIxxjT2+aONfaqXUTiWPbZUGECArYIf61X57A+r3+9LPZQyf/4svdmlhzK/1HO0En3dpl07bttx26bdNG2aF8ACQID/Zj2Vfx7/3V/ry30ph1o/izdfpVdfxuuSWkm9RKupD73t2rRr064dBRgAAX5vvq6f/WH1+0M5B/jVV/F6F/cl2nkaXrdp20zAAAjwe1hl05DbmNqYWknxf4bf/TV9/k386nW8/Ca9+ipefRmv8/y2g9FL6kNvNwIMgAD/jVZ5+nV+9Sbvvsm7b8ruTdkN7bBptzfx5ia9uYnbm7gd42hFASDA79+v8t1vytdv8os3+cVQ9tt+u21vbuJ2E29u4s2mHdftWFK3ogAQ4Pc9Cqd5FH4x5P02v9mW2+305mYehdvxph037Th0ozAAAvw+bKeH7XB/02627X7bbn7b/5Kjb9Obbdxu4802bm+mu1Vvq36cP2yOBkCA38cqi+l393/aTve76X7+3HJJKd20h+2037aHm+nBWgJAgD+Iz463u+lh2+637aHn5RU9h37cTvubtrd+ABDgDz4K91yvl2+aCRgAAf7wo7CVAMCP5d2QAECAAUCAAQABBgABBgAEGAAEGAAQYAAQYABAgAFAgAFAgAEAAQYAAQYABBgABBgAEGAAEGAAQIABQIABQIABAAEGAAEGAAQYAAQYABBgABBgAECAAUCAAUCAAQABBgABBgAEGAAEGAAQYAAQYABAgAFAgAFAgAEAAQYAAQYABBgABBgAEGAAEGAAQIABQIABQIABAAEGAAEGAAQYAAQYABBgABBgAECAAUCAAUCAAQABBgABBgAEGAAEGAAQYAAQYABAgAFAgAFAgAEAAQYAAQYABBgABBgAEGAAEGAAQIABQIABQIABAAEGAAEGAAQYAAQYABBgABBgAECAAUCAAUCArQIAEGAAEGAAQIABQIABAAEGAAEGAAQYAAQYABBgABBgABBgAECAAUCAAQABBgABBgAEGAAEGAAQYAAQYAAQYABAgAFAgAEAAQYAAQYABBgABBgAEGAAEGAAEGAAQIABQIABAAEGAAEGAAQYAAQYABBgABBgABBgAECAAUCAAQABBgABBgAEGAAEGAAQYAAQYAAQYABAgAFAgAEAAQYAAQYABBgABBgAEGAAEGAAEGAAQIABQIABAAEGAAEGAAQYAAQYABBgABBgABBgAECAAUCAAQABBgABBgAEGAAEGAAQYAAQYAAQYABAgAFAgAEAAQYAAQYABBgABBgAEGAAEGAAEGAAQIABQIABAAEGAAEGAAQYAAQYABBgABBgAECAAUCAAUCAAQABBgABBgAEGAAEGAAQYAAQYABAgAFAgAFAgAEAAQYAAQYABBgABBgAEGAAEGAAQIABQIABQIABAAEGAAEGAAQYAAQYABBgABBgAECAAUCAAUCAAQABBgABBgAEGAAEGAAQYAAQYABAgAFAgAFAgAEAAQYAAQYABBgABBgAEGAAEGAAQIABQIABQIABAAEGAAEGAAQYAAQYABBgABBgAECAAUCAAUCAAQABBgABBgAEGAAEGAAQYAAQYABAgAFAgAFAgAEAAQYAAQYABBgABBgAEGAAEGAAQIABQIABQIABAAEGAAEGAAQYAAQYABBgABBgAECAAUCAAQABBgABBgABBgAEGAAEGAAQYAAQYABAgAFAgAEAAQYAAQYAAQYABBgABBgAEGAAEGAAQIABQIABAAEGAAEGAAEGAAQYAAQYABBgABBgAECAAUCAAQABBgABBgABBgAEGAAEGAAQYAAQYABAgAFAgAEAAQYAAQYAAQYABBgABBgAEGAAEGAAQIABQIABAAEGAAEGAAEGAAQYAAQYABBgABBgAECAAUCAAQABBgABBgABBgAEGAAEGAAQYAAQYABAgAFAgAGAdxo+6KVHRM7ZWgaAJ3JEWAsA8DOzCRoABBgABBgAEGAAEGAAQIABQIABAAEGAAEGAAQYAAQYAAQYABBgABBgAECAAUCAAQABBgABBgAEGAAEGAA+JcNH/dPnnF2FAJ+miBDgf0v//r/8j5RSzimlOJ2Y2xynE8s1lVNKl68+O3+K+auns33L+U8L333+y1dTyt9+/pRS/vbzp5RyyilOJ77l/Cmuvvrs/CkuD07yt5//ev08P/93r8/rVRcpL2sgcpzXRuSUUkROy3+XI9LV6SfnSVeXsJzndMnz6Xde8nz6ySUv53/XJS/nf3zJH/3Pf/XVR0vm6/H5OR8vf/RTvWv5+Xd5es5nyy+/xbcsf/5zfvw/fzpfa5d/Llfl1a31cs705HuvrvTL+U83uB94gXH1vT/kAuPxD3N1D/auC3z2210u8HKH812/3fde4JPf7nsvMFJK5T//z4+9XzZBA4AAA4AAAwACDAACDAAIMAAIMAAgwADw9yd/1K8k4pWwAD5ZXgnLFQCAAexHswkaAAQYAAQYAPhAsudQAcAEDACfhI97L+jzXnDmeIBftu++w/8Yc/ARb4LOefnh5/WuwQC/4Pp+xx3++atPTv+d+yVsgpZegE/EL+kO33PAAPBvYLAKAPjYx+KP8TlgAQbg4+Y5YADgUwqw90QC+HSG3V/O7/LLeDtCO0IDfCLpfb61+brKH1EO/j8PzntXqruW1QAAAABJRU5ErkJggg=='>"
      ],
      "text/plain": [
       "<IPython.core.display.HTML object>"
      ]
     },
     "execution_count": 66,
     "metadata": {},
     "output_type": "execute_result"
    }
   ],
   "source": [
    "figTemp = glucifer.Figure()\n",
    "figTemp.append( glucifer.objects.Surface(mesh, temperatureField))\n",
    "\n",
    "#figTemp.save_database('test.gldb')\n",
    "figTemp.show()"
   ]
  },
  {
   "cell_type": "code",
   "execution_count": 239,
   "metadata": {
    "collapsed": false
   },
   "outputs": [],
   "source": [
    "# Get the actual sets \n",
    "#\n",
    "#  HJJJJJJH\n",
    "#  I      I\n",
    "#  I      I\n",
    "#  I      I\n",
    "#  HJJJJJJH\n",
    "#  \n",
    "#  Note that H = I & J \n",
    "\n",
    "# Note that we use operator overloading to combine sets\n",
    "# send boundary condition information to underworld\n",
    "IWalls = mesh.specialSets[\"MinI_VertexSet\"] + mesh.specialSets[\"MaxI_VertexSet\"]\n",
    "JWalls = mesh.specialSets[\"MinJ_VertexSet\"] + mesh.specialSets[\"MaxJ_VertexSet\"]\n",
    "TWalls = mesh.specialSets[\"MaxJ_VertexSet\"]\n",
    "BWalls = mesh.specialSets[\"MinJ_VertexSet\"]"
   ]
  },
  {
   "cell_type": "code",
   "execution_count": null,
   "metadata": {
    "collapsed": false
   },
   "outputs": [],
   "source": []
  },
  {
   "cell_type": "code",
   "execution_count": 240,
   "metadata": {
    "collapsed": false
   },
   "outputs": [],
   "source": [
    "#Set Dirichlet Temp conditions\n",
    "\n",
    "for index in mesh.specialSets[\"MinJ_VertexSet\"]:\n",
    "    temperatureField.data[index] = 1.\n",
    "for index in mesh.specialSets[\"MaxJ_VertexSet\"]:\n",
    "    temperatureField.data[index] = 0.\n",
    "\n",
    "\n",
    "# Now setup the dirichlet boundary condition\n",
    "# Note that through this object, we are flagging to the system \n",
    "# that these nodes are to be considered as boundary conditions. \n",
    "# Also note that we provide a tuple of sets.. One for the Vx, one for Vy.\n",
    "freeslipBC = uw.conditions.DirichletCondition(     variable=velocityField, \n",
    "                                              indexSetsPerDof=(IWalls + TWalls, JWalls) )\n",
    "\n",
    "# also set dirichlet for temp field\n",
    "dirichTempBC = uw.conditions.DirichletCondition(     variable=temperatureField, \n",
    "                                              indexSetsPerDof=(JWalls,) )\n",
    "\n",
    "\n",
    "#dT_dy = [0.,0.]\n",
    "\n",
    "# also set dirichlet for temp field\n",
    "#neumannTempBC = uw.conditions.NeumannCondition( dT_dy, variable=temperatureField, \n",
    "#                                         indexSetsPerDof=BWalls)"
   ]
  },
  {
   "cell_type": "code",
   "execution_count": 241,
   "metadata": {
    "collapsed": false
   },
   "outputs": [],
   "source": [
    "#temperatureField.data[TWalls.data].max()"
   ]
  },
  {
   "cell_type": "markdown",
   "metadata": {},
   "source": [
    "##Add Random 125 K temp perturbation\n"
   ]
  },
  {
   "cell_type": "markdown",
   "metadata": {
    "collapsed": true
   },
   "source": [
    "tempNump = temperatureField.data\n",
    "\n",
    "#In gerneral we only want to do this on the initial setup, not restarts\n",
    "\n",
    "if not checkpointLoad:\n",
    "    for index, coord in enumerate(mesh.data):\n",
    "        pertCoeff = (0.05*(np.random.rand(1)[0] - 0.5)) #this should create values between [-0.5,0.5] from uniform dist.\n",
    "        ict = tempNump[index]\n",
    "        tempNump[index] = ict + pertCoeff"
   ]
  },
  {
   "cell_type": "code",
   "execution_count": 242,
   "metadata": {
    "collapsed": false
   },
   "outputs": [],
   "source": [
    "\n",
    "figVelocityMag = glucifer.Figure(figsize=(1024,384))\n",
    "figVelocityMag.append( glucifer.objects.Surface(mesh, temperatureField) )\n",
    "figVelocityMag.show()\n",
    "figVelocityMag.append(glucifer.objects.Mesh(mesh))\n",
    "#figVelocityMag.save_database('test.gldb')"
   ]
  },
  {
   "cell_type": "markdown",
   "metadata": {},
   "source": [
    "# Particles"
   ]
  },
  {
   "cell_type": "code",
   "execution_count": 243,
   "metadata": {
    "collapsed": false
   },
   "outputs": [],
   "source": [
    "###########\n",
    "#Material Swarm and variables\n",
    "###########\n",
    "\n",
    "gSwarm = uw.swarm.Swarm(mesh=mesh)\n",
    "materialVariable = gSwarm.add_variable( dataType=\"int\", count=1 )\n",
    "rockIntVar = gSwarm.add_variable( dataType=\"double\", count=1 )\n",
    "airIntVar = gSwarm.add_variable( dataType=\"double\", count=1 )\n",
    "lithIntVar = gSwarm.add_variable( dataType=\"double\", count=1 )\n",
    "dummyIntVar = gSwarm.add_variable( dataType=\"double\", count=1 ) #This one is used so we can safely ignore values in the air region\n",
    "\n",
    "varlist = [materialVariable, rockIntVar, airIntVar, lithIntVar]\n",
    "varnames = ['materialVariable', 'rockIntVar', 'airIntVar', 'lithIntVar']"
   ]
  },
  {
   "cell_type": "code",
   "execution_count": 244,
   "metadata": {
    "collapsed": false
   },
   "outputs": [],
   "source": [
    "###########\n",
    "#Swarms for surface integrals when using Sticky air\n",
    "###########\n",
    "\n",
    "snum = 1000.\n",
    "dx = (mesh.data[:,0].max()- mesh.data[:,0].min())/snum\n",
    "yp = 0.9947 #1. - yelsize/2. at res = 96\n",
    "\n",
    "mesh.data[:,0].max()\n",
    "xps = np.linspace(mesh.data[:,0].min(),mesh.data[:,0].max(), snum)\n",
    "yps = [yp for i in xps]\n",
    "\n",
    "surfintswarm = uw.swarm.Swarm( mesh=mesh )\n",
    "dumout = surfintswarm.add_particles_with_coordinates(np.array((xps,yps)).T)\n",
    "\n",
    "yps = [ 1.- yp  for i in xps]\n",
    "\n",
    "baseintswarm = uw.swarm.Swarm( mesh=mesh)\n",
    "dumout = baseintswarm.add_particles_with_coordinates(np.array((xps,yps)).T)"
   ]
  },
  {
   "cell_type": "markdown",
   "metadata": {},
   "source": [
    "#Initialise swarm variables, or Swarm checkpoint load"
   ]
  },
  {
   "cell_type": "code",
   "execution_count": null,
   "metadata": {
    "collapsed": false
   },
   "outputs": [],
   "source": []
  },
  {
   "cell_type": "code",
   "execution_count": 245,
   "metadata": {
    "collapsed": false
   },
   "outputs": [],
   "source": [
    "mantleIndex = 0\n",
    "lithosphereIndex = 1\n",
    "eclIndex = 2\n",
    "crustIndex = 3\n",
    "airIndex = 4\n",
    "tempIndex = 5\n",
    "\n",
    "\n",
    "\n",
    "\n",
    "if checkpointLoad:\n",
    "    checkpointLoadDir = natsort.natsorted(checkdirs)[-1]\n",
    "    temperatureField.load(os.path.join(checkpointLoadDir, \"temperatureField\" + \".hdf5\"))\n",
    "    pressureField.load(os.path.join(checkpointLoadDir, \"pressureField\" + \".hdf5\"))\n",
    "    velocityField.load(os.path.join(checkpointLoadDir, \"velocityField\" + \".hdf5\"))\n",
    "    gSwarm.load(os.path.join(checkpointLoadDir, \"swarm\" + \".h5\"))\n",
    "    for ix in range(len(varlist)):\n",
    "        varb = varlist[ix]\n",
    "        varb.load(os.path.join(checkpointLoadDir,varnames[ix] + \".h5\"))\n",
    "\n",
    "else:\n",
    "\n",
    "    # Layouts are used to populate the swarm across the whole domain\n",
    "    # Create the layout object\n",
    "    layout = uw.swarm.layouts.PerCellRandomLayout(swarm=gSwarm, particlesPerCell=ppc)\n",
    "    # Now use it to populate.\n",
    "    gSwarm.populate_using_layout( layout=layout )\n",
    "\n",
    "    # Lets initialise the 'materialVariable' data to represent different materials\n",
    "    # Set the material to heavy everywhere via the numpy array\n",
    "    materialVariable.data[:] = mantleIndex\n",
    "    \n",
    "    \n",
    "    #Set initial air and crust materials (allow the graph to take care of lithsophere)\n",
    "    #########\n",
    "    #This initial material setup will be model dependent\n",
    "    #########\n",
    "    for particleID in range(gSwarm.particleCoordinates.data.shape[0]):\n",
    "        if (1. - gSwarm.particleCoordinates.data[particleID][1]) < 0:\n",
    "                 materialVariable.data[particleID] = airIndex\n",
    "        elif (1. - gSwarm.particleCoordinates.data[particleID][1]) < MANTLETOCRUST:\n",
    "                 materialVariable.data[particleID] = crustIndex\n"
   ]
  },
  {
   "cell_type": "markdown",
   "metadata": {},
   "source": [
    "#Material Graphs"
   ]
  },
  {
   "cell_type": "code",
   "execution_count": 246,
   "metadata": {
    "collapsed": false
   },
   "outputs": [],
   "source": [
    "##############\n",
    "#Important: This is a quick fix for a bug that arises in parallel runs\n",
    "##############\n",
    "material_list = [0,1,2,3,4,5]\n"
   ]
  },
  {
   "cell_type": "code",
   "execution_count": 247,
   "metadata": {
    "collapsed": false
   },
   "outputs": [
    {
     "name": "stdout",
     "output_type": "stream",
     "text": [
      "unique values after swarm has loaded:[0 3 4]\n"
     ]
    }
   ],
   "source": [
    "print( \"unique values after swarm has loaded:\" + str(np.unique(materialVariable.data[:])))\n"
   ]
  },
  {
   "cell_type": "code",
   "execution_count": null,
   "metadata": {
    "collapsed": false
   },
   "outputs": [],
   "source": []
  },
  {
   "cell_type": "code",
   "execution_count": 248,
   "metadata": {
    "collapsed": false
   },
   "outputs": [],
   "source": [
    "#All depth conditions are given as (km/D) where D is the length scale,\n",
    "#note that 'model depths' are used, e.g. 1-z, where z is the vertical Underworld coordinate\n",
    "#All temp conditions are in dimensionless temp. [0. - 1.]\n",
    "\n",
    "#######Graph object\n",
    "DG = nx.DiGraph(field=\"Depth\")\n",
    "\n",
    "#######Nodes\n",
    "#Note that the order of materials, deepest to shallowest is important\n",
    "DG.add_node(0, mat='mantle')\n",
    "DG.add_node(1, mat='lithosphere')\n",
    "DG.add_node(2, mat='ecl')\n",
    "DG.add_node(3, mat='crust')\n",
    "DG.add_node(4, mat='air')\n",
    "DG.add_node(5, mat='temp')\n",
    "\n",
    "\n",
    "labels=dict((n,d['mat']) for n,d in DG.nodes(data=True))\n",
    "pos=nx.spring_layout(DG)\n",
    "\n",
    "\n",
    "#######Edges\n",
    "#anything to air\n",
    "DG.add_edges_from([(0,4),(1,4), (3,4)])\n",
    "DG[0][4]['depthcondition'] = -1*TOPOHEIGHT\n",
    "DG[1][4]['depthcondition'] = -1*TOPOHEIGHT\n",
    "DG[3][4]['depthcondition'] = -1*TOPOHEIGHT\n",
    "\n",
    "\n",
    "#Anything to mantle\n",
    "DG.add_edges_from([(3,0), (1,0), (2,0), (5,0)])\n",
    "DG[3][0]['depthcondition'] = CRUSTTOMANTLE #Normal crust\n",
    "DG[1][0]['depthcondition'] = LITHTOMANTLE #This means we're going to kill lithosphere at the 660.\n",
    "DG[2][0]['depthcondition'] = CRUSTTOMANTLE #Eclogite crust\n",
    "DG[5][0]['depthcondition'] = CRUSTTOMANTLE #Normal crust\n",
    "\n",
    "#Anything to lithsphere\n",
    "DG.add_edges_from([(0,1),(4,1)])\n",
    "DG[0][1]['depthcondition'] = MANTLETOLITH\n",
    "DG[0][1]['avgtempcondition'] = 0.75*AVGTEMP #definition of thermal lithosphere\n",
    "\n",
    "\n",
    "#Anything to crust\n",
    "DG.add_edges_from([(0,3), (1,3), (4,3)])\n",
    "DG[0][3]['depthcondition'] = MANTLETOCRUST\n",
    "DG[1][3]['depthcondition'] = MANTLETOCRUST\n",
    "DG[4][3]['depthcondition'] = TOPOHEIGHT\n",
    "\n",
    "#crust to eclogite\n",
    "DG.add_edges_from([(3,2)])\n",
    "DG[3][2]['depthcondition'] =CRUSTTOECL\n",
    "\n",
    "\n"
   ]
  },
  {
   "cell_type": "code",
   "execution_count": 249,
   "metadata": {
    "collapsed": false
   },
   "outputs": [
    {
     "data": {
      "text/plain": [
       "0.10380622837370242"
      ]
     },
     "execution_count": 249,
     "metadata": {},
     "output_type": "execute_result"
    }
   ],
   "source": [
    "CRUSTTOMANTLE"
   ]
  },
  {
   "cell_type": "code",
   "execution_count": 250,
   "metadata": {
    "collapsed": false
   },
   "outputs": [],
   "source": [
    "#material_list"
   ]
  },
  {
   "cell_type": "code",
   "execution_count": 251,
   "metadata": {
    "collapsed": false
   },
   "outputs": [],
   "source": [
    "remove_nodes = []\n",
    "for node in DG.nodes():\n",
    "    if not node in material_list:\n",
    "        remove_nodes.append(node)\n",
    "        \n",
    "for rmnode in remove_nodes:\n",
    "    DG.remove_node(rmnode)"
   ]
  },
  {
   "cell_type": "code",
   "execution_count": 252,
   "metadata": {
    "collapsed": false
   },
   "outputs": [
    {
     "data": {
      "text/plain": [
       "[0, 1, 2, 3, 4, 5]"
      ]
     },
     "execution_count": 252,
     "metadata": {},
     "output_type": "execute_result"
    }
   ],
   "source": [
    "DG.nodes()"
   ]
  },
  {
   "cell_type": "code",
   "execution_count": 253,
   "metadata": {
    "collapsed": true
   },
   "outputs": [],
   "source": [
    "#A Dictionary to map strings in the graph (e.g. 'depthcondition') to particle data arrays\n",
    "\n",
    "particledepths = 1. - gSwarm.particleCoordinates.data[:,1]\n",
    "particletemps = temperatureField.evaluate(gSwarm)[:,0]\n",
    "\n",
    "conditionmap = {}\n",
    "\n",
    "conditionmap['depthcondition'] = {}\n",
    "conditionmap['depthcondition']['data'] = particledepths\n",
    "conditionmap['avgtempcondition'] = {}\n",
    "conditionmap['avgtempcondition']['data'] = particletemps"
   ]
  },
  {
   "cell_type": "code",
   "execution_count": 254,
   "metadata": {
    "collapsed": true
   },
   "outputs": [],
   "source": [
    "def update_swarm(graph, particleIndex):\n",
    "    \"\"\"\n",
    "    This function takes the materials graph (networkx.DiGraph), and a particle index,\n",
    "    then determines if a material update is required \n",
    "    and if so, returns the new materialindex\n",
    "    Args:\n",
    "        graph (networkx.DiGraph): Directed multigraph representing the transformation of material types\n",
    "        particleIndex (int): the particle index as corressponding to the index in the swarm data arrays\n",
    "    Returns:\n",
    "        if update is required the function returns the the new material variable (int) \n",
    "        else returns None\n",
    "    Raises:\n",
    "        TypeError: not implemented\n",
    "        ValueError: not implemented\n",
    "    \"\"\"\n",
    "    ##Egde gives links to other materials, we then query the conditions to see if we should change materials\n",
    "    matId = materialVariable.data[particleIndex][0]\n",
    "    innerchange = False\n",
    "    outerchange = False\n",
    "    for edge in graph[matId]:\n",
    "        if outerchange:\n",
    "            break\n",
    "        for cond in graph[matId][edge].keys():\n",
    "            outerchange = False\n",
    "            if innerchange: #found a complete transition, break inner loop\n",
    "                break\n",
    "            currentparticlevalue = conditionmap[cond]['data'][particleIndex]\n",
    "            crossover = graph[matId][edge][cond]\n",
    "            if ((matId > edge) and (currentparticlevalue > crossover)):\n",
    "                innerchange = False # continue on, \n",
    "                if graph[matId][edge].keys()[-1] == cond:\n",
    "                    outerchange = True\n",
    "                    innerchange = edge\n",
    "                    break\n",
    "            elif ((matId < edge) and (currentparticlevalue < crossover)):\n",
    "                innerchange = False\n",
    "                if graph[matId][edge].keys()[-1] == cond:\n",
    "                    outerchange = True\n",
    "                    innerchange = edge\n",
    "                    break\n",
    "            else:\n",
    "                #condition not met, break outer loop, go to next edge, outerchange should still be False\n",
    "                break\n",
    "    if type(innerchange) == int:\n",
    "        return innerchange"
   ]
  },
  {
   "cell_type": "code",
   "execution_count": 255,
   "metadata": {
    "collapsed": true
   },
   "outputs": [],
   "source": [
    "#Set the crust material in the slab using shapes/function from uw.\n",
    "\n",
    "if not checkpointLoad:\n",
    "    #materialVariable.data[:] = mantleIndex\n",
    "    #lithtemp = 0.95*0.8\n",
    "    #tempswarm = temperatureField.evaluate(gSwarm)[:,0]\n",
    "\n",
    "    #At this point, we only have to assign any materials that are defined by setup shapes,\n",
    "    #the rest of the materials will be assigned using the materials graph\n",
    "\n",
    "    for particleID in range(gSwarm.particleCoordinates.data.shape[0]):\n",
    "        coord = gSwarm.particleCoordinates.data[particleID]\n",
    "        if gSwarm.particleCoordinates.data[particleID][1] > (1.0 - CrustM):\n",
    "            materialVariable.data[particleID] =  crustIndex\n",
    "        elif Oc.evaluate(tuple(coord)) and Tri.evaluate(tuple(coord)) and not Cc.evaluate(tuple(coord)):\n",
    "            #print(\"True\")\n",
    "            materialVariable.data[particleID] =  crustIndex\n",
    "        if Gc.evaluate(tuple(coord)) and Tri.evaluate(tuple(coord)) and not Oc.evaluate(tuple(coord)):\n",
    "            materialVariable.data[particleID] =  tempIndex"
   ]
  },
  {
   "cell_type": "code",
   "execution_count": 256,
   "metadata": {
    "collapsed": false
   },
   "outputs": [],
   "source": [
    "#Cleanse the swarm of its sins\n",
    "#For some Material Graphs, the graph may have to be traversed more than once\n",
    "\n",
    "check = -1\n",
    "number_updated = 1\n",
    "\n",
    "while number_updated != 0:\n",
    "    number_updated = 0\n",
    "    for particleID in range(gSwarm.particleCoordinates.data.shape[0]):\n",
    "        check = update_swarm(DG, particleID)\n",
    "        if check > -1:\n",
    "            number_updated += 1\n",
    "            materialVariable.data[particleID] = check"
   ]
  },
  {
   "cell_type": "code",
   "execution_count": null,
   "metadata": {
    "collapsed": false
   },
   "outputs": [],
   "source": []
  },
  {
   "cell_type": "code",
   "execution_count": 257,
   "metadata": {
    "collapsed": false
   },
   "outputs": [
    {
     "data": {
      "text/html": [
       "<img src='data:image/png;base64,iVBORw0KGgoAAAANSUhEUgAAAoAAAAHgCAIAAAC6s0uzAAAgAElEQVR42uzdd5gUVd43/O+pqq6O0z3TkwMzMAkYwhCGrCwiiqIIKLqIKCYUFRV1BUURFUEBRcyyK+q6KGLWXRUVRZCchzzD5Bx6YueucN4/ukb39X2u53rv+7lx131+n8s/AHu6qk6dOt/zO1XdwzjnIIQQQshvS6AmIIQQQiiACSGEEApgQgghhFAAE0IIIRTAhBBCCKEAJoQQQiiACSGEEEIBTAghhFAAE0IIIYQCmBBCCKEAJoQQQiiACSGEEEIBTAghhFAAE0IIIYQCmBBCCKEAJoQQQggFMCGEEEIBTAghhBAKYEIIIYQCmBBCCKEAJoQQQggFMCGEEEIBTAghhBAKYEIIIYQCmBBCCCEUwIQQQggFMCGEEEIogAkhhBAKYEIIIYQCmBBCCCEUwIQQQggFMCGEEEIogAkhhBAKYEIIIYRQABNCCCEUwIQQQgihACaEEEIogAkhhBAKYEIIIYRQABNCCCEUwIQQQgihACaEEEIogAkhhBBCAUwIIYRQABNCCCGEApgQQgihACaEEEIogAkhhBBCAUwIIYRQABNCCCGEApgQQgihACaEEEIIBTAhhBBCAUwIIYQQCmBCCCGEApgQQgihACaEEEIIBTAhhBBCAUwIIYQQCmBCCCGEApgQQgghFMCEEEIIBTAhhBBCKIAJIYQQCmBCCCGEApgQQgghFMCEEEIIBTAhhBBCKIAJIYQQCmBCCCGEUAATQgghFMCEEEIIoQAmhBBCKIAJIYQQCmBCCCGEUAATQgghFMCEEEIIoQAmhBBCKIAJIYQQQgFMCCGEUAATQgghhAKYEEIIoQAmhBBCKIAJIYQQQgFMCCGEUAATQgghhAKYEEIIoQAmhBBCCAUwIYQQQgFMCCGEEApgQgghhAKYEEIIIRTAhBBCyL8EP8fygfnAVQAACXgYmAOMBwDcBQCYC7wM3AYsAlYAmcBy4HZgNPAMcBOQAgB4BrgDWAUAWNGz8zcAswEAbuAZYD5wJ/BEz/9dDowDHgMWAgAeA+YDAB4BADzf87LhwHnAU8AzwBrgMQDAEmAMAKBfz8uGAQAeBVzANOAi4CbgIeBSIA6Y0vOyFcC1wBXAqH/6l5UAgIuAiT07vAQAEAs83POy6G6n97z4lp5/7w08DzwCLAdEAD0/Mq+nNQBMBJzANcBE4A//dHJzgWk9fx7U84f7AQBFPX+9p2dzfwDm95yUSUB/wAasA/oDAO4FZgBm4BZgWM9W1vW8yULgGiAXWAHc8E9v+zTwCjAVuBZ4GugLPAOMBB4G7gUeAOL+V/PBq3r+WtCzP6OBh3oO/Ip/OnAAYwAzMB+IBbJ6zvvcf9qxqJuBxcDTwECAAUt62jm6A9OAAQCAF3tePxZY/k+dJPoOAO4DVgNFwKXAdQCA64DBgAjMAe4DhgMAsntaYGnPj18LLOhp+WnACGAK8DSQDzwPTAUm9HS56AldBdwIAMjr+ce5wOPA8p7duLqne1ze06MeAi7r6duvAADigYeAO4F84EVg+T9dO/h/d7ybgNXAKsAKTABWA48Ci4FYYAVwMbAEWATMAfJ7TvEM4EHgBQDAc8BEAMAsAEAasAYAcD6QDwC4o+dUDu3ZfwtwIfBcT1df1vPjGcCknldeCbwAXANYgIXA2p5O8gqwDBgFLAcSe14fdTXwKPAY8BxwKTAbeBx4uufMjgHSgBuA54EHAACTgbt7etTtwEJgPQCgEHgauBCQgblAbyCppxss72nka4BMoHdPa6Pnf90CjAQA9AEA/AG4FwCQDAB4vKcbrAbmArMBFzAReKrnVJqBKT0956qeP/QDJgAv/9PYtfyfjvoOYAxwIfBHYEbPgNm/53qPB57tGdkAPAm8BiwAzgem9lzLzwBLgJHA04AJGAlcAswBAFzfcxQDe8aowcAKIBHIBRYAjwCzejr8CGAWcDNwFeACngJy/mm0ie78FT1ve3nP2BJt2NeB+J6L96KeS/Kpno0OAdYBTwPo6VS5wI3AIOBa4FJgAPAM8BjwbM8R3QhcCeQD9wAWAECvnrF6NDAPKALGAnOAVADAecBtPf0keiznOh8Z5/zcpTtj7M9A6vjxbUeOgDHF7+eaBsYSi4raiosdGRmhtjY1ENAVhUmSZDbHDxvWtHMnEwTZ5XIPGuSvq2Oi2FVaOunDDw8uXTr4T3+q/eora2pq+fvvh9vbbampjszMlr17zW53/9tvL16zRna5dEXRIxEIwsxjxzbn5trS0gINDYkjRwqSZElMrP78c7PbHW5vn8f5G5Ik2e2qz3erpm0wmTImT6758ktbWlqgsTGmd29fTQ3XtNh+/TrPnEkYNix75sz9S5YAECRJtFonffihHokce+651oMHdUWJKygYtHDh3gceCLW1mePjw21tTBC4ricMG+Y5fNiRleWrrpbs9j+Wlb2XlsZMJkdWVrCxUfH5wBhjjOs6gHmcv+1waJHI4AceSBgx4odZs6xJSYHGxpg+fUatWRNobj62erWvurpgwYKTL74oO50Rr5cxljt7dtmmTVzXc6+9tvyDD0STSQuHOefgHIxZ4uO1cFjxepNGjWrZty96SgRJyp45s2zTJjAm2Wx6JCLKMjOZtHD4vNde237jjca85Mknj65YYXa7bampnsOHRavVlprqq6yMdhhLYmLY4xm6dGnNV195Dh7849mzH+Tn36rrf2EselAAUidMiOnTp/Stt8D5xM2bd86fP3X79i1TpgSbm/vddpvJ6Sz7298G3nvviZde8tfVAeCaJkjSLYryhii6+vYd8/zzX19yCQBLQoIeiUQ7zzzO/yIIrry8rtJSALLLNWLFit333mtJSAg2NwNIOe+8pl27zHFx4Y4O0WIZs27d3oULIQjmuLhQa6spJsaRmdl+/PjQRx89vnZtfGFh086dt2raXxiT7HaTwxHp7MydM6dkw4Z5nL/jdjNBCHd1cVUVzWYtHAZjoiyLsqxFIo5evborK685c+bDAQMG3n33sbVrox0+acyY5l27Lvrkk++uvFKy21W/P9oZJJtNDQYt8fERrxeaJphMkt0uWizB5uZRq1fXfvNN/Xff3djd/bbTGZOVpfh8cQMGKH5/+7FjQx999NBjjw199NGyd99lgqCGQvFDhogWS6Ch4dJvvnnb4QBjVx09+smQIWDMkpRkTUx0FxaWv/fesKVLDz3xhDUpKdTe7h4woO3YsQs3bfrh2ms5531vvrls40ZNUUSLRQsGc+fMKd+0CZy7+vbtLivTFSW6t6LFoofDhQ89VLJhQ9oFF1R8+GH0zBY+/PCR5cslq1UNhayJifk33VS8erUgirqqilZrwtChwZYWa1JS66FDCUOGtO7fzySJaxrnPGfWrPL335edTnCu+HwmhyPS3Z0ze3bVJ5+YbLZwVxc4z73uurMbNwJggCU5+bJvv/1szJghixdX//3vrQcOCGazHg4DiLbqhL/+df9DDwWamsA5Y4yJoj0jI+TxSHZ7sKUl+6qrKj7+OH7IkEBDA9c0JopxBQUdp06F29u5prkHDw61tY1dt85fV1e8Zk3OtdeWvvWWe/Dghh9+sCYn64rCdd2Wmtp99iwYM7vdis+nRyJgjKuqKMtqKCTI8kUfffTttGmccyaKqRMmNP74ozM3V46J8dXWKl6vGgjE9us3cOHCjhMnyj/4INTS0m/evJING8AYE4SkUaOadu2a/Pnn31xxhT0jI9jSYna7s6ZOLXv3XTUQAGNzGhu3XHaZ5/Dhebre8MMPX118sdntHvfyy9/PmhVXUOCrrja73YGmplvC4eh1Z0lICHs8tvR0rmmBpqbksWM9Bw/qmsZVNW3ixO7ycl91tS0lJdDUxBgzu92htjZHVlawqUlX1ZxZs5p37XL17Xvpli277rzz1GuvATA5nbLLFaiv57ouu1yRrq7oFbrBbDbHxoY8nmgJJ0iSrqpMEGSnc8A99xx+4gkABfPnl733nuL1Onr39lZWWhITdUWRnc5pe/d+M3Wqrijtx471vemm2m++CTQ02FJTzW63yeFo2bdPstm0UIjrelxBgeLz+Wtro2OOIzPT3qvX5du2vWW329PTtXBYC4U455HOzp/zxpKQkH7RRdWffaaFQjnXXVfxwQdcUaIpGn1B+oUXNu7YwXWdq2p0pLr4s8++vfJKk90uyHKotZVJEhOExKIiNRTyHD5827nMRwDnPIDfkCRdVcGYLSVF8fkkmy3Y3MxEMeuKK6o+/dQSH68riuL3M1HMvvrq8vfeA5A+eXLTjh1c1+29eind3cHmZsluB6BHIrqiRPuBaLFwTROieaPryaNHt+zbZ01JCTQ0ALAmJwebmxOLiloPHmSCULRixYGHHwaQUFQU8niCjY1c00xOJwBHRkZnaWn0zd2DB7sHDSrfvFmPROTYWJPdHmhujp4n2emMdHXFDxvWXlzs7NMnftiwig8/FETRlpYmu1xdpaVc13VFEUwmyWqNeL3zdP276dOrvvgCgGQ2q+EwY8yWluavr3f06uXIyvIcPCjIsmSzFS5e3HnqVMmbbxpjdCDABCFt4sT6rVsZYyaXi6tqpLvbHB9vdrt9VVWyyxXyeEwOh64oQ5YsOfOXv0RHinBbW9rEiU07dnDOowOBrijzON9gMjFR1FVVslq5piUUFTXt3AnOmSheU1LyydChvWfM8Bw61HHypC01VQuF5NjYYFOTZLfLLpevulpX1eFPPHHo8cdNDocaCLjy8iLd3YGGBiaKXNPMcXGmmBhfTU10ygKA63rGxRcnjh5dvHKlrqqixWKOjb2usfGvcXFqIABd11U12jeMH2HM5HBogYBotc7t6voLY0wQmCSB88QRI9yDB5e+9ZYlMTHc3q4GAtEfjGahYDJxzqHr7oED244dE83mggULTr70kmAyaaGQIzNTkCRvVVV0cgNd54Aoy5M+/HDb9def9/rrp19/vXnnTl3TbKmpgcbGpJEjW/bvF2U5pnfvztLS6DQFQPScpl90Ueu+feH2dg4wxgSzWQsGozMDe0ZG29GjAMxud7ijw56WJtntXaWl5rg4d2FhqLU10tGhhkK6osQXFjbt2gXORatVdjgiPp8WDDLGilasKH76aWdeXldJSeqECTVffcUYi/bkaMYwQeh95ZWVH30kWixaOCyaTCanM+TxCGYzj0Q459HRPHqY1tTU3jNmtOze7W9oAGNDHn74wMMP/3xOFa8XgGAyCZKUM2vW+DfffEOSoOtgTDSbUy+4oL24ONzeHldYCF1vO3IEuu7Mz+8+e1a0WlW/P23SpMJFi7ZceqlosSg+n2SxcM5taWnpEyeWf/CB6vMxxqLpfuaNN5zZ2aLV2nn69Pl//nPL/v2lb72lK4p70KDu8nLRbA53dEz+xz9a9u07+vTTDEgaPTraOCnnn9/000+SzTbg7ruLV68esnjx0WeeiU5P/8JY31tv5YpStmnT3M5OyWr9ID+/6+zZ2bW1H+TnR8fiaLeU4+KSRozoPH062NpqiomJdjZvdXWkvV3XtCnffbflkks45ynjxmmK0rJ3b/SkaMGg2e2OdHVJVuvA++7zHDpU+/XXF27a9NNtt0W6u0Wr9ZqSkvd79zY5HEySsq++uurzz+c0Nr6fne2trBz74ou777lHstu1cBi6zkQx+5prfNXVbUePqqEQ1zQA2TNnVnz44ajVq/ctWjRi5cpDjz0mmM0F8+erwWDZxo1ybGywuVmLRKLLkoIkuQcP7iotVXy+katW7V+8GIBkteqKItntTBQTi4rqvvtONJv1cFgwm5PHjQPnttTUqk8/VQMBwWzmimJJTAy1tUXfDYKQMGwYOM+64oqKzZsH3H13+Qcf1H3zjcluB+AePLh5zx5BFHVNi14F3srK/nfcUfXpp9HrGoxlTplS9913XFE45+5Bg9qPH8+eObPyk0+4rhctX35o2bKk0aMFs7lx2zbRbI4ejrFy09X1t4QEXVXBOQBzXFyku9uWkmJLSfEcPSqazUMfffTAI49Y4uKYyRTu6HAPGtR56lTWtGntx493V1QwQA0GrUlJnPNwW9tFn3zy7fTp0UvDHBdnz8xsLy4GMOmjj3bceqvq86VNnKhrWsbkyeH29uJVq8A5E4TMqVPTJ0069fLLnSUlAFx5eRd++OGnw4ff6PW+ZbNFk1iy2WL69NEika6SktxZs/rNn795woSFv/cAPoDh9mXX+J/4oNfz9+954H6nyZ1x8UUd3+6SLQ7dH9JUJYRgk6M9KRJvj0tsSPElVAvmTh1AoCghpiysdnUzzoJuJkweIG4utsS5NW/Ap3ZauU2ZNdj8/glw7mGtnVlCblV8vVCfnTUyZFJQ2lzuqMn19xZjbKovcJqfKMCAM/x0P1bguHhE5Tf/GLryiYbi/W5ryvF333DZE0f89MHWIRNixfgGvTZHy66XmzzhxgJxkEmTmCRyrjcU8LQTDHZZFCTN669GVe6oiwOHzphUsZk3nf/15pNT7ozJz4nUNNUPZaE9p0wwXe45+35W736+bGtBH6Wty75wqvfJ93lEqeKVOe5CtaO7Xm7MNOc2Co2J3TFNan3hHfc0vPNp3MyJ7X/9yjmwn/nhaTysdN693twvSzlWCU1Xs5zVlQdHPPZk25PvQJZ4RPGiu9vkT190c/PKtxJ5kuvi0cn3XFsxYxGA2OkTgsWlobO10QrbB68AwSY4BLOcdPcfm9dtsg3O8x86LcgmzvVe6/5kH97fPnLAdssge9gcd/NlbW/+o4Sd5gLGXX1fx+ZvwBg4OllHAMFklixqQrlYkaNnh626OSiACYLV7I90tSnNqqg5B/ZLC6fEXTmxceWbACz9+xyt+nZOoGuvMERiJgDHhePu3nnVDRX3BgIAJElyS5InEvnLggX7XnppZ37+/kOHpmdmftvaep3VuikS6WuzJbrde+rqbmLsegx1xsVGOjoELmSsubeh6dSwZ58+yIpMqQlqSzsY46oWZuGuSal5pv5dX+0CwFJdkmDu/c7jNbc/HS6rZaJwXDwuKBhgGuJVO6r1qr6mAW3wXFS27+u+I/L6nR84Wmrp2ztUWuX+48VdA2za0s9aB4qT9nx/2DledNgKtm84c/6tSiggcZFz3sU7HDGJzBu29s6w3DLRt/YLrcsLnVf2DzhOe9viQun+BKtilu0xFXJ1/7QxeoI1vP0kGIq0AwdZEWdcdZvDXR0pI0b79p0E59ZBuadqdmRcM739z58XzLmp7YPvkj56pHbGI00FCJZU9UW/thhfQpsNjJlS4nVfUA+Guhyh3hdP6fhoqyktKRjqEttCppv/oGzYXsWq+rgGqH6fPjgtcLgkVo53TR5TUbInftoFfPW3ibdfWfr1J45GXZJkFlRTHryhYe1fdYsY0UIxpji/r90sWZnGy/WzktmSbenn7/I0pvv71Mfbi/q3HD1sV61tkxIHjpnm2fhlyj3XJi+cfST+Aq3DWywdK1QLEWP29bUHIt3pqQVJ559Xv/RV6Nw0ZUjvpQvKzr99aNd2pdFzJO9yCVK1qzmt223STWfFskve/6jy+sdOKEctmqwxve8TD9qSk/119aYgx8dHQ5V1cn6vvHefPj3yBm+q4GwVj5tP9Ff7N4qNGf7kUpxxOVNTleQ2tbleq83kvZyIPctK86UCJcclnfYU8YOHzGOqI+W9bfnDfD8dFEbEzr3Ev+9kqLRa1AXBHaN1ehlnPlPAodjAuQ5dMJkgCQirnflyjOawqebI1YPYhj16W3cRP/iRnGiPT856ZH7w/o0NSo1t6qh+M69rvHm1nJOmebqzXl58cvlqy+nO0+6qG9ra3pItN0VCB8Qic0ZqU92p2NjUPivvq130gu4NMklMWDWvadkbw0r/8Y/eg802R1KXM2by6P1bNqRYetWGKiY/+tLZl//i6GAnTCedzDX2yVVNa/4WEsNhT5tNt0oxDs3rlzOSIo2e7l6ikmGP39kJWRQy4vXKVgByYXb4WEUJP8VctgK9oCK+2VYfTjJncG+wTCgb98b6lvnPDw/v/XufgalVFpWp6ffd0Lz2vbY+SHdkh05UgDFwrpkYE8XQ7IGhHcczH7g5uOwjpbs7yIL2gNxtCzaFalUz0oKJoQTJOiAHO866EJux5p76Ja/wiBp7y5TODV8FWdARk9Dlivi4N92bUNV1KjdrVHVSu+/gSTCew/N0Efa+fSSnw7f3RNdlGZbvq00XDhr6l7XHRs+ubzyVpqQACCF4lpfkpo+wNWmeyQnOYz7UdbJJ/aynupsitUk8uTkznHAk1MU6q3hVsiMrJeC25Pbyn61UJD0wpY/z79UB3WczObsdYZMqVPnOxAruGWpT+3tb9s25PdnaqzR4PJ7Hx9vTC6o+9X62c/S8GeW/9wA+HHN+ws3T2jZ+xcwm3R/Wun0xE4b5dhyFwNKWzat/9DXBbrX2ywqerpJ7JYsOm+vy8xue+HP0h6OTFykpTvMFGGOm1ARwhMpqXJedHzpbKwgs8a6rG1e+lfvps2dG32gdlCvGxQSKz2qdXjkjOVLXzCTRMa6Qyabu7w+Ys9PCZXXRPBh46sMz592qNHvCZXXRrRTxg63rP6l/9FXNG4Cum3MyLP16+346orZ1pa+4s/6RV+X0xEijhwkCVzVLfmakvkX3h+TMZD0U0Tp9TBKh66LbpTS05ny0quKPDyfcOkNt6+z46HsAgs2ihxVompQU13/P2y0vbfa8+bnW7RcssnvW5LaNX6U9Nq/+8T/DOBE8/cn59UtfB2P2ov5qh3fQ2U8PsqJolSPGOVRPFwDBYu71wgMtr3yktrQx2ZSy+MauLbu6/v4TGJN7pURqGh3jCpVGT6S6kXMwURDjnKqnU4pzDvFsLbnwjuCJMq29m2s6M4ng4KomWGRzflbwWKlgsZiS48I1zaLDpnX7AEAQYsYP9W4/LFjkmAuKur7enff356tufFyPKJovYO2fHSqp4prOBMY1PfaKP/h2F6uezuhO6uEwk2UeUZjAOAcTGHR+UO+6UygbPnz4xIkTV61aFRMTEwgEBgwYcPz4cc758OHDi4uLly1btnTp0nHO1FtHXThw62mAxfxhmHfHEdvgPMe4wW3vfMkjih5WmCQKMTY9EJLcrqS7rmlYtp6ZTXowDM6ZJLouPy9c0RCpaWKcM4vMLOaYCcPb39uS9edHqm56AowxgYlxTgBqe5fzwpHd3+0b2vnj0fgLOdfBkb1pReNTGwSHzb/3uOR29XrhT1Vzl3FwcAiyyTF+WPfWfVKsQ4yPjVQ1iDF2zReQM5LDVQ3g3D5igP/gKSaJXNXAuWPsYN+e49H7AtaBOcET5dGrA5KYeMu0ltc+Sn96QcOjrwoxdh4MZ29eWT5zccqiuaZEd8OKN3R/kEcUrumS26W2d/Xb/daZcTeD89hp45ksd366jWs6GGMMGWvu7fjoe80bCJ0oj1bGjrGD1Q6v2tqhejqZLJmzUk3pSd5tBwWbmau6uXea2t6tB0PWgbmhk2VaICTFu6IdDJybs9OZSYrUNAl2q9rWBSDtsXkNy98QnXbdH+SaZi8a4D94Ehyiw6qHFR5RAFjyM5XGNjCIsTFMFKOtYc7rJacneX885Bgz2LfnWLRTgXMpzlnY8t0haSQTBA4O3RiLCg6/2/jUhkhtEzNJcnZG+8avbMP6Wwv6tG38Ss5IYiZJDytKQyuTJQDQOVc1JgqmjOTUR26uvm0Fk0SuaZa8TD0YluJjQ2cq5azUUEm1MSSZRK5okssxpGPbIfNY6BrX9OSFs+NnTz418gYAYIIpwWUZkOPfc1x02TnnerdfD0VMaQmF9VsOCSOYzSJYZLW92zY0P1hcxkTGNQ6BgfP0FXfVPfSSIEt6RHGMLdSDYbW1I1LfmvHMgrpFLwpWCxi4pvGICnCAxYwbEjxTqQfD0dbjmsZEKfm+2a2vfqD5gswkuS4Z0/mPnY4xg327i62DcpVGj9rWNbR929H4icO1/QdZEQAmMCbLXFWZReahiKVf79DpqmjZHe2BRj9kLOHGy7VOX/f3+zVvgAkCdB0miYkCdJ1ZLVxRUh68oXHl22KMlaua7gvmfr42cLLMt/1w19e7XZPHdG/d5541uf39b+Ss1EhdMw8r5txeWke3HgjpwTAAQTbJOemRygY9FBEsZj0UZpKY8+Gq8pmLuKZH29/cJ01tasvetLLsqge5pgtmEzOZcj9/rmTSnXJaQqSuhZkkrqim1ITChi2HxJEcnJnk5Ptnh06UdX9/QA+EMl98sP3DrRnP3H1m3M1MNjFRABB//ZTub/dpgaDa2lmkHzgkjwbn4OCaxiQRjHFFlTNTlEYPV1QpKU5t6RDMJq5qzCybczP0bn+4uonJUtKd1/h2HvEfOAUgDH0cP/z7fgq6zzvL2z/aqrZ3S4lurdsHznlEtQzIds+a3PDY+uSFs6W4mOCpSikhVvcFg2eqomtuGU8v6HlGTGeyiUcUzRsIVzaEyuvMvdP0cCRcWh0sqW5Zt8mUllAx51HBYQ2cKAseK9O6fHJmSqShFaKQMG9G4PCZtGW3Qdfl9CQwJsXGhM5UqW1dwZPl4bK6uJkXgvOs15cckkdH6prV9m57UX+uakqjp/Pz7fFzpgCof+RVJpv0iCKnJ3FVAxA6WwuNM1HQgxG9O2AdmKMHQxCE+NmXgLHK6x/jHK3rP+76x0+m5HgAYIi/forgsIp264n+M7u27Lb0z4bA9FCk7d2vmclUv2x9kbZfindGD7l+6etgYLIp8fYrBZv5kHlMET/Y69mFXNdVT5d91EDrgGxTWoJ1QI7a0qY0tanNbbX3rOn6+08QWNyMC5TGVjHG5ttVrDS3Fxx+N+W+ay35mWpLOzhX2zoPsiLvDwf0YCRt+R1gEJ0OrkePJRwsLmWi6Bg32JSWGHPBcK3bB4GJsTGM89DpKsFq5qoWOlURM35o93d71S5f9BqWM5PBYR81MGZCEdP/ufcAACAASURBVBjzbj+keQMxfxg2XN1vSnFLCXHJC65hggCO+DlThrRsLdIPLEvuAhAOh9esWeNyuXw+X2pqamlpqSRJfUwOobh886Cplyz97HDM+d8f2le4rxYcAOyjBwk2S+BoScsrH+rBSOLtVwl2CzNJWodXTk9SmtvqH3udI7oeyxxjBnNV696yN3S6UvcHTelJqqdL9wXa39vCNS2avvFzpggxdsEiq21d0Hn3d/uYSToSOwFcB2Ppy+dXXrc0dKYqcOAUAM3rb1n3HiSxSNkvJcbG/fGi7u/29v3+NbXLHy6rNWUkc13nipr58iJwnvrwTdmbn7YNyeeKygSBmU1qa2d0mADn5rzMlMU3gnPRaWey5HnrCwCBQ2cEm1Xr9HJNK7/6oUHlnzeufNNffIYrqpyVKtitw5V9KQ/NhcDOnHczOGdmuevLXVqnj6uauU8adF2w2xqWbwiV1ZlS4pMXzbUOzmOyKVRSHalqsOT0Auexl50fKq3xbjsoOmzQwSOKHghqXV45JT7/25e5rsffcDnXeJF+gDE4LyjSuv2hkmo9GJbTk8C5GOtoe/cr6LrW7eOqlrrkZv/+E+bsDHCuhyKxU8dLbicThYSbrtB8AT0UidQ268FQkX6AyaZIeb1/93EmMKW5zTF2MAAmCtGYPGQaxUyS47xCcC5YzWCMSWLJhNu6vtnjP3janJepd3rBWN4Xz9mKCiAIkfrWSH2L0thaxA/yiMokKWbiCNHl4LoeqWlqe/vvTDZxVctYdU+otMZ16bhIbZMeVpRGT8z4YWCMSRJXNduQfF1Ri1Mmg3HBYQPnzc+/e2rEDQADEH/t5D4bl4dOV+qhMI+oakuH65Jxot0qmOWDwojoAxY8HAHngcMl5pz0uD9OHq7u44rKzCZzTjoTmG14ATOZ/AdPBw6f6b/vr0M7f6xb/JIU57SNGADGeEQVXXZLdi9BNumRSNKCP+r+oCktgSuqrTAfDP6Dp/SImnDLNHNur4R5M8C56umIn32J2tKuejqz332q5u7V1sG5tfc+K8bYmSSBCYLDylUt9ZFbuKqJMTauaXJGCgCuahBY7JUTIQqWvF6dX+zo+Gyb4LAV6QeYRRbdLjBmzusFJmidXt0f8u04kvLgHLWti0li4vyrKq5d4nn94+4tewAEj5dxVdM6vVzVzNnppkS3nJaodXiZJOmhCAAxxibGu8JldamP3FLED0qJsYLdCqDiukedk0aDsbTHb0u4cWq4qlELhM5Of4BrumPMID0UsY8ZVHvfc2mP3Bypb2UmKfaKPzBJVBo9R5MuYpLIRBGK0rzmna6vdzNREGNsNfeskXslnxl3s/EUcUTlEbX1jc/krFStvduck35QGMEVNfPVh0S3E4xxTZd7JTNRsI8o4IoKQG3tlLNS9IgKzmPGDw2X1YWrm8B5v5/eaH7hPf+BU6LbyUxSCPxc5+M5r4Bvv51Pnoxvv8XkyTh4EB0d0DRwDrsdgQAuuwxffglZRu/eKC0F57j5Zvz1r9C0n98BP++gKELTkJKC+HjU18Png6pCEOB2o70dbjc8HuP1NhsiEagqnE6EwzCZkJAAjweRCBQFc+Zg01shzWTJyUF5OTiHw4HLLsPmzcZWdB0FBQgG0dgIlwu3344XXkBnJ2JjIQjo6oLZjGAQnMNkMvbh5x1+6iksXQrGcPnl+Mc/YJbUsCpFb0QCsNsxYgSqqowX/PnPABAOQxAgyzwUYpdcgh9+AABFwc0348wZ7N3LY2NZWxtMJtgkZcQ4U2G654Pv41taWXw8JAm1tWDMaCtdhyzj6quxcSPuuAPr1yO66fXrsWQJurvRpw+uuQarV4NzaBoefxxPPIHYWBQWYts2OBzw+WCzITYWDQ2YNAn792PaNOzYgZoaDByIY8fQu7ex/xYLQiFwjowM1NVBFCFJSEqCz4eODuNEiCJkGcEgXC58//34zs762traoUOHlpSUqKrq9/tNJpPJZIpEIrqu78Mw6Nx16Tj/vhP2ov7+Q2eYLOm+wImBs5Ifv9M1Zexfb9quCyYOOBxwuxG9OXXxxTh5EvX1SEtD795ISsLnn4MxTJ2KbdvAGLKz0d5uvCAcxsSJ+OADAEixdjUFXZoGUQTnSEpCUxPy8lBXh9xc+P3Iy8OVV2LBzX5VtosiVBWMGf9JknHW/vQnvPACIhG8+CIemt8VtroAqCqsVqP7dXRAFKEoKCpCURHWr8e6dVi4EKKI++/HmjWQZWRloaEBfj84R6xdCSimSASM4YILUFGBxEQUF8NuR0eH0YseeAAbNqCzEzEx8PmioxCyslBTA84hSZBlBAJISUFXF8Jh9OmDqirounEpRc+gy4WuLqSkwO/HsGHYvh0WCxQFmganE93dAJCejscew7JlsFhQVYV+/eDzob4e06fjwAHU1YExPPEEli0D51izBo8+ilGjsGMHzGa8+CJuv91oK12HpiE5GZoGtxulpZg5E599Bk2DwwGvF6IIxqCqcDgQCmHMGOzbh7w8jB6NkSNx++0AYLUiEvnlKEaNwpEjkCQEAhgzBnFx+PprDBmCI0d+GTcSE3H55fj0U/z8mI7ZjDE5LT+eSrr3Xrz0EoYP0StrhBUrsHo1hg/HhRcCwNdfIzcXWVnw+eB2/28/QhKOMLP8G39qxbjaAV1HKASvF8nJ6OyEKCImBpEInlqut3qElBQMHIirrsLrr6OqTHO6xZwcNDXh1CmYzdA0YxwWBKSk4Lbb8NxzSE5GZSWmT+jsPyb2+efh98Nsxrp1uPNOOJ3IysKxY8aJCAbhcADAZZehuhr79iE2FoEAIhEUFuLECQgCIhEkJWHUKPzwAxQFPc9+wGJBIID4eAQCCIfx87GYzbjzTjz/PB54AK+8gujd8JQUNDdD0xAbi64uTBnWdKg+pbkZnGP9eqx8SmtuFc1mdHUBQH4+GhqQno4778TChUZTXXwxtm41evXSpXA6sWwZvF74/ZBlZGRg8WIsXIhgEDYbCgpw5Ah0HYIAiwU+H//zn9nvO4Dnz+e6DsYwezZ+/BH19cYQFj3IlBS0tOC889DYiJoa4wKbNAnffYdVq7B4MRjDnXfilVeMi2r8eGzfbrz5yJE4eNAYN+PjkZWFw4eNC2/IEBQXIysL1dWIj4fHg4IClJcjHDYu9exslJUhLg7t7QDw+utYuBDnn2+0flsb5s7F3/4GzpGcDFlGba1x2Ysi7roLL74IWYaqwm6HxQKbDTU1xnFxjtdew4IFUBQAMJmgKJg5E+3tOHoUXV3QdQwahIoK+HyQJKNfMgZBMEbq6FUmCBg3DrqOXbsgSdHeAKsVq1fj7rthsyEQMFr13XeNqcncuXjnHQgCBg9GQgK++86IluibKwruuguvv45Bg9DaitGjsXs3xozBnj0QRbS0IBKB3Y5QCHPn4s03kZqKlhakpcHlQns7mpuRmIhAALm5KC7Gs89i3TrU1sJuh98PXUdhIY4fh8WCYBCMweVCIABNA2PYu/fRlJSjX375pdlszsjIqKioEATBbDYPGDDg8OHDqqoeZEXuWZM7v/xJ9wWjU2nFF27MGLH1ipciEcgyFAWJiWhpwfr1uP9++P0QRbhc6O6GJCEUQlpa9FkiNDbigQfw3HNG20ZPd1wc+vfH8ePGzCAzE9XVkCRoGmbPhseDCy/EokWw2ZCdjaoqSBI6O2GzGYNUJIL+/eF2Y/duo6mjPSE2Fj4fwmFwjhkzcMkluP9+qCpSUlBTg7Q0tLSAMUQi6NMHlZXGHMVsRmIiKioQG4tIBH4/bDaoKoYMwf79RmeIj0dHB0wm482j4Zqbi/x8fPstJAlpaaiqMkauaM+8+mp89BGGDcPJk3A6YbGAc4RCaG1FTg7S0rBzJwoLcccdeO45I+8Zw4gR2LcPLhdSU1FeDkX5eXhHr15oaDAONro/jBkNkp6O+nq43ejoMC6EV1/F44+jpQUArrsOGzcCwIwZ+PhjmM2IRIzZmCDA5YLHg/XrcfvtxjkaORL79yMjA3Y7zp4FY8jIQGur0W5lZUhJweOP46678Nhj6OhAUhJWrsSKFejqQlwcPvsMV1+NcBhm8y8jT3S6TP5LyR4NoY4OOJ1GHcIYPB4kJOCZZ9DSAlHE3Ll44w2jV2uacW1yDovFmP0rCmQZPp/RLQcMwMmTRq+WJCiKMcuP/nX8eOzejWAQsoy4OHR2IhxGr14QBFx2GbZuRUUFNA1mM8JhOJ1GWaXrcLnAGNrbwTkuvRTTp+OLL/DllxBFmM0IhZCZaVzIJpMxIkWPMTr7/HngFQRwjlGjjEosGERODioqcOutWLfOKF1+3wF822385xa//nq8+y40DYIQrfmQk4NgEGVleOQRrF5tzJSjZ3HyZGzZApPJGGVGjsSZM3A6UV0NxnDjjfjsM6O84By6bhRk0Qv7wQfx7LMwm2GzoXdvlJXhySfx4IPGEMAY/H7k5qK+3qjLGxogy9B1ozNFB0qnE7KM5mb06YOaGqgqnn4aTz6Jfv1w6JDxPqoKWTYmaz/Pu6PVoSiioADV1WhpgSDAZsOYMdi7F7qOoUOxc+cvlX10NAkG4XTissuwaRMuvBBbt8Juh89ntFWfPigvx5gxv+SxLCM2FpWV4ByyjIEDcfKkMaOMri5wjr59jXUFALKMxEQ0NeHVV3HXXbBYoKoYMAD19WhtNY5l9WosWmTsVbRwiX6gKSUFTU3GZMLhgN9vrDrY7Zg9G8OH4957EYlAFI3rcNo0bN6M+Hi0tODTTwd4PKdlWZYkye/3Dx48+MSJEwUFBWVlZZqq7tGHQmDMahnWvf2QOGLbxKcuOrH2tWnfAHA4cMstWLcO0XtVkmRU7VlZ8PvR1mZcVFlZaG2FriMcxpo1uP9+rF+P+fPBOQYPRoXxEIlRKTociImBx4PoI5mMwWxGQgLq65GcjNZWaBomTcL33yMuDg4HHA6cPm2UlZpmHJ3VioQElJVBkjB4ME6cMDrAz9GVkIC2NgCw2eD3/7I4kZICiwU1NYiNRUcHZsyAz4fduxGJYMwYWCw4fRqtrRg3Dlu3Ytw4DB+OF1+EIBiTyOjM8vhx42yGQsYCTM+HzuB0IhCAohg7VlmJjg6MHInjxxEMGqcs2pjRh6aHDMHhw8as65JLsGULOMfatVi0CIqCKVOwfTv8ftx4I0aPxvz5RnPl5qK2FpmZOHkSooiFC/Hcc0Z56nBg5Uo8/DCWLIEoYv9+HDhgzNKeeca4kKOb1jQoCiwWYwXon7OT/MeInu6qKvTqhaoq5OTA48GWLZgzBytWoLERy5ahrMyYXm/ahM5OrF6N556Dx4NgEBdcgB07jKWgH35AdjZGjsSmTUYXUlXExUHXjfI3NxeCgLNnERv7Sz+/6y4oCjZsgMOBXr1QXo7p01FTA1nGjz9iyBCcPIlIxJjKR1c0FQXr1+OOO8A5tm27qaTkrd93AH/0ER82DJs3o7ISVivS0jB6ND79FIwhEIDJZAxeZjMsFjidSEzE1Kl4/nkEAsjJwWWXYe1aMIZBg3DsmDHGRWcx0VXB6GC0YAHWroXVilAIl16Kr7/G3Ll4+23IMhwOdHcjJwc1NQgGjR0bNQrRj8WmpaGhAcuX45130N2N5mZYrcjLw+nTyM5GRYVRkkbZbGAMwSDsdni9RoWkqoiNRSiEtWvx0EOIj0dVFaxWYw74c2xkZ2P0aLz3HiZMwI4dRteMrg9HIzw6F4uOkgBcLug6li7Fgw/CZjMmgB0dRhLMm4e338bP1eHixVi7Fi+9hPnzjdH/tdeMEVMU8fLLRiDJsjH7URT07YuyMmModDrh90MQcMMN2LwZfr+xleic0fjUUAx8PsyejQ8+QHSBtOeTdbBaEQ7/Uoo5HHA60dICTcM779jS0tJqamoWL178xhtvMMZaWloEQRg4cOBSf3Kv0lZLfmb4bC0XmJya8JfpX0Wnz5EInE5omrFIkJSExkajto6ujg4fDo8H/ftj1y7IslGk3n8/Xn0VHo+xq/36wetFfb2xDqGqRp3X0ACvF5qG8eOxYwdEEf3748QJLFiAV15BYiIyM3H4MKZOxdatCAQwdix27YIoIj4ekydj40Zcfjlqa1FZiaeewn33/TKVttuRmIjKSpjNRse+9lr89BMqKoztRic90VTWdTz6KN54A42NiI011kijk8hoq8bEQJbh9cJkQno66uoQChnzpOgM4/zzsXMnXnsNd9yB5GR4vZg/HxUVxprE+ecba9EbNhiLT0lJ6NcPixfj6acRE2Oc1p8XCQD4/bDbAaChAWlpFB/kP8GpU8bC8tChv0wLfvoJ552HigpEIsjMxIMP4r77kJWFBx7AokX4618xejQyMyGKyMv7nVfA/43393p/GSAOHcLw4cZCnMmE99/H4cO48EJM6fnqqeZmPPss/H7k56OrC14vnn0WJ0/ixReN5cpIBAkJiI3F6dPGral774Uso7vbuJkRnf4IgrF2Ea07i4pw4MAvFW30IGw29O0LVUVJCSIRo9r+WTQqvF5jcVjXjZyOjqp5eSgr+2X6P2IE6uvR1obERPj96OjA8OE4dAiPPYYXXoDXa9yf8HjQ2YncXCgK4uJw9CiGD8fhw8ads+i4n5yMxkYIgnEHaN06rFqFigr07YvqaqMmTklBYyPi440jdbthtaK62oiE6LLh228jOxteL1pajPvokoTubsTGgjF0dhoL46+9hpUrUVODiRON5aPovMdiQWoqmpsRCEAQkJ9fsnnzQ3v3fvb3v/996tSpo0eP7tOnz6ZNmxhjV7GkxbwXE5h1SL5S1+JB/EdT/xabIM2bh5dfRiQCkwm5uSgthckErxc5OUhOxoEDyM3FmTPGtLezE8OG4fBh5OYieoPc78f06XjvPcybh40bMXkyDh1COGws+5vNRh0sCLj6amzejPXrsX8/3nwTgoArrsBnnxmTtqQkYyn154qWcwwYgEAAvXtj2zbMmGHMIDMykJGBPXvwyit4+GGsXm38yNmzePZZrF9vFKO7dyMzE4cOYfp07N6NsWMBIBCAzYbt2/GHP9AgSci/I4/Hk5CQ8H9dAP/u1lgAvPwyFizAF1/giiuwaxdqazFrFgAsWICXX0Z3N9atQ2MjXnwRa9YgMxNHjsDnQ3w82tvx5JPYsAF33IElSxAfj9hYnD1rrJbrOrKyoCjGPeZLLsHXX+OFF/Dxx9ixw1g2T09HdTVkGW43mpuN2x7RFJwzB5s3Ixz+5dm0aBWlaSgoQFWV8dBNdLV/5kx8+CEEAYmJ6O427uWEQtB1jBmDcBhHjhgTi2gZKorGZCK6wJ6Tg7w8457f/fd77rrrji1bPh00aJCu6yUlJeFw2Gw29woLPy55tmnN36TEWKWh9fiQG+ZsmfPsm+7oU10/r/RGtxK9DVlbC4fDeJTDbscVV+CHH/DEE/jb33D99eAcP/6ICy4w9iR659VsRiCAs2fRuzdcrl9C9OjRX2bBhBDyv1dTU5OZmUkBTP5ndHbC6TRmDACefBIzZmDQIOg6XnwRd91l3HEHsHIllizBiRMYOBALF2LdOtTV4dlnMX48dB1btxpTgWnTcOIEKiqwdi1efhkA5s7F8uWdO3dOKC4uZowxxsxmc2Zm5uTJk4Nf/HRbjQidx1xQ5P3x0OZ7d/fqY/L7UVdn3MKPftVV9F5merpxh/tPfzKetySEkN9SaWlpfn4+BTD5PREEYfz48du2bRs4cOCpU6dMJpOiKMPlHzbuHX190amRfbsCQ8bJMeYJE/Djj7DbjWe1XC4Eg8Y9VEHAqlWUu4SQf6WNGzfOmTOHApj8bkyaNGnbtm26rkeTODU1tamxpVDfwwQ2eIy97Fhw+I2DA2Eheq80Nzca2Cgvh8lkPGb1wgvUioSQf71IJCLL5/Zz3vT7gMn/mOHDh5eUlEybNg2ALMtmsznoFQv1PTGxEtd5Y43y0PtDQoqRvhdfjPJylJejpMSI4XvvpfQlhPy7qK6uPteboAqY/M+wWCz33XffqlWrkpOTm5qaLBaLLMu53T+s+Thn9d01yeflxyRaoh8H+vkB8tGjceQIli+Hw2E80kUIIf/3oAqY/A/Yt2+fpmmrV68uLi5ubGwE8PD9z+X7tt2/ttcLi+paGxR7vCX6pStDhoAx3H8/XngBdXVYvhwuF6UvIeTfzm9QPVIFTP5PdXd3Z2ZmKooSCoXGjRsXFxfXUpq65/TrY21H5i5K6fQolWom55g1C59/jlDI+EY6UcSrr1LjEUL+TXV1dbl+/iAjBTD595SWlnbXXXedPn36448/djqdbW1tl2cfrSsLyxYhKdc56backyeRkoKGBuObT/LzYTLhnnuo5Qgh/75+g/yiACb/R/Ly8srKyn4+17m5ucmhB4P1w+OTTZrZdslduRUVxpcVZ2QYGexw4MknqeUIIf+3o3vA5L+vra2trKxMkiTO+fPPP5+bm1tV1hasGz51bvzmYwUz/pRbXg4A2dlgDA0NSErCU09R+hJCfgcmTZp0zotsqoDJf1vfvn1zc3O3bNnCOe/du3dNdf1IeU84xEWJjZ1fKJlFr9f4nX2ahrvvRq9ecDqp2QghvwO6rgvCua1RJWpl8t/zyCOPlJaWbtiw4YcffrBYLHV1dcOEvaqKq+YnLnntly9Qjf6qIoB+5Rwh5PfkXKcvVcDkv6m9vT09PT0SiQCYMmXKnj17PB5PkXBo8FhH8S7fIT6cmogQ8rtWWVnZp08fqoDJv528vLxIJJKQkCBJ0pdffsk5HyUfnnpj/JfvtFP6EkKoAv7/tQlqZfJf1djY2NnZyTn3+XyNjY233HLLMBwE8MVbbR+eLKD2IYT8B1Cjvyz9XKIlaPLfnBhyzhMSEtra2lJTM8YnfdPWqNz+eOpV8xOpfQghhCpgck5Eo9dkMr3++utWq/WK/lsrTgS9XRqlLyHkP0Yg+ivKKYDJv4/p06fHx8eHQiGTyTRz5sxEV0F3h6aqXI3o1DiEkP+kSuNcb4KWoMl/jcVikSQpFAqNHTt2zJgxPzx7ja5DENgBdRgYNQ8hhFAFTM6N8847z+fzjRgxYufOnatXr+Yc46e6JBMofQkh/0nee++9c70J+hgS+S+w2+2aphUWFh4/frxfv341pUqMU/rpy+7vmgZR4xBC/pOMHj36XG+ClqDJf0FxcfGAAQMkyZi3+bo0h0vUdS4IVP8SQv6jaJomnuPfVU4BTAghhPwL0D1gQggh5H9RQFIAE0IIIb+132D5lgKYEEII+bXDhw9TABNCCCG/taSkpHO9CXoIixBCCPk1RVFMJhNVwIQQQshvStfP+dfrUgVMCCGE/AtQBUwIIYT8Gj0FTQghhPwLFBYWnutN0BI0IYQQ8mu/wVdRUgVMCCGE/NrevXupAiaEEEL+A1EFTAghhPxac3MzVcCEEELIb43uARNCCCH/AvTbkAghhJB/gVAoRAFMCCGE/NYeeuihc15k0z1gQggh5FcikYgsy1QBE0IIIb+pmpqac70JCmBCCCHk17Zs2XKuN0FL0IQQQsiv9enTp7KykgKYEEII+U1xzs/1J5FoCZoQQgj5te3bt5/rTVAAE0IIIb+Wk5NzrjdBS9CEEELIvwBVwIQQQsiv6bpOAUwIIYT81oLB4LneBC1BE0IIIf8CVAETQgghv/bjjz9SBUwIIYT81nRdF4RzW6NSBUwIIYT8WjgcPteboAAmhBBC/j/p+P+0d6exVZR9H4DvloIgKgRcEA0QXGIQVIwaoxJQ0UeiKDYoYoyiAobgAgYDiEggEoiS4BJANKAsKqYKmIiyKUKIICJYK4ti0SoWpLKUpUCX0+fD5CVmwoc3T5w50F7Xh6ZSPP/jnOXn777nTHMTz0dL0ACQjYx3CAAgZsOGDRowAKStqqqqYcOGAhgA6hpL0AAQV1lZKYABIG0HDhxIeoQlaADIAg0YAOI+/PBDDRgA0tayZcs9e/YIYABIVXV1dV5eXqIjLEEDQNz69euTHqEBA0Dc0aNHGzduLIABoK6xBA0AcevWrRPAAJC2hQsXJj3CEjQAxB0+fLhp06YCGADqGkvQABA3YsSIpEdowACgAQPASSCF9iiAASAuJydHAANA2pYtW5Z4xtsDBoD0acAAEHfw4EEBDABpKywsTHqEJWgAiPPbkAAgC2pra5M+EdoSNACcoEAmPUIAA0BcSUlJ4hlvCRoAYo4dO3baaacJYACoayxBA0Dczz//nPQIDRgANGAAEMAAUD/t2rVLAANA2iorKwUwAKStpqZGAANA2gYNGiSAASBtzz33nAAGgLS1bNky6RE+BwwAcdXV1Xl5eRowANQ1AhgA4jKZjAAGgLTNmzcv6RH2gAEgrrS0tHXr1gIYAFJVU1PToEGDREdYggaAuKqqqqRHCGAAiEu6/gpgADiBpD8ELIAB4ARWrFiR9AgnYQFAFmjAABD32GOPacAAkLby8vJmzZppwACQqv/85z8aMACkrba2NicnRwMGgLQDOOkRAhgA4gYPHpz0CEvQAJAFGjAACGAAOAnYAwaALKioqEh6hD1gAMgCDRgA4g4cOKABA0DaMplMbm6yHVUDBoATFMikRwhgAIg7duyYAAaAtOXl5SVesu0BA0D6NGAAiMtkMgIYANKWwoU4BDAAxDVq1EgAA0DaWrVqlfQIJ2EBQBZowAAQV1paqgEDgAYMAPVAWVmZBgwAaaupqWnQoIEABoC6xhI0AJygASc9QgMGAA0YAE4Cw4YN04ABIG1VVVUNGzbUgAGgrhHAABCXl5cngAEgbSnsnwpgAIirrq4WwACQthQ+ByyAASCuqKgo6RE+hgQAcZlMJjc32Y6qAQNA3J9//qkBA0AdpAEDQJyPIQGAAAaA+uGbb75JeoQ9YADIAg0YAOLefvttAQwAaevevbsABoC0lZSUCGAASFurVq2SHuEkLACIq6ioOP300zVgAEhV0heC1oABIEsZy5qz+wAAC6tJREFU7xAAQIwrYQFAFtTU1AhgAEjb1KlTkx5hDxgAskADBoA4e8AAkAVffvll0iMsQQNAFmjAABBnCRoAslFPk78SlgAGgLhDhw4lPcIeMABko2Q7BAAggAEg+/bt25f0CEvQAKABA4AABoD6yeeAAUADBoD6YenSpUmPcBIWAGjAACCAAaB+qq6uFsAAkLbi4uKkR9gDBoAs0IABIG7//v0CGADSNmrUqKRHWIIGgLjCwsIrr7xSAANAqg4fPty0aVMBDAB1jT1gAIhbvnx50iM0YACIq6mpadCggQYMAKlKoT1qwACQhfzSgAEgrrKyMukRAhgA4vbt2yeAASBthw4dEsAAkLbS0tKkRzgJCwDi9u/f37x5cwEMAKmqra3NyclJdIQlaACIKykpSXqEAAaAuMLCQgEMAGk7/fTTkx5hDxgA4uwBA0AW2AMGgCxo1KiRAAaAtO3YsSPpEfaAASCuoqIi6fOwBDAAxDkJCwCyIOn0FcAAkB0CGADiKisrEy/Z9oABIMYeMABkwRdffJH0CAEMAHEdO3YUwACQtv79+wtgAEjbTTfdlPQIJ2EBQJyTsAAgC1yIAwCyYNWqVYlnvCVoAEifBgwAcdXV1QIYANK2evXqpEdYggaAuPLy8mbNmmnAAJCqFNqjAAaAuLy8vKRHWIIGgCzQgAFAAAPASeDgwYMCGADSNm7cOAEMAGnLz88XwACQtgsuuCDpEc6CBoAs0IAB4AQFUgADQNpcCQsAsqCmpkYAA0Da9u3bl/QIJ2EBQBZowAAggAHgJJDJZAQwAKTt6NGjSY+wBwwAJ2jAubnJdlQNGADiSktLkx4hgAEg7uGHH056hCVoAMgCDRgABDAAnAQWL16c9AhL0ACgAQPASaCkpEQDBgANGADqgYMHDwpgAEhbCsu3AhgA4srLy5MeYQ8YALJAAwaAuOrqagEMAAIYAOqBFM6CtgcMAFmgAQNAnCVoAMiCiooKAQwAaTt27JgABoC0TZw4MekRTsICgLgjR440adJEAANAqjKZTG5usovElqAB4AQFMukRAhgA4pyEBQBZ0KhRIwEMAGnz+4ABIAuSPgNLAAPACVRVVQlgAEjbnDlzkh7hc8AAELd79+5zzz1XAwaAVPXv318DBoC0HTt27LTTThPAAFDXWIIGgLiff/456REaMADE+WUMAJAFf//9d9IjBDAAxH3wwQdJj7AEDQBxZWVl55xzjgYMAKk688wzkx4hgAEgbt26dQIYANJ21llnJT3CHjAAxFVVVTVs2DDZGbUJCyEMGjQohLBgwYJt27atXLly8uTJR44cCSFs3749hLBnz54QQvv27bdv3968efMVK1YUFBSMGTPmhx9+GDFiRAjh+++/f+mll0IIs2bNKi0tzcnJCSG0bNmyTZs2VVVVd999d48ePV577bWxY8fu3bt30aJFY8aMCSGMGTOmuLg4hDB+/PiysrKioqKnnnpq8+bNPXv2DCHs2LEjhHDRRReFEB555JGvv/66T58+f/31Vwjhk08+6dChQ2FhYXR83njjjRBCfn7+lVdeGd3n9957r127dt26dRsyZMjkyZM7d+68atWqEMK2bdsOHjw4derUxo0bFxcXv/322yGEAQMG/PTTTyGE2267LbrBSy+9NIRwxRVXfPbZZ/Pnzw8hbNq0KfrR77//3q5du+j7xYsX5+fnL1iw4MEHH4xuqqCgIDc3d8aMGSGEt956q7CwsKCgoFWrVq+++upvv/22bdu2Sy65JDpcmUxm48aN0e0MGzZs4cKFH3300cqVKwsKCioqKkIIEydODCF07969rKxs3759d9xxRwhh6dKlx58V48ePb9KkSQjh6NGj+/fvP/7n0SkJy5Yte+edd+6666577rknhPDMM89EP+3QoUN0SNevX3/8L4cQPvzwwxEjRjz//POjR4/u3r37P1d42rZt26JFi+uuu+6fz8mdO3d26NBh0KBBd9555+bNm+fOnRtCuP76688777y///77oYceuuGGG1q2bDly5MjoR4cOHXriiSeWLFkybdq0EMIDDzywdevW5s2bl5eXDxw4MJPJ5OXlLViw4Mknnxw4cODs2bOHDh26cePG3r17P/bYY/+c2759+5KSkuj7b775JoTQr1+/119//ddff+3atWvshbN3797PPvsshLBo0aIpU6aEEC677LLevXvPmzevsrIyhNCoUaNLLrnkxRdfjI55z549jz8oIYQXXnihS5cu11133cyZMx9//PHoD2fMmBHdpQ0bNowdO/bpp5+eNm3aNddc06pVq+NH8tprr42eDDt37ly9evWcOXP27t1bXl7eoEGDWbNmbd26dd68ecefVBdeeOGkSZPOOuusdevWbdiwoVOnTiGEadOmnX/++dENvvzyyyGE4cOHR/949dVXRy+NO++884wzziguLp4+ffrx+/z555+3bt36lVdemT59+q233jp16tTotTZt2rRFixZdddVV0V/74osvpkyZsmLFihDCL7/88s+3sDfffPO5557r1q3bokWLQgidOnXatGnT2rVrP/300+gvPPXUU9E3R44cmTBhwhlnnNG2bdvdu3dHB2fUqFHRs3fhwoUhhI8//jiEcPPNN+/cubNZs2YtWrS4/fbbjz8VBw4cGELYsmVL9OqbNWvWjz/+GP0n5+bmXnzxxSGEioqKgoKCW2655fLLL1++fPmff/65du3aEMJ99923ZcuWRx99NLq1wYMHz5s3b8CAAcuWLdu0adOuXbvGjRtXVFTUrVu36FVz3333VVRUrF+//ttvvx04cOCTTz7ZuXPnwYMHR7/P7pNPPvnqq68aN2783nvvjR07duvWrW3atImeY8XFxbfffvuGDRuiQZs3b+7Vq9fll18ePcrh/07E/e677woLC1966aXFixeXlpaOHj162bJlIYQbb7xx165dL774YlFR0ZAhQ6IHLvoXmzdvHkLYunXr0KFDozeoaEqPHj0GDx5cXl6+bdu2EMKDDz4YQujatWvTpk1DCO+++27//v379OnTp0+f6NU3YcKE6KE///zz16xZE0IoKirq1avXjBkzohXa4cOHl5aWRvcqGn38DS2EsH///nvvvXfUqFHR+3xk9erV0Td//PFHdIP5+fnRgXr22We7dOnSpEmTSZMmRW+8c+fO/fbbb99///0QwoEDB2bPnt23b9/o6XH//fevXbs2Pz9/5MiRM2fOjN6Izj777OXLly9ZsmT16tX9+vXLZDIzZ87s27dvCKGsrKxFixY333xzCKG8vHzNmjVTp07dvHnz/PnzDxw4EN2rCRMmHD16tFevXiGEjh07Jp2PGioAZIE9YAAQwAAggAEAAQwAAhgAEMAAIIABAAEMAAIYABDAACCAAUAAAwACGAAEMAAggAFAAAMAAhgABDAAIIABQAADgAAGAAQwAAhgAEAAA4AABgAEMAAIYABAAAOAAAYAAQwACGAAEMAAgAAGAAEMAAhgABDAAIAABgABDAACGAAQwAAggAEAAQwAAhgAEMAAIIABAAEMAAIYAAQwACCAAUAAAwACGAAEMAAggAFAAAMAAhgABDAACGAAQAADgAAGAAQwAAhgAEAAA4AABgAEMAAIYAAQwACAAAaAOi7vlL73OTk5HkKA+qm2tlYAZ1MmU1tbGzKZ4Gs9/Bpqa3NCbW7I/Itfc0ImN/z7N5vM19qcU+BOJnhUQ6itDSETwr/+NaGbrYd3Mrk7nDn1/wfCEjQACGAAEMAAgAAGAAEMAAhgABDAAIAABoCTzyl/IY7cXBfDqtdq68Tn8QEBfAq+/57ilyID4H9QBy5FbAkaAAQwAAhgACAhOfZQAUADBoB64dQ+C/r4WXB6PED9ETsF+hSNgLxT+gGIDnpOTs7x7wGoD+rAe36uhwEABDAA/L9Ey58CGABSdXwXUgADQHrRG07xLUgBDAAC+H9SBy7JDUB9e9s/tT+943PAAPU8gE/d9///AsjE4sVexELlAAAAAElFTkSuQmCC'>"
      ],
      "text/plain": [
       "<IPython.core.display.HTML object>"
      ]
     },
     "execution_count": 257,
     "metadata": {},
     "output_type": "execute_result"
    }
   ],
   "source": [
    "figMat = glucifer.Figure()\n",
    "figMat.append( glucifer.objects.Points(gSwarm,materialVariable, colours='white blue red black'))\n",
    "#figMat.append( glucifer.objects.Mesh(mesh))\n",
    "figMat.save_database('test.gldb')\n",
    "figMat.show()"
   ]
  },
  {
   "cell_type": "markdown",
   "metadata": {},
   "source": [
    "##Set the values for the masking swarms"
   ]
  },
  {
   "cell_type": "code",
   "execution_count": 258,
   "metadata": {
    "collapsed": false
   },
   "outputs": [],
   "source": [
    "#Setup up a masking Swarm variable for the integrations.\n",
    "#These should be rebuilt at same frequency as the metric calcualtions\n",
    "\n",
    "rockIntVar.data[:] = 0.\n",
    "notair = np.where(materialVariable.data != airIndex)\n",
    "rockIntVar.data[notair] = 1.\n",
    "\n",
    "airIntVar.data[:] = 0.\n",
    "notrock = np.where(materialVariable.data == airIndex)\n",
    "airIntVar.data[notrock] = 1.\n",
    "\n",
    "lithIntVar.data[:] = 0.\n",
    "islith = np.where((materialVariable.data == lithosphereIndex) | (materialVariable.data == crustIndex))\n",
    "lithIntVar.data[islith] = 1.\n",
    "\n",
    "dummyIntVar.data[:] = 1.\n",
    "notrock = np.where(materialVariable.data == airIndex)\n",
    "dummyIntVar.data[notrock] = 1e10  #We'll multiply certain swarm variables by this guy,which\n",
    "#will allow us grab minimum values and assume they are from the rock part"
   ]
  },
  {
   "cell_type": "markdown",
   "metadata": {
    "collapsed": false
   },
   "source": [
    "#Material properties\n"
   ]
  },
  {
   "cell_type": "code",
   "execution_count": 259,
   "metadata": {
    "collapsed": false
   },
   "outputs": [],
   "source": [
    "# The yeilding of the upper slab is dependent on the strain rate.\n",
    "strainRate_2ndInvariant = fn.tensor.second_invariant( \n",
    "                            fn.tensor.symmetric( \n",
    "                            velocityField.fn_gradient ))\n",
    "\n",
    "\n",
    "coordinate = fn.input()\n",
    "depth = 1. - coordinate[1]\n",
    "\n",
    "#Determine yield criterion for depth (rather than pressure as given in Crameri)\n",
    "#Scaling is same as van Heck and Tackley, EPSL, 2011\n",
    "lithopressuregrad = dp.rho*dp.g*(dp.LS)**3/(dp.eta0*dp.k)"
   ]
  },
  {
   "cell_type": "code",
   "execution_count": 260,
   "metadata": {
    "collapsed": false
   },
   "outputs": [
    {
     "data": {
      "text/plain": [
       "29742.07866300001"
      ]
     },
     "execution_count": 260,
     "metadata": {},
     "output_type": "execute_result"
    }
   ],
   "source": [
    "lithopressuregrad*0.1*(110e3/dp.LS)"
   ]
  },
  {
   "cell_type": "code",
   "execution_count": 261,
   "metadata": {
    "collapsed": false
   },
   "outputs": [
    {
     "data": {
      "text/plain": [
       "781405.5212370002"
      ]
     },
     "execution_count": 261,
     "metadata": {},
     "output_type": "execute_result"
    }
   ],
   "source": [
    "ndp.fc*lithopressuregrad"
   ]
  },
  {
   "cell_type": "code",
   "execution_count": 262,
   "metadata": {
    "collapsed": false
   },
   "outputs": [],
   "source": [
    "#Linear viscosity\n",
    "#arhennius = fn.misc.min(ndp.up_visc, fn.math.exp(((-1.*ndp.E) + (ndp.E / temperatureField))))\n",
    "#lower_mantle = False\n",
    "#melt_viscosity_reduction = False"
   ]
  },
  {
   "cell_type": "code",
   "execution_count": 263,
   "metadata": {
    "collapsed": false
   },
   "outputs": [
    {
     "data": {
      "text/plain": [
       "<underworld.function._math.exp at 0x11162a3d0>"
      ]
     },
     "execution_count": 263,
     "metadata": {},
     "output_type": "execute_result"
    }
   ],
   "source": [
    "fn.math.exp(0)"
   ]
  },
  {
   "cell_type": "code",
   "execution_count": 264,
   "metadata": {
    "collapsed": false
   },
   "outputs": [
    {
     "name": "stdout",
     "output_type": "stream",
     "text": [
      "true\n"
     ]
    }
   ],
   "source": [
    "############\n",
    "#Mantle\n",
    "############\n",
    "\n",
    "#Linear viscosity\n",
    "eta0  = 1./np.math.exp( ndp.E / (1.+1.) )\n",
    "arhennius = fn.misc.min(ndp.up_visc, fn.math.exp(((-1.*ndp.E) + (ndp.E / (temperatureField + 1e-6)))))  \n",
    "#The 1e-6 makes sure the expression doesn't blow up; the  (-1.*ndp.E) term makes the expression unity for T = 1\n",
    "\n",
    "\n",
    "\n",
    "#implementation of the melt viscosity reduction\n",
    "Tmvp = 0.5\n",
    "if melt_viscosity_reduction:\n",
    "    mvptest =  fn.branching.conditional( [ (temperatureField > (Tmvp + 7.5*(1. - coordinate[1])) , 0.1 ),   (         True, 1.) ] )\n",
    "    arhennius = fn.misc.min(ndp.up_visc,arhennius*mvptest)\n",
    "\n",
    "\n",
    "#Quick implementation of the lower mantle viscosity increase \n",
    "a = 1.\n",
    "B = 30.\n",
    "d0 = 800e3/dp.LS #Similar fudge to Bello et al. \n",
    "ds = d0/10.\n",
    "if lower_mantle:\n",
    "    print(\"true\")\n",
    "    inner1 = 1. - 0.5*(1. - fn.math.tanh(((1. - d0)-(coordinate[1]))/(ds)))\n",
    "    modfac = a*fn.math.exp(np.log(B)*inner1)\n",
    "    arhennius = fn.misc.min(ndp.up_visc,arhennius*modfac)\n",
    "    \n",
    "\n",
    "#Psuedo-plastic \n",
    "ys =  ndp.cohesion + (depth*ndp.fc*lithopressuregrad)\n",
    "#ys =  ndp.fc*lithopressuregrad*(30e3/dp.LS) # this is the byerlee strength at 30 km\n",
    "yss = fn.misc.max(ndp.cohesion, ys)\n",
    "plasticvisc = yss*(math.sqrt(2))/(strainRate_2ndInvariant*2.)\n",
    "plastic = fn.misc.max(ndp.low_visc,plasticvisc)\n",
    "#combine these\n",
    "mantleviscosityFn = fn.misc.min(arhennius, plastic)\n",
    "\n",
    "############\n",
    "#crust\n",
    "############\n",
    "\n",
    "\n",
    "\n",
    "ysc = (ndp.cohesion/ndp.cohesion_reduce) + (depth*(ndp.fc/100.)*lithopressuregrad)\n",
    "#ysc = ys/100.\n",
    "ycs = fn.misc.max((ndp.cohesion/ndp.cohesion_reduce), ysc)\n",
    "crustplasticvisc = ycs*(math.sqrt(2))/(strainRate_2ndInvariant*2.)\n",
    "crustplastic = fn.misc.max(ndp.low_visc,crustplasticvisc) \n",
    "crustviscosityFn = fn.misc.min(arhennius, crustplastic)"
   ]
  },
  {
   "cell_type": "code",
   "execution_count": 265,
   "metadata": {
    "collapsed": false
   },
   "outputs": [],
   "source": [
    "#d0"
   ]
  },
  {
   "cell_type": "code",
   "execution_count": 266,
   "metadata": {
    "collapsed": false
   },
   "outputs": [
    {
     "data": {
      "text/plain": [
       "100000.0"
      ]
     },
     "execution_count": 266,
     "metadata": {},
     "output_type": "execute_result"
    }
   ],
   "source": [
    "mantleviscosityFn.evaluate(mesh).max()"
   ]
  },
  {
   "cell_type": "code",
   "execution_count": 267,
   "metadata": {
    "collapsed": false
   },
   "outputs": [
    {
     "data": {
      "text/html": [
       "<img src='data:image/png;base64,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'>"
      ],
      "text/plain": [
       "<IPython.core.display.HTML object>"
      ]
     },
     "execution_count": 267,
     "metadata": {},
     "output_type": "execute_result"
    }
   ],
   "source": [
    "figStrainRate = glucifer.Figure()\n",
    "figStrainRate.append( glucifer.objects.Surface(mesh, arhennius, logScale=True))\n",
    "figStrainRate.append( glucifer.objects.Points(gSwarm,materialVariable, colours='white blue red black'))\n",
    "\n",
    "figStrainRate.show()"
   ]
  },
  {
   "cell_type": "markdown",
   "metadata": {},
   "source": [
    "Set up simulation parameters and functions\n",
    "====\n",
    "\n",
    "Here the functions for density, viscosity etc. are set. These functions and/or values are preserved for the entire simulation time. "
   ]
  },
  {
   "cell_type": "code",
   "execution_count": 268,
   "metadata": {
    "collapsed": false
   },
   "outputs": [],
   "source": [
    "# Here we set a viscosity value of '1.' for both materials\n",
    "viscosityMapFn = fn.branching.map( fn_key = materialVariable,\n",
    "                         mapping = {airIndex:ndp.StAeta0, \n",
    "                                    lithosphereIndex:mantleviscosityFn, \n",
    "                                    crustIndex:crustviscosityFn,\n",
    "                                    mantleIndex:mantleviscosityFn, \n",
    "                                    eclIndex:crustviscosityFn,\n",
    "                                    tempIndex:mantleviscosityFn} )\n",
    "\n",
    "densityMapFn = fn.branching.map( fn_key = materialVariable,\n",
    "                         mapping = {airIndex:ndp.StA_RA, \n",
    "                                    lithosphereIndex:ndp.RA*temperatureField, \n",
    "                                    crustIndex:ndp.RA*temperatureField, \n",
    "                                    mantleIndex:ndp.RA*temperatureField, \n",
    "                                    eclIndex:ndp.RA*temperatureField,\n",
    "                                    tempIndex:ndp.RA*temperatureField, } )\n",
    "\n",
    "# Define our gravity using a python tuple (this will be automatically converted to a function)\n",
    "gravity = ( 0.0, 1.0 )\n",
    "\n",
    "buoyancyFn = gravity*densityMapFn"
   ]
  },
  {
   "cell_type": "code",
   "execution_count": 269,
   "metadata": {
    "collapsed": false
   },
   "outputs": [
    {
     "data": {
      "text/plain": [
       "48484848.484848484"
      ]
     },
     "execution_count": 269,
     "metadata": {},
     "output_type": "execute_result"
    }
   ],
   "source": [
    "ndp.Crust_RA"
   ]
  },
  {
   "cell_type": "markdown",
   "metadata": {},
   "source": [
    "Build the Stokes system, solvers, advection-diffusion\n",
    "------\n",
    "\n",
    "Setup linear Stokes system to get the initial velocity."
   ]
  },
  {
   "cell_type": "code",
   "execution_count": 270,
   "metadata": {
    "collapsed": false
   },
   "outputs": [],
   "source": [
    "stokesPIC = uw.systems.Stokes( velocityField = velocityField, \n",
    "                               pressureField = pressureField,\n",
    "                               #swarm         = gSwarm, \n",
    "                               conditions    = [freeslipBC,],\n",
    "                               fn_viscosity   = arhennius, \n",
    "                               fn_bodyforce   = buoyancyFn,\n",
    "                               swarm=gSwarm)\n"
   ]
  },
  {
   "cell_type": "markdown",
   "metadata": {},
   "source": [
    "We do one solve with linear viscosity to get the initial strain rate invariant. This solve step also calculates a 'guess' of the the velocity field based on the linear system, which is used later in the non-linear solver."
   ]
  },
  {
   "cell_type": "code",
   "execution_count": 271,
   "metadata": {
    "collapsed": false
   },
   "outputs": [],
   "source": [
    "#We do one solve with linear viscosity to get the initial strain rate invariant. \n",
    "#This solve step also calculates a 'guess' of the the velocity field based on the linear system, \n",
    "#which is used later in the non-linear solver.\n",
    "\n",
    "solver = uw.systems.Solver(stokesPIC)\n",
    "# If not doing a restart, do a solve on the non-plastic system\n",
    "if not checkpointLoad:\n",
    "    solver.solve()"
   ]
  },
  {
   "cell_type": "code",
   "execution_count": 272,
   "metadata": {
    "collapsed": false
   },
   "outputs": [],
   "source": [
    "#Switch particle escape on, this will also trigger the inflow population control \n",
    "gSwarm.particleEscape = True"
   ]
  },
  {
   "cell_type": "code",
   "execution_count": null,
   "metadata": {
    "collapsed": false
   },
   "outputs": [],
   "source": [
    "####################\n",
    "#Add the non-linear viscosity to the Stokes system\n",
    "stokesPIC.fn_viscosity = viscosityMapFn\n",
    "###################\n",
    "\n",
    "#Set more advanced solver option\n",
    "#solver.options.main.Q22_pc_type='gkgdiag'\n",
    "#solver.options.A11.ksp_rtol=1e-2\n",
    "#solver.options.scr.ksp_rtol=1e-3\n",
    "#solver.options.A11.ksp_type=\"cg\"\n",
    "solver.options.scr.use_previous_guess = True\n",
    "#solver.options.scr.ksp_set_min_it_converge = 1\n",
    "#solver.options.main.penalty=10.0\n",
    "\n",
    "#solver.options.mg.levels = 3\n",
    "#solver.options.main.remove_constant_pressure_null_space=True\n",
    "#solver.options.main.penalty = 1e2\n",
    "\n",
    "#solver.options.A11.ksp_rtol=1e-4\n",
    "#solver.options.scr.ksp_rtol=1e-4\n",
    "\n",
    "solver.options.A11.ksp_monitor=''\n",
    "solver.options.A11.ksp_converged_reason=''"
   ]
  },
  {
   "cell_type": "code",
   "execution_count": null,
   "metadata": {
    "collapsed": false
   },
   "outputs": [],
   "source": [
    "solver.solve(nonLinearIterate=True)"
   ]
  },
  {
   "cell_type": "code",
   "execution_count": null,
   "metadata": {
    "collapsed": false
   },
   "outputs": [],
   "source": [
    "viscField = uw.mesh.MeshVariable( mesh=mesh,   nodeDofCount=1)\n",
    "viscdata = mantleviscosityFn.evaluate(mesh)\n",
    "#viscField.data[:] = viscdata\n",
    "\n",
    "\n",
    "#viscVariable = gSwarm.add_variable( dataType=\"float\", count=1 )\n",
    "#viscVariable.data[:] = viscosityMapFn.evaluate(gSwarm)"
   ]
  },
  {
   "cell_type": "markdown",
   "metadata": {
    "collapsed": false
   },
   "source": [
    "solver = uw.systems.Solver(stokesPIC2) # altered from PIC2\n",
    "\n",
    "\n",
    "\n",
    "#Set more advanced solver option\n",
    "solver.options.main.Q22_pc_type='uw'\n",
    "solver.options.A11.ksp_rtol=1e-5\n",
    "solver.options.scr.ksp_rtol=1e-5\n",
    "#solver.options.A11.ksp_type=\"cg\"\n",
    "solver.options.scr.use_previous_guess = True\n",
    "solver.options.scr.ksp_set_min_it_converge = 1\n",
    "\n",
    "solver.options.mg.levels = 3\n",
    "\n",
    "#solver.options.A11.ksp_monitor=''\n",
    "#solver.options.A11.ksp_converged_reason='"
   ]
  },
  {
   "cell_type": "markdown",
   "metadata": {},
   "source": [
    "Solve for initial pressure and velocity using a quick non-linear Picard iteration\n"
   ]
  },
  {
   "cell_type": "markdown",
   "metadata": {},
   "source": [
    "Create an advective-diffusive system\n",
    "=====\n",
    "\n",
    "Setup the system in underworld by flagging the temperature and velocity field variables."
   ]
  },
  {
   "cell_type": "code",
   "execution_count": null,
   "metadata": {
    "collapsed": false
   },
   "outputs": [],
   "source": [
    "#uw.systems.AdvectionDiffusion?"
   ]
  },
  {
   "cell_type": "code",
   "execution_count": null,
   "metadata": {
    "collapsed": false
   },
   "outputs": [],
   "source": [
    "#Create advdiff system\n",
    "\n",
    "\n",
    "\n",
    "#advDiff = uw.systems.AdvectionDiffusion( phiField       = temperatureField, \n",
    "#                                         phiDotField    = temperatureDotField, \n",
    "#                                         velocityField  = velocityField, \n",
    "#                                         fn_diffusivity = 1.0,\n",
    "#                                         fn_sourceTerm = 0.,\n",
    "#                                         conditions     = [tempBC,] )\n",
    "\n",
    "\n",
    "advDiff = uw.systems.AdvectionDiffusion( phiField       = temperatureField, \n",
    "                                         phiDotField    = temperatureDotField, \n",
    "                                         velocityField  = velocityField,\n",
    "                                         fn_sourceTerm    = 0.0,\n",
    "                                         fn_diffusivity = 1.0, \n",
    "                                         conditions     = [dirichTempBC,] )\n",
    "\n",
    "\n",
    "\n",
    "advector = uw.systems.SwarmAdvector( swarm         = gSwarm, \n",
    "                                     velocityField = velocityField, \n",
    "                                     order         = 1)"
   ]
  },
  {
   "cell_type": "markdown",
   "metadata": {},
   "source": [
    "Metrics for benchmark\n",
    "=====\n",
    "\n",
    "Define functions to be used in the time loop. For cases 1-4, participants were asked to report a number of diagnostic quantities to be measured after reaching steady state:\n",
    "\n",
    "* Average temp... $$  \\langle T \\rangle  = \\int^1_0 \\int^1_0 T \\, dxdy $$\n",
    "* Top and bottom Nusselt numbers... $$N = \\int^1_0 \\frac{\\partial T}{\\partial y} \\rvert_{y=0/1} \\, dx$$\n",
    "* RMS velocity over the whole domain, surface and max velocity at surface\n",
    "* max and min viscosity over the whole domain\n",
    "* average rate of work done against gravity...$$\\langle W \\rangle = \\int^1_0 \\int^1_0 T u_y \\, dx dy$$\n",
    "* and the average rate of viscous dissipation...$$\\langle \\Phi \\rangle = \\int^1_0 \\int^1_0 \\tau_{ij} \\dot \\epsilon_{ij} \\, dx dy$$\n",
    "\n",
    "* In steady state, if thermal energy is accurately conserved, the difference between $\\langle W \\rangle$ and $\\langle \\Phi \\rangle / Ra$ must vanish, so also reported is the percentage error: \n",
    "\n",
    "$$ \\delta = \\frac{\\lvert \\langle W \\rangle - \\frac{\\langle \\Phi \\rangle}{Ra} \\rvert}{max \\left(  \\langle W \\rangle,  \\frac{\\langle \\Phi \\rangle}{Ra}\\right)} \\times 100% $$"
   ]
  },
  {
   "cell_type": "code",
   "execution_count": null,
   "metadata": {
    "collapsed": false
   },
   "outputs": [],
   "source": [
    "#Setup some Integrals. We want these outside the main loop...\n",
    "tempVariable = gSwarm.add_variable( dataType=\"double\", count=1 )\n",
    "tempVariable.data[:] = temperatureField.evaluate(gSwarm)[:]\n",
    "tempint = uw.utils.Integral((tempVariable*rockIntVar), mesh)\n",
    "\n",
    "\n",
    "areaint = uw.utils.Integral((1.*rockIntVar),mesh)\n",
    "lithareaint = uw.utils.Integral((1.*lithIntVar),mesh)\n",
    "\n",
    "v2int = uw.utils.Integral(fn.math.dot(velocityField,velocityField)*rockIntVar, mesh)\n",
    "\n",
    "\n",
    "dwint = uw.utils.Integral(temperatureField*velocityField[1]*rockIntVar, mesh)\n",
    "\n",
    "\n",
    "sinner = fn.math.dot(strainRate_2ndInvariant,strainRate_2ndInvariant)\n",
    "vdint = uw.utils.Integral((4.*viscosityMapFn*sinner)*rockIntVar, mesh)\n",
    "vdintair = uw.utils.Integral((4.*viscosityMapFn*sinner)*airIntVar, mesh)\n",
    "vdintlith = uw.utils.Integral((4.*viscosityMapFn*sinner)*lithIntVar, mesh)\n",
    "\n",
    "\n",
    "fn_stress = 2.*viscosityMapFn*uw.function.tensor.symmetric(velocityField.fn_gradient)\n",
    "rockstress = fn.tensor.second_invariant(fn_stress)*rockIntVar\n",
    "lithstress = fn.tensor.second_invariant(fn_stress)*lithIntVar\n",
    "\n",
    "stresslithint = uw.utils.Integral(lithstress, mesh)\n"
   ]
  },
  {
   "cell_type": "code",
   "execution_count": null,
   "metadata": {
    "collapsed": false
   },
   "outputs": [],
   "source": [
    "#These should differ if the the map function assigns different properties to bulk mantle\n",
    "\n",
    "print(uw.utils.Integral((4.*mantleviscosityFn*sinner)*rockIntVar, mesh).evaluate()[0])\n",
    "print(uw.utils.Integral((4.*viscosityMapFn*sinner)*rockIntVar, mesh).evaluate()[0])\n",
    "\n",
    "\n",
    "print(uw.utils.Integral((4.*mantleviscosityFn*sinner)*airIntVar, mesh).evaluate()[0])\n",
    "print(uw.utils.Integral((4.*viscosityMapFn*sinner)*airIntVar, mesh).evaluate()[0])\n",
    "\n",
    "print(uw.utils.Integral((4.*mantleviscosityFn*sinner)*lithIntVar, mesh).evaluate()[0])\n",
    "print(uw.utils.Integral((4.*viscosityMapFn*sinner)*lithIntVar, mesh).evaluate()[0])"
   ]
  },
  {
   "cell_type": "markdown",
   "metadata": {},
   "source": [
    "\\begin{equation}  \\langle T \\rangle  = \\int^1_0 \\int^1_0 T \\, dxdy \\end{equation}"
   ]
  },
  {
   "cell_type": "code",
   "execution_count": null,
   "metadata": {
    "collapsed": false
   },
   "outputs": [],
   "source": [
    "def avg_temp():\n",
    "    return tempint.evaluate()[0]/areaint.evaluate()[0]\n",
    "\n",
    "#This one gets cleaned up when Surface integrals are available\n",
    "def nusselt(tempfield, swarm, dx):\n",
    "    #Update the swarm variable\n",
    "    tempgrad = tempfield.fn_gradient\n",
    "    valcheck = tempgrad[1].evaluate(swarm)\n",
    "    if valcheck is None:\n",
    "        vals = np.array(0, dtype='float64')\n",
    "    else:\n",
    "        vals = valcheck.sum()*dx\n",
    "    return vals\n",
    "\n",
    "def rms():\n",
    "    return math.sqrt(v2int.evaluate()[0]/areaint.evaluate()[0])\n",
    "\n",
    "#This one gets cleaned up when Surface integrals are available\n",
    "def rms_surf(swarm, dx):\n",
    "    rmsmaxfn = fn.math.dot(velocityField,velocityField)\n",
    "    rmscheck = rmsmaxfn.evaluate(swarm)\n",
    "    if rmscheck is None:\n",
    "        #print \"watch out\"\n",
    "        rmsvals = np.array(0, dtype='float64')\n",
    "    else:\n",
    "        rmsvals = np.sqrt(rmscheck.sum()*dx)\n",
    "        #print \"okay\"\n",
    "    return rmsvals\n",
    "\n",
    "def max_vx_surf(velfield, swarm):\n",
    "    check = velfield[0].evaluate(swarm)\n",
    "    if check is None:\n",
    "        return 0.\n",
    "    else:\n",
    "        return check.max()\n",
    "\n",
    "\n",
    "#def max_vy_surf(velfield, swarm):\n",
    "#    surfvelxmaxfn = fn.view.min_max(velfield[1])\n",
    "#    surfvelxmaxfn.evaluate(swarm)\n",
    "#    return surfvelxmaxfn.max_global()\n",
    "\n",
    "def gravwork(workfn):\n",
    "    return workfn.evaluate()[0]\n",
    "\n",
    "def viscdis(vdissfn):\n",
    "    return vdissfn.evaluate()[0]\n",
    "\n",
    "def visc_extr(viscfn):\n",
    "    vuviscfnMax = fn.view.min_max(viscfn)\n",
    "    vuviscfnMax.evaluate(gSwarm)\n",
    "    vuviscfnMin = fn.view.min_max(viscfn*dummyIntVar)\n",
    "    vuviscfnMin.evaluate(gSwarm)\n",
    "    return vuviscfnMax.max_global(), vuviscfnMin.min_global()\n",
    "\n",
    "\n",
    "def stress_max(scalarStressfn):\n",
    "    fn_minmax_stress = fn.view.min_max(scalarStressfn)\n",
    "    ignore_stress = fn_minmax_stress.evaluate(gSwarm)\n",
    "    return fn_minmax_stress.max_global()\n",
    "\n",
    "\n",
    "def avg_lith_stress():\n",
    "    return stresslithint.evaluate()[0]/lithareaint.evaluate()[0]"
   ]
  },
  {
   "cell_type": "code",
   "execution_count": null,
   "metadata": {
    "collapsed": false
   },
   "outputs": [],
   "source": [
    "lithareaint.evaluate()[0]"
   ]
  },
  {
   "cell_type": "code",
   "execution_count": null,
   "metadata": {
    "collapsed": false
   },
   "outputs": [],
   "source": [
    "#Check dem \n",
    "#stress_max(rockstress)\n",
    "#visc_extr(viscosityMapFn), ndp.StAeta0\n",
    "#avg_lith_stress()"
   ]
  },
  {
   "cell_type": "code",
   "execution_count": null,
   "metadata": {
    "collapsed": false
   },
   "outputs": [],
   "source": [
    "#Fields for saving data / fields\n",
    "\n",
    "rmsField = uw.mesh.MeshVariable( mesh=mesh,   nodeDofCount=1)\n",
    "rmsfn = fn.math.sqrt(fn.math.dot(velocityField,velocityField))\n",
    "rmsdata = rmsfn.evaluate(mesh)\n",
    "rmsField.data[:] = rmsdata \n",
    "\n",
    "viscField = uw.mesh.MeshVariable( mesh=mesh,   nodeDofCount=1)\n",
    "viscdata = mantleviscosityFn.evaluate(mesh)\n",
    "viscField.data[:] = viscdata\n",
    "\n",
    "\n",
    "strainrateField = uw.mesh.MeshVariable( mesh=mesh,   nodeDofCount=1)\n",
    "srtdata = fn.tensor.second_invariant( \n",
    "                    fn.tensor.symmetric( \n",
    "                        velocityField.fn_gradient ))\n",
    "rostfield = srtdata.evaluate(mesh)\n",
    "strainrateField.data[:] = rostfield\n",
    "\n",
    "viscVariable = gSwarm.add_variable( dataType=\"float\", count=1 )\n",
    "viscVariable.data[:] = viscosityMapFn.evaluate(gSwarm)\n"
   ]
  },
  {
   "cell_type": "code",
   "execution_count": null,
   "metadata": {
    "collapsed": false
   },
   "outputs": [],
   "source": [
    "#Images\n",
    "figEta = glucifer.Figure()\n",
    "figEta.append( glucifer.objects.Points(gSwarm,viscVariable, logScale=True))\n",
    "\n",
    "\n",
    "figMat = glucifer.Figure()\n",
    "figMat.append( glucifer.objects.Points(gSwarm,materialVariable, colours='brown white blue red'))\n",
    "figMat.append( glucifer.objects.Mesh(mesh))\n",
    "\n",
    "\n",
    "figStrainRate = glucifer.Figure()\n",
    "figStrainRate.append( glucifer.objects.Surface(mesh, strainRate_2ndInvariant, logScale=True))\n",
    "\n",
    "\n",
    "figVelocityMag = glucifer.Figure()\n",
    "figVelocityMag.append( glucifer.objects.Surface(mesh, fn.math.dot(velocityField,velocityField))\n",
    ")\n",
    "figTemp = glucifer.Figure()\n",
    "figTemp.append( glucifer.objects.Surface(mesh, temperatureField))\n",
    "\n",
    "\n",
    "\n",
    "#Pack some stuff into a database as well\n",
    "figDb = glucifer.Figure()\n",
    "figDb.append( glucifer.objects.Points(gSwarm,viscVariable, logScale=True, colours='brown white blue'))\n",
    "figDb.append( glucifer.objects.Points(gSwarm,materialVariable, colours='brown white blue red'))\n",
    "figDb.append( glucifer.objects.Mesh(mesh))\n",
    "figDb.append( glucifer.objects.VectorArrows(mesh,velocityField, arrowHead=0.2, scaling=0.01))\n",
    "figDb.append( glucifer.objects.Surface(mesh, strainRate_2ndInvariant, logScale=True, colours='brown white blue'))\n",
    "figDb.append( glucifer.objects.Surface(mesh, temperatureField))\n",
    "                           "
   ]
  },
  {
   "cell_type": "code",
   "execution_count": null,
   "metadata": {
    "collapsed": true
   },
   "outputs": [],
   "source": [
    "\n",
    "pics = uw.swarm.PICIntegrationSwarm(gSwarm)"
   ]
  },
  {
   "cell_type": "code",
   "execution_count": null,
   "metadata": {
    "collapsed": false
   },
   "outputs": [],
   "source": [
    "varnames"
   ]
  },
  {
   "cell_type": "code",
   "execution_count": null,
   "metadata": {
    "collapsed": false
   },
   "outputs": [],
   "source": [
    "def checkpoint1(step, checkpointPath,filename, filewrites):\n",
    "    path = checkpointPath + str(step) \n",
    "    os.mkdir(path)\n",
    "    ##Write and save the file, if not already a writing step\n",
    "    if not step % filewrites == 0:\n",
    "        f_o.write((16*'%-16s ' + '\\n') % (realtime, Viscdis, float(Nu0glob), float(Nu1glob), Avg_temp, \n",
    "                                              Rms,Rmsurfglob,Max_vx_surfglob,Gravwork, etamax, etamin, \n",
    "                                              Viscdisair, Viscdislith,Avg_stress, Max_stress_rock, Max_stress_lith))\n",
    "    filename.close()\n",
    "    shutil.copyfile(os.path.join(outputPath, outputFile), os.path.join(path, outputFile))\n",
    "\n",
    "\n",
    "def checkpoint2(step, checkpointPath, swarm, filename, varlist = [materialVariable], varnames = ['materialVariable']):\n",
    "    path = checkpointPath + str(step) \n",
    "    velfile = \"velocityField\" + \".hdf5\"\n",
    "    tempfile = \"temperatureField\" + \".hdf5\"\n",
    "    pressfile = \"pressureField\" + \".hdf5\"\n",
    "    velocityField.save(os.path.join(path, velfile))\n",
    "    temperatureField.save(os.path.join(path, tempfile))\n",
    "    pressureField.save(os.path.join(path, pressfile))\n",
    "    swarm.save(os.path.join(path, \"swarm.h5\") ) \n",
    "    for ix in range(len(varlist)):\n",
    "        varb = varlist[ix]\n",
    "        varb.save(os.path.join(path,varnames[ix] + \".h5\"))\n",
    "        \n",
    "    "
   ]
  },
  {
   "cell_type": "code",
   "execution_count": null,
   "metadata": {
    "collapsed": false
   },
   "outputs": [],
   "source": [
    "###########\n",
    "#Open file for writing metrics\n",
    "###########\n",
    "\n",
    "if checkpointLoad:\n",
    "    if uw.rank() == 0:\n",
    "        shutil.copyfile(os.path.join(checkpointLoadDir, outputFile), outputPath+outputFile)\n",
    "    comm.Barrier()\n",
    "    #os.rename(os.path.join(checkpointLoadDir, outputFile), outputPath+outputFile)\n",
    "    f_o = open(os.path.join(outputPath, outputFile), 'a')\n",
    "    prevdata = np.genfromtxt(os.path.join(outputPath, outputFile), skip_header=0, skip_footer=0)\n",
    "    realtime = prevdata[prevdata.shape[0]-1, 0]\n",
    "    step = int(checkpointLoadDir.split('/')[-1])\n",
    "    timevals = [0.]\n",
    "else:\n",
    "    f_o = open(outputPath+outputFile, 'w')\n",
    "    realtime = 0.\n",
    "    step = 0\n",
    "    timevals = [0.]"
   ]
  },
  {
   "cell_type": "markdown",
   "metadata": {},
   "source": [
    "Main simulation loop\n",
    "=======\n",
    "\n",
    "The main time stepping loop begins here. Before this the time and timestep are initialised to zero and the output statistics arrays are set up. Also the frequency of outputting basic statistics to the screen is set in steps_output.\n"
   ]
  },
  {
   "cell_type": "code",
   "execution_count": null,
   "metadata": {
    "collapsed": false
   },
   "outputs": [],
   "source": [
    "# initialise timer for computation\n",
    "startMain = time.clock()\n",
    "# Perform steps#\n",
    "while realtime < 0.2:\n",
    "#while step < 25:\n",
    "    #Enter non-linear loop\n",
    "    print step\n",
    "    solver.solve(nonLinearIterate=True)\n",
    "    dt = advDiff.get_max_dt()\n",
    "    if step == 0:\n",
    "        dt = 0.\n",
    "    #start = time.clock()\n",
    "    advDiff.integrate(dt)\n",
    "    #machine_time = (time.clock()-start)\n",
    "    #print(\"total advDiff time is: \" + str(machine_time))\n",
    "    # Advect swarm using this timestep size\n",
    "    #start = time.clock()\n",
    "    advector.integrate(dt)\n",
    "    #machine_time = (time.clock()-start)\n",
    "    #print(\"total advector time is: \" + str(machine_time))\n",
    "    # Increment\n",
    "    realtime += dt\n",
    "    step += 1\n",
    "    timevals.append(realtime)\n",
    "    \n",
    "    ################\n",
    "    #Update temperature field in the air region\n",
    "    ################\n",
    "    if (step % sticky_air_temp == 0):\n",
    "        for index, coord in enumerate(mesh.data):\n",
    "            if coord[1] >= 1.:\n",
    "                temperatureField.data[index] = 0.\n",
    " \n",
    "    ################\n",
    "    #Particle update\n",
    "    ###############\n",
    "    #if (step % swarm_update == 0) or (step % metric_output == 0): #These updates should be done before any metric output\n",
    "    if (step % swarm_update == 0): #These updates should be done before any metric output\n",
    "        #These swarm variables get updated first, as they are used to determine material changes\n",
    "        particledepths = 1. - gSwarm.particleCoordinates.data[:,1]\n",
    "        particletemps = temperatureField.evaluate(gSwarm)[:,0]\n",
    "        conditionmap['depthcondition']['data'] = particledepths\n",
    "        conditionmap['avgtempcondition']['data'] = particletemps\n",
    "        ################\n",
    "        number_updated = 0\n",
    "        for particleID in range(gSwarm.particleCoordinates.data.shape[0]):\n",
    "            check = update_swarm(DG, particleID)\n",
    "            if check > -1:\n",
    "                number_updated += 1\n",
    "                #if check == 0:\n",
    "                #    print \"from \" + str(materialVariable.data[particleID]) + \" to \" + str(check)\n",
    "                materialVariable.data[particleID] = check\n",
    "            else:\n",
    "                pass\n",
    "        #Also update those integration swarms\n",
    "        rockIntVar.data[:] = 0.\n",
    "        notair = np.where(materialVariable.data != airIndex)\n",
    "        rockIntVar.data[notair] = 1.\n",
    "        airIntVar.data[:] = 0.\n",
    "        notrock = np.where(materialVariable.data == airIndex)\n",
    "        airIntVar.data[notrock] = 1.\n",
    "        lithIntVar.data[:] = 0.\n",
    "        islith = np.where((materialVariable.data == lithosphereIndex) | (materialVariable.data == crustIndex))\n",
    "        lithIntVar.data[islith] = 1.\n",
    "        dummyIntVar.data[notrock] = 1e10 \n",
    "\n",
    "    ################            \n",
    "    # Calculate the Metrics, only on 1 of the processors:\n",
    "    ################\n",
    "    if (step % metric_output == 0):\n",
    "        ###############\n",
    "        #Swarm - based Metrics\n",
    "        ###############\n",
    "        tempVariable.data[:] = temperatureField.evaluate(gSwarm)[:]\n",
    "        Avg_temp = avg_temp()\n",
    "        Rms = rms()\n",
    "        Gravwork = gravwork(dwint)\n",
    "        Viscdis = viscdis(vdint)\n",
    "        Viscdisair = viscdis(vdintair)\n",
    "        Viscdislith = viscdis(vdintlith)\n",
    "        etamax, etamin = visc_extr(viscosityMapFn)\n",
    "        #These are the ones that need mpi4py treatment\n",
    "        Nu0loc = nusselt(temperatureField, baseintswarm, dx)\n",
    "        Nu1loc = nusselt(temperatureField, surfintswarm, dx)\n",
    "        Rmsurfloc = rms_surf(surfintswarm, dx)\n",
    "        Max_vx_surfloc = np.array(max_vx_surf(velocityField, surfintswarm),'d') #This float needed to be an array to play with mpi4py\n",
    "        #Setup the global output arrays\n",
    "        dTp = Nu0loc.dtype\n",
    "        Nu0glob = np.array(0, dtype=dTp)\n",
    "        dTp = Nu1loc.dtype\n",
    "        Nu1glob = np.array(0, dtype=dTp)\n",
    "        dTp = Rmsurfloc.dtype\n",
    "        Rmsurfglob = np.array(0, dtype=dTp)\n",
    "        dTp = Max_vx_surfloc.dtype\n",
    "        Max_vx_surfglob = np.array(0.0,dtype=dTp)\n",
    "        #ignore_stress = fn_minmax_stress.evaluate(gSwarm)\n",
    "        Avg_stress = avg_lith_stress()\n",
    "        Max_stress_rock = stress_max(rockstress)\n",
    "        Max_stress_lith = stress_max(lithstress)\n",
    "        #Do global operation ... sum, or max\n",
    "        comm.Allreduce(Nu0loc, Nu0glob, op=MPI.SUM)\n",
    "        comm.Allreduce(Nu1loc, Nu1glob, op=MPI.SUM)\n",
    "        comm.Allreduce(Rmsurfloc, Rmsurfglob, op=MPI.SUM)\n",
    "        comm.Allreduce([Max_vx_surfloc, MPI.DOUBLE],[Max_vx_surfglob, MPI.DOUBLE],op=MPI.MAX)      \n",
    "        # output to summary text file\n",
    "        if uw.rank()==0:\n",
    "            f_o.write((16*'%-16s ' + '\\n') % (realtime, Viscdis, float(Nu0glob), float(Nu1glob), Avg_temp, \n",
    "                                              Rms,Rmsurfglob,Max_vx_surfglob,Gravwork, etamax, etamin, \n",
    "                                              Viscdisair, Viscdislith,Avg_stress, Max_stress_rock, Max_stress_lith))\n",
    "        #test = max_vx_surf(velocityField, surfintswarm)    \n",
    "        #if uw.rank()==0:\n",
    "         #   print(Rmsurfglob,MRms_surf, Max_vx_surfglob, MMax_vx_surf, etamax, Metamax)\n",
    "        #print(Rmsurfloc, test)\n",
    "    ################\n",
    "    #Gldb output\n",
    "    ################ \n",
    "    if (step % gldbs_output == 0) & (writeFiles == True):\n",
    "        #Rebuild any necessary swarm variables\n",
    "        viscVariable.data[:] = viscosityMapFn.evaluate(gSwarm)\n",
    "        #Write gldbs\n",
    "        fnamedb = \"dbFig\" + \"_\" + str(ModIt) + \"_\" + str(step) + \".gldb\"\n",
    "        fullpath = os.path.join(outputPath + \"gldbs/\" + fnamedb)\n",
    "        figDb.show()\n",
    "        figDb.save_database(fullpath)\n",
    "    ################\n",
    "    #Also repopulate entire swarm periodically\n",
    "    ################\n",
    "    if step % swarm_repop == 0:\n",
    "        pics.repopulate()\n",
    "    ################\n",
    "    #Checkpoint\n",
    "    ################\n",
    "    if step % checkpoint_every == 0:\n",
    "        if uw.rank() == 0:\n",
    "            checkpoint1(step, checkpointPath,f_o, metric_output)           \n",
    "        checkpoint2(step, checkpointPath, gSwarm, f_o, varlist = varlist, varnames = varnames)\n",
    "        f_o = open(os.path.join(outputPath, outputFile), 'a') #is this line supposed to be here?\n",
    "     \n",
    "    \n",
    "f_o.close()\n",
    "#print 'step =',step, '; dt =', dt, '; CPU time =', time.clock()-startMain"
   ]
  },
  {
   "cell_type": "code",
   "execution_count": null,
   "metadata": {
    "collapsed": false
   },
   "outputs": [],
   "source": [
    "#avg_temp(), areaint.evaluate()[0]"
   ]
  },
  {
   "cell_type": "code",
   "execution_count": null,
   "metadata": {
    "collapsed": false
   },
   "outputs": [],
   "source": [
    "varnames"
   ]
  },
  {
   "cell_type": "code",
   "execution_count": null,
   "metadata": {
    "collapsed": false
   },
   "outputs": [],
   "source": [
    "#figEta = glucifer.Figure(figsize=(1024,384))\n",
    "#figEta.append( glucifer.objects.Points(gSwarm,viscVariable, logScale=True))\n",
    "#figEta.save_database('test.gldb')\n",
    "#figEta.show()\n",
    "\n"
   ]
  },
  {
   "cell_type": "code",
   "execution_count": null,
   "metadata": {
    "collapsed": false
   },
   "outputs": [],
   "source": [
    "\n",
    "figMat = glucifer.Figure()\n",
    "figMat.append( glucifer.objects.Points(gSwarm,materialVariable, colours='brown white blue red black'))\n",
    "\n",
    "figMat.show()\n",
    "figMat.save_database('test.gldb')\n",
    "#valueRange=None"
   ]
  },
  {
   "cell_type": "code",
   "execution_count": null,
   "metadata": {
    "collapsed": false
   },
   "outputs": [],
   "source": [
    "\n",
    "figMat = glucifer.Figure()\n",
    "figMat.append( glucifer.objects.Points(gSwarm,densityMapFn, logScale=True,))\n",
    "\n",
    "figMat.show()\n",
    "figMat.save_database('test.gldb')\n",
    "#valueRange=None,"
   ]
  },
  {
   "cell_type": "code",
   "execution_count": null,
   "metadata": {
    "collapsed": false
   },
   "outputs": [],
   "source": [
    "#figMat = glucifer.Figure()\n",
    "#figMat.append( glucifer.objects.Points(gSwarm,rockIntVar))\n",
    "#figMat.append( glucifer.objects.Points(gSwarm,rockIntVar, pointSize= 5.))\n",
    "#figMat.append( glucifer.objects.Mesh(mesh))\n",
    "#figMat.save_database('test.gldb')\n",
    "#figMat.show()"
   ]
  },
  {
   "cell_type": "code",
   "execution_count": null,
   "metadata": {
    "collapsed": false
   },
   "outputs": [],
   "source": [
    "figDb.show()\n",
    "figDb.save_database('test.gldb')"
   ]
  },
  {
   "cell_type": "code",
   "execution_count": null,
   "metadata": {
    "collapsed": false
   },
   "outputs": [],
   "source": [
    "#figStrainRate = glucifer.Figure()\n",
    "#figStrainRate.append( glucifer.objects.Surface(mesh, strainRate_2ndInvariant, logScale=True))\n",
    "#figStrainRate.show()\n",
    "#figStrainRate.save_database('test.gldb')\n"
   ]
  },
  {
   "cell_type": "code",
   "execution_count": null,
   "metadata": {
    "collapsed": false
   },
   "outputs": [],
   "source": [
    "machine_time = (time.clock()-startMain)\n",
    "print(\"total machine time is: \" + str(machine_time))"
   ]
  },
  {
   "cell_type": "code",
   "execution_count": null,
   "metadata": {
    "collapsed": true
   },
   "outputs": [],
   "source": [
    "print(\"dimensionless time is: \" + str(realtime))"
   ]
  },
  {
   "cell_type": "code",
   "execution_count": null,
   "metadata": {
    "collapsed": false
   },
   "outputs": [],
   "source": [
    "velocityField.evaluate(IWalls)[:,0].max()"
   ]
  },
  {
   "cell_type": "code",
   "execution_count": null,
   "metadata": {
    "collapsed": false
   },
   "outputs": [],
   "source": [
    "#velocityField.evaluate(TWalls)[:,0].max()"
   ]
  },
  {
   "cell_type": "markdown",
   "metadata": {},
   "source": [
    "# Test checkpoint bug"
   ]
  }
 ],
 "metadata": {
  "kernelspec": {
   "display_name": "Python 2",
   "language": "python",
   "name": "python2"
  },
  "language_info": {
   "codemirror_mode": {
    "name": "ipython",
    "version": 2
   },
   "file_extension": ".py",
   "mimetype": "text/x-python",
   "name": "python",
   "nbconvert_exporter": "python",
   "pygments_lexer": "ipython2",
   "version": "2.7.11"
  }
 },
 "nbformat": 4,
 "nbformat_minor": 0
}
