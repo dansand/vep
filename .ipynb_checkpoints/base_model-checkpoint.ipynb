{
 "cells": [
  {
   "cell_type": "markdown",
   "metadata": {
    "collapsed": true
   },
   "source": [
    "# Thermal slabs with a visco-elastic-plastic core\n",
    "\n"
   ]
  },
  {
   "cell_type": "markdown",
   "metadata": {},
   "source": [
    "Load python functions needed for underworld. Some additional python functions from os, math and numpy used later on."
   ]
  },
  {
   "cell_type": "code",
   "execution_count": 259,
   "metadata": {
    "collapsed": false
   },
   "outputs": [],
   "source": [
    "#!pip install natsort\n",
    "#!pip install networkx"
   ]
  },
  {
   "cell_type": "code",
   "execution_count": 260,
   "metadata": {
    "collapsed": false
   },
   "outputs": [],
   "source": [
    "import networkx as nx\n",
    "import underworld as uw\n",
    "import math\n",
    "from underworld import function as fn\n",
    "import glucifer\n",
    "#import matplotlib.pyplot as pyplot\n",
    "import time\n",
    "import numpy as np\n",
    "import os\n",
    "import sys\n",
    "import natsort\n",
    "import shutil\n",
    "from easydict import EasyDict as edict\n",
    "import slippy2 as sp\n",
    "from slippy2 import unit_conversions\n",
    "from slippy2 import boundary_layer2d\n",
    "\n",
    "\n",
    "\n",
    "from mpi4py import MPI\n",
    "comm = MPI.COMM_WORLD\n",
    "rank = comm.Get_rank()"
   ]
  },
  {
   "cell_type": "code",
   "execution_count": null,
   "metadata": {
    "collapsed": true
   },
   "outputs": [],
   "source": []
  },
  {
   "cell_type": "markdown",
   "metadata": {
    "collapsed": true
   },
   "source": [
    "def mpy_to_kmpma(mpy):\n",
    "    \"\"\"\n",
    "    convert meters per year to kilometers per year\n",
    "    Args:\n",
    "        mpy (float): velocity in meters per year\n",
    "    Returns:\n",
    "        velocity in kilometers per year\n",
    "    Raises:\n",
    "        TypeError: not implemented\n",
    "        ValueError: not implemented\n",
    "    \"\"\"\n",
    "    return 1e3*mpy\n",
    "\n",
    "def myts(mys):\n",
    "    \"\"\"\n",
    "    convert millions of years to seconds\n",
    "    Args:\n",
    "        mys (float): millions or years\n",
    "    Returns:\n",
    "        seconds\n",
    "    Raises:\n",
    "        TypeError: not implemented\n",
    "        ValueError: not implemented\n",
    "    \"\"\"\n",
    "    secs = mys*(3600.*24*365)*1e6\n",
    "    return secs\n",
    "\n",
    "def stmy(secs):\n",
    "    \"\"\"\n",
    "    convert millions of years to seconds\n",
    "    Args:\n",
    "        mys (float): millions or years\n",
    "    Returns:\n",
    "        seconds\n",
    "    Raises:\n",
    "        TypeError: not implemented\n",
    "        ValueError: not implemented\n",
    "    \"\"\"\n",
    "    myr = secs/((3600.*24*365)*1e6)\n",
    "    return myr"
   ]
  },
  {
   "cell_type": "code",
   "execution_count": 261,
   "metadata": {
    "collapsed": false,
    "scrolled": true
   },
   "outputs": [
    {
     "name": "stdout",
     "output_type": "stream",
     "text": [
      "/Users/dansandiford/Documents/programming/earthsci_code/python/vep\r\n",
      "Peterson.ipynb      Untitled.ipynb      base_model.py\r\n",
      "Peterson.py         adv-diff-slab.ipynb \u001b[1m\u001b[34mresults\u001b[m\u001b[m\r\n",
      "README.md           base_model.ipynb    test.gldb\r\n"
     ]
    }
   ],
   "source": [
    "#Display working directory info if in nb mode\n",
    "if (len(sys.argv) > 1):\n",
    "    if (sys.argv[1] == '-f'):\n",
    "        !pwd && ls"
   ]
  },
  {
   "cell_type": "code",
   "execution_count": 262,
   "metadata": {
    "collapsed": false
   },
   "outputs": [],
   "source": [
    "############\n",
    "#Model name.  \n",
    "############\n",
    "Model = \"T\"\n",
    "ModNum = 0\n",
    "\n",
    "if len(sys.argv) == 1:\n",
    "    ModIt = \"Base\"\n",
    "elif sys.argv[1] == '-f':\n",
    "    ModIt = \"Base\"\n",
    "else:\n",
    "    ModIt = str(sys.argv[1])\n"
   ]
  },
  {
   "cell_type": "code",
   "execution_count": 263,
   "metadata": {
    "collapsed": true
   },
   "outputs": [],
   "source": [
    "###########\n",
    "#Standard output directory setup\n",
    "###########\n",
    "\n",
    "\n",
    "outputPath = \"results\" + \"/\" +  str(Model) + \"/\" + str(ModNum) + \"/\" + str(ModIt) + \"/\"\n",
    "imagePath = outputPath + 'images/'\n",
    "filePath = outputPath + 'files/'\n",
    "checkpointPath = outputPath + 'checkpoint/'\n",
    "dbPath = outputPath + 'gldbs/'\n",
    "outputFile = 'results_model' + Model + '_' + str(ModNum) + '_' + str(ModIt) + '.dat'\n",
    "\n",
    "if uw.rank()==0:\n",
    "    # make directories if they don't exist\n",
    "    if not os.path.isdir(outputPath):\n",
    "        os.makedirs(outputPath)\n",
    "    if not os.path.isdir(checkpointPath):\n",
    "        os.makedirs(checkpointPath)\n",
    "    if not os.path.isdir(imagePath):\n",
    "        os.makedirs(imagePath)\n",
    "    if not os.path.isdir(dbPath):\n",
    "        os.makedirs(dbPath)\n",
    "    if not os.path.isdir(filePath):\n",
    "        os.makedirs(filePath)\n",
    "        \n",
    "comm.Barrier() #Barrier here so no procs run the check in the next cell too early "
   ]
  },
  {
   "cell_type": "code",
   "execution_count": 264,
   "metadata": {
    "collapsed": false
   },
   "outputs": [
    {
     "name": "stdout",
     "output_type": "stream",
     "text": [
      "results/T/6/Base/checkpoint/ is empty\n"
     ]
    }
   ],
   "source": [
    "###########\n",
    "#Check if starting from checkpoint\n",
    "###########\n",
    "\n",
    "checkdirs = []\n",
    "for dirpath, dirnames, files in os.walk(checkpointPath):\n",
    "    if files:\n",
    "        print dirpath, 'has files'\n",
    "        checkpointLoad = True\n",
    "        checkdirs.append(dirpath)\n",
    "    if not files:\n",
    "        print dirpath, 'is empty'\n",
    "        checkpointLoad = False\n",
    "        \n",
    "\n",
    "        "
   ]
  },
  {
   "cell_type": "markdown",
   "metadata": {},
   "source": [
    "Set physical constants and parameters, including the Rayleigh number (*RA*). "
   ]
  },
  {
   "cell_type": "code",
   "execution_count": 265,
   "metadata": {
    "collapsed": false
   },
   "outputs": [
    {
     "data": {
      "text/plain": [
       "12.5"
      ]
     },
     "execution_count": 265,
     "metadata": {},
     "output_type": "execute_result"
    }
   ],
   "source": [
    "(1600)/128."
   ]
  },
  {
   "cell_type": "code",
   "execution_count": 266,
   "metadata": {
    "collapsed": false
   },
   "outputs": [],
   "source": [
    "###########\n",
    "#Physical parameters\n",
    "###########\n",
    "\n",
    "#The Slippy rheology class will contain dimensional and nondimensional values, linked in a self-consistent way by scaling paramters\n",
    "#lowermantle.nondimensional['cohesion']\n",
    "#Where lowermantle is a material class (generated within a rheology class); and non dimensional is a dictionary\n",
    "\n",
    "#UW naming conventions: \n",
    "#module_name, package_name, ClassName, function_name, method_name, \n",
    "#ExceptionName, propertyName GLOBAL_CONSTANT_NAME, globalVarName, instanceVarName, functionParameterName, localVarName\n",
    "###########\n",
    "\n",
    "\n",
    "#dimensional parameter dictionary\n",
    "dp = edict({'LS':2890.*1e3,\n",
    "           'rho':3300,\n",
    "           'g':9.81, \n",
    "           'eta0':1e23,\n",
    "           'k':10**-6,\n",
    "           'a':1.25*10**-5, \n",
    "           'deltaT':2500, \n",
    "#           'cohesion':1e7, \n",
    "           'E':240000., \n",
    "           'R':8.314,\n",
    "           'V':6.34*(10**-7),\n",
    "           'StALS': 27.*1e3})\n",
    "\n",
    "#non-dimensional parameter dictionary\n",
    "#One draw back of a dictionary structure, is that variables cannot link to other variables\n",
    "RAfac = 4.\n",
    "Stressfac =(RAfac**(2/3.))\n",
    "ndp = edict({'RA':1e6*RAfac,      \n",
    "              'LS':1.,\n",
    "              'eta0':1.,\n",
    "              'StAeta0':0.01,\n",
    "              'k':1.,\n",
    "              'E':11.55,\n",
    "              'H':32.,\n",
    "              'TR':0.75,\n",
    "              'TS':0.,\n",
    "              'RD':1.,\n",
    "              'cohesion':1.5e4*RAfac,\n",
    "              'cohesion_reduce':10.,\n",
    "              'fc':0.025, \n",
    "              'low_visc':1e-4,\n",
    "              'up_visc':1e5,\n",
    "              'random_temp': 0.05,\n",
    "              'Tmvp':0.6})\n",
    "\n",
    "\n",
    "#A few parameters defining lengths scales, affects materal transistions etc.\n",
    "MANTLETOCRUST = (24.*1e3)/dp.LS #Crust depth\n",
    "CRUSTTOMANTLE = (900.*1e3)/dp.LS \n",
    "LITHTOMANTLE = (900.*1e3)/dp.LS \n",
    "MANTLETOLITH = (200.*1e3)/dp.LS \n",
    "TOPOHEIGHT = (0.*1e3)/dp.LS  #rock-air topography limits\n",
    "CRUSTTOECL  = (100.*1e3)/dp.LS\n",
    "AVGTEMP = 0.75 #Used to define lithosphere\n",
    "\n",
    "\n",
    "#Switch on additinal physical mechanisms like crust buoyancy, eclogite buoyancy, lower mantle viscosity, melt viscosity reduction \n",
    "\n",
    "crust_buoyancy = True\n",
    "ecl_buoyancy = True\n",
    "lower_mantle = True\n",
    "melt_viscosity_reduction= True\n",
    "\n",
    "\n",
    "#Compositional Rayliegh numbers for air, crust, ecglogite\n",
    "ETAREF = dp.rho*dp.g*dp.a*dp.deltaT*((dp.LS)**3)/(ndp.RA*dp.k) #equivalent dimensional reference viscosity\n",
    "#RC = (3300.*dp.g*(dp.LS)**3)/(ETAREF *dp.k) #Composisitional Rayleigh number for rock-air buoyancy force\n",
    "RCA = (1650.*dp.g*(dp.LS)**3)/(ETAREF *dp.k) #Composisitional Rayleigh number for rock-air buoyancy force\n",
    "COMP_RA_FACT_AIR = RCA/ndp.RA\n",
    "RCC = (100.*dp.g*(dp.LS)**3)/(ETAREF *dp.k) #Composisitional Rayleigh number for crust\n",
    "COMP_RA_FACT_CRUST = RCC/ndp.RA\n",
    "RCE = -1*(200.*dp.g*(dp.LS)**3)/(ETAREF *dp.k) #Composisitional Rayleigh number for eclogite \n",
    "COMP_RA_FACT_ECL = RCE/ndp.RA\n",
    "ndp[\"StA_RA\"] = ndp.RA*COMP_RA_FACT_AIR\n",
    "if crust_buoyancy:\n",
    "    ndp[\"Crust_RA\"] = ndp.RA*COMP_RA_FACT_CRUST\n",
    "else:\n",
    "    ndp[\"Crust_RA\"] = 0.\n",
    "if ecl_buoyancy:\n",
    "    ndp[\"Ecl_RA\"] = ndp.RA*COMP_RA_FACT_ECL\n",
    "else:\n",
    "    ndp[\"Ecl_RA\"] = 0.\n",
    "    \n",
    "\n",
    "\n",
    "#######################To be replaced soon\n",
    "#Physical parameters that can be defined with STDIN,\n",
    "#The == '-f': check is a a hack check to see cover the notebook case\n",
    "if len(sys.argv) == 1:\n",
    "    ndp.cohesion = ndp.cohesion\n",
    "elif sys.argv[1] == '-f':\n",
    "    ndp.cohesion = ndp.cohesion\n",
    "else:\n",
    "    ndp.cohesion = float(sys.argv[1])*newvisc"
   ]
  },
  {
   "cell_type": "code",
   "execution_count": 267,
   "metadata": {
    "collapsed": false
   },
   "outputs": [
    {
     "data": {
      "text/plain": [
       "15000.0"
      ]
     },
     "execution_count": 267,
     "metadata": {},
     "output_type": "execute_result"
    }
   ],
   "source": [
    "ndp.cohesion"
   ]
  },
  {
   "cell_type": "code",
   "execution_count": 268,
   "metadata": {
    "collapsed": false
   },
   "outputs": [],
   "source": [
    "###########\n",
    "#Boundary layer / slab paramaters\n",
    "###########\n",
    "\n",
    "subzone = -0.4\n",
    "mor = 0.5\n",
    "vel = 70e3\n",
    "agelimit = 70.\n",
    "thermallimit = 0.8\n",
    "\n",
    "#Slab perturbation paramaters\n",
    "Roc = 450.\n",
    "Crust = 35.\n",
    "theta = 89.\n"
   ]
  },
  {
   "cell_type": "code",
   "execution_count": 269,
   "metadata": {
    "collapsed": false
   },
   "outputs": [
    {
     "data": {
      "text/plain": [
       "0.0"
      ]
     },
     "execution_count": 269,
     "metadata": {},
     "output_type": "execute_result"
    }
   ],
   "source": [
    "ndp.TS"
   ]
  },
  {
   "cell_type": "code",
   "execution_count": 270,
   "metadata": {
    "collapsed": false
   },
   "outputs": [],
   "source": [
    "###########\n",
    "#Model setup parameters\n",
    "###########\n",
    "\n",
    "stickyAir = False\n",
    "\n",
    "MINX = -0.75\n",
    "MINY = 0.\n",
    "MAXX = 0.75\n",
    "\n",
    "#MAXY = 1.035\n",
    "MAXY = 1.\n",
    "\n",
    "if MINX == 0.:\n",
    "    squareModel = True\n",
    "else: \n",
    "    squareModel = False\n",
    "    \n",
    "    \n",
    "dim = 2          # number of spatial dimensions\n",
    "\n",
    "\n",
    "#MESH STUFF\n",
    "\n",
    "RES = 128\n",
    "\n",
    "\n",
    "if MINX == 0.:\n",
    "    Xres = RES\n",
    "else:\n",
    "    Xres = int(RES*1.5)\n",
    "\n",
    "\n",
    "if stickyAir:\n",
    "    Yres = RES\n",
    "    MAXY = 1. + dp.StALS/dp.LS #150km\n",
    "    \n",
    "else:\n",
    "    Yres = RES\n",
    "    MAXY = 1.\n",
    "\n",
    "\n",
    "periodic = [True, False]\n",
    "elementType = \"Q1/dQ0\"\n",
    "#elementType =\"Q2/DPC1\"\n",
    "\n",
    "refineMesh = True\n",
    "\n",
    "\n",
    "#System/Solver stuff\n",
    "\n",
    "PIC_integration=True\n",
    "ppc = 25"
   ]
  },
  {
   "cell_type": "code",
   "execution_count": 271,
   "metadata": {
    "collapsed": false
   },
   "outputs": [],
   "source": [
    "###########\n",
    "#Model Runtime parameters\n",
    "###########\n",
    "\n",
    "swarm_update = 10\n",
    "swarm_repop = 25\n",
    "files_output = 1e6\n",
    "gldbs_output = 5\n",
    "images_output = 1e6\n",
    "checkpoint_every = 25\n",
    "metric_output = 25\n",
    "sticky_air_temp = 10\n",
    "\n",
    "comm.Barrier() #Barrier here so not procs run the check in the next cell too early \n",
    "\n",
    "assert metric_output <= checkpoint_every, 'Checkpointing should run less or as ofen as metric output'\n",
    "#assert (metric_output >= swarm_update), 'Swarm update is needed before checkpointing'\n",
    "#assert metric_output >= sticky_air_temp, 'Sticky air temp should be updated more frequently that metrics'\n"
   ]
  },
  {
   "cell_type": "code",
   "execution_count": 272,
   "metadata": {
    "collapsed": false
   },
   "outputs": [],
   "source": [
    "###########\n",
    "#Model output parameters\n",
    "###########\n",
    "\n",
    "#Do you want to write hdf5 files - Temp, RMS, viscosity, stress?\n",
    "writeFiles = True\n",
    "loadTemp = True\n",
    "\n",
    "    "
   ]
  },
  {
   "cell_type": "code",
   "execution_count": 273,
   "metadata": {
    "collapsed": false
   },
   "outputs": [],
   "source": [
    "mesh = uw.mesh.FeMesh_Cartesian( elementType = elementType,\n",
    "                                 elementRes  = (Xres, Yres), \n",
    "                                 minCoord    = (MINX,MINY), \n",
    "                                 maxCoord=(MAXX,MAXY), periodic=periodic)\n",
    "\n",
    "\n",
    "\n",
    "velocityField       = uw.mesh.MeshVariable( mesh=mesh,         nodeDofCount=dim )\n",
    "pressureField       = uw.mesh.MeshVariable( mesh=mesh.subMesh, nodeDofCount=1 )\n",
    "temperatureField    = uw.mesh.MeshVariable( mesh=mesh,         nodeDofCount=1 )\n",
    "temperatureDotField = uw.mesh.MeshVariable( mesh=mesh,         nodeDofCount=1 )"
   ]
  },
  {
   "cell_type": "code",
   "execution_count": 274,
   "metadata": {
    "collapsed": false
   },
   "outputs": [
    {
     "data": {
      "text/plain": [
       "(96, -0.75, [True, False], 'Q1/dQ0')"
      ]
     },
     "execution_count": 274,
     "metadata": {},
     "output_type": "execute_result"
    }
   ],
   "source": [
    "Xres, MINX, periodic, elementType"
   ]
  },
  {
   "cell_type": "markdown",
   "metadata": {},
   "source": [
    "Create Finite Element (FE) variables for the velocity, pressure and temperature fields. The last two of these are scalar fields needing only one value at each mesh point, while the velocity field contains a vector of *dim* dimensions at each mesh point."
   ]
  },
  {
   "cell_type": "markdown",
   "metadata": {},
   "source": [
    "Create some dummy fevariables for doing top and bottom boundary calculations."
   ]
  },
  {
   "cell_type": "markdown",
   "metadata": {},
   "source": [
    "## Refine mesh"
   ]
  },
  {
   "cell_type": "code",
   "execution_count": 275,
   "metadata": {
    "collapsed": false
   },
   "outputs": [
    {
     "name": "stdout",
     "output_type": "stream",
     "text": [
      "Min\n",
      "(96, 0.015625, 1.875, -1.0)\n",
      "('edges', 96)\n",
      "-- iteration 0 --\n",
      "| F( p_n ) |^2: 0.0\n",
      "Min, Max element width: \n",
      "0.01562\n",
      "0.01562\n"
     ]
    }
   ],
   "source": [
    "#X-Axis\n",
    "\n",
    "if refineMesh:\n",
    "    mesh.reset()\n",
    "    axis = 0\n",
    "    origcoords = np.linspace(mesh.minCoord[axis], mesh.maxCoord[axis], mesh.elementRes[axis] + 1)\n",
    "    edge_rest_lengths = np.diff(origcoords)\n",
    "\n",
    "    deform_lengths = edge_rest_lengths.copy()\n",
    "    min_point =  (abs(mesh.maxCoord[axis]) - abs(mesh.minCoord[axis]))/2.\n",
    "    el_reduction = 1.00\n",
    "    dx = mesh.maxCoord[axis] - min_point\n",
    "\n",
    "    deform_lengths = deform_lengths - \\\n",
    "                                    ((1.-el_reduction) *deform_lengths[0]) + \\\n",
    "                                    abs((origcoords[1:] - min_point))*((0.5*deform_lengths[0])/dx)\n",
    "\n",
    "    #print(edge_rest_lengths.shape, deform_lengths.shape)\n",
    "\n",
    "    sp.deform_1d(deform_lengths, mesh,axis = 'x',norm = 'Min', constraints = [])"
   ]
  },
  {
   "cell_type": "code",
   "execution_count": 276,
   "metadata": {
    "collapsed": false
   },
   "outputs": [],
   "source": [
    "axis = 1\n",
    "orgs = np.linspace(mesh.minCoord[axis], mesh.maxCoord[axis], mesh.elementRes[axis] + 1)\n",
    "\n",
    "value_to_constrain = 1.\n",
    "\n",
    "\n",
    "yconst = [(sp.find_closest(orgs, value_to_constrain), np.array([1.,0]))]\n"
   ]
  },
  {
   "cell_type": "code",
   "execution_count": 277,
   "metadata": {
    "collapsed": false
   },
   "outputs": [
    {
     "name": "stdout",
     "output_type": "stream",
     "text": [
      "Min\n",
      "(64, 0.0093765624999999995, 0.84619375000000008, 0.62499047619047554)\n",
      "('edges', 64)\n",
      "-- iteration 0 --\n",
      "| F( p_n ) |^2: 8.05648611886e-05\n",
      "| p_n+1 - p_n |^2: 0.352079185376\n",
      "-- iteration 1 --\n",
      "| F( p_n ) |^2: 2.93156630191e-31\n",
      "Min, Max element width: \n",
      "0.00938\n",
      "0.02187\n"
     ]
    }
   ],
   "source": [
    "#Y-Axis\n",
    "if refineMesh:\n",
    "    #Y-Axis\n",
    "    axis = 1\n",
    "    origcoords = np.linspace(mesh.minCoord[axis], mesh.maxCoord[axis], mesh.elementRes[axis] + 1)\n",
    "    edge_rest_lengths = np.diff(origcoords)\n",
    "\n",
    "    deform_lengths = edge_rest_lengths.copy()\n",
    "    min_point =  (mesh.maxCoord[axis])\n",
    "    el_reduction = 0.6001\n",
    "    dx = mesh.maxCoord[axis]\n",
    "\n",
    "    deform_lengths = deform_lengths - \\\n",
    "                                    ((1.-el_reduction)*deform_lengths[0]) + \\\n",
    "                                    abs((origcoords[1:] - min_point))*((0.5*deform_lengths[0])/dx)\n",
    "\n",
    "    #print(edge_rest_lengths.shape, deform_lengths.shape)\n",
    "\n",
    "    sp.deform_1d(deform_lengths, mesh,axis = 'y',norm = 'Min', constraints = yconst)"
   ]
  },
  {
   "cell_type": "markdown",
   "metadata": {},
   "source": [
    "# ICs and BCs"
   ]
  },
  {
   "cell_type": "code",
   "execution_count": 278,
   "metadata": {
    "collapsed": true
   },
   "outputs": [],
   "source": [
    "# Initialise data.. Note that we are also setting boundary conditions here\n",
    "velocityField.data[:] = [0.,0.]\n",
    "pressureField.data[:] = 0.\n",
    "temperatureField.data[:] = 0.\n",
    "temperatureDotField.data[:] = 0.\n"
   ]
  },
  {
   "cell_type": "markdown",
   "metadata": {},
   "source": [
    "## Temp ICs"
   ]
  },
  {
   "cell_type": "code",
   "execution_count": 279,
   "metadata": {
    "collapsed": false
   },
   "outputs": [
    {
     "data": {
      "text/plain": [
       "(0.75, 0.0)"
      ]
     },
     "execution_count": 279,
     "metadata": {},
     "output_type": "execute_result"
    }
   ],
   "source": [
    "ndp.TR, ndp.TS"
   ]
  },
  {
   "cell_type": "code",
   "execution_count": 280,
   "metadata": {
    "collapsed": false
   },
   "outputs": [],
   "source": [
    "#boundary_layer2d.agefunc(0.0, off, vel = vel, dom = (MINX,MAXX))\n",
    "\n",
    "lith= boundary_layer2d.LithosphereTemps(mesh, temperatureField, 2890e3, subzone, mor, tint=ndp.TR, tsurf=ndp.TS, vel= 10e3, diffs = 1e-6)\n",
    "\n",
    "\n",
    "#lith= boundary_layer2d.LithosphereTemps(mesh, temperatureField, dp.LS, subzone, mor, tint=0.8, vel=vel, diffs = 1e-6)\n",
    "\n"
   ]
  },
  {
   "cell_type": "code",
   "execution_count": 281,
   "metadata": {
    "collapsed": false
   },
   "outputs": [],
   "source": [
    "#lith.agefunc?"
   ]
  },
  {
   "cell_type": "code",
   "execution_count": 282,
   "metadata": {
    "collapsed": false
   },
   "outputs": [],
   "source": [
    "fudge = 1.\n",
    "\n",
    "for index, coord in enumerate(mesh.data):\n",
    "    xloc = coord[0]\n",
    "    agema = lith.agefunc(xloc)\n",
    "    #print agema\n",
    "    if agelimit:\n",
    "        agema = min(agelimit, agema)\n",
    "    if thermallimit:\n",
    "        if (1.-coord[1]) < (lith.lithdepthfunc(agema)/dp.LS)*thermallimit: #comparison of dimensionless (model) lengths\n",
    "            zloc = ((1.- coord[1])* dp.LS) # dimensional depth kms\n",
    "            t = lith.tempfunc(agema,  zloc)\n",
    "            temperatureField.data[index] = t\n",
    "        else:\n",
    "            temperatureField.data[index] = lith.tint\n",
    "    \n",
    "    else:\n",
    "        if coord[1] >= 1.:\n",
    "            temperatureField.data[index] = lith.tsurf\n",
    "        else:\n",
    "            zloc = ((1.- coord[1])* dp.LS) # dimensional depth kms\n",
    "            t = lith.tempfunc(agema, zloc)\n",
    "            temperatureField.data[index] = t  "
   ]
  },
  {
   "cell_type": "code",
   "execution_count": 283,
   "metadata": {
    "collapsed": false
   },
   "outputs": [
    {
     "data": {
      "text/plain": [
       "2890000.0"
      ]
     },
     "execution_count": 283,
     "metadata": {},
     "output_type": "execute_result"
    }
   ],
   "source": [
    "lith.tempfunc(50., 150e3)\n",
    "dp.LS"
   ]
  },
  {
   "cell_type": "markdown",
   "metadata": {},
   "source": [
    "## Slab perturbation"
   ]
  },
  {
   "cell_type": "code",
   "execution_count": 284,
   "metadata": {
    "collapsed": true
   },
   "outputs": [],
   "source": [
    "#testField    = uw.mesh.MeshVariable( mesh=mesh,         nodeDofCount=1 )\n",
    "#testField.data[:] = 0."
   ]
  },
  {
   "cell_type": "code",
   "execution_count": 285,
   "metadata": {
    "collapsed": false
   },
   "outputs": [],
   "source": [
    "def inCircleFnGenerator(centre, radius):\n",
    "    coord = fn.input()\n",
    "    offsetFn = coord - centre\n",
    "    return fn.math.dot( offsetFn, offsetFn ) < radius**2\n",
    "\n",
    "#Setup slab perturbation params (mostly dimensionles / model params here)\n",
    "phi = 90. - theta\n",
    "RocM = (Roc/dp.LS)*1e3\n",
    "CrustM = MANTLETOCRUST\n",
    "#slabdepth = lithdepthfunc(agefunc(off, off, vel), dp.k)\n",
    "slabdepthM = lith.lithdepthfunc(lith.agefunc(subzone)) /dp.LS\n",
    "#slabdepthM *= 5.\n",
    "Org = (0.+subzone, 1.-RocM)\n",
    "#Use three circles to define our slab and crust perturbation,  \n",
    "Oc = inCircleFnGenerator(Org , RocM)\n",
    "Gc = inCircleFnGenerator(Org , RocM + (50e3/dp.LS)) #a slightly larger circle for the 'gap'\n",
    "Ic = inCircleFnGenerator(Org , RocM - slabdepthM)\n",
    "Cc = inCircleFnGenerator(Org , RocM - CrustM)\n",
    "dx = (RocM)/(np.math.tan((np.math.pi/180.)*phi))\n",
    "\n",
    "#Work our which way the slab should face:\n",
    "sense = 'Left'\n",
    "#if lith.agefunc(subzone + 0.0001) < lith.agefunc(subzone - 0.0001):\n",
    "#    sense = 'Right'\n",
    "\n",
    "#We'll also create a triangle which will truncate the circles defining the slab...\n",
    "if sense == 'Left': \n",
    "    ptx = subzone - dx\n",
    "else:\n",
    "    ptx = subzone + dx\n",
    "\n",
    "coords = ((0.+subzone, 1), (0.+subzone, 1.-RocM), (ptx, 1.))\n",
    "Tri = fn.shape.Polygon(np.array(coords))\n",
    "\n"
   ]
  },
  {
   "cell_type": "code",
   "execution_count": 286,
   "metadata": {
    "collapsed": false
   },
   "outputs": [],
   "source": [
    "#Assign temperatures in the perturbation region\n",
    "#sds = []\n",
    "if sense == 'Left': \n",
    "    age = lith.agefunc(subzone + 0.001)\n",
    "else:\n",
    "    age = lith.agefunc(subzone - 0.001)\n",
    "    \n",
    "if agelimit:\n",
    "        age = min(agelimit, age)\n",
    "\n",
    "for index, coord in enumerate(mesh.data):\n",
    "    #if Oc.evaluate(tuple(coord)) and Tri.evaluate(tuple(coord)) and not Ic.evaluate(tuple(coord)): #in inner circle, not in outer circle\n",
    "    if Oc.evaluate(tuple(coord)) and Tri.evaluate(tuple(coord)): #In the quarter-circle defining the lithosphere\n",
    "\n",
    "        sd = ((RocM - math.sqrt((coord[0] - Org[0])**2 + (coord[1] - Org[1])**2))*dp.LS) #distance from slab edge in m\n",
    "        #print sd\n",
    "        if thermallimit:\n",
    "            if sd < (lith.lithdepthfunc(age))*thermallimit: #comparison of dimensionless (model) lengths\n",
    "                t = lith.tempfunc(age, sd)\n",
    "                temperatureField.data[index] = t\n",
    "        else:\n",
    "            t = lith.tempfunc(age, sd)\n",
    "            temperatureField.data[index] = t\n",
    "    if Gc.evaluate(tuple(coord)) and Tri.evaluate(tuple(coord)) and not Oc.evaluate(tuple(coord)):\n",
    "        temperatureField.data[index] =  lith.tint"
   ]
  },
  {
   "cell_type": "code",
   "execution_count": 287,
   "metadata": {
    "collapsed": false
   },
   "outputs": [
    {
     "data": {
      "text/html": [
       "<img src='data:image/png;base64,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'>"
      ],
      "text/plain": [
       "<IPython.core.display.HTML object>"
      ]
     },
     "execution_count": 287,
     "metadata": {},
     "output_type": "execute_result"
    }
   ],
   "source": [
    "figTemp = glucifer.Figure()\n",
    "figTemp.append( glucifer.objects.Surface(mesh, temperatureField))\n",
    "\n",
    "#figTemp.save_database('test.gldb')\n",
    "figTemp.show()"
   ]
  },
  {
   "cell_type": "code",
   "execution_count": 288,
   "metadata": {
    "collapsed": false
   },
   "outputs": [],
   "source": [
    "# Get the actual sets \n",
    "#\n",
    "#  HJJJJJJH\n",
    "#  I      I\n",
    "#  I      I\n",
    "#  I      I\n",
    "#  HJJJJJJH\n",
    "#  \n",
    "#  Note that H = I & J \n",
    "\n",
    "# Note that we use operator overloading to combine sets\n",
    "# send boundary condition information to underworld\n",
    "IWalls = mesh.specialSets[\"MinI_VertexSet\"] + mesh.specialSets[\"MaxI_VertexSet\"]\n",
    "JWalls = mesh.specialSets[\"MinJ_VertexSet\"] + mesh.specialSets[\"MaxJ_VertexSet\"]\n",
    "TWalls = mesh.specialSets[\"MaxJ_VertexSet\"]\n",
    "BWalls = mesh.specialSets[\"MinJ_VertexSet\"]"
   ]
  },
  {
   "cell_type": "code",
   "execution_count": null,
   "metadata": {
    "collapsed": false
   },
   "outputs": [],
   "source": []
  },
  {
   "cell_type": "code",
   "execution_count": 289,
   "metadata": {
    "collapsed": false
   },
   "outputs": [],
   "source": [
    "#Set Dirichlet Temp conditions\n",
    "\n",
    "for index in mesh.specialSets[\"MinJ_VertexSet\"]:\n",
    "    temperatureField.data[index] = 1.\n",
    "for index in mesh.specialSets[\"MaxJ_VertexSet\"]:\n",
    "    temperatureField.data[index] = lith.tsurf\n",
    "\n",
    "\n",
    "# Now setup the dirichlet boundary condition\n",
    "# Note that through this object, we are flagging to the system \n",
    "# that these nodes are to be considered as boundary conditions. \n",
    "# Also note that we provide a tuple of sets.. One for the Vx, one for Vy.\n",
    "freeslipBC = uw.conditions.DirichletCondition(     variable=velocityField, \n",
    "                                              indexSetsPerDof=(None, JWalls) )\n",
    "\n",
    "# also set dirichlet for temp field\n",
    "dirichTempBC = uw.conditions.DirichletCondition(     variable=temperatureField, \n",
    "                                              indexSetsPerDof=(JWalls,) )\n",
    "\n",
    "\n",
    "#dT_dy = [0.,0.]\n",
    "\n",
    "# also set dirichlet for temp field\n",
    "#neumannTempBC = uw.conditions.NeumannCondition( dT_dy, variable=temperatureField, \n",
    "#                                         indexSetsPerDof=BWalls)"
   ]
  },
  {
   "cell_type": "code",
   "execution_count": 290,
   "metadata": {
    "collapsed": false
   },
   "outputs": [],
   "source": [
    "#temperatureField.data[TWalls.data].max()"
   ]
  },
  {
   "cell_type": "markdown",
   "metadata": {},
   "source": [
    "##Add Random 125 K temp perturbation\n"
   ]
  },
  {
   "cell_type": "markdown",
   "metadata": {
    "collapsed": true
   },
   "source": [
    "tempNump = temperatureField.data\n",
    "\n",
    "#In gerneral we only want to do this on the initial setup, not restarts\n",
    "\n",
    "if not checkpointLoad:\n",
    "    for index, coord in enumerate(mesh.data):\n",
    "        pertCoeff = (0.05*(np.random.rand(1)[0] - 0.5)) #this should create values between [-0.5,0.5] from uniform dist.\n",
    "        ict = tempNump[index]\n",
    "        tempNump[index] = ict + pertCoeff"
   ]
  },
  {
   "cell_type": "code",
   "execution_count": 291,
   "metadata": {
    "collapsed": false
   },
   "outputs": [],
   "source": [
    "\n",
    "figVelocityMag = glucifer.Figure(figsize=(1024,384))\n",
    "figVelocityMag.append( glucifer.objects.Surface(mesh, temperatureField) )\n",
    "figVelocityMag.show()\n",
    "figVelocityMag.append(glucifer.objects.Mesh(mesh))\n",
    "#figVelocityMag.save_database('test.gldb')"
   ]
  },
  {
   "cell_type": "markdown",
   "metadata": {},
   "source": [
    "# Particles"
   ]
  },
  {
   "cell_type": "code",
   "execution_count": 292,
   "metadata": {
    "collapsed": false
   },
   "outputs": [],
   "source": [
    "###########\n",
    "#Material Swarm and variables\n",
    "###########\n",
    "\n",
    "gSwarm = uw.swarm.Swarm(mesh=mesh)\n",
    "materialVariable = gSwarm.add_variable( dataType=\"int\", count=1 )\n",
    "rockIntVar = gSwarm.add_variable( dataType=\"double\", count=1 )\n",
    "airIntVar = gSwarm.add_variable( dataType=\"double\", count=1 )\n",
    "lithIntVar = gSwarm.add_variable( dataType=\"double\", count=1 )\n",
    "dummyIntVar = gSwarm.add_variable( dataType=\"double\", count=1 ) #This one is used so we can safely ignore values in the air region\n",
    "\n",
    "varlist = [materialVariable, rockIntVar, airIntVar, lithIntVar]\n",
    "varnames = ['materialVariable', 'rockIntVar', 'airIntVar', 'lithIntVar']"
   ]
  },
  {
   "cell_type": "code",
   "execution_count": 293,
   "metadata": {
    "collapsed": false
   },
   "outputs": [],
   "source": [
    "###########\n",
    "#Swarms for surface integrals when using Sticky air\n",
    "###########\n",
    "\n",
    "snum = 1000.\n",
    "dx = (mesh.data[:,0].max()- mesh.data[:,0].min())/snum\n",
    "yp = 0.9947 #1. - yelsize/2. at res = 96\n",
    "\n",
    "mesh.data[:,0].max()\n",
    "xps = np.linspace(mesh.data[:,0].min(),mesh.data[:,0].max(), snum)\n",
    "yps = [yp for i in xps]\n",
    "\n",
    "surfintswarm = uw.swarm.Swarm( mesh=mesh )\n",
    "dumout = surfintswarm.add_particles_with_coordinates(np.array((xps,yps)).T)\n",
    "\n",
    "yps = [ 1.- yp  for i in xps]\n",
    "\n",
    "baseintswarm = uw.swarm.Swarm( mesh=mesh)\n",
    "dumout = baseintswarm.add_particles_with_coordinates(np.array((xps,yps)).T)"
   ]
  },
  {
   "cell_type": "markdown",
   "metadata": {},
   "source": [
    "#Initialise swarm variables, or Swarm checkpoint load"
   ]
  },
  {
   "cell_type": "code",
   "execution_count": null,
   "metadata": {
    "collapsed": false
   },
   "outputs": [],
   "source": []
  },
  {
   "cell_type": "code",
   "execution_count": 294,
   "metadata": {
    "collapsed": false
   },
   "outputs": [],
   "source": [
    "mantleIndex = 0\n",
    "lithosphereIndex = 1\n",
    "eclIndex = 2\n",
    "crustIndex = 3\n",
    "airIndex = 4\n",
    "tempIndex = 5\n",
    "\n",
    "\n",
    "\n",
    "\n",
    "if checkpointLoad:\n",
    "    checkpointLoadDir = natsort.natsorted(checkdirs)[-1]\n",
    "    temperatureField.load(os.path.join(checkpointLoadDir, \"temperatureField\" + \".hdf5\"))\n",
    "    pressureField.load(os.path.join(checkpointLoadDir, \"pressureField\" + \".hdf5\"))\n",
    "    velocityField.load(os.path.join(checkpointLoadDir, \"velocityField\" + \".hdf5\"))\n",
    "    gSwarm.load(os.path.join(checkpointLoadDir, \"swarm\" + \".h5\"))\n",
    "    for ix in range(len(varlist)):\n",
    "        varb = varlist[ix]\n",
    "        varb.load(os.path.join(checkpointLoadDir,varnames[ix] + \".h5\"))\n",
    "\n",
    "else:\n",
    "\n",
    "    # Layouts are used to populate the swarm across the whole domain\n",
    "    # Create the layout object\n",
    "    layout = uw.swarm.layouts.PerCellRandomLayout(swarm=gSwarm, particlesPerCell=ppc)\n",
    "    # Now use it to populate.\n",
    "    gSwarm.populate_using_layout( layout=layout )\n",
    "\n",
    "    # Lets initialise the 'materialVariable' data to represent different materials\n",
    "    # Set the material to heavy everywhere via the numpy array\n",
    "    materialVariable.data[:] = mantleIndex\n",
    "    \n",
    "    \n",
    "    #Set initial air and crust materials (allow the graph to take care of lithsophere)\n",
    "    #########\n",
    "    #This initial material setup will be model dependent\n",
    "    #########\n",
    "    for particleID in range(gSwarm.particleCoordinates.data.shape[0]):\n",
    "        if (1. - gSwarm.particleCoordinates.data[particleID][1]) < 0:\n",
    "                 materialVariable.data[particleID] = airIndex\n",
    "        elif (1. - gSwarm.particleCoordinates.data[particleID][1]) < MANTLETOCRUST:\n",
    "                 materialVariable.data[particleID] = crustIndex\n"
   ]
  },
  {
   "cell_type": "markdown",
   "metadata": {},
   "source": [
    "#Material Graphs"
   ]
  },
  {
   "cell_type": "code",
   "execution_count": 295,
   "metadata": {
    "collapsed": false
   },
   "outputs": [],
   "source": [
    "##############\n",
    "#Important: This is a quick fix for a bug that arises in parallel runs\n",
    "##############\n",
    "material_list = [0,1,2,3,4,5]\n"
   ]
  },
  {
   "cell_type": "code",
   "execution_count": 296,
   "metadata": {
    "collapsed": false
   },
   "outputs": [
    {
     "name": "stdout",
     "output_type": "stream",
     "text": [
      "unique values after swarm has loaded:[0 3]\n"
     ]
    }
   ],
   "source": [
    "print( \"unique values after swarm has loaded:\" + str(np.unique(materialVariable.data[:])))\n"
   ]
  },
  {
   "cell_type": "code",
   "execution_count": null,
   "metadata": {
    "collapsed": false
   },
   "outputs": [],
   "source": []
  },
  {
   "cell_type": "code",
   "execution_count": 297,
   "metadata": {
    "collapsed": false
   },
   "outputs": [],
   "source": [
    "#All depth conditions are given as (km/D) where D is the length scale,\n",
    "#note that 'model depths' are used, e.g. 1-z, where z is the vertical Underworld coordinate\n",
    "#All temp conditions are in dimensionless temp. [0. - 1.]\n",
    "\n",
    "#######Graph object\n",
    "DG = nx.DiGraph(field=\"Depth\")\n",
    "\n",
    "#######Nodes\n",
    "#Note that the order of materials, deepest to shallowest is important\n",
    "DG.add_node(0, mat='mantle')\n",
    "DG.add_node(1, mat='lithosphere')\n",
    "DG.add_node(2, mat='ecl')\n",
    "DG.add_node(3, mat='crust')\n",
    "DG.add_node(4, mat='air')\n",
    "DG.add_node(5, mat='temp')\n",
    "\n",
    "\n",
    "labels=dict((n,d['mat']) for n,d in DG.nodes(data=True))\n",
    "pos=nx.spring_layout(DG)\n",
    "\n",
    "\n",
    "#######Edges\n",
    "#anything to air\n",
    "DG.add_edges_from([(0,4),(1,4), (3,4)])\n",
    "DG[0][4]['depthcondition'] = -1*TOPOHEIGHT\n",
    "DG[1][4]['depthcondition'] = -1*TOPOHEIGHT\n",
    "DG[3][4]['depthcondition'] = -1*TOPOHEIGHT\n",
    "\n",
    "\n",
    "#Anything to mantle\n",
    "DG.add_edges_from([(3,0), (1,0), (2,0), (5,0)])\n",
    "DG[3][0]['depthcondition'] = CRUSTTOMANTLE #Normal crust\n",
    "DG[1][0]['depthcondition'] = LITHTOMANTLE #This means we're going to kill lithosphere at the 660.\n",
    "DG[2][0]['depthcondition'] = CRUSTTOMANTLE #Eclogite crust\n",
    "DG[5][0]['depthcondition'] = CRUSTTOMANTLE #Normal crust\n",
    "\n",
    "#Anything to lithsphere\n",
    "DG.add_edges_from([(0,1),(4,1)])\n",
    "DG[0][1]['depthcondition'] = MANTLETOLITH\n",
    "DG[0][1]['avgtempcondition'] = 0.75*AVGTEMP #definition of thermal lithosphere\n",
    "\n",
    "\n",
    "#Anything to crust\n",
    "DG.add_edges_from([(0,3), (1,3), (4,3)])\n",
    "DG[0][3]['depthcondition'] = MANTLETOCRUST\n",
    "DG[1][3]['depthcondition'] = MANTLETOCRUST\n",
    "DG[4][3]['depthcondition'] = TOPOHEIGHT\n",
    "\n",
    "#crust to eclogite\n",
    "DG.add_edges_from([(3,2)])\n",
    "DG[3][2]['depthcondition'] =CRUSTTOECL\n",
    "\n",
    "\n"
   ]
  },
  {
   "cell_type": "code",
   "execution_count": 298,
   "metadata": {
    "collapsed": false
   },
   "outputs": [
    {
     "data": {
      "text/plain": [
       "0.31141868512110726"
      ]
     },
     "execution_count": 298,
     "metadata": {},
     "output_type": "execute_result"
    }
   ],
   "source": [
    "CRUSTTOMANTLE"
   ]
  },
  {
   "cell_type": "code",
   "execution_count": 299,
   "metadata": {
    "collapsed": false
   },
   "outputs": [],
   "source": [
    "#material_list"
   ]
  },
  {
   "cell_type": "code",
   "execution_count": 300,
   "metadata": {
    "collapsed": false
   },
   "outputs": [],
   "source": [
    "remove_nodes = []\n",
    "for node in DG.nodes():\n",
    "    if not node in material_list:\n",
    "        remove_nodes.append(node)\n",
    "        \n",
    "for rmnode in remove_nodes:\n",
    "    DG.remove_node(rmnode)"
   ]
  },
  {
   "cell_type": "code",
   "execution_count": 301,
   "metadata": {
    "collapsed": false
   },
   "outputs": [
    {
     "data": {
      "text/plain": [
       "[0, 1, 2, 3, 4, 5]"
      ]
     },
     "execution_count": 301,
     "metadata": {},
     "output_type": "execute_result"
    }
   ],
   "source": [
    "DG.nodes()"
   ]
  },
  {
   "cell_type": "code",
   "execution_count": 302,
   "metadata": {
    "collapsed": true
   },
   "outputs": [],
   "source": [
    "#A Dictionary to map strings in the graph (e.g. 'depthcondition') to particle data arrays\n",
    "\n",
    "particledepths = 1. - gSwarm.particleCoordinates.data[:,1]\n",
    "particletemps = temperatureField.evaluate(gSwarm)[:,0]\n",
    "\n",
    "conditionmap = {}\n",
    "\n",
    "conditionmap['depthcondition'] = {}\n",
    "conditionmap['depthcondition']['data'] = particledepths\n",
    "conditionmap['avgtempcondition'] = {}\n",
    "conditionmap['avgtempcondition']['data'] = particletemps"
   ]
  },
  {
   "cell_type": "code",
   "execution_count": 303,
   "metadata": {
    "collapsed": true
   },
   "outputs": [],
   "source": [
    "def update_swarm(graph, particleIndex):\n",
    "    \"\"\"\n",
    "    This function takes the materials graph (networkx.DiGraph), and a particle index,\n",
    "    then determines if a material update is required \n",
    "    and if so, returns the new materialindex\n",
    "    Args:\n",
    "        graph (networkx.DiGraph): Directed multigraph representing the transformation of material types\n",
    "        particleIndex (int): the particle index as corressponding to the index in the swarm data arrays\n",
    "    Returns:\n",
    "        if update is required the function returns the the new material variable (int) \n",
    "        else returns None\n",
    "    Raises:\n",
    "        TypeError: not implemented\n",
    "        ValueError: not implemented\n",
    "    \"\"\"\n",
    "    ##Egde gives links to other materials, we then query the conditions to see if we should change materials\n",
    "    matId = materialVariable.data[particleIndex][0]\n",
    "    innerchange = False\n",
    "    outerchange = False\n",
    "    for edge in graph[matId]:\n",
    "        if outerchange:\n",
    "            break\n",
    "        for cond in graph[matId][edge].keys():\n",
    "            outerchange = False\n",
    "            if innerchange: #found a complete transition, break inner loop\n",
    "                break\n",
    "            currentparticlevalue = conditionmap[cond]['data'][particleIndex]\n",
    "            crossover = graph[matId][edge][cond]\n",
    "            if ((matId > edge) and (currentparticlevalue > crossover)):\n",
    "                innerchange = False # continue on, \n",
    "                if graph[matId][edge].keys()[-1] == cond:\n",
    "                    outerchange = True\n",
    "                    innerchange = edge\n",
    "                    break\n",
    "            elif ((matId < edge) and (currentparticlevalue < crossover)):\n",
    "                innerchange = False\n",
    "                if graph[matId][edge].keys()[-1] == cond:\n",
    "                    outerchange = True\n",
    "                    innerchange = edge\n",
    "                    break\n",
    "            else:\n",
    "                #condition not met, break outer loop, go to next edge, outerchange should still be False\n",
    "                break\n",
    "    if type(innerchange) == int:\n",
    "        return innerchange"
   ]
  },
  {
   "cell_type": "code",
   "execution_count": 304,
   "metadata": {
    "collapsed": true
   },
   "outputs": [],
   "source": [
    "#Set the crust material in the slab using shapes/function from uw.\n",
    "\n",
    "if not checkpointLoad:\n",
    "    #materialVariable.data[:] = mantleIndex\n",
    "    #lithtemp = 0.95*0.8\n",
    "    #tempswarm = temperatureField.evaluate(gSwarm)[:,0]\n",
    "\n",
    "    #At this point, we only have to assign any materials that are defined by setup shapes,\n",
    "    #the rest of the materials will be assigned using the materials graph\n",
    "\n",
    "    for particleID in range(gSwarm.particleCoordinates.data.shape[0]):\n",
    "        coord = gSwarm.particleCoordinates.data[particleID]\n",
    "        if gSwarm.particleCoordinates.data[particleID][1] > (1.0 - CrustM):\n",
    "            materialVariable.data[particleID] =  crustIndex\n",
    "        elif Oc.evaluate(tuple(coord)) and Tri.evaluate(tuple(coord)) and not Cc.evaluate(tuple(coord)):\n",
    "            #print(\"True\")\n",
    "            materialVariable.data[particleID] =  crustIndex\n",
    "        if Gc.evaluate(tuple(coord)) and Tri.evaluate(tuple(coord)) and not Oc.evaluate(tuple(coord)):\n",
    "            materialVariable.data[particleID] =  tempIndex"
   ]
  },
  {
   "cell_type": "code",
   "execution_count": 305,
   "metadata": {
    "collapsed": false
   },
   "outputs": [],
   "source": [
    "#Cleanse the swarm of its sins\n",
    "#For some Material Graphs, the graph may have to be traversed more than once\n",
    "\n",
    "check = -1\n",
    "number_updated = 1\n",
    "\n",
    "while number_updated != 0:\n",
    "    number_updated = 0\n",
    "    for particleID in range(gSwarm.particleCoordinates.data.shape[0]):\n",
    "        check = update_swarm(DG, particleID)\n",
    "        if check > -1:\n",
    "            number_updated += 1\n",
    "            materialVariable.data[particleID] = check"
   ]
  },
  {
   "cell_type": "code",
   "execution_count": null,
   "metadata": {
    "collapsed": false
   },
   "outputs": [],
   "source": []
  },
  {
   "cell_type": "code",
   "execution_count": 306,
   "metadata": {
    "collapsed": false
   },
   "outputs": [
    {
     "data": {
      "text/html": [
       "<img src='data:image/png;base64,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'>"
      ],
      "text/plain": [
       "<IPython.core.display.HTML object>"
      ]
     },
     "execution_count": 306,
     "metadata": {},
     "output_type": "execute_result"
    }
   ],
   "source": [
    "figMat = glucifer.Figure()\n",
    "figMat.append( glucifer.objects.Points(gSwarm,materialVariable, colours='white blue red black'))\n",
    "#figMat.append( glucifer.objects.Mesh(mesh))\n",
    "figMat.save_database('test.gldb')\n",
    "figMat.show()"
   ]
  },
  {
   "cell_type": "markdown",
   "metadata": {},
   "source": [
    "##Set the values for the masking swarms"
   ]
  },
  {
   "cell_type": "code",
   "execution_count": 307,
   "metadata": {
    "collapsed": false
   },
   "outputs": [],
   "source": [
    "#Setup up a masking Swarm variable for the integrations.\n",
    "#These should be rebuilt at same frequency as the metric calcualtions\n",
    "\n",
    "rockIntVar.data[:] = 0.\n",
    "notair = np.where(materialVariable.data != airIndex)\n",
    "rockIntVar.data[notair] = 1.\n",
    "\n",
    "airIntVar.data[:] = 0.\n",
    "notrock = np.where(materialVariable.data == airIndex)\n",
    "airIntVar.data[notrock] = 1.\n",
    "\n",
    "lithIntVar.data[:] = 0.\n",
    "islith = np.where((materialVariable.data == lithosphereIndex) | (materialVariable.data == crustIndex))\n",
    "lithIntVar.data[islith] = 1.\n",
    "\n",
    "dummyIntVar.data[:] = 1.\n",
    "notrock = np.where(materialVariable.data == airIndex)\n",
    "dummyIntVar.data[notrock] = 1e10  #We'll multiply certain swarm variables by this guy,which\n",
    "#will allow us grab minimum values and assume they are from the rock part"
   ]
  },
  {
   "cell_type": "markdown",
   "metadata": {
    "collapsed": false
   },
   "source": [
    "#Material properties\n"
   ]
  },
  {
   "cell_type": "code",
   "execution_count": 308,
   "metadata": {
    "collapsed": false
   },
   "outputs": [],
   "source": [
    "# The yeilding of the upper slab is dependent on the strain rate.\n",
    "strainRate_2ndInvariant = fn.tensor.second_invariant( \n",
    "                            fn.tensor.symmetric( \n",
    "                            velocityField.fn_gradient ))\n",
    "\n",
    "\n",
    "coordinate = fn.input()\n",
    "depth = 1. - coordinate[1]\n",
    "\n",
    "#Determine yield criterion for depth (rather than pressure as given in Crameri)\n",
    "#Scaling is same as van Heck and Tackley, EPSL, 2011\n",
    "lithopressuregrad = dp.rho*dp.g*(dp.LS)**3/(dp.eta0*dp.k)"
   ]
  },
  {
   "cell_type": "code",
   "execution_count": 309,
   "metadata": {
    "collapsed": false
   },
   "outputs": [
    {
     "data": {
      "text/plain": [
       "29742.07866300001"
      ]
     },
     "execution_count": 309,
     "metadata": {},
     "output_type": "execute_result"
    }
   ],
   "source": [
    "lithopressuregrad*0.1*(110e3/dp.LS)"
   ]
  },
  {
   "cell_type": "code",
   "execution_count": 310,
   "metadata": {
    "collapsed": false
   },
   "outputs": [
    {
     "data": {
      "text/plain": [
       "195351.38030925006"
      ]
     },
     "execution_count": 310,
     "metadata": {},
     "output_type": "execute_result"
    }
   ],
   "source": [
    "ndp.fc*lithopressuregrad"
   ]
  },
  {
   "cell_type": "code",
   "execution_count": 311,
   "metadata": {
    "collapsed": false
   },
   "outputs": [],
   "source": [
    "#Linear viscosity\n",
    "#arhennius = fn.misc.min(ndp.up_visc, fn.math.exp(((-1.*ndp.E) + (ndp.E / temperatureField))))\n",
    "#lower_mantle = False\n",
    "#melt_viscosity_reduction = False"
   ]
  },
  {
   "cell_type": "code",
   "execution_count": 312,
   "metadata": {
    "collapsed": false
   },
   "outputs": [
    {
     "name": "stdout",
     "output_type": "stream",
     "text": [
      "true\n"
     ]
    }
   ],
   "source": [
    "############\n",
    "#Mantle\n",
    "############\n",
    "\n",
    "#Linear viscosity\n",
    "arhennius = fn.misc.min(ndp.up_visc, fn.math.exp(((-1.*ndp.E) + (ndp.E / (temperatureField + 1e-6)))))  \n",
    "#The 1e-6 makes sure the expression doesn't blow up; the  (-1.*ndp.E) term makes the expression unity for T = 1\n",
    "\n",
    "\n",
    "\n",
    "#implementation of the melt viscosity reduction\n",
    "\n",
    "if melt_viscosity_reduction:\n",
    "    mvptest =  fn.branching.conditional( [ (temperatureField > (ndp.Tmvp + 7.5*(1. - coordinate[1])) , 0.1 ),   (         True, 1.) ] )\n",
    "    arhennius = fn.misc.min(ndp.up_visc,arhennius*mvptest)\n",
    "\n",
    "\n",
    "#Quick implementation of the lower mantle viscosity increase \n",
    "a = 1.\n",
    "B = 30.\n",
    "d0 = 800e3/dp.LS #Similar fudge to Bello et al. \n",
    "ds = d0/10.\n",
    "if lower_mantle:\n",
    "    print(\"true\")\n",
    "    inner1 = 1. - 0.5*(1. - fn.math.tanh(((1. - d0)-(coordinate[1]))/(ds)))\n",
    "    modfac = a*fn.math.exp(np.log(B)*inner1)\n",
    "    arhennius = fn.misc.min(ndp.up_visc,arhennius*modfac)\n",
    "    \n",
    "\n",
    "#Psuedo-plastic \n",
    "ys =  ndp.cohesion + (depth*ndp.fc*lithopressuregrad)\n",
    "#ys =  ndp.fc*lithopressuregrad*(30e3/dp.LS) # this is the byerlee strength at 30 km\n",
    "yss = fn.misc.max(ndp.cohesion, ys)\n",
    "plasticvisc = yss*(math.sqrt(2))/(strainRate_2ndInvariant*2.)\n",
    "plastic = fn.misc.max(ndp.low_visc,plasticvisc)\n",
    "#combine these\n",
    "mantleviscosityFn = fn.misc.min(arhennius, plastic)\n",
    "\n",
    "############\n",
    "#crust\n",
    "############\n",
    "\n",
    "\n",
    "\n",
    "ysc = (ndp.cohesion/ndp.cohesion_reduce) + (depth*(ndp.fc/100.)*lithopressuregrad)\n",
    "#ysc = ys/100.\n",
    "ycs = fn.misc.max((ndp.cohesion/ndp.cohesion_reduce), ysc)\n",
    "crustplasticvisc = ycs*(math.sqrt(2))/(strainRate_2ndInvariant*2.)\n",
    "crustplastic = fn.misc.max(ndp.low_visc,crustplasticvisc) \n",
    "crustviscosityFn = fn.misc.min(arhennius, crustplastic)"
   ]
  },
  {
   "cell_type": "code",
   "execution_count": 326,
   "metadata": {
    "collapsed": false
   },
   "outputs": [
    {
     "data": {
      "text/plain": [
       "15000.0"
      ]
     },
     "execution_count": 326,
     "metadata": {},
     "output_type": "execute_result"
    }
   ],
   "source": [
    "ndp.cohesion "
   ]
  },
  {
   "cell_type": "code",
   "execution_count": 325,
   "metadata": {
    "collapsed": false
   },
   "outputs": [
    {
     "data": {
      "text/html": [
       "<img src='data:image/png;base64,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'>"
      ],
      "text/plain": [
       "<IPython.core.display.HTML object>"
      ]
     },
     "execution_count": 325,
     "metadata": {},
     "output_type": "execute_result"
    }
   ],
   "source": [
    "figStrainRate = glucifer.Figure()\n",
    "figStrainRate.append( glucifer.objects.Surface(mesh, mantleviscosityFn, logScale=True))\n",
    "#figStrainRate.append( glucifer.objects.Points(gSwarm,materialVariable, colours='white blue red black'))\n",
    "\n",
    "figStrainRate.show()"
   ]
  },
  {
   "cell_type": "markdown",
   "metadata": {},
   "source": [
    "Set up simulation parameters and functions\n",
    "====\n",
    "\n",
    "Here the functions for density, viscosity etc. are set. These functions and/or values are preserved for the entire simulation time. "
   ]
  },
  {
   "cell_type": "code",
   "execution_count": 327,
   "metadata": {
    "collapsed": false
   },
   "outputs": [],
   "source": [
    "# Here we set a viscosity value of '1.' for both materials\n",
    "viscosityMapFn = fn.branching.map( fn_key = materialVariable,\n",
    "                         mapping = {airIndex:ndp.StAeta0, \n",
    "                                    lithosphereIndex:mantleviscosityFn, \n",
    "                                    crustIndex:crustviscosityFn,\n",
    "                                    mantleIndex:mantleviscosityFn, \n",
    "                                    eclIndex:crustviscosityFn,\n",
    "                                    tempIndex:mantleviscosityFn} )\n",
    "\n",
    "densityMapFn = fn.branching.map( fn_key = materialVariable,\n",
    "                         mapping = {airIndex:ndp.StA_RA, \n",
    "                                    lithosphereIndex:ndp.RA*temperatureField, \n",
    "                                    crustIndex:ndp.RA*temperatureField, \n",
    "                                    mantleIndex:ndp.RA*temperatureField, \n",
    "                                    eclIndex:ndp.RA*temperatureField,\n",
    "                                    tempIndex:ndp.RA*temperatureField, } )\n",
    "\n",
    "# Define our gravity using a python tuple (this will be automatically converted to a function)\n",
    "gravity = ( 0.0, 1.0 )\n",
    "\n",
    "buoyancyFn = gravity*densityMapFn"
   ]
  },
  {
   "cell_type": "code",
   "execution_count": 316,
   "metadata": {
    "collapsed": false
   },
   "outputs": [
    {
     "data": {
      "text/plain": [
       "969696.9696969696"
      ]
     },
     "execution_count": 316,
     "metadata": {},
     "output_type": "execute_result"
    }
   ],
   "source": [
    "ndp.Crust_RA"
   ]
  },
  {
   "cell_type": "markdown",
   "metadata": {},
   "source": [
    "Build the Stokes system, solvers, advection-diffusion\n",
    "------\n",
    "\n",
    "Setup linear Stokes system to get the initial velocity."
   ]
  },
  {
   "cell_type": "code",
   "execution_count": 317,
   "metadata": {
    "collapsed": false
   },
   "outputs": [],
   "source": [
    "stokesPIC = uw.systems.Stokes( velocityField = velocityField, \n",
    "                               pressureField = pressureField,\n",
    "                               #swarm         = gSwarm, \n",
    "                               conditions    = [freeslipBC,],\n",
    "                               fn_viscosity   = arhennius, \n",
    "                               fn_bodyforce   = buoyancyFn,\n",
    "                               swarm=gSwarm)\n"
   ]
  },
  {
   "cell_type": "markdown",
   "metadata": {},
   "source": [
    "We do one solve with linear viscosity to get the initial strain rate invariant. This solve step also calculates a 'guess' of the the velocity field based on the linear system, which is used later in the non-linear solver."
   ]
  },
  {
   "cell_type": "code",
   "execution_count": 318,
   "metadata": {
    "collapsed": false
   },
   "outputs": [],
   "source": [
    "#We do one solve with linear viscosity to get the initial strain rate invariant. \n",
    "#This solve step also calculates a 'guess' of the the velocity field based on the linear system, \n",
    "#which is used later in the non-linear solver.\n",
    "\n",
    "solver = uw.systems.Solver(stokesPIC)\n",
    "# If not doing a restart, do a solve on the non-plastic system\n",
    "if not checkpointLoad:\n",
    "    solver.solve()"
   ]
  },
  {
   "cell_type": "code",
   "execution_count": 319,
   "metadata": {
    "collapsed": false
   },
   "outputs": [],
   "source": [
    "#Switch particle escape on, this will also trigger the inflow population control \n",
    "gSwarm.particleEscape = True"
   ]
  },
  {
   "cell_type": "code",
   "execution_count": 323,
   "metadata": {
    "collapsed": false
   },
   "outputs": [],
   "source": [
    "####################\n",
    "#Add the non-linear viscosity to the Stokes system\n",
    "stokesPIC.fn_viscosity = viscosityMapFn\n",
    "###################\n",
    "\n",
    "#Set more advanced solver option\n",
    "#solver.options.main.Q22_pc_type='gkgdiag'\n",
    "#solver.options.A11.ksp_rtol=1e-2\n",
    "#solver.options.scr.ksp_rtol=1e-3\n",
    "#solver.options.A11.ksp_type=\"cg\"\n",
    "solver.options.scr.use_previous_guess = True\n",
    "#solver.options.scr.ksp_set_min_it_converge = 1\n",
    "#solver.options.main.penalty=10.0\n",
    "\n",
    "#solver.options.mg.levels = 3\n",
    "#solver.options.main.remove_constant_pressure_null_space=True\n",
    "#solver.options.main.penalty = 1e2\n",
    "\n",
    "#solver.options.A11.ksp_rtol=1e-4\n",
    "#solver.options.scr.ksp_rtol=1e-4\n",
    "\n",
    "solver.options.A11.ksp_monitor=''\n",
    "solver.options.A11.ksp_converged_reason=''"
   ]
  },
  {
   "cell_type": "code",
   "execution_count": 324,
   "metadata": {
    "collapsed": false
   },
   "outputs": [],
   "source": [
    "solver.solve(nonLinearIterate=True)"
   ]
  },
  {
   "cell_type": "code",
   "execution_count": 204,
   "metadata": {
    "collapsed": false
   },
   "outputs": [],
   "source": [
    "viscField = uw.mesh.MeshVariable( mesh=mesh,   nodeDofCount=1)\n",
    "viscdata = mantleviscosityFn.evaluate(mesh)\n",
    "#viscField.data[:] = viscdata\n",
    "\n",
    "\n",
    "#viscVariable = gSwarm.add_variable( dataType=\"float\", count=1 )\n",
    "#viscVariable.data[:] = viscosityMapFn.evaluate(gSwarm)"
   ]
  },
  {
   "cell_type": "markdown",
   "metadata": {
    "collapsed": false
   },
   "source": [
    "solver = uw.systems.Solver(stokesPIC2) # altered from PIC2\n",
    "\n",
    "\n",
    "\n",
    "#Set more advanced solver option\n",
    "solver.options.main.Q22_pc_type='uw'\n",
    "solver.options.A11.ksp_rtol=1e-5\n",
    "solver.options.scr.ksp_rtol=1e-5\n",
    "#solver.options.A11.ksp_type=\"cg\"\n",
    "solver.options.scr.use_previous_guess = True\n",
    "solver.options.scr.ksp_set_min_it_converge = 1\n",
    "\n",
    "solver.options.mg.levels = 3\n",
    "\n",
    "#solver.options.A11.ksp_monitor=''\n",
    "#solver.options.A11.ksp_converged_reason='"
   ]
  },
  {
   "cell_type": "markdown",
   "metadata": {},
   "source": [
    "Solve for initial pressure and velocity using a quick non-linear Picard iteration\n"
   ]
  },
  {
   "cell_type": "markdown",
   "metadata": {},
   "source": [
    "Create an advective-diffusive system\n",
    "=====\n",
    "\n",
    "Setup the system in underworld by flagging the temperature and velocity field variables."
   ]
  },
  {
   "cell_type": "code",
   "execution_count": 205,
   "metadata": {
    "collapsed": false
   },
   "outputs": [],
   "source": [
    "#uw.systems.AdvectionDiffusion?"
   ]
  },
  {
   "cell_type": "code",
   "execution_count": 340,
   "metadata": {
    "collapsed": false
   },
   "outputs": [],
   "source": [
    "#Create advdiff system\n",
    "\n",
    "\n",
    "\n",
    "#advDiff = uw.systems.AdvectionDiffusion( phiField       = temperatureField, \n",
    "#                                         phiDotField    = temperatureDotField, \n",
    "#                                         velocityField  = velocityField, \n",
    "#                                         fn_diffusivity = 1.0,\n",
    "#                                         fn_sourceTerm = 0.,\n",
    "#                                         conditions     = [tempBC,] )\n",
    "\n",
    "\n",
    "advDiff = uw.systems.AdvectionDiffusion( phiField       = temperatureField, \n",
    "                                         phiDotField    = temperatureDotField, \n",
    "                                         velocityField  = velocityField,\n",
    "                                         fn_sourceTerm    = ndp.H,\n",
    "                                         fn_diffusivity = 1.0, \n",
    "                                         conditions     = [dirichTempBC,] )\n",
    "\n",
    "\n",
    "\n",
    "advector = uw.systems.SwarmAdvector( swarm         = gSwarm, \n",
    "                                     velocityField = velocityField, \n",
    "                                     order         = 1)"
   ]
  },
  {
   "cell_type": "markdown",
   "metadata": {},
   "source": [
    "Metrics for benchmark\n",
    "=====\n",
    "\n",
    "Define functions to be used in the time loop. For cases 1-4, participants were asked to report a number of diagnostic quantities to be measured after reaching steady state:\n",
    "\n",
    "* Average temp... $$  \\langle T \\rangle  = \\int^1_0 \\int^1_0 T \\, dxdy $$\n",
    "* Top and bottom Nusselt numbers... $$N = \\int^1_0 \\frac{\\partial T}{\\partial y} \\rvert_{y=0/1} \\, dx$$\n",
    "* RMS velocity over the whole domain, surface and max velocity at surface\n",
    "* max and min viscosity over the whole domain\n",
    "* average rate of work done against gravity...$$\\langle W \\rangle = \\int^1_0 \\int^1_0 T u_y \\, dx dy$$\n",
    "* and the average rate of viscous dissipation...$$\\langle \\Phi \\rangle = \\int^1_0 \\int^1_0 \\tau_{ij} \\dot \\epsilon_{ij} \\, dx dy$$\n",
    "\n",
    "* In steady state, if thermal energy is accurately conserved, the difference between $\\langle W \\rangle$ and $\\langle \\Phi \\rangle / Ra$ must vanish, so also reported is the percentage error: \n",
    "\n",
    "$$ \\delta = \\frac{\\lvert \\langle W \\rangle - \\frac{\\langle \\Phi \\rangle}{Ra} \\rvert}{max \\left(  \\langle W \\rangle,  \\frac{\\langle \\Phi \\rangle}{Ra}\\right)} \\times 100% $$"
   ]
  },
  {
   "cell_type": "code",
   "execution_count": 329,
   "metadata": {
    "collapsed": false
   },
   "outputs": [],
   "source": [
    "#Setup some Integrals. We want these outside the main loop...\n",
    "tempVariable = gSwarm.add_variable( dataType=\"double\", count=1 )\n",
    "tempVariable.data[:] = temperatureField.evaluate(gSwarm)[:]\n",
    "tempint = uw.utils.Integral((tempVariable*rockIntVar), mesh)\n",
    "\n",
    "\n",
    "areaint = uw.utils.Integral((1.*rockIntVar),mesh)\n",
    "lithareaint = uw.utils.Integral((1.*lithIntVar),mesh)\n",
    "\n",
    "v2int = uw.utils.Integral(fn.math.dot(velocityField,velocityField)*rockIntVar, mesh)\n",
    "\n",
    "\n",
    "dwint = uw.utils.Integral(temperatureField*velocityField[1]*rockIntVar, mesh)\n",
    "\n",
    "\n",
    "sinner = fn.math.dot(strainRate_2ndInvariant,strainRate_2ndInvariant)\n",
    "vdint = uw.utils.Integral((4.*viscosityMapFn*sinner)*rockIntVar, mesh)\n",
    "vdintair = uw.utils.Integral((4.*viscosityMapFn*sinner)*airIntVar, mesh)\n",
    "vdintlith = uw.utils.Integral((4.*viscosityMapFn*sinner)*lithIntVar, mesh)\n",
    "\n",
    "\n",
    "fn_stress = 2.*viscosityMapFn*uw.function.tensor.symmetric(velocityField.fn_gradient)\n",
    "rockstress = fn.tensor.second_invariant(fn_stress)*rockIntVar\n",
    "lithstress = fn.tensor.second_invariant(fn_stress)*lithIntVar\n",
    "\n",
    "stresslithint = uw.utils.Integral(lithstress, mesh)\n"
   ]
  },
  {
   "cell_type": "code",
   "execution_count": 330,
   "metadata": {
    "collapsed": false
   },
   "outputs": [
    {
     "name": "stdout",
     "output_type": "stream",
     "text": [
      "815.901258912\n",
      "612.614254745\n",
      "0.0\n",
      "0.0\n",
      "256.361135619\n",
      "86.4373079096\n"
     ]
    }
   ],
   "source": [
    "#These should differ if the the map function assigns different properties to bulk mantle\n",
    "\n",
    "print(uw.utils.Integral((4.*mantleviscosityFn*sinner)*rockIntVar, mesh).evaluate()[0])\n",
    "print(uw.utils.Integral((4.*viscosityMapFn*sinner)*rockIntVar, mesh).evaluate()[0])\n",
    "\n",
    "\n",
    "print(uw.utils.Integral((4.*mantleviscosityFn*sinner)*airIntVar, mesh).evaluate()[0])\n",
    "print(uw.utils.Integral((4.*viscosityMapFn*sinner)*airIntVar, mesh).evaluate()[0])\n",
    "\n",
    "print(uw.utils.Integral((4.*mantleviscosityFn*sinner)*lithIntVar, mesh).evaluate()[0])\n",
    "print(uw.utils.Integral((4.*viscosityMapFn*sinner)*lithIntVar, mesh).evaluate()[0])"
   ]
  },
  {
   "cell_type": "markdown",
   "metadata": {},
   "source": [
    "\\begin{equation}  \\langle T \\rangle  = \\int^1_0 \\int^1_0 T \\, dxdy \\end{equation}"
   ]
  },
  {
   "cell_type": "code",
   "execution_count": 331,
   "metadata": {
    "collapsed": false
   },
   "outputs": [],
   "source": [
    "def avg_temp():\n",
    "    return tempint.evaluate()[0]/areaint.evaluate()[0]\n",
    "\n",
    "#This one gets cleaned up when Surface integrals are available\n",
    "def nusselt(tempfield, swarm, dx):\n",
    "    #Update the swarm variable\n",
    "    tempgrad = tempfield.fn_gradient\n",
    "    valcheck = tempgrad[1].evaluate(swarm)\n",
    "    if valcheck is None:\n",
    "        vals = np.array(0, dtype='float64')\n",
    "    else:\n",
    "        vals = valcheck.sum()*dx\n",
    "    return vals\n",
    "\n",
    "def rms():\n",
    "    return math.sqrt(v2int.evaluate()[0]/areaint.evaluate()[0])\n",
    "\n",
    "#This one gets cleaned up when Surface integrals are available\n",
    "def rms_surf(swarm, dx):\n",
    "    rmsmaxfn = fn.math.dot(velocityField,velocityField)\n",
    "    rmscheck = rmsmaxfn.evaluate(swarm)\n",
    "    if rmscheck is None:\n",
    "        #print \"watch out\"\n",
    "        rmsvals = np.array(0, dtype='float64')\n",
    "    else:\n",
    "        rmsvals = np.sqrt(rmscheck.sum()*dx)\n",
    "        #print \"okay\"\n",
    "    return rmsvals\n",
    "\n",
    "def max_vx_surf(velfield, swarm):\n",
    "    check = velfield[0].evaluate(swarm)\n",
    "    if check is None:\n",
    "        return 0.\n",
    "    else:\n",
    "        return check.max()\n",
    "\n",
    "\n",
    "#def max_vy_surf(velfield, swarm):\n",
    "#    surfvelxmaxfn = fn.view.min_max(velfield[1])\n",
    "#    surfvelxmaxfn.evaluate(swarm)\n",
    "#    return surfvelxmaxfn.max_global()\n",
    "\n",
    "def gravwork(workfn):\n",
    "    return workfn.evaluate()[0]\n",
    "\n",
    "def viscdis(vdissfn):\n",
    "    return vdissfn.evaluate()[0]\n",
    "\n",
    "def visc_extr(viscfn):\n",
    "    vuviscfnMax = fn.view.min_max(viscfn)\n",
    "    vuviscfnMax.evaluate(gSwarm)\n",
    "    vuviscfnMin = fn.view.min_max(viscfn*dummyIntVar)\n",
    "    vuviscfnMin.evaluate(gSwarm)\n",
    "    return vuviscfnMax.max_global(), vuviscfnMin.min_global()\n",
    "\n",
    "\n",
    "def stress_max(scalarStressfn):\n",
    "    fn_minmax_stress = fn.view.min_max(scalarStressfn)\n",
    "    ignore_stress = fn_minmax_stress.evaluate(gSwarm)\n",
    "    return fn_minmax_stress.max_global()\n",
    "\n",
    "\n",
    "def avg_lith_stress():\n",
    "    return stresslithint.evaluate()[0]/lithareaint.evaluate()[0]"
   ]
  },
  {
   "cell_type": "code",
   "execution_count": 332,
   "metadata": {
    "collapsed": false
   },
   "outputs": [
    {
     "data": {
      "text/plain": [
       "0.023063598342168798"
      ]
     },
     "execution_count": 332,
     "metadata": {},
     "output_type": "execute_result"
    }
   ],
   "source": [
    "lithareaint.evaluate()[0]"
   ]
  },
  {
   "cell_type": "code",
   "execution_count": 333,
   "metadata": {
    "collapsed": false
   },
   "outputs": [],
   "source": [
    "#Check dem \n",
    "#stress_max(rockstress)\n",
    "#visc_extr(viscosityMapFn), ndp.StAeta0\n",
    "#avg_lith_stress()"
   ]
  },
  {
   "cell_type": "code",
   "execution_count": 334,
   "metadata": {
    "collapsed": false
   },
   "outputs": [],
   "source": [
    "#Fields for saving data / fields\n",
    "\n",
    "rmsField = uw.mesh.MeshVariable( mesh=mesh,   nodeDofCount=1)\n",
    "rmsfn = fn.math.sqrt(fn.math.dot(velocityField,velocityField))\n",
    "rmsdata = rmsfn.evaluate(mesh)\n",
    "rmsField.data[:] = rmsdata \n",
    "\n",
    "viscField = uw.mesh.MeshVariable( mesh=mesh,   nodeDofCount=1)\n",
    "viscdata = mantleviscosityFn.evaluate(mesh)\n",
    "viscField.data[:] = viscdata\n",
    "\n",
    "\n",
    "strainrateField = uw.mesh.MeshVariable( mesh=mesh,   nodeDofCount=1)\n",
    "srtdata = fn.tensor.second_invariant( \n",
    "                    fn.tensor.symmetric( \n",
    "                        velocityField.fn_gradient ))\n",
    "rostfield = srtdata.evaluate(mesh)\n",
    "strainrateField.data[:] = rostfield\n",
    "\n",
    "viscVariable = gSwarm.add_variable( dataType=\"float\", count=1 )\n",
    "viscVariable.data[:] = viscosityMapFn.evaluate(gSwarm)\n"
   ]
  },
  {
   "cell_type": "code",
   "execution_count": 335,
   "metadata": {
    "collapsed": false
   },
   "outputs": [],
   "source": [
    "#Images\n",
    "figEta = glucifer.Figure()\n",
    "figEta.append( glucifer.objects.Points(gSwarm,viscVariable, logScale=True))\n",
    "\n",
    "\n",
    "figMat = glucifer.Figure()\n",
    "figMat.append( glucifer.objects.Points(gSwarm,materialVariable, colours='brown white blue red'))\n",
    "figMat.append( glucifer.objects.Mesh(mesh))\n",
    "\n",
    "\n",
    "figStrainRate = glucifer.Figure()\n",
    "figStrainRate.append( glucifer.objects.Surface(mesh, strainRate_2ndInvariant, logScale=True))\n",
    "\n",
    "\n",
    "figVelocityMag = glucifer.Figure()\n",
    "figVelocityMag.append( glucifer.objects.Surface(mesh, fn.math.dot(velocityField,velocityField))\n",
    ")\n",
    "figTemp = glucifer.Figure()\n",
    "figTemp.append( glucifer.objects.Surface(mesh, temperatureField))\n",
    "\n",
    "\n",
    "\n",
    "#Pack some stuff into a database as well\n",
    "figDb = glucifer.Figure()\n",
    "figDb.append( glucifer.objects.Points(gSwarm,viscVariable, logScale=True, colours='brown white blue'))\n",
    "figDb.append( glucifer.objects.Points(gSwarm,materialVariable, colours='brown white blue red'))\n",
    "figDb.append( glucifer.objects.Mesh(mesh))\n",
    "figDb.append( glucifer.objects.VectorArrows(mesh,velocityField, arrowHead=0.2, scaling=0.01))\n",
    "figDb.append( glucifer.objects.Surface(mesh, strainRate_2ndInvariant, logScale=True, colours='brown white blue'))\n",
    "figDb.append( glucifer.objects.Surface(mesh, temperatureField))\n",
    "                           "
   ]
  },
  {
   "cell_type": "code",
   "execution_count": 336,
   "metadata": {
    "collapsed": true
   },
   "outputs": [],
   "source": [
    "\n",
    "pics = uw.swarm.PICIntegrationSwarm(gSwarm)"
   ]
  },
  {
   "cell_type": "code",
   "execution_count": 337,
   "metadata": {
    "collapsed": false
   },
   "outputs": [
    {
     "data": {
      "text/plain": [
       "['materialVariable', 'rockIntVar', 'airIntVar', 'lithIntVar']"
      ]
     },
     "execution_count": 337,
     "metadata": {},
     "output_type": "execute_result"
    }
   ],
   "source": [
    "varnames"
   ]
  },
  {
   "cell_type": "code",
   "execution_count": 338,
   "metadata": {
    "collapsed": false
   },
   "outputs": [],
   "source": [
    "def checkpoint1(step, checkpointPath,filename, filewrites):\n",
    "    path = checkpointPath + str(step) \n",
    "    os.mkdir(path)\n",
    "    ##Write and save the file, if not already a writing step\n",
    "    if not step % filewrites == 0:\n",
    "        f_o.write((16*'%-16s ' + '\\n') % (realtime, Viscdis, float(Nu0glob), float(Nu1glob), Avg_temp, \n",
    "                                              Rms,Rmsurfglob,Max_vx_surfglob,Gravwork, etamax, etamin, \n",
    "                                              Viscdisair, Viscdislith,Avg_stress, Max_stress_rock, Max_stress_lith))\n",
    "    filename.close()\n",
    "    shutil.copyfile(os.path.join(outputPath, outputFile), os.path.join(path, outputFile))\n",
    "\n",
    "\n",
    "def checkpoint2(step, checkpointPath, swarm, filename, varlist = [materialVariable], varnames = ['materialVariable']):\n",
    "    path = checkpointPath + str(step) \n",
    "    velfile = \"velocityField\" + \".hdf5\"\n",
    "    tempfile = \"temperatureField\" + \".hdf5\"\n",
    "    pressfile = \"pressureField\" + \".hdf5\"\n",
    "    velocityField.save(os.path.join(path, velfile))\n",
    "    temperatureField.save(os.path.join(path, tempfile))\n",
    "    pressureField.save(os.path.join(path, pressfile))\n",
    "    swarm.save(os.path.join(path, \"swarm.h5\") ) \n",
    "    for ix in range(len(varlist)):\n",
    "        varb = varlist[ix]\n",
    "        varb.save(os.path.join(path,varnames[ix] + \".h5\"))\n",
    "        \n",
    "    "
   ]
  },
  {
   "cell_type": "code",
   "execution_count": null,
   "metadata": {
    "collapsed": true
   },
   "outputs": [],
   "source": []
  },
  {
   "cell_type": "code",
   "execution_count": 339,
   "metadata": {
    "collapsed": false
   },
   "outputs": [],
   "source": [
    "###########\n",
    "#Open file for writing metrics\n",
    "###########\n",
    "\n",
    "if checkpointLoad:\n",
    "    if uw.rank() == 0:\n",
    "        shutil.copyfile(os.path.join(checkpointLoadDir, outputFile), outputPath+outputFile)\n",
    "    comm.Barrier()\n",
    "    #os.rename(os.path.join(checkpointLoadDir, outputFile), outputPath+outputFile)\n",
    "    f_o = open(os.path.join(outputPath, outputFile), 'a')\n",
    "    prevdata = np.genfromtxt(os.path.join(outputPath, outputFile), skip_header=0, skip_footer=0)\n",
    "    realtime = prevdata[prevdata.shape[0]-1, 0]\n",
    "    step = int(checkpointLoadDir.split('/')[-1])\n",
    "    timevals = [0.]\n",
    "else:\n",
    "    f_o = open(outputPath+outputFile, 'w')\n",
    "    realtime = 0.\n",
    "    step = 0\n",
    "    timevals = [0.]"
   ]
  },
  {
   "cell_type": "markdown",
   "metadata": {},
   "source": [
    "Main simulation loop\n",
    "=======\n",
    "\n",
    "The main time stepping loop begins here. Before this the time and timestep are initialised to zero and the output statistics arrays are set up. Also the frequency of outputting basic statistics to the screen is set in steps_output.\n"
   ]
  },
  {
   "cell_type": "code",
   "execution_count": null,
   "metadata": {
    "collapsed": false
   },
   "outputs": [],
   "source": [
    "# initialise timer for computation\n",
    "startMain = time.clock()\n",
    "# Perform steps#\n",
    "while realtime < 0.2:\n",
    "#while step < 25:\n",
    "    #Enter non-linear loop\n",
    "    print step\n",
    "    solver.solve(nonLinearIterate=True)\n",
    "    dt = advDiff.get_max_dt()\n",
    "    if step == 0:\n",
    "        dt = 0.\n",
    "    #start = time.clock()\n",
    "    advDiff.integrate(dt)\n",
    "    #machine_time = (time.clock()-start)\n",
    "    #print(\"total advDiff time is: \" + str(machine_time))\n",
    "    # Advect swarm using this timestep size\n",
    "    #start = time.clock()\n",
    "    advector.integrate(dt)\n",
    "    #machine_time = (time.clock()-start)\n",
    "    #print(\"total advector time is: \" + str(machine_time))\n",
    "    # Increment\n",
    "    realtime += dt\n",
    "    step += 1\n",
    "    timevals.append(realtime)\n",
    "    \n",
    "    ################\n",
    "    #Update temperature field in the air region\n",
    "    ################\n",
    "    if (step % sticky_air_temp == 0):\n",
    "        for index, coord in enumerate(mesh.data):\n",
    "            if coord[1] >= 1.:\n",
    "                temperatureField.data[index] = 0.\n",
    " \n",
    "    ################\n",
    "    #Particle update\n",
    "    ###############\n",
    "    #if (step % swarm_update == 0) or (step % metric_output == 0): #These updates should be done before any metric output\n",
    "    if (step % swarm_update == 0): #These updates should be done before any metric output\n",
    "        #These swarm variables get updated first, as they are used to determine material changes\n",
    "        particledepths = 1. - gSwarm.particleCoordinates.data[:,1]\n",
    "        particletemps = temperatureField.evaluate(gSwarm)[:,0]\n",
    "        conditionmap['depthcondition']['data'] = particledepths\n",
    "        conditionmap['avgtempcondition']['data'] = particletemps\n",
    "        ################\n",
    "        number_updated = 0\n",
    "        for particleID in range(gSwarm.particleCoordinates.data.shape[0]):\n",
    "            check = update_swarm(DG, particleID)\n",
    "            if check > -1:\n",
    "                number_updated += 1\n",
    "                #if check == 0:\n",
    "                #    print \"from \" + str(materialVariable.data[particleID]) + \" to \" + str(check)\n",
    "                materialVariable.data[particleID] = check\n",
    "            else:\n",
    "                pass\n",
    "        #Also update those integration swarms\n",
    "        rockIntVar.data[:] = 0.\n",
    "        notair = np.where(materialVariable.data != airIndex)\n",
    "        rockIntVar.data[notair] = 1.\n",
    "        airIntVar.data[:] = 0.\n",
    "        notrock = np.where(materialVariable.data == airIndex)\n",
    "        airIntVar.data[notrock] = 1.\n",
    "        lithIntVar.data[:] = 0.\n",
    "        islith = np.where((materialVariable.data == lithosphereIndex) | (materialVariable.data == crustIndex))\n",
    "        lithIntVar.data[islith] = 1.\n",
    "        dummyIntVar.data[notrock] = 1e10 \n",
    "\n",
    "    ################            \n",
    "    # Calculate the Metrics, only on 1 of the processors:\n",
    "    ################\n",
    "    if (step % metric_output == 0):\n",
    "        ###############\n",
    "        #Swarm - based Metrics\n",
    "        ###############\n",
    "        tempVariable.data[:] = temperatureField.evaluate(gSwarm)[:]\n",
    "        Avg_temp = avg_temp()\n",
    "        Rms = rms()\n",
    "        Gravwork = gravwork(dwint)\n",
    "        Viscdis = viscdis(vdint)\n",
    "        Viscdisair = viscdis(vdintair)\n",
    "        Viscdislith = viscdis(vdintlith)\n",
    "        etamax, etamin = visc_extr(viscosityMapFn)\n",
    "        #These are the ones that need mpi4py treatment\n",
    "        Nu0loc = nusselt(temperatureField, baseintswarm, dx)\n",
    "        Nu1loc = nusselt(temperatureField, surfintswarm, dx)\n",
    "        Rmsurfloc = rms_surf(surfintswarm, dx)\n",
    "        Max_vx_surfloc = np.array(max_vx_surf(velocityField, surfintswarm),'d') #This float needed to be an array to play with mpi4py\n",
    "        #Setup the global output arrays\n",
    "        dTp = Nu0loc.dtype\n",
    "        Nu0glob = np.array(0, dtype=dTp)\n",
    "        dTp = Nu1loc.dtype\n",
    "        Nu1glob = np.array(0, dtype=dTp)\n",
    "        dTp = Rmsurfloc.dtype\n",
    "        Rmsurfglob = np.array(0, dtype=dTp)\n",
    "        dTp = Max_vx_surfloc.dtype\n",
    "        Max_vx_surfglob = np.array(0.0,dtype=dTp)\n",
    "        #ignore_stress = fn_minmax_stress.evaluate(gSwarm)\n",
    "        Avg_stress = avg_lith_stress()\n",
    "        Max_stress_rock = stress_max(rockstress)\n",
    "        Max_stress_lith = stress_max(lithstress)\n",
    "        #Do global operation ... sum, or max\n",
    "        comm.Allreduce(Nu0loc, Nu0glob, op=MPI.SUM)\n",
    "        comm.Allreduce(Nu1loc, Nu1glob, op=MPI.SUM)\n",
    "        comm.Allreduce(Rmsurfloc, Rmsurfglob, op=MPI.SUM)\n",
    "        comm.Allreduce([Max_vx_surfloc, MPI.DOUBLE],[Max_vx_surfglob, MPI.DOUBLE],op=MPI.MAX)      \n",
    "        # output to summary text file\n",
    "        if uw.rank()==0:\n",
    "            f_o.write((16*'%-16s ' + '\\n') % (realtime, Viscdis, float(Nu0glob), float(Nu1glob), Avg_temp, \n",
    "                                              Rms,Rmsurfglob,Max_vx_surfglob,Gravwork, etamax, etamin, \n",
    "                                              Viscdisair, Viscdislith,Avg_stress, Max_stress_rock, Max_stress_lith))\n",
    "        #test = max_vx_surf(velocityField, surfintswarm)    \n",
    "        #if uw.rank()==0:\n",
    "         #   print(Rmsurfglob,MRms_surf, Max_vx_surfglob, MMax_vx_surf, etamax, Metamax)\n",
    "        #print(Rmsurfloc, test)\n",
    "    ################\n",
    "    #Gldb output\n",
    "    ################ \n",
    "    if (step % gldbs_output == 0) & (writeFiles == True):\n",
    "        #Rebuild any necessary swarm variables\n",
    "        viscVariable.data[:] = viscosityMapFn.evaluate(gSwarm)\n",
    "        #Write gldbs\n",
    "        fnamedb = \"dbFig\" + \"_\" + str(ModIt) + \"_\" + str(step) + \".gldb\"\n",
    "        fullpath = os.path.join(outputPath + \"gldbs/\" + fnamedb)\n",
    "        figDb.show()\n",
    "        figDb.save_database(fullpath)\n",
    "    ################\n",
    "    #Also repopulate entire swarm periodically\n",
    "    ################\n",
    "    if step % swarm_repop == 0:\n",
    "        pics.repopulate()\n",
    "    ################\n",
    "    #Checkpoint\n",
    "    ################\n",
    "    if step % checkpoint_every == 0:\n",
    "        if uw.rank() == 0:\n",
    "            checkpoint1(step, checkpointPath,f_o, metric_output)           \n",
    "        checkpoint2(step, checkpointPath, gSwarm, f_o, varlist = varlist, varnames = varnames)\n",
    "        f_o = open(os.path.join(outputPath, outputFile), 'a') #is this line supposed to be here?\n",
    "     \n",
    "    \n",
    "f_o.close()\n",
    "#print 'step =',step, '; dt =', dt, '; CPU time =', time.clock()-startMain"
   ]
  },
  {
   "cell_type": "code",
   "execution_count": null,
   "metadata": {
    "collapsed": false
   },
   "outputs": [],
   "source": [
    "#avg_temp(), areaint.evaluate()[0]"
   ]
  },
  {
   "cell_type": "code",
   "execution_count": null,
   "metadata": {
    "collapsed": false
   },
   "outputs": [],
   "source": [
    "varnames"
   ]
  },
  {
   "cell_type": "code",
   "execution_count": null,
   "metadata": {
    "collapsed": false
   },
   "outputs": [],
   "source": [
    "#figEta = glucifer.Figure(figsize=(1024,384))\n",
    "#figEta.append( glucifer.objects.Points(gSwarm,viscVariable, logScale=True))\n",
    "#figEta.save_database('test.gldb')\n",
    "#figEta.show()\n",
    "\n"
   ]
  },
  {
   "cell_type": "code",
   "execution_count": null,
   "metadata": {
    "collapsed": false
   },
   "outputs": [],
   "source": [
    "\n",
    "figMat = glucifer.Figure()\n",
    "figMat.append( glucifer.objects.Points(gSwarm,materialVariable, colours='brown white blue red black'))\n",
    "\n",
    "figMat.show()\n",
    "figMat.save_database('test.gldb')\n",
    "#valueRange=None"
   ]
  },
  {
   "cell_type": "code",
   "execution_count": null,
   "metadata": {
    "collapsed": false
   },
   "outputs": [],
   "source": [
    "\n",
    "figMat = glucifer.Figure()\n",
    "figMat.append( glucifer.objects.Points(gSwarm,densityMapFn, logScale=True,))\n",
    "\n",
    "figMat.show()\n",
    "figMat.save_database('test.gldb')\n",
    "#valueRange=None,"
   ]
  },
  {
   "cell_type": "code",
   "execution_count": null,
   "metadata": {
    "collapsed": false
   },
   "outputs": [],
   "source": [
    "#figMat = glucifer.Figure()\n",
    "#figMat.append( glucifer.objects.Points(gSwarm,rockIntVar))\n",
    "#figMat.append( glucifer.objects.Points(gSwarm,rockIntVar, pointSize= 5.))\n",
    "#figMat.append( glucifer.objects.Mesh(mesh))\n",
    "#figMat.save_database('test.gldb')\n",
    "#figMat.show()"
   ]
  },
  {
   "cell_type": "code",
   "execution_count": null,
   "metadata": {
    "collapsed": false
   },
   "outputs": [],
   "source": [
    "figDb.show()\n",
    "figDb.save_database('test.gldb')"
   ]
  },
  {
   "cell_type": "code",
   "execution_count": null,
   "metadata": {
    "collapsed": false
   },
   "outputs": [],
   "source": [
    "#figStrainRate = glucifer.Figure()\n",
    "#figStrainRate.append( glucifer.objects.Surface(mesh, strainRate_2ndInvariant, logScale=True))\n",
    "#figStrainRate.show()\n",
    "#figStrainRate.save_database('test.gldb')\n"
   ]
  },
  {
   "cell_type": "code",
   "execution_count": null,
   "metadata": {
    "collapsed": false
   },
   "outputs": [],
   "source": [
    "machine_time = (time.clock()-startMain)\n",
    "print(\"total machine time is: \" + str(machine_time))"
   ]
  },
  {
   "cell_type": "code",
   "execution_count": null,
   "metadata": {
    "collapsed": true
   },
   "outputs": [],
   "source": [
    "print(\"dimensionless time is: \" + str(realtime))"
   ]
  },
  {
   "cell_type": "code",
   "execution_count": null,
   "metadata": {
    "collapsed": false
   },
   "outputs": [],
   "source": [
    "velocityField.evaluate(IWalls)[:,0].max()"
   ]
  },
  {
   "cell_type": "code",
   "execution_count": null,
   "metadata": {
    "collapsed": false
   },
   "outputs": [],
   "source": [
    "#velocityField.evaluate(TWalls)[:,0].max()"
   ]
  },
  {
   "cell_type": "markdown",
   "metadata": {},
   "source": [
    "# Test checkpoint bug"
   ]
  }
 ],
 "metadata": {
  "kernelspec": {
   "display_name": "Python 2",
   "language": "python",
   "name": "python2"
  },
  "language_info": {
   "codemirror_mode": {
    "name": "ipython",
    "version": 2
   },
   "file_extension": ".py",
   "mimetype": "text/x-python",
   "name": "python",
   "nbconvert_exporter": "python",
   "pygments_lexer": "ipython2",
   "version": "2.7.11"
  }
 },
 "nbformat": 4,
 "nbformat_minor": 0
}
