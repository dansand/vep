{
 "cells": [
  {
   "cell_type": "markdown",
   "metadata": {
    "collapsed": true
   },
   "source": [
    "# Thermal slabs with a visco-elastic-plastic core\n",
    "\n"
   ]
  },
  {
   "cell_type": "markdown",
   "metadata": {},
   "source": [
    "Load python functions needed for underworld. Some additional python functions from os, math and numpy used later on."
   ]
  },
  {
   "cell_type": "code",
   "execution_count": 1,
   "metadata": {
    "collapsed": false
   },
   "outputs": [],
   "source": [
    "#!pip install natsort\n",
    "#!pip install networkx"
   ]
  },
  {
   "cell_type": "code",
   "execution_count": 2,
   "metadata": {
    "collapsed": false
   },
   "outputs": [],
   "source": [
    "import networkx as nx\n",
    "import underworld as uw\n",
    "import math\n",
    "from underworld import function as fn\n",
    "import glucifer\n",
    "#import matplotlib.pyplot as pyplot\n",
    "import time\n",
    "import numpy as np\n",
    "import os\n",
    "import sys\n",
    "import natsort\n",
    "import shutil\n",
    "from easydict import EasyDict as edict\n",
    "import slippy2 as sp\n",
    "\n",
    "\n",
    "\n",
    "from mpi4py import MPI\n",
    "comm = MPI.COMM_WORLD\n",
    "rank = comm.Get_rank()"
   ]
  },
  {
   "cell_type": "code",
   "execution_count": 3,
   "metadata": {
    "collapsed": true
   },
   "outputs": [],
   "source": [
    "def mpy_to_kmpma(mpy):\n",
    "    \"\"\"\n",
    "    convert meters per year to kilometers per year\n",
    "    Args:\n",
    "        mpy (float): velocity in meters per year\n",
    "    Returns:\n",
    "        velocity in kilometers per year\n",
    "    Raises:\n",
    "        TypeError: not implemented\n",
    "        ValueError: not implemented\n",
    "    \"\"\"\n",
    "    return 1e3*mpy\n",
    "\n",
    "def myts(mys):\n",
    "    \"\"\"\n",
    "    convert millions of years to seconds\n",
    "    Args:\n",
    "        mys (float): millions or years\n",
    "    Returns:\n",
    "        seconds\n",
    "    Raises:\n",
    "        TypeError: not implemented\n",
    "        ValueError: not implemented\n",
    "    \"\"\"\n",
    "    secs = mys*(3600.*24*365)*1e6\n",
    "    return secs\n",
    "\n",
    "def stmy(secs):\n",
    "    \"\"\"\n",
    "    convert millions of years to seconds\n",
    "    Args:\n",
    "        mys (float): millions or years\n",
    "    Returns:\n",
    "        seconds\n",
    "    Raises:\n",
    "        TypeError: not implemented\n",
    "        ValueError: not implemented\n",
    "    \"\"\"\n",
    "    myr = secs/((3600.*24*365)*1e6)\n",
    "    return myr"
   ]
  },
  {
   "cell_type": "code",
   "execution_count": 4,
   "metadata": {
    "collapsed": false,
    "scrolled": true
   },
   "outputs": [
    {
     "name": "stdout",
     "output_type": "stream",
     "text": [
      "/Users/dansandiford/Documents/programming/earthsci_code/python/vep\r\n",
      "1_05_StokesSinker.ipynb base_model.ipynb        test.gldb\r\n",
      "README.md               base_model.py\r\n",
      "adv-diff-slab.ipynb     \u001b[1m\u001b[34mresults\u001b[m\u001b[m\r\n"
     ]
    }
   ],
   "source": [
    "#Display working directory info if in nb mode\n",
    "if (len(sys.argv) > 1):\n",
    "    if (sys.argv[1] == '-f'):\n",
    "        !pwd && ls"
   ]
  },
  {
   "cell_type": "code",
   "execution_count": 5,
   "metadata": {
    "collapsed": false
   },
   "outputs": [],
   "source": [
    "############\n",
    "#Model name.  \n",
    "############\n",
    "Model = \"T\"\n",
    "ModNum = 0\n",
    "\n",
    "if len(sys.argv) == 1:\n",
    "    ModIt = \"Base\"\n",
    "elif sys.argv[1] == '-f':\n",
    "    ModIt = \"Base\"\n",
    "else:\n",
    "    ModIt = str(sys.argv[1])\n"
   ]
  },
  {
   "cell_type": "code",
   "execution_count": 6,
   "metadata": {
    "collapsed": true
   },
   "outputs": [],
   "source": [
    "###########\n",
    "#Standard output directory setup\n",
    "###########\n",
    "\n",
    "\n",
    "outputPath = \"results\" + \"/\" +  str(Model) + \"/\" + str(ModNum) + \"/\" + str(ModIt) + \"/\"\n",
    "imagePath = outputPath + 'images/'\n",
    "filePath = outputPath + 'files/'\n",
    "checkpointPath = outputPath + 'checkpoint/'\n",
    "dbPath = outputPath + 'gldbs/'\n",
    "outputFile = 'results_model' + Model + '_' + str(ModNum) + '_' + str(ModIt) + '.dat'\n",
    "\n",
    "if uw.rank()==0:\n",
    "    # make directories if they don't exist\n",
    "    if not os.path.isdir(outputPath):\n",
    "        os.makedirs(outputPath)\n",
    "    if not os.path.isdir(checkpointPath):\n",
    "        os.makedirs(checkpointPath)\n",
    "    if not os.path.isdir(imagePath):\n",
    "        os.makedirs(imagePath)\n",
    "    if not os.path.isdir(dbPath):\n",
    "        os.makedirs(dbPath)\n",
    "    if not os.path.isdir(filePath):\n",
    "        os.makedirs(filePath)\n",
    "        \n",
    "comm.Barrier() #Barrier here so not procs run the check in the next cell too early "
   ]
  },
  {
   "cell_type": "code",
   "execution_count": 7,
   "metadata": {
    "collapsed": false
   },
   "outputs": [
    {
     "name": "stdout",
     "output_type": "stream",
     "text": [
      "results/T/0/Base/checkpoint/ is empty\n"
     ]
    }
   ],
   "source": [
    "###########\n",
    "#Check if starting from checkpoint\n",
    "###########\n",
    "\n",
    "checkdirs = []\n",
    "for dirpath, dirnames, files in os.walk(checkpointPath):\n",
    "    if files:\n",
    "        print dirpath, 'has files'\n",
    "        checkpointLoad = True\n",
    "        checkdirs.append(dirpath)\n",
    "    if not files:\n",
    "        print dirpath, 'is empty'\n",
    "        checkpointLoad = False\n",
    "        \n",
    "\n",
    "        "
   ]
  },
  {
   "cell_type": "markdown",
   "metadata": {},
   "source": [
    "Set physical constants and parameters, including the Rayleigh number (*RA*). "
   ]
  },
  {
   "cell_type": "code",
   "execution_count": 8,
   "metadata": {
    "collapsed": false
   },
   "outputs": [
    {
     "data": {
      "text/plain": [
       "12.5"
      ]
     },
     "execution_count": 8,
     "metadata": {},
     "output_type": "execute_result"
    }
   ],
   "source": [
    "(1600)/128."
   ]
  },
  {
   "cell_type": "code",
   "execution_count": 9,
   "metadata": {
    "collapsed": false
   },
   "outputs": [],
   "source": [
    "###########\n",
    "#Physical parameters\n",
    "###########\n",
    "\n",
    "#The Slippy rheology class will contain dimensional and nondimensional values, linked in a self-consistent way by scaling paramters\n",
    "#lowermantle.nondimensional['cohesion']\n",
    "#Where lowermantle is a material class (generated within a rheology class); and non dimensional is a dictionary\n",
    "\n",
    "#UW naming conventions: \n",
    "#module_name, package_name, ClassName, function_name, method_name, \n",
    "#ExceptionName, propertyName GLOBAL_CONSTANT_NAME, globalVarName, instanceVarName, functionParameterName, localVarName\n",
    "###########\n",
    "\n",
    "\n",
    "#dimensional parameter dictionary\n",
    "dp = edict({'LS':2890.*1e3,\n",
    "           'rho':3300,\n",
    "           'g':9.81, \n",
    "           'eta0':1e23,\n",
    "           'k':10**-6,\n",
    "           'a':1.25*10**-5, \n",
    "           'TS':273.,\n",
    "           'TB':2773.,\n",
    "           'deltaT':2500, \n",
    "           'cohesion':1e7, \n",
    "           'E':240000., \n",
    "           'R':8.314,\n",
    "           'V':6.34*(10**-7),\n",
    "           'StALS': 27.*1e3})\n",
    "\n",
    "#non-dimensional parameter dictionary\n",
    "#One draw back of a dictionary structure, is that variables cannot link to other variables\n",
    "RAfac = 20.\n",
    "Stressfac =(RAfac**(2/3.))\n",
    "ndp = edict({'RA':1e6*RAfac,      \n",
    "              'LS':1.,\n",
    "              'eta0':1.,\n",
    "              'StAeta0':0.1,\n",
    "              'k':1.,\n",
    "              'E':11.55,\n",
    "              'V':3.0,\n",
    "              'H':20.,\n",
    "              'TR':(1600./2500.),\n",
    "              'TS':(dp.TS/2500.),\n",
    "              'RD':1.,\n",
    "              'cohesion':1577.*RAfac,\n",
    "              'cohesion_reduce':10.,\n",
    "              'fc':0.1, \n",
    "              'low_visc':1e-4,\n",
    "              'up_visc':1e5,\n",
    "              'random_temp': 0.05})\n",
    "\n",
    "\n",
    "#A few parameters defining lengths scales, affects materal transistions etc.\n",
    "MANTLETOCRUST = (27.*1e3)/dp.LS #Crust depth\n",
    "CRUSTTOMANTLE = (300.*1e3)/dp.LS \n",
    "LITHTOMANTLE = (660.*1e3)/dp.LS \n",
    "MANTLETOLITH = (200.*1e3)/dp.LS \n",
    "TOPOHEIGHT = (0.*1e3)/dp.LS  #rock-air topography limits\n",
    "CRUSTTOECL  = (100.*1e3)/dp.LS\n",
    "AVGTEMP = 0.53 #Used to define lithosphere\n",
    "\n",
    "\n",
    "#Switch on additinal physical mechanisms like crust buoyancy, eclogite buoyancy, lower mantle viscosity, melt viscosity reduction \n",
    "\n",
    "crust_buoyancy = False\n",
    "ecl_buoyancy = False\n",
    "lower_mantle = True\n",
    "melt_viscosity_reduction= True\n",
    "\n",
    "\n",
    "#Compositional Rayliegh numbers for air, crust, ecglogite\n",
    "ETAREF = dp.rho*dp.g*dp.a*dp.deltaT*((dp.LS)**3)/(ndp.RA*dp.k) #equivalent dimensional reference viscosity\n",
    "#RC = (3300.*dp.g*(dp.LS)**3)/(ETAREF *dp.k) #Composisitional Rayleigh number for rock-air buoyancy force\n",
    "RCA = (1650.*dp.g*(dp.LS)**3)/(ETAREF *dp.k) #Composisitional Rayleigh number for rock-air buoyancy force\n",
    "COMP_RA_FACT_AIR = RCA/ndp.RA\n",
    "RCC = (100.*dp.g*(dp.LS)**3)/(ETAREF *dp.k) #Composisitional Rayleigh number for crust\n",
    "COMP_RA_FACT_CRUST = RCC/ndp.RA\n",
    "RCE = -1*(100.*dp.g*(dp.LS)**3)/(ETAREF *dp.k) #Composisitional Rayleigh number for eclogite \n",
    "COMP_RA_FACT_ECL = RCE/ndp.RA\n",
    "ndp[\"StA_RA\"] = ndp.RA*COMP_RA_FACT_AIR\n",
    "if crust_buoyancy:\n",
    "    ndp[\"Crust_RA\"] = ndp.RA*COMP_RA_FACT_CRUST\n",
    "else:\n",
    "    ndp[\"Crust_RA\"] = 0.\n",
    "if ecl_buoyancy:\n",
    "    ndp[\"Ecl_RA\"] = ndp.RA*COMP_RA_FACT_ECL\n",
    "else:\n",
    "    ndp[\"Ecl_RA\"] = 0.\n",
    "    \n",
    "\n",
    "\n",
    "#######################To be replaced soon\n",
    "#Physical parameters that can be defined with STDIN,\n",
    "#The == '-f': check is a a hack check to see cover the notebook case\n",
    "if len(sys.argv) == 1:\n",
    "    ndp.cohesion = ndp.cohesion\n",
    "elif sys.argv[1] == '-f':\n",
    "    ndp.cohesion = ndp.cohesion\n",
    "else:\n",
    "    ndp.cohesion = float(sys.argv[1])*newvisc"
   ]
  },
  {
   "cell_type": "code",
   "execution_count": 10,
   "metadata": {
    "collapsed": false
   },
   "outputs": [],
   "source": [
    "###########\n",
    "#Boundary layer / slab paramaters\n",
    "###########\n",
    "velmy = 0.02 #m/y\n",
    "vel = mpy_to_kmpma(velmy) #km/my\n",
    "off = -0.0 #dimensionless offset\n",
    "\n",
    "#Slab perturbation paramaters\n",
    "Roc = 450.\n",
    "Crust = 35.\n",
    "theta = 89.\n"
   ]
  },
  {
   "cell_type": "code",
   "execution_count": 11,
   "metadata": {
    "collapsed": false
   },
   "outputs": [
    {
     "data": {
      "text/plain": [
       "31540.0"
      ]
     },
     "execution_count": 11,
     "metadata": {},
     "output_type": "execute_result"
    }
   ],
   "source": [
    "ndp.cohesion"
   ]
  },
  {
   "cell_type": "code",
   "execution_count": 12,
   "metadata": {
    "collapsed": false
   },
   "outputs": [],
   "source": [
    "###########\n",
    "#Model setup parameters\n",
    "###########\n",
    "\n",
    "stickyAir = False\n",
    "\n",
    "MINX = -1.\n",
    "MINY = 0.\n",
    "MAXX = 1.0\n",
    "\n",
    "#MAXY = 1.035\n",
    "MAXY = 1.\n",
    "\n",
    "if MINX == 0.:\n",
    "    squareModel = True\n",
    "else: \n",
    "    squareModel = False\n",
    "    \n",
    "    \n",
    "dim = 2          # number of spatial dimensions\n",
    "\n",
    "\n",
    "#MESH STUFF\n",
    "\n",
    "RES = 96\n",
    "\n",
    "\n",
    "if MINX == 0.:\n",
    "    Xres = RES\n",
    "else:\n",
    "    Xres = 2*RES\n",
    "\n",
    "if stickyAir:\n",
    "    Yres = RES\n",
    "    MAXY = 1. + dp.StALS/dp.LS #150km\n",
    "    \n",
    "else:\n",
    "    Yres = RES\n",
    "    MAXY = 1.\n",
    "\n",
    "\n",
    "periodic = [False, False]\n",
    "elementType = \"Q1/dQ0\"\n",
    "#elementType =\"Q2/DPC1\"\n",
    "\n",
    "refineMesh = True\n",
    "\n",
    "\n",
    "#System/Solver stuff\n",
    "\n",
    "PIC_integration=True\n",
    "ppc = 25"
   ]
  },
  {
   "cell_type": "code",
   "execution_count": 13,
   "metadata": {
    "collapsed": false
   },
   "outputs": [],
   "source": [
    "###########\n",
    "#Model Runtime parameters\n",
    "###########\n",
    "\n",
    "swarm_update = 10\n",
    "swarm_repop = 25\n",
    "files_output = 1e6\n",
    "gldbs_output = 25\n",
    "images_output = 1e6\n",
    "checkpoint_every = 25\n",
    "metric_output = 25\n",
    "sticky_air_temp = 10\n",
    "\n",
    "comm.Barrier() #Barrier here so not procs run the check in the next cell too early \n",
    "\n",
    "assert metric_output <= checkpoint_every, 'Checkpointing should run less or as ofen as metric output'\n",
    "#assert (metric_output >= swarm_update), 'Swarm update is needed before checkpointing'\n",
    "#assert metric_output >= sticky_air_temp, 'Sticky air temp should be updated more frequently that metrics'\n"
   ]
  },
  {
   "cell_type": "code",
   "execution_count": 14,
   "metadata": {
    "collapsed": false
   },
   "outputs": [],
   "source": [
    "###########\n",
    "#Model output parameters\n",
    "###########\n",
    "\n",
    "#Do you want to write hdf5 files - Temp, RMS, viscosity, stress?\n",
    "writeFiles = True\n",
    "loadTemp = True\n",
    "\n",
    "    "
   ]
  },
  {
   "cell_type": "code",
   "execution_count": 15,
   "metadata": {
    "collapsed": false
   },
   "outputs": [],
   "source": [
    "mesh = uw.mesh.FeMesh_Cartesian( elementType = elementType,\n",
    "                                 elementRes  = (Xres, Yres), \n",
    "                                 minCoord    = (MINX,MINY), \n",
    "                                 maxCoord=(MAXX,MAXY), periodic=periodic)\n",
    "\n",
    "\n",
    "\n",
    "velocityField       = uw.mesh.MeshVariable( mesh=mesh,         nodeDofCount=dim )\n",
    "pressureField       = uw.mesh.MeshVariable( mesh=mesh.subMesh, nodeDofCount=1 )\n",
    "temperatureField    = uw.mesh.MeshVariable( mesh=mesh,         nodeDofCount=1 )\n",
    "temperatureDotField = uw.mesh.MeshVariable( mesh=mesh,         nodeDofCount=1 )"
   ]
  },
  {
   "cell_type": "code",
   "execution_count": 16,
   "metadata": {
    "collapsed": false
   },
   "outputs": [
    {
     "data": {
      "text/plain": [
       "(192, -1.0, [False, False], 'Q1/dQ0')"
      ]
     },
     "execution_count": 16,
     "metadata": {},
     "output_type": "execute_result"
    }
   ],
   "source": [
    "Xres, MINX, periodic, elementType"
   ]
  },
  {
   "cell_type": "markdown",
   "metadata": {},
   "source": [
    "Create Finite Element (FE) variables for the velocity, pressure and temperature fields. The last two of these are scalar fields needing only one value at each mesh point, while the velocity field contains a vector of *dim* dimensions at each mesh point."
   ]
  },
  {
   "cell_type": "markdown",
   "metadata": {},
   "source": [
    "Create some dummy fevariables for doing top and bottom boundary calculations."
   ]
  },
  {
   "cell_type": "markdown",
   "metadata": {},
   "source": [
    "## Refine mesh"
   ]
  },
  {
   "cell_type": "code",
   "execution_count": 17,
   "metadata": {
    "collapsed": false
   },
   "outputs": [],
   "source": [
    "#X-Axis\n",
    "\n",
    "if refineMesh:\n",
    "    mesh.reset()\n",
    "    axis = 0\n",
    "    origcoords = np.linspace(mesh.minCoord[axis], mesh.maxCoord[axis], mesh.elementRes[axis] + 1)\n",
    "    edge_rest_lengths = np.diff(origcoords)\n",
    "\n",
    "    deform_lengths = edge_rest_lengths.copy()\n",
    "    min_point =  (abs(mesh.maxCoord[axis]) - abs(mesh.minCoord[axis]))/2.\n",
    "    el_reduction = 0.5001\n",
    "    dx = mesh.maxCoord[axis] - min_point\n",
    "\n",
    "    deform_lengths = deform_lengths - \\\n",
    "                                    ((1.-el_reduction) *deform_lengths[0]) + \\\n",
    "                                    abs((origcoords[1:] - min_point))*((0.5*deform_lengths[0])/dx)\n",
    "\n",
    "    #print(edge_rest_lengths.shape, deform_lengths.shape)\n",
    "\n",
    "    sp.deform_1d(deform_lengths, mesh,axis = 'x',norm = 'Min', constraints = [])"
   ]
  },
  {
   "cell_type": "code",
   "execution_count": 18,
   "metadata": {
    "collapsed": false
   },
   "outputs": [],
   "source": [
    "axis = 1\n",
    "orgs = np.linspace(mesh.minCoord[axis], mesh.maxCoord[axis], mesh.elementRes[axis] + 1)\n",
    "\n",
    "value_to_constrain = 1.\n",
    "\n",
    "\n",
    "yconst = [(sp.find_closest(orgs, value_to_constrain), np.array([1.,0]))]\n"
   ]
  },
  {
   "cell_type": "code",
   "execution_count": 19,
   "metadata": {
    "collapsed": false
   },
   "outputs": [],
   "source": [
    "#Y-Axis\n",
    "if refineMesh:\n",
    "    #Y-Axis\n",
    "    axis = 1\n",
    "    origcoords = np.linspace(mesh.minCoord[axis], mesh.maxCoord[axis], mesh.elementRes[axis] + 1)\n",
    "    edge_rest_lengths = np.diff(origcoords)\n",
    "\n",
    "    deform_lengths = edge_rest_lengths.copy()\n",
    "    min_point =  (mesh.maxCoord[axis])\n",
    "    el_reduction = 0.5001\n",
    "    dx = mesh.maxCoord[axis]\n",
    "\n",
    "    deform_lengths = deform_lengths - \\\n",
    "                                    ((1.-el_reduction)*deform_lengths[0]) + \\\n",
    "                                    abs((origcoords[1:] - min_point))*((0.5*deform_lengths[0])/dx)\n",
    "\n",
    "    #print(edge_rest_lengths.shape, deform_lengths.shape)\n",
    "\n",
    "    sp.deform_1d(deform_lengths, mesh,axis = 'y',norm = 'Min', constraints = [])"
   ]
  },
  {
   "cell_type": "code",
   "execution_count": null,
   "metadata": {
    "collapsed": true
   },
   "outputs": [],
   "source": [
    "\n"
   ]
  },
  {
   "cell_type": "markdown",
   "metadata": {},
   "source": [
    "# ICs and BCs"
   ]
  },
  {
   "cell_type": "code",
   "execution_count": 63,
   "metadata": {
    "collapsed": true
   },
   "outputs": [],
   "source": [
    "# Initialise data.. Note that we are also setting boundary conditions here\n",
    "velocityField.data[:] = [0.,0.]\n",
    "pressureField.data[:] = 0.\n",
    "temperatureField.data[:] = 0.\n",
    "temperatureDotField.data[:] = 0.\n"
   ]
  },
  {
   "cell_type": "markdown",
   "metadata": {},
   "source": [
    "## Temp ICs"
   ]
  },
  {
   "cell_type": "code",
   "execution_count": 21,
   "metadata": {
    "collapsed": true
   },
   "outputs": [],
   "source": [
    "#Age function:\n",
    "def agefunc(x, szloc, vel = 100., dom = (-1.,1.), D = 2890.):\n",
    "    \"\"\"\n",
    "    Create a (linear) age function based on ridges being the sides of the model,\n",
    "    and subduction zone location at the dimesnionaless (model) position \"szloc\"\n",
    "    Args:\n",
    "        x (float): dimenisionless value to get age (horizontal coordinate)\n",
    "        szloc (float): dimensionless (model) horizntal extent\n",
    "        vel(float): in km/my\n",
    "        dom (tuple): domain boundary\n",
    "        D (float): dimensional domain depth\n",
    "        \n",
    "    Returns:\n",
    "        the age in millions of years\n",
    "    Raises:\n",
    "        TypeError: not implemented\n",
    "        ValueError: not implemented\n",
    "    \"\"\"\n",
    "    if x >= szloc:\n",
    "        #distance from ridge in km\n",
    "        dx = (dom[1] - x) * D\n",
    "        age = (dx)/vel\n",
    "    else:\n",
    "        dx = abs(dom[0] - x) * D\n",
    "        age = (dx)/vel\n",
    "    return age \n",
    "\n",
    "\n",
    "def tempfunc(age, kappa, depth,  t0=0.64):\n",
    "    \"\"\"\n",
    "    return dimensionless halfspace cooling model fucntion,\n",
    "    Args:\n",
    "        age (float): millions or years\n",
    "        kappa (float): diffusivity, m**2/s\n",
    "        depth (float): kilometers\n",
    "        t0 (float): the initial temperature of the halfspace\n",
    "    Returns:\n",
    "        dimensionless temp (0. - 1.)\n",
    "    Raises:\n",
    "        TypeError: not implemented\n",
    "        ValueError: not implemented\n",
    "    \"\"\"\n",
    "    #1000 in line below to convert back to km\n",
    "    secs = myts(age)\n",
    "    temp = t0*math.erf((depth)/(2*math.sqrt(secs*kappa)/1000))\n",
    "    return temp\n",
    "                       \n",
    "def lithdepthfunc(age, kappa):\n",
    "    \"\"\"\n",
    "    returns depth or thermal lithosphere in kilometers\n",
    "    Args:\n",
    "        age (float): millions or years\n",
    "        kappa (float): diffusivity, m**2/s\n",
    "    Returns:\n",
    "        depth kilometers\n",
    "    Raises:\n",
    "        TypeError: not implemented\n",
    "        ValueError: not implemented\n",
    "    \"\"\"\n",
    "    depth_metres = 2.32*math.sqrt(myts(age)*kappa)\n",
    "    return depth_metres/1000."
   ]
  },
  {
   "cell_type": "code",
   "execution_count": 22,
   "metadata": {
    "collapsed": false
   },
   "outputs": [],
   "source": [
    "#agefunc(0.2, off, vel = vel, dom = (MINX,MAXX))"
   ]
  },
  {
   "cell_type": "code",
   "execution_count": 23,
   "metadata": {
    "collapsed": false
   },
   "outputs": [],
   "source": [
    "#Make the thermal boundary layer\n",
    "#Including a fudge that can reduce the depth of the thermal lithosphere\n",
    "fudge = 1.\n",
    "\n",
    "for index, coord in enumerate(mesh.data):\n",
    "    xloc = coord[0]\n",
    "    agema = agefunc(xloc, off, vel = vel, dom = (MINX,MAXX))\n",
    "    #print(agema)\n",
    "    if xloc < off: #This bit gets rid of overiding plate\n",
    "        temperatureField.data[index] = 0.8\n",
    "    elif (1.-coord[1]) < (lithdepthfunc(agema, dp.k)*1e3/dp.LS)*fudge: #comparison of dimensionless (model) lengths\n",
    "        zlockm = ((1.- coord[1])* dp.LS)/1e3 # dimensional depth kms\n",
    "        t = tempfunc(agema, dp.k, zlockm,  t0=0.8)\n",
    "        temperatureField.data[index] = t        \n",
    "    else:\n",
    "        temperatureField.data[index] = 0.8"
   ]
  },
  {
   "cell_type": "code",
   "execution_count": 24,
   "metadata": {
    "collapsed": false
   },
   "outputs": [
    {
     "data": {
      "text/plain": [
       "0.06375414758206731"
      ]
     },
     "execution_count": 24,
     "metadata": {},
     "output_type": "execute_result"
    }
   ],
   "source": [
    "(lithdepthfunc(200., dp.k)*1e3)/dp.LS"
   ]
  },
  {
   "cell_type": "code",
   "execution_count": 25,
   "metadata": {
    "collapsed": false
   },
   "outputs": [
    {
     "data": {
      "text/plain": [
       "0.0"
      ]
     },
     "execution_count": 25,
     "metadata": {},
     "output_type": "execute_result"
    }
   ],
   "source": [
    "(lithdepthfunc(agema, dp.k)*1e3/dp.LS)"
   ]
  },
  {
   "cell_type": "markdown",
   "metadata": {},
   "source": [
    "## Slab perturbation"
   ]
  },
  {
   "cell_type": "code",
   "execution_count": 71,
   "metadata": {
    "collapsed": true
   },
   "outputs": [],
   "source": [
    "testField    = uw.mesh.MeshVariable( mesh=mesh,         nodeDofCount=1 )\n",
    "testField.data[:] = 0."
   ]
  },
  {
   "cell_type": "code",
   "execution_count": 80,
   "metadata": {
    "collapsed": true
   },
   "outputs": [],
   "source": [
    "if not checkpointLoad:\n",
    "\n",
    "    def inCircleFnGenerator(centre, radius):\n",
    "        coord = fn.input()\n",
    "        offsetFn = coord - centre\n",
    "        return fn.math.dot( offsetFn, offsetFn ) < radius**2\n",
    "\n",
    "    #Setup slab perturbation params (mostly dimensionles / model params here)\n",
    "    phi = 90. - theta\n",
    "    RocM = (Roc/dp.LS)*1e3\n",
    "    CrustM = MANTLETOCRUST\n",
    "    slabdepth = lithdepthfunc(agefunc(off, off, vel), dp.k)\n",
    "    slabdepthM = (lithdepthfunc(agefunc(off, off, vel), dp.k)/dp.LS)*1e3\n",
    "    Org = (0.+off, 1.-RocM)\n",
    "    #Use three circles to define our slab and crust perturbation,  \n",
    "    Oc = inCircleFnGenerator(Org , RocM)\n",
    "    Oc2 = inCircleFnGenerator(Org , RocM + (20e3/dp.LS)) #a slightly larger circle helps smother the interpolation\n",
    "    Ic = inCircleFnGenerator(Org , RocM - slabdepthM)\n",
    "    Cc = inCircleFnGenerator(Org , RocM - CrustM)\n",
    "    dx = (RocM)/(np.math.tan((np.math.pi/180.)*phi))\n",
    "\n",
    "    #We'll also create a triangle which will truncate the circles defining the slab...\n",
    "    if off > 1: \n",
    "        ptx = off + dx\n",
    "    else:\n",
    "        ptx = off - dx\n",
    "\n",
    "    coords = ((0.+off, 1), (0.+off, 1.-RocM), (ptx, 1.))\n",
    "    Tri = fn.shape.Polygon(np.array(coords))\n",
    "\n",
    "    #Assign temperatures in the perturbation region\n",
    "    for index, coord in enumerate(mesh.data):\n",
    "        if Cc.evaluate(tuple(coord)) and Tri.evaluate(tuple(coord)) and not Ic.evaluate(tuple(coord)): #in inner circle, not in outer circle\n",
    "            #print(\"true\")\n",
    "            #sd = (pt.distance(Oc.boundary)*dp.LS)/1e3\n",
    "            sd = ((RocM - math.sqrt((coord[0] - Org[0])**2 + (coord[1] - Org[1])**2))*dp.LS)/1e3 #distance from slab edge in Km\n",
    "            if sd < (lithdepthfunc(agefunc(off, off, vel = vel, dom = (MINX,MAXX)), dp.k))*fudge:\n",
    "                t = tempfunc(agefunc(off, off, vel = vel, dom = (MINX,MAXX)), dp.k, sd, t0=0.8)\n",
    "                temperatureField.data[index] = t\n",
    "                testField.data[index] = 1.\n",
    "            else: \n",
    "                temperatureField.data[index] = 0.8"
   ]
  },
  {
   "cell_type": "code",
   "execution_count": 73,
   "metadata": {
    "collapsed": false
   },
   "outputs": [
    {
     "data": {
      "text/html": [
       "<img src='data:image/png;base64,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'>"
      ],
      "text/plain": [
       "<IPython.core.display.HTML object>"
      ]
     },
     "execution_count": 73,
     "metadata": {},
     "output_type": "execute_result"
    }
   ],
   "source": [
    "figStrainRate = glucifer.Figure()\n",
    "figStrainRate.append( glucifer.objects.Surface(mesh, testField))\n",
    "figStrainRate.show()"
   ]
  },
  {
   "cell_type": "code",
   "execution_count": 28,
   "metadata": {
    "collapsed": false
   },
   "outputs": [],
   "source": [
    "#CrustM"
   ]
  },
  {
   "cell_type": "code",
   "execution_count": 29,
   "metadata": {
    "collapsed": false
   },
   "outputs": [],
   "source": [
    "#from geopandas import GeoSeries\n",
    "#%matplotlib inline\n",
    "#g = GeoSeries([slabshape2.difference(slabshape)])\n",
    "#g.plot()"
   ]
  },
  {
   "cell_type": "code",
   "execution_count": 30,
   "metadata": {
    "collapsed": false
   },
   "outputs": [],
   "source": [
    "# Get the actual sets \n",
    "#\n",
    "#  HJJJJJJH\n",
    "#  I      I\n",
    "#  I      I\n",
    "#  I      I\n",
    "#  HJJJJJJH\n",
    "#  \n",
    "#  Note that H = I & J \n",
    "\n",
    "# Note that we use operator overloading to combine sets\n",
    "# send boundary condition information to underworld\n",
    "IWalls = mesh.specialSets[\"MinI_VertexSet\"] + mesh.specialSets[\"MaxI_VertexSet\"]\n",
    "JWalls = mesh.specialSets[\"MinJ_VertexSet\"] + mesh.specialSets[\"MaxJ_VertexSet\"]\n",
    "TWalls = mesh.specialSets[\"MaxJ_VertexSet\"]\n",
    "BWalls = mesh.specialSets[\"MinJ_VertexSet\"]"
   ]
  },
  {
   "cell_type": "code",
   "execution_count": null,
   "metadata": {
    "collapsed": false
   },
   "outputs": [],
   "source": []
  },
  {
   "cell_type": "code",
   "execution_count": 31,
   "metadata": {
    "collapsed": false
   },
   "outputs": [],
   "source": [
    "#Set Dirichlet Temp conditions\n",
    "\n",
    "for index in mesh.specialSets[\"MinJ_VertexSet\"]:\n",
    "    temperatureField.data[index] = 1.\n",
    "for index in mesh.specialSets[\"MaxJ_VertexSet\"]:\n",
    "    temperatureField.data[index] = 0.\n",
    "\n",
    "\n",
    "# Now setup the dirichlet boundary condition\n",
    "# Note that through this object, we are flagging to the system \n",
    "# that these nodes are to be considered as boundary conditions. \n",
    "# Also note that we provide a tuple of sets.. One for the Vx, one for Vy.\n",
    "freeslipBC = uw.conditions.DirichletCondition(     variable=velocityField, \n",
    "                                              indexSetsPerDof=(IWalls, JWalls) )\n",
    "\n",
    "# also set dirichlet for temp field\n",
    "dirichTempBC = uw.conditions.DirichletCondition(     variable=temperatureField, \n",
    "                                              indexSetsPerDof=(JWalls,) )\n",
    "\n",
    "\n",
    "#dT_dy = [0.,0.]\n",
    "\n",
    "# also set dirichlet for temp field\n",
    "#neumannTempBC = uw.conditions.NeumannCondition( dT_dy, variable=temperatureField, \n",
    "#                                         indexSetsPerDof=BWalls)"
   ]
  },
  {
   "cell_type": "code",
   "execution_count": 32,
   "metadata": {
    "collapsed": false
   },
   "outputs": [],
   "source": [
    "#temperatureField.data[TWalls.data].max()"
   ]
  },
  {
   "cell_type": "markdown",
   "metadata": {},
   "source": [
    "##Add Random 125 K temp perturbation\n"
   ]
  },
  {
   "cell_type": "markdown",
   "metadata": {
    "collapsed": true
   },
   "source": [
    "tempNump = temperatureField.data\n",
    "\n",
    "#In gerneral we only want to do this on the initial setup, not restarts\n",
    "\n",
    "if not checkpointLoad:\n",
    "    for index, coord in enumerate(mesh.data):\n",
    "        pertCoeff = (0.05*(np.random.rand(1)[0] - 0.5)) #this should create values between [-0.5,0.5] from uniform dist.\n",
    "        ict = tempNump[index]\n",
    "        tempNump[index] = ict + pertCoeff"
   ]
  },
  {
   "cell_type": "code",
   "execution_count": 33,
   "metadata": {
    "collapsed": false
   },
   "outputs": [],
   "source": [
    "\n",
    "figVelocityMag = glucifer.Figure(figsize=(1024,384))\n",
    "figVelocityMag.append( glucifer.objects.Surface(mesh, temperatureField) )\n",
    "figVelocityMag.show()\n",
    "figVelocityMag.append(glucifer.objects.Mesh(mesh))\n",
    "figVelocityMag.save_database('test.gldb')"
   ]
  },
  {
   "cell_type": "markdown",
   "metadata": {},
   "source": [
    "# Particles"
   ]
  },
  {
   "cell_type": "code",
   "execution_count": 76,
   "metadata": {
    "collapsed": false
   },
   "outputs": [],
   "source": [
    "###########\n",
    "#Material Swarm and variables\n",
    "###########\n",
    "\n",
    "gSwarm = uw.swarm.Swarm(mesh=mesh)\n",
    "materialVariable = gSwarm.add_variable( dataType=\"int\", count=1 )\n",
    "rockIntVar = gSwarm.add_variable( dataType=\"double\", count=1 )\n",
    "airIntVar = gSwarm.add_variable( dataType=\"double\", count=1 )\n",
    "lithIntVar = gSwarm.add_variable( dataType=\"double\", count=1 )\n",
    "dummyIntVar = gSwarm.add_variable( dataType=\"double\", count=1 ) #This one is used so we can safely ignore values in the air region\n",
    "\n",
    "varlist = [materialVariable, rockIntVar, airIntVar, lithIntVar]\n",
    "varnames = ['materialVariable', 'rockIntVar', 'airIntVar', 'lithIntVar']"
   ]
  },
  {
   "cell_type": "code",
   "execution_count": 77,
   "metadata": {
    "collapsed": false
   },
   "outputs": [],
   "source": [
    "###########\n",
    "#Swarms for surface integrals when using Sticky air\n",
    "###########\n",
    "\n",
    "snum = 1000.\n",
    "dx = (mesh.data[:,0].max()- mesh.data[:,0].min())/snum\n",
    "yp = 0.9947 #1. - yelsize/2. at res = 96\n",
    "\n",
    "mesh.data[:,0].max()\n",
    "xps = np.linspace(mesh.data[:,0].min(),mesh.data[:,0].max(), snum)\n",
    "yps = [yp for i in xps]\n",
    "\n",
    "surfintswarm = uw.swarm.Swarm( mesh=mesh )\n",
    "dumout = surfintswarm.add_particles_with_coordinates(np.array((xps,yps)).T)\n",
    "\n",
    "yps = [ 1.- yp  for i in xps]\n",
    "\n",
    "baseintswarm = uw.swarm.Swarm( mesh=mesh)\n",
    "dumout = baseintswarm.add_particles_with_coordinates(np.array((xps,yps)).T)"
   ]
  },
  {
   "cell_type": "markdown",
   "metadata": {},
   "source": [
    "#Initialise swarm variables, or Swarm checkpoint load"
   ]
  },
  {
   "cell_type": "code",
   "execution_count": null,
   "metadata": {
    "collapsed": false
   },
   "outputs": [],
   "source": []
  },
  {
   "cell_type": "code",
   "execution_count": 78,
   "metadata": {
    "collapsed": false
   },
   "outputs": [],
   "source": [
    "mantleIndex = 0\n",
    "lithosphereIndex = 1\n",
    "eclIndex = 2\n",
    "crustIndex = 3\n",
    "airIndex = 4\n",
    "\n",
    "\n",
    "\n",
    "\n",
    "if checkpointLoad:\n",
    "    checkpointLoadDir = natsort.natsorted(checkdirs)[-1]\n",
    "    temperatureField.load(os.path.join(checkpointLoadDir, \"temperatureField\" + \".hdf5\"))\n",
    "    pressureField.load(os.path.join(checkpointLoadDir, \"pressureField\" + \".hdf5\"))\n",
    "    velocityField.load(os.path.join(checkpointLoadDir, \"velocityField\" + \".hdf5\"))\n",
    "    gSwarm.load(os.path.join(checkpointLoadDir, \"swarm\" + \".h5\"))\n",
    "    for ix in range(len(varlist)):\n",
    "        varb = varlist[ix]\n",
    "        varb.load(os.path.join(checkpointLoadDir,varnames[ix] + \".h5\"))\n",
    "\n",
    "else:\n",
    "\n",
    "    # Layouts are used to populate the swarm across the whole domain\n",
    "    # Create the layout object\n",
    "    layout = uw.swarm.layouts.PerCellRandomLayout(swarm=gSwarm, particlesPerCell=ppc)\n",
    "    # Now use it to populate.\n",
    "    gSwarm.populate_using_layout( layout=layout )\n",
    "\n",
    "    # Lets initialise the 'materialVariable' data to represent different materials\n",
    "    # Set the material to heavy everywhere via the numpy array\n",
    "    materialVariable.data[:] = mantleIndex\n",
    "    \n",
    "    \n",
    "    #Set initial air and crust materials (allow the graph to take care of lithsophere)\n",
    "    #########\n",
    "    #This initial material setup will be model dependent\n",
    "    #########\n",
    "    for particleID in range(gSwarm.particleCoordinates.data.shape[0]):\n",
    "        if (1. - gSwarm.particleCoordinates.data[particleID][1]) < 0:\n",
    "                 materialVariable.data[particleID] = airIndex\n",
    "        elif (1. - gSwarm.particleCoordinates.data[particleID][1]) < MANTLETOCRUST:\n",
    "                 materialVariable.data[particleID] = crustIndex\n"
   ]
  },
  {
   "cell_type": "markdown",
   "metadata": {},
   "source": [
    "#Material Graphs"
   ]
  },
  {
   "cell_type": "code",
   "execution_count": 37,
   "metadata": {
    "collapsed": false
   },
   "outputs": [],
   "source": [
    "##############\n",
    "#Important: This is a quick fix for a bug that arises in parallel runs\n",
    "##############\n",
    "material_list = [0,1,2,3,4]\n"
   ]
  },
  {
   "cell_type": "code",
   "execution_count": 38,
   "metadata": {
    "collapsed": false
   },
   "outputs": [
    {
     "name": "stdout",
     "output_type": "stream",
     "text": [
      "unique values after swarm has loaded:[0 3]\n"
     ]
    }
   ],
   "source": [
    "print( \"unique values after swarm has loaded:\" + str(np.unique(materialVariable.data[:])))\n"
   ]
  },
  {
   "cell_type": "code",
   "execution_count": null,
   "metadata": {
    "collapsed": false
   },
   "outputs": [],
   "source": []
  },
  {
   "cell_type": "code",
   "execution_count": 39,
   "metadata": {
    "collapsed": false
   },
   "outputs": [],
   "source": [
    "\n",
    "\n",
    "#All depth conditions are given as (km/D) where D is the length scale,\n",
    "#note that 'model depths' are used, e.g. 1-z, where z is the vertical Underworld coordinate\n",
    "#All temp conditions are in dimensionless temp. [0. - 1.]\n",
    "\n",
    "#######Graph object\n",
    "DG = nx.DiGraph(field=\"Depth\")\n",
    "\n",
    "#######Nodes\n",
    "#Note that the order of materials, deepest to shallowest is important\n",
    "DG.add_node(0, mat='mantle')\n",
    "DG.add_node(1, mat='lithosphere')\n",
    "DG.add_node(2, mat='ecl')\n",
    "DG.add_node(3, mat='crust')\n",
    "DG.add_node(4, mat='air')\n",
    "\n",
    "\n",
    "labels=dict((n,d['mat']) for n,d in DG.nodes(data=True))\n",
    "pos=nx.spring_layout(DG)\n",
    "\n",
    "\n",
    "#######Edges\n",
    "#anything to air\n",
    "DG.add_edges_from([(0,4),(1,4), (3,4)])\n",
    "DG[0][4]['depthcondition'] = -1*TOPOHEIGHT\n",
    "DG[1][4]['depthcondition'] = -1*TOPOHEIGHT\n",
    "DG[3][4]['depthcondition'] = -1*TOPOHEIGHT\n",
    "\n",
    "\n",
    "#Anything to mantle\n",
    "DG.add_edges_from([(3,0), (1,0), (2,0)])\n",
    "DG[3][0]['depthcondition'] = CRUSTTOMANTLE #Normal crust\n",
    "DG[1][0]['depthcondition'] = LITHTOMANTLE #This means we're going to kill lithosphere at the 660.\n",
    "DG[2][0]['depthcondition'] = CRUSTTOMANTLE #Eclogite crust\n",
    "\n",
    "#Anything to lithsphere\n",
    "DG.add_edges_from([(0,1),(4,1)])\n",
    "DG[0][1]['depthcondition'] = MANTLETOLITH\n",
    "DG[0][1]['avgtempcondition'] = 0.75*AVGTEMP #definition of thermal lithosphere\n",
    "\n",
    "\n",
    "#Anything to crust\n",
    "DG.add_edges_from([(0,3), (1,3), (4,3)])\n",
    "DG[0][3]['depthcondition'] = MANTLETOCRUST\n",
    "DG[1][3]['depthcondition'] = MANTLETOCRUST\n",
    "DG[4][3]['depthcondition'] = TOPOHEIGHT\n",
    "\n",
    "#crust to eclogite\n",
    "DG.add_edges_from([(3,2)])\n",
    "DG[3][2]['depthcondition'] =CRUSTTOECL\n",
    "\n",
    "\n",
    "\n",
    "\n"
   ]
  },
  {
   "cell_type": "code",
   "execution_count": 40,
   "metadata": {
    "collapsed": false
   },
   "outputs": [
    {
     "data": {
      "text/plain": [
       "0.10380622837370242"
      ]
     },
     "execution_count": 40,
     "metadata": {},
     "output_type": "execute_result"
    }
   ],
   "source": [
    "CRUSTTOMANTLE"
   ]
  },
  {
   "cell_type": "code",
   "execution_count": 41,
   "metadata": {
    "collapsed": false
   },
   "outputs": [],
   "source": [
    "#material_list"
   ]
  },
  {
   "cell_type": "code",
   "execution_count": 42,
   "metadata": {
    "collapsed": false
   },
   "outputs": [],
   "source": [
    "remove_nodes = []\n",
    "for node in DG.nodes():\n",
    "    if not node in material_list:\n",
    "        remove_nodes.append(node)\n",
    "        \n",
    "for rmnode in remove_nodes:\n",
    "    DG.remove_node(rmnode)"
   ]
  },
  {
   "cell_type": "code",
   "execution_count": 43,
   "metadata": {
    "collapsed": false
   },
   "outputs": [
    {
     "data": {
      "text/plain": [
       "[0, 1, 2, 3, 4]"
      ]
     },
     "execution_count": 43,
     "metadata": {},
     "output_type": "execute_result"
    }
   ],
   "source": [
    "DG.nodes()"
   ]
  },
  {
   "cell_type": "code",
   "execution_count": 44,
   "metadata": {
    "collapsed": true
   },
   "outputs": [],
   "source": [
    "#A Dictionary to map strings in the graph (e.g. 'depthcondition') to particle data arrays\n",
    "\n",
    "particledepths = 1. - gSwarm.particleCoordinates.data[:,1]\n",
    "particletemps = temperatureField.evaluate(gSwarm)[:,0]\n",
    "\n",
    "conditionmap = {}\n",
    "\n",
    "conditionmap['depthcondition'] = {}\n",
    "conditionmap['depthcondition']['data'] = particledepths\n",
    "conditionmap['avgtempcondition'] = {}\n",
    "conditionmap['avgtempcondition']['data'] = particletemps"
   ]
  },
  {
   "cell_type": "code",
   "execution_count": 45,
   "metadata": {
    "collapsed": true
   },
   "outputs": [],
   "source": [
    "def update_swarm(graph, particleIndex):\n",
    "    \"\"\"\n",
    "    This function takes the materials graph (networkx.DiGraph), and a particle index,\n",
    "    then determines if a material update is required \n",
    "    and if so, returns the new materialindex\n",
    "    Args:\n",
    "        graph (networkx.DiGraph): Directed multigraph representing the transformation of material types\n",
    "        particleIndex (int): the particle index as corressponding to the index in the swarm data arrays\n",
    "    Returns:\n",
    "        if update is required the function returns the the new material variable (int) \n",
    "        else returns None\n",
    "    Raises:\n",
    "        TypeError: not implemented\n",
    "        ValueError: not implemented\n",
    "    \"\"\"\n",
    "    ##Egde gives links to other materials, we then query the conditions to see if we should change materials\n",
    "    matId = materialVariable.data[particleIndex][0]\n",
    "    innerchange = False\n",
    "    outerchange = False\n",
    "    for edge in graph[matId]:\n",
    "        if outerchange:\n",
    "            break\n",
    "        for cond in graph[matId][edge].keys():\n",
    "            outerchange = False\n",
    "            if innerchange: #found a complete transition, break inner loop\n",
    "                break\n",
    "            currentparticlevalue = conditionmap[cond]['data'][particleIndex]\n",
    "            crossover = graph[matId][edge][cond]\n",
    "            if ((matId > edge) and (currentparticlevalue > crossover)):\n",
    "                innerchange = False # continue on, \n",
    "                if graph[matId][edge].keys()[-1] == cond:\n",
    "                    outerchange = True\n",
    "                    innerchange = edge\n",
    "                    break\n",
    "            elif ((matId < edge) and (currentparticlevalue < crossover)):\n",
    "                innerchange = False\n",
    "                if graph[matId][edge].keys()[-1] == cond:\n",
    "                    outerchange = True\n",
    "                    innerchange = edge\n",
    "                    break\n",
    "            else:\n",
    "                #condition not met, break outer loop, go to next edge, outerchange should still be False\n",
    "                break\n",
    "    if type(innerchange) == int:\n",
    "        return innerchange"
   ]
  },
  {
   "cell_type": "code",
   "execution_count": 82,
   "metadata": {
    "collapsed": true
   },
   "outputs": [],
   "source": [
    "#Set the crust material in the slab using shapes/function from uw.\n",
    "\n",
    "if not checkpointLoad:\n",
    "    #materialVariable.data[:] = mantleIndex\n",
    "    lithtemp = 0.95*0.8\n",
    "    tempswarm = temperatureField.evaluate(gSwarm)[:,0]\n",
    "\n",
    "    #At this point, we only have to assign any materials that are defined by setup shapes,\n",
    "    #the rest of the materials will be assigned using the materials graph\n",
    "\n",
    "    for particleID in range(gSwarm.particleCoordinates.data.shape[0]):\n",
    "        if gSwarm.particleCoordinates.data[particleID][1] > (1.0 - CrustM):\n",
    "            materialVariable.data[particleID] =  crustIndex\n",
    "        coord = gSwarm.particleCoordinates.data[particleID]\n",
    "        if Oc.evaluate(tuple(coord)) and Tri.evaluate(tuple(coord)) and not Cc.evaluate(tuple(coord)):\n",
    "            #print(\"True\")\n",
    "            materialVariable.data[particleID] =  crustIndex"
   ]
  },
  {
   "cell_type": "code",
   "execution_count": 84,
   "metadata": {
    "collapsed": false
   },
   "outputs": [],
   "source": [
    "#Cleanse the swarm of its sins\n",
    "#For some Material Graphs, the graph may have to be traversed more than once\n",
    "\n",
    "check = -1\n",
    "number_updated = 1\n",
    "\n",
    "while number_updated != 0:\n",
    "    number_updated = 0\n",
    "    for particleID in range(gSwarm.particleCoordinates.data.shape[0]):\n",
    "        check = update_swarm(DG, particleID)\n",
    "        if check > -1:\n",
    "            number_updated += 1\n",
    "            materialVariable.data[particleID] = check"
   ]
  },
  {
   "cell_type": "code",
   "execution_count": null,
   "metadata": {
    "collapsed": false
   },
   "outputs": [],
   "source": []
  },
  {
   "cell_type": "code",
   "execution_count": 85,
   "metadata": {
    "collapsed": false
   },
   "outputs": [
    {
     "data": {
      "text/html": [
       "<img src='data:image/png;base64,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'>"
      ],
      "text/plain": [
       "<IPython.core.display.HTML object>"
      ]
     },
     "execution_count": 85,
     "metadata": {},
     "output_type": "execute_result"
    }
   ],
   "source": [
    "figMat = glucifer.Figure()\n",
    "figMat.append( glucifer.objects.Points(gSwarm,materialVariable, colours='white blue red black'))\n",
    "#figMat.append( glucifer.objects.Mesh(mesh))\n",
    "figMat.save_database('test.gldb')\n",
    "figMat.show()"
   ]
  },
  {
   "cell_type": "markdown",
   "metadata": {},
   "source": [
    "##Set the values for the masking swarms"
   ]
  },
  {
   "cell_type": "code",
   "execution_count": 50,
   "metadata": {
    "collapsed": false
   },
   "outputs": [],
   "source": [
    "#Setup up a masking Swarm variable for the integrations.\n",
    "#These should be rebuilt at same frequency as the metric calcualtions\n",
    "\n",
    "rockIntVar.data[:] = 0.\n",
    "notair = np.where(materialVariable.data != airIndex)\n",
    "rockIntVar.data[notair] = 1.\n",
    "\n",
    "airIntVar.data[:] = 0.\n",
    "notrock = np.where(materialVariable.data == airIndex)\n",
    "airIntVar.data[notrock] = 1.\n",
    "\n",
    "lithIntVar.data[:] = 0.\n",
    "islith = np.where((materialVariable.data == lithosphereIndex) | (materialVariable.data == crustIndex))\n",
    "lithIntVar.data[islith] = 1.\n",
    "\n",
    "dummyIntVar.data[:] = 1.\n",
    "notrock = np.where(materialVariable.data == airIndex)\n",
    "dummyIntVar.data[notrock] = 1e10  #We'll multiply certain swarm variables by this guy,which\n",
    "#will allow us grab minimum values and assume they are from the rock part"
   ]
  },
  {
   "cell_type": "markdown",
   "metadata": {
    "collapsed": false
   },
   "source": [
    "#Material properties\n"
   ]
  },
  {
   "cell_type": "code",
   "execution_count": 80,
   "metadata": {
    "collapsed": false
   },
   "outputs": [],
   "source": [
    "# The yeilding of the upper slab is dependent on the strain rate.\n",
    "strainRate_2ndInvariant = fn.tensor.second_invariant( \n",
    "                            fn.tensor.symmetric( \n",
    "                            velocityField.fn_gradient ))\n",
    "\n",
    "\n",
    "coordinate = fn.input()\n",
    "depth = 1. - coordinate[1]\n",
    "\n",
    "#Determine yield criterion for depth (rather than pressure as given in Crameri)\n",
    "#Scaling is same as van Heck and Tackley, EPSL, 2011\n",
    "lithopressuregrad = dp.rho*dp.g*(dp.LS)**3/(dp.eta0*dp.k)"
   ]
  },
  {
   "cell_type": "code",
   "execution_count": 81,
   "metadata": {
    "collapsed": false
   },
   "outputs": [],
   "source": [
    "#ndp.TS"
   ]
  },
  {
   "cell_type": "code",
   "execution_count": 82,
   "metadata": {
    "collapsed": false
   },
   "outputs": [
    {
     "data": {
      "text/plain": [
       "0.64"
      ]
     },
     "execution_count": 82,
     "metadata": {},
     "output_type": "execute_result"
    }
   ],
   "source": [
    "ndp.TR"
   ]
  },
  {
   "cell_type": "code",
   "execution_count": 83,
   "metadata": {
    "collapsed": false
   },
   "outputs": [],
   "source": [
    "#Linear viscosity\n",
    "#arhennius = fn.misc.min(ndp.up_visc, fn.math.exp(((-1.*ndp.E) + (ndp.E / temperatureField))))\n",
    "#lower_mantle = False\n",
    "#melt_viscosity_reduction = False"
   ]
  },
  {
   "cell_type": "code",
   "execution_count": 84,
   "metadata": {
    "collapsed": false
   },
   "outputs": [
    {
     "data": {
      "text/plain": [
       "<underworld.function._math.exp at 0x11153b550>"
      ]
     },
     "execution_count": 84,
     "metadata": {},
     "output_type": "execute_result"
    }
   ],
   "source": [
    "fn.math.exp(0)"
   ]
  },
  {
   "cell_type": "code",
   "execution_count": 85,
   "metadata": {
    "collapsed": false
   },
   "outputs": [
    {
     "name": "stdout",
     "output_type": "stream",
     "text": [
      "true\n"
     ]
    }
   ],
   "source": [
    "############\n",
    "#Mantle\n",
    "############\n",
    "\n",
    "#Linear viscosity\n",
    "eta0  = 1./np.math.exp( ndp.E / (1.+1.) )\n",
    "#arhennius = eta0 * fn.math.exp( ndp.E / (temperatureField+1.) )\n",
    "arhennius = fn.misc.min(ndp.up_visc, fn.math.exp(((-1.*ndp.E) + (ndp.E / (temperatureField + 1e-6)))))\n",
    "\n",
    "lower_mantle = True\n",
    "melt_viscosity_reduction = True\n",
    "\n",
    "#implementation of the melt viscosity reduction\n",
    "Tmvp = 0.5\n",
    "if melt_viscosity_reduction:\n",
    "    mvptest =  fn.branching.conditional( [ (temperatureField > (Tmvp + 7.5*(1. - coordinate[1])) , 0.1 ),   (         True, 1.) ] )\n",
    "    arhennius = fn.misc.min(ndp.up_visc,arhennius*mvptest)\n",
    "\n",
    "\n",
    "#Quick implementation of the lower mantle viscosity increase \n",
    "a = 1.\n",
    "B = 30.\n",
    "d0 = 800e3/dp.LS #Similar fudge to Bello et al. \n",
    "ds = d0/10.\n",
    "if lower_mantle:\n",
    "    print(\"true\")\n",
    "    inner1 = 1. - 0.5*(1. - fn.math.tanh(((1. - d0)-(coordinate[1]))/(ds)))\n",
    "    modfac = a*fn.math.exp(np.log(B)*inner1)\n",
    "    arhennius = fn.misc.min(ndp.up_visc,arhennius*modfac)\n",
    "    \n",
    "\n",
    "#Psuedo-plastic \n",
    "ys =  ndp.cohesion + (depth*ndp.fc*lithopressuregrad)\n",
    "#ys =  ndp.fc*lithopressuregrad*(30e3/dp.LS) # this is the byerlee strength at 30 km\n",
    "yss = fn.misc.max(ndp.cohesion, ys)\n",
    "plasticvisc = yss*(math.sqrt(2))/(strainRate_2ndInvariant*2.)\n",
    "plastic = fn.misc.max(ndp.low_visc,plasticvisc)\n",
    "#combine these\n",
    "mantleviscosityFn = fn.misc.min(arhennius, plastic)\n",
    "\n",
    "############\n",
    "#crust\n",
    "############\n",
    "\n",
    "\n",
    "\n",
    "ysc = (ndp.cohesion/ndp.cohesion_reduce) + (depth*(ndp.fc/100.)*lithopressuregrad)\n",
    "#ysc = ys/100.\n",
    "ycs = fn.misc.max((ndp.cohesion/ndp.cohesion_reduce), ysc)\n",
    "crustplasticvisc = ycs*(math.sqrt(2))/(strainRate_2ndInvariant*2.)\n",
    "crustplastic = fn.misc.max(ndp.low_visc,crustplasticvisc) \n",
    "crustviscosityFn = fn.misc.min(arhennius, crustplastic)"
   ]
  },
  {
   "cell_type": "code",
   "execution_count": 86,
   "metadata": {
    "collapsed": false
   },
   "outputs": [],
   "source": [
    "#d0"
   ]
  },
  {
   "cell_type": "code",
   "execution_count": 87,
   "metadata": {
    "collapsed": false
   },
   "outputs": [
    {
     "data": {
      "text/plain": [
       "100000.0"
      ]
     },
     "execution_count": 87,
     "metadata": {},
     "output_type": "execute_result"
    }
   ],
   "source": [
    "mantleviscosityFn.evaluate(mesh).max()"
   ]
  },
  {
   "cell_type": "code",
   "execution_count": 88,
   "metadata": {
    "collapsed": false
   },
   "outputs": [
    {
     "data": {
      "text/html": [
       "<img src='data:image/png;base64,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'>"
      ],
      "text/plain": [
       "<IPython.core.display.HTML object>"
      ]
     },
     "execution_count": 88,
     "metadata": {},
     "output_type": "execute_result"
    }
   ],
   "source": [
    "figStrainRate = glucifer.Figure()\n",
    "figStrainRate.append( glucifer.objects.Surface(mesh, mantleviscosityFn))\n",
    "figStrainRate.show()"
   ]
  },
  {
   "cell_type": "markdown",
   "metadata": {},
   "source": [
    "Set up simulation parameters and functions\n",
    "====\n",
    "\n",
    "Here the functions for density, viscosity etc. are set. These functions and/or values are preserved for the entire simulation time. "
   ]
  },
  {
   "cell_type": "code",
   "execution_count": 89,
   "metadata": {
    "collapsed": false
   },
   "outputs": [],
   "source": [
    "# Here we set a viscosity value of '1.' for both materials\n",
    "viscosityMapFn = fn.branching.map( fn_key = materialVariable,\n",
    "                         mapping = {airIndex:ndp.StAeta0, \n",
    "                                    lithosphereIndex:mantleviscosityFn, \n",
    "                                    crustIndex:crustviscosityFn,\n",
    "                                    mantleIndex:mantleviscosityFn, \n",
    "                                    eclIndex:crustviscosityFn} )\n",
    "\n",
    "densityMapFn = fn.branching.map( fn_key = materialVariable,\n",
    "                         mapping = {airIndex:ndp.StA_RA, \n",
    "                                    lithosphereIndex:ndp.RA*temperatureField, \n",
    "                                    crustIndex:ndp.RA*temperatureField, \n",
    "                                    mantleIndex:ndp.RA*temperatureField, \n",
    "                                    eclIndex:ndp.RA*temperatureField} )\n",
    "\n",
    "# Define our gravity using a python tuple (this will be automatically converted to a function)\n",
    "gravity = ( 0.0, 1.0 )\n",
    "\n",
    "buoyancyFn = gravity*densityMapFn"
   ]
  },
  {
   "cell_type": "code",
   "execution_count": 90,
   "metadata": {
    "collapsed": false
   },
   "outputs": [
    {
     "data": {
      "text/plain": [
       "20000000.0"
      ]
     },
     "execution_count": 90,
     "metadata": {},
     "output_type": "execute_result"
    }
   ],
   "source": [
    "ndp.RA"
   ]
  },
  {
   "cell_type": "markdown",
   "metadata": {},
   "source": [
    "Build the Stokes system, solvers, advection-diffusion\n",
    "------\n",
    "\n",
    "Setup linear Stokes system to get the initial velocity."
   ]
  },
  {
   "cell_type": "code",
   "execution_count": 91,
   "metadata": {
    "collapsed": false
   },
   "outputs": [],
   "source": [
    "stokesPIC = uw.systems.Stokes( velocityField = velocityField, \n",
    "                               pressureField = pressureField,\n",
    "                               #swarm         = gSwarm, \n",
    "                               conditions    = [freeslipBC,],\n",
    "                               fn_viscosity   = arhennius, \n",
    "                               fn_bodyforce   = buoyancyFn,\n",
    "                               swarm=gSwarm)\n"
   ]
  },
  {
   "cell_type": "markdown",
   "metadata": {},
   "source": [
    "We do one solve with linear viscosity to get the initial strain rate invariant. This solve step also calculates a 'guess' of the the velocity field based on the linear system, which is used later in the non-linear solver."
   ]
  },
  {
   "cell_type": "code",
   "execution_count": 92,
   "metadata": {
    "collapsed": false
   },
   "outputs": [],
   "source": [
    "#We do one solve with linear viscosity to get the initial strain rate invariant. \n",
    "#This solve step also calculates a 'guess' of the the velocity field based on the linear system, \n",
    "#which is used later in the non-linear solver.\n",
    "\n",
    "solver = uw.systems.Solver(stokesPIC)\n",
    "# If not doing a restart, do a solve on the non-plastic system\n",
    "if not checkpointLoad:\n",
    "    solver.solve()"
   ]
  },
  {
   "cell_type": "code",
   "execution_count": 93,
   "metadata": {
    "collapsed": false
   },
   "outputs": [],
   "source": [
    "#Switch particle escape on, this will also trigger the inflow population control \n",
    "gSwarm.particleEscape = True"
   ]
  },
  {
   "cell_type": "code",
   "execution_count": null,
   "metadata": {
    "collapsed": false
   },
   "outputs": [],
   "source": [
    "####################\n",
    "#Add the non-linear viscosity to the Stokes system\n",
    "stokesPIC.fn_viscosity = viscosityMapFn\n",
    "###################\n",
    "\n",
    "#Set more advanced solver option\n",
    "#solver.options.main.Q22_pc_type='gkgdiag'\n",
    "#solver.options.A11.ksp_rtol=1e-2\n",
    "#solver.options.scr.ksp_rtol=1e-3\n",
    "#solver.options.A11.ksp_type=\"cg\"\n",
    "solver.options.scr.use_previous_guess = True\n",
    "#solver.options.scr.ksp_set_min_it_converge = 1\n",
    "#solver.options.main.penalty=10.0\n",
    "\n",
    "#solver.options.mg.levels = 3\n",
    "#solver.options.main.remove_constant_pressure_null_space=True\n",
    "#solver.options.main.penalty = 1e2\n",
    "\n",
    "#solver.options.A11.ksp_rtol=1e-4\n",
    "#solver.options.scr.ksp_rtol=1e-4\n",
    "\n",
    "solver.options.A11.ksp_monitor=''\n",
    "solver.options.A11.ksp_converged_reason=''"
   ]
  },
  {
   "cell_type": "code",
   "execution_count": null,
   "metadata": {
    "collapsed": false
   },
   "outputs": [],
   "source": [
    "solver.solve(nonLinearIterate=True)"
   ]
  },
  {
   "cell_type": "code",
   "execution_count": null,
   "metadata": {
    "collapsed": false
   },
   "outputs": [],
   "source": [
    "viscField = uw.mesh.MeshVariable( mesh=mesh,   nodeDofCount=1)\n",
    "viscdata = mantleviscosityFn.evaluate(mesh)\n",
    "#viscField.data[:] = viscdata\n",
    "\n",
    "\n",
    "#viscVariable = gSwarm.add_variable( dataType=\"float\", count=1 )\n",
    "#viscVariable.data[:] = viscosityMapFn.evaluate(gSwarm)"
   ]
  },
  {
   "cell_type": "markdown",
   "metadata": {
    "collapsed": false
   },
   "source": [
    "solver = uw.systems.Solver(stokesPIC2) # altered from PIC2\n",
    "\n",
    "\n",
    "\n",
    "#Set more advanced solver option\n",
    "solver.options.main.Q22_pc_type='uw'\n",
    "solver.options.A11.ksp_rtol=1e-5\n",
    "solver.options.scr.ksp_rtol=1e-5\n",
    "#solver.options.A11.ksp_type=\"cg\"\n",
    "solver.options.scr.use_previous_guess = True\n",
    "solver.options.scr.ksp_set_min_it_converge = 1\n",
    "\n",
    "solver.options.mg.levels = 3\n",
    "\n",
    "#solver.options.A11.ksp_monitor=''\n",
    "#solver.options.A11.ksp_converged_reason='"
   ]
  },
  {
   "cell_type": "markdown",
   "metadata": {},
   "source": [
    "Solve for initial pressure and velocity using a quick non-linear Picard iteration\n"
   ]
  },
  {
   "cell_type": "markdown",
   "metadata": {},
   "source": [
    "Create an advective-diffusive system\n",
    "=====\n",
    "\n",
    "Setup the system in underworld by flagging the temperature and velocity field variables."
   ]
  },
  {
   "cell_type": "code",
   "execution_count": null,
   "metadata": {
    "collapsed": false
   },
   "outputs": [],
   "source": [
    "#uw.systems.AdvectionDiffusion?"
   ]
  },
  {
   "cell_type": "code",
   "execution_count": 168,
   "metadata": {
    "collapsed": false
   },
   "outputs": [],
   "source": [
    "#Create advdiff system\n",
    "\n",
    "\n",
    "\n",
    "#advDiff = uw.systems.AdvectionDiffusion( phiField       = temperatureField, \n",
    "#                                         phiDotField    = temperatureDotField, \n",
    "#                                         velocityField  = velocityField, \n",
    "#                                         fn_diffusivity = 1.0,\n",
    "#                                         fn_sourceTerm = 0.,\n",
    "#                                         conditions     = [tempBC,] )\n",
    "\n",
    "\n",
    "advDiff = uw.systems.AdvectionDiffusion( phiField       = temperatureField, \n",
    "                                         phiDotField    = temperatureDotField, \n",
    "                                         velocityField  = velocityField,\n",
    "                                         fn_sourceTerm    = 20.0,\n",
    "                                         fn_diffusivity = 1.0, \n",
    "                                         conditions     = [dirichTempBC,] )\n",
    "\n",
    "\n",
    "\n",
    "advector = uw.systems.SwarmAdvector( swarm         = gSwarm, \n",
    "                                     velocityField = velocityField, \n",
    "                                     order         = 1)"
   ]
  },
  {
   "cell_type": "markdown",
   "metadata": {},
   "source": [
    "Metrics for benchmark\n",
    "=====\n",
    "\n",
    "Define functions to be used in the time loop. For cases 1-4, participants were asked to report a number of diagnostic quantities to be measured after reaching steady state:\n",
    "\n",
    "* Average temp... $$  \\langle T \\rangle  = \\int^1_0 \\int^1_0 T \\, dxdy $$\n",
    "* Top and bottom Nusselt numbers... $$N = \\int^1_0 \\frac{\\partial T}{\\partial y} \\rvert_{y=0/1} \\, dx$$\n",
    "* RMS velocity over the whole domain, surface and max velocity at surface\n",
    "* max and min viscosity over the whole domain\n",
    "* average rate of work done against gravity...$$\\langle W \\rangle = \\int^1_0 \\int^1_0 T u_y \\, dx dy$$\n",
    "* and the average rate of viscous dissipation...$$\\langle \\Phi \\rangle = \\int^1_0 \\int^1_0 \\tau_{ij} \\dot \\epsilon_{ij} \\, dx dy$$\n",
    "\n",
    "* In steady state, if thermal energy is accurately conserved, the difference between $\\langle W \\rangle$ and $\\langle \\Phi \\rangle / Ra$ must vanish, so also reported is the percentage error: \n",
    "\n",
    "$$ \\delta = \\frac{\\lvert \\langle W \\rangle - \\frac{\\langle \\Phi \\rangle}{Ra} \\rvert}{max \\left(  \\langle W \\rangle,  \\frac{\\langle \\Phi \\rangle}{Ra}\\right)} \\times 100% $$"
   ]
  },
  {
   "cell_type": "code",
   "execution_count": 169,
   "metadata": {
    "collapsed": false
   },
   "outputs": [],
   "source": [
    "#Setup some Integrals. We want these outside the main loop...\n",
    "tempVariable = gSwarm.add_variable( dataType=\"double\", count=1 )\n",
    "tempVariable.data[:] = temperatureField.evaluate(gSwarm)[:]\n",
    "tempint = uw.utils.Integral((tempVariable*rockIntVar), mesh)\n",
    "\n",
    "\n",
    "areaint = uw.utils.Integral((1.*rockIntVar),mesh)\n",
    "lithareaint = uw.utils.Integral((1.*lithIntVar),mesh)\n",
    "\n",
    "v2int = uw.utils.Integral(fn.math.dot(velocityField,velocityField)*rockIntVar, mesh)\n",
    "\n",
    "\n",
    "dwint = uw.utils.Integral(temperatureField*velocityField[1]*rockIntVar, mesh)\n",
    "\n",
    "\n",
    "sinner = fn.math.dot(strainRate_2ndInvariant,strainRate_2ndInvariant)\n",
    "vdint = uw.utils.Integral((4.*viscosityMapFn*sinner)*rockIntVar, mesh)\n",
    "vdintair = uw.utils.Integral((4.*viscosityMapFn*sinner)*airIntVar, mesh)\n",
    "vdintlith = uw.utils.Integral((4.*viscosityMapFn*sinner)*lithIntVar, mesh)\n",
    "\n",
    "\n",
    "fn_stress = 2.*viscosityMapFn*uw.function.tensor.symmetric(velocityField.fn_gradient)\n",
    "rockstress = fn.tensor.second_invariant(fn_stress)*rockIntVar\n",
    "lithstress = fn.tensor.second_invariant(fn_stress)*lithIntVar\n",
    "\n",
    "stresslithint = uw.utils.Integral(lithstress, mesh)\n"
   ]
  },
  {
   "cell_type": "code",
   "execution_count": 170,
   "metadata": {
    "collapsed": false
   },
   "outputs": [
    {
     "name": "stdout",
     "output_type": "stream",
     "text": [
      "150373.001104\n",
      "149063.360301\n",
      "141.462513173\n",
      "0.000351875327943\n",
      "2741.60928693\n",
      "2222.24306161\n"
     ]
    }
   ],
   "source": [
    "#These should differ if the the map function assigns different properties to bulk mantle\n",
    "\n",
    "print(uw.utils.Integral((4.*mantleviscosityFn*sinner)*rockIntVar, mesh).evaluate()[0])\n",
    "print(uw.utils.Integral((4.*viscosityMapFn*sinner)*rockIntVar, mesh).evaluate()[0])\n",
    "\n",
    "\n",
    "print(uw.utils.Integral((4.*mantleviscosityFn*sinner)*airIntVar, mesh).evaluate()[0])\n",
    "print(uw.utils.Integral((4.*viscosityMapFn*sinner)*airIntVar, mesh).evaluate()[0])\n",
    "\n",
    "print(uw.utils.Integral((4.*mantleviscosityFn*sinner)*lithIntVar, mesh).evaluate()[0])\n",
    "print(uw.utils.Integral((4.*viscosityMapFn*sinner)*lithIntVar, mesh).evaluate()[0])"
   ]
  },
  {
   "cell_type": "markdown",
   "metadata": {},
   "source": [
    "\\begin{equation}  \\langle T \\rangle  = \\int^1_0 \\int^1_0 T \\, dxdy \\end{equation}"
   ]
  },
  {
   "cell_type": "code",
   "execution_count": 171,
   "metadata": {
    "collapsed": false
   },
   "outputs": [],
   "source": [
    "def avg_temp():\n",
    "    return tempint.evaluate()[0]/areaint.evaluate()[0]\n",
    "\n",
    "#This one gets cleaned up when Surface integrals are available\n",
    "def nusselt(tempfield, swarm, dx):\n",
    "    #Update the swarm variable\n",
    "    tempgrad = tempfield.fn_gradient\n",
    "    valcheck = tempgrad[1].evaluate(swarm)\n",
    "    if valcheck is None:\n",
    "        vals = np.array(0, dtype='float64')\n",
    "    else:\n",
    "        vals = valcheck.sum()*dx\n",
    "    return vals\n",
    "\n",
    "def rms():\n",
    "    return math.sqrt(v2int.evaluate()[0]/areaint.evaluate()[0])\n",
    "\n",
    "#This one gets cleaned up when Surface integrals are available\n",
    "def rms_surf(swarm, dx):\n",
    "    rmsmaxfn = fn.math.dot(velocityField,velocityField)\n",
    "    rmscheck = rmsmaxfn.evaluate(swarm)\n",
    "    if rmscheck is None:\n",
    "        #print \"watch out\"\n",
    "        rmsvals = np.array(0, dtype='float64')\n",
    "    else:\n",
    "        rmsvals = np.sqrt(rmscheck.sum()*dx)\n",
    "        #print \"okay\"\n",
    "    return rmsvals\n",
    "\n",
    "def max_vx_surf(velfield, swarm):\n",
    "    check = velfield[0].evaluate(swarm)\n",
    "    if check is None:\n",
    "        return 0.\n",
    "    else:\n",
    "        return check.max()\n",
    "\n",
    "\n",
    "#def max_vy_surf(velfield, swarm):\n",
    "#    surfvelxmaxfn = fn.view.min_max(velfield[1])\n",
    "#    surfvelxmaxfn.evaluate(swarm)\n",
    "#    return surfvelxmaxfn.max_global()\n",
    "\n",
    "def gravwork(workfn):\n",
    "    return workfn.evaluate()[0]\n",
    "\n",
    "def viscdis(vdissfn):\n",
    "    return vdissfn.evaluate()[0]\n",
    "\n",
    "def visc_extr(viscfn):\n",
    "    vuviscfnMax = fn.view.min_max(viscfn)\n",
    "    vuviscfnMax.evaluate(gSwarm)\n",
    "    vuviscfnMin = fn.view.min_max(viscfn*dummyIntVar)\n",
    "    vuviscfnMin.evaluate(gSwarm)\n",
    "    return vuviscfnMax.max_global(), vuviscfnMin.min_global()\n",
    "\n",
    "\n",
    "def stress_max(scalarStressfn):\n",
    "    fn_minmax_stress = fn.view.min_max(scalarStressfn)\n",
    "    ignore_stress = fn_minmax_stress.evaluate(gSwarm)\n",
    "    return fn_minmax_stress.max_global()\n",
    "\n",
    "\n",
    "def avg_lith_stress():\n",
    "    return stresslithint.evaluate()[0]/lithareaint.evaluate()[0]"
   ]
  },
  {
   "cell_type": "code",
   "execution_count": 172,
   "metadata": {
    "collapsed": false
   },
   "outputs": [
    {
     "data": {
      "text/plain": [
       "0.04164070368487442"
      ]
     },
     "execution_count": 172,
     "metadata": {},
     "output_type": "execute_result"
    }
   ],
   "source": [
    "lithareaint.evaluate()[0]"
   ]
  },
  {
   "cell_type": "code",
   "execution_count": 173,
   "metadata": {
    "collapsed": false
   },
   "outputs": [],
   "source": [
    "#Check dem \n",
    "#stress_max(rockstress)\n",
    "#visc_extr(viscosityMapFn), ndp.StAeta0\n",
    "#avg_lith_stress()"
   ]
  },
  {
   "cell_type": "code",
   "execution_count": 174,
   "metadata": {
    "collapsed": false
   },
   "outputs": [],
   "source": [
    "#Fields for saving data / fields\n",
    "\n",
    "rmsField = uw.mesh.MeshVariable( mesh=mesh,   nodeDofCount=1)\n",
    "rmsfn = fn.math.sqrt(fn.math.dot(velocityField,velocityField))\n",
    "rmsdata = rmsfn.evaluate(mesh)\n",
    "rmsField.data[:] = rmsdata \n",
    "\n",
    "viscField = uw.mesh.MeshVariable( mesh=mesh,   nodeDofCount=1)\n",
    "viscdata = mantleviscosityFn.evaluate(mesh)\n",
    "viscField.data[:] = viscdata\n",
    "\n",
    "\n",
    "strainrateField = uw.mesh.MeshVariable( mesh=mesh,   nodeDofCount=1)\n",
    "srtdata = fn.tensor.second_invariant( \n",
    "                    fn.tensor.symmetric( \n",
    "                        velocityField.fn_gradient ))\n",
    "rostfield = srtdata.evaluate(mesh)\n",
    "strainrateField.data[:] = rostfield\n",
    "\n",
    "viscVariable = gSwarm.add_variable( dataType=\"float\", count=1 )\n",
    "viscVariable.data[:] = viscosityMapFn.evaluate(gSwarm)\n"
   ]
  },
  {
   "cell_type": "code",
   "execution_count": 175,
   "metadata": {
    "collapsed": false
   },
   "outputs": [],
   "source": [
    "#Images\n",
    "figEta = glucifer.Figure()\n",
    "figEta.append( glucifer.objects.Points(gSwarm,viscVariable, logScale=True))\n",
    "\n",
    "\n",
    "figMat = glucifer.Figure()\n",
    "figMat.append( glucifer.objects.Points(gSwarm,materialVariable, colours='brown white blue red'))\n",
    "figMat.append( glucifer.objects.Mesh(mesh))\n",
    "\n",
    "\n",
    "figStrainRate = glucifer.Figure()\n",
    "figStrainRate.append( glucifer.objects.Surface(mesh, strainRate_2ndInvariant, logScale=True))\n",
    "\n",
    "\n",
    "figVelocityMag = glucifer.Figure()\n",
    "figVelocityMag.append( glucifer.objects.Surface(mesh, fn.math.dot(velocityField,velocityField))\n",
    ")\n",
    "figTemp = glucifer.Figure()\n",
    "figTemp.append( glucifer.objects.Surface(mesh, temperatureField))\n",
    "\n",
    "\n",
    "\n",
    "#Pack some stuff into a database as well\n",
    "figDb = glucifer.Figure()\n",
    "figDb.append( glucifer.objects.Points(gSwarm,viscVariable, logScale=True, colours='brown white blue'))\n",
    "figDb.append( glucifer.objects.Points(gSwarm,materialVariable, colours='brown white blue red'))\n",
    "figDb.append( glucifer.objects.Mesh(mesh))\n",
    "figDb.append( glucifer.objects.VectorArrows(mesh,velocityField, arrowHead=0.2, scaling=0.01))\n",
    "figDb.append( glucifer.objects.Surface(mesh, strainRate_2ndInvariant, logScale=True, colours='brown white blue'))\n",
    "figDb.append( glucifer.objects.Surface(mesh, temperatureField))\n",
    "                           "
   ]
  },
  {
   "cell_type": "code",
   "execution_count": 176,
   "metadata": {
    "collapsed": true
   },
   "outputs": [],
   "source": [
    "\n",
    "pics = uw.swarm.PICIntegrationSwarm(gSwarm)"
   ]
  },
  {
   "cell_type": "code",
   "execution_count": 177,
   "metadata": {
    "collapsed": false
   },
   "outputs": [
    {
     "data": {
      "text/plain": [
       "['materialVariable', 'rockIntVar', 'airIntVar', 'lithIntVar']"
      ]
     },
     "execution_count": 177,
     "metadata": {},
     "output_type": "execute_result"
    }
   ],
   "source": [
    "varnames"
   ]
  },
  {
   "cell_type": "code",
   "execution_count": 172,
   "metadata": {
    "collapsed": false
   },
   "outputs": [],
   "source": [
    "def checkpoint1(step, checkpointPath,filename, filewrites):\n",
    "    path = checkpointPath + str(step) \n",
    "    os.mkdir(path)\n",
    "    ##Write and save the file, if not already a writing step\n",
    "    if not step % filewrites == 0:\n",
    "        f_o.write((16*'%-16s ' + '\\n') % (realtime, Viscdis, float(Nu0glob), float(Nu1glob), Avg_temp, \n",
    "                                              Rms,Rmsurfglob,Max_vx_surfglob,Gravwork, etamax, etamin, \n",
    "                                              Viscdisair, Viscdislith,Avg_stress, Max_stress_rock, Max_stress_lith))\n",
    "    filename.close()\n",
    "    shutil.copyfile(os.path.join(outputPath, outputFile), os.path.join(path, outputFile))\n",
    "\n",
    "\n",
    "def checkpoint2(step, checkpointPath, swarm, filename, varlist = [materialVariable], varnames = ['materialVariable']):\n",
    "    path = checkpointPath + str(step) \n",
    "    velfile = \"velocityField\" + \".hdf5\"\n",
    "    tempfile = \"temperatureField\" + \".hdf5\"\n",
    "    pressfile = \"pressureField\" + \".hdf5\"\n",
    "    velocityField.save(os.path.join(path, velfile))\n",
    "    temperatureField.save(os.path.join(path, tempfile))\n",
    "    pressureField.save(os.path.join(path, pressfile))\n",
    "    swarm.save(os.path.join(path, \"swarm.h5\") ) \n",
    "    for ix in range(len(varlist)):\n",
    "        varb = varlist[ix]\n",
    "        varb.save(os.path.join(path,varnames[ix] + \".h5\"))\n",
    "        \n",
    "    "
   ]
  },
  {
   "cell_type": "code",
   "execution_count": 173,
   "metadata": {
    "collapsed": false
   },
   "outputs": [],
   "source": [
    "###########\n",
    "#Open file for writing metrics\n",
    "###########\n",
    "\n",
    "if checkpointLoad:\n",
    "    if uw.rank() == 0:\n",
    "        shutil.copyfile(os.path.join(checkpointLoadDir, outputFile), outputPath+outputFile)\n",
    "    comm.Barrier()\n",
    "    #os.rename(os.path.join(checkpointLoadDir, outputFile), outputPath+outputFile)\n",
    "    f_o = open(os.path.join(outputPath, outputFile), 'a')\n",
    "    prevdata = np.genfromtxt(os.path.join(outputPath, outputFile), skip_header=0, skip_footer=0)\n",
    "    realtime = prevdata[prevdata.shape[0]-1, 0]\n",
    "    step = int(checkpointLoadDir.split('/')[-1])\n",
    "    timevals = [0.]\n",
    "else:\n",
    "    f_o = open(outputPath+outputFile, 'w')\n",
    "    realtime = 0.\n",
    "    step = 0\n",
    "    timevals = [0.]"
   ]
  },
  {
   "cell_type": "markdown",
   "metadata": {},
   "source": [
    "Main simulation loop\n",
    "=======\n",
    "\n",
    "The main time stepping loop begins here. Before this the time and timestep are initialised to zero and the output statistics arrays are set up. Also the frequency of outputting basic statistics to the screen is set in steps_output.\n"
   ]
  },
  {
   "cell_type": "code",
   "execution_count": null,
   "metadata": {
    "collapsed": false
   },
   "outputs": [],
   "source": [
    "# initialise timer for computation\n",
    "startMain = time.clock()\n",
    "# Perform steps#\n",
    "while realtime < 0.2:\n",
    "#while step < 25:\n",
    "    #Enter non-linear loop\n",
    "    print step\n",
    "    solver.solve(nonLinearIterate=True)\n",
    "    dt = advDiff.get_max_dt()\n",
    "    if step == 0:\n",
    "        dt = 0.\n",
    "    #start = time.clock()\n",
    "    advDiff.integrate(dt)\n",
    "    #machine_time = (time.clock()-start)\n",
    "    #print(\"total advDiff time is: \" + str(machine_time))\n",
    "    # Advect swarm using this timestep size\n",
    "    #start = time.clock()\n",
    "    advector.integrate(dt)\n",
    "    #machine_time = (time.clock()-start)\n",
    "    #print(\"total advector time is: \" + str(machine_time))\n",
    "    # Increment\n",
    "    realtime += dt\n",
    "    step += 1\n",
    "    timevals.append(realtime)\n",
    "    \n",
    "    ################\n",
    "    #Update temperature field in the air region\n",
    "    ################\n",
    "    if (step % sticky_air_temp == 0):\n",
    "        for index, coord in enumerate(mesh.data):\n",
    "            if coord[1] >= 1.:\n",
    "                temperatureField.data[index] = 0.\n",
    " \n",
    "    ################\n",
    "    #Particle update\n",
    "    ###############\n",
    "    #if (step % swarm_update == 0) or (step % metric_output == 0): #These updates should be done before any metric output\n",
    "    if (step % swarm_update == 0): #These updates should be done before any metric output\n",
    "        #These swarm variables get updated first, as they are used to determine material changes\n",
    "        particledepths = 1. - gSwarm.particleCoordinates.data[:,1]\n",
    "        particletemps = temperatureField.evaluate(gSwarm)[:,0]\n",
    "        conditionmap['depthcondition']['data'] = particledepths\n",
    "        conditionmap['avgtempcondition']['data'] = particletemps\n",
    "        ################\n",
    "        number_updated = 0\n",
    "        for particleID in range(gSwarm.particleCoordinates.data.shape[0]):\n",
    "            check = update_swarm(DG, particleID)\n",
    "            if check > -1:\n",
    "                number_updated += 1\n",
    "                #if check == 0:\n",
    "                #    print \"from \" + str(materialVariable.data[particleID]) + \" to \" + str(check)\n",
    "                materialVariable.data[particleID] = check\n",
    "            else:\n",
    "                pass\n",
    "        #Also update those integration swarms\n",
    "        rockIntVar.data[:] = 0.\n",
    "        notair = np.where(materialVariable.data != airIndex)\n",
    "        rockIntVar.data[notair] = 1.\n",
    "        airIntVar.data[:] = 0.\n",
    "        notrock = np.where(materialVariable.data == airIndex)\n",
    "        airIntVar.data[notrock] = 1.\n",
    "        lithIntVar.data[:] = 0.\n",
    "        islith = np.where((materialVariable.data == lithosphereIndex) | (materialVariable.data == crustIndex))\n",
    "        lithIntVar.data[islith] = 1.\n",
    "        dummyIntVar.data[notrock] = 1e10 \n",
    "\n",
    "    ################            \n",
    "    # Calculate the Metrics, only on 1 of the processors:\n",
    "    ################\n",
    "    if (step % metric_output == 0):\n",
    "        ###############\n",
    "        #Swarm - based Metrics\n",
    "        ###############\n",
    "        tempVariable.data[:] = temperatureField.evaluate(gSwarm)[:]\n",
    "        Avg_temp = avg_temp()\n",
    "        Rms = rms()\n",
    "        Gravwork = gravwork(dwint)\n",
    "        Viscdis = viscdis(vdint)\n",
    "        Viscdisair = viscdis(vdintair)\n",
    "        Viscdislith = viscdis(vdintlith)\n",
    "        etamax, etamin = visc_extr(viscosityMapFn)\n",
    "        #These are the ones that need mpi4py treatment\n",
    "        Nu0loc = nusselt(temperatureField, baseintswarm, dx)\n",
    "        Nu1loc = nusselt(temperatureField, surfintswarm, dx)\n",
    "        Rmsurfloc = rms_surf(surfintswarm, dx)\n",
    "        Max_vx_surfloc = np.array(max_vx_surf(velocityField, surfintswarm),'d') #This float needed to be an array to play with mpi4py\n",
    "        #Setup the global output arrays\n",
    "        dTp = Nu0loc.dtype\n",
    "        Nu0glob = np.array(0, dtype=dTp)\n",
    "        dTp = Nu1loc.dtype\n",
    "        Nu1glob = np.array(0, dtype=dTp)\n",
    "        dTp = Rmsurfloc.dtype\n",
    "        Rmsurfglob = np.array(0, dtype=dTp)\n",
    "        dTp = Max_vx_surfloc.dtype\n",
    "        Max_vx_surfglob = np.array(0.0,dtype=dTp)\n",
    "        #ignore_stress = fn_minmax_stress.evaluate(gSwarm)\n",
    "        Avg_stress = avg_lith_stress()\n",
    "        Max_stress_rock = stress_max(rockstress)\n",
    "        Max_stress_lith = stress_max(lithstress)\n",
    "        #Do global operation ... sum, or max\n",
    "        comm.Allreduce(Nu0loc, Nu0glob, op=MPI.SUM)\n",
    "        comm.Allreduce(Nu1loc, Nu1glob, op=MPI.SUM)\n",
    "        comm.Allreduce(Rmsurfloc, Rmsurfglob, op=MPI.SUM)\n",
    "        comm.Allreduce([Max_vx_surfloc, MPI.DOUBLE],[Max_vx_surfglob, MPI.DOUBLE],op=MPI.MAX)      \n",
    "        # output to summary text file\n",
    "        if uw.rank()==0:\n",
    "            f_o.write((16*'%-16s ' + '\\n') % (realtime, Viscdis, float(Nu0glob), float(Nu1glob), Avg_temp, \n",
    "                                              Rms,Rmsurfglob,Max_vx_surfglob,Gravwork, etamax, etamin, \n",
    "                                              Viscdisair, Viscdislith,Avg_stress, Max_stress_rock, Max_stress_lith))\n",
    "        #test = max_vx_surf(velocityField, surfintswarm)    \n",
    "        #if uw.rank()==0:\n",
    "         #   print(Rmsurfglob,MRms_surf, Max_vx_surfglob, MMax_vx_surf, etamax, Metamax)\n",
    "        #print(Rmsurfloc, test)\n",
    "    ################\n",
    "    #Gldb output\n",
    "    ################ \n",
    "    if (step % gldbs_output == 0) & (writeFiles == True):\n",
    "        #Rebuild any necessary swarm variables\n",
    "        viscVariable.data[:] = viscosityMapFn.evaluate(gSwarm)\n",
    "        #Write gldbs\n",
    "        fnamedb = \"dbFig\" + \"_\" + str(ModIt) + \"_\" + str(step) + \".gldb\"\n",
    "        fullpath = os.path.join(outputPath + \"gldbs/\" + fnamedb)\n",
    "        figDb.show()\n",
    "        figDb.save_database(fullpath)\n",
    "    ################\n",
    "    #Also repopulate entire swarm periodically\n",
    "    ################\n",
    "    if step % swarm_repop == 0:\n",
    "        pics.repopulate()\n",
    "    ################\n",
    "    #Checkpoint\n",
    "    ################\n",
    "    if step % checkpoint_every == 0:\n",
    "        if uw.rank() == 0:\n",
    "            checkpoint1(step, checkpointPath,f_o, metric_output)           \n",
    "        checkpoint2(step, checkpointPath, gSwarm, f_o, varlist = varlist, varnames = varnames)\n",
    "        f_o = open(os.path.join(outputPath, outputFile), 'a') #is this line supposed to be here?\n",
    "     \n",
    "    \n",
    "f_o.close()\n",
    "#print 'step =',step, '; dt =', dt, '; CPU time =', time.clock()-startMain"
   ]
  },
  {
   "cell_type": "code",
   "execution_count": null,
   "metadata": {
    "collapsed": false
   },
   "outputs": [],
   "source": [
    "#avg_temp(), areaint.evaluate()[0]"
   ]
  },
  {
   "cell_type": "code",
   "execution_count": 100,
   "metadata": {
    "collapsed": false
   },
   "outputs": [
    {
     "data": {
      "text/plain": [
       "['materialVariable', 'rockIntVar', 'airIntVar', 'lithIntVar']"
      ]
     },
     "execution_count": 100,
     "metadata": {},
     "output_type": "execute_result"
    }
   ],
   "source": [
    "varnames"
   ]
  },
  {
   "cell_type": "code",
   "execution_count": null,
   "metadata": {
    "collapsed": false
   },
   "outputs": [],
   "source": [
    "#figEta = glucifer.Figure(figsize=(1024,384))\n",
    "#figEta.append( glucifer.objects.Points(gSwarm,viscVariable, logScale=True))\n",
    "#figEta.save_database('test.gldb')\n",
    "#figEta.show()\n",
    "\n"
   ]
  },
  {
   "cell_type": "code",
   "execution_count": 531,
   "metadata": {
    "collapsed": false
   },
   "outputs": [],
   "source": [
    "\n",
    "figMat = glucifer.Figure()\n",
    "figMat.append( glucifer.objects.Points(gSwarm,materialVariable, colours='brown white blue red black'))\n",
    "\n",
    "figMat.show()\n",
    "figMat.save_database('test.gldb')\n",
    "#valueRange=None"
   ]
  },
  {
   "cell_type": "code",
   "execution_count": 386,
   "metadata": {
    "collapsed": false
   },
   "outputs": [],
   "source": [
    "\n",
    "figMat = glucifer.Figure()\n",
    "figMat.append( glucifer.objects.Points(gSwarm,densityMapFn, logScale=True,))\n",
    "\n",
    "figMat.show()\n",
    "figMat.save_database('test.gldb')\n",
    "#valueRange=None,"
   ]
  },
  {
   "cell_type": "code",
   "execution_count": null,
   "metadata": {
    "collapsed": false
   },
   "outputs": [],
   "source": [
    "#figMat = glucifer.Figure()\n",
    "#figMat.append( glucifer.objects.Points(gSwarm,rockIntVar))\n",
    "#figMat.append( glucifer.objects.Points(gSwarm,rockIntVar, pointSize= 5.))\n",
    "#figMat.append( glucifer.objects.Mesh(mesh))\n",
    "#figMat.save_database('test.gldb')\n",
    "#figMat.show()"
   ]
  },
  {
   "cell_type": "code",
   "execution_count": 384,
   "metadata": {
    "collapsed": false
   },
   "outputs": [],
   "source": [
    "figDb.show()\n",
    "figDb.save_database('test.gldb')"
   ]
  },
  {
   "cell_type": "code",
   "execution_count": 73,
   "metadata": {
    "collapsed": false
   },
   "outputs": [],
   "source": [
    "#figStrainRate = glucifer.Figure()\n",
    "#figStrainRate.append( glucifer.objects.Surface(mesh, strainRate_2ndInvariant, logScale=True))\n",
    "#figStrainRate.show()\n",
    "#figStrainRate.save_database('test.gldb')\n"
   ]
  },
  {
   "cell_type": "code",
   "execution_count": null,
   "metadata": {
    "collapsed": false
   },
   "outputs": [],
   "source": [
    "machine_time = (time.clock()-startMain)\n",
    "print(\"total machine time is: \" + str(machine_time))"
   ]
  },
  {
   "cell_type": "code",
   "execution_count": null,
   "metadata": {
    "collapsed": true
   },
   "outputs": [],
   "source": [
    "print(\"dimensionless time is: \" + str(realtime))"
   ]
  },
  {
   "cell_type": "code",
   "execution_count": null,
   "metadata": {
    "collapsed": false
   },
   "outputs": [],
   "source": [
    "velocityField.evaluate(IWalls)[:,0].max()"
   ]
  },
  {
   "cell_type": "code",
   "execution_count": null,
   "metadata": {
    "collapsed": false
   },
   "outputs": [],
   "source": [
    "#velocityField.evaluate(TWalls)[:,0].max()"
   ]
  },
  {
   "cell_type": "markdown",
   "metadata": {},
   "source": [
    "# Test checkpoint bug"
   ]
  }
 ],
 "metadata": {
  "kernelspec": {
   "display_name": "Python 2",
   "language": "python",
   "name": "python2"
  },
  "language_info": {
   "codemirror_mode": {
    "name": "ipython",
    "version": 2
   },
   "file_extension": ".py",
   "mimetype": "text/x-python",
   "name": "python",
   "nbconvert_exporter": "python",
   "pygments_lexer": "ipython2",
   "version": "2.7.11"
  }
 },
 "nbformat": 4,
 "nbformat_minor": 0
}
