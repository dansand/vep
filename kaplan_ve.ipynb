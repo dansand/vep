{
 "cells": [
  {
   "cell_type": "markdown",
   "metadata": {
    "collapsed": true
   },
   "source": [
    "## From Kaplan "
   ]
  },
  {
   "cell_type": "code",
   "execution_count": 24,
   "metadata": {
    "collapsed": true
   },
   "outputs": [],
   "source": [
    "import networkx as nx\n",
    "import underworld as uw\n",
    "import math\n",
    "from underworld import function as fn\n",
    "import glucifer\n",
    "#import matplotlib.pyplot as pyplot\n",
    "import time\n",
    "import numpy as np\n",
    "import os\n",
    "import sys\n",
    "import natsort\n",
    "import shutil\n",
    "from easydict import EasyDict as edict\n",
    "import slippy2 as sp\n",
    "from slippy2 import unit_conversions\n",
    "from slippy2 import boundary_layer2d\n",
    "\n",
    "\n",
    "\n",
    "from mpi4py import MPI\n",
    "comm = MPI.COMM_WORLD\n",
    "rank = comm.Get_rank()"
   ]
  },
  {
   "cell_type": "code",
   "execution_count": 25,
   "metadata": {
    "collapsed": true
   },
   "outputs": [],
   "source": [
    "############\n",
    "#Model name.  \n",
    "############\n",
    "Model = \"T\"\n",
    "ModNum = 0\n",
    "\n",
    "if len(sys.argv) == 1:\n",
    "    ModIt = \"Base\"\n",
    "elif sys.argv[1] == '-f':\n",
    "    ModIt = \"Base\"\n",
    "else:\n",
    "    ModIt = str(sys.argv[1])"
   ]
  },
  {
   "cell_type": "code",
   "execution_count": 26,
   "metadata": {
    "collapsed": true
   },
   "outputs": [],
   "source": [
    "###########\n",
    "#Standard output directory setup\n",
    "###########\n",
    "\n",
    "\n",
    "outputPath = \"results\" + \"/\" +  str(Model) + \"/\" + str(ModNum) + \"/\" + str(ModIt) + \"/\"\n",
    "imagePath = outputPath + 'images/'\n",
    "filePath = outputPath + 'files/'\n",
    "checkpointPath = outputPath + 'checkpoint/'\n",
    "dbPath = outputPath + 'gldbs/'\n",
    "outputFile = 'results_model' + Model + '_' + str(ModNum) + '_' + str(ModIt) + '.dat'\n",
    "\n",
    "if uw.rank()==0:\n",
    "    # make directories if they don't exist\n",
    "    if not os.path.isdir(outputPath):\n",
    "        os.makedirs(outputPath)\n",
    "    if not os.path.isdir(checkpointPath):\n",
    "        os.makedirs(checkpointPath)\n",
    "    if not os.path.isdir(imagePath):\n",
    "        os.makedirs(imagePath)\n",
    "    if not os.path.isdir(dbPath):\n",
    "        os.makedirs(dbPath)\n",
    "    if not os.path.isdir(filePath):\n",
    "        os.makedirs(filePath)\n",
    "        \n",
    "comm.Barrier() #Barrier here so no procs run the check in the next cell too early "
   ]
  },
  {
   "cell_type": "code",
   "execution_count": 27,
   "metadata": {
    "collapsed": false
   },
   "outputs": [
    {
     "name": "stdout",
     "output_type": "stream",
     "text": [
      "results/T/0/Base/checkpoint/ is empty\n"
     ]
    }
   ],
   "source": [
    "###########\n",
    "#Check if starting from checkpoint\n",
    "###########\n",
    "\n",
    "checkdirs = []\n",
    "for dirpath, dirnames, files in os.walk(checkpointPath):\n",
    "    if files:\n",
    "        print dirpath, 'has files'\n",
    "        checkpointLoad = True\n",
    "        checkdirs.append(dirpath)\n",
    "    if not files:\n",
    "        print dirpath, 'is empty'\n",
    "        checkpointLoad = False\n",
    "        "
   ]
  },
  {
   "cell_type": "code",
   "execution_count": 28,
   "metadata": {
    "collapsed": false
   },
   "outputs": [],
   "source": [
    "###########\n",
    "#Physical parameters\n",
    "###########\n",
    "\n",
    "#dimensional parameter dictionary\n",
    "dp = edict({'LS':660.*1e3,\n",
    "           'rho':3300,\n",
    "           'g':9.81, \n",
    "           'eta0':1e20,\n",
    "           'k':10**-6,\n",
    "           'a':3e-5, \n",
    "           'deltaT':1400,\n",
    "           'TS':273.,\n",
    "           'TB':1673.,\n",
    "           'cohesion':5e6,\n",
    "           'fc':0.03,\n",
    "           'E':1e5, \n",
    "           'StALS': 27.*1e3, \n",
    "           'G':8e10})\n",
    "\n",
    "#scale_factors\n",
    "\n",
    "sf = edict({'stress':dp.LS**2/(dp.k*dp.eta0),\n",
    "           'lith_grad':dp.rho*dp.g*(dp.LS)**3/(dp.eta0*dp.k) })\n",
    "\n",
    "#dimensionless parameters\n",
    "\n",
    "ndp = edict({'RA':(dp.g*dp.rho*dp.a*dp.deltaT *(dp.LS)**3)/(dp.k*dp.eta0),\n",
    "           'cohesion':dp.cohesion*sf.stress,\n",
    "            'fcd':dp.fc*sf.lith_grad,\n",
    "            'TS':0.,\n",
    "            'TB':1.,\n",
    "            'low_visc':1e-4,\n",
    "            'StAeta0':0.01,\n",
    "            'up_visc':1e5,\n",
    "            'H':0.,\n",
    "            'mu':dp.G*sf.stress})"
   ]
  },
  {
   "cell_type": "code",
   "execution_count": 29,
   "metadata": {
    "collapsed": false
   },
   "outputs": [
    {
     "data": {
      "text/plain": [
       "348480000.0"
      ]
     },
     "execution_count": 29,
     "metadata": {},
     "output_type": "execute_result"
    }
   ],
   "source": [
    "ndp.mu"
   ]
  },
  {
   "cell_type": "code",
   "execution_count": 30,
   "metadata": {
    "collapsed": true
   },
   "outputs": [],
   "source": [
    "ETAREF = dp.rho*dp.g*dp.a*dp.deltaT*((dp.LS)**3)/(ndp.RA*dp.k) #equivalent dimensional reference viscosity\n",
    "#RC = (3300.*dp.g*(dp.LS)**3)/(ETAREF *dp.k) #Composisitional Rayleigh number for rock-air buoyancy force\n",
    "RCA = (1650.*dp.g*(dp.LS)**3)/(ETAREF *dp.k) #Composisitional Rayleigh number for rock-air buoyancy force\n",
    "COMP_RA_FACT_AIR = RCA/ndp.RA\n",
    "#RCC = (100.*dp.g*(dp.LS)**3)/(ETAREF *dp.k) #Composisitional Rayleigh number for crust\n",
    "#COMP_RA_FACT_CRUST = RCC/ndp.RA\n",
    "#RCE = -1*(200.*dp.g*(dp.LS)**3)/(ETAREF *dp.k) #Composisitional Rayleigh number for eclogite \n",
    "#COMP_RA_FACT_ECL = RCE/ndp.RA\n",
    "ndp[\"StA_RA\"] = ndp.RA*COMP_RA_FACT_AIR"
   ]
  },
  {
   "cell_type": "code",
   "execution_count": 31,
   "metadata": {
    "collapsed": false
   },
   "outputs": [],
   "source": [
    "#A few parameters defining lengths scales, affects materal transistions etc.\n",
    "MANTLETOCRUST = (20.*1e3)/dp.LS #Crust depth\n",
    "CRUSTTOMANTLE = (900.*1e3)/dp.LS \n",
    "LITHTOMANTLE = (900.*1e3)/dp.LS \n",
    "MANTLETOLITH = (200.*1e3)/dp.LS \n",
    "TOPOHEIGHT = (0.*1e3)/dp.LS  #rock-air topography limits\n",
    "CRUSTTOECL  = (100.*1e3)/dp.LS\n",
    "AVGTEMP = ndp.TB #Used to define lithosphere"
   ]
  },
  {
   "cell_type": "code",
   "execution_count": 32,
   "metadata": {
    "collapsed": true
   },
   "outputs": [],
   "source": [
    "###########\n",
    "#Boundary layer / slab paramaters\n",
    "###########\n",
    "\n",
    "modelage  = 75 \n",
    "subzone = -500.e3/dp.LS\n",
    "mor = (1500e3/dp.LS) - (200e3/dp.LS)\n",
    "#vel = 70e3\n",
    "vel = 1800e3/modelage \n",
    "agelimit = 70.\n",
    "thermallimit = 0.8\n",
    "\n",
    "#Slab perturbation paramaters\n",
    "Roc = 450.\n",
    "Crust = 35.\n",
    "theta = 89."
   ]
  },
  {
   "cell_type": "code",
   "execution_count": 33,
   "metadata": {
    "collapsed": false
   },
   "outputs": [
    {
     "data": {
      "text/plain": [
       "24000.0"
      ]
     },
     "execution_count": 33,
     "metadata": {},
     "output_type": "execute_result"
    }
   ],
   "source": [
    "vel"
   ]
  },
  {
   "cell_type": "code",
   "execution_count": 34,
   "metadata": {
    "collapsed": true
   },
   "outputs": [],
   "source": [
    "###########\n",
    "#Model setup parameters\n",
    "###########\n",
    "\n",
    "stickyAir = False\n",
    "\n",
    "MINX = -(1500/670.)\n",
    "MINY = 0.\n",
    "MAXX = 1500/670.\n",
    "\n",
    "#MAXY = 1.035\n",
    "MAXY = 1.\n",
    "\n",
    "if MINX == 0.:\n",
    "    squareModel = True\n",
    "else: \n",
    "    squareModel = False\n",
    "    \n",
    "    \n",
    "dim = 2          # number of spatial dimensions\n",
    "\n",
    "\n",
    "#MESH STUFF\n",
    "\n",
    "RES = 64\n",
    "\n",
    "\n",
    "Xres = int(RES*4)\n",
    "\n",
    "\n",
    "if stickyAir:\n",
    "    Yres = RES\n",
    "    MAXY = 1. + dp.StALS/dp.LS #150km\n",
    "    \n",
    "else:\n",
    "    Yres = RES\n",
    "    MAXY = 1.\n",
    "\n",
    "\n",
    "periodic = [False, False]\n",
    "elementType = \"Q1/dQ0\"\n",
    "#elementType =\"Q2/DPC1\"\n",
    "\n",
    "refineMesh = True\n",
    "\n",
    "#System/Solver stuff\n",
    "\n",
    "PIC_integration=True\n",
    "ppc = 25"
   ]
  },
  {
   "cell_type": "code",
   "execution_count": 35,
   "metadata": {
    "collapsed": true
   },
   "outputs": [],
   "source": [
    "###########\n",
    "#Model Runtime parameters\n",
    "###########\n",
    "\n",
    "swarm_update = 10\n",
    "swarm_repop = 25\n",
    "files_output = 1e6\n",
    "gldbs_output = 25\n",
    "images_output = 1e6\n",
    "checkpoint_every = 25\n",
    "metric_output = 25\n",
    "sticky_air_temp = 10\n",
    "\n",
    "comm.Barrier() #Barrier here so not procs run the check in the next cell too early \n",
    "\n",
    "assert metric_output <= checkpoint_every, 'Checkpointing should run less or as ofen as metric output'\n",
    "#assert (metric_output >= swarm_update), 'Swarm update is needed before checkpointing'\n",
    "#assert metric_output >= sticky_air_temp, 'Sticky air temp should be updated more frequently that metrics'"
   ]
  },
  {
   "cell_type": "code",
   "execution_count": 36,
   "metadata": {
    "collapsed": true
   },
   "outputs": [],
   "source": [
    "mesh = uw.mesh.FeMesh_Cartesian( elementType = elementType,\n",
    "                                 elementRes  = (Xres, Yres), \n",
    "                                 minCoord    = (MINX,MINY), \n",
    "                                 maxCoord=(MAXX,MAXY), periodic=periodic)\n",
    "\n",
    "\n",
    "\n",
    "velocityField       = uw.mesh.MeshVariable( mesh=mesh,         nodeDofCount=dim )\n",
    "pressureField       = uw.mesh.MeshVariable( mesh=mesh.subMesh, nodeDofCount=1 )\n",
    "temperatureField    = uw.mesh.MeshVariable( mesh=mesh,         nodeDofCount=1 )\n",
    "temperatureDotField = uw.mesh.MeshVariable( mesh=mesh,         nodeDofCount=1 )"
   ]
  },
  {
   "cell_type": "code",
   "execution_count": 37,
   "metadata": {
    "collapsed": true
   },
   "outputs": [],
   "source": [
    "# Initialise data.. Note that we are also setting boundary conditions here\n",
    "velocityField.data[:] = [0.,0.]\n",
    "pressureField.data[:] = 0.\n",
    "temperatureField.data[:] = 0.\n",
    "temperatureDotField.data[:] = 0."
   ]
  },
  {
   "cell_type": "code",
   "execution_count": 38,
   "metadata": {
    "collapsed": false
   },
   "outputs": [
    {
     "data": {
      "text/plain": [
       "0.0"
      ]
     },
     "execution_count": 38,
     "metadata": {},
     "output_type": "execute_result"
    }
   ],
   "source": [
    "ndp.TS"
   ]
  },
  {
   "cell_type": "code",
   "execution_count": 39,
   "metadata": {
    "collapsed": false
   },
   "outputs": [],
   "source": [
    "lith= boundary_layer2d.LithosphereTemps(mesh, temperatureField, dp.LS, MINX, mor, tint=ndp.TB, tsurf=ndp.TS, vel= 10e3, diffs = 1e-6)\n"
   ]
  },
  {
   "cell_type": "code",
   "execution_count": 40,
   "metadata": {
    "collapsed": true
   },
   "outputs": [],
   "source": [
    "coords = [(MINX, 1.), (subzone, 1.), (MINX, 0.)]\n",
    "Tri = fn.shape.Polygon(np.array(coords))"
   ]
  },
  {
   "cell_type": "code",
   "execution_count": 41,
   "metadata": {
    "collapsed": false
   },
   "outputs": [],
   "source": [
    "for index, coord in enumerate(mesh.data):\n",
    "    xloc = coord[0]\n",
    "    agema = lith.agefunc(xloc)\n",
    "    if coord[1] >= 1.:\n",
    "            temperatureField.data[index] = lith.tsurf\n",
    "    else:\n",
    "        zloc = ((1.- coord[1])* dp.LS) # dimensional depth kms\n",
    "        t = lith.tempfunc(agema, zloc)\n",
    "        temperatureField.data[index] = t \n",
    "    if coord[1] <= 1. and coord[0] > mor: #Get rid of lithosphere to the right of the ridge\n",
    "        temperatureField.data[index] = lith.tint\n",
    "    if Tri.evaluate(tuple(coord)):\n",
    "        temperatureField.data[index] = lith.tint"
   ]
  },
  {
   "cell_type": "code",
   "execution_count": 42,
   "metadata": {
    "collapsed": false
   },
   "outputs": [
    {
     "data": {
      "text/html": [
       "<img src='data:image/png;base64,iVBORw0KGgoAAAANSUhEUgAAAoAAAAHgCAIAAAC6s0uzAAAgAElEQVR42u3dS3bjyLYe4AiQkvJRj+OqU3cMHoQH4Vl4LnbjTsI9T8Zdt+yW7Tr3Xp+TmZVZmRKJ7YYoESACQICkXqnvW7VyqSgg8KCIHzsQAHNEJADgcTV2AQAIYAAQwACAAAYAAQwACGAAEMAAgAAGAAEMAAhgABDAACCAAQABDAACGAAQwAAggAEAAQwAAhgAEMAAIIABQAADAAIYAAQwACCAAUAAAwACGAAEMAAggAFAAAOAAAYABDAACGAAQAADgAAGAAQwAAhgAEAAA4AABgABDAAIYAAQwACAAAYAAQwACGAAEMAAgAAGAAEMAAIYABDAACCAAQABDAACGAAQwAAggAEAAQwAAhgABDAAIIABQAADAAIYAAQwACCAAUAAAwACGAAEMAAIYABAAAOAAAYABDAACGAAQAADgAAGAAQwAAhgABDAAIAABgABDAAIYAAQwACAAAYAAQwACGAAEMAAIIABAAEMAAIYABDAACCAAQABDAACGAAQwAAggAEAAQwAAhgABDAAIIABQAADAAIYAAQwACCAAUAAAwACGAAEMAAIYABAAAOAAAYABDAACGAAQAADgAAGAAQwAAhgABDAAIAABgABDAAIYAAQwACAAAYAAQwACGAAEMAAIIABAAEMAAIYABDAACCAAQABDAACGAAQwAAggAFAAAMAAhgABDAAIIABQAADAAIYAAQwACCAAUAAA4AABgAEMAAIYABAAAOAAAYABDAACGAAQAADgAAGAAEMAAhgABDAAIAABgABDAAIYAAQwACAAAYAAQwAAhgAEMAAIIABAAEMAAIYABDAACCAAQABDAACGAAEMAAggAFAAAMAAhgABDAAIIABQAADAAIYAAQwALB+hGXknP/jP/83+5oaH/OPf8u/td/PqWE84bLzI83Dw7xZ+cn+fnJ+iI2Kmj+wg9//Zfvhl/jwS/7wa/Phl+bDL+njX27++OX64y/X//j1+h+/Xn94v/nyILvgP//P7ySAU0r/aftffcAY2g4+6B+an37Pv/2ef/tb/u335rff82/b4V/po4TE+dIrnsOufmZhHMuWk59on+TF72B+okby8s3LNW3mYpMxtojOBzqKq9BdaK/9fP9P5LtXcko/bz7/u+0ff9l++mnz6cftxx+2H37YfH63/XTV/rlub3JsVcDz/sO//Q9hQzGAvzarb6vV7b/bnN+tvrTr5vri6vPq/dXFzVWz2TxFQpw7ruKcy83n3cB4uuQ7adFL9tWpeV9TntY0m2v+GPKgqZpl5eKLNXPFcFPz3GT5ruXeKfTBOuRdlObOauS7tdr9KkVOkWLX/u3/5kg54jaJf7r58PP1h5/j44/pw/vth/fbj2+3f162Xy/amya1L/0A+EgB/MPmq7Bh6M/Vm79f/vz7m7/+7e2vX1aXX5vVn/nyc357nd68S9/erb5erjc5H3FyH6dkycMUi3GWZpc3EmPznBb2ccYzhqqzgVy7uDy3zvVNje//WPoG5WGI5pE1zBOtRS7Vl/0QjEINGlGcJu8n6zYYefeHs1+fHNGfMXYvxm7TdrPcLuh2ljZyr/HbcI3uQnO6nSV2/+7+t82Rbl98t/nj/ebj++2nH+Pjj/Hh3ebjm/bmsr1exU0Tm5eewesEj1vybnNzf4T4ulp/Xr/9ePnDx4sff3/z6+9v/vp59XYbzU2sP6e3n/ObVUo5nV4Dx9J5TgzLvPTk4LisrZ2lvPn51E0774ZE5a7L840PJ4tUN9fhr/Jd2ERplQ8Ku7nWDovI7jS5H5Pdwj0OGuluYCcUY19T7kI0Ui9ZYzBX7BM97xI09p3A3Z9vq9Jumt7/9i6Y8661XYjevRiDlO2+Hr303f/b3v7cRFy1f77Zfnm3/eP95uP7zad3289X281Fu7lob9Zxk0MAQ50252/Nepvz3X/Nl9XVH+vLP1aX/7h4929XP//tza+f12/baLbRtNG00VzE9uje29NCNI5uJE/OdmSAxexkUbHhu0PyorOWPLdP83SNWDt7DDOm5qwiRyHeem3GWJsx6COIsfeoG0X9N+VgNe7zbBd4gxOCyL2F7ivaHINkjV7HSSlEe6/cr9L9/+YU96GeD9vcx3CnQt0Vvgfhmu6D8276+wm6P9xN2UncfayWcrcUujna7q8u2+s32y9v2i9vtl+utl/etF/ftNs37eYyNuvYNs9jgIUA5qVkcPqyWn9ZXXxZrz+vLj6v3/3L1U//+ubHf714/3H15mu+/Jav7o9VqxRNmh9k0e/Kq/pAnmOQZ+SK0naQnTUd0VHueJwp449b+sJldUNisuVcWJ+oXZ+Yaid3YnXYSD+citN0OlF7HcmRe2cpM3PlQam9Lz17QbgvRnuvDBdUjsZekZrioHTuxuew6o20L0w7Fe1B4nam6STuXdz20jTt83Uf7dGpiSN1wjXd/9AJ1DT4IafIqRu67e7fFDnisr2+aq8v229X2+vL9vqq3Vy128vtdt1GE/HSj4cCmMdM39Xfr/76f97+0/9++9v/ffPbl/XF12a9aVabvN40q4t0c5FuruK6qhQr/D5S9bXhfmTX1I5TRVvNJcw8WFyu6zUdjiIaLTFjrpHhsqJio6KykeFVyemmYqKpPLFWUWi5l9MReZDWg502uJg6zN1hO6lzZbR4JbVfxQ7aucvXmWTt5mWhch38PMzgg57k+2Z79W63J7mzbvtYve9V7sZ5J1D3P/eX1atx0z5li5Hc5hQp+gHcqYMv2+1lu71ot5ft9rK9uWq3F217EbGK+zUUwFDXp9mmZpNXm3xx3Vz8y9U/fbj88fY3bW42ed2keNsejtfLhfPcuUt6UazAZuL8cJaYT9Y83iN61ErO15GT7U+VhnXV5FjvayGGS+s2HHM7PI2Ig1g9vDJaOB/qlsUHJxmHPbQH658Lad3vSY7BqUMM8rXwSiFoxyrUw2Tt7fZuJbqPzOkwLta1gxiOfil8vxW7/Ev9cVX3JWkqFLWpFLHpsK7dzb6f5f5/++Vv28/j1M/dg4vE7UXbrqO9aNu7DG5X0a4jVtGu9ucWAhgGNjm3nd7eTW5yalexbaLNKaWc27x/4MY6NuvtZpB8qVQzTcRe9SzljtaYyNfx5yLEZHSl6SuauZBMaeZ6ZFRMU9NsKZ8WNTjsiT2cZmQdBuEaE9s+7PhNh9dHyyF6+LaWhvIOSthiX/Ggri12LMdg3kJ+R/8SdfeEIIZnCZ1QLCR0HjTSX0qU6+ZdI90+5GK920vf+xI29S737kc4p86V3W7fdXdwVmfK9u6V+7ROTe9qcWpSrCJWbVxEu27b239XKVYR64gm4qU/NkYA84C2ebXJzaZpNjlvcrPJzd8vrj6t1tdNSml7sb1+t/mzHJCRJhOrVGlNzpKqZpm5abJUL8bSdRs9S4jR4vKI5abB2N3SBo42m0sXSkf220hlvKTZw/teJov10mim/lyHXb7FPoZIpYgtxuRBH8BhIVvfyLC07XUtxGH0lsN1EKWDjuVBI8NwPeia7hXNg1kKBXEvjPeVbup0OKe7Avc+Zbtxm+6vJd/3ot9PcJustz+v7ord28K3iVhFrCKaFE1E0gUNY/5cvft/lz/9/fKnv1/+/HH9/qZpbpqLm+biurnIEW83f27zqtxfGrNVZumVmL2wOleuFZddOtGeGc0Uw6N/5JH+59HJopgihfWfWJmR8jodDLhNwwG3hZWZbCQmzx6Kr/TH9KaU8twExRDd/2+UcrFfAQ+zc1gl59LsvTo1picYKUmHHdT9+4iGFXCnr7sczwedxtNZ2y9eD+bqpm8aXC2+jcy0L4VT2r0SB6/sdkXujvbqx+2+nWEeD35oOnG7//l7+RoDAcxDdkE3q2+rq8/r958u3v/j8ueP6x/uj1abvE4pv+09oWVkFFVMVKgHlw9n+m/L4THXET0ScnOrFJUT1KzbXFdzLwKnu5RHAvtw3ijW6MUN7yZT/0kSMV9/F0rA4clKOREH6X5wanKYmodVeGm5qXSTT2maYhIPTxfGrumO9DYPL/Hex2SMTNl95eAepF4nc++0oHPRuj/Ua1/C9u9HSr37pjqjqe+X1aliO7XvPn37s+dBbPcq5k4GN7t/bzP4tji+/21yDRh22pTaw/t7Yh2bi9isIiI1N826++uL9uYiboZpMfXK5GDgfBhFVc2Odh3HTHhPrufITTilCni8WKy6b6cU7THf7OgrMXLqMB51vc7hGG22PEuMTTzoqS4+BGoiKcczO0pZW+pPHgn+w47f6UvFpe7x4qXo0bQe9lofrPnBBeN8WEMfDpMuhW6/ByJ6E3dGYqeDsdm9kvfuz2D/Ytz/0AnvfUG8X1ZnoYNquBPDvQ5tFTDc+7q63ObmNobbnNuUrnO+zs02RY7NRXv9dvNtolt4KiHmO4GH3dG1Y5qWNFJY1fnadDaMqwvcupWPkVlqquFh+k7sxphYt1y7blHuNi/1J6c0t25RztRctdzeRdnicnOvkWEYzzRbHK6cyncxFS9mRx6cWfZDcfqVYgYfJG7Kg+C/H0p2P0FNs706OCKPrF4vgAfT3C+66V023q+PQViw92V19eni7cf1m0/rt19XF5t8sWkuN/ly01yu2pur7ddU7pWdzuORkU2D6nCifzhP5FbUdSlPl79LGplq9qQu3JqdUNPIwVwzC1ravTwyV+TJNanpGU7j14/zyAQ1XdCjT38cT/2RRlL/ERyjd3YNsq34VKzUe/BWr/wtvJIOb5oazjK8QbnbEV21lP7txYWVn11uYZbDcnzsuCGAeTUi3T9Rcnde/mV99Xn99o/1D5/XP/xx8fbT+m2nLmrb1F7EtzTyjKTDpssRNVUC5umKNupK7dmhXlFbBE82EqkiYvuxNLqZoyFUe0NwpPKF3oq+3Kl1mxw/FWlw403VmpTGUcdUoTw+snpyv8XBHVCFjDzsA0/D26KGY7YHCXrY4MHdzAf5XWitFJkH4T0c8Vfqdj54ZXgz1eg5QR58bIdFc+lc5PBxY4enC8OkT/GdfV21AOZI25y+Nc231WqTm23ObcrfVuuvTdOmts1tm3Kb190DXpPapv1W3Rs8dpV0SQdy8ZWozuzaRg4zZr5wH2T53DXX2VidvF4bk3XtzCwVNevg8RSl+nXkEnKMj1iuff5GlIaLD845Ymx8WRpeAk/lJ02m4q9Kj81KxQdsjbc27PstB3lF0XwYmVNnA+ObMyxqi7E9XWT3N6Q073BzovgWD3evAOZ1a3Nzvbr81qx2/62aTV5v8vrrav2tyZG36/Y68kyZWMyGkdCNySRL8wOjpl+JYpItbrZfIsdkZTx+6TdquqDTwSXVkWZjYpaxh2OMzjK/blNfPDCSjjF25B1/bnMqP98qxmJ1LPMKW5GjfNIzDIA8vm6FiePwyWI5TTU7uOIb/UwtZ9jBUkai6/Bach48biUXq/aRTZja8JjdrtEZ0+ie+X5iWABztBwp3TTrL6urP9ZXf6wvb5p1m9ZtXrV51aZYx/VIx2+pezNSsV93viIcKUxT/dMqDpccZ29kwVMhC/skpqYZVvDlUdNRvfMXzVJb7k9/K+1YQJYL1khzjcTEwXpkTVJxHPtYwVrM+IPR7+VkLTRbE2MxWzrPNzu7oJip0Ufejph6LNrgKXU104z8OX2HBDBHipTatNrmi5vm6rp5e91cbe/uQWpim9O23X1V5+hjLkbKxzT/zQSFhB69UpsXNpJmHiG5cDT1wkZmn9M0uslTy42KBRXv8oqUpmrK8YJ48pgb84fXHKV4Ky03T3QSRDELY2KCyb7r3lx5LrxnMjJqd9HkBdTh6ctkypY/F5OnCOWv4piaZfRPpf/xnP1e5/wKjqICmGPr35RyapvYruJmFesmrdvO02lypCZ9m7jdaPRXU53SMfe15zGYteoL+MpxeHwjhQ7htKBjvLcVefR7IEoXyEeumJYqyJoVS2kwy/izrOe/x3fYNZ3G06JU7Bar6pSnN2Qytw5PNWK8aD68rBuTQVieJhey6qAWHB/TN7Klee6dmmt/dJqxbZ84rSk9Lz0qIza/vqOoAKZKm/O3ZnXT+e6ENuc2pyZtm9Su0mYVN91QqHgkZH1ERYqls5Sq2yVP55j+yr/RQ2ThldHH1eaqu5Vmvi1xdM3nNzZNfPNu+cgYNQfTGDtMj3YAzMZwf8qxXoTpLxIeucQ7+qYUu7vHmq3Z5FyzmTH/p1VM0Ilr6iNnHlHsYa46G0tTlwCmczQvfF0Aw+5AtM35pmluh1x9Xa22OW/yatOsb/Jq06QmbnIvRMo3DBw/jHnkPqI0+1jmUmU8ctSouFs35lKqeMofpydoRfhVrdvglZjrkyycuxx5BpBndkvUNJvnT1nO00ierryPqMXnzjZmH4w6OY5pcovK48jGnuQ6cbYxWu6nkY/26+xbFsCcmLi3H/R8+8D4NqdNbr416y/riy+riy+ri03udji36xQRufaxFWn0iRMjYTPzII7Zj/TUeXpMVl1jYV9RrFTEcEXvXMw1W5epaf7+5iM2JxYtJccDrsnMWNmpB3oXTt3GCsTit4YsbKTiDV346Ldcs6rlgn40OMt/ZnNdAgpcAcw5Ajjnbcq3/cwp5W3Om5zbHCm2TeQmNbl8d8rMpy4Phlyd1lk9dpScuHQ6cfSM2YNFafaZLri5TZ5b/+oNnAuGuZOMus05fd2GI97HemKHDU6u/9Tg59S/tDm/aYM1mS5qa0Z3Txa1C/oz0vjl8PrMnjhBXHauIG4FMGe3yc1109zkps2pzXmb8jY3bcop55RSE9vV8M7RqCxGx9N0ppHa61KTD3SsOVLESN/aRCMxViKcuMkVQ1dqvkF5pNmoO28YOcrX7uGIJes2M1deVuHNhW7UXMJYluUjZxvzl88n/oRm+k5iQf6dciFWuApgHqDePezk3T1j8qZprpvmulltck4pbXNz+3oTaZ3asSyZrWLnj8IzHdSzh/JyUT4Xw2MP5JqpKioCdWnvdOUmR02W58WzVK3tEd2q4/0iYwuqDq2K84Pj9v/4CtdcGh+dZabl2fybehZbdQbP33wvkgUwjyPnSKm9u+573eRvTfOtab6t1l+b1U3TpM5NHU20TZzwKY3Ix3zUY0k0lgug2XytukNxbuBJTbV9RI/oRG10Ss1X1e1ctbaLZ5mt+GdHBtW8QefawPk1qbgQk+eGPh3znp7jTzQd8UFGAHO6bc6bptnk5iY325wjp21uNjm3OTcR67h7qMboh3Dp5ajJCnKmkag/Osx+hXB1I7EoXMu7JWoSen5PTlyrPuGCYsVbU1XwReUstX8D6aTBa0tPGlLF8Lc0t/mpYoxCzbu56Czq9LgVrgKYpxEptylvct7cJXGbU6QcObU555RWVQejIw++x40cXnZsnSuJ6ho54v6KmFuTY+qq2aP2ERXe7HX3mgovT79BMZNbU82eNEQo5krkBdVnTfG6aGTf/MdkpM//xOyUuAKY5xHAObU5R85tzpvc3DTNbdhEyrd3F62OO08vHfdn56ofwDy56IohzXWP7FnYSKq4Oac2pxfUmrUH7tHkywuP/pUleE01WTE2+9iui6MSqPoLQk6KN1dYEcCvueotvHJ739E253z7YOeIPP74utqDYBxx3Iz5Bc0XMac+RqC2x3Lhswiqas2jauWj9tLiHVX7Bp38l1D7tlaXs6fsuiMbmV2Th7lYK8sFMC8gffcPmIrIEauIVRur1C681a/c+bzwEBCLupFHmo3FhUUcW9yfoZE4uYStOF7HkTt/7r2II2q4PB02y+5kW7Abjyo3zzFqaW6k8VmSUrgKYF5Q+ubt3d29t6fxbcrbnCPlHNHkWJ0wZidNjR6aPS5XVEjzzVZ0qxaarRqzM9ds1BRPS549Ml2GzhzWFzZ71HXx5X8AC/P1iAeqjL8vZ02ymgHM6WG+Vk/iCmBeZMmb7p4ruclNm3dJvHs95dufm6OegFO8pecMqRZxyqFzJtpj0WN9FkT7sud5Hd9snCNXzrKHT0qLB7ogmh9gShDALIje6Nck99/Tu81pN+Qq9R7jvKq7JzLPRcxxFwtH4/OUO4/rEzTO0UhV4X5qnB/3KPylO2p5TV/VOVG9OTXLihPXra7AfaSHHjsVeD37RAC/Fre3Fe3+TbsHXd0G8yoiThjwOX9AjOOusB7xDI1jDtaP9kyDigWd4RD/QG/HEUVzXQ/tMbX4Od7BZSkuXBHAHJ++bc7b1LQ5tSnH3T2+KUWTUpxh/NRwmsnO56hspHyIXJAf8ws6060mEWfab/ORMDsw7cxv1viqnWVBZ0ip5U+leLRolLgI4NeoM84531a97d0Tng+mbOKYRw3U58eRTwmIMzS7pDY6KYmPOXuIdPoSS7MsPxWII5Z7znfhRRSvwvUxvZJ9K4C/y3p3d9Q6uNcoUkTKkVLsMzhSSs1Zkqz6gJiP/xzGKQ0edwvsuffMAx6AntsYJfkEAvh1lr/5tre53X3Fwr7b+f55COcKpIoaZXmbRy73HA9GOK7AijNs0WCWWD5LWj7TsQt6qHJ22c5X4CKAeVbpm9q7W3vbnKNz3LsdiXr2J8UvPnjNPdv2IcvNxSOSjlpQHLVu6WHW7TEy7KhwTQ90m6xwfVle7dshgL/nP+j7cUb7Huc4+NXyT0jEuT5Uyz91Z3ne1hFzHX9V9bR1O/4i+olHtJdVqjqaI4B5ypJ3PIMj0v6S7zO85pef6yynHMqf8JYV8QMCmMdL3+6Qq+j8l1Kk2H2rwuyj8B8yAM5wDfXYdTvHt7bFGd6mI3bLQ+X6OfqKnzD4nWG8dN5BAfy9/UlH3j3xape+OUdKOVKTU8QpN9hU9CvGI30Ijxgr9GBpeo41ebI0fS59xQ7NCGBefhF8+3iNlG6HOvcPsTF90fRRng5/0u1D3WYeoGs3HmB7n/Lk4PmUqvIVb7oA/r6ydnCIjZz7z9wYHNPzE3+KntU3wHigICCAOTqDc9oVu/dhnGOiV/SkwvH8d4kcd69qXQo+zVXVp6pln9WpgJMSEMCvI4M7V3xT/0mCE48kfNIhPOfPzu8vTZ9zpMlX/KkIYPbf6zaoemP59/VK09eYpo6Y+OMRwNQe6WPwJIyczxBzD5Sd33eUSlNAAL+K9O2Oao4Hr2YBEMDcdTZH5zbfR65lH+/pCnqGVbf4CxTAPMNKOO/+8uNFfHikqWMZ4hYB/DLz9tl8GJ7wOuuLPhw4cgEC+EVGb9gRAAKYZ1EHx+w9Rg9UvJ6hnH3p5aByltfA37kAZvSz8DCBGq/8U+qgg6MMAlile2wknjCfNAUQwK83ekNhKk3BB0oA88gfibj7Nxl7BSCAeaokdjIO+IgJYB5KVLziow74DApgHjuPfZIBvnuNXQAAKmDFrloW8OkWwDxM6IbPG+DjL4DtAh8nwPEBAQwgbnkVDMICABXwy+dpVoB6FxUwAKiAAZS8oAIGABXwS+WKL6DeRQADiFsEsHoXELcggAEkLs+KQVgAoAIGUO8igAHELQjgJ2DUFYhbeCCuAQOAChhAvYsABpC4IIABxC3fD9eAAUAF/KSMeQb1LghgcQviFgQwgMQFAQyIW3jpDMICABUwoN4FAQwgbkEAn8SYZ5Cv8Ky4BgwAKmAlL6h3QQAD4hYQwIC4BQH8zOhwBokLL4tBWACgAgZUtyCAAXELCGAQt8D3wzVgAFABg5IXEMDPlpuOEK6AAAbELfA9BrB6F4kLfH8MwgIAFTCobgEBDOIW4LUEsCu+iFvgNXANGABUwKDABQQwiFuA7zaAXfRF3AICGOQrwGMwCAsAVMCodwEE8ENwxVe4AqACRuICPA3XgAFABYzqFkAAg7gFEMDIV4Dv6AgcYWAyADw2g7AAQAADgAAGAAQwAAhgAEAAA4AABgAEMAAIYABAAAOAAAYAAQwACGAAEMAAgAAGAAEMAAhgABDAAIAABgABDAACGAAQwAAggAEAAQwAAhgAEMAAIIABAAEMAAIYAAQwACCAAUAAAwACGAAEMAAggAFAAAMAAhgABDAACGAAQAADgAAGAAQwAAhgAEAAA4AABgAEMAAIYAAQwACAAAYAAQwACGAAEMAAgAAGAAEMAAhgABDAACCAAQABDAACGAAQwAAggAEAAQwAAhgAEMAAIIABQAADAAIYAAQwACCAAUAAAwACGAAEMAAggAFAAAOAAAYABDAACGAAQAADgAAGAAQwAAhgAEAAA4AABgABbBcAgAAGAAEMAAhgABDAAIAABgABDAAIYAAQwACAAAYAAQwAAhgAEMAAIIABAAEMAAIYABDAACCAAQABDAACGAAEMAAggAFAAAMAAhgABDAAIIABQAADAAIYAAQwAAhgAEAAA4AABgAEMAAIYABAAAOAAAYABDAACGAAEMAAgAAGAAEMAAhgABDAAIAABgABDAAIYAAQwAAggAEAAQwAAhgAEMAAIIABAAEMAAIYABDAACCAAUAAAwACGAAEMAAggAFAAAMAAhgAXoD1i177nLO3EOB1iggB/JT+/T//95RSzimluPvhNpvj7ofdO5VTSvvfDqZPcfvbu8lGpr97sTz9/rcp5fHpU0p5fPqUUk45xd0PI9On6Px2MH2K/clJHp++u3+G00/vz+6ui5R3eyBy3O+NyCmliJx2i8sRqfPzwTSp08JumruWb38utnz780HLu+lLLe+m77f84te/89veK7fv43DK/uu9tSq9fr8th1MOXt9vxcjrw/V8+euf7t+1/f/u3srOp3U/ZTqYt/Om76e/+8BVNhideWsajP7KdI5gpQYHW7dvcH/Amdq62QYPtm62wUgpNf/lf730/NIFDQACGAAEMAAggAFAAAMAAhgABDAAIIAB4PnJL/pJIp6EBfBqeRKWNwAABdhiuqABQAADgAAGAB5Idg0VAFTAC08fcjYQGuCVVpAv/PjfvOhdHxERIYMBpK8ABoAH9x1cPxXAACCAAUAAAwAP5OLEqQwAAAAtSURBVAU/ivJ++JU7qQB4cdwHDABPQBc0AAhgABDAAIAABgABDAAIYAB4Wf4/ckTOa+MnH2UAAAAASUVORK5CYII='>"
      ],
      "text/plain": [
       "<IPython.core.display.HTML object>"
      ]
     },
     "execution_count": 42,
     "metadata": {},
     "output_type": "execute_result"
    }
   ],
   "source": [
    "figTemp = glucifer.Figure()\n",
    "figTemp.append( glucifer.objects.Surface(mesh, temperatureField))\n",
    "\n",
    "#figTemp.save_database('test.gldb')\n",
    "figTemp.show()"
   ]
  },
  {
   "cell_type": "code",
   "execution_count": 43,
   "metadata": {
    "collapsed": true
   },
   "outputs": [],
   "source": [
    "# send boundary condition information to underworld\n",
    "IWalls = mesh.specialSets[\"MinI_VertexSet\"] + mesh.specialSets[\"MaxI_VertexSet\"]\n",
    "JWalls = mesh.specialSets[\"MinJ_VertexSet\"] + mesh.specialSets[\"MaxJ_VertexSet\"]\n",
    "TWalls = mesh.specialSets[\"MaxJ_VertexSet\"]\n",
    "BWalls = mesh.specialSets[\"MinJ_VertexSet\"]"
   ]
  },
  {
   "cell_type": "code",
   "execution_count": null,
   "metadata": {
    "collapsed": false
   },
   "outputs": [],
   "source": []
  },
  {
   "cell_type": "code",
   "execution_count": 44,
   "metadata": {
    "collapsed": false
   },
   "outputs": [],
   "source": [
    "#Set Dirichlet Temp conditions\n",
    "\n",
    "for index in mesh.specialSets[\"MinJ_VertexSet\"]:\n",
    "    temperatureField.data[index] = lith.tint\n",
    "for index in mesh.specialSets[\"MaxJ_VertexSet\"]:\n",
    "    temperatureField.data[index] = lith.tsurf\n",
    "\n",
    "\n",
    "# Now setup the dirichlet boundary condition\n",
    "# Note that through this object, we are flagging to the system \n",
    "# that these nodes are to be considered as boundary conditions. \n",
    "# Also note that we provide a tuple of sets.. One for the Vx, one for Vy.\n",
    "freeslipBC = uw.conditions.DirichletCondition(     variable=velocityField, \n",
    "                                              indexSetsPerDof=(IWalls, JWalls) )\n",
    "\n",
    "# also set dirichlet for temp field\n",
    "dirichTempBC = uw.conditions.DirichletCondition(     variable=temperatureField, \n",
    "                                              indexSetsPerDof=(JWalls,) )"
   ]
  },
  {
   "cell_type": "markdown",
   "metadata": {},
   "source": [
    "# Particles"
   ]
  },
  {
   "cell_type": "code",
   "execution_count": 45,
   "metadata": {
    "collapsed": true
   },
   "outputs": [],
   "source": [
    "###########\n",
    "#Material Swarm and variables\n",
    "###########\n",
    "\n",
    "gSwarm = uw.swarm.Swarm(mesh=mesh)\n",
    "materialVariable = gSwarm.add_variable( dataType=\"int\", count=1 )"
   ]
  },
  {
   "cell_type": "code",
   "execution_count": 46,
   "metadata": {
    "collapsed": false
   },
   "outputs": [],
   "source": [
    "mantleIndex = 0\n",
    "lithosphereIndex = 1\n",
    "eclIndex = 2\n",
    "crustIndex = 3\n",
    "airIndex = 4\n",
    "tempIndex = 5\n",
    "\n",
    "\n",
    "\n",
    "\n",
    "if checkpointLoad:\n",
    "    checkpointLoadDir = natsort.natsorted(checkdirs)[-1]\n",
    "    temperatureField.load(os.path.join(checkpointLoadDir, \"temperatureField\" + \".hdf5\"))\n",
    "    pressureField.load(os.path.join(checkpointLoadDir, \"pressureField\" + \".hdf5\"))\n",
    "    velocityField.load(os.path.join(checkpointLoadDir, \"velocityField\" + \".hdf5\"))\n",
    "    gSwarm.load(os.path.join(checkpointLoadDir, \"swarm\" + \".h5\"))\n",
    "    for ix in range(len(varlist)):\n",
    "        varb = varlist[ix]\n",
    "        varb.load(os.path.join(checkpointLoadDir,varnames[ix] + \".h5\"))\n",
    "\n",
    "else:\n",
    "\n",
    "    # Layouts are used to populate the swarm across the whole domain\n",
    "    # Create the layout object\n",
    "    layout = uw.swarm.layouts.PerCellRandomLayout(swarm=gSwarm, particlesPerCell=ppc)\n",
    "    # Now use it to populate.\n",
    "    gSwarm.populate_using_layout( layout=layout )\n",
    "\n",
    "    # Lets initialise the 'materialVariable' data to represent different materials\n",
    "    # Set the material to heavy everywhere via the numpy array\n",
    "    materialVariable.data[:] = mantleIndex\n",
    "    \n",
    "    \n",
    "    #Set initial air and crust materials (allow the graph to take care of lithsophere)\n",
    "    #########\n",
    "    #This initial material setup will be model dependent\n",
    "    #########\n",
    "    for particleID in range(gSwarm.particleCoordinates.data.shape[0]):\n",
    "        if (1. - gSwarm.particleCoordinates.data[particleID][1]) < 0:\n",
    "                 materialVariable.data[particleID] = airIndex\n",
    "        elif (1. - gSwarm.particleCoordinates.data[particleID][1]) < MANTLETOCRUST:\n",
    "                 materialVariable.data[particleID] = crustIndex\n"
   ]
  },
  {
   "cell_type": "markdown",
   "metadata": {},
   "source": [
    "# Material Graphs"
   ]
  },
  {
   "cell_type": "code",
   "execution_count": 47,
   "metadata": {
    "collapsed": true
   },
   "outputs": [],
   "source": [
    "##############\n",
    "#Important: This is a quick fix for a bug that arises in parallel runs\n",
    "##############\n",
    "material_list = [0,1,2,3,4,5]\n"
   ]
  },
  {
   "cell_type": "code",
   "execution_count": 48,
   "metadata": {
    "collapsed": true
   },
   "outputs": [],
   "source": [
    "#All depth conditions are given as (km/D) where D is the length scale,\n",
    "#note that 'model depths' are used, e.g. 1-z, where z is the vertical Underworld coordinate\n",
    "#All temp conditions are in dimensionless temp. [0. - 1.]\n",
    "\n",
    "#######Graph object\n",
    "DG = nx.DiGraph(field=\"Depth\")\n",
    "\n",
    "#######Nodes\n",
    "#Note that the order of materials, deepest to shallowest is important\n",
    "DG.add_node(0, mat='mantle')\n",
    "DG.add_node(1, mat='lithosphere')\n",
    "DG.add_node(2, mat='ecl')\n",
    "DG.add_node(3, mat='crust')\n",
    "DG.add_node(4, mat='air')\n",
    "DG.add_node(5, mat='temp')\n",
    "\n",
    "\n",
    "labels=dict((n,d['mat']) for n,d in DG.nodes(data=True))\n",
    "pos=nx.spring_layout(DG)\n",
    "\n",
    "\n",
    "#######Edges\n",
    "#anything to air\n",
    "DG.add_edges_from([(0,4),(1,4), (3,4)])\n",
    "DG[0][4]['depthcondition'] = -1*TOPOHEIGHT\n",
    "DG[1][4]['depthcondition'] = -1*TOPOHEIGHT\n",
    "DG[3][4]['depthcondition'] = -1*TOPOHEIGHT\n",
    "\n",
    "\n",
    "#Anything to mantle\n",
    "DG.add_edges_from([(3,0), (1,0), (2,0), (5,0)])\n",
    "DG[3][0]['depthcondition'] = CRUSTTOMANTLE #Normal crust\n",
    "DG[1][0]['depthcondition'] = LITHTOMANTLE #This means we're going to kill lithosphere at the 660.\n",
    "DG[2][0]['depthcondition'] = CRUSTTOMANTLE #Eclogite crust\n",
    "DG[5][0]['depthcondition'] = CRUSTTOMANTLE #Normal crust\n",
    "\n",
    "#Anything to lithsphere\n",
    "DG.add_edges_from([(0,1),(4,1)])\n",
    "DG[0][1]['depthcondition'] = MANTLETOLITH\n",
    "DG[0][1]['avgtempcondition'] = 0.75*AVGTEMP #definition of thermal lithosphere\n",
    "\n",
    "\n",
    "#Anything to crust\n",
    "DG.add_edges_from([(0,3), (1,3), (4,3)])\n",
    "DG[0][3]['depthcondition'] = MANTLETOCRUST\n",
    "DG[1][3]['depthcondition'] = MANTLETOCRUST\n",
    "DG[4][3]['depthcondition'] = TOPOHEIGHT\n",
    "\n",
    "#crust to eclogite\n",
    "DG.add_edges_from([(3,2)])\n",
    "DG[3][2]['depthcondition'] =CRUSTTOECL"
   ]
  },
  {
   "cell_type": "code",
   "execution_count": 49,
   "metadata": {
    "collapsed": false
   },
   "outputs": [],
   "source": [
    "remove_nodes = []\n",
    "for node in DG.nodes():\n",
    "    if not node in material_list:\n",
    "        remove_nodes.append(node)\n",
    "        \n",
    "for rmnode in remove_nodes:\n",
    "    DG.remove_node(rmnode)"
   ]
  },
  {
   "cell_type": "code",
   "execution_count": 50,
   "metadata": {
    "collapsed": true
   },
   "outputs": [],
   "source": [
    "#A Dictionary to map strings in the graph (e.g. 'depthcondition') to particle data arrays\n",
    "\n",
    "particledepths = 1. - gSwarm.particleCoordinates.data[:,1]\n",
    "particletemps = temperatureField.evaluate(gSwarm)[:,0]\n",
    "\n",
    "conditionmap = {}\n",
    "\n",
    "conditionmap['depthcondition'] = {}\n",
    "conditionmap['depthcondition']['data'] = particledepths\n",
    "conditionmap['avgtempcondition'] = {}\n",
    "conditionmap['avgtempcondition']['data'] = particletemps"
   ]
  },
  {
   "cell_type": "code",
   "execution_count": 51,
   "metadata": {
    "collapsed": true
   },
   "outputs": [],
   "source": [
    "def update_swarm(graph, particleIndex):\n",
    "    \"\"\"\n",
    "    This function takes the materials graph (networkx.DiGraph), and a particle index,\n",
    "    then determines if a material update is required \n",
    "    and if so, returns the new materialindex\n",
    "    Args:\n",
    "        graph (networkx.DiGraph): Directed multigraph representing the transformation of material types\n",
    "        particleIndex (int): the particle index as corressponding to the index in the swarm data arrays\n",
    "    Returns:\n",
    "        if update is required the function returns the the new material variable (int) \n",
    "        else returns None\n",
    "    Raises:\n",
    "        TypeError: not implemented\n",
    "        ValueError: not implemented\n",
    "    \"\"\"\n",
    "    ##Egde gives links to other materials, we then query the conditions to see if we should change materials\n",
    "    matId = materialVariable.data[particleIndex][0]\n",
    "    innerchange = False\n",
    "    outerchange = False\n",
    "    for edge in graph[matId]:\n",
    "        if outerchange:\n",
    "            break\n",
    "        for cond in graph[matId][edge].keys():\n",
    "            outerchange = False\n",
    "            if innerchange: #found a complete transition, break inner loop\n",
    "                break\n",
    "            currentparticlevalue = conditionmap[cond]['data'][particleIndex]\n",
    "            crossover = graph[matId][edge][cond]\n",
    "            if ((matId > edge) and (currentparticlevalue > crossover)):\n",
    "                innerchange = False # continue on, \n",
    "                if graph[matId][edge].keys()[-1] == cond:\n",
    "                    outerchange = True\n",
    "                    innerchange = edge\n",
    "                    break\n",
    "            elif ((matId < edge) and (currentparticlevalue < crossover)):\n",
    "                innerchange = False\n",
    "                if graph[matId][edge].keys()[-1] == cond:\n",
    "                    outerchange = True\n",
    "                    innerchange = edge\n",
    "                    break\n",
    "            else:\n",
    "                #condition not met, break outer loop, go to next edge, outerchange should still be False\n",
    "                break\n",
    "    if type(innerchange) == int:\n",
    "        return innerchange"
   ]
  },
  {
   "cell_type": "code",
   "execution_count": 52,
   "metadata": {
    "collapsed": false
   },
   "outputs": [],
   "source": [
    "#Set the crust material in the slab using shapes/function from uw.\n",
    "\n",
    "if not checkpointLoad:\n",
    "    #materialVariable.data[:] = mantleIndex\n",
    "    #lithtemp = 0.95*0.8\n",
    "    #tempswarm = temperatureField.evaluate(gSwarm)[:,0]\n",
    "\n",
    "    #At this point, we only have to assign any materials that are defined by setup shapes,\n",
    "    #the rest of the materials will be assigned using the materials graph\n",
    "\n",
    "    for particleID in range(gSwarm.particleCoordinates.data.shape[0]):\n",
    "        coord = gSwarm.particleCoordinates.data[particleID]\n",
    "        if gSwarm.particleCoordinates.data[particleID][1] > (1.0 - MANTLETOCRUST) and not Tri.evaluate(tuple(coord)):\n",
    "            materialVariable.data[particleID] =  crustIndex\n"
   ]
  },
  {
   "cell_type": "code",
   "execution_count": 53,
   "metadata": {
    "collapsed": false
   },
   "outputs": [],
   "source": [
    "#Cleanse the swarm of its sins\n",
    "#For some Material Graphs, the graph may have to be traversed more than once\n",
    "\n",
    "check = -1\n",
    "number_updated = 1\n",
    "\n",
    "while number_updated != 0:\n",
    "    number_updated = 0\n",
    "    for particleID in range(gSwarm.particleCoordinates.data.shape[0]):\n",
    "        check = update_swarm(DG, particleID)\n",
    "        if check > -1:\n",
    "            number_updated += 1\n",
    "            materialVariable.data[particleID] = check"
   ]
  },
  {
   "cell_type": "code",
   "execution_count": 54,
   "metadata": {
    "collapsed": false
   },
   "outputs": [
    {
     "data": {
      "text/html": [
       "<img src='data:image/png;base64,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'>"
      ],
      "text/plain": [
       "<IPython.core.display.HTML object>"
      ]
     },
     "execution_count": 54,
     "metadata": {},
     "output_type": "execute_result"
    }
   ],
   "source": [
    "figMat = glucifer.Figure()\n",
    "figMat.append( glucifer.objects.Points(gSwarm,materialVariable, colours='white blue red black'))\n",
    "#figMat.append( glucifer.objects.Mesh(mesh))\n",
    "figMat.save_database('test.gldb')\n",
    "figMat.show()"
   ]
  },
  {
   "cell_type": "markdown",
   "metadata": {},
   "source": [
    "## Rheology"
   ]
  },
  {
   "cell_type": "code",
   "execution_count": 55,
   "metadata": {
    "collapsed": true
   },
   "outputs": [],
   "source": [
    "# The yeilding of the upper slab is dependent on the strain rate.\n",
    "strainRate_2ndInvariant = fn.tensor.second_invariant( \n",
    "                            fn.tensor.symmetric( \n",
    "                            velocityField.fn_gradient ))\n",
    "\n",
    "strainRate = fn.tensor.symmetric( velocityField.fn_gradient )\n",
    "\n",
    "\n",
    "coordinate = fn.input()\n",
    "depth = 1. - coordinate[1]\n"
   ]
  },
  {
   "cell_type": "code",
   "execution_count": 56,
   "metadata": {
    "collapsed": false
   },
   "outputs": [
    {
     "data": {
      "text/plain": [
       "1.0"
      ]
     },
     "execution_count": 56,
     "metadata": {},
     "output_type": "execute_result"
    }
   ],
   "source": [
    "temperatureField.data.max()"
   ]
  },
  {
   "cell_type": "code",
   "execution_count": 57,
   "metadata": {
    "collapsed": false
   },
   "outputs": [],
   "source": [
    "\n",
    "arhennius = fn.misc.min(ndp.up_visc, fn.math.exp(-1*math.log(dp.E) + (math.log(dp.E) / (temperatureField + 1e-8))))\n"
   ]
  },
  {
   "cell_type": "code",
   "execution_count": 58,
   "metadata": {
    "collapsed": false
   },
   "outputs": [
    {
     "data": {
      "text/html": [
       "<img src='data:image/png;base64,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'>"
      ],
      "text/plain": [
       "<IPython.core.display.HTML object>"
      ]
     },
     "execution_count": 58,
     "metadata": {},
     "output_type": "execute_result"
    }
   ],
   "source": [
    "figVisc = glucifer.Figure()\n",
    "figVisc.append( glucifer.objects.Surface(mesh, arhennius, logScale=True))\n",
    "#figVisc.append(glucifer.objects.VectorArrows(mesh, velocityField, scaling=0.0002))\n",
    "figVisc.show()"
   ]
  },
  {
   "cell_type": "code",
   "execution_count": 59,
   "metadata": {
    "collapsed": false
   },
   "outputs": [
    {
     "data": {
      "text/plain": [
       "128.19708000000003"
      ]
     },
     "execution_count": 59,
     "metadata": {},
     "output_type": "execute_result"
    }
   ],
   "source": [
    "ndp.fcd/ndp.cohesion"
   ]
  },
  {
   "cell_type": "code",
   "execution_count": 60,
   "metadata": {
    "collapsed": false
   },
   "outputs": [],
   "source": [
    "#Psuedo-plastic \n",
    "ys =  ndp.cohesion + (depth*ndp.fcd)\n",
    "#ys =  ndp.fc*lithopressuregrad*(30e3/dp.LS) # this is the byerlee strength at 30 km\n",
    "yss = fn.misc.max(ndp.cohesion, ys)\n",
    "plasticvisc = yss*(math.sqrt(2))/(strainRate_2ndInvariant*2.)\n",
    "plastic = fn.misc.max(ndp.low_visc,plasticvisc)\n",
    "#combine these\n",
    "mantleviscosityFn = fn.misc.min(arhennius, plastic)\n",
    "\n"
   ]
  },
  {
   "cell_type": "code",
   "execution_count": 62,
   "metadata": {
    "collapsed": false
   },
   "outputs": [
    {
     "data": {
      "text/plain": [
       "5.73921028466483e-05"
      ]
     },
     "execution_count": 62,
     "metadata": {},
     "output_type": "execute_result"
    }
   ],
   "source": [
    "#maxT    = 1.0    # max time for shearing velocity BC\n",
    "#eta     = 1.0e2  # viscosity\n",
    "#mu      = 1.0e2  # elastic modulus\n",
    "\n",
    "alpha   = ndp.up_visc / ndp.mu                         # viscoelastic relaxation time\n",
    "dt_e    = alpha / 5.                      # elastic time step\n",
    "eta_eff = ( mantleviscosityFn *ndp.mu* dt_e ) / (mantleviscosityFn + ndp.mu*dt_e)  # effective viscosity\n",
    "dt_e"
   ]
  },
  {
   "cell_type": "code",
   "execution_count": 63,
   "metadata": {
    "collapsed": false
   },
   "outputs": [],
   "source": [
    "# Here we set a viscosity value of '1.' for both materials\n",
    "viscosityMapFn = fn.branching.map( fn_key = materialVariable,\n",
    "                         mapping = {airIndex:ndp.StAeta0, \n",
    "                                    lithosphereIndex:mantleviscosityFn, \n",
    "                                    crustIndex:mantleviscosityFn,\n",
    "                                    mantleIndex:mantleviscosityFn, \n",
    "                                    eclIndex:mantleviscosityFn,\n",
    "                                    tempIndex:mantleviscosityFn} )\n",
    "\n",
    "densityMapFn = fn.branching.map( fn_key = materialVariable,\n",
    "                         mapping = {airIndex:ndp.StA_RA, \n",
    "                                    lithosphereIndex:ndp.RA*temperatureField, \n",
    "                                    crustIndex:ndp.RA*temperatureField, \n",
    "                                    mantleIndex:ndp.RA*temperatureField, \n",
    "                                    eclIndex:ndp.RA*temperatureField,\n",
    "                                    tempIndex:ndp.RA*temperatureField, } )\n",
    "\n",
    "# Define our gravity using a python tuple (this will be automatically converted to a function)\n",
    "gravity = ( 0.0, 1.0 )\n",
    "\n",
    "buoyancyFn = gravity*densityMapFn"
   ]
  },
  {
   "cell_type": "code",
   "execution_count": 64,
   "metadata": {
    "collapsed": true
   },
   "outputs": [],
   "source": [
    "# initialise swarm variables for viscoelastic rheology & analysis\n",
    "previousStress         = gSwarm.add_variable( dataType=\"double\", count=3 )\n",
    "previousStress.data[:] = [0., 0., 0.]"
   ]
  },
  {
   "cell_type": "code",
   "execution_count": 66,
   "metadata": {
    "collapsed": false
   },
   "outputs": [],
   "source": [
    "# define stress tensor.\n",
    "# tauHistoryFn will be passed into Stokes for the ve force term\n",
    "viscousStressFn        = 2. * viscosityMapFn * strainRate \n",
    "tauHistoryFn           = eta_eff / ( ndp.mu * dt_e ) * previousStress\n",
    "viscoelasticeStressFn  = viscousStressFn + tauHistoryFn"
   ]
  },
  {
   "cell_type": "code",
   "execution_count": 67,
   "metadata": {
    "collapsed": false
   },
   "outputs": [],
   "source": [
    "mappingDictStress = { airIndex:viscoelasticeStressFn, \n",
    "                      lithosphereIndex:viscoelasticeStressFn, \n",
    "                      crustIndex:viscoelasticeStressFn,\n",
    "                      mantleIndex:viscoelasticeStressFn, \n",
    "                      eclIndex:viscoelasticeStressFn,\n",
    "                      tempIndex:viscoelasticeStressFn}\n",
    "\n",
    "\n",
    "stressMapFn = fn.branching.map( fn_key=materialVariable, mapping=mappingDictStress )"
   ]
  },
  {
   "cell_type": "markdown",
   "metadata": {},
   "source": [
    "## Build Stokes system"
   ]
  },
  {
   "cell_type": "code",
   "execution_count": 68,
   "metadata": {
    "collapsed": false
   },
   "outputs": [],
   "source": [
    "stokesPIC = uw.systems.Stokes( velocityField = velocityField, \n",
    "                               pressureField = pressureField,\n",
    "                               #swarm         = gSwarm, \n",
    "                               conditions    = [freeslipBC,],\n",
    "                               fn_viscosity   = arhennius, \n",
    "                               fn_bodyforce   = buoyancyFn,\n",
    "                               swarm=gSwarm,\n",
    "                               _fn_stresshistory = tauHistoryFn)"
   ]
  },
  {
   "cell_type": "code",
   "execution_count": 69,
   "metadata": {
    "collapsed": false
   },
   "outputs": [],
   "source": [
    "#We do one solve with linear viscosity to get the initial strain rate invariant. \n",
    "#This solve step also calculates a 'guess' of the the velocity field based on the linear system, \n",
    "#which is used later in the non-linear solver.\n",
    "\n",
    "solver = uw.systems.Solver(stokesPIC)\n",
    "# If not doing a restart, do a solve on the non-plastic system\n",
    "if not checkpointLoad:\n",
    "    solver.solve()"
   ]
  },
  {
   "cell_type": "code",
   "execution_count": 70,
   "metadata": {
    "collapsed": true
   },
   "outputs": [],
   "source": [
    "#Switch particle escape on, this will also trigger the inflow population control \n",
    "gSwarm.particleEscape = True"
   ]
  },
  {
   "cell_type": "code",
   "execution_count": 71,
   "metadata": {
    "collapsed": true
   },
   "outputs": [],
   "source": [
    "####################\n",
    "#Add the non-linear viscosity to the Stokes system\n",
    "stokesPIC.fn_viscosity = viscosityMapFn\n",
    "###################\n",
    "\n",
    "#Set more advanced solver option\n",
    "solver.options.main.Q22_pc_type='gkgdiag'\n",
    "#solver.options.A11.ksp_rtol=1e-2\n",
    "#solver.options.scr.ksp_rtol=1e-3\n",
    "#solver.options.A11.ksp_type=\"cg\"\n",
    "solver.options.scr.use_previous_guess = True\n",
    "#solver.options.scr.ksp_set_min_it_converge = 1\n",
    "#solver.options.main.penalty=10.0\n",
    "\n",
    "#solver.options.mg.levels = 3\n",
    "#solver.options.main.remove_constant_pressure_null_space=True\n",
    "#solver.options.main.penalty = 1e2\n",
    "\n",
    "solver.options.A11.ksp_rtol=1e-4\n",
    "solver.options.scr.ksp_rtol=1e-4\n",
    "\n",
    "solver.options.A11.ksp_monitor=''\n",
    "solver.options.A11.ksp_converged_reason=''"
   ]
  },
  {
   "cell_type": "code",
   "execution_count": 72,
   "metadata": {
    "collapsed": true
   },
   "outputs": [],
   "source": [
    "solver.solve(nonLinearIterate=True)"
   ]
  },
  {
   "cell_type": "code",
   "execution_count": 73,
   "metadata": {
    "collapsed": false
   },
   "outputs": [
    {
     "data": {
      "text/plain": [
       "0.0"
      ]
     },
     "execution_count": 73,
     "metadata": {},
     "output_type": "execute_result"
    }
   ],
   "source": [
    "ndp.H"
   ]
  },
  {
   "cell_type": "code",
   "execution_count": 74,
   "metadata": {
    "collapsed": false
   },
   "outputs": [],
   "source": [
    "#Create advdiff system\n",
    "\n",
    "\n",
    "\n",
    "#advDiff = uw.systems.AdvectionDiffusion( phiField       = temperatureField, \n",
    "#                                         phiDotField    = temperatureDotField, \n",
    "#                                         velocityField  = velocityField, \n",
    "#                                         fn_diffusivity = 1.0,\n",
    "#                                         fn_sourceTerm = 0.,\n",
    "#                                         conditions     = [tempBC,] )\n",
    "\n",
    "\n",
    "advDiff = uw.systems.AdvectionDiffusion( phiField       = temperatureField, \n",
    "                                         phiDotField    = temperatureDotField, \n",
    "                                         velocityField  = velocityField,\n",
    "                                         fn_sourceTerm    = ndp.H,\n",
    "                                         fn_diffusivity = 1.0, \n",
    "                                         conditions     = [dirichTempBC,] )\n",
    "\n",
    "\n",
    "\n",
    "advector = uw.systems.SwarmAdvector( swarm         = gSwarm, \n",
    "                                     velocityField = velocityField, \n",
    "                                     order         = 1)"
   ]
  },
  {
   "cell_type": "code",
   "execution_count": 75,
   "metadata": {
    "collapsed": true
   },
   "outputs": [],
   "source": [
    "pics = uw.swarm.PICIntegrationSwarm(gSwarm)"
   ]
  },
  {
   "cell_type": "markdown",
   "metadata": {},
   "source": [
    "## Figures / gldbs etc"
   ]
  },
  {
   "cell_type": "code",
   "execution_count": 76,
   "metadata": {
    "collapsed": true
   },
   "outputs": [],
   "source": [
    "viscVariable = gSwarm.add_variable( dataType=\"float\", count=1 )\n",
    "viscVariable.data[:] = viscosityMapFn.evaluate(gSwarm)"
   ]
  },
  {
   "cell_type": "code",
   "execution_count": 77,
   "metadata": {
    "collapsed": true
   },
   "outputs": [],
   "source": [
    "#Pack some stuff into a database as well\n",
    "figDb = glucifer.Figure()\n",
    "figDb.append( glucifer.objects.Points(gSwarm,viscVariable, logScale=True, colours='brown white blue'))\n",
    "#figDb.append( glucifer.objects.Points(gSwarm,materialVariable, colours='brown white blue red'))\n",
    "#figDb.append( glucifer.objects.Mesh(mesh))\n",
    "#figDb.append( glucifer.objects.VectorArrows(mesh,velocityField, arrowHead=0.2, scaling=0.01))\n",
    "#figDb.append( glucifer.objects.Surface(mesh, strainRate_2ndInvariant, logScale=True, colours='brown white blue'))\n",
    "figDb.append( glucifer.objects.Surface(mesh, temperatureField))"
   ]
  },
  {
   "cell_type": "code",
   "execution_count": 54,
   "metadata": {
    "collapsed": true
   },
   "outputs": [],
   "source": [
    "step = 0\n",
    "realtime = 0.\n",
    "timevals = [0.]"
   ]
  },
  {
   "cell_type": "code",
   "execution_count": 58,
   "metadata": {
    "collapsed": false
   },
   "outputs": [
    {
     "name": "stdout",
     "output_type": "stream",
     "text": [
      "4\n",
      "5\n",
      "6\n",
      "7\n",
      "8\n",
      "9\n"
     ]
    }
   ],
   "source": [
    "# initialise timer for computation\n",
    "startMain = time.clock()\n",
    "# Perform steps#\n",
    "#while realtime < 0.2:\n",
    "while step < 10:\n",
    "    #Enter non-linear loop\n",
    "    print step\n",
    "    solver.solve(nonLinearIterate=True)\n",
    "    dt = advDiff.get_max_dt()\n",
    "    if step == 0:\n",
    "        dt = 0.\n",
    "    #start = time.clock()\n",
    "    advDiff.integrate(dt)\n",
    "    #machine_time = (time.clock()-start)\n",
    "    #print(\"total advDiff time is: \" + str(machine_time))\n",
    "    # Advect swarm using this timestep size\n",
    "    #start = time.clock()\n",
    "    advector.integrate(dt)\n",
    "    #machine_time = (time.clock()-start)\n",
    "    #print(\"total advector time is: \" + str(machine_time))\n",
    "    # Increment\n",
    "    realtime += dt\n",
    "    step += 1\n",
    "    timevals.append(realtime)\n",
    "    \n",
    "    ################\n",
    "    #Gldb output\n",
    "    ################ \n",
    "    if (step % gldbs_output == 0):\n",
    "        #Rebuild any necessary swarm variables\n",
    "        viscVariable.data[:] = viscosityMapFn.evaluate(gSwarm)\n",
    "        #Write gldbs\n",
    "        fnamedb = \"dbFig\" + \"_\" + str(ModIt) + \"_\" + str(step) + \".gldb\"\n",
    "        fullpath = os.path.join(outputPath + \"gldbs/\" + fnamedb)\n",
    "        figDb.show()\n",
    "        figDb.save_database(fullpath)\n",
    "    ################\n",
    "    #Also repopulate entire swarm periodically\n",
    "    ################\n",
    "    if step % swarm_repop == 0:\n",
    "        pics.repopulate()\n",
    "        \n",
    "    # update smoothed stress history for use in (t + 1) timestep\n",
    "    \n",
    "    phi = dt / dt_e;\n",
    "    stressMapFn_data = stressMapFn.evaluate(gSwarm)\n",
    "    previousStress.data[:] = ( phi * stressMapFn_data[:] + ( 1. - phi )*previousStress.data[:] )\n",
    "    "
   ]
  },
  {
   "cell_type": "code",
   "execution_count": 59,
   "metadata": {
    "collapsed": false
   },
   "outputs": [
    {
     "data": {
      "text/html": [
       "<img src='data:image/png;base64,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'>"
      ],
      "text/plain": [
       "<IPython.core.display.HTML object>"
      ]
     },
     "execution_count": 59,
     "metadata": {},
     "output_type": "execute_result"
    }
   ],
   "source": [
    "figDb.show()"
   ]
  },
  {
   "cell_type": "code",
   "execution_count": null,
   "metadata": {
    "collapsed": true
   },
   "outputs": [],
   "source": []
  }
 ],
 "metadata": {
  "kernelspec": {
   "display_name": "Python 2",
   "language": "python",
   "name": "python2"
  },
  "language_info": {
   "codemirror_mode": {
    "name": "ipython",
    "version": 2
   },
   "file_extension": ".py",
   "mimetype": "text/x-python",
   "name": "python",
   "nbconvert_exporter": "python",
   "pygments_lexer": "ipython2",
   "version": "2.7.11"
  }
 },
 "nbformat": 4,
 "nbformat_minor": 0
}
