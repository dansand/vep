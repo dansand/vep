{
 "cells": [
  {
   "cell_type": "markdown",
   "metadata": {
    "collapsed": true
   },
   "source": [
    "## From Kaplan "
   ]
  },
  {
   "cell_type": "code",
   "execution_count": 68,
   "metadata": {
    "collapsed": true
   },
   "outputs": [],
   "source": [
    "import networkx as nx\n",
    "import underworld as uw\n",
    "import math\n",
    "from underworld import function as fn\n",
    "import glucifer\n",
    "#import matplotlib.pyplot as pyplot\n",
    "import time\n",
    "import numpy as np\n",
    "import os\n",
    "import sys\n",
    "import natsort\n",
    "import shutil\n",
    "from easydict import EasyDict as edict\n",
    "import slippy2 as sp\n",
    "from slippy2 import unit_conversions\n",
    "from slippy2 import boundary_layer2d\n",
    "\n",
    "\n",
    "\n",
    "from mpi4py import MPI\n",
    "comm = MPI.COMM_WORLD\n",
    "rank = comm.Get_rank()"
   ]
  },
  {
   "cell_type": "code",
   "execution_count": 69,
   "metadata": {
    "collapsed": true
   },
   "outputs": [],
   "source": [
    "############\n",
    "#Model name.  \n",
    "############\n",
    "Model = \"T\"\n",
    "ModNum = 0\n",
    "\n",
    "if len(sys.argv) == 1:\n",
    "    ModIt = \"Base\"\n",
    "elif sys.argv[1] == '-f':\n",
    "    ModIt = \"Base\"\n",
    "else:\n",
    "    ModIt = str(sys.argv[1])"
   ]
  },
  {
   "cell_type": "code",
   "execution_count": 70,
   "metadata": {
    "collapsed": true
   },
   "outputs": [],
   "source": [
    "###########\n",
    "#Standard output directory setup\n",
    "###########\n",
    "\n",
    "\n",
    "outputPath = \"results\" + \"/\" +  str(Model) + \"/\" + str(ModNum) + \"/\" + str(ModIt) + \"/\"\n",
    "imagePath = outputPath + 'images/'\n",
    "filePath = outputPath + 'files/'\n",
    "checkpointPath = outputPath + 'checkpoint/'\n",
    "dbPath = outputPath + 'gldbs/'\n",
    "outputFile = 'results_model' + Model + '_' + str(ModNum) + '_' + str(ModIt) + '.dat'\n",
    "\n",
    "if uw.rank()==0:\n",
    "    # make directories if they don't exist\n",
    "    if not os.path.isdir(outputPath):\n",
    "        os.makedirs(outputPath)\n",
    "    if not os.path.isdir(checkpointPath):\n",
    "        os.makedirs(checkpointPath)\n",
    "    if not os.path.isdir(imagePath):\n",
    "        os.makedirs(imagePath)\n",
    "    if not os.path.isdir(dbPath):\n",
    "        os.makedirs(dbPath)\n",
    "    if not os.path.isdir(filePath):\n",
    "        os.makedirs(filePath)\n",
    "        \n",
    "comm.Barrier() #Barrier here so no procs run the check in the next cell too early "
   ]
  },
  {
   "cell_type": "code",
   "execution_count": 71,
   "metadata": {
    "collapsed": false
   },
   "outputs": [
    {
     "name": "stdout",
     "output_type": "stream",
     "text": [
      "results/T/0/Base/checkpoint/ is empty\n"
     ]
    }
   ],
   "source": [
    "###########\n",
    "#Check if starting from checkpoint\n",
    "###########\n",
    "\n",
    "checkdirs = []\n",
    "for dirpath, dirnames, files in os.walk(checkpointPath):\n",
    "    if files:\n",
    "        print dirpath, 'has files'\n",
    "        checkpointLoad = True\n",
    "        checkdirs.append(dirpath)\n",
    "    if not files:\n",
    "        print dirpath, 'is empty'\n",
    "        checkpointLoad = False\n",
    "        "
   ]
  },
  {
   "cell_type": "code",
   "execution_count": 72,
   "metadata": {
    "collapsed": false
   },
   "outputs": [],
   "source": [
    "###########\n",
    "#Physical parameters\n",
    "###########\n",
    "\n",
    "#dimensional parameter dictionary\n",
    "dp = edict({'LS':660.*1e3,\n",
    "           'rho':3300,\n",
    "           'g':9.81, \n",
    "           'eta0':1e20,\n",
    "           'k':10**-6,\n",
    "           'a':3e-5, \n",
    "           'deltaT':1400,\n",
    "           'TS':273.,\n",
    "           'TB':1673.,\n",
    "           'cohesion':5e6,\n",
    "           'fc':0.03,\n",
    "           'E':1e5, \n",
    "           'StALS': 27.*1e3, \n",
    "           'G':8e10})\n",
    "\n",
    "#scale_factors\n",
    "\n",
    "sf = edict({'stress':dp.LS**2/(dp.k*dp.eta0),\n",
    "           'lith_grad':dp.rho*dp.g*(dp.LS)**3/(dp.eta0*dp.k) })\n",
    "\n",
    "#dimensionless parameters\n",
    "\n",
    "ndp = edict({'RA':(dp.g*dp.rho*dp.a*dp.deltaT *(dp.LS)**3)/(dp.k*dp.eta0),\n",
    "           'cohesion':dp.cohesion*sf.stress,\n",
    "            'fcd':dp.fc*sf.lith_grad,\n",
    "            'TS':0.,\n",
    "            'TB':1.,\n",
    "            'low_visc':1e-4,\n",
    "            'StAeta0':0.01,\n",
    "            'up_visc':1e5,\n",
    "            'H':0.,\n",
    "            'G':dp.G*sf.stress})"
   ]
  },
  {
   "cell_type": "code",
   "execution_count": 73,
   "metadata": {
    "collapsed": false
   },
   "outputs": [],
   "source": [
    "origRA = ndp.RA \n",
    "ndp.RA  = 5e8\n",
    "ndp.cohesion = ndp.cohesion*(ndp.RA/origRA)\n"
   ]
  },
  {
   "cell_type": "code",
   "execution_count": 74,
   "metadata": {
    "collapsed": true
   },
   "outputs": [],
   "source": [
    "ETAREF = dp.rho*dp.g*dp.a*dp.deltaT*((dp.LS)**3)/(ndp.RA*dp.k) #equivalent dimensional reference viscosity\n",
    "#RC = (3300.*dp.g*(dp.LS)**3)/(ETAREF *dp.k) #Composisitional Rayleigh number for rock-air buoyancy force\n",
    "RCA = (1650.*dp.g*(dp.LS)**3)/(ETAREF *dp.k) #Composisitional Rayleigh number for rock-air buoyancy force\n",
    "COMP_RA_FACT_AIR = RCA/ndp.RA\n",
    "#RCC = (100.*dp.g*(dp.LS)**3)/(ETAREF *dp.k) #Composisitional Rayleigh number for crust\n",
    "#COMP_RA_FACT_CRUST = RCC/ndp.RA\n",
    "#RCE = -1*(200.*dp.g*(dp.LS)**3)/(ETAREF *dp.k) #Composisitional Rayleigh number for eclogite \n",
    "#COMP_RA_FACT_ECL = RCE/ndp.RA\n",
    "ndp[\"StA_RA\"] = ndp.RA*COMP_RA_FACT_AIR"
   ]
  },
  {
   "cell_type": "code",
   "execution_count": 75,
   "metadata": {
    "collapsed": false
   },
   "outputs": [],
   "source": [
    "#A few parameters defining lengths scales, affects materal transistions etc.\n",
    "MANTLETOCRUST = (20.*1e3)/dp.LS #Crust depth\n",
    "CRUSTTOMANTLE = (900.*1e3)/dp.LS \n",
    "LITHTOMANTLE = (900.*1e3)/dp.LS \n",
    "MANTLETOLITH = (200.*1e3)/dp.LS \n",
    "TOPOHEIGHT = (0.*1e3)/dp.LS  #rock-air topography limits\n",
    "CRUSTTOECL  = (100.*1e3)/dp.LS\n",
    "AVGTEMP = ndp.TB #Used to define lithosphere"
   ]
  },
  {
   "cell_type": "code",
   "execution_count": 76,
   "metadata": {
    "collapsed": true
   },
   "outputs": [],
   "source": [
    "###########\n",
    "#Boundary layer / slab paramaters\n",
    "###########\n",
    "\n",
    "modelage  = 75 \n",
    "subzone = -500.e3/dp.LS\n",
    "mor = (1500e3/dp.LS) - (200e3/dp.LS)\n",
    "#vel = 70e3\n",
    "vel = 1800e3/modelage \n",
    "agelimit = 70.\n",
    "thermallimit = 0.8\n",
    "\n",
    "#Slab perturbation paramaters\n",
    "Roc = 450.\n",
    "Crust = 35.\n",
    "theta = 89."
   ]
  },
  {
   "cell_type": "code",
   "execution_count": 77,
   "metadata": {
    "collapsed": false
   },
   "outputs": [
    {
     "data": {
      "text/plain": [
       "24000.0"
      ]
     },
     "execution_count": 77,
     "metadata": {},
     "output_type": "execute_result"
    }
   ],
   "source": [
    "vel"
   ]
  },
  {
   "cell_type": "code",
   "execution_count": 78,
   "metadata": {
    "collapsed": true
   },
   "outputs": [],
   "source": [
    "###########\n",
    "#Model setup parameters\n",
    "###########\n",
    "\n",
    "stickyAir = False\n",
    "\n",
    "MINX = -(1500/670.)\n",
    "MINY = 0.\n",
    "MAXX = 1500/670.\n",
    "\n",
    "#MAXY = 1.035\n",
    "MAXY = 1.\n",
    "\n",
    "if MINX == 0.:\n",
    "    squareModel = True\n",
    "else: \n",
    "    squareModel = False\n",
    "    \n",
    "    \n",
    "dim = 2          # number of spatial dimensions\n",
    "\n",
    "\n",
    "#MESH STUFF\n",
    "\n",
    "RES = 128\n",
    "\n",
    "\n",
    "Xres = int(RES*4)\n",
    "\n",
    "\n",
    "if stickyAir:\n",
    "    Yres = RES\n",
    "    MAXY = 1. + dp.StALS/dp.LS #150km\n",
    "    \n",
    "else:\n",
    "    Yres = RES\n",
    "    MAXY = 1.\n",
    "\n",
    "\n",
    "periodic = [False, False]\n",
    "elementType = \"Q1/dQ0\"\n",
    "#elementType =\"Q2/DPC1\"\n",
    "\n",
    "refineMesh = True\n",
    "\n",
    "#System/Solver stuff\n",
    "\n",
    "PIC_integration=True\n",
    "ppc = 25"
   ]
  },
  {
   "cell_type": "code",
   "execution_count": 79,
   "metadata": {
    "collapsed": true
   },
   "outputs": [],
   "source": [
    "###########\n",
    "#Model Runtime parameters\n",
    "###########\n",
    "\n",
    "swarm_update = 10\n",
    "swarm_repop = 25\n",
    "files_output = 1e6\n",
    "gldbs_output = 25\n",
    "images_output = 1e6\n",
    "checkpoint_every = 25\n",
    "metric_output = 25\n",
    "sticky_air_temp = 10\n",
    "\n",
    "comm.Barrier() #Barrier here so not procs run the check in the next cell too early \n",
    "\n",
    "assert metric_output <= checkpoint_every, 'Checkpointing should run less or as ofen as metric output'\n",
    "#assert (metric_output >= swarm_update), 'Swarm update is needed before checkpointing'\n",
    "#assert metric_output >= sticky_air_temp, 'Sticky air temp should be updated more frequently that metrics'"
   ]
  },
  {
   "cell_type": "code",
   "execution_count": 80,
   "metadata": {
    "collapsed": true
   },
   "outputs": [],
   "source": [
    "mesh = uw.mesh.FeMesh_Cartesian( elementType = elementType,\n",
    "                                 elementRes  = (Xres, Yres), \n",
    "                                 minCoord    = (MINX,MINY), \n",
    "                                 maxCoord=(MAXX,MAXY), periodic=periodic)\n",
    "\n",
    "\n",
    "\n",
    "velocityField       = uw.mesh.MeshVariable( mesh=mesh,         nodeDofCount=dim )\n",
    "pressureField       = uw.mesh.MeshVariable( mesh=mesh.subMesh, nodeDofCount=1 )\n",
    "temperatureField    = uw.mesh.MeshVariable( mesh=mesh,         nodeDofCount=1 )\n",
    "temperatureDotField = uw.mesh.MeshVariable( mesh=mesh,         nodeDofCount=1 )"
   ]
  },
  {
   "cell_type": "code",
   "execution_count": 81,
   "metadata": {
    "collapsed": true
   },
   "outputs": [],
   "source": [
    "# Initialise data.. Note that we are also setting boundary conditions here\n",
    "velocityField.data[:] = [0.,0.]\n",
    "pressureField.data[:] = 0.\n",
    "temperatureField.data[:] = 0.\n",
    "temperatureDotField.data[:] = 0."
   ]
  },
  {
   "cell_type": "code",
   "execution_count": 82,
   "metadata": {
    "collapsed": false
   },
   "outputs": [
    {
     "data": {
      "text/plain": [
       "0.0"
      ]
     },
     "execution_count": 82,
     "metadata": {},
     "output_type": "execute_result"
    }
   ],
   "source": [
    "ndp.TS"
   ]
  },
  {
   "cell_type": "code",
   "execution_count": 83,
   "metadata": {
    "collapsed": false
   },
   "outputs": [],
   "source": [
    "lith= boundary_layer2d.LithosphereTemps(mesh, temperatureField, dp.LS, MINX, mor, tint=ndp.TB, tsurf=ndp.TS, vel= 10e3, diffs = 1e-6)\n"
   ]
  },
  {
   "cell_type": "code",
   "execution_count": 84,
   "metadata": {
    "collapsed": true
   },
   "outputs": [],
   "source": [
    "coords = [(MINX, 1.), (subzone, 1.), (MINX, 0.)]\n",
    "Tri = fn.shape.Polygon(np.array(coords))"
   ]
  },
  {
   "cell_type": "code",
   "execution_count": 85,
   "metadata": {
    "collapsed": false
   },
   "outputs": [],
   "source": [
    "for index, coord in enumerate(mesh.data):\n",
    "    xloc = coord[0]\n",
    "    agema = lith.agefunc(xloc)\n",
    "    if coord[1] >= 1.:\n",
    "            temperatureField.data[index] = lith.tsurf\n",
    "    else:\n",
    "        zloc = ((1.- coord[1])* dp.LS) # dimensional depth kms\n",
    "        t = lith.tempfunc(agema, zloc)\n",
    "        temperatureField.data[index] = t \n",
    "    if coord[1] <= 1. and coord[0] > mor: #Get rid of lithosphere to the right of the ridge\n",
    "        temperatureField.data[index] = lith.tint\n",
    "    if Tri.evaluate(tuple(coord)):\n",
    "        temperatureField.data[index] = lith.tint"
   ]
  },
  {
   "cell_type": "code",
   "execution_count": 86,
   "metadata": {
    "collapsed": false
   },
   "outputs": [
    {
     "data": {
      "text/html": [
       "<img src='data:image/png;base64,iVBORw0KGgoAAAANSUhEUgAAAoAAAAHgCAIAAAC6s0uzAAAfRElEQVR42u3d227kSJof8AhmSqXunu0eu9vwxcADGMYAfjK/iC8MrC987Yt9p32AATweGzB6sO45VXeVSpn57YUOyUMEGUylSlLp98NgoM4ig4fM5J9fMMjMEZEAgM+rswsAQAADgAAGAAQwAAhgAEAAA4AABgAEMAAIYABAAAOAAAYAAQwACGAAEMAAgAAGAAEMAAhgABDAAIAABgABDAACGAAQwAAggAEAAQwAAhgAEMAAIIABAAEMAAIYAAQwACCAAUAAAwACGAAEMAAggAFAAAMAAhgABDAACGAAQAADgAAGAAQwAAhgAEAAA4AABgAEMAAIYAAQwACAAAYAAQwACGAAEMAAgAAGAAEMAAhgABDAACCAAQABDAACGAAQwAAggAEAAQwAAhgAEMAAIIABQAADAAIYAAQwACCAAUAAAwACGAAEMAAggAFAAAOAAAYABDAACGAAQAADgAAGAAQwAAhgAEAAA4AABgABDAAIYAAQwACAAAYAAQwACGAAEMAAgAAGAAEMAAhgABDAACCAAQABDAACGAAQwAAggAEAAQwAAhgAEMAAIIABQAADAAIYAAQwACCAAUAAAwACGAAEMAAggAFAAAOAAAYABDAACGAAQAADgAAGAAQwAAhgAEAAA4AABgABDAAIYAAQwACAAAYAAQwACGAAEMAAgAAGAAEMAAIYABDAACCAAQABDAACGAAQwAAggAEAAQwAAhgABDAAIIABQAADAAIYAAQwACCAAUAAAwACGAAEMAAIYABAAAOAAAYABDAACGAAQAADgAAGAAQwAAhgABDAAIAABgABDAAIYAAQwACAAAYAAQwACGAAEMAAIIABAAEMAAIYABDAACCAAQABDAACGAAQwAAggAGA7WdYRs75v/y3f7KvafGn7b/9/eVvD1/OqWE847LzZ5qHp3mz8rN9fnJ+inbilP0w3AmXsfuPH/7vf7r+P7/b/e/f3fzxd7s//vv9/3+SXfCP/+sLCeCU0v/86b/6gjG1y+Og/fPm17+//A+/v/jt7y9/e/vHp3zxLCGRzzZRvIRd/cLCONYtJ3+ufZIf+w7W23zaRvL6nZZb2szFJqO2iFGboxbycEOO/5Kj316+/4+cUkpxP1fklC5i92+ufv7uwy/ffLx+92G3ORzSXgUMp/plu/1lc/HzZvvL5uKm6/7Wfff/tt/+y+bqw7bbbA+XF7u5s/EnS4h85hninMvN592ieL7ke9Si1+yrNXmfTyxPWyIwT7e6ZXFtyyq9GIt1bS6tTy40Hv1/yCkKU+bIpblyHqx2ztHL2kgR+W41IkfKKe5fvHv94cUccRG7H3Z//e7m56+6T9u8f+1HPwHMc/q4+eqPV7/5w9e/+cPXv/nb9uqXzcVN7iLy4ZD30d1s82azv8jd+oNvPCZLnqZYjLM0u76ReFQjeWEPn+WMIbecDeTWxeWldW5vqr7rYsUblMvRW1jPHEutRX8FcilERzvz/gwkcn9lIkYnBHnQYOS7D06MZnl4Jad4mCD3Z7ld0G3EHiL31vkhRHsvRk6pi17i3mZtHLrbliO6dMgROUUXh5zS9rD7d59++nb//ipdX+Td5pVnsADmOcXDMSnSTxff/+Hr37zffpNSikiHyHHIXeTLtHt0WMbaeR4ZlvmEaviEmGydpbz5+bGbdt4NWU70nKJ9e/PsPs8LpxT3LeTqtuZhXual861CAE/7aYcxeTf98AwqD9fzuLbHTI1+mh8z8jZBozdXDP71vsG7oB3Ofjfx3TT3jTzUr4Pi9fh3Ohay8ZC+xxg+vjL4/8PD311EToeHSM4R29h/d/P+15/ef/fp79/c/LI9CGBojtv9sJw95NTlyHf/6x37ctrkWDcS61HFYrmgOa3/Nc/OeWKAxeJk0bDaD+XLin2Sl/ZInq8RW6vYqGVVLjcTw20qzhK9CaK6hjF+ZZDB4/3Q+8+ISe0aefiveXxC0F/ocIIYL7QXlscSsx/tw+AcRGNvlmMBOgrgfnAO5j32CT8k8SBuH6rh+zbvc3fYXTwI4+jF8EPKDqO3uw/gNJjmcF8HH3KKTez/Yffx1zfv/+Hm/dX+wzZ2Ahiagy6nm9ztcr7pul3u3m+vfrp89/7y4vqyi8u4uNxfblef0p4y0nJ1tEY6qd97kp0tHdFRLqcWyvjTlr5yWf2QiPmCL9JSy6dNk3uxOl30IPBi9N5N8rW4CdHP0ahM0K9Eo7LoXhDGaFXHaXpbYo6bjTTqwh1OM+gozr06eNAzHKMkfkjclI+x+nDldfTHffRGpF4hm46v3HUdp145exef/dbGkTz4467GPU5zyMfC9/Y/DzkdbqvhTex/tbv+end9tb/exqcXMsJRAPMK7PPmT1c//Hj1/Y9XP/zp6vub3N10m0/dxafNxU13eRmfLtOnq9g2lWKFf1+RkcPIbqkd59pvuYSZJ4vL841HzNZ/pWVFteu1uqz6rluxwjHNocrSJ5cea+uTKxubeycBqXIR9NiR20vr6hJ7sTp5ZZiX4w7hmC59dG212k49WXvXU2vVcEz+HiXuMIPvAzL1QrEf2PeLiMnsDwvq9U4/lMv90vk4ZqpXGfd6m3uRHJNIPkwK4tErd53Pt39v4vDVfvduv9se9jmii4MAhsbyN+/y9uPm6uft1++33/x49f3fLn51l83d5lN3kVP66vBxfKkslmvNaXdsrmZhPdgi2pN1Mro2WmcpHMob6shoWaW50rCtmhxPk0upVm0tyjshV9+XKCR3qZFc6kkudCxHjAN70tr9K1Htdo5yrM5m6lwVO65Ze408TNZL3PH/p8L13UJd28vv4aXZh3yNYdBOu697c6XhFdx0vLjbj+c4dk2Py9+U+ld80+EYvccXo3+FuDuWvL1rw3eF7+0EcZu47w6Hy8P+IvYXsctJAEPFx83mpnfRd583kWIT+y7ikLubzeXH7VX/YPpuf12qV2Zq06iHdOmWj0ItNTd9IUiipRiNSUgvVYf1fM1za97SbLRMMNqW2uwzl1rL3dSpdNly0EKUpiktojikqJz0xy7fcZVc7D0e7ISF/uTBhdsY9WxHqed5GtUxTeg0TOjemcq4ei5G9SiGh///0OY0XMvp2+9SHjVy7Hnuj2cevNjvdu5d9B30OffK4ujfaHQbtKmfxN39BHcBnGJ7iMvD/t3hsD0cutfdAy2Aedo+5+31ZvOx237YbD5uttfd5i+X3/7l8pu/XF5cd6k73Hy9+1AOyJiL3lKVFvOzpKZZFiJ/sV5sW7eFYro6XHbNcocH95XNRuEC5+Lm5Ia1LQXPoMatLXdu3Za7jot9DDEprydV5qTZUSN5sZFxB2+52UJH91y4xnQg1ahjeTA6etiZ/PDKQ2fytPN5eJW3N2MUOpl7U/aL5v5grpTHfwwSd+mf7jP4Pp63h8NFHLYR22PvugCGiZ+33/zp3Q8/Xv3w49X3//Lu19fdpn8t7evdh97TyGNpKFX5Aufoumn9imm1U7RWI65tdrL+o7mGY4WiYYuimCKF9Z9ZmVzYxiisUqFOTaNhR7MrHClqpyAPveizoT6tL1N5hPMwqKpV8kyIVq4HR6rm92iawqCqSiPTHB2dQMTseU/0PifFZL0Lv+n9SJP6ePjisNidpG8Ux1cfx2T1rx8Pb0+6S9PRnUuRRk/VSOOsnfljmNARmxSbuB0y/eoJYJ5QF7GN/eXh5t3h0zYOf91+O7po+tXu41L8zFeo06vFS33I1V7l+lCvcsg13gwTM7Pk1es2W/iWr3wXGp/2nOf6gvKkW6K+mTF8XFLMxnBK1Qu6hQurowlKO2Qa3vW6s3xCMIm6KIVrdXjzJKeHITpqNqd6uI5vYYrqLNPStjwiepDxo8vAk4gdDRN7CNHBZebcHzhWyNrUu3+pv6Bh9E4K5Yc2e73Tg8V1Ed3t4ztefwYLYM7Y4Zx3uTv0bvHZ57SJ/TZ2F4fdu/2nYdyOyqbpIbs2zQmzxMxc1bpt7raf0difNblbD8vJK1G/22dmcTEZ3hVzxfr4lahcg496qC+ONO6fUlQnKF2ojumZTXlNKmmaSkOZpv0BOdUyMoonELnYXz1M62nH8kOOTrqpi73f/SdgpNJjrab3Gk0HcD3kVq/nPKL/yOXhvcKDm48fzgMe7iE+TjYcm927YWkS54PSebwCDxuYj1P2F3dcgTyYLLr7q8ICGFJK6ZfNVzfdZpe7m67b3YVx99ftxS9dt0+HzeHmanfd8pSiQkIsdwKXb+NpGdO0ppG0MN6q+MpZGhnH6szmxHwSL/QKNORooRc3is3GqsAeD9SKYnk622zUnqERMxtY6aYuLDcPGpkOm1potvDcxxhVruNe/fEIrMmZZS9fU/3GpMI0g//s9ccMX+k9tHmQmtUFDaaJafk7WvQggKcrPJzmuAJdr54WwHDn/fZXf7789s8X3/50+d3P269i0B29f7f/mFqqw0LWVmaJaqrltsJ3Ui63rNtizb3UVT7T7GIX7nTQclQ3MDf1Ay/sqMXe48V1q09TfMxFrWe40Csw1yk97cVdmKClkXFrk9QvDeAavkHTW6om46tTnt4PPRiJPX4lTUaGj0rYNF3E5GFbhdDt9y2X2iw3Mi2yB1X1oPCd7q7Frcu9gBfAcPx6d7HfxG4TN9v4dEhfjerWi7hOqXqdcr57ttJ3OtN/m2pPnJjvjE3LA6Oa6tfZa43VPufqJrdeBy3MMntD8DRyZvqca6OriuVp4zRRLZ2jfFV4EsMxVyiXR1YvT1O8CF2aoPLoq+MnefB5mPzawWhZg/6eyTDpcWL1Ghm8UorzmF1KVNJ30lldara2nsW+7tFJxvScYJT0o3UeVsYqYN6qSClyjt7R9JBSSocudpvYbQ83F3EdkRfuxK0GT+NV0jXZOazJljO7tZFxopTbj/nLqGn2mmvvlUKsxuLa5vl1m8Ztubu7XukWjpi1W56WKuDqeKXyBvZvpc31U6scxfFlUSofpxncfxPHq1GJnxjGYSrcUT3uGZ7eWDV+JdcfAVa61jssfKNp3aYT51S412v0YJPRtk8eLlaI89rKp8pJSfF1g7B4o2667fvtu0j5cJ/Eh9wd8n0Mp932cB05z/X9plTMhknwFLtJYxIQsTTL7CvR0oXb0OxwyOtsutcv/cbSJk/HDUWaWWhxlsqF29lZltatGIdztz+Nm03zo7FS9Vldlc7e0ZRRrm7zfFdBlPM4lxspjyEfX74tpNFki2K+kSisTEx+2b5YQMdkE+rrlgsnMQuleb/nqWW7ZhI3zT2NVQXMmy6C89+3V3+/+Orv26v326ubvIncHVIXuYvUbeOm0vG7POQ4NT5ool6YpvanVYyXHI9vZDI485TNKUXdQhf69AEXKTU0sjzQemHdcrEAjbT0o0YxDciZB15Oj/upODY+plVymmmk0mzMhHc9b1Y0MheQ82tbKDobml1c0LTZiEIM1z/qi4V+8/el/mTyLyuDBTAnp2+KlG8T95A2+7yJ3KWUunRIcUgpRXQNBVmauRs1tRSLxYRrefpjfd2mj2lMxV8FmC3u6w+DXLU5hSSr1NPl5abS1dxqsVvpWq8/WCrlyl3U9ec/z1SxKZc7EuaO+3mmkyDS/DSVsU7zO6FySXUhIIuNpGp0xXSI1lyz1XQvbF3UVqN4V3qu/ChInj3jqfwc8vxH4ostcwUw55dTyunQxX4TN5vYbmLb//3e5vHDk29szAXb0u8BxGTWph/gK8fh6Y1EcSuaO8ZHD/eIyv4vHcLKj6yKUq9gy4r1j5ip9ntQ06uJ1bqz+l7XarJqHKbZTs6lOKynbMys/OjSaT2Zpj/nMMyzmXCa+0GLypbmpXdqvv3cspNLz0KvnmHE4vertcwVwJBSSvvcvd9efuwuRt+rLu27dNik3SZu+qGwfExvrInHeXZKqqVhI/n0RmqXppqe0dhQBZZqvqaLYYVYWnwjphdNF46M0XIwjdphutqLMBvD0ylrXREzPyTcsm7lyJztEk/DYUrzm1wqx6PSnTA/TSye39Sr/zTpWWl/vk1tAxt/zXNugvxWj6sCmEaRU+xz/nl7+X777v328qbbDL9Cu230v7ktd/gsTrB8H1FKqb08rQ3kSe1368ZSShVP+ePxCdoQfqeuW16YK86x/oWriaecEsXiTzMVms2VdZs972n6Dah1tXhTvV7+WE67fFsK+sqZVtOi08xvU66ZS9wKYM4Swam773PeHvJh8kucbd3O04cnp4aLvgsP4mg49a5fc4rZqqsW9tFSB6eWWZbmWmq2Mkta6OIrbM7S/VfTzYlVS8nRuiardmzlly0Ka7v4PLX50UOFz0mc0MjiTlt49FvlsmvDmWis+UhUDgKLPwstbgUwj7XL3S7nXdftc04pHVL+1HU3OaW030TepLyNQ6rGZ/WLlye3D605BFTLncURtuW1iqYD/dLsiwM45zd5af2bN3ApGNLi0JiWzXn8uk1+vHl6z261wZarp9XVjjWbNlmT+Vq/ZfDzQuHe3J+RSoO2Gr6DTSeIS4+JTeu+Iwhg1te66VPXfdhsr7tul7td1+3T3R29t895zhGbtB8flaKxGK2naWq9LrUmWVs6ZkuR0HRQK9xPnJ94k2fuVV0ujkeZF23nDZO8adquU+/pnJ8rr6vwlkI3Wi5hzN17U1nDqJ9MLH08IjX+qmY6afDwY8YbC1cBzJN7+EXPyPl6s/mw2V53m9HjcrbFfs5Y/Io2dajmaDrW1BuJ4rFvKYZrD+RafUw/rfhIczc71U8UWrO8sianrm1e+7Y29ZqOFrQ85qv9/OCE/b/waVm+NJ4aRpyVS9taAd06S8s3Zem+eZEsgHnWGI60idjEYXt/qG/rx1ssseOkG+1jKRqnjSwdU2JlP221rFl9JeyEHtGWTU7ra76mbuf17/spG3jSrl58g55oA1N9GPNy30N9lpRO2eS03OzqRsStAOZziJQOOR9SOuS7b+5NzvuUU4ouYnuI/pCr+YN+45n+fHU720i0Hx3qt8amlY1EWw09u1uipRCP+TKlvRdh2MgJD/Y7YSx3ahhR1fqGnmXw2spMXRyYtv7zHE2zrL4jNtb3jghXAczLdNN1193mutvsc37I4N43OTbVsbixmD6LPaKnHXzXHVujKYAf2UhuObwuHZFzQ121eD5xQoWXl84hWiq8VT2oLYE620jz+PCIk9731g/n4qatO/NrGtu/rs9Z4gpgXq6Hn9jc53y92XzqNqPHH27ikBav2BX/NVYPpGwfwDzbYMtVyTXlePOaNNY0Cyciy+VX000j7dXnmrOEaPowLNxp1nYqEI/rujgpdZ5uHFM+0zQIYL68DI4upS6ii5h2XZ5+YIpYPUvLJdVoqj6X1m1urtYhu7Fu0U21ZsMG5vPspdU7qvUNevQnofVtbdrGx+66pr6KE753T3OxVq4LYF6u+4dW3R1nDpEjUo7URWwOsUmHlbf6la/8rTwExBPVmkuF2ufona7tt0eXsCmdMiq7aecvvRdxQj23MI5p3Z1sK3bjSaXnU+RrrP9eCFcBzBdkn/NN193kbtd1cX/Qi7vjRXT57opvexVYLhxjxSFjRUdlPL7WLDa74si43Dcb7XOt6WKN1gxet/mPHqe26gOwMl9PeKDK43byWYvXJ0pKiSuAed0lcM4pRdp13U3uRhVEt2acbb8KfMwxLj9ts3FabZTnM+aUijlO2IrTi79T+x5O7E54skbSE982I9IQwHwmd79uliNH5Bw58gnBUK2EVjyiuXGCdU9+XlGlzdYwpzeyXLintRebF2vili6BE3ZUan0WRMuCYv3mrF7bcyVrS+/xU6S4U4G3s08E8Fv+TEeOfNvhHGturm2YIBarzBN+PmFt8ZpOe07F8oE4nXZ1sGFBZ+jAPO3tWL+gOGm/naPZM0Tp6hQXrghgThEp7XO3z/n2fw8vRs5xG8P9o96p1+1Sw6W7lTdQVg+RK47RUW3nzB2nEWfab8uRsDQw7dxvVn3VzrKgx6dUQ75+puJV4iKAKRygIqVDypHyPucYXo3s6oVX23PyHpuXKxe9otnHF53pbNcR40xnIYuzrD8ViBOWe8534VUUr8L1sx6zBDCvt+QdHOfzw2f69laj2z7I4zGrO0uSNR8Q8+nfw3hMg881zOezPaXopY1Rkk8ggN9gAN/VuPFQ+949YDKn8a95n+Oi48oOwLONiX2am0BaLhsXZokzbNFkllg/SzrhJ21OXNBTlbPrdr4CFwHMSwrgnPYpH3Le53xIuX98vX3WVdSK5crh7/zVTzxNs22jh8ZnK09ydD7H8xZOXLd4lmr1pHBNZ3mmsXB97d7s2yGAv+QPdJ5UN5Hubqs9/ZdSIs71pVr/rTvL87ZOmOv0q6qPW7fTL6I/8oj2ukpVR3MEMM9X8s5lcNw+cmP+2PSSr1M+43LzZ1zDc80ufkAA8/nSNwYxfHfd9+7RFZFv43fxUfhPGWzrnupw1piJM2xgnOFt+mzXWZ+muk3PNdLYGcaXxzsogL+sDM75kPLtYKsYHC9zl1JEPOKb0NCvGJ/pS5jPkYQ5zrKq51iTZ0vTl9JX7NCMAOa1V8D5Pp3ybRj3DrLLF00/y9PhH3X70GRTz7uqce6NfXFp+nJCTr6qdxHAX1wE38Zvjl5C5Uc+B+OM36IX9QswDgeAAObEsI3aswgjpVx+tFN+1AKfIALjTO281HIwx7ne7VdzPuHMBp8EAfw2YjjfJfGwozmn2UcSPt9FxyfJzi8vTV/ygcxRFQQwx0dYxXhUUiw+QD8/1epI01ccYMIVHx4BTNvx/nZ8c36im3nitXwnnytKpSkggN9E7sbMD7oDIIB5smomIuVDHg+/ysvlzqupZZOeYdUtPoECmJdZCeeU1wbMc97uKU0dyxC3COBXmbcv5svgOqsjFyCA30r0utYLIIB5rgIqPz6J81Ml+RfeM6yc5Y0edewCAYw0ddABH34BzPN8KyLO8ztF0hRAAFON0FCYSlPwhRLAPG8YAyCA+RznpNH/4cA3c67qZBx8xRDAvi2+6uAAggD+0oVvMgACWBIDIIBRywK+3QIY3zfA1x8B/KqFbxQgbhHAAOKWl6CzCwBABfzqGd4MqHdRAQOAChhAyQsqYABQAb9WrvgC6l0EMIC4RQADiFsQwGehwxkkLpyLQVgAoAIGUO8igAHELQjgZ+CiL4hbeCKuAQOAChhAvYsABpC4IIABxC1fDteAAUAF/KyMeQb1LghgQNyCAAaQuCCAz0KHM4hbeEYGYQGAChhQ74IABhCuIIAfxRVfkLjworgGDAAqYEC9CwIYELeAAF7HRV8QtyCAAYkLDBiEBQAq4FPpcEZ1CwhgQNwCAhjELfDyuAYMACpgUPICAvjFMuQK4QoIYEDcAgIYJC7wGhiEBQAq4BJXfFHdAgIYxC3AlxjA6l3ELfAWuAYMACpgUOACAhjELYAARr4CCODzMeoKcQu8QQZhAcCbrIBBvQsIYBCuAF9iALviK3EBSK4BA8CbqIBR3QIggBG3AAIY+Qrwdo7AEcZFAcDnZhAWAAhgABDAAIAABgABDAAIYAAQwACAAAYAAQwACGAAEMAAIIABAAEMAAIYABDAACCAAQABDAACGAAQwAAggAFAAAMAAhgABDAAIIABQAADAAIYAAQwACCAAUAAA4AABgAEMAAIYABAAAOAAAYABDAACGAAQAADgAAGAAEMAAhgABDAAIAABgABDAAIYAAQwACAAAYAAQwAAhgAEMAAIIABAAEMAAIYABDAACCAAQABDAACGAAEMAAggAFAAAMAAhgABDAAIIABQAADAAIYAAQwAAhgAEAAA4AABgAEMAAIYABAAAOAAAYABDAACGAAEMAAgAAGAAEMAAhgABDAAIAABgABDAAIYAAQwAAggO0CABDAACCAAQABDAACGAAQwAAggAEAAQwAAhgAEMAAIIABQAADAAIYAAQwACCAAUAAAwACGAAEMAAggAFAAAOAAAYABDAACGAAQAADgAAGAAQwAAhgAEAAA4AABgABDAAIYAAQwACAAAYAAQwACGAAEMAAgAAGAAEMAAIYABDAACCAAQABDAACGAAQwAAggAEAAQwAAhgABDAAIIABQAADAAIYAAQwACCAAUAAAwACGAAEMAAIYABAAAOAAAYABDAACGAAQAADwCuwfdVrn3P2FgK8TREhgJ/Tf/4f/5xSyjmlFPd/3GZz3P9x907llNLxXyfTp7j91/vJKtPfv1ie/vivKeX69CmlXJ8+pZRTTnH/R2X6FL1/nUyf4nhykuvT9/fPdPr5/dnfdZHy3R6IHA97I3JKKSKnu8XliNT7ezRN6rVwN819y7d/F1u+/XvU8t30pZbvph+2/OrXv/evg1du38fplMPXB2tVev1hW8ZTTl4/bkXl9el6vv71Tw/v2vE/797K3rf1OGUazdt704/T33/hGhuM3rwtDcZwZXpHsFKDk607Nng84Mxt3WKDo61bbDBSSt1//8Nrzy9d0AAggAFAAAMAAhgABDAAIIABQAADAAIYAF6e/KqfJOJJWABvlidheQMAUICtpgsaAAQwAAhgAOCJZNdQAUAFvPL0IWcDoQHeaAX5yo//3ave9RERETIYQPoKYAB4cl/A9VMBDAACGAAEMADwRF7xoygfhl+5kwqAV8d9wADwDHRBA4AABgABDAAIYAAQwACAAAaA1+VfARoaQRxzOrsoAAAAAElFTkSuQmCC'>"
      ],
      "text/plain": [
       "<IPython.core.display.HTML object>"
      ]
     },
     "execution_count": 86,
     "metadata": {},
     "output_type": "execute_result"
    }
   ],
   "source": [
    "figTemp = glucifer.Figure()\n",
    "figTemp.append( glucifer.objects.Surface(mesh, temperatureField))\n",
    "\n",
    "#figTemp.save_database('test.gldb')\n",
    "figTemp.show()"
   ]
  },
  {
   "cell_type": "code",
   "execution_count": 87,
   "metadata": {
    "collapsed": true
   },
   "outputs": [],
   "source": [
    "# send boundary condition information to underworld\n",
    "IWalls = mesh.specialSets[\"MinI_VertexSet\"] + mesh.specialSets[\"MaxI_VertexSet\"]\n",
    "JWalls = mesh.specialSets[\"MinJ_VertexSet\"] + mesh.specialSets[\"MaxJ_VertexSet\"]\n",
    "TWalls = mesh.specialSets[\"MaxJ_VertexSet\"]\n",
    "BWalls = mesh.specialSets[\"MinJ_VertexSet\"]"
   ]
  },
  {
   "cell_type": "code",
   "execution_count": null,
   "metadata": {
    "collapsed": false
   },
   "outputs": [],
   "source": []
  },
  {
   "cell_type": "code",
   "execution_count": 88,
   "metadata": {
    "collapsed": false
   },
   "outputs": [],
   "source": [
    "#Set Dirichlet Temp conditions\n",
    "\n",
    "for index in mesh.specialSets[\"MinJ_VertexSet\"]:\n",
    "    temperatureField.data[index] = lith.tint\n",
    "for index in mesh.specialSets[\"MaxJ_VertexSet\"]:\n",
    "    temperatureField.data[index] = lith.tsurf\n",
    "\n",
    "\n",
    "# Now setup the dirichlet boundary condition\n",
    "# Note that through this object, we are flagging to the system \n",
    "# that these nodes are to be considered as boundary conditions. \n",
    "# Also note that we provide a tuple of sets.. One for the Vx, one for Vy.\n",
    "freeslipBC = uw.conditions.DirichletCondition(     variable=velocityField, \n",
    "                                              indexSetsPerDof=(IWalls, JWalls) )\n",
    "\n",
    "# also set dirichlet for temp field\n",
    "dirichTempBC = uw.conditions.DirichletCondition(     variable=temperatureField, \n",
    "                                              indexSetsPerDof=(JWalls,) )"
   ]
  },
  {
   "cell_type": "markdown",
   "metadata": {},
   "source": [
    "# Particles"
   ]
  },
  {
   "cell_type": "code",
   "execution_count": 89,
   "metadata": {
    "collapsed": true
   },
   "outputs": [],
   "source": [
    "###########\n",
    "#Material Swarm and variables\n",
    "###########\n",
    "\n",
    "gSwarm = uw.swarm.Swarm(mesh=mesh)\n",
    "materialVariable = gSwarm.add_variable( dataType=\"int\", count=1 )"
   ]
  },
  {
   "cell_type": "code",
   "execution_count": 90,
   "metadata": {
    "collapsed": false
   },
   "outputs": [],
   "source": [
    "mantleIndex = 0\n",
    "lithosphereIndex = 1\n",
    "eclIndex = 2\n",
    "crustIndex = 3\n",
    "airIndex = 4\n",
    "tempIndex = 5\n",
    "\n",
    "\n",
    "\n",
    "\n",
    "if checkpointLoad:\n",
    "    checkpointLoadDir = natsort.natsorted(checkdirs)[-1]\n",
    "    temperatureField.load(os.path.join(checkpointLoadDir, \"temperatureField\" + \".hdf5\"))\n",
    "    pressureField.load(os.path.join(checkpointLoadDir, \"pressureField\" + \".hdf5\"))\n",
    "    velocityField.load(os.path.join(checkpointLoadDir, \"velocityField\" + \".hdf5\"))\n",
    "    gSwarm.load(os.path.join(checkpointLoadDir, \"swarm\" + \".h5\"))\n",
    "    for ix in range(len(varlist)):\n",
    "        varb = varlist[ix]\n",
    "        varb.load(os.path.join(checkpointLoadDir,varnames[ix] + \".h5\"))\n",
    "\n",
    "else:\n",
    "\n",
    "    # Layouts are used to populate the swarm across the whole domain\n",
    "    # Create the layout object\n",
    "    layout = uw.swarm.layouts.PerCellRandomLayout(swarm=gSwarm, particlesPerCell=ppc)\n",
    "    # Now use it to populate.\n",
    "    gSwarm.populate_using_layout( layout=layout )\n",
    "\n",
    "    # Lets initialise the 'materialVariable' data to represent different materials\n",
    "    # Set the material to heavy everywhere via the numpy array\n",
    "    materialVariable.data[:] = mantleIndex\n",
    "    \n",
    "    \n",
    "    #Set initial air and crust materials (allow the graph to take care of lithsophere)\n",
    "    #########\n",
    "    #This initial material setup will be model dependent\n",
    "    #########\n",
    "    for particleID in range(gSwarm.particleCoordinates.data.shape[0]):\n",
    "        if (1. - gSwarm.particleCoordinates.data[particleID][1]) < 0:\n",
    "                 materialVariable.data[particleID] = airIndex\n",
    "        elif (1. - gSwarm.particleCoordinates.data[particleID][1]) < MANTLETOCRUST:\n",
    "                 materialVariable.data[particleID] = crustIndex\n"
   ]
  },
  {
   "cell_type": "markdown",
   "metadata": {},
   "source": [
    "# Material Graphs"
   ]
  },
  {
   "cell_type": "code",
   "execution_count": 91,
   "metadata": {
    "collapsed": true
   },
   "outputs": [],
   "source": [
    "##############\n",
    "#Important: This is a quick fix for a bug that arises in parallel runs\n",
    "##############\n",
    "material_list = [0,1,2,3,4,5]\n"
   ]
  },
  {
   "cell_type": "code",
   "execution_count": 92,
   "metadata": {
    "collapsed": true
   },
   "outputs": [],
   "source": [
    "#All depth conditions are given as (km/D) where D is the length scale,\n",
    "#note that 'model depths' are used, e.g. 1-z, where z is the vertical Underworld coordinate\n",
    "#All temp conditions are in dimensionless temp. [0. - 1.]\n",
    "\n",
    "#######Graph object\n",
    "DG = nx.DiGraph(field=\"Depth\")\n",
    "\n",
    "#######Nodes\n",
    "#Note that the order of materials, deepest to shallowest is important\n",
    "DG.add_node(0, mat='mantle')\n",
    "DG.add_node(1, mat='lithosphere')\n",
    "DG.add_node(2, mat='ecl')\n",
    "DG.add_node(3, mat='crust')\n",
    "DG.add_node(4, mat='air')\n",
    "DG.add_node(5, mat='temp')\n",
    "\n",
    "\n",
    "labels=dict((n,d['mat']) for n,d in DG.nodes(data=True))\n",
    "pos=nx.spring_layout(DG)\n",
    "\n",
    "\n",
    "#######Edges\n",
    "#anything to air\n",
    "DG.add_edges_from([(0,4),(1,4), (3,4)])\n",
    "DG[0][4]['depthcondition'] = -1*TOPOHEIGHT\n",
    "DG[1][4]['depthcondition'] = -1*TOPOHEIGHT\n",
    "DG[3][4]['depthcondition'] = -1*TOPOHEIGHT\n",
    "\n",
    "\n",
    "#Anything to mantle\n",
    "DG.add_edges_from([(3,0), (1,0), (2,0), (5,0)])\n",
    "DG[3][0]['depthcondition'] = CRUSTTOMANTLE #Normal crust\n",
    "DG[1][0]['depthcondition'] = LITHTOMANTLE #This means we're going to kill lithosphere at the 660.\n",
    "DG[2][0]['depthcondition'] = CRUSTTOMANTLE #Eclogite crust\n",
    "DG[5][0]['depthcondition'] = CRUSTTOMANTLE #Normal crust\n",
    "\n",
    "#Anything to lithsphere\n",
    "DG.add_edges_from([(0,1),(4,1)])\n",
    "DG[0][1]['depthcondition'] = MANTLETOLITH\n",
    "DG[0][1]['avgtempcondition'] = 0.75*AVGTEMP #definition of thermal lithosphere\n",
    "\n",
    "\n",
    "#Anything to crust\n",
    "DG.add_edges_from([(0,3), (1,3), (4,3)])\n",
    "DG[0][3]['depthcondition'] = MANTLETOCRUST\n",
    "DG[1][3]['depthcondition'] = MANTLETOCRUST\n",
    "DG[4][3]['depthcondition'] = TOPOHEIGHT\n",
    "\n",
    "#crust to eclogite\n",
    "DG.add_edges_from([(3,2)])\n",
    "DG[3][2]['depthcondition'] =CRUSTTOECL"
   ]
  },
  {
   "cell_type": "code",
   "execution_count": 93,
   "metadata": {
    "collapsed": false
   },
   "outputs": [],
   "source": [
    "remove_nodes = []\n",
    "for node in DG.nodes():\n",
    "    if not node in material_list:\n",
    "        remove_nodes.append(node)\n",
    "        \n",
    "for rmnode in remove_nodes:\n",
    "    DG.remove_node(rmnode)"
   ]
  },
  {
   "cell_type": "code",
   "execution_count": 94,
   "metadata": {
    "collapsed": true
   },
   "outputs": [],
   "source": [
    "#A Dictionary to map strings in the graph (e.g. 'depthcondition') to particle data arrays\n",
    "\n",
    "particledepths = 1. - gSwarm.particleCoordinates.data[:,1]\n",
    "particletemps = temperatureField.evaluate(gSwarm)[:,0]\n",
    "\n",
    "conditionmap = {}\n",
    "\n",
    "conditionmap['depthcondition'] = {}\n",
    "conditionmap['depthcondition']['data'] = particledepths\n",
    "conditionmap['avgtempcondition'] = {}\n",
    "conditionmap['avgtempcondition']['data'] = particletemps"
   ]
  },
  {
   "cell_type": "code",
   "execution_count": 95,
   "metadata": {
    "collapsed": true
   },
   "outputs": [],
   "source": [
    "def update_swarm(graph, particleIndex):\n",
    "    \"\"\"\n",
    "    This function takes the materials graph (networkx.DiGraph), and a particle index,\n",
    "    then determines if a material update is required \n",
    "    and if so, returns the new materialindex\n",
    "    Args:\n",
    "        graph (networkx.DiGraph): Directed multigraph representing the transformation of material types\n",
    "        particleIndex (int): the particle index as corressponding to the index in the swarm data arrays\n",
    "    Returns:\n",
    "        if update is required the function returns the the new material variable (int) \n",
    "        else returns None\n",
    "    Raises:\n",
    "        TypeError: not implemented\n",
    "        ValueError: not implemented\n",
    "    \"\"\"\n",
    "    ##Egde gives links to other materials, we then query the conditions to see if we should change materials\n",
    "    matId = materialVariable.data[particleIndex][0]\n",
    "    innerchange = False\n",
    "    outerchange = False\n",
    "    for edge in graph[matId]:\n",
    "        if outerchange:\n",
    "            break\n",
    "        for cond in graph[matId][edge].keys():\n",
    "            outerchange = False\n",
    "            if innerchange: #found a complete transition, break inner loop\n",
    "                break\n",
    "            currentparticlevalue = conditionmap[cond]['data'][particleIndex]\n",
    "            crossover = graph[matId][edge][cond]\n",
    "            if ((matId > edge) and (currentparticlevalue > crossover)):\n",
    "                innerchange = False # continue on, \n",
    "                if graph[matId][edge].keys()[-1] == cond:\n",
    "                    outerchange = True\n",
    "                    innerchange = edge\n",
    "                    break\n",
    "            elif ((matId < edge) and (currentparticlevalue < crossover)):\n",
    "                innerchange = False\n",
    "                if graph[matId][edge].keys()[-1] == cond:\n",
    "                    outerchange = True\n",
    "                    innerchange = edge\n",
    "                    break\n",
    "            else:\n",
    "                #condition not met, break outer loop, go to next edge, outerchange should still be False\n",
    "                break\n",
    "    if type(innerchange) == int:\n",
    "        return innerchange"
   ]
  },
  {
   "cell_type": "code",
   "execution_count": 96,
   "metadata": {
    "collapsed": false
   },
   "outputs": [],
   "source": [
    "#Set the crust material in the slab using shapes/function from uw.\n",
    "\n",
    "if not checkpointLoad:\n",
    "    #materialVariable.data[:] = mantleIndex\n",
    "    #lithtemp = 0.95*0.8\n",
    "    #tempswarm = temperatureField.evaluate(gSwarm)[:,0]\n",
    "\n",
    "    #At this point, we only have to assign any materials that are defined by setup shapes,\n",
    "    #the rest of the materials will be assigned using the materials graph\n",
    "\n",
    "    for particleID in range(gSwarm.particleCoordinates.data.shape[0]):\n",
    "        coord = gSwarm.particleCoordinates.data[particleID]\n",
    "        if gSwarm.particleCoordinates.data[particleID][1] > (1.0 - MANTLETOCRUST) and not Tri.evaluate(tuple(coord)):\n",
    "            materialVariable.data[particleID] =  crustIndex\n"
   ]
  },
  {
   "cell_type": "code",
   "execution_count": 97,
   "metadata": {
    "collapsed": false
   },
   "outputs": [],
   "source": [
    "#Cleanse the swarm of its sins\n",
    "#For some Material Graphs, the graph may have to be traversed more than once\n",
    "\n",
    "check = -1\n",
    "number_updated = 1\n",
    "\n",
    "while number_updated != 0:\n",
    "    number_updated = 0\n",
    "    for particleID in range(gSwarm.particleCoordinates.data.shape[0]):\n",
    "        check = update_swarm(DG, particleID)\n",
    "        if check > -1:\n",
    "            number_updated += 1\n",
    "            materialVariable.data[particleID] = check"
   ]
  },
  {
   "cell_type": "code",
   "execution_count": 98,
   "metadata": {
    "collapsed": false
   },
   "outputs": [
    {
     "data": {
      "text/html": [
       "<img src='data:image/png;base64,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'>"
      ],
      "text/plain": [
       "<IPython.core.display.HTML object>"
      ]
     },
     "execution_count": 98,
     "metadata": {},
     "output_type": "execute_result"
    }
   ],
   "source": [
    "figMat = glucifer.Figure()\n",
    "figMat.append( glucifer.objects.Points(gSwarm,materialVariable, colours='white blue red black'))\n",
    "#figMat.append( glucifer.objects.Mesh(mesh))\n",
    "figMat.save_database('test.gldb')\n",
    "figMat.show()"
   ]
  },
  {
   "cell_type": "markdown",
   "metadata": {},
   "source": [
    "## Rheology"
   ]
  },
  {
   "cell_type": "code",
   "execution_count": 99,
   "metadata": {
    "collapsed": true
   },
   "outputs": [],
   "source": [
    "# The yeilding of the upper slab is dependent on the strain rate.\n",
    "strainRate_2ndInvariant = fn.tensor.second_invariant( \n",
    "                            fn.tensor.symmetric( \n",
    "                            velocityField.fn_gradient ))\n",
    "\n",
    "\n",
    "coordinate = fn.input()\n",
    "depth = 1. - coordinate[1]\n"
   ]
  },
  {
   "cell_type": "code",
   "execution_count": 100,
   "metadata": {
    "collapsed": false
   },
   "outputs": [
    {
     "data": {
      "text/plain": [
       "1.0"
      ]
     },
     "execution_count": 100,
     "metadata": {},
     "output_type": "execute_result"
    }
   ],
   "source": [
    "temperatureField.data.max()"
   ]
  },
  {
   "cell_type": "code",
   "execution_count": 101,
   "metadata": {
    "collapsed": false
   },
   "outputs": [],
   "source": [
    "arhennius = fn.misc.min(ndp.up_visc, fn.math.exp(-1*math.log(dp.E) + (math.log(dp.E) / (temperatureField + 1e-8))))\n"
   ]
  },
  {
   "cell_type": "code",
   "execution_count": 102,
   "metadata": {
    "collapsed": false
   },
   "outputs": [
    {
     "data": {
      "text/html": [
       "<img src='data:image/png;base64,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'>"
      ],
      "text/plain": [
       "<IPython.core.display.HTML object>"
      ]
     },
     "execution_count": 102,
     "metadata": {},
     "output_type": "execute_result"
    }
   ],
   "source": [
    "figVisc = glucifer.Figure()\n",
    "figVisc.append( glucifer.objects.Surface(mesh, arhennius, logScale=True))\n",
    "#figVisc.append(glucifer.objects.VectorArrows(mesh, velocityField, scaling=0.0002))\n",
    "figVisc.show()"
   ]
  },
  {
   "cell_type": "code",
   "execution_count": 103,
   "metadata": {
    "collapsed": false
   },
   "outputs": [
    {
     "data": {
      "text/plain": [
       "1.002241018690982"
      ]
     },
     "execution_count": 103,
     "metadata": {},
     "output_type": "execute_result"
    }
   ],
   "source": [
    "ndp.fcd/ndp.cohesion"
   ]
  },
  {
   "cell_type": "code",
   "execution_count": 104,
   "metadata": {
    "collapsed": false
   },
   "outputs": [],
   "source": [
    "#Psuedo-plastic \n",
    "ys =  ndp.cohesion + (depth*ndp.fcd)\n",
    "#ys =  ndp.fc*lithopressuregrad*(30e3/dp.LS) # this is the byerlee strength at 30 km\n",
    "yss = fn.misc.max(ndp.cohesion, ys)\n",
    "plasticvisc = yss*(math.sqrt(2))/(strainRate_2ndInvariant*2.)\n",
    "plastic = fn.misc.max(ndp.low_visc,plasticvisc)\n",
    "#combine these\n",
    "mantleviscosityFn = fn.misc.min(arhennius, plastic)\n",
    "\n",
    "############\n",
    "#crust\n",
    "############\n",
    "\n",
    "\n",
    "\n",
    "ysc = (ndp.cohesion/100.) + (depth*(ndp.fcd/100.))\n",
    "#ysc = ys/100.\n",
    "ycs = fn.misc.max((ndp.cohesion/100.), ysc)\n",
    "crustplasticvisc = ycs*(math.sqrt(2))/(strainRate_2ndInvariant*2.)\n",
    "crustplastic = fn.misc.max(ndp.low_visc,crustplasticvisc) \n",
    "crustviscosityFn = fn.misc.min(arhennius, crustplastic)"
   ]
  },
  {
   "cell_type": "code",
   "execution_count": 105,
   "metadata": {
    "collapsed": false
   },
   "outputs": [
    {
     "data": {
      "text/plain": [
       "100000.0"
      ]
     },
     "execution_count": 105,
     "metadata": {},
     "output_type": "execute_result"
    }
   ],
   "source": [
    "ndp.up_visc"
   ]
  },
  {
   "cell_type": "code",
   "execution_count": 106,
   "metadata": {
    "collapsed": false
   },
   "outputs": [],
   "source": [
    "# Here we set a viscosity value of '1.' for both materials\n",
    "viscosityMapFn = fn.branching.map( fn_key = materialVariable,\n",
    "                         mapping = {airIndex:ndp.StAeta0, \n",
    "                                    lithosphereIndex:mantleviscosityFn, \n",
    "                                    crustIndex:mantleviscosityFn,\n",
    "                                    mantleIndex:mantleviscosityFn, \n",
    "                                    eclIndex:mantleviscosityFn,\n",
    "                                    tempIndex:mantleviscosityFn} )\n",
    "\n",
    "densityMapFn = fn.branching.map( fn_key = materialVariable,\n",
    "                         mapping = {airIndex:ndp.StA_RA, \n",
    "                                    lithosphereIndex:ndp.RA*temperatureField, \n",
    "                                    crustIndex:ndp.RA*temperatureField, \n",
    "                                    mantleIndex:ndp.RA*temperatureField, \n",
    "                                    eclIndex:ndp.RA*temperatureField,\n",
    "                                    tempIndex:ndp.RA*temperatureField, } )\n",
    "\n",
    "# Define our gravity using a python tuple (this will be automatically converted to a function)\n",
    "gravity = ( 0.0, 1.0 )\n",
    "\n",
    "buoyancyFn = gravity*densityMapFn"
   ]
  },
  {
   "cell_type": "markdown",
   "metadata": {},
   "source": [
    "## Build Stokes system"
   ]
  },
  {
   "cell_type": "code",
   "execution_count": 107,
   "metadata": {
    "collapsed": true
   },
   "outputs": [],
   "source": [
    "stokesPIC = uw.systems.Stokes( velocityField = velocityField, \n",
    "                               pressureField = pressureField,\n",
    "                               #swarm         = gSwarm, \n",
    "                               conditions    = [freeslipBC,],\n",
    "                               fn_viscosity   = arhennius, \n",
    "                               fn_bodyforce   = buoyancyFn,\n",
    "                               swarm=gSwarm)"
   ]
  },
  {
   "cell_type": "code",
   "execution_count": 108,
   "metadata": {
    "collapsed": true
   },
   "outputs": [],
   "source": [
    "#We do one solve with linear viscosity to get the initial strain rate invariant. \n",
    "#This solve step also calculates a 'guess' of the the velocity field based on the linear system, \n",
    "#which is used later in the non-linear solver.\n",
    "\n",
    "solver = uw.systems.Solver(stokesPIC)\n",
    "# If not doing a restart, do a solve on the non-plastic system\n",
    "if not checkpointLoad:\n",
    "    solver.solve()"
   ]
  },
  {
   "cell_type": "code",
   "execution_count": 109,
   "metadata": {
    "collapsed": true
   },
   "outputs": [],
   "source": [
    "#Switch particle escape on, this will also trigger the inflow population control \n",
    "gSwarm.particleEscape = True"
   ]
  },
  {
   "cell_type": "code",
   "execution_count": 110,
   "metadata": {
    "collapsed": true
   },
   "outputs": [],
   "source": [
    "####################\n",
    "#Add the non-linear viscosity to the Stokes system\n",
    "stokesPIC.fn_viscosity = viscosityMapFn\n",
    "###################\n",
    "\n",
    "#Set more advanced solver option\n",
    "solver.options.main.Q22_pc_type='gkgdiag'\n",
    "#solver.options.A11.ksp_rtol=1e-2\n",
    "#solver.options.scr.ksp_rtol=1e-3\n",
    "#solver.options.A11.ksp_type=\"cg\"\n",
    "solver.options.scr.use_previous_guess = True\n",
    "#solver.options.scr.ksp_set_min_it_converge = 1\n",
    "#solver.options.main.penalty=10.0\n",
    "\n",
    "#solver.options.mg.levels = 3\n",
    "#solver.options.main.remove_constant_pressure_null_space=True\n",
    "#solver.options.main.penalty = 1e2\n",
    "\n",
    "solver.options.A11.ksp_rtol=1e-4\n",
    "solver.options.scr.ksp_rtol=1e-4\n",
    "\n",
    "solver.options.A11.ksp_monitor=''\n",
    "solver.options.A11.ksp_converged_reason=''"
   ]
  },
  {
   "cell_type": "code",
   "execution_count": 111,
   "metadata": {
    "collapsed": true
   },
   "outputs": [],
   "source": [
    "solver.solve(nonLinearIterate=True)"
   ]
  },
  {
   "cell_type": "code",
   "execution_count": 112,
   "metadata": {
    "collapsed": false
   },
   "outputs": [
    {
     "data": {
      "text/plain": [
       "0.0"
      ]
     },
     "execution_count": 112,
     "metadata": {},
     "output_type": "execute_result"
    }
   ],
   "source": [
    "ndp.H"
   ]
  },
  {
   "cell_type": "code",
   "execution_count": 113,
   "metadata": {
    "collapsed": false
   },
   "outputs": [],
   "source": [
    "#Create advdiff system\n",
    "\n",
    "\n",
    "\n",
    "#advDiff = uw.systems.AdvectionDiffusion( phiField       = temperatureField, \n",
    "#                                         phiDotField    = temperatureDotField, \n",
    "#                                         velocityField  = velocityField, \n",
    "#                                         fn_diffusivity = 1.0,\n",
    "#                                         fn_sourceTerm = 0.,\n",
    "#                                         conditions     = [tempBC,] )\n",
    "\n",
    "\n",
    "advDiff = uw.systems.AdvectionDiffusion( phiField       = temperatureField, \n",
    "                                         phiDotField    = temperatureDotField, \n",
    "                                         velocityField  = velocityField,\n",
    "                                         fn_sourceTerm    = ndp.H,\n",
    "                                         fn_diffusivity = 1.0, \n",
    "                                         conditions     = [dirichTempBC,] )\n",
    "\n",
    "\n",
    "\n",
    "advector = uw.systems.SwarmAdvector( swarm         = gSwarm, \n",
    "                                     velocityField = velocityField, \n",
    "                                     order         = 1)"
   ]
  },
  {
   "cell_type": "code",
   "execution_count": 114,
   "metadata": {
    "collapsed": true
   },
   "outputs": [],
   "source": [
    "pics = uw.swarm.PICIntegrationSwarm(gSwarm)"
   ]
  },
  {
   "cell_type": "markdown",
   "metadata": {},
   "source": [
    "## Figures / gldbs etc"
   ]
  },
  {
   "cell_type": "code",
   "execution_count": 115,
   "metadata": {
    "collapsed": true
   },
   "outputs": [],
   "source": [
    "viscVariable = gSwarm.add_variable( dataType=\"float\", count=1 )\n",
    "viscVariable.data[:] = viscosityMapFn.evaluate(gSwarm)"
   ]
  },
  {
   "cell_type": "code",
   "execution_count": 116,
   "metadata": {
    "collapsed": true
   },
   "outputs": [],
   "source": [
    "#Pack some stuff into a database as well\n",
    "figDb = glucifer.Figure()\n",
    "figDb.append( glucifer.objects.Points(gSwarm,viscVariable, logScale=True, colours='brown white blue'))\n",
    "#figDb.append( glucifer.objects.Points(gSwarm,materialVariable, colours='brown white blue red'))\n",
    "#figDb.append( glucifer.objects.Mesh(mesh))\n",
    "#figDb.append( glucifer.objects.VectorArrows(mesh,velocityField, arrowHead=0.2, scaling=0.01))\n",
    "figDb.append( glucifer.objects.Surface(mesh, strainRate_2ndInvariant, logScale=True, colours='brown white blue'))\n",
    "figDb.append( glucifer.objects.Surface(mesh, temperatureField))"
   ]
  },
  {
   "cell_type": "code",
   "execution_count": 117,
   "metadata": {
    "collapsed": true
   },
   "outputs": [],
   "source": [
    "step = 0\n",
    "realtime = 0.\n",
    "timevals = [0.]"
   ]
  },
  {
   "cell_type": "code",
   "execution_count": 121,
   "metadata": {
    "collapsed": false
   },
   "outputs": [
    {
     "name": "stdout",
     "output_type": "stream",
     "text": [
      "0\n",
      "1\n"
     ]
    }
   ],
   "source": [
    "# initialise timer for computation\n",
    "startMain = time.clock()\n",
    "# Perform steps#\n",
    "while realtime < 0.2:\n",
    "#while step < 2:\n",
    "    #Enter non-linear loop\n",
    "    print step\n",
    "    solver.solve(nonLinearIterate=True)\n",
    "    dt = advDiff.get_max_dt()/5.\n",
    "    if step == 0:\n",
    "        dt = 0.\n",
    "    #start = time.clock()\n",
    "    advDiff.integrate(dt)\n",
    "    #machine_time = (time.clock()-start)\n",
    "    #print(\"total advDiff time is: \" + str(machine_time))\n",
    "    # Advect swarm using this timestep size\n",
    "    #start = time.clock()\n",
    "    advector.integrate(dt)\n",
    "    #machine_time = (time.clock()-start)\n",
    "    #print(\"total advector time is: \" + str(machine_time))\n",
    "    # Increment\n",
    "    realtime += dt\n",
    "    step += 1\n",
    "    timevals.append(realtime)\n",
    "    \n",
    "    ################\n",
    "    #Gldb output\n",
    "    ################ \n",
    "    if (step % gldbs_output == 0):\n",
    "        #Rebuild any necessary swarm variables\n",
    "        viscVariable.data[:] = viscosityMapFn.evaluate(gSwarm)\n",
    "        #Write gldbs\n",
    "        fnamedb = \"dbFig\" + \"_\" + str(ModIt) + \"_\" + str(step) + \".gldb\"\n",
    "        fullpath = os.path.join(outputPath + \"gldbs/\" + fnamedb)\n",
    "        figDb.show()\n",
    "        figDb.save_database(fullpath)\n",
    "    ################\n",
    "    #Also repopulate entire swarm periodically\n",
    "    ################\n",
    "    if step % swarm_repop == 0:\n",
    "        pics.repopulate()\n",
    "    print(temperatureField.data.max())"
   ]
  },
  {
   "cell_type": "code",
   "execution_count": 122,
   "metadata": {
    "collapsed": false
   },
   "outputs": [
    {
     "data": {
      "text/html": [
       "<img src='data:image/png;base64,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'>"
      ],
      "text/plain": [
       "<IPython.core.display.HTML object>"
      ]
     },
     "execution_count": 122,
     "metadata": {},
     "output_type": "execute_result"
    }
   ],
   "source": [
    "#Pack some stuff into a database as well\n",
    "figVisc = glucifer.Figure()\n",
    "figVisc.append( glucifer.objects.Points(gSwarm,viscVariable, logScale=True, colours='brown white blue'))\n",
    "figVisc.show()"
   ]
  },
  {
   "cell_type": "code",
   "execution_count": 123,
   "metadata": {
    "collapsed": false
   },
   "outputs": [
    {
     "data": {
      "text/plain": [
       "1.1130115542055585"
      ]
     },
     "execution_count": 123,
     "metadata": {},
     "output_type": "execute_result"
    }
   ],
   "source": [
    "temperatureField.data.max()"
   ]
  },
  {
   "cell_type": "code",
   "execution_count": null,
   "metadata": {
    "collapsed": true
   },
   "outputs": [],
   "source": []
  }
 ],
 "metadata": {
  "kernelspec": {
   "display_name": "Python 2",
   "language": "python",
   "name": "python2"
  },
  "language_info": {
   "codemirror_mode": {
    "name": "ipython",
    "version": 2
   },
   "file_extension": ".py",
   "mimetype": "text/x-python",
   "name": "python",
   "nbconvert_exporter": "python",
   "pygments_lexer": "ipython2",
   "version": "2.7.11"
  }
 },
 "nbformat": 4,
 "nbformat_minor": 0
}
