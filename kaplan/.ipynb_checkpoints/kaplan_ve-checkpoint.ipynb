{
 "cells": [
  {
   "cell_type": "markdown",
   "metadata": {
    "collapsed": true
   },
   "source": [
    "## From Kaplan "
   ]
  },
  {
   "cell_type": "code",
   "execution_count": 1,
   "metadata": {
    "collapsed": true
   },
   "outputs": [],
   "source": [
    "import networkx as nx\n",
    "import underworld as uw\n",
    "import math\n",
    "from underworld import function as fn\n",
    "import glucifer\n",
    "#import matplotlib.pyplot as pyplot\n",
    "import time\n",
    "import numpy as np\n",
    "import os\n",
    "import sys\n",
    "import natsort\n",
    "import shutil\n",
    "from easydict import EasyDict as edict\n",
    "import slippy2 as sp\n",
    "from slippy2 import unit_conversions\n",
    "from slippy2 import boundary_layer2d\n",
    "\n",
    "\n",
    "\n",
    "from mpi4py import MPI\n",
    "comm = MPI.COMM_WORLD\n",
    "rank = comm.Get_rank()"
   ]
  },
  {
   "cell_type": "code",
   "execution_count": 2,
   "metadata": {
    "collapsed": true
   },
   "outputs": [],
   "source": [
    "############\n",
    "#Model name.  \n",
    "############\n",
    "Model = \"T\"\n",
    "ModNum = 0\n",
    "\n",
    "if len(sys.argv) == 1:\n",
    "    ModIt = \"Base\"\n",
    "elif sys.argv[1] == '-f':\n",
    "    ModIt = \"Base\"\n",
    "else:\n",
    "    ModIt = str(sys.argv[1])"
   ]
  },
  {
   "cell_type": "code",
   "execution_count": 3,
   "metadata": {
    "collapsed": true
   },
   "outputs": [],
   "source": [
    "###########\n",
    "#Standard output directory setup\n",
    "###########\n",
    "\n",
    "\n",
    "outputPath = \"results\" + \"/\" +  str(Model) + \"/\" + str(ModNum) + \"/\" + str(ModIt) + \"/\"\n",
    "imagePath = outputPath + 'images/'\n",
    "filePath = outputPath + 'files/'\n",
    "checkpointPath = outputPath + 'checkpoint/'\n",
    "dbPath = outputPath + 'gldbs/'\n",
    "outputFile = 'results_model' + Model + '_' + str(ModNum) + '_' + str(ModIt) + '.dat'\n",
    "\n",
    "if uw.rank()==0:\n",
    "    # make directories if they don't exist\n",
    "    if not os.path.isdir(outputPath):\n",
    "        os.makedirs(outputPath)\n",
    "    if not os.path.isdir(checkpointPath):\n",
    "        os.makedirs(checkpointPath)\n",
    "    if not os.path.isdir(imagePath):\n",
    "        os.makedirs(imagePath)\n",
    "    if not os.path.isdir(dbPath):\n",
    "        os.makedirs(dbPath)\n",
    "    if not os.path.isdir(filePath):\n",
    "        os.makedirs(filePath)\n",
    "        \n",
    "comm.Barrier() #Barrier here so no procs run the check in the next cell too early "
   ]
  },
  {
   "cell_type": "code",
   "execution_count": 4,
   "metadata": {
    "collapsed": false
   },
   "outputs": [
    {
     "name": "stdout",
     "output_type": "stream",
     "text": [
      "results/T/0/Base/checkpoint/ is empty\n"
     ]
    }
   ],
   "source": [
    "###########\n",
    "#Check if starting from checkpoint\n",
    "###########\n",
    "\n",
    "checkdirs = []\n",
    "for dirpath, dirnames, files in os.walk(checkpointPath):\n",
    "    if files:\n",
    "        print dirpath, 'has files'\n",
    "        checkpointLoad = True\n",
    "        checkdirs.append(dirpath)\n",
    "    if not files:\n",
    "        print dirpath, 'is empty'\n",
    "        checkpointLoad = False\n",
    "        "
   ]
  },
  {
   "cell_type": "code",
   "execution_count": 5,
   "metadata": {
    "collapsed": false
   },
   "outputs": [],
   "source": [
    "###########\n",
    "#Physical parameters\n",
    "###########\n",
    "\n",
    "#dimensional parameter dictionary\n",
    "dp = edict({'LS':660.*1e3,\n",
    "           'rho':3300,\n",
    "           'g':9.81, \n",
    "           'eta0':1e20,\n",
    "           'k':10**-6,\n",
    "           'a':3e-5, \n",
    "           'deltaT':1400,\n",
    "           'TS':273.,\n",
    "           'TB':1673.,\n",
    "           'cohesion':5e6,\n",
    "           'fc':0.03,\n",
    "           'E':1e5, \n",
    "           'StALS': 27.*1e3, \n",
    "           'G':8e10})\n",
    "\n",
    "#scale_factors\n",
    "\n",
    "sf = edict({'stress':dp.LS**2/(dp.k*dp.eta0),\n",
    "           'lith_grad':dp.rho*dp.g*(dp.LS)**3/(dp.eta0*dp.k) })\n",
    "\n",
    "#dimensionless parameters\n",
    "\n",
    "ndp = edict({'RA':(dp.g*dp.rho*dp.a*dp.deltaT *(dp.LS)**3)/(dp.k*dp.eta0),\n",
    "           'cohesion':dp.cohesion*sf.stress,\n",
    "            'fcd':dp.fc*sf.lith_grad,\n",
    "            'TS':0.,\n",
    "            'TB':1.,\n",
    "            'low_visc':1e-4,\n",
    "            'StAeta0':0.01,\n",
    "            'up_visc':1e5,\n",
    "            'H':0.,\n",
    "            'G':dp.G*sf.stress})"
   ]
  },
  {
   "cell_type": "code",
   "execution_count": 6,
   "metadata": {
    "collapsed": false
   },
   "outputs": [
    {
     "data": {
      "text/plain": [
       "348480000.0"
      ]
     },
     "execution_count": 6,
     "metadata": {},
     "output_type": "execute_result"
    }
   ],
   "source": [
    "ndp.G"
   ]
  },
  {
   "cell_type": "code",
   "execution_count": 7,
   "metadata": {
    "collapsed": true
   },
   "outputs": [],
   "source": [
    "ETAREF = dp.rho*dp.g*dp.a*dp.deltaT*((dp.LS)**3)/(ndp.RA*dp.k) #equivalent dimensional reference viscosity\n",
    "#RC = (3300.*dp.g*(dp.LS)**3)/(ETAREF *dp.k) #Composisitional Rayleigh number for rock-air buoyancy force\n",
    "RCA = (1650.*dp.g*(dp.LS)**3)/(ETAREF *dp.k) #Composisitional Rayleigh number for rock-air buoyancy force\n",
    "COMP_RA_FACT_AIR = RCA/ndp.RA\n",
    "#RCC = (100.*dp.g*(dp.LS)**3)/(ETAREF *dp.k) #Composisitional Rayleigh number for crust\n",
    "#COMP_RA_FACT_CRUST = RCC/ndp.RA\n",
    "#RCE = -1*(200.*dp.g*(dp.LS)**3)/(ETAREF *dp.k) #Composisitional Rayleigh number for eclogite \n",
    "#COMP_RA_FACT_ECL = RCE/ndp.RA\n",
    "ndp[\"StA_RA\"] = ndp.RA*COMP_RA_FACT_AIR"
   ]
  },
  {
   "cell_type": "code",
   "execution_count": 8,
   "metadata": {
    "collapsed": false
   },
   "outputs": [],
   "source": [
    "#A few parameters defining lengths scales, affects materal transistions etc.\n",
    "MANTLETOCRUST = (20.*1e3)/dp.LS #Crust depth\n",
    "CRUSTTOMANTLE = (900.*1e3)/dp.LS \n",
    "LITHTOMANTLE = (900.*1e3)/dp.LS \n",
    "MANTLETOLITH = (200.*1e3)/dp.LS \n",
    "TOPOHEIGHT = (0.*1e3)/dp.LS  #rock-air topography limits\n",
    "CRUSTTOECL  = (100.*1e3)/dp.LS\n",
    "AVGTEMP = ndp.TB #Used to define lithosphere"
   ]
  },
  {
   "cell_type": "code",
   "execution_count": 9,
   "metadata": {
    "collapsed": true
   },
   "outputs": [],
   "source": [
    "###########\n",
    "#Boundary layer / slab paramaters\n",
    "###########\n",
    "\n",
    "modelage  = 75 \n",
    "subzone = -500.e3/dp.LS\n",
    "mor = (1500e3/dp.LS) - (200e3/dp.LS)\n",
    "#vel = 70e3\n",
    "vel = 1800e3/modelage \n",
    "agelimit = 70.\n",
    "thermallimit = 0.8\n",
    "\n",
    "#Slab perturbation paramaters\n",
    "Roc = 450.\n",
    "Crust = 35.\n",
    "theta = 89."
   ]
  },
  {
   "cell_type": "code",
   "execution_count": 10,
   "metadata": {
    "collapsed": false
   },
   "outputs": [
    {
     "data": {
      "text/plain": [
       "24000.0"
      ]
     },
     "execution_count": 10,
     "metadata": {},
     "output_type": "execute_result"
    }
   ],
   "source": [
    "vel"
   ]
  },
  {
   "cell_type": "code",
   "execution_count": 11,
   "metadata": {
    "collapsed": true
   },
   "outputs": [],
   "source": [
    "###########\n",
    "#Model setup parameters\n",
    "###########\n",
    "\n",
    "stickyAir = False\n",
    "\n",
    "MINX = -(1500/670.)\n",
    "MINY = 0.\n",
    "MAXX = 1500/670.\n",
    "\n",
    "#MAXY = 1.035\n",
    "MAXY = 1.\n",
    "\n",
    "if MINX == 0.:\n",
    "    squareModel = True\n",
    "else: \n",
    "    squareModel = False\n",
    "    \n",
    "    \n",
    "dim = 2          # number of spatial dimensions\n",
    "\n",
    "\n",
    "#MESH STUFF\n",
    "\n",
    "RES = 64\n",
    "\n",
    "\n",
    "Xres = int(RES*4)\n",
    "\n",
    "\n",
    "if stickyAir:\n",
    "    Yres = RES\n",
    "    MAXY = 1. + dp.StALS/dp.LS #150km\n",
    "    \n",
    "else:\n",
    "    Yres = RES\n",
    "    MAXY = 1.\n",
    "\n",
    "\n",
    "periodic = [False, False]\n",
    "elementType = \"Q1/dQ0\"\n",
    "#elementType =\"Q2/DPC1\"\n",
    "\n",
    "refineMesh = True\n",
    "\n",
    "#System/Solver stuff\n",
    "\n",
    "PIC_integration=True\n",
    "ppc = 25"
   ]
  },
  {
   "cell_type": "code",
   "execution_count": 12,
   "metadata": {
    "collapsed": true
   },
   "outputs": [],
   "source": [
    "###########\n",
    "#Model Runtime parameters\n",
    "###########\n",
    "\n",
    "swarm_update = 10\n",
    "swarm_repop = 25\n",
    "files_output = 1e6\n",
    "gldbs_output = 25\n",
    "images_output = 1e6\n",
    "checkpoint_every = 25\n",
    "metric_output = 25\n",
    "sticky_air_temp = 10\n",
    "\n",
    "comm.Barrier() #Barrier here so not procs run the check in the next cell too early \n",
    "\n",
    "assert metric_output <= checkpoint_every, 'Checkpointing should run less or as ofen as metric output'\n",
    "#assert (metric_output >= swarm_update), 'Swarm update is needed before checkpointing'\n",
    "#assert metric_output >= sticky_air_temp, 'Sticky air temp should be updated more frequently that metrics'"
   ]
  },
  {
   "cell_type": "code",
   "execution_count": 13,
   "metadata": {
    "collapsed": true
   },
   "outputs": [],
   "source": [
    "mesh = uw.mesh.FeMesh_Cartesian( elementType = elementType,\n",
    "                                 elementRes  = (Xres, Yres), \n",
    "                                 minCoord    = (MINX,MINY), \n",
    "                                 maxCoord=(MAXX,MAXY), periodic=periodic)\n",
    "\n",
    "\n",
    "\n",
    "velocityField       = uw.mesh.MeshVariable( mesh=mesh,         nodeDofCount=dim )\n",
    "pressureField       = uw.mesh.MeshVariable( mesh=mesh.subMesh, nodeDofCount=1 )\n",
    "temperatureField    = uw.mesh.MeshVariable( mesh=mesh,         nodeDofCount=1 )\n",
    "temperatureDotField = uw.mesh.MeshVariable( mesh=mesh,         nodeDofCount=1 )"
   ]
  },
  {
   "cell_type": "code",
   "execution_count": 14,
   "metadata": {
    "collapsed": true
   },
   "outputs": [],
   "source": [
    "# Initialise data.. Note that we are also setting boundary conditions here\n",
    "velocityField.data[:] = [0.,0.]\n",
    "pressureField.data[:] = 0.\n",
    "temperatureField.data[:] = 0.\n",
    "temperatureDotField.data[:] = 0."
   ]
  },
  {
   "cell_type": "code",
   "execution_count": 15,
   "metadata": {
    "collapsed": false
   },
   "outputs": [
    {
     "data": {
      "text/plain": [
       "0.0"
      ]
     },
     "execution_count": 15,
     "metadata": {},
     "output_type": "execute_result"
    }
   ],
   "source": [
    "ndp.TS"
   ]
  },
  {
   "cell_type": "code",
   "execution_count": 16,
   "metadata": {
    "collapsed": false
   },
   "outputs": [],
   "source": [
    "lith= boundary_layer2d.LithosphereTemps(mesh, temperatureField, dp.LS, MINX, mor, tint=ndp.TB, tsurf=ndp.TS, vel= 10e3, diffs = 1e-6)\n"
   ]
  },
  {
   "cell_type": "code",
   "execution_count": 17,
   "metadata": {
    "collapsed": true
   },
   "outputs": [],
   "source": [
    "coords = [(MINX, 1.), (subzone, 1.), (MINX, 0.)]\n",
    "Tri = fn.shape.Polygon(np.array(coords))"
   ]
  },
  {
   "cell_type": "code",
   "execution_count": 18,
   "metadata": {
    "collapsed": false
   },
   "outputs": [],
   "source": [
    "for index, coord in enumerate(mesh.data):\n",
    "    xloc = coord[0]\n",
    "    agema = lith.agefunc(xloc)\n",
    "    if coord[1] >= 1.:\n",
    "            temperatureField.data[index] = lith.tsurf\n",
    "    else:\n",
    "        zloc = ((1.- coord[1])* dp.LS) # dimensional depth kms\n",
    "        t = lith.tempfunc(agema, zloc)\n",
    "        temperatureField.data[index] = t \n",
    "    if coord[1] <= 1. and coord[0] > mor: #Get rid of lithosphere to the right of the ridge\n",
    "        temperatureField.data[index] = lith.tint\n",
    "    if Tri.evaluate(tuple(coord)):\n",
    "        temperatureField.data[index] = lith.tint"
   ]
  },
  {
   "cell_type": "code",
   "execution_count": 19,
   "metadata": {
    "collapsed": false
   },
   "outputs": [
    {
     "data": {
      "text/html": [
       "<img src='data:image/png;base64,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'>"
      ],
      "text/plain": [
       "<IPython.core.display.HTML object>"
      ]
     },
     "execution_count": 19,
     "metadata": {},
     "output_type": "execute_result"
    }
   ],
   "source": [
    "figTemp = glucifer.Figure()\n",
    "figTemp.append( glucifer.objects.Surface(mesh, temperatureField))\n",
    "\n",
    "#figTemp.save_database('test.gldb')\n",
    "figTemp.show()"
   ]
  },
  {
   "cell_type": "code",
   "execution_count": 20,
   "metadata": {
    "collapsed": true
   },
   "outputs": [],
   "source": [
    "# send boundary condition information to underworld\n",
    "IWalls = mesh.specialSets[\"MinI_VertexSet\"] + mesh.specialSets[\"MaxI_VertexSet\"]\n",
    "JWalls = mesh.specialSets[\"MinJ_VertexSet\"] + mesh.specialSets[\"MaxJ_VertexSet\"]\n",
    "TWalls = mesh.specialSets[\"MaxJ_VertexSet\"]\n",
    "BWalls = mesh.specialSets[\"MinJ_VertexSet\"]"
   ]
  },
  {
   "cell_type": "code",
   "execution_count": null,
   "metadata": {
    "collapsed": false
   },
   "outputs": [],
   "source": []
  },
  {
   "cell_type": "code",
   "execution_count": 21,
   "metadata": {
    "collapsed": false
   },
   "outputs": [],
   "source": [
    "#Set Dirichlet Temp conditions\n",
    "\n",
    "for index in mesh.specialSets[\"MinJ_VertexSet\"]:\n",
    "    temperatureField.data[index] = lith.tint\n",
    "for index in mesh.specialSets[\"MaxJ_VertexSet\"]:\n",
    "    temperatureField.data[index] = lith.tsurf\n",
    "\n",
    "\n",
    "# Now setup the dirichlet boundary condition\n",
    "# Note that through this object, we are flagging to the system \n",
    "# that these nodes are to be considered as boundary conditions. \n",
    "# Also note that we provide a tuple of sets.. One for the Vx, one for Vy.\n",
    "freeslipBC = uw.conditions.DirichletCondition(     variable=velocityField, \n",
    "                                              indexSetsPerDof=(IWalls, JWalls) )\n",
    "\n",
    "# also set dirichlet for temp field\n",
    "dirichTempBC = uw.conditions.DirichletCondition(     variable=temperatureField, \n",
    "                                              indexSetsPerDof=(JWalls,) )"
   ]
  },
  {
   "cell_type": "markdown",
   "metadata": {},
   "source": [
    "# Particles"
   ]
  },
  {
   "cell_type": "code",
   "execution_count": 22,
   "metadata": {
    "collapsed": true
   },
   "outputs": [],
   "source": [
    "###########\n",
    "#Material Swarm and variables\n",
    "###########\n",
    "\n",
    "gSwarm = uw.swarm.Swarm(mesh=mesh)\n",
    "materialVariable = gSwarm.add_variable( dataType=\"int\", count=1 )"
   ]
  },
  {
   "cell_type": "code",
   "execution_count": 23,
   "metadata": {
    "collapsed": false
   },
   "outputs": [],
   "source": [
    "mantleIndex = 0\n",
    "lithosphereIndex = 1\n",
    "eclIndex = 2\n",
    "crustIndex = 3\n",
    "airIndex = 4\n",
    "tempIndex = 5\n",
    "\n",
    "\n",
    "\n",
    "\n",
    "if checkpointLoad:\n",
    "    checkpointLoadDir = natsort.natsorted(checkdirs)[-1]\n",
    "    temperatureField.load(os.path.join(checkpointLoadDir, \"temperatureField\" + \".hdf5\"))\n",
    "    pressureField.load(os.path.join(checkpointLoadDir, \"pressureField\" + \".hdf5\"))\n",
    "    velocityField.load(os.path.join(checkpointLoadDir, \"velocityField\" + \".hdf5\"))\n",
    "    gSwarm.load(os.path.join(checkpointLoadDir, \"swarm\" + \".h5\"))\n",
    "    for ix in range(len(varlist)):\n",
    "        varb = varlist[ix]\n",
    "        varb.load(os.path.join(checkpointLoadDir,varnames[ix] + \".h5\"))\n",
    "\n",
    "else:\n",
    "\n",
    "    # Layouts are used to populate the swarm across the whole domain\n",
    "    # Create the layout object\n",
    "    layout = uw.swarm.layouts.PerCellRandomLayout(swarm=gSwarm, particlesPerCell=ppc)\n",
    "    # Now use it to populate.\n",
    "    gSwarm.populate_using_layout( layout=layout )\n",
    "\n",
    "    # Lets initialise the 'materialVariable' data to represent different materials\n",
    "    # Set the material to heavy everywhere via the numpy array\n",
    "    materialVariable.data[:] = mantleIndex\n",
    "    \n",
    "    \n",
    "    #Set initial air and crust materials (allow the graph to take care of lithsophere)\n",
    "    #########\n",
    "    #This initial material setup will be model dependent\n",
    "    #########\n",
    "    for particleID in range(gSwarm.particleCoordinates.data.shape[0]):\n",
    "        if (1. - gSwarm.particleCoordinates.data[particleID][1]) < 0:\n",
    "                 materialVariable.data[particleID] = airIndex\n",
    "        elif (1. - gSwarm.particleCoordinates.data[particleID][1]) < MANTLETOCRUST:\n",
    "                 materialVariable.data[particleID] = crustIndex\n"
   ]
  },
  {
   "cell_type": "markdown",
   "metadata": {},
   "source": [
    "# Material Graphs"
   ]
  },
  {
   "cell_type": "code",
   "execution_count": 24,
   "metadata": {
    "collapsed": true
   },
   "outputs": [],
   "source": [
    "##############\n",
    "#Important: This is a quick fix for a bug that arises in parallel runs\n",
    "##############\n",
    "material_list = [0,1,2,3,4,5]\n"
   ]
  },
  {
   "cell_type": "code",
   "execution_count": 25,
   "metadata": {
    "collapsed": true
   },
   "outputs": [],
   "source": [
    "#All depth conditions are given as (km/D) where D is the length scale,\n",
    "#note that 'model depths' are used, e.g. 1-z, where z is the vertical Underworld coordinate\n",
    "#All temp conditions are in dimensionless temp. [0. - 1.]\n",
    "\n",
    "#######Graph object\n",
    "DG = nx.DiGraph(field=\"Depth\")\n",
    "\n",
    "#######Nodes\n",
    "#Note that the order of materials, deepest to shallowest is important\n",
    "DG.add_node(0, mat='mantle')\n",
    "DG.add_node(1, mat='lithosphere')\n",
    "DG.add_node(2, mat='ecl')\n",
    "DG.add_node(3, mat='crust')\n",
    "DG.add_node(4, mat='air')\n",
    "DG.add_node(5, mat='temp')\n",
    "\n",
    "\n",
    "labels=dict((n,d['mat']) for n,d in DG.nodes(data=True))\n",
    "pos=nx.spring_layout(DG)\n",
    "\n",
    "\n",
    "#######Edges\n",
    "#anything to air\n",
    "DG.add_edges_from([(0,4),(1,4), (3,4)])\n",
    "DG[0][4]['depthcondition'] = -1*TOPOHEIGHT\n",
    "DG[1][4]['depthcondition'] = -1*TOPOHEIGHT\n",
    "DG[3][4]['depthcondition'] = -1*TOPOHEIGHT\n",
    "\n",
    "\n",
    "#Anything to mantle\n",
    "DG.add_edges_from([(3,0), (1,0), (2,0), (5,0)])\n",
    "DG[3][0]['depthcondition'] = CRUSTTOMANTLE #Normal crust\n",
    "DG[1][0]['depthcondition'] = LITHTOMANTLE #This means we're going to kill lithosphere at the 660.\n",
    "DG[2][0]['depthcondition'] = CRUSTTOMANTLE #Eclogite crust\n",
    "DG[5][0]['depthcondition'] = CRUSTTOMANTLE #Normal crust\n",
    "\n",
    "#Anything to lithsphere\n",
    "DG.add_edges_from([(0,1),(4,1)])\n",
    "DG[0][1]['depthcondition'] = MANTLETOLITH\n",
    "DG[0][1]['avgtempcondition'] = 0.75*AVGTEMP #definition of thermal lithosphere\n",
    "\n",
    "\n",
    "#Anything to crust\n",
    "DG.add_edges_from([(0,3), (1,3), (4,3)])\n",
    "DG[0][3]['depthcondition'] = MANTLETOCRUST\n",
    "DG[1][3]['depthcondition'] = MANTLETOCRUST\n",
    "DG[4][3]['depthcondition'] = TOPOHEIGHT\n",
    "\n",
    "#crust to eclogite\n",
    "DG.add_edges_from([(3,2)])\n",
    "DG[3][2]['depthcondition'] =CRUSTTOECL"
   ]
  },
  {
   "cell_type": "code",
   "execution_count": 26,
   "metadata": {
    "collapsed": false
   },
   "outputs": [],
   "source": [
    "remove_nodes = []\n",
    "for node in DG.nodes():\n",
    "    if not node in material_list:\n",
    "        remove_nodes.append(node)\n",
    "        \n",
    "for rmnode in remove_nodes:\n",
    "    DG.remove_node(rmnode)"
   ]
  },
  {
   "cell_type": "code",
   "execution_count": 27,
   "metadata": {
    "collapsed": true
   },
   "outputs": [],
   "source": [
    "#A Dictionary to map strings in the graph (e.g. 'depthcondition') to particle data arrays\n",
    "\n",
    "particledepths = 1. - gSwarm.particleCoordinates.data[:,1]\n",
    "particletemps = temperatureField.evaluate(gSwarm)[:,0]\n",
    "\n",
    "conditionmap = {}\n",
    "\n",
    "conditionmap['depthcondition'] = {}\n",
    "conditionmap['depthcondition']['data'] = particledepths\n",
    "conditionmap['avgtempcondition'] = {}\n",
    "conditionmap['avgtempcondition']['data'] = particletemps"
   ]
  },
  {
   "cell_type": "code",
   "execution_count": 28,
   "metadata": {
    "collapsed": true
   },
   "outputs": [],
   "source": [
    "def update_swarm(graph, particleIndex):\n",
    "    \"\"\"\n",
    "    This function takes the materials graph (networkx.DiGraph), and a particle index,\n",
    "    then determines if a material update is required \n",
    "    and if so, returns the new materialindex\n",
    "    Args:\n",
    "        graph (networkx.DiGraph): Directed multigraph representing the transformation of material types\n",
    "        particleIndex (int): the particle index as corressponding to the index in the swarm data arrays\n",
    "    Returns:\n",
    "        if update is required the function returns the the new material variable (int) \n",
    "        else returns None\n",
    "    Raises:\n",
    "        TypeError: not implemented\n",
    "        ValueError: not implemented\n",
    "    \"\"\"\n",
    "    ##Egde gives links to other materials, we then query the conditions to see if we should change materials\n",
    "    matId = materialVariable.data[particleIndex][0]\n",
    "    innerchange = False\n",
    "    outerchange = False\n",
    "    for edge in graph[matId]:\n",
    "        if outerchange:\n",
    "            break\n",
    "        for cond in graph[matId][edge].keys():\n",
    "            outerchange = False\n",
    "            if innerchange: #found a complete transition, break inner loop\n",
    "                break\n",
    "            currentparticlevalue = conditionmap[cond]['data'][particleIndex]\n",
    "            crossover = graph[matId][edge][cond]\n",
    "            if ((matId > edge) and (currentparticlevalue > crossover)):\n",
    "                innerchange = False # continue on, \n",
    "                if graph[matId][edge].keys()[-1] == cond:\n",
    "                    outerchange = True\n",
    "                    innerchange = edge\n",
    "                    break\n",
    "            elif ((matId < edge) and (currentparticlevalue < crossover)):\n",
    "                innerchange = False\n",
    "                if graph[matId][edge].keys()[-1] == cond:\n",
    "                    outerchange = True\n",
    "                    innerchange = edge\n",
    "                    break\n",
    "            else:\n",
    "                #condition not met, break outer loop, go to next edge, outerchange should still be False\n",
    "                break\n",
    "    if type(innerchange) == int:\n",
    "        return innerchange"
   ]
  },
  {
   "cell_type": "code",
   "execution_count": 29,
   "metadata": {
    "collapsed": false
   },
   "outputs": [],
   "source": [
    "#Set the crust material in the slab using shapes/function from uw.\n",
    "\n",
    "if not checkpointLoad:\n",
    "    #materialVariable.data[:] = mantleIndex\n",
    "    #lithtemp = 0.95*0.8\n",
    "    #tempswarm = temperatureField.evaluate(gSwarm)[:,0]\n",
    "\n",
    "    #At this point, we only have to assign any materials that are defined by setup shapes,\n",
    "    #the rest of the materials will be assigned using the materials graph\n",
    "\n",
    "    for particleID in range(gSwarm.particleCoordinates.data.shape[0]):\n",
    "        coord = gSwarm.particleCoordinates.data[particleID]\n",
    "        if gSwarm.particleCoordinates.data[particleID][1] > (1.0 - MANTLETOCRUST) and not Tri.evaluate(tuple(coord)):\n",
    "            materialVariable.data[particleID] =  crustIndex\n"
   ]
  },
  {
   "cell_type": "code",
   "execution_count": 30,
   "metadata": {
    "collapsed": false
   },
   "outputs": [],
   "source": [
    "#Cleanse the swarm of its sins\n",
    "#For some Material Graphs, the graph may have to be traversed more than once\n",
    "\n",
    "check = -1\n",
    "number_updated = 1\n",
    "\n",
    "while number_updated != 0:\n",
    "    number_updated = 0\n",
    "    for particleID in range(gSwarm.particleCoordinates.data.shape[0]):\n",
    "        check = update_swarm(DG, particleID)\n",
    "        if check > -1:\n",
    "            number_updated += 1\n",
    "            materialVariable.data[particleID] = check"
   ]
  },
  {
   "cell_type": "code",
   "execution_count": 31,
   "metadata": {
    "collapsed": false
   },
   "outputs": [
    {
     "data": {
      "text/html": [
       "<img src='data:image/png;base64,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'>"
      ],
      "text/plain": [
       "<IPython.core.display.HTML object>"
      ]
     },
     "execution_count": 31,
     "metadata": {},
     "output_type": "execute_result"
    }
   ],
   "source": [
    "figMat = glucifer.Figure()\n",
    "figMat.append( glucifer.objects.Points(gSwarm,materialVariable, colours='white blue red black'))\n",
    "#figMat.append( glucifer.objects.Mesh(mesh))\n",
    "figMat.save_database('test.gldb')\n",
    "figMat.show()"
   ]
  },
  {
   "cell_type": "markdown",
   "metadata": {},
   "source": [
    "## Rheology"
   ]
  },
  {
   "cell_type": "code",
   "execution_count": null,
   "metadata": {
    "collapsed": true
   },
   "outputs": [],
   "source": []
  },
  {
   "cell_type": "code",
   "execution_count": null,
   "metadata": {
    "collapsed": true
   },
   "outputs": [],
   "source": []
  },
  {
   "cell_type": "code",
   "execution_count": null,
   "metadata": {
    "collapsed": true
   },
   "outputs": [],
   "source": []
  },
  {
   "cell_type": "code",
   "execution_count": 32,
   "metadata": {
    "collapsed": true
   },
   "outputs": [],
   "source": [
    "# The yeilding of the upper slab is dependent on the strain rate.\n",
    "strainRate_2ndInvariant = fn.tensor.second_invariant( \n",
    "                            fn.tensor.symmetric( \n",
    "                            velocityField.fn_gradient ))\n",
    "\n",
    "\n",
    "coordinate = fn.input()\n",
    "depth = 1. - coordinate[1]\n"
   ]
  },
  {
   "cell_type": "code",
   "execution_count": 33,
   "metadata": {
    "collapsed": false
   },
   "outputs": [
    {
     "data": {
      "text/plain": [
       "1.0"
      ]
     },
     "execution_count": 33,
     "metadata": {},
     "output_type": "execute_result"
    }
   ],
   "source": [
    "temperatureField.data.max()"
   ]
  },
  {
   "cell_type": "code",
   "execution_count": 34,
   "metadata": {
    "collapsed": false
   },
   "outputs": [],
   "source": [
    "pf = math.exp(math.log(dp.E)/2.)\n",
    "arhennius = fn.misc.min(ndp.up_visc, fn.math.exp(-1*math.log(dp.E) + (math.log(dp.E) / (temperatureField + 1e-8))))\n"
   ]
  },
  {
   "cell_type": "code",
   "execution_count": 35,
   "metadata": {
    "collapsed": false
   },
   "outputs": [
    {
     "data": {
      "text/html": [
       "<img src='data:image/png;base64,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'>"
      ],
      "text/plain": [
       "<IPython.core.display.HTML object>"
      ]
     },
     "execution_count": 35,
     "metadata": {},
     "output_type": "execute_result"
    }
   ],
   "source": [
    "figVisc = glucifer.Figure()\n",
    "figVisc.append( glucifer.objects.Surface(mesh, arhennius, logScale=True))\n",
    "#figVisc.append(glucifer.objects.VectorArrows(mesh, velocityField, scaling=0.0002))\n",
    "figVisc.show()"
   ]
  },
  {
   "cell_type": "code",
   "execution_count": 36,
   "metadata": {
    "collapsed": false
   },
   "outputs": [
    {
     "data": {
      "text/plain": [
       "128.19708000000003"
      ]
     },
     "execution_count": 36,
     "metadata": {},
     "output_type": "execute_result"
    }
   ],
   "source": [
    "ndp.fcd/ndp.cohesion"
   ]
  },
  {
   "cell_type": "code",
   "execution_count": 38,
   "metadata": {
    "collapsed": false
   },
   "outputs": [],
   "source": [
    "#Psuedo-plastic \n",
    "ys =  ndp.cohesion + (depth*ndp.fcd)\n",
    "#ys =  ndp.fc*lithopressuregrad*(30e3/dp.LS) # this is the byerlee strength at 30 km\n",
    "yss = fn.misc.max(ndp.cohesion, ys)\n",
    "plasticvisc = yss*(math.sqrt(2))/(strainRate_2ndInvariant*2.)\n",
    "plastic = fn.misc.max(ndp.low_visc,plasticvisc)\n",
    "#combine these\n",
    "mantleviscosityFn = fn.misc.min(arhennius, plastic)\n",
    "\n"
   ]
  },
  {
   "cell_type": "code",
   "execution_count": 59,
   "metadata": {
    "collapsed": false
   },
   "outputs": [],
   "source": [
    "maxT    = 1.0    # max time for shearing velocity BC\n",
    "eta     = 1.0e2  # viscosity\n",
    "mu      = 1.0e2  # elastic modulus\n",
    "\n",
    "alpha   = ndp.up_visc / ndp.G                         # viscoelastic relaxation time\n",
    "dt_e    = alpha / 10.                      # elastic time step\n",
    "eta_eff = ( eta * dt_e ) / (alpha + dt_e)  # effective viscosity"
   ]
  },
  {
   "cell_type": "code",
   "execution_count": 57,
   "metadata": {
    "collapsed": false
   },
   "outputs": [],
   "source": [
    "# Here we set a viscosity value of '1.' for both materials\n",
    "viscosityMapFn = fn.branching.map( fn_key = materialVariable,\n",
    "                         mapping = {airIndex:ndp.StAeta0, \n",
    "                                    lithosphereIndex:mantleviscosityFn, \n",
    "                                    crustIndex:mantleviscosityFn,\n",
    "                                    mantleIndex:mantleviscosityFn, \n",
    "                                    eclIndex:mantleviscosityFn,\n",
    "                                    tempIndex:mantleviscosityFn} )\n",
    "\n",
    "densityMapFn = fn.branching.map( fn_key = materialVariable,\n",
    "                         mapping = {airIndex:ndp.StA_RA, \n",
    "                                    lithosphereIndex:ndp.RA*temperatureField, \n",
    "                                    crustIndex:ndp.RA*temperatureField, \n",
    "                                    mantleIndex:ndp.RA*temperatureField, \n",
    "                                    eclIndex:ndp.RA*temperatureField,\n",
    "                                    tempIndex:ndp.RA*temperatureField, } )\n",
    "\n",
    "# Define our gravity using a python tuple (this will be automatically converted to a function)\n",
    "gravity = ( 0.0, 1.0 )\n",
    "\n",
    "buoyancyFn = gravity*densityMapFn"
   ]
  },
  {
   "cell_type": "markdown",
   "metadata": {},
   "source": [
    "## Build Stokes system"
   ]
  },
  {
   "cell_type": "code",
   "execution_count": 58,
   "metadata": {
    "collapsed": true
   },
   "outputs": [],
   "source": [
    "stokesPIC = uw.systems.Stokes( velocityField = velocityField, \n",
    "                               pressureField = pressureField,\n",
    "                               #swarm         = gSwarm, \n",
    "                               conditions    = [freeslipBC,],\n",
    "                               fn_viscosity   = arhennius, \n",
    "                               fn_bodyforce   = buoyancyFn,\n",
    "                               swarm=gSwarm)"
   ]
  },
  {
   "cell_type": "code",
   "execution_count": 59,
   "metadata": {
    "collapsed": true
   },
   "outputs": [],
   "source": [
    "#We do one solve with linear viscosity to get the initial strain rate invariant. \n",
    "#This solve step also calculates a 'guess' of the the velocity field based on the linear system, \n",
    "#which is used later in the non-linear solver.\n",
    "\n",
    "solver = uw.systems.Solver(stokesPIC)\n",
    "# If not doing a restart, do a solve on the non-plastic system\n",
    "if not checkpointLoad:\n",
    "    solver.solve()"
   ]
  },
  {
   "cell_type": "code",
   "execution_count": null,
   "metadata": {
    "collapsed": true
   },
   "outputs": [],
   "source": [
    "#Switch particle escape on, this will also trigger the inflow population control \n",
    "gSwarm.particleEscape = True"
   ]
  },
  {
   "cell_type": "code",
   "execution_count": 137,
   "metadata": {
    "collapsed": true
   },
   "outputs": [],
   "source": [
    "####################\n",
    "#Add the non-linear viscosity to the Stokes system\n",
    "stokesPIC.fn_viscosity = viscosityMapFn\n",
    "###################\n",
    "\n",
    "#Set more advanced solver option\n",
    "solver.options.main.Q22_pc_type='gkgdiag'\n",
    "#solver.options.A11.ksp_rtol=1e-2\n",
    "#solver.options.scr.ksp_rtol=1e-3\n",
    "#solver.options.A11.ksp_type=\"cg\"\n",
    "solver.options.scr.use_previous_guess = True\n",
    "#solver.options.scr.ksp_set_min_it_converge = 1\n",
    "#solver.options.main.penalty=10.0\n",
    "\n",
    "#solver.options.mg.levels = 3\n",
    "#solver.options.main.remove_constant_pressure_null_space=True\n",
    "#solver.options.main.penalty = 1e2\n",
    "\n",
    "solver.options.A11.ksp_rtol=1e-4\n",
    "solver.options.scr.ksp_rtol=1e-4\n",
    "\n",
    "solver.options.A11.ksp_monitor=''\n",
    "solver.options.A11.ksp_converged_reason=''"
   ]
  },
  {
   "cell_type": "code",
   "execution_count": 138,
   "metadata": {
    "collapsed": true
   },
   "outputs": [],
   "source": [
    "solver.solve(nonLinearIterate=True)"
   ]
  },
  {
   "cell_type": "code",
   "execution_count": 141,
   "metadata": {
    "collapsed": false
   },
   "outputs": [
    {
     "data": {
      "text/plain": [
       "0"
      ]
     },
     "execution_count": 141,
     "metadata": {},
     "output_type": "execute_result"
    }
   ],
   "source": [
    "ndp.H"
   ]
  },
  {
   "cell_type": "code",
   "execution_count": 143,
   "metadata": {
    "collapsed": false
   },
   "outputs": [],
   "source": [
    "#Create advdiff system\n",
    "\n",
    "\n",
    "\n",
    "#advDiff = uw.systems.AdvectionDiffusion( phiField       = temperatureField, \n",
    "#                                         phiDotField    = temperatureDotField, \n",
    "#                                         velocityField  = velocityField, \n",
    "#                                         fn_diffusivity = 1.0,\n",
    "#                                         fn_sourceTerm = 0.,\n",
    "#                                         conditions     = [tempBC,] )\n",
    "\n",
    "\n",
    "advDiff = uw.systems.AdvectionDiffusion( phiField       = temperatureField, \n",
    "                                         phiDotField    = temperatureDotField, \n",
    "                                         velocityField  = velocityField,\n",
    "                                         fn_sourceTerm    = ndp.H,\n",
    "                                         fn_diffusivity = 1.0, \n",
    "                                         conditions     = [dirichTempBC,] )\n",
    "\n",
    "\n",
    "\n",
    "advector = uw.systems.SwarmAdvector( swarm         = gSwarm, \n",
    "                                     velocityField = velocityField, \n",
    "                                     order         = 1)"
   ]
  },
  {
   "cell_type": "code",
   "execution_count": null,
   "metadata": {
    "collapsed": true
   },
   "outputs": [],
   "source": [
    "pics = uw.swarm.PICIntegrationSwarm(gSwarm)"
   ]
  },
  {
   "cell_type": "markdown",
   "metadata": {},
   "source": [
    "## Figures / gldbs etc"
   ]
  },
  {
   "cell_type": "code",
   "execution_count": 145,
   "metadata": {
    "collapsed": true
   },
   "outputs": [],
   "source": [
    "viscVariable = gSwarm.add_variable( dataType=\"float\", count=1 )\n",
    "viscVariable.data[:] = viscosityMapFn.evaluate(gSwarm)"
   ]
  },
  {
   "cell_type": "code",
   "execution_count": 146,
   "metadata": {
    "collapsed": true
   },
   "outputs": [],
   "source": [
    "#Pack some stuff into a database as well\n",
    "figDb = glucifer.Figure()\n",
    "figDb.append( glucifer.objects.Points(gSwarm,viscVariable, logScale=True, colours='brown white blue'))\n",
    "figDb.append( glucifer.objects.Points(gSwarm,materialVariable, colours='brown white blue red'))\n",
    "figDb.append( glucifer.objects.Mesh(mesh))\n",
    "figDb.append( glucifer.objects.VectorArrows(mesh,velocityField, arrowHead=0.2, scaling=0.01))\n",
    "figDb.append( glucifer.objects.Surface(mesh, strainRate_2ndInvariant, logScale=True, colours='brown white blue'))\n",
    "figDb.append( glucifer.objects.Surface(mesh, temperatureField))"
   ]
  },
  {
   "cell_type": "code",
   "execution_count": 152,
   "metadata": {
    "collapsed": true
   },
   "outputs": [],
   "source": [
    "step = 0\n",
    "realtime = 0.\n",
    "timevals = [0.]"
   ]
  },
  {
   "cell_type": "code",
   "execution_count": null,
   "metadata": {
    "collapsed": false
   },
   "outputs": [
    {
     "name": "stdout",
     "output_type": "stream",
     "text": [
      "0.0\n",
      "1.0\n",
      "2.0\n",
      "3.0\n",
      "4.0"
     ]
    }
   ],
   "source": [
    "# initialise timer for computation\n",
    "startMain = time.clock()\n",
    "# Perform steps#\n",
    "while realtime < 0.2:\n",
    "#while step < 25:\n",
    "    #Enter non-linear loop\n",
    "    print step\n",
    "    solver.solve(nonLinearIterate=True)\n",
    "    dt = advDiff.get_max_dt()\n",
    "    if step == 0:\n",
    "        dt = 0.\n",
    "    #start = time.clock()\n",
    "    advDiff.integrate(dt)\n",
    "    #machine_time = (time.clock()-start)\n",
    "    #print(\"total advDiff time is: \" + str(machine_time))\n",
    "    # Advect swarm using this timestep size\n",
    "    #start = time.clock()\n",
    "    advector.integrate(dt)\n",
    "    #machine_time = (time.clock()-start)\n",
    "    #print(\"total advector time is: \" + str(machine_time))\n",
    "    # Increment\n",
    "    realtime += dt\n",
    "    step += 1\n",
    "    timevals.append(realtime)\n",
    "    \n",
    "    ################\n",
    "    #Gldb output\n",
    "    ################ \n",
    "    if (step % gldbs_output == 0):\n",
    "        #Rebuild any necessary swarm variables\n",
    "        viscVariable.data[:] = viscosityMapFn.evaluate(gSwarm)\n",
    "        #Write gldbs\n",
    "        fnamedb = \"dbFig\" + \"_\" + str(ModIt) + \"_\" + str(step) + \".gldb\"\n",
    "        fullpath = os.path.join(outputPath + \"gldbs/\" + fnamedb)\n",
    "        figDb.show()\n",
    "        figDb.save_database(fullpath)\n",
    "    ################\n",
    "    #Also repopulate entire swarm periodically\n",
    "    ################\n",
    "    if step % swarm_repop == 0:\n",
    "        pics.repopulate()\n",
    "    "
   ]
  },
  {
   "cell_type": "code",
   "execution_count": null,
   "metadata": {
    "collapsed": true
   },
   "outputs": [],
   "source": []
  }
 ],
 "metadata": {
  "kernelspec": {
   "display_name": "Python 2",
   "language": "python",
   "name": "python2"
  },
  "language_info": {
   "codemirror_mode": {
    "name": "ipython",
    "version": 2
   },
   "file_extension": ".py",
   "mimetype": "text/x-python",
   "name": "python",
   "nbconvert_exporter": "python",
   "pygments_lexer": "ipython2",
   "version": "2.7.11"
  }
 },
 "nbformat": 4,
 "nbformat_minor": 0
}
