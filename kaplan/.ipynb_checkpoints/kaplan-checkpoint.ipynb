{
 "cells": [
  {
   "cell_type": "markdown",
   "metadata": {
    "collapsed": true
   },
   "source": [
    "## From Kaplan "
   ]
  },
  {
   "cell_type": "code",
   "execution_count": 9,
   "metadata": {
    "collapsed": true
   },
   "outputs": [],
   "source": [
    "import networkx as nx\n",
    "import underworld as uw\n",
    "import math\n",
    "from underworld import function as fn\n",
    "import glucifer\n",
    "#import matplotlib.pyplot as pyplot\n",
    "import time\n",
    "import numpy as np\n",
    "import os\n",
    "import sys\n",
    "import natsort\n",
    "import shutil\n",
    "from easydict import EasyDict as edict\n",
    "import slippy2 as sp\n",
    "from slippy2 import unit_conversions\n",
    "from slippy2 import boundary_layer2d\n",
    "\n",
    "\n",
    "\n",
    "from mpi4py import MPI\n",
    "comm = MPI.COMM_WORLD\n",
    "rank = comm.Get_rank()"
   ]
  },
  {
   "cell_type": "code",
   "execution_count": 10,
   "metadata": {
    "collapsed": true
   },
   "outputs": [],
   "source": [
    "############\n",
    "#Model name.  \n",
    "############\n",
    "Model = \"T\"\n",
    "ModNum = 0\n",
    "\n",
    "if len(sys.argv) == 1:\n",
    "    ModIt = \"Base\"\n",
    "elif sys.argv[1] == '-f':\n",
    "    ModIt = \"Base\"\n",
    "else:\n",
    "    ModIt = str(sys.argv[1])"
   ]
  },
  {
   "cell_type": "code",
   "execution_count": 11,
   "metadata": {
    "collapsed": true
   },
   "outputs": [],
   "source": [
    "###########\n",
    "#Standard output directory setup\n",
    "###########\n",
    "\n",
    "\n",
    "outputPath = \"results\" + \"/\" +  str(Model) + \"/\" + str(ModNum) + \"/\" + str(ModIt) + \"/\"\n",
    "imagePath = outputPath + 'images/'\n",
    "filePath = outputPath + 'files/'\n",
    "checkpointPath = outputPath + 'checkpoint/'\n",
    "dbPath = outputPath + 'gldbs/'\n",
    "outputFile = 'results_model' + Model + '_' + str(ModNum) + '_' + str(ModIt) + '.dat'\n",
    "\n",
    "if uw.rank()==0:\n",
    "    # make directories if they don't exist\n",
    "    if not os.path.isdir(outputPath):\n",
    "        os.makedirs(outputPath)\n",
    "    if not os.path.isdir(checkpointPath):\n",
    "        os.makedirs(checkpointPath)\n",
    "    if not os.path.isdir(imagePath):\n",
    "        os.makedirs(imagePath)\n",
    "    if not os.path.isdir(dbPath):\n",
    "        os.makedirs(dbPath)\n",
    "    if not os.path.isdir(filePath):\n",
    "        os.makedirs(filePath)\n",
    "        \n",
    "comm.Barrier() #Barrier here so no procs run the check in the next cell too early "
   ]
  },
  {
   "cell_type": "code",
   "execution_count": 12,
   "metadata": {
    "collapsed": false
   },
   "outputs": [
    {
     "name": "stdout",
     "output_type": "stream",
     "text": [
      "results/T/0/Base/checkpoint/ is empty\n"
     ]
    }
   ],
   "source": [
    "###########\n",
    "#Check if starting from checkpoint\n",
    "###########\n",
    "\n",
    "checkdirs = []\n",
    "for dirpath, dirnames, files in os.walk(checkpointPath):\n",
    "    if files:\n",
    "        print dirpath, 'has files'\n",
    "        checkpointLoad = True\n",
    "        checkdirs.append(dirpath)\n",
    "    if not files:\n",
    "        print dirpath, 'is empty'\n",
    "        checkpointLoad = False\n",
    "        "
   ]
  },
  {
   "cell_type": "code",
   "execution_count": 13,
   "metadata": {
    "collapsed": false
   },
   "outputs": [],
   "source": [
    "###########\n",
    "#Physical parameters\n",
    "###########\n",
    "\n",
    "#dimensional parameter dictionary\n",
    "dp = edict({'LS':660.*1e3,\n",
    "           'rho':3300,\n",
    "           'g':9.81, \n",
    "           'eta0':1e20,\n",
    "           'k':10**-6,\n",
    "           'a':3e-5, \n",
    "           'deltaT':1400,\n",
    "           'TS':273.,\n",
    "           'TB':1673.,\n",
    "           'cohesion':5e6,\n",
    "           'fc':0.03,\n",
    "           'E':1e5, \n",
    "           'StALS': 27.*1e3, \n",
    "           'G':8e10})\n",
    "\n",
    "#scale_factors\n",
    "\n",
    "sf = edict({'stress':dp.LS**2/(dp.k*dp.eta0),\n",
    "           'lith_grad':dp.rho*dp.g*(dp.LS)**3/(dp.eta0*dp.k) })\n",
    "\n",
    "#dimensionless parameters\n",
    "\n",
    "ndp = edict({'RA':(dp.g*dp.rho*dp.a*dp.deltaT *(dp.LS)**3)/(dp.k*dp.eta0),\n",
    "           'cohesion':dp.cohesion*sf.stress,\n",
    "            'fcd':dp.fc*sf.lith_grad,\n",
    "            'TS':0.,\n",
    "            'TB':1.,\n",
    "            'low_visc':1e-4,\n",
    "            'StAeta0':0.01,\n",
    "            'up_visc':1e5,\n",
    "            'H':0.,\n",
    "            'G':dp.G*sf.stress})"
   ]
  },
  {
   "cell_type": "code",
   "execution_count": 14,
   "metadata": {
    "collapsed": false
   },
   "outputs": [],
   "source": [
    "#origRA = ndp.RA \n",
    "#ndp.RA  = 5e8\n",
    "#ndp.cohesion = ndp.cohesion*(ndp.RA/origRA)\n",
    "#ndp.RA "
   ]
  },
  {
   "cell_type": "code",
   "execution_count": 15,
   "metadata": {
    "collapsed": true
   },
   "outputs": [],
   "source": [
    "ETAREF = dp.rho*dp.g*dp.a*dp.deltaT*((dp.LS)**3)/(ndp.RA*dp.k) #equivalent dimensional reference viscosity\n",
    "#RC = (3300.*dp.g*(dp.LS)**3)/(ETAREF *dp.k) #Composisitional Rayleigh number for rock-air buoyancy force\n",
    "RCA = (1650.*dp.g*(dp.LS)**3)/(ETAREF *dp.k) #Composisitional Rayleigh number for rock-air buoyancy force\n",
    "COMP_RA_FACT_AIR = RCA/ndp.RA\n",
    "#RCC = (100.*dp.g*(dp.LS)**3)/(ETAREF *dp.k) #Composisitional Rayleigh number for crust\n",
    "#COMP_RA_FACT_CRUST = RCC/ndp.RA\n",
    "#RCE = -1*(200.*dp.g*(dp.LS)**3)/(ETAREF *dp.k) #Composisitional Rayleigh number for eclogite \n",
    "#COMP_RA_FACT_ECL = RCE/ndp.RA\n",
    "ndp[\"StA_RA\"] = ndp.RA*COMP_RA_FACT_AIR"
   ]
  },
  {
   "cell_type": "code",
   "execution_count": 16,
   "metadata": {
    "collapsed": false
   },
   "outputs": [],
   "source": [
    "#A few parameters defining lengths scales, affects materal transistions etc.\n",
    "MANTLETOCRUST = (20.*1e3)/dp.LS #Crust depth\n",
    "CRUSTTOMANTLE = (900.*1e3)/dp.LS \n",
    "LITHTOMANTLE = (900.*1e3)/dp.LS \n",
    "MANTLETOLITH = (200.*1e3)/dp.LS \n",
    "TOPOHEIGHT = (0.*1e3)/dp.LS  #rock-air topography limits\n",
    "CRUSTTOECL  = (100.*1e3)/dp.LS\n",
    "AVGTEMP = ndp.TB #Used to define lithosphere"
   ]
  },
  {
   "cell_type": "code",
   "execution_count": 17,
   "metadata": {
    "collapsed": true
   },
   "outputs": [],
   "source": [
    "###########\n",
    "#Boundary layer / slab paramaters\n",
    "###########\n",
    "\n",
    "modelage  = 75 \n",
    "subzone = -500.e3/dp.LS\n",
    "mor = (1500e3/dp.LS) - (200e3/dp.LS)\n",
    "#vel = 70e3\n",
    "vel = 1800e3/modelage \n",
    "agelimit = 70.\n",
    "thermallimit = 0.8\n",
    "\n",
    "#Slab perturbation paramaters\n",
    "Roc = 450.\n",
    "Crust = 35.\n",
    "theta = 89."
   ]
  },
  {
   "cell_type": "code",
   "execution_count": 18,
   "metadata": {
    "collapsed": false
   },
   "outputs": [
    {
     "data": {
      "text/plain": [
       "24000.0"
      ]
     },
     "execution_count": 18,
     "metadata": {},
     "output_type": "execute_result"
    }
   ],
   "source": [
    "vel"
   ]
  },
  {
   "cell_type": "code",
   "execution_count": 19,
   "metadata": {
    "collapsed": true
   },
   "outputs": [],
   "source": [
    "###########\n",
    "#Model setup parameters\n",
    "###########\n",
    "\n",
    "stickyAir = False\n",
    "\n",
    "MINX = -(1500/670.)\n",
    "MINY = 0.\n",
    "MAXX = 1500/670.\n",
    "\n",
    "#MAXY = 1.035\n",
    "MAXY = 1.\n",
    "\n",
    "if MINX == 0.:\n",
    "    squareModel = True\n",
    "else: \n",
    "    squareModel = False\n",
    "    \n",
    "    \n",
    "dim = 2          # number of spatial dimensions\n",
    "\n",
    "\n",
    "#MESH STUFF\n",
    "\n",
    "RES = 64\n",
    "\n",
    "\n",
    "Xres = int(RES*4)\n",
    "\n",
    "\n",
    "if stickyAir:\n",
    "    Yres = RES\n",
    "    MAXY = 1. + dp.StALS/dp.LS #150km\n",
    "    \n",
    "else:\n",
    "    Yres = RES\n",
    "    MAXY = 1.\n",
    "\n",
    "\n",
    "periodic = [False, False]\n",
    "elementType = \"Q1/dQ0\"\n",
    "#elementType =\"Q2/DPC1\"\n",
    "\n",
    "refineMesh = True\n",
    "\n",
    "#System/Solver stuff\n",
    "\n",
    "PIC_integration=True\n",
    "ppc = 25"
   ]
  },
  {
   "cell_type": "code",
   "execution_count": 20,
   "metadata": {
    "collapsed": true
   },
   "outputs": [],
   "source": [
    "###########\n",
    "#Model Runtime parameters\n",
    "###########\n",
    "\n",
    "swarm_update = 10\n",
    "swarm_repop = 25\n",
    "files_output = 1e6\n",
    "gldbs_output = 25\n",
    "images_output = 1e6\n",
    "checkpoint_every = 25\n",
    "metric_output = 25\n",
    "sticky_air_temp = 10\n",
    "\n",
    "comm.Barrier() #Barrier here so not procs run the check in the next cell too early \n",
    "\n",
    "assert metric_output <= checkpoint_every, 'Checkpointing should run less or as ofen as metric output'\n",
    "#assert (metric_output >= swarm_update), 'Swarm update is needed before checkpointing'\n",
    "#assert metric_output >= sticky_air_temp, 'Sticky air temp should be updated more frequently that metrics'"
   ]
  },
  {
   "cell_type": "code",
   "execution_count": 21,
   "metadata": {
    "collapsed": true
   },
   "outputs": [],
   "source": [
    "mesh = uw.mesh.FeMesh_Cartesian( elementType = elementType,\n",
    "                                 elementRes  = (Xres, Yres), \n",
    "                                 minCoord    = (MINX,MINY), \n",
    "                                 maxCoord=(MAXX,MAXY), periodic=periodic)\n",
    "\n",
    "\n",
    "\n",
    "velocityField       = uw.mesh.MeshVariable( mesh=mesh,         nodeDofCount=dim )\n",
    "pressureField       = uw.mesh.MeshVariable( mesh=mesh.subMesh, nodeDofCount=1 )\n",
    "temperatureField    = uw.mesh.MeshVariable( mesh=mesh,         nodeDofCount=1 )\n",
    "temperatureDotField = uw.mesh.MeshVariable( mesh=mesh,         nodeDofCount=1 )"
   ]
  },
  {
   "cell_type": "code",
   "execution_count": 22,
   "metadata": {
    "collapsed": true
   },
   "outputs": [],
   "source": [
    "# Initialise data.. Note that we are also setting boundary conditions here\n",
    "velocityField.data[:] = [0.,0.]\n",
    "pressureField.data[:] = 0.\n",
    "temperatureField.data[:] = 0.\n",
    "temperatureDotField.data[:] = 0."
   ]
  },
  {
   "cell_type": "code",
   "execution_count": 23,
   "metadata": {
    "collapsed": false
   },
   "outputs": [
    {
     "data": {
      "text/plain": [
       "0.0"
      ]
     },
     "execution_count": 23,
     "metadata": {},
     "output_type": "execute_result"
    }
   ],
   "source": [
    "ndp.TS"
   ]
  },
  {
   "cell_type": "code",
   "execution_count": 24,
   "metadata": {
    "collapsed": false
   },
   "outputs": [],
   "source": [
    "lith= boundary_layer2d.LithosphereTemps(mesh, temperatureField, dp.LS, MINX, mor, tint=ndp.TB, tsurf=ndp.TS, vel= 10e3, diffs = 1e-6)\n"
   ]
  },
  {
   "cell_type": "code",
   "execution_count": 25,
   "metadata": {
    "collapsed": true
   },
   "outputs": [],
   "source": [
    "coords = [(MINX, 1.), (subzone, 1.), (MINX, 0.)]\n",
    "Tri = fn.shape.Polygon(np.array(coords))"
   ]
  },
  {
   "cell_type": "code",
   "execution_count": 26,
   "metadata": {
    "collapsed": false
   },
   "outputs": [],
   "source": [
    "for index, coord in enumerate(mesh.data):\n",
    "    xloc = coord[0]\n",
    "    agema = lith.agefunc(xloc)\n",
    "    if coord[1] >= 1.:\n",
    "            temperatureField.data[index] = lith.tsurf\n",
    "    else:\n",
    "        zloc = ((1.- coord[1])* dp.LS) # dimensional depth kms\n",
    "        t = lith.tempfunc(agema, zloc)\n",
    "        temperatureField.data[index] = t \n",
    "    if coord[1] <= 1. and coord[0] > mor: #Get rid of lithosphere to the right of the ridge\n",
    "        temperatureField.data[index] = lith.tint\n",
    "    if Tri.evaluate(tuple(coord)):\n",
    "        temperatureField.data[index] = lith.tint"
   ]
  },
  {
   "cell_type": "code",
   "execution_count": 27,
   "metadata": {
    "collapsed": false
   },
   "outputs": [
    {
     "data": {
      "text/html": [
       "<img src='data:image/png;base64,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'>"
      ],
      "text/plain": [
       "<IPython.core.display.HTML object>"
      ]
     },
     "execution_count": 27,
     "metadata": {},
     "output_type": "execute_result"
    }
   ],
   "source": [
    "figTemp = glucifer.Figure()\n",
    "figTemp.append( glucifer.objects.Surface(mesh, temperatureField))\n",
    "\n",
    "#figTemp.save_database('test.gldb')\n",
    "figTemp.show()"
   ]
  },
  {
   "cell_type": "code",
   "execution_count": 28,
   "metadata": {
    "collapsed": true
   },
   "outputs": [],
   "source": [
    "# send boundary condition information to underworld\n",
    "IWalls = mesh.specialSets[\"MinI_VertexSet\"] + mesh.specialSets[\"MaxI_VertexSet\"]\n",
    "JWalls = mesh.specialSets[\"MinJ_VertexSet\"] + mesh.specialSets[\"MaxJ_VertexSet\"]\n",
    "TWalls = mesh.specialSets[\"MaxJ_VertexSet\"]\n",
    "BWalls = mesh.specialSets[\"MinJ_VertexSet\"]"
   ]
  },
  {
   "cell_type": "code",
   "execution_count": null,
   "metadata": {
    "collapsed": false
   },
   "outputs": [],
   "source": []
  },
  {
   "cell_type": "code",
   "execution_count": 29,
   "metadata": {
    "collapsed": false
   },
   "outputs": [],
   "source": [
    "#Set Dirichlet Temp conditions\n",
    "\n",
    "for index in mesh.specialSets[\"MinJ_VertexSet\"]:\n",
    "    temperatureField.data[index] = lith.tint\n",
    "for index in mesh.specialSets[\"MaxJ_VertexSet\"]:\n",
    "    temperatureField.data[index] = lith.tsurf\n",
    "\n",
    "\n",
    "# Now setup the dirichlet boundary condition\n",
    "# Note that through this object, we are flagging to the system \n",
    "# that these nodes are to be considered as boundary conditions. \n",
    "# Also note that we provide a tuple of sets.. One for the Vx, one for Vy.\n",
    "freeslipBC = uw.conditions.DirichletCondition(     variable=velocityField, \n",
    "                                              indexSetsPerDof=(IWalls, JWalls) )\n",
    "\n",
    "# also set dirichlet for temp field\n",
    "dirichTempBC = uw.conditions.DirichletCondition(     variable=temperatureField, \n",
    "                                              indexSetsPerDof=(JWalls,) )"
   ]
  },
  {
   "cell_type": "markdown",
   "metadata": {},
   "source": [
    "# Particles"
   ]
  },
  {
   "cell_type": "code",
   "execution_count": 30,
   "metadata": {
    "collapsed": true
   },
   "outputs": [],
   "source": [
    "###########\n",
    "#Material Swarm and variables\n",
    "###########\n",
    "\n",
    "gSwarm = uw.swarm.Swarm(mesh=mesh)\n",
    "materialVariable = gSwarm.add_variable( dataType=\"int\", count=1 )"
   ]
  },
  {
   "cell_type": "code",
   "execution_count": 31,
   "metadata": {
    "collapsed": false
   },
   "outputs": [],
   "source": [
    "mantleIndex = 0\n",
    "lithosphereIndex = 1\n",
    "eclIndex = 2\n",
    "crustIndex = 3\n",
    "airIndex = 4\n",
    "tempIndex = 5\n",
    "\n",
    "\n",
    "\n",
    "\n",
    "if checkpointLoad:\n",
    "    checkpointLoadDir = natsort.natsorted(checkdirs)[-1]\n",
    "    temperatureField.load(os.path.join(checkpointLoadDir, \"temperatureField\" + \".hdf5\"))\n",
    "    pressureField.load(os.path.join(checkpointLoadDir, \"pressureField\" + \".hdf5\"))\n",
    "    velocityField.load(os.path.join(checkpointLoadDir, \"velocityField\" + \".hdf5\"))\n",
    "    gSwarm.load(os.path.join(checkpointLoadDir, \"swarm\" + \".h5\"))\n",
    "    for ix in range(len(varlist)):\n",
    "        varb = varlist[ix]\n",
    "        varb.load(os.path.join(checkpointLoadDir,varnames[ix] + \".h5\"))\n",
    "\n",
    "else:\n",
    "\n",
    "    # Layouts are used to populate the swarm across the whole domain\n",
    "    # Create the layout object\n",
    "    layout = uw.swarm.layouts.PerCellRandomLayout(swarm=gSwarm, particlesPerCell=ppc)\n",
    "    # Now use it to populate.\n",
    "    gSwarm.populate_using_layout( layout=layout )\n",
    "\n",
    "    # Lets initialise the 'materialVariable' data to represent different materials\n",
    "    # Set the material to heavy everywhere via the numpy array\n",
    "    materialVariable.data[:] = mantleIndex\n",
    "    \n",
    "    \n",
    "    #Set initial air and crust materials (allow the graph to take care of lithsophere)\n",
    "    #########\n",
    "    #This initial material setup will be model dependent\n",
    "    #########\n",
    "    for particleID in range(gSwarm.particleCoordinates.data.shape[0]):\n",
    "        if (1. - gSwarm.particleCoordinates.data[particleID][1]) < 0:\n",
    "                 materialVariable.data[particleID] = airIndex\n",
    "        elif (1. - gSwarm.particleCoordinates.data[particleID][1]) < MANTLETOCRUST:\n",
    "                 materialVariable.data[particleID] = crustIndex\n"
   ]
  },
  {
   "cell_type": "markdown",
   "metadata": {},
   "source": [
    "# Material Graphs"
   ]
  },
  {
   "cell_type": "code",
   "execution_count": 32,
   "metadata": {
    "collapsed": true
   },
   "outputs": [],
   "source": [
    "##############\n",
    "#Important: This is a quick fix for a bug that arises in parallel runs\n",
    "##############\n",
    "material_list = [0,1,2,3,4,5]\n"
   ]
  },
  {
   "cell_type": "code",
   "execution_count": 33,
   "metadata": {
    "collapsed": true
   },
   "outputs": [],
   "source": [
    "#All depth conditions are given as (km/D) where D is the length scale,\n",
    "#note that 'model depths' are used, e.g. 1-z, where z is the vertical Underworld coordinate\n",
    "#All temp conditions are in dimensionless temp. [0. - 1.]\n",
    "\n",
    "#######Graph object\n",
    "DG = nx.DiGraph(field=\"Depth\")\n",
    "\n",
    "#######Nodes\n",
    "#Note that the order of materials, deepest to shallowest is important\n",
    "DG.add_node(0, mat='mantle')\n",
    "DG.add_node(1, mat='lithosphere')\n",
    "DG.add_node(2, mat='ecl')\n",
    "DG.add_node(3, mat='crust')\n",
    "DG.add_node(4, mat='air')\n",
    "DG.add_node(5, mat='temp')\n",
    "\n",
    "\n",
    "labels=dict((n,d['mat']) for n,d in DG.nodes(data=True))\n",
    "pos=nx.spring_layout(DG)\n",
    "\n",
    "\n",
    "#######Edges\n",
    "#anything to air\n",
    "DG.add_edges_from([(0,4),(1,4), (3,4)])\n",
    "DG[0][4]['depthcondition'] = -1*TOPOHEIGHT\n",
    "DG[1][4]['depthcondition'] = -1*TOPOHEIGHT\n",
    "DG[3][4]['depthcondition'] = -1*TOPOHEIGHT\n",
    "\n",
    "\n",
    "#Anything to mantle\n",
    "DG.add_edges_from([(3,0), (1,0), (2,0), (5,0)])\n",
    "DG[3][0]['depthcondition'] = CRUSTTOMANTLE #Normal crust\n",
    "DG[1][0]['depthcondition'] = LITHTOMANTLE #This means we're going to kill lithosphere at the 660.\n",
    "DG[2][0]['depthcondition'] = CRUSTTOMANTLE #Eclogite crust\n",
    "DG[5][0]['depthcondition'] = CRUSTTOMANTLE #Normal crust\n",
    "\n",
    "#Anything to lithsphere\n",
    "DG.add_edges_from([(0,1),(4,1)])\n",
    "DG[0][1]['depthcondition'] = MANTLETOLITH\n",
    "DG[0][1]['avgtempcondition'] = 0.75*AVGTEMP #definition of thermal lithosphere\n",
    "\n",
    "\n",
    "#Anything to crust\n",
    "DG.add_edges_from([(0,3), (1,3), (4,3)])\n",
    "DG[0][3]['depthcondition'] = MANTLETOCRUST\n",
    "DG[1][3]['depthcondition'] = MANTLETOCRUST\n",
    "DG[4][3]['depthcondition'] = TOPOHEIGHT\n",
    "\n",
    "#crust to eclogite\n",
    "DG.add_edges_from([(3,2)])\n",
    "DG[3][2]['depthcondition'] =CRUSTTOECL"
   ]
  },
  {
   "cell_type": "code",
   "execution_count": 34,
   "metadata": {
    "collapsed": false
   },
   "outputs": [],
   "source": [
    "remove_nodes = []\n",
    "for node in DG.nodes():\n",
    "    if not node in material_list:\n",
    "        remove_nodes.append(node)\n",
    "        \n",
    "for rmnode in remove_nodes:\n",
    "    DG.remove_node(rmnode)"
   ]
  },
  {
   "cell_type": "code",
   "execution_count": 35,
   "metadata": {
    "collapsed": true
   },
   "outputs": [],
   "source": [
    "#A Dictionary to map strings in the graph (e.g. 'depthcondition') to particle data arrays\n",
    "\n",
    "particledepths = 1. - gSwarm.particleCoordinates.data[:,1]\n",
    "particletemps = temperatureField.evaluate(gSwarm)[:,0]\n",
    "\n",
    "conditionmap = {}\n",
    "\n",
    "conditionmap['depthcondition'] = {}\n",
    "conditionmap['depthcondition']['data'] = particledepths\n",
    "conditionmap['avgtempcondition'] = {}\n",
    "conditionmap['avgtempcondition']['data'] = particletemps"
   ]
  },
  {
   "cell_type": "code",
   "execution_count": 36,
   "metadata": {
    "collapsed": true
   },
   "outputs": [],
   "source": [
    "def update_swarm(graph, particleIndex):\n",
    "    \"\"\"\n",
    "    This function takes the materials graph (networkx.DiGraph), and a particle index,\n",
    "    then determines if a material update is required \n",
    "    and if so, returns the new materialindex\n",
    "    Args:\n",
    "        graph (networkx.DiGraph): Directed multigraph representing the transformation of material types\n",
    "        particleIndex (int): the particle index as corressponding to the index in the swarm data arrays\n",
    "    Returns:\n",
    "        if update is required the function returns the the new material variable (int) \n",
    "        else returns None\n",
    "    Raises:\n",
    "        TypeError: not implemented\n",
    "        ValueError: not implemented\n",
    "    \"\"\"\n",
    "    ##Egde gives links to other materials, we then query the conditions to see if we should change materials\n",
    "    matId = materialVariable.data[particleIndex][0]\n",
    "    innerchange = False\n",
    "    outerchange = False\n",
    "    for edge in graph[matId]:\n",
    "        if outerchange:\n",
    "            break\n",
    "        for cond in graph[matId][edge].keys():\n",
    "            outerchange = False\n",
    "            if innerchange: #found a complete transition, break inner loop\n",
    "                break\n",
    "            currentparticlevalue = conditionmap[cond]['data'][particleIndex]\n",
    "            crossover = graph[matId][edge][cond]\n",
    "            if ((matId > edge) and (currentparticlevalue > crossover)):\n",
    "                innerchange = False # continue on, \n",
    "                if graph[matId][edge].keys()[-1] == cond:\n",
    "                    outerchange = True\n",
    "                    innerchange = edge\n",
    "                    break\n",
    "            elif ((matId < edge) and (currentparticlevalue < crossover)):\n",
    "                innerchange = False\n",
    "                if graph[matId][edge].keys()[-1] == cond:\n",
    "                    outerchange = True\n",
    "                    innerchange = edge\n",
    "                    break\n",
    "            else:\n",
    "                #condition not met, break outer loop, go to next edge, outerchange should still be False\n",
    "                break\n",
    "    if type(innerchange) == int:\n",
    "        return innerchange"
   ]
  },
  {
   "cell_type": "code",
   "execution_count": 37,
   "metadata": {
    "collapsed": false
   },
   "outputs": [],
   "source": [
    "#Set the crust material in the slab using shapes/function from uw.\n",
    "\n",
    "if not checkpointLoad:\n",
    "    #materialVariable.data[:] = mantleIndex\n",
    "    #lithtemp = 0.95*0.8\n",
    "    #tempswarm = temperatureField.evaluate(gSwarm)[:,0]\n",
    "\n",
    "    #At this point, we only have to assign any materials that are defined by setup shapes,\n",
    "    #the rest of the materials will be assigned using the materials graph\n",
    "\n",
    "    for particleID in range(gSwarm.particleCoordinates.data.shape[0]):\n",
    "        coord = gSwarm.particleCoordinates.data[particleID]\n",
    "        if gSwarm.particleCoordinates.data[particleID][1] > (1.0 - MANTLETOCRUST) and not Tri.evaluate(tuple(coord)):\n",
    "            materialVariable.data[particleID] =  crustIndex\n"
   ]
  },
  {
   "cell_type": "code",
   "execution_count": 38,
   "metadata": {
    "collapsed": false
   },
   "outputs": [],
   "source": [
    "#Cleanse the swarm of its sins\n",
    "#For some Material Graphs, the graph may have to be traversed more than once\n",
    "\n",
    "check = -1\n",
    "number_updated = 1\n",
    "\n",
    "while number_updated != 0:\n",
    "    number_updated = 0\n",
    "    for particleID in range(gSwarm.particleCoordinates.data.shape[0]):\n",
    "        check = update_swarm(DG, particleID)\n",
    "        if check > -1:\n",
    "            number_updated += 1\n",
    "            materialVariable.data[particleID] = check"
   ]
  },
  {
   "cell_type": "code",
   "execution_count": 39,
   "metadata": {
    "collapsed": false
   },
   "outputs": [
    {
     "data": {
      "text/html": [
       "<img src='data:image/png;base64,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'>"
      ],
      "text/plain": [
       "<IPython.core.display.HTML object>"
      ]
     },
     "execution_count": 39,
     "metadata": {},
     "output_type": "execute_result"
    }
   ],
   "source": [
    "figMat = glucifer.Figure()\n",
    "figMat.append( glucifer.objects.Points(gSwarm,materialVariable, colours='white blue red black'))\n",
    "#figMat.append( glucifer.objects.Mesh(mesh))\n",
    "figMat.save_database('test.gldb')\n",
    "figMat.show()"
   ]
  },
  {
   "cell_type": "markdown",
   "metadata": {},
   "source": [
    "## Rheology"
   ]
  },
  {
   "cell_type": "code",
   "execution_count": 40,
   "metadata": {
    "collapsed": true
   },
   "outputs": [],
   "source": [
    "# The yeilding of the upper slab is dependent on the strain rate.\n",
    "strainRate_2ndInvariant = fn.tensor.second_invariant( \n",
    "                            fn.tensor.symmetric( \n",
    "                            velocityField.fn_gradient ))\n",
    "\n",
    "\n",
    "coordinate = fn.input()\n",
    "depth = 1. - coordinate[1]\n"
   ]
  },
  {
   "cell_type": "code",
   "execution_count": 33,
   "metadata": {
    "collapsed": false
   },
   "outputs": [
    {
     "data": {
      "text/plain": [
       "1.0"
      ]
     },
     "execution_count": 33,
     "metadata": {},
     "output_type": "execute_result"
    }
   ],
   "source": [
    "temperatureField.data.max()"
   ]
  },
  {
   "cell_type": "code",
   "execution_count": 34,
   "metadata": {
    "collapsed": false
   },
   "outputs": [],
   "source": [
    "arhennius = fn.misc.min(ndp.up_visc, fn.math.exp(-1*math.log(dp.E) + (math.log(dp.E) / (temperatureField + 1e-8))))\n"
   ]
  },
  {
   "cell_type": "code",
   "execution_count": 35,
   "metadata": {
    "collapsed": false
   },
   "outputs": [
    {
     "data": {
      "text/html": [
       "<img src='data:image/png;base64,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'>"
      ],
      "text/plain": [
       "<IPython.core.display.HTML object>"
      ]
     },
     "execution_count": 35,
     "metadata": {},
     "output_type": "execute_result"
    }
   ],
   "source": [
    "figVisc = glucifer.Figure()\n",
    "figVisc.append( glucifer.objects.Surface(mesh, arhennius, logScale=True))\n",
    "#figVisc.append(glucifer.objects.VectorArrows(mesh, velocityField, scaling=0.0002))\n",
    "figVisc.show()"
   ]
  },
  {
   "cell_type": "code",
   "execution_count": 37,
   "metadata": {
    "collapsed": false
   },
   "outputs": [
    {
     "data": {
      "text/plain": [
       "1.002241018690982"
      ]
     },
     "execution_count": 37,
     "metadata": {},
     "output_type": "execute_result"
    }
   ],
   "source": [
    "ndp.fcd/ndp.cohesion"
   ]
  },
  {
   "cell_type": "code",
   "execution_count": 38,
   "metadata": {
    "collapsed": false
   },
   "outputs": [],
   "source": [
    "#Psuedo-plastic \n",
    "ys =  ndp.cohesion + (depth*ndp.fcd)\n",
    "#ys =  ndp.fc*lithopressuregrad*(30e3/dp.LS) # this is the byerlee strength at 30 km\n",
    "yss = fn.misc.max(ndp.cohesion, ys)\n",
    "plasticvisc = yss*(math.sqrt(2))/(strainRate_2ndInvariant*2.)\n",
    "plastic = fn.misc.max(ndp.low_visc,plasticvisc)\n",
    "#combine these\n",
    "mantleviscosityFn = fn.misc.min(arhennius, plastic)\n",
    "\n",
    "############\n",
    "#crust\n",
    "############\n",
    "\n",
    "\n",
    "\n",
    "ysc = (ndp.cohesion/100.) + (depth*(ndp.fcd/100.))\n",
    "#ysc = ys/100.\n",
    "ycs = fn.misc.max((ndp.cohesion/100.), ysc)\n",
    "crustplasticvisc = ycs*(math.sqrt(2))/(strainRate_2ndInvariant*2.)\n",
    "crustplastic = fn.misc.max(ndp.low_visc,crustplasticvisc) \n",
    "crustviscosityFn = fn.misc.min(arhennius, crustplastic)"
   ]
  },
  {
   "cell_type": "code",
   "execution_count": 39,
   "metadata": {
    "collapsed": false
   },
   "outputs": [
    {
     "data": {
      "text/plain": [
       "100000.0"
      ]
     },
     "execution_count": 39,
     "metadata": {},
     "output_type": "execute_result"
    }
   ],
   "source": [
    "ndp.up_visc"
   ]
  },
  {
   "cell_type": "code",
   "execution_count": 40,
   "metadata": {
    "collapsed": false
   },
   "outputs": [],
   "source": [
    "# Here we set a viscosity value of '1.' for both materials\n",
    "viscosityMapFn = fn.branching.map( fn_key = materialVariable,\n",
    "                         mapping = {airIndex:ndp.StAeta0, \n",
    "                                    lithosphereIndex:mantleviscosityFn, \n",
    "                                    crustIndex:crustviscosityFn,\n",
    "                                    mantleIndex:mantleviscosityFn, \n",
    "                                    eclIndex:crustviscosityFn,\n",
    "                                    tempIndex:mantleviscosityFn} )\n",
    "\n",
    "densityMapFn = fn.branching.map( fn_key = materialVariable,\n",
    "                         mapping = {airIndex:ndp.StA_RA, \n",
    "                                    lithosphereIndex:ndp.RA*temperatureField, \n",
    "                                    crustIndex:ndp.RA*temperatureField, \n",
    "                                    mantleIndex:ndp.RA*temperatureField, \n",
    "                                    eclIndex:ndp.RA*temperatureField,\n",
    "                                    tempIndex:ndp.RA*temperatureField, } )\n",
    "\n",
    "# Define our gravity using a python tuple (this will be automatically converted to a function)\n",
    "gravity = ( 0.0, 1.0 )\n",
    "\n",
    "buoyancyFn = gravity*densityMapFn"
   ]
  },
  {
   "cell_type": "markdown",
   "metadata": {},
   "source": [
    "## Build Stokes system"
   ]
  },
  {
   "cell_type": "code",
   "execution_count": 41,
   "metadata": {
    "collapsed": true
   },
   "outputs": [],
   "source": [
    "stokesPIC = uw.systems.Stokes( velocityField = velocityField, \n",
    "                               pressureField = pressureField,\n",
    "                               #swarm         = gSwarm, \n",
    "                               conditions    = [freeslipBC,],\n",
    "                               fn_viscosity   = arhennius, \n",
    "                               fn_bodyforce   = buoyancyFn,\n",
    "                               swarm=gSwarm)"
   ]
  },
  {
   "cell_type": "code",
   "execution_count": 42,
   "metadata": {
    "collapsed": true
   },
   "outputs": [],
   "source": [
    "#We do one solve with linear viscosity to get the initial strain rate invariant. \n",
    "#This solve step also calculates a 'guess' of the the velocity field based on the linear system, \n",
    "#which is used later in the non-linear solver.\n",
    "\n",
    "solver = uw.systems.Solver(stokesPIC)\n",
    "# If not doing a restart, do a solve on the non-plastic system\n",
    "if not checkpointLoad:\n",
    "    solver.solve()"
   ]
  },
  {
   "cell_type": "code",
   "execution_count": 109,
   "metadata": {
    "collapsed": true
   },
   "outputs": [],
   "source": [
    "#Switch particle escape on, this will also trigger the inflow population control \n",
    "gSwarm.particleEscape = True"
   ]
  },
  {
   "cell_type": "code",
   "execution_count": 110,
   "metadata": {
    "collapsed": true
   },
   "outputs": [],
   "source": [
    "####################\n",
    "#Add the non-linear viscosity to the Stokes system\n",
    "stokesPIC.fn_viscosity = viscosityMapFn\n",
    "###################\n",
    "\n",
    "#Set more advanced solver option\n",
    "solver.options.main.Q22_pc_type='gkgdiag'\n",
    "#solver.options.A11.ksp_rtol=1e-2\n",
    "#solver.options.scr.ksp_rtol=1e-3\n",
    "#solver.options.A11.ksp_type=\"cg\"\n",
    "solver.options.scr.use_previous_guess = True\n",
    "#solver.options.scr.ksp_set_min_it_converge = 1\n",
    "#solver.options.main.penalty=10.0\n",
    "\n",
    "#solver.options.mg.levels = 3\n",
    "#solver.options.main.remove_constant_pressure_null_space=True\n",
    "#solver.options.main.penalty = 1e2\n",
    "\n",
    "solver.options.A11.ksp_rtol=1e-4\n",
    "solver.options.scr.ksp_rtol=1e-4\n",
    "\n",
    "solver.options.A11.ksp_monitor=''\n",
    "solver.options.A11.ksp_converged_reason=''"
   ]
  },
  {
   "cell_type": "code",
   "execution_count": 111,
   "metadata": {
    "collapsed": true
   },
   "outputs": [],
   "source": [
    "solver.solve(nonLinearIterate=True)"
   ]
  },
  {
   "cell_type": "code",
   "execution_count": 112,
   "metadata": {
    "collapsed": false
   },
   "outputs": [
    {
     "data": {
      "text/plain": [
       "0.0"
      ]
     },
     "execution_count": 112,
     "metadata": {},
     "output_type": "execute_result"
    }
   ],
   "source": [
    "ndp.H"
   ]
  },
  {
   "cell_type": "code",
   "execution_count": 113,
   "metadata": {
    "collapsed": false
   },
   "outputs": [],
   "source": [
    "#Create advdiff system\n",
    "\n",
    "\n",
    "\n",
    "#advDiff = uw.systems.AdvectionDiffusion( phiField       = temperatureField, \n",
    "#                                         phiDotField    = temperatureDotField, \n",
    "#                                         velocityField  = velocityField, \n",
    "#                                         fn_diffusivity = 1.0,\n",
    "#                                         fn_sourceTerm = 0.,\n",
    "#                                         conditions     = [tempBC,] )\n",
    "\n",
    "\n",
    "advDiff = uw.systems.AdvectionDiffusion( phiField       = temperatureField, \n",
    "                                         phiDotField    = temperatureDotField, \n",
    "                                         velocityField  = velocityField,\n",
    "                                         fn_sourceTerm    = ndp.H,\n",
    "                                         fn_diffusivity = 1.0, \n",
    "                                         conditions     = [dirichTempBC,] )\n",
    "\n",
    "\n",
    "\n",
    "advector = uw.systems.SwarmAdvector( swarm         = gSwarm, \n",
    "                                     velocityField = velocityField, \n",
    "                                     order         = 1)"
   ]
  },
  {
   "cell_type": "code",
   "execution_count": 114,
   "metadata": {
    "collapsed": true
   },
   "outputs": [],
   "source": [
    "pics = uw.swarm.PICIntegrationSwarm(gSwarm)"
   ]
  },
  {
   "cell_type": "markdown",
   "metadata": {},
   "source": [
    "## Figures / gldbs etc"
   ]
  },
  {
   "cell_type": "code",
   "execution_count": 115,
   "metadata": {
    "collapsed": true
   },
   "outputs": [],
   "source": [
    "viscVariable = gSwarm.add_variable( dataType=\"float\", count=1 )\n",
    "viscVariable.data[:] = viscosityMapFn.evaluate(gSwarm)"
   ]
  },
  {
   "cell_type": "code",
   "execution_count": 116,
   "metadata": {
    "collapsed": true
   },
   "outputs": [],
   "source": [
    "#Pack some stuff into a database as well\n",
    "figDb = glucifer.Figure()\n",
    "figDb.append( glucifer.objects.Points(gSwarm,viscVariable, logScale=True, colours='brown white blue'))\n",
    "#figDb.append( glucifer.objects.Points(gSwarm,materialVariable, colours='brown white blue red'))\n",
    "#figDb.append( glucifer.objects.Mesh(mesh))\n",
    "#figDb.append( glucifer.objects.VectorArrows(mesh,velocityField, arrowHead=0.2, scaling=0.01))\n",
    "figDb.append( glucifer.objects.Surface(mesh, strainRate_2ndInvariant, logScale=True, colours='brown white blue'))\n",
    "figDb.append( glucifer.objects.Surface(mesh, temperatureField))"
   ]
  },
  {
   "cell_type": "code",
   "execution_count": 117,
   "metadata": {
    "collapsed": true
   },
   "outputs": [],
   "source": [
    "step = 0\n",
    "realtime = 0.\n",
    "timevals = [0.]"
   ]
  },
  {
   "cell_type": "code",
   "execution_count": 121,
   "metadata": {
    "collapsed": false
   },
   "outputs": [
    {
     "name": "stdout",
     "output_type": "stream",
     "text": [
      "0\n",
      "1\n"
     ]
    }
   ],
   "source": [
    "# initialise timer for computation\n",
    "startMain = time.clock()\n",
    "# Perform steps#\n",
    "while realtime < 0.2:\n",
    "#while step < 2:\n",
    "    #Enter non-linear loop\n",
    "    print step\n",
    "    solver.solve(nonLinearIterate=True)\n",
    "    dt = advDiff.get_max_dt()/5.\n",
    "    if step == 0:\n",
    "        dt = 0.\n",
    "    #start = time.clock()\n",
    "    advDiff.integrate(dt)\n",
    "    #machine_time = (time.clock()-start)\n",
    "    #print(\"total advDiff time is: \" + str(machine_time))\n",
    "    # Advect swarm using this timestep size\n",
    "    #start = time.clock()\n",
    "    advector.integrate(dt)\n",
    "    #machine_time = (time.clock()-start)\n",
    "    #print(\"total advector time is: \" + str(machine_time))\n",
    "    # Increment\n",
    "    realtime += dt\n",
    "    step += 1\n",
    "    timevals.append(realtime)\n",
    "    \n",
    "    ################\n",
    "    #Gldb output\n",
    "    ################ \n",
    "    if (step % gldbs_output == 0):\n",
    "        #Rebuild any necessary swarm variables\n",
    "        viscVariable.data[:] = viscosityMapFn.evaluate(gSwarm)\n",
    "        #Write gldbs\n",
    "        fnamedb = \"dbFig\" + \"_\" + str(ModIt) + \"_\" + str(step) + \".gldb\"\n",
    "        fullpath = os.path.join(outputPath + \"gldbs/\" + fnamedb)\n",
    "        figDb.show()\n",
    "        figDb.save_database(fullpath)\n",
    "    ################\n",
    "    #Also repopulate entire swarm periodically\n",
    "    ################\n",
    "    if step % swarm_repop == 0:\n",
    "        pics.repopulate()\n",
    "    print(temperatureField.data.max())\n",
    "    \n",
    "    ################\n",
    "    #Particle update\n",
    "    ###############\n",
    "    particledepths = 1. - gSwarm.particleCoordinates.data[:,1]\n",
    "    particletemps = temperatureField.evaluate(gSwarm)[:,0]\n",
    "    conditionmap['depthcondition']['data'] = particledepths\n",
    "    conditionmap['avgtempcondition']['data'] = particletemps\n",
    "    if step % swarm_update == 0:\n",
    "        number_updated = 0\n",
    "        for particleID in range(gSwarm.particleCoordinates.data.shape[0]):\n",
    "            check = update_swarm(DG, particleID)\n",
    "            if check > -1:\n",
    "                number_updated += 1\n",
    "                #if check == 0:\n",
    "                #    print \"from \" + str(materialVariable.data[particleID]) + \" to \" + str(check)\n",
    "                materialVariable.data[particleID] = check\n",
    "            else:\n",
    "                pass\n",
    "        #update the particle location swarm ready for next comparison\n",
    "        print \"number of particles updated: \" + str(number_updated)\n",
    "        #print(earthtimeMy, incr, incr_count)"
   ]
  },
  {
   "cell_type": "code",
   "execution_count": 122,
   "metadata": {
    "collapsed": false
   },
   "outputs": [
    {
     "data": {
      "text/html": [
       "<img src='data:image/png;base64,iVBORw0KGgoAAAANSUhEUgAAAoAAAAHgCAIAAAC6s0uzAAAgAElEQVR42u2dSY4suZaeD0kzbyLidvky36sqQBCgQk0KGgkalSaaaQFahZagFWgXAjTQVjTWVIAEPBRQhXp9Zt68EeGNkRocI41Ga9w9WveI70PgpqeHhzfmZvz5n3N4aEIIAgAAAC+L5RAAAAAgwAAAAAgwAAAAIMAAAAAIMAAAACDAAAAACDAAAAAgwAAAAAgwAAAAIMAAAAAIMAAAAAIMAAAACDAAAAACDAAAAAgwAAAAAgwAAAAIMAAAAAIMAAAACDAAAAACDAAAgAADAAAAAgwAAIAAAwAAAAIMAACAAAMAAAACDAAAgAADAAAAAgwAAIAAAwAAIMAAAACAAAMAACDAAAAAgAADAAAgwAAAAIAAAwAAIMAAAACAAAMAACDAAAAACDAAAAAgwAAAAAgwAAAAIMAAAAAIMAAAACDAAAAACDAAAAAgwAAAAAgwAAAAAgwAAAAIMAAAAAIMAAAACDAAAAACDAAAAAgwAAAAAgwAAAAIMAAAAAIMAACAAAMAAAACDAAAgAADAAAAAgwAAIAAAwAAAAIMAACAAAMAAAACDAAAgAADAAAgwAAAAIAAAwAAIMAAAACAAAMAACDAAAAAgAADAAAgwAAAAIAAAwAAIMAAAAAIMAAAACDAAAAACDAAAAAgwAAAAAgwAAAAIMAAAAAIMAAAACDAAAAACDAAAAACDAAAAAgwAAAAAgwAAAAIMAAAAAIMAAAACDAAAAACDAAAAAgwAAAAAgwAAAAIMAAAAAIMAACAAAMAAAACDAAAgAADAAAAAgwAAIAAAwAAAAIMAACAAAMAAAACDAAAgAADAAAgwAAAAIAAAwAAIMAAAACAAAMAACDAAAAAgAADAAAgwAAAAIAAAwAAIMAAAAAIMAAAACDAAAAACDAAAAAgwAAAAAgwAAAAIMAAAAAIMAAAACDAAAAACDAAAAACDAAAAAgwAAAAAgwAAAAIMAAAAAIMAAAACDAAAAACDAAAAAgwAAAAAgwAAIAAAwAAAAIMAACAAAMAAAACDAAAgAADAAAAAgwAAIAAAwAAAAIMAACAAAMAACDAAAAAgAADAAAgwAAAAIAAAwAAIMAAAACAAAMAACDAAAAAgAADAAAgwAAAAAgwAAAAIMAAAAAIMAAAACDAAAAACDAAAAAgwAAAAAgwAAAAIMAAAAAIMAAAAAIMAAAACDAAAAACDAAAAAgwAAAAAgwAAAAIMAAAAAIMAAAACDAAAAACDAAAgAADAAAAAgwAAIAAAwAAAAIMAACAAAMAAAACDAAAgAADAAAAAgwAAIAAAwAAQPUCr2GM4UADAMClEEJ4IwIsIv/rv/5XvtEnPjv0/AihO1fyfyemQr1pkf6v3jibSdL9n/709be/vf/zn0PT6Lsy1tq6douFWy7tYmHr2laVqSrrnBhjrDXWGuesc0Z/4j3ptnVOrDXWdp86Ho3eQbBWD4XJHtw+SXo256y+tLW2rq1ztq5tXesbc4uFW62sc3a5rJZLt15X67W4xbdvcncnm400jez34n37LemLWyvWijHtv3oj3Znfn34O/koktCdJCO35EbJ70kmTzpZ4Y3zcySfRxQFM9/SPZ/dXxe3umUw6YYc3pu7P3+/8H87czu/0fvxXUz/63U3dqTfyx3jf/qTbxSOHP3p/03T3NI00Tfd4/d90I/1vume/l/2+d1t/pbf3e9ntpGlku23vbBrZ7dqf7bb92e1kv3+dQcA5cU4WCxGRuztpmu5X//7fy//4L//9p//7fx9sB+UIZf2H//bf3o4DhmeKK6Qh04iE4gwbnmd99Z381avOKv7yf/7P3R/+sL+9lRBU2MQY8d5UlamqpC1JvmxViTHW2lB8HP3JRMWEELw31gbVgqgKodCMQiT6R8ZE/Q4i1treEU63myYYY4wJIYSmCU3j6lDXRgfWphHnuvE0f5Hha+rXmG6k/33I2XLwDIn/255X2QTBzD7taWPf3Jd/wvg58+DiO0mfY/RPpi6U/Ks53giNHc7uhCreydQz5w8Y3j96Ymanc3ePte3cQvVM/zafpemp6L3oiZxP6VT/VLNfxAeWeC913U0p8k/66ZNsfvzxMYPMWQ3jCPClym+nuzpKhhDy0TpdjhMybAof/Np8++d//vm3v939/LNvGlfX1fW1qevWj6rgqQGNHs1GHU2aGjI9MLn30r8IQUUxd8BmTBvMmD/Ohby9v7CMma00ImG/D9YG7/1+b3a7hU7mpTMcybIUI+OMVI3eOVTl3jCd626at8V3bkTCmA6YGbEcvsUp+5vL88hJZubHwySNA4t+YEQdnVfMa/a8hM84qEJN8/9N4lfI5JT6Ft9+OpD5DX3aIuCRHqCaulzK3V3vTr0/fxK9M1dfvZFE1zmpKvG+/TeXwJeairfHZ7fr3f+v/7X8238rn/7u7+7/+Me3MZAjwK/nXx85F1MN1ueJTiXkpmli2DZP6HonpvHG2jAcgSZo7u9//H//7/73v9/+8os1pr65qa6u3HJpnEuSGdIQouHlaIVNjFGbLBpritErSaP3Rseb3NhZK0nL45+kQ9QT7Oy4tUqc5FZDu94H7/WD+6axIfjdTt+tM2a5rJ2T7VYWi16EMNeGYrQtPse87s7p9EHbdYzdG0RQzJFnyPN4lSmTOm8rH+CIRuexBw9hEboohFYvjvyL1scksSx+m84B9bX6b1LTdApZK7tdJ7F6vz64qrqTLflddcbpOORRceekrnt3vjCbTe9//+qv5B/+Qf7Df5D//J9+f/+/f34zQoAAv1a09SkiIYXuJrXI3fCMfXm8Bk98iqPUN4TN169ff/vb3devm7/8JXjvFovq+rq+vnarlVsujbWhaYIGdZ0L3hvNzjpnUrxM1Tfla4dmUCRppJEuD2qGvi1ZtX7O0lg7d8SyhF6IGVa/21ljmt3OGeP3e1V9W/vKuerKNY0pMnMpL1jELwrpnckhzEvypFDkYc1CNw6p7+ET6akjKxMh86O0dj4nU5jXUS9bGN/8gM3EltOzFcdbRTE9Ppfh4SQsTRoL3dVQbXqYpjZy3U3/5rKa/q2q9hn0s1RV+0i9Pz3tfi/GtDnjp/oSdTawXrc3Pn6U7VY+fZKPH2W9lvt7+fJFPn+Wb99ksZCbG/mrv5K//mv5j/9R/vqHzfrr735+TAgaAX5TRvYUq/fsfjqbdffc8MGR8THZxQfg/eann25/97u7P/xh9+2b32yMc/XVVX1z49br+uqqurpSTfVNE7yXpgkh+P0+KWJreeMomGLReUS9tc4xDGviZ0zmtYj6mb7dMCLqtkMIrQYPPF9IdURqglWG93upKg1B+1jEErwPTWOqylaVtbZauLq2aoJTTZYOcDOGOA9Wz4SEywzirP018YOcpJ2jQZSnjKzM6pmcmJqdCvkOZVJkZFoy9aKjZrd4hvzfobQPI8yj96i1TRqsL6H3ONd94xo6Li5rlWTn2ufZ71vXqyqrf6gSm8R4KP9pCqoqrqq5WrV/8vGjfP4s//RPcn8vf/u38vvfy7/5N/LnP8tvfiPOyWYjxshmI3//993zV5Xc3MhmI3/7t7LZyHffyS+/yG4ni4V8+SI3N7JcStPIzY0sFu3z/83fyI388dvvfvftn/9589NPCDAcbfWeX367kTQbBkw2JIc0RL5W+VUIwftms9nd3m5//HHzl7/c//nPzWZjrK3W6/rDh+rqqlqt7GLhlku3XNq6lhCa7VbDuSH6SCk02Jg2tlxVqYY5ud72IMS/SpngXD472U6WOle8EDTxbKYSsDH+bFII2lppGlVfY0wwxu924n1wzjRNaBpjbXDOOLeoXKhdUcVaFPROqexUaHrm/vH0x0maNu/Bn+Jcmve1B8PnUz71wSHlUe9bzFpHY86Fnc3ne0U2d9TvJolNxje3vEmGRXpR5aI2O8nzfB5dba7e2O3aBLDGq7dbcU7Wa/n+e9ls5De/kX/5F/n8WTYb+f57ub6WX36R5VJWK9nt5OZGtlv58kWur2W3k6qSuzv5/FlWK1ks5Ppalkv58Ue5uWnnBD/8IF+/irWyXMqXL+K9fPddW4CtGrxcytWqqZzfffu2+emnP//jP97/8Y/NduuWy90vvyDAcFZmvAtBh8FQ9IwyO6xFSvd43/pC7733frPZfv1696c/bX/8sdlsxPtqtVp8/lyv13a9rnSJUVXpKiO3WKis+t3OGCNV1ex2QUeFpJdp7c5YHjepoymGxhSFzh9Q/G0Mb8hodDqPf6RksOJ9W2sdgjSNNyaEYFV9nbPOhaZplzNVVXDOWOucqxbWB5ti0fm/MiiqGy3Znq/eOugx20NxXA7YHFTio065kJ4pnwDMlwqPquzoXEJk3OCOzmyO0fXhKV8YXxkrfyxizsU3OBpVTiVRSXRVXPMb+dtIb17zx6MVZ/mvtLq4qlrHKSKLhTgnv/wiHz/K/b0sl/LrX7cWebGQ7VaWy1ZcVV+/fZPPn9v6rNWq9bhXV1JVYoysVrJctvKvc4IvX2SzkU+fZLeT5bKtgfj0SfZ7cTZ8uPG392612FsT9vf3tqq0dHH/7Zv/2tz/2Oxvb/e3t7vb291PPzW7XXN/v/uZHDCcpwZH2xfmh43Rafz8mBnzqcV0uqwB9l6NpsZjfdOEpvH7vd9sNj/+eP+Xv+y/fQve26pa/OpX9c1NfXXlVqtqvdb1tVp4pUosImaz8dZ659rKpri0IsTUb+uDUwo8FWf1vXchB2GsgMhkgej2eUZjvl3EOYj3xrlkppMA+/3eioi1XsSKNN7bqjIahXZO1yWbpkmqbJwTY2rnpHb5Ws8ZNzwaix7/AuerhPPZm2rwiZHn0eD8qUmNUe0czcsejEhPaXYeqxpK5nGTzLlof3Elzdw5VeGcv9si1JzKlWfKzVTIq0o2G9Hle8bIly/yhz/Ir38tt7fy6VMblP74UbzvigH1mddr+fBBvn6VDx9avdxsZLGQum7F+PNn+eWX1v4ul22VVlVJXcvdnXz4IKuVbLdS17JatQc8BDHiK9lY10axm80mNE3Y7Zpv+8Vi0dzvfvnLnXHutmnCft/sdmKt326NtWG/9/t9s9noz/7+vtlu/XYbNNRelEc/VaQFAYYntsJjTiUFISeNyoTcSlzS0xNgvaEZ0FgJHLz3TeO3W53Mbr9+3X396rdbsbb+8GH56dPyyxe7WFSrldPeGnVtqiq5WFNVKbprnWvu7mxdi7VqgnOxlPhRh1a1S/1mH7OtxpqObJqslLozwUN96zdiCNa2UeimkRC8iHGuDYNb23jf9gnJQtB6jzfGVlV7p7VijHXO1SrZI40jhjI8lkQMaaqRa2T6QrspWl+4xlPC/QVF41r0oNTG1JKhYyYMQ52W6TTtaMHZwyLPxRwj6eLs+qxe9XJyvfkNVVA93XQGVgSf0wdJrlRdrD65elDnZL+Xjx/bMHJdyy+/yL/7d7LdymrVpn7v7+X6Wq6vW11fr0VEdju5vm4zxB8+iIh8+yZV1T5PVcl6Ld++SV3L1VWMb5t9MNaEYG1oxXK7Xdog3jR/vjd1HZqmub+3VbXb761z+/t7/ZC+acT7YExzeyvGNNutdW6/2Rhj9vf31XK532z8bueqar/ZiEg7g9/twn6v8/tGn+op4nYI8Plq2MVb4fkWCqOlWJlK9XxtJjkhizPnZlcdofc+NI3WHDX39/tv33a3t7u7u+b+XkKo1uvq5mb9ww/1zU21Wtnl0i0Wxlq3WKgLTMKQyqyMSLPfG82kGhOMSXn3nlLm64CHbZiSg8iSuxLVMXmNnqJLl1w3s1VPraLrtCPXaa2I1iyytd570zRGO4c0jXEuxO5aGrXWpiLGWqNG2RhrrXFWxOTh6IMy3Jsf9H3/UTqTT1AOxZkn7xlYy24yNPjVwTjzzJ2jMjwaHy7O8YMmeOb+mWcYKnFqiJH/b54G1hNQ87Wai9UmUHXdBZB1cZFqod6jQqsvp5Hk+3v59Em+fZOrK1mt5PZWrJX1uq2BWizk6qo1x1dX7ROGIKuVVJWEphHrrNkbY/12I8b96lMIupzd++b+3m0XN7aRRra/vxNj2sSQMX6/F2t1ud3u2zdrrWjRhvdG/a73tqqa7dZWVbPZaJTI73bW2qARMpXVWIK4+/ln7WCjDtfvdvp445zf7VSPjXPh5dcmI8Avx3mq7wOmBcNg2Wgsr//koa+vOlSEXI9TU8OU5RVpdXe/9zpj3W63X7+qBouIq+vF58+Lm5vFp09uvV5++GCXS7dc5hVVqoX6QiYWdIYQnHM+vudgrc6gRfpNNGPhdxuRztcOJQEYXaTUD1Dna4jNUN+m5yutBmeF1t1PipY7Z7wXa4O1xnurkqy2WNPD+hhd7uxc2wjT6LFJn8gUueHBBx0LYEwp1ZR2HXleTUzmjqs6CHlHk2MaXMjE+trR3mFTn3WoozOrrqZUfyqrM3pbFwg51xb3rlbdeiFjZLmUzUaur+X2Vq6vpWnk6qotblosWpvrfZuF1aivVjxtNuK9XF11PTQ07Vo5f3cb1v/KNtt98I01EmJ2xq92wXtpwsIZ9ZdyazfbrRExzu3v7qrlcnd3l1bMe++laYxW9YegVZNtdWSqf7R2f3cnIbi63nkf9vtmu9XzWc1rq506a1Dxds43jeqriYKtoaPgfVsvqVP5NBbpY9KqqbcCAvw+pgWjcTEzzNyFEaebK27/f9tLQm80jc5V/W63v7vb397uNN1b1/XNzfLLl8XHj9XVVbvMd7VyMebcXu2Doqc2auq9V4/ovRXxIdiUqoyO1ox9WNOvajbSLdDKFcCOHqvUGjp7tsnioxQGSJnGfvfhkATY+6TBGi1Ifleapm311TRtsxHVZu/LRVYpSl8cqr7W5hOmnv09tVHFIdc7qrVllr2wk9MmeCifB9PDU2o62tPxmHtkusxq+J71a0/iWlVyeytXV61P1TU/GjROXS90AY8KrYaFdbap361qs1Ym6/KhxUKaXeOs9z4E31hrgxgT/PVCtDIx7Lyta39/H4zZeb/d721VbTZuf3sbQrCLRXN3p4VYRuevakP3e73oNDGkNzbaQkB7yDgnIfjt1ocgIVjn9re3tq590xhrm6idGkYKIey89/t9Ox1XrW0aa4zqcbsgPian2g+sbyN22unGE83URMXtpvjZwj8EGN6suhe9+3sd/FPMOaV74wRW80D7b9/29/fNZmOMqT98WHz6tPruu/rjx8XNja3r6urKVpXuppDW16oGm6zhXtIPu9+HEGxVifeqvl43acht4HQ7CHNozeywIMvkf9lfH2z6C5Z6Ry9GAroMq0pvCMZ7cS6EYNUxpA0eVI/1McaoHkv6rbWy37cOODUbiTIc+pOMme805N/vwSLnqQdMvMrU4TVThrdUszDML0+p70zt1TFSfbzhT8HhpI6qhVq4pHfu920WVtV3u5WrqzbRoT/3920Mua7DZmMWVSPWipiwvTfOGQliraY/m+3WBBtEjA/e+6ppvPciUleVNNJsNne6Gl7EOtfaUGOMc0Gkub2t1uugfxJCENEyJVNV/v5eT9TgfVqjGJqm2W7T6eRjKVMbExaREBota47tVNNiAb/fp3S3RobbhufRLjfbbReXjnUh7WNCCJpIahqVWxPfT1qvH/b7Tmt13qkWPD6V3um1zBMBhjOISZsnOxdzSes73S7snDKdUW9a17vfpyqM5vZ2v9mE/d4tFvWHD1c//FB//Lj4+LFar916Xa1Wtq6T3zWDzRW62rGo7rau/X7v6jp4b0PQC1p9c9HQKu/CYQbx5HF5Hq7qmDDTvc5ZfblIYQOTovH6zKkFkXMaA/Q6bupHUJsbgjHG6PzDe0lGOZrmrv9XLsBDGT4mdHywYaOcsIzpsUvbMiWeKm9+gPqOLg1Kj9H862LRBoS3W1mv2zJgLRvWlhRXV7LdSBBZLoIPRiQ4G5rGWGeM3wUtGDDigxjfqMKtb5zf7az3JlgjLmz3ddMYb/x2u6sq0zSbptFsaOv51As2jfe+Wi6bKIRhv9e1A3pmJhsa4voCo2lRzVmEICFsf/5Z26G31X+aRvZeTae6SZ/W2mmjmHhE2vjwfq87jxnVThFjjNribgoer311olIUY8Y/TDVmIcpk++D8T1JnWU3oWttqapHnSs1tsqvsLPouIMAIai9i/ORmOP8312C9/NLS3izm7He7ZrPxm02z24kx1c3N4uPH9a9/vfruu/r62i2X2l1SvW8aLFOlVSiybTFEZqvKO6djjXWuaRqj6eGxVJAZXRKbSea4Xxy7xxRmNwWBpZ8eTmhmN/kmHenUPaReWkmJ044z6h6ca2U4310x5YytDelAxUx5SP+qxel30Cx8fJHJDE9xlh5U7nDiRknHrCMaDTXr/XUtarp0Gx8tNaprjSsE58SINN5IaKwJYozf7sSIubahaaTuavEqs7NVtf+6cdYaa5tb7703Ik3TiDH7mKdsm4SLeO9tXUucg9qqSi3b9EtvtttO+UXayG3cpUO8t3W9+/rV73a2qtraJRGVqBD/pLObSaStDU3TGso84xBCiBYzHaY8iNVFdKORldTOL2m8zm51OXumuCb6YBNP9ZDK9FMMWRezqaDGB4SshjDEvFKnpunPQygTJdnsNhwzfUSA4XGuILzmaxfrerOYap6MacslYszZ73Z+u93d3vr93oTglsvFp0+6ymj55YtWO7vVqisp0rVGaSC3ttvMIBV86RLbEDQPWq1Wu9vbtgW0Jpx0FB42dh5uOjtzzzAfmcdps9YcZhiCLsKq8bi1e1KpWHofdKRWJ2FMW1Ad23d0HjcLRIdcgFNQOtaphfS/+e7FaoX7m++eltmd0sVcSmcsb7HP9JHet73Re4W8rYS1IsEHsW0Y1e+ti5IQJOx3mptotlsbXFW1UVNj3Ep2YeP3d17tY6NZdu99bIXmd+3fikhzf99+C3UtMdCq+mfrOgmhnqhteFb9ZaPp2HadTJqWtYZStVML64zxu53VyiOdccaSIp1+afahrTlSI+i9sdbv93r+hP2+LWvKBDJds+lvVRc15tvJcJLApIgimr41aSFDKsDMdTT2qwnGaDvYrvI/2uhuiIjNVEO2cDHEngSdkY1B6TRpSP/bM7j9JY7dTOLNgQDjuQdTyxhkTtdMyNIw7T0x5uy32722tVos7Gq1/PRp+fnz8suX6vpauzqr8e3EzDkbe+Qk4Qzet70sdEGtb7M9rUSJuOVS1xT6EKxz3UWfNjgaKmt/QZEZOtfBTgwjVWnZYidTdEwo5k06sqStIXXsUasa1ziFvMFgnOKY2DU/RNHtabA+Q9Z6M/fEQf9NVrhfFt6bc8wX7BYp8OHmjMfHq4cLkLIOoO0qshgwCLudLhht23ZqYkKPnoqNc1rOk8tGEidbVSpRbXSkabpn05KnGB01/U2IdFWMJiaD9yqNbaFQvB7SaW+tbeICGFvXbYeZ2Jm8VSwRLVPy+30QMSqi8XlSvjPf+SiJq8Tts9IB18RnvpS/VcQ4G+jJsIZgYug4ryJOx7/Np2plkxY9RYnNXWmul93z6/qCFN3JAsWdTsdzPgWEUkzL58EqDSxnXUXS36TV+WGqz89bVF8EGM8d5jOFXeVzDDel1QXNZqPBZyPi1uvld98tv3y5+vWvtZ9zfX1tqqptsqGKG/2f9p3I1+Pqla82QqIYm7T5oAZp03Kd1EXStxZH+rpritLoYb+oTJjDMIc6DGL3ddcU6ptaOaYZfdopMnOiIa2zSjsTx5Gxva2ypA9zrm3uEe1v0Bh13HuxU2t1wFlWuJgomPjqpcSOtZkoNlFuLZ33Vk18mpkZo2rkNRC639sUgdeBu2naXEPTtItMQrBV1VpPbR+mwrPbpSVYOg/Tvt9Gq2dT2D9GR/TNtHoWo6nGueDbcHEKnLbB0mQ6dVKnL5ftcGREdrmbFEkFQRI/ddrapLm7C5kFDOqGRbR/U3qfrWFNuz2LqP71bF+Uz7QQPDSNj2ZdD3vrfaMSt29bLxD9aNI1ZWuTr9HppthCu6VYOg/Tx8nmjt3H13qo1AokFVJF4e+iRDFw3X662H29fcLkWbMmZN1oo0dvWLffvzE3NCHA8Db1OHQ7DKTLO8369d9Offd71dr6w4f1Dz8sP3+2i0W1XrvFwi4Wqhxtg8nU5ikV+mpOS0cEHYnSpi1qGZP/S2nZtBmwDhbRHnU7zOeq0w8d5y07yl2PZLyRUwjB6kqkvrRLkV4VSRoscaROGbtuWUnRkzB20A9JelMUOoQ2+GytTQ8wpluhlGxx9MQm25cuxDVUw+11TOY5xBjdM1GlQnOKkvZPzFKDjXZdCMHUdVvLGiOQ+W0VXV3xGeLqKd2IwjiXXF0Kz3b2S61S05joj7t1q+qM8xE8zb10uwsVb5Ur51T5kjCn6WN7ZPQltE2391pUXK56j5HY9reqXimPoM1VmiY/bUJWqdt9yykva0wu5+3S+dzwRYlqp6GbTUhV8ZlqdtqU3858dh71FRGvMeH0DjPX22qqTnryM0I0Tp+Z78F6tu7lokjnpc7dFZGXR4SsL9twX4jyk4Qp0X2TFhgBfrXg71lN6ELe7XC48Fdn69432hNut1O3Wl1drb580Xort1ppulf7SqrupvylrSrrnMRFNa186mgbLaMV8ZItf0rlvqpw2ptRC0SzUbhrvmHMSBYyqfVAg80wZC1lw872RrbPUul9pd/1Ig1dWXa286lpJ/RUQR2FtttPKZZDtxqT7K/+mwLU+tmj/e2UOGag26UgKT6f5fI16KrVPZ1t0pylRlbjq7dqkfacTnZHXVSMQHThU3VsuoWGOlpdJ1pVXRw4fWpNQ6qBdk5DyqFpJGY0U7xUkhGMMczWzmqGNQV4dd9ljQPHGqIQ8+htl9DYRMlY29zddTnUuKQ3GcRGhTMrEjRJA+Ka7y7Vatpsdpcr7YdkJXnx/OuItccp89qeUzGCndxnCndEjN0AACAASURBVA/khcfFVKY3CcjjtyksnDxu9vwpGNCtVtL7h1URvVO+14w275Q3/uoy1mhvxtdmmm0K6WUdMDyJ4p3dm8l9QNHoSpO+u522d9YFFdXV1fLz59X33y8/f26lt6p0nx/d1Kht6qR53+SDc2OqHktNRgqsqdvL9kWwznljtIuydc7HmUEbu5PxpZ0mer5uB5mxPQdNio2PRZvz+OdIZ4luSBuZp5t8De5w75s8MZyGrZghDnl0Wg9Iijxnkep0T7YpcbB1nfQvja3p+Pj93lSVet/W5On4vtuZqmptqC7TSf4paU+qic37K6puqX+KJbK9TJ4xcn/fq7JJ84+mMc6pwzbG7JOu6IqsQeRTH58OUXfmxDLmrsYnZRybxlrrs40pkxCmXED+hXYhH/1E0TW2U70U0c0+tcSFc90pMVS+bmJmJI/k50VJWXvUlFo2UeCLAqUul6xdJUXyqsme0PXfjI/rbju7nAowZWxzs/4T+mI2lp/2mUE/kOg6FF4Oo8986R2CEWCYtOPZZVMEnzU1pbWdGuKr12t3dbX88uXqhx/c1VW9XtvFwlSV+iqJ62eMc9ZaSfv/qPpqAjjVZMaqJYn5xtZ4ZaVPtqq8Nrfb7SQtn83Dbv2Y8HB7QZM2OCq2cMjW8OTdpUysWDZFwfNwyEhjbrzTFDlUNcH656lZ9LBUKpcEVfQYi26zwulGDPAGNX/xRX2cMJl+yLH3tWarWUSkSXHIGLC11vqmSTe6rZSj2e3qe1Vr42qc1jerFU6vnrQ/VdupwGedFkKeL4xvL6TZlcY2Y2Y09AsD2ylIssvps+e5W5EmPo9JZ10uMClxm1cgpoL2vDI/LaGJp2572PNYd1ZeZOLb6EVus6VBSf7zb6orj4qC15lLkV4kOU0OimlcVviWZ7u7SVqaGRRqN9oNfrBFhp+2tsca3EOiSw6YUPC7s+OhKLKIG+O1DTf2+xBCtVpVV1fVer36/vvFp09uuXTLpcacXV2nDRVStbNJ2/5Yq7+1sQFWyOpTTFzX2MVUYxJRjPFRlqxzPupQilGngXUyklys3+2XKQ2X/M5UO+cj4HjrqLTNVDammFgRHZLvTy4kc8OSd7GOacB2OU6s4UrjftvJMjNw6beSGeL2VTLpKsU+i6x2AU9jmlSOq20ZMkvdLnqJE42QktwqxjHPqiFi3QK5MHCh/8Zyp2viKp20Pq2zhqlDVWZAu/zrIAqal/hKUtMs/5oHnPP8fZmnzPa37hROY+BZGFmyVTTdnDDTom7OEY+Az3O66f1EUe/1aytqg6NO+zR1GOv+HYq19VL2tg7ZBGs8AjzUWlM2PZVh94LZqPJcTvf9DcUV2oMB7l3befA5llwF701V1et1fX29/O67+upq+d13YozuZaR1zmptu0pddcBV1f4bBbi9EdcXesm2JMo2KgipBFprjqoqpP5Q2jk3hitNXgyVS2OuuCmnm5o8Z55YYgnxsJVHHmNs18no0D+YtxWR8JDu7OexOuOeh6PzbWD727inEi0NH6bPEvJFk0XaL9ovdYc+6U1MqZpcTlIqXc2rPmZ4VsTOSnrcynUymRuT/lKrJgRNOefB5FSzkx/bXtFsHvpOqdn0JtV6xg2T9XvsiorzqHIMu6ZqI/1dknkV0XQQinInM9D1EOvIjLU+HXnJF9T0Jxn57CEEn88Pso6Xoe+Gc2EzeYlGP70apkUxDIS2d4SLjEm+tGkgpWWUPlth1Z1+R3tcg+4iwBfu2M2TL0gPeQwtVV3FdgQqtNXVlXbYWHz82KZ7q8o6Z6tKnNPlH6mJcQpBF/LcKyQOQYzR/RXaHOpiIbtdG8TONwdMzi/WH5XblA+Madk5MutZkatvvrg2b7VRvMne2Kfx4WK1a0yqFUocCiucL1WK64bbRUT5E8Y3kwqL8sVanXBqI4WB/UolPyZrzpVkUi1pELHJgUlv94iQJitZZ81eJ6Msxl7UweZNFfJK72a365KOaSCObj5feNp1RkvralKMPRnfmJwuU4PxC0o6nUt4mzFV41iM+7kq5+2Zks5lgVw9aCauke20eSBFvTzrYIVr56rH4sCp8K031Sscdh4YKBzr0G4WKeSh3R82eswX8soR7cQnfhVGb5+N6D7HiIoAv2GbGp78GfPxoqvI0MZ4zlXLZR1jztV6rVFlt1qJSFvbrJKWiW57Q2/HrRdyXUzBTA3TmdQ3wDkTtw9KDrjV0bR+Ke1z0A/QqdDmGcdyQ6TkdFNHZf1d1m2qV6Wcz9yLYGa2ff3UcGMGVVppyU0o3FVcfympj2C+sVIWnMwHza60Kk9UxzbC+WZWklfSagsL53be25hwTe8hZXYltbPWqHJyh8aYJEJ52jKFMaPglLHl9L3n67/zIqa+mvYMWT7Tyjo6DbNIIZsQpKulS3akJhW570ylamnVTRFxzUIFXaHWwF+GsWYRI8/Zt8hTwtylWkf3D02l6YXqZ7WBZma4mHjFkUjy6bHl0ub2p0fvYkRFgOEhMpyUTDchMUZbaqS+kqmw2eR1VWnrnuRQNe+rZc+xD1/QtaQiKUSZF+kYlV5j2r0WYhFsuxFuVemqzcZ7SfVHKS2aDLT0N0cSGekiOVix0yp9Ls/JN+fB7X4YuTM9IqUYZ0U9ZtYKt2JsjOz3ISvmMikimrXtLcU4LmvpcsDJ5BVDXlZ0I7GwttHOhbllyo1OvqwrrX6xVrLEZ7sBQJQ6ny+iTdLSd3hluZC+n9x/DDKdneylirCir/Xwb7NlNkP9CHlVUe5x8xhv4QtHnWsKt4Suieuwb3X5t/26gdQ8clzMRt/bwGH37GzukqescApHD6caB6VodC4xdc956y4haDiv0HYXjA7BVFVV1261Wn//vcac3XJZuNKe5Y2SnJyl3+9N6tUeI6JtGyNdiqprQ9OOhGmFiYgqrlFvHUU9pA2UnDOjKajMOXWfqJ/cHXZRTklrGey+kFTWjIloXvAssYhG0o57/T8pb/eXDrfmMnp6Tb/bFNaOVbjJAedrV0ZqwbKF1Gmv1q6yN5Vr9e1bL/Cb1RkleTZZmL3XuiF+CyGvAM8XLw3+pCcqxerSgYr3dHfolfMioH5vr253yMGimkmD2N/UOYiMHOEs5VHI+TAbmi+9LR+QZXnHy4aLl55phjzx6lP2btxzP7hy6uhYNCDAMH3BxLriarl067Vbreqbm+WXL66ubVVJFl6WrEViu9ZIa1bzattY0Js2kOkCa8aEEPxulwtPsewhiNiq0h1J9aWtNilUvUyjsApGiigmhyr9bYuyVcWjMjzeLHowDualVdKvtJLhnYXP0NRsWjCatSZuR2Hdky4mPsNg1Wze3sFkkcYw0MsihDtcr9JFd7N7esHVzOJ3pbn5TrnZh+31NUzPk8ttprg+D0fnR2ms7X4YdWbZaqLJIO1Yc8PcvHrpVxgV3/XYUtcRv1h8v1OX17B31XDl/cCklvdPfEzpJ2Im3+ojJHOyeAq5RYDhyTQ4qm99c1N/+LD48MEuFrp9b6+0ylo1qSF2Pmry3Y3Sbr6ZDuVt6Fv7lRZr5k3+4sXcbiMjYqrKNk1omuBcE4Kta5Vw3Y/B5NXISX2zHLDklc/J8sYJxEivyjwY0LcpM7qbd95o/zytsOz7EpMpSlv1o+1HVG7zKHG+2rLfTbdbDiQi/UKqkJVQhb7ZKiK9eTFXekDxLfRaAWcqO5K5zNpppdh/UdOb13b5QkvGpjghN8qzfq4Xdx1VrP7fd+t89AsaLNAqwtEjMduT1uGMRilyoZXppbSjT5sy2Udq4YOEOcz8L4qLAMPTxp+NtW6xqK6vFx8/Lj5+dMtlm9+Nv03NnNsRb7/vrWMRyUOXKdFrYo/fJMCtT01uqe+o8gGrXT0iYuIKY6/9mY3xxliRoFnJVENbDA1Zp8k8wjz0vp1FlulN91Kotr+xrsl8aq/qNXNIpnB48bYvgo3FOpPCA/UtV8jXbg1isKEIzI49uWS2WPrNe5OxbudGQ5tbqF3cjG9099bcP428pXgAiw5W3cwj1UKnx8wY01GpHqROu089uv518G8Yevqp5x8N+c6Y4/l9fqZmHA9Ir070tQjH/CHNEhBgeEb9tbZareoPH5afPlXX122vjNSjUcfWWHfq+6tHeqZn0HanZ32KBkmZweoNRoNAYsp92uUy7SIehruiji4FjlswFW6414tDRtp3lCNXbhAzPQuFF8ytUvzIPjXOzBoWFhsSd0trxl46Wd5QDOvFR049tPOGSnmnp6LSeDjEp7rlQjkmCpE6URyTxt4GO9OKFYY2K39Ati6569w00RFC+ivEDrcjLtbLHiFdgwPW9/onhWdn3upjHOehePLJz/Bm1Pf8ZhII8CWdAc+yZM2Y+ubm6je/qW9ubF0nLxu8N6kTngz2eR1WfhbSkrcXyFfaZCHQLvqaNVsuE5/9cVkXFmtTiJD2uUtvJk/TjgaiRUrLm381w083OlYW2cc0URjWE/WLmIbPb4oa4DwmXBid1HM/U8oyldsfy8NEaHdGjUYCCX0DXbRrMMN1ooOga8/7DlWzWPM6E8idd4azNrS3/rjQ3eEfFgGDLL8QZmLF8xHdI1z78H975XKzU8OHKe6wackb5/w+JgJ8SWfA06qvMcat1/X19epXv6quroL37ZY1cd/vfG+1fIecZO9CXPmgseIyeZbaSSYjOBjWfRra8q3cZsYalW2lrvPlTCN2LSlrX2xDP286DIqOtuIzaZ/zrHY3ly4/GJHzUt6Q52WzaHCYiWrmLrlfyNNGIKTMQeZKU5rdMRuazwN6aipln4dQbHeh4ZApJSiac40WUhUi0d+Vb05ii26RQws7tWgnV9/RmmHp9SQZ+dWM4M344IeOA1MdIidt/YmjUCCwjADDq1Df3FTrtfbWkFiTLFlZSi/AmPKycVe4zrvo/XFv8HLhhIiMtSwYT/iNtu8Z3p9HsKPe9OpZct1KRbyxH+HoXKbYFmZ05YlPTiiVLBUrPjOPmL9KGLrJIsA+WnSji19Fei0JiwIlGanxyTvsj3enGtj6ULRSLAIb/dlAyD/v1Ecbbao8XIxUvP/5rXj6LbSmukmIHEiRHki7HhM3npklPMls+0h5vmTnBwjwO1bfq6vV58/VzY2JKdVhvE7yMpx8TcvQkk+5xpT4HEzSw3BZ50R8sie0w41fcvMnXYegIuWZyqMm16TOWK5+rtoPd4kptj+KexgM47ejTq7Ty7QGd7D/THpdMxFIkL4eh/5CIxlK5kTvi177xuJQFN0fRUZ20Bp0+JrzaoXDzhfsTsVC+qukxneNnTiAI29mOng73q1iJhz14EqlQ39Srj4/8gkpm0KA4Ry/76urar2u1mu3Xred+rNlLaEYH3VPcmkTkLknzqtki7hrb3xK27DLoEf8oXWN+QpRE7dtCGN9J4qdD4o+D6UjL0bzJBtDuUpeVCVwShLi6hoZNhmWsXj4zPZtcWd7mdiFJuRClR+9gcCHwWKVtIvtnDoOVGdyTeqUp5+5f6ptyNDSza+pHdPXcJz9PT4Se+yeek/+mPklQMNCkAcUfwECDC/P8ssXu1zWV1fa9bcb0YrNVTLf2f6v7rmmrTbSqpW4O2waGDphzofyYXX0YPWnFAUyA6EaxpaLbGgbZO53Sx5ZYDocvIZ5yqKceNjycKB5YTh2jxm1kc+VOmCMdmTMXzHf7z3PAsRtDOZmMD0r7fOFyFOH67DVyydVo0P/qAaM5RTCcA50jLQcVzZcZD3MvJV8jG5Nr/c9UmiPfJV3kbh9Nw4eAX4v1NfX9fW1qSrdDGdqkDUDwTP5epV8k4C8Q5P0dioNqeZ5tH3BcKO0LMo6InKFmGWdMUK/vGi8k34+EE8FSIuPE7Vtbl3K6Armsa7RYcpxji5FHet5ObIx7ZRA5vdMbeY6TLUWtetDKzzRxel4DSsiCmGmx+HB0O50kfPMS4dBRf2jLqcTfWd4qpd4TU18wV2D3o2DR4DfwXd8dVWtVrp/Ubfba5HzGw20Fm0CJ0YWk8VFU3Q0jCruoJynXE881WYvX1kUU4bhlDFatLPHkS2ERps/DxONo5HSlKfMCpWHGdk5pen30BjZNmfUj84E89OxzbO2w8cU+2JNvZBMN+U/rjQpnJQxLbbCnWiLeMwS3ueWgd618OYk54Kd9xn7aQT4LWOryi2X9c2N7nOgEeN8QO+6KAyd0yCBWm7S1y8L6lVXDTtyFLqV78+arQ8esaT9Fyt3XMgcYVmfJTLaibD7aMMNYaYGnb6gmtE1OUNlHXpNkfH3X3jK/MmHS4CGdjZfwFMEMI5JZB6RNA2DT3T4kfOj3nCfoqMbDk+mkx+ssg96qjB958FjxND0wnMHHDC8hvquVvX1teiOCDJSYeTz5sNTbmmsoKZXdjQ/zhbVs4O2vXPeJZdSGSm7zbf88/kOqfkbHirBYON0kzlymdoYdb6/Ur5NwhGNFw60zs/3WojmW/q9Nca7U40q63y5b94SeUY1j0m+PkZiR3818+afsOT4MVsRXL61BQQYnpJ6vRbnjHNuuRxp29Qvz0lb4M2J1sAk5Q2Bh5LTW+xbVN4OnWJfZXv5vGEd0+BJctebL2I2wxzqtMAMd80bF6uD2+Mc7Ck4sUNwuRx2MDvpVQif4tiCzBUVy7DE7KHrWEK2KXI4xTUesMsPE7AH/VU48X6EFhBg6OEWC7NYWO0SlVcpTwysRVlK16v5iFHG5P2wcnvXr9cNo2tnp5aiDnon5SVX0t//YCTq2/ubo+p35oz7zNg6jHWnXPXUytSDblWOW1Ha7/lcfCNTMwBzUgnSRH563g6GgyGQJ1GvR0vd8X8/1wzypRT3RaufAAHm5HswdrFwq5V1rie9xagxkyXNNalfNWrGaoxD365NvkpySEmiBlvAHhSAMFxXc9LyzdklLuNNcUf3Psr/bKz5ZRgd5Wc9aG8CFI/eUdVMg7caHlaIOxb0nvo6Tt4X9sEW9lDZ11Op7NwRnrqOXhAGQASYk+/c5yluuZQQ3GpldGsdkWIr017AM4UxjxSGrKq56zOcPa0U6ckpEZXxRTMzg29nfw9t3HZU1DTb6sf0A+nldoFTDYEf5vBOP6UP7Ddwks4ds/HcfEr+WT3fI6rDDn+uI2PpbLoHCDA88FtcLu1iUa4r7ackw3BZbTaEman9asaGyKLNQc/1DiTEiMzEk+eG49Eq4pm/GouR9oK0oz2bpgb9g7KaRZWDPGMzwsNzo1T8/IA3ML+E6QVU9rnt7CM3rn/ohBgtBwT4HVhfa13M+PZWWI6OqgNL0evwPGU4sq5JZn7PvrGRPeS9O44fT6dWrA5HzJms9sxq1yPzrCeN7GP9OJ9Kt8Ix7vZhe8o+1YZ0j1bxk/seP7/wn/WLIvMIMLwWtqqMc8YYU1Uje/kNNE/6y0+7Yqvjsuwh6zB8VCg4X+87U/07paYnNWqQE3rQt/Hnx7T0O3WR6xETiEc5vKdaEfsiHzw8udN9ySNwVqC+CDBTttdSX1vXus9Bt5XCwR6BRXf+MZGeG+Aka1VY6NloN/xceo+0v8UE4rjTJu/DJcclWU+uJDr1Ycfb/fkQwvEW9mUG9KPXPrVvvaq65mvP9yb7jcEZHwABPjDlf60P/AYuUbtY9JbeHr8T+HEJzp6m5l5WJst55l47/e2pPjWK9zFfWJiR3if8ugedqJ9X+Z76nT+HbTqwJKlQ32Ou/cdUPqO+gACfc+Tkoi9RW9dijLV2ZF3pcSs1S0s60yNpKNuPmFH1ujQcucxGZst3nyjVapxTi5ZvJDyXiTymWvgVZ5xP1zrqJTKyLzDzAECA3yQvbKY16SvFxq5pwBosWj1qEDyiu++89WmdeGrpPD30h+NnQocaVz1gmC5WZHULkDKLFuS4FTun6uuTnyQPfrnRZd+nu9unmRDAGx2pAAF+W2baGFtVxtoDvfWHnvgBvifboeGkmpoD3Y8fFlQ8qDTHbPI6eIfhka/7TPr6PFHiUGwxefbOGy54pDplTOPEeBMC/NRf5FnNFo21WmlVqu8pl5yZ37lv6m8PCupJ8dXji5sGnUPMkYtwztyTHRMzf2gHY/PcRvaYN8l4Ci8/bUWA39gXeV7qa61YmwquzOhOc4ecx9yme0M1OlVQTze1p7ZkOjbbeurKpRc+J59C9R+1WwDjI7xjZ4UAw4nq61yhWONtkAenqV0s/GbzwKH2QYL67GGDJzTZj3exz7Y/z4uON0jsk1+zMz3YgfMTAb4U6RVjTN6JXvqB30MacIL6DtUll9WjJSGcmjQ9z+ntcTsRPdK5GoT2rUoG6gsI8FmL6yGn2Iad5+3pg6t/857MRwzWj23P9AK9I04SoSMXoT7sFZ7hkVPn0OE8AgAgwHCSU9TWksdrSdLUcNyLPqr5opyYlXnJla8v8paeZV3sAz4mlcavMXHmCJ/nUbr0FVYI8NlY45M08vGaWgzcp7tD65x/7pjby15a4dEPeAmPjvy84uwHzuwoPbn6vrCiI8BnoLz687pXwul/8nD1fbEt8F5GO5/wID+gHB35ufwRgC4Z5zSLeNHvAgE+b/W9uCvzAVsYPVpZnyUy/JzVzsgeV/6TBbGYkVwyCPDrnWep2OpSzrbXcK7H+NfwTB92/iAwuMBTn12cHu9tRoIAv9L890L969M518LCnkuI+JgNHh61e2+47POW2QPag7dGgC/3+zZPnvF9jKY+/5AanugxL3RAnv/6vGCXgzy84lSG2c9bnN8gwC/4fWup88PU95kCv48xc+fjXC9KKnA5zMVfpkwSzh8E+AUvwaH6nrQBzgsWDJvj9PVVlh1wKr1T/433AgQY5oe3EYXIm2tM7SH4UrIqp8SE0VeUAAAQ4IsZ3l7tlY/ZZ/AcDs5jAumkwQDgWazT60SGEODndMP638fZ1vQkR+7i98ozj4P7JD7mfZ5zuygAuGDr9DpDCgL8bPp7tLiepMTnbu6PrDR5jIiivpgJgDcBAvxcg9AFjEB5CdjxtWAvKeeAmQBAgOFI3T1HlT3mtwyaAAAvi+UQXJj6FpIZwoGfJ8Itl5cx4QAAwAGjvo8V2qlE6WvY1mazOdleA8BbHvNI9iPA53AWPtLLPvgBABd61VgbvOc4XDThNfZlQYChfxYWbpUz8kyG7Cf5Io55Er7xB1w1qO/bsJWc+Y/DvpOT+tlPQaqZzm3IfpIv4rlbhJJEh6GthGeY1iDAr6e+nNOAgQBgWoMAM8bhh17h0FoK/gHgnQswGoMfepVD+4aTjlxTwDmGAKMxZ3tOG64f5m0AnGPvXYDhNc7pB6dAqvWaLwqecWp4HqkBZqiAAMPZsb+7e0Xj/sJjMF/3yx+KM0kNUHsMCDBcwoz+lYaqZ/coDMFPcSjO3EridAEBhnczo3+68Q6Pwon3+JPwpLd3EWr9pqYU7296RBU0YCvfMe/hegwP7hV7EXuKBr4pBJhDDK8hHxe7uvdcjMvrXY+szH5bEzmc1UUI8AWeVZxb5ztjfs4SHrdaYVwu9Lu7xLHmwr0rzgoBfp6zinPrfdLc33MQkJYXG2s4Bq/udl7+1RFgAPQMaYGzdtIvI40v77UQYAD0DJiuXaQwXzr2zZ1vxLsA3ukwDQ+brl3AsHnwHV7mOWzf3PmGPwAYG6Bmqo65at67TIfzf4tPMtVAgAHbxMd8jRGMqmOAMwsAIMDwbHPStyFgTzqzPnipk0MBeD8BAAQYLknA3vylTg4FHjsVYw53OSDAAABvyJYxh0OAT5qdvdWwG+FEAHh6S8rA8lYOzln0gn6rYbeL+VxczwAvO+id1xNytN+LAAOnLAAAIMAAbxvyIAAIMMC7kLtze0eUVQMXEQIM8CjWv/rVBbxL1A6AiwgBhjfG3Z/+xEEAwI++Jd+MAANMXdFkTwE/GnifCDDAy1/RxJMBAAHGrAAAAAKMWWGqkb8hrqK3d5JxDAAQYDj7qcbzvB/jHN/1G/tOgYkUIMBwCRLQNBwEACZSCDCTPgAAYPxHgM9/0sckABgJrT3iQuFKgZOH1rnT5tJMPyHoNzoJAHjdi8D7Iy4UrhQ4eWh9S6cNAgxwrGODKVPywN+eyyfAiMPrnAYMOgDHOjbGjilT8sDfnoutwojD65wGCDDA+x47Doo3BhEAAQa4LFt6Ker92AdwtAEQ4ENXKJcocnhOwgYcbUCA380VyiX6jm0H3z4ALgUBBmwHEwJ4L5J2UdX1IYQnuIi4DBFgeI8zXGzuc5wz9OV+zCl5cdX1j7+IuAwRYJic4QKcdM68YF9uy2pseE/+hNP9gV8UxwDgyfGXvBobLl1BX96fmBd4SRL7AABwQbyMGBtikgAAAC8PIWgAAAAEGAAAAAEGAAAABBgAAAABBgAAAAQYAAAAAQYAAAAEGAAAAAEGAAAABBgAAAABBgAAQIABAAAAAQYAAECAAQAAAAEGAABAgAEAAAABBgAAQIABAAAAAQYAAECAAQAAEGAAAABAgAEAABBgAAAAQIABAAAQYAAAAECAAQAAEGAAAABAgAEAABBgAAAABBgAAAAQYAAAAAQYAAAAEGAAAAAEGAAAABBgAAAABBgAAAAQYAAAAAQYAAAAAQYAAAAEGAAAAAEGAAAABBgAAAABBgAAAAQYAAAAAQYAAAAEGAAAAAEGAABAgAEAAAABBgAAQIABAAAAAQYAAECAAQAAAAEGAABAgAEAAAABBgAAQIABAAAQYAAAAECAAQAAEGAAAABAgAEAABBgAAAAQIABAAAQYAAAAECAAQAAEGAAAAAEGAAAABBgAAAABBgAAAAQYAAAAAQYAAAAEGAAAAAEGAAAABBgAAAABBgAAAABBgAAAAQYAAAAAQYAAAAEGAAAAAEGAAAABBgAAAABBgAAAAQYAAAAAQYAAECAOQQAAAAIMAAAAAIMAAAACDAAAAACDAAAAAgwAAAAAgwAAAAIMAAAAAIMAAAACDAAAAACDAAAgAADAAAAJQatmQAAAthJREFUAgwAAIAAAwAAAAIMAACAAAMAAAACDAAAgAADAAAAAgwAAIAAAwAAIMAAAACAAAMAACDAAAAAgAADAAAgwAAAAIAAAwAAIMAAAACAAAMAACDAAAAACDAAAAAgwAAAAAgwAAAAIMAAAAAIMAAAACDAAAAACDAAAAAgwAAAAAgwAAAAAgwAAAAIMAAAAAIMAAAACDAAAAACDAAAAAgwAAAAAgwAAAAIMAAAAAIMAACAAAMAAAACDAAAgAADAAAAAgwAAIAAAwAAAAIMAACAAAMAAAACDAAAgAADAAAgwAAAAIAAAwAAIMAAAACAAAMAACDAAAAAgAADAABcANVFv3tjDF8hAMD7JISAAL8m//Pv/94YI8aIMe0NFebj7unuF5Hj7uk91XH3HHg/s0/yMh+q93InfsxLfYdP8t2N3fOAD/WYsysEfvh5nz8Xb8AIQQMAACDAAAAACDAAAAAgwAAAAAgwAAAAIMAAAAAIMAAAACDAAAAA54e56E4idMICAHi30AmLLwAADs+VuVQ51BiwAkLQAAAACDAAAAACDAAAAM8EiRkAAAAc8OgcIW3EduhXJiO/k68Z4JmuzZPuP/ICn7nkOc6POUqjf3LOh/oxJ9KoHJwb1fmfeerRh6V9w1+lB6QjzmUMcObqW1zFM5c8x/mYgfGksfQtqe/w053/+WPf5Pl6QV8AwBtjOFE+aSTlmj3mgIze+cYiB488kS7igFCEBQCPmuYefFgI4dSsEPb31G/hAYf6gg7yAz5diJyzBtv3OS4AwOOvtWPUdLQm480Iw1mNdQ871HIhqboHfLrzp+I8BoBTOT4BWTxAHcnMX6G+D3Yapx7qy8q1v8kTqTr/g65znCLSMvorADg3SRhepMXt4QOSreHSnjnIxVF62KG+oAnfqZ/uIj4vk00AAIBXgCIsAAAABBgAAAABBgAAAAQYAAAAAQYAAAAEGAAA4LL4/xFo82rSTuW3AAAAAElFTkSuQmCC'>"
      ],
      "text/plain": [
       "<IPython.core.display.HTML object>"
      ]
     },
     "execution_count": 122,
     "metadata": {},
     "output_type": "execute_result"
    }
   ],
   "source": [
    "#Pack some stuff into a database as well\n",
    "figVisc = glucifer.Figure()\n",
    "figVisc.append( glucifer.objects.Points(gSwarm,viscVariable, logScale=True, colours='brown white blue'))\n",
    "figVisc.show()"
   ]
  },
  {
   "cell_type": "code",
   "execution_count": 123,
   "metadata": {
    "collapsed": false
   },
   "outputs": [
    {
     "data": {
      "text/plain": [
       "1.1130115542055585"
      ]
     },
     "execution_count": 123,
     "metadata": {},
     "output_type": "execute_result"
    }
   ],
   "source": [
    "temperatureField.data.max()"
   ]
  },
  {
   "cell_type": "code",
   "execution_count": null,
   "metadata": {
    "collapsed": true
   },
   "outputs": [],
   "source": []
  }
 ],
 "metadata": {
  "kernelspec": {
   "display_name": "Python 2",
   "language": "python",
   "name": "python2"
  },
  "language_info": {
   "codemirror_mode": {
    "name": "ipython",
    "version": 2
   },
   "file_extension": ".py",
   "mimetype": "text/x-python",
   "name": "python",
   "nbconvert_exporter": "python",
   "pygments_lexer": "ipython2",
   "version": "2.7.11"
  }
 },
 "nbformat": 4,
 "nbformat_minor": 0
}
