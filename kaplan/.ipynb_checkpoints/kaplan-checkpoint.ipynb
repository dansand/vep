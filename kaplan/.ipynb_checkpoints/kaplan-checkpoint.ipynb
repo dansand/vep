{
 "cells": [
  {
   "cell_type": "markdown",
   "metadata": {
    "collapsed": true
   },
   "source": [
    "## From Kaplan "
   ]
  },
  {
   "cell_type": "code",
   "execution_count": 98,
   "metadata": {
    "collapsed": true
   },
   "outputs": [],
   "source": [
    "import networkx as nx\n",
    "import underworld as uw\n",
    "import math\n",
    "from underworld import function as fn\n",
    "import glucifer\n",
    "#import matplotlib.pyplot as pyplot\n",
    "import time\n",
    "import numpy as np\n",
    "import os\n",
    "import sys\n",
    "import natsort\n",
    "import shutil\n",
    "from easydict import EasyDict as edict\n",
    "import slippy2 as sp\n",
    "from slippy2 import unit_conversions\n",
    "from slippy2 import boundary_layer2d\n",
    "\n",
    "\n",
    "\n",
    "from mpi4py import MPI\n",
    "comm = MPI.COMM_WORLD\n",
    "rank = comm.Get_rank()"
   ]
  },
  {
   "cell_type": "code",
   "execution_count": 99,
   "metadata": {
    "collapsed": true
   },
   "outputs": [],
   "source": [
    "############\n",
    "#Model name.  \n",
    "############\n",
    "Model = \"T\"\n",
    "ModNum = 0\n",
    "\n",
    "if len(sys.argv) == 1:\n",
    "    ModIt = \"Base\"\n",
    "elif sys.argv[1] == '-f':\n",
    "    ModIt = \"Base\"\n",
    "else:\n",
    "    ModIt = str(sys.argv[1])"
   ]
  },
  {
   "cell_type": "code",
   "execution_count": 100,
   "metadata": {
    "collapsed": true
   },
   "outputs": [],
   "source": [
    "###########\n",
    "#Standard output directory setup\n",
    "###########\n",
    "\n",
    "\n",
    "outputPath = \"results\" + \"/\" +  str(Model) + \"/\" + str(ModNum) + \"/\" + str(ModIt) + \"/\"\n",
    "imagePath = outputPath + 'images/'\n",
    "filePath = outputPath + 'files/'\n",
    "checkpointPath = outputPath + 'checkpoint/'\n",
    "dbPath = outputPath + 'gldbs/'\n",
    "outputFile = 'results_model' + Model + '_' + str(ModNum) + '_' + str(ModIt) + '.dat'\n",
    "\n",
    "if uw.rank()==0:\n",
    "    # make directories if they don't exist\n",
    "    if not os.path.isdir(outputPath):\n",
    "        os.makedirs(outputPath)\n",
    "    if not os.path.isdir(checkpointPath):\n",
    "        os.makedirs(checkpointPath)\n",
    "    if not os.path.isdir(imagePath):\n",
    "        os.makedirs(imagePath)\n",
    "    if not os.path.isdir(dbPath):\n",
    "        os.makedirs(dbPath)\n",
    "    if not os.path.isdir(filePath):\n",
    "        os.makedirs(filePath)\n",
    "        \n",
    "comm.Barrier() #Barrier here so no procs run the check in the next cell too early "
   ]
  },
  {
   "cell_type": "code",
   "execution_count": 101,
   "metadata": {
    "collapsed": false
   },
   "outputs": [
    {
     "name": "stdout",
     "output_type": "stream",
     "text": [
      "results/T/6/Base/checkpoint/ is empty\n"
     ]
    }
   ],
   "source": [
    "###########\n",
    "#Check if starting from checkpoint\n",
    "###########\n",
    "\n",
    "checkdirs = []\n",
    "for dirpath, dirnames, files in os.walk(checkpointPath):\n",
    "    if files:\n",
    "        print dirpath, 'has files'\n",
    "        checkpointLoad = True\n",
    "        checkdirs.append(dirpath)\n",
    "    if not files:\n",
    "        print dirpath, 'is empty'\n",
    "        checkpointLoad = False\n",
    "        "
   ]
  },
  {
   "cell_type": "code",
   "execution_count": 142,
   "metadata": {
    "collapsed": false
   },
   "outputs": [],
   "source": [
    "###########\n",
    "#Physical parameters\n",
    "###########\n",
    "\n",
    "#dimensional parameter dictionary\n",
    "dp = edict({'LS':660.*1e3,\n",
    "           'rho':3300,\n",
    "           'g':9.81, \n",
    "           'eta0':1e20,\n",
    "           'k':10**-6,\n",
    "           'a':3e-5, \n",
    "           'deltaT':1400,\n",
    "           'TS':273,\n",
    "           'TB':1673,\n",
    "           'cohesion':5e6,\n",
    "           'fc':0.03,\n",
    "           'E':1e5, \n",
    "           'StALS': 27.*1e3})\n",
    "\n",
    "#scale_factors\n",
    "\n",
    "sf = edict({'stress':dp.LS**2/(dp.k*dp.eta0),\n",
    "           'lith_grad':dp.rho*dp.g*(dp.LS)**3/(dp.eta0*dp.k) })\n",
    "\n",
    "#dimensionless parameters\n",
    "\n",
    "ndp = edict({'RA':(dp.g*dp.rho*dp.a*dp.deltaT *(dp.LS)**3)/(dp.k*dp.eta0),\n",
    "           'cohesion':dp.cohesion*sf.stress,\n",
    "            'fcd':dp.fc*sf.lith_grad,\n",
    "            'TS':dp.TS/dp.deltaT,\n",
    "            'TB':dp.TB/dp.deltaT,\n",
    "            'low_visc':1e-4,\n",
    "            'StAeta0':0.01,\n",
    "            'up_visc':1e5,\n",
    "            'H':0.})"
   ]
  },
  {
   "cell_type": "code",
   "execution_count": 103,
   "metadata": {
    "collapsed": true
   },
   "outputs": [],
   "source": [
    "ETAREF = dp.rho*dp.g*dp.a*dp.deltaT*((dp.LS)**3)/(ndp.RA*dp.k) #equivalent dimensional reference viscosity\n",
    "#RC = (3300.*dp.g*(dp.LS)**3)/(ETAREF *dp.k) #Composisitional Rayleigh number for rock-air buoyancy force\n",
    "RCA = (1650.*dp.g*(dp.LS)**3)/(ETAREF *dp.k) #Composisitional Rayleigh number for rock-air buoyancy force\n",
    "COMP_RA_FACT_AIR = RCA/ndp.RA\n",
    "#RCC = (100.*dp.g*(dp.LS)**3)/(ETAREF *dp.k) #Composisitional Rayleigh number for crust\n",
    "#COMP_RA_FACT_CRUST = RCC/ndp.RA\n",
    "#RCE = -1*(200.*dp.g*(dp.LS)**3)/(ETAREF *dp.k) #Composisitional Rayleigh number for eclogite \n",
    "#COMP_RA_FACT_ECL = RCE/ndp.RA\n",
    "ndp[\"StA_RA\"] = ndp.RA*COMP_RA_FACT_AIR"
   ]
  },
  {
   "cell_type": "code",
   "execution_count": 104,
   "metadata": {
    "collapsed": false
   },
   "outputs": [],
   "source": [
    "#A few parameters defining lengths scales, affects materal transistions etc.\n",
    "MANTLETOCRUST = (20.*1e3)/dp.LS #Crust depth\n",
    "CRUSTTOMANTLE = (900.*1e3)/dp.LS \n",
    "LITHTOMANTLE = (900.*1e3)/dp.LS \n",
    "MANTLETOLITH = (200.*1e3)/dp.LS \n",
    "TOPOHEIGHT = (0.*1e3)/dp.LS  #rock-air topography limits\n",
    "CRUSTTOECL  = (100.*1e3)/dp.LS\n",
    "AVGTEMP = ndp.TB #Used to define lithosphere"
   ]
  },
  {
   "cell_type": "code",
   "execution_count": 105,
   "metadata": {
    "collapsed": true
   },
   "outputs": [],
   "source": [
    "###########\n",
    "#Boundary layer / slab paramaters\n",
    "###########\n",
    "\n",
    "modelage  = 75 \n",
    "subzone = -500.e3/dp.LS\n",
    "mor = (1500e3/dp.LS) - (200e3/dp.LS)\n",
    "#vel = 70e3\n",
    "vel = 1800e3/modelage \n",
    "agelimit = 70.\n",
    "thermallimit = 0.8\n",
    "\n",
    "#Slab perturbation paramaters\n",
    "Roc = 450.\n",
    "Crust = 35.\n",
    "theta = 89."
   ]
  },
  {
   "cell_type": "code",
   "execution_count": 106,
   "metadata": {
    "collapsed": false
   },
   "outputs": [
    {
     "data": {
      "text/plain": [
       "24000.0"
      ]
     },
     "execution_count": 106,
     "metadata": {},
     "output_type": "execute_result"
    }
   ],
   "source": [
    "vel"
   ]
  },
  {
   "cell_type": "code",
   "execution_count": 107,
   "metadata": {
    "collapsed": true
   },
   "outputs": [],
   "source": [
    "###########\n",
    "#Model setup parameters\n",
    "###########\n",
    "\n",
    "stickyAir = False\n",
    "\n",
    "MINX = -(1500/670.)\n",
    "MINY = 0.\n",
    "MAXX = 1500/670.\n",
    "\n",
    "#MAXY = 1.035\n",
    "MAXY = 1.\n",
    "\n",
    "if MINX == 0.:\n",
    "    squareModel = True\n",
    "else: \n",
    "    squareModel = False\n",
    "    \n",
    "    \n",
    "dim = 2          # number of spatial dimensions\n",
    "\n",
    "\n",
    "#MESH STUFF\n",
    "\n",
    "RES = 128\n",
    "\n",
    "\n",
    "Xres = int(RES*4)\n",
    "\n",
    "\n",
    "if stickyAir:\n",
    "    Yres = RES\n",
    "    MAXY = 1. + dp.StALS/dp.LS #150km\n",
    "    \n",
    "else:\n",
    "    Yres = RES\n",
    "    MAXY = 1.\n",
    "\n",
    "\n",
    "periodic = [False, False]\n",
    "elementType = \"Q1/dQ0\"\n",
    "#elementType =\"Q2/DPC1\"\n",
    "\n",
    "refineMesh = True\n",
    "\n",
    "#System/Solver stuff\n",
    "\n",
    "PIC_integration=True\n",
    "ppc = 25"
   ]
  },
  {
   "cell_type": "code",
   "execution_count": 108,
   "metadata": {
    "collapsed": true
   },
   "outputs": [],
   "source": [
    "###########\n",
    "#Model Runtime parameters\n",
    "###########\n",
    "\n",
    "swarm_update = 10\n",
    "swarm_repop = 25\n",
    "files_output = 1e6\n",
    "gldbs_output = 25\n",
    "images_output = 1e6\n",
    "checkpoint_every = 25\n",
    "metric_output = 25\n",
    "sticky_air_temp = 10\n",
    "\n",
    "comm.Barrier() #Barrier here so not procs run the check in the next cell too early \n",
    "\n",
    "assert metric_output <= checkpoint_every, 'Checkpointing should run less or as ofen as metric output'\n",
    "#assert (metric_output >= swarm_update), 'Swarm update is needed before checkpointing'\n",
    "#assert metric_output >= sticky_air_temp, 'Sticky air temp should be updated more frequently that metrics'"
   ]
  },
  {
   "cell_type": "code",
   "execution_count": 109,
   "metadata": {
    "collapsed": true
   },
   "outputs": [],
   "source": [
    "mesh = uw.mesh.FeMesh_Cartesian( elementType = elementType,\n",
    "                                 elementRes  = (Xres, Yres), \n",
    "                                 minCoord    = (MINX,MINY), \n",
    "                                 maxCoord=(MAXX,MAXY), periodic=periodic)\n",
    "\n",
    "\n",
    "\n",
    "velocityField       = uw.mesh.MeshVariable( mesh=mesh,         nodeDofCount=dim )\n",
    "pressureField       = uw.mesh.MeshVariable( mesh=mesh.subMesh, nodeDofCount=1 )\n",
    "temperatureField    = uw.mesh.MeshVariable( mesh=mesh,         nodeDofCount=1 )\n",
    "temperatureDotField = uw.mesh.MeshVariable( mesh=mesh,         nodeDofCount=1 )"
   ]
  },
  {
   "cell_type": "code",
   "execution_count": 110,
   "metadata": {
    "collapsed": true
   },
   "outputs": [],
   "source": [
    "# Initialise data.. Note that we are also setting boundary conditions here\n",
    "velocityField.data[:] = [0.,0.]\n",
    "pressureField.data[:] = 0.\n",
    "temperatureField.data[:] = 0.\n",
    "temperatureDotField.data[:] = 0."
   ]
  },
  {
   "cell_type": "code",
   "execution_count": 111,
   "metadata": {
    "collapsed": false
   },
   "outputs": [
    {
     "data": {
      "text/plain": [
       "-0.7575757575757576"
      ]
     },
     "execution_count": 111,
     "metadata": {},
     "output_type": "execute_result"
    }
   ],
   "source": [
    "subzone"
   ]
  },
  {
   "cell_type": "code",
   "execution_count": 112,
   "metadata": {
    "collapsed": false
   },
   "outputs": [],
   "source": [
    "lith= boundary_layer2d.LithosphereTemps(mesh, temperatureField, dp.LS, MINX, mor, tint=ndp.TB, tsurf=ndp.TS, vel= 10e3, diffs = 1e-6)\n"
   ]
  },
  {
   "cell_type": "code",
   "execution_count": 113,
   "metadata": {
    "collapsed": true
   },
   "outputs": [],
   "source": [
    "coords = [(MINX, 1.), (subzone, 1.), (MINX, 0.)]\n",
    "Tri = fn.shape.Polygon(np.array(coords))"
   ]
  },
  {
   "cell_type": "code",
   "execution_count": 114,
   "metadata": {
    "collapsed": false
   },
   "outputs": [],
   "source": [
    "for index, coord in enumerate(mesh.data):\n",
    "    xloc = coord[0]\n",
    "    agema = lith.agefunc(xloc)\n",
    "    if coord[1] >= 1.:\n",
    "            temperatureField.data[index] = lith.tsurf\n",
    "    else:\n",
    "        zloc = ((1.- coord[1])* dp.LS) # dimensional depth kms\n",
    "        t = lith.tempfunc(agema, zloc)\n",
    "        temperatureField.data[index] = t \n",
    "    if coord[1] <= 1. and coord[0] > mor: #Get rid of lithosphere to the right of the ridge\n",
    "        temperatureField.data[index] = lith.tint\n",
    "    if Tri.evaluate(tuple(coord)):\n",
    "        temperatureField.data[index] = lith.tint"
   ]
  },
  {
   "cell_type": "code",
   "execution_count": 115,
   "metadata": {
    "collapsed": false
   },
   "outputs": [
    {
     "data": {
      "text/html": [
       "<img src='data:image/png;base64,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'>"
      ],
      "text/plain": [
       "<IPython.core.display.HTML object>"
      ]
     },
     "execution_count": 115,
     "metadata": {},
     "output_type": "execute_result"
    }
   ],
   "source": [
    "figTemp = glucifer.Figure()\n",
    "figTemp.append( glucifer.objects.Surface(mesh, temperatureField))\n",
    "\n",
    "#figTemp.save_database('test.gldb')\n",
    "figTemp.show()"
   ]
  },
  {
   "cell_type": "code",
   "execution_count": 116,
   "metadata": {
    "collapsed": true
   },
   "outputs": [],
   "source": [
    "# send boundary condition information to underworld\n",
    "IWalls = mesh.specialSets[\"MinI_VertexSet\"] + mesh.specialSets[\"MaxI_VertexSet\"]\n",
    "JWalls = mesh.specialSets[\"MinJ_VertexSet\"] + mesh.specialSets[\"MaxJ_VertexSet\"]\n",
    "TWalls = mesh.specialSets[\"MaxJ_VertexSet\"]\n",
    "BWalls = mesh.specialSets[\"MinJ_VertexSet\"]"
   ]
  },
  {
   "cell_type": "code",
   "execution_count": null,
   "metadata": {
    "collapsed": false
   },
   "outputs": [],
   "source": []
  },
  {
   "cell_type": "code",
   "execution_count": 117,
   "metadata": {
    "collapsed": false
   },
   "outputs": [],
   "source": [
    "#Set Dirichlet Temp conditions\n",
    "\n",
    "for index in mesh.specialSets[\"MinJ_VertexSet\"]:\n",
    "    temperatureField.data[index] = lith.tint\n",
    "for index in mesh.specialSets[\"MaxJ_VertexSet\"]:\n",
    "    temperatureField.data[index] = lith.tsurf\n",
    "\n",
    "\n",
    "# Now setup the dirichlet boundary condition\n",
    "# Note that through this object, we are flagging to the system \n",
    "# that these nodes are to be considered as boundary conditions. \n",
    "# Also note that we provide a tuple of sets.. One for the Vx, one for Vy.\n",
    "freeslipBC = uw.conditions.DirichletCondition(     variable=velocityField, \n",
    "                                              indexSetsPerDof=(IWalls, JWalls) )\n",
    "\n",
    "# also set dirichlet for temp field\n",
    "dirichTempBC = uw.conditions.DirichletCondition(     variable=temperatureField, \n",
    "                                              indexSetsPerDof=(JWalls,) )"
   ]
  },
  {
   "cell_type": "markdown",
   "metadata": {},
   "source": [
    "# Particles"
   ]
  },
  {
   "cell_type": "code",
   "execution_count": 118,
   "metadata": {
    "collapsed": true
   },
   "outputs": [],
   "source": [
    "###########\n",
    "#Material Swarm and variables\n",
    "###########\n",
    "\n",
    "gSwarm = uw.swarm.Swarm(mesh=mesh)\n",
    "materialVariable = gSwarm.add_variable( dataType=\"int\", count=1 )"
   ]
  },
  {
   "cell_type": "code",
   "execution_count": 119,
   "metadata": {
    "collapsed": false
   },
   "outputs": [],
   "source": [
    "mantleIndex = 0\n",
    "lithosphereIndex = 1\n",
    "eclIndex = 2\n",
    "crustIndex = 3\n",
    "airIndex = 4\n",
    "tempIndex = 5\n",
    "\n",
    "\n",
    "\n",
    "\n",
    "if checkpointLoad:\n",
    "    checkpointLoadDir = natsort.natsorted(checkdirs)[-1]\n",
    "    temperatureField.load(os.path.join(checkpointLoadDir, \"temperatureField\" + \".hdf5\"))\n",
    "    pressureField.load(os.path.join(checkpointLoadDir, \"pressureField\" + \".hdf5\"))\n",
    "    velocityField.load(os.path.join(checkpointLoadDir, \"velocityField\" + \".hdf5\"))\n",
    "    gSwarm.load(os.path.join(checkpointLoadDir, \"swarm\" + \".h5\"))\n",
    "    for ix in range(len(varlist)):\n",
    "        varb = varlist[ix]\n",
    "        varb.load(os.path.join(checkpointLoadDir,varnames[ix] + \".h5\"))\n",
    "\n",
    "else:\n",
    "\n",
    "    # Layouts are used to populate the swarm across the whole domain\n",
    "    # Create the layout object\n",
    "    layout = uw.swarm.layouts.PerCellRandomLayout(swarm=gSwarm, particlesPerCell=ppc)\n",
    "    # Now use it to populate.\n",
    "    gSwarm.populate_using_layout( layout=layout )\n",
    "\n",
    "    # Lets initialise the 'materialVariable' data to represent different materials\n",
    "    # Set the material to heavy everywhere via the numpy array\n",
    "    materialVariable.data[:] = mantleIndex\n",
    "    \n",
    "    \n",
    "    #Set initial air and crust materials (allow the graph to take care of lithsophere)\n",
    "    #########\n",
    "    #This initial material setup will be model dependent\n",
    "    #########\n",
    "    for particleID in range(gSwarm.particleCoordinates.data.shape[0]):\n",
    "        if (1. - gSwarm.particleCoordinates.data[particleID][1]) < 0:\n",
    "                 materialVariable.data[particleID] = airIndex\n",
    "        elif (1. - gSwarm.particleCoordinates.data[particleID][1]) < MANTLETOCRUST:\n",
    "                 materialVariable.data[particleID] = crustIndex\n"
   ]
  },
  {
   "cell_type": "markdown",
   "metadata": {},
   "source": [
    "# Material Graphs"
   ]
  },
  {
   "cell_type": "code",
   "execution_count": 120,
   "metadata": {
    "collapsed": true
   },
   "outputs": [],
   "source": [
    "##############\n",
    "#Important: This is a quick fix for a bug that arises in parallel runs\n",
    "##############\n",
    "material_list = [0,1,2,3,4,5]\n"
   ]
  },
  {
   "cell_type": "code",
   "execution_count": 121,
   "metadata": {
    "collapsed": true
   },
   "outputs": [],
   "source": [
    "#All depth conditions are given as (km/D) where D is the length scale,\n",
    "#note that 'model depths' are used, e.g. 1-z, where z is the vertical Underworld coordinate\n",
    "#All temp conditions are in dimensionless temp. [0. - 1.]\n",
    "\n",
    "#######Graph object\n",
    "DG = nx.DiGraph(field=\"Depth\")\n",
    "\n",
    "#######Nodes\n",
    "#Note that the order of materials, deepest to shallowest is important\n",
    "DG.add_node(0, mat='mantle')\n",
    "DG.add_node(1, mat='lithosphere')\n",
    "DG.add_node(2, mat='ecl')\n",
    "DG.add_node(3, mat='crust')\n",
    "DG.add_node(4, mat='air')\n",
    "DG.add_node(5, mat='temp')\n",
    "\n",
    "\n",
    "labels=dict((n,d['mat']) for n,d in DG.nodes(data=True))\n",
    "pos=nx.spring_layout(DG)\n",
    "\n",
    "\n",
    "#######Edges\n",
    "#anything to air\n",
    "DG.add_edges_from([(0,4),(1,4), (3,4)])\n",
    "DG[0][4]['depthcondition'] = -1*TOPOHEIGHT\n",
    "DG[1][4]['depthcondition'] = -1*TOPOHEIGHT\n",
    "DG[3][4]['depthcondition'] = -1*TOPOHEIGHT\n",
    "\n",
    "\n",
    "#Anything to mantle\n",
    "DG.add_edges_from([(3,0), (1,0), (2,0), (5,0)])\n",
    "DG[3][0]['depthcondition'] = CRUSTTOMANTLE #Normal crust\n",
    "DG[1][0]['depthcondition'] = LITHTOMANTLE #This means we're going to kill lithosphere at the 660.\n",
    "DG[2][0]['depthcondition'] = CRUSTTOMANTLE #Eclogite crust\n",
    "DG[5][0]['depthcondition'] = CRUSTTOMANTLE #Normal crust\n",
    "\n",
    "#Anything to lithsphere\n",
    "DG.add_edges_from([(0,1),(4,1)])\n",
    "DG[0][1]['depthcondition'] = MANTLETOLITH\n",
    "DG[0][1]['avgtempcondition'] = 0.75*AVGTEMP #definition of thermal lithosphere\n",
    "\n",
    "\n",
    "#Anything to crust\n",
    "DG.add_edges_from([(0,3), (1,3), (4,3)])\n",
    "DG[0][3]['depthcondition'] = MANTLETOCRUST\n",
    "DG[1][3]['depthcondition'] = MANTLETOCRUST\n",
    "DG[4][3]['depthcondition'] = TOPOHEIGHT\n",
    "\n",
    "#crust to eclogite\n",
    "DG.add_edges_from([(3,2)])\n",
    "DG[3][2]['depthcondition'] =CRUSTTOECL"
   ]
  },
  {
   "cell_type": "code",
   "execution_count": 122,
   "metadata": {
    "collapsed": false
   },
   "outputs": [],
   "source": [
    "remove_nodes = []\n",
    "for node in DG.nodes():\n",
    "    if not node in material_list:\n",
    "        remove_nodes.append(node)\n",
    "        \n",
    "for rmnode in remove_nodes:\n",
    "    DG.remove_node(rmnode)"
   ]
  },
  {
   "cell_type": "code",
   "execution_count": 123,
   "metadata": {
    "collapsed": true
   },
   "outputs": [],
   "source": [
    "#A Dictionary to map strings in the graph (e.g. 'depthcondition') to particle data arrays\n",
    "\n",
    "particledepths = 1. - gSwarm.particleCoordinates.data[:,1]\n",
    "particletemps = temperatureField.evaluate(gSwarm)[:,0]\n",
    "\n",
    "conditionmap = {}\n",
    "\n",
    "conditionmap['depthcondition'] = {}\n",
    "conditionmap['depthcondition']['data'] = particledepths\n",
    "conditionmap['avgtempcondition'] = {}\n",
    "conditionmap['avgtempcondition']['data'] = particletemps"
   ]
  },
  {
   "cell_type": "code",
   "execution_count": 124,
   "metadata": {
    "collapsed": true
   },
   "outputs": [],
   "source": [
    "def update_swarm(graph, particleIndex):\n",
    "    \"\"\"\n",
    "    This function takes the materials graph (networkx.DiGraph), and a particle index,\n",
    "    then determines if a material update is required \n",
    "    and if so, returns the new materialindex\n",
    "    Args:\n",
    "        graph (networkx.DiGraph): Directed multigraph representing the transformation of material types\n",
    "        particleIndex (int): the particle index as corressponding to the index in the swarm data arrays\n",
    "    Returns:\n",
    "        if update is required the function returns the the new material variable (int) \n",
    "        else returns None\n",
    "    Raises:\n",
    "        TypeError: not implemented\n",
    "        ValueError: not implemented\n",
    "    \"\"\"\n",
    "    ##Egde gives links to other materials, we then query the conditions to see if we should change materials\n",
    "    matId = materialVariable.data[particleIndex][0]\n",
    "    innerchange = False\n",
    "    outerchange = False\n",
    "    for edge in graph[matId]:\n",
    "        if outerchange:\n",
    "            break\n",
    "        for cond in graph[matId][edge].keys():\n",
    "            outerchange = False\n",
    "            if innerchange: #found a complete transition, break inner loop\n",
    "                break\n",
    "            currentparticlevalue = conditionmap[cond]['data'][particleIndex]\n",
    "            crossover = graph[matId][edge][cond]\n",
    "            if ((matId > edge) and (currentparticlevalue > crossover)):\n",
    "                innerchange = False # continue on, \n",
    "                if graph[matId][edge].keys()[-1] == cond:\n",
    "                    outerchange = True\n",
    "                    innerchange = edge\n",
    "                    break\n",
    "            elif ((matId < edge) and (currentparticlevalue < crossover)):\n",
    "                innerchange = False\n",
    "                if graph[matId][edge].keys()[-1] == cond:\n",
    "                    outerchange = True\n",
    "                    innerchange = edge\n",
    "                    break\n",
    "            else:\n",
    "                #condition not met, break outer loop, go to next edge, outerchange should still be False\n",
    "                break\n",
    "    if type(innerchange) == int:\n",
    "        return innerchange"
   ]
  },
  {
   "cell_type": "code",
   "execution_count": 125,
   "metadata": {
    "collapsed": false
   },
   "outputs": [],
   "source": [
    "#Set the crust material in the slab using shapes/function from uw.\n",
    "\n",
    "if not checkpointLoad:\n",
    "    #materialVariable.data[:] = mantleIndex\n",
    "    #lithtemp = 0.95*0.8\n",
    "    #tempswarm = temperatureField.evaluate(gSwarm)[:,0]\n",
    "\n",
    "    #At this point, we only have to assign any materials that are defined by setup shapes,\n",
    "    #the rest of the materials will be assigned using the materials graph\n",
    "\n",
    "    for particleID in range(gSwarm.particleCoordinates.data.shape[0]):\n",
    "        coord = gSwarm.particleCoordinates.data[particleID]\n",
    "        if gSwarm.particleCoordinates.data[particleID][1] > (1.0 - MANTLETOCRUST) and not Tri.evaluate(tuple(coord)):\n",
    "            materialVariable.data[particleID] =  crustIndex\n"
   ]
  },
  {
   "cell_type": "code",
   "execution_count": 126,
   "metadata": {
    "collapsed": false
   },
   "outputs": [],
   "source": [
    "#Cleanse the swarm of its sins\n",
    "#For some Material Graphs, the graph may have to be traversed more than once\n",
    "\n",
    "check = -1\n",
    "number_updated = 1\n",
    "\n",
    "while number_updated != 0:\n",
    "    number_updated = 0\n",
    "    for particleID in range(gSwarm.particleCoordinates.data.shape[0]):\n",
    "        check = update_swarm(DG, particleID)\n",
    "        if check > -1:\n",
    "            number_updated += 1\n",
    "            materialVariable.data[particleID] = check"
   ]
  },
  {
   "cell_type": "code",
   "execution_count": 127,
   "metadata": {
    "collapsed": false
   },
   "outputs": [
    {
     "data": {
      "text/html": [
       "<img src='data:image/png;base64,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'>"
      ],
      "text/plain": [
       "<IPython.core.display.HTML object>"
      ]
     },
     "execution_count": 127,
     "metadata": {},
     "output_type": "execute_result"
    }
   ],
   "source": [
    "figMat = glucifer.Figure()\n",
    "figMat.append( glucifer.objects.Points(gSwarm,materialVariable, colours='white blue red black'))\n",
    "#figMat.append( glucifer.objects.Mesh(mesh))\n",
    "figMat.save_database('test.gldb')\n",
    "figMat.show()"
   ]
  },
  {
   "cell_type": "markdown",
   "metadata": {},
   "source": [
    "## Rheology"
   ]
  },
  {
   "cell_type": "code",
   "execution_count": 128,
   "metadata": {
    "collapsed": true
   },
   "outputs": [],
   "source": [
    "# The yeilding of the upper slab is dependent on the strain rate.\n",
    "strainRate_2ndInvariant = fn.tensor.second_invariant( \n",
    "                            fn.tensor.symmetric( \n",
    "                            velocityField.fn_gradient ))\n",
    "\n",
    "\n",
    "coordinate = fn.input()\n",
    "depth = 1. - coordinate[1]\n"
   ]
  },
  {
   "cell_type": "code",
   "execution_count": null,
   "metadata": {
    "collapsed": false
   },
   "outputs": [],
   "source": []
  },
  {
   "cell_type": "code",
   "execution_count": 129,
   "metadata": {
    "collapsed": false
   },
   "outputs": [],
   "source": [
    "arhennius = fn.misc.min(ndp.up_visc, fn.math.exp(((-1.*math.log(dp.E)) + (math.log(dp.E) / (temperatureField + 1e-6)))))  \n"
   ]
  },
  {
   "cell_type": "code",
   "execution_count": 130,
   "metadata": {
    "collapsed": false
   },
   "outputs": [
    {
     "data": {
      "text/html": [
       "<img src='data:image/png;base64,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'>"
      ],
      "text/plain": [
       "<IPython.core.display.HTML object>"
      ]
     },
     "execution_count": 130,
     "metadata": {},
     "output_type": "execute_result"
    }
   ],
   "source": [
    "figVisc = glucifer.Figure()\n",
    "figVisc.append( glucifer.objects.Surface(mesh, arhennius, logScale=True))\n",
    "figVisc.append(glucifer.objects.VectorArrows(mesh, velocityField, scaling=0.0002))\n",
    "figVisc.show()"
   ]
  },
  {
   "cell_type": "code",
   "execution_count": 131,
   "metadata": {
    "collapsed": false
   },
   "outputs": [
    {
     "data": {
      "text/plain": [
       "128.19708000000003"
      ]
     },
     "execution_count": 131,
     "metadata": {},
     "output_type": "execute_result"
    }
   ],
   "source": [
    "ndp.fcd/ndp.cohesion"
   ]
  },
  {
   "cell_type": "code",
   "execution_count": 132,
   "metadata": {
    "collapsed": false
   },
   "outputs": [],
   "source": [
    "#Psuedo-plastic \n",
    "ys =  ndp.cohesion + (depth*ndp.fcd)\n",
    "#ys =  ndp.fc*lithopressuregrad*(30e3/dp.LS) # this is the byerlee strength at 30 km\n",
    "yss = fn.misc.max(ndp.cohesion, ys)\n",
    "plasticvisc = yss*(math.sqrt(2))/(strainRate_2ndInvariant*2.)\n",
    "plastic = fn.misc.max(ndp.low_visc,plasticvisc)\n",
    "#combine these\n",
    "mantleviscosityFn = fn.misc.min(arhennius, plastic)\n",
    "\n",
    "############\n",
    "#crust\n",
    "############\n",
    "\n",
    "\n",
    "\n",
    "ysc = (ndp.cohesion/100.) + (depth*(ndp.fcd/100.))\n",
    "#ysc = ys/100.\n",
    "ycs = fn.misc.max((ndp.cohesion/100.), ysc)\n",
    "crustplasticvisc = ycs*(math.sqrt(2))/(strainRate_2ndInvariant*2.)\n",
    "crustplastic = fn.misc.max(ndp.low_visc,crustplasticvisc) \n",
    "crustviscosityFn = fn.misc.min(arhennius, crustplastic)"
   ]
  },
  {
   "cell_type": "code",
   "execution_count": 133,
   "metadata": {
    "collapsed": false
   },
   "outputs": [],
   "source": [
    "# Here we set a viscosity value of '1.' for both materials\n",
    "viscosityMapFn = fn.branching.map( fn_key = materialVariable,\n",
    "                         mapping = {airIndex:ndp.StAeta0, \n",
    "                                    lithosphereIndex:mantleviscosityFn, \n",
    "                                    crustIndex:mantleviscosityFn,\n",
    "                                    mantleIndex:mantleviscosityFn, \n",
    "                                    eclIndex:crustviscosityFn,\n",
    "                                    tempIndex:mantleviscosityFn} )\n",
    "\n",
    "densityMapFn = fn.branching.map( fn_key = materialVariable,\n",
    "                         mapping = {airIndex:ndp.StA_RA, \n",
    "                                    lithosphereIndex:ndp.RA*temperatureField, \n",
    "                                    crustIndex:ndp.RA*temperatureField, \n",
    "                                    mantleIndex:ndp.RA*temperatureField, \n",
    "                                    eclIndex:ndp.RA*temperatureField,\n",
    "                                    tempIndex:ndp.RA*temperatureField, } )\n",
    "\n",
    "# Define our gravity using a python tuple (this will be automatically converted to a function)\n",
    "gravity = ( 0.0, 1.0 )\n",
    "\n",
    "buoyancyFn = gravity*densityMapFn"
   ]
  },
  {
   "cell_type": "markdown",
   "metadata": {},
   "source": [
    "## Build Stokes system"
   ]
  },
  {
   "cell_type": "code",
   "execution_count": 134,
   "metadata": {
    "collapsed": true
   },
   "outputs": [],
   "source": [
    "stokesPIC = uw.systems.Stokes( velocityField = velocityField, \n",
    "                               pressureField = pressureField,\n",
    "                               #swarm         = gSwarm, \n",
    "                               conditions    = [freeslipBC,],\n",
    "                               fn_viscosity   = arhennius, \n",
    "                               fn_bodyforce   = buoyancyFn,\n",
    "                               swarm=gSwarm)"
   ]
  },
  {
   "cell_type": "code",
   "execution_count": 135,
   "metadata": {
    "collapsed": true
   },
   "outputs": [],
   "source": [
    "#We do one solve with linear viscosity to get the initial strain rate invariant. \n",
    "#This solve step also calculates a 'guess' of the the velocity field based on the linear system, \n",
    "#which is used later in the non-linear solver.\n",
    "\n",
    "solver = uw.systems.Solver(stokesPIC)\n",
    "# If not doing a restart, do a solve on the non-plastic system\n",
    "if not checkpointLoad:\n",
    "    solver.solve()"
   ]
  },
  {
   "cell_type": "code",
   "execution_count": 136,
   "metadata": {
    "collapsed": true
   },
   "outputs": [],
   "source": [
    "#Switch particle escape on, this will also trigger the inflow population control \n",
    "gSwarm.particleEscape = True"
   ]
  },
  {
   "cell_type": "code",
   "execution_count": 137,
   "metadata": {
    "collapsed": true
   },
   "outputs": [],
   "source": [
    "####################\n",
    "#Add the non-linear viscosity to the Stokes system\n",
    "stokesPIC.fn_viscosity = viscosityMapFn\n",
    "###################\n",
    "\n",
    "#Set more advanced solver option\n",
    "solver.options.main.Q22_pc_type='gkgdiag'\n",
    "#solver.options.A11.ksp_rtol=1e-2\n",
    "#solver.options.scr.ksp_rtol=1e-3\n",
    "#solver.options.A11.ksp_type=\"cg\"\n",
    "solver.options.scr.use_previous_guess = True\n",
    "#solver.options.scr.ksp_set_min_it_converge = 1\n",
    "#solver.options.main.penalty=10.0\n",
    "\n",
    "#solver.options.mg.levels = 3\n",
    "#solver.options.main.remove_constant_pressure_null_space=True\n",
    "#solver.options.main.penalty = 1e2\n",
    "\n",
    "solver.options.A11.ksp_rtol=1e-4\n",
    "solver.options.scr.ksp_rtol=1e-4\n",
    "\n",
    "solver.options.A11.ksp_monitor=''\n",
    "solver.options.A11.ksp_converged_reason=''"
   ]
  },
  {
   "cell_type": "code",
   "execution_count": 138,
   "metadata": {
    "collapsed": true
   },
   "outputs": [],
   "source": [
    "solver.solve(nonLinearIterate=True)"
   ]
  },
  {
   "cell_type": "code",
   "execution_count": 141,
   "metadata": {
    "collapsed": false
   },
   "outputs": [
    {
     "data": {
      "text/plain": [
       "0"
      ]
     },
     "execution_count": 141,
     "metadata": {},
     "output_type": "execute_result"
    }
   ],
   "source": [
    "ndp.H"
   ]
  },
  {
   "cell_type": "code",
   "execution_count": 143,
   "metadata": {
    "collapsed": false
   },
   "outputs": [],
   "source": [
    "#Create advdiff system\n",
    "\n",
    "\n",
    "\n",
    "#advDiff = uw.systems.AdvectionDiffusion( phiField       = temperatureField, \n",
    "#                                         phiDotField    = temperatureDotField, \n",
    "#                                         velocityField  = velocityField, \n",
    "#                                         fn_diffusivity = 1.0,\n",
    "#                                         fn_sourceTerm = 0.,\n",
    "#                                         conditions     = [tempBC,] )\n",
    "\n",
    "\n",
    "advDiff = uw.systems.AdvectionDiffusion( phiField       = temperatureField, \n",
    "                                         phiDotField    = temperatureDotField, \n",
    "                                         velocityField  = velocityField,\n",
    "                                         fn_sourceTerm    = ndp.H,\n",
    "                                         fn_diffusivity = 1.0, \n",
    "                                         conditions     = [dirichTempBC,] )\n",
    "\n",
    "\n",
    "\n",
    "advector = uw.systems.SwarmAdvector( swarm         = gSwarm, \n",
    "                                     velocityField = velocityField, \n",
    "                                     order         = 1)"
   ]
  },
  {
   "cell_type": "code",
   "execution_count": null,
   "metadata": {
    "collapsed": true
   },
   "outputs": [],
   "source": [
    "pics = uw.swarm.PICIntegrationSwarm(gSwarm)"
   ]
  },
  {
   "cell_type": "markdown",
   "metadata": {},
   "source": [
    "## Figures / gldbs etc"
   ]
  },
  {
   "cell_type": "code",
   "execution_count": 145,
   "metadata": {
    "collapsed": true
   },
   "outputs": [],
   "source": [
    "viscVariable = gSwarm.add_variable( dataType=\"float\", count=1 )\n",
    "viscVariable.data[:] = viscosityMapFn.evaluate(gSwarm)"
   ]
  },
  {
   "cell_type": "code",
   "execution_count": 146,
   "metadata": {
    "collapsed": true
   },
   "outputs": [],
   "source": [
    "#Pack some stuff into a database as well\n",
    "figDb = glucifer.Figure()\n",
    "figDb.append( glucifer.objects.Points(gSwarm,viscVariable, logScale=True, colours='brown white blue'))\n",
    "figDb.append( glucifer.objects.Points(gSwarm,materialVariable, colours='brown white blue red'))\n",
    "figDb.append( glucifer.objects.Mesh(mesh))\n",
    "figDb.append( glucifer.objects.VectorArrows(mesh,velocityField, arrowHead=0.2, scaling=0.01))\n",
    "figDb.append( glucifer.objects.Surface(mesh, strainRate_2ndInvariant, logScale=True, colours='brown white blue'))\n",
    "figDb.append( glucifer.objects.Surface(mesh, temperatureField))"
   ]
  },
  {
   "cell_type": "code",
   "execution_count": 152,
   "metadata": {
    "collapsed": true
   },
   "outputs": [],
   "source": [
    "step = 0\n",
    "realtime = 0.\n",
    "timevals = [0.]"
   ]
  },
  {
   "cell_type": "code",
   "execution_count": null,
   "metadata": {
    "collapsed": false
   },
   "outputs": [
    {
     "name": "stdout",
     "output_type": "stream",
     "text": [
      "0.0\n",
      "1.0\n",
      "2.0\n",
      "3.0\n",
      "4.0"
     ]
    }
   ],
   "source": [
    "# initialise timer for computation\n",
    "startMain = time.clock()\n",
    "# Perform steps#\n",
    "while realtime < 0.2:\n",
    "#while step < 25:\n",
    "    #Enter non-linear loop\n",
    "    print step\n",
    "    solver.solve(nonLinearIterate=True)\n",
    "    dt = advDiff.get_max_dt()\n",
    "    if step == 0:\n",
    "        dt = 0.\n",
    "    #start = time.clock()\n",
    "    advDiff.integrate(dt)\n",
    "    #machine_time = (time.clock()-start)\n",
    "    #print(\"total advDiff time is: \" + str(machine_time))\n",
    "    # Advect swarm using this timestep size\n",
    "    #start = time.clock()\n",
    "    advector.integrate(dt)\n",
    "    #machine_time = (time.clock()-start)\n",
    "    #print(\"total advector time is: \" + str(machine_time))\n",
    "    # Increment\n",
    "    realtime += dt\n",
    "    step += 1\n",
    "    timevals.append(realtime)\n",
    "    \n",
    "    ################\n",
    "    #Gldb output\n",
    "    ################ \n",
    "    if (step % gldbs_output == 0):\n",
    "        #Rebuild any necessary swarm variables\n",
    "        viscVariable.data[:] = viscosityMapFn.evaluate(gSwarm)\n",
    "        #Write gldbs\n",
    "        fnamedb = \"dbFig\" + \"_\" + str(ModIt) + \"_\" + str(step) + \".gldb\"\n",
    "        fullpath = os.path.join(outputPath + \"gldbs/\" + fnamedb)\n",
    "        figDb.show()\n",
    "        figDb.save_database(fullpath)\n",
    "    ################\n",
    "    #Also repopulate entire swarm periodically\n",
    "    ################\n",
    "    if step % swarm_repop == 0:\n",
    "        pics.repopulate()\n",
    "    "
   ]
  },
  {
   "cell_type": "code",
   "execution_count": null,
   "metadata": {
    "collapsed": true
   },
   "outputs": [],
   "source": []
  }
 ],
 "metadata": {
  "kernelspec": {
   "display_name": "Python 2",
   "language": "python",
   "name": "python2"
  },
  "language_info": {
   "codemirror_mode": {
    "name": "ipython",
    "version": 2
   },
   "file_extension": ".py",
   "mimetype": "text/x-python",
   "name": "python",
   "nbconvert_exporter": "python",
   "pygments_lexer": "ipython2",
   "version": "2.7.11"
  }
 },
 "nbformat": 4,
 "nbformat_minor": 0
}
