{
 "cells": [
  {
   "cell_type": "markdown",
   "metadata": {
    "collapsed": true
   },
   "source": [
    "# Thermal slabs with a visco-elastic-plastic core\n",
    "\n"
   ]
  },
  {
   "cell_type": "markdown",
   "metadata": {},
   "source": [
    "Load python functions needed for underworld. Some additional python functions from os, math and numpy used later on."
   ]
  },
  {
   "cell_type": "code",
   "execution_count": 711,
   "metadata": {
    "collapsed": false
   },
   "outputs": [],
   "source": [
    "#!pip install natsort\n",
    "#!pip install networkx"
   ]
  },
  {
   "cell_type": "code",
   "execution_count": 712,
   "metadata": {
    "collapsed": false
   },
   "outputs": [],
   "source": [
    "import networkx as nx\n",
    "import underworld as uw\n",
    "import math\n",
    "from underworld import function as fn\n",
    "import glucifer\n",
    "#import matplotlib.pyplot as pyplot\n",
    "import time\n",
    "import numpy as np\n",
    "import os\n",
    "import sys\n",
    "import natsort\n",
    "import shutil\n",
    "from easydict import EasyDict as edict\n",
    "import slippy2 as sp\n",
    "\n",
    "\n",
    "\n",
    "from mpi4py import MPI\n",
    "comm = MPI.COMM_WORLD\n",
    "rank = comm.Get_rank()"
   ]
  },
  {
   "cell_type": "code",
   "execution_count": 713,
   "metadata": {
    "collapsed": true
   },
   "outputs": [],
   "source": [
    "def mpy_to_kmpma(mpy):\n",
    "    \"\"\"\n",
    "    convert meters per year to kilometers per year\n",
    "    Args:\n",
    "        mpy (float): velocity in meters per year\n",
    "    Returns:\n",
    "        velocity in kilometers per year\n",
    "    Raises:\n",
    "        TypeError: not implemented\n",
    "        ValueError: not implemented\n",
    "    \"\"\"\n",
    "    return 1e3*mpy\n",
    "\n",
    "def myts(mys):\n",
    "    \"\"\"\n",
    "    convert millions of years to seconds\n",
    "    Args:\n",
    "        mys (float): millions or years\n",
    "    Returns:\n",
    "        seconds\n",
    "    Raises:\n",
    "        TypeError: not implemented\n",
    "        ValueError: not implemented\n",
    "    \"\"\"\n",
    "    secs = mys*(3600.*24*365)*1e6\n",
    "    return secs\n",
    "\n",
    "def stmy(secs):\n",
    "    \"\"\"\n",
    "    convert millions of years to seconds\n",
    "    Args:\n",
    "        mys (float): millions or years\n",
    "    Returns:\n",
    "        seconds\n",
    "    Raises:\n",
    "        TypeError: not implemented\n",
    "        ValueError: not implemented\n",
    "    \"\"\"\n",
    "    myr = secs/((3600.*24*365)*1e6)\n",
    "    return myr"
   ]
  },
  {
   "cell_type": "code",
   "execution_count": 714,
   "metadata": {
    "collapsed": false,
    "scrolled": true
   },
   "outputs": [
    {
     "name": "stdout",
     "output_type": "stream",
     "text": [
      "/Users/dansandiford/Documents/programming/earthsci_code/python/vep\r\n",
      "1_05_StokesSinker.ipynb base_model.ipynb        \u001b[1m\u001b[34mresults\u001b[m\u001b[m\r\n",
      "README.md               base_model.py           test.gldb\r\n",
      "adv-diff-slab.ipynb     checkpoint.tar.gz\r\n"
     ]
    }
   ],
   "source": [
    "#Display working directory info if in nb mode\n",
    "if (len(sys.argv) > 1):\n",
    "    if (sys.argv[1] == '-f'):\n",
    "        !pwd && ls"
   ]
  },
  {
   "cell_type": "code",
   "execution_count": 715,
   "metadata": {
    "collapsed": false
   },
   "outputs": [],
   "source": [
    "############\n",
    "#Model name.  \n",
    "############\n",
    "Model = \"T\"\n",
    "ModNum = 0\n",
    "\n",
    "if len(sys.argv) == 1:\n",
    "    ModIt = \"Base\"\n",
    "elif sys.argv[1] == '-f':\n",
    "    ModIt = \"Base\"\n",
    "else:\n",
    "    ModIt = str(sys.argv[1])\n"
   ]
  },
  {
   "cell_type": "code",
   "execution_count": 716,
   "metadata": {
    "collapsed": true
   },
   "outputs": [],
   "source": [
    "###########\n",
    "#Standard output directory setup\n",
    "###########\n",
    "\n",
    "\n",
    "outputPath = \"results\" + \"/\" +  str(Model) + \"/\" + str(ModNum) + \"/\" + str(ModIt) + \"/\"\n",
    "imagePath = outputPath + 'images/'\n",
    "filePath = outputPath + 'files/'\n",
    "checkpointPath = outputPath + 'checkpoint/'\n",
    "dbPath = outputPath + 'gldbs/'\n",
    "outputFile = 'results_model' + Model + '_' + str(ModNum) + '_' + str(ModIt) + '.dat'\n",
    "\n",
    "if uw.rank()==0:\n",
    "    # make directories if they don't exist\n",
    "    if not os.path.isdir(outputPath):\n",
    "        os.makedirs(outputPath)\n",
    "    if not os.path.isdir(checkpointPath):\n",
    "        os.makedirs(checkpointPath)\n",
    "    if not os.path.isdir(imagePath):\n",
    "        os.makedirs(imagePath)\n",
    "    if not os.path.isdir(dbPath):\n",
    "        os.makedirs(dbPath)\n",
    "    if not os.path.isdir(filePath):\n",
    "        os.makedirs(filePath)\n",
    "        \n",
    "comm.Barrier() #Barrier here so not procs run the check in the next cell too early "
   ]
  },
  {
   "cell_type": "code",
   "execution_count": 717,
   "metadata": {
    "collapsed": false
   },
   "outputs": [
    {
     "name": "stdout",
     "output_type": "stream",
     "text": [
      "results/T/16/Base/checkpoint/ is empty\n"
     ]
    }
   ],
   "source": [
    "###########\n",
    "#Check if starting from checkpoint\n",
    "###########\n",
    "\n",
    "checkdirs = []\n",
    "for dirpath, dirnames, files in os.walk(checkpointPath):\n",
    "    if files:\n",
    "        print dirpath, 'has files'\n",
    "        checkpointLoad = True\n",
    "        checkdirs.append(dirpath)\n",
    "    if not files:\n",
    "        print dirpath, 'is empty'\n",
    "        checkpointLoad = False\n",
    "        \n",
    "\n",
    "        "
   ]
  },
  {
   "cell_type": "markdown",
   "metadata": {},
   "source": [
    "Set physical constants and parameters, including the Rayleigh number (*RA*). "
   ]
  },
  {
   "cell_type": "code",
   "execution_count": 718,
   "metadata": {
    "collapsed": false
   },
   "outputs": [
    {
     "data": {
      "text/plain": [
       "12.5"
      ]
     },
     "execution_count": 718,
     "metadata": {},
     "output_type": "execute_result"
    }
   ],
   "source": [
    "(1600)/128."
   ]
  },
  {
   "cell_type": "code",
   "execution_count": 719,
   "metadata": {
    "collapsed": false
   },
   "outputs": [],
   "source": [
    "###########\n",
    "#Physical parameters\n",
    "###########\n",
    "\n",
    "#The Slippy rheology class will contain dimensional and nondimensional values, linked in a self-consistent way by scaling paramters\n",
    "#lowermantle.nondimensional['cohesion']\n",
    "#Where lowermantle is a material class (generated within a rheology class); and non dimensional is a dictionary\n",
    "\n",
    "#UW naming conventions: \n",
    "#module_name, package_name, ClassName, function_name, method_name, \n",
    "#ExceptionName, propertyName GLOBAL_CONSTANT_NAME, globalVarName, instanceVarName, functionParameterName, localVarName\n",
    "###########\n",
    "\n",
    "\n",
    "#dimensional parameter dictionary\n",
    "dp = edict({'LS':2890.*1e3,\n",
    "           'rho':3300,\n",
    "           'g':9.81, \n",
    "           'eta0':1e23,\n",
    "           'k':10**-6,\n",
    "           'a':1.25*10**-5, \n",
    "           'TS':273.,\n",
    "           'TB':2773.,\n",
    "           'deltaT':2500, \n",
    "           'cohesion':1e7, \n",
    "           'E':240000., \n",
    "           'R':8.314,\n",
    "           'V':6.34*(10**-7),\n",
    "           'StALS': 27.*1e3})\n",
    "\n",
    "#non-dimensional parameter dictionary\n",
    "#One draw back of a dictionary structure, is that variables cannot link to other variables\n",
    "RAfac = 20.\n",
    "Stressfac =(RAfac**(2/3.))\n",
    "ndp = edict({'RA':1e6*RAfac,      \n",
    "              'LS':1.,\n",
    "              'eta0':1.,\n",
    "              'StAeta0':0.1,\n",
    "              'k':1.,\n",
    "              'E':11.55,\n",
    "              'V':3.0,\n",
    "              'H':20.,\n",
    "              'TR':(1600./2500.),\n",
    "              'TS':(dp.TS/2500.),\n",
    "              'RD':1.,\n",
    "              'cohesion':1577.*RAfac,\n",
    "              'cohesion_reduce':10.,\n",
    "              'fc':0.1, \n",
    "              'low_visc':1e-4,\n",
    "              'up_visc':1e5,\n",
    "              'random_temp': 0.05})\n",
    "\n",
    "\n",
    "#A few parameters defining lengths scales, affects materal transistions etc.\n",
    "MANTLETOCRUST = (27.*1e3)/dp.LS #Crust depth\n",
    "CRUSTTOMANTLE = (300.*1e3)/dp.LS \n",
    "LITHTOMANTLE = (660.*1e3)/dp.LS \n",
    "MANTLETOLITH = (200.*1e3)/dp.LS \n",
    "TOPOHEIGHT = (0.*1e3)/dp.LS  #rock-air topography limits\n",
    "CRUSTTOECL  = (100.*1e3)/dp.LS\n",
    "AVGTEMP = 0.53 #Used to define lithosphere\n",
    "\n",
    "\n",
    "#Switch on additinal physical mechanisms like crust buoyancy, eclogite buoyancy, lower mantle viscosity, melt viscosity reduction \n",
    "\n",
    "crust_buoyancy = False\n",
    "ecl_buoyancy = False\n",
    "lower_mantle = True\n",
    "melt_viscosity_reduction= True\n",
    "\n",
    "\n",
    "#Compositional Rayliegh numbers for air, crust, ecglogite\n",
    "ETAREF = dp.rho*dp.g*dp.a*dp.deltaT*((dp.LS)**3)/(ndp.RA*dp.k) #equivalent dimensional reference viscosity\n",
    "#RC = (3300.*dp.g*(dp.LS)**3)/(ETAREF *dp.k) #Composisitional Rayleigh number for rock-air buoyancy force\n",
    "RCA = (1650.*dp.g*(dp.LS)**3)/(ETAREF *dp.k) #Composisitional Rayleigh number for rock-air buoyancy force\n",
    "COMP_RA_FACT_AIR = RCA/ndp.RA\n",
    "RCC = (100.*dp.g*(dp.LS)**3)/(ETAREF *dp.k) #Composisitional Rayleigh number for crust\n",
    "COMP_RA_FACT_CRUST = RCC/ndp.RA\n",
    "RCE = -1*(100.*dp.g*(dp.LS)**3)/(ETAREF *dp.k) #Composisitional Rayleigh number for eclogite \n",
    "COMP_RA_FACT_ECL = RCE/ndp.RA\n",
    "ndp[\"StA_RA\"] = ndp.RA*COMP_RA_FACT_AIR\n",
    "if crust_buoyancy:\n",
    "    ndp[\"Crust_RA\"] = ndp.RA*COMP_RA_FACT_CRUST\n",
    "else:\n",
    "    ndp[\"Crust_RA\"] = 0.\n",
    "if ecl_buoyancy:\n",
    "    ndp[\"Ecl_RA\"] = ndp.RA*COMP_RA_FACT_ECL\n",
    "else:\n",
    "    ndp[\"Ecl_RA\"] = 0.\n",
    "    \n",
    "\n",
    "\n",
    "#######################To be replaced soon\n",
    "#Physical parameters that can be defined with STDIN,\n",
    "#The == '-f': check is a a hack check to see cover the notebook case\n",
    "if len(sys.argv) == 1:\n",
    "    ndp.cohesion = ndp.cohesion\n",
    "elif sys.argv[1] == '-f':\n",
    "    ndp.cohesion = ndp.cohesion\n",
    "else:\n",
    "    ndp.cohesion = float(sys.argv[1])*newvisc"
   ]
  },
  {
   "cell_type": "code",
   "execution_count": 720,
   "metadata": {
    "collapsed": false
   },
   "outputs": [],
   "source": [
    "###########\n",
    "#Boundary layer / slab paramaters\n",
    "###########\n",
    "velmy = 0.02 #m/y\n",
    "vel = mpy_to_kmpma(velmy) #km/my\n",
    "off = -0.0 #dimensionless offset\n",
    "\n",
    "#Slab perturbation paramaters\n",
    "Roc = 450.\n",
    "Crust = 35.\n",
    "theta = 89.\n"
   ]
  },
  {
   "cell_type": "code",
   "execution_count": 721,
   "metadata": {
    "collapsed": false
   },
   "outputs": [
    {
     "data": {
      "text/plain": [
       "31540.0"
      ]
     },
     "execution_count": 721,
     "metadata": {},
     "output_type": "execute_result"
    }
   ],
   "source": [
    "ndp.cohesion"
   ]
  },
  {
   "cell_type": "code",
   "execution_count": 722,
   "metadata": {
    "collapsed": false
   },
   "outputs": [],
   "source": [
    "###########\n",
    "#Model setup parameters\n",
    "###########\n",
    "\n",
    "stickyAir = False\n",
    "\n",
    "MINX = -1.\n",
    "MINY = 0.\n",
    "MAXX = 1.0\n",
    "\n",
    "#MAXY = 1.035\n",
    "MAXY = 1.\n",
    "\n",
    "if MINX == 0.:\n",
    "    squareModel = True\n",
    "else: \n",
    "    squareModel = False\n",
    "    \n",
    "    \n",
    "dim = 2          # number of spatial dimensions\n",
    "\n",
    "\n",
    "#MESH STUFF\n",
    "\n",
    "RES = 128\n",
    "\n",
    "\n",
    "if MINX == 0.:\n",
    "    Xres = RES\n",
    "else:\n",
    "    Xres = 2*RES\n",
    "\n",
    "if stickyAir:\n",
    "    Yres = RES\n",
    "    MAXY = 1. + dp.StALS/dp.LS #150km\n",
    "    \n",
    "else:\n",
    "    Yres = RES\n",
    "    MAXY = 1.\n",
    "\n",
    "\n",
    "periodic = [False, False]\n",
    "elementType = \"Q1/dQ0\"\n",
    "#elementType =\"Q2/DPC1\"\n",
    "\n",
    "refineMesh = True\n",
    "\n",
    "\n",
    "#System/Solver stuff\n",
    "\n",
    "PIC_integration=True\n",
    "ppc = 25"
   ]
  },
  {
   "cell_type": "code",
   "execution_count": 723,
   "metadata": {
    "collapsed": false
   },
   "outputs": [],
   "source": [
    "###########\n",
    "#Model Runtime parameters\n",
    "###########\n",
    "\n",
    "swarm_update = 10\n",
    "swarm_repop = 10\n",
    "files_output = 1e6\n",
    "gldbs_output = 10\n",
    "images_output = 1e6\n",
    "checkpoint_every = 25\n",
    "metric_output = 10\n",
    "sticky_air_temp = 10\n",
    "\n",
    "comm.Barrier() #Barrier here so not procs run the check in the next cell too early \n",
    "\n",
    "assert metric_output <= checkpoint_every, 'Checkpointing should run less or as ofen as metric output'\n",
    "#assert (metric_output >= swarm_update), 'Swarm update is needed before checkpointing'\n",
    "#assert metric_output >= sticky_air_temp, 'Sticky air temp should be updated more frequently that metrics'\n"
   ]
  },
  {
   "cell_type": "code",
   "execution_count": 724,
   "metadata": {
    "collapsed": false
   },
   "outputs": [],
   "source": [
    "###########\n",
    "#Model output parameters\n",
    "###########\n",
    "\n",
    "#Do you want to write hdf5 files - Temp, RMS, viscosity, stress?\n",
    "writeFiles = True\n",
    "loadTemp = True\n",
    "\n",
    "    "
   ]
  },
  {
   "cell_type": "code",
   "execution_count": 725,
   "metadata": {
    "collapsed": false
   },
   "outputs": [],
   "source": [
    "mesh = uw.mesh.FeMesh_Cartesian( elementType = elementType,\n",
    "                                 elementRes  = (Xres, Yres), \n",
    "                                 minCoord    = (MINX,MINY), \n",
    "                                 maxCoord=(MAXX,MAXY), periodic=periodic)\n",
    "\n",
    "\n",
    "\n",
    "velocityField       = uw.mesh.MeshVariable( mesh=mesh,         nodeDofCount=dim )\n",
    "pressureField       = uw.mesh.MeshVariable( mesh=mesh.subMesh, nodeDofCount=1 )\n",
    "temperatureField    = uw.mesh.MeshVariable( mesh=mesh,         nodeDofCount=1 )\n",
    "temperatureDotField = uw.mesh.MeshVariable( mesh=mesh,         nodeDofCount=1 )"
   ]
  },
  {
   "cell_type": "code",
   "execution_count": 726,
   "metadata": {
    "collapsed": false
   },
   "outputs": [
    {
     "data": {
      "text/plain": [
       "(128, -1.0, [False, False], 'Q1/dQ0')"
      ]
     },
     "execution_count": 726,
     "metadata": {},
     "output_type": "execute_result"
    }
   ],
   "source": [
    "Xres, MINX, periodic, elementType"
   ]
  },
  {
   "cell_type": "markdown",
   "metadata": {},
   "source": [
    "Create Finite Element (FE) variables for the velocity, pressure and temperature fields. The last two of these are scalar fields needing only one value at each mesh point, while the velocity field contains a vector of *dim* dimensions at each mesh point."
   ]
  },
  {
   "cell_type": "markdown",
   "metadata": {},
   "source": [
    "Create some dummy fevariables for doing top and bottom boundary calculations."
   ]
  },
  {
   "cell_type": "markdown",
   "metadata": {},
   "source": [
    "## Refine mesh"
   ]
  },
  {
   "cell_type": "code",
   "execution_count": 727,
   "metadata": {
    "collapsed": false
   },
   "outputs": [
    {
     "name": "stdout",
     "output_type": "stream",
     "text": [
      "Min\n",
      "(128, 0.011718906249999999, 2.0000199999999997, -3.999999999937389e-05)\n",
      "('edges', 128)\n",
      "-- iteration 0 --\n",
      "| F( p_n ) |^2: 3.14687347916e-05\n",
      "| p_n+1 - p_n |^2: 0.267296386918\n",
      "-- iteration 1 --\n",
      "| F( p_n ) |^2: 3.86684603115e-31\n",
      "Min, Max element width: \n",
      "0.01172\n",
      "0.01953\n"
     ]
    }
   ],
   "source": [
    "#X-Axis\n",
    "\n",
    "if refineMesh:\n",
    "    mesh.reset()\n",
    "    axis = 0\n",
    "    origcoords = np.linspace(mesh.minCoord[axis], mesh.maxCoord[axis], mesh.elementRes[axis] + 1)\n",
    "    edge_rest_lengths = np.diff(origcoords)\n",
    "\n",
    "    deform_lengths = edge_rest_lengths.copy()\n",
    "    min_point =  (abs(mesh.maxCoord[axis]) - abs(mesh.minCoord[axis]))/2.\n",
    "    el_reduction = 0.5001\n",
    "    dx = mesh.maxCoord[axis] - min_point\n",
    "\n",
    "    deform_lengths = deform_lengths - \\\n",
    "                                    ((1.-el_reduction) *deform_lengths[0]) + \\\n",
    "                                    abs((origcoords[1:] - min_point))*((0.5*deform_lengths[0])/dx)\n",
    "\n",
    "    #print(edge_rest_lengths.shape, deform_lengths.shape)\n",
    "\n",
    "    sp.deform_1d(deform_lengths, mesh,axis = 'x',norm = 'Min', constraints = [])"
   ]
  },
  {
   "cell_type": "code",
   "execution_count": 728,
   "metadata": {
    "collapsed": false
   },
   "outputs": [],
   "source": [
    "axis = 1\n",
    "orgs = np.linspace(mesh.minCoord[axis], mesh.maxCoord[axis], mesh.elementRes[axis] + 1)\n",
    "\n",
    "value_to_constrain = 1.\n",
    "\n",
    "\n",
    "yconst = [(sp.find_closest(orgs, value_to_constrain), np.array([1.,0]))]\n"
   ]
  },
  {
   "cell_type": "code",
   "execution_count": 729,
   "metadata": {
    "collapsed": false
   },
   "outputs": [
    {
     "name": "stdout",
     "output_type": "stream",
     "text": [
      "Min\n",
      "(64, 0.011718906249999999, 0.99610374999999984, 0.015832380952381597)\n",
      "('edges', 64)\n",
      "-- iteration 0 --\n",
      "| F( p_n ) |^2: 3.14838712681e-05\n",
      "| p_n+1 - p_n |^2: 0.137588715291\n",
      "-- iteration 1 --\n",
      "| F( p_n ) |^2: 1.94597165287e-31\n",
      "Min, Max element width: \n",
      "0.01172\n",
      "0.01953\n"
     ]
    }
   ],
   "source": [
    "#Y-Axis\n",
    "if refineMesh:\n",
    "    #Y-Axis\n",
    "    axis = 1\n",
    "    origcoords = np.linspace(mesh.minCoord[axis], mesh.maxCoord[axis], mesh.elementRes[axis] + 1)\n",
    "    edge_rest_lengths = np.diff(origcoords)\n",
    "\n",
    "    deform_lengths = edge_rest_lengths.copy()\n",
    "    min_point =  (mesh.maxCoord[axis])\n",
    "    el_reduction = 0.5001\n",
    "    dx = mesh.maxCoord[axis]\n",
    "\n",
    "    deform_lengths = deform_lengths - \\\n",
    "                                    ((1.-el_reduction)*deform_lengths[0]) + \\\n",
    "                                    abs((origcoords[1:] - min_point))*((0.5*deform_lengths[0])/dx)\n",
    "\n",
    "    #print(edge_rest_lengths.shape, deform_lengths.shape)\n",
    "\n",
    "    sp.deform_1d(deform_lengths, mesh,axis = 'y',norm = 'Min', constraints = yconst)"
   ]
  },
  {
   "cell_type": "code",
   "execution_count": null,
   "metadata": {
    "collapsed": true
   },
   "outputs": [],
   "source": [
    "\n"
   ]
  },
  {
   "cell_type": "markdown",
   "metadata": {},
   "source": [
    "# ICs and BCs"
   ]
  },
  {
   "cell_type": "code",
   "execution_count": 730,
   "metadata": {
    "collapsed": true
   },
   "outputs": [],
   "source": [
    "# Initialise data.. Note that we are also setting boundary conditions here\n",
    "velocityField.data[:] = [0.,0.]\n",
    "pressureField.data[:] = 0.\n",
    "temperatureField.data[:] = 0.\n",
    "temperatureDotField.data[:] = 0.\n"
   ]
  },
  {
   "cell_type": "markdown",
   "metadata": {},
   "source": [
    "## Temp ICs"
   ]
  },
  {
   "cell_type": "code",
   "execution_count": 731,
   "metadata": {
    "collapsed": true
   },
   "outputs": [],
   "source": [
    "#Age function:\n",
    "def agefunc(x, szloc, vel = 100., dom = (-1.,1.), D = 2890.):\n",
    "    \"\"\"\n",
    "    Create a (linear) age function based on ridges being the sides of the model,\n",
    "    and subduction zone location at the dimesnionaless (model) position \"szloc\"\n",
    "    Args:\n",
    "        x (float): dimenisionless value to get age (horizontal coordinate)\n",
    "        szloc (float): dimensionless (model) horizntal extent\n",
    "        vel(float): in km/my\n",
    "        dom (tuple): domain boundary\n",
    "        D (float): dimensional domain depth\n",
    "        \n",
    "    Returns:\n",
    "        the age in millions of years\n",
    "    Raises:\n",
    "        TypeError: not implemented\n",
    "        ValueError: not implemented\n",
    "    \"\"\"\n",
    "    if x >= szloc:\n",
    "        #distance from ridge in km\n",
    "        dx = (dom[1] - x) * D\n",
    "        age = (dx)/vel\n",
    "    else:\n",
    "        dx = abs(dom[0] - x) * D\n",
    "        age = (dx)/vel\n",
    "    return age \n",
    "\n",
    "\n",
    "def tempfunc(age, kappa, depth,  t0=0.64):\n",
    "    \"\"\"\n",
    "    return dimensionless halfspace cooling model fucntion,\n",
    "    Args:\n",
    "        age (float): millions or years\n",
    "        kappa (float): diffusivity, m**2/s\n",
    "        depth (float): kilometers\n",
    "        t0 (float): the initial temperature of the halfspace\n",
    "    Returns:\n",
    "        dimensionless temp (0. - 1.)\n",
    "    Raises:\n",
    "        TypeError: not implemented\n",
    "        ValueError: not implemented\n",
    "    \"\"\"\n",
    "    #1000 in line below to convert back to km\n",
    "    secs = myts(age)\n",
    "    temp = t0*math.erf((depth)/(2*math.sqrt(secs*kappa)/1000))\n",
    "    return temp\n",
    "                       \n",
    "def lithdepthfunc(age, kappa):\n",
    "    \"\"\"\n",
    "    returns depth or thermal lithosphere in kilometers\n",
    "    Args:\n",
    "        age (float): millions or years\n",
    "        kappa (float): diffusivity, m**2/s\n",
    "    Returns:\n",
    "        depth kilometers\n",
    "    Raises:\n",
    "        TypeError: not implemented\n",
    "        ValueError: not implemented\n",
    "    \"\"\"\n",
    "    depth_metres = 2.32*math.sqrt(myts(age)*kappa)\n",
    "    return depth_metres/1000."
   ]
  },
  {
   "cell_type": "code",
   "execution_count": 732,
   "metadata": {
    "collapsed": false
   },
   "outputs": [],
   "source": [
    "#agefunc(0.2, off, vel = vel, dom = (MINX,MAXX))"
   ]
  },
  {
   "cell_type": "code",
   "execution_count": 733,
   "metadata": {
    "collapsed": false
   },
   "outputs": [],
   "source": [
    "#Make the thermal boundary layer\n",
    "#Including a fudge that can reduce the depth of the thermal lithosphere\n",
    "fudge = 1.\n",
    "\n",
    "for index, coord in enumerate(mesh.data):\n",
    "    xloc = coord[0]\n",
    "    agema = agefunc(xloc, off, vel = vel, dom = (MINX,MAXX))\n",
    "    #print(agema)\n",
    "    if xloc < off: #This bit gets rid of overiding plate\n",
    "        temperatureField.data[index] = 0.8\n",
    "    elif (1.-coord[1]) < (lithdepthfunc(agema, dp.k)*1e3/dp.LS)*fudge: #comparison of dimensionless (model) lengths\n",
    "        zlockm = ((1.- coord[1])* dp.LS)/1e3 # dimensional depth kms\n",
    "        t = tempfunc(agema, dp.k, zlockm,  t0=0.8)\n",
    "        temperatureField.data[index] = t        \n",
    "    else:\n",
    "        temperatureField.data[index] = 0.8"
   ]
  },
  {
   "cell_type": "code",
   "execution_count": 734,
   "metadata": {
    "collapsed": false
   },
   "outputs": [
    {
     "data": {
      "text/plain": [
       "0.06375414758206731"
      ]
     },
     "execution_count": 734,
     "metadata": {},
     "output_type": "execute_result"
    }
   ],
   "source": [
    "(lithdepthfunc(200., dp.k)*1e3)/dp.LS"
   ]
  },
  {
   "cell_type": "code",
   "execution_count": 735,
   "metadata": {
    "collapsed": false
   },
   "outputs": [
    {
     "data": {
      "text/plain": [
       "0.0"
      ]
     },
     "execution_count": 735,
     "metadata": {},
     "output_type": "execute_result"
    }
   ],
   "source": [
    "(lithdepthfunc(agema, dp.k)*1e3/dp.LS)"
   ]
  },
  {
   "cell_type": "markdown",
   "metadata": {},
   "source": [
    "## Slab perturbation"
   ]
  },
  {
   "cell_type": "code",
   "execution_count": null,
   "metadata": {
    "collapsed": true
   },
   "outputs": [],
   "source": [
    "\n"
   ]
  },
  {
   "cell_type": "code",
   "execution_count": 739,
   "metadata": {
    "collapsed": false
   },
   "outputs": [],
   "source": [
    "if not checkpointLoad:\n",
    "\n",
    "    def inCircleFnGenerator(centre, radius):\n",
    "        coord = fn.input()\n",
    "        offsetFn = coord - centre\n",
    "        return fn.math.dot( offsetFn, offsetFn ) < radius**2\n",
    "\n",
    "    #Setup slab perturbation params (mostly dimensionles / model params here)\n",
    "    phi = 90. - theta\n",
    "    RocM = (Roc/dp.LS)*1e3\n",
    "    CrustM = MANTLETOCRUST\n",
    "    slabdepth = lithdepthfunc(agefunc(off, off, vel), dp.k)\n",
    "    slabdepthM = (lithdepthfunc(agefunc(off, off, vel), dp.k)/dp.LS)*1e3\n",
    "    Org = (0.+off, 1.-RocM)\n",
    "    #Use three circles to define our slab and crust perturbation,  \n",
    "    Oc = inCircleFnGenerator(Org , RocM)\n",
    "    Oc2 = inCircleFnGenerator(Org , RocM + (20e3/dp.LS)) #a slightly larger circle helps smother the interpolation\n",
    "    Ic = inCircleFnGenerator(Org , RocM - slabdepthM)\n",
    "    Cc = inCircleFnGenerator(Org , RocM - CrustM)\n",
    "\n",
    "    #We'll also create a triangle which will truncate the circles defining the slab...\n",
    "    if off > 1: \n",
    "        ptx = off + dx\n",
    "    else:\n",
    "        ptx = off - dx\n",
    "\n",
    "    coords = ((0.+off, 1), (0.+off, 1.-RocM), (ptx, 1.))\n",
    "    Tri = fn.shape.Polygon(np.array(coords))\n",
    "\n",
    "    #Assign temperatures in the perturbation region\n",
    "    for index, coord in enumerate(mesh.data):\n",
    "        if Oc2.evaluate(tuple(coord)) and Tri.evaluate(tuple(coord)) and not Ic.evaluate(tuple(coord)): #in inner circle, not in outer circle\n",
    "            #print(\"true\")\n",
    "            #sd = (pt.distance(Oc.boundary)*dp.LS)/1e3\n",
    "            sd = ((RocM - math.sqrt((coord[0] - Org[0])**2 + (coord[1] - Org[1])**2))*dp.LS)/1e3 #distance from slab edge in Km\n",
    "            if sd < (lithdepthfunc(agefunc(off, off, vel = vel, dom = (MINX,MAXX)), dp.k))*fudge:\n",
    "                t = tempfunc(agefunc(off, off, vel = vel, dom = (MINX,MAXX)), dp.k, sd, t0=0.8)\n",
    "                temperatureField.data[index] = t\n",
    "            else: \n",
    "                temperatureField.data[index] = 0.8"
   ]
  },
  {
   "cell_type": "code",
   "execution_count": 740,
   "metadata": {
    "collapsed": false
   },
   "outputs": [
    {
     "data": {
      "text/plain": [
       "0.15570934256055363"
      ]
     },
     "execution_count": 740,
     "metadata": {},
     "output_type": "execute_result"
    }
   ],
   "source": [
    "RocM"
   ]
  },
  {
   "cell_type": "code",
   "execution_count": 741,
   "metadata": {
    "collapsed": false
   },
   "outputs": [
    {
     "data": {
      "text/html": [
       "<img src='data:image/png;base64,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'>"
      ],
      "text/plain": [
       "<IPython.core.display.HTML object>"
      ]
     },
     "execution_count": 741,
     "metadata": {},
     "output_type": "execute_result"
    }
   ],
   "source": [
    "figStrainRate = glucifer.Figure()\n",
    "figStrainRate.append( glucifer.objects.Surface(mesh, temperatureField))\n",
    "figStrainRate.show()"
   ]
  },
  {
   "cell_type": "markdown",
   "metadata": {
    "collapsed": false
   },
   "source": [
    "if not checkpointLoad:\n",
    "    import shapely\n",
    "    from shapely.geometry.point import Point\n",
    "    from shapely.geometry import Polygon\n",
    "\n",
    "    #Setup slab perturbation params (mostly dimensionles / model params here)\n",
    "    phi = 90. - theta\n",
    "    RocM = (Roc/dp.LS)*1e3\n",
    "    CrustM = MANTLETOCRUST\n",
    "    slabdepth = lithdepthfunc(agefunc(off, off, vel), dp.k)\n",
    "    slabdepthM = (lithdepthfunc(agefunc(off, off, vel), dp.k)/dp.LS)*1e3\n",
    "    Org = (0.+off, 1.-RocM)\n",
    "\n",
    "\n",
    "    #Shapely stuff\n",
    "\n",
    "    Oc = Point(Org).buffer(RocM)\n",
    "    Ic = Point(Org).buffer(RocM - slabdepthM)\n",
    "    Cc = Point(Org).buffer(RocM - CrustM)\n",
    "    dx = (RocM)/(np.math.tan((np.math.pi/180.)*phi))\n",
    "    if off > 1: \n",
    "        ptx = off + dx\n",
    "    else:\n",
    "        ptx = off - dx\n",
    "    #ptx = -1*(Rc)/(np.math.tan((np.math.pi/180.)*phi))\n",
    "    coords = ((0.+off, 1), (0.+off, 1.-RocM), (ptx, 1.))\n",
    "    Tri = Polygon(coords)\n",
    "    slabshape = Oc.difference(Ic).intersection(Tri) #there's an extra 25 km buffer here, \n",
    "    slabshape2 = Oc.difference(Ic).buffer(15.e3/dp.LS).intersection(Tri) #there's an extra .. km buffer here, \n",
    "    #to help the temperature field map better\n",
    "    crustshape = Oc.difference(Cc).intersection(Tri)\n",
    "    \n",
    "    #Assign temperatures in the perturbation region\n",
    "    for index, coord in enumerate(mesh.data):\n",
    "        pt = Point(coord)\n",
    "        if pt.within(slabshape2):\n",
    "            #print(\"true\")\n",
    "            sd = (pt.distance(Oc.boundary)*dp.LS)/1e3\n",
    "            if sd < (lithdepthfunc(agefunc(off, off, vel = vel, dom = (MINX,MAXX)), dp.k))*fudge:\n",
    "                t = tempfunc(agefunc(off, off, vel = vel, dom = (MINX,MAXX)), dp.k, sd, t0=0.8)\n",
    "                temperatureField.data[index] = t\n",
    "            else: \n",
    "                temperatureField.data[index] = 0.8"
   ]
  },
  {
   "cell_type": "code",
   "execution_count": 743,
   "metadata": {
    "collapsed": false
   },
   "outputs": [],
   "source": [
    "#CrustM"
   ]
  },
  {
   "cell_type": "code",
   "execution_count": 744,
   "metadata": {
    "collapsed": false
   },
   "outputs": [],
   "source": [
    "#from geopandas import GeoSeries\n",
    "#%matplotlib inline\n",
    "#g = GeoSeries([slabshape2.difference(slabshape)])\n",
    "#g.plot()"
   ]
  },
  {
   "cell_type": "code",
   "execution_count": 745,
   "metadata": {
    "collapsed": false
   },
   "outputs": [],
   "source": [
    "# Get the actual sets \n",
    "#\n",
    "#  HJJJJJJH\n",
    "#  I      I\n",
    "#  I      I\n",
    "#  I      I\n",
    "#  HJJJJJJH\n",
    "#  \n",
    "#  Note that H = I & J \n",
    "\n",
    "# Note that we use operator overloading to combine sets\n",
    "# send boundary condition information to underworld\n",
    "IWalls = mesh.specialSets[\"MinI_VertexSet\"] + mesh.specialSets[\"MaxI_VertexSet\"]\n",
    "JWalls = mesh.specialSets[\"MinJ_VertexSet\"] + mesh.specialSets[\"MaxJ_VertexSet\"]\n",
    "TWalls = mesh.specialSets[\"MaxJ_VertexSet\"]\n",
    "BWalls = mesh.specialSets[\"MinJ_VertexSet\"]"
   ]
  },
  {
   "cell_type": "code",
   "execution_count": null,
   "metadata": {
    "collapsed": false
   },
   "outputs": [],
   "source": []
  },
  {
   "cell_type": "code",
   "execution_count": 746,
   "metadata": {
    "collapsed": false
   },
   "outputs": [],
   "source": [
    "#Set Dirichlet Temp conditions\n",
    "\n",
    "for index in mesh.specialSets[\"MinJ_VertexSet\"]:\n",
    "    temperatureField.data[index] = 1.\n",
    "for index in mesh.specialSets[\"MaxJ_VertexSet\"]:\n",
    "    temperatureField.data[index] = 0.\n",
    "\n",
    "\n",
    "# Now setup the dirichlet boundary condition\n",
    "# Note that through this object, we are flagging to the system \n",
    "# that these nodes are to be considered as boundary conditions. \n",
    "# Also note that we provide a tuple of sets.. One for the Vx, one for Vy.\n",
    "freeslipBC = uw.conditions.DirichletCondition(     variable=velocityField, \n",
    "                                              indexSetsPerDof=(IWalls, JWalls) )\n",
    "\n",
    "# also set dirichlet for temp field\n",
    "dirichTempBC = uw.conditions.DirichletCondition(     variable=temperatureField, \n",
    "                                              indexSetsPerDof=(JWalls,) )\n",
    "\n",
    "\n",
    "#dT_dy = [0.,0.]\n",
    "\n",
    "# also set dirichlet for temp field\n",
    "#neumannTempBC = uw.conditions.NeumannCondition( dT_dy, variable=temperatureField, \n",
    "#                                         indexSetsPerDof=BWalls)"
   ]
  },
  {
   "cell_type": "code",
   "execution_count": 747,
   "metadata": {
    "collapsed": false
   },
   "outputs": [],
   "source": [
    "#temperatureField.data[TWalls.data].max()"
   ]
  },
  {
   "cell_type": "markdown",
   "metadata": {},
   "source": [
    "##Add Random 125 K temp perturbation\n"
   ]
  },
  {
   "cell_type": "markdown",
   "metadata": {
    "collapsed": true
   },
   "source": [
    "tempNump = temperatureField.data\n",
    "\n",
    "#In gerneral we only want to do this on the initial setup, not restarts\n",
    "\n",
    "if not checkpointLoad:\n",
    "    for index, coord in enumerate(mesh.data):\n",
    "        pertCoeff = (0.05*(np.random.rand(1)[0] - 0.5)) #this should create values between [-0.5,0.5] from uniform dist.\n",
    "        ict = tempNump[index]\n",
    "        tempNump[index] = ict + pertCoeff"
   ]
  },
  {
   "cell_type": "code",
   "execution_count": 748,
   "metadata": {
    "collapsed": false
   },
   "outputs": [],
   "source": [
    "\n",
    "figVelocityMag = glucifer.Figure(figsize=(1024,384))\n",
    "figVelocityMag.append( glucifer.objects.Surface(mesh, temperatureField) )\n",
    "figVelocityMag.show()\n",
    "figVelocityMag.append(glucifer.objects.Mesh(mesh))\n",
    "figVelocityMag.save_database('test.gldb')"
   ]
  },
  {
   "cell_type": "markdown",
   "metadata": {},
   "source": [
    "# Particles"
   ]
  },
  {
   "cell_type": "code",
   "execution_count": 749,
   "metadata": {
    "collapsed": false
   },
   "outputs": [],
   "source": [
    "###########\n",
    "#Material Swarm and variables\n",
    "###########\n",
    "\n",
    "gSwarm = uw.swarm.Swarm(mesh=mesh)\n",
    "materialVariable = gSwarm.add_variable( dataType=\"int\", count=1 )\n",
    "rockIntVar = gSwarm.add_variable( dataType=\"double\", count=1 )\n",
    "airIntVar = gSwarm.add_variable( dataType=\"double\", count=1 )\n",
    "lithIntVar = gSwarm.add_variable( dataType=\"double\", count=1 )\n",
    "dummyIntVar = gSwarm.add_variable( dataType=\"double\", count=1 ) #This one is used so we can safely ignore values in the air region\n",
    "\n",
    "varlist = [materialVariable, rockIntVar, airIntVar, lithIntVar]\n",
    "varnames = ['materialVariable', 'rockIntVar', 'airIntVar', 'lithIntVar']"
   ]
  },
  {
   "cell_type": "code",
   "execution_count": 750,
   "metadata": {
    "collapsed": false
   },
   "outputs": [],
   "source": [
    "###########\n",
    "#Swarms for surface integrals when using Sticky air\n",
    "###########\n",
    "\n",
    "snum = 1000.\n",
    "dx = (mesh.data[:,0].max()- mesh.data[:,0].min())/snum\n",
    "yp = 0.9947 #1. - yelsize/2. at res = 96\n",
    "\n",
    "mesh.data[:,0].max()\n",
    "xps = np.linspace(mesh.data[:,0].min(),mesh.data[:,0].max(), snum)\n",
    "yps = [yp for i in xps]\n",
    "\n",
    "surfintswarm = uw.swarm.Swarm( mesh=mesh )\n",
    "dumout = surfintswarm.add_particles_with_coordinates(np.array((xps,yps)).T)\n",
    "\n",
    "yps = [ 1.- yp  for i in xps]\n",
    "\n",
    "baseintswarm = uw.swarm.Swarm( mesh=mesh)\n",
    "dumout = baseintswarm.add_particles_with_coordinates(np.array((xps,yps)).T)"
   ]
  },
  {
   "cell_type": "markdown",
   "metadata": {},
   "source": [
    "#Initialise swarm variables, or Swarm checkpoint load"
   ]
  },
  {
   "cell_type": "code",
   "execution_count": null,
   "metadata": {
    "collapsed": false
   },
   "outputs": [],
   "source": []
  },
  {
   "cell_type": "code",
   "execution_count": 751,
   "metadata": {
    "collapsed": false
   },
   "outputs": [],
   "source": [
    "mantleIndex = 0\n",
    "lithosphereIndex = 1\n",
    "eclIndex = 2\n",
    "crustIndex = 3\n",
    "airIndex = 4\n",
    "\n",
    "\n",
    "\n",
    "\n",
    "if checkpointLoad:\n",
    "    checkpointLoadDir = natsort.natsorted(checkdirs)[-1]\n",
    "    temperatureField.load(os.path.join(checkpointLoadDir, \"temperatureField\" + \".hdf5\"))\n",
    "    pressureField.load(os.path.join(checkpointLoadDir, \"pressureField\" + \".hdf5\"))\n",
    "    velocityField.load(os.path.join(checkpointLoadDir, \"velocityField\" + \".hdf5\"))\n",
    "    gSwarm.load(os.path.join(checkpointLoadDir, \"swarm\" + \".h5\"))\n",
    "    for ix in range(len(varlist)):\n",
    "        varb = varlist[ix]\n",
    "        varb.load(os.path.join(checkpointLoadDir,varnames[ix] + \".h5\"))\n",
    "\n",
    "else:\n",
    "\n",
    "    # Layouts are used to populate the swarm across the whole domain\n",
    "    # Create the layout object\n",
    "    layout = uw.swarm.layouts.PerCellRandomLayout(swarm=gSwarm, particlesPerCell=ppc)\n",
    "    # Now use it to populate.\n",
    "    gSwarm.populate_using_layout( layout=layout )\n",
    "\n",
    "    # Lets initialise the 'materialVariable' data to represent different materials\n",
    "    # Set the material to heavy everywhere via the numpy array\n",
    "    materialVariable.data[:] = mantleIndex\n",
    "    \n",
    "    \n",
    "    #Set initial air and crust materials (allow the graph to take care of lithsophere)\n",
    "    #########\n",
    "    #This initial material setup will be model dependent\n",
    "    #########\n",
    "    for particleID in range(gSwarm.particleCoordinates.data.shape[0]):\n",
    "        if (1. - gSwarm.particleCoordinates.data[particleID][1]) < 0:\n",
    "                 materialVariable.data[particleID] = airIndex\n",
    "        elif (1. - gSwarm.particleCoordinates.data[particleID][1]) < MANTLETOCRUST:\n",
    "                 materialVariable.data[particleID] = crustIndex\n"
   ]
  },
  {
   "cell_type": "markdown",
   "metadata": {},
   "source": [
    "#Material Graphs"
   ]
  },
  {
   "cell_type": "code",
   "execution_count": 752,
   "metadata": {
    "collapsed": false
   },
   "outputs": [],
   "source": [
    "##############\n",
    "#Important: This is a quick fix for a bug that arises in parallel runs\n",
    "##############\n",
    "material_list = [0,1,2,3,4]\n"
   ]
  },
  {
   "cell_type": "code",
   "execution_count": 753,
   "metadata": {
    "collapsed": false
   },
   "outputs": [
    {
     "name": "stdout",
     "output_type": "stream",
     "text": [
      "unique values after swarm has loaded:[0 3]\n"
     ]
    }
   ],
   "source": [
    "print( \"unique values after swarm has loaded:\" + str(np.unique(materialVariable.data[:])))\n"
   ]
  },
  {
   "cell_type": "code",
   "execution_count": null,
   "metadata": {
    "collapsed": false
   },
   "outputs": [],
   "source": []
  },
  {
   "cell_type": "code",
   "execution_count": 754,
   "metadata": {
    "collapsed": false
   },
   "outputs": [],
   "source": [
    "\n",
    "\n",
    "#All depth conditions are given as (km/D) where D is the length scale,\n",
    "#note that 'model depths' are used, e.g. 1-z, where z is the vertical Underworld coordinate\n",
    "#All temp conditions are in dimensionless temp. [0. - 1.]\n",
    "\n",
    "#######Graph object\n",
    "DG = nx.DiGraph(field=\"Depth\")\n",
    "\n",
    "#######Nodes\n",
    "#Note that the order of materials, deepest to shallowest is important\n",
    "DG.add_node(0, mat='mantle')\n",
    "DG.add_node(1, mat='lithosphere')\n",
    "DG.add_node(2, mat='ecl')\n",
    "DG.add_node(3, mat='crust')\n",
    "DG.add_node(4, mat='air')\n",
    "\n",
    "\n",
    "labels=dict((n,d['mat']) for n,d in DG.nodes(data=True))\n",
    "pos=nx.spring_layout(DG)\n",
    "\n",
    "\n",
    "#######Edges\n",
    "#anything to air\n",
    "DG.add_edges_from([(0,4),(1,4), (3,4)])\n",
    "DG[0][4]['depthcondition'] = -1*TOPOHEIGHT\n",
    "DG[1][4]['depthcondition'] = -1*TOPOHEIGHT\n",
    "DG[3][4]['depthcondition'] = -1*TOPOHEIGHT\n",
    "\n",
    "\n",
    "#Anything to mantle\n",
    "DG.add_edges_from([(3,0), (1,0), (2,0)])\n",
    "DG[3][0]['depthcondition'] = CRUSTTOMANTLE #Normal crust\n",
    "DG[1][0]['depthcondition'] = LITHTOMANTLE #This means we're going to kill lithosphere at the 660.\n",
    "DG[2][0]['depthcondition'] = CRUSTTOMANTLE #Eclogite crust\n",
    "\n",
    "#Anything to lithsphere\n",
    "DG.add_edges_from([(0,1),(4,1)])\n",
    "DG[0][1]['depthcondition'] = MANTLETOLITH\n",
    "DG[0][1]['avgtempcondition'] = 0.75*AVGTEMP #definition of thermal lithosphere\n",
    "\n",
    "\n",
    "#Anything to crust\n",
    "DG.add_edges_from([(0,3), (1,3), (4,3)])\n",
    "DG[0][3]['depthcondition'] = MANTLETOCRUST\n",
    "DG[1][3]['depthcondition'] = MANTLETOCRUST\n",
    "DG[4][3]['depthcondition'] = TOPOHEIGHT\n",
    "\n",
    "#crust to eclogite\n",
    "DG.add_edges_from([(3,2)])\n",
    "DG[3][2]['depthcondition'] =CRUSTTOECL\n",
    "\n",
    "\n",
    "\n",
    "\n"
   ]
  },
  {
   "cell_type": "code",
   "execution_count": 755,
   "metadata": {
    "collapsed": false
   },
   "outputs": [
    {
     "data": {
      "text/plain": [
       "0.10380622837370242"
      ]
     },
     "execution_count": 755,
     "metadata": {},
     "output_type": "execute_result"
    }
   ],
   "source": [
    "CRUSTTOMANTLE"
   ]
  },
  {
   "cell_type": "code",
   "execution_count": 756,
   "metadata": {
    "collapsed": false
   },
   "outputs": [],
   "source": [
    "#material_list"
   ]
  },
  {
   "cell_type": "code",
   "execution_count": 757,
   "metadata": {
    "collapsed": false
   },
   "outputs": [],
   "source": [
    "remove_nodes = []\n",
    "for node in DG.nodes():\n",
    "    if not node in material_list:\n",
    "        remove_nodes.append(node)\n",
    "        \n",
    "for rmnode in remove_nodes:\n",
    "    DG.remove_node(rmnode)"
   ]
  },
  {
   "cell_type": "code",
   "execution_count": 758,
   "metadata": {
    "collapsed": false
   },
   "outputs": [
    {
     "data": {
      "text/plain": [
       "[0, 1, 2, 3, 4]"
      ]
     },
     "execution_count": 758,
     "metadata": {},
     "output_type": "execute_result"
    }
   ],
   "source": [
    "DG.nodes()"
   ]
  },
  {
   "cell_type": "code",
   "execution_count": 759,
   "metadata": {
    "collapsed": true
   },
   "outputs": [],
   "source": [
    "#A Dictionary to map strings in the graph (e.g. 'depthcondition') to particle data arrays\n",
    "\n",
    "particledepths = 1. - gSwarm.particleCoordinates.data[:,1]\n",
    "particletemps = temperatureField.evaluate(gSwarm)[:,0]\n",
    "\n",
    "conditionmap = {}\n",
    "\n",
    "conditionmap['depthcondition'] = {}\n",
    "conditionmap['depthcondition']['data'] = particledepths\n",
    "conditionmap['avgtempcondition'] = {}\n",
    "conditionmap['avgtempcondition']['data'] = particletemps"
   ]
  },
  {
   "cell_type": "code",
   "execution_count": 760,
   "metadata": {
    "collapsed": true
   },
   "outputs": [],
   "source": [
    "def update_swarm(graph, particleIndex):\n",
    "    \"\"\"\n",
    "    This function takes the materials graph (networkx.DiGraph), and a particle index,\n",
    "    then determines if a material update is required \n",
    "    and if so, returns the new materialindex\n",
    "    Args:\n",
    "        graph (networkx.DiGraph): Directed multigraph representing the transformation of material types\n",
    "        particleIndex (int): the particle index as corressponding to the index in the swarm data arrays\n",
    "    Returns:\n",
    "        if update is required the function returns the the new material variable (int) \n",
    "        else returns None\n",
    "    Raises:\n",
    "        TypeError: not implemented\n",
    "        ValueError: not implemented\n",
    "    \"\"\"\n",
    "    ##Egde gives links to other materials, we then query the conditions to see if we should change materials\n",
    "    matId = materialVariable.data[particleIndex][0]\n",
    "    innerchange = False\n",
    "    outerchange = False\n",
    "    for edge in graph[matId]:\n",
    "        if outerchange:\n",
    "            break\n",
    "        for cond in graph[matId][edge].keys():\n",
    "            outerchange = False\n",
    "            if innerchange: #found a complete transition, break inner loop\n",
    "                break\n",
    "            currentparticlevalue = conditionmap[cond]['data'][particleIndex]\n",
    "            crossover = graph[matId][edge][cond]\n",
    "            if ((matId > edge) and (currentparticlevalue > crossover)):\n",
    "                innerchange = False # continue on, \n",
    "                if graph[matId][edge].keys()[-1] == cond:\n",
    "                    outerchange = True\n",
    "                    innerchange = edge\n",
    "                    break\n",
    "            elif ((matId < edge) and (currentparticlevalue < crossover)):\n",
    "                innerchange = False\n",
    "                if graph[matId][edge].keys()[-1] == cond:\n",
    "                    outerchange = True\n",
    "                    innerchange = edge\n",
    "                    break\n",
    "            else:\n",
    "                #condition not met, break outer loop, go to next edge, outerchange should still be False\n",
    "                break\n",
    "    if type(innerchange) == int:\n",
    "        return innerchange"
   ]
  },
  {
   "cell_type": "code",
   "execution_count": 768,
   "metadata": {
    "collapsed": true
   },
   "outputs": [],
   "source": [
    "# Set the material to heavy everywhere via the numpy array\n",
    "\n",
    "if not checkpointLoad:\n",
    "    materialVariable.data[:] = mantleIndex\n",
    "    lithtemp = 0.95*0.8\n",
    "    tempswarm = temperatureField.evaluate(gSwarm)[:,0]\n",
    "\n",
    "    #At this point, we only have to assign any materials that are defined by setup shapes,\n",
    "    #the rest of the materials will be assigned using the materials graph\n",
    "\n",
    "    for particleID in range(gSwarm.particleCoordinates.data.shape[0]):\n",
    "        if gSwarm.particleCoordinates.data[particleID][1] > (1.0 - CrustM):\n",
    "            materialVariable.data[particleID] =  crustIndex\n",
    "        coord = gSwarm.particleCoordinates.data[particleID]\n",
    "        if Oc.evaluate(tuple(coord)) and Tri.evaluate(tuple(coord)) and not Cc.evaluate(tuple(coord)):\n",
    "            #print(\"True\")\n",
    "            materialVariable.data[particleID] =  crustIndex"
   ]
  },
  {
   "cell_type": "code",
   "execution_count": 770,
   "metadata": {
    "collapsed": false
   },
   "outputs": [],
   "source": [
    "#Cleanse the swarm of its sins\n",
    "#For some Material Graphs, the graph may have to be traversed more than once\n",
    "\n",
    "check = -1\n",
    "number_updated = 1\n",
    "\n",
    "while number_updated != 0:\n",
    "    number_updated = 0\n",
    "    for particleID in range(gSwarm.particleCoordinates.data.shape[0]):\n",
    "        check = update_swarm(DG, particleID)\n",
    "        if check > -1:\n",
    "            number_updated += 1\n",
    "            materialVariable.data[particleID] = check"
   ]
  },
  {
   "cell_type": "code",
   "execution_count": null,
   "metadata": {
    "collapsed": false
   },
   "outputs": [],
   "source": []
  },
  {
   "cell_type": "code",
   "execution_count": 771,
   "metadata": {
    "collapsed": false
   },
   "outputs": [
    {
     "data": {
      "text/html": [
       "<img src='data:image/png;base64,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'>"
      ],
      "text/plain": [
       "<IPython.core.display.HTML object>"
      ]
     },
     "execution_count": 771,
     "metadata": {},
     "output_type": "execute_result"
    }
   ],
   "source": [
    "figMat = glucifer.Figure()\n",
    "figMat.append( glucifer.objects.Points(gSwarm,materialVariable, colours='brown white blue red black'))\n",
    "#figMat.append( glucifer.objects.Mesh(mesh))\n",
    "figMat.save_database('test.gldb')\n",
    "figMat.show()"
   ]
  },
  {
   "cell_type": "markdown",
   "metadata": {},
   "source": [
    "##Set the values for the masking swarms"
   ]
  },
  {
   "cell_type": "code",
   "execution_count": 464,
   "metadata": {
    "collapsed": false
   },
   "outputs": [],
   "source": [
    "#Setup up a masking Swarm variable for the integrations.\n",
    "#These should be rebuilt at same frequency as the metric calcualtions\n",
    "\n",
    "rockIntVar.data[:] = 0.\n",
    "notair = np.where(materialVariable.data != airIndex)\n",
    "rockIntVar.data[notair] = 1.\n",
    "\n",
    "airIntVar.data[:] = 0.\n",
    "notrock = np.where(materialVariable.data == airIndex)\n",
    "airIntVar.data[notrock] = 1.\n",
    "\n",
    "lithIntVar.data[:] = 0.\n",
    "islith = np.where((materialVariable.data == lithosphereIndex) | (materialVariable.data == crustIndex))\n",
    "lithIntVar.data[islith] = 1.\n",
    "\n",
    "dummyIntVar.data[:] = 1.\n",
    "notrock = np.where(materialVariable.data == airIndex)\n",
    "dummyIntVar.data[notrock] = 1e10  #We'll multiply certain swarm variables by this guy,which\n",
    "#will allow us grab minimum values and assume they are from the rock part"
   ]
  },
  {
   "cell_type": "markdown",
   "metadata": {
    "collapsed": false
   },
   "source": [
    "#Material properties\n"
   ]
  },
  {
   "cell_type": "code",
   "execution_count": 465,
   "metadata": {
    "collapsed": false
   },
   "outputs": [],
   "source": [
    "# The yeilding of the upper slab is dependent on the strain rate.\n",
    "strainRate_2ndInvariant = fn.tensor.second_invariant( \n",
    "                            fn.tensor.symmetric( \n",
    "                            velocityField.fn_gradient ))\n",
    "\n",
    "\n",
    "coordinate = fn.input()\n",
    "depth = 1. - coordinate[1]\n",
    "\n",
    "#Determine yield criterion for depth (rather than pressure as given in Crameri)\n",
    "#Scaling is same as van Heck and Tackley, EPSL, 2011\n",
    "lithopressuregrad = dp.rho*dp.g*(dp.LS)**3/(dp.eta0*dp.k)"
   ]
  },
  {
   "cell_type": "code",
   "execution_count": 466,
   "metadata": {
    "collapsed": false
   },
   "outputs": [],
   "source": [
    "#ndp.TS"
   ]
  },
  {
   "cell_type": "code",
   "execution_count": 467,
   "metadata": {
    "collapsed": false
   },
   "outputs": [
    {
     "data": {
      "text/plain": [
       "0.64"
      ]
     },
     "execution_count": 467,
     "metadata": {},
     "output_type": "execute_result"
    }
   ],
   "source": [
    "ndp.TR"
   ]
  },
  {
   "cell_type": "code",
   "execution_count": 468,
   "metadata": {
    "collapsed": false
   },
   "outputs": [],
   "source": [
    "#Linear viscosity\n",
    "#arhennius = fn.misc.min(ndp.up_visc, fn.math.exp(((-1.*ndp.E) + (ndp.E / temperatureField))))\n",
    "#lower_mantle = False\n",
    "#melt_viscosity_reduction = False"
   ]
  },
  {
   "cell_type": "code",
   "execution_count": 469,
   "metadata": {
    "collapsed": false
   },
   "outputs": [
    {
     "data": {
      "text/plain": [
       "<underworld.function._math.exp at 0x128088650>"
      ]
     },
     "execution_count": 469,
     "metadata": {},
     "output_type": "execute_result"
    }
   ],
   "source": [
    "fn.math.exp(0)"
   ]
  },
  {
   "cell_type": "code",
   "execution_count": 550,
   "metadata": {
    "collapsed": false
   },
   "outputs": [
    {
     "name": "stdout",
     "output_type": "stream",
     "text": [
      "true\n"
     ]
    }
   ],
   "source": [
    "############\n",
    "#Mantle\n",
    "############\n",
    "\n",
    "#Linear viscosity\n",
    "eta0  = 1./np.math.exp( ndp.E / (1.+1.) )\n",
    "#arhennius = eta0 * fn.math.exp( ndp.E / (temperatureField+1.) )\n",
    "arhennius = fn.misc.min(ndp.up_visc, fn.math.exp(((-1.*ndp.E) + (ndp.E / (temperatureField + 1e-6)))))\n",
    "\n",
    "lower_mantle = True\n",
    "melt_viscosity_reduction = True\n",
    "\n",
    "#implementation of the melt viscosity reduction\n",
    "Tmvp = 0.5\n",
    "if melt_viscosity_reduction:\n",
    "    mvptest =  fn.branching.conditional( [ (temperatureField > (Tmvp + 7.5*(1. - coordinate[1])) , 0.1 ),   (         True, 1.) ] )\n",
    "    arhennius = fn.misc.min(ndp.up_visc,arhennius*mvptest)\n",
    "\n",
    "\n",
    "#Quick implementation of the lower mantle viscosity increase \n",
    "a = 1.\n",
    "B = 30.\n",
    "d0 = 800e3/dp.LS #Similar fudge to Bello et al. \n",
    "ds = d0/10.\n",
    "if lower_mantle:\n",
    "    print(\"true\")\n",
    "    inner1 = 1. - 0.5*(1. - fn.math.tanh(((1. - d0)-(coordinate[1]))/(ds)))\n",
    "    modfac = a*fn.math.exp(np.log(B)*inner1)\n",
    "    arhennius = fn.misc.min(ndp.up_visc,arhennius*modfac)\n",
    "    \n",
    "\n",
    "#Psuedo-plastic \n",
    "ys =  ndp.cohesion + (depth*ndp.fc*lithopressuregrad)\n",
    "#ys =  ndp.fc*lithopressuregrad*(30e3/dp.LS) # this is the byerlee strength at 30 km\n",
    "yss = fn.misc.max(ndp.cohesion, ys)\n",
    "plasticvisc = yss*(math.sqrt(2))/(strainRate_2ndInvariant*2.)\n",
    "plastic = fn.misc.max(ndp.low_visc,plasticvisc)\n",
    "#combine these\n",
    "mantleviscosityFn = fn.misc.min(arhennius, plastic)\n",
    "\n",
    "############\n",
    "#crust\n",
    "############\n",
    "\n",
    "\n",
    "\n",
    "ysc = (ndp.cohesion/ndp.cohesion_reduce) + (depth*(ndp.fc/100.)*lithopressuregrad)\n",
    "#ysc = ys/100.\n",
    "ycs = fn.misc.max((ndp.cohesion/ndp.cohesion_reduce), ysc)\n",
    "crustplasticvisc = ycs*(math.sqrt(2))/(strainRate_2ndInvariant*2.)\n",
    "crustplastic = fn.misc.max(ndp.low_visc,crustplasticvisc) \n",
    "crustviscosityFn = fn.misc.min(arhennius, crustplastic)"
   ]
  },
  {
   "cell_type": "code",
   "execution_count": 555,
   "metadata": {
    "collapsed": false
   },
   "outputs": [
    {
     "data": {
      "text/plain": [
       "0.2768166089965398"
      ]
     },
     "execution_count": 555,
     "metadata": {},
     "output_type": "execute_result"
    }
   ],
   "source": [
    "#d0"
   ]
  },
  {
   "cell_type": "code",
   "execution_count": 552,
   "metadata": {
    "collapsed": false
   },
   "outputs": [
    {
     "data": {
      "text/plain": [
       "100000.0"
      ]
     },
     "execution_count": 552,
     "metadata": {},
     "output_type": "execute_result"
    }
   ],
   "source": [
    "mantleviscosityFn.evaluate(mesh).max()"
   ]
  },
  {
   "cell_type": "code",
   "execution_count": 553,
   "metadata": {
    "collapsed": false
   },
   "outputs": [
    {
     "data": {
      "text/html": [
       "<img src='data:image/png;base64,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'>"
      ],
      "text/plain": [
       "<IPython.core.display.HTML object>"
      ]
     },
     "execution_count": 553,
     "metadata": {},
     "output_type": "execute_result"
    }
   ],
   "source": [
    "figStrainRate = glucifer.Figure()\n",
    "figStrainRate.append( glucifer.objects.Surface(mesh, arhennius, logScale=True))\n",
    "figStrainRate.show()"
   ]
  },
  {
   "cell_type": "markdown",
   "metadata": {},
   "source": [
    "Set up simulation parameters and functions\n",
    "====\n",
    "\n",
    "Here the functions for density, viscosity etc. are set. These functions and/or values are preserved for the entire simulation time. "
   ]
  },
  {
   "cell_type": "code",
   "execution_count": 345,
   "metadata": {
    "collapsed": false
   },
   "outputs": [],
   "source": [
    "# Here we set a viscosity value of '1.' for both materials\n",
    "viscosityMapFn = fn.branching.map( fn_key = materialVariable,\n",
    "                         mapping = {airIndex:ndp.StAeta0, \n",
    "                                    lithosphereIndex:mantleviscosityFn, \n",
    "                                    crustIndex:crustviscosityFn,\n",
    "                                    mantleIndex:mantleviscosityFn, \n",
    "                                    eclIndex:crustviscosityFn} )\n",
    "\n",
    "densityMapFn = fn.branching.map( fn_key = materialVariable,\n",
    "                         mapping = {airIndex:ndp.StA_RA, \n",
    "                                    lithosphereIndex:ndp.RA*temperatureField, \n",
    "                                    crustIndex:ndp.RA*temperatureField, \n",
    "                                    mantleIndex:ndp.RA*temperatureField, \n",
    "                                    eclIndex:ndp.RA*temperatureField} )\n",
    "\n",
    "# Define our gravity using a python tuple (this will be automatically converted to a function)\n",
    "gravity = ( 0.0, 1.0 )\n",
    "\n",
    "buoyancyFn = gravity*densityMapFn"
   ]
  },
  {
   "cell_type": "code",
   "execution_count": 346,
   "metadata": {
    "collapsed": false
   },
   "outputs": [
    {
     "data": {
      "text/plain": [
       "1000000.0"
      ]
     },
     "execution_count": 346,
     "metadata": {},
     "output_type": "execute_result"
    }
   ],
   "source": [
    "ndp.RA"
   ]
  },
  {
   "cell_type": "markdown",
   "metadata": {},
   "source": [
    "Build the Stokes system, solvers, advection-diffusion\n",
    "------\n",
    "\n",
    "Setup linear Stokes system to get the initial velocity."
   ]
  },
  {
   "cell_type": "code",
   "execution_count": 347,
   "metadata": {
    "collapsed": false
   },
   "outputs": [],
   "source": [
    "stokesPIC = uw.systems.Stokes( velocityField = velocityField, \n",
    "                               pressureField = pressureField,\n",
    "                               #swarm         = gSwarm, \n",
    "                               conditions    = [freeslipBC,],\n",
    "                               fn_viscosity   = arhennius, \n",
    "                               fn_bodyforce   = buoyancyFn,\n",
    "                               swarm=gSwarm)\n"
   ]
  },
  {
   "cell_type": "markdown",
   "metadata": {},
   "source": [
    "We do one solve with linear viscosity to get the initial strain rate invariant. This solve step also calculates a 'guess' of the the velocity field based on the linear system, which is used later in the non-linear solver."
   ]
  },
  {
   "cell_type": "code",
   "execution_count": 348,
   "metadata": {
    "collapsed": false
   },
   "outputs": [],
   "source": [
    "#We do one solve with linear viscosity to get the initial strain rate invariant. \n",
    "#This solve step also calculates a 'guess' of the the velocity field based on the linear system, \n",
    "#which is used later in the non-linear solver.\n",
    "\n",
    "solver = uw.systems.Solver(stokesPIC)\n",
    "# If not doing a restart, do a solve on the non-plastic system\n",
    "if not checkpointLoad:\n",
    "    solver.solve()"
   ]
  },
  {
   "cell_type": "code",
   "execution_count": 349,
   "metadata": {
    "collapsed": false
   },
   "outputs": [],
   "source": [
    "#Switch particle escape on, this will also trigger the inflow population control \n",
    "gSwarm.particleEscape = True"
   ]
  },
  {
   "cell_type": "code",
   "execution_count": 350,
   "metadata": {
    "collapsed": false
   },
   "outputs": [],
   "source": [
    "####################\n",
    "#Add the non-linear viscosity to the Stokes system\n",
    "stokesPIC.fn_viscosity = viscosityMapFn\n",
    "###################\n",
    "\n",
    "#Set more advanced solver option\n",
    "#solver.options.main.Q22_pc_type='gkgdiag'\n",
    "#solver.options.A11.ksp_rtol=1e-2\n",
    "#solver.options.scr.ksp_rtol=1e-3\n",
    "#solver.options.A11.ksp_type=\"cg\"\n",
    "solver.options.scr.use_previous_guess = True\n",
    "#solver.options.scr.ksp_set_min_it_converge = 1\n",
    "#solver.options.main.penalty=10.0\n",
    "\n",
    "#solver.options.mg.levels = 3\n",
    "#solver.options.main.remove_constant_pressure_null_space=True\n",
    "#solver.options.main.penalty = 1e2\n",
    "\n",
    "#solver.options.A11.ksp_rtol=1e-4\n",
    "#solver.options.scr.ksp_rtol=1e-4\n",
    "\n",
    "solver.options.A11.ksp_monitor=''\n",
    "solver.options.A11.ksp_converged_reason=''"
   ]
  },
  {
   "cell_type": "code",
   "execution_count": 351,
   "metadata": {
    "collapsed": false
   },
   "outputs": [],
   "source": [
    "solver.solve(nonLinearIterate=True)"
   ]
  },
  {
   "cell_type": "code",
   "execution_count": 332,
   "metadata": {
    "collapsed": false
   },
   "outputs": [],
   "source": [
    "viscField = uw.mesh.MeshVariable( mesh=mesh,   nodeDofCount=1)\n",
    "viscdata = mantleviscosityFn.evaluate(mesh)\n",
    "#viscField.data[:] = viscdata\n",
    "\n",
    "\n",
    "#viscVariable = gSwarm.add_variable( dataType=\"float\", count=1 )\n",
    "#viscVariable.data[:] = viscosityMapFn.evaluate(gSwarm)"
   ]
  },
  {
   "cell_type": "markdown",
   "metadata": {
    "collapsed": false
   },
   "source": [
    "solver = uw.systems.Solver(stokesPIC2) # altered from PIC2\n",
    "\n",
    "\n",
    "\n",
    "#Set more advanced solver option\n",
    "solver.options.main.Q22_pc_type='uw'\n",
    "solver.options.A11.ksp_rtol=1e-5\n",
    "solver.options.scr.ksp_rtol=1e-5\n",
    "#solver.options.A11.ksp_type=\"cg\"\n",
    "solver.options.scr.use_previous_guess = True\n",
    "solver.options.scr.ksp_set_min_it_converge = 1\n",
    "\n",
    "solver.options.mg.levels = 3\n",
    "\n",
    "#solver.options.A11.ksp_monitor=''\n",
    "#solver.options.A11.ksp_converged_reason='"
   ]
  },
  {
   "cell_type": "markdown",
   "metadata": {},
   "source": [
    "Solve for initial pressure and velocity using a quick non-linear Picard iteration\n"
   ]
  },
  {
   "cell_type": "markdown",
   "metadata": {},
   "source": [
    "Create an advective-diffusive system\n",
    "=====\n",
    "\n",
    "Setup the system in underworld by flagging the temperature and velocity field variables."
   ]
  },
  {
   "cell_type": "code",
   "execution_count": 356,
   "metadata": {
    "collapsed": false
   },
   "outputs": [],
   "source": [
    "#uw.systems.AdvectionDiffusion?"
   ]
  },
  {
   "cell_type": "code",
   "execution_count": 168,
   "metadata": {
    "collapsed": false
   },
   "outputs": [],
   "source": [
    "#Create advdiff system\n",
    "\n",
    "\n",
    "\n",
    "#advDiff = uw.systems.AdvectionDiffusion( phiField       = temperatureField, \n",
    "#                                         phiDotField    = temperatureDotField, \n",
    "#                                         velocityField  = velocityField, \n",
    "#                                         fn_diffusivity = 1.0,\n",
    "#                                         fn_sourceTerm = 0.,\n",
    "#                                         conditions     = [tempBC,] )\n",
    "\n",
    "\n",
    "advDiff = uw.systems.AdvectionDiffusion( phiField       = temperatureField, \n",
    "                                         phiDotField    = temperatureDotField, \n",
    "                                         velocityField  = velocityField,\n",
    "                                         fn_sourceTerm    = 20.0,\n",
    "                                         fn_diffusivity = 1.0, \n",
    "                                         conditions     = [dirichTempBC,] )\n",
    "\n",
    "\n",
    "\n",
    "advector = uw.systems.SwarmAdvector( swarm         = gSwarm, \n",
    "                                     velocityField = velocityField, \n",
    "                                     order         = 1)"
   ]
  },
  {
   "cell_type": "markdown",
   "metadata": {},
   "source": [
    "Metrics for benchmark\n",
    "=====\n",
    "\n",
    "Define functions to be used in the time loop. For cases 1-4, participants were asked to report a number of diagnostic quantities to be measured after reaching steady state:\n",
    "\n",
    "* Average temp... $$  \\langle T \\rangle  = \\int^1_0 \\int^1_0 T \\, dxdy $$\n",
    "* Top and bottom Nusselt numbers... $$N = \\int^1_0 \\frac{\\partial T}{\\partial y} \\rvert_{y=0/1} \\, dx$$\n",
    "* RMS velocity over the whole domain, surface and max velocity at surface\n",
    "* max and min viscosity over the whole domain\n",
    "* average rate of work done against gravity...$$\\langle W \\rangle = \\int^1_0 \\int^1_0 T u_y \\, dx dy$$\n",
    "* and the average rate of viscous dissipation...$$\\langle \\Phi \\rangle = \\int^1_0 \\int^1_0 \\tau_{ij} \\dot \\epsilon_{ij} \\, dx dy$$\n",
    "\n",
    "* In steady state, if thermal energy is accurately conserved, the difference between $\\langle W \\rangle$ and $\\langle \\Phi \\rangle / Ra$ must vanish, so also reported is the percentage error: \n",
    "\n",
    "$$ \\delta = \\frac{\\lvert \\langle W \\rangle - \\frac{\\langle \\Phi \\rangle}{Ra} \\rvert}{max \\left(  \\langle W \\rangle,  \\frac{\\langle \\Phi \\rangle}{Ra}\\right)} \\times 100% $$"
   ]
  },
  {
   "cell_type": "code",
   "execution_count": 169,
   "metadata": {
    "collapsed": false
   },
   "outputs": [],
   "source": [
    "#Setup some Integrals. We want these outside the main loop...\n",
    "tempVariable = gSwarm.add_variable( dataType=\"double\", count=1 )\n",
    "tempVariable.data[:] = temperatureField.evaluate(gSwarm)[:]\n",
    "tempint = uw.utils.Integral((tempVariable*rockIntVar), mesh)\n",
    "\n",
    "\n",
    "areaint = uw.utils.Integral((1.*rockIntVar),mesh)\n",
    "lithareaint = uw.utils.Integral((1.*lithIntVar),mesh)\n",
    "\n",
    "v2int = uw.utils.Integral(fn.math.dot(velocityField,velocityField)*rockIntVar, mesh)\n",
    "\n",
    "\n",
    "dwint = uw.utils.Integral(temperatureField*velocityField[1]*rockIntVar, mesh)\n",
    "\n",
    "\n",
    "sinner = fn.math.dot(strainRate_2ndInvariant,strainRate_2ndInvariant)\n",
    "vdint = uw.utils.Integral((4.*viscosityMapFn*sinner)*rockIntVar, mesh)\n",
    "vdintair = uw.utils.Integral((4.*viscosityMapFn*sinner)*airIntVar, mesh)\n",
    "vdintlith = uw.utils.Integral((4.*viscosityMapFn*sinner)*lithIntVar, mesh)\n",
    "\n",
    "\n",
    "fn_stress = 2.*viscosityMapFn*uw.function.tensor.symmetric(velocityField.fn_gradient)\n",
    "rockstress = fn.tensor.second_invariant(fn_stress)*rockIntVar\n",
    "lithstress = fn.tensor.second_invariant(fn_stress)*lithIntVar\n",
    "\n",
    "stresslithint = uw.utils.Integral(lithstress, mesh)\n"
   ]
  },
  {
   "cell_type": "code",
   "execution_count": 170,
   "metadata": {
    "collapsed": false
   },
   "outputs": [
    {
     "name": "stdout",
     "output_type": "stream",
     "text": [
      "150373.001104\n",
      "149063.360301\n",
      "141.462513173\n",
      "0.000351875327943\n",
      "2741.60928693\n",
      "2222.24306161\n"
     ]
    }
   ],
   "source": [
    "#These should differ if the the map function assigns different properties to bulk mantle\n",
    "\n",
    "print(uw.utils.Integral((4.*mantleviscosityFn*sinner)*rockIntVar, mesh).evaluate()[0])\n",
    "print(uw.utils.Integral((4.*viscosityMapFn*sinner)*rockIntVar, mesh).evaluate()[0])\n",
    "\n",
    "\n",
    "print(uw.utils.Integral((4.*mantleviscosityFn*sinner)*airIntVar, mesh).evaluate()[0])\n",
    "print(uw.utils.Integral((4.*viscosityMapFn*sinner)*airIntVar, mesh).evaluate()[0])\n",
    "\n",
    "print(uw.utils.Integral((4.*mantleviscosityFn*sinner)*lithIntVar, mesh).evaluate()[0])\n",
    "print(uw.utils.Integral((4.*viscosityMapFn*sinner)*lithIntVar, mesh).evaluate()[0])"
   ]
  },
  {
   "cell_type": "markdown",
   "metadata": {},
   "source": [
    "\\begin{equation}  \\langle T \\rangle  = \\int^1_0 \\int^1_0 T \\, dxdy \\end{equation}"
   ]
  },
  {
   "cell_type": "code",
   "execution_count": 171,
   "metadata": {
    "collapsed": false
   },
   "outputs": [],
   "source": [
    "def avg_temp():\n",
    "    return tempint.evaluate()[0]/areaint.evaluate()[0]\n",
    "\n",
    "#This one gets cleaned up when Surface integrals are available\n",
    "def nusselt(tempfield, swarm, dx):\n",
    "    #Update the swarm variable\n",
    "    tempgrad = tempfield.fn_gradient\n",
    "    valcheck = tempgrad[1].evaluate(swarm)\n",
    "    if valcheck is None:\n",
    "        vals = np.array(0, dtype='float64')\n",
    "    else:\n",
    "        vals = valcheck.sum()*dx\n",
    "    return vals\n",
    "\n",
    "def rms():\n",
    "    return math.sqrt(v2int.evaluate()[0]/areaint.evaluate()[0])\n",
    "\n",
    "#This one gets cleaned up when Surface integrals are available\n",
    "def rms_surf(swarm, dx):\n",
    "    rmsmaxfn = fn.math.dot(velocityField,velocityField)\n",
    "    rmscheck = rmsmaxfn.evaluate(swarm)\n",
    "    if rmscheck is None:\n",
    "        #print \"watch out\"\n",
    "        rmsvals = np.array(0, dtype='float64')\n",
    "    else:\n",
    "        rmsvals = np.sqrt(rmscheck.sum()*dx)\n",
    "        #print \"okay\"\n",
    "    return rmsvals\n",
    "\n",
    "def max_vx_surf(velfield, swarm):\n",
    "    check = velfield[0].evaluate(swarm)\n",
    "    if check is None:\n",
    "        return 0.\n",
    "    else:\n",
    "        return check.max()\n",
    "\n",
    "\n",
    "#def max_vy_surf(velfield, swarm):\n",
    "#    surfvelxmaxfn = fn.view.min_max(velfield[1])\n",
    "#    surfvelxmaxfn.evaluate(swarm)\n",
    "#    return surfvelxmaxfn.max_global()\n",
    "\n",
    "def gravwork(workfn):\n",
    "    return workfn.evaluate()[0]\n",
    "\n",
    "def viscdis(vdissfn):\n",
    "    return vdissfn.evaluate()[0]\n",
    "\n",
    "def visc_extr(viscfn):\n",
    "    vuviscfnMax = fn.view.min_max(viscfn)\n",
    "    vuviscfnMax.evaluate(gSwarm)\n",
    "    vuviscfnMin = fn.view.min_max(viscfn*dummyIntVar)\n",
    "    vuviscfnMin.evaluate(gSwarm)\n",
    "    return vuviscfnMax.max_global(), vuviscfnMin.min_global()\n",
    "\n",
    "\n",
    "def stress_max(scalarStressfn):\n",
    "    fn_minmax_stress = fn.view.min_max(scalarStressfn)\n",
    "    ignore_stress = fn_minmax_stress.evaluate(gSwarm)\n",
    "    return fn_minmax_stress.max_global()\n",
    "\n",
    "\n",
    "def avg_lith_stress():\n",
    "    return stresslithint.evaluate()[0]/lithareaint.evaluate()[0]"
   ]
  },
  {
   "cell_type": "code",
   "execution_count": 172,
   "metadata": {
    "collapsed": false
   },
   "outputs": [
    {
     "data": {
      "text/plain": [
       "0.04164070368487442"
      ]
     },
     "execution_count": 172,
     "metadata": {},
     "output_type": "execute_result"
    }
   ],
   "source": [
    "lithareaint.evaluate()[0]"
   ]
  },
  {
   "cell_type": "code",
   "execution_count": 173,
   "metadata": {
    "collapsed": false
   },
   "outputs": [],
   "source": [
    "#Check dem \n",
    "#stress_max(rockstress)\n",
    "#visc_extr(viscosityMapFn), ndp.StAeta0\n",
    "#avg_lith_stress()"
   ]
  },
  {
   "cell_type": "code",
   "execution_count": 174,
   "metadata": {
    "collapsed": false
   },
   "outputs": [],
   "source": [
    "#Fields for saving data / fields\n",
    "\n",
    "rmsField = uw.mesh.MeshVariable( mesh=mesh,   nodeDofCount=1)\n",
    "rmsfn = fn.math.sqrt(fn.math.dot(velocityField,velocityField))\n",
    "rmsdata = rmsfn.evaluate(mesh)\n",
    "rmsField.data[:] = rmsdata \n",
    "\n",
    "viscField = uw.mesh.MeshVariable( mesh=mesh,   nodeDofCount=1)\n",
    "viscdata = mantleviscosityFn.evaluate(mesh)\n",
    "viscField.data[:] = viscdata\n",
    "\n",
    "\n",
    "strainrateField = uw.mesh.MeshVariable( mesh=mesh,   nodeDofCount=1)\n",
    "srtdata = fn.tensor.second_invariant( \n",
    "                    fn.tensor.symmetric( \n",
    "                        velocityField.fn_gradient ))\n",
    "rostfield = srtdata.evaluate(mesh)\n",
    "strainrateField.data[:] = rostfield\n",
    "\n",
    "viscVariable = gSwarm.add_variable( dataType=\"float\", count=1 )\n",
    "viscVariable.data[:] = viscosityMapFn.evaluate(gSwarm)\n"
   ]
  },
  {
   "cell_type": "code",
   "execution_count": 175,
   "metadata": {
    "collapsed": false
   },
   "outputs": [],
   "source": [
    "#Images\n",
    "figEta = glucifer.Figure()\n",
    "figEta.append( glucifer.objects.Points(gSwarm,viscVariable, logScale=True))\n",
    "\n",
    "\n",
    "figMat = glucifer.Figure()\n",
    "figMat.append( glucifer.objects.Points(gSwarm,materialVariable, colours='brown white blue red'))\n",
    "figMat.append( glucifer.objects.Mesh(mesh))\n",
    "\n",
    "\n",
    "figStrainRate = glucifer.Figure()\n",
    "figStrainRate.append( glucifer.objects.Surface(mesh, strainRate_2ndInvariant, logScale=True))\n",
    "\n",
    "\n",
    "figVelocityMag = glucifer.Figure()\n",
    "figVelocityMag.append( glucifer.objects.Surface(mesh, fn.math.dot(velocityField,velocityField))\n",
    ")\n",
    "figTemp = glucifer.Figure()\n",
    "figTemp.append( glucifer.objects.Surface(mesh, temperatureField))\n",
    "\n",
    "\n",
    "\n",
    "#Pack some stuff into a database as well\n",
    "figDb = glucifer.Figure()\n",
    "figDb.append( glucifer.objects.Points(gSwarm,viscVariable, logScale=True, colours='brown white blue'))\n",
    "figDb.append( glucifer.objects.Points(gSwarm,materialVariable, colours='brown white blue red'))\n",
    "figDb.append( glucifer.objects.Mesh(mesh))\n",
    "figDb.append( glucifer.objects.VectorArrows(mesh,velocityField, arrowHead=0.2, scaling=0.01))\n",
    "figDb.append( glucifer.objects.Surface(mesh, strainRate_2ndInvariant, logScale=True, colours='brown white blue'))\n",
    "figDb.append( glucifer.objects.Surface(mesh, temperatureField))\n",
    "                           "
   ]
  },
  {
   "cell_type": "code",
   "execution_count": 176,
   "metadata": {
    "collapsed": true
   },
   "outputs": [],
   "source": [
    "\n",
    "pics = uw.swarm.PICIntegrationSwarm(gSwarm)"
   ]
  },
  {
   "cell_type": "code",
   "execution_count": 177,
   "metadata": {
    "collapsed": false
   },
   "outputs": [
    {
     "data": {
      "text/plain": [
       "['materialVariable', 'rockIntVar', 'airIntVar', 'lithIntVar']"
      ]
     },
     "execution_count": 177,
     "metadata": {},
     "output_type": "execute_result"
    }
   ],
   "source": [
    "varnames"
   ]
  },
  {
   "cell_type": "code",
   "execution_count": 172,
   "metadata": {
    "collapsed": false
   },
   "outputs": [],
   "source": [
    "def checkpoint1(step, checkpointPath,filename, filewrites):\n",
    "    path = checkpointPath + str(step) \n",
    "    os.mkdir(path)\n",
    "    ##Write and save the file, if not already a writing step\n",
    "    if not step % filewrites == 0:\n",
    "        f_o.write((16*'%-16s ' + '\\n') % (realtime, Viscdis, float(Nu0glob), float(Nu1glob), Avg_temp, \n",
    "                                              Rms,Rmsurfglob,Max_vx_surfglob,Gravwork, etamax, etamin, \n",
    "                                              Viscdisair, Viscdislith,Avg_stress, Max_stress_rock, Max_stress_lith))\n",
    "    filename.close()\n",
    "    shutil.copyfile(os.path.join(outputPath, outputFile), os.path.join(path, outputFile))\n",
    "\n",
    "\n",
    "def checkpoint2(step, checkpointPath, swarm, filename, varlist = [materialVariable], varnames = ['materialVariable']):\n",
    "    path = checkpointPath + str(step) \n",
    "    velfile = \"velocityField\" + \".hdf5\"\n",
    "    tempfile = \"temperatureField\" + \".hdf5\"\n",
    "    pressfile = \"pressureField\" + \".hdf5\"\n",
    "    velocityField.save(os.path.join(path, velfile))\n",
    "    temperatureField.save(os.path.join(path, tempfile))\n",
    "    pressureField.save(os.path.join(path, pressfile))\n",
    "    swarm.save(os.path.join(path, \"swarm.h5\") ) \n",
    "    for ix in range(len(varlist)):\n",
    "        varb = varlist[ix]\n",
    "        varb.save(os.path.join(path,varnames[ix] + \".h5\"))\n",
    "        \n",
    "    "
   ]
  },
  {
   "cell_type": "code",
   "execution_count": 173,
   "metadata": {
    "collapsed": false
   },
   "outputs": [],
   "source": [
    "###########\n",
    "#Open file for writing metrics\n",
    "###########\n",
    "\n",
    "if checkpointLoad:\n",
    "    if uw.rank() == 0:\n",
    "        shutil.copyfile(os.path.join(checkpointLoadDir, outputFile), outputPath+outputFile)\n",
    "    comm.Barrier()\n",
    "    #os.rename(os.path.join(checkpointLoadDir, outputFile), outputPath+outputFile)\n",
    "    f_o = open(os.path.join(outputPath, outputFile), 'a')\n",
    "    prevdata = np.genfromtxt(os.path.join(outputPath, outputFile), skip_header=0, skip_footer=0)\n",
    "    realtime = prevdata[prevdata.shape[0]-1, 0]\n",
    "    step = int(checkpointLoadDir.split('/')[-1])\n",
    "    timevals = [0.]\n",
    "else:\n",
    "    f_o = open(outputPath+outputFile, 'w')\n",
    "    realtime = 0.\n",
    "    step = 0\n",
    "    timevals = [0.]"
   ]
  },
  {
   "cell_type": "markdown",
   "metadata": {},
   "source": [
    "Main simulation loop\n",
    "=======\n",
    "\n",
    "The main time stepping loop begins here. Before this the time and timestep are initialised to zero and the output statistics arrays are set up. Also the frequency of outputting basic statistics to the screen is set in steps_output.\n"
   ]
  },
  {
   "cell_type": "code",
   "execution_count": null,
   "metadata": {
    "collapsed": false
   },
   "outputs": [],
   "source": [
    "# initialise timer for computation\n",
    "startMain = time.clock()\n",
    "# Perform steps#\n",
    "while realtime < 0.2:\n",
    "#while step < 25:\n",
    "    #Enter non-linear loop\n",
    "    print step\n",
    "    solver.solve(nonLinearIterate=True)\n",
    "    dt = advDiff.get_max_dt()\n",
    "    if step == 0:\n",
    "        dt = 0.\n",
    "    #start = time.clock()\n",
    "    advDiff.integrate(dt)\n",
    "    #machine_time = (time.clock()-start)\n",
    "    #print(\"total advDiff time is: \" + str(machine_time))\n",
    "    # Advect swarm using this timestep size\n",
    "    #start = time.clock()\n",
    "    advector.integrate(dt)\n",
    "    #machine_time = (time.clock()-start)\n",
    "    #print(\"total advector time is: \" + str(machine_time))\n",
    "    # Increment\n",
    "    realtime += dt\n",
    "    step += 1\n",
    "    timevals.append(realtime)\n",
    "    \n",
    "    ################\n",
    "    #Update temperature field in the air region\n",
    "    ################\n",
    "    if (step % sticky_air_temp == 0):\n",
    "        for index, coord in enumerate(mesh.data):\n",
    "            if coord[1] >= 1.:\n",
    "                temperatureField.data[index] = 0.\n",
    " \n",
    "    ################\n",
    "    #Particle update\n",
    "    ###############\n",
    "    #if (step % swarm_update == 0) or (step % metric_output == 0): #These updates should be done before any metric output\n",
    "    if (step % swarm_update == 0): #These updates should be done before any metric output\n",
    "        #These swarm variables get updated first, as they are used to determine material changes\n",
    "        particledepths = 1. - gSwarm.particleCoordinates.data[:,1]\n",
    "        particletemps = temperatureField.evaluate(gSwarm)[:,0]\n",
    "        conditionmap['depthcondition']['data'] = particledepths\n",
    "        conditionmap['avgtempcondition']['data'] = particletemps\n",
    "        ################\n",
    "        number_updated = 0\n",
    "        for particleID in range(gSwarm.particleCoordinates.data.shape[0]):\n",
    "            check = update_swarm(DG, particleID)\n",
    "            if check > -1:\n",
    "                number_updated += 1\n",
    "                #if check == 0:\n",
    "                #    print \"from \" + str(materialVariable.data[particleID]) + \" to \" + str(check)\n",
    "                materialVariable.data[particleID] = check\n",
    "            else:\n",
    "                pass\n",
    "        #Also update those integration swarms\n",
    "        rockIntVar.data[:] = 0.\n",
    "        notair = np.where(materialVariable.data != airIndex)\n",
    "        rockIntVar.data[notair] = 1.\n",
    "        airIntVar.data[:] = 0.\n",
    "        notrock = np.where(materialVariable.data == airIndex)\n",
    "        airIntVar.data[notrock] = 1.\n",
    "        lithIntVar.data[:] = 0.\n",
    "        islith = np.where((materialVariable.data == lithosphereIndex) | (materialVariable.data == crustIndex))\n",
    "        lithIntVar.data[islith] = 1.\n",
    "        dummyIntVar.data[notrock] = 1e10 \n",
    "\n",
    "    ################            \n",
    "    # Calculate the Metrics, only on 1 of the processors:\n",
    "    ################\n",
    "    if (step % metric_output == 0):\n",
    "        ###############\n",
    "        #Swarm - based Metrics\n",
    "        ###############\n",
    "        tempVariable.data[:] = temperatureField.evaluate(gSwarm)[:]\n",
    "        Avg_temp = avg_temp()\n",
    "        Rms = rms()\n",
    "        Gravwork = gravwork(dwint)\n",
    "        Viscdis = viscdis(vdint)\n",
    "        Viscdisair = viscdis(vdintair)\n",
    "        Viscdislith = viscdis(vdintlith)\n",
    "        etamax, etamin = visc_extr(viscosityMapFn)\n",
    "        #These are the ones that need mpi4py treatment\n",
    "        Nu0loc = nusselt(temperatureField, baseintswarm, dx)\n",
    "        Nu1loc = nusselt(temperatureField, surfintswarm, dx)\n",
    "        Rmsurfloc = rms_surf(surfintswarm, dx)\n",
    "        Max_vx_surfloc = np.array(max_vx_surf(velocityField, surfintswarm),'d') #This float needed to be an array to play with mpi4py\n",
    "        #Setup the global output arrays\n",
    "        dTp = Nu0loc.dtype\n",
    "        Nu0glob = np.array(0, dtype=dTp)\n",
    "        dTp = Nu1loc.dtype\n",
    "        Nu1glob = np.array(0, dtype=dTp)\n",
    "        dTp = Rmsurfloc.dtype\n",
    "        Rmsurfglob = np.array(0, dtype=dTp)\n",
    "        dTp = Max_vx_surfloc.dtype\n",
    "        Max_vx_surfglob = np.array(0.0,dtype=dTp)\n",
    "        #ignore_stress = fn_minmax_stress.evaluate(gSwarm)\n",
    "        Avg_stress = avg_lith_stress()\n",
    "        Max_stress_rock = stress_max(rockstress)\n",
    "        Max_stress_lith = stress_max(lithstress)\n",
    "        #Do global operation ... sum, or max\n",
    "        comm.Allreduce(Nu0loc, Nu0glob, op=MPI.SUM)\n",
    "        comm.Allreduce(Nu1loc, Nu1glob, op=MPI.SUM)\n",
    "        comm.Allreduce(Rmsurfloc, Rmsurfglob, op=MPI.SUM)\n",
    "        comm.Allreduce([Max_vx_surfloc, MPI.DOUBLE],[Max_vx_surfglob, MPI.DOUBLE],op=MPI.MAX)      \n",
    "        # output to summary text file\n",
    "        if uw.rank()==0:\n",
    "            f_o.write((16*'%-16s ' + '\\n') % (realtime, Viscdis, float(Nu0glob), float(Nu1glob), Avg_temp, \n",
    "                                              Rms,Rmsurfglob,Max_vx_surfglob,Gravwork, etamax, etamin, \n",
    "                                              Viscdisair, Viscdislith,Avg_stress, Max_stress_rock, Max_stress_lith))\n",
    "        #test = max_vx_surf(velocityField, surfintswarm)    \n",
    "        #if uw.rank()==0:\n",
    "         #   print(Rmsurfglob,MRms_surf, Max_vx_surfglob, MMax_vx_surf, etamax, Metamax)\n",
    "        #print(Rmsurfloc, test)\n",
    "    ################\n",
    "    #Gldb output\n",
    "    ################ \n",
    "    if (step % gldbs_output == 0) & (writeFiles == True):\n",
    "        #Rebuild any necessary swarm variables\n",
    "        viscVariable.data[:] = viscosityMapFn.evaluate(gSwarm)\n",
    "        #Write gldbs\n",
    "        fnamedb = \"dbFig\" + \"_\" + str(ModIt) + \"_\" + str(step) + \".gldb\"\n",
    "        fullpath = os.path.join(outputPath + \"gldbs/\" + fnamedb)\n",
    "        figDb.show()\n",
    "        figDb.save_database(fullpath)\n",
    "    ################\n",
    "    #Also repopulate entire swarm periodically\n",
    "    ################\n",
    "    if step % swarm_repop == 0:\n",
    "        pics.repopulate()\n",
    "    ################\n",
    "    #Checkpoint\n",
    "    ################\n",
    "    if step % checkpoint_every == 0:\n",
    "        if uw.rank() == 0:\n",
    "            checkpoint1(step, checkpointPath,f_o, metric_output)           \n",
    "        checkpoint2(step, checkpointPath, gSwarm, f_o, varlist = varlist, varnames = varnames)\n",
    "        f_o = open(os.path.join(outputPath, outputFile), 'a') #is this line supposed to be here?\n",
    "     \n",
    "    \n",
    "f_o.close()\n",
    "#print 'step =',step, '; dt =', dt, '; CPU time =', time.clock()-startMain"
   ]
  },
  {
   "cell_type": "code",
   "execution_count": null,
   "metadata": {
    "collapsed": false
   },
   "outputs": [],
   "source": [
    "#avg_temp(), areaint.evaluate()[0]"
   ]
  },
  {
   "cell_type": "code",
   "execution_count": 100,
   "metadata": {
    "collapsed": false
   },
   "outputs": [
    {
     "data": {
      "text/plain": [
       "['materialVariable', 'rockIntVar', 'airIntVar', 'lithIntVar']"
      ]
     },
     "execution_count": 100,
     "metadata": {},
     "output_type": "execute_result"
    }
   ],
   "source": [
    "varnames"
   ]
  },
  {
   "cell_type": "code",
   "execution_count": null,
   "metadata": {
    "collapsed": false
   },
   "outputs": [],
   "source": [
    "#figEta = glucifer.Figure(figsize=(1024,384))\n",
    "#figEta.append( glucifer.objects.Points(gSwarm,viscVariable, logScale=True))\n",
    "#figEta.save_database('test.gldb')\n",
    "#figEta.show()\n",
    "\n"
   ]
  },
  {
   "cell_type": "code",
   "execution_count": 531,
   "metadata": {
    "collapsed": false
   },
   "outputs": [],
   "source": [
    "\n",
    "figMat = glucifer.Figure()\n",
    "figMat.append( glucifer.objects.Points(gSwarm,materialVariable, colours='brown white blue red black'))\n",
    "\n",
    "figMat.show()\n",
    "figMat.save_database('test.gldb')\n",
    "#valueRange=None"
   ]
  },
  {
   "cell_type": "code",
   "execution_count": 386,
   "metadata": {
    "collapsed": false
   },
   "outputs": [],
   "source": [
    "\n",
    "figMat = glucifer.Figure()\n",
    "figMat.append( glucifer.objects.Points(gSwarm,densityMapFn, logScale=True,))\n",
    "\n",
    "figMat.show()\n",
    "figMat.save_database('test.gldb')\n",
    "#valueRange=None,"
   ]
  },
  {
   "cell_type": "code",
   "execution_count": null,
   "metadata": {
    "collapsed": false
   },
   "outputs": [],
   "source": [
    "#figMat = glucifer.Figure()\n",
    "#figMat.append( glucifer.objects.Points(gSwarm,rockIntVar))\n",
    "#figMat.append( glucifer.objects.Points(gSwarm,rockIntVar, pointSize= 5.))\n",
    "#figMat.append( glucifer.objects.Mesh(mesh))\n",
    "#figMat.save_database('test.gldb')\n",
    "#figMat.show()"
   ]
  },
  {
   "cell_type": "code",
   "execution_count": 384,
   "metadata": {
    "collapsed": false
   },
   "outputs": [],
   "source": [
    "figDb.show()\n",
    "figDb.save_database('test.gldb')"
   ]
  },
  {
   "cell_type": "code",
   "execution_count": 73,
   "metadata": {
    "collapsed": false
   },
   "outputs": [],
   "source": [
    "#figStrainRate = glucifer.Figure()\n",
    "#figStrainRate.append( glucifer.objects.Surface(mesh, strainRate_2ndInvariant, logScale=True))\n",
    "#figStrainRate.show()\n",
    "#figStrainRate.save_database('test.gldb')\n"
   ]
  },
  {
   "cell_type": "code",
   "execution_count": null,
   "metadata": {
    "collapsed": false
   },
   "outputs": [],
   "source": [
    "machine_time = (time.clock()-startMain)\n",
    "print(\"total machine time is: \" + str(machine_time))"
   ]
  },
  {
   "cell_type": "code",
   "execution_count": null,
   "metadata": {
    "collapsed": true
   },
   "outputs": [],
   "source": [
    "print(\"dimensionless time is: \" + str(realtime))"
   ]
  },
  {
   "cell_type": "code",
   "execution_count": null,
   "metadata": {
    "collapsed": false
   },
   "outputs": [],
   "source": [
    "velocityField.evaluate(IWalls)[:,0].max()"
   ]
  },
  {
   "cell_type": "code",
   "execution_count": null,
   "metadata": {
    "collapsed": false
   },
   "outputs": [],
   "source": [
    "#velocityField.evaluate(TWalls)[:,0].max()"
   ]
  },
  {
   "cell_type": "markdown",
   "metadata": {},
   "source": [
    "# Test checkpoint bug"
   ]
  }
 ],
 "metadata": {
  "kernelspec": {
   "display_name": "Python 2",
   "language": "python",
   "name": "python2"
  },
  "language_info": {
   "codemirror_mode": {
    "name": "ipython",
    "version": 2
   },
   "file_extension": ".py",
   "mimetype": "text/x-python",
   "name": "python",
   "nbconvert_exporter": "python",
   "pygments_lexer": "ipython2",
   "version": "2.7.11"
  }
 },
 "nbformat": 4,
 "nbformat_minor": 0
}
