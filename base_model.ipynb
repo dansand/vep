{
 "cells": [
  {
   "cell_type": "markdown",
   "metadata": {
    "collapsed": true
   },
   "source": [
    "\n",
    "Viscoplastic thermal convection in a 2-D square box\n",
    "=======\n",
    "\n",
    "Benchmarks from Tosi et al. 2015\n",
    "--------\n",
    "\n"
   ]
  },
  {
   "cell_type": "markdown",
   "metadata": {
    "collapsed": true
   },
   "source": [
    "This notebook generates models from the <a name=\"ref-1\"/>[(Tosi et al., 2015)](#cite-tosi2015community) in Underworld2. The Underworld2 results are compared to the model run on Fenics. Input files for the Fenics models were provided by Petra Maierova.\n",
    "\n",
    "This example uses the RT PIC solver with classic and nearest neighbour\n",
    "\n",
    "\n",
    "References\n",
    "====\n",
    "\n",
    "<a name=\"cite-tosi2015community\"/><sup>[^](#ref-1) </sup>Tosi, Nicola and Stein, Claudia and Noack, Lena and H&uuml;ttig, Christian and Maierov&aacute;, Petra and Samuel, Henri and Davies, DR and Wilson, CR and Kramer, SC and Thieulot, Cedric and others. 2015. _A community benchmark for viscoplastic thermal convection in a 2-D square box_.\n",
    "\n"
   ]
  },
  {
   "cell_type": "markdown",
   "metadata": {},
   "source": [
    "Load python functions needed for underworld. Some additional python functions from os, math and numpy used later on."
   ]
  },
  {
   "cell_type": "code",
   "execution_count": 40,
   "metadata": {
    "collapsed": false
   },
   "outputs": [],
   "source": [
    "#!pip install natsort\n",
    "#!pip install networkx"
   ]
  },
  {
   "cell_type": "code",
   "execution_count": 41,
   "metadata": {
    "collapsed": false
   },
   "outputs": [],
   "source": [
    "import networkx as nx\n",
    "import underworld as uw\n",
    "import math\n",
    "from underworld import function as fn\n",
    "import glucifer\n",
    "#import matplotlib.pyplot as pyplot\n",
    "import time\n",
    "import numpy as np\n",
    "import os\n",
    "import sys\n",
    "import natsort\n",
    "import shutil\n",
    "from easydict import EasyDict as edict\n",
    "import slippy2 as sp\n",
    "\n",
    "\n",
    "\n",
    "from mpi4py import MPI\n",
    "comm = MPI.COMM_WORLD\n",
    "rank = comm.Get_rank()"
   ]
  },
  {
   "cell_type": "code",
   "execution_count": 42,
   "metadata": {
    "collapsed": true
   },
   "outputs": [],
   "source": [
    "def mpy_to_kmpma(mpy):\n",
    "    \"\"\"\n",
    "    convert meters per year to kilometers per year\n",
    "    Args:\n",
    "        mpy (float): velocity in meters per year\n",
    "    Returns:\n",
    "        velocity in kilometers per year\n",
    "    Raises:\n",
    "        TypeError: not implemented\n",
    "        ValueError: not implemented\n",
    "    \"\"\"\n",
    "    return 1e3*mpy\n",
    "\n",
    "def myts(mys):\n",
    "    \"\"\"\n",
    "    convert millions of years to seconds\n",
    "    Args:\n",
    "        mys (float): millions or years\n",
    "    Returns:\n",
    "        seconds\n",
    "    Raises:\n",
    "        TypeError: not implemented\n",
    "        ValueError: not implemented\n",
    "    \"\"\"\n",
    "    secs = mys*(3600.*24*365)*1e6\n",
    "    return secs\n",
    "\n",
    "def stmy(secs):\n",
    "    \"\"\"\n",
    "    convert millions of years to seconds\n",
    "    Args:\n",
    "        mys (float): millions or years\n",
    "    Returns:\n",
    "        seconds\n",
    "    Raises:\n",
    "        TypeError: not implemented\n",
    "        ValueError: not implemented\n",
    "    \"\"\"\n",
    "    myr = secs/((3600.*24*365)*1e6)\n",
    "    return myr"
   ]
  },
  {
   "cell_type": "code",
   "execution_count": 43,
   "metadata": {
    "collapsed": false
   },
   "outputs": [
    {
     "name": "stdout",
     "output_type": "stream",
     "text": [
      "/Users/dansandiford/Documents/programming/earthsci_code/python/vep\r\n",
      "1_05_StokesSinker.ipynb base_model.ipynb        test.gldb\r\n",
      "README.md               base_model.py\r\n",
      "adv-diff-slab.ipynb     \u001b[1m\u001b[34mresults\u001b[m\u001b[m\r\n"
     ]
    }
   ],
   "source": [
    "#Display working directory info if in nb mode\n",
    "if (len(sys.argv) > 1):\n",
    "    if (sys.argv[1] == '-f'):\n",
    "        !pwd && ls"
   ]
  },
  {
   "cell_type": "code",
   "execution_count": 44,
   "metadata": {
    "collapsed": false
   },
   "outputs": [],
   "source": [
    "############\n",
    "#Model name.  \n",
    "############\n",
    "Model = \"T\"\n",
    "ModNum = 0\n",
    "\n",
    "if len(sys.argv) == 1:\n",
    "    ModIt = \"Base\"\n",
    "elif sys.argv[1] == '-f':\n",
    "    ModIt = \"Base\"\n",
    "else:\n",
    "    ModIt = str(sys.argv[1])\n"
   ]
  },
  {
   "cell_type": "code",
   "execution_count": 45,
   "metadata": {
    "collapsed": true
   },
   "outputs": [],
   "source": [
    "###########\n",
    "#Standard output directory setup\n",
    "###########\n",
    "\n",
    "\n",
    "outputPath = \"results\" + \"/\" +  str(Model) + \"/\" + str(ModNum) + \"/\" + str(ModIt) + \"/\"\n",
    "imagePath = outputPath + 'images/'\n",
    "filePath = outputPath + 'files/'\n",
    "checkpointPath = outputPath + 'checkpoint/'\n",
    "dbPath = outputPath + 'gldbs/'\n",
    "outputFile = 'results_model' + Model + '_' + str(ModNum) + '_' + str(ModIt) + '.dat'\n",
    "\n",
    "if uw.rank()==0:\n",
    "    # make directories if they don't exist\n",
    "    if not os.path.isdir(outputPath):\n",
    "        os.makedirs(outputPath)\n",
    "    if not os.path.isdir(checkpointPath):\n",
    "        os.makedirs(checkpointPath)\n",
    "    if not os.path.isdir(imagePath):\n",
    "        os.makedirs(imagePath)\n",
    "    if not os.path.isdir(dbPath):\n",
    "        os.makedirs(dbPath)\n",
    "    if not os.path.isdir(filePath):\n",
    "        os.makedirs(filePath)\n",
    "        \n",
    "comm.Barrier() #Barrier here so not procs run the check in the next cell too early "
   ]
  },
  {
   "cell_type": "code",
   "execution_count": 46,
   "metadata": {
    "collapsed": false
   },
   "outputs": [
    {
     "name": "stdout",
     "output_type": "stream",
     "text": [
      "results/T/8/Base/checkpoint/ is empty\n",
      "results/T/8/Base/checkpoint/2 has files\n",
      "results/T/8/Base/checkpoint/4 has files\n"
     ]
    }
   ],
   "source": [
    "###########\n",
    "#Check if starting from checkpoint\n",
    "###########\n",
    "\n",
    "checkdirs = []\n",
    "for dirpath, dirnames, files in os.walk(checkpointPath):\n",
    "    if files:\n",
    "        print dirpath, 'has files'\n",
    "        checkpointLoad = True\n",
    "        checkdirs.append(dirpath)\n",
    "    if not files:\n",
    "        print dirpath, 'is empty'\n",
    "        checkpointLoad = False\n",
    "        \n",
    "\n",
    "        "
   ]
  },
  {
   "cell_type": "markdown",
   "metadata": {},
   "source": [
    "Set physical constants and parameters, including the Rayleigh number (*RA*). "
   ]
  },
  {
   "cell_type": "code",
   "execution_count": 47,
   "metadata": {
    "collapsed": false
   },
   "outputs": [
    {
     "data": {
      "text/plain": [
       "12.5"
      ]
     },
     "execution_count": 47,
     "metadata": {},
     "output_type": "execute_result"
    }
   ],
   "source": [
    "(1600)/128."
   ]
  },
  {
   "cell_type": "code",
   "execution_count": 48,
   "metadata": {
    "collapsed": false
   },
   "outputs": [],
   "source": [
    "###########\n",
    "#Physical parameters\n",
    "###########\n",
    "\n",
    "#The Slippy rheology class will contain dimensional and nondimensional values, linked in a self-consistent way by scaling paramters\n",
    "#lowermantle.nondimensional['cohesion']\n",
    "#Where lowermantle is a material class (generated within a rheology class); and non dimensional is a dictionary\n",
    "\n",
    "#UW naming conventions: \n",
    "#module_name, package_name, ClassName, function_name, method_name, \n",
    "#ExceptionName, propertyName GLOBAL_CONSTANT_NAME, globalVarName, instanceVarName, functionParameterName, localVarName\n",
    "###########\n",
    "\n",
    "\n",
    "#dimensional parameter dictionary\n",
    "dp = edict({'LS':2890.*1e3,\n",
    "           'rho':3300,\n",
    "           'g':9.81, \n",
    "           'eta0':1e23,\n",
    "           'k':10**-6,\n",
    "           'a':1.25*10**-5, \n",
    "           'TS':273.,\n",
    "           'TB':2773.,\n",
    "           'deltaT':2500, \n",
    "           'cohesion':1e7, \n",
    "           'E':240000., \n",
    "           'R':8.314,\n",
    "           'V':6.34*(10**-7),\n",
    "           'StALS': 27.*1e3})\n",
    "\n",
    "#non-dimensional parameter dictionary\n",
    "#One draw back of a dictionary structure, is that variables cannot link to other variables\n",
    "RAfac = 20.\n",
    "Stressfac =(RAfac**(2/3.))\n",
    "ndp = edict({'RA':1e6*RAfac,      \n",
    "              'LS':1.,\n",
    "              'eta0':1.,\n",
    "              'StAeta0':0.1,\n",
    "              'k':1.,\n",
    "              'E':11.55,\n",
    "              'V':3.0,\n",
    "              'H':20.,\n",
    "              'TR':(1600./2500.),\n",
    "              'TS':(dp.TS/2500.),\n",
    "              'RD':1.,\n",
    "              'cohesion':1577.*RAfac,\n",
    "              'cohesion_reduce':10.,\n",
    "              'fc':0.1, \n",
    "              'low_visc':RAfac*1e-4,\n",
    "              'up_visc':1e5,\n",
    "              'random_temp': 0.05})\n",
    "\n",
    "\n",
    "#A few parameters defining lengths scales, affects materal transistions etc.\n",
    "MANTLETOCRUST = (27.*1e3)/dp.LS #Crust depth\n",
    "CRUSTTOMANTLE = (300.*1e3)/dp.LS \n",
    "LITHTOMANTLE = (660.*1e3)/dp.LS \n",
    "MANTLETOLITH = (200.*1e3)/dp.LS \n",
    "TOPOHEIGHT = (0.*1e3)/dp.LS  #rock-air topography limits\n",
    "CRUSTTOECL  = (100.*1e3)/dp.LS\n",
    "AVGTEMP = 0.53 #Used to define lithosphere\n",
    "\n",
    "\n",
    "#Switch on additinal physical mechanisms like crust buoyancy, eclogite buoyancy, lower mantle viscosity, melt viscosity reduction \n",
    "\n",
    "crust_buoyancy = False\n",
    "ecl_buoyancy = True\n",
    "lower_mantle = True\n",
    "melt_viscosity_reduction= True\n",
    "\n",
    "\n",
    "#Compositional Rayliegh numbers for air, crust, ecglogite\n",
    "ETAREF = dp.rho*dp.g*dp.a*dp.deltaT*((dp.LS)**3)/(ndp.RA*dp.k) #equivalent dimensional reference viscosity\n",
    "#RC = (3300.*dp.g*(dp.LS)**3)/(ETAREF *dp.k) #Composisitional Rayleigh number for rock-air buoyancy force\n",
    "RCA = (1650.*dp.g*(dp.LS)**3)/(ETAREF *dp.k) #Composisitional Rayleigh number for rock-air buoyancy force\n",
    "COMP_RA_FACT_AIR = RCA/ndp.RA\n",
    "RCC = (100.*dp.g*(dp.LS)**3)/(ETAREF *dp.k) #Composisitional Rayleigh number for crust\n",
    "COMP_RA_FACT_CRUST = RCC/ndp.RA\n",
    "RCE = -1*(100.*dp.g*(dp.LS)**3)/(ETAREF *dp.k) #Composisitional Rayleigh number for eclogite \n",
    "COMP_RA_FACT_ECL = RCE/ndp.RA\n",
    "ndp[\"StA_RA\"] = ndp.RA*COMP_RA_FACT_AIR\n",
    "if crust_buoyancy:\n",
    "    ndp[\"Crust_RA\"] = ndp.RA*COMP_RA_FACT_CRUST\n",
    "else:\n",
    "    ndp[\"Crust_RA\"] = 0.\n",
    "if ecl_buoyancy:\n",
    "    ndp[\"Ecl_RA\"] = ndp.RA*COMP_RA_FACT_ECL\n",
    "else:\n",
    "    ndp[\"Ecl_RA\"] = 0.\n",
    "    \n",
    "\n",
    "\n",
    "#######################To be replaced soon\n",
    "#Physical parameters that can be defined with STDIN,\n",
    "#The == '-f': check is a a hack check to see cover the notebook case\n",
    "if len(sys.argv) == 1:\n",
    "    ndp.cohesion = ndp.cohesion\n",
    "elif sys.argv[1] == '-f':\n",
    "    ndp.cohesion = ndp.cohesion\n",
    "else:\n",
    "    ndp.cohesion = float(sys.argv[1])*newvisc"
   ]
  },
  {
   "cell_type": "code",
   "execution_count": 49,
   "metadata": {
    "collapsed": false
   },
   "outputs": [],
   "source": [
    "###########\n",
    "#Boundary layer / slab paramaters\n",
    "###########\n",
    "velmy = 0.02 #m/y\n",
    "vel = mpy_to_kmpma(velmy) #km/my\n",
    "off = -0.0 #dimensionless offset\n",
    "\n",
    "#Slab perturbation paramaters\n",
    "Roc = 450.\n",
    "Crust = 35.\n",
    "theta = 89.\n"
   ]
  },
  {
   "cell_type": "code",
   "execution_count": 50,
   "metadata": {
    "collapsed": false
   },
   "outputs": [
    {
     "data": {
      "text/plain": [
       "31540.0"
      ]
     },
     "execution_count": 50,
     "metadata": {},
     "output_type": "execute_result"
    }
   ],
   "source": [
    "ndp.cohesion"
   ]
  },
  {
   "cell_type": "code",
   "execution_count": 51,
   "metadata": {
    "collapsed": false
   },
   "outputs": [],
   "source": [
    "###########\n",
    "#Model setup parameters\n",
    "###########\n",
    "\n",
    "stickyAir = True\n",
    "\n",
    "MINX = -1.\n",
    "MINY = 0.\n",
    "MAXX = 1.0\n",
    "\n",
    "#MAXY = 1.035\n",
    "MAXY = 1.\n",
    "\n",
    "if MINX == 0.:\n",
    "    squareModel = True\n",
    "else: \n",
    "    squareModel = False\n",
    "    \n",
    "    \n",
    "dim = 2          # number of spatial dimensions\n",
    "\n",
    "\n",
    "#MESH STUFF\n",
    "\n",
    "RES = 64\n",
    "\n",
    "\n",
    "if MINX == 0.:\n",
    "    Xres = RES\n",
    "else:\n",
    "    Xres = 2*RES\n",
    "\n",
    "if stickyAir:\n",
    "    Yres = RES\n",
    "    MAXY = 1. + dp.StALS/dp.LS #150km\n",
    "    \n",
    "else:\n",
    "    Yres = RES\n",
    "    MAXY = 1.\n",
    "\n",
    "\n",
    "periodic = [True, False]\n",
    "elementType = \"Q1/dQ0\"\n",
    "#elementType =\"Q2/DPC1\"\n",
    "\n",
    "refineMesh = True\n",
    "\n",
    "\n",
    "#System/Solver stuff\n",
    "\n",
    "PIC_integration=True\n",
    "ppc = 25"
   ]
  },
  {
   "cell_type": "code",
   "execution_count": 52,
   "metadata": {
    "collapsed": false
   },
   "outputs": [],
   "source": [
    "###########\n",
    "#Model Runtime parameters\n",
    "###########\n",
    "\n",
    "swarm_update = 10\n",
    "swarm_repop = 100\n",
    "files_output = 1e6\n",
    "gldbs_output = 2\n",
    "images_output = 1e6\n",
    "checkpoint_every = 2\n",
    "metric_output = 2\n",
    "sticky_air_temp = 10\n",
    "\n",
    "comm.Barrier() #Barrier here so not procs run the check in the next cell too early \n",
    "\n",
    "assert metric_output <= checkpoint_every, 'Checkpointing should run less or as ofen as metric output'\n",
    "#assert (metric_output >= swarm_update), 'Swarm update is needed before checkpointing'\n",
    "#assert metric_output >= sticky_air_temp, 'Sticky air temp should be updated more frequently that metrics'\n"
   ]
  },
  {
   "cell_type": "code",
   "execution_count": 53,
   "metadata": {
    "collapsed": false
   },
   "outputs": [],
   "source": [
    "###########\n",
    "#Model output parameters\n",
    "###########\n",
    "\n",
    "#Do you want to write hdf5 files - Temp, RMS, viscosity, stress?\n",
    "writeFiles = True\n",
    "loadTemp = True\n",
    "\n",
    "    "
   ]
  },
  {
   "cell_type": "code",
   "execution_count": 54,
   "metadata": {
    "collapsed": false
   },
   "outputs": [],
   "source": [
    "mesh = uw.mesh.FeMesh_Cartesian( elementType = elementType,\n",
    "                                 elementRes  = (Xres, Yres), \n",
    "                                 minCoord    = (MINX,MINY), \n",
    "                                 maxCoord=(MAXX,MAXY), periodic=periodic)\n",
    "\n",
    "\n",
    "\n",
    "velocityField       = uw.mesh.MeshVariable( mesh=mesh,         nodeDofCount=dim )\n",
    "pressureField       = uw.mesh.MeshVariable( mesh=mesh.subMesh, nodeDofCount=1 )\n",
    "temperatureField    = uw.mesh.MeshVariable( mesh=mesh,         nodeDofCount=1 )\n",
    "temperatureDotField = uw.mesh.MeshVariable( mesh=mesh,         nodeDofCount=1 )"
   ]
  },
  {
   "cell_type": "code",
   "execution_count": 55,
   "metadata": {
    "collapsed": false
   },
   "outputs": [
    {
     "data": {
      "text/plain": [
       "(128, -1.0, [True, False], 'Q1/dQ0')"
      ]
     },
     "execution_count": 55,
     "metadata": {},
     "output_type": "execute_result"
    }
   ],
   "source": [
    "Xres, MINX, periodic, elementType"
   ]
  },
  {
   "cell_type": "markdown",
   "metadata": {},
   "source": [
    "Create Finite Element (FE) variables for the velocity, pressure and temperature fields. The last two of these are scalar fields needing only one value at each mesh point, while the velocity field contains a vector of *dim* dimensions at each mesh point."
   ]
  },
  {
   "cell_type": "markdown",
   "metadata": {},
   "source": [
    "Create some dummy fevariables for doing top and bottom boundary calculations."
   ]
  },
  {
   "cell_type": "markdown",
   "metadata": {},
   "source": [
    "## Refine mesh"
   ]
  },
  {
   "cell_type": "code",
   "execution_count": 56,
   "metadata": {
    "collapsed": false
   },
   "outputs": [
    {
     "name": "stdout",
     "output_type": "stream",
     "text": [
      "Min\n",
      "(128, 0.0078140624999999998, 1.5001999999999998, 0.99960000000000093)\n",
      "('edges', 128)\n",
      "-- iteration 0 --\n",
      "| F( p_n ) |^2: 0.000125834660797\n",
      "| p_n+1 - p_n |^2: 1.06884342198\n",
      "-- iteration 1 --\n",
      "| F( p_n ) |^2: 4.05552698039e-31\n",
      "Min, Max element width: \n",
      "0.00781\n",
      "0.02344\n"
     ]
    }
   ],
   "source": [
    "#X-Axis\n",
    "\n",
    "if refineMesh:\n",
    "    mesh.reset()\n",
    "    axis = 0\n",
    "    origcoords = np.linspace(mesh.minCoord[axis], mesh.maxCoord[axis], mesh.elementRes[axis] + 1)\n",
    "    edge_rest_lengths = np.diff(origcoords)\n",
    "\n",
    "    deform_lengths = edge_rest_lengths.copy()\n",
    "    min_point =  (abs(mesh.maxCoord[axis]) - abs(mesh.minCoord[axis]))/2.\n",
    "    el_reduction = 0.5001\n",
    "    dx = mesh.maxCoord[axis] - min_point\n",
    "\n",
    "    deform_lengths = deform_lengths - \\\n",
    "                                    ((1.-el_reduction) *deform_lengths[0]) + \\\n",
    "                                    abs((origcoords[1:] - min_point))*((0.5*deform_lengths[0])/dx)\n",
    "\n",
    "    #print(edge_rest_lengths.shape, deform_lengths.shape)\n",
    "\n",
    "    sp.deform_1d(deform_lengths, mesh,axis = 'x',norm = 'Min', constraints = [])"
   ]
  },
  {
   "cell_type": "code",
   "execution_count": 57,
   "metadata": {
    "collapsed": false
   },
   "outputs": [],
   "source": [
    "axis = 1\n",
    "orgs = np.linspace(mesh.minCoord[axis], mesh.maxCoord[axis], mesh.elementRes[axis] + 1)\n",
    "\n",
    "value_to_constrain = 1.\n",
    "\n",
    "\n",
    "yconst = [(sp.find_closest(orgs, value_to_constrain), np.array([1.,0]))]\n"
   ]
  },
  {
   "cell_type": "code",
   "execution_count": 58,
   "metadata": {
    "collapsed": false
   },
   "outputs": [
    {
     "name": "stdout",
     "output_type": "stream",
     "text": [
      "Min\n",
      "(64, 0.0078870658520761357, 0.7531651102941177, 1.0313396825396852)\n",
      "('edges', 64)\n",
      "-- iteration 0 --\n",
      "| F( p_n ) |^2: 0.000271625821471\n",
      "| p_n+1 - p_n |^2: 0.552428881034\n",
      "-- iteration 1 --\n",
      "| F( p_n ) |^2: 4.30525000973e-06\n",
      "| p_n+1 - p_n |^2: 2.38073745816e-28\n",
      "Min, Max element width: \n",
      "0.00811\n",
      "0.02363\n"
     ]
    }
   ],
   "source": [
    "#Y-Axis\n",
    "if refineMesh:\n",
    "    #Y-Axis\n",
    "    axis = 1\n",
    "    origcoords = np.linspace(mesh.minCoord[axis], mesh.maxCoord[axis], mesh.elementRes[axis] + 1)\n",
    "    edge_rest_lengths = np.diff(origcoords)\n",
    "\n",
    "    deform_lengths = edge_rest_lengths.copy()\n",
    "    min_point =  (mesh.maxCoord[axis])\n",
    "    el_reduction = 0.5001\n",
    "    dx = mesh.maxCoord[axis]\n",
    "\n",
    "    deform_lengths = deform_lengths - \\\n",
    "                                    ((1.-el_reduction)*deform_lengths[0]) + \\\n",
    "                                    abs((origcoords[1:] - min_point))*((0.5*deform_lengths[0])/dx)\n",
    "\n",
    "    #print(edge_rest_lengths.shape, deform_lengths.shape)\n",
    "\n",
    "    sp.deform_1d(deform_lengths, mesh,axis = 'y',norm = 'Min', constraints = yconst)"
   ]
  },
  {
   "cell_type": "code",
   "execution_count": null,
   "metadata": {
    "collapsed": true
   },
   "outputs": [],
   "source": [
    "\n"
   ]
  },
  {
   "cell_type": "markdown",
   "metadata": {},
   "source": [
    "# ICs and BCs"
   ]
  },
  {
   "cell_type": "code",
   "execution_count": 59,
   "metadata": {
    "collapsed": true
   },
   "outputs": [],
   "source": [
    "# Initialise data.. Note that we are also setting boundary conditions here\n",
    "velocityField.data[:] = [0.,0.]\n",
    "pressureField.data[:] = 0.\n",
    "temperatureField.data[:] = 0.\n",
    "temperatureDotField.data[:] = 0.\n"
   ]
  },
  {
   "cell_type": "markdown",
   "metadata": {},
   "source": [
    "## Temp ICs"
   ]
  },
  {
   "cell_type": "code",
   "execution_count": 60,
   "metadata": {
    "collapsed": true
   },
   "outputs": [],
   "source": [
    "#Age function:\n",
    "def agefunc(x, szloc, vel = 100., dom = (-1.,1.), D = 2890.):\n",
    "    \"\"\"\n",
    "    Create a (linear) age function based on ridges being the sides of the model,\n",
    "    and subduction zone location at the dimesnionaless (model) position \"szloc\"\n",
    "    Args:\n",
    "        x (float): dimenisionless value to get age (horizontal coordinate)\n",
    "        szloc (float): dimensionless (model) horizntal extent\n",
    "        vel(float): in km/my\n",
    "        dom (tuple): domain boundary\n",
    "        D (float): dimensional domain depth\n",
    "        \n",
    "    Returns:\n",
    "        the age in millions of years\n",
    "    Raises:\n",
    "        TypeError: not implemented\n",
    "        ValueError: not implemented\n",
    "    \"\"\"\n",
    "    if x >= szloc:\n",
    "        #distance from ridge in km\n",
    "        dx = (dom[1] - x) * D\n",
    "        age = (dx)/vel\n",
    "    else:\n",
    "        dx = abs(dom[0] - x) * D\n",
    "        age = (dx)/vel\n",
    "    return age \n",
    "\n",
    "\n",
    "def tempfunc(age, kappa, depth,  t0=0.64):\n",
    "    \"\"\"\n",
    "    return dimensionless halfspace cooling model fucntion,\n",
    "    Args:\n",
    "        age (float): millions or years\n",
    "        kappa (float): diffusivity, m**2/s\n",
    "        depth (float): kilometers\n",
    "        t0 (float): the initial temperature of the halfspace\n",
    "    Returns:\n",
    "        dimensionless temp (0. - 1.)\n",
    "    Raises:\n",
    "        TypeError: not implemented\n",
    "        ValueError: not implemented\n",
    "    \"\"\"\n",
    "    #1000 in line below to convert back to km\n",
    "    secs = myts(age)\n",
    "    temp = t0*math.erf((depth)/(2*math.sqrt(secs*kappa)/1000))\n",
    "    return temp\n",
    "                       \n",
    "def lithdepthfunc(age, kappa):\n",
    "    \"\"\"\n",
    "    returns depth or thermal lithosphere in kilometers\n",
    "    Args:\n",
    "        age (float): millions or years\n",
    "        kappa (float): diffusivity, m**2/s\n",
    "    Returns:\n",
    "        depth kilometers\n",
    "    Raises:\n",
    "        TypeError: not implemented\n",
    "        ValueError: not implemented\n",
    "    \"\"\"\n",
    "    depth_metres = 2.32*math.sqrt(myts(age)*kappa)\n",
    "    return depth_metres/1000."
   ]
  },
  {
   "cell_type": "code",
   "execution_count": 61,
   "metadata": {
    "collapsed": false
   },
   "outputs": [],
   "source": [
    "#agefunc(0.2, off, vel = vel, dom = (MINX,MAXX))"
   ]
  },
  {
   "cell_type": "code",
   "execution_count": 62,
   "metadata": {
    "collapsed": false
   },
   "outputs": [
    {
     "name": "stderr",
     "output_type": "stream",
     "text": [
      "/Users/dansandiford/anaconda/lib/python2.7/site-packages/ipykernel/__main__.py:45: RuntimeWarning: divide by zero encountered in double_scalars\n"
     ]
    }
   ],
   "source": [
    "#Make the thermal boundary layer\n",
    "#Including a fudge that can reduce the depth of the thermal lithosphere\n",
    "fudge = 1.\n",
    "\n",
    "for index, coord in enumerate(mesh.data):\n",
    "    xloc = coord[0]\n",
    "    agema = agefunc(xloc, off, vel = vel, dom = (MINX,MAXX))\n",
    "    #print(agema)\n",
    "    if (1.-coord[1]) < (lithdepthfunc(agema, dp.k)*1e3/dp.LS)*fudge: #comparison of dimensionless (model) lengths\n",
    "        zlockm = ((1.- coord[1])* dp.LS)/1e3 # dimensional depth kms\n",
    "        t = tempfunc(agema, dp.k, zlockm,  t0=0.64)\n",
    "        temperatureField.data[index] = t        \n",
    "    else:\n",
    "        temperatureField.data[index] = 0.64"
   ]
  },
  {
   "cell_type": "code",
   "execution_count": 63,
   "metadata": {
    "collapsed": false
   },
   "outputs": [
    {
     "data": {
      "text/plain": [
       "0.06375414758206731"
      ]
     },
     "execution_count": 63,
     "metadata": {},
     "output_type": "execute_result"
    }
   ],
   "source": [
    "(lithdepthfunc(200., dp.k)*1e3)/dp.LS"
   ]
  },
  {
   "cell_type": "code",
   "execution_count": 64,
   "metadata": {
    "collapsed": false
   },
   "outputs": [
    {
     "data": {
      "text/plain": [
       "0.0"
      ]
     },
     "execution_count": 64,
     "metadata": {},
     "output_type": "execute_result"
    }
   ],
   "source": [
    "(lithdepthfunc(agema, dp.k)*1e3/dp.LS)"
   ]
  },
  {
   "cell_type": "markdown",
   "metadata": {},
   "source": [
    "## Slab perturbation"
   ]
  },
  {
   "cell_type": "code",
   "execution_count": null,
   "metadata": {
    "collapsed": true
   },
   "outputs": [],
   "source": [
    "\n"
   ]
  },
  {
   "cell_type": "code",
   "execution_count": 65,
   "metadata": {
    "collapsed": false
   },
   "outputs": [
    {
     "data": {
      "text/plain": [
       "156.6120635353484"
      ]
     },
     "execution_count": 65,
     "metadata": {},
     "output_type": "execute_result"
    }
   ],
   "source": [
    "lithdepthfunc(agefunc(off, off, vel), dp.k)"
   ]
  },
  {
   "cell_type": "code",
   "execution_count": 66,
   "metadata": {
    "collapsed": false
   },
   "outputs": [
    {
     "data": {
      "text/plain": [
       "3.2327199147519783e-09"
      ]
     },
     "execution_count": 66,
     "metadata": {},
     "output_type": "execute_result"
    }
   ],
   "source": [
    "MANTLETOCRUST/dp.LS"
   ]
  },
  {
   "cell_type": "code",
   "execution_count": 67,
   "metadata": {
    "collapsed": false
   },
   "outputs": [],
   "source": [
    "if not checkpointLoad:\n",
    "    import shapely\n",
    "    from shapely.geometry.point import Point\n",
    "    from shapely.geometry import Polygon\n",
    "\n",
    "    #Setup slab perturbation params (mostly dimensionles / model params here)\n",
    "    phi = 90. - theta\n",
    "    RocM = (Roc/dp.LS)*1e3\n",
    "    CrustM = MANTLETOCRUST\n",
    "    slabdepth = lithdepthfunc(agefunc(off, off, vel), dp.k)\n",
    "    slabdepthM = (lithdepthfunc(agefunc(off, off, vel), dp.k)/dp.LS)*1e3\n",
    "    Org = (0.+off, 1.-RocM)\n",
    "\n",
    "\n",
    "    #Shapely stuff\n",
    "\n",
    "    Oc = Point(Org).buffer(RocM)\n",
    "    Ic = Point(Org).buffer(RocM - slabdepthM)\n",
    "    Cc = Point(Org).buffer(RocM - CrustM)\n",
    "    dx = (RocM)/(np.math.tan((np.math.pi/180.)*phi))\n",
    "    if off > 1: \n",
    "        ptx = off + dx\n",
    "    else:\n",
    "        ptx = off - dx\n",
    "    #ptx = -1*(Rc)/(np.math.tan((np.math.pi/180.)*phi))\n",
    "    coords = ((0.+off, 1), (0.+off, 1.-RocM), (ptx, 1.))\n",
    "    Tri = Polygon(coords)\n",
    "    slabshape = Oc.difference(Ic).intersection(Tri)\n",
    "    crustshape = Oc.difference(Cc).intersection(Tri)\n",
    "    \n",
    "    #Assign temperatures in the perturbation region\n",
    "    for index, coord in enumerate(mesh.data):\n",
    "        pt = Point(coord)\n",
    "        if pt.within(slabshape):\n",
    "            #print(\"true\")\n",
    "            sd = (pt.distance(Oc.boundary)*dp.LS)/1e3\n",
    "            if sd < (lithdepthfunc(agefunc(off, off, vel = vel, dom = (MINX,MAXX)), dp.k))*fudge:\n",
    "                t = tempfunc(agefunc(off, off, vel = vel, dom = (MINX,MAXX)), dp.k, sd, t0=0.64)\n",
    "                temperatureField.data[index] = t\n",
    "            else: \n",
    "                temperatureField.data[index] = 0.64"
   ]
  },
  {
   "cell_type": "code",
   "execution_count": null,
   "metadata": {
    "collapsed": false
   },
   "outputs": [],
   "source": []
  },
  {
   "cell_type": "code",
   "execution_count": 68,
   "metadata": {
    "collapsed": false
   },
   "outputs": [],
   "source": [
    "# Get the actual sets \n",
    "#\n",
    "#  HJJJJJJH\n",
    "#  I      I\n",
    "#  I      I\n",
    "#  I      I\n",
    "#  HJJJJJJH\n",
    "#  \n",
    "#  Note that H = I & J \n",
    "\n",
    "# Note that we use operator overloading to combine sets\n",
    "# send boundary condition information to underworld\n",
    "IWalls = mesh.specialSets[\"MinI_VertexSet\"] + mesh.specialSets[\"MaxI_VertexSet\"]\n",
    "JWalls = mesh.specialSets[\"MinJ_VertexSet\"] + mesh.specialSets[\"MaxJ_VertexSet\"]\n",
    "TWalls = mesh.specialSets[\"MaxJ_VertexSet\"]\n",
    "BWalls = mesh.specialSets[\"MinJ_VertexSet\"]"
   ]
  },
  {
   "cell_type": "code",
   "execution_count": null,
   "metadata": {
    "collapsed": true
   },
   "outputs": [],
   "source": []
  },
  {
   "cell_type": "code",
   "execution_count": 69,
   "metadata": {
    "collapsed": false
   },
   "outputs": [],
   "source": [
    "# Now setup the dirichlet boundary condition\n",
    "# Note that through this object, we are flagging to the system \n",
    "# that these nodes are to be considered as boundary conditions. \n",
    "# Also note that we provide a tuple of sets.. One for the Vx, one for Vy.\n",
    "freeslipBC = uw.conditions.DirichletCondition(     variable=velocityField, \n",
    "                                              indexSetsPerDof=(TWalls, JWalls) )\n",
    "\n",
    "# also set dirichlet for temp field\n",
    "tempBC = uw.conditions.DirichletCondition(     variable=temperatureField, \n",
    "                                              indexSetsPerDof=(JWalls,) )"
   ]
  },
  {
   "cell_type": "markdown",
   "metadata": {},
   "source": [
    "##Add Random 125 K temp perturbation\n"
   ]
  },
  {
   "cell_type": "markdown",
   "metadata": {
    "collapsed": true
   },
   "source": [
    "tempNump = temperatureField.data\n",
    "\n",
    "#In gerneral we only want to do this on the initial setup, not restarts\n",
    "\n",
    "if not checkpointLoad:\n",
    "    for index, coord in enumerate(mesh.data):\n",
    "        pertCoeff = (0.05*(np.random.rand(1)[0] - 0.5)) #this should create values between [-0.5,0.5] from uniform dist.\n",
    "        ict = tempNump[index]\n",
    "        tempNump[index] = ict + pertCoeff"
   ]
  },
  {
   "cell_type": "markdown",
   "metadata": {},
   "source": [
    "##Reset bottom Dirichlet conds."
   ]
  },
  {
   "cell_type": "code",
   "execution_count": 70,
   "metadata": {
    "collapsed": false
   },
   "outputs": [],
   "source": [
    "\n",
    "# Set temp boundaries \n",
    "# on the boundaries\n",
    "for index in mesh.specialSets[\"MinJ_VertexSet\"]:\n",
    "    temperatureField.data[index] = ndp.TR\n",
    "for index in mesh.specialSets[\"MaxJ_VertexSet\"]:\n",
    "    temperatureField.data[index] = ndp.TS"
   ]
  },
  {
   "cell_type": "code",
   "execution_count": 71,
   "metadata": {
    "collapsed": false
   },
   "outputs": [],
   "source": [
    "\n",
    "figVelocityMag = glucifer.Figure(figsize=(1024,384))\n",
    "figVelocityMag.append( glucifer.objects.Surface(mesh, temperatureField) )\n",
    "figVelocityMag.show()\n",
    "figVelocityMag.append(glucifer.objects.Mesh(mesh))\n",
    "figVelocityMag.save_database('test.gldb')"
   ]
  },
  {
   "cell_type": "code",
   "execution_count": null,
   "metadata": {
    "collapsed": true
   },
   "outputs": [],
   "source": []
  },
  {
   "cell_type": "markdown",
   "metadata": {},
   "source": [
    "# Particles"
   ]
  },
  {
   "cell_type": "code",
   "execution_count": 73,
   "metadata": {
    "collapsed": false
   },
   "outputs": [],
   "source": [
    "###########\n",
    "#Material Swarm and variables\n",
    "###########\n",
    "\n",
    "gSwarm = uw.swarm.Swarm(mesh=mesh)\n",
    "materialVariable = gSwarm.add_variable( dataType=\"int\", count=1 )\n",
    "rockIntVar = gSwarm.add_variable( dataType=\"double\", count=1 )\n",
    "airIntVar = gSwarm.add_variable( dataType=\"double\", count=1 )\n",
    "lithIntVar = gSwarm.add_variable( dataType=\"double\", count=1 )\n",
    "dummyIntVar = gSwarm.add_variable( dataType=\"double\", count=1 ) #This one is used so we can safely ignore values in the air region\n",
    "\n",
    "varlist = [materialVariable, rockIntVar, airIntVar, lithIntVar]\n",
    "varnames = ['materialVariable', 'rockIntVar', 'airIntVar', 'lithIntVar']"
   ]
  },
  {
   "cell_type": "code",
   "execution_count": 74,
   "metadata": {
    "collapsed": false
   },
   "outputs": [],
   "source": [
    "###########\n",
    "#Swarms for surface integrals when using Sticky air\n",
    "###########\n",
    "\n",
    "snum = 1000.\n",
    "dx = (mesh.data[:,0].max()- mesh.data[:,0].min())/snum\n",
    "yp = 0.9947 #1. - yelsize/2. at res = 96\n",
    "\n",
    "mesh.data[:,0].max()\n",
    "xps = np.linspace(mesh.data[:,0].min(),mesh.data[:,0].max(), snum)\n",
    "yps = [yp for i in xps]\n",
    "\n",
    "surfintswarm = uw.swarm.Swarm( mesh=mesh )\n",
    "dumout = surfintswarm.add_particles_with_coordinates(np.array((xps,yps)).T)\n",
    "\n",
    "yps = [ 1.- yp  for i in xps]\n",
    "\n",
    "baseintswarm = uw.swarm.Swarm( mesh=mesh)\n",
    "dumout = baseintswarm.add_particles_with_coordinates(np.array((xps,yps)).T)"
   ]
  },
  {
   "cell_type": "markdown",
   "metadata": {},
   "source": [
    "#Initialise swarm variables, or Swarm checkpoint load"
   ]
  },
  {
   "cell_type": "code",
   "execution_count": null,
   "metadata": {
    "collapsed": false
   },
   "outputs": [],
   "source": []
  },
  {
   "cell_type": "code",
   "execution_count": 75,
   "metadata": {
    "collapsed": false
   },
   "outputs": [],
   "source": [
    "mantleIndex = 0\n",
    "lithosphereIndex = 1\n",
    "eclIndex = 2\n",
    "crustIndex = 3\n",
    "airIndex = 4\n",
    "\n",
    "\n",
    "\n",
    "\n",
    "if checkpointLoad:\n",
    "    checkpointLoadDir = natsort.natsorted(checkdirs)[-1]\n",
    "    temperatureField.load(os.path.join(checkpointLoadDir, \"temperatureField\" + \".hdf5\"))\n",
    "    pressureField.load(os.path.join(checkpointLoadDir, \"pressureField\" + \".hdf5\"))\n",
    "    velocityField.load(os.path.join(checkpointLoadDir, \"velocityField\" + \".hdf5\"))\n",
    "    gSwarm.load(os.path.join(checkpointLoadDir, \"swarm\" + \".h5\"))\n",
    "    for ix in range(len(varlist)):\n",
    "        varb = varlist[ix]\n",
    "        varb.load(os.path.join(checkpointLoadDir,varnames[ix] + \".h5\"))\n",
    "\n",
    "else:\n",
    "\n",
    "    # Layouts are used to populate the swarm across the whole domain\n",
    "    # Create the layout object\n",
    "    layout = uw.swarm.layouts.PerCellRandomLayout(swarm=gSwarm, particlesPerCell=ppc)\n",
    "    # Now use it to populate.\n",
    "    gSwarm.populate_using_layout( layout=layout )\n",
    "\n",
    "    # Lets initialise the 'materialVariable' data to represent different materials\n",
    "    # Set the material to heavy everywhere via the numpy array\n",
    "    materialVariable.data[:] = mantleIndex\n",
    "    \n",
    "    \n",
    "    #Set initial air and crust materials (allow the graph to take care of lithsophere)\n",
    "    #########\n",
    "    #This initial material setup will be model dependent\n",
    "    #########\n",
    "    for particleID in range(gSwarm.particleCoordinates.data.shape[0]):\n",
    "        if (1. - gSwarm.particleCoordinates.data[particleID][1]) < 0:\n",
    "                 materialVariable.data[particleID] = airIndex\n",
    "        elif (1. - gSwarm.particleCoordinates.data[particleID][1]) < MANTLETOCRUST:\n",
    "                 materialVariable.data[particleID] = crustIndex\n"
   ]
  },
  {
   "cell_type": "markdown",
   "metadata": {},
   "source": [
    "#Material Graphs"
   ]
  },
  {
   "cell_type": "code",
   "execution_count": 76,
   "metadata": {
    "collapsed": false
   },
   "outputs": [],
   "source": [
    "##############\n",
    "#Important: This is a quick fix for a bug that arises in parallel runs\n",
    "##############\n",
    "material_list = [0,1,2,3,4]\n"
   ]
  },
  {
   "cell_type": "code",
   "execution_count": 82,
   "metadata": {
    "collapsed": false
   },
   "outputs": [
    {
     "name": "stdout",
     "output_type": "stream",
     "text": [
      "unique values after swarm has loaded:[0 1 2 3 4]\n"
     ]
    }
   ],
   "source": [
    "print( \"unique values after swarm has loaded:\" + str(np.unique(materialVariable.data[:])))\n"
   ]
  },
  {
   "cell_type": "code",
   "execution_count": null,
   "metadata": {
    "collapsed": false
   },
   "outputs": [],
   "source": []
  },
  {
   "cell_type": "code",
   "execution_count": 83,
   "metadata": {
    "collapsed": false
   },
   "outputs": [],
   "source": [
    "\n",
    "\n",
    "#All depth conditions are given as (km/D) where D is the length scale,\n",
    "#note that 'model depths' are used, e.g. 1-z, where z is the vertical Underworld coordinate\n",
    "#All temp conditions are in dimensionless temp. [0. - 1.]\n",
    "\n",
    "#######Graph object\n",
    "DG = nx.DiGraph(field=\"Depth\")\n",
    "\n",
    "#######Nodes\n",
    "#Note that the order of materials, deepest to shallowest is important\n",
    "DG.add_node(0, mat='mantle')\n",
    "DG.add_node(1, mat='lithosphere')\n",
    "DG.add_node(2, mat='ecl')\n",
    "DG.add_node(3, mat='crust')\n",
    "DG.add_node(4, mat='air')\n",
    "\n",
    "\n",
    "labels=dict((n,d['mat']) for n,d in DG.nodes(data=True))\n",
    "pos=nx.spring_layout(DG)\n",
    "\n",
    "\n",
    "#######Edges\n",
    "#anything to air\n",
    "DG.add_edges_from([(0,4),(1,4), (3,4)])\n",
    "DG[0][4]['depthcondition'] = -1*TOPOHEIGHT\n",
    "DG[1][4]['depthcondition'] = -1*TOPOHEIGHT\n",
    "DG[3][4]['depthcondition'] = -1*TOPOHEIGHT\n",
    "\n",
    "\n",
    "#Anything to mantle\n",
    "DG.add_edges_from([(3,0), (1,0), (2,0)])\n",
    "DG[3][0]['depthcondition'] = CRUSTTOMANTLE #Normal crust\n",
    "DG[1][0]['depthcondition'] = LITHTOMANTLE #This means we're going to kill lithosphere at the 660.\n",
    "DG[2][0]['depthcondition'] = CRUSTTOMANTLE #Eclogite crust\n",
    "\n",
    "#Anything to lithsphere\n",
    "DG.add_edges_from([(0,1),(4,1)])\n",
    "DG[0][1]['depthcondition'] = MANTLETOLITH\n",
    "DG[0][1]['avgtempcondition'] = 0.75*AVGTEMP #definition of thermal lithosphere\n",
    "\n",
    "\n",
    "#Anything to crust\n",
    "DG.add_edges_from([(0,3), (1,3), (4,3)])\n",
    "DG[0][3]['depthcondition'] = MANTLETOCRUST\n",
    "DG[1][3]['depthcondition'] = MANTLETOCRUST\n",
    "DG[4][3]['depthcondition'] = TOPOHEIGHT\n",
    "\n",
    "#crust to eclogite\n",
    "DG.add_edges_from([(3,2)])\n",
    "DG[3][2]['depthcondition'] =CRUSTTOECL\n",
    "\n",
    "\n",
    "\n",
    "\n"
   ]
  },
  {
   "cell_type": "code",
   "execution_count": 84,
   "metadata": {
    "collapsed": false
   },
   "outputs": [
    {
     "data": {
      "text/plain": [
       "0.10380622837370242"
      ]
     },
     "execution_count": 84,
     "metadata": {},
     "output_type": "execute_result"
    }
   ],
   "source": [
    "CRUSTTOMANTLE"
   ]
  },
  {
   "cell_type": "code",
   "execution_count": 85,
   "metadata": {
    "collapsed": false
   },
   "outputs": [],
   "source": [
    "#material_list"
   ]
  },
  {
   "cell_type": "code",
   "execution_count": 86,
   "metadata": {
    "collapsed": false
   },
   "outputs": [],
   "source": [
    "remove_nodes = []\n",
    "for node in DG.nodes():\n",
    "    if not node in material_list:\n",
    "        remove_nodes.append(node)\n",
    "        \n",
    "for rmnode in remove_nodes:\n",
    "    DG.remove_node(rmnode)"
   ]
  },
  {
   "cell_type": "code",
   "execution_count": 87,
   "metadata": {
    "collapsed": false
   },
   "outputs": [
    {
     "data": {
      "text/plain": [
       "[0, 1, 2, 3, 4]"
      ]
     },
     "execution_count": 87,
     "metadata": {},
     "output_type": "execute_result"
    }
   ],
   "source": [
    "DG.nodes()"
   ]
  },
  {
   "cell_type": "code",
   "execution_count": 88,
   "metadata": {
    "collapsed": true
   },
   "outputs": [],
   "source": [
    "#A Dictionary to map strings in the graph (e.g. 'depthcondition') to particle data arrays\n",
    "\n",
    "particledepths = 1. - gSwarm.particleCoordinates.data[:,1]\n",
    "particletemps = temperatureField.evaluate(gSwarm)[:,0]\n",
    "\n",
    "conditionmap = {}\n",
    "\n",
    "conditionmap['depthcondition'] = {}\n",
    "conditionmap['depthcondition']['data'] = particledepths\n",
    "conditionmap['avgtempcondition'] = {}\n",
    "conditionmap['avgtempcondition']['data'] = particletemps"
   ]
  },
  {
   "cell_type": "code",
   "execution_count": 89,
   "metadata": {
    "collapsed": true
   },
   "outputs": [],
   "source": [
    "def update_swarm(graph, particleIndex):\n",
    "    \"\"\"\n",
    "    This function takes the materials graph (networkx.DiGraph), and a particle index,\n",
    "    then determines if a material update is required \n",
    "    and if so, returns the new materialindex\n",
    "    Args:\n",
    "        graph (networkx.DiGraph): Directed multigraph representing the transformation of material types\n",
    "        particleIndex (int): the particle index as corressponding to the index in the swarm data arrays\n",
    "    Returns:\n",
    "        if update is required the function returns the the new material variable (int) \n",
    "        else returns None\n",
    "    Raises:\n",
    "        TypeError: not implemented\n",
    "        ValueError: not implemented\n",
    "    \"\"\"\n",
    "    ##Egde gives links to other materials, we then query the conditions to see if we should change materials\n",
    "    matId = materialVariable.data[particleIndex][0]\n",
    "    innerchange = False\n",
    "    outerchange = False\n",
    "    for edge in graph[matId]:\n",
    "        if outerchange:\n",
    "            break\n",
    "        for cond in graph[matId][edge].keys():\n",
    "            outerchange = False\n",
    "            if innerchange: #found a complete transition, break inner loop\n",
    "                break\n",
    "            currentparticlevalue = conditionmap[cond]['data'][particleIndex]\n",
    "            crossover = graph[matId][edge][cond]\n",
    "            if ((matId > edge) and (currentparticlevalue > crossover)):\n",
    "                innerchange = False # continue on, \n",
    "                if graph[matId][edge].keys()[-1] == cond:\n",
    "                    outerchange = True\n",
    "                    innerchange = edge\n",
    "                    break\n",
    "            elif ((matId < edge) and (currentparticlevalue < crossover)):\n",
    "                innerchange = False\n",
    "                if graph[matId][edge].keys()[-1] == cond:\n",
    "                    outerchange = True\n",
    "                    innerchange = edge\n",
    "                    break\n",
    "            else:\n",
    "                #condition not met, break outer loop, go to next edge, outerchange should still be False\n",
    "                break\n",
    "    if type(innerchange) == int:\n",
    "        return innerchange"
   ]
  },
  {
   "cell_type": "code",
   "execution_count": 90,
   "metadata": {
    "collapsed": true
   },
   "outputs": [],
   "source": [
    "# Set the material to heavy everywhere via the numpy array\n",
    "\n",
    "if not checkpointLoad:\n",
    "    materialVariable.data[:] = mantleIndex\n",
    "    def in_shape(arr, shape):\n",
    "        \"\"\"\n",
    "        arr: coordinates of point\n",
    "        This function determines whether a point is inside or outside a shape /\n",
    "        \"\"\"\n",
    "        pt = Point(arr[0], arr[1])\n",
    "        return shape.contains(pt)\n",
    "\n",
    "    lithtemp = 0.95*0.64\n",
    "    tempswarm = temperatureField.evaluate(gSwarm)[:,0]\n",
    "\n",
    "    #At this point, we only have to assign any materials that are defined by setup shapes,\n",
    "    #the rest of the materials will be assigned using the materials graph\n",
    "\n",
    "    for particleID in range(gSwarm.particleCoordinates.data.shape[0]):\n",
    "        if gSwarm.particleCoordinates.data[particleID][1] > (1.0 - CrustM) or in_shape(gSwarm.particleCoordinates.data[particleID], crustshape):\n",
    "            materialVariable.data[particleID] =  crustIndex"
   ]
  },
  {
   "cell_type": "code",
   "execution_count": 92,
   "metadata": {
    "collapsed": false
   },
   "outputs": [],
   "source": [
    "#Cleanse the swarm of its sins\n",
    "#For some Material Graphs, the graph may have to be treaversed more than once\n",
    "\n",
    "check = -1\n",
    "number_updated = 1\n",
    "\n",
    "while number_updated != 0:\n",
    "    number_updated = 0\n",
    "    for particleID in range(gSwarm.particleCoordinates.data.shape[0]):\n",
    "        check = update_swarm(DG, particleID)\n",
    "        if check > -1:\n",
    "            number_updated += 1\n",
    "            materialVariable.data[particleID] = check"
   ]
  },
  {
   "cell_type": "code",
   "execution_count": null,
   "metadata": {
    "collapsed": false
   },
   "outputs": [],
   "source": []
  },
  {
   "cell_type": "code",
   "execution_count": 93,
   "metadata": {
    "collapsed": false
   },
   "outputs": [
    {
     "data": {
      "text/html": [
       "<img src='data:image/png;base64,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'>"
      ],
      "text/plain": [
       "<IPython.core.display.HTML object>"
      ]
     },
     "execution_count": 93,
     "metadata": {},
     "output_type": "execute_result"
    }
   ],
   "source": [
    "figMat = glucifer.Figure()\n",
    "figMat.append( glucifer.objects.Points(gSwarm,materialVariable, colours='brown white blue red black'))\n",
    "#figMat.append( glucifer.objects.Mesh(mesh))\n",
    "#figMat.save_database('test.gldb')\n",
    "figMat.show()"
   ]
  },
  {
   "cell_type": "markdown",
   "metadata": {},
   "source": [
    "##Set the values for the masking swarms"
   ]
  },
  {
   "cell_type": "code",
   "execution_count": 167,
   "metadata": {
    "collapsed": false
   },
   "outputs": [],
   "source": [
    "#Setup up a masking Swarm variable for the integrations.\n",
    "#These should be rebuilt at same frequency as the metric calcualtions\n",
    "\n",
    "rockIntVar.data[:] = 0.\n",
    "notair = np.where(materialVariable.data != airIndex)\n",
    "rockIntVar.data[notair] = 1.\n",
    "\n",
    "airIntVar.data[:] = 0.\n",
    "notrock = np.where(materialVariable.data == airIndex)\n",
    "airIntVar.data[notrock] = 1.\n",
    "\n",
    "lithIntVar.data[:] = 0.\n",
    "islith = np.where((materialVariable.data == lithosphereIndex) | (materialVariable.data == crustIndex))\n",
    "lithIntVar.data[islith] = 1.\n",
    "\n",
    "dummyIntVar.data[:] = 1.\n",
    "notrock = np.where(materialVariable.data == airIndex)\n",
    "dummyIntVar.data[notrock] = 1e10  #We'll multiply certain swarm variables by this guy,which\n",
    "#will allow us grab minimum values and assume they are from the rock part"
   ]
  },
  {
   "cell_type": "markdown",
   "metadata": {
    "collapsed": false
   },
   "source": [
    "#Material properties\n"
   ]
  },
  {
   "cell_type": "code",
   "execution_count": 168,
   "metadata": {
    "collapsed": false
   },
   "outputs": [],
   "source": [
    "# The yeilding of the upper slab is dependent on the strain rate.\n",
    "strainRate_2ndInvariant = fn.tensor.second_invariant( \n",
    "                            fn.tensor.symmetric( \n",
    "                            velocityField.fn_gradient ))\n",
    "\n",
    "\n",
    "coordinate = fn.input()\n",
    "depth = 1. - coordinate[1]\n",
    "\n",
    "#Determine yield criterion for depth (rather than pressure as given in Crameri)\n",
    "#Scaling is same as van Heck and Tackley, EPSL, 2011\n",
    "lithopressuregrad = dp.rho*dp.g*(dp.LS)**3/(dp.eta0*dp.k)"
   ]
  },
  {
   "cell_type": "code",
   "execution_count": 169,
   "metadata": {
    "collapsed": false
   },
   "outputs": [
    {
     "name": "stdout",
     "output_type": "stream",
     "text": [
      "true\n"
     ]
    }
   ],
   "source": [
    "############\n",
    "#Mantle\n",
    "############\n",
    "\n",
    "#Linear viscosity\n",
    "arhennius = fn.misc.min(ndp.up_visc,fn.math.exp(((ndp.E + ndp.V*(1.-coordinate[1]))/\n",
    "                                         (temperatureField + ndp.TS)) - ((ndp.E + ndp.V*(1.- ndp.RD))/(ndp.TR + ndp.TS))))\n",
    "\n",
    "#lower_mantle = True\n",
    "#melt_viscosity_reduction = True\n",
    "\n",
    "#Quick implementation of the lower mantle viscosity increase \n",
    "a = 1.\n",
    "B = 30.\n",
    "d0 = 800e3/dp.LS #Similar fudge to Bello et al. \n",
    "ds = d0/10.\n",
    "if lower_mantle:\n",
    "    print(\"true\")\n",
    "    inner1 = 1. - 0.5*(1. - fn.math.tanh(((d0)-(1.- coordinate[1]))/(ds)))\n",
    "    modfac = a*fn.math.exp(np.log(B)*inner1)\n",
    "    arhennius = arhennius*modfac \n",
    "    \n",
    "#implementation of the melt viscosity reduction\n",
    "Tmvp = 0.5\n",
    "if melt_viscosity_reduction:\n",
    "    mvptest =  fn.branching.conditional( [ (temperatureField > (Tmvp + 2.*(1. - coordinate[1])) , 1. ),   (         True, 0.1) ] )\n",
    "    arhennius = arhennius*mvptest\n",
    "\n",
    "#Psuedo-plastic \n",
    "ys =  ndp.cohesion + (depth*ndp.fc*lithopressuregrad)\n",
    "#ys =  ndp.fc*lithopressuregrad*(30e3/dp.LS) # this is the byerlee strength at 30 km\n",
    "yss = fn.misc.max(ndp.cohesion, ys)\n",
    "plasticvisc = yss*(math.sqrt(2))/(strainRate_2ndInvariant*2.)\n",
    "plastic = fn.misc.max(ndp.low_visc,plasticvisc)\n",
    "#combine these\n",
    "mantleviscosityFn = fn.exception.SafeMaths(fn.misc.min(arhennius, plastic))\n",
    "\n",
    "############\n",
    "#crust\n",
    "############\n",
    "\n",
    "\n",
    "\n",
    "ysc = (ndp.cohesion/ndp.cohesion_reduce) + (depth*(ndp.fc/100.)*lithopressuregrad)\n",
    "#ysc = ys/100.\n",
    "ycs = fn.misc.max((ndp.cohesion/ndp.cohesion_reduce), ysc)\n",
    "crustplasticvisc = ycs*(math.sqrt(2))/(strainRate_2ndInvariant*2.)\n",
    "crustplastic = fn.misc.max(ndp.low_visc,crustplasticvisc) \n",
    "crustviscosityFn = fn.exception.SafeMaths(fn.misc.min(arhennius, crustplastic))"
   ]
  },
  {
   "cell_type": "code",
   "execution_count": 170,
   "metadata": {
    "collapsed": false
   },
   "outputs": [],
   "source": [
    "#figStrainRate = glucifer.Figure()\n",
    "#figStrainRate.append( glucifer.objects.Surface(mesh, mvptest))\n",
    "#figStrainRate.show()"
   ]
  },
  {
   "cell_type": "code",
   "execution_count": 171,
   "metadata": {
    "collapsed": false
   },
   "outputs": [
    {
     "data": {
      "text/html": [
       "<img src='data:image/png;base64,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'>"
      ],
      "text/plain": [
       "<IPython.core.display.HTML object>"
      ]
     },
     "execution_count": 171,
     "metadata": {},
     "output_type": "execute_result"
    }
   ],
   "source": [
    "figStrainRate = glucifer.Figure()\n",
    "figStrainRate.append( glucifer.objects.Surface(mesh, arhennius, logScale=True))\n",
    "figStrainRate.show()"
   ]
  },
  {
   "cell_type": "markdown",
   "metadata": {},
   "source": [
    "Set up simulation parameters and functions\n",
    "====\n",
    "\n",
    "Here the functions for density, viscosity etc. are set. These functions and/or values are preserved for the entire simulation time. "
   ]
  },
  {
   "cell_type": "code",
   "execution_count": 162,
   "metadata": {
    "collapsed": false
   },
   "outputs": [
    {
     "data": {
      "text/plain": [
       "<underworld.function._function.add at 0x11d2c24d0>"
      ]
     },
     "execution_count": 162,
     "metadata": {},
     "output_type": "execute_result"
    }
   ],
   "source": [
    "(ndp.RA*temperatureField + ndp.Crust_RA)"
   ]
  },
  {
   "cell_type": "code",
   "execution_count": 163,
   "metadata": {
    "collapsed": false
   },
   "outputs": [],
   "source": [
    "# Here we set a viscosity value of '1.' for both materials\n",
    "viscosityMapFn = fn.branching.map( fn_key = materialVariable,\n",
    "                         mapping = {airIndex:ndp.StAeta0, \n",
    "                                    lithosphereIndex:mantleviscosityFn, \n",
    "                                    crustIndex:crustviscosityFn,\n",
    "                                    mantleIndex:mantleviscosityFn, \n",
    "                                    eclIndex:crustviscosityFn} )\n",
    "\n",
    "densityMapFn = fn.branching.map( fn_key = materialVariable,\n",
    "                         mapping = {airIndex:ndp.StA_RA, \n",
    "                                    lithosphereIndex:ndp.RA*temperatureField, \n",
    "                                    crustIndex:ndp.RA*temperatureField + ndp.Crust_RA, \n",
    "                                    mantleIndex:ndp.RA*temperatureField, \n",
    "                                    eclIndex:ndp.RA*temperatureField + ndp.Ecl_RA} )\n",
    "\n",
    "# Define our gravity using a python tuple (this will be automatically converted to a function)\n",
    "gravity = ( 0.0, 1.0 )\n",
    "\n",
    "buoyancyFn = gravity*densityMapFn"
   ]
  },
  {
   "cell_type": "code",
   "execution_count": 164,
   "metadata": {
    "collapsed": false
   },
   "outputs": [
    {
     "data": {
      "text/plain": [
       "0.0"
      ]
     },
     "execution_count": 164,
     "metadata": {},
     "output_type": "execute_result"
    }
   ],
   "source": [
    "ndp.Crust_RA"
   ]
  },
  {
   "cell_type": "markdown",
   "metadata": {},
   "source": [
    "Build the Stokes system, solvers, advection-diffusion\n",
    "------\n",
    "\n",
    "Setup linear Stokes system to get the initial velocity."
   ]
  },
  {
   "cell_type": "code",
   "execution_count": 165,
   "metadata": {
    "collapsed": false
   },
   "outputs": [],
   "source": [
    "stokesPIC = uw.systems.Stokes( velocityField = velocityField, \n",
    "                               pressureField = pressureField,\n",
    "                               #swarm         = gSwarm, \n",
    "                               conditions    = [freeslipBC,],\n",
    "                               fn_viscosity   = arhennius, \n",
    "                               fn_bodyforce   = buoyancyFn,\n",
    "                               swarm=gSwarm)\n"
   ]
  },
  {
   "cell_type": "markdown",
   "metadata": {},
   "source": [
    "We do one solve with linear viscosity to get the initial strain rate invariant. This solve step also calculates a 'guess' of the the velocity field based on the linear system, which is used later in the non-linear solver."
   ]
  },
  {
   "cell_type": "code",
   "execution_count": 166,
   "metadata": {
    "collapsed": true
   },
   "outputs": [],
   "source": [
    "#We do one solve with linear viscosity to get the initial strain rate invariant. \n",
    "#This solve step also calculates a 'guess' of the the velocity field based on the linear system, \n",
    "#which is used later in the non-linear solver.\n",
    "\n",
    "solver = uw.systems.Solver(stokesPIC)\n",
    "# If not doing a restart, do a solve on the non-plastic system\n",
    "if not checkpointLoad:\n",
    "    solver.solve()"
   ]
  },
  {
   "cell_type": "code",
   "execution_count": 167,
   "metadata": {
    "collapsed": false
   },
   "outputs": [],
   "source": [
    "#Switch particle escape on, this will also trigger the inflow population control \n",
    "gSwarm.particleEscape = True"
   ]
  },
  {
   "cell_type": "code",
   "execution_count": 381,
   "metadata": {
    "collapsed": false
   },
   "outputs": [],
   "source": [
    "####################\n",
    "#Add the non-linear viscosity to the Stokes system\n",
    "stokesPIC.fn_viscosity = viscosityMapFn\n",
    "###################\n",
    "\n",
    "#Set more advanced solver option\n",
    "solver.options.main.Q22_pc_type='gkgdiag'\n",
    "#solver.options.A11.ksp_rtol=1e-2\n",
    "#solver.options.scr.ksp_rtol=1e-3\n",
    "#solver.options.A11.ksp_type=\"cg\"\n",
    "solver.options.scr.use_previous_guess = True\n",
    "#solver.options.scr.ksp_set_min_it_converge = 1\n",
    "#solver.options.main.penalty=10.0\n",
    "\n",
    "#solver.options.mg.levels = 3\n",
    "#solver.options.main.remove_constant_pressure_null_space=True\n",
    "#solver.options.main.penalty = 1e2\n",
    "\n",
    "solver.options.A11.ksp_rtol=1e-4\n",
    "solver.options.scr.ksp_rtol=1e-4\n",
    "\n",
    "solver.options.A11.ksp_monitor=''\n",
    "solver.options.A11.ksp_converged_reason=''"
   ]
  },
  {
   "cell_type": "code",
   "execution_count": 382,
   "metadata": {
    "collapsed": true
   },
   "outputs": [],
   "source": [
    "solver.solve(nonLinearIterate=True)"
   ]
  },
  {
   "cell_type": "markdown",
   "metadata": {
    "collapsed": false
   },
   "source": [
    "solver = uw.systems.Solver(stokesPIC2) # altered from PIC2\n",
    "\n",
    "\n",
    "\n",
    "#Set more advanced solver option\n",
    "solver.options.main.Q22_pc_type='uw'\n",
    "solver.options.A11.ksp_rtol=1e-5\n",
    "solver.options.scr.ksp_rtol=1e-5\n",
    "#solver.options.A11.ksp_type=\"cg\"\n",
    "solver.options.scr.use_previous_guess = True\n",
    "solver.options.scr.ksp_set_min_it_converge = 1\n",
    "\n",
    "solver.options.mg.levels = 3\n",
    "\n",
    "#solver.options.A11.ksp_monitor=''\n",
    "#solver.options.A11.ksp_converged_reason='"
   ]
  },
  {
   "cell_type": "markdown",
   "metadata": {},
   "source": [
    "Solve for initial pressure and velocity using a quick non-linear Picard iteration\n"
   ]
  },
  {
   "cell_type": "markdown",
   "metadata": {},
   "source": [
    "Create an advective-diffusive system\n",
    "=====\n",
    "\n",
    "Setup the system in underworld by flagging the temperature and velocity field variables."
   ]
  },
  {
   "cell_type": "code",
   "execution_count": 356,
   "metadata": {
    "collapsed": false
   },
   "outputs": [],
   "source": [
    "#uw.systems.AdvectionDiffusion?"
   ]
  },
  {
   "cell_type": "code",
   "execution_count": 168,
   "metadata": {
    "collapsed": false
   },
   "outputs": [],
   "source": [
    "#Create advdiff system\n",
    "\n",
    "\n",
    "\n",
    "advDiff = uw.systems.AdvectionDiffusion( phiField       = temperatureField, \n",
    "                                         phiDotField    = temperatureDotField, \n",
    "                                         velocityField  = velocityField, \n",
    "                                         fn_diffusivity = 1.0,\n",
    "                                         fn_sourceTerm = 0.,\n",
    "                                         conditions     = [tempBC,] )\n",
    "\n",
    "\n",
    "\n",
    "advector = uw.systems.SwarmAdvector( swarm         = gSwarm, \n",
    "                                     velocityField = velocityField, \n",
    "                                     order         = 1)"
   ]
  },
  {
   "cell_type": "markdown",
   "metadata": {},
   "source": [
    "Metrics for benchmark\n",
    "=====\n",
    "\n",
    "Define functions to be used in the time loop. For cases 1-4, participants were asked to report a number of diagnostic quantities to be measured after reaching steady state:\n",
    "\n",
    "* Average temp... $$  \\langle T \\rangle  = \\int^1_0 \\int^1_0 T \\, dxdy $$\n",
    "* Top and bottom Nusselt numbers... $$N = \\int^1_0 \\frac{\\partial T}{\\partial y} \\rvert_{y=0/1} \\, dx$$\n",
    "* RMS velocity over the whole domain, surface and max velocity at surface\n",
    "* max and min viscosity over the whole domain\n",
    "* average rate of work done against gravity...$$\\langle W \\rangle = \\int^1_0 \\int^1_0 T u_y \\, dx dy$$\n",
    "* and the average rate of viscous dissipation...$$\\langle \\Phi \\rangle = \\int^1_0 \\int^1_0 \\tau_{ij} \\dot \\epsilon_{ij} \\, dx dy$$\n",
    "\n",
    "* In steady state, if thermal energy is accurately conserved, the difference between $\\langle W \\rangle$ and $\\langle \\Phi \\rangle / Ra$ must vanish, so also reported is the percentage error: \n",
    "\n",
    "$$ \\delta = \\frac{\\lvert \\langle W \\rangle - \\frac{\\langle \\Phi \\rangle}{Ra} \\rvert}{max \\left(  \\langle W \\rangle,  \\frac{\\langle \\Phi \\rangle}{Ra}\\right)} \\times 100% $$"
   ]
  },
  {
   "cell_type": "code",
   "execution_count": 169,
   "metadata": {
    "collapsed": false
   },
   "outputs": [],
   "source": [
    "#Setup some Integrals. We want these outside the main loop...\n",
    "tempVariable = gSwarm.add_variable( dataType=\"double\", count=1 )\n",
    "tempVariable.data[:] = temperatureField.evaluate(gSwarm)[:]\n",
    "tempint = uw.utils.Integral((tempVariable*rockIntVar), mesh)\n",
    "\n",
    "\n",
    "areaint = uw.utils.Integral((1.*rockIntVar),mesh)\n",
    "lithareaint = uw.utils.Integral((1.*lithIntVar),mesh)\n",
    "\n",
    "v2int = uw.utils.Integral(fn.math.dot(velocityField,velocityField)*rockIntVar, mesh)\n",
    "\n",
    "\n",
    "dwint = uw.utils.Integral(temperatureField*velocityField[1]*rockIntVar, mesh)\n",
    "\n",
    "\n",
    "sinner = fn.math.dot(strainRate_2ndInvariant,strainRate_2ndInvariant)\n",
    "vdint = uw.utils.Integral((4.*viscosityMapFn*sinner)*rockIntVar, mesh)\n",
    "vdintair = uw.utils.Integral((4.*viscosityMapFn*sinner)*airIntVar, mesh)\n",
    "vdintlith = uw.utils.Integral((4.*viscosityMapFn*sinner)*lithIntVar, mesh)\n",
    "\n",
    "\n",
    "fn_stress = 2.*viscosityMapFn*uw.function.tensor.symmetric(velocityField.fn_gradient)\n",
    "rockstress = fn.tensor.second_invariant(fn_stress)*rockIntVar\n",
    "lithstress = fn.tensor.second_invariant(fn_stress)*lithIntVar\n",
    "\n",
    "stresslithint = uw.utils.Integral(lithstress, mesh)\n"
   ]
  },
  {
   "cell_type": "code",
   "execution_count": 170,
   "metadata": {
    "collapsed": false
   },
   "outputs": [
    {
     "name": "stdout",
     "output_type": "stream",
     "text": [
      "150373.001104\n",
      "149063.360301\n",
      "141.462513173\n",
      "0.000351875327943\n",
      "2741.60928693\n",
      "2222.24306161\n"
     ]
    }
   ],
   "source": [
    "#These should differ if the the map function assigns different properties to bulk mantle\n",
    "\n",
    "print(uw.utils.Integral((4.*mantleviscosityFn*sinner)*rockIntVar, mesh).evaluate()[0])\n",
    "print(uw.utils.Integral((4.*viscosityMapFn*sinner)*rockIntVar, mesh).evaluate()[0])\n",
    "\n",
    "\n",
    "print(uw.utils.Integral((4.*mantleviscosityFn*sinner)*airIntVar, mesh).evaluate()[0])\n",
    "print(uw.utils.Integral((4.*viscosityMapFn*sinner)*airIntVar, mesh).evaluate()[0])\n",
    "\n",
    "print(uw.utils.Integral((4.*mantleviscosityFn*sinner)*lithIntVar, mesh).evaluate()[0])\n",
    "print(uw.utils.Integral((4.*viscosityMapFn*sinner)*lithIntVar, mesh).evaluate()[0])"
   ]
  },
  {
   "cell_type": "markdown",
   "metadata": {},
   "source": [
    "\\begin{equation}  \\langle T \\rangle  = \\int^1_0 \\int^1_0 T \\, dxdy \\end{equation}"
   ]
  },
  {
   "cell_type": "code",
   "execution_count": 171,
   "metadata": {
    "collapsed": false
   },
   "outputs": [],
   "source": [
    "def avg_temp():\n",
    "    return tempint.evaluate()[0]/areaint.evaluate()[0]\n",
    "\n",
    "#This one gets cleaned up when Surface integrals are available\n",
    "def nusselt(tempfield, swarm, dx):\n",
    "    #Update the swarm variable\n",
    "    tempgrad = tempfield.fn_gradient\n",
    "    valcheck = tempgrad[1].evaluate(swarm)\n",
    "    if valcheck is None:\n",
    "        vals = np.array(0, dtype='float64')\n",
    "    else:\n",
    "        vals = valcheck.sum()*dx\n",
    "    return vals\n",
    "\n",
    "def rms():\n",
    "    return math.sqrt(v2int.evaluate()[0]/areaint.evaluate()[0])\n",
    "\n",
    "#This one gets cleaned up when Surface integrals are available\n",
    "def rms_surf(swarm, dx):\n",
    "    rmsmaxfn = fn.math.dot(velocityField,velocityField)\n",
    "    rmscheck = rmsmaxfn.evaluate(swarm)\n",
    "    if rmscheck is None:\n",
    "        #print \"watch out\"\n",
    "        rmsvals = np.array(0, dtype='float64')\n",
    "    else:\n",
    "        rmsvals = np.sqrt(rmscheck.sum()*dx)\n",
    "        #print \"okay\"\n",
    "    return rmsvals\n",
    "\n",
    "def max_vx_surf(velfield, swarm):\n",
    "    check = velfield[0].evaluate(swarm)\n",
    "    if check is None:\n",
    "        return 0.\n",
    "    else:\n",
    "        return check.max()\n",
    "\n",
    "\n",
    "#def max_vy_surf(velfield, swarm):\n",
    "#    surfvelxmaxfn = fn.view.min_max(velfield[1])\n",
    "#    surfvelxmaxfn.evaluate(swarm)\n",
    "#    return surfvelxmaxfn.max_global()\n",
    "\n",
    "def gravwork(workfn):\n",
    "    return workfn.evaluate()[0]\n",
    "\n",
    "def viscdis(vdissfn):\n",
    "    return vdissfn.evaluate()[0]\n",
    "\n",
    "def visc_extr(viscfn):\n",
    "    vuviscfnMax = fn.view.min_max(viscfn)\n",
    "    vuviscfnMax.evaluate(gSwarm)\n",
    "    vuviscfnMin = fn.view.min_max(viscfn*dummyIntVar)\n",
    "    vuviscfnMin.evaluate(gSwarm)\n",
    "    return vuviscfnMax.max_global(), vuviscfnMin.min_global()\n",
    "\n",
    "\n",
    "def stress_max(scalarStressfn):\n",
    "    fn_minmax_stress = fn.view.min_max(scalarStressfn)\n",
    "    ignore_stress = fn_minmax_stress.evaluate(gSwarm)\n",
    "    return fn_minmax_stress.max_global()\n",
    "\n",
    "\n",
    "def avg_lith_stress():\n",
    "    return stresslithint.evaluate()[0]/lithareaint.evaluate()[0]"
   ]
  },
  {
   "cell_type": "code",
   "execution_count": 172,
   "metadata": {
    "collapsed": false
   },
   "outputs": [
    {
     "data": {
      "text/plain": [
       "0.04164070368487442"
      ]
     },
     "execution_count": 172,
     "metadata": {},
     "output_type": "execute_result"
    }
   ],
   "source": [
    "lithareaint.evaluate()[0]"
   ]
  },
  {
   "cell_type": "code",
   "execution_count": 173,
   "metadata": {
    "collapsed": false
   },
   "outputs": [],
   "source": [
    "#Check dem \n",
    "#stress_max(rockstress)\n",
    "#visc_extr(viscosityMapFn), ndp.StAeta0\n",
    "#avg_lith_stress()"
   ]
  },
  {
   "cell_type": "code",
   "execution_count": 174,
   "metadata": {
    "collapsed": false
   },
   "outputs": [],
   "source": [
    "#Fields for saving data / fields\n",
    "\n",
    "rmsField = uw.mesh.MeshVariable( mesh=mesh,   nodeDofCount=1)\n",
    "rmsfn = fn.math.sqrt(fn.math.dot(velocityField,velocityField))\n",
    "rmsdata = rmsfn.evaluate(mesh)\n",
    "rmsField.data[:] = rmsdata \n",
    "\n",
    "viscField = uw.mesh.MeshVariable( mesh=mesh,   nodeDofCount=1)\n",
    "viscdata = mantleviscosityFn.evaluate(mesh)\n",
    "viscField.data[:] = viscdata\n",
    "\n",
    "\n",
    "strainrateField = uw.mesh.MeshVariable( mesh=mesh,   nodeDofCount=1)\n",
    "srtdata = fn.tensor.second_invariant( \n",
    "                    fn.tensor.symmetric( \n",
    "                        velocityField.fn_gradient ))\n",
    "rostfield = srtdata.evaluate(mesh)\n",
    "strainrateField.data[:] = rostfield\n",
    "\n",
    "viscVariable = gSwarm.add_variable( dataType=\"float\", count=1 )\n",
    "viscVariable.data[:] = viscosityMapFn.evaluate(gSwarm)\n"
   ]
  },
  {
   "cell_type": "code",
   "execution_count": 175,
   "metadata": {
    "collapsed": false
   },
   "outputs": [],
   "source": [
    "#Images\n",
    "figEta = glucifer.Figure()\n",
    "figEta.append( glucifer.objects.Points(gSwarm,viscVariable, logScale=True))\n",
    "\n",
    "\n",
    "figMat = glucifer.Figure()\n",
    "figMat.append( glucifer.objects.Points(gSwarm,materialVariable, colours='brown white blue red'))\n",
    "figMat.append( glucifer.objects.Mesh(mesh))\n",
    "\n",
    "\n",
    "figStrainRate = glucifer.Figure()\n",
    "figStrainRate.append( glucifer.objects.Surface(mesh, strainRate_2ndInvariant, logScale=True))\n",
    "\n",
    "\n",
    "figVelocityMag = glucifer.Figure()\n",
    "figVelocityMag.append( glucifer.objects.Surface(mesh, fn.math.dot(velocityField,velocityField))\n",
    ")\n",
    "figTemp = glucifer.Figure()\n",
    "figTemp.append( glucifer.objects.Surface(mesh, temperatureField))\n",
    "\n",
    "\n",
    "\n",
    "#Pack some stuff into a database as well\n",
    "figDb = glucifer.Figure()\n",
    "figDb.append( glucifer.objects.Points(gSwarm,viscVariable, logScale=True, colours='brown white blue'))\n",
    "figDb.append( glucifer.objects.Points(gSwarm,materialVariable, colours='brown white blue red'))\n",
    "figDb.append( glucifer.objects.Mesh(mesh))\n",
    "figDb.append( glucifer.objects.VectorArrows(mesh,velocityField, arrowHead=0.2, scaling=0.01))\n",
    "figDb.append( glucifer.objects.Surface(mesh, strainRate_2ndInvariant, logScale=True, colours='brown white blue'))\n",
    "figDb.append( glucifer.objects.Surface(mesh, temperatureField))\n",
    "                           "
   ]
  },
  {
   "cell_type": "code",
   "execution_count": 176,
   "metadata": {
    "collapsed": true
   },
   "outputs": [],
   "source": [
    "\n",
    "pics = uw.swarm.PICIntegrationSwarm(gSwarm)"
   ]
  },
  {
   "cell_type": "code",
   "execution_count": 177,
   "metadata": {
    "collapsed": false
   },
   "outputs": [
    {
     "data": {
      "text/plain": [
       "['materialVariable', 'rockIntVar', 'airIntVar', 'lithIntVar']"
      ]
     },
     "execution_count": 177,
     "metadata": {},
     "output_type": "execute_result"
    }
   ],
   "source": [
    "varnames"
   ]
  },
  {
   "cell_type": "code",
   "execution_count": 172,
   "metadata": {
    "collapsed": false
   },
   "outputs": [],
   "source": [
    "def checkpoint1(step, checkpointPath,filename, filewrites):\n",
    "    path = checkpointPath + str(step) \n",
    "    os.mkdir(path)\n",
    "    ##Write and save the file, if not already a writing step\n",
    "    if not step % filewrites == 0:\n",
    "        f_o.write((16*'%-16s ' + '\\n') % (realtime, Viscdis, float(Nu0glob), float(Nu1glob), Avg_temp, \n",
    "                                              Rms,Rmsurfglob,Max_vx_surfglob,Gravwork, etamax, etamin, \n",
    "                                              Viscdisair, Viscdislith,Avg_stress, Max_stress_rock, Max_stress_lith))\n",
    "    filename.close()\n",
    "    shutil.copyfile(os.path.join(outputPath, outputFile), os.path.join(path, outputFile))\n",
    "\n",
    "\n",
    "def checkpoint2(step, checkpointPath, swarm, filename, varlist = [materialVariable], varnames = ['materialVariable']):\n",
    "    path = checkpointPath + str(step) \n",
    "    velfile = \"velocityField\" + \".hdf5\"\n",
    "    tempfile = \"temperatureField\" + \".hdf5\"\n",
    "    pressfile = \"pressureField\" + \".hdf5\"\n",
    "    velocityField.save(os.path.join(path, velfile))\n",
    "    temperatureField.save(os.path.join(path, tempfile))\n",
    "    pressureField.save(os.path.join(path, pressfile))\n",
    "    swarm.save(os.path.join(path, \"swarm.h5\") ) \n",
    "    for ix in range(len(varlist)):\n",
    "        varb = varlist[ix]\n",
    "        varb.save(os.path.join(path,varnames[ix] + \".h5\"))\n",
    "        \n",
    "    "
   ]
  },
  {
   "cell_type": "code",
   "execution_count": 173,
   "metadata": {
    "collapsed": false
   },
   "outputs": [],
   "source": [
    "###########\n",
    "#Open file for writing metrics\n",
    "###########\n",
    "\n",
    "if checkpointLoad:\n",
    "    if uw.rank() == 0:\n",
    "        shutil.copyfile(os.path.join(checkpointLoadDir, outputFile), outputPath+outputFile)\n",
    "    comm.Barrier()\n",
    "    #os.rename(os.path.join(checkpointLoadDir, outputFile), outputPath+outputFile)\n",
    "    f_o = open(os.path.join(outputPath, outputFile), 'a')\n",
    "    prevdata = np.genfromtxt(os.path.join(outputPath, outputFile), skip_header=0, skip_footer=0)\n",
    "    realtime = prevdata[prevdata.shape[0]-1, 0]\n",
    "    step = int(checkpointLoadDir.split('/')[-1])\n",
    "    timevals = [0.]\n",
    "else:\n",
    "    f_o = open(outputPath+outputFile, 'w')\n",
    "    realtime = 0.\n",
    "    step = 0\n",
    "    timevals = [0.]"
   ]
  },
  {
   "cell_type": "markdown",
   "metadata": {},
   "source": [
    "Main simulation loop\n",
    "=======\n",
    "\n",
    "The main time stepping loop begins here. Before this the time and timestep are initialised to zero and the output statistics arrays are set up. Also the frequency of outputting basic statistics to the screen is set in steps_output.\n"
   ]
  },
  {
   "cell_type": "code",
   "execution_count": null,
   "metadata": {
    "collapsed": false
   },
   "outputs": [],
   "source": [
    "# initialise timer for computation\n",
    "startMain = time.clock()\n",
    "# Perform steps#\n",
    "while realtime < 0.2:\n",
    "#while step < 25:\n",
    "    #Enter non-linear loop\n",
    "    print step\n",
    "    solver.solve(nonLinearIterate=True)\n",
    "    dt = advDiff.get_max_dt()\n",
    "    if step == 0:\n",
    "        dt = 0.\n",
    "    #start = time.clock()\n",
    "    advDiff.integrate(dt)\n",
    "    #machine_time = (time.clock()-start)\n",
    "    #print(\"total advDiff time is: \" + str(machine_time))\n",
    "    # Advect swarm using this timestep size\n",
    "    #start = time.clock()\n",
    "    advector.integrate(dt)\n",
    "    #machine_time = (time.clock()-start)\n",
    "    #print(\"total advector time is: \" + str(machine_time))\n",
    "    # Increment\n",
    "    realtime += dt\n",
    "    step += 1\n",
    "    timevals.append(realtime)\n",
    "    \n",
    "    ################\n",
    "    #Update temperature field in the air region\n",
    "    ################\n",
    "    if (step % sticky_air_temp == 0):\n",
    "        for index, coord in enumerate(mesh.data):\n",
    "            if coord[1] >= 1.:\n",
    "                temperatureField.data[index] = 0.\n",
    " \n",
    "    ################\n",
    "    #Particle update\n",
    "    ###############\n",
    "    #if (step % swarm_update == 0) or (step % metric_output == 0): #These updates should be done before any metric output\n",
    "    if (step % swarm_update == 0): #These updates should be done before any metric output\n",
    "        #These swarm variables get updated first, as they are used to determine material changes\n",
    "        particledepths = 1. - gSwarm.particleCoordinates.data[:,1]\n",
    "        particletemps = temperatureField.evaluate(gSwarm)[:,0]\n",
    "        conditionmap['depthcondition']['data'] = particledepths\n",
    "        conditionmap['avgtempcondition']['data'] = particletemps\n",
    "        ################\n",
    "        number_updated = 0\n",
    "        for particleID in range(gSwarm.particleCoordinates.data.shape[0]):\n",
    "            check = update_swarm(DG, particleID)\n",
    "            if check > -1:\n",
    "                number_updated += 1\n",
    "                #if check == 0:\n",
    "                #    print \"from \" + str(materialVariable.data[particleID]) + \" to \" + str(check)\n",
    "                materialVariable.data[particleID] = check\n",
    "            else:\n",
    "                pass\n",
    "        #Also update those integration swarms\n",
    "        rockIntVar.data[:] = 0.\n",
    "        notair = np.where(materialVariable.data != airIndex)\n",
    "        rockIntVar.data[notair] = 1.\n",
    "        airIntVar.data[:] = 0.\n",
    "        notrock = np.where(materialVariable.data == airIndex)\n",
    "        airIntVar.data[notrock] = 1.\n",
    "        lithIntVar.data[:] = 0.\n",
    "        islith = np.where((materialVariable.data == lithosphereIndex) | (materialVariable.data == crustIndex))\n",
    "        lithIntVar.data[islith] = 1.\n",
    "        dummyIntVar.data[notrock] = 1e10 \n",
    "\n",
    "    ################            \n",
    "    # Calculate the Metrics, only on 1 of the processors:\n",
    "    ################\n",
    "    if (step % metric_output == 0):\n",
    "        ###############\n",
    "        #Swarm - based Metrics\n",
    "        ###############\n",
    "        tempVariable.data[:] = temperatureField.evaluate(gSwarm)[:]\n",
    "        Avg_temp = avg_temp()\n",
    "        Rms = rms()\n",
    "        Gravwork = gravwork(dwint)\n",
    "        Viscdis = viscdis(vdint)\n",
    "        Viscdisair = viscdis(vdintair)\n",
    "        Viscdislith = viscdis(vdintlith)\n",
    "        etamax, etamin = visc_extr(viscosityMapFn)\n",
    "        #These are the ones that need mpi4py treatment\n",
    "        Nu0loc = nusselt(temperatureField, baseintswarm, dx)\n",
    "        Nu1loc = nusselt(temperatureField, surfintswarm, dx)\n",
    "        Rmsurfloc = rms_surf(surfintswarm, dx)\n",
    "        Max_vx_surfloc = np.array(max_vx_surf(velocityField, surfintswarm),'d') #This float needed to be an array to play with mpi4py\n",
    "        #Setup the global output arrays\n",
    "        dTp = Nu0loc.dtype\n",
    "        Nu0glob = np.array(0, dtype=dTp)\n",
    "        dTp = Nu1loc.dtype\n",
    "        Nu1glob = np.array(0, dtype=dTp)\n",
    "        dTp = Rmsurfloc.dtype\n",
    "        Rmsurfglob = np.array(0, dtype=dTp)\n",
    "        dTp = Max_vx_surfloc.dtype\n",
    "        Max_vx_surfglob = np.array(0.0,dtype=dTp)\n",
    "        #ignore_stress = fn_minmax_stress.evaluate(gSwarm)\n",
    "        Avg_stress = avg_lith_stress()\n",
    "        Max_stress_rock = stress_max(rockstress)\n",
    "        Max_stress_lith = stress_max(lithstress)\n",
    "        #Do global operation ... sum, or max\n",
    "        comm.Allreduce(Nu0loc, Nu0glob, op=MPI.SUM)\n",
    "        comm.Allreduce(Nu1loc, Nu1glob, op=MPI.SUM)\n",
    "        comm.Allreduce(Rmsurfloc, Rmsurfglob, op=MPI.SUM)\n",
    "        comm.Allreduce([Max_vx_surfloc, MPI.DOUBLE],[Max_vx_surfglob, MPI.DOUBLE],op=MPI.MAX)      \n",
    "        # output to summary text file\n",
    "        if uw.rank()==0:\n",
    "            f_o.write((16*'%-16s ' + '\\n') % (realtime, Viscdis, float(Nu0glob), float(Nu1glob), Avg_temp, \n",
    "                                              Rms,Rmsurfglob,Max_vx_surfglob,Gravwork, etamax, etamin, \n",
    "                                              Viscdisair, Viscdislith,Avg_stress, Max_stress_rock, Max_stress_lith))\n",
    "        #test = max_vx_surf(velocityField, surfintswarm)    \n",
    "        #if uw.rank()==0:\n",
    "         #   print(Rmsurfglob,MRms_surf, Max_vx_surfglob, MMax_vx_surf, etamax, Metamax)\n",
    "        #print(Rmsurfloc, test)\n",
    "    ################\n",
    "    #Gldb output\n",
    "    ################ \n",
    "    if (step % gldbs_output == 0) & (writeFiles == True):\n",
    "        #Rebuild any necessary swarm variables\n",
    "        viscVariable.data[:] = viscosityMapFn.evaluate(gSwarm)\n",
    "        #Write gldbs\n",
    "        fnamedb = \"dbFig\" + \"_\" + str(ModIt) + \"_\" + str(step) + \".gldb\"\n",
    "        fullpath = os.path.join(outputPath + \"gldbs/\" + fnamedb)\n",
    "        figDb.show()\n",
    "        figDb.save_database(fullpath)\n",
    "    ################\n",
    "    #Also repopulate entire swarm periodically\n",
    "    ################\n",
    "    if step % swarm_repop == 0:\n",
    "        pics.repopulate()\n",
    "    ################\n",
    "    #Checkpoint\n",
    "    ################\n",
    "    if step % checkpoint_every == 0:\n",
    "        if uw.rank() == 0:\n",
    "            checkpoint1(step, checkpointPath,f_o, metric_output)           \n",
    "        checkpoint2(step, checkpointPath, gSwarm, f_o, varlist = varlist, varnames = varnames)\n",
    "        f_o = open(os.path.join(outputPath, outputFile), 'a') #is this line supposed to be here?\n",
    "     \n",
    "    \n",
    "f_o.close()\n",
    "#print 'step =',step, '; dt =', dt, '; CPU time =', time.clock()-startMain"
   ]
  },
  {
   "cell_type": "code",
   "execution_count": null,
   "metadata": {
    "collapsed": false
   },
   "outputs": [],
   "source": [
    "#avg_temp(), areaint.evaluate()[0]"
   ]
  },
  {
   "cell_type": "code",
   "execution_count": 100,
   "metadata": {
    "collapsed": false
   },
   "outputs": [
    {
     "data": {
      "text/plain": [
       "['materialVariable', 'rockIntVar', 'airIntVar', 'lithIntVar']"
      ]
     },
     "execution_count": 100,
     "metadata": {},
     "output_type": "execute_result"
    }
   ],
   "source": [
    "varnames"
   ]
  },
  {
   "cell_type": "code",
   "execution_count": null,
   "metadata": {
    "collapsed": false
   },
   "outputs": [],
   "source": [
    "#figEta = glucifer.Figure(figsize=(1024,384))\n",
    "#figEta.append( glucifer.objects.Points(gSwarm,viscVariable, logScale=True))\n",
    "#figEta.save_database('test.gldb')\n",
    "#figEta.show()\n",
    "\n"
   ]
  },
  {
   "cell_type": "code",
   "execution_count": 531,
   "metadata": {
    "collapsed": false
   },
   "outputs": [],
   "source": [
    "\n",
    "figMat = glucifer.Figure()\n",
    "figMat.append( glucifer.objects.Points(gSwarm,materialVariable, colours='brown white blue red black'))\n",
    "\n",
    "figMat.show()\n",
    "figMat.save_database('test.gldb')\n",
    "#valueRange=None"
   ]
  },
  {
   "cell_type": "code",
   "execution_count": 386,
   "metadata": {
    "collapsed": false
   },
   "outputs": [],
   "source": [
    "\n",
    "figMat = glucifer.Figure()\n",
    "figMat.append( glucifer.objects.Points(gSwarm,densityMapFn, logScale=True,))\n",
    "\n",
    "figMat.show()\n",
    "figMat.save_database('test.gldb')\n",
    "#valueRange=None,"
   ]
  },
  {
   "cell_type": "code",
   "execution_count": null,
   "metadata": {
    "collapsed": false
   },
   "outputs": [],
   "source": [
    "#figMat = glucifer.Figure()\n",
    "#figMat.append( glucifer.objects.Points(gSwarm,rockIntVar))\n",
    "#figMat.append( glucifer.objects.Points(gSwarm,rockIntVar, pointSize= 5.))\n",
    "#figMat.append( glucifer.objects.Mesh(mesh))\n",
    "#figMat.save_database('test.gldb')\n",
    "#figMat.show()"
   ]
  },
  {
   "cell_type": "code",
   "execution_count": 384,
   "metadata": {
    "collapsed": false
   },
   "outputs": [],
   "source": [
    "figDb.show()\n",
    "figDb.save_database('test.gldb')"
   ]
  },
  {
   "cell_type": "code",
   "execution_count": 73,
   "metadata": {
    "collapsed": false
   },
   "outputs": [],
   "source": [
    "#figStrainRate = glucifer.Figure()\n",
    "#figStrainRate.append( glucifer.objects.Surface(mesh, strainRate_2ndInvariant, logScale=True))\n",
    "#figStrainRate.show()\n",
    "#figStrainRate.save_database('test.gldb')\n"
   ]
  },
  {
   "cell_type": "code",
   "execution_count": null,
   "metadata": {
    "collapsed": false
   },
   "outputs": [],
   "source": [
    "machine_time = (time.clock()-startMain)\n",
    "print(\"total machine time is: \" + str(machine_time))"
   ]
  },
  {
   "cell_type": "code",
   "execution_count": null,
   "metadata": {
    "collapsed": true
   },
   "outputs": [],
   "source": [
    "print(\"dimensionless time is: \" + str(realtime))"
   ]
  },
  {
   "cell_type": "code",
   "execution_count": null,
   "metadata": {
    "collapsed": false
   },
   "outputs": [],
   "source": [
    "velocityField.evaluate(IWalls)[:,0].max()"
   ]
  },
  {
   "cell_type": "code",
   "execution_count": null,
   "metadata": {
    "collapsed": false
   },
   "outputs": [],
   "source": [
    "#velocityField.evaluate(TWalls)[:,0].max()"
   ]
  },
  {
   "cell_type": "markdown",
   "metadata": {},
   "source": [
    "# Test checkpoint bug"
   ]
  }
 ],
 "metadata": {
  "kernelspec": {
   "display_name": "Python 2",
   "language": "python",
   "name": "python2"
  },
  "language_info": {
   "codemirror_mode": {
    "name": "ipython",
    "version": 2
   },
   "file_extension": ".py",
   "mimetype": "text/x-python",
   "name": "python",
   "nbconvert_exporter": "python",
   "pygments_lexer": "ipython2",
   "version": "2.7.11"
  }
 },
 "nbformat": 4,
 "nbformat_minor": 0
}
