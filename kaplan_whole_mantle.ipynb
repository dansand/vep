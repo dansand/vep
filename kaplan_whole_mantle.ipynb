{
 "cells": [
  {
   "cell_type": "markdown",
   "metadata": {
    "collapsed": true
   },
   "source": [
    "## From Kaplan "
   ]
  },
  {
   "cell_type": "code",
   "execution_count": 1,
   "metadata": {
    "collapsed": true
   },
   "outputs": [],
   "source": [
    "import networkx as nx\n",
    "import underworld as uw\n",
    "import math\n",
    "from underworld import function as fn\n",
    "import glucifer\n",
    "#import matplotlib.pyplot as pyplot\n",
    "import time\n",
    "import numpy as np\n",
    "import os\n",
    "import sys\n",
    "import natsort\n",
    "import shutil\n",
    "from easydict import EasyDict as edict\n",
    "import slippy2 as sp\n",
    "from slippy2 import unit_conversions\n",
    "from slippy2 import boundary_layer2d\n",
    "\n",
    "\n",
    "\n",
    "from mpi4py import MPI\n",
    "comm = MPI.COMM_WORLD\n",
    "rank = comm.Get_rank()"
   ]
  },
  {
   "cell_type": "code",
   "execution_count": 2,
   "metadata": {
    "collapsed": true
   },
   "outputs": [],
   "source": [
    "############\n",
    "#Model name.  \n",
    "############\n",
    "Model = \"T\"\n",
    "ModNum = 10\n",
    "\n",
    "if len(sys.argv) == 1:\n",
    "    ModIt = \"Base\"\n",
    "elif sys.argv[1] == '-f':\n",
    "    ModIt = \"Base\"\n",
    "else:\n",
    "    ModIt = str(sys.argv[1])"
   ]
  },
  {
   "cell_type": "code",
   "execution_count": 3,
   "metadata": {
    "collapsed": true
   },
   "outputs": [],
   "source": [
    "###########\n",
    "#Standard output directory setup\n",
    "###########\n",
    "\n",
    "\n",
    "outputPath = \"results\" + \"/\" +  str(Model) + \"/\" + str(ModNum) + \"/\" + str(ModIt) + \"/\"\n",
    "imagePath = outputPath + 'images/'\n",
    "filePath = outputPath + 'files/'\n",
    "checkpointPath = outputPath + 'checkpoint/'\n",
    "dbPath = outputPath + 'gldbs/'\n",
    "outputFile = 'results_model' + Model + '_' + str(ModNum) + '_' + str(ModIt) + '.dat'\n",
    "\n",
    "if uw.rank()==0:\n",
    "    # make directories if they don't exist\n",
    "    if not os.path.isdir(outputPath):\n",
    "        os.makedirs(outputPath)\n",
    "    if not os.path.isdir(checkpointPath):\n",
    "        os.makedirs(checkpointPath)\n",
    "    if not os.path.isdir(imagePath):\n",
    "        os.makedirs(imagePath)\n",
    "    if not os.path.isdir(dbPath):\n",
    "        os.makedirs(dbPath)\n",
    "    if not os.path.isdir(filePath):\n",
    "        os.makedirs(filePath)\n",
    "        \n",
    "comm.Barrier() #Barrier here so no procs run the check in the next cell too early "
   ]
  },
  {
   "cell_type": "code",
   "execution_count": 4,
   "metadata": {
    "collapsed": false
   },
   "outputs": [
    {
     "name": "stdout",
     "output_type": "stream",
     "text": [
      "results/T/10/Base/checkpoint/ is empty\n"
     ]
    }
   ],
   "source": [
    "###########\n",
    "#Check if starting from checkpoint\n",
    "###########\n",
    "\n",
    "checkdirs = []\n",
    "for dirpath, dirnames, files in os.walk(checkpointPath):\n",
    "    if files:\n",
    "        print dirpath, 'has files'\n",
    "        checkpointLoad = True\n",
    "        checkdirs.append(dirpath)\n",
    "    if not files:\n",
    "        print dirpath, 'is empty'\n",
    "        checkpointLoad = False\n",
    "        "
   ]
  },
  {
   "cell_type": "code",
   "execution_count": 5,
   "metadata": {
    "collapsed": false
   },
   "outputs": [],
   "source": [
    "###########\n",
    "#Physical parameters\n",
    "###########\n",
    "\n",
    "#dimensional parameter dictionary\n",
    "dp = edict({'LS':2890.*1e3,\n",
    "           'rho':3300,\n",
    "           'g':9.81, \n",
    "           'eta0':1e20,\n",
    "           'k':10**-6,\n",
    "           'a':3e-5, \n",
    "           'deltaT':1400,\n",
    "           'TS':273,\n",
    "           'TB':1673,\n",
    "           'cohesion':5e6,\n",
    "           'fc':0.03,\n",
    "           'E':1e5, \n",
    "           'StALS': 27.*1e3})\n",
    "\n",
    "#scale_factors\n",
    "\n",
    "sf = edict({'stress':dp.LS**2/(dp.k*dp.eta0),\n",
    "           'lith_grad':dp.rho*dp.g*(dp.LS)**3/(dp.eta0*dp.k) })\n",
    "\n",
    "#dimensionless parameters\n",
    "\n",
    "ndp = edict({'RA':(dp.g*dp.rho*dp.a*dp.deltaT *(dp.LS)**3)/(dp.k*dp.eta0),\n",
    "           'cohesion':dp.cohesion*sf.stress,\n",
    "            'fcd':dp.fc*sf.lith_grad,\n",
    "            'TS':dp.TS/dp.deltaT,\n",
    "            'TB':dp.TB/dp.deltaT,\n",
    "            'low_visc':1e-4,\n",
    "            'StAeta0':0.01,\n",
    "            'up_visc':1e5,\n",
    "            'H':0.})"
   ]
  },
  {
   "cell_type": "code",
   "execution_count": 6,
   "metadata": {
    "collapsed": false
   },
   "outputs": [
    {
     "data": {
      "text/plain": [
       "417605.0"
      ]
     },
     "execution_count": 6,
     "metadata": {},
     "output_type": "execute_result"
    }
   ],
   "source": [
    "ndp.cohesion"
   ]
  },
  {
   "cell_type": "code",
   "execution_count": 7,
   "metadata": {
    "collapsed": true
   },
   "outputs": [],
   "source": [
    "ETAREF = dp.rho*dp.g*dp.a*dp.deltaT*((dp.LS)**3)/(ndp.RA*dp.k) #equivalent dimensional reference viscosity\n",
    "#RC = (3300.*dp.g*(dp.LS)**3)/(ETAREF *dp.k) #Composisitional Rayleigh number for rock-air buoyancy force\n",
    "RCA = (1650.*dp.g*(dp.LS)**3)/(ETAREF *dp.k) #Composisitional Rayleigh number for rock-air buoyancy force\n",
    "COMP_RA_FACT_AIR = RCA/ndp.RA\n",
    "#RCC = (100.*dp.g*(dp.LS)**3)/(ETAREF *dp.k) #Composisitional Rayleigh number for crust\n",
    "#COMP_RA_FACT_CRUST = RCC/ndp.RA\n",
    "#RCE = -1*(200.*dp.g*(dp.LS)**3)/(ETAREF *dp.k) #Composisitional Rayleigh number for eclogite \n",
    "#COMP_RA_FACT_ECL = RCE/ndp.RA\n",
    "ndp[\"StA_RA\"] = ndp.RA*COMP_RA_FACT_AIR"
   ]
  },
  {
   "cell_type": "code",
   "execution_count": 8,
   "metadata": {
    "collapsed": false
   },
   "outputs": [],
   "source": [
    "#A few parameters defining lengths scales, affects materal transistions etc.\n",
    "MANTLETOCRUST = (20.*1e3)/dp.LS #Crust depth\n",
    "CRUSTTOMANTLE = (900.*1e3)/dp.LS \n",
    "LITHTOMANTLE = (900.*1e3)/dp.LS \n",
    "MANTLETOLITH = (200.*1e3)/dp.LS \n",
    "TOPOHEIGHT = (0.*1e3)/dp.LS  #rock-air topography limits\n",
    "CRUSTTOECL  = (100.*1e3)/dp.LS\n",
    "AVGTEMP = ndp.TB #Used to define lithosphere"
   ]
  },
  {
   "cell_type": "code",
   "execution_count": 9,
   "metadata": {
    "collapsed": true
   },
   "outputs": [],
   "source": [
    "###########\n",
    "#Boundary layer / slab paramaters\n",
    "###########\n",
    "\n",
    "subzone = -0.4\n",
    "mor = 0.5\n",
    "vel = 70e3\n",
    "agelimit = 70.\n",
    "thermallimit = 0.8\n",
    "\n",
    "#Slab perturbation paramaters\n",
    "Roc = 450.\n",
    "Crust = 35.\n",
    "theta = 89.\n"
   ]
  },
  {
   "cell_type": "code",
   "execution_count": 10,
   "metadata": {
    "collapsed": false
   },
   "outputs": [],
   "source": [
    "#240/2./2./2./2."
   ]
  },
  {
   "cell_type": "code",
   "execution_count": 11,
   "metadata": {
    "collapsed": true
   },
   "outputs": [],
   "source": [
    "###########\n",
    "#Model setup parameters\n",
    "###########\n",
    "\n",
    "stickyAir = False\n",
    "\n",
    "MINX = -0.75\n",
    "MINY = 0.\n",
    "MAXX = 0.75\n",
    "\n",
    "#MAXY = 1.035\n",
    "MAXY = 1.\n",
    "\n",
    "if MINX == 0.:\n",
    "    squareModel = True\n",
    "else: \n",
    "    squareModel = False\n",
    "    \n",
    "    \n",
    "dim = 2          # number of spatial dimensions\n",
    "\n",
    "\n",
    "#MESH STUFF\n",
    "\n",
    "RES = 160\n",
    "\n",
    "\n",
    "if MINX == 0.:\n",
    "    Xres = RES\n",
    "else:\n",
    "    Xres = 256 #Hardcoding this fow now.\n",
    "\n",
    "\n",
    "if stickyAir:\n",
    "    Yres = RES\n",
    "    MAXY = 1. + dp.StALS/dp.LS #150km\n",
    "    \n",
    "else:\n",
    "    Yres = RES\n",
    "    MAXY = 1.\n",
    "\n",
    "\n",
    "periodic = [False, False]\n",
    "elementType = \"Q1/dQ0\"\n",
    "#elementType =\"Q2/DPC1\"\n",
    "\n",
    "refineMesh = True\n",
    "\n",
    "\n",
    "#System/Solver stuff\n",
    "\n",
    "PIC_integration=True\n",
    "ppc = 25"
   ]
  },
  {
   "cell_type": "code",
   "execution_count": 12,
   "metadata": {
    "collapsed": true
   },
   "outputs": [],
   "source": [
    "###########\n",
    "#Model Runtime parameters\n",
    "###########\n",
    "\n",
    "swarm_update = 10\n",
    "swarm_repop = 25\n",
    "files_output = 1e6\n",
    "gldbs_output = 25\n",
    "images_output = 1e6\n",
    "checkpoint_every = 25\n",
    "metric_output = 25\n",
    "sticky_air_temp = 10\n",
    "\n",
    "comm.Barrier() #Barrier here so not procs run the check in the next cell too early \n",
    "\n",
    "assert metric_output <= checkpoint_every, 'Checkpointing should run less or as ofen as metric output'\n",
    "#assert (metric_output >= swarm_update), 'Swarm update is needed before checkpointing'\n",
    "#assert metric_output >= sticky_air_temp, 'Sticky air temp should be updated more frequently that metrics'"
   ]
  },
  {
   "cell_type": "code",
   "execution_count": 13,
   "metadata": {
    "collapsed": true
   },
   "outputs": [],
   "source": [
    "mesh = uw.mesh.FeMesh_Cartesian( elementType = elementType,\n",
    "                                 elementRes  = (Xres, Yres), \n",
    "                                 minCoord    = (MINX,MINY), \n",
    "                                 maxCoord=(MAXX,MAXY), periodic=periodic)\n",
    "\n",
    "\n",
    "\n",
    "velocityField       = uw.mesh.MeshVariable( mesh=mesh,         nodeDofCount=dim )\n",
    "pressureField       = uw.mesh.MeshVariable( mesh=mesh.subMesh, nodeDofCount=1 )\n",
    "temperatureField    = uw.mesh.MeshVariable( mesh=mesh,         nodeDofCount=1 )\n",
    "temperatureDotField = uw.mesh.MeshVariable( mesh=mesh,         nodeDofCount=1 )"
   ]
  },
  {
   "cell_type": "code",
   "execution_count": 14,
   "metadata": {
    "collapsed": true
   },
   "outputs": [],
   "source": [
    "# Initialise data.. Note that we are also setting boundary conditions here\n",
    "velocityField.data[:] = [0.,0.]\n",
    "pressureField.data[:] = 0.\n",
    "temperatureField.data[:] = 0.\n",
    "temperatureDotField.data[:] = 0."
   ]
  },
  {
   "cell_type": "code",
   "execution_count": 15,
   "metadata": {
    "collapsed": true
   },
   "outputs": [],
   "source": [
    "axis = 1\n",
    "orgs = np.linspace(mesh.minCoord[axis], mesh.maxCoord[axis], mesh.elementRes[axis] + 1)\n",
    "\n",
    "value_to_constrain = 1.\n",
    "\n",
    "\n",
    "yconst = [(sp.find_closest(orgs, value_to_constrain), np.array([1.,0]))]\n"
   ]
  },
  {
   "cell_type": "code",
   "execution_count": 16,
   "metadata": {
    "collapsed": false
   },
   "outputs": [
    {
     "name": "stdout",
     "output_type": "stream",
     "text": [
      "Min\n",
      "(160, 0.0037506249999999775, 0.84853749999999994, 0.60966037735848211)\n",
      "('edges', 160)\n",
      "-- iteration 0 --\n",
      "| F( p_n ) |^2: 1.26509048791e-05\n",
      "| p_n+1 - p_n |^2: 0.863668842161\n",
      "-- iteration 1 --\n",
      "| F( p_n ) |^2: 5.47697612681e-31\n",
      "Min, Max element width: \n",
      "0.00375\n",
      "0.00875\n"
     ]
    }
   ],
   "source": [
    "#Y-Axis\n",
    "if refineMesh:\n",
    "    #Y-Axis\n",
    "    axis = 1\n",
    "    origcoords = np.linspace(mesh.minCoord[axis], mesh.maxCoord[axis], mesh.elementRes[axis] + 1)\n",
    "    edge_rest_lengths = np.diff(origcoords)\n",
    "\n",
    "    deform_lengths = edge_rest_lengths.copy()\n",
    "    min_point =  (mesh.maxCoord[axis])\n",
    "    el_reduction = 0.6001\n",
    "    dx = mesh.maxCoord[axis]\n",
    "\n",
    "    deform_lengths = deform_lengths - \\\n",
    "                                    ((1.-el_reduction)*deform_lengths[0]) + \\\n",
    "                                    abs((origcoords[1:] - min_point))*((0.5*deform_lengths[0])/dx)\n",
    "\n",
    "    #print(edge_rest_lengths.shape, deform_lengths.shape)\n",
    "\n",
    "    sp.deform_1d(deform_lengths, mesh,axis = 'y',norm = 'Min', constraints = yconst)"
   ]
  },
  {
   "cell_type": "code",
   "execution_count": 17,
   "metadata": {
    "collapsed": false
   },
   "outputs": [],
   "source": [
    "lith= boundary_layer2d.LithosphereTemps(mesh, temperatureField, dp.LS, MINX, mor, tint=ndp.TB, tsurf=ndp.TS, vel= 10e3, diffs = 1e-6)\n"
   ]
  },
  {
   "cell_type": "code",
   "execution_count": 18,
   "metadata": {
    "collapsed": false
   },
   "outputs": [],
   "source": [
    "fudge = 1.\n",
    "\n",
    "for index, coord in enumerate(mesh.data):\n",
    "    xloc = coord[0]\n",
    "    agema = lith.agefunc(xloc)\n",
    "    #print agema\n",
    "    if agelimit:\n",
    "        agema = min(agelimit, agema)\n",
    "    if thermallimit:\n",
    "        if (1.-coord[1]) < (lith.lithdepthfunc(agema)/dp.LS)*thermallimit: #comparison of dimensionless (model) lengths\n",
    "            zloc = ((1.- coord[1])* dp.LS) # dimensional depth kms\n",
    "            t = lith.tempfunc(agema,  zloc)\n",
    "            temperatureField.data[index] = t\n",
    "        else:\n",
    "            temperatureField.data[index] = lith.tint\n",
    "    \n",
    "    else:\n",
    "        if coord[1] >= 1.:\n",
    "            temperatureField.data[index] = lith.tsurf\n",
    "        else:\n",
    "            zloc = ((1.- coord[1])* dp.LS) # dimensional depth kms\n",
    "            t = lith.tempfunc(agema, zloc)\n",
    "            temperatureField.data[index] = t  "
   ]
  },
  {
   "cell_type": "code",
   "execution_count": 19,
   "metadata": {
    "collapsed": true
   },
   "outputs": [],
   "source": [
    "def inCircleFnGenerator(centre, radius):\n",
    "    coord = fn.input()\n",
    "    offsetFn = coord - centre\n",
    "    return fn.math.dot( offsetFn, offsetFn ) < radius**2\n",
    "\n",
    "#Setup slab perturbation params (mostly dimensionles / model params here)\n",
    "phi = 90. - theta\n",
    "RocM = (Roc/dp.LS)*1e3\n",
    "CrustM = MANTLETOCRUST\n",
    "#slabdepth = lithdepthfunc(agefunc(off, off, vel), dp.k)\n",
    "slabdepthM = lith.lithdepthfunc(lith.agefunc(subzone)) /dp.LS\n",
    "#slabdepthM *= 5.\n",
    "Org = (0.+subzone, 1.-RocM)\n",
    "#Use three circles to define our slab and crust perturbation,  \n",
    "Oc = inCircleFnGenerator(Org , RocM)\n",
    "Gc = inCircleFnGenerator(Org , RocM + (50e3/dp.LS)) #a slightly larger circle for the 'gap'\n",
    "Ic = inCircleFnGenerator(Org , RocM - slabdepthM)\n",
    "Cc = inCircleFnGenerator(Org , RocM - CrustM)\n",
    "dx = (RocM)/(np.math.tan((np.math.pi/180.)*phi))\n",
    "\n",
    "#Work our which way the slab should face:\n",
    "sense = 'Left'\n",
    "#if lith.agefunc(subzone + 0.0001) < lith.agefunc(subzone - 0.0001):\n",
    "#    sense = 'Right'\n",
    "\n",
    "#We'll also create a triangle which will truncate the circles defining the slab...\n",
    "if sense == 'Left': \n",
    "    ptx = subzone - dx\n",
    "else:\n",
    "    ptx = subzone + dx\n",
    "\n",
    "coords = ((0.+subzone, 1), (0.+subzone, 1.-RocM), (ptx, 1.))\n",
    "Tri = fn.shape.Polygon(np.array(coords))"
   ]
  },
  {
   "cell_type": "code",
   "execution_count": 20,
   "metadata": {
    "collapsed": true
   },
   "outputs": [],
   "source": [
    "#Assign temperatures in the perturbation region\n",
    "#sds = []\n",
    "if sense == 'Left': \n",
    "    age = lith.agefunc(subzone + 0.001)\n",
    "else:\n",
    "    age = lith.agefunc(subzone - 0.001)\n",
    "    \n",
    "if agelimit:\n",
    "        age = min(agelimit, age)\n",
    "\n",
    "for index, coord in enumerate(mesh.data):\n",
    "    #if Oc.evaluate(tuple(coord)) and Tri.evaluate(tuple(coord)) and not Ic.evaluate(tuple(coord)): #in inner circle, not in outer circle\n",
    "    if Oc.evaluate(tuple(coord)) and Tri.evaluate(tuple(coord)): #In the quarter-circle defining the lithosphere\n",
    "\n",
    "        sd = ((RocM - math.sqrt((coord[0] - Org[0])**2 + (coord[1] - Org[1])**2))*dp.LS) #distance from slab edge in m\n",
    "        #print sd\n",
    "        if thermallimit:\n",
    "            if sd < (lith.lithdepthfunc(age))*thermallimit: #comparison of dimensionless (model) lengths\n",
    "                t = lith.tempfunc(age, sd)\n",
    "                temperatureField.data[index] = t\n",
    "        else:\n",
    "            t = lith.tempfunc(age, sd)\n",
    "            temperatureField.data[index] = t\n",
    "    if Gc.evaluate(tuple(coord)) and Tri.evaluate(tuple(coord)) and not Oc.evaluate(tuple(coord)):\n",
    "        temperatureField.data[index] =  lith.tint"
   ]
  },
  {
   "cell_type": "code",
   "execution_count": 21,
   "metadata": {
    "collapsed": false
   },
   "outputs": [
    {
     "data": {
      "text/html": [
       "<img src='data:image/png;base64,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'>"
      ],
      "text/plain": [
       "<IPython.core.display.HTML object>"
      ]
     },
     "execution_count": 21,
     "metadata": {},
     "output_type": "execute_result"
    }
   ],
   "source": [
    "figTemp = glucifer.Figure()\n",
    "figTemp.append( glucifer.objects.Surface(mesh, temperatureField))\n",
    "\n",
    "#figTemp.save_database('test.gldb')\n",
    "figTemp.show()"
   ]
  },
  {
   "cell_type": "code",
   "execution_count": 22,
   "metadata": {
    "collapsed": true
   },
   "outputs": [],
   "source": [
    "# send boundary condition information to underworld\n",
    "IWalls = mesh.specialSets[\"MinI_VertexSet\"] + mesh.specialSets[\"MaxI_VertexSet\"]\n",
    "JWalls = mesh.specialSets[\"MinJ_VertexSet\"] + mesh.specialSets[\"MaxJ_VertexSet\"]\n",
    "TWalls = mesh.specialSets[\"MaxJ_VertexSet\"]\n",
    "BWalls = mesh.specialSets[\"MinJ_VertexSet\"]"
   ]
  },
  {
   "cell_type": "code",
   "execution_count": null,
   "metadata": {
    "collapsed": false
   },
   "outputs": [],
   "source": []
  },
  {
   "cell_type": "code",
   "execution_count": 23,
   "metadata": {
    "collapsed": false
   },
   "outputs": [],
   "source": [
    "#Set Dirichlet Temp conditions\n",
    "\n",
    "for index in mesh.specialSets[\"MinJ_VertexSet\"]:\n",
    "    temperatureField.data[index] = lith.tint\n",
    "for index in mesh.specialSets[\"MaxJ_VertexSet\"]:\n",
    "    temperatureField.data[index] = lith.tsurf\n",
    "\n",
    "\n",
    "# Now setup the dirichlet boundary condition\n",
    "# Note that through this object, we are flagging to the system \n",
    "# that these nodes are to be considered as boundary conditions. \n",
    "# Also note that we provide a tuple of sets.. One for the Vx, one for Vy.\n",
    "freeslipBC = uw.conditions.DirichletCondition(     variable=velocityField, \n",
    "                                              indexSetsPerDof=(IWalls, JWalls) )\n",
    "\n",
    "# also set dirichlet for temp field\n",
    "dirichTempBC = uw.conditions.DirichletCondition(     variable=temperatureField, \n",
    "                                              indexSetsPerDof=(JWalls,) )"
   ]
  },
  {
   "cell_type": "markdown",
   "metadata": {},
   "source": [
    "# Particles"
   ]
  },
  {
   "cell_type": "code",
   "execution_count": 24,
   "metadata": {
    "collapsed": true
   },
   "outputs": [],
   "source": [
    "###########\n",
    "#Material Swarm and variables\n",
    "###########\n",
    "\n",
    "gSwarm = uw.swarm.Swarm(mesh=mesh)\n",
    "materialVariable = gSwarm.add_variable( dataType=\"int\", count=1 )"
   ]
  },
  {
   "cell_type": "code",
   "execution_count": 25,
   "metadata": {
    "collapsed": false
   },
   "outputs": [],
   "source": [
    "mantleIndex = 0\n",
    "lithosphereIndex = 1\n",
    "eclIndex = 2\n",
    "crustIndex = 3\n",
    "airIndex = 4\n",
    "tempIndex = 5\n",
    "\n",
    "\n",
    "\n",
    "\n",
    "if checkpointLoad:\n",
    "    checkpointLoadDir = natsort.natsorted(checkdirs)[-1]\n",
    "    temperatureField.load(os.path.join(checkpointLoadDir, \"temperatureField\" + \".hdf5\"))\n",
    "    pressureField.load(os.path.join(checkpointLoadDir, \"pressureField\" + \".hdf5\"))\n",
    "    velocityField.load(os.path.join(checkpointLoadDir, \"velocityField\" + \".hdf5\"))\n",
    "    gSwarm.load(os.path.join(checkpointLoadDir, \"swarm\" + \".h5\"))\n",
    "    for ix in range(len(varlist)):\n",
    "        varb = varlist[ix]\n",
    "        varb.load(os.path.join(checkpointLoadDir,varnames[ix] + \".h5\"))\n",
    "\n",
    "else:\n",
    "\n",
    "    # Layouts are used to populate the swarm across the whole domain\n",
    "    # Create the layout object\n",
    "    layout = uw.swarm.layouts.PerCellRandomLayout(swarm=gSwarm, particlesPerCell=ppc)\n",
    "    # Now use it to populate.\n",
    "    gSwarm.populate_using_layout( layout=layout )\n",
    "\n",
    "    # Lets initialise the 'materialVariable' data to represent different materials\n",
    "    # Set the material to heavy everywhere via the numpy array\n",
    "    materialVariable.data[:] = mantleIndex\n",
    "    \n",
    "    \n",
    "    #Set initial air and crust materials (allow the graph to take care of lithsophere)\n",
    "    #########\n",
    "    #This initial material setup will be model dependent\n",
    "    #########\n",
    "    for particleID in range(gSwarm.particleCoordinates.data.shape[0]):\n",
    "        if (1. - gSwarm.particleCoordinates.data[particleID][1]) < 0:\n",
    "                 materialVariable.data[particleID] = airIndex\n",
    "        elif (1. - gSwarm.particleCoordinates.data[particleID][1]) < MANTLETOCRUST:\n",
    "                 materialVariable.data[particleID] = crustIndex\n"
   ]
  },
  {
   "cell_type": "markdown",
   "metadata": {},
   "source": [
    "# Material Graphs"
   ]
  },
  {
   "cell_type": "code",
   "execution_count": 26,
   "metadata": {
    "collapsed": true
   },
   "outputs": [],
   "source": [
    "##############\n",
    "#Important: This is a quick fix for a bug that arises in parallel runs\n",
    "##############\n",
    "material_list = [0,1,2,3,4,5]\n"
   ]
  },
  {
   "cell_type": "code",
   "execution_count": 27,
   "metadata": {
    "collapsed": true
   },
   "outputs": [],
   "source": [
    "#All depth conditions are given as (km/D) where D is the length scale,\n",
    "#note that 'model depths' are used, e.g. 1-z, where z is the vertical Underworld coordinate\n",
    "#All temp conditions are in dimensionless temp. [0. - 1.]\n",
    "\n",
    "#######Graph object\n",
    "DG = nx.DiGraph(field=\"Depth\")\n",
    "\n",
    "#######Nodes\n",
    "#Note that the order of materials, deepest to shallowest is important\n",
    "DG.add_node(0, mat='mantle')\n",
    "DG.add_node(1, mat='lithosphere')\n",
    "DG.add_node(2, mat='ecl')\n",
    "DG.add_node(3, mat='crust')\n",
    "DG.add_node(4, mat='air')\n",
    "DG.add_node(5, mat='temp')\n",
    "\n",
    "\n",
    "labels=dict((n,d['mat']) for n,d in DG.nodes(data=True))\n",
    "pos=nx.spring_layout(DG)\n",
    "\n",
    "\n",
    "#######Edges\n",
    "#anything to air\n",
    "DG.add_edges_from([(0,4),(1,4), (3,4)])\n",
    "DG[0][4]['depthcondition'] = -1*TOPOHEIGHT\n",
    "DG[1][4]['depthcondition'] = -1*TOPOHEIGHT\n",
    "DG[3][4]['depthcondition'] = -1*TOPOHEIGHT\n",
    "\n",
    "\n",
    "#Anything to mantle\n",
    "DG.add_edges_from([(3,0), (1,0), (2,0), (5,0)])\n",
    "DG[3][0]['depthcondition'] = CRUSTTOMANTLE #Normal crust\n",
    "DG[1][0]['depthcondition'] = LITHTOMANTLE #This means we're going to kill lithosphere at the 660.\n",
    "DG[2][0]['depthcondition'] = CRUSTTOMANTLE #Eclogite crust\n",
    "DG[5][0]['depthcondition'] = CRUSTTOMANTLE #Normal crust\n",
    "\n",
    "#Anything to lithsphere\n",
    "DG.add_edges_from([(0,1),(4,1)])\n",
    "DG[0][1]['depthcondition'] = MANTLETOLITH\n",
    "DG[0][1]['avgtempcondition'] = 0.75*AVGTEMP #definition of thermal lithosphere\n",
    "\n",
    "\n",
    "#Anything to crust\n",
    "DG.add_edges_from([(0,3), (1,3), (4,3)])\n",
    "DG[0][3]['depthcondition'] = MANTLETOCRUST\n",
    "DG[1][3]['depthcondition'] = MANTLETOCRUST\n",
    "DG[4][3]['depthcondition'] = TOPOHEIGHT\n",
    "\n",
    "#crust to eclogite\n",
    "DG.add_edges_from([(3,2)])\n",
    "DG[3][2]['depthcondition'] =CRUSTTOECL"
   ]
  },
  {
   "cell_type": "code",
   "execution_count": 28,
   "metadata": {
    "collapsed": false
   },
   "outputs": [],
   "source": [
    "remove_nodes = []\n",
    "for node in DG.nodes():\n",
    "    if not node in material_list:\n",
    "        remove_nodes.append(node)\n",
    "        \n",
    "for rmnode in remove_nodes:\n",
    "    DG.remove_node(rmnode)"
   ]
  },
  {
   "cell_type": "code",
   "execution_count": 29,
   "metadata": {
    "collapsed": true
   },
   "outputs": [],
   "source": [
    "#A Dictionary to map strings in the graph (e.g. 'depthcondition') to particle data arrays\n",
    "\n",
    "particledepths = 1. - gSwarm.particleCoordinates.data[:,1]\n",
    "particletemps = temperatureField.evaluate(gSwarm)[:,0]\n",
    "\n",
    "conditionmap = {}\n",
    "\n",
    "conditionmap['depthcondition'] = {}\n",
    "conditionmap['depthcondition']['data'] = particledepths\n",
    "conditionmap['avgtempcondition'] = {}\n",
    "conditionmap['avgtempcondition']['data'] = particletemps"
   ]
  },
  {
   "cell_type": "code",
   "execution_count": 30,
   "metadata": {
    "collapsed": true
   },
   "outputs": [],
   "source": [
    "def update_swarm(graph, particleIndex):\n",
    "    \"\"\"\n",
    "    This function takes the materials graph (networkx.DiGraph), and a particle index,\n",
    "    then determines if a material update is required \n",
    "    and if so, returns the new materialindex\n",
    "    Args:\n",
    "        graph (networkx.DiGraph): Directed multigraph representing the transformation of material types\n",
    "        particleIndex (int): the particle index as corressponding to the index in the swarm data arrays\n",
    "    Returns:\n",
    "        if update is required the function returns the the new material variable (int) \n",
    "        else returns None\n",
    "    Raises:\n",
    "        TypeError: not implemented\n",
    "        ValueError: not implemented\n",
    "    \"\"\"\n",
    "    ##Egde gives links to other materials, we then query the conditions to see if we should change materials\n",
    "    matId = materialVariable.data[particleIndex][0]\n",
    "    innerchange = False\n",
    "    outerchange = False\n",
    "    for edge in graph[matId]:\n",
    "        if outerchange:\n",
    "            break\n",
    "        for cond in graph[matId][edge].keys():\n",
    "            outerchange = False\n",
    "            if innerchange: #found a complete transition, break inner loop\n",
    "                break\n",
    "            currentparticlevalue = conditionmap[cond]['data'][particleIndex]\n",
    "            crossover = graph[matId][edge][cond]\n",
    "            if ((matId > edge) and (currentparticlevalue > crossover)):\n",
    "                innerchange = False # continue on, \n",
    "                if graph[matId][edge].keys()[-1] == cond:\n",
    "                    outerchange = True\n",
    "                    innerchange = edge\n",
    "                    break\n",
    "            elif ((matId < edge) and (currentparticlevalue < crossover)):\n",
    "                innerchange = False\n",
    "                if graph[matId][edge].keys()[-1] == cond:\n",
    "                    outerchange = True\n",
    "                    innerchange = edge\n",
    "                    break\n",
    "            else:\n",
    "                #condition not met, break outer loop, go to next edge, outerchange should still be False\n",
    "                break\n",
    "    if type(innerchange) == int:\n",
    "        return innerchange"
   ]
  },
  {
   "cell_type": "code",
   "execution_count": 31,
   "metadata": {
    "collapsed": false
   },
   "outputs": [],
   "source": [
    "#Set the crust material in the slab using shapes/function from uw.\n",
    "\n",
    "if not checkpointLoad:\n",
    "    #materialVariable.data[:] = mantleIndex\n",
    "    #lithtemp = 0.95*0.8\n",
    "    #tempswarm = temperatureField.evaluate(gSwarm)[:,0]\n",
    "\n",
    "    #At this point, we only have to assign any materials that are defined by setup shapes,\n",
    "    #the rest of the materials will be assigned using the materials graph\n",
    "\n",
    "    for particleID in range(gSwarm.particleCoordinates.data.shape[0]):\n",
    "        coord = gSwarm.particleCoordinates.data[particleID]\n",
    "        if gSwarm.particleCoordinates.data[particleID][1] > (1.0 - CrustM):\n",
    "            materialVariable.data[particleID] =  crustIndex\n",
    "        elif Oc.evaluate(tuple(coord)) and Tri.evaluate(tuple(coord)) and not Cc.evaluate(tuple(coord)):\n",
    "            #print(\"True\")\n",
    "            materialVariable.data[particleID] =  crustIndex\n",
    "        if Gc.evaluate(tuple(coord)) and Tri.evaluate(tuple(coord)) and not Oc.evaluate(tuple(coord)):\n",
    "            materialVariable.data[particleID] =  tempIndex\n"
   ]
  },
  {
   "cell_type": "code",
   "execution_count": 32,
   "metadata": {
    "collapsed": false
   },
   "outputs": [],
   "source": [
    "#Cleanse the swarm of its sins\n",
    "#For some Material Graphs, the graph may have to be traversed more than once\n",
    "\n",
    "check = -1\n",
    "number_updated = 1\n",
    "\n",
    "while number_updated != 0:\n",
    "    number_updated = 0\n",
    "    for particleID in range(gSwarm.particleCoordinates.data.shape[0]):\n",
    "        check = update_swarm(DG, particleID)\n",
    "        if check > -1:\n",
    "            number_updated += 1\n",
    "            materialVariable.data[particleID] = check"
   ]
  },
  {
   "cell_type": "code",
   "execution_count": 33,
   "metadata": {
    "collapsed": false
   },
   "outputs": [
    {
     "data": {
      "text/html": [
       "<img src='data:image/png;base64,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'>"
      ],
      "text/plain": [
       "<IPython.core.display.HTML object>"
      ]
     },
     "execution_count": 33,
     "metadata": {},
     "output_type": "execute_result"
    }
   ],
   "source": [
    "figMat = glucifer.Figure()\n",
    "figMat.append( glucifer.objects.Points(gSwarm,materialVariable, colours='white blue red black'))\n",
    "#figMat.append( glucifer.objects.Mesh(mesh))\n",
    "figMat.save_database('test.gldb')\n",
    "figMat.show()"
   ]
  },
  {
   "cell_type": "markdown",
   "metadata": {},
   "source": [
    "## Rheology"
   ]
  },
  {
   "cell_type": "code",
   "execution_count": 34,
   "metadata": {
    "collapsed": true
   },
   "outputs": [],
   "source": [
    "# The yeilding of the upper slab is dependent on the strain rate.\n",
    "strainRate_2ndInvariant = fn.tensor.second_invariant( \n",
    "                            fn.tensor.symmetric( \n",
    "                            velocityField.fn_gradient ))\n",
    "\n",
    "\n",
    "coordinate = fn.input()\n",
    "depth = 1. - coordinate[1]\n"
   ]
  },
  {
   "cell_type": "code",
   "execution_count": null,
   "metadata": {
    "collapsed": false
   },
   "outputs": [],
   "source": []
  },
  {
   "cell_type": "code",
   "execution_count": 35,
   "metadata": {
    "collapsed": false
   },
   "outputs": [],
   "source": [
    "arhennius = fn.misc.min(ndp.up_visc, fn.math.exp(((-1.*math.log(dp.E)) + (math.log(dp.E) / (temperatureField + 1e-6)))))  \n"
   ]
  },
  {
   "cell_type": "code",
   "execution_count": 36,
   "metadata": {
    "collapsed": false
   },
   "outputs": [
    {
     "data": {
      "text/plain": [
       "561.3478200000001"
      ]
     },
     "execution_count": 36,
     "metadata": {},
     "output_type": "execute_result"
    }
   ],
   "source": [
    "ndp.fcd/ndp.cohesion"
   ]
  },
  {
   "cell_type": "code",
   "execution_count": 37,
   "metadata": {
    "collapsed": false
   },
   "outputs": [],
   "source": [
    "#Psuedo-plastic \n",
    "ys =  ndp.cohesion + (depth*ndp.fcd)\n",
    "#ys =  ndp.fc*lithopressuregrad*(30e3/dp.LS) # this is the byerlee strength at 30 km\n",
    "yss = fn.misc.max(ndp.cohesion, ys)\n",
    "plasticvisc = yss*(math.sqrt(2))/(strainRate_2ndInvariant*2.)\n",
    "plastic = fn.misc.max(ndp.low_visc,plasticvisc)\n",
    "#combine these\n",
    "mantleviscosityFn = fn.misc.min(arhennius, plastic)\n",
    "\n",
    "############\n",
    "#crust\n",
    "############\n",
    "\n",
    "\n",
    "\n",
    "ysc = (ndp.cohesion/10.) + (depth*(ndp.fcd/100.))\n",
    "#ysc = ys/100.\n",
    "ycs = fn.misc.max((ndp.cohesion/10.), ysc)\n",
    "crustplasticvisc = ycs*(math.sqrt(2))/(strainRate_2ndInvariant*2.)\n",
    "crustplastic = fn.misc.max(ndp.low_visc,crustplasticvisc) \n",
    "crustviscosityFn = fn.misc.min(arhennius, crustplastic)"
   ]
  },
  {
   "cell_type": "code",
   "execution_count": 38,
   "metadata": {
    "collapsed": false
   },
   "outputs": [
    {
     "data": {
      "text/html": [
       "<img src='data:image/png;base64,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'>"
      ],
      "text/plain": [
       "<IPython.core.display.HTML object>"
      ]
     },
     "execution_count": 38,
     "metadata": {},
     "output_type": "execute_result"
    }
   ],
   "source": [
    "figVisc = glucifer.Figure()\n",
    "figVisc.append( glucifer.objects.Surface(mesh, mantleviscosityFn, logScale=True))\n",
    "figVisc.append(glucifer.objects.VectorArrows(mesh, velocityField, scaling=0.0002))\n",
    "figVisc.show()"
   ]
  },
  {
   "cell_type": "code",
   "execution_count": 39,
   "metadata": {
    "collapsed": false
   },
   "outputs": [],
   "source": [
    "# Here we set a viscosity value of '1.' for both materials\n",
    "viscosityMapFn = fn.branching.map( fn_key = materialVariable,\n",
    "                         mapping = {airIndex:ndp.StAeta0, \n",
    "                                    lithosphereIndex:mantleviscosityFn, \n",
    "                                    crustIndex:crustviscosityFn,\n",
    "                                    mantleIndex:mantleviscosityFn, \n",
    "                                    eclIndex:crustviscosityFn,\n",
    "                                    tempIndex:mantleviscosityFn} )\n",
    "\n",
    "densityMapFn = fn.branching.map( fn_key = materialVariable,\n",
    "                         mapping = {airIndex:ndp.StA_RA, \n",
    "                                    lithosphereIndex:ndp.RA*temperatureField, \n",
    "                                    crustIndex:ndp.RA*temperatureField, \n",
    "                                    mantleIndex:ndp.RA*temperatureField, \n",
    "                                    eclIndex:ndp.RA*temperatureField,\n",
    "                                    tempIndex:ndp.RA*temperatureField, } )\n",
    "\n",
    "# Define our gravity using a python tuple (this will be automatically converted to a function)\n",
    "gravity = ( 0.0, 1.0 )\n",
    "\n",
    "buoyancyFn = gravity*densityMapFn"
   ]
  },
  {
   "cell_type": "markdown",
   "metadata": {},
   "source": [
    "## Build Stokes system"
   ]
  },
  {
   "cell_type": "code",
   "execution_count": 40,
   "metadata": {
    "collapsed": true
   },
   "outputs": [],
   "source": [
    "stokesPIC = uw.systems.Stokes( velocityField = velocityField, \n",
    "                               pressureField = pressureField,\n",
    "                               #swarm         = gSwarm, \n",
    "                               conditions    = [freeslipBC,],\n",
    "                               fn_viscosity   = arhennius, \n",
    "                               fn_bodyforce   = buoyancyFn,\n",
    "                               swarm=gSwarm)"
   ]
  },
  {
   "cell_type": "code",
   "execution_count": 41,
   "metadata": {
    "collapsed": true
   },
   "outputs": [],
   "source": [
    "#We do one solve with linear viscosity to get the initial strain rate invariant. \n",
    "#This solve step also calculates a 'guess' of the the velocity field based on the linear system, \n",
    "#which is used later in the non-linear solver.\n",
    "\n",
    "solver = uw.systems.Solver(stokesPIC)\n",
    "# If not doing a restart, do a solve on the non-plastic system\n",
    "if not checkpointLoad:\n",
    "    solver.solve()"
   ]
  },
  {
   "cell_type": "code",
   "execution_count": 42,
   "metadata": {
    "collapsed": true
   },
   "outputs": [],
   "source": [
    "#Switch particle escape on, this will also trigger the inflow population control \n",
    "gSwarm.particleEscape = True"
   ]
  },
  {
   "cell_type": "code",
   "execution_count": null,
   "metadata": {
    "collapsed": true
   },
   "outputs": [],
   "source": [
    "####################\n",
    "#Add the non-linear viscosity to the Stokes system\n",
    "stokesPIC.fn_viscosity = viscosityMapFn\n",
    "###################\n",
    "\n",
    "#Set more advanced solver option\n",
    "solver.options.main.Q22_pc_type='gkgdiag'\n",
    "#solver.options.A11.ksp_rtol=1e-2\n",
    "#solver.options.scr.ksp_rtol=1e-3\n",
    "#solver.options.A11.ksp_type=\"cg\"\n",
    "solver.options.scr.use_previous_guess = True\n",
    "#solver.options.scr.ksp_set_min_it_converge = 1\n",
    "#solver.options.main.penalty=10.0\n",
    "\n",
    "#solver.options.mg.levels = 3\n",
    "#solver.options.main.remove_constant_pressure_null_space=True\n",
    "#solver.options.main.penalty = 1e2\n",
    "\n",
    "solver.options.A11.ksp_rtol=1e-4\n",
    "solver.options.scr.ksp_rtol=1e-4\n",
    "\n",
    "solver.options.A11.ksp_monitor=''\n",
    "solver.options.A11.ksp_converged_reason=''"
   ]
  },
  {
   "cell_type": "code",
   "execution_count": null,
   "metadata": {
    "collapsed": true
   },
   "outputs": [],
   "source": [
    "solver.solve(nonLinearIterate=True)"
   ]
  },
  {
   "cell_type": "code",
   "execution_count": null,
   "metadata": {
    "collapsed": false
   },
   "outputs": [],
   "source": [
    "ndp.H"
   ]
  },
  {
   "cell_type": "code",
   "execution_count": 143,
   "metadata": {
    "collapsed": false
   },
   "outputs": [],
   "source": [
    "#Create advdiff system\n",
    "\n",
    "\n",
    "\n",
    "#advDiff = uw.systems.AdvectionDiffusion( phiField       = temperatureField, \n",
    "#                                         phiDotField    = temperatureDotField, \n",
    "#                                         velocityField  = velocityField, \n",
    "#                                         fn_diffusivity = 1.0,\n",
    "#                                         fn_sourceTerm = 0.,\n",
    "#                                         conditions     = [tempBC,] )\n",
    "\n",
    "\n",
    "advDiff = uw.systems.AdvectionDiffusion( phiField       = temperatureField, \n",
    "                                         phiDotField    = temperatureDotField, \n",
    "                                         velocityField  = velocityField,\n",
    "                                         fn_sourceTerm    = ndp.H,\n",
    "                                         fn_diffusivity = 1.0, \n",
    "                                         conditions     = [dirichTempBC,] )\n",
    "\n",
    "\n",
    "\n",
    "advector = uw.systems.SwarmAdvector( swarm         = gSwarm, \n",
    "                                     velocityField = velocityField, \n",
    "                                     order         = 1)"
   ]
  },
  {
   "cell_type": "code",
   "execution_count": null,
   "metadata": {
    "collapsed": true
   },
   "outputs": [],
   "source": [
    "pics = uw.swarm.PICIntegrationSwarm(gSwarm)"
   ]
  },
  {
   "cell_type": "markdown",
   "metadata": {},
   "source": [
    "## Figures / gldbs etc"
   ]
  },
  {
   "cell_type": "code",
   "execution_count": 145,
   "metadata": {
    "collapsed": true
   },
   "outputs": [],
   "source": [
    "viscVariable = gSwarm.add_variable( dataType=\"float\", count=1 )\n",
    "viscVariable.data[:] = viscosityMapFn.evaluate(gSwarm)"
   ]
  },
  {
   "cell_type": "code",
   "execution_count": 146,
   "metadata": {
    "collapsed": true
   },
   "outputs": [],
   "source": [
    "#Pack some stuff into a database as well\n",
    "figDb = glucifer.Figure()\n",
    "figDb.append( glucifer.objects.Points(gSwarm,viscVariable, logScale=True, colours='brown white blue'))\n",
    "figDb.append( glucifer.objects.Points(gSwarm,materialVariable, colours='brown white blue red'))\n",
    "figDb.append( glucifer.objects.Mesh(mesh))\n",
    "figDb.append( glucifer.objects.VectorArrows(mesh,velocityField, arrowHead=0.2, scaling=0.01))\n",
    "figDb.append( glucifer.objects.Surface(mesh, strainRate_2ndInvariant, logScale=True, colours='brown white blue'))\n",
    "figDb.append( glucifer.objects.Surface(mesh, temperatureField))"
   ]
  },
  {
   "cell_type": "code",
   "execution_count": 152,
   "metadata": {
    "collapsed": true
   },
   "outputs": [],
   "source": [
    "step = 0\n",
    "realtime = 0.\n",
    "timevals = [0.]"
   ]
  },
  {
   "cell_type": "code",
   "execution_count": null,
   "metadata": {
    "collapsed": false
   },
   "outputs": [
    {
     "name": "stdout",
     "output_type": "stream",
     "text": [
      "0.0\n",
      "1.0\n",
      "2.0\n",
      "3.0\n",
      "4.0"
     ]
    }
   ],
   "source": [
    "# initialise timer for computation\n",
    "startMain = time.clock()\n",
    "# Perform steps#\n",
    "while realtime < 0.2:\n",
    "#while step < 25:\n",
    "    #Enter non-linear loop\n",
    "    print step\n",
    "    solver.solve(nonLinearIterate=True)\n",
    "    dt = advDiff.get_max_dt()\n",
    "    if step == 0:\n",
    "        dt = 0.\n",
    "    #start = time.clock()\n",
    "    advDiff.integrate(dt)\n",
    "    #machine_time = (time.clock()-start)\n",
    "    #print(\"total advDiff time is: \" + str(machine_time))\n",
    "    # Advect swarm using this timestep size\n",
    "    #start = time.clock()\n",
    "    advector.integrate(dt)\n",
    "    #machine_time = (time.clock()-start)\n",
    "    #print(\"total advector time is: \" + str(machine_time))\n",
    "    # Increment\n",
    "    realtime += dt\n",
    "    step += 1\n",
    "    timevals.append(realtime)\n",
    "    \n",
    "    ################\n",
    "    #Gldb output\n",
    "    ################ \n",
    "    if (step % gldbs_output == 0):\n",
    "        #Rebuild any necessary swarm variables\n",
    "        viscVariable.data[:] = viscosityMapFn.evaluate(gSwarm)\n",
    "        #Write gldbs\n",
    "        fnamedb = \"dbFig\" + \"_\" + str(ModIt) + \"_\" + str(step) + \".gldb\"\n",
    "        fullpath = os.path.join(outputPath + \"gldbs/\" + fnamedb)\n",
    "        figDb.show()\n",
    "        figDb.save_database(fullpath)\n",
    "    ################\n",
    "    #Also repopulate entire swarm periodically\n",
    "    ################\n",
    "    if step % swarm_repop == 0:\n",
    "        pics.repopulate()\n",
    "    "
   ]
  },
  {
   "cell_type": "code",
   "execution_count": null,
   "metadata": {
    "collapsed": true
   },
   "outputs": [],
   "source": []
  }
 ],
 "metadata": {
  "kernelspec": {
   "display_name": "Python 2",
   "language": "python",
   "name": "python2"
  },
  "language_info": {
   "codemirror_mode": {
    "name": "ipython",
    "version": 2
   },
   "file_extension": ".py",
   "mimetype": "text/x-python",
   "name": "python",
   "nbconvert_exporter": "python",
   "pygments_lexer": "ipython2",
   "version": "2.7.11"
  }
 },
 "nbformat": 4,
 "nbformat_minor": 0
}
