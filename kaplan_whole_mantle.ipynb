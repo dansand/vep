{
 "cells": [
  {
   "cell_type": "markdown",
   "metadata": {
    "collapsed": true
   },
   "source": [
    "## From Kaplan "
   ]
  },
  {
   "cell_type": "code",
   "execution_count": 333,
   "metadata": {
    "collapsed": true
   },
   "outputs": [],
   "source": [
    "import networkx as nx\n",
    "import underworld as uw\n",
    "import math\n",
    "from underworld import function as fn\n",
    "import glucifer\n",
    "#import matplotlib.pyplot as pyplot\n",
    "import time\n",
    "import numpy as np\n",
    "import os\n",
    "import sys\n",
    "import natsort\n",
    "import shutil\n",
    "from easydict import EasyDict as edict\n",
    "import slippy2 as sp\n",
    "from slippy2 import unit_conversions\n",
    "from slippy2 import boundary_layer2d\n",
    "\n",
    "\n",
    "\n",
    "from mpi4py import MPI\n",
    "comm = MPI.COMM_WORLD\n",
    "rank = comm.Get_rank()"
   ]
  },
  {
   "cell_type": "code",
   "execution_count": null,
   "metadata": {
    "collapsed": true
   },
   "outputs": [],
   "source": []
  },
  {
   "cell_type": "code",
   "execution_count": 334,
   "metadata": {
    "collapsed": true
   },
   "outputs": [],
   "source": [
    "############\n",
    "#Model name.  \n",
    "############\n",
    "Model = \"T\"\n",
    "ModNum = 10\n",
    "\n",
    "if len(sys.argv) == 1:\n",
    "    ModIt = \"Base\"\n",
    "elif sys.argv[1] == '-f':\n",
    "    ModIt = \"Base\"\n",
    "else:\n",
    "    ModIt = str(sys.argv[1])"
   ]
  },
  {
   "cell_type": "code",
   "execution_count": 335,
   "metadata": {
    "collapsed": true
   },
   "outputs": [],
   "source": [
    "###########\n",
    "#Standard output directory setup\n",
    "###########\n",
    "\n",
    "\n",
    "outputPath = \"results\" + \"/\" +  str(Model) + \"/\" + str(ModNum) + \"/\" + str(ModIt) + \"/\"\n",
    "imagePath = outputPath + 'images/'\n",
    "filePath = outputPath + 'files/'\n",
    "checkpointPath = outputPath + 'checkpoint/'\n",
    "dbPath = outputPath + 'gldbs/'\n",
    "outputFile = 'results_model' + Model + '_' + str(ModNum) + '_' + str(ModIt) + '.dat'\n",
    "\n",
    "if uw.rank()==0:\n",
    "    # make directories if they don't exist\n",
    "    if not os.path.isdir(outputPath):\n",
    "        os.makedirs(outputPath)\n",
    "    if not os.path.isdir(checkpointPath):\n",
    "        os.makedirs(checkpointPath)\n",
    "    if not os.path.isdir(imagePath):\n",
    "        os.makedirs(imagePath)\n",
    "    if not os.path.isdir(dbPath):\n",
    "        os.makedirs(dbPath)\n",
    "    if not os.path.isdir(filePath):\n",
    "        os.makedirs(filePath)\n",
    "        \n",
    "comm.Barrier() #Barrier here so no procs run the check in the next cell too early "
   ]
  },
  {
   "cell_type": "code",
   "execution_count": 336,
   "metadata": {
    "collapsed": false
   },
   "outputs": [
    {
     "name": "stdout",
     "output_type": "stream",
     "text": [
      "results/T/10/Base/checkpoint/ is empty\n"
     ]
    }
   ],
   "source": [
    "###########\n",
    "#Check if starting from checkpoint\n",
    "###########\n",
    "\n",
    "checkdirs = []\n",
    "for dirpath, dirnames, files in os.walk(checkpointPath):\n",
    "    if files:\n",
    "        print dirpath, 'has files'\n",
    "        checkpointLoad = True\n",
    "        checkdirs.append(dirpath)\n",
    "    if not files:\n",
    "        print dirpath, 'is empty'\n",
    "        checkpointLoad = False\n",
    "        "
   ]
  },
  {
   "cell_type": "code",
   "execution_count": 337,
   "metadata": {
    "collapsed": false
   },
   "outputs": [],
   "source": [
    "###########\n",
    "#Physical parameters\n",
    "###########\n",
    "\n",
    "#dimensional parameter dictionary\n",
    "dp = edict({'LS':2890.*1e3,\n",
    "           'rho':3300,\n",
    "           'g':9.81, \n",
    "           'eta0':1e20,\n",
    "           'k':10**-6,\n",
    "           'a':3e-5, \n",
    "           'deltaT':1400,\n",
    "           'TS':273,\n",
    "           'TB':1673,\n",
    "           'cohesion':5e6,\n",
    "           'fc':0.03,\n",
    "           'E':1e5, \n",
    "           'StALS': 27.*1e3})\n",
    "\n",
    "#scale_factors\n",
    "\n",
    "sf = edict({'stress':dp.LS**2/(dp.k*dp.eta0),\n",
    "           'lith_grad':dp.rho*dp.g*(dp.LS)**3/(dp.eta0*dp.k) })\n",
    "\n",
    "#dimensionless parameters\n",
    "\n",
    "ndp = edict({'RA':(dp.g*dp.rho*dp.a*dp.deltaT *(dp.LS)**3)/(dp.k*dp.eta0),\n",
    "           'cohesion':dp.cohesion*sf.stress,\n",
    "            'fcd':dp.fc*sf.lith_grad,\n",
    "            'TS':dp.TS/dp.deltaT,\n",
    "            'TB':dp.TB/dp.deltaT,\n",
    "            'low_visc':1e-4,\n",
    "            'StAeta0':0.01,\n",
    "            'up_visc':1e5,\n",
    "            'H':0.})"
   ]
  },
  {
   "cell_type": "code",
   "execution_count": 338,
   "metadata": {
    "collapsed": false
   },
   "outputs": [
    {
     "data": {
      "text/plain": [
       "417605.0"
      ]
     },
     "execution_count": 338,
     "metadata": {},
     "output_type": "execute_result"
    }
   ],
   "source": [
    "ndp.cohesion"
   ]
  },
  {
   "cell_type": "code",
   "execution_count": 339,
   "metadata": {
    "collapsed": true
   },
   "outputs": [],
   "source": [
    "ETAREF = dp.rho*dp.g*dp.a*dp.deltaT*((dp.LS)**3)/(ndp.RA*dp.k) #equivalent dimensional reference viscosity\n",
    "#RC = (3300.*dp.g*(dp.LS)**3)/(ETAREF *dp.k) #Composisitional Rayleigh number for rock-air buoyancy force\n",
    "RCA = (1650.*dp.g*(dp.LS)**3)/(ETAREF *dp.k) #Composisitional Rayleigh number for rock-air buoyancy force\n",
    "COMP_RA_FACT_AIR = RCA/ndp.RA\n",
    "#RCC = (100.*dp.g*(dp.LS)**3)/(ETAREF *dp.k) #Composisitional Rayleigh number for crust\n",
    "#COMP_RA_FACT_CRUST = RCC/ndp.RA\n",
    "#RCE = -1*(200.*dp.g*(dp.LS)**3)/(ETAREF *dp.k) #Composisitional Rayleigh number for eclogite \n",
    "#COMP_RA_FACT_ECL = RCE/ndp.RA\n",
    "ndp[\"StA_RA\"] = ndp.RA*COMP_RA_FACT_AIR"
   ]
  },
  {
   "cell_type": "code",
   "execution_count": 340,
   "metadata": {
    "collapsed": false
   },
   "outputs": [],
   "source": [
    "#A few parameters defining lengths scales, affects materal transistions etc.\n",
    "MANTLETOCRUST = (20.*1e3)/dp.LS #Crust depth\n",
    "CRUSTTOMANTLE = (900.*1e3)/dp.LS \n",
    "LITHTOMANTLE = (900.*1e3)/dp.LS \n",
    "MANTLETOLITH = (200.*1e3)/dp.LS \n",
    "TOPOHEIGHT = (0.*1e3)/dp.LS  #rock-air topography limits\n",
    "CRUSTTOECL  = (100.*1e3)/dp.LS\n",
    "AVGTEMP = ndp.TB #Used to define lithosphere"
   ]
  },
  {
   "cell_type": "code",
   "execution_count": 341,
   "metadata": {
    "collapsed": true
   },
   "outputs": [],
   "source": [
    "###########\n",
    "#Boundary layer / slab paramaters\n",
    "###########\n",
    "\n",
    "subzone = -0.35\n",
    "mor = 0.6\n",
    "vel = 70e3\n",
    "agelimit = 100.\n",
    "thermallimit = 0.8\n",
    "\n",
    "#Slab perturbation paramaters\n",
    "Roc = 450.\n",
    "Crust = 35.\n",
    "theta = 89.\n"
   ]
  },
  {
   "cell_type": "code",
   "execution_count": 342,
   "metadata": {
    "collapsed": false
   },
   "outputs": [],
   "source": [
    "#240/2./2./2./2."
   ]
  },
  {
   "cell_type": "code",
   "execution_count": 343,
   "metadata": {
    "collapsed": true
   },
   "outputs": [],
   "source": [
    "###########\n",
    "#Model setup parameters\n",
    "###########\n",
    "\n",
    "stickyAir = False\n",
    "\n",
    "MINX = -0.75\n",
    "MINY = 0.\n",
    "MAXX = 0.75\n",
    "\n",
    "#MAXY = 1.035\n",
    "MAXY = 1.\n",
    "\n",
    "if MINX == 0.:\n",
    "    squareModel = True\n",
    "else: \n",
    "    squareModel = False\n",
    "    \n",
    "    \n",
    "dim = 2          # number of spatial dimensions\n",
    "\n",
    "\n",
    "#MESH STUFF\n",
    "\n",
    "RES = 160\n",
    "\n",
    "\n",
    "if MINX == 0.:\n",
    "    Xres = RES\n",
    "else:\n",
    "    Xres = 256 #Hardcoding this fow now.\n",
    "\n",
    "\n",
    "if stickyAir:\n",
    "    Yres = RES\n",
    "    MAXY = 1. + dp.StALS/dp.LS #150km\n",
    "    \n",
    "else:\n",
    "    Yres = RES\n",
    "    MAXY = 1.\n",
    "\n",
    "\n",
    "periodic = [False, False]\n",
    "elementType = \"Q1/dQ0\"\n",
    "#elementType =\"Q2/DPC1\"\n",
    "\n",
    "refineMesh = True\n",
    "\n",
    "\n",
    "#System/Solver stuff\n",
    "\n",
    "PIC_integration=True\n",
    "ppc = 25"
   ]
  },
  {
   "cell_type": "code",
   "execution_count": 344,
   "metadata": {
    "collapsed": true
   },
   "outputs": [],
   "source": [
    "###########\n",
    "#Model Runtime parameters\n",
    "###########\n",
    "\n",
    "swarm_update = 10\n",
    "swarm_repop = 25\n",
    "files_output = 1e6\n",
    "gldbs_output = 25\n",
    "images_output = 1e6\n",
    "checkpoint_every = 25\n",
    "metric_output = 25\n",
    "sticky_air_temp = 10\n",
    "\n",
    "comm.Barrier() #Barrier here so not procs run the check in the next cell too early \n",
    "\n",
    "assert metric_output <= checkpoint_every, 'Checkpointing should run less or as ofen as metric output'\n",
    "#assert (metric_output >= swarm_update), 'Swarm update is needed before checkpointing'\n",
    "#assert metric_output >= sticky_air_temp, 'Sticky air temp should be updated more frequently that metrics'"
   ]
  },
  {
   "cell_type": "code",
   "execution_count": 345,
   "metadata": {
    "collapsed": true
   },
   "outputs": [],
   "source": [
    "mesh = uw.mesh.FeMesh_Cartesian( elementType = elementType,\n",
    "                                 elementRes  = (Xres, Yres), \n",
    "                                 minCoord    = (MINX,MINY), \n",
    "                                 maxCoord=(MAXX,MAXY), periodic=periodic)\n",
    "\n",
    "\n",
    "\n",
    "velocityField       = uw.mesh.MeshVariable( mesh=mesh,         nodeDofCount=dim )\n",
    "pressureField       = uw.mesh.MeshVariable( mesh=mesh.subMesh, nodeDofCount=1 )\n",
    "temperatureField    = uw.mesh.MeshVariable( mesh=mesh,         nodeDofCount=1 )\n",
    "temperatureDotField = uw.mesh.MeshVariable( mesh=mesh,         nodeDofCount=1 )"
   ]
  },
  {
   "cell_type": "code",
   "execution_count": 346,
   "metadata": {
    "collapsed": true
   },
   "outputs": [],
   "source": [
    "# Initialise data.. Note that we are also setting boundary conditions here\n",
    "velocityField.data[:] = [0.,0.]\n",
    "pressureField.data[:] = 0.\n",
    "temperatureField.data[:] = 0.\n",
    "temperatureDotField.data[:] = 0."
   ]
  },
  {
   "cell_type": "code",
   "execution_count": 347,
   "metadata": {
    "collapsed": true
   },
   "outputs": [],
   "source": [
    "axis = 1\n",
    "orgs = np.linspace(mesh.minCoord[axis], mesh.maxCoord[axis], mesh.elementRes[axis] + 1)\n",
    "\n",
    "value_to_constrain = 1.\n",
    "\n",
    "\n",
    "yconst = [(sp.find_closest(orgs, value_to_constrain), np.array([1.,0]))]\n"
   ]
  },
  {
   "cell_type": "code",
   "execution_count": 348,
   "metadata": {
    "collapsed": false
   },
   "outputs": [
    {
     "name": "stdout",
     "output_type": "stream",
     "text": [
      "Min\n",
      "(80, 0.007501249999999955, 0.84697499999999992, 0.61984810126581424)\n",
      "('edges', 80)\n",
      "-- iteration 0 --\n",
      "| F( p_n ) |^2: 5.12401930775e-05\n",
      "| p_n+1 - p_n |^2: 0.437317967852\n",
      "-- iteration 1 --\n",
      "| F( p_n ) |^2: 4.52953144163e-31\n",
      "Min, Max element width: \n",
      "0.00750\n",
      "0.01750\n"
     ]
    }
   ],
   "source": [
    "#Y-Axis\n",
    "if refineMesh:\n",
    "    #Y-Axis\n",
    "    axis = 1\n",
    "    origcoords = np.linspace(mesh.minCoord[axis], mesh.maxCoord[axis], mesh.elementRes[axis] + 1)\n",
    "    edge_rest_lengths = np.diff(origcoords)\n",
    "\n",
    "    deform_lengths = edge_rest_lengths.copy()\n",
    "    min_point =  (mesh.maxCoord[axis])\n",
    "    el_reduction = 0.6001\n",
    "    dx = mesh.maxCoord[axis]\n",
    "\n",
    "    deform_lengths = deform_lengths - \\\n",
    "                                    ((1.-el_reduction)*deform_lengths[0]) + \\\n",
    "                                    abs((origcoords[1:] - min_point))*((0.5*deform_lengths[0])/dx)\n",
    "\n",
    "    #print(edge_rest_lengths.shape, deform_lengths.shape)\n",
    "\n",
    "    sp.deform_1d(deform_lengths, mesh,axis = 'y',norm = 'Min', constraints = yconst)"
   ]
  },
  {
   "cell_type": "code",
   "execution_count": 349,
   "metadata": {
    "collapsed": false
   },
   "outputs": [
    {
     "data": {
      "text/plain": [
       "-0.35"
      ]
     },
     "execution_count": 349,
     "metadata": {},
     "output_type": "execute_result"
    }
   ],
   "source": [
    "subzone"
   ]
  },
  {
   "cell_type": "code",
   "execution_count": 350,
   "metadata": {
    "collapsed": false
   },
   "outputs": [],
   "source": [
    "lith= boundary_layer2d.LithosphereTemps(mesh, temperatureField, dp.LS, subzone , mor, tint=ndp.TB, tsurf=ndp.TS, vel= 10e3, diffs = 1e-6)\n"
   ]
  },
  {
   "cell_type": "code",
   "execution_count": 351,
   "metadata": {
    "collapsed": false
   },
   "outputs": [
    {
     "data": {
      "text/plain": [
       "[<matplotlib.lines.Line2D at 0x12353ea10>]"
      ]
     },
     "execution_count": 351,
     "metadata": {},
     "output_type": "execute_result"
    },
    {
     "data": {
      "image/png": "[encoded data removed]",
      "text/plain": [
       "<matplotlib.figure.Figure at 0x120b8bf10>"
      ]
     },
     "metadata": {},
     "output_type": "display_data"
    }
   ],
   "source": [
    "#import matplotlib.pyplot as pyplot\n",
    "#%matplotlib inline\n",
    "#xs = np.linspace(MINX, MAXX, 100)\n",
    "#ages = [lith.agefunc(x) for x in xs]\n",
    "#pyplot.plot(xs, ages)"
   ]
  },
  {
   "cell_type": "code",
   "execution_count": 352,
   "metadata": {
    "collapsed": false
   },
   "outputs": [],
   "source": [
    "fudge = 1.\n",
    "\n",
    "for index, coord in enumerate(mesh.data):\n",
    "    xloc = coord[0]\n",
    "    agema = lith.agefunc(xloc)\n",
    "    #print agema\n",
    "    if agelimit:\n",
    "        agema = min(agelimit, agema)\n",
    "        \n",
    "    if  coord[0] > mor or coord[0] < subzone: # Hacky implementation of asymmetry in spreading rate\n",
    "        agema = agema/2.\n",
    "    if thermallimit:\n",
    "        if (1.-coord[1]) < (lith.lithdepthfunc(agema)/dp.LS)*thermallimit: #comparison of dimensionless (model) lengths\n",
    "            zloc = ((1.- coord[1])* dp.LS) # dimensional depth kms\n",
    "            t = lith.tempfunc(agema,  zloc)\n",
    "            temperatureField.data[index] = t\n",
    "        else:\n",
    "            temperatureField.data[index] = lith.tint\n",
    "    \n",
    "    else:\n",
    "        if coord[1] >= 1.:\n",
    "            temperatureField.data[index] = lith.tsurf\n",
    "        else:\n",
    "            zloc = ((1.- coord[1])* dp.LS) # dimensional depth kms\n",
    "            t = lith.tempfunc(agema, zloc)\n",
    "            temperatureField.data[index] = t  "
   ]
  },
  {
   "cell_type": "code",
   "execution_count": 353,
   "metadata": {
    "collapsed": true
   },
   "outputs": [],
   "source": [
    "def inCircleFnGenerator(centre, radius):\n",
    "    coord = fn.input()\n",
    "    offsetFn = coord - centre\n",
    "    return fn.math.dot( offsetFn, offsetFn ) < radius**2\n",
    "\n",
    "#Setup slab perturbation params (mostly dimensionles / model params here)\n",
    "phi = 90. - theta\n",
    "RocM = (Roc/dp.LS)*1e3\n",
    "CrustM = MANTLETOCRUST\n",
    "#slabdepth = lithdepthfunc(agefunc(off, off, vel), dp.k)\n",
    "slabdepthM = lith.lithdepthfunc(lith.agefunc(subzone)) /dp.LS\n",
    "#slabdepthM *= 5.\n",
    "Org = (0.+subzone, 1.-RocM)\n",
    "#Use three circles to define our slab and crust perturbation,  \n",
    "Oc = inCircleFnGenerator(Org , RocM)\n",
    "Gc = inCircleFnGenerator(Org , RocM + (50e3/dp.LS)) #a slightly larger circle for the 'gap'\n",
    "Ic = inCircleFnGenerator(Org , RocM - slabdepthM)\n",
    "Cc = inCircleFnGenerator(Org , RocM - CrustM)\n",
    "dx = (RocM)/(np.math.tan((np.math.pi/180.)*phi))\n",
    "\n",
    "#Work our which way the slab should face:\n",
    "sense = 'Left'\n",
    "#if lith.agefunc(subzone + 0.0001) < lith.agefunc(subzone - 0.0001):\n",
    "#    sense = 'Right'\n",
    "\n",
    "#We'll also create a triangle which will truncate the circles defining the slab...\n",
    "if sense == 'Left': \n",
    "    ptx = subzone - dx\n",
    "else:\n",
    "    ptx = subzone + dx\n",
    "\n",
    "coords = ((0.+subzone, 1), (0.+subzone, 1.-RocM), (ptx, 1.))\n",
    "Tri = fn.shape.Polygon(np.array(coords))"
   ]
  },
  {
   "cell_type": "code",
   "execution_count": 354,
   "metadata": {
    "collapsed": true
   },
   "outputs": [],
   "source": [
    "#Assign temperatures in the perturbation region\n",
    "#sds = []\n",
    "if sense == 'Left': \n",
    "    age = lith.agefunc(subzone + 0.001)\n",
    "else:\n",
    "    age = lith.agefunc(subzone - 0.001)\n",
    "    \n",
    "if agelimit:\n",
    "        age = min(agelimit, age)\n",
    "                \n",
    "\n",
    "for index, coord in enumerate(mesh.data):\n",
    "    #if Oc.evaluate(tuple(coord)) and Tri.evaluate(tuple(coord)) and not Ic.evaluate(tuple(coord)): #in inner circle, not in outer circle\n",
    "    if Oc.evaluate(tuple(coord)) and Tri.evaluate(tuple(coord)): #In the quarter-circle defining the lithosphere\n",
    "  \n",
    "        sd = ((RocM - math.sqrt((coord[0] - Org[0])**2 + (coord[1] - Org[1])**2))*dp.LS) #distance from slab edge in m\n",
    "        #print sd\n",
    "        if thermallimit:\n",
    "            if sd < (lith.lithdepthfunc(age))*thermallimit: #comparison of dimensionless (model) lengths\n",
    "                t = lith.tempfunc(age, sd)\n",
    "                temperatureField.data[index] = t\n",
    "        else:\n",
    "            t = lith.tempfunc(age, sd)\n",
    "            temperatureField.data[index] = t\n",
    "    if Gc.evaluate(tuple(coord)) and Tri.evaluate(tuple(coord)) and not Oc.evaluate(tuple(coord)):\n",
    "        temperatureField.data[index] =  lith.tint"
   ]
  },
  {
   "cell_type": "code",
   "execution_count": 355,
   "metadata": {
    "collapsed": false
   },
   "outputs": [
    {
     "data": {
      "text/html": [
       "<img src='data:image/png;base64,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'>"
      ],
      "text/plain": [
       "<IPython.core.display.HTML object>"
      ]
     },
     "execution_count": 355,
     "metadata": {},
     "output_type": "execute_result"
    }
   ],
   "source": [
    "figTemp = glucifer.Figure()\n",
    "figTemp.append( glucifer.objects.Surface(mesh, temperatureField, discrete=True))\n",
    "\n",
    "#figTemp.save_database('test.gldb')\n",
    "figTemp.show()"
   ]
  },
  {
   "cell_type": "code",
   "execution_count": null,
   "metadata": {
    "collapsed": false
   },
   "outputs": [],
   "source": []
  },
  {
   "cell_type": "code",
   "execution_count": 356,
   "metadata": {
    "collapsed": true
   },
   "outputs": [],
   "source": [
    "# send boundary condition information to underworld\n",
    "IWalls = mesh.specialSets[\"MinI_VertexSet\"] + mesh.specialSets[\"MaxI_VertexSet\"]\n",
    "JWalls = mesh.specialSets[\"MinJ_VertexSet\"] + mesh.specialSets[\"MaxJ_VertexSet\"]\n",
    "TWalls = mesh.specialSets[\"MaxJ_VertexSet\"]\n",
    "BWalls = mesh.specialSets[\"MinJ_VertexSet\"]"
   ]
  },
  {
   "cell_type": "code",
   "execution_count": null,
   "metadata": {
    "collapsed": false
   },
   "outputs": [],
   "source": []
  },
  {
   "cell_type": "code",
   "execution_count": 357,
   "metadata": {
    "collapsed": false
   },
   "outputs": [],
   "source": [
    "#Set Dirichlet Temp conditions\n",
    "\n",
    "for index in mesh.specialSets[\"MinJ_VertexSet\"]:\n",
    "    temperatureField.data[index] = lith.tint\n",
    "for index in mesh.specialSets[\"MaxJ_VertexSet\"]:\n",
    "    temperatureField.data[index] = lith.tsurf\n",
    "\n",
    "\n",
    "# Now setup the dirichlet boundary condition\n",
    "# Note that through this object, we are flagging to the system \n",
    "# that these nodes are to be considered as boundary conditions. \n",
    "# Also note that we provide a tuple of sets.. One for the Vx, one for Vy.\n",
    "freeslipBC = uw.conditions.DirichletCondition(     variable=velocityField, \n",
    "                                              indexSetsPerDof=(IWalls, JWalls) )\n",
    "\n",
    "# also set dirichlet for temp field\n",
    "dirichTempBC = uw.conditions.DirichletCondition(     variable=temperatureField, \n",
    "                                              indexSetsPerDof=(JWalls,) )"
   ]
  },
  {
   "cell_type": "markdown",
   "metadata": {},
   "source": [
    "# Particles"
   ]
  },
  {
   "cell_type": "code",
   "execution_count": 358,
   "metadata": {
    "collapsed": true
   },
   "outputs": [],
   "source": [
    "###########\n",
    "#Material Swarm and variables\n",
    "###########\n",
    "\n",
    "gSwarm = uw.swarm.Swarm(mesh=mesh)\n",
    "materialVariable = gSwarm.add_variable( dataType=\"int\", count=1 )"
   ]
  },
  {
   "cell_type": "code",
   "execution_count": 359,
   "metadata": {
    "collapsed": false
   },
   "outputs": [],
   "source": [
    "mantleIndex = 0\n",
    "lithosphereIndex = 1\n",
    "eclIndex = 2\n",
    "crustIndex = 3\n",
    "airIndex = 4\n",
    "tempIndex = 5\n",
    "\n",
    "\n",
    "\n",
    "\n",
    "if checkpointLoad:\n",
    "    checkpointLoadDir = natsort.natsorted(checkdirs)[-1]\n",
    "    temperatureField.load(os.path.join(checkpointLoadDir, \"temperatureField\" + \".hdf5\"))\n",
    "    pressureField.load(os.path.join(checkpointLoadDir, \"pressureField\" + \".hdf5\"))\n",
    "    velocityField.load(os.path.join(checkpointLoadDir, \"velocityField\" + \".hdf5\"))\n",
    "    gSwarm.load(os.path.join(checkpointLoadDir, \"swarm\" + \".h5\"))\n",
    "    for ix in range(len(varlist)):\n",
    "        varb = varlist[ix]\n",
    "        varb.load(os.path.join(checkpointLoadDir,varnames[ix] + \".h5\"))\n",
    "\n",
    "else:\n",
    "\n",
    "    # Layouts are used to populate the swarm across the whole domain\n",
    "    # Create the layout object\n",
    "    layout = uw.swarm.layouts.PerCellRandomLayout(swarm=gSwarm, particlesPerCell=ppc)\n",
    "    # Now use it to populate.\n",
    "    gSwarm.populate_using_layout( layout=layout )\n",
    "\n",
    "    # Lets initialise the 'materialVariable' data to represent different materials\n",
    "    # Set the material to heavy everywhere via the numpy array\n",
    "    materialVariable.data[:] = mantleIndex\n",
    "    \n",
    "    \n",
    "    #Set initial air and crust materials (allow the graph to take care of lithsophere)\n",
    "    #########\n",
    "    #This initial material setup will be model dependent\n",
    "    #########\n",
    "    for particleID in range(gSwarm.particleCoordinates.data.shape[0]):\n",
    "        if (1. - gSwarm.particleCoordinates.data[particleID][1]) < 0:\n",
    "                 materialVariable.data[particleID] = airIndex\n",
    "        elif (1. - gSwarm.particleCoordinates.data[particleID][1]) < MANTLETOCRUST:\n",
    "                 materialVariable.data[particleID] = crustIndex\n"
   ]
  },
  {
   "cell_type": "markdown",
   "metadata": {},
   "source": [
    "# Material Graphs"
   ]
  },
  {
   "cell_type": "code",
   "execution_count": 360,
   "metadata": {
    "collapsed": true
   },
   "outputs": [],
   "source": [
    "##############\n",
    "#Important: This is a quick fix for a bug that arises in parallel runs\n",
    "##############\n",
    "material_list = [0,1,2,3,4,5]\n"
   ]
  },
  {
   "cell_type": "code",
   "execution_count": 361,
   "metadata": {
    "collapsed": true
   },
   "outputs": [],
   "source": [
    "#All depth conditions are given as (km/D) where D is the length scale,\n",
    "#note that 'model depths' are used, e.g. 1-z, where z is the vertical Underworld coordinate\n",
    "#All temp conditions are in dimensionless temp. [0. - 1.]\n",
    "\n",
    "#######Graph object\n",
    "DG = nx.DiGraph(field=\"Depth\")\n",
    "\n",
    "#######Nodes\n",
    "#Note that the order of materials, deepest to shallowest is important\n",
    "DG.add_node(0, mat='mantle')\n",
    "DG.add_node(1, mat='lithosphere')\n",
    "DG.add_node(2, mat='ecl')\n",
    "DG.add_node(3, mat='crust')\n",
    "DG.add_node(4, mat='air')\n",
    "DG.add_node(5, mat='temp')\n",
    "\n",
    "\n",
    "labels=dict((n,d['mat']) for n,d in DG.nodes(data=True))\n",
    "pos=nx.spring_layout(DG)\n",
    "\n",
    "\n",
    "#######Edges\n",
    "#anything to air\n",
    "DG.add_edges_from([(0,4),(1,4), (3,4)])\n",
    "DG[0][4]['depthcondition'] = -1*TOPOHEIGHT\n",
    "DG[1][4]['depthcondition'] = -1*TOPOHEIGHT\n",
    "DG[3][4]['depthcondition'] = -1*TOPOHEIGHT\n",
    "\n",
    "\n",
    "#Anything to mantle\n",
    "DG.add_edges_from([(3,0), (1,0), (2,0), (5,0)])\n",
    "DG[3][0]['depthcondition'] = CRUSTTOMANTLE #Normal crust\n",
    "DG[1][0]['depthcondition'] = LITHTOMANTLE #This means we're going to kill lithosphere at the 660.\n",
    "DG[2][0]['depthcondition'] = CRUSTTOMANTLE #Eclogite crust\n",
    "DG[5][0]['depthcondition'] = CRUSTTOMANTLE #Normal crust\n",
    "\n",
    "#Anything to lithsphere\n",
    "DG.add_edges_from([(0,1),(4,1)])\n",
    "DG[0][1]['depthcondition'] = MANTLETOLITH\n",
    "DG[0][1]['avgtempcondition'] = 0.75*AVGTEMP #definition of thermal lithosphere\n",
    "\n",
    "\n",
    "#Anything to crust\n",
    "DG.add_edges_from([(0,3), (1,3), (4,3)])\n",
    "DG[0][3]['depthcondition'] = MANTLETOCRUST\n",
    "DG[1][3]['depthcondition'] = MANTLETOCRUST\n",
    "DG[4][3]['depthcondition'] = TOPOHEIGHT\n",
    "\n",
    "#crust to eclogite\n",
    "DG.add_edges_from([(3,2)])\n",
    "DG[3][2]['depthcondition'] =CRUSTTOECL"
   ]
  },
  {
   "cell_type": "code",
   "execution_count": 362,
   "metadata": {
    "collapsed": false
   },
   "outputs": [],
   "source": [
    "remove_nodes = []\n",
    "for node in DG.nodes():\n",
    "    if not node in material_list:\n",
    "        remove_nodes.append(node)\n",
    "        \n",
    "for rmnode in remove_nodes:\n",
    "    DG.remove_node(rmnode)"
   ]
  },
  {
   "cell_type": "code",
   "execution_count": 363,
   "metadata": {
    "collapsed": true
   },
   "outputs": [],
   "source": [
    "#A Dictionary to map strings in the graph (e.g. 'depthcondition') to particle data arrays\n",
    "\n",
    "particledepths = 1. - gSwarm.particleCoordinates.data[:,1]\n",
    "particletemps = temperatureField.evaluate(gSwarm)[:,0]\n",
    "\n",
    "conditionmap = {}\n",
    "\n",
    "conditionmap['depthcondition'] = {}\n",
    "conditionmap['depthcondition']['data'] = particledepths\n",
    "conditionmap['avgtempcondition'] = {}\n",
    "conditionmap['avgtempcondition']['data'] = particletemps"
   ]
  },
  {
   "cell_type": "code",
   "execution_count": 364,
   "metadata": {
    "collapsed": true
   },
   "outputs": [],
   "source": [
    "def update_swarm(graph, particleIndex):\n",
    "    \"\"\"\n",
    "    This function takes the materials graph (networkx.DiGraph), and a particle index,\n",
    "    then determines if a material update is required \n",
    "    and if so, returns the new materialindex\n",
    "    Args:\n",
    "        graph (networkx.DiGraph): Directed multigraph representing the transformation of material types\n",
    "        particleIndex (int): the particle index as corressponding to the index in the swarm data arrays\n",
    "    Returns:\n",
    "        if update is required the function returns the the new material variable (int) \n",
    "        else returns None\n",
    "    Raises:\n",
    "        TypeError: not implemented\n",
    "        ValueError: not implemented\n",
    "    \"\"\"\n",
    "    ##Egde gives links to other materials, we then query the conditions to see if we should change materials\n",
    "    matId = materialVariable.data[particleIndex][0]\n",
    "    innerchange = False\n",
    "    outerchange = False\n",
    "    for edge in graph[matId]:\n",
    "        if outerchange:\n",
    "            break\n",
    "        for cond in graph[matId][edge].keys():\n",
    "            outerchange = False\n",
    "            if innerchange: #found a complete transition, break inner loop\n",
    "                break\n",
    "            currentparticlevalue = conditionmap[cond]['data'][particleIndex]\n",
    "            crossover = graph[matId][edge][cond]\n",
    "            if ((matId > edge) and (currentparticlevalue > crossover)):\n",
    "                innerchange = False # continue on, \n",
    "                if graph[matId][edge].keys()[-1] == cond:\n",
    "                    outerchange = True\n",
    "                    innerchange = edge\n",
    "                    break\n",
    "            elif ((matId < edge) and (currentparticlevalue < crossover)):\n",
    "                innerchange = False\n",
    "                if graph[matId][edge].keys()[-1] == cond:\n",
    "                    outerchange = True\n",
    "                    innerchange = edge\n",
    "                    break\n",
    "            else:\n",
    "                #condition not met, break outer loop, go to next edge, outerchange should still be False\n",
    "                break\n",
    "    if type(innerchange) == int:\n",
    "        return innerchange"
   ]
  },
  {
   "cell_type": "code",
   "execution_count": 365,
   "metadata": {
    "collapsed": false
   },
   "outputs": [],
   "source": [
    "#Set the crust material in the slab using shapes/function from uw.\n",
    "\n",
    "if not checkpointLoad:\n",
    "    #materialVariable.data[:] = mantleIndex\n",
    "    #lithtemp = 0.95*0.8\n",
    "    #tempswarm = temperatureField.evaluate(gSwarm)[:,0]\n",
    "\n",
    "    #At this point, we only have to assign any materials that are defined by setup shapes,\n",
    "    #the rest of the materials will be assigned using the materials graph\n",
    "\n",
    "    for particleID in range(gSwarm.particleCoordinates.data.shape[0]):\n",
    "        coord = gSwarm.particleCoordinates.data[particleID]\n",
    "        if gSwarm.particleCoordinates.data[particleID][1] > (1.0 - CrustM):\n",
    "            materialVariable.data[particleID] =  crustIndex\n",
    "        elif Oc.evaluate(tuple(coord)) and Tri.evaluate(tuple(coord)) and not Cc.evaluate(tuple(coord)):\n",
    "            #print(\"True\")\n",
    "            materialVariable.data[particleID] =  crustIndex\n",
    "        if Gc.evaluate(tuple(coord)) and Tri.evaluate(tuple(coord)) and not Oc.evaluate(tuple(coord)):\n",
    "            materialVariable.data[particleID] =  tempIndex\n"
   ]
  },
  {
   "cell_type": "code",
   "execution_count": 366,
   "metadata": {
    "collapsed": false
   },
   "outputs": [],
   "source": [
    "#Cleanse the swarm of its sins\n",
    "#For some Material Graphs, the graph may have to be traversed more than once\n",
    "\n",
    "check = -1\n",
    "number_updated = 1\n",
    "\n",
    "while number_updated != 0:\n",
    "    number_updated = 0\n",
    "    for particleID in range(gSwarm.particleCoordinates.data.shape[0]):\n",
    "        check = update_swarm(DG, particleID)\n",
    "        if check > -1:\n",
    "            number_updated += 1\n",
    "            materialVariable.data[particleID] = check"
   ]
  },
  {
   "cell_type": "code",
   "execution_count": 367,
   "metadata": {
    "collapsed": false
   },
   "outputs": [
    {
     "data": {
      "text/html": [
       "<img src='data:image/png;base64,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'>"
      ],
      "text/plain": [
       "<IPython.core.display.HTML object>"
      ]
     },
     "execution_count": 367,
     "metadata": {},
     "output_type": "execute_result"
    }
   ],
   "source": [
    "figMat = glucifer.Figure()\n",
    "figMat.append( glucifer.objects.Points(gSwarm,materialVariable, colours='white blue red black'))\n",
    "#figMat.append( glucifer.objects.Mesh(mesh))\n",
    "figMat.save_database('test.gldb')\n",
    "figMat.show()"
   ]
  },
  {
   "cell_type": "markdown",
   "metadata": {},
   "source": [
    "## Rheology"
   ]
  },
  {
   "cell_type": "code",
   "execution_count": 368,
   "metadata": {
    "collapsed": true
   },
   "outputs": [],
   "source": [
    "# The yeilding of the upper slab is dependent on the strain rate.\n",
    "strainRate_2ndInvariant = fn.tensor.second_invariant( \n",
    "                            fn.tensor.symmetric( \n",
    "                            velocityField.fn_gradient ))\n",
    "\n",
    "\n",
    "coordinate = fn.input()\n",
    "depth = 1. - coordinate[1]\n"
   ]
  },
  {
   "cell_type": "code",
   "execution_count": null,
   "metadata": {
    "collapsed": false
   },
   "outputs": [],
   "source": []
  },
  {
   "cell_type": "code",
   "execution_count": 369,
   "metadata": {
    "collapsed": false
   },
   "outputs": [],
   "source": [
    "arhennius = fn.misc.min(ndp.up_visc, fn.math.exp(((-1.*math.log(dp.E)) + (math.log(dp.E) / (temperatureField + 1e-6)))))  \n"
   ]
  },
  {
   "cell_type": "code",
   "execution_count": 370,
   "metadata": {
    "collapsed": false
   },
   "outputs": [
    {
     "data": {
      "text/plain": [
       "561.3478200000001"
      ]
     },
     "execution_count": 370,
     "metadata": {},
     "output_type": "execute_result"
    }
   ],
   "source": [
    "ndp.fcd/ndp.cohesion"
   ]
  },
  {
   "cell_type": "code",
   "execution_count": 371,
   "metadata": {
    "collapsed": false
   },
   "outputs": [],
   "source": [
    "#Psuedo-plastic \n",
    "ys =  ndp.cohesion + (depth*ndp.fcd)\n",
    "#ys =  ndp.fc*lithopressuregrad*(30e3/dp.LS) # this is the byerlee strength at 30 km\n",
    "yss = fn.misc.max(ndp.cohesion, ys)\n",
    "plasticvisc = yss*(math.sqrt(2))/(strainRate_2ndInvariant*2.)\n",
    "plastic = fn.misc.max(ndp.low_visc,plasticvisc)\n",
    "#combine these\n",
    "mantleviscosityFn = fn.misc.min(arhennius, plastic)\n",
    "\n",
    "############\n",
    "#crust\n",
    "############\n",
    "\n",
    "\n",
    "\n",
    "ysc = (ndp.cohesion/10.) + (depth*(ndp.fcd/100.))\n",
    "#ysc = ys/100.\n",
    "ycs = fn.misc.max((ndp.cohesion/10.), ysc)\n",
    "crustplasticvisc = ycs*(math.sqrt(2))/(strainRate_2ndInvariant*2.)\n",
    "crustplastic = fn.misc.max(ndp.low_visc,crustplasticvisc) \n",
    "crustviscosityFn = fn.misc.min(arhennius, crustplastic)"
   ]
  },
  {
   "cell_type": "code",
   "execution_count": 372,
   "metadata": {
    "collapsed": false
   },
   "outputs": [
    {
     "data": {
      "text/html": [
       "<img src='data:image/png;base64,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'>"
      ],
      "text/plain": [
       "<IPython.core.display.HTML object>"
      ]
     },
     "execution_count": 372,
     "metadata": {},
     "output_type": "execute_result"
    }
   ],
   "source": [
    "#figVisc = glucifer.Figure()\n",
    "#figVisc.append( glucifer.objects.Surface(mesh, mantleviscosityFn, logScale=True))\n",
    "#figVisc.append(glucifer.objects.VectorArrows(mesh, velocityField, scaling=0.0002))\n",
    "#figVisc.save_database('test.gldb')\n",
    "#figVisc.show()"
   ]
  },
  {
   "cell_type": "code",
   "execution_count": 373,
   "metadata": {
    "collapsed": false
   },
   "outputs": [],
   "source": [
    "# Here we set a viscosity value of '1.' for both materials\n",
    "viscosityMapFn = fn.branching.map( fn_key = materialVariable,\n",
    "                         mapping = {airIndex:ndp.StAeta0, \n",
    "                                    lithosphereIndex:mantleviscosityFn, \n",
    "                                    crustIndex:crustviscosityFn,\n",
    "                                    mantleIndex:mantleviscosityFn, \n",
    "                                    eclIndex:crustviscosityFn,\n",
    "                                    tempIndex:mantleviscosityFn} )\n",
    "\n",
    "densityMapFn = fn.branching.map( fn_key = materialVariable,\n",
    "                         mapping = {airIndex:ndp.StA_RA, \n",
    "                                    lithosphereIndex:ndp.RA*temperatureField, \n",
    "                                    crustIndex:ndp.RA*temperatureField, \n",
    "                                    mantleIndex:ndp.RA*temperatureField, \n",
    "                                    eclIndex:ndp.RA*temperatureField,\n",
    "                                    tempIndex:ndp.RA*temperatureField, } )\n",
    "\n",
    "# Define our gravity using a python tuple (this will be automatically converted to a function)\n",
    "gravity = ( 0.0, 1.0 )\n",
    "\n",
    "buoyancyFn = gravity*densityMapFn"
   ]
  },
  {
   "cell_type": "markdown",
   "metadata": {},
   "source": [
    "## Build Stokes system"
   ]
  },
  {
   "cell_type": "code",
   "execution_count": 374,
   "metadata": {
    "collapsed": true
   },
   "outputs": [],
   "source": [
    "stokesPIC = uw.systems.Stokes( velocityField = velocityField, \n",
    "                               pressureField = pressureField,\n",
    "                               #swarm         = gSwarm, \n",
    "                               conditions    = [freeslipBC,],\n",
    "                               fn_viscosity   = arhennius, \n",
    "                               fn_bodyforce   = buoyancyFn,\n",
    "                               swarm=gSwarm)"
   ]
  },
  {
   "cell_type": "code",
   "execution_count": 375,
   "metadata": {
    "collapsed": true
   },
   "outputs": [],
   "source": [
    "#We do one solve with linear viscosity to get the initial strain rate invariant. \n",
    "#This solve step also calculates a 'guess' of the the velocity field based on the linear system, \n",
    "#which is used later in the non-linear solver.\n",
    "\n",
    "solver = uw.systems.Solver(stokesPIC)\n",
    "# If not doing a restart, do a solve on the non-plastic system\n",
    "if not checkpointLoad:\n",
    "    solver.solve()"
   ]
  },
  {
   "cell_type": "code",
   "execution_count": 376,
   "metadata": {
    "collapsed": true
   },
   "outputs": [],
   "source": [
    "#Switch particle escape on, this will also trigger the inflow population control \n",
    "gSwarm.particleEscape = True"
   ]
  },
  {
   "cell_type": "code",
   "execution_count": 377,
   "metadata": {
    "collapsed": true
   },
   "outputs": [],
   "source": [
    "####################\n",
    "#Add the non-linear viscosity to the Stokes system\n",
    "stokesPIC.fn_viscosity = viscosityMapFn\n",
    "###################\n",
    "\n",
    "#Set more advanced solver option\n",
    "solver.options.main.Q22_pc_type='gkgdiag'\n",
    "#solver.options.A11.ksp_rtol=1e-2\n",
    "#solver.options.scr.ksp_rtol=1e-3\n",
    "#solver.options.A11.ksp_type=\"cg\"\n",
    "solver.options.scr.use_previous_guess = True\n",
    "#solver.options.scr.ksp_set_min_it_converge = 1\n",
    "#solver.options.main.penalty=10.0\n",
    "\n",
    "#solver.options.mg.levels = 3\n",
    "#solver.options.main.remove_constant_pressure_null_space=True\n",
    "#solver.options.main.penalty = 1e2\n",
    "\n",
    "solver.options.A11.ksp_rtol=1e-4\n",
    "solver.options.scr.ksp_rtol=1e-4\n",
    "\n",
    "solver.options.A11.ksp_monitor=''\n",
    "solver.options.A11.ksp_converged_reason=''"
   ]
  },
  {
   "cell_type": "code",
   "execution_count": 378,
   "metadata": {
    "collapsed": true
   },
   "outputs": [],
   "source": [
    "solver.solve(nonLinearIterate=True)"
   ]
  },
  {
   "cell_type": "code",
   "execution_count": 379,
   "metadata": {
    "collapsed": false
   },
   "outputs": [
    {
     "data": {
      "text/plain": [
       "0.0"
      ]
     },
     "execution_count": 379,
     "metadata": {},
     "output_type": "execute_result"
    }
   ],
   "source": [
    "ndp.H"
   ]
  },
  {
   "cell_type": "code",
   "execution_count": 380,
   "metadata": {
    "collapsed": false
   },
   "outputs": [],
   "source": [
    "#Create advdiff system\n",
    "\n",
    "\n",
    "\n",
    "#advDiff = uw.systems.AdvectionDiffusion( phiField       = temperatureField, \n",
    "#                                         phiDotField    = temperatureDotField, \n",
    "#                                         velocityField  = velocityField, \n",
    "#                                         fn_diffusivity = 1.0,\n",
    "#                                         fn_sourceTerm = 0.,\n",
    "#                                         conditions     = [tempBC,] )\n",
    "\n",
    "\n",
    "advDiff = uw.systems.AdvectionDiffusion( phiField       = temperatureField, \n",
    "                                         phiDotField    = temperatureDotField, \n",
    "                                         velocityField  = velocityField,\n",
    "                                         fn_sourceTerm    = ndp.H,\n",
    "                                         fn_diffusivity = 1.0, \n",
    "                                         conditions     = [dirichTempBC,] )\n",
    "\n",
    "\n",
    "\n",
    "advector = uw.systems.SwarmAdvector( swarm         = gSwarm, \n",
    "                                     velocityField = velocityField, \n",
    "                                     order         = 1)"
   ]
  },
  {
   "cell_type": "code",
   "execution_count": 381,
   "metadata": {
    "collapsed": true
   },
   "outputs": [],
   "source": [
    "pics = uw.swarm.PICIntegrationSwarm(gSwarm)"
   ]
  },
  {
   "cell_type": "markdown",
   "metadata": {},
   "source": [
    "## Figures / gldbs etc"
   ]
  },
  {
   "cell_type": "code",
   "execution_count": 382,
   "metadata": {
    "collapsed": true
   },
   "outputs": [],
   "source": [
    "viscVariable = gSwarm.add_variable( dataType=\"float\", count=1 )\n",
    "viscVariable.data[:] = viscosityMapFn.evaluate(gSwarm)"
   ]
  },
  {
   "cell_type": "code",
   "execution_count": 407,
   "metadata": {
    "collapsed": false
   },
   "outputs": [],
   "source": [
    "#figVisc = glucifer.Figure()\n",
    "#figVisc.append( glucifer.objects.Points(gSwarm,viscVariable, logScale=True, colours='brown white blue'))\n",
    "\n",
    "#figVisc.show()"
   ]
  },
  {
   "cell_type": "code",
   "execution_count": 388,
   "metadata": {
    "collapsed": false
   },
   "outputs": [],
   "source": [
    "viscVariable = gSwarm.add_variable( dataType=\"float\", count=2 )\n",
    "viscVariable.data[:] = fn.coord().evaluate(gSwarm)"
   ]
  },
  {
   "cell_type": "code",
   "execution_count": 394,
   "metadata": {
    "collapsed": false
   },
   "outputs": [],
   "source": [
    "# Mapping the viscosity function to the mesh using MeshVariable_Projection\n",
    "\n",
    "meshVisc  = uw.mesh.MeshVariable( mesh, 1 )\n",
    "projectorStrainRate = uw.utils.MeshVariable_Projection( meshVisc, viscosityMapFn, swarm=gSwarm)\n",
    "projectorStrainRate.solve()\n",
    "\n"
   ]
  },
  {
   "cell_type": "code",
   "execution_count": 406,
   "metadata": {
    "collapsed": false
   },
   "outputs": [],
   "source": [
    "#figmeshVisc = glucifer.Figure()\n",
    "#figmeshVisc.append( glucifer.objects.Surface(mesh, meshVisc, logScale=True, colours='brown white blue') )\n",
    "\n",
    "#figmeshVisc.show()\n"
   ]
  },
  {
   "cell_type": "code",
   "execution_count": 405,
   "metadata": {
    "collapsed": false
   },
   "outputs": [
    {
     "data": {
      "text/plain": [
       "<matplotlib.colorbar.Colorbar at 0x125f6c410>"
      ]
     },
     "execution_count": 405,
     "metadata": {},
     "output_type": "execute_result"
    },
    {
     "data": {
      "image/png": "[encoded data removed]",
      "text/plain": [
       "<matplotlib.figure.Figure at 0x125cbe3d0>"
      ]
     },
     "metadata": {},
     "output_type": "display_data"
    }
   ],
   "source": [
    "#pyplot.imshow(np.flipud(meshVisc.data.reshape(80 + 1, 128 + 1)), cmap='PuOr')\n",
    "#pyplot.colorbar()"
   ]
  },
  {
   "cell_type": "code",
   "execution_count": 387,
   "metadata": {
    "collapsed": false
   },
   "outputs": [
    {
     "ename": "RuntimeError",
     "evalue": "Provided function must return a scalar result.",
     "output_type": "error",
     "traceback": [
      "\u001b[0;31m---------------------------------------------------------------------------\u001b[0m",
      "\u001b[0;31mRuntimeError\u001b[0m                              Traceback (most recent call last)",
      "\u001b[0;32m<ipython-input-387-e0b79dc836da>\u001b[0m in \u001b[0;36m<module>\u001b[0;34m()\u001b[0m\n\u001b[1;32m      1\u001b[0m \u001b[0;31m#Pack some stuff into a database as well\u001b[0m\u001b[0;34m\u001b[0m\u001b[0;34m\u001b[0m\u001b[0m\n\u001b[1;32m      2\u001b[0m \u001b[0mfigDb\u001b[0m \u001b[0;34m=\u001b[0m \u001b[0mglucifer\u001b[0m\u001b[0;34m.\u001b[0m\u001b[0mFigure\u001b[0m\u001b[0;34m(\u001b[0m\u001b[0;34m)\u001b[0m\u001b[0;34m\u001b[0m\u001b[0m\n\u001b[0;32m----> 3\u001b[0;31m \u001b[0mfigDb\u001b[0m\u001b[0;34m.\u001b[0m\u001b[0mappend\u001b[0m\u001b[0;34m(\u001b[0m \u001b[0mglucifer\u001b[0m\u001b[0;34m.\u001b[0m\u001b[0mobjects\u001b[0m\u001b[0;34m.\u001b[0m\u001b[0mPoints\u001b[0m\u001b[0;34m(\u001b[0m\u001b[0mgSwarm\u001b[0m\u001b[0;34m,\u001b[0m\u001b[0mviscVariable\u001b[0m\u001b[0;34m,\u001b[0m \u001b[0mlogScale\u001b[0m\u001b[0;34m=\u001b[0m\u001b[0mTrue\u001b[0m\u001b[0;34m,\u001b[0m \u001b[0mcolours\u001b[0m\u001b[0;34m=\u001b[0m\u001b[0;34m'brown white blue'\u001b[0m\u001b[0;34m)\u001b[0m\u001b[0;34m)\u001b[0m\u001b[0;34m\u001b[0m\u001b[0m\n\u001b[0m\u001b[1;32m      4\u001b[0m \u001b[0mfigDb\u001b[0m\u001b[0;34m.\u001b[0m\u001b[0mappend\u001b[0m\u001b[0;34m(\u001b[0m \u001b[0mglucifer\u001b[0m\u001b[0;34m.\u001b[0m\u001b[0mobjects\u001b[0m\u001b[0;34m.\u001b[0m\u001b[0mPoints\u001b[0m\u001b[0;34m(\u001b[0m\u001b[0mgSwarm\u001b[0m\u001b[0;34m,\u001b[0m\u001b[0mmaterialVariable\u001b[0m\u001b[0;34m,\u001b[0m \u001b[0mcolours\u001b[0m\u001b[0;34m=\u001b[0m\u001b[0;34m'brown white blue red'\u001b[0m\u001b[0;34m)\u001b[0m\u001b[0;34m)\u001b[0m\u001b[0;34m\u001b[0m\u001b[0m\n\u001b[1;32m      5\u001b[0m \u001b[0mfigDb\u001b[0m\u001b[0;34m.\u001b[0m\u001b[0mappend\u001b[0m\u001b[0;34m(\u001b[0m \u001b[0mglucifer\u001b[0m\u001b[0;34m.\u001b[0m\u001b[0mobjects\u001b[0m\u001b[0;34m.\u001b[0m\u001b[0mMesh\u001b[0m\u001b[0;34m(\u001b[0m\u001b[0mmesh\u001b[0m\u001b[0;34m)\u001b[0m\u001b[0;34m)\u001b[0m\u001b[0;34m\u001b[0m\u001b[0m\n",
      "\u001b[0;32m/Users/dansandiford/Documents/programming/dev/underworld2/underworld/_stgermain.pyc\u001b[0m in \u001b[0;36m__call__\u001b[0;34m(cls, *args, **kwargs)\u001b[0m\n\u001b[1;32m    109\u001b[0m                 \u001b[0m_setup\u001b[0m \u001b[0;34m=\u001b[0m \u001b[0m_setup\u001b[0m\u001b[0;34m.\u001b[0m\u001b[0m__get__\u001b[0m\u001b[0;34m(\u001b[0m\u001b[0mself\u001b[0m\u001b[0;34m,\u001b[0m \u001b[0mcls\u001b[0m\u001b[0;34m)\u001b[0m\u001b[0;34m\u001b[0m\u001b[0m\n\u001b[1;32m    110\u001b[0m             \u001b[0;32mif\u001b[0m \u001b[0mcallable\u001b[0m\u001b[0;34m(\u001b[0m\u001b[0m_setup\u001b[0m\u001b[0;34m)\u001b[0m\u001b[0;34m:\u001b[0m\u001b[0;34m\u001b[0m\u001b[0m\n\u001b[0;32m--> 111\u001b[0;31m                 \u001b[0m_setup\u001b[0m\u001b[0;34m(\u001b[0m\u001b[0;34m)\u001b[0m\u001b[0;34m\u001b[0m\u001b[0m\n\u001b[0m\u001b[1;32m    112\u001b[0m \u001b[0;34m\u001b[0m\u001b[0m\n\u001b[1;32m    113\u001b[0m         \u001b[0;32mreturn\u001b[0m \u001b[0mself\u001b[0m\u001b[0;34m\u001b[0m\u001b[0m\n",
      "\u001b[0;32m/Users/dansandiford/Documents/programming/dev/underworld2/glucifer/objects.py\u001b[0m in \u001b[0;36m_setup\u001b[0;34m(self)\u001b[0m\n\u001b[1;32m    544\u001b[0m             \u001b[0mfns_ptr\u001b[0m \u001b[0;34m=\u001b[0m \u001b[0mself\u001b[0m\u001b[0;34m.\u001b[0m\u001b[0m_fn_size\u001b[0m\u001b[0;34m.\u001b[0m\u001b[0m_fncself\u001b[0m\u001b[0;34m\u001b[0m\u001b[0m\n\u001b[1;32m    545\u001b[0m \u001b[0;34m\u001b[0m\u001b[0m\n\u001b[0;32m--> 546\u001b[0;31m         \u001b[0m_libUnderworld\u001b[0m\u001b[0;34m.\u001b[0m\u001b[0mgLucifer\u001b[0m\u001b[0;34m.\u001b[0m\u001b[0m_lucSwarmViewer_SetFn\u001b[0m\u001b[0;34m(\u001b[0m \u001b[0mself\u001b[0m\u001b[0;34m.\u001b[0m\u001b[0m_cself\u001b[0m\u001b[0;34m,\u001b[0m \u001b[0mfnc_ptr\u001b[0m\u001b[0;34m,\u001b[0m \u001b[0mfnm_ptr\u001b[0m\u001b[0;34m,\u001b[0m \u001b[0mfns_ptr\u001b[0m\u001b[0;34m,\u001b[0m \u001b[0mNone\u001b[0m \u001b[0;34m)\u001b[0m\u001b[0;34m\u001b[0m\u001b[0m\n\u001b[0m\u001b[1;32m    547\u001b[0m \u001b[0;34m\u001b[0m\u001b[0m\n\u001b[1;32m    548\u001b[0m \u001b[0;34m\u001b[0m\u001b[0m\n",
      "\u001b[0;31mRuntimeError\u001b[0m: Provided function must return a scalar result."
     ]
    }
   ],
   "source": [
    "#Pack some stuff into a database as well\n",
    "figDb = glucifer.Figure()\n",
    "figDb.append( glucifer.objects.Points(gSwarm,viscVariable, logScale=True, colours='brown white blue'))\n",
    "figDb.append( glucifer.objects.Surface(mesh, meshVisc, logScale=True, colours='brown white blue') )\n",
    "\n",
    "figDb.append( glucifer.objects.Points(gSwarm,materialVariable, colours='brown white blue red'))\n",
    "figDb.append( glucifer.objects.Mesh(mesh))\n",
    "figDb.append( glucifer.objects.VectorArrows(mesh,velocityField, arrowHead=0.2, scaling=0.01))\n",
    "figDb.append( glucifer.objects.Surface(mesh, strainRate_2ndInvariant, logScale=True, colours='brown white blue'))\n",
    "figDb.append( glucifer.objects.Surface(mesh, temperatureField))"
   ]
  },
  {
   "cell_type": "code",
   "execution_count": null,
   "metadata": {
    "collapsed": true
   },
   "outputs": [],
   "source": [
    "step = 0\n",
    "realtime = 0.\n",
    "timevals = [0.]"
   ]
  },
  {
   "cell_type": "code",
   "execution_count": null,
   "metadata": {
    "collapsed": false
   },
   "outputs": [
    {
     "name": "stdout",
     "output_type": "stream",
     "text": [
      "0.0\n",
      "1.0\n",
      "2.0\n",
      "3.0\n",
      "4.0"
     ]
    }
   ],
   "source": [
    "# initialise timer for computation\n",
    "startMain = time.clock()\n",
    "# Perform steps#\n",
    "while realtime < 0.2:\n",
    "#while step < 25:\n",
    "    #Enter non-linear loop\n",
    "    print step\n",
    "    solver.solve(nonLinearIterate=True)\n",
    "    dt = advDiff.get_max_dt()\n",
    "    if step == 0:\n",
    "        dt = 0.\n",
    "    #start = time.clock()\n",
    "    advDiff.integrate(dt)\n",
    "    #machine_time = (time.clock()-start)\n",
    "    #print(\"total advDiff time is: \" + str(machine_time))\n",
    "    # Advect swarm using this timestep size\n",
    "    #start = time.clock()\n",
    "    advector.integrate(dt)\n",
    "    #machine_time = (time.clock()-start)\n",
    "    #print(\"total advector time is: \" + str(machine_time))\n",
    "    # Increment\n",
    "    realtime += dt\n",
    "    step += 1\n",
    "    timevals.append(realtime)\n",
    "    \n",
    "    ################\n",
    "    #Gldb output\n",
    "    ################ \n",
    "    if (step % gldbs_output == 0):\n",
    "        #Rebuild any necessary swarm variables\n",
    "        viscVariable.data[:] = viscosityMapFn.evaluate(gSwarm)\n",
    "        #Write gldbs\n",
    "        fnamedb = \"dbFig\" + \"_\" + str(ModIt) + \"_\" + str(step) + \".gldb\"\n",
    "        fullpath = os.path.join(outputPath + \"gldbs/\" + fnamedb)\n",
    "        figDb.show()\n",
    "        figDb.save_database(fullpath)\n",
    "    ################\n",
    "    #Also repopulate entire swarm periodically\n",
    "    ################\n",
    "    if step % swarm_repop == 0:\n",
    "        pics.repopulate()\n",
    "    "
   ]
  },
  {
   "cell_type": "code",
   "execution_count": null,
   "metadata": {
    "collapsed": true
   },
   "outputs": [],
   "source": []
  }
 ],
 "metadata": {
  "kernelspec": {
   "display_name": "Python 2",
   "language": "python",
   "name": "python2"
  },
  "language_info": {
   "codemirror_mode": {
    "name": "ipython",
    "version": 2
   },
   "file_extension": ".py",
   "mimetype": "text/x-python",
   "name": "python",
   "nbconvert_exporter": "python",
   "pygments_lexer": "ipython2",
   "version": "2.7.11"
  }
 },
 "nbformat": 4,
 "nbformat_minor": 0
}
