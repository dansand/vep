{
 "cells": [
  {
   "cell_type": "markdown",
   "metadata": {
    "collapsed": true
   },
   "source": [
    "## From Kaplan "
   ]
  },
  {
   "cell_type": "code",
   "execution_count": 145,
   "metadata": {
    "collapsed": true
   },
   "outputs": [],
   "source": [
    "import networkx as nx\n",
    "import underworld as uw\n",
    "import math\n",
    "from underworld import function as fn\n",
    "import glucifer\n",
    "#import matplotlib.pyplot as pyplot\n",
    "import time\n",
    "import numpy as np\n",
    "import os\n",
    "import sys\n",
    "import natsort\n",
    "import shutil\n",
    "from easydict import EasyDict as edict\n",
    "import slippy2 as sp\n",
    "from slippy2 import unit_conversions\n",
    "from slippy2 import boundary_layer2d\n",
    "\n",
    "\n",
    "\n",
    "from mpi4py import MPI\n",
    "comm = MPI.COMM_WORLD\n",
    "rank = comm.Get_rank()"
   ]
  },
  {
   "cell_type": "code",
   "execution_count": null,
   "metadata": {
    "collapsed": true
   },
   "outputs": [],
   "source": []
  },
  {
   "cell_type": "code",
   "execution_count": 146,
   "metadata": {
    "collapsed": true
   },
   "outputs": [],
   "source": [
    "############\n",
    "#Model name.  \n",
    "############\n",
    "Model = \"T\"\n",
    "ModNum = 10\n",
    "\n",
    "if len(sys.argv) == 1:\n",
    "    ModIt = \"Base\"\n",
    "elif sys.argv[1] == '-f':\n",
    "    ModIt = \"Base\"\n",
    "else:\n",
    "    ModIt = str(sys.argv[1])"
   ]
  },
  {
   "cell_type": "code",
   "execution_count": 147,
   "metadata": {
    "collapsed": true
   },
   "outputs": [],
   "source": [
    "###########\n",
    "#Standard output directory setup\n",
    "###########\n",
    "\n",
    "\n",
    "outputPath = \"results\" + \"/\" +  str(Model) + \"/\" + str(ModNum) + \"/\" + str(ModIt) + \"/\"\n",
    "imagePath = outputPath + 'images/'\n",
    "filePath = outputPath + 'files/'\n",
    "checkpointPath = outputPath + 'checkpoint/'\n",
    "dbPath = outputPath + 'gldbs/'\n",
    "outputFile = 'results_model' + Model + '_' + str(ModNum) + '_' + str(ModIt) + '.dat'\n",
    "\n",
    "if uw.rank()==0:\n",
    "    # make directories if they don't exist\n",
    "    if not os.path.isdir(outputPath):\n",
    "        os.makedirs(outputPath)\n",
    "    if not os.path.isdir(checkpointPath):\n",
    "        os.makedirs(checkpointPath)\n",
    "    if not os.path.isdir(imagePath):\n",
    "        os.makedirs(imagePath)\n",
    "    if not os.path.isdir(dbPath):\n",
    "        os.makedirs(dbPath)\n",
    "    if not os.path.isdir(filePath):\n",
    "        os.makedirs(filePath)\n",
    "        \n",
    "comm.Barrier() #Barrier here so no procs run the check in the next cell too early "
   ]
  },
  {
   "cell_type": "code",
   "execution_count": 148,
   "metadata": {
    "collapsed": false
   },
   "outputs": [
    {
     "name": "stdout",
     "output_type": "stream",
     "text": [
      "results/T/10/Base/checkpoint/ is empty\n"
     ]
    }
   ],
   "source": [
    "###########\n",
    "#Check if starting from checkpoint\n",
    "###########\n",
    "\n",
    "checkdirs = []\n",
    "for dirpath, dirnames, files in os.walk(checkpointPath):\n",
    "    if files:\n",
    "        print dirpath, 'has files'\n",
    "        checkpointLoad = True\n",
    "        checkdirs.append(dirpath)\n",
    "    if not files:\n",
    "        print dirpath, 'is empty'\n",
    "        checkpointLoad = False\n",
    "        "
   ]
  },
  {
   "cell_type": "code",
   "execution_count": 149,
   "metadata": {
    "collapsed": false
   },
   "outputs": [],
   "source": [
    "###########\n",
    "#Physical parameters\n",
    "###########\n",
    "\n",
    "#dimensional parameter dictionary\n",
    "dp = edict({'LS':2890.*1e3,\n",
    "           'rho':3300,\n",
    "           'g':9.81, \n",
    "           'eta0':1e20,\n",
    "           'k':10**-6,\n",
    "           'a':3e-5, \n",
    "           'deltaT':1400,\n",
    "           'TS':273,\n",
    "           'TB':1673,\n",
    "           'cohesion':5e6,\n",
    "           'fc':0.03,\n",
    "           'E':1e5, \n",
    "           'StALS': 27.*1e3})\n",
    "\n",
    "#scale_factors\n",
    "\n",
    "sf = edict({'stress':dp.LS**2/(dp.k*dp.eta0),\n",
    "           'lith_grad':dp.rho*dp.g*(dp.LS)**3/(dp.eta0*dp.k) })\n",
    "\n",
    "#dimensionless parameters\n",
    "\n",
    "ndp = edict({'RA':(dp.g*dp.rho*dp.a*dp.deltaT *(dp.LS)**3)/(dp.k*dp.eta0),\n",
    "           'cohesion':dp.cohesion*sf.stress,\n",
    "            'fcd':dp.fc*sf.lith_grad,\n",
    "            'TS':dp.TS/dp.deltaT,\n",
    "            'TB':dp.TB/dp.deltaT,\n",
    "            'low_visc':1e-4,\n",
    "            'StAeta0':0.01,\n",
    "            'up_visc':1e5,\n",
    "            'H':0.})"
   ]
  },
  {
   "cell_type": "code",
   "execution_count": 150,
   "metadata": {
    "collapsed": false
   },
   "outputs": [
    {
     "data": {
      "text/plain": [
       "417605.0"
      ]
     },
     "execution_count": 150,
     "metadata": {},
     "output_type": "execute_result"
    }
   ],
   "source": [
    "ndp.cohesion"
   ]
  },
  {
   "cell_type": "code",
   "execution_count": 151,
   "metadata": {
    "collapsed": true
   },
   "outputs": [],
   "source": [
    "ETAREF = dp.rho*dp.g*dp.a*dp.deltaT*((dp.LS)**3)/(ndp.RA*dp.k) #equivalent dimensional reference viscosity\n",
    "#RC = (3300.*dp.g*(dp.LS)**3)/(ETAREF *dp.k) #Composisitional Rayleigh number for rock-air buoyancy force\n",
    "RCA = (1650.*dp.g*(dp.LS)**3)/(ETAREF *dp.k) #Composisitional Rayleigh number for rock-air buoyancy force\n",
    "COMP_RA_FACT_AIR = RCA/ndp.RA\n",
    "#RCC = (100.*dp.g*(dp.LS)**3)/(ETAREF *dp.k) #Composisitional Rayleigh number for crust\n",
    "#COMP_RA_FACT_CRUST = RCC/ndp.RA\n",
    "#RCE = -1*(200.*dp.g*(dp.LS)**3)/(ETAREF *dp.k) #Composisitional Rayleigh number for eclogite \n",
    "#COMP_RA_FACT_ECL = RCE/ndp.RA\n",
    "ndp[\"StA_RA\"] = ndp.RA*COMP_RA_FACT_AIR"
   ]
  },
  {
   "cell_type": "code",
   "execution_count": 152,
   "metadata": {
    "collapsed": false
   },
   "outputs": [],
   "source": [
    "#A few parameters defining lengths scales, affects materal transistions etc.\n",
    "MANTLETOCRUST = (20.*1e3)/dp.LS #Crust depth\n",
    "CRUSTTOMANTLE = (900.*1e3)/dp.LS \n",
    "LITHTOMANTLE = (900.*1e3)/dp.LS \n",
    "MANTLETOLITH = (200.*1e3)/dp.LS \n",
    "TOPOHEIGHT = (0.*1e3)/dp.LS  #rock-air topography limits\n",
    "CRUSTTOECL  = (100.*1e3)/dp.LS\n",
    "AVGTEMP = ndp.TB #Used to define lithosphere"
   ]
  },
  {
   "cell_type": "code",
   "execution_count": 153,
   "metadata": {
    "collapsed": true
   },
   "outputs": [],
   "source": [
    "###########\n",
    "#Boundary layer / slab paramaters\n",
    "###########\n",
    "\n",
    "subzone = -0.35\n",
    "mor = 0.6\n",
    "vel = 70e3\n",
    "agelimit = 100.\n",
    "thermallimit = 0.8\n",
    "\n",
    "#Slab perturbation paramaters\n",
    "Roc = 450.\n",
    "Crust = 35.\n",
    "theta = 89.\n"
   ]
  },
  {
   "cell_type": "code",
   "execution_count": 154,
   "metadata": {
    "collapsed": false
   },
   "outputs": [],
   "source": [
    "#240/2./2./2./2."
   ]
  },
  {
   "cell_type": "code",
   "execution_count": 155,
   "metadata": {
    "collapsed": true
   },
   "outputs": [],
   "source": [
    "###########\n",
    "#Model setup parameters\n",
    "###########\n",
    "\n",
    "stickyAir = False\n",
    "\n",
    "MINX = -0.75\n",
    "MINY = 0.\n",
    "MAXX = 0.75\n",
    "\n",
    "#MAXY = 1.035\n",
    "MAXY = 1.\n",
    "\n",
    "if MINX == 0.:\n",
    "    squareModel = True\n",
    "else: \n",
    "    squareModel = False\n",
    "    \n",
    "    \n",
    "dim = 2          # number of spatial dimensions\n",
    "\n",
    "\n",
    "#MESH STUFF\n",
    "\n",
    "RES = 160\n",
    "\n",
    "\n",
    "if MINX == 0.:\n",
    "    Xres = RES\n",
    "else:\n",
    "    Xres = 256 #Hardcoding this fow now.\n",
    "\n",
    "\n",
    "if stickyAir:\n",
    "    Yres = RES\n",
    "    MAXY = 1. + dp.StALS/dp.LS #150km\n",
    "    \n",
    "else:\n",
    "    Yres = RES\n",
    "    MAXY = 1.\n",
    "\n",
    "\n",
    "periodic = [True, False]\n",
    "elementType = \"Q1/dQ0\"\n",
    "#elementType =\"Q2/DPC1\"\n",
    "\n",
    "refineMesh = True\n",
    "\n",
    "\n",
    "#System/Solver stuff\n",
    "\n",
    "PIC_integration=True\n",
    "ppc = 25"
   ]
  },
  {
   "cell_type": "code",
   "execution_count": 156,
   "metadata": {
    "collapsed": true
   },
   "outputs": [],
   "source": [
    "###########\n",
    "#Model Runtime parameters\n",
    "###########\n",
    "\n",
    "swarm_update = 10\n",
    "swarm_repop = 25\n",
    "files_output = 1e6\n",
    "gldbs_output = 2\n",
    "images_output = 1e6\n",
    "checkpoint_every = 25\n",
    "metric_output = 25\n",
    "sticky_air_temp = 10\n",
    "\n",
    "comm.Barrier() #Barrier here so not procs run the check in the next cell too early \n",
    "\n",
    "assert metric_output <= checkpoint_every, 'Checkpointing should run less or as ofen as metric output'\n",
    "#assert (metric_output >= swarm_update), 'Swarm update is needed before checkpointing'\n",
    "#assert metric_output >= sticky_air_temp, 'Sticky air temp should be updated more frequently that metrics'"
   ]
  },
  {
   "cell_type": "code",
   "execution_count": 157,
   "metadata": {
    "collapsed": true
   },
   "outputs": [],
   "source": [
    "mesh = uw.mesh.FeMesh_Cartesian( elementType = elementType,\n",
    "                                 elementRes  = (Xres, Yres), \n",
    "                                 minCoord    = (MINX,MINY), \n",
    "                                 maxCoord=(MAXX,MAXY), periodic=periodic)\n",
    "\n",
    "\n",
    "\n",
    "velocityField       = uw.mesh.MeshVariable( mesh=mesh,         nodeDofCount=dim )\n",
    "pressureField       = uw.mesh.MeshVariable( mesh=mesh.subMesh, nodeDofCount=1 )\n",
    "temperatureField    = uw.mesh.MeshVariable( mesh=mesh,         nodeDofCount=1 )\n",
    "temperatureDotField = uw.mesh.MeshVariable( mesh=mesh,         nodeDofCount=1 )"
   ]
  },
  {
   "cell_type": "code",
   "execution_count": 158,
   "metadata": {
    "collapsed": true
   },
   "outputs": [],
   "source": [
    "# Initialise data.. Note that we are also setting boundary conditions here\n",
    "velocityField.data[:] = [0.,0.]\n",
    "pressureField.data[:] = 0.\n",
    "temperatureField.data[:] = 0.\n",
    "temperatureDotField.data[:] = 0."
   ]
  },
  {
   "cell_type": "code",
   "execution_count": 159,
   "metadata": {
    "collapsed": true
   },
   "outputs": [],
   "source": [
    "axis = 1\n",
    "orgs = np.linspace(mesh.minCoord[axis], mesh.maxCoord[axis], mesh.elementRes[axis] + 1)\n",
    "\n",
    "value_to_constrain = 1.\n",
    "\n",
    "\n",
    "yconst = [(sp.find_closest(orgs, value_to_constrain), np.array([1.,0]))]\n"
   ]
  },
  {
   "cell_type": "code",
   "execution_count": 160,
   "metadata": {
    "collapsed": false
   },
   "outputs": [
    {
     "name": "stdout",
     "output_type": "stream",
     "text": [
      "Min\n",
      "(160, 0.0037506249999999775, 0.84853749999999994, 0.60966037735848211)\n",
      "('edges', 160)\n",
      "-- iteration 0 --\n",
      "| F( p_n ) |^2: 1.26509048791e-05\n",
      "| p_n+1 - p_n |^2: 0.863668842161\n",
      "-- iteration 1 --\n",
      "| F( p_n ) |^2: 5.47697612681e-31\n",
      "Min, Max element width: \n",
      "0.00375\n",
      "0.00875\n"
     ]
    }
   ],
   "source": [
    "#Y-Axis\n",
    "if refineMesh:\n",
    "    #Y-Axis\n",
    "    axis = 1\n",
    "    origcoords = np.linspace(mesh.minCoord[axis], mesh.maxCoord[axis], mesh.elementRes[axis] + 1)\n",
    "    edge_rest_lengths = np.diff(origcoords)\n",
    "\n",
    "    deform_lengths = edge_rest_lengths.copy()\n",
    "    min_point =  (mesh.maxCoord[axis])\n",
    "    el_reduction = 0.6001\n",
    "    dx = mesh.maxCoord[axis]\n",
    "\n",
    "    deform_lengths = deform_lengths - \\\n",
    "                                    ((1.-el_reduction)*deform_lengths[0]) + \\\n",
    "                                    abs((origcoords[1:] - min_point))*((0.5*deform_lengths[0])/dx)\n",
    "\n",
    "    #print(edge_rest_lengths.shape, deform_lengths.shape)\n",
    "\n",
    "    sp.deform_1d(deform_lengths, mesh,axis = 'y',norm = 'Min', constraints = yconst)"
   ]
  },
  {
   "cell_type": "code",
   "execution_count": 161,
   "metadata": {
    "collapsed": false
   },
   "outputs": [
    {
     "data": {
      "text/plain": [
       "-0.35"
      ]
     },
     "execution_count": 161,
     "metadata": {},
     "output_type": "execute_result"
    }
   ],
   "source": [
    "subzone"
   ]
  },
  {
   "cell_type": "code",
   "execution_count": 162,
   "metadata": {
    "collapsed": false
   },
   "outputs": [],
   "source": [
    "lith= boundary_layer2d.LithosphereTemps(mesh, temperatureField, dp.LS, subzone , mor, tint=ndp.TB, tsurf=ndp.TS, vel= 10e3, diffs = 1e-6)\n"
   ]
  },
  {
   "cell_type": "code",
   "execution_count": 174,
   "metadata": {
    "collapsed": false
   },
   "outputs": [
    {
     "data": {
      "text/plain": [
       "[<matplotlib.lines.Line2D at 0x122546390>]"
      ]
     },
     "execution_count": 174,
     "metadata": {},
     "output_type": "execute_result"
    },
    {
     "data": {
      "image/png": "[encoded data removed]",
      "text/plain": [
       "<matplotlib.figure.Figure at 0x1224e6b90>"
      ]
     },
     "metadata": {},
     "output_type": "display_data"
    }
   ],
   "source": [
    "#import matplotlib.pyplot as pyplot\n",
    "#%matplotlib inline\n",
    "#xs = np.linspace(MINX, MAXX, 100)\n",
    "#ages = [lith.agefunc(x) for x in xs]\n",
    "#pyplot.plot(xs, ages)"
   ]
  },
  {
   "cell_type": "code",
   "execution_count": 164,
   "metadata": {
    "collapsed": false
   },
   "outputs": [],
   "source": [
    "fudge = 1.\n",
    "\n",
    "for index, coord in enumerate(mesh.data):\n",
    "    xloc = coord[0]\n",
    "    agema = lith.agefunc(xloc)\n",
    "    #print agema\n",
    "    if agelimit:\n",
    "        agema = min(agelimit, agema)\n",
    "        \n",
    "    if  coord[0] > mor or coord[0] < subzone: # Hacky implementation of asymmetry in spreading rate\n",
    "        agema = agema/2.\n",
    "    if thermallimit:\n",
    "        if (1.-coord[1]) < (lith.lithdepthfunc(agema)/dp.LS)*thermallimit: #comparison of dimensionless (model) lengths\n",
    "            zloc = ((1.- coord[1])* dp.LS) # dimensional depth kms\n",
    "            t = lith.tempfunc(agema,  zloc)\n",
    "            temperatureField.data[index] = t\n",
    "        else:\n",
    "            temperatureField.data[index] = lith.tint\n",
    "    \n",
    "    else:\n",
    "        if coord[1] >= 1.:\n",
    "            temperatureField.data[index] = lith.tsurf\n",
    "        else:\n",
    "            zloc = ((1.- coord[1])* dp.LS) # dimensional depth kms\n",
    "            t = lith.tempfunc(agema, zloc)\n",
    "            temperatureField.data[index] = t  "
   ]
  },
  {
   "cell_type": "code",
   "execution_count": 165,
   "metadata": {
    "collapsed": true
   },
   "outputs": [],
   "source": [
    "def inCircleFnGenerator(centre, radius):\n",
    "    coord = fn.input()\n",
    "    offsetFn = coord - centre\n",
    "    return fn.math.dot( offsetFn, offsetFn ) < radius**2\n",
    "\n",
    "#Setup slab perturbation params (mostly dimensionles / model params here)\n",
    "phi = 90. - theta\n",
    "RocM = (Roc/dp.LS)*1e3\n",
    "CrustM = MANTLETOCRUST\n",
    "#slabdepth = lithdepthfunc(agefunc(off, off, vel), dp.k)\n",
    "slabdepthM = lith.lithdepthfunc(lith.agefunc(subzone)) /dp.LS\n",
    "#slabdepthM *= 5.\n",
    "Org = (0.+subzone, 1.-RocM)\n",
    "#Use three circles to define our slab and crust perturbation,  \n",
    "Oc = inCircleFnGenerator(Org , RocM)\n",
    "Gc = inCircleFnGenerator(Org , RocM + (50e3/dp.LS)) #a slightly larger circle for the 'gap'\n",
    "Ic = inCircleFnGenerator(Org , RocM - slabdepthM)\n",
    "Cc = inCircleFnGenerator(Org , RocM - CrustM)\n",
    "dx = (RocM)/(np.math.tan((np.math.pi/180.)*phi))\n",
    "\n",
    "#Work our which way the slab should face:\n",
    "sense = 'Left'\n",
    "#if lith.agefunc(subzone + 0.0001) < lith.agefunc(subzone - 0.0001):\n",
    "#    sense = 'Right'\n",
    "\n",
    "#We'll also create a triangle which will truncate the circles defining the slab...\n",
    "if sense == 'Left': \n",
    "    ptx = subzone - dx\n",
    "else:\n",
    "    ptx = subzone + dx\n",
    "\n",
    "coords = ((0.+subzone, 1), (0.+subzone, 1.-RocM), (ptx, 1.))\n",
    "Tri = fn.shape.Polygon(np.array(coords))"
   ]
  },
  {
   "cell_type": "code",
   "execution_count": 166,
   "metadata": {
    "collapsed": true
   },
   "outputs": [],
   "source": [
    "#Assign temperatures in the perturbation region\n",
    "#sds = []\n",
    "if sense == 'Left': \n",
    "    age = lith.agefunc(subzone + 0.001)\n",
    "else:\n",
    "    age = lith.agefunc(subzone - 0.001)\n",
    "    \n",
    "if agelimit:\n",
    "        age = min(agelimit, age)\n",
    "                \n",
    "\n",
    "for index, coord in enumerate(mesh.data):\n",
    "    #if Oc.evaluate(tuple(coord)) and Tri.evaluate(tuple(coord)) and not Ic.evaluate(tuple(coord)): #in inner circle, not in outer circle\n",
    "    if Oc.evaluate(tuple(coord)) and Tri.evaluate(tuple(coord)): #In the quarter-circle defining the lithosphere\n",
    "  \n",
    "        sd = ((RocM - math.sqrt((coord[0] - Org[0])**2 + (coord[1] - Org[1])**2))*dp.LS) #distance from slab edge in m\n",
    "        #print sd\n",
    "        if thermallimit:\n",
    "            if sd < (lith.lithdepthfunc(age))*thermallimit: #comparison of dimensionless (model) lengths\n",
    "                t = lith.tempfunc(age, sd)\n",
    "                temperatureField.data[index] = t\n",
    "        else:\n",
    "            t = lith.tempfunc(age, sd)\n",
    "            temperatureField.data[index] = t\n",
    "    if Gc.evaluate(tuple(coord)) and Tri.evaluate(tuple(coord)) and not Oc.evaluate(tuple(coord)):\n",
    "        temperatureField.data[index] =  lith.tint"
   ]
  },
  {
   "cell_type": "code",
   "execution_count": 167,
   "metadata": {
    "collapsed": false
   },
   "outputs": [
    {
     "data": {
      "text/html": [
       "<img src='data:image/png;base64,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'>"
      ],
      "text/plain": [
       "<IPython.core.display.HTML object>"
      ]
     },
     "execution_count": 167,
     "metadata": {},
     "output_type": "execute_result"
    }
   ],
   "source": [
    "figTemp = glucifer.Figure()\n",
    "figTemp.append( glucifer.objects.Surface(mesh, temperatureField, discrete=True))\n",
    "\n",
    "#figTemp.save_database('test.gldb')\n",
    "figTemp.show()"
   ]
  },
  {
   "cell_type": "code",
   "execution_count": null,
   "metadata": {
    "collapsed": false
   },
   "outputs": [],
   "source": []
  },
  {
   "cell_type": "code",
   "execution_count": 169,
   "metadata": {
    "collapsed": true
   },
   "outputs": [],
   "source": [
    "# send boundary condition information to underworld\n",
    "IWalls = mesh.specialSets[\"MinI_VertexSet\"] + mesh.specialSets[\"MaxI_VertexSet\"]\n",
    "JWalls = mesh.specialSets[\"MinJ_VertexSet\"] + mesh.specialSets[\"MaxJ_VertexSet\"]\n",
    "TWalls = mesh.specialSets[\"MaxJ_VertexSet\"]\n",
    "BWalls = mesh.specialSets[\"MinJ_VertexSet\"]"
   ]
  },
  {
   "cell_type": "code",
   "execution_count": 171,
   "metadata": {
    "collapsed": false
   },
   "outputs": [
    {
     "data": {
      "text/plain": [
       "20480"
      ]
     },
     "execution_count": 171,
     "metadata": {},
     "output_type": "execute_result"
    }
   ],
   "source": [
    "halfNum = (mesh.elementsGlobal/2)\n",
    "halfNum"
   ]
  },
  {
   "cell_type": "code",
   "execution_count": 172,
   "metadata": {
    "collapsed": false
   },
   "outputs": [
    {
     "data": {
      "text/plain": [
       "FeMesh_IndexSet([20480])"
      ]
     },
     "execution_count": 172,
     "metadata": {},
     "output_type": "execute_result"
    }
   ],
   "source": [
    "stationaryNode = uw.mesh.FeMesh_IndexSet(mesh, 1, halfNum + 1)\n",
    "stationaryNode.add(halfNum)\n",
    "stationaryNode"
   ]
  },
  {
   "cell_type": "code",
   "execution_count": 173,
   "metadata": {
    "collapsed": false
   },
   "outputs": [],
   "source": [
    "#Set Dirichlet Temp conditions\n",
    "\n",
    "for index in mesh.specialSets[\"MinJ_VertexSet\"]:\n",
    "    temperatureField.data[index] = lith.tint\n",
    "for index in mesh.specialSets[\"MaxJ_VertexSet\"]:\n",
    "    temperatureField.data[index] = lith.tsurf\n",
    "\n",
    "\n",
    "# Now setup the dirichlet boundary condition\n",
    "# Note that through this object, we are flagging to the system \n",
    "# that these nodes are to be considered as boundary conditions. \n",
    "# Also note that we provide a tuple of sets.. One for the Vx, one for Vy.\n",
    "freeslipBC = uw.conditions.DirichletCondition(     variable=velocityField, \n",
    "                                              indexSetsPerDof=(stationaryNode, JWalls) )\n",
    "\n",
    "# also set dirichlet for temp field\n",
    "dirichTempBC = uw.conditions.DirichletCondition(     variable=temperatureField, \n",
    "                                              indexSetsPerDof=(JWalls,) )"
   ]
  },
  {
   "cell_type": "markdown",
   "metadata": {},
   "source": [
    "# Particles"
   ]
  },
  {
   "cell_type": "code",
   "execution_count": null,
   "metadata": {
    "collapsed": true
   },
   "outputs": [],
   "source": [
    "###########\n",
    "#Material Swarm and variables\n",
    "###########\n",
    "\n",
    "gSwarm = uw.swarm.Swarm(mesh=mesh)\n",
    "materialVariable = gSwarm.add_variable( dataType=\"int\", count=1 )"
   ]
  },
  {
   "cell_type": "code",
   "execution_count": 27,
   "metadata": {
    "collapsed": false
   },
   "outputs": [],
   "source": [
    "mantleIndex = 0\n",
    "lithosphereIndex = 1\n",
    "eclIndex = 2\n",
    "crustIndex = 3\n",
    "airIndex = 4\n",
    "tempIndex = 5\n",
    "\n",
    "\n",
    "\n",
    "\n",
    "if checkpointLoad:\n",
    "    checkpointLoadDir = natsort.natsorted(checkdirs)[-1]\n",
    "    temperatureField.load(os.path.join(checkpointLoadDir, \"temperatureField\" + \".hdf5\"))\n",
    "    pressureField.load(os.path.join(checkpointLoadDir, \"pressureField\" + \".hdf5\"))\n",
    "    velocityField.load(os.path.join(checkpointLoadDir, \"velocityField\" + \".hdf5\"))\n",
    "    gSwarm.load(os.path.join(checkpointLoadDir, \"swarm\" + \".h5\"))\n",
    "    for ix in range(len(varlist)):\n",
    "        varb = varlist[ix]\n",
    "        varb.load(os.path.join(checkpointLoadDir,varnames[ix] + \".h5\"))\n",
    "\n",
    "else:\n",
    "\n",
    "    # Layouts are used to populate the swarm across the whole domain\n",
    "    # Create the layout object\n",
    "    layout = uw.swarm.layouts.PerCellRandomLayout(swarm=gSwarm, particlesPerCell=ppc)\n",
    "    # Now use it to populate.\n",
    "    gSwarm.populate_using_layout( layout=layout )\n",
    "\n",
    "    # Lets initialise the 'materialVariable' data to represent different materials\n",
    "    # Set the material to heavy everywhere via the numpy array\n",
    "    materialVariable.data[:] = mantleIndex\n",
    "    \n",
    "    \n",
    "    #Set initial air and crust materials (allow the graph to take care of lithsophere)\n",
    "    #########\n",
    "    #This initial material setup will be model dependent\n",
    "    #########\n",
    "    for particleID in range(gSwarm.particleCoordinates.data.shape[0]):\n",
    "        if (1. - gSwarm.particleCoordinates.data[particleID][1]) < 0:\n",
    "                 materialVariable.data[particleID] = airIndex\n",
    "        elif (1. - gSwarm.particleCoordinates.data[particleID][1]) < MANTLETOCRUST:\n",
    "                 materialVariable.data[particleID] = crustIndex\n"
   ]
  },
  {
   "cell_type": "markdown",
   "metadata": {},
   "source": [
    "# Material Graphs"
   ]
  },
  {
   "cell_type": "code",
   "execution_count": 28,
   "metadata": {
    "collapsed": true
   },
   "outputs": [],
   "source": [
    "##############\n",
    "#Important: This is a quick fix for a bug that arises in parallel runs\n",
    "##############\n",
    "material_list = [0,1,2,3,4,5]\n"
   ]
  },
  {
   "cell_type": "code",
   "execution_count": 29,
   "metadata": {
    "collapsed": true
   },
   "outputs": [],
   "source": [
    "#All depth conditions are given as (km/D) where D is the length scale,\n",
    "#note that 'model depths' are used, e.g. 1-z, where z is the vertical Underworld coordinate\n",
    "#All temp conditions are in dimensionless temp. [0. - 1.]\n",
    "\n",
    "#######Graph object\n",
    "DG = nx.DiGraph(field=\"Depth\")\n",
    "\n",
    "#######Nodes\n",
    "#Note that the order of materials, deepest to shallowest is important\n",
    "DG.add_node(0, mat='mantle')\n",
    "DG.add_node(1, mat='lithosphere')\n",
    "DG.add_node(2, mat='ecl')\n",
    "DG.add_node(3, mat='crust')\n",
    "DG.add_node(4, mat='air')\n",
    "DG.add_node(5, mat='temp')\n",
    "\n",
    "\n",
    "labels=dict((n,d['mat']) for n,d in DG.nodes(data=True))\n",
    "pos=nx.spring_layout(DG)\n",
    "\n",
    "\n",
    "#######Edges\n",
    "#anything to air\n",
    "DG.add_edges_from([(0,4),(1,4), (3,4)])\n",
    "DG[0][4]['depthcondition'] = -1*TOPOHEIGHT\n",
    "DG[1][4]['depthcondition'] = -1*TOPOHEIGHT\n",
    "DG[3][4]['depthcondition'] = -1*TOPOHEIGHT\n",
    "\n",
    "\n",
    "#Anything to mantle\n",
    "DG.add_edges_from([(3,0), (1,0), (2,0), (5,0)])\n",
    "DG[3][0]['depthcondition'] = CRUSTTOMANTLE #Normal crust\n",
    "DG[1][0]['depthcondition'] = LITHTOMANTLE #This means we're going to kill lithosphere at the 660.\n",
    "DG[2][0]['depthcondition'] = CRUSTTOMANTLE #Eclogite crust\n",
    "DG[5][0]['depthcondition'] = CRUSTTOMANTLE #Normal crust\n",
    "\n",
    "#Anything to lithsphere\n",
    "DG.add_edges_from([(0,1),(4,1)])\n",
    "DG[0][1]['depthcondition'] = MANTLETOLITH\n",
    "DG[0][1]['avgtempcondition'] = 0.75*AVGTEMP #definition of thermal lithosphere\n",
    "\n",
    "\n",
    "#Anything to crust\n",
    "DG.add_edges_from([(0,3), (1,3), (4,3)])\n",
    "DG[0][3]['depthcondition'] = MANTLETOCRUST\n",
    "DG[1][3]['depthcondition'] = MANTLETOCRUST\n",
    "DG[4][3]['depthcondition'] = TOPOHEIGHT\n",
    "\n",
    "#crust to eclogite\n",
    "DG.add_edges_from([(3,2)])\n",
    "DG[3][2]['depthcondition'] =CRUSTTOECL"
   ]
  },
  {
   "cell_type": "code",
   "execution_count": 30,
   "metadata": {
    "collapsed": false
   },
   "outputs": [],
   "source": [
    "remove_nodes = []\n",
    "for node in DG.nodes():\n",
    "    if not node in material_list:\n",
    "        remove_nodes.append(node)\n",
    "        \n",
    "for rmnode in remove_nodes:\n",
    "    DG.remove_node(rmnode)"
   ]
  },
  {
   "cell_type": "code",
   "execution_count": 31,
   "metadata": {
    "collapsed": true
   },
   "outputs": [],
   "source": [
    "#A Dictionary to map strings in the graph (e.g. 'depthcondition') to particle data arrays\n",
    "\n",
    "particledepths = 1. - gSwarm.particleCoordinates.data[:,1]\n",
    "particletemps = temperatureField.evaluate(gSwarm)[:,0]\n",
    "\n",
    "conditionmap = {}\n",
    "\n",
    "conditionmap['depthcondition'] = {}\n",
    "conditionmap['depthcondition']['data'] = particledepths\n",
    "conditionmap['avgtempcondition'] = {}\n",
    "conditionmap['avgtempcondition']['data'] = particletemps"
   ]
  },
  {
   "cell_type": "code",
   "execution_count": 32,
   "metadata": {
    "collapsed": true
   },
   "outputs": [],
   "source": [
    "def update_swarm(graph, particleIndex):\n",
    "    \"\"\"\n",
    "    This function takes the materials graph (networkx.DiGraph), and a particle index,\n",
    "    then determines if a material update is required \n",
    "    and if so, returns the new materialindex\n",
    "    Args:\n",
    "        graph (networkx.DiGraph): Directed multigraph representing the transformation of material types\n",
    "        particleIndex (int): the particle index as corressponding to the index in the swarm data arrays\n",
    "    Returns:\n",
    "        if update is required the function returns the the new material variable (int) \n",
    "        else returns None\n",
    "    Raises:\n",
    "        TypeError: not implemented\n",
    "        ValueError: not implemented\n",
    "    \"\"\"\n",
    "    ##Egde gives links to other materials, we then query the conditions to see if we should change materials\n",
    "    matId = materialVariable.data[particleIndex][0]\n",
    "    innerchange = False\n",
    "    outerchange = False\n",
    "    for edge in graph[matId]:\n",
    "        if outerchange:\n",
    "            break\n",
    "        for cond in graph[matId][edge].keys():\n",
    "            outerchange = False\n",
    "            if innerchange: #found a complete transition, break inner loop\n",
    "                break\n",
    "            currentparticlevalue = conditionmap[cond]['data'][particleIndex]\n",
    "            crossover = graph[matId][edge][cond]\n",
    "            if ((matId > edge) and (currentparticlevalue > crossover)):\n",
    "                innerchange = False # continue on, \n",
    "                if graph[matId][edge].keys()[-1] == cond:\n",
    "                    outerchange = True\n",
    "                    innerchange = edge\n",
    "                    break\n",
    "            elif ((matId < edge) and (currentparticlevalue < crossover)):\n",
    "                innerchange = False\n",
    "                if graph[matId][edge].keys()[-1] == cond:\n",
    "                    outerchange = True\n",
    "                    innerchange = edge\n",
    "                    break\n",
    "            else:\n",
    "                #condition not met, break outer loop, go to next edge, outerchange should still be False\n",
    "                break\n",
    "    if type(innerchange) == int:\n",
    "        return innerchange"
   ]
  },
  {
   "cell_type": "code",
   "execution_count": 33,
   "metadata": {
    "collapsed": false
   },
   "outputs": [],
   "source": [
    "#Set the crust material in the slab using shapes/function from uw.\n",
    "\n",
    "if not checkpointLoad:\n",
    "    #materialVariable.data[:] = mantleIndex\n",
    "    #lithtemp = 0.95*0.8\n",
    "    #tempswarm = temperatureField.evaluate(gSwarm)[:,0]\n",
    "\n",
    "    #At this point, we only have to assign any materials that are defined by setup shapes,\n",
    "    #the rest of the materials will be assigned using the materials graph\n",
    "\n",
    "    for particleID in range(gSwarm.particleCoordinates.data.shape[0]):\n",
    "        coord = gSwarm.particleCoordinates.data[particleID]\n",
    "        if gSwarm.particleCoordinates.data[particleID][1] > (1.0 - CrustM):\n",
    "            materialVariable.data[particleID] =  crustIndex\n",
    "        elif Oc.evaluate(tuple(coord)) and Tri.evaluate(tuple(coord)) and not Cc.evaluate(tuple(coord)):\n",
    "            #print(\"True\")\n",
    "            materialVariable.data[particleID] =  crustIndex\n",
    "        if Gc.evaluate(tuple(coord)) and Tri.evaluate(tuple(coord)) and not Oc.evaluate(tuple(coord)):\n",
    "            materialVariable.data[particleID] =  tempIndex\n"
   ]
  },
  {
   "cell_type": "code",
   "execution_count": 34,
   "metadata": {
    "collapsed": false
   },
   "outputs": [],
   "source": [
    "#Cleanse the swarm of its sins\n",
    "#For some Material Graphs, the graph may have to be traversed more than once\n",
    "\n",
    "check = -1\n",
    "number_updated = 1\n",
    "\n",
    "while number_updated != 0:\n",
    "    number_updated = 0\n",
    "    for particleID in range(gSwarm.particleCoordinates.data.shape[0]):\n",
    "        check = update_swarm(DG, particleID)\n",
    "        if check > -1:\n",
    "            number_updated += 1\n",
    "            materialVariable.data[particleID] = check"
   ]
  },
  {
   "cell_type": "code",
   "execution_count": 35,
   "metadata": {
    "collapsed": false
   },
   "outputs": [
    {
     "data": {
      "text/html": [
       "<img src='data:image/png;base64,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'>"
      ],
      "text/plain": [
       "<IPython.core.display.HTML object>"
      ]
     },
     "execution_count": 35,
     "metadata": {},
     "output_type": "execute_result"
    }
   ],
   "source": [
    "figMat = glucifer.Figure()\n",
    "figMat.append( glucifer.objects.Points(gSwarm,materialVariable, colours='white blue red black'))\n",
    "#figMat.append( glucifer.objects.Mesh(mesh))\n",
    "figMat.save_database('test.gldb')\n",
    "figMat.show()"
   ]
  },
  {
   "cell_type": "markdown",
   "metadata": {},
   "source": [
    "## Rheology"
   ]
  },
  {
   "cell_type": "code",
   "execution_count": 36,
   "metadata": {
    "collapsed": true
   },
   "outputs": [],
   "source": [
    "# The yeilding of the upper slab is dependent on the strain rate.\n",
    "strainRate_2ndInvariant = fn.tensor.second_invariant( \n",
    "                            fn.tensor.symmetric( \n",
    "                            velocityField.fn_gradient ))\n",
    "\n",
    "\n",
    "coordinate = fn.input()\n",
    "depth = 1. - coordinate[1]\n"
   ]
  },
  {
   "cell_type": "code",
   "execution_count": null,
   "metadata": {
    "collapsed": false
   },
   "outputs": [],
   "source": []
  },
  {
   "cell_type": "code",
   "execution_count": 37,
   "metadata": {
    "collapsed": false
   },
   "outputs": [],
   "source": [
    "arhennius = fn.misc.min(ndp.up_visc, fn.math.exp(((-1.*math.log(dp.E)) + (math.log(dp.E) / (temperatureField + 1e-6)))))  \n"
   ]
  },
  {
   "cell_type": "code",
   "execution_count": 38,
   "metadata": {
    "collapsed": false
   },
   "outputs": [
    {
     "data": {
      "text/plain": [
       "561.3478200000001"
      ]
     },
     "execution_count": 38,
     "metadata": {},
     "output_type": "execute_result"
    }
   ],
   "source": [
    "ndp.fcd/ndp.cohesion"
   ]
  },
  {
   "cell_type": "code",
   "execution_count": 39,
   "metadata": {
    "collapsed": false
   },
   "outputs": [],
   "source": [
    "#Psuedo-plastic \n",
    "ys =  ndp.cohesion + (depth*ndp.fcd)\n",
    "#ys =  ndp.fc*lithopressuregrad*(30e3/dp.LS) # this is the byerlee strength at 30 km\n",
    "yss = fn.misc.max(ndp.cohesion, ys)\n",
    "plasticvisc = yss*(math.sqrt(2))/(strainRate_2ndInvariant*2.)\n",
    "plastic = fn.misc.max(ndp.low_visc,plasticvisc)\n",
    "#combine these\n",
    "mantleviscosityFn = fn.misc.min(arhennius, plastic)\n",
    "\n",
    "############\n",
    "#crust\n",
    "############\n",
    "\n",
    "\n",
    "\n",
    "ysc = (ndp.cohesion/10.) + (depth*(ndp.fcd/100.))\n",
    "#ysc = ys/100.\n",
    "ycs = fn.misc.max((ndp.cohesion/10.), ysc)\n",
    "crustplasticvisc = ycs*(math.sqrt(2))/(strainRate_2ndInvariant*2.)\n",
    "crustplastic = fn.misc.max(ndp.low_visc,crustplasticvisc) \n",
    "crustviscosityFn = fn.misc.min(arhennius, crustplastic)"
   ]
  },
  {
   "cell_type": "code",
   "execution_count": 40,
   "metadata": {
    "collapsed": false
   },
   "outputs": [],
   "source": [
    "#figVisc = glucifer.Figure()\n",
    "#figVisc.append( glucifer.objects.Surface(mesh, mantleviscosityFn, logScale=True))\n",
    "#figVisc.append(glucifer.objects.VectorArrows(mesh, velocityField, scaling=0.0002))\n",
    "#figVisc.save_database('test.gldb')\n",
    "#figVisc.show()"
   ]
  },
  {
   "cell_type": "code",
   "execution_count": 41,
   "metadata": {
    "collapsed": false
   },
   "outputs": [],
   "source": [
    "# Here we set a viscosity value of '1.' for both materials\n",
    "viscosityMapFn = fn.branching.map( fn_key = materialVariable,\n",
    "                         mapping = {airIndex:ndp.StAeta0, \n",
    "                                    lithosphereIndex:mantleviscosityFn, \n",
    "                                    crustIndex:crustviscosityFn,\n",
    "                                    mantleIndex:mantleviscosityFn, \n",
    "                                    eclIndex:crustviscosityFn,\n",
    "                                    tempIndex:mantleviscosityFn} )\n",
    "\n",
    "densityMapFn = fn.branching.map( fn_key = materialVariable,\n",
    "                         mapping = {airIndex:ndp.StA_RA, \n",
    "                                    lithosphereIndex:ndp.RA*temperatureField, \n",
    "                                    crustIndex:ndp.RA*temperatureField, \n",
    "                                    mantleIndex:ndp.RA*temperatureField, \n",
    "                                    eclIndex:ndp.RA*temperatureField,\n",
    "                                    tempIndex:ndp.RA*temperatureField, } )\n",
    "\n",
    "# Define our gravity using a python tuple (this will be automatically converted to a function)\n",
    "gravity = ( 0.0, 1.0 )\n",
    "\n",
    "buoyancyFn = gravity*densityMapFn"
   ]
  },
  {
   "cell_type": "markdown",
   "metadata": {},
   "source": [
    "## Build Stokes system"
   ]
  },
  {
   "cell_type": "code",
   "execution_count": 42,
   "metadata": {
    "collapsed": true
   },
   "outputs": [],
   "source": [
    "stokesPIC = uw.systems.Stokes( velocityField = velocityField, \n",
    "                               pressureField = pressureField,\n",
    "                               #swarm         = gSwarm, \n",
    "                               conditions    = [freeslipBC,],\n",
    "                               fn_viscosity   = arhennius, \n",
    "                               fn_bodyforce   = buoyancyFn,\n",
    "                               swarm=gSwarm)"
   ]
  },
  {
   "cell_type": "code",
   "execution_count": 43,
   "metadata": {
    "collapsed": true
   },
   "outputs": [],
   "source": [
    "#We do one solve with linear viscosity to get the initial strain rate invariant. \n",
    "#This solve step also calculates a 'guess' of the the velocity field based on the linear system, \n",
    "#which is used later in the non-linear solver.\n",
    "\n",
    "solver = uw.systems.Solver(stokesPIC)\n",
    "# If not doing a restart, do a solve on the non-plastic system\n",
    "if not checkpointLoad:\n",
    "    solver.solve()"
   ]
  },
  {
   "cell_type": "code",
   "execution_count": 44,
   "metadata": {
    "collapsed": true
   },
   "outputs": [],
   "source": [
    "#Switch particle escape on, this will also trigger the inflow population control \n",
    "gSwarm.particleEscape = True"
   ]
  },
  {
   "cell_type": "code",
   "execution_count": 45,
   "metadata": {
    "collapsed": true
   },
   "outputs": [],
   "source": [
    "####################\n",
    "#Add the non-linear viscosity to the Stokes system\n",
    "stokesPIC.fn_viscosity = viscosityMapFn\n",
    "###################\n",
    "\n",
    "#Set more advanced solver option\n",
    "solver.options.main.Q22_pc_type='gkgdiag'\n",
    "#solver.options.A11.ksp_rtol=1e-2\n",
    "#solver.options.scr.ksp_rtol=1e-3\n",
    "#solver.options.A11.ksp_type=\"cg\"\n",
    "solver.options.scr.use_previous_guess = True\n",
    "#solver.options.scr.ksp_set_min_it_converge = 1\n",
    "#solver.options.main.penalty=10.0\n",
    "\n",
    "#solver.options.mg.levels = 3\n",
    "#solver.options.main.remove_constant_pressure_null_space=True\n",
    "#solver.options.main.penalty = 1e2\n",
    "\n",
    "solver.options.A11.ksp_rtol=1e-4\n",
    "solver.options.scr.ksp_rtol=1e-4\n",
    "\n",
    "solver.options.A11.ksp_monitor=''\n",
    "solver.options.A11.ksp_converged_reason=''"
   ]
  },
  {
   "cell_type": "code",
   "execution_count": 46,
   "metadata": {
    "collapsed": true
   },
   "outputs": [],
   "source": [
    "solver.solve(nonLinearIterate=True)"
   ]
  },
  {
   "cell_type": "code",
   "execution_count": 47,
   "metadata": {
    "collapsed": false
   },
   "outputs": [
    {
     "data": {
      "text/plain": [
       "0.0"
      ]
     },
     "execution_count": 47,
     "metadata": {},
     "output_type": "execute_result"
    }
   ],
   "source": [
    "ndp.H"
   ]
  },
  {
   "cell_type": "code",
   "execution_count": 48,
   "metadata": {
    "collapsed": false
   },
   "outputs": [],
   "source": [
    "#Create advdiff system\n",
    "\n",
    "\n",
    "\n",
    "#advDiff = uw.systems.AdvectionDiffusion( phiField       = temperatureField, \n",
    "#                                         phiDotField    = temperatureDotField, \n",
    "#                                         velocityField  = velocityField, \n",
    "#                                         fn_diffusivity = 1.0,\n",
    "#                                         fn_sourceTerm = 0.,\n",
    "#                                         conditions     = [tempBC,] )\n",
    "\n",
    "\n",
    "advDiff = uw.systems.AdvectionDiffusion( phiField       = temperatureField, \n",
    "                                         phiDotField    = temperatureDotField, \n",
    "                                         velocityField  = velocityField,\n",
    "                                         fn_sourceTerm    = ndp.H,\n",
    "                                         fn_diffusivity = 1.0, \n",
    "                                         conditions     = [dirichTempBC,] )\n",
    "\n",
    "\n",
    "\n",
    "advector = uw.systems.SwarmAdvector( swarm         = gSwarm, \n",
    "                                     velocityField = velocityField, \n",
    "                                     order         = 1)"
   ]
  },
  {
   "cell_type": "code",
   "execution_count": 49,
   "metadata": {
    "collapsed": true
   },
   "outputs": [],
   "source": [
    "pics = uw.swarm.PICIntegrationSwarm(gSwarm)"
   ]
  },
  {
   "cell_type": "markdown",
   "metadata": {},
   "source": [
    "## Figures / gldbs etc"
   ]
  },
  {
   "cell_type": "code",
   "execution_count": 50,
   "metadata": {
    "collapsed": true
   },
   "outputs": [],
   "source": [
    "viscVariable = gSwarm.add_variable( dataType=\"float\", count=1 )\n",
    "viscVariable.data[:] = viscosityMapFn.evaluate(gSwarm)"
   ]
  },
  {
   "cell_type": "code",
   "execution_count": 51,
   "metadata": {
    "collapsed": false
   },
   "outputs": [],
   "source": [
    "#figVisc = glucifer.Figure()\n",
    "#figVisc.append( glucifer.objects.Points(gSwarm,viscVariable, logScale=True, colours='brown white blue'))\n",
    "\n",
    "#figVisc.show()"
   ]
  },
  {
   "cell_type": "code",
   "execution_count": 52,
   "metadata": {
    "collapsed": false
   },
   "outputs": [],
   "source": [
    "# Mapping the viscosity function to the mesh using MeshVariable_Projection\n",
    "\n",
    "meshVisc  = uw.mesh.MeshVariable( mesh, 1 )\n",
    "projectorStrainRate = uw.utils.MeshVariable_Projection( meshVisc, viscosityMapFn, swarm=gSwarm)\n",
    "projectorStrainRate.solve()\n",
    "\n"
   ]
  },
  {
   "cell_type": "code",
   "execution_count": 54,
   "metadata": {
    "collapsed": false
   },
   "outputs": [],
   "source": [
    "#pyplot.imshow(np.flipud(meshVisc.data.reshape(80 + 1, 128 + 1)), cmap='PuOr')\n",
    "#pyplot.colorbar()"
   ]
  },
  {
   "cell_type": "code",
   "execution_count": 142,
   "metadata": {
    "collapsed": false
   },
   "outputs": [
    {
     "data": {
      "text/html": [
       "<img src='data:image/png;base64,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'>"
      ],
      "text/plain": [
       "<IPython.core.display.HTML object>"
      ]
     },
     "execution_count": 142,
     "metadata": {},
     "output_type": "execute_result"
    }
   ],
   "source": [
    "#Pack some stuff into a database as well\n",
    "figDb = glucifer.Figure()\n",
    "figDb.append( glucifer.objects.Points(gSwarm,viscVariable, logScale=True, colours='brown white blue'))\n",
    "#figDb.append( glucifer.objects.Surface(mesh, meshVisc, logScale=True, colours='brown white blue') )\n",
    "\n",
    "figDb.append( glucifer.objects.Points(gSwarm,materialVariable, colours='brown white blue red'))\n",
    "#figDb.append( glucifer.objects.Mesh(mesh))\n",
    "figDb.append( glucifer.objects.VectorArrows(mesh,velocityField, arrowHead=0.2, scaling=0.00001))\n",
    "figDb.append( glucifer.objects.Surface(mesh, strainRate_2ndInvariant, logScale=True, colours='brown white blue'))\n",
    "#figDb.append( glucifer.objects.Surface(mesh, temperatureField))\n",
    "figDb.show()"
   ]
  },
  {
   "cell_type": "code",
   "execution_count": 56,
   "metadata": {
    "collapsed": true
   },
   "outputs": [],
   "source": [
    "figDb.save_database('test.gldb')"
   ]
  },
  {
   "cell_type": "code",
   "execution_count": 57,
   "metadata": {
    "collapsed": true
   },
   "outputs": [],
   "source": [
    "step = 0\n",
    "realtime = 0.\n",
    "timevals = [0.]"
   ]
  },
  {
   "cell_type": "code",
   "execution_count": null,
   "metadata": {
    "collapsed": false
   },
   "outputs": [
    {
     "name": "stdout",
     "output_type": "stream",
     "text": [
      "0.0\n",
      "1.0\n",
      "2.0\n",
      "3.0\n",
      "4.0"
     ]
    }
   ],
   "source": [
    "# initialise timer for computation\n",
    "startMain = time.clock()\n",
    "# Perform steps#\n",
    "while realtime < 0.2:\n",
    "#while step < 25:\n",
    "    #Enter non-linear loop\n",
    "    print step\n",
    "    solver.solve(nonLinearIterate=True)\n",
    "    dt = advDiff.get_max_dt()\n",
    "    if step == 0:\n",
    "        dt = 0.\n",
    "    #start = time.clock()\n",
    "    advDiff.integrate(dt)\n",
    "    #machine_time = (time.clock()-start)\n",
    "    #print(\"total advDiff time is: \" + str(machine_time))\n",
    "    # Advect swarm using this timestep size\n",
    "    #start = time.clock()\n",
    "    advector.integrate(dt)\n",
    "    #machine_time = (time.clock()-start)\n",
    "    #print(\"total advector time is: \" + str(machine_time))\n",
    "    # Increment\n",
    "    realtime += dt\n",
    "    step += 1\n",
    "    timevals.append(realtime)\n",
    "    \n",
    "    ################\n",
    "    #Gldb output\n",
    "    ################ \n",
    "    if (step % gldbs_output == 0):\n",
    "        #Rebuild any necessary swarm variables\n",
    "        viscVariable.data[:] = viscosityMapFn.evaluate(gSwarm)\n",
    "        #Write gldbs\n",
    "        fnamedb = \"dbFig\" + \"_\" + str(ModIt) + \"_\" + str(step) + \".gldb\"\n",
    "        fullpath = os.path.join(outputPath + \"gldbs/\" + fnamedb)\n",
    "        figDb.show()\n",
    "        figDb.save_database(fullpath)\n",
    "    ################\n",
    "    #Also repopulate entire swarm periodically\n",
    "    ################\n",
    "    if step % swarm_repop == 0:\n",
    "        pics.repopulate()\n",
    "    "
   ]
  },
  {
   "cell_type": "code",
   "execution_count": null,
   "metadata": {
    "collapsed": true
   },
   "outputs": [],
   "source": []
  }
 ],
 "metadata": {
  "kernelspec": {
   "display_name": "Python 2",
   "language": "python",
   "name": "python2"
  },
  "language_info": {
   "codemirror_mode": {
    "name": "ipython",
    "version": 2
   },
   "file_extension": ".py",
   "mimetype": "text/x-python",
   "name": "python",
   "nbconvert_exporter": "python",
   "pygments_lexer": "ipython2",
   "version": "2.7.11"
  }
 },
 "nbformat": 4,
 "nbformat_minor": 0
}
