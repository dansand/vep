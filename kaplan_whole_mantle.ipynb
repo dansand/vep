{
 "cells": [
  {
   "cell_type": "markdown",
   "metadata": {
    "collapsed": true
   },
   "source": [
    "## From Kaplan "
   ]
  },
  {
   "cell_type": "code",
   "execution_count": 102,
   "metadata": {
    "collapsed": true
   },
   "outputs": [],
   "source": [
    "import networkx as nx\n",
    "import underworld as uw\n",
    "import math\n",
    "from underworld import function as fn\n",
    "import glucifer\n",
    "#import matplotlib.pyplot as pyplot\n",
    "import time\n",
    "import numpy as np\n",
    "import os\n",
    "import sys\n",
    "import natsort\n",
    "import shutil\n",
    "from easydict import EasyDict as edict\n",
    "import slippy2 as sp\n",
    "from slippy2 import unit_conversions\n",
    "from slippy2 import boundary_layer2d\n",
    "\n",
    "\n",
    "\n",
    "from mpi4py import MPI\n",
    "comm = MPI.COMM_WORLD\n",
    "rank = comm.Get_rank()"
   ]
  },
  {
   "cell_type": "code",
   "execution_count": 103,
   "metadata": {
    "collapsed": true
   },
   "outputs": [],
   "source": [
    "############\n",
    "#Model name.  \n",
    "############\n",
    "Model = \"T\"\n",
    "ModNum = 10\n",
    "\n",
    "if len(sys.argv) == 1:\n",
    "    ModIt = \"Base\"\n",
    "elif sys.argv[1] == '-f':\n",
    "    ModIt = \"Base\"\n",
    "else:\n",
    "    ModIt = str(sys.argv[1])"
   ]
  },
  {
   "cell_type": "code",
   "execution_count": 104,
   "metadata": {
    "collapsed": true
   },
   "outputs": [],
   "source": [
    "###########\n",
    "#Standard output directory setup\n",
    "###########\n",
    "\n",
    "\n",
    "outputPath = \"results\" + \"/\" +  str(Model) + \"/\" + str(ModNum) + \"/\" + str(ModIt) + \"/\"\n",
    "imagePath = outputPath + 'images/'\n",
    "filePath = outputPath + 'files/'\n",
    "checkpointPath = outputPath + 'checkpoint/'\n",
    "dbPath = outputPath + 'gldbs/'\n",
    "outputFile = 'results_model' + Model + '_' + str(ModNum) + '_' + str(ModIt) + '.dat'\n",
    "\n",
    "if uw.rank()==0:\n",
    "    # make directories if they don't exist\n",
    "    if not os.path.isdir(outputPath):\n",
    "        os.makedirs(outputPath)\n",
    "    if not os.path.isdir(checkpointPath):\n",
    "        os.makedirs(checkpointPath)\n",
    "    if not os.path.isdir(imagePath):\n",
    "        os.makedirs(imagePath)\n",
    "    if not os.path.isdir(dbPath):\n",
    "        os.makedirs(dbPath)\n",
    "    if not os.path.isdir(filePath):\n",
    "        os.makedirs(filePath)\n",
    "        \n",
    "comm.Barrier() #Barrier here so no procs run the check in the next cell too early "
   ]
  },
  {
   "cell_type": "code",
   "execution_count": 105,
   "metadata": {
    "collapsed": false
   },
   "outputs": [
    {
     "name": "stdout",
     "output_type": "stream",
     "text": [
      "results/T/10/Base/checkpoint/ is empty\n"
     ]
    }
   ],
   "source": [
    "###########\n",
    "#Check if starting from checkpoint\n",
    "###########\n",
    "\n",
    "checkdirs = []\n",
    "for dirpath, dirnames, files in os.walk(checkpointPath):\n",
    "    if files:\n",
    "        print dirpath, 'has files'\n",
    "        checkpointLoad = True\n",
    "        checkdirs.append(dirpath)\n",
    "    if not files:\n",
    "        print dirpath, 'is empty'\n",
    "        checkpointLoad = False\n",
    "        "
   ]
  },
  {
   "cell_type": "code",
   "execution_count": 106,
   "metadata": {
    "collapsed": false
   },
   "outputs": [],
   "source": [
    "###########\n",
    "#Physical parameters\n",
    "###########\n",
    "\n",
    "#dimensional parameter dictionary\n",
    "dp = edict({'LS':2890.*1e3,\n",
    "           'rho':3300,\n",
    "           'g':9.81, \n",
    "           'eta0':1e20,\n",
    "           'k':10**-6,\n",
    "           'a':3e-5, \n",
    "           'deltaT':1400,\n",
    "           'TS':273,\n",
    "           'TB':1673,\n",
    "           'cohesion':5e6,\n",
    "           'fc':0.03,\n",
    "           'E':1e5, \n",
    "           'StALS': 27.*1e3})\n",
    "\n",
    "#scale_factors\n",
    "\n",
    "sf = edict({'stress':dp.LS**2/(dp.k*dp.eta0),\n",
    "           'lith_grad':dp.rho*dp.g*(dp.LS)**3/(dp.eta0*dp.k) })\n",
    "\n",
    "#dimensionless parameters\n",
    "\n",
    "ndp = edict({'RA':(dp.g*dp.rho*dp.a*dp.deltaT *(dp.LS)**3)/(dp.k*dp.eta0),\n",
    "           'cohesion':dp.cohesion*sf.stress,\n",
    "            'fcd':dp.fc*sf.lith_grad,\n",
    "            'TS':dp.TS/dp.deltaT,\n",
    "            'TB':dp.TB/dp.deltaT,\n",
    "            'low_visc':1e-4,\n",
    "            'StAeta0':0.01,\n",
    "            'up_visc':1e5,\n",
    "            'H':0.})"
   ]
  },
  {
   "cell_type": "code",
   "execution_count": 107,
   "metadata": {
    "collapsed": false
   },
   "outputs": [
    {
     "data": {
      "text/plain": [
       "417605.0"
      ]
     },
     "execution_count": 107,
     "metadata": {},
     "output_type": "execute_result"
    }
   ],
   "source": [
    "ndp.cohesion"
   ]
  },
  {
   "cell_type": "code",
   "execution_count": 108,
   "metadata": {
    "collapsed": true
   },
   "outputs": [],
   "source": [
    "ETAREF = dp.rho*dp.g*dp.a*dp.deltaT*((dp.LS)**3)/(ndp.RA*dp.k) #equivalent dimensional reference viscosity\n",
    "#RC = (3300.*dp.g*(dp.LS)**3)/(ETAREF *dp.k) #Composisitional Rayleigh number for rock-air buoyancy force\n",
    "RCA = (1650.*dp.g*(dp.LS)**3)/(ETAREF *dp.k) #Composisitional Rayleigh number for rock-air buoyancy force\n",
    "COMP_RA_FACT_AIR = RCA/ndp.RA\n",
    "#RCC = (100.*dp.g*(dp.LS)**3)/(ETAREF *dp.k) #Composisitional Rayleigh number for crust\n",
    "#COMP_RA_FACT_CRUST = RCC/ndp.RA\n",
    "#RCE = -1*(200.*dp.g*(dp.LS)**3)/(ETAREF *dp.k) #Composisitional Rayleigh number for eclogite \n",
    "#COMP_RA_FACT_ECL = RCE/ndp.RA\n",
    "ndp[\"StA_RA\"] = ndp.RA*COMP_RA_FACT_AIR"
   ]
  },
  {
   "cell_type": "code",
   "execution_count": 109,
   "metadata": {
    "collapsed": false
   },
   "outputs": [],
   "source": [
    "#A few parameters defining lengths scales, affects materal transistions etc.\n",
    "MANTLETOCRUST = (20.*1e3)/dp.LS #Crust depth\n",
    "CRUSTTOMANTLE = (900.*1e3)/dp.LS \n",
    "LITHTOMANTLE = (900.*1e3)/dp.LS \n",
    "MANTLETOLITH = (200.*1e3)/dp.LS \n",
    "TOPOHEIGHT = (0.*1e3)/dp.LS  #rock-air topography limits\n",
    "CRUSTTOECL  = (100.*1e3)/dp.LS\n",
    "AVGTEMP = ndp.TB #Used to define lithosphere"
   ]
  },
  {
   "cell_type": "code",
   "execution_count": 110,
   "metadata": {
    "collapsed": true
   },
   "outputs": [],
   "source": [
    "###########\n",
    "#Boundary layer / slab paramaters\n",
    "###########\n",
    "\n",
    "subzone = -0.4\n",
    "mor = 0.5\n",
    "vel = 70e3\n",
    "agelimit = 70.\n",
    "thermallimit = 0.8\n",
    "\n",
    "#Slab perturbation paramaters\n",
    "Roc = 450.\n",
    "Crust = 35.\n",
    "theta = 89.\n"
   ]
  },
  {
   "cell_type": "code",
   "execution_count": 111,
   "metadata": {
    "collapsed": false
   },
   "outputs": [],
   "source": [
    "#240/2./2./2./2."
   ]
  },
  {
   "cell_type": "code",
   "execution_count": 112,
   "metadata": {
    "collapsed": true
   },
   "outputs": [],
   "source": [
    "###########\n",
    "#Model setup parameters\n",
    "###########\n",
    "\n",
    "stickyAir = False\n",
    "\n",
    "MINX = -0.75\n",
    "MINY = 0.\n",
    "MAXX = 0.75\n",
    "\n",
    "#MAXY = 1.035\n",
    "MAXY = 1.\n",
    "\n",
    "if MINX == 0.:\n",
    "    squareModel = True\n",
    "else: \n",
    "    squareModel = False\n",
    "    \n",
    "    \n",
    "dim = 2          # number of spatial dimensions\n",
    "\n",
    "\n",
    "#MESH STUFF\n",
    "\n",
    "RES = 160\n",
    "\n",
    "\n",
    "if MINX == 0.:\n",
    "    Xres = RES\n",
    "else:\n",
    "    Xres = 256 #Hardcoding this fow now.\n",
    "\n",
    "\n",
    "if stickyAir:\n",
    "    Yres = RES\n",
    "    MAXY = 1. + dp.StALS/dp.LS #150km\n",
    "    \n",
    "else:\n",
    "    Yres = RES\n",
    "    MAXY = 1.\n",
    "\n",
    "\n",
    "periodic = [False, False]\n",
    "elementType = \"Q1/dQ0\"\n",
    "#elementType =\"Q2/DPC1\"\n",
    "\n",
    "refineMesh = True\n",
    "\n",
    "\n",
    "#System/Solver stuff\n",
    "\n",
    "PIC_integration=True\n",
    "ppc = 25"
   ]
  },
  {
   "cell_type": "code",
   "execution_count": 113,
   "metadata": {
    "collapsed": true
   },
   "outputs": [],
   "source": [
    "###########\n",
    "#Model Runtime parameters\n",
    "###########\n",
    "\n",
    "swarm_update = 10\n",
    "swarm_repop = 25\n",
    "files_output = 1e6\n",
    "gldbs_output = 25\n",
    "images_output = 1e6\n",
    "checkpoint_every = 25\n",
    "metric_output = 25\n",
    "sticky_air_temp = 10\n",
    "\n",
    "comm.Barrier() #Barrier here so not procs run the check in the next cell too early \n",
    "\n",
    "assert metric_output <= checkpoint_every, 'Checkpointing should run less or as ofen as metric output'\n",
    "#assert (metric_output >= swarm_update), 'Swarm update is needed before checkpointing'\n",
    "#assert metric_output >= sticky_air_temp, 'Sticky air temp should be updated more frequently that metrics'"
   ]
  },
  {
   "cell_type": "code",
   "execution_count": 114,
   "metadata": {
    "collapsed": true
   },
   "outputs": [],
   "source": [
    "mesh = uw.mesh.FeMesh_Cartesian( elementType = elementType,\n",
    "                                 elementRes  = (Xres, Yres), \n",
    "                                 minCoord    = (MINX,MINY), \n",
    "                                 maxCoord=(MAXX,MAXY), periodic=periodic)\n",
    "\n",
    "\n",
    "\n",
    "velocityField       = uw.mesh.MeshVariable( mesh=mesh,         nodeDofCount=dim )\n",
    "pressureField       = uw.mesh.MeshVariable( mesh=mesh.subMesh, nodeDofCount=1 )\n",
    "temperatureField    = uw.mesh.MeshVariable( mesh=mesh,         nodeDofCount=1 )\n",
    "temperatureDotField = uw.mesh.MeshVariable( mesh=mesh,         nodeDofCount=1 )"
   ]
  },
  {
   "cell_type": "code",
   "execution_count": 115,
   "metadata": {
    "collapsed": true
   },
   "outputs": [],
   "source": [
    "# Initialise data.. Note that we are also setting boundary conditions here\n",
    "velocityField.data[:] = [0.,0.]\n",
    "pressureField.data[:] = 0.\n",
    "temperatureField.data[:] = 0.\n",
    "temperatureDotField.data[:] = 0."
   ]
  },
  {
   "cell_type": "code",
   "execution_count": 116,
   "metadata": {
    "collapsed": true
   },
   "outputs": [],
   "source": [
    "axis = 1\n",
    "orgs = np.linspace(mesh.minCoord[axis], mesh.maxCoord[axis], mesh.elementRes[axis] + 1)\n",
    "\n",
    "value_to_constrain = 1.\n",
    "\n",
    "\n",
    "yconst = [(sp.find_closest(orgs, value_to_constrain), np.array([1.,0]))]\n"
   ]
  },
  {
   "cell_type": "code",
   "execution_count": 117,
   "metadata": {
    "collapsed": false
   },
   "outputs": [
    {
     "name": "stdout",
     "output_type": "stream",
     "text": [
      "Min\n",
      "(160, 0.0037506249999999775, 0.84853749999999994, 0.60966037735848211)\n",
      "('edges', 160)\n",
      "-- iteration 0 --\n",
      "| F( p_n ) |^2: 1.26509048791e-05\n",
      "| p_n+1 - p_n |^2: 0.863668842161\n",
      "-- iteration 1 --\n",
      "| F( p_n ) |^2: 5.47697612681e-31\n",
      "Min, Max element width: \n",
      "0.00375\n",
      "0.00875\n"
     ]
    }
   ],
   "source": [
    "#Y-Axis\n",
    "if refineMesh:\n",
    "    #Y-Axis\n",
    "    axis = 1\n",
    "    origcoords = np.linspace(mesh.minCoord[axis], mesh.maxCoord[axis], mesh.elementRes[axis] + 1)\n",
    "    edge_rest_lengths = np.diff(origcoords)\n",
    "\n",
    "    deform_lengths = edge_rest_lengths.copy()\n",
    "    min_point =  (mesh.maxCoord[axis])\n",
    "    el_reduction = 0.6001\n",
    "    dx = mesh.maxCoord[axis]\n",
    "\n",
    "    deform_lengths = deform_lengths - \\\n",
    "                                    ((1.-el_reduction)*deform_lengths[0]) + \\\n",
    "                                    abs((origcoords[1:] - min_point))*((0.5*deform_lengths[0])/dx)\n",
    "\n",
    "    #print(edge_rest_lengths.shape, deform_lengths.shape)\n",
    "\n",
    "    sp.deform_1d(deform_lengths, mesh,axis = 'y',norm = 'Min', constraints = yconst)"
   ]
  },
  {
   "cell_type": "code",
   "execution_count": 118,
   "metadata": {
    "collapsed": false
   },
   "outputs": [],
   "source": [
    "lith= boundary_layer2d.LithosphereTemps(mesh, temperatureField, dp.LS, MINX, mor, tint=ndp.TB, tsurf=ndp.TS, vel= 10e3, diffs = 1e-6)\n"
   ]
  },
  {
   "cell_type": "code",
   "execution_count": 119,
   "metadata": {
    "collapsed": false
   },
   "outputs": [],
   "source": [
    "fudge = 1.\n",
    "\n",
    "for index, coord in enumerate(mesh.data):\n",
    "    xloc = coord[0]\n",
    "    agema = lith.agefunc(xloc)\n",
    "    #print agema\n",
    "    if agelimit:\n",
    "        agema = min(agelimit, agema)\n",
    "    if thermallimit:\n",
    "        if (1.-coord[1]) < (lith.lithdepthfunc(agema)/dp.LS)*thermallimit: #comparison of dimensionless (model) lengths\n",
    "            zloc = ((1.- coord[1])* dp.LS) # dimensional depth kms\n",
    "            t = lith.tempfunc(agema,  zloc)\n",
    "            temperatureField.data[index] = t\n",
    "        else:\n",
    "            temperatureField.data[index] = lith.tint\n",
    "    \n",
    "    else:\n",
    "        if coord[1] >= 1.:\n",
    "            temperatureField.data[index] = lith.tsurf\n",
    "        else:\n",
    "            zloc = ((1.- coord[1])* dp.LS) # dimensional depth kms\n",
    "            t = lith.tempfunc(agema, zloc)\n",
    "            temperatureField.data[index] = t  "
   ]
  },
  {
   "cell_type": "code",
   "execution_count": 120,
   "metadata": {
    "collapsed": true
   },
   "outputs": [],
   "source": [
    "def inCircleFnGenerator(centre, radius):\n",
    "    coord = fn.input()\n",
    "    offsetFn = coord - centre\n",
    "    return fn.math.dot( offsetFn, offsetFn ) < radius**2\n",
    "\n",
    "#Setup slab perturbation params (mostly dimensionles / model params here)\n",
    "phi = 90. - theta\n",
    "RocM = (Roc/dp.LS)*1e3\n",
    "CrustM = MANTLETOCRUST\n",
    "#slabdepth = lithdepthfunc(agefunc(off, off, vel), dp.k)\n",
    "slabdepthM = lith.lithdepthfunc(lith.agefunc(subzone)) /dp.LS\n",
    "#slabdepthM *= 5.\n",
    "Org = (0.+subzone, 1.-RocM)\n",
    "#Use three circles to define our slab and crust perturbation,  \n",
    "Oc = inCircleFnGenerator(Org , RocM)\n",
    "Gc = inCircleFnGenerator(Org , RocM + (50e3/dp.LS)) #a slightly larger circle for the 'gap'\n",
    "Ic = inCircleFnGenerator(Org , RocM - slabdepthM)\n",
    "Cc = inCircleFnGenerator(Org , RocM - CrustM)\n",
    "dx = (RocM)/(np.math.tan((np.math.pi/180.)*phi))\n",
    "\n",
    "#Work our which way the slab should face:\n",
    "sense = 'Left'\n",
    "#if lith.agefunc(subzone + 0.0001) < lith.agefunc(subzone - 0.0001):\n",
    "#    sense = 'Right'\n",
    "\n",
    "#We'll also create a triangle which will truncate the circles defining the slab...\n",
    "if sense == 'Left': \n",
    "    ptx = subzone - dx\n",
    "else:\n",
    "    ptx = subzone + dx\n",
    "\n",
    "coords = ((0.+subzone, 1), (0.+subzone, 1.-RocM), (ptx, 1.))\n",
    "Tri = fn.shape.Polygon(np.array(coords))"
   ]
  },
  {
   "cell_type": "code",
   "execution_count": 121,
   "metadata": {
    "collapsed": true
   },
   "outputs": [],
   "source": [
    "#Assign temperatures in the perturbation region\n",
    "#sds = []\n",
    "if sense == 'Left': \n",
    "    age = lith.agefunc(subzone + 0.001)\n",
    "else:\n",
    "    age = lith.agefunc(subzone - 0.001)\n",
    "    \n",
    "if agelimit:\n",
    "        age = min(agelimit, age)\n",
    "\n",
    "for index, coord in enumerate(mesh.data):\n",
    "    #if Oc.evaluate(tuple(coord)) and Tri.evaluate(tuple(coord)) and not Ic.evaluate(tuple(coord)): #in inner circle, not in outer circle\n",
    "    if Oc.evaluate(tuple(coord)) and Tri.evaluate(tuple(coord)): #In the quarter-circle defining the lithosphere\n",
    "\n",
    "        sd = ((RocM - math.sqrt((coord[0] - Org[0])**2 + (coord[1] - Org[1])**2))*dp.LS) #distance from slab edge in m\n",
    "        #print sd\n",
    "        if thermallimit:\n",
    "            if sd < (lith.lithdepthfunc(age))*thermallimit: #comparison of dimensionless (model) lengths\n",
    "                t = lith.tempfunc(age, sd)\n",
    "                temperatureField.data[index] = t\n",
    "        else:\n",
    "            t = lith.tempfunc(age, sd)\n",
    "            temperatureField.data[index] = t\n",
    "    if Gc.evaluate(tuple(coord)) and Tri.evaluate(tuple(coord)) and not Oc.evaluate(tuple(coord)):\n",
    "        temperatureField.data[index] =  lith.tint"
   ]
  },
  {
   "cell_type": "code",
   "execution_count": 122,
   "metadata": {
    "collapsed": false
   },
   "outputs": [
    {
     "data": {
      "text/html": [
       "<img src='data:image/png;base64,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'>"
      ],
      "text/plain": [
       "<IPython.core.display.HTML object>"
      ]
     },
     "execution_count": 122,
     "metadata": {},
     "output_type": "execute_result"
    }
   ],
   "source": [
    "figTemp = glucifer.Figure()\n",
    "figTemp.append( glucifer.objects.Surface(mesh, temperatureField))\n",
    "\n",
    "#figTemp.save_database('test.gldb')\n",
    "figTemp.show()"
   ]
  },
  {
   "cell_type": "code",
   "execution_count": 123,
   "metadata": {
    "collapsed": true
   },
   "outputs": [],
   "source": [
    "# send boundary condition information to underworld\n",
    "IWalls = mesh.specialSets[\"MinI_VertexSet\"] + mesh.specialSets[\"MaxI_VertexSet\"]\n",
    "JWalls = mesh.specialSets[\"MinJ_VertexSet\"] + mesh.specialSets[\"MaxJ_VertexSet\"]\n",
    "TWalls = mesh.specialSets[\"MaxJ_VertexSet\"]\n",
    "BWalls = mesh.specialSets[\"MinJ_VertexSet\"]"
   ]
  },
  {
   "cell_type": "code",
   "execution_count": null,
   "metadata": {
    "collapsed": false
   },
   "outputs": [],
   "source": []
  },
  {
   "cell_type": "code",
   "execution_count": 124,
   "metadata": {
    "collapsed": false
   },
   "outputs": [],
   "source": [
    "#Set Dirichlet Temp conditions\n",
    "\n",
    "for index in mesh.specialSets[\"MinJ_VertexSet\"]:\n",
    "    temperatureField.data[index] = lith.tint\n",
    "for index in mesh.specialSets[\"MaxJ_VertexSet\"]:\n",
    "    temperatureField.data[index] = lith.tsurf\n",
    "\n",
    "\n",
    "# Now setup the dirichlet boundary condition\n",
    "# Note that through this object, we are flagging to the system \n",
    "# that these nodes are to be considered as boundary conditions. \n",
    "# Also note that we provide a tuple of sets.. One for the Vx, one for Vy.\n",
    "freeslipBC = uw.conditions.DirichletCondition(     variable=velocityField, \n",
    "                                              indexSetsPerDof=(IWalls, JWalls) )\n",
    "\n",
    "# also set dirichlet for temp field\n",
    "dirichTempBC = uw.conditions.DirichletCondition(     variable=temperatureField, \n",
    "                                              indexSetsPerDof=(JWalls,) )"
   ]
  },
  {
   "cell_type": "markdown",
   "metadata": {},
   "source": [
    "# Particles"
   ]
  },
  {
   "cell_type": "code",
   "execution_count": 125,
   "metadata": {
    "collapsed": true
   },
   "outputs": [],
   "source": [
    "###########\n",
    "#Material Swarm and variables\n",
    "###########\n",
    "\n",
    "gSwarm = uw.swarm.Swarm(mesh=mesh)\n",
    "materialVariable = gSwarm.add_variable( dataType=\"int\", count=1 )"
   ]
  },
  {
   "cell_type": "code",
   "execution_count": 126,
   "metadata": {
    "collapsed": false
   },
   "outputs": [],
   "source": [
    "mantleIndex = 0\n",
    "lithosphereIndex = 1\n",
    "eclIndex = 2\n",
    "crustIndex = 3\n",
    "airIndex = 4\n",
    "tempIndex = 5\n",
    "\n",
    "\n",
    "\n",
    "\n",
    "if checkpointLoad:\n",
    "    checkpointLoadDir = natsort.natsorted(checkdirs)[-1]\n",
    "    temperatureField.load(os.path.join(checkpointLoadDir, \"temperatureField\" + \".hdf5\"))\n",
    "    pressureField.load(os.path.join(checkpointLoadDir, \"pressureField\" + \".hdf5\"))\n",
    "    velocityField.load(os.path.join(checkpointLoadDir, \"velocityField\" + \".hdf5\"))\n",
    "    gSwarm.load(os.path.join(checkpointLoadDir, \"swarm\" + \".h5\"))\n",
    "    for ix in range(len(varlist)):\n",
    "        varb = varlist[ix]\n",
    "        varb.load(os.path.join(checkpointLoadDir,varnames[ix] + \".h5\"))\n",
    "\n",
    "else:\n",
    "\n",
    "    # Layouts are used to populate the swarm across the whole domain\n",
    "    # Create the layout object\n",
    "    layout = uw.swarm.layouts.PerCellRandomLayout(swarm=gSwarm, particlesPerCell=ppc)\n",
    "    # Now use it to populate.\n",
    "    gSwarm.populate_using_layout( layout=layout )\n",
    "\n",
    "    # Lets initialise the 'materialVariable' data to represent different materials\n",
    "    # Set the material to heavy everywhere via the numpy array\n",
    "    materialVariable.data[:] = mantleIndex\n",
    "    \n",
    "    \n",
    "    #Set initial air and crust materials (allow the graph to take care of lithsophere)\n",
    "    #########\n",
    "    #This initial material setup will be model dependent\n",
    "    #########\n",
    "    for particleID in range(gSwarm.particleCoordinates.data.shape[0]):\n",
    "        if (1. - gSwarm.particleCoordinates.data[particleID][1]) < 0:\n",
    "                 materialVariable.data[particleID] = airIndex\n",
    "        elif (1. - gSwarm.particleCoordinates.data[particleID][1]) < MANTLETOCRUST:\n",
    "                 materialVariable.data[particleID] = crustIndex\n"
   ]
  },
  {
   "cell_type": "markdown",
   "metadata": {},
   "source": [
    "# Material Graphs"
   ]
  },
  {
   "cell_type": "code",
   "execution_count": 127,
   "metadata": {
    "collapsed": true
   },
   "outputs": [],
   "source": [
    "##############\n",
    "#Important: This is a quick fix for a bug that arises in parallel runs\n",
    "##############\n",
    "material_list = [0,1,2,3,4,5]\n"
   ]
  },
  {
   "cell_type": "code",
   "execution_count": 128,
   "metadata": {
    "collapsed": true
   },
   "outputs": [],
   "source": [
    "#All depth conditions are given as (km/D) where D is the length scale,\n",
    "#note that 'model depths' are used, e.g. 1-z, where z is the vertical Underworld coordinate\n",
    "#All temp conditions are in dimensionless temp. [0. - 1.]\n",
    "\n",
    "#######Graph object\n",
    "DG = nx.DiGraph(field=\"Depth\")\n",
    "\n",
    "#######Nodes\n",
    "#Note that the order of materials, deepest to shallowest is important\n",
    "DG.add_node(0, mat='mantle')\n",
    "DG.add_node(1, mat='lithosphere')\n",
    "DG.add_node(2, mat='ecl')\n",
    "DG.add_node(3, mat='crust')\n",
    "DG.add_node(4, mat='air')\n",
    "DG.add_node(5, mat='temp')\n",
    "\n",
    "\n",
    "labels=dict((n,d['mat']) for n,d in DG.nodes(data=True))\n",
    "pos=nx.spring_layout(DG)\n",
    "\n",
    "\n",
    "#######Edges\n",
    "#anything to air\n",
    "DG.add_edges_from([(0,4),(1,4), (3,4)])\n",
    "DG[0][4]['depthcondition'] = -1*TOPOHEIGHT\n",
    "DG[1][4]['depthcondition'] = -1*TOPOHEIGHT\n",
    "DG[3][4]['depthcondition'] = -1*TOPOHEIGHT\n",
    "\n",
    "\n",
    "#Anything to mantle\n",
    "DG.add_edges_from([(3,0), (1,0), (2,0), (5,0)])\n",
    "DG[3][0]['depthcondition'] = CRUSTTOMANTLE #Normal crust\n",
    "DG[1][0]['depthcondition'] = LITHTOMANTLE #This means we're going to kill lithosphere at the 660.\n",
    "DG[2][0]['depthcondition'] = CRUSTTOMANTLE #Eclogite crust\n",
    "DG[5][0]['depthcondition'] = CRUSTTOMANTLE #Normal crust\n",
    "\n",
    "#Anything to lithsphere\n",
    "DG.add_edges_from([(0,1),(4,1)])\n",
    "DG[0][1]['depthcondition'] = MANTLETOLITH\n",
    "DG[0][1]['avgtempcondition'] = 0.75*AVGTEMP #definition of thermal lithosphere\n",
    "\n",
    "\n",
    "#Anything to crust\n",
    "DG.add_edges_from([(0,3), (1,3), (4,3)])\n",
    "DG[0][3]['depthcondition'] = MANTLETOCRUST\n",
    "DG[1][3]['depthcondition'] = MANTLETOCRUST\n",
    "DG[4][3]['depthcondition'] = TOPOHEIGHT\n",
    "\n",
    "#crust to eclogite\n",
    "DG.add_edges_from([(3,2)])\n",
    "DG[3][2]['depthcondition'] =CRUSTTOECL"
   ]
  },
  {
   "cell_type": "code",
   "execution_count": 129,
   "metadata": {
    "collapsed": false
   },
   "outputs": [],
   "source": [
    "remove_nodes = []\n",
    "for node in DG.nodes():\n",
    "    if not node in material_list:\n",
    "        remove_nodes.append(node)\n",
    "        \n",
    "for rmnode in remove_nodes:\n",
    "    DG.remove_node(rmnode)"
   ]
  },
  {
   "cell_type": "code",
   "execution_count": 130,
   "metadata": {
    "collapsed": true
   },
   "outputs": [],
   "source": [
    "#A Dictionary to map strings in the graph (e.g. 'depthcondition') to particle data arrays\n",
    "\n",
    "particledepths = 1. - gSwarm.particleCoordinates.data[:,1]\n",
    "particletemps = temperatureField.evaluate(gSwarm)[:,0]\n",
    "\n",
    "conditionmap = {}\n",
    "\n",
    "conditionmap['depthcondition'] = {}\n",
    "conditionmap['depthcondition']['data'] = particledepths\n",
    "conditionmap['avgtempcondition'] = {}\n",
    "conditionmap['avgtempcondition']['data'] = particletemps"
   ]
  },
  {
   "cell_type": "code",
   "execution_count": 131,
   "metadata": {
    "collapsed": true
   },
   "outputs": [],
   "source": [
    "def update_swarm(graph, particleIndex):\n",
    "    \"\"\"\n",
    "    This function takes the materials graph (networkx.DiGraph), and a particle index,\n",
    "    then determines if a material update is required \n",
    "    and if so, returns the new materialindex\n",
    "    Args:\n",
    "        graph (networkx.DiGraph): Directed multigraph representing the transformation of material types\n",
    "        particleIndex (int): the particle index as corressponding to the index in the swarm data arrays\n",
    "    Returns:\n",
    "        if update is required the function returns the the new material variable (int) \n",
    "        else returns None\n",
    "    Raises:\n",
    "        TypeError: not implemented\n",
    "        ValueError: not implemented\n",
    "    \"\"\"\n",
    "    ##Egde gives links to other materials, we then query the conditions to see if we should change materials\n",
    "    matId = materialVariable.data[particleIndex][0]\n",
    "    innerchange = False\n",
    "    outerchange = False\n",
    "    for edge in graph[matId]:\n",
    "        if outerchange:\n",
    "            break\n",
    "        for cond in graph[matId][edge].keys():\n",
    "            outerchange = False\n",
    "            if innerchange: #found a complete transition, break inner loop\n",
    "                break\n",
    "            currentparticlevalue = conditionmap[cond]['data'][particleIndex]\n",
    "            crossover = graph[matId][edge][cond]\n",
    "            if ((matId > edge) and (currentparticlevalue > crossover)):\n",
    "                innerchange = False # continue on, \n",
    "                if graph[matId][edge].keys()[-1] == cond:\n",
    "                    outerchange = True\n",
    "                    innerchange = edge\n",
    "                    break\n",
    "            elif ((matId < edge) and (currentparticlevalue < crossover)):\n",
    "                innerchange = False\n",
    "                if graph[matId][edge].keys()[-1] == cond:\n",
    "                    outerchange = True\n",
    "                    innerchange = edge\n",
    "                    break\n",
    "            else:\n",
    "                #condition not met, break outer loop, go to next edge, outerchange should still be False\n",
    "                break\n",
    "    if type(innerchange) == int:\n",
    "        return innerchange"
   ]
  },
  {
   "cell_type": "code",
   "execution_count": 132,
   "metadata": {
    "collapsed": false
   },
   "outputs": [],
   "source": [
    "#Set the crust material in the slab using shapes/function from uw.\n",
    "\n",
    "if not checkpointLoad:\n",
    "    #materialVariable.data[:] = mantleIndex\n",
    "    #lithtemp = 0.95*0.8\n",
    "    #tempswarm = temperatureField.evaluate(gSwarm)[:,0]\n",
    "\n",
    "    #At this point, we only have to assign any materials that are defined by setup shapes,\n",
    "    #the rest of the materials will be assigned using the materials graph\n",
    "\n",
    "    for particleID in range(gSwarm.particleCoordinates.data.shape[0]):\n",
    "        coord = gSwarm.particleCoordinates.data[particleID]\n",
    "        if gSwarm.particleCoordinates.data[particleID][1] > (1.0 - CrustM):\n",
    "            materialVariable.data[particleID] =  crustIndex\n",
    "        elif Oc.evaluate(tuple(coord)) and Tri.evaluate(tuple(coord)) and not Cc.evaluate(tuple(coord)):\n",
    "            #print(\"True\")\n",
    "            materialVariable.data[particleID] =  crustIndex\n",
    "        if Gc.evaluate(tuple(coord)) and Tri.evaluate(tuple(coord)) and not Oc.evaluate(tuple(coord)):\n",
    "            materialVariable.data[particleID] =  tempIndex\n"
   ]
  },
  {
   "cell_type": "code",
   "execution_count": 133,
   "metadata": {
    "collapsed": false
   },
   "outputs": [],
   "source": [
    "#Cleanse the swarm of its sins\n",
    "#For some Material Graphs, the graph may have to be traversed more than once\n",
    "\n",
    "check = -1\n",
    "number_updated = 1\n",
    "\n",
    "while number_updated != 0:\n",
    "    number_updated = 0\n",
    "    for particleID in range(gSwarm.particleCoordinates.data.shape[0]):\n",
    "        check = update_swarm(DG, particleID)\n",
    "        if check > -1:\n",
    "            number_updated += 1\n",
    "            materialVariable.data[particleID] = check"
   ]
  },
  {
   "cell_type": "code",
   "execution_count": 134,
   "metadata": {
    "collapsed": false
   },
   "outputs": [
    {
     "data": {
      "text/html": [
       "<img src='data:image/png;base64,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'>"
      ],
      "text/plain": [
       "<IPython.core.display.HTML object>"
      ]
     },
     "execution_count": 134,
     "metadata": {},
     "output_type": "execute_result"
    }
   ],
   "source": [
    "figMat = glucifer.Figure()\n",
    "figMat.append( glucifer.objects.Points(gSwarm,materialVariable, colours='white blue red black'))\n",
    "#figMat.append( glucifer.objects.Mesh(mesh))\n",
    "figMat.save_database('test.gldb')\n",
    "figMat.show()"
   ]
  },
  {
   "cell_type": "markdown",
   "metadata": {},
   "source": [
    "## Rheology"
   ]
  },
  {
   "cell_type": "code",
   "execution_count": 135,
   "metadata": {
    "collapsed": true
   },
   "outputs": [],
   "source": [
    "# The yeilding of the upper slab is dependent on the strain rate.\n",
    "strainRate_2ndInvariant = fn.tensor.second_invariant( \n",
    "                            fn.tensor.symmetric( \n",
    "                            velocityField.fn_gradient ))\n",
    "\n",
    "\n",
    "coordinate = fn.input()\n",
    "depth = 1. - coordinate[1]\n"
   ]
  },
  {
   "cell_type": "code",
   "execution_count": null,
   "metadata": {
    "collapsed": false
   },
   "outputs": [],
   "source": []
  },
  {
   "cell_type": "code",
   "execution_count": 136,
   "metadata": {
    "collapsed": false
   },
   "outputs": [],
   "source": [
    "arhennius = fn.misc.min(ndp.up_visc, fn.math.exp(((-1.*math.log(dp.E)) + (math.log(dp.E) / (temperatureField + 1e-6)))))  \n"
   ]
  },
  {
   "cell_type": "code",
   "execution_count": 138,
   "metadata": {
    "collapsed": false
   },
   "outputs": [
    {
     "data": {
      "text/plain": [
       "561.3478200000001"
      ]
     },
     "execution_count": 138,
     "metadata": {},
     "output_type": "execute_result"
    }
   ],
   "source": [
    "ndp.fcd/ndp.cohesion"
   ]
  },
  {
   "cell_type": "code",
   "execution_count": 139,
   "metadata": {
    "collapsed": false
   },
   "outputs": [],
   "source": [
    "#Psuedo-plastic \n",
    "ys =  ndp.cohesion + (depth*ndp.fcd)\n",
    "#ys =  ndp.fc*lithopressuregrad*(30e3/dp.LS) # this is the byerlee strength at 30 km\n",
    "yss = fn.misc.max(ndp.cohesion, ys)\n",
    "plasticvisc = yss*(math.sqrt(2))/(strainRate_2ndInvariant*2.)\n",
    "plastic = fn.misc.max(ndp.low_visc,plasticvisc)\n",
    "#combine these\n",
    "mantleviscosityFn = fn.misc.min(arhennius, plastic)\n",
    "\n",
    "############\n",
    "#crust\n",
    "############\n",
    "\n",
    "\n",
    "\n",
    "ysc = (ndp.cohesion/10.) + (depth*(ndp.fcd/100.))\n",
    "#ysc = ys/100.\n",
    "ycs = fn.misc.max((ndp.cohesion/10.), ysc)\n",
    "crustplasticvisc = ycs*(math.sqrt(2))/(strainRate_2ndInvariant*2.)\n",
    "crustplastic = fn.misc.max(ndp.low_visc,crustplasticvisc) \n",
    "crustviscosityFn = fn.misc.min(arhennius, crustplastic)"
   ]
  },
  {
   "cell_type": "code",
   "execution_count": 145,
   "metadata": {
    "collapsed": false
   },
   "outputs": [
    {
     "data": {
      "text/html": [
       "<img src='data:image/png;base64,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'>"
      ],
      "text/plain": [
       "<IPython.core.display.HTML object>"
      ]
     },
     "execution_count": 145,
     "metadata": {},
     "output_type": "execute_result"
    }
   ],
   "source": [
    "figVisc = glucifer.Figure()\n",
    "figVisc.append( glucifer.objects.Surface(mesh, mantleviscosityFn, logScale=True))\n",
    "figVisc.append(glucifer.objects.VectorArrows(mesh, velocityField, scaling=0.0002))\n",
    "figVisc.show()"
   ]
  },
  {
   "cell_type": "code",
   "execution_count": 140,
   "metadata": {
    "collapsed": false
   },
   "outputs": [],
   "source": [
    "# Here we set a viscosity value of '1.' for both materials\n",
    "viscosityMapFn = fn.branching.map( fn_key = materialVariable,\n",
    "                         mapping = {airIndex:ndp.StAeta0, \n",
    "                                    lithosphereIndex:mantleviscosityFn, \n",
    "                                    crustIndex:crustviscosityFn,\n",
    "                                    mantleIndex:mantleviscosityFn, \n",
    "                                    eclIndex:crustviscosityFn,\n",
    "                                    tempIndex:mantleviscosityFn} )\n",
    "\n",
    "densityMapFn = fn.branching.map( fn_key = materialVariable,\n",
    "                         mapping = {airIndex:ndp.StA_RA, \n",
    "                                    lithosphereIndex:ndp.RA*temperatureField, \n",
    "                                    crustIndex:ndp.RA*temperatureField, \n",
    "                                    mantleIndex:ndp.RA*temperatureField, \n",
    "                                    eclIndex:ndp.RA*temperatureField,\n",
    "                                    tempIndex:ndp.RA*temperatureField, } )\n",
    "\n",
    "# Define our gravity using a python tuple (this will be automatically converted to a function)\n",
    "gravity = ( 0.0, 1.0 )\n",
    "\n",
    "buoyancyFn = gravity*densityMapFn"
   ]
  },
  {
   "cell_type": "markdown",
   "metadata": {},
   "source": [
    "## Build Stokes system"
   ]
  },
  {
   "cell_type": "code",
   "execution_count": 141,
   "metadata": {
    "collapsed": true
   },
   "outputs": [],
   "source": [
    "stokesPIC = uw.systems.Stokes( velocityField = velocityField, \n",
    "                               pressureField = pressureField,\n",
    "                               #swarm         = gSwarm, \n",
    "                               conditions    = [freeslipBC,],\n",
    "                               fn_viscosity   = arhennius, \n",
    "                               fn_bodyforce   = buoyancyFn,\n",
    "                               swarm=gSwarm)"
   ]
  },
  {
   "cell_type": "code",
   "execution_count": 142,
   "metadata": {
    "collapsed": true
   },
   "outputs": [],
   "source": [
    "#We do one solve with linear viscosity to get the initial strain rate invariant. \n",
    "#This solve step also calculates a 'guess' of the the velocity field based on the linear system, \n",
    "#which is used later in the non-linear solver.\n",
    "\n",
    "solver = uw.systems.Solver(stokesPIC)\n",
    "# If not doing a restart, do a solve on the non-plastic system\n",
    "if not checkpointLoad:\n",
    "    solver.solve()"
   ]
  },
  {
   "cell_type": "code",
   "execution_count": 146,
   "metadata": {
    "collapsed": true
   },
   "outputs": [],
   "source": [
    "#Switch particle escape on, this will also trigger the inflow population control \n",
    "gSwarm.particleEscape = True"
   ]
  },
  {
   "cell_type": "code",
   "execution_count": 147,
   "metadata": {
    "collapsed": true
   },
   "outputs": [],
   "source": [
    "####################\n",
    "#Add the non-linear viscosity to the Stokes system\n",
    "stokesPIC.fn_viscosity = viscosityMapFn\n",
    "###################\n",
    "\n",
    "#Set more advanced solver option\n",
    "solver.options.main.Q22_pc_type='gkgdiag'\n",
    "#solver.options.A11.ksp_rtol=1e-2\n",
    "#solver.options.scr.ksp_rtol=1e-3\n",
    "#solver.options.A11.ksp_type=\"cg\"\n",
    "solver.options.scr.use_previous_guess = True\n",
    "#solver.options.scr.ksp_set_min_it_converge = 1\n",
    "#solver.options.main.penalty=10.0\n",
    "\n",
    "#solver.options.mg.levels = 3\n",
    "#solver.options.main.remove_constant_pressure_null_space=True\n",
    "#solver.options.main.penalty = 1e2\n",
    "\n",
    "solver.options.A11.ksp_rtol=1e-4\n",
    "solver.options.scr.ksp_rtol=1e-4\n",
    "\n",
    "solver.options.A11.ksp_monitor=''\n",
    "solver.options.A11.ksp_converged_reason=''"
   ]
  },
  {
   "cell_type": "code",
   "execution_count": null,
   "metadata": {
    "collapsed": true
   },
   "outputs": [],
   "source": [
    "solver.solve(nonLinearIterate=True)"
   ]
  },
  {
   "cell_type": "code",
   "execution_count": 141,
   "metadata": {
    "collapsed": false
   },
   "outputs": [
    {
     "data": {
      "text/plain": [
       "0"
      ]
     },
     "execution_count": 141,
     "metadata": {},
     "output_type": "execute_result"
    }
   ],
   "source": [
    "ndp.H"
   ]
  },
  {
   "cell_type": "code",
   "execution_count": 143,
   "metadata": {
    "collapsed": false
   },
   "outputs": [],
   "source": [
    "#Create advdiff system\n",
    "\n",
    "\n",
    "\n",
    "#advDiff = uw.systems.AdvectionDiffusion( phiField       = temperatureField, \n",
    "#                                         phiDotField    = temperatureDotField, \n",
    "#                                         velocityField  = velocityField, \n",
    "#                                         fn_diffusivity = 1.0,\n",
    "#                                         fn_sourceTerm = 0.,\n",
    "#                                         conditions     = [tempBC,] )\n",
    "\n",
    "\n",
    "advDiff = uw.systems.AdvectionDiffusion( phiField       = temperatureField, \n",
    "                                         phiDotField    = temperatureDotField, \n",
    "                                         velocityField  = velocityField,\n",
    "                                         fn_sourceTerm    = ndp.H,\n",
    "                                         fn_diffusivity = 1.0, \n",
    "                                         conditions     = [dirichTempBC,] )\n",
    "\n",
    "\n",
    "\n",
    "advector = uw.systems.SwarmAdvector( swarm         = gSwarm, \n",
    "                                     velocityField = velocityField, \n",
    "                                     order         = 1)"
   ]
  },
  {
   "cell_type": "code",
   "execution_count": null,
   "metadata": {
    "collapsed": true
   },
   "outputs": [],
   "source": [
    "pics = uw.swarm.PICIntegrationSwarm(gSwarm)"
   ]
  },
  {
   "cell_type": "markdown",
   "metadata": {},
   "source": [
    "## Figures / gldbs etc"
   ]
  },
  {
   "cell_type": "code",
   "execution_count": 145,
   "metadata": {
    "collapsed": true
   },
   "outputs": [],
   "source": [
    "viscVariable = gSwarm.add_variable( dataType=\"float\", count=1 )\n",
    "viscVariable.data[:] = viscosityMapFn.evaluate(gSwarm)"
   ]
  },
  {
   "cell_type": "code",
   "execution_count": 146,
   "metadata": {
    "collapsed": true
   },
   "outputs": [],
   "source": [
    "#Pack some stuff into a database as well\n",
    "figDb = glucifer.Figure()\n",
    "figDb.append( glucifer.objects.Points(gSwarm,viscVariable, logScale=True, colours='brown white blue'))\n",
    "figDb.append( glucifer.objects.Points(gSwarm,materialVariable, colours='brown white blue red'))\n",
    "figDb.append( glucifer.objects.Mesh(mesh))\n",
    "figDb.append( glucifer.objects.VectorArrows(mesh,velocityField, arrowHead=0.2, scaling=0.01))\n",
    "figDb.append( glucifer.objects.Surface(mesh, strainRate_2ndInvariant, logScale=True, colours='brown white blue'))\n",
    "figDb.append( glucifer.objects.Surface(mesh, temperatureField))"
   ]
  },
  {
   "cell_type": "code",
   "execution_count": 152,
   "metadata": {
    "collapsed": true
   },
   "outputs": [],
   "source": [
    "step = 0\n",
    "realtime = 0.\n",
    "timevals = [0.]"
   ]
  },
  {
   "cell_type": "code",
   "execution_count": null,
   "metadata": {
    "collapsed": false
   },
   "outputs": [
    {
     "name": "stdout",
     "output_type": "stream",
     "text": [
      "0.0\n",
      "1.0\n",
      "2.0\n",
      "3.0\n",
      "4.0"
     ]
    }
   ],
   "source": [
    "# initialise timer for computation\n",
    "startMain = time.clock()\n",
    "# Perform steps#\n",
    "while realtime < 0.2:\n",
    "#while step < 25:\n",
    "    #Enter non-linear loop\n",
    "    print step\n",
    "    solver.solve(nonLinearIterate=True)\n",
    "    dt = advDiff.get_max_dt()\n",
    "    if step == 0:\n",
    "        dt = 0.\n",
    "    #start = time.clock()\n",
    "    advDiff.integrate(dt)\n",
    "    #machine_time = (time.clock()-start)\n",
    "    #print(\"total advDiff time is: \" + str(machine_time))\n",
    "    # Advect swarm using this timestep size\n",
    "    #start = time.clock()\n",
    "    advector.integrate(dt)\n",
    "    #machine_time = (time.clock()-start)\n",
    "    #print(\"total advector time is: \" + str(machine_time))\n",
    "    # Increment\n",
    "    realtime += dt\n",
    "    step += 1\n",
    "    timevals.append(realtime)\n",
    "    \n",
    "    ################\n",
    "    #Gldb output\n",
    "    ################ \n",
    "    if (step % gldbs_output == 0):\n",
    "        #Rebuild any necessary swarm variables\n",
    "        viscVariable.data[:] = viscosityMapFn.evaluate(gSwarm)\n",
    "        #Write gldbs\n",
    "        fnamedb = \"dbFig\" + \"_\" + str(ModIt) + \"_\" + str(step) + \".gldb\"\n",
    "        fullpath = os.path.join(outputPath + \"gldbs/\" + fnamedb)\n",
    "        figDb.show()\n",
    "        figDb.save_database(fullpath)\n",
    "    ################\n",
    "    #Also repopulate entire swarm periodically\n",
    "    ################\n",
    "    if step % swarm_repop == 0:\n",
    "        pics.repopulate()\n",
    "    "
   ]
  },
  {
   "cell_type": "code",
   "execution_count": null,
   "metadata": {
    "collapsed": true
   },
   "outputs": [],
   "source": []
  }
 ],
 "metadata": {
  "kernelspec": {
   "display_name": "Python 2",
   "language": "python",
   "name": "python2"
  },
  "language_info": {
   "codemirror_mode": {
    "name": "ipython",
    "version": 2
   },
   "file_extension": ".py",
   "mimetype": "text/x-python",
   "name": "python",
   "nbconvert_exporter": "python",
   "pygments_lexer": "ipython2",
   "version": "2.7.11"
  }
 },
 "nbformat": 4,
 "nbformat_minor": 0
}
