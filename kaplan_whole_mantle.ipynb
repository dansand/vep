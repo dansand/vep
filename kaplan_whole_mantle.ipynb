{
 "cells": [
  {
   "cell_type": "markdown",
   "metadata": {
    "collapsed": true
   },
   "source": [
    "## From Kaplan "
   ]
  },
  {
   "cell_type": "code",
   "execution_count": 49,
   "metadata": {
    "collapsed": true
   },
   "outputs": [],
   "source": [
    "import networkx as nx\n",
    "import underworld as uw\n",
    "import math\n",
    "from underworld import function as fn\n",
    "import glucifer\n",
    "#import matplotlib.pyplot as pyplot\n",
    "import time\n",
    "import numpy as np\n",
    "import os\n",
    "import sys\n",
    "import natsort\n",
    "import shutil\n",
    "from easydict import EasyDict as edict\n",
    "import slippy2 as sp\n",
    "from slippy2 import unit_conversions\n",
    "from slippy2 import boundary_layer2d\n",
    "\n",
    "\n",
    "\n",
    "from mpi4py import MPI\n",
    "comm = MPI.COMM_WORLD\n",
    "rank = comm.Get_rank()"
   ]
  },
  {
   "cell_type": "code",
   "execution_count": 50,
   "metadata": {
    "collapsed": true
   },
   "outputs": [],
   "source": [
    "############\n",
    "#Model name.  \n",
    "############\n",
    "Model = \"T\"\n",
    "ModNum = 10\n",
    "\n",
    "if len(sys.argv) == 1:\n",
    "    ModIt = \"Base\"\n",
    "elif sys.argv[1] == '-f':\n",
    "    ModIt = \"Base\"\n",
    "else:\n",
    "    ModIt = str(sys.argv[1])"
   ]
  },
  {
   "cell_type": "code",
   "execution_count": 51,
   "metadata": {
    "collapsed": true
   },
   "outputs": [],
   "source": [
    "###########\n",
    "#Standard output directory setup\n",
    "###########\n",
    "\n",
    "\n",
    "outputPath = \"results\" + \"/\" +  str(Model) + \"/\" + str(ModNum) + \"/\" + str(ModIt) + \"/\"\n",
    "imagePath = outputPath + 'images/'\n",
    "filePath = outputPath + 'files/'\n",
    "checkpointPath = outputPath + 'checkpoint/'\n",
    "dbPath = outputPath + 'gldbs/'\n",
    "outputFile = 'results_model' + Model + '_' + str(ModNum) + '_' + str(ModIt) + '.dat'\n",
    "\n",
    "if uw.rank()==0:\n",
    "    # make directories if they don't exist\n",
    "    if not os.path.isdir(outputPath):\n",
    "        os.makedirs(outputPath)\n",
    "    if not os.path.isdir(checkpointPath):\n",
    "        os.makedirs(checkpointPath)\n",
    "    if not os.path.isdir(imagePath):\n",
    "        os.makedirs(imagePath)\n",
    "    if not os.path.isdir(dbPath):\n",
    "        os.makedirs(dbPath)\n",
    "    if not os.path.isdir(filePath):\n",
    "        os.makedirs(filePath)\n",
    "        \n",
    "comm.Barrier() #Barrier here so no procs run the check in the next cell too early "
   ]
  },
  {
   "cell_type": "code",
   "execution_count": 52,
   "metadata": {
    "collapsed": false
   },
   "outputs": [
    {
     "name": "stdout",
     "output_type": "stream",
     "text": [
      "results/T/10/Base/checkpoint/ is empty\n"
     ]
    }
   ],
   "source": [
    "###########\n",
    "#Check if starting from checkpoint\n",
    "###########\n",
    "\n",
    "checkdirs = []\n",
    "for dirpath, dirnames, files in os.walk(checkpointPath):\n",
    "    if files:\n",
    "        print dirpath, 'has files'\n",
    "        checkpointLoad = True\n",
    "        checkdirs.append(dirpath)\n",
    "    if not files:\n",
    "        print dirpath, 'is empty'\n",
    "        checkpointLoad = False\n",
    "        "
   ]
  },
  {
   "cell_type": "code",
   "execution_count": 53,
   "metadata": {
    "collapsed": false
   },
   "outputs": [],
   "source": [
    "###########\n",
    "#Physical parameters\n",
    "###########\n",
    "\n",
    "#dimensional parameter dictionary\n",
    "dp = edict({'LS':2890.*1e3,\n",
    "           'rho':3300,\n",
    "           'g':9.81, \n",
    "           'eta0':1e20,\n",
    "           'k':10**-6,\n",
    "           'a':3e-5, \n",
    "           'deltaT':1400,\n",
    "           'TS':273,\n",
    "           'TB':1673,\n",
    "           'cohesion':5e6,\n",
    "           'fc':0.03,\n",
    "           'E':1e5, \n",
    "           'StALS': 27.*1e3})\n",
    "\n",
    "#scale_factors\n",
    "\n",
    "sf = edict({'stress':dp.LS**2/(dp.k*dp.eta0),\n",
    "           'lith_grad':dp.rho*dp.g*(dp.LS)**3/(dp.eta0*dp.k) })\n",
    "\n",
    "#dimensionless parameters\n",
    "\n",
    "ndp = edict({'RA':(dp.g*dp.rho*dp.a*dp.deltaT *(dp.LS)**3)/(dp.k*dp.eta0),\n",
    "           'cohesion':dp.cohesion*sf.stress,\n",
    "            'fcd':dp.fc*sf.lith_grad,\n",
    "            'TS':dp.TS/dp.deltaT,\n",
    "            'TB':dp.TB/dp.deltaT,\n",
    "            'low_visc':1e-4,\n",
    "            'StAeta0':0.01,\n",
    "            'up_visc':1e5,\n",
    "            'H':0.})"
   ]
  },
  {
   "cell_type": "code",
   "execution_count": 54,
   "metadata": {
    "collapsed": false
   },
   "outputs": [
    {
     "data": {
      "text/plain": [
       "417605.0"
      ]
     },
     "execution_count": 54,
     "metadata": {},
     "output_type": "execute_result"
    }
   ],
   "source": [
    "ndp.cohesion"
   ]
  },
  {
   "cell_type": "code",
   "execution_count": 55,
   "metadata": {
    "collapsed": true
   },
   "outputs": [],
   "source": [
    "ETAREF = dp.rho*dp.g*dp.a*dp.deltaT*((dp.LS)**3)/(ndp.RA*dp.k) #equivalent dimensional reference viscosity\n",
    "#RC = (3300.*dp.g*(dp.LS)**3)/(ETAREF *dp.k) #Composisitional Rayleigh number for rock-air buoyancy force\n",
    "RCA = (1650.*dp.g*(dp.LS)**3)/(ETAREF *dp.k) #Composisitional Rayleigh number for rock-air buoyancy force\n",
    "COMP_RA_FACT_AIR = RCA/ndp.RA\n",
    "#RCC = (100.*dp.g*(dp.LS)**3)/(ETAREF *dp.k) #Composisitional Rayleigh number for crust\n",
    "#COMP_RA_FACT_CRUST = RCC/ndp.RA\n",
    "#RCE = -1*(200.*dp.g*(dp.LS)**3)/(ETAREF *dp.k) #Composisitional Rayleigh number for eclogite \n",
    "#COMP_RA_FACT_ECL = RCE/ndp.RA\n",
    "ndp[\"StA_RA\"] = ndp.RA*COMP_RA_FACT_AIR"
   ]
  },
  {
   "cell_type": "code",
   "execution_count": 56,
   "metadata": {
    "collapsed": false
   },
   "outputs": [],
   "source": [
    "#A few parameters defining lengths scales, affects materal transistions etc.\n",
    "MANTLETOCRUST = (20.*1e3)/dp.LS #Crust depth\n",
    "CRUSTTOMANTLE = (900.*1e3)/dp.LS \n",
    "LITHTOMANTLE = (900.*1e3)/dp.LS \n",
    "MANTLETOLITH = (200.*1e3)/dp.LS \n",
    "TOPOHEIGHT = (0.*1e3)/dp.LS  #rock-air topography limits\n",
    "CRUSTTOECL  = (100.*1e3)/dp.LS\n",
    "AVGTEMP = ndp.TB #Used to define lithosphere"
   ]
  },
  {
   "cell_type": "code",
   "execution_count": 57,
   "metadata": {
    "collapsed": true
   },
   "outputs": [],
   "source": [
    "###########\n",
    "#Boundary layer / slab paramaters\n",
    "###########\n",
    "\n",
    "subzone = -0.4\n",
    "mor = 0.5\n",
    "vel = 70e3\n",
    "agelimit = 70.\n",
    "thermallimit = 0.8\n",
    "\n",
    "#Slab perturbation paramaters\n",
    "Roc = 450.\n",
    "Crust = 35.\n",
    "theta = 89.\n"
   ]
  },
  {
   "cell_type": "code",
   "execution_count": 101,
   "metadata": {
    "collapsed": false
   },
   "outputs": [
    {
     "data": {
      "text/plain": [
       "15.0"
      ]
     },
     "execution_count": 101,
     "metadata": {},
     "output_type": "execute_result"
    }
   ],
   "source": [
    "#240/2./2./2./2."
   ]
  },
  {
   "cell_type": "code",
   "execution_count": 59,
   "metadata": {
    "collapsed": true
   },
   "outputs": [],
   "source": [
    "###########\n",
    "#Model setup parameters\n",
    "###########\n",
    "\n",
    "stickyAir = False\n",
    "\n",
    "MINX = -0.75\n",
    "MINY = 0.\n",
    "MAXX = 0.75\n",
    "\n",
    "#MAXY = 1.035\n",
    "MAXY = 1.\n",
    "\n",
    "if MINX == 0.:\n",
    "    squareModel = True\n",
    "else: \n",
    "    squareModel = False\n",
    "    \n",
    "    \n",
    "dim = 2          # number of spatial dimensions\n",
    "\n",
    "\n",
    "#MESH STUFF\n",
    "\n",
    "RES = 160\n",
    "\n",
    "\n",
    "if MINX == 0.:\n",
    "    Xres = RES\n",
    "else:\n",
    "    Xres = 256 #Hardcoding this fow now.\n",
    "\n",
    "\n",
    "if stickyAir:\n",
    "    Yres = RES\n",
    "    MAXY = 1. + dp.StALS/dp.LS #150km\n",
    "    \n",
    "else:\n",
    "    Yres = RES\n",
    "    MAXY = 1.\n",
    "\n",
    "\n",
    "periodic = [True, False]\n",
    "elementType = \"Q1/dQ0\"\n",
    "#elementType =\"Q2/DPC1\"\n",
    "\n",
    "refineMesh = True\n",
    "\n",
    "\n",
    "#System/Solver stuff\n",
    "\n",
    "PIC_integration=True\n",
    "ppc = 25"
   ]
  },
  {
   "cell_type": "code",
   "execution_count": 60,
   "metadata": {
    "collapsed": true
   },
   "outputs": [],
   "source": [
    "###########\n",
    "#Model Runtime parameters\n",
    "###########\n",
    "\n",
    "swarm_update = 10\n",
    "swarm_repop = 25\n",
    "files_output = 1e6\n",
    "gldbs_output = 25\n",
    "images_output = 1e6\n",
    "checkpoint_every = 25\n",
    "metric_output = 25\n",
    "sticky_air_temp = 10\n",
    "\n",
    "comm.Barrier() #Barrier here so not procs run the check in the next cell too early \n",
    "\n",
    "assert metric_output <= checkpoint_every, 'Checkpointing should run less or as ofen as metric output'\n",
    "#assert (metric_output >= swarm_update), 'Swarm update is needed before checkpointing'\n",
    "#assert metric_output >= sticky_air_temp, 'Sticky air temp should be updated more frequently that metrics'"
   ]
  },
  {
   "cell_type": "code",
   "execution_count": 61,
   "metadata": {
    "collapsed": true
   },
   "outputs": [],
   "source": [
    "mesh = uw.mesh.FeMesh_Cartesian( elementType = elementType,\n",
    "                                 elementRes  = (Xres, Yres), \n",
    "                                 minCoord    = (MINX,MINY), \n",
    "                                 maxCoord=(MAXX,MAXY), periodic=periodic)\n",
    "\n",
    "\n",
    "\n",
    "velocityField       = uw.mesh.MeshVariable( mesh=mesh,         nodeDofCount=dim )\n",
    "pressureField       = uw.mesh.MeshVariable( mesh=mesh.subMesh, nodeDofCount=1 )\n",
    "temperatureField    = uw.mesh.MeshVariable( mesh=mesh,         nodeDofCount=1 )\n",
    "temperatureDotField = uw.mesh.MeshVariable( mesh=mesh,         nodeDofCount=1 )"
   ]
  },
  {
   "cell_type": "code",
   "execution_count": 62,
   "metadata": {
    "collapsed": true
   },
   "outputs": [],
   "source": [
    "# Initialise data.. Note that we are also setting boundary conditions here\n",
    "velocityField.data[:] = [0.,0.]\n",
    "pressureField.data[:] = 0.\n",
    "temperatureField.data[:] = 0.\n",
    "temperatureDotField.data[:] = 0."
   ]
  },
  {
   "cell_type": "code",
   "execution_count": 95,
   "metadata": {
    "collapsed": true
   },
   "outputs": [],
   "source": [
    "axis = 1\n",
    "orgs = np.linspace(mesh.minCoord[axis], mesh.maxCoord[axis], mesh.elementRes[axis] + 1)\n",
    "\n",
    "value_to_constrain = 1.\n",
    "\n",
    "\n",
    "yconst = [(sp.find_closest(orgs, value_to_constrain), np.array([1.,0]))]\n"
   ]
  },
  {
   "cell_type": "code",
   "execution_count": 96,
   "metadata": {
    "collapsed": false
   },
   "outputs": [
    {
     "name": "stdout",
     "output_type": "stream",
     "text": [
      "Min\n",
      "(128, 0.0046882812499999997, 0.84814687499999974, 0.61219527559055276)\n",
      "('edges', 128)\n",
      "-- iteration 0 --\n",
      "| F( p_n ) |^2: 1.98289105657e-05\n",
      "| p_n+1 - p_n |^2: 0.693112959188\n",
      "-- iteration 1 --\n",
      "| F( p_n ) |^2: 7.64543030408e-31\n"
     ]
    },
    {
     "ename": "TypeError",
     "evalue": "ufunc 'add' did not contain a loop with signature matching types dtype('S321') dtype('S321') dtype('S321')",
     "output_type": "error",
     "traceback": [
      "\u001b[0;31m---------------------------------------------------------------------------\u001b[0m",
      "\u001b[0;31mTypeError\u001b[0m                                 Traceback (most recent call last)",
      "\u001b[0;32m<ipython-input-96-98d048d2381a>\u001b[0m in \u001b[0;36m<module>\u001b[0;34m()\u001b[0m\n\u001b[1;32m     15\u001b[0m     \u001b[0;31m#print(edge_rest_lengths.shape, deform_lengths.shape)\u001b[0m\u001b[0;34m\u001b[0m\u001b[0;34m\u001b[0m\u001b[0m\n\u001b[1;32m     16\u001b[0m \u001b[0;34m\u001b[0m\u001b[0m\n\u001b[0;32m---> 17\u001b[0;31m     \u001b[0msp\u001b[0m\u001b[0;34m.\u001b[0m\u001b[0mdeform_1d\u001b[0m\u001b[0;34m(\u001b[0m\u001b[0mdeform_lengths\u001b[0m\u001b[0;34m,\u001b[0m \u001b[0mmesh\u001b[0m\u001b[0;34m,\u001b[0m\u001b[0maxis\u001b[0m \u001b[0;34m=\u001b[0m \u001b[0;34m'y'\u001b[0m\u001b[0;34m,\u001b[0m\u001b[0mnorm\u001b[0m \u001b[0;34m=\u001b[0m \u001b[0;34m'Min'\u001b[0m\u001b[0;34m,\u001b[0m \u001b[0mconstraints\u001b[0m \u001b[0;34m=\u001b[0m \u001b[0myconst\u001b[0m\u001b[0;34m)\u001b[0m\u001b[0;34m\u001b[0m\u001b[0m\n\u001b[0m",
      "\u001b[0;32m/Users/dansandiford/Documents/programming/earthsci_code/python/slippy2/slippy2/spmesh.pyc\u001b[0m in \u001b[0;36mdeform_1d\u001b[0;34m(f, mesh, axis, norm, constraints)\u001b[0m\n\u001b[1;32m    311\u001b[0m         \u001b[0;32mwith\u001b[0m \u001b[0mmesh\u001b[0m\u001b[0;34m.\u001b[0m\u001b[0mdeform_mesh\u001b[0m\u001b[0;34m(\u001b[0m\u001b[0;34m)\u001b[0m\u001b[0;34m:\u001b[0m\u001b[0;34m\u001b[0m\u001b[0m\n\u001b[1;32m    312\u001b[0m             \u001b[0;32mfor\u001b[0m \u001b[0mindex\u001b[0m\u001b[0;34m,\u001b[0m \u001b[0mcoord\u001b[0m \u001b[0;32min\u001b[0m \u001b[0menumerate\u001b[0m\u001b[0;34m(\u001b[0m\u001b[0mmesh\u001b[0m\u001b[0;34m.\u001b[0m\u001b[0mdata\u001b[0m\u001b[0;34m)\u001b[0m\u001b[0;34m:\u001b[0m\u001b[0;34m\u001b[0m\u001b[0m\n\u001b[0;32m--> 313\u001b[0;31m                 \u001b[0mmesh\u001b[0m\u001b[0;34m.\u001b[0m\u001b[0mdata\u001b[0m\u001b[0;34m[\u001b[0m\u001b[0mindex\u001b[0m\u001b[0;34m]\u001b[0m\u001b[0;34m[\u001b[0m\u001b[0mthisaxis\u001b[0m\u001b[0;34m]\u001b[0m \u001b[0;34m=\u001b[0m \u001b[0mdictionary\u001b[0m\u001b[0;34m[\u001b[0m\u001b[0mnp\u001b[0m\u001b[0;34m.\u001b[0m\u001b[0maround\u001b[0m\u001b[0;34m(\u001b[0m\u001b[0mcoord\u001b[0m\u001b[0;34m,\u001b[0m\u001b[0;36m5\u001b[0m\u001b[0;34m)\u001b[0m\u001b[0;34m[\u001b[0m\u001b[0mthisaxis\u001b[0m\u001b[0;34m]\u001b[0m\u001b[0;34m]\u001b[0m\u001b[0;34m\u001b[0m\u001b[0m\n\u001b[0m\u001b[1;32m    314\u001b[0m         \u001b[0;31m#Print some stats\u001b[0m\u001b[0;34m\u001b[0m\u001b[0;34m\u001b[0m\u001b[0m\n\u001b[1;32m    315\u001b[0m         \u001b[0;32mprint\u001b[0m\u001b[0;34m(\u001b[0m\u001b[0;34m\"Min, Max element width: \"\u001b[0m\u001b[0;34m)\u001b[0m\u001b[0;34m\u001b[0m\u001b[0m\n",
      "\u001b[0;32m/Users/dansandiford/anaconda/lib/python2.7/contextlib.pyc\u001b[0m in \u001b[0;36m__exit__\u001b[0;34m(self, type, value, traceback)\u001b[0m\n\u001b[1;32m     33\u001b[0m                 \u001b[0mvalue\u001b[0m \u001b[0;34m=\u001b[0m \u001b[0mtype\u001b[0m\u001b[0;34m(\u001b[0m\u001b[0;34m)\u001b[0m\u001b[0;34m\u001b[0m\u001b[0m\n\u001b[1;32m     34\u001b[0m             \u001b[0;32mtry\u001b[0m\u001b[0;34m:\u001b[0m\u001b[0;34m\u001b[0m\u001b[0m\n\u001b[0;32m---> 35\u001b[0;31m                 \u001b[0mself\u001b[0m\u001b[0;34m.\u001b[0m\u001b[0mgen\u001b[0m\u001b[0;34m.\u001b[0m\u001b[0mthrow\u001b[0m\u001b[0;34m(\u001b[0m\u001b[0mtype\u001b[0m\u001b[0;34m,\u001b[0m \u001b[0mvalue\u001b[0m\u001b[0;34m,\u001b[0m \u001b[0mtraceback\u001b[0m\u001b[0;34m)\u001b[0m\u001b[0;34m\u001b[0m\u001b[0m\n\u001b[0m\u001b[1;32m     36\u001b[0m                 \u001b[0;32mraise\u001b[0m \u001b[0mRuntimeError\u001b[0m\u001b[0;34m(\u001b[0m\u001b[0;34m\"generator didn't stop after throw()\"\u001b[0m\u001b[0;34m)\u001b[0m\u001b[0;34m\u001b[0m\u001b[0m\n\u001b[1;32m     37\u001b[0m             \u001b[0;32mexcept\u001b[0m \u001b[0mStopIteration\u001b[0m\u001b[0;34m,\u001b[0m \u001b[0mexc\u001b[0m\u001b[0;34m:\u001b[0m\u001b[0;34m\u001b[0m\u001b[0m\n",
      "\u001b[0;32m/Users/dansandiford/Documents/programming/newinterface/underworld2/underworld/mesh/_mesh.pyc\u001b[0m in \u001b[0;36mdeform_mesh\u001b[0;34m(self)\u001b[0m\n\u001b[1;32m    231\u001b[0m                                                      \u001b[0;34m+\u001b[0m\u001b[0;34m\"Note that any submesh should not be modified directly, \"\u001b[0m\u001b[0;34m\u001b[0m\u001b[0m\n\u001b[1;32m    232\u001b[0m                                                      \u001b[0;34m+\u001b[0m\u001b[0;34m\"but will instead be updated automatically on return from \"\u001b[0m\u001b[0;34m\u001b[0m\u001b[0m\n\u001b[0;32m--> 233\u001b[0;31m                                                      +\"the 'deform_mesh' context manager. \\nEncountered exception message:\\n\")\n\u001b[0m\u001b[1;32m    234\u001b[0m         \u001b[0;32mfinally\u001b[0m\u001b[0;34m:\u001b[0m\u001b[0;34m\u001b[0m\u001b[0m\n\u001b[1;32m    235\u001b[0m             \u001b[0mself\u001b[0m\u001b[0;34m.\u001b[0m\u001b[0m_dataWriteable\u001b[0m \u001b[0;34m=\u001b[0m \u001b[0mFalse\u001b[0m\u001b[0;34m\u001b[0m\u001b[0m\n",
      "\u001b[0;32m/Users/dansandiford/Documents/programming/newinterface/underworld2/underworld/__init__.pyc\u001b[0m in \u001b[0;36m_prepend_message_to_exception\u001b[0;34m(e, message)\u001b[0m\n\u001b[1;32m    131\u001b[0m     \u001b[0mhttp\u001b[0m\u001b[0;34m:\u001b[0m\u001b[0;34m//\u001b[0m\u001b[0mstackoverflow\u001b[0m\u001b[0;34m.\u001b[0m\u001b[0mcom\u001b[0m\u001b[0;34m/\u001b[0m\u001b[0mquestions\u001b[0m\u001b[0;34m/\u001b[0m\u001b[0;36m6062576\u001b[0m\u001b[0;34m/\u001b[0m\u001b[0madding\u001b[0m\u001b[0;34m-\u001b[0m\u001b[0minformation\u001b[0m\u001b[0;34m-\u001b[0m\u001b[0mto\u001b[0m\u001b[0;34m-\u001b[0m\u001b[0ma\u001b[0m\u001b[0;34m-\u001b[0m\u001b[0mpython\u001b[0m\u001b[0;34m-\u001b[0m\u001b[0mexception\u001b[0m\u001b[0;34m\u001b[0m\u001b[0m\n\u001b[1;32m    132\u001b[0m     \"\"\"\n\u001b[0;32m--> 133\u001b[0;31m     \u001b[0;32mraise\u001b[0m \u001b[0mtype\u001b[0m\u001b[0;34m(\u001b[0m\u001b[0me\u001b[0m\u001b[0;34m)\u001b[0m\u001b[0;34m,\u001b[0m \u001b[0mtype\u001b[0m\u001b[0;34m(\u001b[0m\u001b[0me\u001b[0m\u001b[0;34m)\u001b[0m\u001b[0;34m(\u001b[0m\u001b[0mmessage\u001b[0m \u001b[0;34m+\u001b[0m \u001b[0;34m'\\n'\u001b[0m \u001b[0;34m+\u001b[0m \u001b[0me\u001b[0m\u001b[0;34m.\u001b[0m\u001b[0mmessage\u001b[0m\u001b[0;34m)\u001b[0m\u001b[0;34m,\u001b[0m \u001b[0m_sys\u001b[0m\u001b[0;34m.\u001b[0m\u001b[0mexc_info\u001b[0m\u001b[0;34m(\u001b[0m\u001b[0;34m)\u001b[0m\u001b[0;34m[\u001b[0m\u001b[0;36m2\u001b[0m\u001b[0;34m]\u001b[0m\u001b[0;34m\u001b[0m\u001b[0m\n\u001b[0m\u001b[1;32m    134\u001b[0m \u001b[0;34m\u001b[0m\u001b[0m\n\u001b[1;32m    135\u001b[0m \u001b[0;32mclass\u001b[0m \u001b[0m_del_uw_class\u001b[0m\u001b[0;34m:\u001b[0m\u001b[0;34m\u001b[0m\u001b[0m\n",
      "\u001b[0;31mTypeError\u001b[0m: ufunc 'add' did not contain a loop with signature matching types dtype('S321') dtype('S321') dtype('S321')"
     ]
    }
   ],
   "source": [
    "#Y-Axis\n",
    "if refineMesh:\n",
    "    #Y-Axis\n",
    "    axis = 1\n",
    "    origcoords = np.linspace(mesh.minCoord[axis], mesh.maxCoord[axis], mesh.elementRes[axis] + 1)\n",
    "    edge_rest_lengths = np.diff(origcoords)\n",
    "\n",
    "    deform_lengths = edge_rest_lengths.copy()\n",
    "    min_point =  (mesh.maxCoord[axis])\n",
    "    el_reduction = 0.6001\n",
    "    dx = mesh.maxCoord[axis]\n",
    "\n",
    "    deform_lengths = deform_lengths - \\\n",
    "                                    ((1.-el_reduction)*deform_lengths[0]) + \\\n",
    "                                    abs((origcoords[1:] - min_point))*((0.5*deform_lengths[0])/dx)\n",
    "\n",
    "    #print(edge_rest_lengths.shape, deform_lengths.shape)\n",
    "\n",
    "    sp.deform_1d(deform_lengths, mesh,axis = 'y',norm = 'Min', constraints = yconst)"
   ]
  },
  {
   "cell_type": "code",
   "execution_count": 93,
   "metadata": {
    "collapsed": false
   },
   "outputs": [],
   "source": [
    "lith= boundary_layer2d.LithosphereTemps(mesh, temperatureField, dp.LS, MINX, mor, tint=ndp.TB, tsurf=ndp.TS, vel= 10e3, diffs = 1e-6)\n"
   ]
  },
  {
   "cell_type": "code",
   "execution_count": 94,
   "metadata": {
    "collapsed": false
   },
   "outputs": [],
   "source": [
    "fudge = 1.\n",
    "\n",
    "for index, coord in enumerate(mesh.data):\n",
    "    xloc = coord[0]\n",
    "    agema = lith.agefunc(xloc)\n",
    "    #print agema\n",
    "    if agelimit:\n",
    "        agema = min(agelimit, agema)\n",
    "    if thermallimit:\n",
    "        if (1.-coord[1]) < (lith.lithdepthfunc(agema)/dp.LS)*thermallimit: #comparison of dimensionless (model) lengths\n",
    "            zloc = ((1.- coord[1])* dp.LS) # dimensional depth kms\n",
    "            t = lith.tempfunc(agema,  zloc)\n",
    "            temperatureField.data[index] = t\n",
    "        else:\n",
    "            temperatureField.data[index] = lith.tint\n",
    "    \n",
    "    else:\n",
    "        if coord[1] >= 1.:\n",
    "            temperatureField.data[index] = lith.tsurf\n",
    "        else:\n",
    "            zloc = ((1.- coord[1])* dp.LS) # dimensional depth kms\n",
    "            t = lith.tempfunc(agema, zloc)\n",
    "            temperatureField.data[index] = t  "
   ]
  },
  {
   "cell_type": "code",
   "execution_count": 66,
   "metadata": {
    "collapsed": true
   },
   "outputs": [],
   "source": [
    "def inCircleFnGenerator(centre, radius):\n",
    "    coord = fn.input()\n",
    "    offsetFn = coord - centre\n",
    "    return fn.math.dot( offsetFn, offsetFn ) < radius**2\n",
    "\n",
    "#Setup slab perturbation params (mostly dimensionles / model params here)\n",
    "phi = 90. - theta\n",
    "RocM = (Roc/dp.LS)*1e3\n",
    "CrustM = MANTLETOCRUST\n",
    "#slabdepth = lithdepthfunc(agefunc(off, off, vel), dp.k)\n",
    "slabdepthM = lith.lithdepthfunc(lith.agefunc(subzone)) /dp.LS\n",
    "#slabdepthM *= 5.\n",
    "Org = (0.+subzone, 1.-RocM)\n",
    "#Use three circles to define our slab and crust perturbation,  \n",
    "Oc = inCircleFnGenerator(Org , RocM)\n",
    "Gc = inCircleFnGenerator(Org , RocM + (50e3/dp.LS)) #a slightly larger circle for the 'gap'\n",
    "Ic = inCircleFnGenerator(Org , RocM - slabdepthM)\n",
    "Cc = inCircleFnGenerator(Org , RocM - CrustM)\n",
    "dx = (RocM)/(np.math.tan((np.math.pi/180.)*phi))\n",
    "\n",
    "#Work our which way the slab should face:\n",
    "sense = 'Left'\n",
    "#if lith.agefunc(subzone + 0.0001) < lith.agefunc(subzone - 0.0001):\n",
    "#    sense = 'Right'\n",
    "\n",
    "#We'll also create a triangle which will truncate the circles defining the slab...\n",
    "if sense == 'Left': \n",
    "    ptx = subzone - dx\n",
    "else:\n",
    "    ptx = subzone + dx\n",
    "\n",
    "coords = ((0.+subzone, 1), (0.+subzone, 1.-RocM), (ptx, 1.))\n",
    "Tri = fn.shape.Polygon(np.array(coords))"
   ]
  },
  {
   "cell_type": "code",
   "execution_count": 67,
   "metadata": {
    "collapsed": true
   },
   "outputs": [],
   "source": [
    "#Assign temperatures in the perturbation region\n",
    "#sds = []\n",
    "if sense == 'Left': \n",
    "    age = lith.agefunc(subzone + 0.001)\n",
    "else:\n",
    "    age = lith.agefunc(subzone - 0.001)\n",
    "    \n",
    "if agelimit:\n",
    "        age = min(agelimit, age)\n",
    "\n",
    "for index, coord in enumerate(mesh.data):\n",
    "    #if Oc.evaluate(tuple(coord)) and Tri.evaluate(tuple(coord)) and not Ic.evaluate(tuple(coord)): #in inner circle, not in outer circle\n",
    "    if Oc.evaluate(tuple(coord)) and Tri.evaluate(tuple(coord)): #In the quarter-circle defining the lithosphere\n",
    "\n",
    "        sd = ((RocM - math.sqrt((coord[0] - Org[0])**2 + (coord[1] - Org[1])**2))*dp.LS) #distance from slab edge in m\n",
    "        #print sd\n",
    "        if thermallimit:\n",
    "            if sd < (lith.lithdepthfunc(age))*thermallimit: #comparison of dimensionless (model) lengths\n",
    "                t = lith.tempfunc(age, sd)\n",
    "                temperatureField.data[index] = t\n",
    "        else:\n",
    "            t = lith.tempfunc(age, sd)\n",
    "            temperatureField.data[index] = t\n",
    "    if Gc.evaluate(tuple(coord)) and Tri.evaluate(tuple(coord)) and not Oc.evaluate(tuple(coord)):\n",
    "        temperatureField.data[index] =  lith.tint"
   ]
  },
  {
   "cell_type": "code",
   "execution_count": 68,
   "metadata": {
    "collapsed": false
   },
   "outputs": [
    {
     "data": {
      "text/html": [
       "<img src='data:image/png;base64,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'>"
      ],
      "text/plain": [
       "<IPython.core.display.HTML object>"
      ]
     },
     "execution_count": 68,
     "metadata": {},
     "output_type": "execute_result"
    }
   ],
   "source": [
    "figTemp = glucifer.Figure()\n",
    "figTemp.append( glucifer.objects.Surface(mesh, temperatureField))\n",
    "\n",
    "#figTemp.save_database('test.gldb')\n",
    "figTemp.show()"
   ]
  },
  {
   "cell_type": "code",
   "execution_count": 69,
   "metadata": {
    "collapsed": true
   },
   "outputs": [],
   "source": [
    "# send boundary condition information to underworld\n",
    "IWalls = mesh.specialSets[\"MinI_VertexSet\"] + mesh.specialSets[\"MaxI_VertexSet\"]\n",
    "JWalls = mesh.specialSets[\"MinJ_VertexSet\"] + mesh.specialSets[\"MaxJ_VertexSet\"]\n",
    "TWalls = mesh.specialSets[\"MaxJ_VertexSet\"]\n",
    "BWalls = mesh.specialSets[\"MinJ_VertexSet\"]"
   ]
  },
  {
   "cell_type": "code",
   "execution_count": null,
   "metadata": {
    "collapsed": false
   },
   "outputs": [],
   "source": []
  },
  {
   "cell_type": "code",
   "execution_count": 70,
   "metadata": {
    "collapsed": false
   },
   "outputs": [],
   "source": [
    "#Set Dirichlet Temp conditions\n",
    "\n",
    "for index in mesh.specialSets[\"MinJ_VertexSet\"]:\n",
    "    temperatureField.data[index] = lith.tint\n",
    "for index in mesh.specialSets[\"MaxJ_VertexSet\"]:\n",
    "    temperatureField.data[index] = lith.tsurf\n",
    "\n",
    "\n",
    "# Now setup the dirichlet boundary condition\n",
    "# Note that through this object, we are flagging to the system \n",
    "# that these nodes are to be considered as boundary conditions. \n",
    "# Also note that we provide a tuple of sets.. One for the Vx, one for Vy.\n",
    "freeslipBC = uw.conditions.DirichletCondition(     variable=velocityField, \n",
    "                                              indexSetsPerDof=(None, JWalls) )\n",
    "\n",
    "# also set dirichlet for temp field\n",
    "dirichTempBC = uw.conditions.DirichletCondition(     variable=temperatureField, \n",
    "                                              indexSetsPerDof=(JWalls,) )"
   ]
  },
  {
   "cell_type": "markdown",
   "metadata": {},
   "source": [
    "# Particles"
   ]
  },
  {
   "cell_type": "code",
   "execution_count": 71,
   "metadata": {
    "collapsed": true
   },
   "outputs": [],
   "source": [
    "###########\n",
    "#Material Swarm and variables\n",
    "###########\n",
    "\n",
    "gSwarm = uw.swarm.Swarm(mesh=mesh)\n",
    "materialVariable = gSwarm.add_variable( dataType=\"int\", count=1 )"
   ]
  },
  {
   "cell_type": "code",
   "execution_count": 72,
   "metadata": {
    "collapsed": false
   },
   "outputs": [],
   "source": [
    "mantleIndex = 0\n",
    "lithosphereIndex = 1\n",
    "eclIndex = 2\n",
    "crustIndex = 3\n",
    "airIndex = 4\n",
    "tempIndex = 5\n",
    "\n",
    "\n",
    "\n",
    "\n",
    "if checkpointLoad:\n",
    "    checkpointLoadDir = natsort.natsorted(checkdirs)[-1]\n",
    "    temperatureField.load(os.path.join(checkpointLoadDir, \"temperatureField\" + \".hdf5\"))\n",
    "    pressureField.load(os.path.join(checkpointLoadDir, \"pressureField\" + \".hdf5\"))\n",
    "    velocityField.load(os.path.join(checkpointLoadDir, \"velocityField\" + \".hdf5\"))\n",
    "    gSwarm.load(os.path.join(checkpointLoadDir, \"swarm\" + \".h5\"))\n",
    "    for ix in range(len(varlist)):\n",
    "        varb = varlist[ix]\n",
    "        varb.load(os.path.join(checkpointLoadDir,varnames[ix] + \".h5\"))\n",
    "\n",
    "else:\n",
    "\n",
    "    # Layouts are used to populate the swarm across the whole domain\n",
    "    # Create the layout object\n",
    "    layout = uw.swarm.layouts.PerCellRandomLayout(swarm=gSwarm, particlesPerCell=ppc)\n",
    "    # Now use it to populate.\n",
    "    gSwarm.populate_using_layout( layout=layout )\n",
    "\n",
    "    # Lets initialise the 'materialVariable' data to represent different materials\n",
    "    # Set the material to heavy everywhere via the numpy array\n",
    "    materialVariable.data[:] = mantleIndex\n",
    "    \n",
    "    \n",
    "    #Set initial air and crust materials (allow the graph to take care of lithsophere)\n",
    "    #########\n",
    "    #This initial material setup will be model dependent\n",
    "    #########\n",
    "    for particleID in range(gSwarm.particleCoordinates.data.shape[0]):\n",
    "        if (1. - gSwarm.particleCoordinates.data[particleID][1]) < 0:\n",
    "                 materialVariable.data[particleID] = airIndex\n",
    "        elif (1. - gSwarm.particleCoordinates.data[particleID][1]) < MANTLETOCRUST:\n",
    "                 materialVariable.data[particleID] = crustIndex\n"
   ]
  },
  {
   "cell_type": "markdown",
   "metadata": {},
   "source": [
    "# Material Graphs"
   ]
  },
  {
   "cell_type": "code",
   "execution_count": 74,
   "metadata": {
    "collapsed": true
   },
   "outputs": [],
   "source": [
    "##############\n",
    "#Important: This is a quick fix for a bug that arises in parallel runs\n",
    "##############\n",
    "material_list = [0,1,2,3,4,5]\n"
   ]
  },
  {
   "cell_type": "code",
   "execution_count": 75,
   "metadata": {
    "collapsed": true
   },
   "outputs": [],
   "source": [
    "#All depth conditions are given as (km/D) where D is the length scale,\n",
    "#note that 'model depths' are used, e.g. 1-z, where z is the vertical Underworld coordinate\n",
    "#All temp conditions are in dimensionless temp. [0. - 1.]\n",
    "\n",
    "#######Graph object\n",
    "DG = nx.DiGraph(field=\"Depth\")\n",
    "\n",
    "#######Nodes\n",
    "#Note that the order of materials, deepest to shallowest is important\n",
    "DG.add_node(0, mat='mantle')\n",
    "DG.add_node(1, mat='lithosphere')\n",
    "DG.add_node(2, mat='ecl')\n",
    "DG.add_node(3, mat='crust')\n",
    "DG.add_node(4, mat='air')\n",
    "DG.add_node(5, mat='temp')\n",
    "\n",
    "\n",
    "labels=dict((n,d['mat']) for n,d in DG.nodes(data=True))\n",
    "pos=nx.spring_layout(DG)\n",
    "\n",
    "\n",
    "#######Edges\n",
    "#anything to air\n",
    "DG.add_edges_from([(0,4),(1,4), (3,4)])\n",
    "DG[0][4]['depthcondition'] = -1*TOPOHEIGHT\n",
    "DG[1][4]['depthcondition'] = -1*TOPOHEIGHT\n",
    "DG[3][4]['depthcondition'] = -1*TOPOHEIGHT\n",
    "\n",
    "\n",
    "#Anything to mantle\n",
    "DG.add_edges_from([(3,0), (1,0), (2,0), (5,0)])\n",
    "DG[3][0]['depthcondition'] = CRUSTTOMANTLE #Normal crust\n",
    "DG[1][0]['depthcondition'] = LITHTOMANTLE #This means we're going to kill lithosphere at the 660.\n",
    "DG[2][0]['depthcondition'] = CRUSTTOMANTLE #Eclogite crust\n",
    "DG[5][0]['depthcondition'] = CRUSTTOMANTLE #Normal crust\n",
    "\n",
    "#Anything to lithsphere\n",
    "DG.add_edges_from([(0,1),(4,1)])\n",
    "DG[0][1]['depthcondition'] = MANTLETOLITH\n",
    "DG[0][1]['avgtempcondition'] = 0.75*AVGTEMP #definition of thermal lithosphere\n",
    "\n",
    "\n",
    "#Anything to crust\n",
    "DG.add_edges_from([(0,3), (1,3), (4,3)])\n",
    "DG[0][3]['depthcondition'] = MANTLETOCRUST\n",
    "DG[1][3]['depthcondition'] = MANTLETOCRUST\n",
    "DG[4][3]['depthcondition'] = TOPOHEIGHT\n",
    "\n",
    "#crust to eclogite\n",
    "DG.add_edges_from([(3,2)])\n",
    "DG[3][2]['depthcondition'] =CRUSTTOECL"
   ]
  },
  {
   "cell_type": "code",
   "execution_count": 76,
   "metadata": {
    "collapsed": false
   },
   "outputs": [],
   "source": [
    "remove_nodes = []\n",
    "for node in DG.nodes():\n",
    "    if not node in material_list:\n",
    "        remove_nodes.append(node)\n",
    "        \n",
    "for rmnode in remove_nodes:\n",
    "    DG.remove_node(rmnode)"
   ]
  },
  {
   "cell_type": "code",
   "execution_count": 77,
   "metadata": {
    "collapsed": true
   },
   "outputs": [],
   "source": [
    "#A Dictionary to map strings in the graph (e.g. 'depthcondition') to particle data arrays\n",
    "\n",
    "particledepths = 1. - gSwarm.particleCoordinates.data[:,1]\n",
    "particletemps = temperatureField.evaluate(gSwarm)[:,0]\n",
    "\n",
    "conditionmap = {}\n",
    "\n",
    "conditionmap['depthcondition'] = {}\n",
    "conditionmap['depthcondition']['data'] = particledepths\n",
    "conditionmap['avgtempcondition'] = {}\n",
    "conditionmap['avgtempcondition']['data'] = particletemps"
   ]
  },
  {
   "cell_type": "code",
   "execution_count": 78,
   "metadata": {
    "collapsed": true
   },
   "outputs": [],
   "source": [
    "def update_swarm(graph, particleIndex):\n",
    "    \"\"\"\n",
    "    This function takes the materials graph (networkx.DiGraph), and a particle index,\n",
    "    then determines if a material update is required \n",
    "    and if so, returns the new materialindex\n",
    "    Args:\n",
    "        graph (networkx.DiGraph): Directed multigraph representing the transformation of material types\n",
    "        particleIndex (int): the particle index as corressponding to the index in the swarm data arrays\n",
    "    Returns:\n",
    "        if update is required the function returns the the new material variable (int) \n",
    "        else returns None\n",
    "    Raises:\n",
    "        TypeError: not implemented\n",
    "        ValueError: not implemented\n",
    "    \"\"\"\n",
    "    ##Egde gives links to other materials, we then query the conditions to see if we should change materials\n",
    "    matId = materialVariable.data[particleIndex][0]\n",
    "    innerchange = False\n",
    "    outerchange = False\n",
    "    for edge in graph[matId]:\n",
    "        if outerchange:\n",
    "            break\n",
    "        for cond in graph[matId][edge].keys():\n",
    "            outerchange = False\n",
    "            if innerchange: #found a complete transition, break inner loop\n",
    "                break\n",
    "            currentparticlevalue = conditionmap[cond]['data'][particleIndex]\n",
    "            crossover = graph[matId][edge][cond]\n",
    "            if ((matId > edge) and (currentparticlevalue > crossover)):\n",
    "                innerchange = False # continue on, \n",
    "                if graph[matId][edge].keys()[-1] == cond:\n",
    "                    outerchange = True\n",
    "                    innerchange = edge\n",
    "                    break\n",
    "            elif ((matId < edge) and (currentparticlevalue < crossover)):\n",
    "                innerchange = False\n",
    "                if graph[matId][edge].keys()[-1] == cond:\n",
    "                    outerchange = True\n",
    "                    innerchange = edge\n",
    "                    break\n",
    "            else:\n",
    "                #condition not met, break outer loop, go to next edge, outerchange should still be False\n",
    "                break\n",
    "    if type(innerchange) == int:\n",
    "        return innerchange"
   ]
  },
  {
   "cell_type": "code",
   "execution_count": 80,
   "metadata": {
    "collapsed": false
   },
   "outputs": [],
   "source": [
    "#Set the crust material in the slab using shapes/function from uw.\n",
    "\n",
    "if not checkpointLoad:\n",
    "    #materialVariable.data[:] = mantleIndex\n",
    "    #lithtemp = 0.95*0.8\n",
    "    #tempswarm = temperatureField.evaluate(gSwarm)[:,0]\n",
    "\n",
    "    #At this point, we only have to assign any materials that are defined by setup shapes,\n",
    "    #the rest of the materials will be assigned using the materials graph\n",
    "\n",
    "    for particleID in range(gSwarm.particleCoordinates.data.shape[0]):\n",
    "        coord = gSwarm.particleCoordinates.data[particleID]\n",
    "        if gSwarm.particleCoordinates.data[particleID][1] > (1.0 - CrustM):\n",
    "            materialVariable.data[particleID] =  crustIndex\n",
    "        elif Oc.evaluate(tuple(coord)) and Tri.evaluate(tuple(coord)) and not Cc.evaluate(tuple(coord)):\n",
    "            #print(\"True\")\n",
    "            materialVariable.data[particleID] =  crustIndex\n",
    "        if Gc.evaluate(tuple(coord)) and Tri.evaluate(tuple(coord)) and not Oc.evaluate(tuple(coord)):\n",
    "            materialVariable.data[particleID] =  tempIndex\n"
   ]
  },
  {
   "cell_type": "code",
   "execution_count": 81,
   "metadata": {
    "collapsed": false
   },
   "outputs": [],
   "source": [
    "#Cleanse the swarm of its sins\n",
    "#For some Material Graphs, the graph may have to be traversed more than once\n",
    "\n",
    "check = -1\n",
    "number_updated = 1\n",
    "\n",
    "while number_updated != 0:\n",
    "    number_updated = 0\n",
    "    for particleID in range(gSwarm.particleCoordinates.data.shape[0]):\n",
    "        check = update_swarm(DG, particleID)\n",
    "        if check > -1:\n",
    "            number_updated += 1\n",
    "            materialVariable.data[particleID] = check"
   ]
  },
  {
   "cell_type": "code",
   "execution_count": 82,
   "metadata": {
    "collapsed": false
   },
   "outputs": [
    {
     "data": {
      "text/html": [
       "<img src='data:image/png;base64,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'>"
      ],
      "text/plain": [
       "<IPython.core.display.HTML object>"
      ]
     },
     "execution_count": 82,
     "metadata": {},
     "output_type": "execute_result"
    }
   ],
   "source": [
    "figMat = glucifer.Figure()\n",
    "figMat.append( glucifer.objects.Points(gSwarm,materialVariable, colours='white blue red black'))\n",
    "#figMat.append( glucifer.objects.Mesh(mesh))\n",
    "figMat.save_database('test.gldb')\n",
    "figMat.show()"
   ]
  },
  {
   "cell_type": "markdown",
   "metadata": {},
   "source": [
    "## Rheology"
   ]
  },
  {
   "cell_type": "code",
   "execution_count": 83,
   "metadata": {
    "collapsed": true
   },
   "outputs": [],
   "source": [
    "# The yeilding of the upper slab is dependent on the strain rate.\n",
    "strainRate_2ndInvariant = fn.tensor.second_invariant( \n",
    "                            fn.tensor.symmetric( \n",
    "                            velocityField.fn_gradient ))\n",
    "\n",
    "\n",
    "coordinate = fn.input()\n",
    "depth = 1. - coordinate[1]\n"
   ]
  },
  {
   "cell_type": "code",
   "execution_count": null,
   "metadata": {
    "collapsed": false
   },
   "outputs": [],
   "source": []
  },
  {
   "cell_type": "code",
   "execution_count": 84,
   "metadata": {
    "collapsed": false
   },
   "outputs": [],
   "source": [
    "arhennius = fn.misc.min(ndp.up_visc, fn.math.exp(((-1.*math.log(dp.E)) + (math.log(dp.E) / (temperatureField + 1e-6)))))  \n"
   ]
  },
  {
   "cell_type": "code",
   "execution_count": 85,
   "metadata": {
    "collapsed": false
   },
   "outputs": [
    {
     "data": {
      "text/html": [
       "<img src='data:image/png;base64,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'>"
      ],
      "text/plain": [
       "<IPython.core.display.HTML object>"
      ]
     },
     "execution_count": 85,
     "metadata": {},
     "output_type": "execute_result"
    }
   ],
   "source": [
    "figVisc = glucifer.Figure()\n",
    "figVisc.append( glucifer.objects.Surface(mesh, arhennius, logScale=True))\n",
    "figVisc.append(glucifer.objects.VectorArrows(mesh, velocityField, scaling=0.0002))\n",
    "figVisc.show()"
   ]
  },
  {
   "cell_type": "code",
   "execution_count": 86,
   "metadata": {
    "collapsed": false
   },
   "outputs": [
    {
     "data": {
      "text/plain": [
       "561.3478200000001"
      ]
     },
     "execution_count": 86,
     "metadata": {},
     "output_type": "execute_result"
    }
   ],
   "source": [
    "ndp.fcd/ndp.cohesion"
   ]
  },
  {
   "cell_type": "code",
   "execution_count": 87,
   "metadata": {
    "collapsed": false
   },
   "outputs": [],
   "source": [
    "#Psuedo-plastic \n",
    "ys =  ndp.cohesion + (depth*ndp.fcd)\n",
    "#ys =  ndp.fc*lithopressuregrad*(30e3/dp.LS) # this is the byerlee strength at 30 km\n",
    "yss = fn.misc.max(ndp.cohesion, ys)\n",
    "plasticvisc = yss*(math.sqrt(2))/(strainRate_2ndInvariant*2.)\n",
    "plastic = fn.misc.max(ndp.low_visc,plasticvisc)\n",
    "#combine these\n",
    "mantleviscosityFn = fn.misc.min(arhennius, plastic)\n",
    "\n",
    "############\n",
    "#crust\n",
    "############\n",
    "\n",
    "\n",
    "\n",
    "ysc = (ndp.cohesion/100.) + (depth*(ndp.fcd/100.))\n",
    "#ysc = ys/100.\n",
    "ycs = fn.misc.max((ndp.cohesion/100.), ysc)\n",
    "crustplasticvisc = ycs*(math.sqrt(2))/(strainRate_2ndInvariant*2.)\n",
    "crustplastic = fn.misc.max(ndp.low_visc,crustplasticvisc) \n",
    "crustviscosityFn = fn.misc.min(arhennius, crustplastic)"
   ]
  },
  {
   "cell_type": "code",
   "execution_count": 88,
   "metadata": {
    "collapsed": false
   },
   "outputs": [],
   "source": [
    "# Here we set a viscosity value of '1.' for both materials\n",
    "viscosityMapFn = fn.branching.map( fn_key = materialVariable,\n",
    "                         mapping = {airIndex:ndp.StAeta0, \n",
    "                                    lithosphereIndex:mantleviscosityFn, \n",
    "                                    crustIndex:crustviscosityFn,\n",
    "                                    mantleIndex:mantleviscosityFn, \n",
    "                                    eclIndex:crustviscosityFn,\n",
    "                                    tempIndex:mantleviscosityFn} )\n",
    "\n",
    "densityMapFn = fn.branching.map( fn_key = materialVariable,\n",
    "                         mapping = {airIndex:ndp.StA_RA, \n",
    "                                    lithosphereIndex:ndp.RA*temperatureField, \n",
    "                                    crustIndex:ndp.RA*temperatureField, \n",
    "                                    mantleIndex:ndp.RA*temperatureField, \n",
    "                                    eclIndex:ndp.RA*temperatureField,\n",
    "                                    tempIndex:ndp.RA*temperatureField, } )\n",
    "\n",
    "# Define our gravity using a python tuple (this will be automatically converted to a function)\n",
    "gravity = ( 0.0, 1.0 )\n",
    "\n",
    "buoyancyFn = gravity*densityMapFn"
   ]
  },
  {
   "cell_type": "markdown",
   "metadata": {},
   "source": [
    "## Build Stokes system"
   ]
  },
  {
   "cell_type": "code",
   "execution_count": 89,
   "metadata": {
    "collapsed": true
   },
   "outputs": [],
   "source": [
    "stokesPIC = uw.systems.Stokes( velocityField = velocityField, \n",
    "                               pressureField = pressureField,\n",
    "                               #swarm         = gSwarm, \n",
    "                               conditions    = [freeslipBC,],\n",
    "                               fn_viscosity   = arhennius, \n",
    "                               fn_bodyforce   = buoyancyFn,\n",
    "                               swarm=gSwarm)"
   ]
  },
  {
   "cell_type": "code",
   "execution_count": 90,
   "metadata": {
    "collapsed": true
   },
   "outputs": [],
   "source": [
    "#We do one solve with linear viscosity to get the initial strain rate invariant. \n",
    "#This solve step also calculates a 'guess' of the the velocity field based on the linear system, \n",
    "#which is used later in the non-linear solver.\n",
    "\n",
    "solver = uw.systems.Solver(stokesPIC)\n",
    "# If not doing a restart, do a solve on the non-plastic system\n",
    "if not checkpointLoad:\n",
    "    solver.solve()"
   ]
  },
  {
   "cell_type": "code",
   "execution_count": 136,
   "metadata": {
    "collapsed": true
   },
   "outputs": [],
   "source": [
    "#Switch particle escape on, this will also trigger the inflow population control \n",
    "gSwarm.particleEscape = True"
   ]
  },
  {
   "cell_type": "code",
   "execution_count": 137,
   "metadata": {
    "collapsed": true
   },
   "outputs": [],
   "source": [
    "####################\n",
    "#Add the non-linear viscosity to the Stokes system\n",
    "stokesPIC.fn_viscosity = viscosityMapFn\n",
    "###################\n",
    "\n",
    "#Set more advanced solver option\n",
    "solver.options.main.Q22_pc_type='gkgdiag'\n",
    "#solver.options.A11.ksp_rtol=1e-2\n",
    "#solver.options.scr.ksp_rtol=1e-3\n",
    "#solver.options.A11.ksp_type=\"cg\"\n",
    "solver.options.scr.use_previous_guess = True\n",
    "#solver.options.scr.ksp_set_min_it_converge = 1\n",
    "#solver.options.main.penalty=10.0\n",
    "\n",
    "#solver.options.mg.levels = 3\n",
    "#solver.options.main.remove_constant_pressure_null_space=True\n",
    "#solver.options.main.penalty = 1e2\n",
    "\n",
    "solver.options.A11.ksp_rtol=1e-4\n",
    "solver.options.scr.ksp_rtol=1e-4\n",
    "\n",
    "solver.options.A11.ksp_monitor=''\n",
    "solver.options.A11.ksp_converged_reason=''"
   ]
  },
  {
   "cell_type": "code",
   "execution_count": 138,
   "metadata": {
    "collapsed": true
   },
   "outputs": [],
   "source": [
    "solver.solve(nonLinearIterate=True)"
   ]
  },
  {
   "cell_type": "code",
   "execution_count": 141,
   "metadata": {
    "collapsed": false
   },
   "outputs": [
    {
     "data": {
      "text/plain": [
       "0"
      ]
     },
     "execution_count": 141,
     "metadata": {},
     "output_type": "execute_result"
    }
   ],
   "source": [
    "ndp.H"
   ]
  },
  {
   "cell_type": "code",
   "execution_count": 143,
   "metadata": {
    "collapsed": false
   },
   "outputs": [],
   "source": [
    "#Create advdiff system\n",
    "\n",
    "\n",
    "\n",
    "#advDiff = uw.systems.AdvectionDiffusion( phiField       = temperatureField, \n",
    "#                                         phiDotField    = temperatureDotField, \n",
    "#                                         velocityField  = velocityField, \n",
    "#                                         fn_diffusivity = 1.0,\n",
    "#                                         fn_sourceTerm = 0.,\n",
    "#                                         conditions     = [tempBC,] )\n",
    "\n",
    "\n",
    "advDiff = uw.systems.AdvectionDiffusion( phiField       = temperatureField, \n",
    "                                         phiDotField    = temperatureDotField, \n",
    "                                         velocityField  = velocityField,\n",
    "                                         fn_sourceTerm    = ndp.H,\n",
    "                                         fn_diffusivity = 1.0, \n",
    "                                         conditions     = [dirichTempBC,] )\n",
    "\n",
    "\n",
    "\n",
    "advector = uw.systems.SwarmAdvector( swarm         = gSwarm, \n",
    "                                     velocityField = velocityField, \n",
    "                                     order         = 1)"
   ]
  },
  {
   "cell_type": "code",
   "execution_count": null,
   "metadata": {
    "collapsed": true
   },
   "outputs": [],
   "source": [
    "pics = uw.swarm.PICIntegrationSwarm(gSwarm)"
   ]
  },
  {
   "cell_type": "markdown",
   "metadata": {},
   "source": [
    "## Figures / gldbs etc"
   ]
  },
  {
   "cell_type": "code",
   "execution_count": 145,
   "metadata": {
    "collapsed": true
   },
   "outputs": [],
   "source": [
    "viscVariable = gSwarm.add_variable( dataType=\"float\", count=1 )\n",
    "viscVariable.data[:] = viscosityMapFn.evaluate(gSwarm)"
   ]
  },
  {
   "cell_type": "code",
   "execution_count": 146,
   "metadata": {
    "collapsed": true
   },
   "outputs": [],
   "source": [
    "#Pack some stuff into a database as well\n",
    "figDb = glucifer.Figure()\n",
    "figDb.append( glucifer.objects.Points(gSwarm,viscVariable, logScale=True, colours='brown white blue'))\n",
    "figDb.append( glucifer.objects.Points(gSwarm,materialVariable, colours='brown white blue red'))\n",
    "figDb.append( glucifer.objects.Mesh(mesh))\n",
    "figDb.append( glucifer.objects.VectorArrows(mesh,velocityField, arrowHead=0.2, scaling=0.01))\n",
    "figDb.append( glucifer.objects.Surface(mesh, strainRate_2ndInvariant, logScale=True, colours='brown white blue'))\n",
    "figDb.append( glucifer.objects.Surface(mesh, temperatureField))"
   ]
  },
  {
   "cell_type": "code",
   "execution_count": 152,
   "metadata": {
    "collapsed": true
   },
   "outputs": [],
   "source": [
    "step = 0\n",
    "realtime = 0.\n",
    "timevals = [0.]"
   ]
  },
  {
   "cell_type": "code",
   "execution_count": null,
   "metadata": {
    "collapsed": false
   },
   "outputs": [
    {
     "name": "stdout",
     "output_type": "stream",
     "text": [
      "0.0\n",
      "1.0\n",
      "2.0\n",
      "3.0\n",
      "4.0"
     ]
    }
   ],
   "source": [
    "# initialise timer for computation\n",
    "startMain = time.clock()\n",
    "# Perform steps#\n",
    "while realtime < 0.2:\n",
    "#while step < 25:\n",
    "    #Enter non-linear loop\n",
    "    print step\n",
    "    solver.solve(nonLinearIterate=True)\n",
    "    dt = advDiff.get_max_dt()\n",
    "    if step == 0:\n",
    "        dt = 0.\n",
    "    #start = time.clock()\n",
    "    advDiff.integrate(dt)\n",
    "    #machine_time = (time.clock()-start)\n",
    "    #print(\"total advDiff time is: \" + str(machine_time))\n",
    "    # Advect swarm using this timestep size\n",
    "    #start = time.clock()\n",
    "    advector.integrate(dt)\n",
    "    #machine_time = (time.clock()-start)\n",
    "    #print(\"total advector time is: \" + str(machine_time))\n",
    "    # Increment\n",
    "    realtime += dt\n",
    "    step += 1\n",
    "    timevals.append(realtime)\n",
    "    \n",
    "    ################\n",
    "    #Gldb output\n",
    "    ################ \n",
    "    if (step % gldbs_output == 0):\n",
    "        #Rebuild any necessary swarm variables\n",
    "        viscVariable.data[:] = viscosityMapFn.evaluate(gSwarm)\n",
    "        #Write gldbs\n",
    "        fnamedb = \"dbFig\" + \"_\" + str(ModIt) + \"_\" + str(step) + \".gldb\"\n",
    "        fullpath = os.path.join(outputPath + \"gldbs/\" + fnamedb)\n",
    "        figDb.show()\n",
    "        figDb.save_database(fullpath)\n",
    "    ################\n",
    "    #Also repopulate entire swarm periodically\n",
    "    ################\n",
    "    if step % swarm_repop == 0:\n",
    "        pics.repopulate()\n",
    "    "
   ]
  },
  {
   "cell_type": "code",
   "execution_count": null,
   "metadata": {
    "collapsed": true
   },
   "outputs": [],
   "source": []
  }
 ],
 "metadata": {
  "kernelspec": {
   "display_name": "Python 2",
   "language": "python",
   "name": "python2"
  },
  "language_info": {
   "codemirror_mode": {
    "name": "ipython",
    "version": 2
   },
   "file_extension": ".py",
   "mimetype": "text/x-python",
   "name": "python",
   "nbconvert_exporter": "python",
   "pygments_lexer": "ipython2",
   "version": "2.7.11"
  }
 },
 "nbformat": 4,
 "nbformat_minor": 0
}
