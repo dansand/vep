{
 "cells": [
  {
   "cell_type": "markdown",
   "metadata": {
    "collapsed": true
   },
   "source": [
    "# Thermal slabs with a visco-elastic-plastic core\n",
    "\n"
   ]
  },
  {
   "cell_type": "markdown",
   "metadata": {},
   "source": [
    "Load python functions needed for underworld. Some additional python functions from os, math and numpy used later on."
   ]
  },
  {
   "cell_type": "code",
   "execution_count": 183,
   "metadata": {
    "collapsed": false
   },
   "outputs": [],
   "source": [
    "#!pip install natsort\n",
    "#!pip install networkx"
   ]
  },
  {
   "cell_type": "code",
   "execution_count": 184,
   "metadata": {
    "collapsed": false
   },
   "outputs": [],
   "source": [
    "import networkx as nx\n",
    "import underworld as uw\n",
    "import math\n",
    "from underworld import function as fn\n",
    "import glucifer\n",
    "#import matplotlib.pyplot as pyplot\n",
    "import time\n",
    "import numpy as np\n",
    "import os\n",
    "import sys\n",
    "import natsort\n",
    "import shutil\n",
    "from easydict import EasyDict as edict\n",
    "import slippy2 as sp\n",
    "from slippy2 import unit_conversions\n",
    "from slippy2 import boundary_layer2d\n",
    "\n",
    "\n",
    "\n",
    "from mpi4py import MPI\n",
    "comm = MPI.COMM_WORLD\n",
    "rank = comm.Get_rank()"
   ]
  },
  {
   "cell_type": "code",
   "execution_count": null,
   "metadata": {
    "collapsed": true
   },
   "outputs": [],
   "source": []
  },
  {
   "cell_type": "markdown",
   "metadata": {
    "collapsed": true
   },
   "source": [
    "def mpy_to_kmpma(mpy):\n",
    "    \"\"\"\n",
    "    convert meters per year to kilometers per year\n",
    "    Args:\n",
    "        mpy (float): velocity in meters per year\n",
    "    Returns:\n",
    "        velocity in kilometers per year\n",
    "    Raises:\n",
    "        TypeError: not implemented\n",
    "        ValueError: not implemented\n",
    "    \"\"\"\n",
    "    return 1e3*mpy\n",
    "\n",
    "def myts(mys):\n",
    "    \"\"\"\n",
    "    convert millions of years to seconds\n",
    "    Args:\n",
    "        mys (float): millions or years\n",
    "    Returns:\n",
    "        seconds\n",
    "    Raises:\n",
    "        TypeError: not implemented\n",
    "        ValueError: not implemented\n",
    "    \"\"\"\n",
    "    secs = mys*(3600.*24*365)*1e6\n",
    "    return secs\n",
    "\n",
    "def stmy(secs):\n",
    "    \"\"\"\n",
    "    convert millions of years to seconds\n",
    "    Args:\n",
    "        mys (float): millions or years\n",
    "    Returns:\n",
    "        seconds\n",
    "    Raises:\n",
    "        TypeError: not implemented\n",
    "        ValueError: not implemented\n",
    "    \"\"\"\n",
    "    myr = secs/((3600.*24*365)*1e6)\n",
    "    return myr"
   ]
  },
  {
   "cell_type": "code",
   "execution_count": 185,
   "metadata": {
    "collapsed": false,
    "scrolled": true
   },
   "outputs": [
    {
     "name": "stdout",
     "output_type": "stream",
     "text": [
      "/Users/dansandiford/Documents/programming/earthsci_code/python/vep\r\n",
      "Peterson.ipynb      Untitled.ipynb      base_model.py\r\n",
      "Peterson.py         adv-diff-slab.ipynb \u001b[1m\u001b[34mresults\u001b[m\u001b[m\r\n",
      "README.md           base_model.ipynb    test.gldb\r\n"
     ]
    }
   ],
   "source": [
    "#Display working directory info if in nb mode\n",
    "if (len(sys.argv) > 1):\n",
    "    if (sys.argv[1] == '-f'):\n",
    "        !pwd && ls"
   ]
  },
  {
   "cell_type": "code",
   "execution_count": 186,
   "metadata": {
    "collapsed": false
   },
   "outputs": [],
   "source": [
    "############\n",
    "#Model name.  \n",
    "############\n",
    "Model = \"5\"\n",
    "ModNum = 1\n",
    "\n",
    "if len(sys.argv) == 1:\n",
    "    ModIt = \"Base\"\n",
    "elif sys.argv[1] == '-f':\n",
    "    ModIt = \"Base\"\n",
    "else:\n",
    "    ModIt = str(sys.argv[1])\n"
   ]
  },
  {
   "cell_type": "code",
   "execution_count": 187,
   "metadata": {
    "collapsed": true
   },
   "outputs": [],
   "source": [
    "###########\n",
    "#Standard output directory setup\n",
    "###########\n",
    "\n",
    "\n",
    "outputPath = \"results\" + \"/\" +  str(Model) + \"/\" + str(ModNum) + \"/\" + str(ModIt) + \"/\"\n",
    "imagePath = outputPath + 'images/'\n",
    "filePath = outputPath + 'files/'\n",
    "checkpointPath = outputPath + 'checkpoint/'\n",
    "dbPath = outputPath + 'gldbs/'\n",
    "outputFile = 'results_model' + Model + '_' + str(ModNum) + '_' + str(ModIt) + '.dat'\n",
    "\n",
    "if uw.rank()==0:\n",
    "    # make directories if they don't exist\n",
    "    if not os.path.isdir(outputPath):\n",
    "        os.makedirs(outputPath)\n",
    "    if not os.path.isdir(checkpointPath):\n",
    "        os.makedirs(checkpointPath)\n",
    "    if not os.path.isdir(imagePath):\n",
    "        os.makedirs(imagePath)\n",
    "    if not os.path.isdir(dbPath):\n",
    "        os.makedirs(dbPath)\n",
    "    if not os.path.isdir(filePath):\n",
    "        os.makedirs(filePath)\n",
    "        \n",
    "comm.Barrier() #Barrier here so not procs run the check in the next cell too early "
   ]
  },
  {
   "cell_type": "code",
   "execution_count": 188,
   "metadata": {
    "collapsed": false
   },
   "outputs": [
    {
     "name": "stdout",
     "output_type": "stream",
     "text": [
      "results/5/1/Base/checkpoint/ is empty\n"
     ]
    }
   ],
   "source": [
    "###########\n",
    "#Check if starting from checkpoint\n",
    "###########\n",
    "\n",
    "checkdirs = []\n",
    "for dirpath, dirnames, files in os.walk(checkpointPath):\n",
    "    if files:\n",
    "        print dirpath, 'has files'\n",
    "        checkpointLoad = True\n",
    "        checkdirs.append(dirpath)\n",
    "    if not files:\n",
    "        print dirpath, 'is empty'\n",
    "        checkpointLoad = False\n",
    "        \n",
    "\n",
    "        "
   ]
  },
  {
   "cell_type": "markdown",
   "metadata": {},
   "source": [
    "Set physical constants and parameters, including the Rayleigh number (*RA*). "
   ]
  },
  {
   "cell_type": "code",
   "execution_count": null,
   "metadata": {
    "collapsed": false
   },
   "outputs": [],
   "source": []
  },
  {
   "cell_type": "code",
   "execution_count": 189,
   "metadata": {
    "collapsed": false
   },
   "outputs": [],
   "source": [
    "###########\n",
    "#Physical parameters\n",
    "###########\n",
    "\n",
    "#The Slippy rheology class will contain dimensional and nondimensional values, linked in a self-consistent way by scaling paramters\n",
    "#lowermantle.nondimensional['cohesion']\n",
    "#Where lowermantle is a material class (generated within a rheology class); and non dimensional is a dictionary\n",
    "\n",
    "#UW naming conventions: \n",
    "#module_name, package_name, ClassName, function_name, method_name, \n",
    "#ExceptionName, propertyName GLOBAL_CONSTANT_NAME, globalVarName, instanceVarName, functionParameterName, localVarName\n",
    "###########\n",
    "\n",
    "\n",
    "#dimensional parameter dictionary\n",
    "dp = edict({'LS':700.*1e3,\n",
    "           'rho':3300,\n",
    "           'g':9.81, \n",
    "           'eta0':1e23,\n",
    "           'k':10**-6,\n",
    "           'a':1.25*10**-5, \n",
    "           'TS':200.,\n",
    "           'TB':200 + 1703.,\n",
    "           'deltaT':1703., \n",
    "           'cohesion':1e7, \n",
    "           'E':240000., \n",
    "           'R':8.314,\n",
    "           'V':6.34*(10**-7),\n",
    "           'StALS': 100.*1e3})\n",
    "\n",
    "#non-dimensional parameter dictionary\n",
    "#One draw back of a dictionary structure, is that variables cannot link to other variables\n",
    "RAfac = 10.\n",
    "Stressfac =(RAfac**(2/3.))\n",
    "ndp = edict({'RA':1e6*RAfac,      \n",
    "              'LS':1.,\n",
    "              'eta0':1.,\n",
    "              'StAeta0':0.01,\n",
    "              'k':1.,\n",
    "              'E':11.55,\n",
    "              'V':3.0,\n",
    "              'H':20.,\n",
    "              'TR':(1600./1600.),\n",
    "              'TR':(dp.TB/1600.),\n",
    "              'TS':(dp.TS/1600.),\n",
    "              'RD':1.,\n",
    "              'cohesion':RAfac*10000.,\n",
    "              'cohesion_reduce':10.,\n",
    "              'fc':0.5, \n",
    "              'low_visc':1e-2,\n",
    "              'up_visc':1e3,\n",
    "              'random_temp': 0.05})\n",
    "\n",
    "\n",
    "#A few parameters defining lengths scales, affects materal transistions etc.\n",
    "MANTLETOCRUST = (16.*1e3)/dp.LS #Crust depth\n",
    "CRUSTTOMANTLE = (900.*1e3)/dp.LS \n",
    "LITHTOMANTLE = (900.*1e3)/dp.LS \n",
    "MANTLETOLITH = (200.*1e3)/dp.LS \n",
    "TOPOHEIGHT = (0.*1e3)/dp.LS  #rock-air topography limits\n",
    "CRUSTTOECL  = (100.*1e3)/dp.LS\n",
    "AVGTEMP = 0.53 #Used to define lithosphere\n",
    "\n",
    "\n",
    "#Switch on additinal physical mechanisms like crust buoyancy, eclogite buoyancy, lower mantle viscosity, melt viscosity reduction \n",
    "\n",
    "crust_buoyancy = True\n",
    "ecl_buoyancy = True\n",
    "lower_mantle = True\n",
    "melt_viscosity_reduction= True\n",
    "\n",
    "\n",
    "#Compositional Rayliegh numbers for air, crust, ecglogite\n",
    "ETAREF = dp.rho*dp.g*dp.a*dp.deltaT*((dp.LS)**3)/(ndp.RA*dp.k) #equivalent dimensional reference viscosity\n",
    "#RC = (3300.*dp.g*(dp.LS)**3)/(ETAREF *dp.k) #Composisitional Rayleigh number for rock-air buoyancy force\n",
    "RCA = (1650.*dp.g*(dp.LS)**3)/(ETAREF *dp.k) #Composisitional Rayleigh number for rock-air buoyancy force\n",
    "COMP_RA_FACT_AIR = RCA/ndp.RA\n",
    "RCC = (100.*dp.g*(dp.LS)**3)/(ETAREF *dp.k) #Composisitional Rayleigh number for crust\n",
    "COMP_RA_FACT_CRUST = RCC/ndp.RA\n",
    "RCE = -1*(200.*dp.g*(dp.LS)**3)/(ETAREF *dp.k) #Composisitional Rayleigh number for eclogite \n",
    "COMP_RA_FACT_ECL = RCE/ndp.RA\n",
    "ndp[\"StA_RA\"] = ndp.RA*COMP_RA_FACT_AIR\n",
    "if crust_buoyancy:\n",
    "    ndp[\"Crust_RA\"] = ndp.RA*COMP_RA_FACT_CRUST\n",
    "else:\n",
    "    ndp[\"Crust_RA\"] = 0.\n",
    "if ecl_buoyancy:\n",
    "    ndp[\"Ecl_RA\"] = ndp.RA*COMP_RA_FACT_ECL\n",
    "else:\n",
    "    ndp[\"Ecl_RA\"] = 0.\n",
    "    \n",
    "\n",
    "\n",
    "#######################To be replaced soon\n",
    "#Physical parameters that can be defined with STDIN,\n",
    "#The == '-f': check is a a hack check to see cover the notebook case\n",
    "if len(sys.argv) == 1:\n",
    "    ndp.cohesion = ndp.cohesion\n",
    "elif sys.argv[1] == '-f':\n",
    "    ndp.cohesion = ndp.cohesion\n",
    "else:\n",
    "    ndp.cohesion = float(sys.argv[1])*newvisc"
   ]
  },
  {
   "cell_type": "code",
   "execution_count": 190,
   "metadata": {
    "collapsed": false
   },
   "outputs": [
    {
     "data": {
      "text/plain": [
       "3430.0"
      ]
     },
     "execution_count": 190,
     "metadata": {},
     "output_type": "execute_result"
    }
   ],
   "source": [
    "cohes = (7e6*(dp.LS)**2)/(dp.k*1e21)\n",
    "cohes"
   ]
  },
  {
   "cell_type": "code",
   "execution_count": 191,
   "metadata": {
    "collapsed": false
   },
   "outputs": [],
   "source": [
    "###########\n",
    "#Boundary layer / slab paramaters\n",
    "###########\n",
    "\n",
    "subzone = (2. - 1.2857)\n",
    "mor = 0.5\n",
    "vel = 20e3\n",
    "agelimit = False\n",
    "thermallimit = False\n",
    "\n",
    "#Slab perturbation paramaters\n",
    "Roc = 400.\n",
    "Crust = 35.\n",
    "theta = 60.\n"
   ]
  },
  {
   "cell_type": "code",
   "execution_count": 192,
   "metadata": {
    "collapsed": false
   },
   "outputs": [],
   "source": [
    "#900e3/dp.LS"
   ]
  },
  {
   "cell_type": "code",
   "execution_count": 193,
   "metadata": {
    "collapsed": false
   },
   "outputs": [],
   "source": [
    "#(64*3)/2/2"
   ]
  },
  {
   "cell_type": "code",
   "execution_count": 194,
   "metadata": {
    "collapsed": false
   },
   "outputs": [],
   "source": [
    "###########\n",
    "#Model setup parameters\n",
    "###########\n",
    "\n",
    "stickyAir = True\n",
    "\n",
    "MINX = -2.\n",
    "MINY = 0.\n",
    "MAXX = 2.0\n",
    "\n",
    "#MAXY = 1.035\n",
    "MAXY = 1.\n",
    "\n",
    "if MINX == 0.:\n",
    "    squareModel = True\n",
    "else: \n",
    "    squareModel = False\n",
    "    \n",
    "    \n",
    "dim = 2          # number of spatial dimensions\n",
    "\n",
    "\n",
    "#MESH STUFF\n",
    "\n",
    "RES = 64\n",
    "\n",
    "\n",
    "if MINX == 0.:\n",
    "    Xres = RES\n",
    "else:\n",
    "    Xres = 4*RES\n",
    "\n",
    "if stickyAir:\n",
    "    Yres = RES\n",
    "    MAXY = 1. + dp.StALS/dp.LS #150km\n",
    "    \n",
    "else:\n",
    "    Yres = RES\n",
    "    MAXY = 1.\n",
    "\n",
    "\n",
    "periodic = [True, False]\n",
    "elementType = \"Q1/dQ0\"\n",
    "#elementType =\"Q2/DPC1\"\n",
    "\n",
    "refineMesh = False\n",
    "\n",
    "\n",
    "#System/Solver stuff\n",
    "\n",
    "PIC_integration=True\n",
    "ppc = 25"
   ]
  },
  {
   "cell_type": "code",
   "execution_count": 195,
   "metadata": {
    "collapsed": false
   },
   "outputs": [],
   "source": [
    "###########\n",
    "#Model Runtime parameters\n",
    "###########\n",
    "\n",
    "swarm_update = 10\n",
    "swarm_repop = 25\n",
    "files_output = 1e6\n",
    "gldbs_output = 25\n",
    "images_output = 1e6\n",
    "checkpoint_every = 25\n",
    "metric_output = 25\n",
    "sticky_air_temp = 10\n",
    "\n",
    "comm.Barrier() #Barrier here so not procs run the check in the next cell too early \n",
    "\n",
    "assert metric_output <= checkpoint_every, 'Checkpointing should run less or as ofen as metric output'\n",
    "#assert (metric_output >= swarm_update), 'Swarm update is needed before checkpointing'\n",
    "#assert metric_output >= sticky_air_temp, 'Sticky air temp should be updated more frequently that metrics'\n"
   ]
  },
  {
   "cell_type": "code",
   "execution_count": 196,
   "metadata": {
    "collapsed": false
   },
   "outputs": [],
   "source": [
    "###########\n",
    "#Model output parameters\n",
    "###########\n",
    "\n",
    "#Do you want to write hdf5 files - Temp, RMS, viscosity, stress?\n",
    "writeFiles = True\n",
    "loadTemp = True\n",
    "\n",
    "    "
   ]
  },
  {
   "cell_type": "code",
   "execution_count": 197,
   "metadata": {
    "collapsed": false
   },
   "outputs": [],
   "source": [
    "mesh = uw.mesh.FeMesh_Cartesian( elementType = elementType,\n",
    "                                 elementRes  = (Xres, Yres), \n",
    "                                 minCoord    = (MINX,MINY), \n",
    "                                 maxCoord=(MAXX,MAXY), periodic=periodic)\n",
    "\n",
    "\n",
    "\n",
    "velocityField       = uw.mesh.MeshVariable( mesh=mesh,         nodeDofCount=dim )\n",
    "pressureField       = uw.mesh.MeshVariable( mesh=mesh.subMesh, nodeDofCount=1 )\n",
    "temperatureField    = uw.mesh.MeshVariable( mesh=mesh,         nodeDofCount=1 )\n",
    "temperatureDotField = uw.mesh.MeshVariable( mesh=mesh,         nodeDofCount=1 )"
   ]
  },
  {
   "cell_type": "code",
   "execution_count": 198,
   "metadata": {
    "collapsed": false
   },
   "outputs": [
    {
     "data": {
      "text/plain": [
       "(256, -2.0, [True, False], 'Q1/dQ0')"
      ]
     },
     "execution_count": 198,
     "metadata": {},
     "output_type": "execute_result"
    }
   ],
   "source": [
    "Xres, MINX, periodic, elementType"
   ]
  },
  {
   "cell_type": "markdown",
   "metadata": {},
   "source": [
    "Create Finite Element (FE) variables for the velocity, pressure and temperature fields. The last two of these are scalar fields needing only one value at each mesh point, while the velocity field contains a vector of *dim* dimensions at each mesh point."
   ]
  },
  {
   "cell_type": "markdown",
   "metadata": {},
   "source": [
    "Create some dummy fevariables for doing top and bottom boundary calculations."
   ]
  },
  {
   "cell_type": "markdown",
   "metadata": {},
   "source": [
    "## Refine mesh"
   ]
  },
  {
   "cell_type": "code",
   "execution_count": 199,
   "metadata": {
    "collapsed": false
   },
   "outputs": [],
   "source": [
    "#X-Axis\n",
    "\n",
    "if refineMesh:\n",
    "    mesh.reset()\n",
    "    axis = 0\n",
    "    origcoords = np.linspace(mesh.minCoord[axis], mesh.maxCoord[axis], mesh.elementRes[axis] + 1)\n",
    "    edge_rest_lengths = np.diff(origcoords)\n",
    "\n",
    "    deform_lengths = edge_rest_lengths.copy()\n",
    "    min_point =  (abs(mesh.maxCoord[axis]) - abs(mesh.minCoord[axis]))/2.\n",
    "    el_reduction = 0.5001\n",
    "    dx = mesh.maxCoord[axis] - min_point\n",
    "\n",
    "    deform_lengths = deform_lengths - \\\n",
    "                                    ((1.-el_reduction) *deform_lengths[0]) + \\\n",
    "                                    abs((origcoords[1:] - min_point))*((0.5*deform_lengths[0])/dx)\n",
    "\n",
    "    #print(edge_rest_lengths.shape, deform_lengths.shape)\n",
    "\n",
    "    sp.deform_1d(deform_lengths, mesh,axis = 'x',norm = 'Min', constraints = [])"
   ]
  },
  {
   "cell_type": "code",
   "execution_count": 200,
   "metadata": {
    "collapsed": false
   },
   "outputs": [],
   "source": [
    "axis = 1\n",
    "orgs = np.linspace(mesh.minCoord[axis], mesh.maxCoord[axis], mesh.elementRes[axis] + 1)\n",
    "\n",
    "value_to_constrain = 1.\n",
    "\n",
    "\n",
    "yconst = [(sp.find_closest(orgs, value_to_constrain), np.array([1.,0]))]\n"
   ]
  },
  {
   "cell_type": "code",
   "execution_count": 201,
   "metadata": {
    "collapsed": false
   },
   "outputs": [],
   "source": [
    "#Y-Axis\n",
    "if refineMesh:\n",
    "    #Y-Axis\n",
    "    axis = 1\n",
    "    origcoords = np.linspace(mesh.minCoord[axis], mesh.maxCoord[axis], mesh.elementRes[axis] + 1)\n",
    "    edge_rest_lengths = np.diff(origcoords)\n",
    "\n",
    "    deform_lengths = edge_rest_lengths.copy()\n",
    "    min_point =  (mesh.maxCoord[axis])\n",
    "    el_reduction = 0.5001\n",
    "    dx = mesh.maxCoord[axis]\n",
    "\n",
    "    deform_lengths = deform_lengths - \\\n",
    "                                    ((1.-el_reduction)*deform_lengths[0]) + \\\n",
    "                                    abs((origcoords[1:] - min_point))*((0.5*deform_lengths[0])/dx)\n",
    "\n",
    "    #print(edge_rest_lengths.shape, deform_lengths.shape)\n",
    "\n",
    "    sp.deform_1d(deform_lengths, mesh,axis = 'y',norm = 'Min', constraints = yconst)"
   ]
  },
  {
   "cell_type": "markdown",
   "metadata": {},
   "source": [
    "# ICs and BCs"
   ]
  },
  {
   "cell_type": "code",
   "execution_count": 202,
   "metadata": {
    "collapsed": true
   },
   "outputs": [],
   "source": [
    "# Initialise data.. Note that we are also setting boundary conditions here\n",
    "velocityField.data[:] = [0.,0.]\n",
    "pressureField.data[:] = 0.\n",
    "temperatureField.data[:] = 0.\n",
    "temperatureDotField.data[:] = 0.\n"
   ]
  },
  {
   "cell_type": "markdown",
   "metadata": {},
   "source": [
    "## Temp ICs"
   ]
  },
  {
   "cell_type": "code",
   "execution_count": 203,
   "metadata": {
    "collapsed": false
   },
   "outputs": [],
   "source": [
    "#ndp.TR"
   ]
  },
  {
   "cell_type": "code",
   "execution_count": 204,
   "metadata": {
    "collapsed": false
   },
   "outputs": [],
   "source": [
    "#boundary_layer2d.agefunc(0.0, off, vel = vel, dom = (MINX,MAXX))\n",
    "\n",
    "lith= boundary_layer2d.LithosphereTemps(mesh, temperatureField, 2890e3, subzone,  tint=ndp.TR, vel= 10e3, diffs = 1e-6)\n",
    "\n",
    "\n",
    "#lith= boundary_layer2d.LithosphereTemps(mesh, temperatureField, dp.LS, subzone, mor, tint=0.8, vel=vel, diffs = 1e-6)\n",
    "\n"
   ]
  },
  {
   "cell_type": "code",
   "execution_count": 205,
   "metadata": {
    "collapsed": false
   },
   "outputs": [],
   "source": [
    "fudge = 1.\n",
    "\n",
    "thisage = 8\n",
    "\n",
    "for index, coord in enumerate(mesh.data):\n",
    "    xloc = coord[0]\n",
    "    agema = lith.agefunc(xloc)\n",
    "    #print agema\n",
    "    if agelimit:\n",
    "        agema = min(agelimit, agema)\n",
    "    if thermallimit:\n",
    "        if (1.-coord[1]) < (lith.lithdepthfunc(agema)/dp.LS)*thermallimit: #comparison of dimensionless (model) lengths\n",
    "            zloc = ((1.- coord[1])* dp.LS) # dimensional depth kms\n",
    "            t = lith.tempfunc(thisage,  zloc)\n",
    "            temperatureField.data[index] = t\n",
    "        else:\n",
    "            temperatureField.data[index] = lith.tint\n",
    "    \n",
    "    else:\n",
    "        if coord[1] > (1. - lith.lithdepthfunc(thisage)) and (coord[1] < 1.) and (coord[0] > (MAXX - (60e3/dp.LS))):\n",
    "            temperatureField.data[index] = lith.tint\n",
    "        elif coord[1] >= 1.:\n",
    "            temperatureField.data[index] = ndp.TS\n",
    "        else:\n",
    "            zloc = ((1.- coord[1])* dp.LS) # dimensional depth kms\n",
    "            if coord[0] < subzone:\n",
    "                t = lith.tempfunc(thisage/4., zloc)\n",
    "            else:\n",
    "                t = lith.tempfunc(thisage, zloc)\n",
    "            temperatureField.data[index] = t\n",
    "    \n"
   ]
  },
  {
   "cell_type": "code",
   "execution_count": 206,
   "metadata": {
    "collapsed": false
   },
   "outputs": [
    {
     "data": {
      "text/plain": [
       "0.125"
      ]
     },
     "execution_count": 206,
     "metadata": {},
     "output_type": "execute_result"
    }
   ],
   "source": [
    "#thisage = 8.\n",
    "#lith.tempfunc(50., 150e3)\n",
    "lith.lithdepthfunc(thisage/4)\n",
    "ndp.TS"
   ]
  },
  {
   "cell_type": "markdown",
   "metadata": {},
   "source": [
    "## Slab perturbation"
   ]
  },
  {
   "cell_type": "code",
   "execution_count": 207,
   "metadata": {
    "collapsed": true
   },
   "outputs": [],
   "source": [
    "#testField    = uw.mesh.MeshVariable( mesh=mesh,         nodeDofCount=1 )\n",
    "#testField.data[:] = 0."
   ]
  },
  {
   "cell_type": "code",
   "execution_count": 208,
   "metadata": {
    "collapsed": false
   },
   "outputs": [],
   "source": [
    "def inCircleFnGenerator(centre, radius):\n",
    "    coord = fn.input()\n",
    "    offsetFn = coord - centre\n",
    "    return fn.math.dot( offsetFn, offsetFn ) < radius**2\n",
    "\n",
    "#Setup slab perturbation params (mostly dimensionles / model params here)\n",
    "phi = 90. - theta\n",
    "RocM = (Roc/dp.LS)*1e3\n",
    "CrustM = MANTLETOCRUST\n",
    "#slabdepth = lithdepthfunc(agefunc(off, off, vel), dp.k)\n",
    "slabdepthM = lith.lithdepthfunc(lith.agefunc(subzone)) /dp.LS\n",
    "#slabdepthM *= 5.\n",
    "Org = (0.+subzone, 1.-RocM)\n",
    "#Use three circles to define our slab and crust perturbation,  \n",
    "Oc = inCircleFnGenerator(Org , RocM)\n",
    "Gc = inCircleFnGenerator(Org , RocM + (50e3/dp.LS)) #a slightly larger circle for the 'gap'\n",
    "Ic = inCircleFnGenerator(Org , RocM - slabdepthM)\n",
    "Cc = inCircleFnGenerator(Org , RocM - CrustM)\n",
    "dx = (RocM)/(np.math.tan((np.math.pi/180.)*phi))\n",
    "\n",
    "#Work our which way the slab should face:\n",
    "sense = 'Left'\n",
    "#if lith.agefunc(subzone + 0.0001) < lith.agefunc(subzone - 0.0001):\n",
    "#    sense = 'Right'\n",
    "\n",
    "#We'll also create a triangle which will truncate the circles defining the slab...\n",
    "if sense == 'Left': \n",
    "    ptx = subzone - dx\n",
    "else:\n",
    "    ptx = subzone + dx\n",
    "\n",
    "coords = ((0.+subzone, 1), (0.+subzone, 1.-RocM), (ptx, 1.))\n",
    "Tri = fn.shape.Polygon(np.array(coords))\n"
   ]
  },
  {
   "cell_type": "code",
   "execution_count": 209,
   "metadata": {
    "collapsed": false
   },
   "outputs": [],
   "source": [
    "#Assign temperatures in the perturbation region\n",
    "#sds = []\n",
    "\n",
    "\n",
    "\n",
    "if sense == 'Left': \n",
    "    age = lith.agefunc(subzone + 0.001)\n",
    "else:\n",
    "    age = lith.agefunc(subzone - 0.001)\n",
    "    \n",
    "if agelimit:\n",
    "        age = min(agelim, age)\n",
    "\n",
    "for index, coord in enumerate(mesh.data):\n",
    "    #if Oc.evaluate(tuple(coord)) and Tri.evaluate(tuple(coord)) and not Ic.evaluate(tuple(coord)): #in inner circle, not in outer circle\n",
    "    if Gc.evaluate(tuple(coord)) and Tri.evaluate(tuple(coord)) and not Oc.evaluate(tuple(coord)):\n",
    "        temperatureField.data[index] = lith.tint\n",
    "    \n",
    "    elif Oc.evaluate(tuple(coord)) and Tri.evaluate(tuple(coord)): #In the quarter-circle defining the lithosphere\n",
    "\n",
    "        sd = ((RocM - math.sqrt((coord[0] - Org[0])**2 + (coord[1] - Org[1])**2))*dp.LS) #distance from slab edge in m\n",
    "        #print sd\n",
    "        if thermallimit:\n",
    "            if sd < (thisage)*thermallimit: #comparison of dimensionless (model) lengths\n",
    "                t = lith.tempfunc(age, sd)\n",
    "                temperatureField.data[index] = t\n",
    "        else:\n",
    "            t = lith.tempfunc(thisage, sd)\n",
    "            temperatureField.data[index] = t\n",
    "        "
   ]
  },
  {
   "cell_type": "code",
   "execution_count": 210,
   "metadata": {
    "collapsed": false
   },
   "outputs": [
    {
     "data": {
      "text/html": [
       "<img src='data:image/png;base64,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'>"
      ],
      "text/plain": [
       "<IPython.core.display.HTML object>"
      ]
     },
     "execution_count": 210,
     "metadata": {},
     "output_type": "execute_result"
    }
   ],
   "source": [
    "figTemp = glucifer.Figure()\n",
    "figTemp.append( glucifer.objects.Surface(mesh, temperatureField, colours = 'red blue green'))\n",
    "#figTemp.append( glucifer.objects.Mesh(mesh))\n",
    "figTemp.save_database('test.gldb')\n",
    "figTemp.show()"
   ]
  },
  {
   "cell_type": "code",
   "execution_count": 211,
   "metadata": {
    "collapsed": false
   },
   "outputs": [],
   "source": [
    "\n",
    "#import matplotlib.pyplot as pyplot\n",
    "#%matplotlib inline\n",
    "#pyplot.imshow(np.flipud(temperatureField.data.reshape(64 + 1, 256 + 1)))"
   ]
  },
  {
   "cell_type": "code",
   "execution_count": 212,
   "metadata": {
    "collapsed": false
   },
   "outputs": [
    {
     "data": {
      "text/plain": [
       "0.0017871266989710683"
      ]
     },
     "execution_count": 212,
     "metadata": {},
     "output_type": "execute_result"
    }
   ],
   "source": [
    "temperatureField.data.min()"
   ]
  },
  {
   "cell_type": "code",
   "execution_count": 213,
   "metadata": {
    "collapsed": false
   },
   "outputs": [],
   "source": [
    "# Get the actual sets \n",
    "#\n",
    "#  HJJJJJJH\n",
    "#  I      I\n",
    "#  I      I\n",
    "#  I      I\n",
    "#  HJJJJJJH\n",
    "#  \n",
    "#  Note that H = I & J \n",
    "\n",
    "# Note that we use operator overloading to combine sets\n",
    "# send boundary condition information to underworld\n",
    "IWalls = mesh.specialSets[\"MinI_VertexSet\"] + mesh.specialSets[\"MaxI_VertexSet\"]\n",
    "JWalls = mesh.specialSets[\"MinJ_VertexSet\"] + mesh.specialSets[\"MaxJ_VertexSet\"]\n",
    "TWalls = mesh.specialSets[\"MaxJ_VertexSet\"]\n",
    "BWalls = mesh.specialSets[\"MinJ_VertexSet\"]"
   ]
  },
  {
   "cell_type": "code",
   "execution_count": 214,
   "metadata": {
    "collapsed": false
   },
   "outputs": [
    {
     "data": {
      "text/plain": [
       "0.125"
      ]
     },
     "execution_count": 214,
     "metadata": {},
     "output_type": "execute_result"
    }
   ],
   "source": [
    "ndp.TS"
   ]
  },
  {
   "cell_type": "code",
   "execution_count": 215,
   "metadata": {
    "collapsed": false
   },
   "outputs": [],
   "source": [
    "#Set Dirichlet Temp conditions\n",
    "\n",
    "for index in mesh.specialSets[\"MinJ_VertexSet\"]:\n",
    "    temperatureField.data[index] = ndp.TR\n",
    "for index in mesh.specialSets[\"MaxJ_VertexSet\"]:\n",
    "    temperatureField.data[index] = ndp.TS\n",
    "\n",
    "\n",
    "# Now setup the dirichlet boundary condition\n",
    "# Note that through this object, we are flagging to the system \n",
    "# that these nodes are to be considered as boundary conditions. \n",
    "# Also note that we provide a tuple of sets.. One for the Vx, one for Vy.\n",
    "freeslipBC = uw.conditions.DirichletCondition(     variable=velocityField, \n",
    "                                              indexSetsPerDof=(None, JWalls) )\n",
    "\n",
    "# also set dirichlet for temp field\n",
    "dirichTempBC = uw.conditions.DirichletCondition(     variable=temperatureField, \n",
    "                                              indexSetsPerDof=(JWalls,) )\n",
    "\n",
    "\n",
    "#dT_dy = [0.,0.]\n",
    "\n",
    "# also set dirichlet for temp field\n",
    "#neumannTempBC = uw.conditions.NeumannCondition( dT_dy, variable=temperatureField, \n",
    "#                                         indexSetsPerDof=BWalls)"
   ]
  },
  {
   "cell_type": "code",
   "execution_count": 216,
   "metadata": {
    "collapsed": false
   },
   "outputs": [],
   "source": [
    "#temperatureField.data[TWalls.data].max()"
   ]
  },
  {
   "cell_type": "markdown",
   "metadata": {},
   "source": [
    "##Add Random 125 K temp perturbation\n"
   ]
  },
  {
   "cell_type": "markdown",
   "metadata": {
    "collapsed": true
   },
   "source": [
    "tempNump = temperatureField.data\n",
    "\n",
    "#In gerneral we only want to do this on the initial setup, not restarts\n",
    "\n",
    "if not checkpointLoad:\n",
    "    for index, coord in enumerate(mesh.data):\n",
    "        pertCoeff = (0.05*(np.random.rand(1)[0] - 0.5)) #this should create values between [-0.5,0.5] from uniform dist.\n",
    "        ict = tempNump[index]\n",
    "        tempNump[index] = ict + pertCoeff"
   ]
  },
  {
   "cell_type": "code",
   "execution_count": 217,
   "metadata": {
    "collapsed": false
   },
   "outputs": [],
   "source": [
    "\n",
    "figVelocityMag = glucifer.Figure(figsize=(1024,384))\n",
    "figVelocityMag.append( glucifer.objects.Surface(mesh, temperatureField) )\n",
    "figVelocityMag.show()\n",
    "figVelocityMag.append(glucifer.objects.Mesh(mesh))\n",
    "#figVelocityMag.save_database('test.gldb')"
   ]
  },
  {
   "cell_type": "markdown",
   "metadata": {},
   "source": [
    "# Particles"
   ]
  },
  {
   "cell_type": "code",
   "execution_count": 218,
   "metadata": {
    "collapsed": false
   },
   "outputs": [],
   "source": [
    "###########\n",
    "#Material Swarm and variables\n",
    "###########\n",
    "\n",
    "gSwarm = uw.swarm.Swarm(mesh=mesh)\n",
    "materialVariable = gSwarm.add_variable( dataType=\"int\", count=1 )\n",
    "rockIntVar = gSwarm.add_variable( dataType=\"double\", count=1 )\n",
    "airIntVar = gSwarm.add_variable( dataType=\"double\", count=1 )\n",
    "lithIntVar = gSwarm.add_variable( dataType=\"double\", count=1 )\n",
    "dummyIntVar = gSwarm.add_variable( dataType=\"double\", count=1 ) #This one is used so we can safely ignore values in the air region\n",
    "\n",
    "varlist = [materialVariable, rockIntVar, airIntVar, lithIntVar]\n",
    "varnames = ['materialVariable', 'rockIntVar', 'airIntVar', 'lithIntVar']"
   ]
  },
  {
   "cell_type": "code",
   "execution_count": 219,
   "metadata": {
    "collapsed": false
   },
   "outputs": [],
   "source": [
    "###########\n",
    "#Swarms for surface integrals when using Sticky air\n",
    "###########\n",
    "\n",
    "snum = 1000.\n",
    "dx = (mesh.data[:,0].max()- mesh.data[:,0].min())/snum\n",
    "yp = 0.9947 #1. - yelsize/2. at res = 96\n",
    "\n",
    "mesh.data[:,0].max()\n",
    "xps = np.linspace(mesh.data[:,0].min(),mesh.data[:,0].max(), snum)\n",
    "yps = [yp for i in xps]\n",
    "\n",
    "surfintswarm = uw.swarm.Swarm( mesh=mesh )\n",
    "dumout = surfintswarm.add_particles_with_coordinates(np.array((xps,yps)).T)\n",
    "\n",
    "yps = [ 1.- yp  for i in xps]\n",
    "\n",
    "baseintswarm = uw.swarm.Swarm( mesh=mesh)\n",
    "dumout = baseintswarm.add_particles_with_coordinates(np.array((xps,yps)).T)"
   ]
  },
  {
   "cell_type": "markdown",
   "metadata": {},
   "source": [
    "#Initialise swarm variables, or Swarm checkpoint load"
   ]
  },
  {
   "cell_type": "code",
   "execution_count": null,
   "metadata": {
    "collapsed": false
   },
   "outputs": [],
   "source": []
  },
  {
   "cell_type": "code",
   "execution_count": 220,
   "metadata": {
    "collapsed": false
   },
   "outputs": [],
   "source": [
    "mantleIndex = 0\n",
    "lithosphereIndex = 1\n",
    "eclIndex = 2\n",
    "crustIndex = 3\n",
    "airIndex = 4\n",
    "tempIndex = 5\n",
    "\n",
    "\n",
    "\n",
    "\n",
    "if checkpointLoad:\n",
    "    checkpointLoadDir = natsort.natsorted(checkdirs)[-1]\n",
    "    temperatureField.load(os.path.join(checkpointLoadDir, \"temperatureField\" + \".hdf5\"))\n",
    "    pressureField.load(os.path.join(checkpointLoadDir, \"pressureField\" + \".hdf5\"))\n",
    "    velocityField.load(os.path.join(checkpointLoadDir, \"velocityField\" + \".hdf5\"))\n",
    "    gSwarm.load(os.path.join(checkpointLoadDir, \"swarm\" + \".h5\"))\n",
    "    for ix in range(len(varlist)):\n",
    "        varb = varlist[ix]\n",
    "        varb.load(os.path.join(checkpointLoadDir,varnames[ix] + \".h5\"))\n",
    "\n",
    "else:\n",
    "\n",
    "    # Layouts are used to populate the swarm across the whole domain\n",
    "    # Create the layout object\n",
    "    layout = uw.swarm.layouts.PerCellRandomLayout(swarm=gSwarm, particlesPerCell=ppc)\n",
    "    # Now use it to populate.\n",
    "    gSwarm.populate_using_layout( layout=layout )\n",
    "\n",
    "    # Lets initialise the 'materialVariable' data to represent different materials\n",
    "    # Set the material to heavy everywhere via the numpy array\n",
    "    materialVariable.data[:] = mantleIndex\n",
    "    \n",
    "    \n",
    "    #Set initial air and crust materials (allow the graph to take care of lithsophere)\n",
    "    #########\n",
    "    #This initial material setup will be model dependent\n",
    "    #########\n",
    "    for particleID in range(gSwarm.particleCoordinates.data.shape[0]):\n",
    "        if (1. - gSwarm.particleCoordinates.data[particleID][1]) < 0:\n",
    "                 materialVariable.data[particleID] = airIndex\n",
    "        elif (1. - gSwarm.particleCoordinates.data[particleID][1]) < MANTLETOCRUST:\n",
    "                 materialVariable.data[particleID] = crustIndex\n"
   ]
  },
  {
   "cell_type": "markdown",
   "metadata": {},
   "source": [
    "#Material Graphs"
   ]
  },
  {
   "cell_type": "code",
   "execution_count": 221,
   "metadata": {
    "collapsed": false
   },
   "outputs": [],
   "source": [
    "##############\n",
    "#Important: This is a quick fix for a bug that arises in parallel runs\n",
    "##############\n",
    "material_list = [0,1,2,3,4, 5]\n"
   ]
  },
  {
   "cell_type": "code",
   "execution_count": 222,
   "metadata": {
    "collapsed": false
   },
   "outputs": [
    {
     "name": "stdout",
     "output_type": "stream",
     "text": [
      "unique values after swarm has loaded:[0 3 4]\n"
     ]
    }
   ],
   "source": [
    "print( \"unique values after swarm has loaded:\" + str(np.unique(materialVariable.data[:])))\n"
   ]
  },
  {
   "cell_type": "code",
   "execution_count": null,
   "metadata": {
    "collapsed": false
   },
   "outputs": [],
   "source": []
  },
  {
   "cell_type": "code",
   "execution_count": 223,
   "metadata": {
    "collapsed": false
   },
   "outputs": [],
   "source": [
    "\n",
    "\n",
    "#All depth conditions are given as (km/D) where D is the length scale,\n",
    "#note that 'model depths' are used, e.g. 1-z, where z is the vertical Underworld coordinate\n",
    "#All temp conditions are in dimensionless temp. [0. - 1.]\n",
    "\n",
    "#######Graph object\n",
    "DG = nx.DiGraph(field=\"Depth\")\n",
    "\n",
    "#######Nodes\n",
    "#Note that the order of materials, deepest to shallowest is important\n",
    "DG.add_node(0, mat='mantle')\n",
    "DG.add_node(1, mat='lithosphere')\n",
    "DG.add_node(2, mat='ecl')\n",
    "DG.add_node(3, mat='crust')\n",
    "DG.add_node(4, mat='air')\n",
    "DG.add_node(5, mat='temp')\n",
    "\n",
    "\n",
    "labels=dict((n,d['mat']) for n,d in DG.nodes(data=True))\n",
    "pos=nx.spring_layout(DG)\n",
    "\n",
    "\n",
    "#######Edges\n",
    "#anything to air\n",
    "DG.add_edges_from([(0,4),(1,4), (3,4)])\n",
    "DG[0][4]['depthcondition'] = -1*TOPOHEIGHT\n",
    "DG[1][4]['depthcondition'] = -1*TOPOHEIGHT\n",
    "DG[3][4]['depthcondition'] = -1*TOPOHEIGHT\n",
    "\n",
    "\n",
    "#Anything to mantle\n",
    "DG.add_edges_from([(3,0), (1,0), (2,0), (5,0)])\n",
    "DG[3][0]['depthcondition'] = CRUSTTOMANTLE #Normal crust\n",
    "DG[1][0]['depthcondition'] = LITHTOMANTLE #This means we're going to kill lithosphere at the 660.\n",
    "DG[2][0]['depthcondition'] = CRUSTTOMANTLE #Eclogite crust\n",
    "DG[5][0]['depthcondition'] = CRUSTTOMANTLE #Normal crust\n",
    "\n",
    "#Anything to lithsphere\n",
    "DG.add_edges_from([(0,1),(4,1)])\n",
    "DG[0][1]['depthcondition'] = MANTLETOLITH\n",
    "DG[0][1]['avgtempcondition'] = 0.75*AVGTEMP #definition of thermal lithosphere\n",
    "\n",
    "\n",
    "#Anything to crust\n",
    "DG.add_edges_from([(0,3), (1,3), (4,3)])\n",
    "DG[0][3]['depthcondition'] = MANTLETOCRUST\n",
    "DG[1][3]['depthcondition'] = MANTLETOCRUST\n",
    "DG[4][3]['depthcondition'] = TOPOHEIGHT\n",
    "\n",
    "#crust to eclogite\n",
    "DG.add_edges_from([(3,2)])\n",
    "DG[3][2]['depthcondition'] =CRUSTTOECL\n",
    "\n",
    "\n",
    "\n",
    "\n"
   ]
  },
  {
   "cell_type": "code",
   "execution_count": 224,
   "metadata": {
    "collapsed": false
   },
   "outputs": [
    {
     "data": {
      "text/plain": [
       "1.2857142857142858"
      ]
     },
     "execution_count": 224,
     "metadata": {},
     "output_type": "execute_result"
    }
   ],
   "source": [
    "CRUSTTOMANTLE"
   ]
  },
  {
   "cell_type": "code",
   "execution_count": 225,
   "metadata": {
    "collapsed": false
   },
   "outputs": [],
   "source": [
    "#material_list"
   ]
  },
  {
   "cell_type": "code",
   "execution_count": 226,
   "metadata": {
    "collapsed": false
   },
   "outputs": [],
   "source": [
    "remove_nodes = []\n",
    "for node in DG.nodes():\n",
    "    if not node in material_list:\n",
    "        remove_nodes.append(node)\n",
    "        \n",
    "for rmnode in remove_nodes:\n",
    "    DG.remove_node(rmnode)"
   ]
  },
  {
   "cell_type": "code",
   "execution_count": 227,
   "metadata": {
    "collapsed": false
   },
   "outputs": [
    {
     "data": {
      "text/plain": [
       "[0, 1, 2, 3, 4, 5]"
      ]
     },
     "execution_count": 227,
     "metadata": {},
     "output_type": "execute_result"
    }
   ],
   "source": [
    "DG.nodes()"
   ]
  },
  {
   "cell_type": "code",
   "execution_count": 228,
   "metadata": {
    "collapsed": true
   },
   "outputs": [],
   "source": [
    "#A Dictionary to map strings in the graph (e.g. 'depthcondition') to particle data arrays\n",
    "\n",
    "particledepths = 1. - gSwarm.particleCoordinates.data[:,1]\n",
    "particletemps = temperatureField.evaluate(gSwarm)[:,0]\n",
    "\n",
    "conditionmap = {}\n",
    "\n",
    "conditionmap['depthcondition'] = {}\n",
    "conditionmap['depthcondition']['data'] = particledepths\n",
    "conditionmap['avgtempcondition'] = {}\n",
    "conditionmap['avgtempcondition']['data'] = particletemps"
   ]
  },
  {
   "cell_type": "code",
   "execution_count": 229,
   "metadata": {
    "collapsed": true
   },
   "outputs": [],
   "source": [
    "def update_swarm(graph, particleIndex):\n",
    "    \"\"\"\n",
    "    This function takes the materials graph (networkx.DiGraph), and a particle index,\n",
    "    then determines if a material update is required \n",
    "    and if so, returns the new materialindex\n",
    "    Args:\n",
    "        graph (networkx.DiGraph): Directed multigraph representing the transformation of material types\n",
    "        particleIndex (int): the particle index as corressponding to the index in the swarm data arrays\n",
    "    Returns:\n",
    "        if update is required the function returns the the new material variable (int) \n",
    "        else returns None\n",
    "    Raises:\n",
    "        TypeError: not implemented\n",
    "        ValueError: not implemented\n",
    "    \"\"\"\n",
    "    ##Egde gives links to other materials, we then query the conditions to see if we should change materials\n",
    "    matId = materialVariable.data[particleIndex][0]\n",
    "    innerchange = False\n",
    "    outerchange = False\n",
    "    for edge in graph[matId]:\n",
    "        if outerchange:\n",
    "            break\n",
    "        for cond in graph[matId][edge].keys():\n",
    "            outerchange = False\n",
    "            if innerchange: #found a complete transition, break inner loop\n",
    "                break\n",
    "            currentparticlevalue = conditionmap[cond]['data'][particleIndex]\n",
    "            crossover = graph[matId][edge][cond]\n",
    "            if ((matId > edge) and (currentparticlevalue > crossover)):\n",
    "                innerchange = False # continue on, \n",
    "                if graph[matId][edge].keys()[-1] == cond:\n",
    "                    outerchange = True\n",
    "                    innerchange = edge\n",
    "                    break\n",
    "            elif ((matId < edge) and (currentparticlevalue < crossover)):\n",
    "                innerchange = False\n",
    "                if graph[matId][edge].keys()[-1] == cond:\n",
    "                    outerchange = True\n",
    "                    innerchange = edge\n",
    "                    break\n",
    "            else:\n",
    "                #condition not met, break outer loop, go to next edge, outerchange should still be False\n",
    "                break\n",
    "    if type(innerchange) == int:\n",
    "        return innerchange"
   ]
  },
  {
   "cell_type": "code",
   "execution_count": null,
   "metadata": {
    "collapsed": true
   },
   "outputs": [],
   "source": []
  },
  {
   "cell_type": "code",
   "execution_count": 230,
   "metadata": {
    "collapsed": false
   },
   "outputs": [],
   "source": [
    "#Set the crust material in the slab using shapes/function from uw.\n",
    "\n",
    "if not checkpointLoad:\n",
    "    #materialVariable.data[:] = mantleIndex\n",
    "    #lithtemp = 0.95*0.8\n",
    "    #tempswarm = temperatureField.evaluate(gSwarm)[:,0]\n",
    "\n",
    "    #At this point, we only have to assign any materials that are defined by setup shapes,\n",
    "    #the rest of the materials will be assigned using the materials graph\n",
    "\n",
    "    for particleID in range(gSwarm.particleCoordinates.data.shape[0]):\n",
    "        coord = gSwarm.particleCoordinates.data[particleID]\n",
    "        if gSwarm.particleCoordinates.data[particleID][1] > (1.0 - CrustM):\n",
    "            materialVariable.data[particleID] =  crustIndex\n",
    "        elif Oc.evaluate(tuple(coord)) and Tri.evaluate(tuple(coord)) and not Cc.evaluate(tuple(coord)):\n",
    "            #print(\"True\")\n",
    "            materialVariable.data[particleID] =  crustIndex\n",
    "        if Gc.evaluate(tuple(coord)) and Tri.evaluate(tuple(coord)) and not Oc.evaluate(tuple(coord)):\n",
    "            materialVariable.data[particleID] =  tempIndex"
   ]
  },
  {
   "cell_type": "code",
   "execution_count": null,
   "metadata": {
    "collapsed": true
   },
   "outputs": [],
   "source": []
  },
  {
   "cell_type": "code",
   "execution_count": 231,
   "metadata": {
    "collapsed": false
   },
   "outputs": [],
   "source": [
    "#Cleanse the swarm of its sins\n",
    "#For some Material Graphs, the graph may have to be traversed more than once\n",
    "\n",
    "check = -1\n",
    "number_updated = 1\n",
    "\n",
    "while number_updated != 0:\n",
    "    number_updated = 0\n",
    "    for particleID in range(gSwarm.particleCoordinates.data.shape[0]):\n",
    "        check = update_swarm(DG, particleID)\n",
    "        if check > -1:\n",
    "            number_updated += 1\n",
    "            materialVariable.data[particleID] = check"
   ]
  },
  {
   "cell_type": "code",
   "execution_count": null,
   "metadata": {
    "collapsed": true
   },
   "outputs": [],
   "source": []
  },
  {
   "cell_type": "code",
   "execution_count": 232,
   "metadata": {
    "collapsed": false
   },
   "outputs": [],
   "source": [
    "#dummyVariable3 = gSwarm.add_variable( dataType=\"double\", count=1 )"
   ]
  },
  {
   "cell_type": "code",
   "execution_count": 233,
   "metadata": {
    "collapsed": false
   },
   "outputs": [
    {
     "data": {
      "text/html": [
       "<img src='data:image/png;base64,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'>"
      ],
      "text/plain": [
       "<IPython.core.display.HTML object>"
      ]
     },
     "execution_count": 233,
     "metadata": {},
     "output_type": "execute_result"
    }
   ],
   "source": [
    "figMat = glucifer.Figure()\n",
    "figMat.append( glucifer.objects.Points(gSwarm,materialVariable, colours='white blue red black'))\n",
    "#figMat.append( glucifer.objects.Mesh(mesh))\n",
    "figMat.save_database('test.gldb')\n",
    "figMat.show()"
   ]
  },
  {
   "cell_type": "markdown",
   "metadata": {},
   "source": [
    "##Set the values for the masking swarms"
   ]
  },
  {
   "cell_type": "code",
   "execution_count": 234,
   "metadata": {
    "collapsed": false
   },
   "outputs": [],
   "source": [
    "#Setup up a masking Swarm variable for the integrations.\n",
    "#These should be rebuilt at same frequency as the metric calcualtions\n",
    "\n",
    "rockIntVar.data[:] = 0.\n",
    "notair = np.where(materialVariable.data != airIndex)\n",
    "rockIntVar.data[notair] = 1.\n",
    "\n",
    "airIntVar.data[:] = 0.\n",
    "notrock = np.where(materialVariable.data == airIndex)\n",
    "airIntVar.data[notrock] = 1.\n",
    "\n",
    "lithIntVar.data[:] = 0.\n",
    "islith = np.where((materialVariable.data == lithosphereIndex) | (materialVariable.data == crustIndex))\n",
    "lithIntVar.data[islith] = 1.\n",
    "\n",
    "dummyIntVar.data[:] = 1.\n",
    "notrock = np.where(materialVariable.data == airIndex)\n",
    "dummyIntVar.data[notrock] = 1e10  #We'll multiply certain swarm variables by this guy,which\n",
    "#will allow us grab minimum values and assume they are from the rock part"
   ]
  },
  {
   "cell_type": "markdown",
   "metadata": {
    "collapsed": false
   },
   "source": [
    "#Material properties\n"
   ]
  },
  {
   "cell_type": "code",
   "execution_count": 235,
   "metadata": {
    "collapsed": false
   },
   "outputs": [],
   "source": [
    "# The yeilding of the upper slab is dependent on the strain rate.\n",
    "strainRate_2ndInvariant = fn.tensor.second_invariant( \n",
    "                            fn.tensor.symmetric( \n",
    "                            velocityField.fn_gradient ))\n",
    "\n",
    "\n",
    "coordinate = fn.input()\n",
    "depth = 1. - coordinate[1]\n",
    "\n",
    "#Determine yield criterion for depth (rather than pressure as given in Crameri)\n",
    "#Scaling is same as van Heck and Tackley, EPSL, 2011\n",
    "lithopressuregrad = dp.rho*dp.g*(dp.LS)**3/(dp.eta0*dp.k)"
   ]
  },
  {
   "cell_type": "code",
   "execution_count": 236,
   "metadata": {
    "collapsed": false
   },
   "outputs": [
    {
     "data": {
      "text/plain": [
       "0.0017871266989710683"
      ]
     },
     "execution_count": 236,
     "metadata": {},
     "output_type": "execute_result"
    }
   ],
   "source": [
    "temperatureField.data.min()"
   ]
  },
  {
   "cell_type": "code",
   "execution_count": 237,
   "metadata": {
    "collapsed": false
   },
   "outputs": [
    {
     "data": {
      "text/plain": [
       "1744.9047000000005"
      ]
     },
     "execution_count": 237,
     "metadata": {},
     "output_type": "execute_result"
    }
   ],
   "source": [
    "lithopressuregrad*0.1*(110e3/dp.LS)"
   ]
  },
  {
   "cell_type": "code",
   "execution_count": 238,
   "metadata": {
    "collapsed": false
   },
   "outputs": [
    {
     "data": {
      "text/plain": [
       "55519.695000000014"
      ]
     },
     "execution_count": 238,
     "metadata": {},
     "output_type": "execute_result"
    }
   ],
   "source": [
    "ndp.fc*lithopressuregrad"
   ]
  },
  {
   "cell_type": "code",
   "execution_count": 239,
   "metadata": {
    "collapsed": false
   },
   "outputs": [],
   "source": [
    "#Linear viscosity\n",
    "#arhennius = fn.misc.min(ndp.up_visc, fn.math.exp(((-1.*ndp.E) + (ndp.E / temperatureField))))\n",
    "#lower_mantle = False\n",
    "#melt_viscosity_reduction = False"
   ]
  },
  {
   "cell_type": "code",
   "execution_count": 240,
   "metadata": {
    "collapsed": false
   },
   "outputs": [],
   "source": [
    "#np.math.exp(100.)"
   ]
  },
  {
   "cell_type": "code",
   "execution_count": 241,
   "metadata": {
    "collapsed": false
   },
   "outputs": [],
   "source": [
    "############\n",
    "#Mantle\n",
    "############\n",
    "A = 1e21/(np.math.exp(dp.E/(dp.R*1600.))) \n",
    "safetyField = fn.misc.min(100., (dp.E /(temperatureField*1600.*dp.R)) ) #numbers bigger that 100 can't be passed to exp.\n",
    "arhennius = fn.misc.min(ndp.up_visc,(fn.math.exp(safetyField)*A)/1e21)\n",
    "\n",
    "#Psuedo-plastic \n",
    "ys =  ndp.cohesion*RAfac + (depth*ndp.fc*lithopressuregrad)\n",
    "yss = fn.misc.max(ndp.cohesion, ys)\n",
    "plasticvisc = yss*(math.sqrt(2))/(strainRate_2ndInvariant*2.)\n",
    "plastic = fn.misc.max(ndp.low_visc,plasticvisc)\n",
    "#combine these\n",
    "mantleviscosityFn = fn.misc.min(arhennius, plastic)\n",
    "\n",
    "\n",
    "############\n",
    "#crust\n",
    "############\n",
    "#Linear part is the same, plastic parameters are weaker\n",
    "\n",
    "ysc = (ndp.cohesion/ndp.cohesion_reduce)\n",
    "ycs = fn.misc.max((ndp.cohesion/ndp.cohesion_reduce), ysc)\n",
    "crustplasticvisc = ycs*(math.sqrt(2))/(strainRate_2ndInvariant*2.)\n",
    "crustplastic = fn.misc.max(ndp.low_visc,crustplasticvisc) \n",
    "crustviscosityFn = fn.misc.min(arhennius, crustplastic)"
   ]
  },
  {
   "cell_type": "code",
   "execution_count": 242,
   "metadata": {
    "collapsed": false
   },
   "outputs": [
    {
     "data": {
      "text/plain": [
       "0.5"
      ]
     },
     "execution_count": 242,
     "metadata": {},
     "output_type": "execute_result"
    }
   ],
   "source": [
    "ndp.fc"
   ]
  },
  {
   "cell_type": "code",
   "execution_count": 243,
   "metadata": {
    "collapsed": false
   },
   "outputs": [
    {
     "data": {
      "text/plain": [
       "1000.0"
      ]
     },
     "execution_count": 243,
     "metadata": {},
     "output_type": "execute_result"
    }
   ],
   "source": [
    "mantleviscosityFn.evaluate(mesh).max()"
   ]
  },
  {
   "cell_type": "code",
   "execution_count": 261,
   "metadata": {
    "collapsed": false
   },
   "outputs": [
    {
     "data": {
      "text/html": [
       "<img src='data:image/png;base64,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'>"
      ],
      "text/plain": [
       "<IPython.core.display.HTML object>"
      ]
     },
     "execution_count": 261,
     "metadata": {},
     "output_type": "execute_result"
    }
   ],
   "source": [
    "figStrainRate = glucifer.Figure()\n",
    "#figStrainRate.append( glucifer.objects.Surface(mesh, mantleviscosityFn, logScale=True))\n",
    "figStrainRate.append( glucifer.objects.Surface(mesh, temperatureField))\n",
    "\n",
    "figStrainRate.append(glucifer.objects.VectorArrows(mesh, velocityField, scaling=0.000001))\n",
    "figStrainRate.show()"
   ]
  },
  {
   "cell_type": "markdown",
   "metadata": {},
   "source": [
    "Set up simulation parameters and functions\n",
    "====\n",
    "\n",
    "Here the functions for density, viscosity etc. are set. These functions and/or values are preserved for the entire simulation time. "
   ]
  },
  {
   "cell_type": "code",
   "execution_count": 262,
   "metadata": {
    "collapsed": false
   },
   "outputs": [],
   "source": [
    "# Here we set a viscosity value of '1.' for both materials\n",
    "viscosityMapFn = fn.branching.map( fn_key = materialVariable,\n",
    "                         mapping = {airIndex:ndp.StAeta0, \n",
    "                                    lithosphereIndex:mantleviscosityFn, \n",
    "                                    crustIndex:mantleviscosityFn,\n",
    "                                    mantleIndex:mantleviscosityFn, \n",
    "                                    eclIndex:crustviscosityFn,\n",
    "                                    tempIndex:mantleviscosityFn} )\n",
    "\n",
    "densityMapFn = fn.branching.map( fn_key = materialVariable,\n",
    "                         mapping = {airIndex:ndp.StA_RA, \n",
    "                                    lithosphereIndex:ndp.RA*temperatureField, \n",
    "                                    crustIndex:ndp.RA*temperatureField, \n",
    "                                    mantleIndex:ndp.RA*temperatureField, \n",
    "                                    eclIndex:ndp.RA*temperatureField,\n",
    "                                    tempIndex:ndp.RA*temperatureField, } )\n",
    "\n",
    "# Define our gravity using a python tuple (this will be automatically converted to a function)\n",
    "gravity = ( 0.0, 1.0 )\n",
    "\n",
    "buoyancyFn = gravity*densityMapFn"
   ]
  },
  {
   "cell_type": "code",
   "execution_count": 263,
   "metadata": {
    "collapsed": false
   },
   "outputs": [
    {
     "data": {
      "text/plain": [
       "14235128.738945534"
      ]
     },
     "execution_count": 263,
     "metadata": {},
     "output_type": "execute_result"
    }
   ],
   "source": [
    "\n",
    "ndp.Crust_RA"
   ]
  },
  {
   "cell_type": "markdown",
   "metadata": {},
   "source": [
    "Build the Stokes system, solvers, advection-diffusion\n",
    "------\n",
    "\n",
    "Setup linear Stokes system to get the initial velocity."
   ]
  },
  {
   "cell_type": "code",
   "execution_count": 264,
   "metadata": {
    "collapsed": false
   },
   "outputs": [],
   "source": [
    "stokesPIC = uw.systems.Stokes( velocityField = velocityField, \n",
    "                               pressureField = pressureField,\n",
    "                               #swarm         = gSwarm, \n",
    "                               conditions    = [freeslipBC,],\n",
    "                               fn_viscosity   = arhennius, \n",
    "                               fn_bodyforce   = buoyancyFn,\n",
    "                               swarm=gSwarm)\n"
   ]
  },
  {
   "cell_type": "markdown",
   "metadata": {},
   "source": [
    "We do one solve with linear viscosity to get the initial strain rate invariant. This solve step also calculates a 'guess' of the the velocity field based on the linear system, which is used later in the non-linear solver."
   ]
  },
  {
   "cell_type": "code",
   "execution_count": 265,
   "metadata": {
    "collapsed": false
   },
   "outputs": [],
   "source": [
    "#We do one solve with linear viscosity to get the initial strain rate invariant. \n",
    "#This solve step also calculates a 'guess' of the the velocity field based on the linear system, \n",
    "#which is used later in the non-linear solver.\n",
    "\n",
    "solver = uw.systems.Solver(stokesPIC)\n",
    "# If not doing a restart, do a solve on the non-plastic system\n",
    "if not checkpointLoad:\n",
    "    solver.solve()"
   ]
  },
  {
   "cell_type": "code",
   "execution_count": 266,
   "metadata": {
    "collapsed": false
   },
   "outputs": [],
   "source": [
    "#Switch particle escape on, this will also trigger the inflow population control \n",
    "gSwarm.particleEscape = True"
   ]
  },
  {
   "cell_type": "code",
   "execution_count": 267,
   "metadata": {
    "collapsed": false
   },
   "outputs": [],
   "source": [
    "####################\n",
    "#Add the non-linear viscosity to the Stokes system\n",
    "stokesPIC.fn_viscosity = viscosityMapFn\n",
    "###################\n",
    "\n",
    "#Set more advanced solver option\n",
    "solver.options.main.Q22_pc_type='gkgdiag'\n",
    "#solver.options.A11.ksp_rtol=1e-2\n",
    "#solver.options.scr.ksp_rtol=1e-3\n",
    "#solver.options.A11.ksp_type=\"cg\"\n",
    "solver.options.scr.use_previous_guess = True\n",
    "#solver.options.scr.ksp_set_min_it_converge = 1\n",
    "#solver.options.main.penalty=10.0\n",
    "\n",
    "#solver.options.mg.levels = 3\n",
    "#solver.options.main.remove_constant_pressure_null_space=True\n",
    "#solver.options.main.penalty = 1e2\n",
    "\n",
    "solver.options.A11.ksp_rtol=1e-4\n",
    "solver.options.scr.ksp_rtol=1e-4\n",
    "\n",
    "solver.options.A11.ksp_monitor=''\n",
    "solver.options.A11.ksp_converged_reason=''"
   ]
  },
  {
   "cell_type": "code",
   "execution_count": 268,
   "metadata": {
    "collapsed": false
   },
   "outputs": [],
   "source": [
    "solver.solve(nonLinearIterate=True)"
   ]
  },
  {
   "cell_type": "code",
   "execution_count": 269,
   "metadata": {
    "collapsed": false
   },
   "outputs": [],
   "source": [
    "viscField = uw.mesh.MeshVariable( mesh=mesh,   nodeDofCount=1)\n",
    "viscdata = mantleviscosityFn.evaluate(mesh)\n",
    "#viscField.data[:] = viscdata\n",
    "\n",
    "\n",
    "#viscVariable = gSwarm.add_variable( dataType=\"float\", count=1 )\n",
    "#viscVariable.data[:] = viscosityMapFn.evaluate(gSwarm)"
   ]
  },
  {
   "cell_type": "markdown",
   "metadata": {
    "collapsed": false
   },
   "source": [
    "solver = uw.systems.Solver(stokesPIC2) # altered from PIC2\n",
    "\n",
    "\n",
    "\n",
    "#Set more advanced solver option\n",
    "solver.options.main.Q22_pc_type='uw'\n",
    "solver.options.A11.ksp_rtol=1e-5\n",
    "solver.options.scr.ksp_rtol=1e-5\n",
    "#solver.options.A11.ksp_type=\"cg\"\n",
    "solver.options.scr.use_previous_guess = True\n",
    "solver.options.scr.ksp_set_min_it_converge = 1\n",
    "\n",
    "solver.options.mg.levels = 3\n",
    "\n",
    "#solver.options.A11.ksp_monitor=''\n",
    "#solver.options.A11.ksp_converged_reason='"
   ]
  },
  {
   "cell_type": "markdown",
   "metadata": {},
   "source": [
    "Solve for initial pressure and velocity using a quick non-linear Picard iteration\n"
   ]
  },
  {
   "cell_type": "markdown",
   "metadata": {},
   "source": [
    "Create an advective-diffusive system\n",
    "=====\n",
    "\n",
    "Setup the system in underworld by flagging the temperature and velocity field variables."
   ]
  },
  {
   "cell_type": "code",
   "execution_count": 270,
   "metadata": {
    "collapsed": false
   },
   "outputs": [],
   "source": [
    "#uw.systems.AdvectionDiffusion?"
   ]
  },
  {
   "cell_type": "code",
   "execution_count": 271,
   "metadata": {
    "collapsed": false
   },
   "outputs": [],
   "source": [
    "#Create advdiff system\n",
    "\n",
    "\n",
    "\n",
    "#advDiff = uw.systems.AdvectionDiffusion( phiField       = temperatureField, \n",
    "#                                         phiDotField    = temperatureDotField, \n",
    "#                                         velocityField  = velocityField, \n",
    "#                                         fn_diffusivity = 1.0,\n",
    "#                                         fn_sourceTerm = 0.,\n",
    "#                                         conditions     = [tempBC,] )\n",
    "\n",
    "\n",
    "advDiff = uw.systems.AdvectionDiffusion( phiField       = temperatureField, \n",
    "                                         phiDotField    = temperatureDotField, \n",
    "                                         velocityField  = velocityField,\n",
    "                                         fn_sourceTerm    = 0.0,\n",
    "                                         fn_diffusivity = 1.0, \n",
    "                                         conditions     = [dirichTempBC,] )\n",
    "\n",
    "\n",
    "\n",
    "advector = uw.systems.SwarmAdvector( swarm         = gSwarm, \n",
    "                                     velocityField = velocityField, \n",
    "                                     order         = 1)"
   ]
  },
  {
   "cell_type": "markdown",
   "metadata": {},
   "source": [
    "Metrics for benchmark\n",
    "=====\n",
    "\n",
    "Define functions to be used in the time loop. For cases 1-4, participants were asked to report a number of diagnostic quantities to be measured after reaching steady state:\n",
    "\n",
    "* Average temp... $$  \\langle T \\rangle  = \\int^1_0 \\int^1_0 T \\, dxdy $$\n",
    "* Top and bottom Nusselt numbers... $$N = \\int^1_0 \\frac{\\partial T}{\\partial y} \\rvert_{y=0/1} \\, dx$$\n",
    "* RMS velocity over the whole domain, surface and max velocity at surface\n",
    "* max and min viscosity over the whole domain\n",
    "* average rate of work done against gravity...$$\\langle W \\rangle = \\int^1_0 \\int^1_0 T u_y \\, dx dy$$\n",
    "* and the average rate of viscous dissipation...$$\\langle \\Phi \\rangle = \\int^1_0 \\int^1_0 \\tau_{ij} \\dot \\epsilon_{ij} \\, dx dy$$\n",
    "\n",
    "* In steady state, if thermal energy is accurately conserved, the difference between $\\langle W \\rangle$ and $\\langle \\Phi \\rangle / Ra$ must vanish, so also reported is the percentage error: \n",
    "\n",
    "$$ \\delta = \\frac{\\lvert \\langle W \\rangle - \\frac{\\langle \\Phi \\rangle}{Ra} \\rvert}{max \\left(  \\langle W \\rangle,  \\frac{\\langle \\Phi \\rangle}{Ra}\\right)} \\times 100% $$"
   ]
  },
  {
   "cell_type": "code",
   "execution_count": 272,
   "metadata": {
    "collapsed": false
   },
   "outputs": [
    {
     "data": {
      "text/plain": [
       "[<underworld.swarm._swarmvariable.SwarmVariable at 0x111981cd0>,\n",
       " <underworld.swarm._swarmvariable.SwarmVariable at 0x131715b10>,\n",
       " <underworld.swarm._swarmvariable.SwarmVariable at 0x1395cefd0>,\n",
       " <underworld.swarm._swarmvariable.SwarmVariable at 0x1395cedd0>,\n",
       " <underworld.swarm._swarmvariable.SwarmVariable at 0x131715c90>,\n",
       " <underworld.swarm._swarmvariable.SwarmVariable at 0x131715bd0>,\n",
       " <underworld.swarm._swarmvariable.SwarmVariable at 0x131715410>]"
      ]
     },
     "execution_count": 272,
     "metadata": {},
     "output_type": "execute_result"
    }
   ],
   "source": [
    "gSwarm.variables"
   ]
  },
  {
   "cell_type": "code",
   "execution_count": 273,
   "metadata": {
    "collapsed": false
   },
   "outputs": [],
   "source": [
    "#dummyVariable = gSwarm.add_variable( dataType=\"double\", count=1 )"
   ]
  },
  {
   "cell_type": "code",
   "execution_count": 274,
   "metadata": {
    "collapsed": false,
    "scrolled": true
   },
   "outputs": [],
   "source": [
    "#Setup some Integrals. We want these outside the main loop...\n",
    "tempVariable = gSwarm.add_variable( dataType=\"double\", count=1 )\n",
    "tempVariable.data[:] = temperatureField.evaluate(gSwarm)[:]\n",
    "tempint = uw.utils.Integral((tempVariable*rockIntVar), mesh)\n",
    "\n",
    "\n",
    "areaint = uw.utils.Integral((1.*rockIntVar),mesh)\n",
    "lithareaint = uw.utils.Integral((1.*lithIntVar),mesh)\n",
    "\n",
    "v2int = uw.utils.Integral(fn.math.dot(velocityField,velocityField)*rockIntVar, mesh)\n",
    "\n",
    "\n",
    "dwint = uw.utils.Integral(temperatureField*velocityField[1]*rockIntVar, mesh)\n",
    "\n",
    "\n",
    "sinner = fn.math.dot(strainRate_2ndInvariant,strainRate_2ndInvariant)\n",
    "vdint = uw.utils.Integral((4.*viscosityMapFn*sinner)*rockIntVar, mesh)\n",
    "vdintair = uw.utils.Integral((4.*viscosityMapFn*sinner)*airIntVar, mesh)\n",
    "vdintlith = uw.utils.Integral((4.*viscosityMapFn*sinner)*lithIntVar, mesh)\n",
    "\n",
    "\n",
    "fn_stress = 2.*viscosityMapFn*uw.function.tensor.symmetric(velocityField.fn_gradient)\n",
    "rockstress = fn.tensor.second_invariant(fn_stress)*rockIntVar\n",
    "lithstress = fn.tensor.second_invariant(fn_stress)*lithIntVar\n",
    "\n",
    "stresslithint = uw.utils.Integral(lithstress, mesh)\n"
   ]
  },
  {
   "cell_type": "code",
   "execution_count": 275,
   "metadata": {
    "collapsed": false
   },
   "outputs": [
    {
     "name": "stdout",
     "output_type": "stream",
     "text": [
      "9244035983.76\n",
      "7102914181.21\n",
      "6.96029046866e+11\n",
      "6838376458.95\n",
      "872497187.329\n",
      "872497187.329\n"
     ]
    }
   ],
   "source": [
    "#These should differ if the the map function assigns different properties to bulk mantle\n",
    "\n",
    "print(uw.utils.Integral((4.*mantleviscosityFn*sinner)*rockIntVar, mesh).evaluate()[0])\n",
    "print(uw.utils.Integral((4.*viscosityMapFn*sinner)*rockIntVar, mesh).evaluate()[0])\n",
    "\n",
    "\n",
    "print(uw.utils.Integral((4.*mantleviscosityFn*sinner)*airIntVar, mesh).evaluate()[0])\n",
    "print(uw.utils.Integral((4.*viscosityMapFn*sinner)*airIntVar, mesh).evaluate()[0])\n",
    "\n",
    "print(uw.utils.Integral((4.*mantleviscosityFn*sinner)*lithIntVar, mesh).evaluate()[0])\n",
    "print(uw.utils.Integral((4.*viscosityMapFn*sinner)*lithIntVar, mesh).evaluate()[0])"
   ]
  },
  {
   "cell_type": "markdown",
   "metadata": {},
   "source": [
    "\\begin{equation}  \\langle T \\rangle  = \\int^1_0 \\int^1_0 T \\, dxdy \\end{equation}"
   ]
  },
  {
   "cell_type": "code",
   "execution_count": 276,
   "metadata": {
    "collapsed": false
   },
   "outputs": [],
   "source": [
    "def avg_temp():\n",
    "    return tempint.evaluate()[0]/areaint.evaluate()[0]\n",
    "\n",
    "#This one gets cleaned up when Surface integrals are available\n",
    "def nusselt(tempfield, swarm, dx):\n",
    "    #Update the swarm variable\n",
    "    tempgrad = tempfield.fn_gradient\n",
    "    valcheck = tempgrad[1].evaluate(swarm)\n",
    "    if valcheck is None:\n",
    "        vals = np.array(0, dtype='float64')\n",
    "    else:\n",
    "        vals = valcheck.sum()*dx\n",
    "    return vals\n",
    "\n",
    "def rms():\n",
    "    return math.sqrt(v2int.evaluate()[0]/areaint.evaluate()[0])\n",
    "\n",
    "#This one gets cleaned up when Surface integrals are available\n",
    "def rms_surf(swarm, dx):\n",
    "    rmsmaxfn = fn.math.dot(velocityField,velocityField)\n",
    "    rmscheck = rmsmaxfn.evaluate(swarm)\n",
    "    if rmscheck is None:\n",
    "        #print \"watch out\"\n",
    "        rmsvals = np.array(0, dtype='float64')\n",
    "    else:\n",
    "        rmsvals = np.sqrt(rmscheck.sum()*dx)\n",
    "        #print \"okay\"\n",
    "    return rmsvals\n",
    "\n",
    "def max_vx_surf(velfield, swarm):\n",
    "    check = velfield[0].evaluate(swarm)\n",
    "    if check is None:\n",
    "        return 0.\n",
    "    else:\n",
    "        return check.max()\n",
    "\n",
    "\n",
    "#def max_vy_surf(velfield, swarm):\n",
    "#    surfvelxmaxfn = fn.view.min_max(velfield[1])\n",
    "#    surfvelxmaxfn.evaluate(swarm)\n",
    "#    return surfvelxmaxfn.max_global()\n",
    "\n",
    "def gravwork(workfn):\n",
    "    return workfn.evaluate()[0]\n",
    "\n",
    "def viscdis(vdissfn):\n",
    "    return vdissfn.evaluate()[0]\n",
    "\n",
    "def visc_extr(viscfn):\n",
    "    vuviscfnMax = fn.view.min_max(viscfn)\n",
    "    vuviscfnMax.evaluate(gSwarm)\n",
    "    vuviscfnMin = fn.view.min_max(viscfn*dummyIntVar)\n",
    "    vuviscfnMin.evaluate(gSwarm)\n",
    "    return vuviscfnMax.max_global(), vuviscfnMin.min_global()\n",
    "\n",
    "\n",
    "def stress_max(scalarStressfn):\n",
    "    fn_minmax_stress = fn.view.min_max(scalarStressfn)\n",
    "    ignore_stress = fn_minmax_stress.evaluate(gSwarm)\n",
    "    return fn_minmax_stress.max_global()\n",
    "\n",
    "\n",
    "def avg_lith_stress():\n",
    "    return stresslithint.evaluate()[0]/lithareaint.evaluate()[0]"
   ]
  },
  {
   "cell_type": "code",
   "execution_count": 277,
   "metadata": {
    "collapsed": false
   },
   "outputs": [
    {
     "data": {
      "text/plain": [
       "0.10023716517882325"
      ]
     },
     "execution_count": 277,
     "metadata": {},
     "output_type": "execute_result"
    }
   ],
   "source": [
    "lithareaint.evaluate()[0]"
   ]
  },
  {
   "cell_type": "code",
   "execution_count": 278,
   "metadata": {
    "collapsed": false
   },
   "outputs": [],
   "source": [
    "#Check dem \n",
    "#stress_max(rockstress)\n",
    "#visc_extr(viscosityMapFn), ndp.StAeta0\n",
    "#avg_lith_stress()"
   ]
  },
  {
   "cell_type": "code",
   "execution_count": 279,
   "metadata": {
    "collapsed": false
   },
   "outputs": [],
   "source": [
    "#Fields for saving data / fields\n",
    "\n",
    "rmsField = uw.mesh.MeshVariable( mesh=mesh,   nodeDofCount=1)\n",
    "rmsfn = fn.math.sqrt(fn.math.dot(velocityField,velocityField))\n",
    "rmsdata = rmsfn.evaluate(mesh)\n",
    "rmsField.data[:] = rmsdata \n",
    "\n",
    "viscField = uw.mesh.MeshVariable( mesh=mesh,   nodeDofCount=1)\n",
    "viscdata = mantleviscosityFn.evaluate(mesh)\n",
    "viscField.data[:] = viscdata\n",
    "\n",
    "\n",
    "strainrateField = uw.mesh.MeshVariable( mesh=mesh,   nodeDofCount=1)\n",
    "srtdata = fn.tensor.second_invariant( \n",
    "                    fn.tensor.symmetric( \n",
    "                        velocityField.fn_gradient ))\n",
    "rostfield = srtdata.evaluate(mesh)\n",
    "strainrateField.data[:] = rostfield\n",
    "\n",
    "viscVariable = gSwarm.add_variable( dataType=\"float\", count=1 )\n",
    "viscVariable.data[:] = viscosityMapFn.evaluate(gSwarm)\n"
   ]
  },
  {
   "cell_type": "code",
   "execution_count": 280,
   "metadata": {
    "collapsed": false
   },
   "outputs": [],
   "source": [
    "#Images\n",
    "figEta = glucifer.Figure()\n",
    "figEta.append( glucifer.objects.Points(gSwarm,viscVariable, logScale=True))\n",
    "\n",
    "\n",
    "figMat = glucifer.Figure()\n",
    "figMat.append( glucifer.objects.Points(gSwarm,materialVariable, colours='brown white blue red'))\n",
    "figMat.append( glucifer.objects.Mesh(mesh))\n",
    "\n",
    "\n",
    "figStrainRate = glucifer.Figure()\n",
    "figStrainRate.append( glucifer.objects.Surface(mesh, strainRate_2ndInvariant, logScale=True))\n",
    "\n",
    "\n",
    "figVelocityMag = glucifer.Figure()\n",
    "figVelocityMag.append( glucifer.objects.Surface(mesh, fn.math.dot(velocityField,velocityField))\n",
    ")\n",
    "figTemp = glucifer.Figure()\n",
    "figTemp.append( glucifer.objects.Surface(mesh, temperatureField))\n",
    "\n",
    "\n",
    "\n",
    "#Pack some stuff into a database as well\n",
    "figDb = glucifer.Figure()\n",
    "figDb.append( glucifer.objects.Points(gSwarm,viscVariable, logScale=True, colours='brown white blue'))\n",
    "figDb.append( glucifer.objects.Points(gSwarm,materialVariable, colours='brown white blue red'))\n",
    "figDb.append( glucifer.objects.Mesh(mesh))\n",
    "figDb.append( glucifer.objects.VectorArrows(mesh,velocityField, arrowHead=0.2, scaling=0.01))\n",
    "figDb.append( glucifer.objects.Surface(mesh, strainRate_2ndInvariant, logScale=True, colours='brown white blue'))\n",
    "figDb.append( glucifer.objects.Surface(mesh, temperatureField))\n",
    "                           "
   ]
  },
  {
   "cell_type": "code",
   "execution_count": 281,
   "metadata": {
    "collapsed": true
   },
   "outputs": [],
   "source": [
    "\n",
    "pics = uw.swarm.PICIntegrationSwarm(gSwarm)"
   ]
  },
  {
   "cell_type": "code",
   "execution_count": 282,
   "metadata": {
    "collapsed": false
   },
   "outputs": [
    {
     "data": {
      "text/plain": [
       "['materialVariable', 'rockIntVar', 'airIntVar', 'lithIntVar']"
      ]
     },
     "execution_count": 282,
     "metadata": {},
     "output_type": "execute_result"
    }
   ],
   "source": [
    "varnames"
   ]
  },
  {
   "cell_type": "code",
   "execution_count": 283,
   "metadata": {
    "collapsed": false
   },
   "outputs": [],
   "source": [
    "def checkpoint1(step, checkpointPath,filename, filewrites):\n",
    "    path = checkpointPath + str(step) \n",
    "    os.mkdir(path)\n",
    "    ##Write and save the file, if not already a writing step\n",
    "    if not step % filewrites == 0:\n",
    "        f_o.write((16*'%-16s ' + '\\n') % (realtime, Viscdis, float(Nu0glob), float(Nu1glob), Avg_temp, \n",
    "                                              Rms,Rmsurfglob,Max_vx_surfglob,Gravwork, etamax, etamin, \n",
    "                                              Viscdisair, Viscdislith,Avg_stress, Max_stress_rock, Max_stress_lith))\n",
    "    filename.close()\n",
    "    shutil.copyfile(os.path.join(outputPath, outputFile), os.path.join(path, outputFile))\n",
    "\n",
    "\n",
    "def checkpoint2(step, checkpointPath, swarm, filename, varlist = [materialVariable], varnames = ['materialVariable']):\n",
    "    path = checkpointPath + str(step) \n",
    "    velfile = \"velocityField\" + \".hdf5\"\n",
    "    tempfile = \"temperatureField\" + \".hdf5\"\n",
    "    pressfile = \"pressureField\" + \".hdf5\"\n",
    "    velocityField.save(os.path.join(path, velfile))\n",
    "    temperatureField.save(os.path.join(path, tempfile))\n",
    "    pressureField.save(os.path.join(path, pressfile))\n",
    "    swarm.save(os.path.join(path, \"swarm.h5\") ) \n",
    "    for ix in range(len(varlist)):\n",
    "        varb = varlist[ix]\n",
    "        varb.save(os.path.join(path,varnames[ix] + \".h5\"))\n",
    "        \n",
    "    "
   ]
  },
  {
   "cell_type": "code",
   "execution_count": null,
   "metadata": {
    "collapsed": false
   },
   "outputs": [],
   "source": [
    "###########\n",
    "#Open file for writing metrics\n",
    "###########\n",
    "\n",
    "if checkpointLoad:\n",
    "    if uw.rank() == 0:\n",
    "        shutil.copyfile(os.path.join(checkpointLoadDir, outputFile), outputPath+outputFile)\n",
    "    comm.Barrier()\n",
    "    #os.rename(os.path.join(checkpointLoadDir, outputFile), outputPath+outputFile)\n",
    "    f_o = open(os.path.join(outputPath, outputFile), 'a')\n",
    "    prevdata = np.genfromtxt(os.path.join(outputPath, outputFile), skip_header=0, skip_footer=0)\n",
    "    realtime = prevdata[prevdata.shape[0]-1, 0]\n",
    "    step = int(checkpointLoadDir.split('/')[-1])\n",
    "    timevals = [0.]\n",
    "else:\n",
    "    f_o = open(outputPath+outputFile, 'w')\n",
    "    realtime = 0.\n",
    "    step = 0\n",
    "    timevals = [0.]"
   ]
  },
  {
   "cell_type": "markdown",
   "metadata": {},
   "source": [
    "Main simulation loop\n",
    "=======\n",
    "\n",
    "The main time stepping loop begins here. Before this the time and timestep are initialised to zero and the output statistics arrays are set up. Also the frequency of outputting basic statistics to the screen is set in steps_output.\n"
   ]
  },
  {
   "cell_type": "code",
   "execution_count": null,
   "metadata": {
    "collapsed": false
   },
   "outputs": [
    {
     "name": "stdout",
     "output_type": "stream",
     "text": [
      "0\n",
      "1"
     ]
    }
   ],
   "source": [
    "# initialise timer for computation\n",
    "startMain = time.clock()\n",
    "# Perform steps#\n",
    "#while realtime < 0.2:\n",
    "while step < 5:\n",
    "    #Enter non-linear loop\n",
    "    print step\n",
    "    solver.solve(nonLinearIterate=True)\n",
    "    dt = advDiff.get_max_dt()\n",
    "    if step == 0:\n",
    "        dt = 0.\n",
    "    #start = time.clock()\n",
    "    advDiff.integrate(dt)\n",
    "    #machine_time = (time.clock()-start)\n",
    "    #print(\"total advDiff time is: \" + str(machine_time))\n",
    "    # Advect swarm using this timestep size\n",
    "    #start = time.clock()\n",
    "    advector.integrate(dt)\n",
    "    #machine_time = (time.clock()-start)\n",
    "    #print(\"total advector time is: \" + str(machine_time))\n",
    "    # Increment\n",
    "    realtime += dt\n",
    "    step += 1\n",
    "    timevals.append(realtime)\n",
    "    \n",
    "    ################\n",
    "    #Update temperature field in the air region\n",
    "    ################\n",
    "    if (step % sticky_air_temp == 0):\n",
    "        for index, coord in enumerate(mesh.data):\n",
    "            if coord[1] >= 1.:\n",
    "                temperatureField.data[index] = 0.\n",
    " \n",
    "    ################\n",
    "    #Particle update\n",
    "    ###############\n",
    "    #if (step % swarm_update == 0) or (step % metric_output == 0): #These updates should be done before any metric output\n",
    "    if (step % swarm_update == 0): #These updates should be done before any metric output\n",
    "        #These swarm variables get updated first, as they are used to determine material changes\n",
    "        particledepths = 1. - gSwarm.particleCoordinates.data[:,1]\n",
    "        particletemps = temperatureField.evaluate(gSwarm)[:,0]\n",
    "        conditionmap['depthcondition']['data'] = particledepths\n",
    "        conditionmap['avgtempcondition']['data'] = particletemps\n",
    "        ################\n",
    "        number_updated = 0\n",
    "        for particleID in range(gSwarm.particleCoordinates.data.shape[0]):\n",
    "            check = update_swarm(DG, particleID)\n",
    "            if check > -1:\n",
    "                number_updated += 1\n",
    "                #if check == 0:\n",
    "                #    print \"from \" + str(materialVariable.data[particleID]) + \" to \" + str(check)\n",
    "                materialVariable.data[particleID] = check\n",
    "            else:\n",
    "                pass\n",
    "        #Also update those integration swarms\n",
    "        rockIntVar.data[:] = 0.\n",
    "        notair = np.where(materialVariable.data != airIndex)\n",
    "        rockIntVar.data[notair] = 1.\n",
    "        airIntVar.data[:] = 0.\n",
    "        notrock = np.where(materialVariable.data == airIndex)\n",
    "        airIntVar.data[notrock] = 1.\n",
    "        lithIntVar.data[:] = 0.\n",
    "        islith = np.where((materialVariable.data == lithosphereIndex) | (materialVariable.data == crustIndex))\n",
    "        lithIntVar.data[islith] = 1.\n",
    "        dummyIntVar.data[notrock] = 1e10 \n",
    "\n",
    "    ################            \n",
    "    # Calculate the Metrics, only on 1 of the processors:\n",
    "    ################\n",
    "    if (step % metric_output == 0):\n",
    "        ###############\n",
    "        #Swarm - based Metrics\n",
    "        ###############\n",
    "        tempVariable.data[:] = temperatureField.evaluate(gSwarm)[:]\n",
    "        Avg_temp = avg_temp()\n",
    "        Rms = rms()\n",
    "        Gravwork = gravwork(dwint)\n",
    "        Viscdis = viscdis(vdint)\n",
    "        Viscdisair = viscdis(vdintair)\n",
    "        Viscdislith = viscdis(vdintlith)\n",
    "        etamax, etamin = visc_extr(viscosityMapFn)\n",
    "        #These are the ones that need mpi4py treatment\n",
    "        Nu0loc = nusselt(temperatureField, baseintswarm, dx)\n",
    "        Nu1loc = nusselt(temperatureField, surfintswarm, dx)\n",
    "        Rmsurfloc = rms_surf(surfintswarm, dx)\n",
    "        Max_vx_surfloc = np.array(max_vx_surf(velocityField, surfintswarm),'d') #This float needed to be an array to play with mpi4py\n",
    "        #Setup the global output arrays\n",
    "        dTp = Nu0loc.dtype\n",
    "        Nu0glob = np.array(0, dtype=dTp)\n",
    "        dTp = Nu1loc.dtype\n",
    "        Nu1glob = np.array(0, dtype=dTp)\n",
    "        dTp = Rmsurfloc.dtype\n",
    "        Rmsurfglob = np.array(0, dtype=dTp)\n",
    "        dTp = Max_vx_surfloc.dtype\n",
    "        Max_vx_surfglob = np.array(0.0,dtype=dTp)\n",
    "        #ignore_stress = fn_minmax_stress.evaluate(gSwarm)\n",
    "        Avg_stress = avg_lith_stress()\n",
    "        Max_stress_rock = stress_max(rockstress)\n",
    "        Max_stress_lith = stress_max(lithstress)\n",
    "        #Do global operation ... sum, or max\n",
    "        comm.Allreduce(Nu0loc, Nu0glob, op=MPI.SUM)\n",
    "        comm.Allreduce(Nu1loc, Nu1glob, op=MPI.SUM)\n",
    "        comm.Allreduce(Rmsurfloc, Rmsurfglob, op=MPI.SUM)\n",
    "        comm.Allreduce([Max_vx_surfloc, MPI.DOUBLE],[Max_vx_surfglob, MPI.DOUBLE],op=MPI.MAX)      \n",
    "        # output to summary text file\n",
    "        if uw.rank()==0:\n",
    "            f_o.write((16*'%-16s ' + '\\n') % (realtime, Viscdis, float(Nu0glob), float(Nu1glob), Avg_temp, \n",
    "                                              Rms,Rmsurfglob,Max_vx_surfglob,Gravwork, etamax, etamin, \n",
    "                                              Viscdisair, Viscdislith,Avg_stress, Max_stress_rock, Max_stress_lith))\n",
    "        #test = max_vx_surf(velocityField, surfintswarm)    \n",
    "        #if uw.rank()==0:\n",
    "         #   print(Rmsurfglob,MRms_surf, Max_vx_surfglob, MMax_vx_surf, etamax, Metamax)\n",
    "        #print(Rmsurfloc, test)\n",
    "    ################\n",
    "    #Gldb output\n",
    "    ################ \n",
    "    if (step % gldbs_output == 0) & (writeFiles == True):\n",
    "        #Rebuild any necessary swarm variables\n",
    "        viscVariable.data[:] = viscosityMapFn.evaluate(gSwarm)\n",
    "        #Write gldbs\n",
    "        fnamedb = \"dbFig\" + \"_\" + str(ModIt) + \"_\" + str(step) + \".gldb\"\n",
    "        fullpath = os.path.join(outputPath + \"gldbs/\" + fnamedb)\n",
    "        figDb.show()\n",
    "        figDb.save_database(fullpath)\n",
    "    ################\n",
    "    #Also repopulate entire swarm periodically\n",
    "    ################\n",
    "    if step % swarm_repop == 0:\n",
    "        pics.repopulate()\n",
    "    ################\n",
    "    #Checkpoint\n",
    "    ################\n",
    "    if step % checkpoint_every == 0:\n",
    "        if uw.rank() == 0:\n",
    "            checkpoint1(step, checkpointPath,f_o, metric_output)           \n",
    "        checkpoint2(step, checkpointPath, gSwarm, f_o, varlist = varlist, varnames = varnames)\n",
    "        f_o = open(os.path.join(outputPath, outputFile), 'a') #is this line supposed to be here?\n",
    "     \n",
    "    \n",
    "f_o.close()\n",
    "#print 'step =',step, '; dt =', dt, '; CPU time =', time.clock()-startMain"
   ]
  },
  {
   "cell_type": "code",
   "execution_count": null,
   "metadata": {
    "collapsed": false
   },
   "outputs": [],
   "source": [
    "#avg_temp(), areaint.evaluate()[0]"
   ]
  },
  {
   "cell_type": "code",
   "execution_count": null,
   "metadata": {
    "collapsed": false
   },
   "outputs": [],
   "source": [
    "varnames"
   ]
  },
  {
   "cell_type": "code",
   "execution_count": null,
   "metadata": {
    "collapsed": false
   },
   "outputs": [],
   "source": [
    "#figEta = glucifer.Figure(figsize=(1024,384))\n",
    "#figEta.append( glucifer.objects.Points(gSwarm,viscVariable, logScale=True))\n",
    "#figEta.save_database('test.gldb')\n",
    "#figEta.show()\n",
    "\n"
   ]
  },
  {
   "cell_type": "code",
   "execution_count": 200,
   "metadata": {
    "collapsed": false
   },
   "outputs": [],
   "source": [
    "\n",
    "figMat = glucifer.Figure()\n",
    "figMat.append( glucifer.objects.Points(gSwarm,materialVariable, colours='brown white blue red black'))\n",
    "\n",
    "figMat.show()\n",
    "figMat.save_database('test.gldb')\n",
    "#valueRange=None"
   ]
  },
  {
   "cell_type": "code",
   "execution_count": null,
   "metadata": {
    "collapsed": false
   },
   "outputs": [],
   "source": [
    "\n",
    "figMat = glucifer.Figure()\n",
    "figMat.append( glucifer.objects.Points(gSwarm,densityMapFn, logScale=True,))\n",
    "\n",
    "figMat.show()\n",
    "figMat.save_database('test.gldb')\n",
    "#valueRange=None,"
   ]
  },
  {
   "cell_type": "code",
   "execution_count": null,
   "metadata": {
    "collapsed": false
   },
   "outputs": [],
   "source": [
    "#figMat = glucifer.Figure()\n",
    "#figMat.append( glucifer.objects.Points(gSwarm,rockIntVar))\n",
    "#figMat.append( glucifer.objects.Points(gSwarm,rockIntVar, pointSize= 5.))\n",
    "#figMat.append( glucifer.objects.Mesh(mesh))\n",
    "#figMat.save_database('test.gldb')\n",
    "#figMat.show()"
   ]
  },
  {
   "cell_type": "code",
   "execution_count": 152,
   "metadata": {
    "collapsed": false
   },
   "outputs": [],
   "source": [
    "figDb.show()\n",
    "figDb.save_database('test.gldb')"
   ]
  },
  {
   "cell_type": "code",
   "execution_count": null,
   "metadata": {
    "collapsed": false
   },
   "outputs": [],
   "source": [
    "#figStrainRate = glucifer.Figure()\n",
    "#figStrainRate.append( glucifer.objects.Surface(mesh, strainRate_2ndInvariant, logScale=True))\n",
    "#figStrainRate.show()\n",
    "#figStrainRate.save_database('test.gldb')\n"
   ]
  },
  {
   "cell_type": "code",
   "execution_count": null,
   "metadata": {
    "collapsed": false
   },
   "outputs": [],
   "source": [
    "machine_time = (time.clock()-startMain)\n",
    "print(\"total machine time is: \" + str(machine_time))"
   ]
  },
  {
   "cell_type": "code",
   "execution_count": null,
   "metadata": {
    "collapsed": true
   },
   "outputs": [],
   "source": [
    "print(\"dimensionless time is: \" + str(realtime))"
   ]
  },
  {
   "cell_type": "code",
   "execution_count": null,
   "metadata": {
    "collapsed": false
   },
   "outputs": [],
   "source": [
    "velocityField.evaluate(IWalls)[:,0].max()"
   ]
  },
  {
   "cell_type": "code",
   "execution_count": null,
   "metadata": {
    "collapsed": false
   },
   "outputs": [],
   "source": [
    "#velocityField.evaluate(TWalls)[:,0].max()"
   ]
  },
  {
   "cell_type": "markdown",
   "metadata": {},
   "source": [
    "# Test checkpoint bug"
   ]
  }
 ],
 "metadata": {
  "kernelspec": {
   "display_name": "Python 2",
   "language": "python",
   "name": "python2"
  },
  "language_info": {
   "codemirror_mode": {
    "name": "ipython",
    "version": 2
   },
   "file_extension": ".py",
   "mimetype": "text/x-python",
   "name": "python",
   "nbconvert_exporter": "python",
   "pygments_lexer": "ipython2",
   "version": "2.7.11"
  }
 },
 "nbformat": 4,
 "nbformat_minor": 0
}
