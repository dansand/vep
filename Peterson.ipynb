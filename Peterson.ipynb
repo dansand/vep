{
 "cells": [
  {
   "cell_type": "markdown",
   "metadata": {
    "collapsed": true
   },
   "source": [
    "# Thermal slabs with a visco-elastic-plastic core\n",
    "\n"
   ]
  },
  {
   "cell_type": "markdown",
   "metadata": {},
   "source": [
    "Load python functions needed for underworld. Some additional python functions from os, math and numpy used later on."
   ]
  },
  {
   "cell_type": "code",
   "execution_count": 153,
   "metadata": {
    "collapsed": false
   },
   "outputs": [],
   "source": [
    "#!pip install natsort\n",
    "#!pip install networkx"
   ]
  },
  {
   "cell_type": "code",
   "execution_count": 154,
   "metadata": {
    "collapsed": false
   },
   "outputs": [],
   "source": [
    "import networkx as nx\n",
    "import underworld as uw\n",
    "import math\n",
    "from underworld import function as fn\n",
    "import glucifer\n",
    "#import matplotlib.pyplot as pyplot\n",
    "import time\n",
    "import numpy as np\n",
    "import os\n",
    "import sys\n",
    "import natsort\n",
    "import shutil\n",
    "from easydict import EasyDict as edict\n",
    "import slippy2 as sp\n",
    "from slippy2 import unit_conversions\n",
    "from slippy2 import boundary_layer2d\n",
    "\n",
    "\n",
    "\n",
    "from mpi4py import MPI\n",
    "comm = MPI.COMM_WORLD\n",
    "rank = comm.Get_rank()"
   ]
  },
  {
   "cell_type": "code",
   "execution_count": null,
   "metadata": {
    "collapsed": true
   },
   "outputs": [],
   "source": []
  },
  {
   "cell_type": "markdown",
   "metadata": {
    "collapsed": true
   },
   "source": [
    "def mpy_to_kmpma(mpy):\n",
    "    \"\"\"\n",
    "    convert meters per year to kilometers per year\n",
    "    Args:\n",
    "        mpy (float): velocity in meters per year\n",
    "    Returns:\n",
    "        velocity in kilometers per year\n",
    "    Raises:\n",
    "        TypeError: not implemented\n",
    "        ValueError: not implemented\n",
    "    \"\"\"\n",
    "    return 1e3*mpy\n",
    "\n",
    "def myts(mys):\n",
    "    \"\"\"\n",
    "    convert millions of years to seconds\n",
    "    Args:\n",
    "        mys (float): millions or years\n",
    "    Returns:\n",
    "        seconds\n",
    "    Raises:\n",
    "        TypeError: not implemented\n",
    "        ValueError: not implemented\n",
    "    \"\"\"\n",
    "    secs = mys*(3600.*24*365)*1e6\n",
    "    return secs\n",
    "\n",
    "def stmy(secs):\n",
    "    \"\"\"\n",
    "    convert millions of years to seconds\n",
    "    Args:\n",
    "        mys (float): millions or years\n",
    "    Returns:\n",
    "        seconds\n",
    "    Raises:\n",
    "        TypeError: not implemented\n",
    "        ValueError: not implemented\n",
    "    \"\"\"\n",
    "    myr = secs/((3600.*24*365)*1e6)\n",
    "    return myr"
   ]
  },
  {
   "cell_type": "code",
   "execution_count": 155,
   "metadata": {
    "collapsed": false,
    "scrolled": true
   },
   "outputs": [
    {
     "name": "stdout",
     "output_type": "stream",
     "text": [
      "/Users/dansandiford/Documents/programming/earthsci_code/python/vep\r\n",
      "Peterson.ipynb      Untitled.ipynb      base_model.py\r\n",
      "Peterson.py         adv-diff-slab.ipynb \u001b[1m\u001b[34mresults\u001b[m\u001b[m\r\n",
      "README.md           base_model.ipynb    test.gldb\r\n"
     ]
    }
   ],
   "source": [
    "#Display working directory info if in nb mode\n",
    "if (len(sys.argv) > 1):\n",
    "    if (sys.argv[1] == '-f'):\n",
    "        !pwd && ls"
   ]
  },
  {
   "cell_type": "code",
   "execution_count": 156,
   "metadata": {
    "collapsed": false
   },
   "outputs": [],
   "source": [
    "############\n",
    "#Model name.  \n",
    "############\n",
    "Model = \"5\"\n",
    "ModNum = 1\n",
    "\n",
    "if len(sys.argv) == 1:\n",
    "    ModIt = \"Base\"\n",
    "elif sys.argv[1] == '-f':\n",
    "    ModIt = \"Base\"\n",
    "else:\n",
    "    ModIt = str(sys.argv[1])\n"
   ]
  },
  {
   "cell_type": "code",
   "execution_count": 157,
   "metadata": {
    "collapsed": true
   },
   "outputs": [],
   "source": [
    "###########\n",
    "#Standard output directory setup\n",
    "###########\n",
    "\n",
    "\n",
    "outputPath = \"results\" + \"/\" +  str(Model) + \"/\" + str(ModNum) + \"/\" + str(ModIt) + \"/\"\n",
    "imagePath = outputPath + 'images/'\n",
    "filePath = outputPath + 'files/'\n",
    "checkpointPath = outputPath + 'checkpoint/'\n",
    "dbPath = outputPath + 'gldbs/'\n",
    "outputFile = 'results_model' + Model + '_' + str(ModNum) + '_' + str(ModIt) + '.dat'\n",
    "\n",
    "if uw.rank()==0:\n",
    "    # make directories if they don't exist\n",
    "    if not os.path.isdir(outputPath):\n",
    "        os.makedirs(outputPath)\n",
    "    if not os.path.isdir(checkpointPath):\n",
    "        os.makedirs(checkpointPath)\n",
    "    if not os.path.isdir(imagePath):\n",
    "        os.makedirs(imagePath)\n",
    "    if not os.path.isdir(dbPath):\n",
    "        os.makedirs(dbPath)\n",
    "    if not os.path.isdir(filePath):\n",
    "        os.makedirs(filePath)\n",
    "        \n",
    "comm.Barrier() #Barrier here so not procs run the check in the next cell too early "
   ]
  },
  {
   "cell_type": "code",
   "execution_count": 158,
   "metadata": {
    "collapsed": false
   },
   "outputs": [
    {
     "name": "stdout",
     "output_type": "stream",
     "text": [
      "results/5/1/Base/checkpoint/ is empty\n"
     ]
    }
   ],
   "source": [
    "###########\n",
    "#Check if starting from checkpoint\n",
    "###########\n",
    "\n",
    "checkdirs = []\n",
    "for dirpath, dirnames, files in os.walk(checkpointPath):\n",
    "    if files:\n",
    "        print dirpath, 'has files'\n",
    "        checkpointLoad = True\n",
    "        checkdirs.append(dirpath)\n",
    "    if not files:\n",
    "        print dirpath, 'is empty'\n",
    "        checkpointLoad = False\n",
    "        \n",
    "\n",
    "        "
   ]
  },
  {
   "cell_type": "markdown",
   "metadata": {},
   "source": [
    "Set physical constants and parameters, including the Rayleigh number (*RA*). "
   ]
  },
  {
   "cell_type": "code",
   "execution_count": null,
   "metadata": {
    "collapsed": false
   },
   "outputs": [],
   "source": []
  },
  {
   "cell_type": "code",
   "execution_count": 159,
   "metadata": {
    "collapsed": false
   },
   "outputs": [],
   "source": [
    "###########\n",
    "#Physical parameters\n",
    "###########\n",
    "\n",
    "#The Slippy rheology class will contain dimensional and nondimensional values, linked in a self-consistent way by scaling paramters\n",
    "#lowermantle.nondimensional['cohesion']\n",
    "#Where lowermantle is a material class (generated within a rheology class); and non dimensional is a dictionary\n",
    "\n",
    "#UW naming conventions: \n",
    "#module_name, package_name, ClassName, function_name, method_name, \n",
    "#ExceptionName, propertyName GLOBAL_CONSTANT_NAME, globalVarName, instanceVarName, functionParameterName, localVarName\n",
    "###########\n",
    "\n",
    "\n",
    "#dimensional parameter dictionary\n",
    "dp = edict({'LS':700.*1e3,\n",
    "           'rho':3300,\n",
    "           'g':9.81, \n",
    "           'eta0':1e23,\n",
    "           'k':10**-6,\n",
    "           'a':1.25*10**-5, \n",
    "           'TS':200.,\n",
    "           'TB':200 + 1703.,\n",
    "           'deltaT':1703., \n",
    "           'cohesion':1e7, \n",
    "           'E':240000., \n",
    "           'R':8.314,\n",
    "           'V':6.34*(10**-7),\n",
    "           'StALS': 100.*1e3})\n",
    "\n",
    "#non-dimensional parameter dictionary\n",
    "#One draw back of a dictionary structure, is that variables cannot link to other variables\n",
    "RAfac = 10.\n",
    "Stressfac =(RAfac**(2/3.))\n",
    "ndp = edict({'RA':1e6*RAfac,      \n",
    "              'LS':1.,\n",
    "              'eta0':1.,\n",
    "              'StAeta0':0.01,\n",
    "              'k':1.,\n",
    "              'E':11.55,\n",
    "              'V':3.0,\n",
    "              'H':20.,\n",
    "              'TR':(1600./1600.),\n",
    "              'TR':(dp.TB/1600.),\n",
    "              'TS':(dp.TS/1600.),\n",
    "              'RD':1.,\n",
    "              'cohesion':RAfac*10000.,\n",
    "              'cohesion_reduce':10.,\n",
    "              'fc':0.5, \n",
    "              'low_visc':1e-2,\n",
    "              'up_visc':1e3,\n",
    "              'random_temp': 0.05})\n",
    "\n",
    "\n",
    "#A few parameters defining lengths scales, affects materal transistions etc.\n",
    "MANTLETOCRUST = (16.*1e3)/dp.LS #Crust depth\n",
    "CRUSTTOMANTLE = (900.*1e3)/dp.LS \n",
    "LITHTOMANTLE = (900.*1e3)/dp.LS \n",
    "MANTLETOLITH = (200.*1e3)/dp.LS \n",
    "TOPOHEIGHT = (0.*1e3)/dp.LS  #rock-air topography limits\n",
    "CRUSTTOECL  = (100.*1e3)/dp.LS\n",
    "AVGTEMP = 0.53 #Used to define lithosphere\n",
    "\n",
    "\n",
    "#Switch on additinal physical mechanisms like crust buoyancy, eclogite buoyancy, lower mantle viscosity, melt viscosity reduction \n",
    "\n",
    "crust_buoyancy = True\n",
    "ecl_buoyancy = True\n",
    "lower_mantle = True\n",
    "melt_viscosity_reduction= True\n",
    "\n",
    "\n",
    "#Compositional Rayliegh numbers for air, crust, ecglogite\n",
    "ETAREF = dp.rho*dp.g*dp.a*dp.deltaT*((dp.LS)**3)/(ndp.RA*dp.k) #equivalent dimensional reference viscosity\n",
    "#RC = (3300.*dp.g*(dp.LS)**3)/(ETAREF *dp.k) #Composisitional Rayleigh number for rock-air buoyancy force\n",
    "RCA = (1650.*dp.g*(dp.LS)**3)/(ETAREF *dp.k) #Composisitional Rayleigh number for rock-air buoyancy force\n",
    "COMP_RA_FACT_AIR = RCA/ndp.RA\n",
    "RCC = (100.*dp.g*(dp.LS)**3)/(ETAREF *dp.k) #Composisitional Rayleigh number for crust\n",
    "COMP_RA_FACT_CRUST = RCC/ndp.RA\n",
    "RCE = -1*(200.*dp.g*(dp.LS)**3)/(ETAREF *dp.k) #Composisitional Rayleigh number for eclogite \n",
    "COMP_RA_FACT_ECL = RCE/ndp.RA\n",
    "ndp[\"StA_RA\"] = ndp.RA*COMP_RA_FACT_AIR\n",
    "if crust_buoyancy:\n",
    "    ndp[\"Crust_RA\"] = ndp.RA*COMP_RA_FACT_CRUST\n",
    "else:\n",
    "    ndp[\"Crust_RA\"] = 0.\n",
    "if ecl_buoyancy:\n",
    "    ndp[\"Ecl_RA\"] = ndp.RA*COMP_RA_FACT_ECL\n",
    "else:\n",
    "    ndp[\"Ecl_RA\"] = 0.\n",
    "    \n",
    "\n",
    "\n",
    "#######################To be replaced soon\n",
    "#Physical parameters that can be defined with STDIN,\n",
    "#The == '-f': check is a a hack check to see cover the notebook case\n",
    "if len(sys.argv) == 1:\n",
    "    ndp.cohesion = ndp.cohesion\n",
    "elif sys.argv[1] == '-f':\n",
    "    ndp.cohesion = ndp.cohesion\n",
    "else:\n",
    "    ndp.cohesion = float(sys.argv[1])*newvisc"
   ]
  },
  {
   "cell_type": "code",
   "execution_count": 160,
   "metadata": {
    "collapsed": false
   },
   "outputs": [
    {
     "data": {
      "text/plain": [
       "3430.0"
      ]
     },
     "execution_count": 160,
     "metadata": {},
     "output_type": "execute_result"
    }
   ],
   "source": [
    "cohes = (7e6*(dp.LS)**2)/(dp.k*1e21)\n",
    "cohes"
   ]
  },
  {
   "cell_type": "code",
   "execution_count": 161,
   "metadata": {
    "collapsed": false
   },
   "outputs": [],
   "source": [
    "###########\n",
    "#Boundary layer / slab paramaters\n",
    "###########\n",
    "\n",
    "subzone = (2. - 1.2857)\n",
    "mor = 0.5\n",
    "vel = 20e3\n",
    "agelimit = False\n",
    "thermallimit = False\n",
    "\n",
    "#Slab perturbation paramaters\n",
    "Roc = 400.\n",
    "Crust = 35.\n",
    "theta = 60.\n"
   ]
  },
  {
   "cell_type": "code",
   "execution_count": 162,
   "metadata": {
    "collapsed": false
   },
   "outputs": [],
   "source": [
    "#900e3/dp.LS"
   ]
  },
  {
   "cell_type": "code",
   "execution_count": 163,
   "metadata": {
    "collapsed": false
   },
   "outputs": [],
   "source": [
    "#(64*3)/2/2"
   ]
  },
  {
   "cell_type": "code",
   "execution_count": 164,
   "metadata": {
    "collapsed": false
   },
   "outputs": [],
   "source": [
    "###########\n",
    "#Model setup parameters\n",
    "###########\n",
    "\n",
    "stickyAir = True\n",
    "\n",
    "MINX = -2.\n",
    "MINY = 0.\n",
    "MAXX = 2.0\n",
    "\n",
    "#MAXY = 1.035\n",
    "MAXY = 1.\n",
    "\n",
    "if MINX == 0.:\n",
    "    squareModel = True\n",
    "else: \n",
    "    squareModel = False\n",
    "    \n",
    "    \n",
    "dim = 2          # number of spatial dimensions\n",
    "\n",
    "\n",
    "#MESH STUFF\n",
    "\n",
    "RES = 64\n",
    "\n",
    "\n",
    "if MINX == 0.:\n",
    "    Xres = RES\n",
    "else:\n",
    "    Xres = 4*RES\n",
    "\n",
    "if stickyAir:\n",
    "    Yres = RES\n",
    "    MAXY = 1. + dp.StALS/dp.LS #150km\n",
    "    \n",
    "else:\n",
    "    Yres = RES\n",
    "    MAXY = 1.\n",
    "\n",
    "\n",
    "periodic = [True, False]\n",
    "elementType = \"Q1/dQ0\"\n",
    "#elementType =\"Q2/DPC1\"\n",
    "\n",
    "refineMesh = False\n",
    "\n",
    "\n",
    "#System/Solver stuff\n",
    "\n",
    "PIC_integration=True\n",
    "ppc = 25"
   ]
  },
  {
   "cell_type": "code",
   "execution_count": 165,
   "metadata": {
    "collapsed": false
   },
   "outputs": [],
   "source": [
    "###########\n",
    "#Model Runtime parameters\n",
    "###########\n",
    "\n",
    "swarm_update = 10\n",
    "swarm_repop = 25\n",
    "files_output = 1e6\n",
    "gldbs_output = 25\n",
    "images_output = 1e6\n",
    "checkpoint_every = 25\n",
    "metric_output = 25\n",
    "sticky_air_temp = 10\n",
    "\n",
    "comm.Barrier() #Barrier here so not procs run the check in the next cell too early \n",
    "\n",
    "assert metric_output <= checkpoint_every, 'Checkpointing should run less or as ofen as metric output'\n",
    "#assert (metric_output >= swarm_update), 'Swarm update is needed before checkpointing'\n",
    "#assert metric_output >= sticky_air_temp, 'Sticky air temp should be updated more frequently that metrics'\n"
   ]
  },
  {
   "cell_type": "code",
   "execution_count": 166,
   "metadata": {
    "collapsed": false
   },
   "outputs": [],
   "source": [
    "###########\n",
    "#Model output parameters\n",
    "###########\n",
    "\n",
    "#Do you want to write hdf5 files - Temp, RMS, viscosity, stress?\n",
    "writeFiles = True\n",
    "loadTemp = True\n",
    "\n",
    "    "
   ]
  },
  {
   "cell_type": "code",
   "execution_count": 167,
   "metadata": {
    "collapsed": false
   },
   "outputs": [],
   "source": [
    "mesh = uw.mesh.FeMesh_Cartesian( elementType = elementType,\n",
    "                                 elementRes  = (Xres, Yres), \n",
    "                                 minCoord    = (MINX,MINY), \n",
    "                                 maxCoord=(MAXX,MAXY), periodic=periodic)\n",
    "\n",
    "\n",
    "\n",
    "velocityField       = uw.mesh.MeshVariable( mesh=mesh,         nodeDofCount=dim )\n",
    "pressureField       = uw.mesh.MeshVariable( mesh=mesh.subMesh, nodeDofCount=1 )\n",
    "temperatureField    = uw.mesh.MeshVariable( mesh=mesh,         nodeDofCount=1 )\n",
    "temperatureDotField = uw.mesh.MeshVariable( mesh=mesh,         nodeDofCount=1 )"
   ]
  },
  {
   "cell_type": "code",
   "execution_count": 168,
   "metadata": {
    "collapsed": false
   },
   "outputs": [
    {
     "data": {
      "text/plain": [
       "(256, -2.0, [True, False], 'Q1/dQ0')"
      ]
     },
     "execution_count": 168,
     "metadata": {},
     "output_type": "execute_result"
    }
   ],
   "source": [
    "Xres, MINX, periodic, elementType"
   ]
  },
  {
   "cell_type": "markdown",
   "metadata": {},
   "source": [
    "Create Finite Element (FE) variables for the velocity, pressure and temperature fields. The last two of these are scalar fields needing only one value at each mesh point, while the velocity field contains a vector of *dim* dimensions at each mesh point."
   ]
  },
  {
   "cell_type": "markdown",
   "metadata": {},
   "source": [
    "Create some dummy fevariables for doing top and bottom boundary calculations."
   ]
  },
  {
   "cell_type": "markdown",
   "metadata": {},
   "source": [
    "## Refine mesh"
   ]
  },
  {
   "cell_type": "code",
   "execution_count": 169,
   "metadata": {
    "collapsed": false
   },
   "outputs": [],
   "source": [
    "#X-Axis\n",
    "\n",
    "if refineMesh:\n",
    "    mesh.reset()\n",
    "    axis = 0\n",
    "    origcoords = np.linspace(mesh.minCoord[axis], mesh.maxCoord[axis], mesh.elementRes[axis] + 1)\n",
    "    edge_rest_lengths = np.diff(origcoords)\n",
    "\n",
    "    deform_lengths = edge_rest_lengths.copy()\n",
    "    min_point =  (abs(mesh.maxCoord[axis]) - abs(mesh.minCoord[axis]))/2.\n",
    "    el_reduction = 0.5001\n",
    "    dx = mesh.maxCoord[axis] - min_point\n",
    "\n",
    "    deform_lengths = deform_lengths - \\\n",
    "                                    ((1.-el_reduction) *deform_lengths[0]) + \\\n",
    "                                    abs((origcoords[1:] - min_point))*((0.5*deform_lengths[0])/dx)\n",
    "\n",
    "    #print(edge_rest_lengths.shape, deform_lengths.shape)\n",
    "\n",
    "    sp.deform_1d(deform_lengths, mesh,axis = 'x',norm = 'Min', constraints = [])"
   ]
  },
  {
   "cell_type": "code",
   "execution_count": 170,
   "metadata": {
    "collapsed": false
   },
   "outputs": [],
   "source": [
    "axis = 1\n",
    "orgs = np.linspace(mesh.minCoord[axis], mesh.maxCoord[axis], mesh.elementRes[axis] + 1)\n",
    "\n",
    "value_to_constrain = 1.\n",
    "\n",
    "\n",
    "yconst = [(sp.find_closest(orgs, value_to_constrain), np.array([1.,0]))]\n"
   ]
  },
  {
   "cell_type": "code",
   "execution_count": 171,
   "metadata": {
    "collapsed": false
   },
   "outputs": [],
   "source": [
    "#Y-Axis\n",
    "if refineMesh:\n",
    "    #Y-Axis\n",
    "    axis = 1\n",
    "    origcoords = np.linspace(mesh.minCoord[axis], mesh.maxCoord[axis], mesh.elementRes[axis] + 1)\n",
    "    edge_rest_lengths = np.diff(origcoords)\n",
    "\n",
    "    deform_lengths = edge_rest_lengths.copy()\n",
    "    min_point =  (mesh.maxCoord[axis])\n",
    "    el_reduction = 0.5001\n",
    "    dx = mesh.maxCoord[axis]\n",
    "\n",
    "    deform_lengths = deform_lengths - \\\n",
    "                                    ((1.-el_reduction)*deform_lengths[0]) + \\\n",
    "                                    abs((origcoords[1:] - min_point))*((0.5*deform_lengths[0])/dx)\n",
    "\n",
    "    #print(edge_rest_lengths.shape, deform_lengths.shape)\n",
    "\n",
    "    sp.deform_1d(deform_lengths, mesh,axis = 'y',norm = 'Min', constraints = yconst)"
   ]
  },
  {
   "cell_type": "markdown",
   "metadata": {},
   "source": [
    "# ICs and BCs"
   ]
  },
  {
   "cell_type": "code",
   "execution_count": 172,
   "metadata": {
    "collapsed": true
   },
   "outputs": [],
   "source": [
    "# Initialise data.. Note that we are also setting boundary conditions here\n",
    "velocityField.data[:] = [0.,0.]\n",
    "pressureField.data[:] = 0.\n",
    "temperatureField.data[:] = 0.\n",
    "temperatureDotField.data[:] = 0.\n"
   ]
  },
  {
   "cell_type": "markdown",
   "metadata": {},
   "source": [
    "## Temp ICs"
   ]
  },
  {
   "cell_type": "code",
   "execution_count": 173,
   "metadata": {
    "collapsed": false
   },
   "outputs": [],
   "source": [
    "#ndp.TR"
   ]
  },
  {
   "cell_type": "code",
   "execution_count": 174,
   "metadata": {
    "collapsed": false
   },
   "outputs": [],
   "source": [
    "#boundary_layer2d.agefunc(0.0, off, vel = vel, dom = (MINX,MAXX))\n",
    "\n",
    "lith= boundary_layer2d.LithosphereTemps(mesh, temperatureField, 2890e3, subzone,  tint=ndp.TR, vel= 10e3, diffs = 1e-6)\n",
    "\n",
    "\n",
    "#lith= boundary_layer2d.LithosphereTemps(mesh, temperatureField, dp.LS, subzone, mor, tint=0.8, vel=vel, diffs = 1e-6)\n",
    "\n"
   ]
  },
  {
   "cell_type": "code",
   "execution_count": 178,
   "metadata": {
    "collapsed": false
   },
   "outputs": [],
   "source": [
    "fudge = 1.\n",
    "\n",
    "thisage = 8\n",
    "\n",
    "for index, coord in enumerate(mesh.data):\n",
    "    xloc = coord[0]\n",
    "    agema = lith.agefunc(xloc)\n",
    "    #print agema\n",
    "    if agelimit:\n",
    "        agema = min(agelimit, agema)\n",
    "    if thermallimit:\n",
    "        if (1.-coord[1]) < (lith.lithdepthfunc(agema)/dp.LS)*thermallimit: #comparison of dimensionless (model) lengths\n",
    "            zloc = ((1.- coord[1])* dp.LS) # dimensional depth kms\n",
    "            t = lith.tempfunc(thisage,  zloc)\n",
    "            temperatureField.data[index] = t\n",
    "        else:\n",
    "            temperatureField.data[index] = lith.tint\n",
    "    \n",
    "    else:\n",
    "        if coord[1] > (1. - lith.lithdepthfunc(thisage)) and (coord[1] < 1.) and (coord[0] > (MAXX - (60e3/dp.LS))):\n",
    "            temperatureField.data[index] = lith.tint\n",
    "        elif coord[1] >= 1.:\n",
    "            temperatureField.data[index] = ndp.TS\n",
    "        else:\n",
    "            zloc = ((1.- coord[1])* dp.LS) # dimensional depth kms\n",
    "            if coord[0] < subzone:\n",
    "                t = lith.tempfunc(thisage/4., zloc)\n",
    "            else:\n",
    "                t = lith.tempfunc(thisage, zloc)\n",
    "            temperatureField.data[index] = t\n",
    "    \n"
   ]
  },
  {
   "cell_type": "code",
   "execution_count": 176,
   "metadata": {
    "collapsed": false
   },
   "outputs": [
    {
     "data": {
      "text/plain": [
       "0.125"
      ]
     },
     "execution_count": 176,
     "metadata": {},
     "output_type": "execute_result"
    }
   ],
   "source": [
    "#thisage = 8.\n",
    "#lith.tempfunc(50., 150e3)\n",
    "lith.lithdepthfunc(thisage/4)\n",
    "ndp.TS"
   ]
  },
  {
   "cell_type": "markdown",
   "metadata": {},
   "source": [
    "## Slab perturbation"
   ]
  },
  {
   "cell_type": "code",
   "execution_count": 177,
   "metadata": {
    "collapsed": true
   },
   "outputs": [],
   "source": [
    "#testField    = uw.mesh.MeshVariable( mesh=mesh,         nodeDofCount=1 )\n",
    "#testField.data[:] = 0."
   ]
  },
  {
   "cell_type": "code",
   "execution_count": 50,
   "metadata": {
    "collapsed": false
   },
   "outputs": [],
   "source": [
    "def inCircleFnGenerator(centre, radius):\n",
    "    coord = fn.input()\n",
    "    offsetFn = coord - centre\n",
    "    return fn.math.dot( offsetFn, offsetFn ) < radius**2\n",
    "\n",
    "#Setup slab perturbation params (mostly dimensionles / model params here)\n",
    "phi = 90. - theta\n",
    "RocM = (Roc/dp.LS)*1e3\n",
    "CrustM = MANTLETOCRUST\n",
    "#slabdepth = lithdepthfunc(agefunc(off, off, vel), dp.k)\n",
    "slabdepthM = lith.lithdepthfunc(lith.agefunc(subzone)) /dp.LS\n",
    "#slabdepthM *= 5.\n",
    "Org = (0.+subzone, 1.-RocM)\n",
    "#Use three circles to define our slab and crust perturbation,  \n",
    "Oc = inCircleFnGenerator(Org , RocM)\n",
    "Gc = inCircleFnGenerator(Org , RocM + (50e3/dp.LS)) #a slightly larger circle for the 'gap'\n",
    "Ic = inCircleFnGenerator(Org , RocM - slabdepthM)\n",
    "Cc = inCircleFnGenerator(Org , RocM - CrustM)\n",
    "dx = (RocM)/(np.math.tan((np.math.pi/180.)*phi))\n",
    "\n",
    "#Work our which way the slab should face:\n",
    "sense = 'Left'\n",
    "#if lith.agefunc(subzone + 0.0001) < lith.agefunc(subzone - 0.0001):\n",
    "#    sense = 'Right'\n",
    "\n",
    "#We'll also create a triangle which will truncate the circles defining the slab...\n",
    "if sense == 'Left': \n",
    "    ptx = subzone - dx\n",
    "else:\n",
    "    ptx = subzone + dx\n",
    "\n",
    "coords = ((0.+subzone, 1), (0.+subzone, 1.-RocM), (ptx, 1.))\n",
    "Tri = fn.shape.Polygon(np.array(coords))\n"
   ]
  },
  {
   "cell_type": "code",
   "execution_count": 179,
   "metadata": {
    "collapsed": false
   },
   "outputs": [],
   "source": [
    "#Assign temperatures in the perturbation region\n",
    "#sds = []\n",
    "\n",
    "\n",
    "\n",
    "if sense == 'Left': \n",
    "    age = lith.agefunc(subzone + 0.001)\n",
    "else:\n",
    "    age = lith.agefunc(subzone - 0.001)\n",
    "    \n",
    "if agelimit:\n",
    "        age = min(agelim, age)\n",
    "\n",
    "for index, coord in enumerate(mesh.data):\n",
    "    #if Oc.evaluate(tuple(coord)) and Tri.evaluate(tuple(coord)) and not Ic.evaluate(tuple(coord)): #in inner circle, not in outer circle\n",
    "    if Gc.evaluate(tuple(coord)) and Tri.evaluate(tuple(coord)) and not Oc.evaluate(tuple(coord)):\n",
    "        temperatureField.data[index] = lith.tint\n",
    "    \n",
    "    elif Oc.evaluate(tuple(coord)) and Tri.evaluate(tuple(coord)): #In the quarter-circle defining the lithosphere\n",
    "\n",
    "        sd = ((RocM - math.sqrt((coord[0] - Org[0])**2 + (coord[1] - Org[1])**2))*dp.LS) #distance from slab edge in m\n",
    "        #print sd\n",
    "        if thermallimit:\n",
    "            if sd < (thisage)*thermallimit: #comparison of dimensionless (model) lengths\n",
    "                t = lith.tempfunc(age, sd)\n",
    "                temperatureField.data[index] = t\n",
    "        else:\n",
    "            t = lith.tempfunc(thisage, sd)\n",
    "            temperatureField.data[index] = t\n",
    "        "
   ]
  },
  {
   "cell_type": "code",
   "execution_count": 180,
   "metadata": {
    "collapsed": false
   },
   "outputs": [
    {
     "data": {
      "text/html": [
       "<img src='data:image/png;base64,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'>"
      ],
      "text/plain": [
       "<IPython.core.display.HTML object>"
      ]
     },
     "execution_count": 180,
     "metadata": {},
     "output_type": "execute_result"
    }
   ],
   "source": [
    "figTemp = glucifer.Figure()\n",
    "figTemp.append( glucifer.objects.Surface(mesh, temperatureField, colours = 'red blue green'))\n",
    "#figTemp.append( glucifer.objects.Mesh(mesh))\n",
    "figTemp.save_database('test.gldb')\n",
    "figTemp.show()"
   ]
  },
  {
   "cell_type": "code",
   "execution_count": 53,
   "metadata": {
    "collapsed": false
   },
   "outputs": [],
   "source": [
    "\n",
    "#import matplotlib.pyplot as pyplot\n",
    "#%matplotlib inline\n",
    "#pyplot.imshow(np.flipud(temperatureField.data.reshape(64 + 1, 256 + 1)))"
   ]
  },
  {
   "cell_type": "code",
   "execution_count": 54,
   "metadata": {
    "collapsed": false
   },
   "outputs": [
    {
     "data": {
      "text/plain": [
       "0.0017871266989710683"
      ]
     },
     "execution_count": 54,
     "metadata": {},
     "output_type": "execute_result"
    }
   ],
   "source": [
    "temperatureField.data.min()"
   ]
  },
  {
   "cell_type": "code",
   "execution_count": 55,
   "metadata": {
    "collapsed": false
   },
   "outputs": [],
   "source": [
    "# Get the actual sets \n",
    "#\n",
    "#  HJJJJJJH\n",
    "#  I      I\n",
    "#  I      I\n",
    "#  I      I\n",
    "#  HJJJJJJH\n",
    "#  \n",
    "#  Note that H = I & J \n",
    "\n",
    "# Note that we use operator overloading to combine sets\n",
    "# send boundary condition information to underworld\n",
    "IWalls = mesh.specialSets[\"MinI_VertexSet\"] + mesh.specialSets[\"MaxI_VertexSet\"]\n",
    "JWalls = mesh.specialSets[\"MinJ_VertexSet\"] + mesh.specialSets[\"MaxJ_VertexSet\"]\n",
    "TWalls = mesh.specialSets[\"MaxJ_VertexSet\"]\n",
    "BWalls = mesh.specialSets[\"MinJ_VertexSet\"]"
   ]
  },
  {
   "cell_type": "code",
   "execution_count": null,
   "metadata": {
    "collapsed": false
   },
   "outputs": [],
   "source": []
  },
  {
   "cell_type": "code",
   "execution_count": 56,
   "metadata": {
    "collapsed": false
   },
   "outputs": [],
   "source": [
    "#Set Dirichlet Temp conditions\n",
    "\n",
    "for index in mesh.specialSets[\"MinJ_VertexSet\"]:\n",
    "    temperatureField.data[index] = ndp.TR\n",
    "for index in mesh.specialSets[\"MaxJ_VertexSet\"]:\n",
    "    temperatureField.data[index] = ndp.TS\n",
    "\n",
    "\n",
    "# Now setup the dirichlet boundary condition\n",
    "# Note that through this object, we are flagging to the system \n",
    "# that these nodes are to be considered as boundary conditions. \n",
    "# Also note that we provide a tuple of sets.. One for the Vx, one for Vy.\n",
    "freeslipBC = uw.conditions.DirichletCondition(     variable=velocityField, \n",
    "                                              indexSetsPerDof=(None, JWalls) )\n",
    "\n",
    "# also set dirichlet for temp field\n",
    "dirichTempBC = uw.conditions.DirichletCondition(     variable=temperatureField, \n",
    "                                              indexSetsPerDof=(JWalls,) )\n",
    "\n",
    "\n",
    "#dT_dy = [0.,0.]\n",
    "\n",
    "# also set dirichlet for temp field\n",
    "#neumannTempBC = uw.conditions.NeumannCondition( dT_dy, variable=temperatureField, \n",
    "#                                         indexSetsPerDof=BWalls)"
   ]
  },
  {
   "cell_type": "code",
   "execution_count": 57,
   "metadata": {
    "collapsed": false
   },
   "outputs": [],
   "source": [
    "#temperatureField.data[TWalls.data].max()"
   ]
  },
  {
   "cell_type": "markdown",
   "metadata": {},
   "source": [
    "##Add Random 125 K temp perturbation\n"
   ]
  },
  {
   "cell_type": "markdown",
   "metadata": {
    "collapsed": true
   },
   "source": [
    "tempNump = temperatureField.data\n",
    "\n",
    "#In gerneral we only want to do this on the initial setup, not restarts\n",
    "\n",
    "if not checkpointLoad:\n",
    "    for index, coord in enumerate(mesh.data):\n",
    "        pertCoeff = (0.05*(np.random.rand(1)[0] - 0.5)) #this should create values between [-0.5,0.5] from uniform dist.\n",
    "        ict = tempNump[index]\n",
    "        tempNump[index] = ict + pertCoeff"
   ]
  },
  {
   "cell_type": "code",
   "execution_count": 58,
   "metadata": {
    "collapsed": false
   },
   "outputs": [],
   "source": [
    "\n",
    "figVelocityMag = glucifer.Figure(figsize=(1024,384))\n",
    "figVelocityMag.append( glucifer.objects.Surface(mesh, temperatureField) )\n",
    "figVelocityMag.show()\n",
    "figVelocityMag.append(glucifer.objects.Mesh(mesh))\n",
    "#figVelocityMag.save_database('test.gldb')"
   ]
  },
  {
   "cell_type": "markdown",
   "metadata": {},
   "source": [
    "# Particles"
   ]
  },
  {
   "cell_type": "code",
   "execution_count": 59,
   "metadata": {
    "collapsed": false
   },
   "outputs": [],
   "source": [
    "###########\n",
    "#Material Swarm and variables\n",
    "###########\n",
    "\n",
    "gSwarm = uw.swarm.Swarm(mesh=mesh)\n",
    "materialVariable = gSwarm.add_variable( dataType=\"int\", count=1 )\n",
    "rockIntVar = gSwarm.add_variable( dataType=\"double\", count=1 )\n",
    "airIntVar = gSwarm.add_variable( dataType=\"double\", count=1 )\n",
    "lithIntVar = gSwarm.add_variable( dataType=\"double\", count=1 )\n",
    "dummyIntVar = gSwarm.add_variable( dataType=\"double\", count=1 ) #This one is used so we can safely ignore values in the air region\n",
    "\n",
    "varlist = [materialVariable, rockIntVar, airIntVar, lithIntVar]\n",
    "varnames = ['materialVariable', 'rockIntVar', 'airIntVar', 'lithIntVar']"
   ]
  },
  {
   "cell_type": "code",
   "execution_count": 60,
   "metadata": {
    "collapsed": false
   },
   "outputs": [],
   "source": [
    "###########\n",
    "#Swarms for surface integrals when using Sticky air\n",
    "###########\n",
    "\n",
    "snum = 1000.\n",
    "dx = (mesh.data[:,0].max()- mesh.data[:,0].min())/snum\n",
    "yp = 0.9947 #1. - yelsize/2. at res = 96\n",
    "\n",
    "mesh.data[:,0].max()\n",
    "xps = np.linspace(mesh.data[:,0].min(),mesh.data[:,0].max(), snum)\n",
    "yps = [yp for i in xps]\n",
    "\n",
    "surfintswarm = uw.swarm.Swarm( mesh=mesh )\n",
    "dumout = surfintswarm.add_particles_with_coordinates(np.array((xps,yps)).T)\n",
    "\n",
    "yps = [ 1.- yp  for i in xps]\n",
    "\n",
    "baseintswarm = uw.swarm.Swarm( mesh=mesh)\n",
    "dumout = baseintswarm.add_particles_with_coordinates(np.array((xps,yps)).T)"
   ]
  },
  {
   "cell_type": "markdown",
   "metadata": {},
   "source": [
    "#Initialise swarm variables, or Swarm checkpoint load"
   ]
  },
  {
   "cell_type": "code",
   "execution_count": null,
   "metadata": {
    "collapsed": false
   },
   "outputs": [],
   "source": []
  },
  {
   "cell_type": "code",
   "execution_count": 61,
   "metadata": {
    "collapsed": false
   },
   "outputs": [],
   "source": [
    "mantleIndex = 0\n",
    "lithosphereIndex = 1\n",
    "eclIndex = 2\n",
    "crustIndex = 3\n",
    "airIndex = 4\n",
    "tempIndex = 5\n",
    "\n",
    "\n",
    "\n",
    "\n",
    "if checkpointLoad:\n",
    "    checkpointLoadDir = natsort.natsorted(checkdirs)[-1]\n",
    "    temperatureField.load(os.path.join(checkpointLoadDir, \"temperatureField\" + \".hdf5\"))\n",
    "    pressureField.load(os.path.join(checkpointLoadDir, \"pressureField\" + \".hdf5\"))\n",
    "    velocityField.load(os.path.join(checkpointLoadDir, \"velocityField\" + \".hdf5\"))\n",
    "    gSwarm.load(os.path.join(checkpointLoadDir, \"swarm\" + \".h5\"))\n",
    "    for ix in range(len(varlist)):\n",
    "        varb = varlist[ix]\n",
    "        varb.load(os.path.join(checkpointLoadDir,varnames[ix] + \".h5\"))\n",
    "\n",
    "else:\n",
    "\n",
    "    # Layouts are used to populate the swarm across the whole domain\n",
    "    # Create the layout object\n",
    "    layout = uw.swarm.layouts.PerCellRandomLayout(swarm=gSwarm, particlesPerCell=ppc)\n",
    "    # Now use it to populate.\n",
    "    gSwarm.populate_using_layout( layout=layout )\n",
    "\n",
    "    # Lets initialise the 'materialVariable' data to represent different materials\n",
    "    # Set the material to heavy everywhere via the numpy array\n",
    "    materialVariable.data[:] = mantleIndex\n",
    "    \n",
    "    \n",
    "    #Set initial air and crust materials (allow the graph to take care of lithsophere)\n",
    "    #########\n",
    "    #This initial material setup will be model dependent\n",
    "    #########\n",
    "    for particleID in range(gSwarm.particleCoordinates.data.shape[0]):\n",
    "        if (1. - gSwarm.particleCoordinates.data[particleID][1]) < 0:\n",
    "                 materialVariable.data[particleID] = airIndex\n",
    "        elif (1. - gSwarm.particleCoordinates.data[particleID][1]) < MANTLETOCRUST:\n",
    "                 materialVariable.data[particleID] = crustIndex\n"
   ]
  },
  {
   "cell_type": "markdown",
   "metadata": {},
   "source": [
    "#Material Graphs"
   ]
  },
  {
   "cell_type": "code",
   "execution_count": 62,
   "metadata": {
    "collapsed": false
   },
   "outputs": [],
   "source": [
    "##############\n",
    "#Important: This is a quick fix for a bug that arises in parallel runs\n",
    "##############\n",
    "material_list = [0,1,2,3,4, 5]\n"
   ]
  },
  {
   "cell_type": "code",
   "execution_count": 63,
   "metadata": {
    "collapsed": false
   },
   "outputs": [
    {
     "name": "stdout",
     "output_type": "stream",
     "text": [
      "unique values after swarm has loaded:[0 3 4]\n"
     ]
    }
   ],
   "source": [
    "print( \"unique values after swarm has loaded:\" + str(np.unique(materialVariable.data[:])))\n"
   ]
  },
  {
   "cell_type": "code",
   "execution_count": null,
   "metadata": {
    "collapsed": false
   },
   "outputs": [],
   "source": []
  },
  {
   "cell_type": "code",
   "execution_count": 64,
   "metadata": {
    "collapsed": false
   },
   "outputs": [],
   "source": [
    "\n",
    "\n",
    "#All depth conditions are given as (km/D) where D is the length scale,\n",
    "#note that 'model depths' are used, e.g. 1-z, where z is the vertical Underworld coordinate\n",
    "#All temp conditions are in dimensionless temp. [0. - 1.]\n",
    "\n",
    "#######Graph object\n",
    "DG = nx.DiGraph(field=\"Depth\")\n",
    "\n",
    "#######Nodes\n",
    "#Note that the order of materials, deepest to shallowest is important\n",
    "DG.add_node(0, mat='mantle')\n",
    "DG.add_node(1, mat='lithosphere')\n",
    "DG.add_node(2, mat='ecl')\n",
    "DG.add_node(3, mat='crust')\n",
    "DG.add_node(4, mat='air')\n",
    "DG.add_node(5, mat='temp')\n",
    "\n",
    "\n",
    "labels=dict((n,d['mat']) for n,d in DG.nodes(data=True))\n",
    "pos=nx.spring_layout(DG)\n",
    "\n",
    "\n",
    "#######Edges\n",
    "#anything to air\n",
    "DG.add_edges_from([(0,4),(1,4), (3,4)])\n",
    "DG[0][4]['depthcondition'] = -1*TOPOHEIGHT\n",
    "DG[1][4]['depthcondition'] = -1*TOPOHEIGHT\n",
    "DG[3][4]['depthcondition'] = -1*TOPOHEIGHT\n",
    "\n",
    "\n",
    "#Anything to mantle\n",
    "DG.add_edges_from([(3,0), (1,0), (2,0), (5,0)])\n",
    "DG[3][0]['depthcondition'] = CRUSTTOMANTLE #Normal crust\n",
    "DG[1][0]['depthcondition'] = LITHTOMANTLE #This means we're going to kill lithosphere at the 660.\n",
    "DG[2][0]['depthcondition'] = CRUSTTOMANTLE #Eclogite crust\n",
    "DG[5][0]['depthcondition'] = CRUSTTOMANTLE #Normal crust\n",
    "\n",
    "#Anything to lithsphere\n",
    "DG.add_edges_from([(0,1),(4,1)])\n",
    "DG[0][1]['depthcondition'] = MANTLETOLITH\n",
    "DG[0][1]['avgtempcondition'] = 0.75*AVGTEMP #definition of thermal lithosphere\n",
    "\n",
    "\n",
    "#Anything to crust\n",
    "DG.add_edges_from([(0,3), (1,3), (4,3)])\n",
    "DG[0][3]['depthcondition'] = MANTLETOCRUST\n",
    "DG[1][3]['depthcondition'] = MANTLETOCRUST\n",
    "DG[4][3]['depthcondition'] = TOPOHEIGHT\n",
    "\n",
    "#crust to eclogite\n",
    "DG.add_edges_from([(3,2)])\n",
    "DG[3][2]['depthcondition'] =CRUSTTOECL\n",
    "\n",
    "\n",
    "\n",
    "\n"
   ]
  },
  {
   "cell_type": "code",
   "execution_count": 65,
   "metadata": {
    "collapsed": false
   },
   "outputs": [
    {
     "data": {
      "text/plain": [
       "1.2857142857142858"
      ]
     },
     "execution_count": 65,
     "metadata": {},
     "output_type": "execute_result"
    }
   ],
   "source": [
    "CRUSTTOMANTLE"
   ]
  },
  {
   "cell_type": "code",
   "execution_count": 66,
   "metadata": {
    "collapsed": false
   },
   "outputs": [],
   "source": [
    "#material_list"
   ]
  },
  {
   "cell_type": "code",
   "execution_count": 67,
   "metadata": {
    "collapsed": false
   },
   "outputs": [],
   "source": [
    "remove_nodes = []\n",
    "for node in DG.nodes():\n",
    "    if not node in material_list:\n",
    "        remove_nodes.append(node)\n",
    "        \n",
    "for rmnode in remove_nodes:\n",
    "    DG.remove_node(rmnode)"
   ]
  },
  {
   "cell_type": "code",
   "execution_count": 68,
   "metadata": {
    "collapsed": false
   },
   "outputs": [
    {
     "data": {
      "text/plain": [
       "[0, 1, 2, 3, 4, 5]"
      ]
     },
     "execution_count": 68,
     "metadata": {},
     "output_type": "execute_result"
    }
   ],
   "source": [
    "DG.nodes()"
   ]
  },
  {
   "cell_type": "code",
   "execution_count": 69,
   "metadata": {
    "collapsed": true
   },
   "outputs": [],
   "source": [
    "#A Dictionary to map strings in the graph (e.g. 'depthcondition') to particle data arrays\n",
    "\n",
    "particledepths = 1. - gSwarm.particleCoordinates.data[:,1]\n",
    "particletemps = temperatureField.evaluate(gSwarm)[:,0]\n",
    "\n",
    "conditionmap = {}\n",
    "\n",
    "conditionmap['depthcondition'] = {}\n",
    "conditionmap['depthcondition']['data'] = particledepths\n",
    "conditionmap['avgtempcondition'] = {}\n",
    "conditionmap['avgtempcondition']['data'] = particletemps"
   ]
  },
  {
   "cell_type": "code",
   "execution_count": 70,
   "metadata": {
    "collapsed": true
   },
   "outputs": [],
   "source": [
    "def update_swarm(graph, particleIndex):\n",
    "    \"\"\"\n",
    "    This function takes the materials graph (networkx.DiGraph), and a particle index,\n",
    "    then determines if a material update is required \n",
    "    and if so, returns the new materialindex\n",
    "    Args:\n",
    "        graph (networkx.DiGraph): Directed multigraph representing the transformation of material types\n",
    "        particleIndex (int): the particle index as corressponding to the index in the swarm data arrays\n",
    "    Returns:\n",
    "        if update is required the function returns the the new material variable (int) \n",
    "        else returns None\n",
    "    Raises:\n",
    "        TypeError: not implemented\n",
    "        ValueError: not implemented\n",
    "    \"\"\"\n",
    "    ##Egde gives links to other materials, we then query the conditions to see if we should change materials\n",
    "    matId = materialVariable.data[particleIndex][0]\n",
    "    innerchange = False\n",
    "    outerchange = False\n",
    "    for edge in graph[matId]:\n",
    "        if outerchange:\n",
    "            break\n",
    "        for cond in graph[matId][edge].keys():\n",
    "            outerchange = False\n",
    "            if innerchange: #found a complete transition, break inner loop\n",
    "                break\n",
    "            currentparticlevalue = conditionmap[cond]['data'][particleIndex]\n",
    "            crossover = graph[matId][edge][cond]\n",
    "            if ((matId > edge) and (currentparticlevalue > crossover)):\n",
    "                innerchange = False # continue on, \n",
    "                if graph[matId][edge].keys()[-1] == cond:\n",
    "                    outerchange = True\n",
    "                    innerchange = edge\n",
    "                    break\n",
    "            elif ((matId < edge) and (currentparticlevalue < crossover)):\n",
    "                innerchange = False\n",
    "                if graph[matId][edge].keys()[-1] == cond:\n",
    "                    outerchange = True\n",
    "                    innerchange = edge\n",
    "                    break\n",
    "            else:\n",
    "                #condition not met, break outer loop, go to next edge, outerchange should still be False\n",
    "                break\n",
    "    if type(innerchange) == int:\n",
    "        return innerchange"
   ]
  },
  {
   "cell_type": "code",
   "execution_count": null,
   "metadata": {
    "collapsed": true
   },
   "outputs": [],
   "source": []
  },
  {
   "cell_type": "code",
   "execution_count": 71,
   "metadata": {
    "collapsed": false
   },
   "outputs": [],
   "source": [
    "#Set the crust material in the slab using shapes/function from uw.\n",
    "\n",
    "if not checkpointLoad:\n",
    "    #materialVariable.data[:] = mantleIndex\n",
    "    #lithtemp = 0.95*0.8\n",
    "    #tempswarm = temperatureField.evaluate(gSwarm)[:,0]\n",
    "\n",
    "    #At this point, we only have to assign any materials that are defined by setup shapes,\n",
    "    #the rest of the materials will be assigned using the materials graph\n",
    "\n",
    "    for particleID in range(gSwarm.particleCoordinates.data.shape[0]):\n",
    "        coord = gSwarm.particleCoordinates.data[particleID]\n",
    "        if gSwarm.particleCoordinates.data[particleID][1] > (1.0 - CrustM):\n",
    "            materialVariable.data[particleID] =  crustIndex\n",
    "        elif Oc.evaluate(tuple(coord)) and Tri.evaluate(tuple(coord)) and not Cc.evaluate(tuple(coord)):\n",
    "            #print(\"True\")\n",
    "            materialVariable.data[particleID] =  crustIndex\n",
    "        if Gc.evaluate(tuple(coord)) and Tri.evaluate(tuple(coord)) and not Oc.evaluate(tuple(coord)):\n",
    "            materialVariable.data[particleID] =  tempIndex"
   ]
  },
  {
   "cell_type": "code",
   "execution_count": null,
   "metadata": {
    "collapsed": true
   },
   "outputs": [],
   "source": []
  },
  {
   "cell_type": "code",
   "execution_count": 72,
   "metadata": {
    "collapsed": false
   },
   "outputs": [],
   "source": [
    "#Cleanse the swarm of its sins\n",
    "#For some Material Graphs, the graph may have to be traversed more than once\n",
    "\n",
    "check = -1\n",
    "number_updated = 1\n",
    "\n",
    "while number_updated != 0:\n",
    "    number_updated = 0\n",
    "    for particleID in range(gSwarm.particleCoordinates.data.shape[0]):\n",
    "        check = update_swarm(DG, particleID)\n",
    "        if check > -1:\n",
    "            number_updated += 1\n",
    "            materialVariable.data[particleID] = check"
   ]
  },
  {
   "cell_type": "code",
   "execution_count": null,
   "metadata": {
    "collapsed": true
   },
   "outputs": [],
   "source": []
  },
  {
   "cell_type": "code",
   "execution_count": 73,
   "metadata": {
    "collapsed": false
   },
   "outputs": [],
   "source": [
    "#dummyVariable3 = gSwarm.add_variable( dataType=\"double\", count=1 )"
   ]
  },
  {
   "cell_type": "code",
   "execution_count": 74,
   "metadata": {
    "collapsed": false
   },
   "outputs": [
    {
     "data": {
      "text/html": [
       "<img src='data:image/png;base64,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'>"
      ],
      "text/plain": [
       "<IPython.core.display.HTML object>"
      ]
     },
     "execution_count": 74,
     "metadata": {},
     "output_type": "execute_result"
    }
   ],
   "source": [
    "figMat = glucifer.Figure()\n",
    "figMat.append( glucifer.objects.Points(gSwarm,materialVariable, colours='white blue red black'))\n",
    "#figMat.append( glucifer.objects.Mesh(mesh))\n",
    "figMat.save_database('test.gldb')\n",
    "figMat.show()"
   ]
  },
  {
   "cell_type": "markdown",
   "metadata": {},
   "source": [
    "##Set the values for the masking swarms"
   ]
  },
  {
   "cell_type": "code",
   "execution_count": 75,
   "metadata": {
    "collapsed": false
   },
   "outputs": [],
   "source": [
    "#Setup up a masking Swarm variable for the integrations.\n",
    "#These should be rebuilt at same frequency as the metric calcualtions\n",
    "\n",
    "rockIntVar.data[:] = 0.\n",
    "notair = np.where(materialVariable.data != airIndex)\n",
    "rockIntVar.data[notair] = 1.\n",
    "\n",
    "airIntVar.data[:] = 0.\n",
    "notrock = np.where(materialVariable.data == airIndex)\n",
    "airIntVar.data[notrock] = 1.\n",
    "\n",
    "lithIntVar.data[:] = 0.\n",
    "islith = np.where((materialVariable.data == lithosphereIndex) | (materialVariable.data == crustIndex))\n",
    "lithIntVar.data[islith] = 1.\n",
    "\n",
    "dummyIntVar.data[:] = 1.\n",
    "notrock = np.where(materialVariable.data == airIndex)\n",
    "dummyIntVar.data[notrock] = 1e10  #We'll multiply certain swarm variables by this guy,which\n",
    "#will allow us grab minimum values and assume they are from the rock part"
   ]
  },
  {
   "cell_type": "markdown",
   "metadata": {
    "collapsed": false
   },
   "source": [
    "#Material properties\n"
   ]
  },
  {
   "cell_type": "code",
   "execution_count": 76,
   "metadata": {
    "collapsed": false
   },
   "outputs": [],
   "source": [
    "# The yeilding of the upper slab is dependent on the strain rate.\n",
    "strainRate_2ndInvariant = fn.tensor.second_invariant( \n",
    "                            fn.tensor.symmetric( \n",
    "                            velocityField.fn_gradient ))\n",
    "\n",
    "\n",
    "coordinate = fn.input()\n",
    "depth = 1. - coordinate[1]\n",
    "\n",
    "#Determine yield criterion for depth (rather than pressure as given in Crameri)\n",
    "#Scaling is same as van Heck and Tackley, EPSL, 2011\n",
    "lithopressuregrad = dp.rho*dp.g*(dp.LS)**3/(dp.eta0*dp.k)"
   ]
  },
  {
   "cell_type": "code",
   "execution_count": 77,
   "metadata": {
    "collapsed": false
   },
   "outputs": [
    {
     "data": {
      "text/plain": [
       "0.0017871266989710683"
      ]
     },
     "execution_count": 77,
     "metadata": {},
     "output_type": "execute_result"
    }
   ],
   "source": [
    "temperatureField.data.min()"
   ]
  },
  {
   "cell_type": "code",
   "execution_count": 78,
   "metadata": {
    "collapsed": false
   },
   "outputs": [
    {
     "data": {
      "text/plain": [
       "1744.9047000000005"
      ]
     },
     "execution_count": 78,
     "metadata": {},
     "output_type": "execute_result"
    }
   ],
   "source": [
    "lithopressuregrad*0.1*(110e3/dp.LS)"
   ]
  },
  {
   "cell_type": "code",
   "execution_count": 79,
   "metadata": {
    "collapsed": false
   },
   "outputs": [
    {
     "data": {
      "text/plain": [
       "55519.695000000014"
      ]
     },
     "execution_count": 79,
     "metadata": {},
     "output_type": "execute_result"
    }
   ],
   "source": [
    "ndp.fc*lithopressuregrad"
   ]
  },
  {
   "cell_type": "code",
   "execution_count": 80,
   "metadata": {
    "collapsed": false
   },
   "outputs": [],
   "source": [
    "#Linear viscosity\n",
    "#arhennius = fn.misc.min(ndp.up_visc, fn.math.exp(((-1.*ndp.E) + (ndp.E / temperatureField))))\n",
    "#lower_mantle = False\n",
    "#melt_viscosity_reduction = False"
   ]
  },
  {
   "cell_type": "code",
   "execution_count": 81,
   "metadata": {
    "collapsed": false
   },
   "outputs": [],
   "source": [
    "#np.math.exp(100.)"
   ]
  },
  {
   "cell_type": "code",
   "execution_count": 131,
   "metadata": {
    "collapsed": false
   },
   "outputs": [],
   "source": [
    "############\n",
    "#Mantle\n",
    "############\n",
    "A = 1e21/(np.math.exp(dp.E/(dp.R*1600.))) \n",
    "safetyField = fn.misc.min(100., (dp.E /(temperatureField*1600.*dp.R)) ) #numbers bigger that 100 can't be passed to exp.\n",
    "arhennius = fn.misc.min(ndp.up_visc,(fn.math.exp(safetyField)*A)/1e21)\n",
    "\n",
    "#Psuedo-plastic \n",
    "ys =  ndp.cohesion*RAfac + (depth*ndp.fc*lithopressuregrad)\n",
    "yss = fn.misc.max(ndp.cohesion, ys)\n",
    "plasticvisc = yss*(math.sqrt(2))/(strainRate_2ndInvariant*2.)\n",
    "plastic = fn.misc.max(ndp.low_visc,plasticvisc)\n",
    "#combine these\n",
    "mantleviscosityFn = fn.misc.min(arhennius, plastic)\n",
    "\n",
    "\n",
    "############\n",
    "#crust\n",
    "############\n",
    "#Linear part is the same, plastic parameters are weaker\n",
    "\n",
    "ysc = (ndp.cohesion/ndp.cohesion_reduce)\n",
    "ycs = fn.misc.max((ndp.cohesion/ndp.cohesion_reduce), ysc)\n",
    "crustplasticvisc = ycs*(math.sqrt(2))/(strainRate_2ndInvariant*2.)\n",
    "crustplastic = fn.misc.max(ndp.low_visc,crustplasticvisc) \n",
    "crustviscosityFn = fn.misc.min(arhennius, crustplastic)"
   ]
  },
  {
   "cell_type": "code",
   "execution_count": 132,
   "metadata": {
    "collapsed": false
   },
   "outputs": [
    {
     "data": {
      "text/plain": [
       "0.5"
      ]
     },
     "execution_count": 132,
     "metadata": {},
     "output_type": "execute_result"
    }
   ],
   "source": [
    "ndp.fc"
   ]
  },
  {
   "cell_type": "code",
   "execution_count": 133,
   "metadata": {
    "collapsed": false
   },
   "outputs": [
    {
     "data": {
      "text/plain": [
       "1.5456635403409733"
      ]
     },
     "execution_count": 133,
     "metadata": {},
     "output_type": "execute_result"
    }
   ],
   "source": [
    "mantleviscosityFn.evaluate(mesh).max()"
   ]
  },
  {
   "cell_type": "code",
   "execution_count": 143,
   "metadata": {
    "collapsed": false
   },
   "outputs": [
    {
     "data": {
      "text/html": [
       "<img src='data:image/png;base64,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'>"
      ],
      "text/plain": [
       "<IPython.core.display.HTML object>"
      ]
     },
     "execution_count": 143,
     "metadata": {},
     "output_type": "execute_result"
    }
   ],
   "source": [
    "figStrainRate = glucifer.Figure()\n",
    "figStrainRate.append( glucifer.objects.Surface(mesh, plasticvisc, logScale=True))\n",
    "figStrainRate.append(glucifer.objects.VectorArrows(mesh, velocityField, scaling=0.000001))\n",
    "figStrainRate.show()"
   ]
  },
  {
   "cell_type": "markdown",
   "metadata": {},
   "source": [
    "Set up simulation parameters and functions\n",
    "====\n",
    "\n",
    "Here the functions for density, viscosity etc. are set. These functions and/or values are preserved for the entire simulation time. "
   ]
  },
  {
   "cell_type": "code",
   "execution_count": 135,
   "metadata": {
    "collapsed": false
   },
   "outputs": [],
   "source": [
    "# Here we set a viscosity value of '1.' for both materials\n",
    "viscosityMapFn = fn.branching.map( fn_key = materialVariable,\n",
    "                         mapping = {airIndex:ndp.StAeta0, \n",
    "                                    lithosphereIndex:mantleviscosityFn, \n",
    "                                    crustIndex:mantleviscosityFn,\n",
    "                                    mantleIndex:mantleviscosityFn, \n",
    "                                    eclIndex:crustviscosityFn,\n",
    "                                    tempIndex:mantleviscosityFn} )\n",
    "\n",
    "densityMapFn = fn.branching.map( fn_key = materialVariable,\n",
    "                         mapping = {airIndex:ndp.StA_RA, \n",
    "                                    lithosphereIndex:ndp.RA*temperatureField, \n",
    "                                    crustIndex:ndp.RA*temperatureField, \n",
    "                                    mantleIndex:ndp.RA*temperatureField, \n",
    "                                    eclIndex:ndp.RA*temperatureField,\n",
    "                                    tempIndex:ndp.RA*temperatureField, } )\n",
    "\n",
    "# Define our gravity using a python tuple (this will be automatically converted to a function)\n",
    "gravity = ( 0.0, 1.0 )\n",
    "\n",
    "buoyancyFn = gravity*densityMapFn"
   ]
  },
  {
   "cell_type": "code",
   "execution_count": 136,
   "metadata": {
    "collapsed": false
   },
   "outputs": [
    {
     "data": {
      "text/plain": [
       "11957508.140714249"
      ]
     },
     "execution_count": 136,
     "metadata": {},
     "output_type": "execute_result"
    }
   ],
   "source": [
    "ndp.Crust_RA"
   ]
  },
  {
   "cell_type": "markdown",
   "metadata": {},
   "source": [
    "Build the Stokes system, solvers, advection-diffusion\n",
    "------\n",
    "\n",
    "Setup linear Stokes system to get the initial velocity."
   ]
  },
  {
   "cell_type": "code",
   "execution_count": 137,
   "metadata": {
    "collapsed": false
   },
   "outputs": [],
   "source": [
    "stokesPIC = uw.systems.Stokes( velocityField = velocityField, \n",
    "                               pressureField = pressureField,\n",
    "                               #swarm         = gSwarm, \n",
    "                               conditions    = [freeslipBC,],\n",
    "                               fn_viscosity   = arhennius, \n",
    "                               fn_bodyforce   = buoyancyFn,\n",
    "                               swarm=gSwarm)\n"
   ]
  },
  {
   "cell_type": "markdown",
   "metadata": {},
   "source": [
    "We do one solve with linear viscosity to get the initial strain rate invariant. This solve step also calculates a 'guess' of the the velocity field based on the linear system, which is used later in the non-linear solver."
   ]
  },
  {
   "cell_type": "code",
   "execution_count": 138,
   "metadata": {
    "collapsed": false
   },
   "outputs": [],
   "source": [
    "#We do one solve with linear viscosity to get the initial strain rate invariant. \n",
    "#This solve step also calculates a 'guess' of the the velocity field based on the linear system, \n",
    "#which is used later in the non-linear solver.\n",
    "\n",
    "solver = uw.systems.Solver(stokesPIC)\n",
    "# If not doing a restart, do a solve on the non-plastic system\n",
    "if not checkpointLoad:\n",
    "    solver.solve()"
   ]
  },
  {
   "cell_type": "code",
   "execution_count": 139,
   "metadata": {
    "collapsed": false
   },
   "outputs": [],
   "source": [
    "#Switch particle escape on, this will also trigger the inflow population control \n",
    "gSwarm.particleEscape = True"
   ]
  },
  {
   "cell_type": "code",
   "execution_count": 141,
   "metadata": {
    "collapsed": false
   },
   "outputs": [],
   "source": [
    "####################\n",
    "#Add the non-linear viscosity to the Stokes system\n",
    "stokesPIC.fn_viscosity = viscosityMapFn\n",
    "###################\n",
    "\n",
    "#Set more advanced solver option\n",
    "solver.options.main.Q22_pc_type='gkgdiag'\n",
    "#solver.options.A11.ksp_rtol=1e-2\n",
    "#solver.options.scr.ksp_rtol=1e-3\n",
    "#solver.options.A11.ksp_type=\"cg\"\n",
    "solver.options.scr.use_previous_guess = True\n",
    "#solver.options.scr.ksp_set_min_it_converge = 1\n",
    "#solver.options.main.penalty=10.0\n",
    "\n",
    "#solver.options.mg.levels = 3\n",
    "#solver.options.main.remove_constant_pressure_null_space=True\n",
    "#solver.options.main.penalty = 1e2\n",
    "\n",
    "solver.options.A11.ksp_rtol=1e-4\n",
    "solver.options.scr.ksp_rtol=1e-4\n",
    "\n",
    "solver.options.A11.ksp_monitor=''\n",
    "solver.options.A11.ksp_converged_reason=''"
   ]
  },
  {
   "cell_type": "code",
   "execution_count": 142,
   "metadata": {
    "collapsed": false
   },
   "outputs": [],
   "source": [
    "solver.solve(nonLinearIterate=True)"
   ]
  },
  {
   "cell_type": "code",
   "execution_count": 95,
   "metadata": {
    "collapsed": false
   },
   "outputs": [],
   "source": [
    "viscField = uw.mesh.MeshVariable( mesh=mesh,   nodeDofCount=1)\n",
    "viscdata = mantleviscosityFn.evaluate(mesh)\n",
    "#viscField.data[:] = viscdata\n",
    "\n",
    "\n",
    "#viscVariable = gSwarm.add_variable( dataType=\"float\", count=1 )\n",
    "#viscVariable.data[:] = viscosityMapFn.evaluate(gSwarm)"
   ]
  },
  {
   "cell_type": "markdown",
   "metadata": {
    "collapsed": false
   },
   "source": [
    "solver = uw.systems.Solver(stokesPIC2) # altered from PIC2\n",
    "\n",
    "\n",
    "\n",
    "#Set more advanced solver option\n",
    "solver.options.main.Q22_pc_type='uw'\n",
    "solver.options.A11.ksp_rtol=1e-5\n",
    "solver.options.scr.ksp_rtol=1e-5\n",
    "#solver.options.A11.ksp_type=\"cg\"\n",
    "solver.options.scr.use_previous_guess = True\n",
    "solver.options.scr.ksp_set_min_it_converge = 1\n",
    "\n",
    "solver.options.mg.levels = 3\n",
    "\n",
    "#solver.options.A11.ksp_monitor=''\n",
    "#solver.options.A11.ksp_converged_reason='"
   ]
  },
  {
   "cell_type": "markdown",
   "metadata": {},
   "source": [
    "Solve for initial pressure and velocity using a quick non-linear Picard iteration\n"
   ]
  },
  {
   "cell_type": "markdown",
   "metadata": {},
   "source": [
    "Create an advective-diffusive system\n",
    "=====\n",
    "\n",
    "Setup the system in underworld by flagging the temperature and velocity field variables."
   ]
  },
  {
   "cell_type": "code",
   "execution_count": 96,
   "metadata": {
    "collapsed": false
   },
   "outputs": [],
   "source": [
    "#uw.systems.AdvectionDiffusion?"
   ]
  },
  {
   "cell_type": "code",
   "execution_count": 97,
   "metadata": {
    "collapsed": false
   },
   "outputs": [],
   "source": [
    "#Create advdiff system\n",
    "\n",
    "\n",
    "\n",
    "#advDiff = uw.systems.AdvectionDiffusion( phiField       = temperatureField, \n",
    "#                                         phiDotField    = temperatureDotField, \n",
    "#                                         velocityField  = velocityField, \n",
    "#                                         fn_diffusivity = 1.0,\n",
    "#                                         fn_sourceTerm = 0.,\n",
    "#                                         conditions     = [tempBC,] )\n",
    "\n",
    "\n",
    "advDiff = uw.systems.AdvectionDiffusion( phiField       = temperatureField, \n",
    "                                         phiDotField    = temperatureDotField, \n",
    "                                         velocityField  = velocityField,\n",
    "                                         fn_sourceTerm    = 0.0,\n",
    "                                         fn_diffusivity = 1.0, \n",
    "                                         conditions     = [dirichTempBC,] )\n",
    "\n",
    "\n",
    "\n",
    "advector = uw.systems.SwarmAdvector( swarm         = gSwarm, \n",
    "                                     velocityField = velocityField, \n",
    "                                     order         = 1)"
   ]
  },
  {
   "cell_type": "markdown",
   "metadata": {},
   "source": [
    "Metrics for benchmark\n",
    "=====\n",
    "\n",
    "Define functions to be used in the time loop. For cases 1-4, participants were asked to report a number of diagnostic quantities to be measured after reaching steady state:\n",
    "\n",
    "* Average temp... $$  \\langle T \\rangle  = \\int^1_0 \\int^1_0 T \\, dxdy $$\n",
    "* Top and bottom Nusselt numbers... $$N = \\int^1_0 \\frac{\\partial T}{\\partial y} \\rvert_{y=0/1} \\, dx$$\n",
    "* RMS velocity over the whole domain, surface and max velocity at surface\n",
    "* max and min viscosity over the whole domain\n",
    "* average rate of work done against gravity...$$\\langle W \\rangle = \\int^1_0 \\int^1_0 T u_y \\, dx dy$$\n",
    "* and the average rate of viscous dissipation...$$\\langle \\Phi \\rangle = \\int^1_0 \\int^1_0 \\tau_{ij} \\dot \\epsilon_{ij} \\, dx dy$$\n",
    "\n",
    "* In steady state, if thermal energy is accurately conserved, the difference between $\\langle W \\rangle$ and $\\langle \\Phi \\rangle / Ra$ must vanish, so also reported is the percentage error: \n",
    "\n",
    "$$ \\delta = \\frac{\\lvert \\langle W \\rangle - \\frac{\\langle \\Phi \\rangle}{Ra} \\rvert}{max \\left(  \\langle W \\rangle,  \\frac{\\langle \\Phi \\rangle}{Ra}\\right)} \\times 100% $$"
   ]
  },
  {
   "cell_type": "code",
   "execution_count": 98,
   "metadata": {
    "collapsed": false
   },
   "outputs": [
    {
     "data": {
      "text/plain": [
       "[<underworld.swarm._swarmvariable.SwarmVariable at 0x1120b5310>,\n",
       " <underworld.swarm._swarmvariable.SwarmVariable at 0x1120b5510>,\n",
       " <underworld.swarm._swarmvariable.SwarmVariable at 0x1120b1f50>,\n",
       " <underworld.swarm._swarmvariable.SwarmVariable at 0x1120b1f10>,\n",
       " <underworld.swarm._swarmvariable.SwarmVariable at 0x1120b5410>,\n",
       " <underworld.swarm._swarmvariable.SwarmVariable at 0x1120b5610>,\n",
       " <underworld.swarm._swarmvariable.SwarmVariable at 0x1120b57d0>]"
      ]
     },
     "execution_count": 98,
     "metadata": {},
     "output_type": "execute_result"
    }
   ],
   "source": [
    "gSwarm.variables"
   ]
  },
  {
   "cell_type": "code",
   "execution_count": 99,
   "metadata": {
    "collapsed": false
   },
   "outputs": [],
   "source": [
    "#dummyVariable = gSwarm.add_variable( dataType=\"double\", count=1 )"
   ]
  },
  {
   "cell_type": "code",
   "execution_count": 145,
   "metadata": {
    "collapsed": false,
    "scrolled": true
   },
   "outputs": [],
   "source": [
    "#Setup some Integrals. We want these outside the main loop...\n",
    "tempVariable = gSwarm.add_variable( dataType=\"double\", count=1 )\n",
    "tempVariable.data[:] = temperatureField.evaluate(gSwarm)[:]\n",
    "tempint = uw.utils.Integral((tempVariable*rockIntVar), mesh)\n",
    "\n",
    "\n",
    "areaint = uw.utils.Integral((1.*rockIntVar),mesh)\n",
    "lithareaint = uw.utils.Integral((1.*lithIntVar),mesh)\n",
    "\n",
    "v2int = uw.utils.Integral(fn.math.dot(velocityField,velocityField)*rockIntVar, mesh)\n",
    "\n",
    "\n",
    "dwint = uw.utils.Integral(temperatureField*velocityField[1]*rockIntVar, mesh)\n",
    "\n",
    "\n",
    "sinner = fn.math.dot(strainRate_2ndInvariant,strainRate_2ndInvariant)\n",
    "vdint = uw.utils.Integral((4.*viscosityMapFn*sinner)*rockIntVar, mesh)\n",
    "vdintair = uw.utils.Integral((4.*viscosityMapFn*sinner)*airIntVar, mesh)\n",
    "vdintlith = uw.utils.Integral((4.*viscosityMapFn*sinner)*lithIntVar, mesh)\n",
    "\n",
    "\n",
    "fn_stress = 2.*viscosityMapFn*uw.function.tensor.symmetric(velocityField.fn_gradient)\n",
    "rockstress = fn.tensor.second_invariant(fn_stress)*rockIntVar\n",
    "lithstress = fn.tensor.second_invariant(fn_stress)*lithIntVar\n",
    "\n",
    "stresslithint = uw.utils.Integral(lithstress, mesh)\n"
   ]
  },
  {
   "cell_type": "code",
   "execution_count": 146,
   "metadata": {
    "collapsed": false
   },
   "outputs": [
    {
     "name": "stdout",
     "output_type": "stream",
     "text": [
      "20070201705.9\n",
      "19806566968.9\n",
      "15807263939.9\n",
      "5287259453.55\n",
      "863860035.886\n",
      "863860035.886\n"
     ]
    }
   ],
   "source": [
    "#These should differ if the the map function assigns different properties to bulk mantle\n",
    "\n",
    "print(uw.utils.Integral((4.*mantleviscosityFn*sinner)*rockIntVar, mesh).evaluate()[0])\n",
    "print(uw.utils.Integral((4.*viscosityMapFn*sinner)*rockIntVar, mesh).evaluate()[0])\n",
    "\n",
    "\n",
    "print(uw.utils.Integral((4.*mantleviscosityFn*sinner)*airIntVar, mesh).evaluate()[0])\n",
    "print(uw.utils.Integral((4.*viscosityMapFn*sinner)*airIntVar, mesh).evaluate()[0])\n",
    "\n",
    "print(uw.utils.Integral((4.*mantleviscosityFn*sinner)*lithIntVar, mesh).evaluate()[0])\n",
    "print(uw.utils.Integral((4.*viscosityMapFn*sinner)*lithIntVar, mesh).evaluate()[0])"
   ]
  },
  {
   "cell_type": "markdown",
   "metadata": {},
   "source": [
    "\\begin{equation}  \\langle T \\rangle  = \\int^1_0 \\int^1_0 T \\, dxdy \\end{equation}"
   ]
  },
  {
   "cell_type": "code",
   "execution_count": 147,
   "metadata": {
    "collapsed": false
   },
   "outputs": [],
   "source": [
    "def avg_temp():\n",
    "    return tempint.evaluate()[0]/areaint.evaluate()[0]\n",
    "\n",
    "#This one gets cleaned up when Surface integrals are available\n",
    "def nusselt(tempfield, swarm, dx):\n",
    "    #Update the swarm variable\n",
    "    tempgrad = tempfield.fn_gradient\n",
    "    valcheck = tempgrad[1].evaluate(swarm)\n",
    "    if valcheck is None:\n",
    "        vals = np.array(0, dtype='float64')\n",
    "    else:\n",
    "        vals = valcheck.sum()*dx\n",
    "    return vals\n",
    "\n",
    "def rms():\n",
    "    return math.sqrt(v2int.evaluate()[0]/areaint.evaluate()[0])\n",
    "\n",
    "#This one gets cleaned up when Surface integrals are available\n",
    "def rms_surf(swarm, dx):\n",
    "    rmsmaxfn = fn.math.dot(velocityField,velocityField)\n",
    "    rmscheck = rmsmaxfn.evaluate(swarm)\n",
    "    if rmscheck is None:\n",
    "        #print \"watch out\"\n",
    "        rmsvals = np.array(0, dtype='float64')\n",
    "    else:\n",
    "        rmsvals = np.sqrt(rmscheck.sum()*dx)\n",
    "        #print \"okay\"\n",
    "    return rmsvals\n",
    "\n",
    "def max_vx_surf(velfield, swarm):\n",
    "    check = velfield[0].evaluate(swarm)\n",
    "    if check is None:\n",
    "        return 0.\n",
    "    else:\n",
    "        return check.max()\n",
    "\n",
    "\n",
    "#def max_vy_surf(velfield, swarm):\n",
    "#    surfvelxmaxfn = fn.view.min_max(velfield[1])\n",
    "#    surfvelxmaxfn.evaluate(swarm)\n",
    "#    return surfvelxmaxfn.max_global()\n",
    "\n",
    "def gravwork(workfn):\n",
    "    return workfn.evaluate()[0]\n",
    "\n",
    "def viscdis(vdissfn):\n",
    "    return vdissfn.evaluate()[0]\n",
    "\n",
    "def visc_extr(viscfn):\n",
    "    vuviscfnMax = fn.view.min_max(viscfn)\n",
    "    vuviscfnMax.evaluate(gSwarm)\n",
    "    vuviscfnMin = fn.view.min_max(viscfn*dummyIntVar)\n",
    "    vuviscfnMin.evaluate(gSwarm)\n",
    "    return vuviscfnMax.max_global(), vuviscfnMin.min_global()\n",
    "\n",
    "\n",
    "def stress_max(scalarStressfn):\n",
    "    fn_minmax_stress = fn.view.min_max(scalarStressfn)\n",
    "    ignore_stress = fn_minmax_stress.evaluate(gSwarm)\n",
    "    return fn_minmax_stress.max_global()\n",
    "\n",
    "\n",
    "def avg_lith_stress():\n",
    "    return stresslithint.evaluate()[0]/lithareaint.evaluate()[0]"
   ]
  },
  {
   "cell_type": "code",
   "execution_count": 148,
   "metadata": {
    "collapsed": false
   },
   "outputs": [
    {
     "data": {
      "text/plain": [
       "0.09988839285739379"
      ]
     },
     "execution_count": 148,
     "metadata": {},
     "output_type": "execute_result"
    }
   ],
   "source": [
    "lithareaint.evaluate()[0]"
   ]
  },
  {
   "cell_type": "code",
   "execution_count": 149,
   "metadata": {
    "collapsed": false
   },
   "outputs": [],
   "source": [
    "#Check dem \n",
    "#stress_max(rockstress)\n",
    "#visc_extr(viscosityMapFn), ndp.StAeta0\n",
    "#avg_lith_stress()"
   ]
  },
  {
   "cell_type": "code",
   "execution_count": 150,
   "metadata": {
    "collapsed": false
   },
   "outputs": [],
   "source": [
    "#Fields for saving data / fields\n",
    "\n",
    "rmsField = uw.mesh.MeshVariable( mesh=mesh,   nodeDofCount=1)\n",
    "rmsfn = fn.math.sqrt(fn.math.dot(velocityField,velocityField))\n",
    "rmsdata = rmsfn.evaluate(mesh)\n",
    "rmsField.data[:] = rmsdata \n",
    "\n",
    "viscField = uw.mesh.MeshVariable( mesh=mesh,   nodeDofCount=1)\n",
    "viscdata = mantleviscosityFn.evaluate(mesh)\n",
    "viscField.data[:] = viscdata\n",
    "\n",
    "\n",
    "strainrateField = uw.mesh.MeshVariable( mesh=mesh,   nodeDofCount=1)\n",
    "srtdata = fn.tensor.second_invariant( \n",
    "                    fn.tensor.symmetric( \n",
    "                        velocityField.fn_gradient ))\n",
    "rostfield = srtdata.evaluate(mesh)\n",
    "strainrateField.data[:] = rostfield\n",
    "\n",
    "viscVariable = gSwarm.add_variable( dataType=\"float\", count=1 )\n",
    "viscVariable.data[:] = viscosityMapFn.evaluate(gSwarm)\n"
   ]
  },
  {
   "cell_type": "code",
   "execution_count": 151,
   "metadata": {
    "collapsed": false
   },
   "outputs": [],
   "source": [
    "#Images\n",
    "figEta = glucifer.Figure()\n",
    "figEta.append( glucifer.objects.Points(gSwarm,viscVariable, logScale=True))\n",
    "\n",
    "\n",
    "figMat = glucifer.Figure()\n",
    "figMat.append( glucifer.objects.Points(gSwarm,materialVariable, colours='brown white blue red'))\n",
    "figMat.append( glucifer.objects.Mesh(mesh))\n",
    "\n",
    "\n",
    "figStrainRate = glucifer.Figure()\n",
    "figStrainRate.append( glucifer.objects.Surface(mesh, strainRate_2ndInvariant, logScale=True))\n",
    "\n",
    "\n",
    "figVelocityMag = glucifer.Figure()\n",
    "figVelocityMag.append( glucifer.objects.Surface(mesh, fn.math.dot(velocityField,velocityField))\n",
    ")\n",
    "figTemp = glucifer.Figure()\n",
    "figTemp.append( glucifer.objects.Surface(mesh, temperatureField))\n",
    "\n",
    "\n",
    "\n",
    "#Pack some stuff into a database as well\n",
    "figDb = glucifer.Figure()\n",
    "figDb.append( glucifer.objects.Points(gSwarm,viscVariable, logScale=True, colours='brown white blue'))\n",
    "figDb.append( glucifer.objects.Points(gSwarm,materialVariable, colours='brown white blue red'))\n",
    "figDb.append( glucifer.objects.Mesh(mesh))\n",
    "figDb.append( glucifer.objects.VectorArrows(mesh,velocityField, arrowHead=0.2, scaling=0.01))\n",
    "figDb.append( glucifer.objects.Surface(mesh, strainRate_2ndInvariant, logScale=True, colours='brown white blue'))\n",
    "figDb.append( glucifer.objects.Surface(mesh, temperatureField))\n",
    "                           "
   ]
  },
  {
   "cell_type": "code",
   "execution_count": 107,
   "metadata": {
    "collapsed": true
   },
   "outputs": [],
   "source": [
    "\n",
    "pics = uw.swarm.PICIntegrationSwarm(gSwarm)"
   ]
  },
  {
   "cell_type": "code",
   "execution_count": 217,
   "metadata": {
    "collapsed": false
   },
   "outputs": [
    {
     "data": {
      "text/plain": [
       "['materialVariable', 'rockIntVar', 'airIntVar', 'lithIntVar']"
      ]
     },
     "execution_count": 217,
     "metadata": {},
     "output_type": "execute_result"
    }
   ],
   "source": [
    "varnames"
   ]
  },
  {
   "cell_type": "code",
   "execution_count": 218,
   "metadata": {
    "collapsed": false
   },
   "outputs": [],
   "source": [
    "def checkpoint1(step, checkpointPath,filename, filewrites):\n",
    "    path = checkpointPath + str(step) \n",
    "    os.mkdir(path)\n",
    "    ##Write and save the file, if not already a writing step\n",
    "    if not step % filewrites == 0:\n",
    "        f_o.write((16*'%-16s ' + '\\n') % (realtime, Viscdis, float(Nu0glob), float(Nu1glob), Avg_temp, \n",
    "                                              Rms,Rmsurfglob,Max_vx_surfglob,Gravwork, etamax, etamin, \n",
    "                                              Viscdisair, Viscdislith,Avg_stress, Max_stress_rock, Max_stress_lith))\n",
    "    filename.close()\n",
    "    shutil.copyfile(os.path.join(outputPath, outputFile), os.path.join(path, outputFile))\n",
    "\n",
    "\n",
    "def checkpoint2(step, checkpointPath, swarm, filename, varlist = [materialVariable], varnames = ['materialVariable']):\n",
    "    path = checkpointPath + str(step) \n",
    "    velfile = \"velocityField\" + \".hdf5\"\n",
    "    tempfile = \"temperatureField\" + \".hdf5\"\n",
    "    pressfile = \"pressureField\" + \".hdf5\"\n",
    "    velocityField.save(os.path.join(path, velfile))\n",
    "    temperatureField.save(os.path.join(path, tempfile))\n",
    "    pressureField.save(os.path.join(path, pressfile))\n",
    "    swarm.save(os.path.join(path, \"swarm.h5\") ) \n",
    "    for ix in range(len(varlist)):\n",
    "        varb = varlist[ix]\n",
    "        varb.save(os.path.join(path,varnames[ix] + \".h5\"))\n",
    "        \n",
    "    "
   ]
  },
  {
   "cell_type": "code",
   "execution_count": 219,
   "metadata": {
    "collapsed": false
   },
   "outputs": [],
   "source": [
    "###########\n",
    "#Open file for writing metrics\n",
    "###########\n",
    "\n",
    "if checkpointLoad:\n",
    "    if uw.rank() == 0:\n",
    "        shutil.copyfile(os.path.join(checkpointLoadDir, outputFile), outputPath+outputFile)\n",
    "    comm.Barrier()\n",
    "    #os.rename(os.path.join(checkpointLoadDir, outputFile), outputPath+outputFile)\n",
    "    f_o = open(os.path.join(outputPath, outputFile), 'a')\n",
    "    prevdata = np.genfromtxt(os.path.join(outputPath, outputFile), skip_header=0, skip_footer=0)\n",
    "    realtime = prevdata[prevdata.shape[0]-1, 0]\n",
    "    step = int(checkpointLoadDir.split('/')[-1])\n",
    "    timevals = [0.]\n",
    "else:\n",
    "    f_o = open(outputPath+outputFile, 'w')\n",
    "    realtime = 0.\n",
    "    step = 0\n",
    "    timevals = [0.]"
   ]
  },
  {
   "cell_type": "markdown",
   "metadata": {},
   "source": [
    "Main simulation loop\n",
    "=======\n",
    "\n",
    "The main time stepping loop begins here. Before this the time and timestep are initialised to zero and the output statistics arrays are set up. Also the frequency of outputting basic statistics to the screen is set in steps_output.\n"
   ]
  },
  {
   "cell_type": "code",
   "execution_count": null,
   "metadata": {
    "collapsed": false
   },
   "outputs": [],
   "source": [
    "# initialise timer for computation\n",
    "startMain = time.clock()\n",
    "# Perform steps#\n",
    "while realtime < 0.2:\n",
    "#while step < 25:\n",
    "    #Enter non-linear loop\n",
    "    print step\n",
    "    solver.solve(nonLinearIterate=True)\n",
    "    dt = advDiff.get_max_dt()\n",
    "    if step == 0:\n",
    "        dt = 0.\n",
    "    #start = time.clock()\n",
    "    advDiff.integrate(dt)\n",
    "    #machine_time = (time.clock()-start)\n",
    "    #print(\"total advDiff time is: \" + str(machine_time))\n",
    "    # Advect swarm using this timestep size\n",
    "    #start = time.clock()\n",
    "    advector.integrate(dt)\n",
    "    #machine_time = (time.clock()-start)\n",
    "    #print(\"total advector time is: \" + str(machine_time))\n",
    "    # Increment\n",
    "    realtime += dt\n",
    "    step += 1\n",
    "    timevals.append(realtime)\n",
    "    \n",
    "    ################\n",
    "    #Update temperature field in the air region\n",
    "    ################\n",
    "    if (step % sticky_air_temp == 0):\n",
    "        for index, coord in enumerate(mesh.data):\n",
    "            if coord[1] >= 1.:\n",
    "                temperatureField.data[index] = 0.\n",
    " \n",
    "    ################\n",
    "    #Particle update\n",
    "    ###############\n",
    "    #if (step % swarm_update == 0) or (step % metric_output == 0): #These updates should be done before any metric output\n",
    "    if (step % swarm_update == 0): #These updates should be done before any metric output\n",
    "        #These swarm variables get updated first, as they are used to determine material changes\n",
    "        particledepths = 1. - gSwarm.particleCoordinates.data[:,1]\n",
    "        particletemps = temperatureField.evaluate(gSwarm)[:,0]\n",
    "        conditionmap['depthcondition']['data'] = particledepths\n",
    "        conditionmap['avgtempcondition']['data'] = particletemps\n",
    "        ################\n",
    "        number_updated = 0\n",
    "        for particleID in range(gSwarm.particleCoordinates.data.shape[0]):\n",
    "            check = update_swarm(DG, particleID)\n",
    "            if check > -1:\n",
    "                number_updated += 1\n",
    "                #if check == 0:\n",
    "                #    print \"from \" + str(materialVariable.data[particleID]) + \" to \" + str(check)\n",
    "                materialVariable.data[particleID] = check\n",
    "            else:\n",
    "                pass\n",
    "        #Also update those integration swarms\n",
    "        rockIntVar.data[:] = 0.\n",
    "        notair = np.where(materialVariable.data != airIndex)\n",
    "        rockIntVar.data[notair] = 1.\n",
    "        airIntVar.data[:] = 0.\n",
    "        notrock = np.where(materialVariable.data == airIndex)\n",
    "        airIntVar.data[notrock] = 1.\n",
    "        lithIntVar.data[:] = 0.\n",
    "        islith = np.where((materialVariable.data == lithosphereIndex) | (materialVariable.data == crustIndex))\n",
    "        lithIntVar.data[islith] = 1.\n",
    "        dummyIntVar.data[notrock] = 1e10 \n",
    "\n",
    "    ################            \n",
    "    # Calculate the Metrics, only on 1 of the processors:\n",
    "    ################\n",
    "    if (step % metric_output == 0):\n",
    "        ###############\n",
    "        #Swarm - based Metrics\n",
    "        ###############\n",
    "        tempVariable.data[:] = temperatureField.evaluate(gSwarm)[:]\n",
    "        Avg_temp = avg_temp()\n",
    "        Rms = rms()\n",
    "        Gravwork = gravwork(dwint)\n",
    "        Viscdis = viscdis(vdint)\n",
    "        Viscdisair = viscdis(vdintair)\n",
    "        Viscdislith = viscdis(vdintlith)\n",
    "        etamax, etamin = visc_extr(viscosityMapFn)\n",
    "        #These are the ones that need mpi4py treatment\n",
    "        Nu0loc = nusselt(temperatureField, baseintswarm, dx)\n",
    "        Nu1loc = nusselt(temperatureField, surfintswarm, dx)\n",
    "        Rmsurfloc = rms_surf(surfintswarm, dx)\n",
    "        Max_vx_surfloc = np.array(max_vx_surf(velocityField, surfintswarm),'d') #This float needed to be an array to play with mpi4py\n",
    "        #Setup the global output arrays\n",
    "        dTp = Nu0loc.dtype\n",
    "        Nu0glob = np.array(0, dtype=dTp)\n",
    "        dTp = Nu1loc.dtype\n",
    "        Nu1glob = np.array(0, dtype=dTp)\n",
    "        dTp = Rmsurfloc.dtype\n",
    "        Rmsurfglob = np.array(0, dtype=dTp)\n",
    "        dTp = Max_vx_surfloc.dtype\n",
    "        Max_vx_surfglob = np.array(0.0,dtype=dTp)\n",
    "        #ignore_stress = fn_minmax_stress.evaluate(gSwarm)\n",
    "        Avg_stress = avg_lith_stress()\n",
    "        Max_stress_rock = stress_max(rockstress)\n",
    "        Max_stress_lith = stress_max(lithstress)\n",
    "        #Do global operation ... sum, or max\n",
    "        comm.Allreduce(Nu0loc, Nu0glob, op=MPI.SUM)\n",
    "        comm.Allreduce(Nu1loc, Nu1glob, op=MPI.SUM)\n",
    "        comm.Allreduce(Rmsurfloc, Rmsurfglob, op=MPI.SUM)\n",
    "        comm.Allreduce([Max_vx_surfloc, MPI.DOUBLE],[Max_vx_surfglob, MPI.DOUBLE],op=MPI.MAX)      \n",
    "        # output to summary text file\n",
    "        if uw.rank()==0:\n",
    "            f_o.write((16*'%-16s ' + '\\n') % (realtime, Viscdis, float(Nu0glob), float(Nu1glob), Avg_temp, \n",
    "                                              Rms,Rmsurfglob,Max_vx_surfglob,Gravwork, etamax, etamin, \n",
    "                                              Viscdisair, Viscdislith,Avg_stress, Max_stress_rock, Max_stress_lith))\n",
    "        #test = max_vx_surf(velocityField, surfintswarm)    \n",
    "        #if uw.rank()==0:\n",
    "         #   print(Rmsurfglob,MRms_surf, Max_vx_surfglob, MMax_vx_surf, etamax, Metamax)\n",
    "        #print(Rmsurfloc, test)\n",
    "    ################\n",
    "    #Gldb output\n",
    "    ################ \n",
    "    if (step % gldbs_output == 0) & (writeFiles == True):\n",
    "        #Rebuild any necessary swarm variables\n",
    "        viscVariable.data[:] = viscosityMapFn.evaluate(gSwarm)\n",
    "        #Write gldbs\n",
    "        fnamedb = \"dbFig\" + \"_\" + str(ModIt) + \"_\" + str(step) + \".gldb\"\n",
    "        fullpath = os.path.join(outputPath + \"gldbs/\" + fnamedb)\n",
    "        figDb.show()\n",
    "        figDb.save_database(fullpath)\n",
    "    ################\n",
    "    #Also repopulate entire swarm periodically\n",
    "    ################\n",
    "    if step % swarm_repop == 0:\n",
    "        pics.repopulate()\n",
    "    ################\n",
    "    #Checkpoint\n",
    "    ################\n",
    "    if step % checkpoint_every == 0:\n",
    "        if uw.rank() == 0:\n",
    "            checkpoint1(step, checkpointPath,f_o, metric_output)           \n",
    "        checkpoint2(step, checkpointPath, gSwarm, f_o, varlist = varlist, varnames = varnames)\n",
    "        f_o = open(os.path.join(outputPath, outputFile), 'a') #is this line supposed to be here?\n",
    "     \n",
    "    \n",
    "f_o.close()\n",
    "#print 'step =',step, '; dt =', dt, '; CPU time =', time.clock()-startMain"
   ]
  },
  {
   "cell_type": "code",
   "execution_count": null,
   "metadata": {
    "collapsed": false
   },
   "outputs": [],
   "source": [
    "#avg_temp(), areaint.evaluate()[0]"
   ]
  },
  {
   "cell_type": "code",
   "execution_count": null,
   "metadata": {
    "collapsed": false
   },
   "outputs": [],
   "source": [
    "varnames"
   ]
  },
  {
   "cell_type": "code",
   "execution_count": null,
   "metadata": {
    "collapsed": false
   },
   "outputs": [],
   "source": [
    "#figEta = glucifer.Figure(figsize=(1024,384))\n",
    "#figEta.append( glucifer.objects.Points(gSwarm,viscVariable, logScale=True))\n",
    "#figEta.save_database('test.gldb')\n",
    "#figEta.show()\n",
    "\n"
   ]
  },
  {
   "cell_type": "code",
   "execution_count": 200,
   "metadata": {
    "collapsed": false
   },
   "outputs": [],
   "source": [
    "\n",
    "figMat = glucifer.Figure()\n",
    "figMat.append( glucifer.objects.Points(gSwarm,materialVariable, colours='brown white blue red black'))\n",
    "\n",
    "figMat.show()\n",
    "figMat.save_database('test.gldb')\n",
    "#valueRange=None"
   ]
  },
  {
   "cell_type": "code",
   "execution_count": null,
   "metadata": {
    "collapsed": false
   },
   "outputs": [],
   "source": [
    "\n",
    "figMat = glucifer.Figure()\n",
    "figMat.append( glucifer.objects.Points(gSwarm,densityMapFn, logScale=True,))\n",
    "\n",
    "figMat.show()\n",
    "figMat.save_database('test.gldb')\n",
    "#valueRange=None,"
   ]
  },
  {
   "cell_type": "code",
   "execution_count": null,
   "metadata": {
    "collapsed": false
   },
   "outputs": [],
   "source": [
    "#figMat = glucifer.Figure()\n",
    "#figMat.append( glucifer.objects.Points(gSwarm,rockIntVar))\n",
    "#figMat.append( glucifer.objects.Points(gSwarm,rockIntVar, pointSize= 5.))\n",
    "#figMat.append( glucifer.objects.Mesh(mesh))\n",
    "#figMat.save_database('test.gldb')\n",
    "#figMat.show()"
   ]
  },
  {
   "cell_type": "code",
   "execution_count": 152,
   "metadata": {
    "collapsed": false
   },
   "outputs": [],
   "source": [
    "figDb.show()\n",
    "figDb.save_database('test.gldb')"
   ]
  },
  {
   "cell_type": "code",
   "execution_count": null,
   "metadata": {
    "collapsed": false
   },
   "outputs": [],
   "source": [
    "#figStrainRate = glucifer.Figure()\n",
    "#figStrainRate.append( glucifer.objects.Surface(mesh, strainRate_2ndInvariant, logScale=True))\n",
    "#figStrainRate.show()\n",
    "#figStrainRate.save_database('test.gldb')\n"
   ]
  },
  {
   "cell_type": "code",
   "execution_count": null,
   "metadata": {
    "collapsed": false
   },
   "outputs": [],
   "source": [
    "machine_time = (time.clock()-startMain)\n",
    "print(\"total machine time is: \" + str(machine_time))"
   ]
  },
  {
   "cell_type": "code",
   "execution_count": null,
   "metadata": {
    "collapsed": true
   },
   "outputs": [],
   "source": [
    "print(\"dimensionless time is: \" + str(realtime))"
   ]
  },
  {
   "cell_type": "code",
   "execution_count": null,
   "metadata": {
    "collapsed": false
   },
   "outputs": [],
   "source": [
    "velocityField.evaluate(IWalls)[:,0].max()"
   ]
  },
  {
   "cell_type": "code",
   "execution_count": null,
   "metadata": {
    "collapsed": false
   },
   "outputs": [],
   "source": [
    "#velocityField.evaluate(TWalls)[:,0].max()"
   ]
  },
  {
   "cell_type": "markdown",
   "metadata": {},
   "source": [
    "# Test checkpoint bug"
   ]
  }
 ],
 "metadata": {
  "kernelspec": {
   "display_name": "Python 2",
   "language": "python",
   "name": "python2"
  },
  "language_info": {
   "codemirror_mode": {
    "name": "ipython",
    "version": 2
   },
   "file_extension": ".py",
   "mimetype": "text/x-python",
   "name": "python",
   "nbconvert_exporter": "python",
   "pygments_lexer": "ipython2",
   "version": "2.7.11"
  }
 },
 "nbformat": 4,
 "nbformat_minor": 0
}
