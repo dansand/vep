{
 "cells": [
  {
   "cell_type": "markdown",
   "metadata": {
    "collapsed": true
   },
   "source": [
    "# Thermal slabs with a visco-elastic-plastic core\n",
    "\n"
   ]
  },
  {
   "cell_type": "markdown",
   "metadata": {},
   "source": [
    "Load python functions needed for underworld. Some additional python functions from os, math and numpy used later on."
   ]
  },
  {
   "cell_type": "code",
   "execution_count": 2,
   "metadata": {
    "collapsed": false
   },
   "outputs": [],
   "source": [
    "#!pip install natsort\n",
    "#!pip install networkx"
   ]
  },
  {
   "cell_type": "code",
   "execution_count": 3,
   "metadata": {
    "collapsed": false
   },
   "outputs": [],
   "source": [
    "import networkx as nx\n",
    "import underworld as uw\n",
    "import math\n",
    "from underworld import function as fn\n",
    "import glucifer\n",
    "#import matplotlib.pyplot as pyplot\n",
    "import time\n",
    "import numpy as np\n",
    "import os\n",
    "import sys\n",
    "import natsort\n",
    "import shutil\n",
    "from easydict import EasyDict as edict\n",
    "import slippy2 as sp\n",
    "from slippy2 import unit_conversions\n",
    "from slippy2 import boundary_layer2d\n",
    "\n",
    "\n",
    "\n",
    "from mpi4py import MPI\n",
    "comm = MPI.COMM_WORLD\n",
    "rank = comm.Get_rank()"
   ]
  },
  {
   "cell_type": "code",
   "execution_count": null,
   "metadata": {
    "collapsed": true
   },
   "outputs": [],
   "source": []
  },
  {
   "cell_type": "markdown",
   "metadata": {
    "collapsed": true
   },
   "source": [
    "def mpy_to_kmpma(mpy):\n",
    "    \"\"\"\n",
    "    convert meters per year to kilometers per year\n",
    "    Args:\n",
    "        mpy (float): velocity in meters per year\n",
    "    Returns:\n",
    "        velocity in kilometers per year\n",
    "    Raises:\n",
    "        TypeError: not implemented\n",
    "        ValueError: not implemented\n",
    "    \"\"\"\n",
    "    return 1e3*mpy\n",
    "\n",
    "def myts(mys):\n",
    "    \"\"\"\n",
    "    convert millions of years to seconds\n",
    "    Args:\n",
    "        mys (float): millions or years\n",
    "    Returns:\n",
    "        seconds\n",
    "    Raises:\n",
    "        TypeError: not implemented\n",
    "        ValueError: not implemented\n",
    "    \"\"\"\n",
    "    secs = mys*(3600.*24*365)*1e6\n",
    "    return secs\n",
    "\n",
    "def stmy(secs):\n",
    "    \"\"\"\n",
    "    convert millions of years to seconds\n",
    "    Args:\n",
    "        mys (float): millions or years\n",
    "    Returns:\n",
    "        seconds\n",
    "    Raises:\n",
    "        TypeError: not implemented\n",
    "        ValueError: not implemented\n",
    "    \"\"\"\n",
    "    myr = secs/((3600.*24*365)*1e6)\n",
    "    return myr"
   ]
  },
  {
   "cell_type": "code",
   "execution_count": 4,
   "metadata": {
    "collapsed": false,
    "scrolled": true
   },
   "outputs": [
    {
     "name": "stdout",
     "output_type": "stream",
     "text": [
      "/Users/dansandiford/Documents/programming/earthsci_code/python/vep\r\n",
      "Peterson.ipynb      Untitled.ipynb      base_model.py\r\n",
      "Peterson.py         adv-diff-slab.ipynb \u001b[1m\u001b[34mresults\u001b[m\u001b[m\r\n",
      "README.md           base_model.ipynb    test.gldb\r\n"
     ]
    }
   ],
   "source": [
    "#Display working directory info if in nb mode\n",
    "if (len(sys.argv) > 1):\n",
    "    if (sys.argv[1] == '-f'):\n",
    "        !pwd && ls"
   ]
  },
  {
   "cell_type": "code",
   "execution_count": 5,
   "metadata": {
    "collapsed": false
   },
   "outputs": [],
   "source": [
    "############\n",
    "#Model name.  \n",
    "############\n",
    "Model = \"5\"\n",
    "ModNum = 1\n",
    "\n",
    "if len(sys.argv) == 1:\n",
    "    ModIt = \"Base\"\n",
    "elif sys.argv[1] == '-f':\n",
    "    ModIt = \"Base\"\n",
    "else:\n",
    "    ModIt = str(sys.argv[1])\n"
   ]
  },
  {
   "cell_type": "code",
   "execution_count": 6,
   "metadata": {
    "collapsed": true
   },
   "outputs": [],
   "source": [
    "###########\n",
    "#Standard output directory setup\n",
    "###########\n",
    "\n",
    "\n",
    "outputPath = \"results\" + \"/\" +  str(Model) + \"/\" + str(ModNum) + \"/\" + str(ModIt) + \"/\"\n",
    "imagePath = outputPath + 'images/'\n",
    "filePath = outputPath + 'files/'\n",
    "checkpointPath = outputPath + 'checkpoint/'\n",
    "dbPath = outputPath + 'gldbs/'\n",
    "outputFile = 'results_model' + Model + '_' + str(ModNum) + '_' + str(ModIt) + '.dat'\n",
    "\n",
    "if uw.rank()==0:\n",
    "    # make directories if they don't exist\n",
    "    if not os.path.isdir(outputPath):\n",
    "        os.makedirs(outputPath)\n",
    "    if not os.path.isdir(checkpointPath):\n",
    "        os.makedirs(checkpointPath)\n",
    "    if not os.path.isdir(imagePath):\n",
    "        os.makedirs(imagePath)\n",
    "    if not os.path.isdir(dbPath):\n",
    "        os.makedirs(dbPath)\n",
    "    if not os.path.isdir(filePath):\n",
    "        os.makedirs(filePath)\n",
    "        \n",
    "comm.Barrier() #Barrier here so not procs run the check in the next cell too early "
   ]
  },
  {
   "cell_type": "code",
   "execution_count": 7,
   "metadata": {
    "collapsed": false
   },
   "outputs": [
    {
     "name": "stdout",
     "output_type": "stream",
     "text": [
      "results/5/1/Base/checkpoint/ is empty\n"
     ]
    }
   ],
   "source": [
    "###########\n",
    "#Check if starting from checkpoint\n",
    "###########\n",
    "\n",
    "checkdirs = []\n",
    "for dirpath, dirnames, files in os.walk(checkpointPath):\n",
    "    if files:\n",
    "        print dirpath, 'has files'\n",
    "        checkpointLoad = True\n",
    "        checkdirs.append(dirpath)\n",
    "    if not files:\n",
    "        print dirpath, 'is empty'\n",
    "        checkpointLoad = False\n",
    "        \n",
    "\n",
    "        "
   ]
  },
  {
   "cell_type": "markdown",
   "metadata": {},
   "source": [
    "Set physical constants and parameters, including the Rayleigh number (*RA*). "
   ]
  },
  {
   "cell_type": "code",
   "execution_count": null,
   "metadata": {
    "collapsed": false
   },
   "outputs": [],
   "source": []
  },
  {
   "cell_type": "code",
   "execution_count": 8,
   "metadata": {
    "collapsed": false
   },
   "outputs": [],
   "source": [
    "###########\n",
    "#Physical parameters\n",
    "###########\n",
    "\n",
    "#The Slippy rheology class will contain dimensional and nondimensional values, linked in a self-consistent way by scaling paramters\n",
    "#lowermantle.nondimensional['cohesion']\n",
    "#Where lowermantle is a material class (generated within a rheology class); and non dimensional is a dictionary\n",
    "\n",
    "#UW naming conventions: \n",
    "#module_name, package_name, ClassName, function_name, method_name, \n",
    "#ExceptionName, propertyName GLOBAL_CONSTANT_NAME, globalVarName, instanceVarName, functionParameterName, localVarName\n",
    "###########\n",
    "\n",
    "\n",
    "#dimensional parameter dictionary\n",
    "dp = edict({'LS':700.*1e3,\n",
    "           'rho':3300,\n",
    "           'g':9.81, \n",
    "           'eta0':1e23,\n",
    "           'k':10**-6,\n",
    "           'a':1.25*10**-5, \n",
    "           'TS':200.,\n",
    "           'TB':200 + 1703.,\n",
    "           'deltaT':1703., \n",
    "           'cohesion':1e7, \n",
    "           'E':240000., \n",
    "           'R':8.314,\n",
    "           'V':6.34*(10**-7),\n",
    "           'StALS': 100.*1e3})\n",
    "\n",
    "#non-dimensional parameter dictionary\n",
    "#One draw back of a dictionary structure, is that variables cannot link to other variables\n",
    "RAfac = 8.4\n",
    "Stressfac =(RAfac**(2/3.))\n",
    "ndp = edict({'RA':1e6*RAfac,      \n",
    "              'LS':1.,\n",
    "              'eta0':1.,\n",
    "              'StAeta0':0.01,\n",
    "              'k':1.,\n",
    "              'E':11.55,\n",
    "              'V':3.0,\n",
    "              'H':20.,\n",
    "              'TR':(1600./1600.),\n",
    "              'TR':(dp.TB/1600.),\n",
    "              'TS':(dp.TS/1600.),\n",
    "              'RD':1.,\n",
    "              'cohesion':3430.,\n",
    "              'cohesion_reduce':10.,\n",
    "              'fc':0.5, \n",
    "              'low_visc':1e-2,\n",
    "              'up_visc':1e3,\n",
    "              'random_temp': 0.05})\n",
    "\n",
    "\n",
    "#A few parameters defining lengths scales, affects materal transistions etc.\n",
    "MANTLETOCRUST = (16.*1e3)/dp.LS #Crust depth\n",
    "CRUSTTOMANTLE = (900.*1e3)/dp.LS \n",
    "LITHTOMANTLE = (900.*1e3)/dp.LS \n",
    "MANTLETOLITH = (200.*1e3)/dp.LS \n",
    "TOPOHEIGHT = (0.*1e3)/dp.LS  #rock-air topography limits\n",
    "CRUSTTOECL  = (100.*1e3)/dp.LS\n",
    "AVGTEMP = 0.53 #Used to define lithosphere\n",
    "\n",
    "\n",
    "#Switch on additinal physical mechanisms like crust buoyancy, eclogite buoyancy, lower mantle viscosity, melt viscosity reduction \n",
    "\n",
    "crust_buoyancy = True\n",
    "ecl_buoyancy = True\n",
    "lower_mantle = True\n",
    "melt_viscosity_reduction= True\n",
    "\n",
    "\n",
    "#Compositional Rayliegh numbers for air, crust, ecglogite\n",
    "ETAREF = dp.rho*dp.g*dp.a*dp.deltaT*((dp.LS)**3)/(ndp.RA*dp.k) #equivalent dimensional reference viscosity\n",
    "#RC = (3300.*dp.g*(dp.LS)**3)/(ETAREF *dp.k) #Composisitional Rayleigh number for rock-air buoyancy force\n",
    "RCA = (1650.*dp.g*(dp.LS)**3)/(ETAREF *dp.k) #Composisitional Rayleigh number for rock-air buoyancy force\n",
    "COMP_RA_FACT_AIR = RCA/ndp.RA\n",
    "RCC = (100.*dp.g*(dp.LS)**3)/(ETAREF *dp.k) #Composisitional Rayleigh number for crust\n",
    "COMP_RA_FACT_CRUST = RCC/ndp.RA\n",
    "RCE = -1*(200.*dp.g*(dp.LS)**3)/(ETAREF *dp.k) #Composisitional Rayleigh number for eclogite \n",
    "COMP_RA_FACT_ECL = RCE/ndp.RA\n",
    "ndp[\"StA_RA\"] = ndp.RA*COMP_RA_FACT_AIR\n",
    "if crust_buoyancy:\n",
    "    ndp[\"Crust_RA\"] = ndp.RA*COMP_RA_FACT_CRUST\n",
    "else:\n",
    "    ndp[\"Crust_RA\"] = 0.\n",
    "if ecl_buoyancy:\n",
    "    ndp[\"Ecl_RA\"] = ndp.RA*COMP_RA_FACT_ECL\n",
    "else:\n",
    "    ndp[\"Ecl_RA\"] = 0.\n",
    "    \n",
    "\n",
    "\n",
    "#######################To be replaced soon\n",
    "#Physical parameters that can be defined with STDIN,\n",
    "#The == '-f': check is a a hack check to see cover the notebook case\n",
    "if len(sys.argv) == 1:\n",
    "    ndp.cohesion = ndp.cohesion\n",
    "elif sys.argv[1] == '-f':\n",
    "    ndp.cohesion = ndp.cohesion\n",
    "else:\n",
    "    ndp.cohesion = float(sys.argv[1])*newvisc"
   ]
  },
  {
   "cell_type": "code",
   "execution_count": 9,
   "metadata": {
    "collapsed": false
   },
   "outputs": [
    {
     "data": {
      "text/plain": [
       "3430.0"
      ]
     },
     "execution_count": 9,
     "metadata": {},
     "output_type": "execute_result"
    }
   ],
   "source": [
    "cohes = (7e6*(dp.LS)**2)/(dp.k*1e21)\n",
    "cohes"
   ]
  },
  {
   "cell_type": "code",
   "execution_count": 10,
   "metadata": {
    "collapsed": false
   },
   "outputs": [],
   "source": [
    "###########\n",
    "#Boundary layer / slab paramaters\n",
    "###########\n",
    "\n",
    "subzone = (2. - 1.2857)\n",
    "mor = 0.5\n",
    "vel = 20e3\n",
    "agelimit = False\n",
    "thermallimit = False\n",
    "\n",
    "#Slab perturbation paramaters\n",
    "Roc = 400.\n",
    "Crust = 35.\n",
    "theta = 60.\n"
   ]
  },
  {
   "cell_type": "code",
   "execution_count": 11,
   "metadata": {
    "collapsed": false
   },
   "outputs": [],
   "source": [
    "#900e3/dp.LS"
   ]
  },
  {
   "cell_type": "code",
   "execution_count": 12,
   "metadata": {
    "collapsed": false
   },
   "outputs": [],
   "source": [
    "#(64*3)/2/2"
   ]
  },
  {
   "cell_type": "code",
   "execution_count": 13,
   "metadata": {
    "collapsed": false
   },
   "outputs": [],
   "source": [
    "###########\n",
    "#Model setup parameters\n",
    "###########\n",
    "\n",
    "stickyAir = True\n",
    "\n",
    "MINX = -2.\n",
    "MINY = 0.\n",
    "MAXX = 2.0\n",
    "\n",
    "#MAXY = 1.035\n",
    "MAXY = 1.\n",
    "\n",
    "if MINX == 0.:\n",
    "    squareModel = True\n",
    "else: \n",
    "    squareModel = False\n",
    "    \n",
    "    \n",
    "dim = 2          # number of spatial dimensions\n",
    "\n",
    "\n",
    "#MESH STUFF\n",
    "\n",
    "RES = 64\n",
    "\n",
    "\n",
    "if MINX == 0.:\n",
    "    Xres = RES\n",
    "else:\n",
    "    Xres = 4*RES\n",
    "\n",
    "if stickyAir:\n",
    "    Yres = RES\n",
    "    MAXY = 1. + dp.StALS/dp.LS #150km\n",
    "    \n",
    "else:\n",
    "    Yres = RES\n",
    "    MAXY = 1.\n",
    "\n",
    "\n",
    "periodic = [True, False]\n",
    "elementType = \"Q1/dQ0\"\n",
    "#elementType =\"Q2/DPC1\"\n",
    "\n",
    "refineMesh = False\n",
    "\n",
    "\n",
    "#System/Solver stuff\n",
    "\n",
    "PIC_integration=True\n",
    "ppc = 25"
   ]
  },
  {
   "cell_type": "code",
   "execution_count": 14,
   "metadata": {
    "collapsed": false
   },
   "outputs": [],
   "source": [
    "###########\n",
    "#Model Runtime parameters\n",
    "###########\n",
    "\n",
    "swarm_update = 10\n",
    "swarm_repop = 25\n",
    "files_output = 1e6\n",
    "gldbs_output = 5\n",
    "images_output = 1e6\n",
    "checkpoint_every = 25\n",
    "metric_output = 25\n",
    "sticky_air_temp = 10\n",
    "\n",
    "comm.Barrier() #Barrier here so not procs run the check in the next cell too early \n",
    "\n",
    "assert metric_output <= checkpoint_every, 'Checkpointing should run less or as ofen as metric output'\n",
    "#assert (metric_output >= swarm_update), 'Swarm update is needed before checkpointing'\n",
    "#assert metric_output >= sticky_air_temp, 'Sticky air temp should be updated more frequently that metrics'\n"
   ]
  },
  {
   "cell_type": "code",
   "execution_count": 15,
   "metadata": {
    "collapsed": false
   },
   "outputs": [],
   "source": [
    "###########\n",
    "#Model output parameters\n",
    "###########\n",
    "\n",
    "#Do you want to write hdf5 files - Temp, RMS, viscosity, stress?\n",
    "writeFiles = True\n",
    "loadTemp = True\n",
    "\n",
    "    "
   ]
  },
  {
   "cell_type": "code",
   "execution_count": 16,
   "metadata": {
    "collapsed": false
   },
   "outputs": [],
   "source": [
    "mesh = uw.mesh.FeMesh_Cartesian( elementType = elementType,\n",
    "                                 elementRes  = (Xres, Yres), \n",
    "                                 minCoord    = (MINX,MINY), \n",
    "                                 maxCoord=(MAXX,MAXY), periodic=periodic)\n",
    "\n",
    "\n",
    "\n",
    "velocityField       = uw.mesh.MeshVariable( mesh=mesh,         nodeDofCount=dim )\n",
    "pressureField       = uw.mesh.MeshVariable( mesh=mesh.subMesh, nodeDofCount=1 )\n",
    "temperatureField    = uw.mesh.MeshVariable( mesh=mesh,         nodeDofCount=1 )\n",
    "temperatureDotField = uw.mesh.MeshVariable( mesh=mesh,         nodeDofCount=1 )"
   ]
  },
  {
   "cell_type": "code",
   "execution_count": 17,
   "metadata": {
    "collapsed": false
   },
   "outputs": [
    {
     "data": {
      "text/plain": [
       "(256, -2.0, [True, False], 'Q1/dQ0')"
      ]
     },
     "execution_count": 17,
     "metadata": {},
     "output_type": "execute_result"
    }
   ],
   "source": [
    "Xres, MINX, periodic, elementType"
   ]
  },
  {
   "cell_type": "markdown",
   "metadata": {},
   "source": [
    "Create Finite Element (FE) variables for the velocity, pressure and temperature fields. The last two of these are scalar fields needing only one value at each mesh point, while the velocity field contains a vector of *dim* dimensions at each mesh point."
   ]
  },
  {
   "cell_type": "markdown",
   "metadata": {},
   "source": [
    "Create some dummy fevariables for doing top and bottom boundary calculations."
   ]
  },
  {
   "cell_type": "markdown",
   "metadata": {},
   "source": [
    "## Refine mesh"
   ]
  },
  {
   "cell_type": "code",
   "execution_count": 18,
   "metadata": {
    "collapsed": false
   },
   "outputs": [],
   "source": [
    "#X-Axis\n",
    "\n",
    "if refineMesh:\n",
    "    mesh.reset()\n",
    "    axis = 0\n",
    "    origcoords = np.linspace(mesh.minCoord[axis], mesh.maxCoord[axis], mesh.elementRes[axis] + 1)\n",
    "    edge_rest_lengths = np.diff(origcoords)\n",
    "\n",
    "    deform_lengths = edge_rest_lengths.copy()\n",
    "    min_point =  (abs(mesh.maxCoord[axis]) - abs(mesh.minCoord[axis]))/2.\n",
    "    el_reduction = 0.5001\n",
    "    dx = mesh.maxCoord[axis] - min_point\n",
    "\n",
    "    deform_lengths = deform_lengths - \\\n",
    "                                    ((1.-el_reduction) *deform_lengths[0]) + \\\n",
    "                                    abs((origcoords[1:] - min_point))*((0.5*deform_lengths[0])/dx)\n",
    "\n",
    "    #print(edge_rest_lengths.shape, deform_lengths.shape)\n",
    "\n",
    "    sp.deform_1d(deform_lengths, mesh,axis = 'x',norm = 'Min', constraints = [])"
   ]
  },
  {
   "cell_type": "code",
   "execution_count": 19,
   "metadata": {
    "collapsed": false
   },
   "outputs": [],
   "source": [
    "axis = 1\n",
    "orgs = np.linspace(mesh.minCoord[axis], mesh.maxCoord[axis], mesh.elementRes[axis] + 1)\n",
    "\n",
    "value_to_constrain = 1.\n",
    "\n",
    "\n",
    "yconst = [(sp.find_closest(orgs, value_to_constrain), np.array([1.,0]))]\n"
   ]
  },
  {
   "cell_type": "code",
   "execution_count": 20,
   "metadata": {
    "collapsed": false
   },
   "outputs": [],
   "source": [
    "#Y-Axis\n",
    "if refineMesh:\n",
    "    #Y-Axis\n",
    "    axis = 1\n",
    "    origcoords = np.linspace(mesh.minCoord[axis], mesh.maxCoord[axis], mesh.elementRes[axis] + 1)\n",
    "    edge_rest_lengths = np.diff(origcoords)\n",
    "\n",
    "    deform_lengths = edge_rest_lengths.copy()\n",
    "    min_point =  (mesh.maxCoord[axis])\n",
    "    el_reduction = 0.5001\n",
    "    dx = mesh.maxCoord[axis]\n",
    "\n",
    "    deform_lengths = deform_lengths - \\\n",
    "                                    ((1.-el_reduction)*deform_lengths[0]) + \\\n",
    "                                    abs((origcoords[1:] - min_point))*((0.5*deform_lengths[0])/dx)\n",
    "\n",
    "    #print(edge_rest_lengths.shape, deform_lengths.shape)\n",
    "\n",
    "    sp.deform_1d(deform_lengths, mesh,axis = 'y',norm = 'Min', constraints = yconst)"
   ]
  },
  {
   "cell_type": "markdown",
   "metadata": {},
   "source": [
    "# ICs and BCs"
   ]
  },
  {
   "cell_type": "code",
   "execution_count": 21,
   "metadata": {
    "collapsed": true
   },
   "outputs": [],
   "source": [
    "# Initialise data.. Note that we are also setting boundary conditions here\n",
    "velocityField.data[:] = [0.,0.]\n",
    "pressureField.data[:] = 0.\n",
    "temperatureField.data[:] = 0.\n",
    "temperatureDotField.data[:] = 0.\n"
   ]
  },
  {
   "cell_type": "markdown",
   "metadata": {},
   "source": [
    "## Temp ICs"
   ]
  },
  {
   "cell_type": "code",
   "execution_count": 23,
   "metadata": {
    "collapsed": false
   },
   "outputs": [],
   "source": [
    "#ndp.TR"
   ]
  },
  {
   "cell_type": "code",
   "execution_count": 22,
   "metadata": {
    "collapsed": false
   },
   "outputs": [],
   "source": [
    "#boundary_layer2d.agefunc(0.0, off, vel = vel, dom = (MINX,MAXX))\n",
    "\n",
    "lith= boundary_layer2d.LithosphereTemps(mesh, temperatureField, 2890e3, subzone,  tint=ndp.TR, vel= 10e3, diffs = 1e-6)\n",
    "\n",
    "\n",
    "#lith= boundary_layer2d.LithosphereTemps(mesh, temperatureField, dp.LS, subzone, mor, tint=0.8, vel=vel, diffs = 1e-6)\n",
    "\n"
   ]
  },
  {
   "cell_type": "code",
   "execution_count": 23,
   "metadata": {
    "collapsed": false
   },
   "outputs": [],
   "source": [
    "fudge = 1.\n",
    "\n",
    "thisage = 8\n",
    "\n",
    "for index, coord in enumerate(mesh.data):\n",
    "    xloc = coord[0]\n",
    "    agema = lith.agefunc(xloc)\n",
    "    #print agema\n",
    "    if agelimit:\n",
    "        agema = min(agelimit, agema)\n",
    "    if thermallimit:\n",
    "        if (1.-coord[1]) < (lith.lithdepthfunc(agema)/dp.LS)*thermallimit: #comparison of dimensionless (model) lengths\n",
    "            zloc = ((1.- coord[1])* dp.LS) # dimensional depth kms\n",
    "            t = lith.tempfunc(thisage,  zloc)\n",
    "            temperatureField.data[index] = t\n",
    "        else:\n",
    "            temperatureField.data[index] = lith.tint\n",
    "    \n",
    "    else:\n",
    "        if coord[1] > (1. - lith.lithdepthfunc(thisage)) and (coord[1] < 1.) and (coord[0] > (MAXX - (60e3/dp.LS))):\n",
    "            temperatureField.data[index] = lith.tint\n",
    "        elif coord[1] >= 1.:\n",
    "            temperatureField.data[index] = ndp.TS\n",
    "        else:\n",
    "            zloc = ((1.- coord[1])* dp.LS) # dimensional depth kms\n",
    "            if coord[0] < subzone:\n",
    "                t = lith.tempfunc(thisage/4., zloc)\n",
    "            else:\n",
    "                t = lith.tempfunc(thisage, zloc)\n",
    "            temperatureField.data[index] = t\n"
   ]
  },
  {
   "cell_type": "code",
   "execution_count": 24,
   "metadata": {
    "collapsed": false
   },
   "outputs": [
    {
     "data": {
      "text/plain": [
       "0.125"
      ]
     },
     "execution_count": 24,
     "metadata": {},
     "output_type": "execute_result"
    }
   ],
   "source": [
    "#thisage = 8.\n",
    "#lith.tempfunc(50., 150e3)\n",
    "lith.lithdepthfunc(thisage/4)\n",
    "ndp.TS"
   ]
  },
  {
   "cell_type": "markdown",
   "metadata": {},
   "source": [
    "## Slab perturbation"
   ]
  },
  {
   "cell_type": "code",
   "execution_count": 25,
   "metadata": {
    "collapsed": true
   },
   "outputs": [],
   "source": [
    "#testField    = uw.mesh.MeshVariable( mesh=mesh,         nodeDofCount=1 )\n",
    "#testField.data[:] = 0."
   ]
  },
  {
   "cell_type": "code",
   "execution_count": 26,
   "metadata": {
    "collapsed": false
   },
   "outputs": [],
   "source": [
    "def inCircleFnGenerator(centre, radius):\n",
    "    coord = fn.input()\n",
    "    offsetFn = coord - centre\n",
    "    return fn.math.dot( offsetFn, offsetFn ) < radius**2\n",
    "\n",
    "#Setup slab perturbation params (mostly dimensionles / model params here)\n",
    "phi = 90. - theta\n",
    "RocM = (Roc/dp.LS)*1e3\n",
    "CrustM = MANTLETOCRUST\n",
    "#slabdepth = lithdepthfunc(agefunc(off, off, vel), dp.k)\n",
    "slabdepthM = lith.lithdepthfunc(lith.agefunc(subzone)) /dp.LS\n",
    "#slabdepthM *= 5.\n",
    "Org = (0.+subzone, 1.-RocM)\n",
    "#Use three circles to define our slab and crust perturbation,  \n",
    "Oc = inCircleFnGenerator(Org , RocM)\n",
    "Gc = inCircleFnGenerator(Org , RocM + (50e3/dp.LS)) #a slightly larger circle for the 'gap'\n",
    "Ic = inCircleFnGenerator(Org , RocM - slabdepthM)\n",
    "Cc = inCircleFnGenerator(Org , RocM - CrustM)\n",
    "dx = (RocM)/(np.math.tan((np.math.pi/180.)*phi))\n",
    "\n",
    "#Work our which way the slab should face:\n",
    "sense = 'Left'\n",
    "#if lith.agefunc(subzone + 0.0001) < lith.agefunc(subzone - 0.0001):\n",
    "#    sense = 'Right'\n",
    "\n",
    "#We'll also create a triangle which will truncate the circles defining the slab...\n",
    "if sense == 'Left': \n",
    "    ptx = subzone - dx\n",
    "else:\n",
    "    ptx = subzone + dx\n",
    "\n",
    "coords = ((0.+subzone, 1), (0.+subzone, 1.-RocM), (ptx, 1.))\n",
    "Tri = fn.shape.Polygon(np.array(coords))\n"
   ]
  },
  {
   "cell_type": "code",
   "execution_count": 27,
   "metadata": {
    "collapsed": false
   },
   "outputs": [],
   "source": [
    "#Assign temperatures in the perturbation region\n",
    "#sds = []\n",
    "\n",
    "\n",
    "\n",
    "if sense == 'Left': \n",
    "    age = lith.agefunc(subzone + 0.001)\n",
    "else:\n",
    "    age = lith.agefunc(subzone - 0.001)\n",
    "    \n",
    "if agelimit:\n",
    "        age = min(agelim, age)\n",
    "\n",
    "for index, coord in enumerate(mesh.data):\n",
    "    #if Oc.evaluate(tuple(coord)) and Tri.evaluate(tuple(coord)) and not Ic.evaluate(tuple(coord)): #in inner circle, not in outer circle\n",
    "    if Gc.evaluate(tuple(coord)) and Tri.evaluate(tuple(coord)) and not Oc.evaluate(tuple(coord)):\n",
    "        temperatureField.data[index] = lith.tint\n",
    "    \n",
    "    elif Oc.evaluate(tuple(coord)) and Tri.evaluate(tuple(coord)): #In the quarter-circle defining the lithosphere\n",
    "\n",
    "        sd = ((RocM - math.sqrt((coord[0] - Org[0])**2 + (coord[1] - Org[1])**2))*dp.LS) #distance from slab edge in m\n",
    "        #print sd\n",
    "        if thermallimit:\n",
    "            if sd < (thisage)*thermallimit: #comparison of dimensionless (model) lengths\n",
    "                t = lith.tempfunc(age, sd)\n",
    "                temperatureField.data[index] = t\n",
    "        else:\n",
    "            t = lith.tempfunc(thisage, sd)\n",
    "            temperatureField.data[index] = t"
   ]
  },
  {
   "cell_type": "code",
   "execution_count": 28,
   "metadata": {
    "collapsed": false
   },
   "outputs": [
    {
     "data": {
      "text/html": [
       "<img src='data:image/png;base64,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'>"
      ],
      "text/plain": [
       "<IPython.core.display.HTML object>"
      ]
     },
     "execution_count": 28,
     "metadata": {},
     "output_type": "execute_result"
    }
   ],
   "source": [
    "figTemp = glucifer.Figure()\n",
    "figTemp.append( glucifer.objects.Surface(mesh, temperatureField, colours = 'red blue green'))\n",
    "#figTemp.append( glucifer.objects.Mesh(mesh))\n",
    "figTemp.save_database('test.gldb')\n",
    "figTemp.show()"
   ]
  },
  {
   "cell_type": "code",
   "execution_count": 29,
   "metadata": {
    "collapsed": false
   },
   "outputs": [],
   "source": [
    "\n",
    "#import matplotlib.pyplot as pyplot\n",
    "#%matplotlib inline\n",
    "#pyplot.imshow(np.flipud(temperatureField.data.reshape(64 + 1, 256 + 1)))"
   ]
  },
  {
   "cell_type": "code",
   "execution_count": 30,
   "metadata": {
    "collapsed": false
   },
   "outputs": [
    {
     "data": {
      "text/plain": [
       "0.02172696760154505"
      ]
     },
     "execution_count": 30,
     "metadata": {},
     "output_type": "execute_result"
    }
   ],
   "source": [
    "temperatureField.data.min()"
   ]
  },
  {
   "cell_type": "code",
   "execution_count": 31,
   "metadata": {
    "collapsed": false
   },
   "outputs": [],
   "source": [
    "# Get the actual sets \n",
    "#\n",
    "#  HJJJJJJH\n",
    "#  I      I\n",
    "#  I      I\n",
    "#  I      I\n",
    "#  HJJJJJJH\n",
    "#  \n",
    "#  Note that H = I & J \n",
    "\n",
    "# Note that we use operator overloading to combine sets\n",
    "# send boundary condition information to underworld\n",
    "IWalls = mesh.specialSets[\"MinI_VertexSet\"] + mesh.specialSets[\"MaxI_VertexSet\"]\n",
    "JWalls = mesh.specialSets[\"MinJ_VertexSet\"] + mesh.specialSets[\"MaxJ_VertexSet\"]\n",
    "TWalls = mesh.specialSets[\"MaxJ_VertexSet\"]\n",
    "BWalls = mesh.specialSets[\"MinJ_VertexSet\"]"
   ]
  },
  {
   "cell_type": "code",
   "execution_count": null,
   "metadata": {
    "collapsed": false
   },
   "outputs": [],
   "source": []
  },
  {
   "cell_type": "code",
   "execution_count": 32,
   "metadata": {
    "collapsed": false
   },
   "outputs": [],
   "source": [
    "#Set Dirichlet Temp conditions\n",
    "\n",
    "for index in mesh.specialSets[\"MinJ_VertexSet\"]:\n",
    "    temperatureField.data[index] = ndp.TR\n",
    "for index in mesh.specialSets[\"MaxJ_VertexSet\"]:\n",
    "    temperatureField.data[index] = ndp.TS\n",
    "\n",
    "\n",
    "# Now setup the dirichlet boundary condition\n",
    "# Note that through this object, we are flagging to the system \n",
    "# that these nodes are to be considered as boundary conditions. \n",
    "# Also note that we provide a tuple of sets.. One for the Vx, one for Vy.\n",
    "freeslipBC = uw.conditions.DirichletCondition(     variable=velocityField, \n",
    "                                              indexSetsPerDof=(None, JWalls) )\n",
    "\n",
    "# also set dirichlet for temp field\n",
    "dirichTempBC = uw.conditions.DirichletCondition(     variable=temperatureField, \n",
    "                                              indexSetsPerDof=(JWalls,) )\n",
    "\n",
    "\n",
    "#dT_dy = [0.,0.]\n",
    "\n",
    "# also set dirichlet for temp field\n",
    "#neumannTempBC = uw.conditions.NeumannCondition( dT_dy, variable=temperatureField, \n",
    "#                                         indexSetsPerDof=BWalls)"
   ]
  },
  {
   "cell_type": "code",
   "execution_count": 33,
   "metadata": {
    "collapsed": false
   },
   "outputs": [],
   "source": [
    "#temperatureField.data[TWalls.data].max()"
   ]
  },
  {
   "cell_type": "markdown",
   "metadata": {},
   "source": [
    "##Add Random 125 K temp perturbation\n"
   ]
  },
  {
   "cell_type": "markdown",
   "metadata": {
    "collapsed": true
   },
   "source": [
    "tempNump = temperatureField.data\n",
    "\n",
    "#In gerneral we only want to do this on the initial setup, not restarts\n",
    "\n",
    "if not checkpointLoad:\n",
    "    for index, coord in enumerate(mesh.data):\n",
    "        pertCoeff = (0.05*(np.random.rand(1)[0] - 0.5)) #this should create values between [-0.5,0.5] from uniform dist.\n",
    "        ict = tempNump[index]\n",
    "        tempNump[index] = ict + pertCoeff"
   ]
  },
  {
   "cell_type": "code",
   "execution_count": 34,
   "metadata": {
    "collapsed": false
   },
   "outputs": [],
   "source": [
    "\n",
    "figVelocityMag = glucifer.Figure(figsize=(1024,384))\n",
    "figVelocityMag.append( glucifer.objects.Surface(mesh, temperatureField) )\n",
    "figVelocityMag.show()\n",
    "figVelocityMag.append(glucifer.objects.Mesh(mesh))\n",
    "#figVelocityMag.save_database('test.gldb')"
   ]
  },
  {
   "cell_type": "markdown",
   "metadata": {},
   "source": [
    "# Particles"
   ]
  },
  {
   "cell_type": "code",
   "execution_count": 35,
   "metadata": {
    "collapsed": false
   },
   "outputs": [],
   "source": [
    "###########\n",
    "#Material Swarm and variables\n",
    "###########\n",
    "\n",
    "gSwarm = uw.swarm.Swarm(mesh=mesh)\n",
    "materialVariable = gSwarm.add_variable( dataType=\"int\", count=1 )\n",
    "rockIntVar = gSwarm.add_variable( dataType=\"double\", count=1 )\n",
    "airIntVar = gSwarm.add_variable( dataType=\"double\", count=1 )\n",
    "lithIntVar = gSwarm.add_variable( dataType=\"double\", count=1 )\n",
    "dummyIntVar = gSwarm.add_variable( dataType=\"double\", count=1 ) #This one is used so we can safely ignore values in the air region\n",
    "\n",
    "varlist = [materialVariable, rockIntVar, airIntVar, lithIntVar]\n",
    "varnames = ['materialVariable', 'rockIntVar', 'airIntVar', 'lithIntVar']"
   ]
  },
  {
   "cell_type": "code",
   "execution_count": 36,
   "metadata": {
    "collapsed": false
   },
   "outputs": [],
   "source": [
    "###########\n",
    "#Swarms for surface integrals when using Sticky air\n",
    "###########\n",
    "\n",
    "snum = 1000.\n",
    "dx = (mesh.data[:,0].max()- mesh.data[:,0].min())/snum\n",
    "yp = 0.9947 #1. - yelsize/2. at res = 96\n",
    "\n",
    "mesh.data[:,0].max()\n",
    "xps = np.linspace(mesh.data[:,0].min(),mesh.data[:,0].max(), snum)\n",
    "yps = [yp for i in xps]\n",
    "\n",
    "surfintswarm = uw.swarm.Swarm( mesh=mesh )\n",
    "dumout = surfintswarm.add_particles_with_coordinates(np.array((xps,yps)).T)\n",
    "\n",
    "yps = [ 1.- yp  for i in xps]\n",
    "\n",
    "baseintswarm = uw.swarm.Swarm( mesh=mesh)\n",
    "dumout = baseintswarm.add_particles_with_coordinates(np.array((xps,yps)).T)"
   ]
  },
  {
   "cell_type": "markdown",
   "metadata": {},
   "source": [
    "#Initialise swarm variables, or Swarm checkpoint load"
   ]
  },
  {
   "cell_type": "code",
   "execution_count": null,
   "metadata": {
    "collapsed": false
   },
   "outputs": [],
   "source": []
  },
  {
   "cell_type": "code",
   "execution_count": 37,
   "metadata": {
    "collapsed": false
   },
   "outputs": [],
   "source": [
    "mantleIndex = 0\n",
    "lithosphereIndex = 1\n",
    "eclIndex = 2\n",
    "crustIndex = 3\n",
    "airIndex = 4\n",
    "tempIndex = 5\n",
    "\n",
    "\n",
    "\n",
    "\n",
    "if checkpointLoad:\n",
    "    checkpointLoadDir = natsort.natsorted(checkdirs)[-1]\n",
    "    temperatureField.load(os.path.join(checkpointLoadDir, \"temperatureField\" + \".hdf5\"))\n",
    "    pressureField.load(os.path.join(checkpointLoadDir, \"pressureField\" + \".hdf5\"))\n",
    "    velocityField.load(os.path.join(checkpointLoadDir, \"velocityField\" + \".hdf5\"))\n",
    "    gSwarm.load(os.path.join(checkpointLoadDir, \"swarm\" + \".h5\"))\n",
    "    for ix in range(len(varlist)):\n",
    "        varb = varlist[ix]\n",
    "        varb.load(os.path.join(checkpointLoadDir,varnames[ix] + \".h5\"))\n",
    "\n",
    "else:\n",
    "\n",
    "    # Layouts are used to populate the swarm across the whole domain\n",
    "    # Create the layout object\n",
    "    layout = uw.swarm.layouts.PerCellRandomLayout(swarm=gSwarm, particlesPerCell=ppc)\n",
    "    # Now use it to populate.\n",
    "    gSwarm.populate_using_layout( layout=layout )\n",
    "\n",
    "    # Lets initialise the 'materialVariable' data to represent different materials\n",
    "    # Set the material to heavy everywhere via the numpy array\n",
    "    materialVariable.data[:] = mantleIndex\n",
    "    \n",
    "    \n",
    "    #Set initial air and crust materials (allow the graph to take care of lithsophere)\n",
    "    #########\n",
    "    #This initial material setup will be model dependent\n",
    "    #########\n",
    "    for particleID in range(gSwarm.particleCoordinates.data.shape[0]):\n",
    "        if (1. - gSwarm.particleCoordinates.data[particleID][1]) < 0:\n",
    "                 materialVariable.data[particleID] = airIndex\n",
    "        elif (1. - gSwarm.particleCoordinates.data[particleID][1]) < MANTLETOCRUST:\n",
    "                 materialVariable.data[particleID] = crustIndex\n"
   ]
  },
  {
   "cell_type": "markdown",
   "metadata": {},
   "source": [
    "#Material Graphs"
   ]
  },
  {
   "cell_type": "code",
   "execution_count": 55,
   "metadata": {
    "collapsed": false
   },
   "outputs": [],
   "source": [
    "##############\n",
    "#Important: This is a quick fix for a bug that arises in parallel runs\n",
    "##############\n",
    "material_list = [0,1,2,3,4, 5]\n"
   ]
  },
  {
   "cell_type": "code",
   "execution_count": 56,
   "metadata": {
    "collapsed": false
   },
   "outputs": [
    {
     "name": "stdout",
     "output_type": "stream",
     "text": [
      "unique values after swarm has loaded:[0 3 5]\n"
     ]
    }
   ],
   "source": [
    "print( \"unique values after swarm has loaded:\" + str(np.unique(materialVariable.data[:])))\n"
   ]
  },
  {
   "cell_type": "code",
   "execution_count": null,
   "metadata": {
    "collapsed": false
   },
   "outputs": [],
   "source": []
  },
  {
   "cell_type": "code",
   "execution_count": 57,
   "metadata": {
    "collapsed": false
   },
   "outputs": [],
   "source": [
    "\n",
    "\n",
    "#All depth conditions are given as (km/D) where D is the length scale,\n",
    "#note that 'model depths' are used, e.g. 1-z, where z is the vertical Underworld coordinate\n",
    "#All temp conditions are in dimensionless temp. [0. - 1.]\n",
    "\n",
    "#######Graph object\n",
    "DG = nx.DiGraph(field=\"Depth\")\n",
    "\n",
    "#######Nodes\n",
    "#Note that the order of materials, deepest to shallowest is important\n",
    "DG.add_node(0, mat='mantle')\n",
    "DG.add_node(1, mat='lithosphere')\n",
    "DG.add_node(2, mat='ecl')\n",
    "DG.add_node(3, mat='crust')\n",
    "DG.add_node(4, mat='air')\n",
    "DG.add_node(5, mat='temp')\n",
    "\n",
    "\n",
    "labels=dict((n,d['mat']) for n,d in DG.nodes(data=True))\n",
    "pos=nx.spring_layout(DG)\n",
    "\n",
    "\n",
    "#######Edges\n",
    "#anything to air\n",
    "DG.add_edges_from([(0,4),(1,4), (3,4)])\n",
    "DG[0][4]['depthcondition'] = -1*TOPOHEIGHT\n",
    "DG[1][4]['depthcondition'] = -1*TOPOHEIGHT\n",
    "DG[3][4]['depthcondition'] = -1*TOPOHEIGHT\n",
    "\n",
    "\n",
    "#Anything to mantle\n",
    "DG.add_edges_from([(3,0), (1,0), (2,0), (5,0)])\n",
    "DG[3][0]['depthcondition'] = CRUSTTOMANTLE #Normal crust\n",
    "DG[1][0]['depthcondition'] = LITHTOMANTLE #This means we're going to kill lithosphere at the 660.\n",
    "DG[2][0]['depthcondition'] = CRUSTTOMANTLE #Eclogite crust\n",
    "DG[5][0]['depthcondition'] = CRUSTTOMANTLE #Normal crust\n",
    "\n",
    "#Anything to lithsphere\n",
    "DG.add_edges_from([(0,1),(4,1)])\n",
    "DG[0][1]['depthcondition'] = MANTLETOLITH\n",
    "DG[0][1]['avgtempcondition'] = 0.75*AVGTEMP #definition of thermal lithosphere\n",
    "\n",
    "\n",
    "#Anything to crust\n",
    "DG.add_edges_from([(0,3), (1,3), (4,3)])\n",
    "DG[0][3]['depthcondition'] = MANTLETOCRUST\n",
    "DG[1][3]['depthcondition'] = MANTLETOCRUST\n",
    "DG[4][3]['depthcondition'] = TOPOHEIGHT\n",
    "\n",
    "#crust to eclogite\n",
    "DG.add_edges_from([(3,2)])\n",
    "DG[3][2]['depthcondition'] =CRUSTTOECL\n",
    "\n",
    "\n",
    "\n",
    "\n"
   ]
  },
  {
   "cell_type": "code",
   "execution_count": 58,
   "metadata": {
    "collapsed": false
   },
   "outputs": [
    {
     "data": {
      "text/plain": [
       "0.42857142857142855"
      ]
     },
     "execution_count": 58,
     "metadata": {},
     "output_type": "execute_result"
    }
   ],
   "source": [
    "CRUSTTOMANTLE"
   ]
  },
  {
   "cell_type": "code",
   "execution_count": 59,
   "metadata": {
    "collapsed": false
   },
   "outputs": [],
   "source": [
    "#material_list"
   ]
  },
  {
   "cell_type": "code",
   "execution_count": 60,
   "metadata": {
    "collapsed": false
   },
   "outputs": [],
   "source": [
    "remove_nodes = []\n",
    "for node in DG.nodes():\n",
    "    if not node in material_list:\n",
    "        remove_nodes.append(node)\n",
    "        \n",
    "for rmnode in remove_nodes:\n",
    "    DG.remove_node(rmnode)"
   ]
  },
  {
   "cell_type": "code",
   "execution_count": 61,
   "metadata": {
    "collapsed": false
   },
   "outputs": [
    {
     "data": {
      "text/plain": [
       "[0, 1, 2, 3, 4, 5]"
      ]
     },
     "execution_count": 61,
     "metadata": {},
     "output_type": "execute_result"
    }
   ],
   "source": [
    "DG.nodes()"
   ]
  },
  {
   "cell_type": "code",
   "execution_count": 62,
   "metadata": {
    "collapsed": true
   },
   "outputs": [],
   "source": [
    "#A Dictionary to map strings in the graph (e.g. 'depthcondition') to particle data arrays\n",
    "\n",
    "particledepths = 1. - gSwarm.particleCoordinates.data[:,1]\n",
    "particletemps = temperatureField.evaluate(gSwarm)[:,0]\n",
    "\n",
    "conditionmap = {}\n",
    "\n",
    "conditionmap['depthcondition'] = {}\n",
    "conditionmap['depthcondition']['data'] = particledepths\n",
    "conditionmap['avgtempcondition'] = {}\n",
    "conditionmap['avgtempcondition']['data'] = particletemps"
   ]
  },
  {
   "cell_type": "code",
   "execution_count": 63,
   "metadata": {
    "collapsed": true
   },
   "outputs": [],
   "source": [
    "def update_swarm(graph, particleIndex):\n",
    "    \"\"\"\n",
    "    This function takes the materials graph (networkx.DiGraph), and a particle index,\n",
    "    then determines if a material update is required \n",
    "    and if so, returns the new materialindex\n",
    "    Args:\n",
    "        graph (networkx.DiGraph): Directed multigraph representing the transformation of material types\n",
    "        particleIndex (int): the particle index as corressponding to the index in the swarm data arrays\n",
    "    Returns:\n",
    "        if update is required the function returns the the new material variable (int) \n",
    "        else returns None\n",
    "    Raises:\n",
    "        TypeError: not implemented\n",
    "        ValueError: not implemented\n",
    "    \"\"\"\n",
    "    ##Egde gives links to other materials, we then query the conditions to see if we should change materials\n",
    "    matId = materialVariable.data[particleIndex][0]\n",
    "    innerchange = False\n",
    "    outerchange = False\n",
    "    for edge in graph[matId]:\n",
    "        if outerchange:\n",
    "            break\n",
    "        for cond in graph[matId][edge].keys():\n",
    "            outerchange = False\n",
    "            if innerchange: #found a complete transition, break inner loop\n",
    "                break\n",
    "            currentparticlevalue = conditionmap[cond]['data'][particleIndex]\n",
    "            crossover = graph[matId][edge][cond]\n",
    "            if ((matId > edge) and (currentparticlevalue > crossover)):\n",
    "                innerchange = False # continue on, \n",
    "                if graph[matId][edge].keys()[-1] == cond:\n",
    "                    outerchange = True\n",
    "                    innerchange = edge\n",
    "                    break\n",
    "            elif ((matId < edge) and (currentparticlevalue < crossover)):\n",
    "                innerchange = False\n",
    "                if graph[matId][edge].keys()[-1] == cond:\n",
    "                    outerchange = True\n",
    "                    innerchange = edge\n",
    "                    break\n",
    "            else:\n",
    "                #condition not met, break outer loop, go to next edge, outerchange should still be False\n",
    "                break\n",
    "    if type(innerchange) == int:\n",
    "        return innerchange"
   ]
  },
  {
   "cell_type": "code",
   "execution_count": null,
   "metadata": {
    "collapsed": true
   },
   "outputs": [],
   "source": []
  },
  {
   "cell_type": "code",
   "execution_count": 51,
   "metadata": {
    "collapsed": false
   },
   "outputs": [],
   "source": [
    "#Set the crust material in the slab using shapes/function from uw.\n",
    "\n",
    "if not checkpointLoad:\n",
    "    #materialVariable.data[:] = mantleIndex\n",
    "    #lithtemp = 0.95*0.8\n",
    "    #tempswarm = temperatureField.evaluate(gSwarm)[:,0]\n",
    "\n",
    "    #At this point, we only have to assign any materials that are defined by setup shapes,\n",
    "    #the rest of the materials will be assigned using the materials graph\n",
    "\n",
    "    for particleID in range(gSwarm.particleCoordinates.data.shape[0]):\n",
    "        coord = gSwarm.particleCoordinates.data[particleID]\n",
    "        if gSwarm.particleCoordinates.data[particleID][1] > (1.0 - CrustM):\n",
    "            materialVariable.data[particleID] =  crustIndex\n",
    "        elif Oc.evaluate(tuple(coord)) and Tri.evaluate(tuple(coord)) and not Cc.evaluate(tuple(coord)):\n",
    "            #print(\"True\")\n",
    "            materialVariable.data[particleID] =  crustIndex\n",
    "        if Gc.evaluate(tuple(coord)) and Tri.evaluate(tuple(coord)) and not Oc.evaluate(tuple(coord)):\n",
    "            materialVariable.data[particleID] =  tempIndex"
   ]
  },
  {
   "cell_type": "code",
   "execution_count": null,
   "metadata": {
    "collapsed": true
   },
   "outputs": [],
   "source": []
  },
  {
   "cell_type": "code",
   "execution_count": 66,
   "metadata": {
    "collapsed": false
   },
   "outputs": [],
   "source": [
    "#Cleanse the swarm of its sins\n",
    "#For some Material Graphs, the graph may have to be traversed more than once\n",
    "\n",
    "check = -1\n",
    "number_updated = 1\n",
    "\n",
    "while number_updated != 0:\n",
    "    number_updated = 0\n",
    "    for particleID in range(gSwarm.particleCoordinates.data.shape[0]):\n",
    "        check = update_swarm(DG, particleID)\n",
    "        if check > -1:\n",
    "            number_updated += 1\n",
    "            materialVariable.data[particleID] = check"
   ]
  },
  {
   "cell_type": "code",
   "execution_count": null,
   "metadata": {
    "collapsed": true
   },
   "outputs": [],
   "source": []
  },
  {
   "cell_type": "code",
   "execution_count": 68,
   "metadata": {
    "collapsed": false
   },
   "outputs": [],
   "source": [
    "#dummyVariable3 = gSwarm.add_variable( dataType=\"double\", count=1 )"
   ]
  },
  {
   "cell_type": "code",
   "execution_count": 67,
   "metadata": {
    "collapsed": false
   },
   "outputs": [
    {
     "data": {
      "text/html": [
       "<img src='data:image/png;base64,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'>"
      ],
      "text/plain": [
       "<IPython.core.display.HTML object>"
      ]
     },
     "execution_count": 67,
     "metadata": {},
     "output_type": "execute_result"
    }
   ],
   "source": [
    "figMat = glucifer.Figure()\n",
    "figMat.append( glucifer.objects.Points(gSwarm,materialVariable, colours='white blue red black'))\n",
    "#figMat.append( glucifer.objects.Mesh(mesh))\n",
    "figMat.save_database('test.gldb')\n",
    "figMat.show()"
   ]
  },
  {
   "cell_type": "markdown",
   "metadata": {},
   "source": [
    "##Set the values for the masking swarms"
   ]
  },
  {
   "cell_type": "code",
   "execution_count": 270,
   "metadata": {
    "collapsed": false
   },
   "outputs": [],
   "source": [
    "#Setup up a masking Swarm variable for the integrations.\n",
    "#These should be rebuilt at same frequency as the metric calcualtions\n",
    "\n",
    "rockIntVar.data[:] = 0.\n",
    "notair = np.where(materialVariable.data != airIndex)\n",
    "rockIntVar.data[notair] = 1.\n",
    "\n",
    "airIntVar.data[:] = 0.\n",
    "notrock = np.where(materialVariable.data == airIndex)\n",
    "airIntVar.data[notrock] = 1.\n",
    "\n",
    "lithIntVar.data[:] = 0.\n",
    "islith = np.where((materialVariable.data == lithosphereIndex) | (materialVariable.data == crustIndex))\n",
    "lithIntVar.data[islith] = 1.\n",
    "\n",
    "dummyIntVar.data[:] = 1.\n",
    "notrock = np.where(materialVariable.data == airIndex)\n",
    "dummyIntVar.data[notrock] = 1e10  #We'll multiply certain swarm variables by this guy,which\n",
    "#will allow us grab minimum values and assume they are from the rock part"
   ]
  },
  {
   "cell_type": "markdown",
   "metadata": {
    "collapsed": false
   },
   "source": [
    "#Material properties\n"
   ]
  },
  {
   "cell_type": "code",
   "execution_count": 271,
   "metadata": {
    "collapsed": false
   },
   "outputs": [],
   "source": [
    "# The yeilding of the upper slab is dependent on the strain rate.\n",
    "strainRate_2ndInvariant = fn.tensor.second_invariant( \n",
    "                            fn.tensor.symmetric( \n",
    "                            velocityField.fn_gradient ))\n",
    "\n",
    "\n",
    "coordinate = fn.input()\n",
    "depth = 1. - coordinate[1]\n",
    "\n",
    "#Determine yield criterion for depth (rather than pressure as given in Crameri)\n",
    "#Scaling is same as van Heck and Tackley, EPSL, 2011\n",
    "lithopressuregrad = dp.rho*dp.g*(dp.LS)**3/(dp.eta0*dp.k)"
   ]
  },
  {
   "cell_type": "code",
   "execution_count": 272,
   "metadata": {
    "collapsed": false
   },
   "outputs": [
    {
     "data": {
      "text/plain": [
       "0.02172696760154505"
      ]
     },
     "execution_count": 272,
     "metadata": {},
     "output_type": "execute_result"
    }
   ],
   "source": [
    "temperatureField.data.min()"
   ]
  },
  {
   "cell_type": "code",
   "execution_count": 273,
   "metadata": {
    "collapsed": false
   },
   "outputs": [
    {
     "data": {
      "text/plain": [
       "1744.9047000000005"
      ]
     },
     "execution_count": 273,
     "metadata": {},
     "output_type": "execute_result"
    }
   ],
   "source": [
    "lithopressuregrad*0.1*(110e3/dp.LS)"
   ]
  },
  {
   "cell_type": "code",
   "execution_count": 274,
   "metadata": {
    "collapsed": false
   },
   "outputs": [
    {
     "data": {
      "text/plain": [
       "55519.695000000014"
      ]
     },
     "execution_count": 274,
     "metadata": {},
     "output_type": "execute_result"
    }
   ],
   "source": [
    "ndp.fc*lithopressuregrad"
   ]
  },
  {
   "cell_type": "code",
   "execution_count": 275,
   "metadata": {
    "collapsed": false
   },
   "outputs": [],
   "source": [
    "#Linear viscosity\n",
    "#arhennius = fn.misc.min(ndp.up_visc, fn.math.exp(((-1.*ndp.E) + (ndp.E / temperatureField))))\n",
    "#lower_mantle = False\n",
    "#melt_viscosity_reduction = False"
   ]
  },
  {
   "cell_type": "code",
   "execution_count": 276,
   "metadata": {
    "collapsed": false
   },
   "outputs": [],
   "source": [
    "#np.math.exp(100.)"
   ]
  },
  {
   "cell_type": "code",
   "execution_count": 277,
   "metadata": {
    "collapsed": false
   },
   "outputs": [],
   "source": [
    "############\n",
    "#Mantle\n",
    "############\n",
    "\n",
    "\n",
    "A = 1e21/(np.math.exp(dp.E/(dp.R*1600.))) \n",
    "\n",
    "safetyField = fn.misc.min(100., (dp.E /(temperatureField*1600.*dp.R)) ) #numbers bigger that 100 can't be passed to exp.\n",
    "arhennius = fn.misc.min(ndp.up_visc,(fn.math.exp(safetyField)*A)/1e21)\n",
    "\n",
    "    \n",
    "\n",
    "#Psuedo-plastic \n",
    "ys =  ndp.cohesion + (depth*ndp.fc*lithopressuregrad)\n",
    "#ys =  ndp.fc*lithopressuregrad*(30e3/dp.LS) # this is the byerlee strength at 30 km\n",
    "yss = fn.misc.max(ndp.cohesion, ys)\n",
    "plasticvisc = yss*(math.sqrt(2))/(strainRate_2ndInvariant*2.)\n",
    "plastic = fn.misc.max(ndp.low_visc,plasticvisc)\n",
    "#combine these\n",
    "mantleviscosityFn = fn.misc.min(arhennius, plastic)\n",
    "\n",
    "############\n",
    "#crust\n",
    "############\n",
    "\n",
    "\n",
    "\n",
    "ysc = (ndp.cohesion/ndp.cohesion_reduce)\n",
    "#ysc = ys/100.\n",
    "ycs = fn.misc.max((ndp.cohesion/ndp.cohesion_reduce), ysc)\n",
    "crustplasticvisc = ycs*(math.sqrt(2))/(strainRate_2ndInvariant*2.)\n",
    "crustplastic = fn.misc.max(ndp.low_visc,crustplasticvisc) \n",
    "crustviscosityFn = fn.misc.min(arhennius, crustplastic)"
   ]
  },
  {
   "cell_type": "code",
   "execution_count": 278,
   "metadata": {
    "collapsed": false
   },
   "outputs": [
    {
     "data": {
      "text/plain": [
       "10.0"
      ]
     },
     "execution_count": 278,
     "metadata": {},
     "output_type": "execute_result"
    }
   ],
   "source": [
    "ndp.cohesion_reduce"
   ]
  },
  {
   "cell_type": "code",
   "execution_count": 279,
   "metadata": {
    "collapsed": false
   },
   "outputs": [
    {
     "data": {
      "text/plain": [
       "1000.0"
      ]
     },
     "execution_count": 279,
     "metadata": {},
     "output_type": "execute_result"
    }
   ],
   "source": [
    "mantleviscosityFn.evaluate(mesh).max()"
   ]
  },
  {
   "cell_type": "code",
   "execution_count": 280,
   "metadata": {
    "collapsed": false
   },
   "outputs": [
    {
     "data": {
      "text/html": [
       "<img src='data:image/png;base64,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'>"
      ],
      "text/plain": [
       "<IPython.core.display.HTML object>"
      ]
     },
     "execution_count": 280,
     "metadata": {},
     "output_type": "execute_result"
    }
   ],
   "source": [
    "figStrainRate = glucifer.Figure()\n",
    "figStrainRate.append( glucifer.objects.Surface(mesh, arhennius, logScale=True))\n",
    "figStrainRate.show()"
   ]
  },
  {
   "cell_type": "markdown",
   "metadata": {},
   "source": [
    "Set up simulation parameters and functions\n",
    "====\n",
    "\n",
    "Here the functions for density, viscosity etc. are set. These functions and/or values are preserved for the entire simulation time. "
   ]
  },
  {
   "cell_type": "code",
   "execution_count": 281,
   "metadata": {
    "collapsed": false
   },
   "outputs": [],
   "source": [
    "# Here we set a viscosity value of '1.' for both materials\n",
    "viscosityMapFn = fn.branching.map( fn_key = materialVariable,\n",
    "                         mapping = {airIndex:ndp.StAeta0, \n",
    "                                    lithosphereIndex:mantleviscosityFn, \n",
    "                                    crustIndex:crustviscosityFn,\n",
    "                                    mantleIndex:mantleviscosityFn, \n",
    "                                    eclIndex:crustviscosityFn,\n",
    "                                    tempIndex:mantleviscosityFn} )\n",
    "\n",
    "densityMapFn = fn.branching.map( fn_key = materialVariable,\n",
    "                         mapping = {airIndex:ndp.StA_RA, \n",
    "                                    lithosphereIndex:ndp.RA*temperatureField, \n",
    "                                    crustIndex:ndp.RA*temperatureField, \n",
    "                                    mantleIndex:ndp.RA*temperatureField, \n",
    "                                    eclIndex:ndp.RA*temperatureField,\n",
    "                                    tempIndex:ndp.RA*temperatureField, } )\n",
    "\n",
    "# Define our gravity using a python tuple (this will be automatically converted to a function)\n",
    "gravity = ( 0.0, 1.0 )\n",
    "\n",
    "buoyancyFn = gravity*densityMapFn"
   ]
  },
  {
   "cell_type": "code",
   "execution_count": 282,
   "metadata": {
    "collapsed": false
   },
   "outputs": [
    {
     "data": {
      "text/plain": [
       "11957508.140714249"
      ]
     },
     "execution_count": 282,
     "metadata": {},
     "output_type": "execute_result"
    }
   ],
   "source": [
    "ndp.Crust_RA"
   ]
  },
  {
   "cell_type": "markdown",
   "metadata": {},
   "source": [
    "Build the Stokes system, solvers, advection-diffusion\n",
    "------\n",
    "\n",
    "Setup linear Stokes system to get the initial velocity."
   ]
  },
  {
   "cell_type": "code",
   "execution_count": 283,
   "metadata": {
    "collapsed": false
   },
   "outputs": [],
   "source": [
    "stokesPIC = uw.systems.Stokes( velocityField = velocityField, \n",
    "                               pressureField = pressureField,\n",
    "                               #swarm         = gSwarm, \n",
    "                               conditions    = [freeslipBC,],\n",
    "                               fn_viscosity   = arhennius, \n",
    "                               fn_bodyforce   = buoyancyFn,\n",
    "                               swarm=gSwarm)\n"
   ]
  },
  {
   "cell_type": "markdown",
   "metadata": {},
   "source": [
    "We do one solve with linear viscosity to get the initial strain rate invariant. This solve step also calculates a 'guess' of the the velocity field based on the linear system, which is used later in the non-linear solver."
   ]
  },
  {
   "cell_type": "code",
   "execution_count": 284,
   "metadata": {
    "collapsed": false
   },
   "outputs": [],
   "source": [
    "#We do one solve with linear viscosity to get the initial strain rate invariant. \n",
    "#This solve step also calculates a 'guess' of the the velocity field based on the linear system, \n",
    "#which is used later in the non-linear solver.\n",
    "\n",
    "solver = uw.systems.Solver(stokesPIC)\n",
    "# If not doing a restart, do a solve on the non-plastic system\n",
    "if not checkpointLoad:\n",
    "    solver.solve()"
   ]
  },
  {
   "cell_type": "code",
   "execution_count": 285,
   "metadata": {
    "collapsed": false
   },
   "outputs": [],
   "source": [
    "#Switch particle escape on, this will also trigger the inflow population control \n",
    "gSwarm.particleEscape = True"
   ]
  },
  {
   "cell_type": "code",
   "execution_count": 286,
   "metadata": {
    "collapsed": false
   },
   "outputs": [],
   "source": [
    "####################\n",
    "#Add the non-linear viscosity to the Stokes system\n",
    "stokesPIC.fn_viscosity = viscosityMapFn\n",
    "###################\n",
    "\n",
    "#Set more advanced solver option\n",
    "#solver.options.main.Q22_pc_type='gkgdiag'\n",
    "#solver.options.A11.ksp_rtol=1e-2\n",
    "#solver.options.scr.ksp_rtol=1e-3\n",
    "#solver.options.A11.ksp_type=\"cg\"\n",
    "solver.options.scr.use_previous_guess = True\n",
    "#solver.options.scr.ksp_set_min_it_converge = 1\n",
    "#solver.options.main.penalty=10.0\n",
    "\n",
    "#solver.options.mg.levels = 3\n",
    "#solver.options.main.remove_constant_pressure_null_space=True\n",
    "#solver.options.main.penalty = 1e2\n",
    "\n",
    "#solver.options.A11.ksp_rtol=1e-4\n",
    "#solver.options.scr.ksp_rtol=1e-4\n",
    "\n",
    "solver.options.A11.ksp_monitor=''\n",
    "solver.options.A11.ksp_converged_reason=''"
   ]
  },
  {
   "cell_type": "code",
   "execution_count": 287,
   "metadata": {
    "collapsed": false
   },
   "outputs": [],
   "source": [
    "solver.solve(nonLinearIterate=True)"
   ]
  },
  {
   "cell_type": "code",
   "execution_count": 288,
   "metadata": {
    "collapsed": false
   },
   "outputs": [],
   "source": [
    "viscField = uw.mesh.MeshVariable( mesh=mesh,   nodeDofCount=1)\n",
    "viscdata = mantleviscosityFn.evaluate(mesh)\n",
    "#viscField.data[:] = viscdata\n",
    "\n",
    "\n",
    "#viscVariable = gSwarm.add_variable( dataType=\"float\", count=1 )\n",
    "#viscVariable.data[:] = viscosityMapFn.evaluate(gSwarm)"
   ]
  },
  {
   "cell_type": "markdown",
   "metadata": {
    "collapsed": false
   },
   "source": [
    "solver = uw.systems.Solver(stokesPIC2) # altered from PIC2\n",
    "\n",
    "\n",
    "\n",
    "#Set more advanced solver option\n",
    "solver.options.main.Q22_pc_type='uw'\n",
    "solver.options.A11.ksp_rtol=1e-5\n",
    "solver.options.scr.ksp_rtol=1e-5\n",
    "#solver.options.A11.ksp_type=\"cg\"\n",
    "solver.options.scr.use_previous_guess = True\n",
    "solver.options.scr.ksp_set_min_it_converge = 1\n",
    "\n",
    "solver.options.mg.levels = 3\n",
    "\n",
    "#solver.options.A11.ksp_monitor=''\n",
    "#solver.options.A11.ksp_converged_reason='"
   ]
  },
  {
   "cell_type": "markdown",
   "metadata": {},
   "source": [
    "Solve for initial pressure and velocity using a quick non-linear Picard iteration\n"
   ]
  },
  {
   "cell_type": "markdown",
   "metadata": {},
   "source": [
    "Create an advective-diffusive system\n",
    "=====\n",
    "\n",
    "Setup the system in underworld by flagging the temperature and velocity field variables."
   ]
  },
  {
   "cell_type": "code",
   "execution_count": 289,
   "metadata": {
    "collapsed": false
   },
   "outputs": [],
   "source": [
    "#uw.systems.AdvectionDiffusion?"
   ]
  },
  {
   "cell_type": "code",
   "execution_count": 290,
   "metadata": {
    "collapsed": false
   },
   "outputs": [],
   "source": [
    "#Create advdiff system\n",
    "\n",
    "\n",
    "\n",
    "#advDiff = uw.systems.AdvectionDiffusion( phiField       = temperatureField, \n",
    "#                                         phiDotField    = temperatureDotField, \n",
    "#                                         velocityField  = velocityField, \n",
    "#                                         fn_diffusivity = 1.0,\n",
    "#                                         fn_sourceTerm = 0.,\n",
    "#                                         conditions     = [tempBC,] )\n",
    "\n",
    "\n",
    "advDiff = uw.systems.AdvectionDiffusion( phiField       = temperatureField, \n",
    "                                         phiDotField    = temperatureDotField, \n",
    "                                         velocityField  = velocityField,\n",
    "                                         fn_sourceTerm    = 20.0,\n",
    "                                         fn_diffusivity = 1.0, \n",
    "                                         conditions     = [dirichTempBC,] )\n",
    "\n",
    "\n",
    "\n",
    "advector = uw.systems.SwarmAdvector( swarm         = gSwarm, \n",
    "                                     velocityField = velocityField, \n",
    "                                     order         = 1)"
   ]
  },
  {
   "cell_type": "markdown",
   "metadata": {},
   "source": [
    "Metrics for benchmark\n",
    "=====\n",
    "\n",
    "Define functions to be used in the time loop. For cases 1-4, participants were asked to report a number of diagnostic quantities to be measured after reaching steady state:\n",
    "\n",
    "* Average temp... $$  \\langle T \\rangle  = \\int^1_0 \\int^1_0 T \\, dxdy $$\n",
    "* Top and bottom Nusselt numbers... $$N = \\int^1_0 \\frac{\\partial T}{\\partial y} \\rvert_{y=0/1} \\, dx$$\n",
    "* RMS velocity over the whole domain, surface and max velocity at surface\n",
    "* max and min viscosity over the whole domain\n",
    "* average rate of work done against gravity...$$\\langle W \\rangle = \\int^1_0 \\int^1_0 T u_y \\, dx dy$$\n",
    "* and the average rate of viscous dissipation...$$\\langle \\Phi \\rangle = \\int^1_0 \\int^1_0 \\tau_{ij} \\dot \\epsilon_{ij} \\, dx dy$$\n",
    "\n",
    "* In steady state, if thermal energy is accurately conserved, the difference between $\\langle W \\rangle$ and $\\langle \\Phi \\rangle / Ra$ must vanish, so also reported is the percentage error: \n",
    "\n",
    "$$ \\delta = \\frac{\\lvert \\langle W \\rangle - \\frac{\\langle \\Phi \\rangle}{Ra} \\rvert}{max \\left(  \\langle W \\rangle,  \\frac{\\langle \\Phi \\rangle}{Ra}\\right)} \\times 100% $$"
   ]
  },
  {
   "cell_type": "code",
   "execution_count": 291,
   "metadata": {
    "collapsed": false
   },
   "outputs": [
    {
     "data": {
      "text/plain": [
       "[<underworld.swarm._swarmvariable.SwarmVariable at 0x11208e110>,\n",
       " <underworld.swarm._swarmvariable.SwarmVariable at 0x11be64ad0>,\n",
       " <underworld.swarm._swarmvariable.SwarmVariable at 0x118722c90>,\n",
       " <underworld.swarm._swarmvariable.SwarmVariable at 0x118722c50>,\n",
       " <underworld.swarm._swarmvariable.SwarmVariable at 0x118392e90>,\n",
       " <underworld.swarm._swarmvariable.SwarmVariable at 0x118392810>,\n",
       " <underworld.swarm._swarmvariable.SwarmVariable at 0x118392f10>]"
      ]
     },
     "execution_count": 291,
     "metadata": {},
     "output_type": "execute_result"
    }
   ],
   "source": [
    "gSwarm.variables"
   ]
  },
  {
   "cell_type": "code",
   "execution_count": 294,
   "metadata": {
    "collapsed": false
   },
   "outputs": [],
   "source": [
    "#dummyVariable = gSwarm.add_variable( dataType=\"double\", count=1 )"
   ]
  },
  {
   "cell_type": "code",
   "execution_count": 292,
   "metadata": {
    "collapsed": false,
    "scrolled": true
   },
   "outputs": [
    {
     "ename": "RuntimeError",
     "evalue": "\n            There appears to be 1 swarm variable numpy array objects still in\n            existance. When a new swarm variable is added, it results in the modification\n            of existing swarm variable memory layouts and locations, and therefore\n            existing numpy array views of swarm variables will cease to be valid. Potential\n            modification of these invalid numpy arrays is dangerous, and therefore they must\n            be removed before a new variable can be added.  The python 'del' command may be useful,\n            though be aware that an object cannot be destroyed while another object retains a\n            reference to it. Once you have added the required swarm variables, you can easily\n            regenerate the numpy views of other variables again using the 'data' property.",
     "output_type": "error",
     "traceback": [
      "\u001b[0;31m---------------------------------------------------------------------------\u001b[0m",
      "\u001b[0;31mRuntimeError\u001b[0m                              Traceback (most recent call last)",
      "\u001b[0;32m<ipython-input-292-a72ea2c6337e>\u001b[0m in \u001b[0;36m<module>\u001b[0;34m()\u001b[0m\n\u001b[1;32m      1\u001b[0m \u001b[0;31m#Setup some Integrals. We want these outside the main loop...\u001b[0m\u001b[0;34m\u001b[0m\u001b[0;34m\u001b[0m\u001b[0m\n\u001b[0;32m----> 2\u001b[0;31m \u001b[0mtempVariable\u001b[0m \u001b[0;34m=\u001b[0m \u001b[0mgSwarm\u001b[0m\u001b[0;34m.\u001b[0m\u001b[0madd_variable\u001b[0m\u001b[0;34m(\u001b[0m \u001b[0mdataType\u001b[0m\u001b[0;34m=\u001b[0m\u001b[0;34m\"double\"\u001b[0m\u001b[0;34m,\u001b[0m \u001b[0mcount\u001b[0m\u001b[0;34m=\u001b[0m\u001b[0;36m1\u001b[0m \u001b[0;34m)\u001b[0m\u001b[0;34m\u001b[0m\u001b[0m\n\u001b[0m\u001b[1;32m      3\u001b[0m \u001b[0mtempVariable\u001b[0m\u001b[0;34m.\u001b[0m\u001b[0mdata\u001b[0m\u001b[0;34m[\u001b[0m\u001b[0;34m:\u001b[0m\u001b[0;34m]\u001b[0m \u001b[0;34m=\u001b[0m \u001b[0mtemperatureField\u001b[0m\u001b[0;34m.\u001b[0m\u001b[0mevaluate\u001b[0m\u001b[0;34m(\u001b[0m\u001b[0mgSwarm\u001b[0m\u001b[0;34m)\u001b[0m\u001b[0;34m[\u001b[0m\u001b[0;34m:\u001b[0m\u001b[0;34m]\u001b[0m\u001b[0;34m\u001b[0m\u001b[0m\n\u001b[1;32m      4\u001b[0m \u001b[0mtempint\u001b[0m \u001b[0;34m=\u001b[0m \u001b[0muw\u001b[0m\u001b[0;34m.\u001b[0m\u001b[0mutils\u001b[0m\u001b[0;34m.\u001b[0m\u001b[0mIntegral\u001b[0m\u001b[0;34m(\u001b[0m\u001b[0;34m(\u001b[0m\u001b[0mtempVariable\u001b[0m\u001b[0;34m*\u001b[0m\u001b[0mrockIntVar\u001b[0m\u001b[0;34m)\u001b[0m\u001b[0;34m,\u001b[0m \u001b[0mmesh\u001b[0m\u001b[0;34m)\u001b[0m\u001b[0;34m\u001b[0m\u001b[0m\n\u001b[1;32m      5\u001b[0m \u001b[0;34m\u001b[0m\u001b[0m\n",
      "\u001b[0;32m/Users/dansandiford/Documents/programming/newinterface/underworld2/underworld/swarm/_swarmabstract.pyc\u001b[0m in \u001b[0;36madd_variable\u001b[0;34m(self, dataType, count)\u001b[0m\n\u001b[1;32m    142\u001b[0m \u001b[0;34m\u001b[0m\u001b[0m\n\u001b[1;32m    143\u001b[0m         \"\"\"\n\u001b[0;32m--> 144\u001b[0;31m         \u001b[0;32mreturn\u001b[0m \u001b[0msvar\u001b[0m\u001b[0;34m.\u001b[0m\u001b[0mSwarmVariable\u001b[0m\u001b[0;34m(\u001b[0m \u001b[0mself\u001b[0m\u001b[0;34m,\u001b[0m \u001b[0mdataType\u001b[0m\u001b[0;34m,\u001b[0m \u001b[0mcount\u001b[0m \u001b[0;34m)\u001b[0m\u001b[0;34m\u001b[0m\u001b[0m\n\u001b[0m\u001b[1;32m    145\u001b[0m \u001b[0;34m\u001b[0m\u001b[0m\n\u001b[1;32m    146\u001b[0m     \u001b[0;32mdef\u001b[0m \u001b[0mpopulate_using_layout\u001b[0m\u001b[0;34m(\u001b[0m \u001b[0mself\u001b[0m\u001b[0;34m,\u001b[0m \u001b[0mlayout\u001b[0m \u001b[0;34m)\u001b[0m\u001b[0;34m:\u001b[0m\u001b[0;34m\u001b[0m\u001b[0m\n",
      "\u001b[0;32m/Users/dansandiford/Documents/programming/newinterface/underworld2/underworld/swarm/_swarmvariable.pyc\u001b[0m in \u001b[0;36m__init__\u001b[0;34m(self, swarm, dataType, count, **kwargs)\u001b[0m\n\u001b[1;32m     63\u001b[0m             \u001b[0mthough\u001b[0m \u001b[0mbe\u001b[0m \u001b[0maware\u001b[0m \u001b[0mthat\u001b[0m \u001b[0man\u001b[0m \u001b[0mobject\u001b[0m \u001b[0mcannot\u001b[0m \u001b[0mbe\u001b[0m \u001b[0mdestroyed\u001b[0m \u001b[0;32mwhile\u001b[0m \u001b[0manother\u001b[0m \u001b[0mobject\u001b[0m \u001b[0mretains\u001b[0m \u001b[0ma\u001b[0m\u001b[0;34m\u001b[0m\u001b[0m\n\u001b[1;32m     64\u001b[0m             \u001b[0mreference\u001b[0m \u001b[0mto\u001b[0m \u001b[0mit\u001b[0m\u001b[0;34m.\u001b[0m \u001b[0mOnce\u001b[0m \u001b[0myou\u001b[0m \u001b[0mhave\u001b[0m \u001b[0madded\u001b[0m \u001b[0mthe\u001b[0m \u001b[0mrequired\u001b[0m \u001b[0mswarm\u001b[0m \u001b[0mvariables\u001b[0m\u001b[0;34m,\u001b[0m \u001b[0myou\u001b[0m \u001b[0mcan\u001b[0m \u001b[0measily\u001b[0m\u001b[0;34m\u001b[0m\u001b[0m\n\u001b[0;32m---> 65\u001b[0;31m             regenerate the numpy views of other variables again using the 'data' property.\"\"\".format(len(swarm._livingArrays)))\n\u001b[0m\u001b[1;32m     66\u001b[0m \u001b[0;34m\u001b[0m\u001b[0m\n\u001b[1;32m     67\u001b[0m \u001b[0;34m\u001b[0m\u001b[0m\n",
      "\u001b[0;31mRuntimeError\u001b[0m: \n            There appears to be 1 swarm variable numpy array objects still in\n            existance. When a new swarm variable is added, it results in the modification\n            of existing swarm variable memory layouts and locations, and therefore\n            existing numpy array views of swarm variables will cease to be valid. Potential\n            modification of these invalid numpy arrays is dangerous, and therefore they must\n            be removed before a new variable can be added.  The python 'del' command may be useful,\n            though be aware that an object cannot be destroyed while another object retains a\n            reference to it. Once you have added the required swarm variables, you can easily\n            regenerate the numpy views of other variables again using the 'data' property."
     ]
    }
   ],
   "source": [
    "#Setup some Integrals. We want these outside the main loop...\n",
    "tempVariable = gSwarm.add_variable( dataType=\"double\", count=1 )\n",
    "tempVariable.data[:] = temperatureField.evaluate(gSwarm)[:]\n",
    "tempint = uw.utils.Integral((tempVariable*rockIntVar), mesh)\n",
    "\n",
    "\n",
    "areaint = uw.utils.Integral((1.*rockIntVar),mesh)\n",
    "lithareaint = uw.utils.Integral((1.*lithIntVar),mesh)\n",
    "\n",
    "v2int = uw.utils.Integral(fn.math.dot(velocityField,velocityField)*rockIntVar, mesh)\n",
    "\n",
    "\n",
    "dwint = uw.utils.Integral(temperatureField*velocityField[1]*rockIntVar, mesh)\n",
    "\n",
    "\n",
    "sinner = fn.math.dot(strainRate_2ndInvariant,strainRate_2ndInvariant)\n",
    "vdint = uw.utils.Integral((4.*viscosityMapFn*sinner)*rockIntVar, mesh)\n",
    "vdintair = uw.utils.Integral((4.*viscosityMapFn*sinner)*airIntVar, mesh)\n",
    "vdintlith = uw.utils.Integral((4.*viscosityMapFn*sinner)*lithIntVar, mesh)\n",
    "\n",
    "\n",
    "fn_stress = 2.*viscosityMapFn*uw.function.tensor.symmetric(velocityField.fn_gradient)\n",
    "rockstress = fn.tensor.second_invariant(fn_stress)*rockIntVar\n",
    "lithstress = fn.tensor.second_invariant(fn_stress)*lithIntVar\n",
    "\n",
    "stresslithint = uw.utils.Integral(lithstress, mesh)\n"
   ]
  },
  {
   "cell_type": "code",
   "execution_count": null,
   "metadata": {
    "collapsed": false
   },
   "outputs": [],
   "source": [
    "#These should differ if the the map function assigns different properties to bulk mantle\n",
    "\n",
    "print(uw.utils.Integral((4.*mantleviscosityFn*sinner)*rockIntVar, mesh).evaluate()[0])\n",
    "print(uw.utils.Integral((4.*viscosityMapFn*sinner)*rockIntVar, mesh).evaluate()[0])\n",
    "\n",
    "\n",
    "print(uw.utils.Integral((4.*mantleviscosityFn*sinner)*airIntVar, mesh).evaluate()[0])\n",
    "print(uw.utils.Integral((4.*viscosityMapFn*sinner)*airIntVar, mesh).evaluate()[0])\n",
    "\n",
    "print(uw.utils.Integral((4.*mantleviscosityFn*sinner)*lithIntVar, mesh).evaluate()[0])\n",
    "print(uw.utils.Integral((4.*viscosityMapFn*sinner)*lithIntVar, mesh).evaluate()[0])"
   ]
  },
  {
   "cell_type": "markdown",
   "metadata": {},
   "source": [
    "\\begin{equation}  \\langle T \\rangle  = \\int^1_0 \\int^1_0 T \\, dxdy \\end{equation}"
   ]
  },
  {
   "cell_type": "code",
   "execution_count": 208,
   "metadata": {
    "collapsed": false
   },
   "outputs": [],
   "source": [
    "def avg_temp():\n",
    "    return tempint.evaluate()[0]/areaint.evaluate()[0]\n",
    "\n",
    "#This one gets cleaned up when Surface integrals are available\n",
    "def nusselt(tempfield, swarm, dx):\n",
    "    #Update the swarm variable\n",
    "    tempgrad = tempfield.fn_gradient\n",
    "    valcheck = tempgrad[1].evaluate(swarm)\n",
    "    if valcheck is None:\n",
    "        vals = np.array(0, dtype='float64')\n",
    "    else:\n",
    "        vals = valcheck.sum()*dx\n",
    "    return vals\n",
    "\n",
    "def rms():\n",
    "    return math.sqrt(v2int.evaluate()[0]/areaint.evaluate()[0])\n",
    "\n",
    "#This one gets cleaned up when Surface integrals are available\n",
    "def rms_surf(swarm, dx):\n",
    "    rmsmaxfn = fn.math.dot(velocityField,velocityField)\n",
    "    rmscheck = rmsmaxfn.evaluate(swarm)\n",
    "    if rmscheck is None:\n",
    "        #print \"watch out\"\n",
    "        rmsvals = np.array(0, dtype='float64')\n",
    "    else:\n",
    "        rmsvals = np.sqrt(rmscheck.sum()*dx)\n",
    "        #print \"okay\"\n",
    "    return rmsvals\n",
    "\n",
    "def max_vx_surf(velfield, swarm):\n",
    "    check = velfield[0].evaluate(swarm)\n",
    "    if check is None:\n",
    "        return 0.\n",
    "    else:\n",
    "        return check.max()\n",
    "\n",
    "\n",
    "#def max_vy_surf(velfield, swarm):\n",
    "#    surfvelxmaxfn = fn.view.min_max(velfield[1])\n",
    "#    surfvelxmaxfn.evaluate(swarm)\n",
    "#    return surfvelxmaxfn.max_global()\n",
    "\n",
    "def gravwork(workfn):\n",
    "    return workfn.evaluate()[0]\n",
    "\n",
    "def viscdis(vdissfn):\n",
    "    return vdissfn.evaluate()[0]\n",
    "\n",
    "def visc_extr(viscfn):\n",
    "    vuviscfnMax = fn.view.min_max(viscfn)\n",
    "    vuviscfnMax.evaluate(gSwarm)\n",
    "    vuviscfnMin = fn.view.min_max(viscfn*dummyIntVar)\n",
    "    vuviscfnMin.evaluate(gSwarm)\n",
    "    return vuviscfnMax.max_global(), vuviscfnMin.min_global()\n",
    "\n",
    "\n",
    "def stress_max(scalarStressfn):\n",
    "    fn_minmax_stress = fn.view.min_max(scalarStressfn)\n",
    "    ignore_stress = fn_minmax_stress.evaluate(gSwarm)\n",
    "    return fn_minmax_stress.max_global()\n",
    "\n",
    "\n",
    "def avg_lith_stress():\n",
    "    return stresslithint.evaluate()[0]/lithareaint.evaluate()[0]"
   ]
  },
  {
   "cell_type": "code",
   "execution_count": 209,
   "metadata": {
    "collapsed": false
   },
   "outputs": [
    {
     "data": {
      "text/plain": [
       "0.15771484375"
      ]
     },
     "execution_count": 209,
     "metadata": {},
     "output_type": "execute_result"
    }
   ],
   "source": [
    "lithareaint.evaluate()[0]"
   ]
  },
  {
   "cell_type": "code",
   "execution_count": 210,
   "metadata": {
    "collapsed": false
   },
   "outputs": [],
   "source": [
    "#Check dem \n",
    "#stress_max(rockstress)\n",
    "#visc_extr(viscosityMapFn), ndp.StAeta0\n",
    "#avg_lith_stress()"
   ]
  },
  {
   "cell_type": "code",
   "execution_count": 212,
   "metadata": {
    "collapsed": false
   },
   "outputs": [],
   "source": [
    "#Fields for saving data / fields\n",
    "\n",
    "rmsField = uw.mesh.MeshVariable( mesh=mesh,   nodeDofCount=1)\n",
    "rmsfn = fn.math.sqrt(fn.math.dot(velocityField,velocityField))\n",
    "rmsdata = rmsfn.evaluate(mesh)\n",
    "rmsField.data[:] = rmsdata \n",
    "\n",
    "viscField = uw.mesh.MeshVariable( mesh=mesh,   nodeDofCount=1)\n",
    "viscdata = mantleviscosityFn.evaluate(mesh)\n",
    "viscField.data[:] = viscdata\n",
    "\n",
    "\n",
    "strainrateField = uw.mesh.MeshVariable( mesh=mesh,   nodeDofCount=1)\n",
    "srtdata = fn.tensor.second_invariant( \n",
    "                    fn.tensor.symmetric( \n",
    "                        velocityField.fn_gradient ))\n",
    "rostfield = srtdata.evaluate(mesh)\n",
    "strainrateField.data[:] = rostfield\n",
    "\n",
    "viscVariable = gSwarm.add_variable( dataType=\"float\", count=1 )\n",
    "viscVariable.data[:] = viscosityMapFn.evaluate(gSwarm)\n"
   ]
  },
  {
   "cell_type": "code",
   "execution_count": 215,
   "metadata": {
    "collapsed": false
   },
   "outputs": [],
   "source": [
    "#Images\n",
    "figEta = glucifer.Figure()\n",
    "figEta.append( glucifer.objects.Points(gSwarm,viscVariable, logScale=True))\n",
    "\n",
    "\n",
    "figMat = glucifer.Figure()\n",
    "figMat.append( glucifer.objects.Points(gSwarm,materialVariable, colours='brown white blue red'))\n",
    "figMat.append( glucifer.objects.Mesh(mesh))\n",
    "\n",
    "\n",
    "figStrainRate = glucifer.Figure()\n",
    "figStrainRate.append( glucifer.objects.Surface(mesh, strainRate_2ndInvariant, logScale=True))\n",
    "\n",
    "\n",
    "figVelocityMag = glucifer.Figure()\n",
    "figVelocityMag.append( glucifer.objects.Surface(mesh, fn.math.dot(velocityField,velocityField))\n",
    ")\n",
    "figTemp = glucifer.Figure()\n",
    "figTemp.append( glucifer.objects.Surface(mesh, temperatureField))\n",
    "\n",
    "\n",
    "\n",
    "#Pack some stuff into a database as well\n",
    "figDb = glucifer.Figure()\n",
    "figDb.append( glucifer.objects.Points(gSwarm,viscVariable, logScale=True, colours='brown white blue'))\n",
    "figDb.append( glucifer.objects.Points(gSwarm,materialVariable, colours='brown white blue red'))\n",
    "figDb.append( glucifer.objects.Mesh(mesh))\n",
    "figDb.append( glucifer.objects.VectorArrows(mesh,velocityField, arrowHead=0.2, scaling=0.01))\n",
    "figDb.append( glucifer.objects.Surface(mesh, strainRate_2ndInvariant, logScale=True, colours='brown white blue'))\n",
    "figDb.append( glucifer.objects.Surface(mesh, temperatureField))\n",
    "                           "
   ]
  },
  {
   "cell_type": "code",
   "execution_count": 216,
   "metadata": {
    "collapsed": true
   },
   "outputs": [],
   "source": [
    "\n",
    "pics = uw.swarm.PICIntegrationSwarm(gSwarm)"
   ]
  },
  {
   "cell_type": "code",
   "execution_count": 217,
   "metadata": {
    "collapsed": false
   },
   "outputs": [
    {
     "data": {
      "text/plain": [
       "['materialVariable', 'rockIntVar', 'airIntVar', 'lithIntVar']"
      ]
     },
     "execution_count": 217,
     "metadata": {},
     "output_type": "execute_result"
    }
   ],
   "source": [
    "varnames"
   ]
  },
  {
   "cell_type": "code",
   "execution_count": 218,
   "metadata": {
    "collapsed": false
   },
   "outputs": [],
   "source": [
    "def checkpoint1(step, checkpointPath,filename, filewrites):\n",
    "    path = checkpointPath + str(step) \n",
    "    os.mkdir(path)\n",
    "    ##Write and save the file, if not already a writing step\n",
    "    if not step % filewrites == 0:\n",
    "        f_o.write((16*'%-16s ' + '\\n') % (realtime, Viscdis, float(Nu0glob), float(Nu1glob), Avg_temp, \n",
    "                                              Rms,Rmsurfglob,Max_vx_surfglob,Gravwork, etamax, etamin, \n",
    "                                              Viscdisair, Viscdislith,Avg_stress, Max_stress_rock, Max_stress_lith))\n",
    "    filename.close()\n",
    "    shutil.copyfile(os.path.join(outputPath, outputFile), os.path.join(path, outputFile))\n",
    "\n",
    "\n",
    "def checkpoint2(step, checkpointPath, swarm, filename, varlist = [materialVariable], varnames = ['materialVariable']):\n",
    "    path = checkpointPath + str(step) \n",
    "    velfile = \"velocityField\" + \".hdf5\"\n",
    "    tempfile = \"temperatureField\" + \".hdf5\"\n",
    "    pressfile = \"pressureField\" + \".hdf5\"\n",
    "    velocityField.save(os.path.join(path, velfile))\n",
    "    temperatureField.save(os.path.join(path, tempfile))\n",
    "    pressureField.save(os.path.join(path, pressfile))\n",
    "    swarm.save(os.path.join(path, \"swarm.h5\") ) \n",
    "    for ix in range(len(varlist)):\n",
    "        varb = varlist[ix]\n",
    "        varb.save(os.path.join(path,varnames[ix] + \".h5\"))\n",
    "        \n",
    "    "
   ]
  },
  {
   "cell_type": "code",
   "execution_count": 219,
   "metadata": {
    "collapsed": false
   },
   "outputs": [],
   "source": [
    "###########\n",
    "#Open file for writing metrics\n",
    "###########\n",
    "\n",
    "if checkpointLoad:\n",
    "    if uw.rank() == 0:\n",
    "        shutil.copyfile(os.path.join(checkpointLoadDir, outputFile), outputPath+outputFile)\n",
    "    comm.Barrier()\n",
    "    #os.rename(os.path.join(checkpointLoadDir, outputFile), outputPath+outputFile)\n",
    "    f_o = open(os.path.join(outputPath, outputFile), 'a')\n",
    "    prevdata = np.genfromtxt(os.path.join(outputPath, outputFile), skip_header=0, skip_footer=0)\n",
    "    realtime = prevdata[prevdata.shape[0]-1, 0]\n",
    "    step = int(checkpointLoadDir.split('/')[-1])\n",
    "    timevals = [0.]\n",
    "else:\n",
    "    f_o = open(outputPath+outputFile, 'w')\n",
    "    realtime = 0.\n",
    "    step = 0\n",
    "    timevals = [0.]"
   ]
  },
  {
   "cell_type": "markdown",
   "metadata": {},
   "source": [
    "Main simulation loop\n",
    "=======\n",
    "\n",
    "The main time stepping loop begins here. Before this the time and timestep are initialised to zero and the output statistics arrays are set up. Also the frequency of outputting basic statistics to the screen is set in steps_output.\n"
   ]
  },
  {
   "cell_type": "code",
   "execution_count": null,
   "metadata": {
    "collapsed": false
   },
   "outputs": [],
   "source": [
    "# initialise timer for computation\n",
    "startMain = time.clock()\n",
    "# Perform steps#\n",
    "while realtime < 0.2:\n",
    "#while step < 25:\n",
    "    #Enter non-linear loop\n",
    "    print step\n",
    "    solver.solve(nonLinearIterate=True)\n",
    "    dt = advDiff.get_max_dt()\n",
    "    if step == 0:\n",
    "        dt = 0.\n",
    "    #start = time.clock()\n",
    "    advDiff.integrate(dt)\n",
    "    #machine_time = (time.clock()-start)\n",
    "    #print(\"total advDiff time is: \" + str(machine_time))\n",
    "    # Advect swarm using this timestep size\n",
    "    #start = time.clock()\n",
    "    advector.integrate(dt)\n",
    "    #machine_time = (time.clock()-start)\n",
    "    #print(\"total advector time is: \" + str(machine_time))\n",
    "    # Increment\n",
    "    realtime += dt\n",
    "    step += 1\n",
    "    timevals.append(realtime)\n",
    "    \n",
    "    ################\n",
    "    #Update temperature field in the air region\n",
    "    ################\n",
    "    if (step % sticky_air_temp == 0):\n",
    "        for index, coord in enumerate(mesh.data):\n",
    "            if coord[1] >= 1.:\n",
    "                temperatureField.data[index] = 0.\n",
    " \n",
    "    ################\n",
    "    #Particle update\n",
    "    ###############\n",
    "    #if (step % swarm_update == 0) or (step % metric_output == 0): #These updates should be done before any metric output\n",
    "    if (step % swarm_update == 0): #These updates should be done before any metric output\n",
    "        #These swarm variables get updated first, as they are used to determine material changes\n",
    "        particledepths = 1. - gSwarm.particleCoordinates.data[:,1]\n",
    "        particletemps = temperatureField.evaluate(gSwarm)[:,0]\n",
    "        conditionmap['depthcondition']['data'] = particledepths\n",
    "        conditionmap['avgtempcondition']['data'] = particletemps\n",
    "        ################\n",
    "        number_updated = 0\n",
    "        for particleID in range(gSwarm.particleCoordinates.data.shape[0]):\n",
    "            check = update_swarm(DG, particleID)\n",
    "            if check > -1:\n",
    "                number_updated += 1\n",
    "                #if check == 0:\n",
    "                #    print \"from \" + str(materialVariable.data[particleID]) + \" to \" + str(check)\n",
    "                materialVariable.data[particleID] = check\n",
    "            else:\n",
    "                pass\n",
    "        #Also update those integration swarms\n",
    "        rockIntVar.data[:] = 0.\n",
    "        notair = np.where(materialVariable.data != airIndex)\n",
    "        rockIntVar.data[notair] = 1.\n",
    "        airIntVar.data[:] = 0.\n",
    "        notrock = np.where(materialVariable.data == airIndex)\n",
    "        airIntVar.data[notrock] = 1.\n",
    "        lithIntVar.data[:] = 0.\n",
    "        islith = np.where((materialVariable.data == lithosphereIndex) | (materialVariable.data == crustIndex))\n",
    "        lithIntVar.data[islith] = 1.\n",
    "        dummyIntVar.data[notrock] = 1e10 \n",
    "\n",
    "    ################            \n",
    "    # Calculate the Metrics, only on 1 of the processors:\n",
    "    ################\n",
    "    if (step % metric_output == 0):\n",
    "        ###############\n",
    "        #Swarm - based Metrics\n",
    "        ###############\n",
    "        tempVariable.data[:] = temperatureField.evaluate(gSwarm)[:]\n",
    "        Avg_temp = avg_temp()\n",
    "        Rms = rms()\n",
    "        Gravwork = gravwork(dwint)\n",
    "        Viscdis = viscdis(vdint)\n",
    "        Viscdisair = viscdis(vdintair)\n",
    "        Viscdislith = viscdis(vdintlith)\n",
    "        etamax, etamin = visc_extr(viscosityMapFn)\n",
    "        #These are the ones that need mpi4py treatment\n",
    "        Nu0loc = nusselt(temperatureField, baseintswarm, dx)\n",
    "        Nu1loc = nusselt(temperatureField, surfintswarm, dx)\n",
    "        Rmsurfloc = rms_surf(surfintswarm, dx)\n",
    "        Max_vx_surfloc = np.array(max_vx_surf(velocityField, surfintswarm),'d') #This float needed to be an array to play with mpi4py\n",
    "        #Setup the global output arrays\n",
    "        dTp = Nu0loc.dtype\n",
    "        Nu0glob = np.array(0, dtype=dTp)\n",
    "        dTp = Nu1loc.dtype\n",
    "        Nu1glob = np.array(0, dtype=dTp)\n",
    "        dTp = Rmsurfloc.dtype\n",
    "        Rmsurfglob = np.array(0, dtype=dTp)\n",
    "        dTp = Max_vx_surfloc.dtype\n",
    "        Max_vx_surfglob = np.array(0.0,dtype=dTp)\n",
    "        #ignore_stress = fn_minmax_stress.evaluate(gSwarm)\n",
    "        Avg_stress = avg_lith_stress()\n",
    "        Max_stress_rock = stress_max(rockstress)\n",
    "        Max_stress_lith = stress_max(lithstress)\n",
    "        #Do global operation ... sum, or max\n",
    "        comm.Allreduce(Nu0loc, Nu0glob, op=MPI.SUM)\n",
    "        comm.Allreduce(Nu1loc, Nu1glob, op=MPI.SUM)\n",
    "        comm.Allreduce(Rmsurfloc, Rmsurfglob, op=MPI.SUM)\n",
    "        comm.Allreduce([Max_vx_surfloc, MPI.DOUBLE],[Max_vx_surfglob, MPI.DOUBLE],op=MPI.MAX)      \n",
    "        # output to summary text file\n",
    "        if uw.rank()==0:\n",
    "            f_o.write((16*'%-16s ' + '\\n') % (realtime, Viscdis, float(Nu0glob), float(Nu1glob), Avg_temp, \n",
    "                                              Rms,Rmsurfglob,Max_vx_surfglob,Gravwork, etamax, etamin, \n",
    "                                              Viscdisair, Viscdislith,Avg_stress, Max_stress_rock, Max_stress_lith))\n",
    "        #test = max_vx_surf(velocityField, surfintswarm)    \n",
    "        #if uw.rank()==0:\n",
    "         #   print(Rmsurfglob,MRms_surf, Max_vx_surfglob, MMax_vx_surf, etamax, Metamax)\n",
    "        #print(Rmsurfloc, test)\n",
    "    ################\n",
    "    #Gldb output\n",
    "    ################ \n",
    "    if (step % gldbs_output == 0) & (writeFiles == True):\n",
    "        #Rebuild any necessary swarm variables\n",
    "        viscVariable.data[:] = viscosityMapFn.evaluate(gSwarm)\n",
    "        #Write gldbs\n",
    "        fnamedb = \"dbFig\" + \"_\" + str(ModIt) + \"_\" + str(step) + \".gldb\"\n",
    "        fullpath = os.path.join(outputPath + \"gldbs/\" + fnamedb)\n",
    "        figDb.show()\n",
    "        figDb.save_database(fullpath)\n",
    "    ################\n",
    "    #Also repopulate entire swarm periodically\n",
    "    ################\n",
    "    if step % swarm_repop == 0:\n",
    "        pics.repopulate()\n",
    "    ################\n",
    "    #Checkpoint\n",
    "    ################\n",
    "    if step % checkpoint_every == 0:\n",
    "        if uw.rank() == 0:\n",
    "            checkpoint1(step, checkpointPath,f_o, metric_output)           \n",
    "        checkpoint2(step, checkpointPath, gSwarm, f_o, varlist = varlist, varnames = varnames)\n",
    "        f_o = open(os.path.join(outputPath, outputFile), 'a') #is this line supposed to be here?\n",
    "     \n",
    "    \n",
    "f_o.close()\n",
    "#print 'step =',step, '; dt =', dt, '; CPU time =', time.clock()-startMain"
   ]
  },
  {
   "cell_type": "code",
   "execution_count": null,
   "metadata": {
    "collapsed": false
   },
   "outputs": [],
   "source": [
    "#avg_temp(), areaint.evaluate()[0]"
   ]
  },
  {
   "cell_type": "code",
   "execution_count": null,
   "metadata": {
    "collapsed": false
   },
   "outputs": [],
   "source": [
    "varnames"
   ]
  },
  {
   "cell_type": "code",
   "execution_count": null,
   "metadata": {
    "collapsed": false
   },
   "outputs": [],
   "source": [
    "#figEta = glucifer.Figure(figsize=(1024,384))\n",
    "#figEta.append( glucifer.objects.Points(gSwarm,viscVariable, logScale=True))\n",
    "#figEta.save_database('test.gldb')\n",
    "#figEta.show()\n",
    "\n"
   ]
  },
  {
   "cell_type": "code",
   "execution_count": 200,
   "metadata": {
    "collapsed": false
   },
   "outputs": [],
   "source": [
    "\n",
    "figMat = glucifer.Figure()\n",
    "figMat.append( glucifer.objects.Points(gSwarm,materialVariable, colours='brown white blue red black'))\n",
    "\n",
    "figMat.show()\n",
    "figMat.save_database('test.gldb')\n",
    "#valueRange=None"
   ]
  },
  {
   "cell_type": "code",
   "execution_count": null,
   "metadata": {
    "collapsed": false
   },
   "outputs": [],
   "source": [
    "\n",
    "figMat = glucifer.Figure()\n",
    "figMat.append( glucifer.objects.Points(gSwarm,densityMapFn, logScale=True,))\n",
    "\n",
    "figMat.show()\n",
    "figMat.save_database('test.gldb')\n",
    "#valueRange=None,"
   ]
  },
  {
   "cell_type": "code",
   "execution_count": null,
   "metadata": {
    "collapsed": false
   },
   "outputs": [],
   "source": [
    "#figMat = glucifer.Figure()\n",
    "#figMat.append( glucifer.objects.Points(gSwarm,rockIntVar))\n",
    "#figMat.append( glucifer.objects.Points(gSwarm,rockIntVar, pointSize= 5.))\n",
    "#figMat.append( glucifer.objects.Mesh(mesh))\n",
    "#figMat.save_database('test.gldb')\n",
    "#figMat.show()"
   ]
  },
  {
   "cell_type": "code",
   "execution_count": null,
   "metadata": {
    "collapsed": false
   },
   "outputs": [],
   "source": [
    "figDb.show()\n",
    "figDb.save_database('test.gldb')"
   ]
  },
  {
   "cell_type": "code",
   "execution_count": null,
   "metadata": {
    "collapsed": false
   },
   "outputs": [],
   "source": [
    "#figStrainRate = glucifer.Figure()\n",
    "#figStrainRate.append( glucifer.objects.Surface(mesh, strainRate_2ndInvariant, logScale=True))\n",
    "#figStrainRate.show()\n",
    "#figStrainRate.save_database('test.gldb')\n"
   ]
  },
  {
   "cell_type": "code",
   "execution_count": null,
   "metadata": {
    "collapsed": false
   },
   "outputs": [],
   "source": [
    "machine_time = (time.clock()-startMain)\n",
    "print(\"total machine time is: \" + str(machine_time))"
   ]
  },
  {
   "cell_type": "code",
   "execution_count": null,
   "metadata": {
    "collapsed": true
   },
   "outputs": [],
   "source": [
    "print(\"dimensionless time is: \" + str(realtime))"
   ]
  },
  {
   "cell_type": "code",
   "execution_count": null,
   "metadata": {
    "collapsed": false
   },
   "outputs": [],
   "source": [
    "velocityField.evaluate(IWalls)[:,0].max()"
   ]
  },
  {
   "cell_type": "code",
   "execution_count": null,
   "metadata": {
    "collapsed": false
   },
   "outputs": [],
   "source": [
    "#velocityField.evaluate(TWalls)[:,0].max()"
   ]
  },
  {
   "cell_type": "markdown",
   "metadata": {},
   "source": [
    "# Test checkpoint bug"
   ]
  }
 ],
 "metadata": {
  "kernelspec": {
   "display_name": "Python 2",
   "language": "python",
   "name": "python2"
  },
  "language_info": {
   "codemirror_mode": {
    "name": "ipython",
    "version": 2
   },
   "file_extension": ".py",
   "mimetype": "text/x-python",
   "name": "python",
   "nbconvert_exporter": "python",
   "pygments_lexer": "ipython2",
   "version": "2.7.11"
  }
 },
 "nbformat": 4,
 "nbformat_minor": 0
}
