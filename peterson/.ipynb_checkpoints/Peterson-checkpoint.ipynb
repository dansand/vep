{
 "cells": [
  {
   "cell_type": "markdown",
   "metadata": {
    "collapsed": true
   },
   "source": [
    "# Peterson et al Model\n",
    "\n",
    "Currently broken, temperature is mysteriouly rising in the domain as solves progress. Heating is switched off.\n",
    "\n"
   ]
  },
  {
   "cell_type": "code",
   "execution_count": 43,
   "metadata": {
    "collapsed": false
   },
   "outputs": [],
   "source": [
    "#!pip install natsort\n",
    "#!pip install networkx"
   ]
  },
  {
   "cell_type": "code",
   "execution_count": 44,
   "metadata": {
    "collapsed": false
   },
   "outputs": [],
   "source": [
    "import networkx as nx\n",
    "import underworld as uw\n",
    "import math\n",
    "from underworld import function as fn\n",
    "import glucifer\n",
    "#import matplotlib.pyplot as pyplot\n",
    "import time\n",
    "import numpy as np\n",
    "import os\n",
    "import sys\n",
    "import natsort\n",
    "import shutil\n",
    "from easydict import EasyDict as edict\n",
    "import slippy2 as sp\n",
    "from slippy2 import unit_conversions\n",
    "from slippy2 import boundary_layer2d\n",
    "\n",
    "\n",
    "\n",
    "from mpi4py import MPI\n",
    "comm = MPI.COMM_WORLD\n",
    "rank = comm.Get_rank()"
   ]
  },
  {
   "cell_type": "code",
   "execution_count": null,
   "metadata": {
    "collapsed": true
   },
   "outputs": [],
   "source": []
  },
  {
   "cell_type": "markdown",
   "metadata": {
    "collapsed": true
   },
   "source": [
    "def mpy_to_kmpma(mpy):\n",
    "    \"\"\"\n",
    "    convert meters per year to kilometers per year\n",
    "    Args:\n",
    "        mpy (float): velocity in meters per year\n",
    "    Returns:\n",
    "        velocity in kilometers per year\n",
    "    Raises:\n",
    "        TypeError: not implemented\n",
    "        ValueError: not implemented\n",
    "    \"\"\"\n",
    "    return 1e3*mpy\n",
    "\n",
    "def myts(mys):\n",
    "    \"\"\"\n",
    "    convert millions of years to seconds\n",
    "    Args:\n",
    "        mys (float): millions or years\n",
    "    Returns:\n",
    "        seconds\n",
    "    Raises:\n",
    "        TypeError: not implemented\n",
    "        ValueError: not implemented\n",
    "    \"\"\"\n",
    "    secs = mys*(3600.*24*365)*1e6\n",
    "    return secs\n",
    "\n",
    "def stmy(secs):\n",
    "    \"\"\"\n",
    "    convert millions of years to seconds\n",
    "    Args:\n",
    "        mys (float): millions or years\n",
    "    Returns:\n",
    "        seconds\n",
    "    Raises:\n",
    "        TypeError: not implemented\n",
    "        ValueError: not implemented\n",
    "    \"\"\"\n",
    "    myr = secs/((3600.*24*365)*1e6)\n",
    "    return myr"
   ]
  },
  {
   "cell_type": "code",
   "execution_count": 45,
   "metadata": {
    "collapsed": false,
    "scrolled": true
   },
   "outputs": [
    {
     "name": "stdout",
     "output_type": "stream",
     "text": [
      "/Users/dansandiford/Documents/programming/earthsci_code/python/vep\r\n",
      "Peterson.ipynb      Untitled.ipynb      base_model.py\r\n",
      "Peterson.py         adv-diff-slab.ipynb \u001b[1m\u001b[34mresults\u001b[m\u001b[m\r\n",
      "README.md           base_model.ipynb    test.gldb\r\n"
     ]
    }
   ],
   "source": [
    "#Display working directory info if in nb mode\n",
    "if (len(sys.argv) > 1):\n",
    "    if (sys.argv[1] == '-f'):\n",
    "        !pwd && ls"
   ]
  },
  {
   "cell_type": "code",
   "execution_count": 46,
   "metadata": {
    "collapsed": false
   },
   "outputs": [],
   "source": [
    "############\n",
    "#Model name.  \n",
    "############\n",
    "Model = \"5\"\n",
    "ModNum = 1\n",
    "\n",
    "if len(sys.argv) == 1:\n",
    "    ModIt = \"Base\"\n",
    "elif sys.argv[1] == '-f':\n",
    "    ModIt = \"Base\"\n",
    "else:\n",
    "    ModIt = str(sys.argv[1])\n"
   ]
  },
  {
   "cell_type": "code",
   "execution_count": 47,
   "metadata": {
    "collapsed": true
   },
   "outputs": [],
   "source": [
    "###########\n",
    "#Standard output directory setup\n",
    "###########\n",
    "\n",
    "\n",
    "outputPath = \"results\" + \"/\" +  str(Model) + \"/\" + str(ModNum) + \"/\" + str(ModIt) + \"/\"\n",
    "imagePath = outputPath + 'images/'\n",
    "filePath = outputPath + 'files/'\n",
    "checkpointPath = outputPath + 'checkpoint/'\n",
    "dbPath = outputPath + 'gldbs/'\n",
    "outputFile = 'results_model' + Model + '_' + str(ModNum) + '_' + str(ModIt) + '.dat'\n",
    "\n",
    "if uw.rank()==0:\n",
    "    # make directories if they don't exist\n",
    "    if not os.path.isdir(outputPath):\n",
    "        os.makedirs(outputPath)\n",
    "    if not os.path.isdir(checkpointPath):\n",
    "        os.makedirs(checkpointPath)\n",
    "    if not os.path.isdir(imagePath):\n",
    "        os.makedirs(imagePath)\n",
    "    if not os.path.isdir(dbPath):\n",
    "        os.makedirs(dbPath)\n",
    "    if not os.path.isdir(filePath):\n",
    "        os.makedirs(filePath)\n",
    "        \n",
    "comm.Barrier() #Barrier here so not procs run the check in the next cell too early "
   ]
  },
  {
   "cell_type": "code",
   "execution_count": 48,
   "metadata": {
    "collapsed": false
   },
   "outputs": [
    {
     "name": "stdout",
     "output_type": "stream",
     "text": [
      "results/5/1/Base/checkpoint/ is empty\n"
     ]
    }
   ],
   "source": [
    "###########\n",
    "#Check if starting from checkpoint\n",
    "###########\n",
    "\n",
    "checkdirs = []\n",
    "for dirpath, dirnames, files in os.walk(checkpointPath):\n",
    "    if files:\n",
    "        print dirpath, 'has files'\n",
    "        checkpointLoad = True\n",
    "        checkdirs.append(dirpath)\n",
    "    if not files:\n",
    "        print dirpath, 'is empty'\n",
    "        checkpointLoad = False\n",
    "        \n",
    "\n",
    "        "
   ]
  },
  {
   "cell_type": "markdown",
   "metadata": {},
   "source": [
    "Set physical constants and parameters, including the Rayleigh number (*RA*). "
   ]
  },
  {
   "cell_type": "code",
   "execution_count": null,
   "metadata": {
    "collapsed": false
   },
   "outputs": [],
   "source": []
  },
  {
   "cell_type": "code",
   "execution_count": 49,
   "metadata": {
    "collapsed": false
   },
   "outputs": [],
   "source": [
    "###########\n",
    "#Physical parameters\n",
    "###########\n",
    "\n",
    "#The Slippy rheology class will contain dimensional and nondimensional values, linked in a self-consistent way by scaling paramters\n",
    "#lowermantle.nondimensional['cohesion']\n",
    "#Where lowermantle is a material class (generated within a rheology class); and non dimensional is a dictionary\n",
    "\n",
    "#UW naming conventions: \n",
    "#module_name, package_name, ClassName, function_name, method_name, \n",
    "#ExceptionName, propertyName GLOBAL_CONSTANT_NAME, globalVarName, instanceVarName, functionParameterName, localVarName\n",
    "###########\n",
    "\n",
    "\n",
    "#dimensional parameter dictionary\n",
    "dp = edict({'LS':700.*1e3,\n",
    "           'rho':3300,\n",
    "           'g':9.81, \n",
    "           'eta0':1e23,\n",
    "           'k':10**-6,\n",
    "           'a':1.25*10**-5, \n",
    "           'TS':200.,\n",
    "           'TB':200 + 1703.,\n",
    "           'deltaT':1703., \n",
    "           'cohesion':1e7, \n",
    "           'E':240000., \n",
    "           'R':8.314,\n",
    "           'V':6.34*(10**-7),\n",
    "           'StALS': 100.*1e3})\n",
    "\n",
    "#non-dimensional parameter dictionary\n",
    "#One draw back of a dictionary structure, is that variables cannot link to other variables\n",
    "RAfac = 8.4\n",
    "Stressfac =(RAfac**(2/3.))\n",
    "ndp = edict({'RA':1e6*RAfac,      \n",
    "              'LS':1.,\n",
    "              'eta0':1.,\n",
    "              'StAeta0':0.01,\n",
    "              'k':1.,\n",
    "              'E':11.55,\n",
    "              'V':3.0,\n",
    "              'H':20.,\n",
    "              'TR':(dp.TB/1600.),\n",
    "              'TS':(dp.TS/1600.),\n",
    "              'RD':1.,\n",
    "              'cohesion':RAfac*10000.,\n",
    "              'cohesion_reduce':10.,\n",
    "              'fc':0.5, \n",
    "              'low_visc':1e-2,\n",
    "              'up_visc':1e3,\n",
    "              'random_temp': 0.05})\n",
    "\n",
    "\n",
    "#A few parameters defining lengths scales, affects materal transistions etc.\n",
    "MANTLETOCRUST = (16.*1e3)/dp.LS #Crust depth\n",
    "CRUSTTOMANTLE = (900.*1e3)/dp.LS \n",
    "LITHTOMANTLE = (900.*1e3)/dp.LS \n",
    "MANTLETOLITH = (200.*1e3)/dp.LS \n",
    "TOPOHEIGHT = (0.*1e3)/dp.LS  #rock-air topography limits\n",
    "CRUSTTOECL  = (100.*1e3)/dp.LS\n",
    "AVGTEMP = 0.53 #Used to define lithosphere\n",
    "\n",
    "\n",
    "#Switch on additinal physical mechanisms like crust buoyancy, eclogite buoyancy, lower mantle viscosity, melt viscosity reduction \n",
    "\n",
    "crust_buoyancy = True\n",
    "ecl_buoyancy = True\n",
    "lower_mantle = True\n",
    "melt_viscosity_reduction= True\n",
    "\n",
    "\n",
    "#Compositional Rayliegh numbers for air, crust, ecglogite\n",
    "ETAREF = dp.rho*dp.g*dp.a*dp.deltaT*((dp.LS)**3)/(ndp.RA*dp.k) #equivalent dimensional reference viscosity\n",
    "#RC = (3300.*dp.g*(dp.LS)**3)/(ETAREF *dp.k) #Composisitional Rayleigh number for rock-air buoyancy force\n",
    "RCA = (1650.*dp.g*(dp.LS)**3)/(ETAREF *dp.k) #Composisitional Rayleigh number for rock-air buoyancy force\n",
    "COMP_RA_FACT_AIR = RCA/ndp.RA\n",
    "RCC = (100.*dp.g*(dp.LS)**3)/(ETAREF *dp.k) #Composisitional Rayleigh number for crust\n",
    "COMP_RA_FACT_CRUST = RCC/ndp.RA\n",
    "RCE = -1*(200.*dp.g*(dp.LS)**3)/(ETAREF *dp.k) #Composisitional Rayleigh number for eclogite \n",
    "COMP_RA_FACT_ECL = RCE/ndp.RA\n",
    "ndp[\"StA_RA\"] = ndp.RA*COMP_RA_FACT_AIR\n",
    "if crust_buoyancy:\n",
    "    ndp[\"Crust_RA\"] = ndp.RA*COMP_RA_FACT_CRUST\n",
    "else:\n",
    "    ndp[\"Crust_RA\"] = 0.\n",
    "if ecl_buoyancy:\n",
    "    ndp[\"Ecl_RA\"] = ndp.RA*COMP_RA_FACT_ECL\n",
    "else:\n",
    "    ndp[\"Ecl_RA\"] = 0.\n",
    "    \n",
    "\n",
    "\n",
    "#######################To be replaced soon\n",
    "#Physical parameters that can be defined with STDIN,\n",
    "#The == '-f': check is a a hack check to see cover the notebook case\n",
    "if len(sys.argv) == 1:\n",
    "    ndp.cohesion = ndp.cohesion\n",
    "elif sys.argv[1] == '-f':\n",
    "    ndp.cohesion = ndp.cohesion\n",
    "else:\n",
    "    ndp.cohesion = float(sys.argv[1])*newvisc"
   ]
  },
  {
   "cell_type": "code",
   "execution_count": 50,
   "metadata": {
    "collapsed": false
   },
   "outputs": [],
   "source": [
    "###########\n",
    "#Boundary layer / slab paramaters\n",
    "###########\n",
    "\n",
    "subzone = (2. - 1.2857)\n",
    "mor = 0.5\n",
    "vel = 20e3\n",
    "agelimit = False\n",
    "thermallimit = False\n",
    "\n",
    "#Slab perturbation paramaters\n",
    "Roc = 400.\n",
    "Crust = 35.\n",
    "theta = 60.\n"
   ]
  },
  {
   "cell_type": "code",
   "execution_count": 51,
   "metadata": {
    "collapsed": false
   },
   "outputs": [],
   "source": [
    "#900e3/dp.LS"
   ]
  },
  {
   "cell_type": "code",
   "execution_count": 52,
   "metadata": {
    "collapsed": false
   },
   "outputs": [],
   "source": [
    "#(64*3)/2/2"
   ]
  },
  {
   "cell_type": "code",
   "execution_count": 53,
   "metadata": {
    "collapsed": false
   },
   "outputs": [],
   "source": [
    "###########\n",
    "#Model setup parameters\n",
    "###########\n",
    "\n",
    "stickyAir = True\n",
    "\n",
    "MINX = -2.\n",
    "MINY = 0.\n",
    "MAXX = 2.0\n",
    "\n",
    "#MAXY = 1.035\n",
    "MAXY = 1.\n",
    "\n",
    "if MINX == 0.:\n",
    "    squareModel = True\n",
    "else: \n",
    "    squareModel = False\n",
    "    \n",
    "    \n",
    "dim = 2          # number of spatial dimensions\n",
    "\n",
    "\n",
    "#MESH STUFF\n",
    "\n",
    "RES = 64\n",
    "\n",
    "\n",
    "if MINX == 0.:\n",
    "    Xres = RES\n",
    "else:\n",
    "    Xres = 4*RES\n",
    "\n",
    "if stickyAir:\n",
    "    Yres = RES\n",
    "    MAXY = 1. + dp.StALS/dp.LS #150km\n",
    "    \n",
    "else:\n",
    "    Yres = RES\n",
    "    MAXY = 1.\n",
    "\n",
    "\n",
    "periodic = [False, False]\n",
    "elementType = \"Q1/dQ0\"\n",
    "#elementType =\"Q2/DPC1\"\n",
    "\n",
    "refineMesh = False\n",
    "\n",
    "\n",
    "#System/Solver stuff\n",
    "\n",
    "PIC_integration=True\n",
    "ppc = 25"
   ]
  },
  {
   "cell_type": "code",
   "execution_count": 54,
   "metadata": {
    "collapsed": false
   },
   "outputs": [],
   "source": [
    "###########\n",
    "#Model Runtime parameters\n",
    "###########\n",
    "\n",
    "swarm_update = 10\n",
    "swarm_repop = 25\n",
    "files_output = 1e6\n",
    "gldbs_output = 25\n",
    "images_output = 1e6\n",
    "checkpoint_every = 25\n",
    "metric_output = 25\n",
    "sticky_air_temp = 10\n",
    "\n",
    "comm.Barrier() #Barrier here so not procs run the check in the next cell too early \n",
    "\n",
    "assert metric_output <= checkpoint_every, 'Checkpointing should run less or as ofen as metric output'\n",
    "#assert (metric_output >= swarm_update), 'Swarm update is needed before checkpointing'\n",
    "#assert metric_output >= sticky_air_temp, 'Sticky air temp should be updated more frequently that metrics'\n"
   ]
  },
  {
   "cell_type": "code",
   "execution_count": 55,
   "metadata": {
    "collapsed": false
   },
   "outputs": [],
   "source": [
    "###########\n",
    "#Model output parameters\n",
    "###########\n",
    "\n",
    "#Do you want to write hdf5 files - Temp, RMS, viscosity, stress?\n",
    "writeFiles = True\n",
    "loadTemp = True\n",
    "\n",
    "    "
   ]
  },
  {
   "cell_type": "code",
   "execution_count": 56,
   "metadata": {
    "collapsed": false
   },
   "outputs": [],
   "source": [
    "mesh = uw.mesh.FeMesh_Cartesian( elementType = elementType,\n",
    "                                 elementRes  = (Xres, Yres), \n",
    "                                 minCoord    = (MINX,MINY), \n",
    "                                 maxCoord=(MAXX,MAXY), periodic=periodic)\n",
    "\n",
    "\n",
    "\n",
    "velocityField       = uw.mesh.MeshVariable( mesh=mesh,         nodeDofCount=dim )\n",
    "pressureField       = uw.mesh.MeshVariable( mesh=mesh.subMesh, nodeDofCount=1 )\n",
    "temperatureField    = uw.mesh.MeshVariable( mesh=mesh,         nodeDofCount=1 )\n",
    "temperatureDotField = uw.mesh.MeshVariable( mesh=mesh,         nodeDofCount=1 )"
   ]
  },
  {
   "cell_type": "code",
   "execution_count": 57,
   "metadata": {
    "collapsed": false
   },
   "outputs": [
    {
     "data": {
      "text/plain": [
       "(256, -2.0, [False, False], 'Q1/dQ0')"
      ]
     },
     "execution_count": 57,
     "metadata": {},
     "output_type": "execute_result"
    }
   ],
   "source": [
    "Xres, MINX, periodic, elementType"
   ]
  },
  {
   "cell_type": "markdown",
   "metadata": {},
   "source": [
    "Create Finite Element (FE) variables for the velocity, pressure and temperature fields. The last two of these are scalar fields needing only one value at each mesh point, while the velocity field contains a vector of *dim* dimensions at each mesh point."
   ]
  },
  {
   "cell_type": "markdown",
   "metadata": {},
   "source": [
    "Create some dummy fevariables for doing top and bottom boundary calculations."
   ]
  },
  {
   "cell_type": "markdown",
   "metadata": {},
   "source": [
    "## Refine mesh"
   ]
  },
  {
   "cell_type": "code",
   "execution_count": 58,
   "metadata": {
    "collapsed": false
   },
   "outputs": [],
   "source": [
    "#X-Axis\n",
    "\n",
    "if refineMesh:\n",
    "    mesh.reset()\n",
    "    axis = 0\n",
    "    origcoords = np.linspace(mesh.minCoord[axis], mesh.maxCoord[axis], mesh.elementRes[axis] + 1)\n",
    "    edge_rest_lengths = np.diff(origcoords)\n",
    "\n",
    "    deform_lengths = edge_rest_lengths.copy()\n",
    "    min_point =  (abs(mesh.maxCoord[axis]) - abs(mesh.minCoord[axis]))/2.\n",
    "    el_reduction = 0.5001\n",
    "    dx = mesh.maxCoord[axis] - min_point\n",
    "\n",
    "    deform_lengths = deform_lengths - \\\n",
    "                                    ((1.-el_reduction) *deform_lengths[0]) + \\\n",
    "                                    abs((origcoords[1:] - min_point))*((0.5*deform_lengths[0])/dx)\n",
    "\n",
    "    #print(edge_rest_lengths.shape, deform_lengths.shape)\n",
    "\n",
    "    sp.deform_1d(deform_lengths, mesh,axis = 'x',norm = 'Min', constraints = [])"
   ]
  },
  {
   "cell_type": "code",
   "execution_count": 59,
   "metadata": {
    "collapsed": false
   },
   "outputs": [],
   "source": [
    "axis = 1\n",
    "orgs = np.linspace(mesh.minCoord[axis], mesh.maxCoord[axis], mesh.elementRes[axis] + 1)\n",
    "\n",
    "value_to_constrain = 1.\n",
    "\n",
    "\n",
    "yconst = [(sp.find_closest(orgs, value_to_constrain), np.array([1.,0]))]\n"
   ]
  },
  {
   "cell_type": "code",
   "execution_count": 60,
   "metadata": {
    "collapsed": false
   },
   "outputs": [],
   "source": [
    "#Y-Axis\n",
    "if refineMesh:\n",
    "    #Y-Axis\n",
    "    axis = 1\n",
    "    origcoords = np.linspace(mesh.minCoord[axis], mesh.maxCoord[axis], mesh.elementRes[axis] + 1)\n",
    "    edge_rest_lengths = np.diff(origcoords)\n",
    "\n",
    "    deform_lengths = edge_rest_lengths.copy()\n",
    "    min_point =  (mesh.maxCoord[axis])\n",
    "    el_reduction = 0.5001\n",
    "    dx = mesh.maxCoord[axis]\n",
    "\n",
    "    deform_lengths = deform_lengths - \\\n",
    "                                    ((1.-el_reduction)*deform_lengths[0]) + \\\n",
    "                                    abs((origcoords[1:] - min_point))*((0.5*deform_lengths[0])/dx)\n",
    "\n",
    "    #print(edge_rest_lengths.shape, deform_lengths.shape)\n",
    "\n",
    "    sp.deform_1d(deform_lengths, mesh,axis = 'y',norm = 'Min', constraints = yconst)"
   ]
  },
  {
   "cell_type": "markdown",
   "metadata": {},
   "source": [
    "# ICs and BCs"
   ]
  },
  {
   "cell_type": "code",
   "execution_count": 61,
   "metadata": {
    "collapsed": true
   },
   "outputs": [],
   "source": [
    "# Initialise data.. Note that we are also setting boundary conditions here\n",
    "velocityField.data[:] = [0.,0.]\n",
    "pressureField.data[:] = 0.\n",
    "temperatureField.data[:] = 0.\n",
    "temperatureDotField.data[:] = 0.\n"
   ]
  },
  {
   "cell_type": "markdown",
   "metadata": {},
   "source": [
    "## Temp ICs"
   ]
  },
  {
   "cell_type": "code",
   "execution_count": 62,
   "metadata": {
    "collapsed": false
   },
   "outputs": [
    {
     "data": {
      "text/plain": [
       "1.189375"
      ]
     },
     "execution_count": 62,
     "metadata": {},
     "output_type": "execute_result"
    }
   ],
   "source": [
    "ndp.TR"
   ]
  },
  {
   "cell_type": "code",
   "execution_count": 63,
   "metadata": {
    "collapsed": false
   },
   "outputs": [],
   "source": [
    "#boundary_layer2d.agefunc(0.0, off, vel = vel, dom = (MINX,MAXX))\n",
    "\n",
    "lith= boundary_layer2d.LithosphereTemps(mesh, temperatureField, dp.LS, subzone,  tint=ndp.TR, tsurf=ndp.TS, vel= 10e3, diffs = 1e-6)\n",
    "\n",
    "\n",
    "#lith= boundary_layer2d.LithosphereTemps(mesh, temperatureField, dp.LS, subzone, mor, tint=0.8, vel=vel, diffs = 1e-6)\n",
    "\n"
   ]
  },
  {
   "cell_type": "code",
   "execution_count": 64,
   "metadata": {
    "collapsed": false
   },
   "outputs": [
    {
     "data": {
      "text/plain": [
       "1.1"
      ]
     },
     "execution_count": 64,
     "metadata": {},
     "output_type": "execute_result"
    }
   ],
   "source": [
    "(1.1 - 0.1)*math.erf(1e6) + 0.1"
   ]
  },
  {
   "cell_type": "code",
   "execution_count": 65,
   "metadata": {
    "collapsed": false
   },
   "outputs": [],
   "source": [
    "fudge = 1.\n",
    "\n",
    "thisage = 8\n",
    "\n",
    "for index, coord in enumerate(mesh.data):\n",
    "    xloc = coord[0]\n",
    "    agema = lith.agefunc(xloc)\n",
    "    #print agema\n",
    "    if agelimit:\n",
    "        agema = min(agelimit, agema)\n",
    "    if thermallimit:\n",
    "        if (1.-coord[1]) < (lith.lithdepthfunc(agema)/dp.LS)*thermallimit: #comparison of dimensionless (model) lengths\n",
    "            zloc = ((1.- coord[1])* dp.LS) # dimensional depth kms\n",
    "            t = lith.tempfunc(thisage,  zloc)\n",
    "            temperatureField.data[index] = t\n",
    "        else:\n",
    "            temperatureField.data[index] = lith.tint\n",
    "    \n",
    "    else:\n",
    "        #if coord[1] > (1. - lith.lithdepthfunc(thisage)) and (coord[1] < 1.) and (coord[0] > (MAXX - (60e3/dp.LS))):\n",
    "        #    temperatureField.data[index] = lith.tint\n",
    "        if coord[1] >= 1.:\n",
    "            temperatureField.data[index] = lith.tsurf\n",
    "        else:\n",
    "            zloc = ((1.- coord[1])* dp.LS) # dimensional depth kms\n",
    "            if coord[0] < subzone:\n",
    "                t = lith.tempfunc(thisage/4., zloc)\n",
    "            else:\n",
    "                t = lith.tempfunc(thisage, zloc)\n",
    "            temperatureField.data[index] = t\n",
    "    \n"
   ]
  },
  {
   "cell_type": "code",
   "execution_count": 66,
   "metadata": {
    "collapsed": false
   },
   "outputs": [
    {
     "data": {
      "text/plain": [
       "1.189375"
      ]
     },
     "execution_count": 66,
     "metadata": {},
     "output_type": "execute_result"
    }
   ],
   "source": [
    "lith.tempfunc(thisage, 500e3)"
   ]
  },
  {
   "cell_type": "code",
   "execution_count": 67,
   "metadata": {
    "collapsed": false
   },
   "outputs": [
    {
     "data": {
      "text/plain": [
       "1.189375"
      ]
     },
     "execution_count": 67,
     "metadata": {},
     "output_type": "execute_result"
    }
   ],
   "source": [
    "#thisage = 8.\n",
    "#lith.tempfunc(50., 150e3)\n",
    "lith.lithdepthfunc(thisage/4)\n",
    "ndp.TR"
   ]
  },
  {
   "cell_type": "markdown",
   "metadata": {},
   "source": [
    "## Slab perturbation"
   ]
  },
  {
   "cell_type": "code",
   "execution_count": 68,
   "metadata": {
    "collapsed": true
   },
   "outputs": [],
   "source": [
    "#testField    = uw.mesh.MeshVariable( mesh=mesh,         nodeDofCount=1 )\n",
    "#testField.data[:] = 0."
   ]
  },
  {
   "cell_type": "code",
   "execution_count": 69,
   "metadata": {
    "collapsed": false
   },
   "outputs": [],
   "source": [
    "def inCircleFnGenerator(centre, radius):\n",
    "    coord = fn.input()\n",
    "    offsetFn = coord - centre\n",
    "    return fn.math.dot( offsetFn, offsetFn ) < radius**2\n",
    "\n",
    "#Setup slab perturbation params (mostly dimensionles / model params here)\n",
    "phi = 90. - theta\n",
    "RocM = (Roc/dp.LS)*1e3\n",
    "CrustM = MANTLETOCRUST\n",
    "#slabdepth = lithdepthfunc(agefunc(off, off, vel), dp.k)\n",
    "slabdepthM = lith.lithdepthfunc(lith.agefunc(subzone)) /dp.LS\n",
    "#slabdepthM *= 5.\n",
    "Org = (0.+subzone, 1.-RocM)\n",
    "#Use three circles to define our slab and crust perturbation,  \n",
    "Oc = inCircleFnGenerator(Org , RocM)\n",
    "Gc = inCircleFnGenerator(Org , RocM + (50e3/dp.LS)) #a slightly larger circle for the 'gap'\n",
    "Ic = inCircleFnGenerator(Org , RocM - slabdepthM)\n",
    "Cc = inCircleFnGenerator(Org , RocM - CrustM)\n",
    "dx = (RocM)/(np.math.tan((np.math.pi/180.)*phi))\n",
    "\n",
    "#Work our which way the slab should face:\n",
    "sense = 'Left'\n",
    "#if lith.agefunc(subzone + 0.0001) < lith.agefunc(subzone - 0.0001):\n",
    "#    sense = 'Right'\n",
    "\n",
    "#We'll also create a triangle which will truncate the circles defining the slab...\n",
    "if sense == 'Left': \n",
    "    ptx = subzone - dx\n",
    "else:\n",
    "    ptx = subzone + dx\n",
    "\n",
    "coords = ((0.+subzone, 1), (0.+subzone, 1.-RocM), (ptx, 1.))\n",
    "Tri = fn.shape.Polygon(np.array(coords))\n"
   ]
  },
  {
   "cell_type": "code",
   "execution_count": 70,
   "metadata": {
    "collapsed": false
   },
   "outputs": [],
   "source": [
    "#Assign temperatures in the perturbation region\n",
    "#sds = []\n",
    "\n",
    "\n",
    "\n",
    "if sense == 'Left': \n",
    "    age = lith.agefunc(subzone + 0.001)\n",
    "else:\n",
    "    age = lith.agefunc(subzone - 0.001)\n",
    "    \n",
    "if agelimit:\n",
    "        age = min(agelim, age)\n",
    "\n",
    "for index, coord in enumerate(mesh.data):\n",
    "    #if Oc.evaluate(tuple(coord)) and Tri.evaluate(tuple(coord)) and not Ic.evaluate(tuple(coord)): #in inner circle, not in outer circle\n",
    "    if Gc.evaluate(tuple(coord)) and Tri.evaluate(tuple(coord)) and not Oc.evaluate(tuple(coord)):\n",
    "        temperatureField.data[index] = lith.tint\n",
    "    \n",
    "    elif Oc.evaluate(tuple(coord)) and Tri.evaluate(tuple(coord)): #In the quarter-circle defining the lithosphere\n",
    "\n",
    "        sd = ((RocM - math.sqrt((coord[0] - Org[0])**2 + (coord[1] - Org[1])**2))*dp.LS) #distance from slab edge in m\n",
    "        #print sd\n",
    "        if thermallimit:\n",
    "            if sd < (thisage)*thermallimit: #comparison of dimensionless (model) lengths\n",
    "                t = lith.tempfunc(age, sd)\n",
    "                temperatureField.data[index] = t\n",
    "        else:\n",
    "            t = lith.tempfunc(thisage, sd)\n",
    "            temperatureField.data[index] = t\n",
    "        "
   ]
  },
  {
   "cell_type": "code",
   "execution_count": 148,
   "metadata": {
    "collapsed": false
   },
   "outputs": [
    {
     "data": {
      "text/html": [
       "<img src='data:image/png;base64,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'>"
      ],
      "text/plain": [
       "<IPython.core.display.HTML object>"
      ]
     },
     "execution_count": 148,
     "metadata": {},
     "output_type": "execute_result"
    }
   ],
   "source": [
    "figTemp = glucifer.Figure()\n",
    "figTemp.append( glucifer.objects.Surface(mesh, temperatureField))\n",
    "#figTemp.append( glucifer.objects.Mesh(mesh))\n",
    "figTemp.save_database('test.gldb')\n",
    "figTemp.show()"
   ]
  },
  {
   "cell_type": "code",
   "execution_count": 72,
   "metadata": {
    "collapsed": false
   },
   "outputs": [
    {
     "data": {
      "text/plain": [
       "<matplotlib.image.AxesImage at 0x11cacab50>"
      ]
     },
     "execution_count": 72,
     "metadata": {},
     "output_type": "execute_result"
    },
    {
     "data": {
      "image/png": "[encoded data removed]",
      "text/plain": [
       "<matplotlib.figure.Figure at 0x111a73d50>"
      ]
     },
     "metadata": {},
     "output_type": "display_data"
    }
   ],
   "source": [
    "\n",
    "import matplotlib.pyplot as pyplot\n",
    "%matplotlib inline\n",
    "pyplot.imshow(np.flipud(temperatureField.data.reshape(64 + 1, 256 + 1)))"
   ]
  },
  {
   "cell_type": "code",
   "execution_count": 73,
   "metadata": {
    "collapsed": false
   },
   "outputs": [
    {
     "data": {
      "text/plain": [
       "0.125"
      ]
     },
     "execution_count": 73,
     "metadata": {},
     "output_type": "execute_result"
    }
   ],
   "source": [
    "temperatureField.data.min()"
   ]
  },
  {
   "cell_type": "code",
   "execution_count": 74,
   "metadata": {
    "collapsed": false
   },
   "outputs": [],
   "source": [
    "# Get the actual sets \n",
    "#\n",
    "#  HJJJJJJH\n",
    "#  I      I\n",
    "#  I      I\n",
    "#  I      I\n",
    "#  HJJJJJJH\n",
    "#  \n",
    "#  Note that H = I & J \n",
    "\n",
    "# Note that we use operator overloading to combine sets\n",
    "# send boundary condition information to underworld\n",
    "IWalls = mesh.specialSets[\"MinI_VertexSet\"] + mesh.specialSets[\"MaxI_VertexSet\"]\n",
    "JWalls = mesh.specialSets[\"MinJ_VertexSet\"] + mesh.specialSets[\"MaxJ_VertexSet\"]\n",
    "TWalls = mesh.specialSets[\"MaxJ_VertexSet\"]\n",
    "BWalls = mesh.specialSets[\"MinJ_VertexSet\"]"
   ]
  },
  {
   "cell_type": "code",
   "execution_count": 143,
   "metadata": {
    "collapsed": false
   },
   "outputs": [
    {
     "data": {
      "text/plain": [
       "0.125"
      ]
     },
     "execution_count": 143,
     "metadata": {},
     "output_type": "execute_result"
    }
   ],
   "source": [
    "#temperatureField.data[TWalls.data].max()"
   ]
  },
  {
   "cell_type": "code",
   "execution_count": 76,
   "metadata": {
    "collapsed": false
   },
   "outputs": [],
   "source": [
    "#Set Dirichlet Temp conditions\n",
    "\n",
    "for index in mesh.specialSets[\"MinJ_VertexSet\"]:\n",
    "    temperatureField.data[index] = ndp.TR\n",
    "for index in mesh.specialSets[\"MaxJ_VertexSet\"]:\n",
    "    temperatureField.data[index] = ndp.TS\n",
    "\n",
    "\n",
    "# Now setup the dirichlet boundary condition\n",
    "# Note that through this object, we are flagging to the system \n",
    "# that these nodes are to be considered as boundary conditions. \n",
    "# Also note that we provide a tuple of sets.. One for the Vx, one for Vy.\n",
    "freeslipBC = uw.conditions.DirichletCondition(     variable=velocityField, \n",
    "                                              indexSetsPerDof=(IWalls, JWalls) )\n",
    "\n",
    "# also set dirichlet for temp field\n",
    "dirichTempBC = uw.conditions.DirichletCondition(     variable=temperatureField, \n",
    "                                              indexSetsPerDof=(JWalls,) )\n",
    "\n",
    "\n",
    "#dT_dy = [0.,0.]\n",
    "\n",
    "# also set dirichlet for temp field\n",
    "#neumannTempBC = uw.conditions.NeumannCondition( dT_dy, variable=temperatureField, \n",
    "#                                         indexSetsPerDof=BWalls)"
   ]
  },
  {
   "cell_type": "code",
   "execution_count": 77,
   "metadata": {
    "collapsed": false
   },
   "outputs": [],
   "source": [
    "#temperatureField.data[TWalls.data].max()"
   ]
  },
  {
   "cell_type": "markdown",
   "metadata": {},
   "source": [
    "##Add Random 125 K temp perturbation\n"
   ]
  },
  {
   "cell_type": "markdown",
   "metadata": {
    "collapsed": true
   },
   "source": [
    "tempNump = temperatureField.data\n",
    "\n",
    "#In gerneral we only want to do this on the initial setup, not restarts\n",
    "\n",
    "if not checkpointLoad:\n",
    "    for index, coord in enumerate(mesh.data):\n",
    "        pertCoeff = (0.05*(np.random.rand(1)[0] - 0.5)) #this should create values between [-0.5,0.5] from uniform dist.\n",
    "        ict = tempNump[index]\n",
    "        tempNump[index] = ict + pertCoeff"
   ]
  },
  {
   "cell_type": "code",
   "execution_count": 78,
   "metadata": {
    "collapsed": false
   },
   "outputs": [],
   "source": [
    "\n",
    "figVelocityMag = glucifer.Figure(figsize=(1024,384))\n",
    "figVelocityMag.append( glucifer.objects.Surface(mesh, temperatureField) )\n",
    "figVelocityMag.show()\n",
    "figVelocityMag.append(glucifer.objects.Mesh(mesh))\n",
    "#figVelocityMag.save_database('test.gldb')"
   ]
  },
  {
   "cell_type": "markdown",
   "metadata": {},
   "source": [
    "# Particles"
   ]
  },
  {
   "cell_type": "code",
   "execution_count": 79,
   "metadata": {
    "collapsed": false
   },
   "outputs": [],
   "source": [
    "###########\n",
    "#Material Swarm and variables\n",
    "###########\n",
    "\n",
    "gSwarm = uw.swarm.Swarm(mesh=mesh)\n",
    "materialVariable = gSwarm.add_variable( dataType=\"int\", count=1 )\n",
    "rockIntVar = gSwarm.add_variable( dataType=\"double\", count=1 )\n",
    "airIntVar = gSwarm.add_variable( dataType=\"double\", count=1 )\n",
    "lithIntVar = gSwarm.add_variable( dataType=\"double\", count=1 )\n",
    "dummyIntVar = gSwarm.add_variable( dataType=\"double\", count=1 ) #This one is used so we can safely ignore values in the air region\n",
    "\n",
    "varlist = [materialVariable, rockIntVar, airIntVar, lithIntVar]\n",
    "varnames = ['materialVariable', 'rockIntVar', 'airIntVar', 'lithIntVar']"
   ]
  },
  {
   "cell_type": "code",
   "execution_count": 80,
   "metadata": {
    "collapsed": false
   },
   "outputs": [],
   "source": [
    "###########\n",
    "#Swarms for surface integrals when using Sticky air\n",
    "###########\n",
    "\n",
    "snum = 1000.\n",
    "dx = (mesh.data[:,0].max()- mesh.data[:,0].min())/snum\n",
    "yp = 0.9947 #1. - yelsize/2. at res = 96\n",
    "\n",
    "mesh.data[:,0].max()\n",
    "xps = np.linspace(mesh.data[:,0].min(),mesh.data[:,0].max(), snum)\n",
    "yps = [yp for i in xps]\n",
    "\n",
    "surfintswarm = uw.swarm.Swarm( mesh=mesh )\n",
    "dumout = surfintswarm.add_particles_with_coordinates(np.array((xps,yps)).T)\n",
    "\n",
    "yps = [ 1.- yp  for i in xps]\n",
    "\n",
    "baseintswarm = uw.swarm.Swarm( mesh=mesh)\n",
    "dumout = baseintswarm.add_particles_with_coordinates(np.array((xps,yps)).T)"
   ]
  },
  {
   "cell_type": "markdown",
   "metadata": {},
   "source": [
    "#Initialise swarm variables, or Swarm checkpoint load"
   ]
  },
  {
   "cell_type": "code",
   "execution_count": null,
   "metadata": {
    "collapsed": false
   },
   "outputs": [],
   "source": []
  },
  {
   "cell_type": "code",
   "execution_count": 81,
   "metadata": {
    "collapsed": false
   },
   "outputs": [],
   "source": [
    "mantleIndex = 0\n",
    "lithosphereIndex = 1\n",
    "eclIndex = 2\n",
    "crustIndex = 3\n",
    "airIndex = 4\n",
    "tempIndex = 5\n",
    "\n",
    "\n",
    "\n",
    "\n",
    "if checkpointLoad:\n",
    "    checkpointLoadDir = natsort.natsorted(checkdirs)[-1]\n",
    "    temperatureField.load(os.path.join(checkpointLoadDir, \"temperatureField\" + \".hdf5\"))\n",
    "    pressureField.load(os.path.join(checkpointLoadDir, \"pressureField\" + \".hdf5\"))\n",
    "    velocityField.load(os.path.join(checkpointLoadDir, \"velocityField\" + \".hdf5\"))\n",
    "    gSwarm.load(os.path.join(checkpointLoadDir, \"swarm\" + \".h5\"))\n",
    "    for ix in range(len(varlist)):\n",
    "        varb = varlist[ix]\n",
    "        varb.load(os.path.join(checkpointLoadDir,varnames[ix] + \".h5\"))\n",
    "\n",
    "else:\n",
    "\n",
    "    # Layouts are used to populate the swarm across the whole domain\n",
    "    # Create the layout object\n",
    "    layout = uw.swarm.layouts.PerCellRandomLayout(swarm=gSwarm, particlesPerCell=ppc)\n",
    "    # Now use it to populate.\n",
    "    gSwarm.populate_using_layout( layout=layout )\n",
    "\n",
    "    # Lets initialise the 'materialVariable' data to represent different materials\n",
    "    # Set the material to heavy everywhere via the numpy array\n",
    "    materialVariable.data[:] = mantleIndex\n",
    "    \n",
    "    \n",
    "    #Set initial air and crust materials (allow the graph to take care of lithsophere)\n",
    "    #########\n",
    "    #This initial material setup will be model dependent\n",
    "    #########\n",
    "    for particleID in range(gSwarm.particleCoordinates.data.shape[0]):\n",
    "        if (1. - gSwarm.particleCoordinates.data[particleID][1]) < 0:\n",
    "                 materialVariable.data[particleID] = airIndex\n",
    "        elif (1. - gSwarm.particleCoordinates.data[particleID][1]) < MANTLETOCRUST:\n",
    "                 materialVariable.data[particleID] = crustIndex\n"
   ]
  },
  {
   "cell_type": "markdown",
   "metadata": {},
   "source": [
    "#Material Graphs"
   ]
  },
  {
   "cell_type": "code",
   "execution_count": 82,
   "metadata": {
    "collapsed": false
   },
   "outputs": [],
   "source": [
    "##############\n",
    "#Important: This is a quick fix for a bug that arises in parallel runs\n",
    "##############\n",
    "material_list = [0,1,2,3,4, 5]\n"
   ]
  },
  {
   "cell_type": "code",
   "execution_count": 83,
   "metadata": {
    "collapsed": false
   },
   "outputs": [
    {
     "name": "stdout",
     "output_type": "stream",
     "text": [
      "unique values after swarm has loaded:[0 3 4]\n"
     ]
    }
   ],
   "source": [
    "print( \"unique values after swarm has loaded:\" + str(np.unique(materialVariable.data[:])))\n"
   ]
  },
  {
   "cell_type": "code",
   "execution_count": null,
   "metadata": {
    "collapsed": false
   },
   "outputs": [],
   "source": []
  },
  {
   "cell_type": "code",
   "execution_count": 84,
   "metadata": {
    "collapsed": false
   },
   "outputs": [],
   "source": [
    "\n",
    "\n",
    "#All depth conditions are given as (km/D) where D is the length scale,\n",
    "#note that 'model depths' are used, e.g. 1-z, where z is the vertical Underworld coordinate\n",
    "#All temp conditions are in dimensionless temp. [0. - 1.]\n",
    "\n",
    "#######Graph object\n",
    "DG = nx.DiGraph(field=\"Depth\")\n",
    "\n",
    "#######Nodes\n",
    "#Note that the order of materials, deepest to shallowest is important\n",
    "DG.add_node(0, mat='mantle')\n",
    "DG.add_node(1, mat='lithosphere')\n",
    "DG.add_node(2, mat='ecl')\n",
    "DG.add_node(3, mat='crust')\n",
    "DG.add_node(4, mat='air')\n",
    "DG.add_node(5, mat='temp')\n",
    "\n",
    "\n",
    "labels=dict((n,d['mat']) for n,d in DG.nodes(data=True))\n",
    "pos=nx.spring_layout(DG)\n",
    "\n",
    "\n",
    "#######Edges\n",
    "#anything to air\n",
    "DG.add_edges_from([(0,4),(1,4), (3,4)])\n",
    "DG[0][4]['depthcondition'] = -1*TOPOHEIGHT\n",
    "DG[1][4]['depthcondition'] = -1*TOPOHEIGHT\n",
    "DG[3][4]['depthcondition'] = -1*TOPOHEIGHT\n",
    "\n",
    "\n",
    "#Anything to mantle\n",
    "DG.add_edges_from([(3,0), (1,0), (2,0), (5,0)])\n",
    "DG[3][0]['depthcondition'] = CRUSTTOMANTLE #Normal crust\n",
    "DG[1][0]['depthcondition'] = LITHTOMANTLE #This means we're going to kill lithosphere at the 660.\n",
    "DG[2][0]['depthcondition'] = CRUSTTOMANTLE #Eclogite crust\n",
    "DG[5][0]['depthcondition'] = CRUSTTOMANTLE #Normal crust\n",
    "\n",
    "#Anything to lithsphere\n",
    "DG.add_edges_from([(0,1),(4,1)])\n",
    "DG[0][1]['depthcondition'] = MANTLETOLITH\n",
    "DG[0][1]['avgtempcondition'] = 0.75*AVGTEMP #definition of thermal lithosphere\n",
    "\n",
    "\n",
    "#Anything to crust\n",
    "DG.add_edges_from([(0,3), (1,3), (4,3)])\n",
    "DG[0][3]['depthcondition'] = MANTLETOCRUST\n",
    "DG[1][3]['depthcondition'] = MANTLETOCRUST\n",
    "DG[4][3]['depthcondition'] = TOPOHEIGHT\n",
    "\n",
    "#crust to eclogite\n",
    "DG.add_edges_from([(3,2)])\n",
    "DG[3][2]['depthcondition'] =CRUSTTOECL\n",
    "\n",
    "\n",
    "\n",
    "\n"
   ]
  },
  {
   "cell_type": "code",
   "execution_count": 85,
   "metadata": {
    "collapsed": false
   },
   "outputs": [
    {
     "data": {
      "text/plain": [
       "1.2857142857142858"
      ]
     },
     "execution_count": 85,
     "metadata": {},
     "output_type": "execute_result"
    }
   ],
   "source": [
    "CRUSTTOMANTLE"
   ]
  },
  {
   "cell_type": "code",
   "execution_count": 86,
   "metadata": {
    "collapsed": false
   },
   "outputs": [],
   "source": [
    "#material_list"
   ]
  },
  {
   "cell_type": "code",
   "execution_count": 87,
   "metadata": {
    "collapsed": false
   },
   "outputs": [],
   "source": [
    "remove_nodes = []\n",
    "for node in DG.nodes():\n",
    "    if not node in material_list:\n",
    "        remove_nodes.append(node)\n",
    "        \n",
    "for rmnode in remove_nodes:\n",
    "    DG.remove_node(rmnode)"
   ]
  },
  {
   "cell_type": "code",
   "execution_count": 88,
   "metadata": {
    "collapsed": false
   },
   "outputs": [
    {
     "data": {
      "text/plain": [
       "[0, 1, 2, 3, 4, 5]"
      ]
     },
     "execution_count": 88,
     "metadata": {},
     "output_type": "execute_result"
    }
   ],
   "source": [
    "DG.nodes()"
   ]
  },
  {
   "cell_type": "code",
   "execution_count": 89,
   "metadata": {
    "collapsed": true
   },
   "outputs": [],
   "source": [
    "#A Dictionary to map strings in the graph (e.g. 'depthcondition') to particle data arrays\n",
    "\n",
    "particledepths = 1. - gSwarm.particleCoordinates.data[:,1]\n",
    "particletemps = temperatureField.evaluate(gSwarm)[:,0]\n",
    "\n",
    "conditionmap = {}\n",
    "\n",
    "conditionmap['depthcondition'] = {}\n",
    "conditionmap['depthcondition']['data'] = particledepths\n",
    "conditionmap['avgtempcondition'] = {}\n",
    "conditionmap['avgtempcondition']['data'] = particletemps"
   ]
  },
  {
   "cell_type": "code",
   "execution_count": 90,
   "metadata": {
    "collapsed": true
   },
   "outputs": [],
   "source": [
    "def update_swarm(graph, particleIndex):\n",
    "    \"\"\"\n",
    "    This function takes the materials graph (networkx.DiGraph), and a particle index,\n",
    "    then determines if a material update is required \n",
    "    and if so, returns the new materialindex\n",
    "    Args:\n",
    "        graph (networkx.DiGraph): Directed multigraph representing the transformation of material types\n",
    "        particleIndex (int): the particle index as corressponding to the index in the swarm data arrays\n",
    "    Returns:\n",
    "        if update is required the function returns the the new material variable (int) \n",
    "        else returns None\n",
    "    Raises:\n",
    "        TypeError: not implemented\n",
    "        ValueError: not implemented\n",
    "    \"\"\"\n",
    "    ##Egde gives links to other materials, we then query the conditions to see if we should change materials\n",
    "    matId = materialVariable.data[particleIndex][0]\n",
    "    innerchange = False\n",
    "    outerchange = False\n",
    "    for edge in graph[matId]:\n",
    "        if outerchange:\n",
    "            break\n",
    "        for cond in graph[matId][edge].keys():\n",
    "            outerchange = False\n",
    "            if innerchange: #found a complete transition, break inner loop\n",
    "                break\n",
    "            currentparticlevalue = conditionmap[cond]['data'][particleIndex]\n",
    "            crossover = graph[matId][edge][cond]\n",
    "            if ((matId > edge) and (currentparticlevalue > crossover)):\n",
    "                innerchange = False # continue on, \n",
    "                if graph[matId][edge].keys()[-1] == cond:\n",
    "                    outerchange = True\n",
    "                    innerchange = edge\n",
    "                    break\n",
    "            elif ((matId < edge) and (currentparticlevalue < crossover)):\n",
    "                innerchange = False\n",
    "                if graph[matId][edge].keys()[-1] == cond:\n",
    "                    outerchange = True\n",
    "                    innerchange = edge\n",
    "                    break\n",
    "            else:\n",
    "                #condition not met, break outer loop, go to next edge, outerchange should still be False\n",
    "                break\n",
    "    if type(innerchange) == int:\n",
    "        return innerchange"
   ]
  },
  {
   "cell_type": "code",
   "execution_count": null,
   "metadata": {
    "collapsed": true
   },
   "outputs": [],
   "source": []
  },
  {
   "cell_type": "code",
   "execution_count": 91,
   "metadata": {
    "collapsed": false
   },
   "outputs": [],
   "source": [
    "#Set the crust material in the slab using shapes/function from uw.\n",
    "\n",
    "if not checkpointLoad:\n",
    "    #materialVariable.data[:] = mantleIndex\n",
    "    #lithtemp = 0.95*0.8\n",
    "    #tempswarm = temperatureField.evaluate(gSwarm)[:,0]\n",
    "\n",
    "    #At this point, we only have to assign any materials that are defined by setup shapes,\n",
    "    #the rest of the materials will be assigned using the materials graph\n",
    "\n",
    "    for particleID in range(gSwarm.particleCoordinates.data.shape[0]):\n",
    "        coord = gSwarm.particleCoordinates.data[particleID]\n",
    "        if gSwarm.particleCoordinates.data[particleID][1] > (1.0 - CrustM):\n",
    "            materialVariable.data[particleID] =  crustIndex\n",
    "        elif Oc.evaluate(tuple(coord)) and Tri.evaluate(tuple(coord)) and not Cc.evaluate(tuple(coord)):\n",
    "            #print(\"True\")\n",
    "            materialVariable.data[particleID] =  crustIndex\n",
    "        if Gc.evaluate(tuple(coord)) and Tri.evaluate(tuple(coord)) and not Oc.evaluate(tuple(coord)):\n",
    "            materialVariable.data[particleID] =  tempIndex"
   ]
  },
  {
   "cell_type": "code",
   "execution_count": null,
   "metadata": {
    "collapsed": true
   },
   "outputs": [],
   "source": []
  },
  {
   "cell_type": "code",
   "execution_count": 92,
   "metadata": {
    "collapsed": false
   },
   "outputs": [],
   "source": [
    "#Cleanse the swarm of its sins\n",
    "#For some Material Graphs, the graph may have to be traversed more than once\n",
    "\n",
    "check = -1\n",
    "number_updated = 1\n",
    "\n",
    "while number_updated != 0:\n",
    "    number_updated = 0\n",
    "    for particleID in range(gSwarm.particleCoordinates.data.shape[0]):\n",
    "        check = update_swarm(DG, particleID)\n",
    "        if check > -1:\n",
    "            number_updated += 1\n",
    "            materialVariable.data[particleID] = check"
   ]
  },
  {
   "cell_type": "code",
   "execution_count": null,
   "metadata": {
    "collapsed": true
   },
   "outputs": [],
   "source": []
  },
  {
   "cell_type": "code",
   "execution_count": 93,
   "metadata": {
    "collapsed": false
   },
   "outputs": [],
   "source": [
    "#dummyVariable3 = gSwarm.add_variable( dataType=\"double\", count=1 )"
   ]
  },
  {
   "cell_type": "code",
   "execution_count": 149,
   "metadata": {
    "collapsed": false
   },
   "outputs": [
    {
     "data": {
      "text/html": [
       "<img src='data:image/png;base64,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'>"
      ],
      "text/plain": [
       "<IPython.core.display.HTML object>"
      ]
     },
     "execution_count": 149,
     "metadata": {},
     "output_type": "execute_result"
    }
   ],
   "source": [
    "figMat = glucifer.Figure()\n",
    "figMat.append( glucifer.objects.Points(gSwarm,materialVariable, colours='white blue red black'))\n",
    "#figMat.append( glucifer.objects.Mesh(mesh))\n",
    "figMat.save_database('test.gldb')\n",
    "figMat.show()"
   ]
  },
  {
   "cell_type": "markdown",
   "metadata": {},
   "source": [
    "##Set the values for the masking swarms"
   ]
  },
  {
   "cell_type": "code",
   "execution_count": 95,
   "metadata": {
    "collapsed": false
   },
   "outputs": [],
   "source": [
    "#Setup up a masking Swarm variable for the integrations.\n",
    "#These should be rebuilt at same frequency as the metric calcualtions\n",
    "\n",
    "rockIntVar.data[:] = 0.\n",
    "notair = np.where(materialVariable.data != airIndex)\n",
    "rockIntVar.data[notair] = 1.\n",
    "\n",
    "airIntVar.data[:] = 0.\n",
    "notrock = np.where(materialVariable.data == airIndex)\n",
    "airIntVar.data[notrock] = 1.\n",
    "\n",
    "lithIntVar.data[:] = 0.\n",
    "islith = np.where((materialVariable.data == lithosphereIndex) | (materialVariable.data == crustIndex))\n",
    "lithIntVar.data[islith] = 1.\n",
    "\n",
    "dummyIntVar.data[:] = 1.\n",
    "notrock = np.where(materialVariable.data == airIndex)\n",
    "dummyIntVar.data[notrock] = 1e10  #We'll multiply certain swarm variables by this guy,which\n",
    "#will allow us grab minimum values and assume they are from the rock part"
   ]
  },
  {
   "cell_type": "markdown",
   "metadata": {
    "collapsed": false
   },
   "source": [
    "#Material properties\n"
   ]
  },
  {
   "cell_type": "code",
   "execution_count": 96,
   "metadata": {
    "collapsed": false
   },
   "outputs": [],
   "source": [
    "# The yeilding of the upper slab is dependent on the strain rate.\n",
    "strainRate_2ndInvariant = fn.tensor.second_invariant( \n",
    "                            fn.tensor.symmetric( \n",
    "                            velocityField.fn_gradient ))\n",
    "\n",
    "\n",
    "coordinate = fn.input()\n",
    "depth = 1. - coordinate[1]\n",
    "\n",
    "#Determine yield criterion for depth (rather than pressure as given in Crameri)\n",
    "#Scaling is same as van Heck and Tackley, EPSL, 2011\n",
    "lithopressuregrad = dp.rho*dp.g*(dp.LS)**3/(dp.eta0*dp.k)"
   ]
  },
  {
   "cell_type": "code",
   "execution_count": 97,
   "metadata": {
    "collapsed": false
   },
   "outputs": [
    {
     "data": {
      "text/plain": [
       "0.125"
      ]
     },
     "execution_count": 97,
     "metadata": {},
     "output_type": "execute_result"
    }
   ],
   "source": [
    "temperatureField.data.min()"
   ]
  },
  {
   "cell_type": "code",
   "execution_count": 98,
   "metadata": {
    "collapsed": false
   },
   "outputs": [
    {
     "data": {
      "text/plain": [
       "1744.9047000000005"
      ]
     },
     "execution_count": 98,
     "metadata": {},
     "output_type": "execute_result"
    }
   ],
   "source": [
    "lithopressuregrad*0.1*(110e3/dp.LS)"
   ]
  },
  {
   "cell_type": "code",
   "execution_count": 99,
   "metadata": {
    "collapsed": false
   },
   "outputs": [
    {
     "data": {
      "text/plain": [
       "55519.695000000014"
      ]
     },
     "execution_count": 99,
     "metadata": {},
     "output_type": "execute_result"
    }
   ],
   "source": [
    "ndp.fc*lithopressuregrad"
   ]
  },
  {
   "cell_type": "code",
   "execution_count": 100,
   "metadata": {
    "collapsed": false
   },
   "outputs": [],
   "source": [
    "#Linear viscosity\n",
    "#arhennius = fn.misc.min(ndp.up_visc, fn.math.exp(((-1.*ndp.E) + (ndp.E / temperatureField))))\n",
    "#lower_mantle = False\n",
    "#melt_viscosity_reduction = False"
   ]
  },
  {
   "cell_type": "code",
   "execution_count": 101,
   "metadata": {
    "collapsed": false
   },
   "outputs": [],
   "source": [
    "#np.math.exp(100.)"
   ]
  },
  {
   "cell_type": "code",
   "execution_count": 102,
   "metadata": {
    "collapsed": false
   },
   "outputs": [],
   "source": [
    "############\n",
    "#Mantle\n",
    "############\n",
    "A = 1e21/(np.math.exp(dp.E/(dp.R*1600.))) \n",
    "safetyField = fn.misc.min(100., (dp.E /(temperatureField*1600.*dp.R)) ) #numbers bigger that 100 can't be passed to exp.\n",
    "arhennius = fn.misc.min(ndp.up_visc,(fn.math.exp(safetyField)*A)/1e21)\n",
    "\n",
    "#Psuedo-plastic \n",
    "ys =  ndp.cohesion*RAfac + (depth*ndp.fc*lithopressuregrad)\n",
    "yss = fn.misc.max(ndp.cohesion, ys)\n",
    "plasticvisc = yss*(math.sqrt(2))/(strainRate_2ndInvariant*2.)\n",
    "plastic = fn.misc.max(ndp.low_visc,plasticvisc)\n",
    "#combine these\n",
    "mantleviscosityFn = fn.misc.min(arhennius, plastic)\n",
    "\n",
    "\n",
    "############\n",
    "#crust\n",
    "############\n",
    "#Linear part is the same, plastic parameters are weaker\n",
    "\n",
    "ysc = (ndp.cohesion/ndp.cohesion_reduce)\n",
    "ycs = fn.misc.max((ndp.cohesion/ndp.cohesion_reduce), ysc)\n",
    "crustplasticvisc = ycs*(math.sqrt(2))/(strainRate_2ndInvariant*2.)\n",
    "crustplastic = fn.misc.max(ndp.low_visc,crustplasticvisc) \n",
    "crustviscosityFn = fn.misc.min(arhennius, crustplastic)"
   ]
  },
  {
   "cell_type": "code",
   "execution_count": 103,
   "metadata": {
    "collapsed": false
   },
   "outputs": [
    {
     "data": {
      "text/plain": [
       "0.5"
      ]
     },
     "execution_count": 103,
     "metadata": {},
     "output_type": "execute_result"
    }
   ],
   "source": [
    "ndp.fc"
   ]
  },
  {
   "cell_type": "code",
   "execution_count": 104,
   "metadata": {
    "collapsed": false
   },
   "outputs": [
    {
     "data": {
      "text/plain": [
       "1000.0"
      ]
     },
     "execution_count": 104,
     "metadata": {},
     "output_type": "execute_result"
    }
   ],
   "source": [
    "mantleviscosityFn.evaluate(mesh).max()"
   ]
  },
  {
   "cell_type": "code",
   "execution_count": 118,
   "metadata": {
    "collapsed": false
   },
   "outputs": [
    {
     "data": {
      "text/html": [
       "<img src='data:image/png;base64,iVBORw0KGgoAAAANSUhEUgAAAoAAAAHgCAIAAAC6s0uzAAAgAElEQVR42uy9e7Bl2V3f9/v91tr7nHt7unteEsg8qqwyLkgqBIpyOS8nf7isYBghJAQSCBlhywJkMFJcAUPARSyMAkElGxnCGwkhDHqhx0hgkqpUxZW4KtiBPAj8kRSOZEDAzPTMdN97z9l7rd8vf/zWWnvtc2+3ZiRNS93z/XBpmul7ztlnP9b3915sZgQAAACA24vgFAAAAAAQYAAAAAACDAAAAAAIMAAAAAABBgAAAAAEGAAAAIAAAwAAAAACDAAAAECAAQAAAAABBgAAACDAAAAAAAQYAAAAABBgAAAAAAIMAAAAAAgwAAAAAAEGAAAAAAQYAAAAgAADAAAAAAIMAAAAQIABAAAACDAAAAAAIMAAAAAABBgAAAAAEGAAAAAAAgwAAAAACDAAAAAAAQYAAAAABBgAAACAAAMAAAAQYAAAAABAgAEAAAAIMAAAAAAgwAAAAAAEGAAAAAAQYAAAAAACDAAAAAAIMAAAAAABBgAAACDAAAAAAIAAAwAAABBgAAAAAECAAQAAAAgwAAAAACDAAAAAAAQYAAAAABBgAAAAAAIMAAAAQIABAAAAAAEGAAAAIMAAAAAAgAADAAAAEGAAAAAAQIABAAAACDAAAAAAIMAAAAAABBgAAACAAAMAAAAAAgwAAABAgAEAAAAAAQYAAAAgwAAAAACAAAMAAAAQYAAAAABAgAEAAAAIMAAAAAABBgAAAAAEGAAAAIAAAwAAAAACDAAAAECAAQAAAAABBgAAACDAAAAAAIAAAwAAABBgAAAAAAIMAAAAAAgwAAAAAAEGAAAAAAQYAAAAgAADAAAAAAIMAAAAQIABAAAAAAEGAAAAIMAAAAAABBgAAAAAEGAAAAAAAgwAAAAACDAAAAAAAQYAAAAABBgAAACAAAMAAAAAAgwAAABAgAEAAAAAAQYAAAAgwAAAAAAEGAAAAAAQYAAAAAACDAAAAAAIMAAAAAABBgAAAAAEGAAAAIAAAwAAAAACDAAAAECAAQAAAAgwAAAAACDAAAAAAAQYAAAAABBgAAAAAAIMAAAAAAgwAAAAAAEGAAAAAAQYAAAAgAADAAAAEGAAAAAAQIABAAAACDAAAAAAIMAAAAAABBgAAAAAEGAAAAAAAgwAAAAACDAAAAAAAQYAAAAgwAAAAACAAAMAAAAQYAAAAABAgAEAAAAIMAAAAAAgwAAAAAAEGAAAAAAQYAAAAAACDAAAAECAAQAAAAABBgAAACDAAAAAAIAAAwAAABBgAAAAAECAAQAAAAgwAAAAACDAAAAAAAQYAAAAgAADAAAAAAIMAAAAQIABAAAAAAEGAAAAIMAAAAAAgAADAAAAEGAAAAAAQIABAAAACDAAAAAAAQYAAAAABBgAAACAAAMAAAAAAgwAAABAgAEAAAAAAQYAAAAgwAAAAACAAAMAAACfMcRn+gOYGWcZAADAHYeZ3cECzMz/8G0/MuZp1GnUacjzqJMxJ45JYuLB/4w2DzoPOonlYBosExkRsWmwHCwxaeao5K8aZxmUgxETsxERsRExmVgWy8FytBwsEZFRk382ImVRDpnjLMMsMUmMOg061wOYxSzxkGTIHJVFWZREmY3F38qIxEzMhHTQ/aDToPtgWSyXg+SYOfTnwIiZLOocbQqW2FQoK4fTcOksXtrLdg7jLCMZDToPNvthG7EyKwVlEVMhY7NR9/6h/rWM2EiUhYiC5aCZyTLHzNFKbIONyzEos38jJmLLYqosmUVZgqVofhKmQedB006O9uFoH7Z72ezDJkn0CzHovMnTJu/FsnLIHJQlc1AOSmLM7SwRUbTklzVY8iuSOSaOieMUxkk2swxJYpKg9fSyWbAcNUdLg6aoiYiyhMRhlphkmCX6+bzgZjNjMiZjM6Jyhup/JCX2E+XXjoyM2YiyxFniLDGz+Isyi0rI7YozsbXvVO635fkkIqb6m1z+zcphCFm9TGQsyuxnyV/Iy1tc9Oz4a5mN2I+ByYisOxgiYjEVMzEV0uV3+u9u1g7Xf01Mo+ZoOag/L0rESUKSmCROEmcZlNlfTsRKbMzlSMr1ZSJKEv0hUvb70A91udnK2TZl0nLDEvuFqCeB24lqR6sk2URJrDsXBwRSIQ2k1N6WywGIGZsKmZj6yVmfEKrnpJ1H7s+5v9xPTrTsbxLKW6mYtgNu/90/joiUykJhTEbMZn62251Tr2Y7t+QrTLslaDmHdPDtrS4L7SlrN7mYcTmeHCwH1frtOLNkCUbs/ySm7bImKc9vOw++VrBpMBPTqPOgKdocNQVLwVKWOHNMMiQZZh6yLwuahYzKbWb1NOZB56hzsORnzJf6WUbjduP7dxGrz07Qsv5njknCLHEfNvuwmST6pRHTaDlq8gtRn3pisqBptP2gU9Q56hw1WVk/4+wHLIOyZArGUm859SciWI46R5uDJfGzREpkL/+7b73jPWC//a2eLV9B2BcULv+iHJSzsgRNQedBZyZtaxCRGYk/1UTEpNGymrUlz99XSH01cRkWy+0ubL+Z2vdVC5qV52gp6hRtjjoNNoulxEOy0WU48chsTKJmVp5wyczGaiYmm8TDXo4Gm9k/l7KYRk2dBpflj0n9vow2R5uIzEiJlUhVZM8bY2EyVhuqNWC+rJC43aAk/sgJ6ZD3o+4HnZoGW/3NagT4z6AkrhBGzES+HrkNEethNwGONgeboqZBdqOdjXo0hKNBj2YZg+VoKSyrdj640EmiP1HaVmETIzKiQf2ZJLEsxIF4yLOYRc2+gmcJiWOSoCKspmKqIUl5wBKHJEE5KHNZTev/8to+7a91OflctM4NKWVxqei0rfzpv+e6GDQLKbUVpVoVZbVa7AxmIqsWAZv50lkkmzkbMZnVpc1XZTZ/RVVuXh38uYeH3FzoZaP9ZRFx5kzB35zrmWHWovOLEhtbOYDMosJMwVXk+1713UT0Iz/3g7PEOQwuw7MMbqIZc1PZ/lDFdMyT/1P9HTY39Yj9kcksxoGr6dAk0E+bS3siKQfPxGaBNXY3mDGdv8rElEnq/2NEFqycHDFjUrF2NoyKaVIlloyrlF5gzBk1uY2ag6VOgIuuU1lwVMxCEencTlEzKJvF4y/0/67rG68z9CX7/WDl3jD2+7Icf/suy8td8stNRcacTYSX3/RjKEdi6laFi3Hi4DqXOWSOmYXr3Z5EiEKSkHWOKgOHwcTUDzXmxfIuNmWwHCj7+1cNpswxSxRyyVc3gDZ5d4E9tXYVfDlxu4XJoqYjXxs7u7ZZ4dXatmApaA6aos6+NhJR5qAcBwua/ZhjcRiorCeh2E+ZiJSCsQhlZhcRvRtC0GOeN7rf5N1Gd2PejzoRsapf8uIEW7n5hhQ3s06DzmLZBVVMfaFL5S4JLjC+FPYPpJhGYqLEpN0/mFBmMzPyRS9Vt9Jv+kRRgyQbRbb+ueWfmDOHLOKuZDBly9UIKPZps+DIbNTdRs82+Uwos+nkHqQcTbLx23EirRZxjjYT2STDLMMkY/IbmsTXE7WQaVYKRpxFyo1OohyCDZNuol0Klvwm42Lgu6khq4eZQ+ZoLE1DXBWISEmYfR10AzBli8mGYDnaFDgZMxtt8n7UeRfmmcdgKVgW12BLwXJbxYwoc9iH7Um8fDLccxYvzzK40T3oGDUNmroIRxbLRzolGxLPTBtjShTKSWAmIVKqfzKbGrtbM4upiB4IlSucRymUmOrq3C6TkznkEv8QY7HFOVsWaCkejzUH1XhRXyLOIolj5pAkrH0ma0K4KD3zIjnVKXeRdtXuvcnyFyYieuuLX0ZE3/zeX2G2Th24WR5V9w9l2w+2fB02MRWuznFdvsuibyYkbKrltJSn6bv+1vcR0ev/2U8rc5YwyyqcYzWK0MSsHsASX1mZNQeBoPIIlP9c/EWj3htu5vqFHmrRV//PVV2YFlFsT+XqVWv1YlN3szqPlurnlhcE1RJIK4ql1Fk2YmpEWcIkY5JgxGI6WBrzPOq0yXsm6xeopn/WRf6qGdf8cmUiIcoUlLmYm9UvFLcnyKqZWE6vtb8zJ47uWzfrIZCKledlljjx6EZlKI7KYlUoqxBnX0Dq5RO2zEFkDKZR06BzdXKZ/f41yhKmOGgJpNXTVRxZJTMhjTpHs2jJxbg6pqHFnDpD0p8OZrPB5lFnIkvixoFfvnZv+IMWSjTFmi3O5v9EUq9XFj9P7rNRZGJiqc+4CvmitHjVRpx5yGx3gwAPmpWGzJpJlVUpialQ9vsmkkflMpMWT45EWRKHetdmoUxkiWMW1+yQORJxtLkGBMu5zyxEwiRkwqTuF7Ib2cUQs6DJhM14JiaRzCFTEFOxkDmKabTkjgcTB1Orvnh5Sm2xpuv1YSXZhSN/ODZ6NuocbW/q94tNcjTJhptVTsqmxJRZ5qrBSmIsiZrwlMfMF8dib4pEFSNW42hsJDNvlMW6cGvRAJb2w6aDLieKjfyzjIyJmVgp9Ct4psGElaNS8OeQjQdKxdamYGRuwWQOddlSNguWLqdrQkksncR7TobLmZbDyCyZQyj6XXzoUadoedR51HmUeR82UxjK8m2szGL+qLj8MJEFzcSHT0YJqZhxleEqS9xCxMbFISs6QWykxlWGPSTlGlkXdGNWkxZhJiJWE7bEKqbuOqwixr4KeDim2ENsJW7RoqBVQJflhhYnrPtiv/CSlxPRq977q1U4PRq+iF9ZcVZnw6j+mhUttnZlW0zb1ya/AWzt0Tpv/vrXENGr3/MO99V4be5klsyRm2tq9osv/rr+5S99+OFgWcyK4JP6A2XE737hC7/ugx/wgw/tGEiUWIkTRSYV8muhXR6ufMdIHh6k5t516Qh+24u/7m++95+V3+8tgOrZtZcouaFX3GUP7fQyrN23tiJaHuRfvC5REzYh9eBNpjDJOOowyugZN/fy24Vxf7EmS8xf1WcWFh/dw2MUipUmbKZWVdODzJ0H7MZl8KfGmJVDlsAecKoS21IDxjLT4KtrKA56sUQ9sphZSpqg5cKIPU/kJ78KHUfKc7nZ2Ij3MpLQqHPkFDV7LsmIc4jJUrQYNUWbzd+t+KCiFOoFXS5X1DkUObRRJyNKPHShe2PSYMmqSa0UjCTx6KaX59k8CGr1GfRXVelRo+pVm3I5UUlqtNVuV+nSMy7Ax+msuiDjaRj3ckkstyCSWyvC6sH3qFOwXO+tslAqBSLz3G1JHkskIlOKmqKlqMnTxkvEqfMPMger8dvusWQxU/W7njMHtx+D5aAlYTnkvVheL5F9OMv6pdPfc5bNLJtBJs86JB7mmi+RVU7OiMxl1Ug80qXsiV4tsTUpDkfL1CpLZhMWIbNq2BqR34LNj+mjhe47Jo0e0x50DsWPFxfRkrIiqYlCz4t4eNw96Zgpdm6NtASVK1ANYUk9F9V8NvWT3ORTWZjKwTdJYLKgeWu7kedL6XSWsWUcS8ahyoxYkQqrz3wvjVSSYWSkxdUkNqrPbFNWMiL196lOQK5xQr861NyvN7zy9e2t/8tf/okaXS9eQjv+WyVfagWAuc9wEE3lJcj98y/5+gvf5K0veRkRfdP73tkljYmqj9tnmtefTD/90ld+kk/uz37NK4joNe9+e5fbIzLKLFm0XXoj/roPfqBPT777oa84eKtXvP89LXz9zhd+FRF97Qc/0Dm1Gkrc3pQ4U5jPBZ2LhlGOliOlaBo9stWqQJi9XKCrQvCYAUmpDFBxM82DGb62BMmmqhIteeVB1CRk5UITz2HcewJVc7T8/a/6rpudrh/6+Tf6XWRErVLhIMiRxR/VkN30l7CofjXp22n8wVe+7uAjfuAX39TunGAaLQXNTH5FSgwpS+izTr5U1hPFVPPTLsBWkqA5EDHZ937z97TP+ke/8N+0AgKuOeZmOXna26Nckw2z2CzDEskwC5YHncc88/KlwiRxptGI/Wj/3qt/gIje8NYf9uiIdMvjoCHaPGiKOgediYlJE3nNUMwcDyLSzdzOHE0k0SZIqoURyqTiViCLcTBaed5MLTCZ2FONJEait6VFiJ/RKi9mfstP/VeDToNOQrpkWMrTyF3ULmSWFuRsQYnirNSUUmbxGI7WrIBYHjRFS2zKS86oBFd9hfXgvrt6zXn1O9LfzZ9bX60HnQabos5+fxORlrImOlBcXnLc1bmp7s2oZ6Pugs2e/E88ZB6SDEbSiiA8J5Grg0t+iy9ioEaSJWSONQ0sXgoRSoFSDpaVPHIbmq88hZK6c4ePzTwo1DRY2hmo2WWuOaqSBta53rhWw/7DLMMUxsyxeUU1rcW+FhtxCTF16ZwSQ6vrV8nPeZGLJbcGjMnIDYhQbdVmRnDv7Rnx617zD9/0M/+1r18t3dvHPPsSFfcOu8qgYtp3P24eeylNsbF+9BteW+Kx7/hxY/5vv+G1r/+Vn1JqcdpywKvD69JRLRHeQrJ9IPTnvuYbLnxSvvm9v7K4clZ+7Zt+7Vfbunle3ZtL2owGj13fjO/8lZ81Xp0rYm4h9x972asPfv+173yr8pKkLK5wt1z4VUgcqNYQdTJcHnDPJb3zhS86fzxf88GHe9OhZm21FGqRLBl9oyXezmxE0VKkHD0P0lnAb//ql/6N972rC0dTX44n64zvIi219qdq8PK2Wh1NMf1Hr/xOf+Ebf+GNQVPUNJQlu9Q9+DrG1YrNLFmiPxrF6K8yU2U4ZJbEoaxmxSPP1dFkY37DK1//vb/0Y27wvfEbv4OIvv/tb67liu4NL6tlqu/Zl0f45a5GPPs5ZNNR06Bz0ByWzAv156eEi6gU03mOxj+0O5nGRMrsZa2zC6RENh11HnQes9d1TlyD57USdjHfW62rlMuk0Ypn5eWxQVM9JMk8pD4z4gaWLRWLva3AnRawqTaPudSNBo+wVr9rDjZ7NRaTKclLX/eOZ7oK+hkX4Df+/A+NOrkG+1/EspUoaIk5u0FahSQoC3fhiC6sWopISyJqXVrSVsPFu7c5NBfHspgaSyeWXoUY/KZx20pZhlIMXH5KNUHJQEePfh/Uri4VZvW5jTaNuhvzbtTdqGeDTcqhyDB7iXWofwalUtfQLAY3S9lsOScSMwc2DZaiy7Amr/T2mymTy3mcZZhD9ATzLNGYu8RMjpoPMo60BF2rBVBz1ezKRMpkMw9TGGYZJxlnGT0eFWoZoS95XuBTyy5qxrHVdhIph6WOdKlGbmpdVnDqMq8libCOH5T1iyVLUA5VZTsBOIibFjuvrJLW3UhaQ9O2zhoSWfdrS/3R+epU7gPCS5SFtSsbvqjEua//oqrfJaj71pe8/Jt+7Z2tBPrCN7kgP1qLeP0v/e9yF5/uP7oVl/Yu+Le8++39hyj1JoucNwMODq+vhe7PrRG/96Gv7H/zqx/+MDcPlVot95LTPWdglQrhZma1JG5vBt26CKs5pi1DIWZi2fO+oUsnd4kDr7Sy+oR6fVYVCU3Rkpj29ZLKkmppoZf6J45d5a1/WXMLponx6rEqJdbWFTZKLUS1PnW9FHgst8VSAO9fvyVfqqVLg86jzl6fMea5c3uKL7F6CUlmETJfRkKtuG4nttUUJs8S1q9szC7Ag85D9paTXMu4fPULfSG9m3pVfVNYApx8kQnKtq6+NGKq7RhdT0TViGJSNA2WmuVsNQGlItWV+Gte98t3dhuSF8cqh33YiFmwNOrUSl08SmksnloX0qA5VAHm6oT5+Z1lmGXMoRiMpQqRVHzl4mauelyXiMjUQt4Nutvks2hZLCcpEphkLPcZUzANNo06JxmUhS2LZSKvgwhslDnU0MeQOdLSybBEx0oqtD4VRjLLNvHmjC6Pejbo1JVKUW0HsmBJLBnNysFDK0li4q1/O7fLxPKoe9O5htc485B4DOx35xwsDdr6guIkm1nHQTazeL8W+70V/PRarsWBki20KG7moGxkzQgwrn8vrrAEIhHTQZOxqPFgycv9Q60Y7CwqqnboElf3izjJMMk4yeCxI/c5/MDYWGtWQkvCjEs1XHWymaw5K8GykFnLBdTaKTNuK1rmcGFxcV02jM0rnbjmFdhju24ZdFpVwtnLZy0KyOpeRa3YPyhz7WOkJaVZlzkvs+rkyquo7Rvf9+7c61mLZN5KjL30tBye1Eh7byz6QxdIg2lN70liMSnrwCvf924iOj20L5foaCvCKpmAehKapbJYTvWY/SSI2Xuq+r7sA+93H1eNlCRXwfD0CnO14WxVzbskrZg7Afa+tRKMLTVKNUuybkvrqu1I+0rycq92rSmrGEktvJKudEvMZom1Cjq7ADfB8xOVuHS4NQFeB061BDxrYCZxMGYhUdLAnQAvcRe2VQueMTXjtdRXL7dW91l9qVOwkoUh4szRpLi5nrYvp4KJzIr6SgnR+bKcJNawgfoDyLVJsiZcy/n34hsyShyzhL0chZCH2vYZNW3yGbFnHIpln2VwV7iWYTIRc+kCbRWm3EUvtHXZnbPSSoebP81sq96u4K8tJzFkEqUonMU02TDTlk0l5LshB6wsRMomxGYUNQQ5qOkn5eJCCbF3s6WWeV002FiNVUmFa77TV0/qGkO5rm2sLBNvzMsymTd5t81p0ClQFsnBsudoO6OejcgbwoJlLj1FVuMwJcybJLg5XLs7miOuNQm9+H/+98yDhtgW3yVkXZYDrw7VwMmIs8ZUas3iJGMKR6G2DQRNtARaKfNItKFAXBqE5mCzlzGzKpUyFlMvZzvsfSwPtRvsTZhbEDUze/bUSJg1WB7znkld2DYaZhn2cjTLaMSmHClFnQfdV69RWgmSJ2XZLFAuXg0Zkc0y7GWcRYMNsUbU+7WvC5p5KL64vGIWNQWpDRWqWuqhlm+mXfDZo/FuSfR5RylFK+armtv4tGpgqkmivs/Y+oyDebsqL0XXnfoytzSS0SqIWu7tegv1+V27ud9sfL4R2Q7jMLUIK1Oo77Y4CsHUasVPKzTj+q8v/8D7pnKr3DSz7fFG87x2jZp21TpFBmoFTQuyMRG99IMflCXPYm7G1fYbUZLsWljE2JanuVZdiGmgzOR1dkXyS/+VkLeHthT5YvFwjcdWR7lUcvVJRNNFflZOT2mIoBKgKl1bQXOt1jQ3qTuZL31fmfsixJAlLJFwNjXxLL7V20PIdMkEt6qTpdiq1C5QCQI382JpJq7VZ1lklZ4wDf69jImt6yEs7ctJopqsTgVrKV23ZpuWFHsJtEgpm+LF2i690a3Enc0XQfFLkFncagneZGxz9CyvZdGdZ2onGZWHRcit/LnYgaWaxILNq2XWq1lLUQsZc9Q02Nyfy1mKB9W+fm0pbuW0wbx+jVfLxR0swOsFxOuCy8+ixC1VbtnPJq1KBvypDvVHvDuoVNpQpiXOQEyh7ycz4sQDCykNSqMtVaPcNye0gRJMqkxRKaoGs2CZidVyzThKbeCh4la2ToZSIbnOPZT6xpuW6rRfqM4YeyWaMRt7/Grw8PgkG69W7jwqsharrck5WbJi1Tr24hQKmcNMA9f1ouVdlCWIugRGSlFzf8BMVp5i4mBpm08H3UebZhl34WgvR7twtA9HJ3JP37Y/2MyWzLhUNLAocfYcFYdM0SW5s/E5iz/UWpIRIrVxSGreiGtBgPnzXNZBzUxGQonjLMHbkZeGy2U+g1+sHLSFN1enMbMEDllKhGqJDPtD3wWyltInI2VVFjNRJmv63US0Oay2+GE3cV9bqJwuaE9a++7U3pN4ia/a4cyKWvXVlYJTzdmVk19y7sbh6z/wa9kL3Wr8Vrq4+qqjhlht6V5tvbgHvTHuZwdLofridm6SiXeceMu1l9cVFe/tiqXvr8zfEFJRjTQbedbQe+HYx8VcXA7HNU5mXTtTdd1q3PswcF1/pKv84MSB/bZUjpqJkhidk+2lQahPV/BFPbBsFkm5ppPrurQ0sJVBQMY1CeJNz7k2FNg6vLzMDlKqTdhmucWNVfsOV/9q2Rvz2My82c3YlqCLuxzMJmx1FoJ08zSW4LeQhtXoEhMj8pyRFCvB/zVInGwjfVKM3QVS01xH92SxXMpCWd3EEFIzIbJoqSVug+XEcQibvWz3YTuFbeIYJWSVQaexjANSsTTLMIfBo4NEHNXfJEXNPvani0jFu0GA/fxamwnFy63pXZt1ldJQGsWUSX3RL9YbE5Gw2qAp8TTLMOeSh88iZtGMrfaYiyZff2vr2BKIyxJazKnVRPicJl7GQpVu41k2pqIipZxPp8zB05+5lHRJdYJbKIPZhJbpPNY36frb2mFlXU3SdGls6gIpbDq4oceWZIg6DzZFTTXf6QVioTX7upXQPfZank8/2hqHjDp7qac/t1H3o+0H3fldGIt9rS3Waiwzb2bZTvFo0GmwfbC0ydM27y6lG/twtJOjJGPmMMk2c846RCtDToKlWkYn23qUrYJa62mpKQkyGbOE1sK0pPrcWWMrTb0hZA4Dh8xJW2VpfdtaU6bm0w+4NfKIctGtVijephR5bwmxmqyUr/TzEteIDjGZlvIgWrKSzSQyleUm9xiMHOhtd43soIKsm6i1ytb3K13Rrjo+jG8+UovbKC7ixHEOpSwuWhbVZWqHz0Aiyczko4LMhFvj6aHhyFROkrZYX408v/uFL3zJBz/k2c1QB3101QDloKr9TcastjT+eKNf89FDUQsXhhLtL5UH9R42YmF1X9ALhXo5lHUNQZ2c5dddpZaUE6mYKHui13yEU14m4axUJ7PkMO4DeY+sW4HLxJXeXrJV/MO4SFqbmuKVEG18izG1kTu0zBlZVQywmbKJef5laVit41FaNzz3Oa9EJi10bEvVsR9aLvUxreZ5MUdaNIjNoilRbgZuGQFUb281DqZB1WPyfu0yBylBbFWTUmOlqZZ0qTFnEqPgt1Ck5N2SxEzi62v28Qm1rKRkxJOM2WK0GCz5JJaN7oVIiHay8QkHpceX8mCTmamxqihlJUkSbelSM2LzYYLcTQK4CwQ4dWY/9+PHdLFxzft3PTZVimNLxdQnbeIAACAASURBVOPyaBtZJJOso84lciVtFKLMYeiC2znaHDXX3n+PJ5iW+QnLmVUKHvqINm00BctK4sVWLsZ7GdrTGzVHPQ2mtWRAajVZV85kJZBepsSR1zNzKxesStxCnHaxo0NcSudrfnEp+rA55mnQOVhKPNTKNa8MZGrjqEq1UWjmcKtf88+IlFlnX2sG3Y+6H2w/6m7Qfb0LtWUBEo+zbGbZTrKZZFs7AcovXEqnRCe6lNG5HTMEHoLOXtcw2F4slfUkUy0Fj+3g/c8STgg2GaXyjdqwmxyVlkQXUeKYQ6DaiZHbdB72FqtSLMPd6Jwmek3DuiGRneNih4Fe7v5PibR3mbkLewf93lvVZLWKpK4Bd12Atqgd16VhybV2HvSS35WP1y9h/dAMIqKZh1kGj6n0w7PI6gQS4syU29yFdQb6YAhRfbRLYODl73/fr7zwK7/uA+/3OLwnbvov25pV1oOi8kXedpkmEcrITDvfDtcPP0kkQqKUA/XRtdpg1kaJdXnzEiApl6lcr6KRpGIWKbMlz1CoLF7mgRKvZbL38q2/BNQXBJRhOC1+W/K1tqpJ7DJrboySWD+spqScQ+8Bt8BhsS/rgLZMpkGSxb5UuJtP2W6pNr+vC9GTiWqbK9JmcmmXxrYyW4PZKKp6O28bgJPrhNdQBgZ7CVuuHnwpXtMSVClDZ5LEbFEoB4uiVVDNaqBLModUksd10g6Jj0+JPrrSk/ekPgbKH381NmWxLJrb8EQficVtPs9dIMA3huMuKkutATxYFs2hGIgaScTWEZraDbxaFteDW4OWggztYpWeDhTTzCnqPFgSS20y5VyCukOz6Vqox0MZLQ/U1T+LlqlYXgSUmhYy5dI0Vu6e4G6xWwCj7gfd+UO1l6N92CoftUPtIvDmXmZrSbJS+u+36Rw0u4KEMpfVqximYNmEsoQkwyQbb+Nxo8/7srwrP1FMFEliWziMuZRcsYpZsjDLuLNLbDbYftR95071ZnLxhv1G9z7AEse1NmtJo6pxCmXem0xhmzlIed7q1E+dW+FvKUCTIVP075Il5ppu8FyOu+buIreMWuJAQmQcTEedY9r5OMBaM1KWBikGRKxtD1KzdLR04pMwK5nfg1ylbulZWrX9FD+tus7UZhH0UzC5y7usJnTaEo8k6gdbdjp3GHDu52H1Eehaym9805Sta3r5iEU3Ww3i8pbM1jvSByFtPu++r+yBGq4kIrOXfPDD73zhV7zk4Q9R1wzd5o4Vi8RYSRIFYu/P0UBej6ptZkiSONXyn9AVb4ailxQsD7lMd1GWn/jaV33ru97WOoDDYTvKqguxG9Jh57JlZeyitcGZNSm2nuVycVmcvz93Q0O9HGktxkuMN0sogROz80b5YWczGVEwYbcJorV1rxu/swx3c1+5dQGIEXuwRsyHzGuLHxRrrFgP1dcUannfyG2qXaKu+LyulnLh/IpomS352JnSHklsJIkHlaCUdLGey1O/zvh0n1JipZlNl5KI2q3Qt8BlDmIWbJhkE1S9ncnfU5SOdBdEk+TW2FmXVl26Xu+OQRxzGLhaWGIeu+PMEkwCiXq8SFOtRSgFWd78Wn3lGjIsbWduGHl9tSynvlssyhptXlo8RwvuOLZhwkaUZMgcvIiXyxClMfuo5AOzlFSJWK2IsYyzjFFTlNnnLLa6sJrvFGXJGpRipjDaPuq0yWfBUpAsIU1yVEoiyZt8VEzJWEgC59bX6xNCfJkI5HWe7G27Sqo8+KyuUSciMeJJtknCPoxMFGppsZsCQppUmWOWWKdk9NOUSI2JWYhmGnMYbN1mQ+QROe3G+ifrRmj5cMfy2JTHO3vlsC85SeJEmyBb39Ehlk7ruS1kSuxNz6VP3EpBhxmF2irgRo+yzDJkC8GHD0iomRsyo0HT1qZUJhI0BeVI2Udts4TEQcuSV7w7f45bOLq2S1IND/odJRcUPPV1zhdUPXDXy85tnjmtfn9Zs97z0EP+lxd/6MOrZZ1vpq71gViaR85nPw9mRlXH0ZiIPvhVL3joA7/JbdwJW6/uB1+Wb56+XrXAMBHRix7+jfc+9OUv+tBvNFu5FiiYD8lSDnkZgyWJQ+IgpoE1UA6mfUtYX7/T/OZgqiRZiNQ8QEJEG23bmTTlUFmmGHrcS6yE1n38NHmHotHylybOfTP3zUrkWmCgc3KtDH7pTL0SLatFLq1asL4mkHR+sy31Tf1ntVMhpkHa/grUGjWLADP1JWyiGshsuRVJiclTv6RkIm1yeLHUmsXF1RNtnXuSWQZvg+5i+4PlthS0ddhKtSy1pdfKYRTvdpaRaoVX9ZKD1JLsZjyVGYJsbKXPpaTeqhHjsa4yLc4okMdLStGhmrQqdDdjguWYs+/eEcyCWZtBWw1UuRsEuD379S7Uvm86czBjoZDJ+9XVq3mJlChmGoxZOfpDQm1oqpV8g/KQxQc6xq7SoU4hJzVlY8kaE+dgSXk1vMm3VDLjoWwCkbpRZ0sLoBe79GNXu8FY1GYvz7VmSlkGjYPGSYfBNr4rSHt0g9k2nyUeWpM4leFzJBS8H0BXY0PKPB8tDoeohJm2VeR80Boz8agzE4tplpB42MVt5uBD0tvK5YUGS+EJ9dmybl4x9YJUnkDvuAiWhBKV7Kb4kBMjWco2a3uiTx0x8cE3Q+YQLAcLmWOwMUiOmvJqLIb4RD0l9gmanowoHYG1YcnzfLMMRIOKT4csj6jURlhhUTMT8WEIbpu7B+DFwHyhmHW9jx6r/6mXvvJb3v12X9xXpVt9kb9R35zabr+DLQdurqVltX93Vd+XPvywWSuOZaUL+4+r68U1WMelKeBAPuvOD0Uc2tV++KtecPCXF37wn5vdNO/VVfYtsfhDKTJepIvpRQ//xvu/8su/+kO/XmqYyWfCpGi5m+C2lNoVk4UpUcjVvFsPzb6grKl1bDd9WpWw+ePaxbrriM6STqZunG3TJKOLjZ+aHSzTLv/Jy15NRN/+zp9fIvN20O/UVjztyg6kOqMkVHNDnf3X4u/+iT/10r/xd975C3V/J28SImXx9tmuK6xo7boFlksfTm3Zar3FBx6288Ov+Pa//463tEBFLdEvdYjlW7CPT6BaBNeG7C6zTlv3PC1l4eX8WB2zn9dzyPsye7E6qI6yqHXCUbqx/diyl4NIyCxeZ+Azq2u0rFbYLQ6VruaNW19XIYlHH+LdWp5uhzQ+04M4fuBtP9q2G6vTrou/2FoCBp1G3Y95GnU/6n7M+7b0t1196qCMcDDOr01Urt3DSwwnegO4Ta15vO1x1C6bVfvAC+KHOuCizLZctpOTlglzn7LzCM3TopMcpbKxXWzD26LOg86x2+Xq/LD4VvHEdQBWjULXobi1ysY7mBMPTZvLdo2m9Qi5n6ed6y57iytgSnVOU3tKa0vA3FZX74PyqSNlO8XSczwHy4ESLxk7UZZXfMfPvO2fvraODOPV5E7yRuoh1apC1zPfVamVBdQNDb28PDF5vaWP2Rp8+HDQ9J2v+cEf/8m/36aYlR17avY3lO1rlmxiqvu9LJvP1O3wDrK2rda6bX3xMy99hQ9iXO210O/Kt96A7+btQxc0JtEqys/veeghD9h2swWW0dF2y3oQPj8Wo+sjevir/vMLX/XQB36TjB5+0QvK359KFwN3wk9P4YjIiOgDD335ix7+jbqSW5sJI+Q+GdW0C3d7MHCXgNRu76nSQNFSvK24wWeJfOu7ftHbgoWW2fx9h4x3XtV4Vd3Agw8deTu3mUdfsfHml7/G/6NL73p/wJUGUysEseL3tx2Qumq7ZSvDPmZD3fH7ZLTXvuttXKcxH2wwum6JXC2DTX7CKilO/a5N/frww6/49u/5pR/rd69aGrtrblvWE0uqTb/2r5b968pYmKWcp2SIwve96rv+wS++ufVY96u63xVuMUTLo+43ee/Vo96suJftPmxmGXxOQLB0lE+3+WzIUy3yapGbEoKtA7Ck3/CjM0Ha+lmGc73mtT96x0/C+pGfewN3c+DWTe5tHKC57o46jXk/6p67TT+KEotnCn1y5MGeu62uxvoHgM0Gm2Iba2WTkcwyJB5T/fNgdyMhjTrVAvcUdHa5oiXQzVRmbPnURh8vTlPYTrLdh6NJtpNsS7Rt3cvRbfGUL97RtnUSF+epDQ3QWtHNM49JhplHV2Imk1LpVwLOdXfCViYW1v3pfmd32U3mMe9j3RTZZ3DOPGQZUh3+pSxlNmcd1Xa+30Mst8q18iPDMnSi9HEeztBWElolR7ls6kxeJJm89z9zdBn21u3VmAvm5BM9L7SpjXhdRKqrERl1amabVVmDeD/90m/8W+/55YMM4kpr+7qt1RZAh8V0dPg7Kzzs/OKHP9QP77RltNqySBhdXOzcTfh42k/oh170gq98/0p9l82Ub67B3YdWVebDX+gP9f0PfXlV/X++1Or6DN6y+4KGGqBumcWDsYJCGjUdjJioFViizD7++jXvfnvbCcB3Emxj15oKLhuceG3zTTaFPNipoh94t+xAXFXzfG2aHW4c3ZtitdK77TVJrZxK+goGajsJ9gPCupLywzdpvmZ3JFz2VtduD2PT9fYkTYBFbdkn6vAb8ao4+6LawL6ZuA15bSVmTQLaE2d1Q8OuNkiXodks3j+9zbtN3rsMj7pnIhfgfdj4tuVEtM2nR/lsm8+26XSbz3gVCyolXdpN4DIORAfNvs0TEKXwt1/7pjt+EtYyO4aWTTG9H5Q4lMwj0yQb37lv0HnM+9W0sz72axws09JUw10yrEsVLHeMzLKdS+px6j0wo2TGRCGXIiApjRikktNAOdoULJHRLGNiSTK6e9e32wfLwZbNE4/nG4NMg0yBSm7fkxm1DSmW6VpdbJmsD+utKlz8Bp1LUofqmOg86LSxXRkkUmJZPj28vdSj9CrGyqokSoG6au3MYQ7DXGqdODMdpTzm5EO7os4s25lMhdu+aS5dYl71HXQZnbjcoBs9jTpH8/mdwaumZ95MsrUy7Dq3c1Vd7SFzzBRbg7znjTLFtj9g62eTUnAXDjSPxEyGTEtJfJtC0DZz6EaZ+jO/GnHQlR8zsTHp337PL1ndMr1d8TaDqf5F+p3MdT33ytbdvbTq3i6/9mtf+de/+kO/7jtILBtuEfU7HS8zJG7SalTD3M1vplV22S5U6/Jf//qv/Q+qFyt3l89c+rHa7Vp1t1jw3s/VDmPdjN6/J7fNG5V9/73SChwtD5SipUgp1DmUSt2kdDIjHvM05mnUuYVS+zkVRHTPfNJK1+qiv9SIaY3qr+LM60leq7EodbfELptQGoZ0tZXvsizwUqpSPq5dimbytpfUTQ/bE8Glcak81CU6akTK2hqJW+3L0pTVRlcuPZCHg8CsnvPa2N70r21RI8VMNt8VqPkD6/7mVi1IF9QGlo22WLTGKgL5nLsi6qFml6TkjLntsjNLzBaEc41QhsSiEogs6rwhHXS/zScuwNSq4km8MzioEvmw6E0q80DK9Ihuknm5M11o616EWkr+idmUOSgFulu2I0yrEcemRDy2+YJFiVcvyRK9HIJIapTVOvGjYCkc7InQ1etyt1lHf5ckHg5M+6BZvOJDcraQSgLSLa+QWaJbcEoiJmqzWPPAvKwgsWQr5VRt88SN7oobZ8mV2PMTyuKbGbsSry3rw0nxS80xi1qp7eoLUUfdbey09sMstYXdOxsTCWXzl1so1ctkXoJvxCbl7p/CGCwFKeH3UXfFq6Y8ySbxUB9vLSNCV4Uh5ciVg7IqhWjzNu+2+YSIZtlOsnUxdv2rs5CymAqrcPafzIMRR5ulPAzGRJnCLKNdVADVVoRgappK3Y1wmw7NbKXnoFYrcRldxLXUuUYWu07cbglempcOZ03Tanf6tavEtmwMRf0UycP2IaIXfejXrZbs+qLYhf2W/dkOBHKdqbUDyTwIQXcOQCuvMVpvMniz1K/1O0n3ZdHFGzLr1NlavUA5fz4DZPXWgVWXyJbVDYx9Nw4yK2IwUIqU3IXKJExlFnGSWEWOxjwNNgdt+38wEf2DX3wTzyfdtOdixbbpVEy+W9aSJRUyrRXgJcjBS9592Xm51matN0BbVYCXFiK2vrxxVcnMXddZs2stBM5BJS4rJJF6BVe3uZOt4pZeN8fEWiq5pDVunR+fclCsriyrb1GtRmUSEjOtMT9vVvb/aXXIRucr4Nu4rMPCBg+tRzVWYm8HyjWpF0jEt2mh/Yb2rsGZY6ojw5h8XJ0p8xQ27dJzslHnwaayiFGp1Q2mojloZjOlECwNNGVrE5y81SL0e9mZmZIRu2OR69wVFdIyDeBOF+BN3reZ/u4H+7MQl/mlcpHfvFSHexzSm0TdVVraA1abER1MnrLedabFWVn8j9ogoZJzZB7JK3TmWPp8chuAJpYDMasFzp0H07emtAmUyoebinPr6y4pDZ69Fbi2M0pdsLSbf1sqGlrs0UiEvOOidZdrHfXgHrAHxEJuU8MolBIhEyGfZClBolASG8Sy/znovNFp0FSXwlgmlZMOeRbVzHPRyzKhM0s3a7A0o9ZBZu6/9rnOUXeD7bKeKokt3X5hZTmRek2ZUA5eJm1ztDlznEsL8maWMfFwGPKtxpwPUg6mquncAtEKg9woUTWhUrXEHsqso+9K4c6iPcx9LXHvWopVZTU7aMDg4ogyLw7quZYSW2d8mzXZ2oG41RitlLJ51wde8jrwvdbnc+b8UzHv+9Kx9c7pxP1/bEFyrkO0y65gxV188Yc+3JqmxBYvnUvRVbt/NJiRUTZhC/07e5+MqEdETJmzhETRVOvU9PxDv/BGShP3hjjRMhBtGdnBSqYm1ZA0JfE/mdm7gFcxXj4YSSZ9r1HJiZKuCt8OmsJ51fBd+0Fyy2r7N0oc2KS9XOqEr24yxjLvzEfTGFsdQdl+53De1lKhXWZVGp/fw6Or3KbVHcbEllsJbddMxYdWm/ZhAz7nhRtz4qA+06v3lLqZmkQULUnWzKKSlSVbKdDzfhMy2cuxxmHQqY0cYKJBZ9/CobqzS/letFl0z5RpqSgqs37d31022CgbXBqbKRnTXSHAX3btd7sEpwp1Aa/qSdyi7qMFcrsqmJgpaM0BtytNq2YJW7lo5z7o/D7kVQu5dZp7orf7aI+GxVuUoLQkbp8Z9SKp9aModr7deSXnqymA50tCSjVyl4it21guuTgPv6z35lv1UicJvlti+x3Pr4x5117S5Lwt9fVO1YNRA807qOmG3HJmy35H9dnW4qlLlwyOywcxczn/UwtBZ46zjJNs+i0LD1a6XAtrD6WyFSd3OeCDIqkuYrssu7xoBffaqd1HLwMTmJU4M+caG7SLMqiZJXlD5Nob7vNqbcDWWj/5FpsPn+8ICmaxSlrfxNxbJqPqqDmqPsW5P3y4Exgx0SSyl7APoR1j2QiIA7N97ze/4Yfe+v2Jx5LEqSHhUj9YDNbFLJC67V2NvnIX6vBCBO9kS22KYd0bQKPlo5y2OQ26tDx5gJLKXbfc/32etaU/XKcnkVlkqvNDlDmxJJbMLcjhycJYNq5fhhYs79+s/Au3A1lq5g82dqutMl2cYBHgtkuN0DKCu21g2n4nLB0BbYhN2dCpdToEsmDWB9zZTFpqydb7Np6bS3rrORX9DlTrtdHO1W3ZYaX9estL5aDdUlP2VF12nGSt9ne/Nkadu2nkWtNebaEYMq8KiUKZFaFdMviuEOC/eP3fELjzsWW/oN5/4pv92oEadDsFsK0mISwTitc7+rXc6lN11z5uSS51sTy+hQnVHfC6adeom6tM3bj8zh8iZc5VhjPLOWUzIs7iCzq7GB+8YduXybrT1fklB0XRdpFfW34hlsH3FkzjqiSnnPNgNmoeVQfV0VyJnzbKvJewl7AXmULYSdjJduaQOPgMrC965P9KFpOMs4yuxFp6PQ/COesrs+TLS+DqgfxYmZlgyY3jfo/I//S7/8W/+OG/MmpyDd7mtNW0zSnY0qImt2i0WvVW8CShyDCHSSSLzCyJJYm4GK/mvlHs5nOVLczpcCerC67asrdHiwevOiGXQVSta7H9WVJCXUuhdJuBhtJM3747lUquorsWyFoLbLBuImkd2PCZvRx9ChaDi9+Wb+sXecYF+Dc/+z+Bet11Ynzhbcq3fkLO7+d5bsLwBcLyTCwD/JR+xz7+E89862+UWQ46jg8+WokTr5bmC4dp2PkZl0/zK/vM9PM+Ss9o+okJcM8sspdwXY5vyKUbcnxdjok+/OEHviLNYU4hzWHOIdm4mnTPFigxlZR6az5ttXF19Ch/Lv/x56c//Lz8h5+X/nBrO7E8S5g5JAmzBD+fMwcNvJMQYzzKaZPTVvMm563mwXcb6lPiNz9d25w3mo1odgFmzuI2E89ecl/aKblsLrseZ3ZOcdfZh5qlkK5//fxdV9zZqpSy2r7JvVXtvPxmYaxuuhYAaMcR6iiF9inhqdklt11izz0XfPC4sd1iieDD16xiSx/3AG7LGXnGBfhfXv0SKBYAH5c3veq1f++tP3F3fJecZdZ4XY5vyDER/V78Qgucs6RB5jmkFHI+jO9tZboSTwPnJsP3zE9enR7n0mtGzHbdLv0/8ucnGScZPy/90fPyn5SkLpWC6syRKBmTB7BPQzwLwYgHVZfhjeZgqwahW7h6tgxFqrsa1LkZZBTIa8SYybKZ1MTjklngW8aTuqq2JsO3yDHYUuBSt71uzUtMmdmM1EfqW1+xSPmCwwh3TNTtZtYvrzT4lpY6H8g2LeGlT/93fMYF+P8cvgBrK7hD+c1X/LUXvOO/v20fd7c8LJyFs0rOojMT0Y0bm24bUr5Fa+WlsLscT6+E0+Owuyddv3e6dnW6dnV6/N7p2lbP2sjA4G3BZtksGyUSH4yaZDCTYNkkmVGuU5cnkRs0eMiizWewpxoNuQD9eDGJT2xxv1CA/+Pv+V/+5zf+R2vduVU4hw0P7qfNo336V/wZHsTxl372Xz7dV/3Wq//DT+BVnxj4LHzWs+2zbsPHWW1x/9ev+ctf/OP/qvd3XYDPhzwf1GvPTx99fv7Ic/nalXByOZ6S2CxhFrk0X786X7t3upZZfFMNqWlLzyjPMuxl2MvwVf/Fu97xlr+5D5vMwVs8fY501ztOdAu/6unwbd/ylv/up77j9lwvfNan5YO+7VvecsdPwvp3f+xfw/gCdyK/+3e/7Lbdvbfzs26Ht1EF+Pde96Vf+ObfeSovud8e//Ppo8/PH31++sjz00efnz860jSzuAbPIjPLWbzkwwN8fsAscfLmNBkTj7OMr/62t/zTn/yufdjsZTOFzV42qWyNVUakZZYLKrk/4/nJl33Tt/7q2/BI3v7TfsdPwlIVXEhwJ/JF//i3P+maJDwp9Puv/5KnqMGJZSfhRhyf4M0TMo7GWorJObHMImcynAxXb8QrJ/HKJGOScBa2Z3Hrf/7Yy76NiH7nvn9PlVU5q0xhkzjWXSjYjHO/e/edw0O//Ov/NuOJvAt5xgXYjHGWAbg1X/jm37FnU+ruiHafRY8c09nyn9hSjCd66UQvXZdL1+SKCE2yqZXGnJlPwvFJPD6JV24MV0/ilZNwT1ZJFs5oe0bbF73nw+//mq/46PA8U1YVl2HVWu5tZMY3a58D4O4UYADAs9y2uNk/XaaT5/KffRY98hx6rLS3+qxu4z8bHhSmSbZT2E6y2cs2yXASj27EY5fhG/H4NFzKWVQ5Z8mJ817+ytv/p5Mbpc5Ll4Kvg8HaUF8AAQYAPDsIrJfj6ZVwchzKkLWNTlfna1ena/fnx+6nRx6gRwbJeznahaPMgUlmOzqJx08MV54crpyFI99tLGXJWdJOTuLxSTg+DVsPLKtRzqJZVHlxdo21ym0nwFBfAAEGADx7BNjScTo5opPLfHo5nF6Op9swH6cbV4fH752vXZ2uXZ0fTxSJjdR24WgnR/twtLfxlO855XueCFeeGK48MVzJJjlJypKTpCR5L9a0Vum3v/Uv//s/8b82f9dWe1pAdwEEGADwrGSjZ8/Z/cnn2B/9Ofujy/F0K3PbyOskHA26nyVe29x/bbz/sc0D18erOzmadJhynFOcdvFkv7kxbLKJGauyKecsKZcBpk1icw59Kh3SCyDAAICPz1OvFv4Mh8ke5Mfv4+tE9PtEf1E+IpSP0km0HDUPlh/YP3aJT2/Ey1PYGImSPDncu+PNk3rPdT2+kY+v6ZVrw/1TGLPILGFKccpx3ofq7C5/UtuE0ZiIVG8x5QNKDCDAAEAUnwUEyg/K40T0n8V/taX9MZ0c5ZMjOjnOJ0d5v+U58Zzl6Ea8fCNeORku73jzJF96Ui5d53uezJee3B1PNOYsWVmzZJWUpQ3SumiaB1Of4jXCPCjwmc9nYuvh77/+S+7Kz7qLVeou/jhcsqfvAdN90xPPP/nolz32u0T0Zdd+9z94/H9//u6jV+wkDTENMY3xyeHKn20f/Ojx8/7gns//g3s+7w8uff4fHH3+x+JzntTLJ/P2dD46nba7aZjmOKc45zCnkJJ4zbP7vud+3A+uP9Q2xn1Gfn7/9V9Kz/BHfFo+7jZ/r8/4n2c+XPRMT8KCAwHuUJcUn/WJGvX2F+b/7wvSR75g/sgXpI/81Te8c/ruv/D4cM+NuLkRNydxcyOO1+Xo2nDfo5sHHts8+Oj4wKObB874KCXfMUnmFOY5tDizGa0DzqvC5vVX+9IvfPNvN4cY9zyiPp/kqbjjJ2EB8CkES8Mdeg4TDzfi1Uc39z4y3ncjbm6Eoyf50hN0z5PTpZN5c5I2Z7zJyqqSc/npRdeMb9lBxJ1bz7heeMTuFCDAAGAl+qS4n594Dj/GyybzdFluTCKTyF99wzuJaCfxifHSo9v7Htnc5xr8pNwzz+FUN0/yPU/ypdN5u7foLm+NM0uboXEwTOMW1wvpCQABBgA868T+QXr8QX7sOXztMp1ctpN77MZlO/F/OonxJA7Xh/GRJJLEuQAADzhJREFU7ZU/On7uHx4/7wm5PM1hnmP5cwozRa9h7iPPzcG1j7MFHwB3JNgpAQDwSWHESiFzzDxkHqLYNAxPbu/52PH9D7/pa4no3xw974/D/Y+myzdON9dPt9dPN0/uj0/m7Vke9zb4T0oHBVZ0bv/gj18ag6AFgAcMAHgWkTlk8V0C48zDxBvlo2BzsHkXj4jo/73n856gy4+G+x8JDzzC9z4xXTqZR1XJmXOWrJKztLaiiwLOcHkBBBgAAM7DPPOwC0fXQxpEI1uSkCUmDkkCEf3+vf/Oad6e5u1p3uznYcphkrjM06h/OXjTp3sUKN8FEGAAwF29ZEQdxyS8uKjbPA1pHnQeOAVWFTkJxzfCceaQJBLRR7efm+YwpXgqm5O8PdVtSlL7i+RAfbFfAnj2gBwwALdyqu7Kz/pUyHA+Pp6u3nv64IPXn/Pg9ec8eP2+KydXNqfHfHaUd0dpt017NT6lLRH9SXjgT8IDfyr3Pc6XT22bUshJch2sYeq6S7XgGQAIMADPbkXEabyQUaer6fpnTY98zv5jn7v/2OdNH/tz88eem/70/vzIffmR+9KjV6dHt/sT3qXpLO7OIhGd7ja7aZhynDUkC7NJK7YiIisZ39s3fuiOuw9x20OAATyqT/9n3c5eT0zCusmSYWIqphud7p2vf/b0Z1f05Eo+vZJPLunZ1nZRp0vzE5fmJy5NT7zrm1/ygp/5jf1u2O+H/W6Y9sM8h5xFjbXrOPqU6O7tvDfu1vsQYn+bQQ74tnI7HyR8FniGTqCYDpo2aTqy3ZHtNMgsw7V4PEsUy5u8O8nbk7w9zVsimlOYWdQbiqrc3gWJ3tt2H2ISFjxgACBUgIhozLur0yMP7D/2wPSxB/Z//NzdHx7NN/Y0nNHmjLaPh6v/dvs5fzo+99pw/7XhfiL6H7/tr6W6iYIWl7d/P5RcAXjAAACI/VOXYd1dzY98tv3x8+hjj8/3XZqf+2eb5z4yPuex+Nwn4tWZ4kxhtuC/fH6uJK44ABBgAMDHgdmYjatoshlpyDYkG5ONaoNqSLPMKlOWSeV03NYJG0xEX/zjv5US9/7uM6fBCFoACDAA4C7hEp0d0Y7JmIyYmIyEVYJaUI3JNns9SjQkGhMPs47TPOx0UGXX4C/+8d/6P/7OX/qif/y/Ne1uMgwAgAADAG7FZTp5rj36HHr0QbvGbEZsxMRsMT5BDx5rfpIv3eCrZ3Y85WGuXUZtxBXdrtkamIQF7jhQhAXAp5/P5N4PI1YWY2Gm5/JjnyWPXRlPj7f7480+bOhPjz/7sfHBM76046MdH002pjphQy8eMAn3FwB4wADAo3p6MhwyR2ZSjrtwdBaPT+PRWTg6y+NJ2p6m7UnanubNemcFyC0A8IABPEXwCSmvkAZLUeeoU9TJyHY8PiGXHw33Pir3PhLuuyZXT/h4oiFRSBZ11ezLnePLuA8BuAMEGBOj8FkXcrdOO7qdn3WL6yViw5D7nyhZLAVLwVK0adSd5MQ5cU6a6cw2j9PlJ6T83ODjiQafMeky/H9/55fezoEVd+skLKy9dyufoSFoTHHCZ4FPj0kuNgxpHPIwZGY6zif3TzeuTNfvmZ68ND95TE+KTSe0EbuUjPYa9xpnjSlLTmLdhOe7HkzCwrpx13rAAGCBuP3fi8lGmo9pd0S7Y95dGU6ubk7u2ZxeGs8ujWfH4+mWToe8kzRzSjwnm/M8h3kOvrWRT7xq7/Z7r/tSeDkAQIABgGHxVGGikdMx7a7SjXv5yXvpyat8/R46ObKzUXej7gbbBZ04Z008zWGewzSHOUnOZdKk/8C/AeDWoAoaAFAw4iRhH0aK4j/MRBRmuXQW7j8L952F+/Y5PkmX97bNmTOxMmdr9VaMiAUAEGAAwNMXYKOUQhALQfcyWOQU417GSYZJxl3YXh/utZme0EvX7Mo1unJiV5IGtdJ3VOufoYgAQIABAE8TVZ7mkJV3+2Hcp82QTsNwIx4NmzReSpfmU5tpPw27Oe7nQWdW8q0GqfOAVxqMdmoAIMAAgI/rAZcZziFoCJqzTFMMQWPIY0xDyCdxQ0w5ykRhT8PehjxLnbnxad7pCEoPIMAAgDtePHKWnIWIRCwEjUGnEF2ViYpI5yxZpZZccZVwXEwAniqoggbgpqKIL6XKKcluH0/PNmdn49nZuNsN0xxzFm/5ffY0/t719waAAN/umxsPEq7Xswof4fS0TmOLMKcc9lPc7eN+H/dTnOaYkvTqi8nPeJbB04LtmYwZMTOyMs+S5/a2XWh81qdwqX26n8hExLaW58N///R+qbv1eoFPy7Jmz3BOBTlg8Knxq+7Kz8IlO/SGiejQzbXPEHfqNn8c7kPwyYMcMABYZD8Z+GabHd3FQ4wBgAADALEHOIcAAgwAAFBEACDAAIDPEFBbCwAEGAAAAIAAAwCeHe7v7QlEw88GEGAA7h7luCs/C+B6gc8Q0AcM4E49S2UDZxIAeMAwnPFZTxWfpIjP+oQ/xf/0n9vwibfTYLpb7w0AAQafyhUQn3WnfNbdfQc+02cSk7AAgAADcGcYFnCqoIgAAgwAgITced8IGgwgwAAAADkEAAIMAAAA/P/t3Vty2koUQNHuFIPJXPORqWUImUnnQzxkPbAC0lF3s1albjlGQUYgbQT4XAEGAAQYOFzYh8t8ig0BBmQDEGC0yrrOi32Xw8s8Z6LnADvOWteiLqcdRc6lGv47/tNNfXudukXHcinlwGvP2a8i0PSJTuQDuLOTxSFRXQaYD9n9D+1j8hI0PD/RCV6d8ypwBuwMGABnwM6AAaAvAgwAAgwAAgywCx8uAwEGTqhvzIcxZR4Bhh6OsCYYt1VfJ/QIsONsLcf0LtfV6ySsmKFUi3+6qW+vk7B6PRj2fdM28nvAOKn6oHUF35xkEhYtH2f8HjAsnH/0uq6jn6fHz/bycAVnwADgDBgAPpsAA4AAA4AAAwACDLTKVBMQYKguGN03I3IUpV+7QIA5/+l5r1O3YlYUOQYrZhuuTcLqaRiWc3ra4veAafLAFzncv5vRUcEt7HgSllPtDznUHP17wAIMNF9fUaTFAF9sZWB38S1UX5rjPWAAEGAAEGAAQIABQIABAAEGamZsBQiw4511bV1RzLpixlFNtl7YGKz7uvobRan0vM8gjm4H6MQfjPqbThW/ruNWNw5Gr3PETMJi33vZJCz4oKdo3Rzc4ydhgQALMAAC/D3vAQPACQQYAAQYAAQYABBgABBggPqYj4EAg+P4prWEjcE6d2OGbU+TsGjIpdo9tr+hNkY4NbSun7//BKzrfs0BY6rWgnHcrYt8YCSTsGiQQRxQ19HWJCyo5DFsEhYAdBhg7wEDwAkEGAAEGAAEGAAQYAAQYABAgGFHwUOOPmGmUuQwLA9gWnGxCUzdamVdAeOi7lces677Wk6chBWzxrCHR5fDsAze6pVBHFDX4e+41cWPSrb70/SObxIWAHQYYO8BA8AJBBgABBgABBgAEGAAEGAAQIABoC0mYYUyCev9FQWsK2yE03w6VcDUrbmw2Vsxd1zYw96QA95kEAeex9RyTD96dX1PwlJEdn9EmYQFAB0G2HvAAHACAQYAAQYAAQYABBgABBgAEGAAEGBo3pO5UY2uKHhd89XFrD34NsI7DOIwHnK3Q54JkXvV4ojVRa4rhc+hDHsQxh83ODENJmEBQIcB9hI0AJxAgAFAgAHgMxz7/wMupeScbWUAmMhHv8kMAMx5CRoABBgABBgAEGAAEGAAQIABQIABAAEGAAEGAAQYAAQYAAQYABBgABBgAECAAUCAAQABBgABBgAEGAAEGAAEGAAQYAAQYABAgAFAgAEAAQYAAQYABBgABBgABBgAEGAAEGAAQIABQIABAAEGAAEGAAQYAAQYAAQYABBgABBgAECAAUCAAQABBgABBgAEGAAEGAAEGAAQYAAQYABAgAFAgAEAAQYAAQYABBgABBgABBgAEGAAEGAAQIABQIABAAEGAAEGAAQYAAQYAAQYABBgABBgAECAAUCAAQABBgABBgAEGAAEGAAEGAAQYAAQYABAgAFAgAEAAQYAAQYABBgABBgABNgmAAABBgABBgAEGAAEGAAQYAAQYABAgAFAgAEAAQYAAQYAAQYABBgABBgAEGAAEGAAQIABQIABAAEGAAEGAAEGAAQYAAQYABBgABBgAECAAUCAAQABBgABBgABBgAEGAAEGAAQYAAQYABAgAFAgAEAAQYAAQYAAQYABBgABBgAEGAAEGAAQIABQIABAAEGAAEGgE90afqnzzm7CwE+UylFgM/08/eflFLOKaVy+2Joc7l9cb2nckrpcels+VSGS2+LrSx/++by8o9LU8rry6eU8vryKaWcciq3L1aWT2V06Wz5VB5PTvL68uPtM1/++fYcb7qS8nULlFzuW6PklFIpOV1Xl0tJo68ny6TRNVyXuV3z8PXiNQ9fT675uvzSNV+X/3rNzf/8o0u/fGe4H+dLfv3+l59q6fv32zJdcvb9x61Y+f7852z/50/3e+3x1+tdOdpbH0umyb8d3emP5W873MYrLKN/u+UKy9cfZnQEW7rC2a17XOHjgPPs1n17hZNb9+0VlpTSj19/W++Xl6ABQIABQIABAAEGAAEGAAQYAAQYABBgAKhPbnqSiElYAB/LJCx3APD9c2W7qk3tBGzCS9AAIMAAIMAAwEG8MQMAzoAB4DNU/Sno+4fcFk/T55eOPxQ3fHPyMTmn+3D6Lvx8v+aFQ19Pd9Cw9i5vWktnwMOH6Rc7+uTScjP5q10dTjyS3nfS8Z7L9u228cD42opKKeM7aP7N+Gcee23Dem5aYwHeeNpqT4bKd961ndQgnde22wuHvrVNvXglJx5UX1h1Kzdt0aWzB+7ayxd2dTjrYDp/b8iz5//dbs8vXdvCMQkMOyfe66bVk4NLl4/dxVkw9nao5MzGE+I3czg/0xjX5bVj3eQf1jNR6/2btuUkTYB3u5+Gl/gVF2o4g2nixcBWttv4EDcsMxRl8TnN4lny2tVWWN+9btrGkzQBPvxFDODcinhy/GZ9xw1+/oTmtXPHqg6Y3z5daPrh9KOJx+LGxSaftPR0G2rbc9X3zSPe/NLJmet/5XPxU9b1HDAnn2He5aZVpd4z4PGmnz/ZmV96f03GDgwV5mTxxVIx3rLdJk9c9voN1/Exc+1N+npeiN7lptX2e8D/AKSX30+/s8oGAAAAAElFTkSuQmCC'>"
      ],
      "text/plain": [
       "<IPython.core.display.HTML object>"
      ]
     },
     "execution_count": 118,
     "metadata": {},
     "output_type": "execute_result"
    }
   ],
   "source": [
    "figStrainRate = glucifer.Figure()\n",
    "#figStrainRate.append( glucifer.objects.Surface(mesh, mantleviscosityFn, logScale=True))\n",
    "figStrainRate.append( glucifer.objects.Surface(mesh, mantleviscosityFn, logScale=True))\n",
    "\n",
    "figStrainRate.append(glucifer.objects.VectorArrows(mesh, velocityField, scaling=0.000001))\n",
    "figStrainRate.show()"
   ]
  },
  {
   "cell_type": "code",
   "execution_count": 117,
   "metadata": {
    "collapsed": false
   },
   "outputs": [
    {
     "data": {
      "text/plain": [
       "(1.1893750000000001, 1.189375, 1.1893750000000001)"
      ]
     },
     "execution_count": 117,
     "metadata": {},
     "output_type": "execute_result"
    }
   ],
   "source": [
    "temperatureField.data.max(), ndp.TR, temperatureField.data[IWalls.data].max()\n"
   ]
  },
  {
   "cell_type": "markdown",
   "metadata": {},
   "source": [
    "Set up simulation parameters and functions\n",
    "====\n",
    "\n",
    "Here the functions for density, viscosity etc. are set. These functions and/or values are preserved for the entire simulation time. "
   ]
  },
  {
   "cell_type": "code",
   "execution_count": 109,
   "metadata": {
    "collapsed": false
   },
   "outputs": [],
   "source": [
    "# Here we set a viscosity value of '1.' for both materials\n",
    "viscosityMapFn = fn.branching.map( fn_key = materialVariable,\n",
    "                         mapping = {airIndex:ndp.StAeta0, \n",
    "                                    lithosphereIndex:mantleviscosityFn, \n",
    "                                    crustIndex:mantleviscosityFn,\n",
    "                                    mantleIndex:mantleviscosityFn, \n",
    "                                    eclIndex:crustviscosityFn,\n",
    "                                    tempIndex:mantleviscosityFn} )\n",
    "\n",
    "densityMapFn = fn.branching.map( fn_key = materialVariable,\n",
    "                         mapping = {airIndex:ndp.StA_RA, \n",
    "                                    lithosphereIndex:ndp.RA*temperatureField, \n",
    "                                    crustIndex:ndp.RA*temperatureField, \n",
    "                                    mantleIndex:ndp.RA*temperatureField, \n",
    "                                    eclIndex:ndp.RA*temperatureField,\n",
    "                                    tempIndex:ndp.RA*temperatureField, } )\n",
    "\n",
    "# Define our gravity using a python tuple (this will be automatically converted to a function)\n",
    "gravity = ( 0.0, 1.0 )\n",
    "\n",
    "buoyancyFn = gravity*densityMapFn"
   ]
  },
  {
   "cell_type": "code",
   "execution_count": 110,
   "metadata": {
    "collapsed": false
   },
   "outputs": [
    {
     "data": {
      "text/plain": [
       "11957508.140714249"
      ]
     },
     "execution_count": 110,
     "metadata": {},
     "output_type": "execute_result"
    }
   ],
   "source": [
    "\n",
    "ndp.Crust_RA"
   ]
  },
  {
   "cell_type": "markdown",
   "metadata": {},
   "source": [
    "Build the Stokes system, solvers, advection-diffusion\n",
    "------\n",
    "\n",
    "Setup linear Stokes system to get the initial velocity."
   ]
  },
  {
   "cell_type": "code",
   "execution_count": 111,
   "metadata": {
    "collapsed": false
   },
   "outputs": [],
   "source": [
    "stokesPIC = uw.systems.Stokes( velocityField = velocityField, \n",
    "                               pressureField = pressureField,\n",
    "                               #swarm         = gSwarm, \n",
    "                               conditions    = [freeslipBC,],\n",
    "                               fn_viscosity   = arhennius, \n",
    "                               fn_bodyforce   = buoyancyFn,\n",
    "                               swarm=gSwarm)\n"
   ]
  },
  {
   "cell_type": "markdown",
   "metadata": {},
   "source": [
    "We do one solve with linear viscosity to get the initial strain rate invariant. This solve step also calculates a 'guess' of the the velocity field based on the linear system, which is used later in the non-linear solver."
   ]
  },
  {
   "cell_type": "code",
   "execution_count": 112,
   "metadata": {
    "collapsed": false
   },
   "outputs": [],
   "source": [
    "#We do one solve with linear viscosity to get the initial strain rate invariant. \n",
    "#This solve step also calculates a 'guess' of the the velocity field based on the linear system, \n",
    "#which is used later in the non-linear solver.\n",
    "\n",
    "solver = uw.systems.Solver(stokesPIC)\n",
    "# If not doing a restart, do a solve on the non-plastic system\n",
    "if not checkpointLoad:\n",
    "    solver.solve()"
   ]
  },
  {
   "cell_type": "code",
   "execution_count": 113,
   "metadata": {
    "collapsed": false
   },
   "outputs": [],
   "source": [
    "#Switch particle escape on, this will also trigger the inflow population control \n",
    "gSwarm.particleEscape = True"
   ]
  },
  {
   "cell_type": "code",
   "execution_count": 114,
   "metadata": {
    "collapsed": false
   },
   "outputs": [],
   "source": [
    "####################\n",
    "#Add the non-linear viscosity to the Stokes system\n",
    "stokesPIC.fn_viscosity = viscosityMapFn\n",
    "###################\n",
    "\n",
    "#Set more advanced solver option\n",
    "solver.options.main.Q22_pc_type='gkgdiag'\n",
    "#solver.options.A11.ksp_rtol=1e-2\n",
    "#solver.options.scr.ksp_rtol=1e-3\n",
    "#solver.options.A11.ksp_type=\"cg\"\n",
    "solver.options.scr.use_previous_guess = True\n",
    "#solver.options.scr.ksp_set_min_it_converge = 1\n",
    "#solver.options.main.penalty=10.0\n",
    "\n",
    "#solver.options.mg.levels = 3\n",
    "#solver.options.main.remove_constant_pressure_null_space=True\n",
    "#solver.options.main.penalty = 1e2\n",
    "\n",
    "solver.options.A11.ksp_rtol=1e-4\n",
    "solver.options.scr.ksp_rtol=1e-4\n",
    "\n",
    "solver.options.A11.ksp_monitor=''\n",
    "solver.options.A11.ksp_converged_reason=''"
   ]
  },
  {
   "cell_type": "code",
   "execution_count": 115,
   "metadata": {
    "collapsed": false
   },
   "outputs": [],
   "source": [
    "solver.solve(nonLinearIterate=True)"
   ]
  },
  {
   "cell_type": "code",
   "execution_count": 116,
   "metadata": {
    "collapsed": false
   },
   "outputs": [],
   "source": [
    "viscField = uw.mesh.MeshVariable( mesh=mesh,   nodeDofCount=1)\n",
    "viscdata = mantleviscosityFn.evaluate(mesh)\n",
    "#viscField.data[:] = viscdata\n",
    "\n",
    "\n",
    "#viscVariable = gSwarm.add_variable( dataType=\"float\", count=1 )\n",
    "#viscVariable.data[:] = viscosityMapFn.evaluate(gSwarm)"
   ]
  },
  {
   "cell_type": "markdown",
   "metadata": {
    "collapsed": false
   },
   "source": [
    "solver = uw.systems.Solver(stokesPIC2) # altered from PIC2\n",
    "\n",
    "\n",
    "\n",
    "#Set more advanced solver option\n",
    "solver.options.main.Q22_pc_type='uw'\n",
    "solver.options.A11.ksp_rtol=1e-5\n",
    "solver.options.scr.ksp_rtol=1e-5\n",
    "#solver.options.A11.ksp_type=\"cg\"\n",
    "solver.options.scr.use_previous_guess = True\n",
    "solver.options.scr.ksp_set_min_it_converge = 1\n",
    "\n",
    "solver.options.mg.levels = 3\n",
    "\n",
    "#solver.options.A11.ksp_monitor=''\n",
    "#solver.options.A11.ksp_converged_reason='"
   ]
  },
  {
   "cell_type": "markdown",
   "metadata": {},
   "source": [
    "Solve for initial pressure and velocity using a quick non-linear Picard iteration\n"
   ]
  },
  {
   "cell_type": "markdown",
   "metadata": {},
   "source": [
    "Create an advective-diffusive system\n",
    "=====\n",
    "\n",
    "Setup the system in underworld by flagging the temperature and velocity field variables."
   ]
  },
  {
   "cell_type": "code",
   "execution_count": 72,
   "metadata": {
    "collapsed": false
   },
   "outputs": [],
   "source": [
    "#uw.systems.AdvectionDiffusion?"
   ]
  },
  {
   "cell_type": "code",
   "execution_count": 119,
   "metadata": {
    "collapsed": false
   },
   "outputs": [],
   "source": [
    "#Create advdiff system\n",
    "\n",
    "\n",
    "\n",
    "#advDiff = uw.systems.AdvectionDiffusion( phiField       = temperatureField, \n",
    "#                                         phiDotField    = temperatureDotField, \n",
    "#                                         velocityField  = velocityField, \n",
    "#                                         fn_diffusivity = 1.0,\n",
    "#                                         fn_sourceTerm = 0.,\n",
    "#                                         conditions     = [tempBC,] )\n",
    "\n",
    "\n",
    "advDiff = uw.systems.AdvectionDiffusion( phiField       = temperatureField, \n",
    "                                         phiDotField    = temperatureDotField, \n",
    "                                         velocityField  = velocityField,\n",
    "                                         fn_sourceTerm    = 0.0,\n",
    "                                         fn_diffusivity = 1.0, \n",
    "                                         conditions     = [dirichTempBC,] )\n",
    "\n",
    "\n",
    "\n",
    "advector = uw.systems.SwarmAdvector( swarm         = gSwarm, \n",
    "                                     velocityField = velocityField, \n",
    "                                     order         = 1)"
   ]
  },
  {
   "cell_type": "markdown",
   "metadata": {},
   "source": [
    "Metrics for benchmark\n",
    "=====\n",
    "\n",
    "Define functions to be used in the time loop. For cases 1-4, participants were asked to report a number of diagnostic quantities to be measured after reaching steady state:\n",
    "\n",
    "* Average temp... $$  \\langle T \\rangle  = \\int^1_0 \\int^1_0 T \\, dxdy $$\n",
    "* Top and bottom Nusselt numbers... $$N = \\int^1_0 \\frac{\\partial T}{\\partial y} \\rvert_{y=0/1} \\, dx$$\n",
    "* RMS velocity over the whole domain, surface and max velocity at surface\n",
    "* max and min viscosity over the whole domain\n",
    "* average rate of work done against gravity...$$\\langle W \\rangle = \\int^1_0 \\int^1_0 T u_y \\, dx dy$$\n",
    "* and the average rate of viscous dissipation...$$\\langle \\Phi \\rangle = \\int^1_0 \\int^1_0 \\tau_{ij} \\dot \\epsilon_{ij} \\, dx dy$$\n",
    "\n",
    "* In steady state, if thermal energy is accurately conserved, the difference between $\\langle W \\rangle$ and $\\langle \\Phi \\rangle / Ra$ must vanish, so also reported is the percentage error: \n",
    "\n",
    "$$ \\delta = \\frac{\\lvert \\langle W \\rangle - \\frac{\\langle \\Phi \\rangle}{Ra} \\rvert}{max \\left(  \\langle W \\rangle,  \\frac{\\langle \\Phi \\rangle}{Ra}\\right)} \\times 100% $$"
   ]
  },
  {
   "cell_type": "code",
   "execution_count": 120,
   "metadata": {
    "collapsed": false
   },
   "outputs": [
    {
     "data": {
      "text/plain": [
       "[<underworld.swarm._swarmvariable.SwarmVariable at 0x11d911b10>,\n",
       " <underworld.swarm._swarmvariable.SwarmVariable at 0x11eea8610>,\n",
       " <underworld.swarm._swarmvariable.SwarmVariable at 0x11dfc6210>,\n",
       " <underworld.swarm._swarmvariable.SwarmVariable at 0x11dfc6fd0>,\n",
       " <underworld.swarm._swarmvariable.SwarmVariable at 0x11ca8e0d0>,\n",
       " <underworld.swarm._swarmvariable.SwarmVariable at 0x11caaf590>,\n",
       " <underworld.swarm._swarmvariable.SwarmVariable at 0x11eeba7d0>]"
      ]
     },
     "execution_count": 120,
     "metadata": {},
     "output_type": "execute_result"
    }
   ],
   "source": [
    "gSwarm.variables"
   ]
  },
  {
   "cell_type": "code",
   "execution_count": 121,
   "metadata": {
    "collapsed": false
   },
   "outputs": [],
   "source": [
    "#dummyVariable = gSwarm.add_variable( dataType=\"double\", count=1 )"
   ]
  },
  {
   "cell_type": "code",
   "execution_count": 122,
   "metadata": {
    "collapsed": false,
    "scrolled": true
   },
   "outputs": [],
   "source": [
    "#Setup some Integrals. We want these outside the main loop...\n",
    "tempVariable = gSwarm.add_variable( dataType=\"double\", count=1 )\n",
    "tempVariable.data[:] = temperatureField.evaluate(gSwarm)[:]\n",
    "tempint = uw.utils.Integral((tempVariable*rockIntVar), mesh)\n",
    "\n",
    "\n",
    "areaint = uw.utils.Integral((1.*rockIntVar),mesh)\n",
    "lithareaint = uw.utils.Integral((1.*lithIntVar),mesh)\n",
    "\n",
    "v2int = uw.utils.Integral(fn.math.dot(velocityField,velocityField)*rockIntVar, mesh)\n",
    "\n",
    "\n",
    "dwint = uw.utils.Integral(temperatureField*velocityField[1]*rockIntVar, mesh)\n",
    "\n",
    "\n",
    "sinner = fn.math.dot(strainRate_2ndInvariant,strainRate_2ndInvariant)\n",
    "vdint = uw.utils.Integral((4.*viscosityMapFn*sinner)*rockIntVar, mesh)\n",
    "vdintair = uw.utils.Integral((4.*viscosityMapFn*sinner)*airIntVar, mesh)\n",
    "vdintlith = uw.utils.Integral((4.*viscosityMapFn*sinner)*lithIntVar, mesh)\n",
    "\n",
    "\n",
    "fn_stress = 2.*viscosityMapFn*uw.function.tensor.symmetric(velocityField.fn_gradient)\n",
    "rockstress = fn.tensor.second_invariant(fn_stress)*rockIntVar\n",
    "lithstress = fn.tensor.second_invariant(fn_stress)*lithIntVar\n",
    "\n",
    "stresslithint = uw.utils.Integral(lithstress, mesh)\n"
   ]
  },
  {
   "cell_type": "code",
   "execution_count": 123,
   "metadata": {
    "collapsed": false
   },
   "outputs": [
    {
     "name": "stdout",
     "output_type": "stream",
     "text": [
      "4250570167.95\n",
      "3682997263.05\n",
      "2.74377499288e+11\n",
      "2779775943.51\n",
      "435188596.766\n",
      "435188596.766\n"
     ]
    }
   ],
   "source": [
    "#These should differ if the the map function assigns different properties to bulk mantle\n",
    "\n",
    "print(uw.utils.Integral((4.*mantleviscosityFn*sinner)*rockIntVar, mesh).evaluate()[0])\n",
    "print(uw.utils.Integral((4.*viscosityMapFn*sinner)*rockIntVar, mesh).evaluate()[0])\n",
    "\n",
    "\n",
    "print(uw.utils.Integral((4.*mantleviscosityFn*sinner)*airIntVar, mesh).evaluate()[0])\n",
    "print(uw.utils.Integral((4.*viscosityMapFn*sinner)*airIntVar, mesh).evaluate()[0])\n",
    "\n",
    "print(uw.utils.Integral((4.*mantleviscosityFn*sinner)*lithIntVar, mesh).evaluate()[0])\n",
    "print(uw.utils.Integral((4.*viscosityMapFn*sinner)*lithIntVar, mesh).evaluate()[0])"
   ]
  },
  {
   "cell_type": "markdown",
   "metadata": {},
   "source": [
    "\\begin{equation}  \\langle T \\rangle  = \\int^1_0 \\int^1_0 T \\, dxdy \\end{equation}"
   ]
  },
  {
   "cell_type": "code",
   "execution_count": 124,
   "metadata": {
    "collapsed": false
   },
   "outputs": [],
   "source": [
    "def avg_temp():\n",
    "    return tempint.evaluate()[0]/areaint.evaluate()[0]\n",
    "\n",
    "#This one gets cleaned up when Surface integrals are available\n",
    "def nusselt(tempfield, swarm, dx):\n",
    "    #Update the swarm variable\n",
    "    tempgrad = tempfield.fn_gradient\n",
    "    valcheck = tempgrad[1].evaluate(swarm)\n",
    "    if valcheck is None:\n",
    "        vals = np.array(0, dtype='float64')\n",
    "    else:\n",
    "        vals = valcheck.sum()*dx\n",
    "    return vals\n",
    "\n",
    "def rms():\n",
    "    return math.sqrt(v2int.evaluate()[0]/areaint.evaluate()[0])\n",
    "\n",
    "#This one gets cleaned up when Surface integrals are available\n",
    "def rms_surf(swarm, dx):\n",
    "    rmsmaxfn = fn.math.dot(velocityField,velocityField)\n",
    "    rmscheck = rmsmaxfn.evaluate(swarm)\n",
    "    if rmscheck is None:\n",
    "        #print \"watch out\"\n",
    "        rmsvals = np.array(0, dtype='float64')\n",
    "    else:\n",
    "        rmsvals = np.sqrt(rmscheck.sum()*dx)\n",
    "        #print \"okay\"\n",
    "    return rmsvals\n",
    "\n",
    "def max_vx_surf(velfield, swarm):\n",
    "    check = velfield[0].evaluate(swarm)\n",
    "    if check is None:\n",
    "        return 0.\n",
    "    else:\n",
    "        return check.max()\n",
    "\n",
    "\n",
    "#def max_vy_surf(velfield, swarm):\n",
    "#    surfvelxmaxfn = fn.view.min_max(velfield[1])\n",
    "#    surfvelxmaxfn.evaluate(swarm)\n",
    "#    return surfvelxmaxfn.max_global()\n",
    "\n",
    "def gravwork(workfn):\n",
    "    return workfn.evaluate()[0]\n",
    "\n",
    "def viscdis(vdissfn):\n",
    "    return vdissfn.evaluate()[0]\n",
    "\n",
    "def visc_extr(viscfn):\n",
    "    vuviscfnMax = fn.view.min_max(viscfn)\n",
    "    vuviscfnMax.evaluate(gSwarm)\n",
    "    vuviscfnMin = fn.view.min_max(viscfn*dummyIntVar)\n",
    "    vuviscfnMin.evaluate(gSwarm)\n",
    "    return vuviscfnMax.max_global(), vuviscfnMin.min_global()\n",
    "\n",
    "\n",
    "def stress_max(scalarStressfn):\n",
    "    fn_minmax_stress = fn.view.min_max(scalarStressfn)\n",
    "    ignore_stress = fn_minmax_stress.evaluate(gSwarm)\n",
    "    return fn_minmax_stress.max_global()\n",
    "\n",
    "\n",
    "def avg_lith_stress():\n",
    "    return stresslithint.evaluate()[0]/lithareaint.evaluate()[0]"
   ]
  },
  {
   "cell_type": "code",
   "execution_count": 125,
   "metadata": {
    "collapsed": false
   },
   "outputs": [
    {
     "data": {
      "text/plain": [
       "0.10121372767882575"
      ]
     },
     "execution_count": 125,
     "metadata": {},
     "output_type": "execute_result"
    }
   ],
   "source": [
    "lithareaint.evaluate()[0]"
   ]
  },
  {
   "cell_type": "code",
   "execution_count": 126,
   "metadata": {
    "collapsed": false
   },
   "outputs": [],
   "source": [
    "#Check dem \n",
    "#stress_max(rockstress)\n",
    "#visc_extr(viscosityMapFn), ndp.StAeta0\n",
    "#avg_lith_stress()"
   ]
  },
  {
   "cell_type": "code",
   "execution_count": 127,
   "metadata": {
    "collapsed": false
   },
   "outputs": [],
   "source": [
    "#Fields for saving data / fields\n",
    "\n",
    "rmsField = uw.mesh.MeshVariable( mesh=mesh,   nodeDofCount=1)\n",
    "rmsfn = fn.math.sqrt(fn.math.dot(velocityField,velocityField))\n",
    "rmsdata = rmsfn.evaluate(mesh)\n",
    "rmsField.data[:] = rmsdata \n",
    "\n",
    "viscField = uw.mesh.MeshVariable( mesh=mesh,   nodeDofCount=1)\n",
    "viscdata = mantleviscosityFn.evaluate(mesh)\n",
    "viscField.data[:] = viscdata\n",
    "\n",
    "\n",
    "strainrateField = uw.mesh.MeshVariable( mesh=mesh,   nodeDofCount=1)\n",
    "srtdata = fn.tensor.second_invariant( \n",
    "                    fn.tensor.symmetric( \n",
    "                        velocityField.fn_gradient ))\n",
    "rostfield = srtdata.evaluate(mesh)\n",
    "strainrateField.data[:] = rostfield\n",
    "\n",
    "viscVariable = gSwarm.add_variable( dataType=\"float\", count=1 )\n",
    "viscVariable.data[:] = viscosityMapFn.evaluate(gSwarm)\n"
   ]
  },
  {
   "cell_type": "code",
   "execution_count": 128,
   "metadata": {
    "collapsed": false
   },
   "outputs": [],
   "source": [
    "#Images\n",
    "figEta = glucifer.Figure()\n",
    "figEta.append( glucifer.objects.Points(gSwarm,viscVariable, logScale=True))\n",
    "\n",
    "\n",
    "figMat = glucifer.Figure()\n",
    "figMat.append( glucifer.objects.Points(gSwarm,materialVariable, colours='brown white blue red'))\n",
    "figMat.append( glucifer.objects.Mesh(mesh))\n",
    "\n",
    "\n",
    "figStrainRate = glucifer.Figure()\n",
    "figStrainRate.append( glucifer.objects.Surface(mesh, strainRate_2ndInvariant, logScale=True))\n",
    "\n",
    "\n",
    "figVelocityMag = glucifer.Figure()\n",
    "figVelocityMag.append( glucifer.objects.Surface(mesh, fn.math.dot(velocityField,velocityField))\n",
    ")\n",
    "figTemp = glucifer.Figure()\n",
    "figTemp.append( glucifer.objects.Surface(mesh, temperatureField))\n",
    "\n",
    "\n",
    "\n",
    "#Pack some stuff into a database as well\n",
    "figDb = glucifer.Figure()\n",
    "figDb.append( glucifer.objects.Points(gSwarm,viscVariable, logScale=True, colours='brown white blue'))\n",
    "figDb.append( glucifer.objects.Points(gSwarm,materialVariable, colours='brown white blue red'))\n",
    "figDb.append( glucifer.objects.Mesh(mesh))\n",
    "figDb.append( glucifer.objects.VectorArrows(mesh,velocityField, arrowHead=0.2, scaling=0.01))\n",
    "figDb.append( glucifer.objects.Surface(mesh, strainRate_2ndInvariant, logScale=True, colours='brown white blue'))\n",
    "figDb.append( glucifer.objects.Surface(mesh, temperatureField))\n",
    "                           "
   ]
  },
  {
   "cell_type": "code",
   "execution_count": 129,
   "metadata": {
    "collapsed": true
   },
   "outputs": [],
   "source": [
    "\n",
    "pics = uw.swarm.PICIntegrationSwarm(gSwarm)"
   ]
  },
  {
   "cell_type": "code",
   "execution_count": 130,
   "metadata": {
    "collapsed": false
   },
   "outputs": [
    {
     "data": {
      "text/plain": [
       "['materialVariable', 'rockIntVar', 'airIntVar', 'lithIntVar']"
      ]
     },
     "execution_count": 130,
     "metadata": {},
     "output_type": "execute_result"
    }
   ],
   "source": [
    "varnames"
   ]
  },
  {
   "cell_type": "code",
   "execution_count": 131,
   "metadata": {
    "collapsed": false
   },
   "outputs": [],
   "source": [
    "def checkpoint1(step, checkpointPath,filename, filewrites):\n",
    "    path = checkpointPath + str(step) \n",
    "    os.mkdir(path)\n",
    "    ##Write and save the file, if not already a writing step\n",
    "    if not step % filewrites == 0:\n",
    "        f_o.write((16*'%-16s ' + '\\n') % (realtime, Viscdis, float(Nu0glob), float(Nu1glob), Avg_temp, \n",
    "                                              Rms,Rmsurfglob,Max_vx_surfglob,Gravwork, etamax, etamin, \n",
    "                                              Viscdisair, Viscdislith,Avg_stress, Max_stress_rock, Max_stress_lith))\n",
    "    filename.close()\n",
    "    shutil.copyfile(os.path.join(outputPath, outputFile), os.path.join(path, outputFile))\n",
    "\n",
    "\n",
    "def checkpoint2(step, checkpointPath, swarm, filename, varlist = [materialVariable], varnames = ['materialVariable']):\n",
    "    path = checkpointPath + str(step) \n",
    "    velfile = \"velocityField\" + \".hdf5\"\n",
    "    tempfile = \"temperatureField\" + \".hdf5\"\n",
    "    pressfile = \"pressureField\" + \".hdf5\"\n",
    "    velocityField.save(os.path.join(path, velfile))\n",
    "    temperatureField.save(os.path.join(path, tempfile))\n",
    "    pressureField.save(os.path.join(path, pressfile))\n",
    "    swarm.save(os.path.join(path, \"swarm.h5\") ) \n",
    "    for ix in range(len(varlist)):\n",
    "        varb = varlist[ix]\n",
    "        varb.save(os.path.join(path,varnames[ix] + \".h5\"))\n",
    "        \n",
    "    "
   ]
  },
  {
   "cell_type": "code",
   "execution_count": 132,
   "metadata": {
    "collapsed": false
   },
   "outputs": [],
   "source": [
    "###########\n",
    "#Open file for writing metrics\n",
    "###########\n",
    "\n",
    "if checkpointLoad:\n",
    "    if uw.rank() == 0:\n",
    "        shutil.copyfile(os.path.join(checkpointLoadDir, outputFile), outputPath+outputFile)\n",
    "    comm.Barrier()\n",
    "    #os.rename(os.path.join(checkpointLoadDir, outputFile), outputPath+outputFile)\n",
    "    f_o = open(os.path.join(outputPath, outputFile), 'a')\n",
    "    prevdata = np.genfromtxt(os.path.join(outputPath, outputFile), skip_header=0, skip_footer=0)\n",
    "    realtime = prevdata[prevdata.shape[0]-1, 0]\n",
    "    step = int(checkpointLoadDir.split('/')[-1])\n",
    "    timevals = [0.]\n",
    "else:\n",
    "    f_o = open(outputPath+outputFile, 'w')\n",
    "    realtime = 0.\n",
    "    step = 0\n",
    "    timevals = [0.]"
   ]
  },
  {
   "cell_type": "markdown",
   "metadata": {},
   "source": [
    "Main simulation loop\n",
    "=======\n",
    "\n",
    "The main time stepping loop begins here. Before this the time and timestep are initialised to zero and the output statistics arrays are set up. Also the frequency of outputting basic statistics to the screen is set in steps_output.\n"
   ]
  },
  {
   "cell_type": "code",
   "execution_count": 133,
   "metadata": {
    "collapsed": false
   },
   "outputs": [
    {
     "data": {
      "text/plain": [
       "25"
      ]
     },
     "execution_count": 133,
     "metadata": {},
     "output_type": "execute_result"
    }
   ],
   "source": [
    "gldbs_output"
   ]
  },
  {
   "cell_type": "code",
   "execution_count": 146,
   "metadata": {
    "collapsed": false
   },
   "outputs": [
    {
     "name": "stdout",
     "output_type": "stream",
     "text": [
      "2\n",
      "3\n",
      "4\n",
      "5\n",
      "6\n",
      "7\n"
     ]
    }
   ],
   "source": [
    "# initialise timer for computation\n",
    "startMain = time.clock()\n",
    "# Perform steps#\n",
    "#while realtime < 0.2:\n",
    "while step < 8:\n",
    "    #Enter non-linear loop\n",
    "    print step\n",
    "    solver.solve(nonLinearIterate=True)\n",
    "    dt = advDiff.get_max_dt()\n",
    "    if step == 0:\n",
    "        dt = 0.\n",
    "    #start = time.clock()\n",
    "    advDiff.integrate(dt)\n",
    "    #machine_time = (time.clock()-start)\n",
    "    #print(\"total advDiff time is: \" + str(machine_time))\n",
    "    # Advect swarm using this timestep size\n",
    "    #start = time.clock()\n",
    "    advector.integrate(dt)\n",
    "    #machine_time = (time.clock()-start)\n",
    "    #print(\"total advector time is: \" + str(machine_time))\n",
    "    # Increment\n",
    "    realtime += dt\n",
    "    step += 1\n",
    "    timevals.append(realtime)"
   ]
  },
  {
   "cell_type": "code",
   "execution_count": 147,
   "metadata": {
    "collapsed": false
   },
   "outputs": [
    {
     "data": {
      "text/plain": [
       "(1.2802079314673274, 1.189375, 1.1893750000000001)"
      ]
     },
     "execution_count": 147,
     "metadata": {},
     "output_type": "execute_result"
    }
   ],
   "source": [
    "temperatureField.data.max(), ndp.TR, temperatureField.data[JWalls.data].max()\n"
   ]
  },
  {
   "cell_type": "code",
   "execution_count": null,
   "metadata": {
    "collapsed": true
   },
   "outputs": [],
   "source": []
  },
  {
   "cell_type": "code",
   "execution_count": 384,
   "metadata": {
    "collapsed": false
   },
   "outputs": [
    {
     "name": "stdout",
     "output_type": "stream",
     "text": [
      "3\n"
     ]
    }
   ],
   "source": [
    "# initialise timer for computation\n",
    "startMain = time.clock()\n",
    "# Perform steps#\n",
    "#while realtime < 0.2:\n",
    "while step < 5:\n",
    "    #Enter non-linear loop\n",
    "    print step\n",
    "    solver.solve(nonLinearIterate=True)\n",
    "    dt = advDiff.get_max_dt()\n",
    "    if step == 0:\n",
    "        dt = 0.\n",
    "    #start = time.clock()\n",
    "    advDiff.integrate(dt)\n",
    "    #machine_time = (time.clock()-start)\n",
    "    #print(\"total advDiff time is: \" + str(machine_time))\n",
    "    # Advect swarm using this timestep size\n",
    "    #start = time.clock()\n",
    "    advector.integrate(dt)\n",
    "    #machine_time = (time.clock()-start)\n",
    "    #print(\"total advector time is: \" + str(machine_time))\n",
    "    # Increment\n",
    "    realtime += dt\n",
    "    step += 1\n",
    "    timevals.append(realtime)\n",
    "    \n",
    "    ################\n",
    "    #Update temperature field in the air region\n",
    "    ################\n",
    "    if (step % sticky_air_temp == 0):\n",
    "        for index, coord in enumerate(mesh.data):\n",
    "            if coord[1] >= 1.:\n",
    "                temperatureField.data[index] = 0.\n",
    " \n",
    "    ################\n",
    "    #Particle update\n",
    "    ###############\n",
    "    #if (step % swarm_update == 0) or (step % metric_output == 0): #These updates should be done before any metric output\n",
    "    if (step % swarm_update == 0): #These updates should be done before any metric output\n",
    "        #These swarm variables get updated first, as they are used to determine material changes\n",
    "        particledepths = 1. - gSwarm.particleCoordinates.data[:,1]\n",
    "        particletemps = temperatureField.evaluate(gSwarm)[:,0]\n",
    "        conditionmap['depthcondition']['data'] = particledepths\n",
    "        conditionmap['avgtempcondition']['data'] = particletemps\n",
    "        ################\n",
    "        number_updated = 0\n",
    "        for particleID in range(gSwarm.particleCoordinates.data.shape[0]):\n",
    "            check = update_swarm(DG, particleID)\n",
    "            if check > -1:\n",
    "                number_updated += 1\n",
    "                #if check == 0:\n",
    "                #    print \"from \" + str(materialVariable.data[particleID]) + \" to \" + str(check)\n",
    "                materialVariable.data[particleID] = check\n",
    "            else:\n",
    "                pass\n",
    "        #Also update those integration swarms\n",
    "        rockIntVar.data[:] = 0.\n",
    "        notair = np.where(materialVariable.data != airIndex)\n",
    "        rockIntVar.data[notair] = 1.\n",
    "        airIntVar.data[:] = 0.\n",
    "        notrock = np.where(materialVariable.data == airIndex)\n",
    "        airIntVar.data[notrock] = 1.\n",
    "        lithIntVar.data[:] = 0.\n",
    "        islith = np.where((materialVariable.data == lithosphereIndex) | (materialVariable.data == crustIndex))\n",
    "        lithIntVar.data[islith] = 1.\n",
    "        dummyIntVar.data[notrock] = 1e10 \n",
    "\n",
    "    ################            \n",
    "    # Calculate the Metrics, only on 1 of the processors:\n",
    "    ################\n",
    "    if (step % metric_output == 0):\n",
    "        ###############\n",
    "        #Swarm - based Metrics\n",
    "        ###############\n",
    "        tempVariable.data[:] = temperatureField.evaluate(gSwarm)[:]\n",
    "        Avg_temp = avg_temp()\n",
    "        Rms = rms()\n",
    "        Gravwork = gravwork(dwint)\n",
    "        Viscdis = viscdis(vdint)\n",
    "        Viscdisair = viscdis(vdintair)\n",
    "        Viscdislith = viscdis(vdintlith)\n",
    "        etamax, etamin = visc_extr(viscosityMapFn)\n",
    "        #These are the ones that need mpi4py treatment\n",
    "        Nu0loc = nusselt(temperatureField, baseintswarm, dx)\n",
    "        Nu1loc = nusselt(temperatureField, surfintswarm, dx)\n",
    "        Rmsurfloc = rms_surf(surfintswarm, dx)\n",
    "        Max_vx_surfloc = np.array(max_vx_surf(velocityField, surfintswarm),'d') #This float needed to be an array to play with mpi4py\n",
    "        #Setup the global output arrays\n",
    "        dTp = Nu0loc.dtype\n",
    "        Nu0glob = np.array(0, dtype=dTp)\n",
    "        dTp = Nu1loc.dtype\n",
    "        Nu1glob = np.array(0, dtype=dTp)\n",
    "        dTp = Rmsurfloc.dtype\n",
    "        Rmsurfglob = np.array(0, dtype=dTp)\n",
    "        dTp = Max_vx_surfloc.dtype\n",
    "        Max_vx_surfglob = np.array(0.0,dtype=dTp)\n",
    "        #ignore_stress = fn_minmax_stress.evaluate(gSwarm)\n",
    "        Avg_stress = avg_lith_stress()\n",
    "        Max_stress_rock = stress_max(rockstress)\n",
    "        Max_stress_lith = stress_max(lithstress)\n",
    "        #Do global operation ... sum, or max\n",
    "        comm.Allreduce(Nu0loc, Nu0glob, op=MPI.SUM)\n",
    "        comm.Allreduce(Nu1loc, Nu1glob, op=MPI.SUM)\n",
    "        comm.Allreduce(Rmsurfloc, Rmsurfglob, op=MPI.SUM)\n",
    "        comm.Allreduce([Max_vx_surfloc, MPI.DOUBLE],[Max_vx_surfglob, MPI.DOUBLE],op=MPI.MAX)      \n",
    "        # output to summary text file\n",
    "        if uw.rank()==0:\n",
    "            f_o.write((16*'%-16s ' + '\\n') % (realtime, Viscdis, float(Nu0glob), float(Nu1glob), Avg_temp, \n",
    "                                              Rms,Rmsurfglob,Max_vx_surfglob,Gravwork, etamax, etamin, \n",
    "                                              Viscdisair, Viscdislith,Avg_stress, Max_stress_rock, Max_stress_lith))\n",
    "        #test = max_vx_surf(velocityField, surfintswarm)    \n",
    "        #if uw.rank()==0:\n",
    "         #   print(Rmsurfglob,MRms_surf, Max_vx_surfglob, MMax_vx_surf, etamax, Metamax)\n",
    "        #print(Rmsurfloc, test)\n",
    "    ################\n",
    "    #Gldb output\n",
    "    ################ \n",
    "    if (step % gldbs_output == 0) & (writeFiles == True):\n",
    "        #Rebuild any necessary swarm variables\n",
    "        viscVariable.data[:] = viscosityMapFn.evaluate(gSwarm)\n",
    "        #Write gldbs\n",
    "        fnamedb = \"dbFig\" + \"_\" + str(ModIt) + \"_\" + str(step) + \".gldb\"\n",
    "        fullpath = os.path.join(outputPath + \"gldbs/\" + fnamedb)\n",
    "        figDb.show()\n",
    "        figDb.save_database(fullpath)\n",
    "    ################\n",
    "    #Also repopulate entire swarm periodically\n",
    "    ################\n",
    "    if step % swarm_repop == 0:\n",
    "        pics.repopulate()\n",
    "    ################\n",
    "    #Checkpoint\n",
    "    ################\n",
    "    if step % checkpoint_every == 0:\n",
    "        if uw.rank() == 0:\n",
    "            checkpoint1(step, checkpointPath,f_o, metric_output)           \n",
    "        checkpoint2(step, checkpointPath, gSwarm, f_o, varlist = varlist, varnames = varnames)\n",
    "        f_o = open(os.path.join(outputPath, outputFile), 'a') #is this line supposed to be here?\n",
    "     \n",
    "    \n",
    "f_o.close()\n",
    "#print 'step =',step, '; dt =', dt, '; CPU time =', time.clock()-startMain"
   ]
  },
  {
   "cell_type": "code",
   "execution_count": 394,
   "metadata": {
    "collapsed": false
   },
   "outputs": [
    {
     "data": {
      "text/plain": [
       "25"
      ]
     },
     "execution_count": 394,
     "metadata": {},
     "output_type": "execute_result"
    }
   ],
   "source": [
    "checkpoint_every"
   ]
  },
  {
   "cell_type": "code",
   "execution_count": null,
   "metadata": {
    "collapsed": false
   },
   "outputs": [],
   "source": [
    "varnames"
   ]
  },
  {
   "cell_type": "code",
   "execution_count": null,
   "metadata": {
    "collapsed": false
   },
   "outputs": [],
   "source": [
    "#figEta = glucifer.Figure(figsize=(1024,384))\n",
    "#figEta.append( glucifer.objects.Points(gSwarm,viscVariable, logScale=True))\n",
    "#figEta.save_database('test.gldb')\n",
    "#figEta.show()\n",
    "\n"
   ]
  },
  {
   "cell_type": "code",
   "execution_count": 200,
   "metadata": {
    "collapsed": false
   },
   "outputs": [],
   "source": [
    "\n",
    "figMat = glucifer.Figure()\n",
    "figMat.append( glucifer.objects.Points(gSwarm,materialVariable, colours='brown white blue red black'))\n",
    "\n",
    "figMat.show()\n",
    "figMat.save_database('test.gldb')\n",
    "#valueRange=None"
   ]
  },
  {
   "cell_type": "code",
   "execution_count": null,
   "metadata": {
    "collapsed": false
   },
   "outputs": [],
   "source": [
    "\n",
    "figMat = glucifer.Figure()\n",
    "figMat.append( glucifer.objects.Points(gSwarm,densityMapFn, logScale=True,))\n",
    "\n",
    "figMat.show()\n",
    "figMat.save_database('test.gldb')\n",
    "#valueRange=None,"
   ]
  },
  {
   "cell_type": "code",
   "execution_count": null,
   "metadata": {
    "collapsed": false
   },
   "outputs": [],
   "source": [
    "#figMat = glucifer.Figure()\n",
    "#figMat.append( glucifer.objects.Points(gSwarm,rockIntVar))\n",
    "#figMat.append( glucifer.objects.Points(gSwarm,rockIntVar, pointSize= 5.))\n",
    "#figMat.append( glucifer.objects.Mesh(mesh))\n",
    "#figMat.save_database('test.gldb')\n",
    "#figMat.show()"
   ]
  },
  {
   "cell_type": "code",
   "execution_count": 152,
   "metadata": {
    "collapsed": false
   },
   "outputs": [],
   "source": [
    "figDb.show()\n",
    "figDb.save_database('test.gldb')"
   ]
  },
  {
   "cell_type": "code",
   "execution_count": null,
   "metadata": {
    "collapsed": false
   },
   "outputs": [],
   "source": [
    "#figStrainRate = glucifer.Figure()\n",
    "#figStrainRate.append( glucifer.objects.Surface(mesh, strainRate_2ndInvariant, logScale=True))\n",
    "#figStrainRate.show()\n",
    "#figStrainRate.save_database('test.gldb')\n"
   ]
  },
  {
   "cell_type": "code",
   "execution_count": null,
   "metadata": {
    "collapsed": false
   },
   "outputs": [],
   "source": [
    "machine_time = (time.clock()-startMain)\n",
    "print(\"total machine time is: \" + str(machine_time))"
   ]
  },
  {
   "cell_type": "code",
   "execution_count": null,
   "metadata": {
    "collapsed": true
   },
   "outputs": [],
   "source": [
    "print(\"dimensionless time is: \" + str(realtime))"
   ]
  },
  {
   "cell_type": "code",
   "execution_count": null,
   "metadata": {
    "collapsed": false
   },
   "outputs": [],
   "source": [
    "velocityField.evaluate(IWalls)[:,0].max()"
   ]
  },
  {
   "cell_type": "code",
   "execution_count": null,
   "metadata": {
    "collapsed": false
   },
   "outputs": [],
   "source": [
    "#velocityField.evaluate(TWalls)[:,0].max()"
   ]
  },
  {
   "cell_type": "markdown",
   "metadata": {},
   "source": [
    "# Test checkpoint bug"
   ]
  }
 ],
 "metadata": {
  "kernelspec": {
   "display_name": "Python 2",
   "language": "python",
   "name": "python2"
  },
  "language_info": {
   "codemirror_mode": {
    "name": "ipython",
    "version": 2
   },
   "file_extension": ".py",
   "mimetype": "text/x-python",
   "name": "python",
   "nbconvert_exporter": "python",
   "pygments_lexer": "ipython2",
   "version": "2.7.11"
  }
 },
 "nbformat": 4,
 "nbformat_minor": 0
}
