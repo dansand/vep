{
 "cells": [
  {
   "cell_type": "markdown",
   "metadata": {
    "collapsed": true
   },
   "source": [
    "## Thermal slab\n",
    "\n",
    "Rheology similar to Kaplan (thesis), setup similar to Peterson (2015) "
   ]
  },
  {
   "cell_type": "code",
   "execution_count": 68,
   "metadata": {
    "collapsed": true
   },
   "outputs": [],
   "source": [
    "import networkx as nx\n",
    "import underworld as uw\n",
    "import math\n",
    "from underworld import function as fn\n",
    "import glucifer\n",
    "#import matplotlib.pyplot as pyplot\n",
    "import time\n",
    "import numpy as np\n",
    "import os\n",
    "import sys\n",
    "import natsort\n",
    "import shutil\n",
    "from easydict import EasyDict as edict\n",
    "import slippy2 as sp\n",
    "from slippy2 import unit_conversions\n",
    "from slippy2 import boundary_layer2d\n",
    "\n",
    "\n",
    "\n",
    "from mpi4py import MPI\n",
    "comm = MPI.COMM_WORLD\n",
    "rank = comm.Get_rank()"
   ]
  },
  {
   "cell_type": "code",
   "execution_count": 69,
   "metadata": {
    "collapsed": true
   },
   "outputs": [],
   "source": [
    "############\n",
    "#Model name.  \n",
    "############\n",
    "Model = \"T\"\n",
    "ModNum = 0\n",
    "\n",
    "if len(sys.argv) == 1:\n",
    "    ModIt = \"Base\"\n",
    "elif sys.argv[1] == '-f':\n",
    "    ModIt = \"Base\"\n",
    "else:\n",
    "    ModIt = str(sys.argv[1])"
   ]
  },
  {
   "cell_type": "code",
   "execution_count": 70,
   "metadata": {
    "collapsed": true
   },
   "outputs": [],
   "source": [
    "###########\n",
    "#Standard output directory setup\n",
    "###########\n",
    "\n",
    "\n",
    "outputPath = \"results\" + \"/\" +  str(Model) + \"/\" + str(ModNum) + \"/\" + str(ModIt) + \"/\"\n",
    "imagePath = outputPath + 'images/'\n",
    "filePath = outputPath + 'files/'\n",
    "checkpointPath = outputPath + 'checkpoint/'\n",
    "dbPath = outputPath + 'gldbs/'\n",
    "outputFile = 'results_model' + Model + '_' + str(ModNum) + '_' + str(ModIt) + '.dat'\n",
    "\n",
    "if uw.rank()==0:\n",
    "    # make directories if they don't exist\n",
    "    if not os.path.isdir(outputPath):\n",
    "        os.makedirs(outputPath)\n",
    "    if not os.path.isdir(checkpointPath):\n",
    "        os.makedirs(checkpointPath)\n",
    "    if not os.path.isdir(imagePath):\n",
    "        os.makedirs(imagePath)\n",
    "    if not os.path.isdir(dbPath):\n",
    "        os.makedirs(dbPath)\n",
    "    if not os.path.isdir(filePath):\n",
    "        os.makedirs(filePath)\n",
    "        \n",
    "comm.Barrier() #Barrier here so no procs run the check in the next cell too early "
   ]
  },
  {
   "cell_type": "code",
   "execution_count": 71,
   "metadata": {
    "collapsed": false
   },
   "outputs": [
    {
     "name": "stdout",
     "output_type": "stream",
     "text": [
      "results/T/0/Base/checkpoint/ is empty\n"
     ]
    }
   ],
   "source": [
    "###########\n",
    "#Check if starting from checkpoint\n",
    "###########\n",
    "\n",
    "checkdirs = []\n",
    "for dirpath, dirnames, files in os.walk(checkpointPath):\n",
    "    if files:\n",
    "        print dirpath, 'has files'\n",
    "        checkpointLoad = True\n",
    "        checkdirs.append(dirpath)\n",
    "    if not files:\n",
    "        print dirpath, 'is empty'\n",
    "        checkpointLoad = False\n",
    "        "
   ]
  },
  {
   "cell_type": "code",
   "execution_count": 72,
   "metadata": {
    "collapsed": false
   },
   "outputs": [],
   "source": [
    "###########\n",
    "#Physical parameters\n",
    "###########\n",
    "\n",
    "#dimensional parameter dictionary\n",
    "dp = edict({'LS':660.*1e3,\n",
    "           'rho':3300,\n",
    "           'g':9.81, \n",
    "           'eta0':1e20,\n",
    "           'k':10**-6,\n",
    "           'a':3e-5, \n",
    "           'deltaT':1400,\n",
    "           'TS':273,\n",
    "           'TB':1673,\n",
    "           'cohesion':5e6,\n",
    "           'fc':0.03,\n",
    "           'E':1e5, \n",
    "           'StALS': 27.*1e3})\n",
    "\n",
    "#scale_factors\n",
    "\n",
    "sf = edict({'stress':dp.LS**2/(dp.k*dp.eta0),\n",
    "           'lith_grad':dp.rho*dp.g*(dp.LS)**3/(dp.eta0*dp.k) })\n",
    "\n",
    "#dimensionless parameters\n",
    "\n",
    "ndp = edict({'RA':(dp.g*dp.rho*dp.a*dp.deltaT *(dp.LS)**3)/(dp.k*dp.eta0),\n",
    "           'cohesion':dp.cohesion*sf.stress,\n",
    "            'fcd':dp.fc*sf.lith_grad,\n",
    "            'TS':dp.TS/dp.deltaT,\n",
    "            'TB':dp.TB/dp.deltaT,\n",
    "            'low_visc':1e-4,\n",
    "            'StAeta0':0.01,\n",
    "            'up_visc':1e5,\n",
    "            'H':0.})"
   ]
  },
  {
   "cell_type": "code",
   "execution_count": 77,
   "metadata": {
    "collapsed": false
   },
   "outputs": [
    {
     "data": {
      "text/plain": [
       "(3908985.3633599994, 21779.999999999996)"
      ]
     },
     "execution_count": 77,
     "metadata": {},
     "output_type": "execute_result"
    }
   ],
   "source": [
    "ndp.RA, ndp.cohesion"
   ]
  },
  {
   "cell_type": "code",
   "execution_count": 6,
   "metadata": {
    "collapsed": true
   },
   "outputs": [],
   "source": [
    "ETAREF = dp.rho*dp.g*dp.a*dp.deltaT*((dp.LS)**3)/(ndp.RA*dp.k) #equivalent dimensional reference viscosity\n",
    "#RC = (3300.*dp.g*(dp.LS)**3)/(ETAREF *dp.k) #Composisitional Rayleigh number for rock-air buoyancy force\n",
    "RCA = (1650.*dp.g*(dp.LS)**3)/(ETAREF *dp.k) #Composisitional Rayleigh number for rock-air buoyancy force\n",
    "COMP_RA_FACT_AIR = RCA/ndp.RA\n",
    "#RCC = (100.*dp.g*(dp.LS)**3)/(ETAREF *dp.k) #Composisitional Rayleigh number for crust\n",
    "#COMP_RA_FACT_CRUST = RCC/ndp.RA\n",
    "#RCE = -1*(200.*dp.g*(dp.LS)**3)/(ETAREF *dp.k) #Composisitional Rayleigh number for eclogite \n",
    "#COMP_RA_FACT_ECL = RCE/ndp.RA\n",
    "ndp[\"StA_RA\"] = ndp.RA*COMP_RA_FACT_AIR"
   ]
  },
  {
   "cell_type": "code",
   "execution_count": 7,
   "metadata": {
    "collapsed": false
   },
   "outputs": [],
   "source": [
    "#A few parameters defining lengths scales, affects materal transistions etc.\n",
    "MANTLETOCRUST = (20.*1e3)/dp.LS #Crust depth\n",
    "CRUSTTOMANTLE = (900.*1e3)/dp.LS \n",
    "LITHTOMANTLE = (900.*1e3)/dp.LS \n",
    "MANTLETOLITH = (200.*1e3)/dp.LS \n",
    "TOPOHEIGHT = (0.*1e3)/dp.LS  #rock-air topography limits\n",
    "CRUSTTOECL  = (100.*1e3)/dp.LS\n",
    "AVGTEMP = ndp.TB #Used to define lithosphere"
   ]
  },
  {
   "cell_type": "code",
   "execution_count": 8,
   "metadata": {
    "collapsed": true
   },
   "outputs": [],
   "source": [
    "###########\n",
    "#Boundary layer / slab paramaters\n",
    "###########\n",
    "\n",
    "subzone = (2. - 1.2857)\n",
    "mor = 0.5\n",
    "vel = 20e3\n",
    "agelimit = False\n",
    "thermallimit = False\n",
    "\n",
    "#Slab perturbation paramaters\n",
    "Roc = 400.\n",
    "Crust = 35.\n",
    "theta = 60."
   ]
  },
  {
   "cell_type": "code",
   "execution_count": 9,
   "metadata": {
    "collapsed": false
   },
   "outputs": [
    {
     "data": {
      "text/plain": [
       "20000.0"
      ]
     },
     "execution_count": 9,
     "metadata": {},
     "output_type": "execute_result"
    }
   ],
   "source": [
    "vel"
   ]
  },
  {
   "cell_type": "code",
   "execution_count": 10,
   "metadata": {
    "collapsed": true
   },
   "outputs": [],
   "source": [
    "###########\n",
    "#Model setup parameters\n",
    "###########\n",
    "\n",
    "stickyAir = True\n",
    "\n",
    "MINX = -2.\n",
    "MINY = 0.\n",
    "MAXX = 2.0\n",
    "\n",
    "#MAXY = 1.035\n",
    "MAXY = 1.\n",
    "\n",
    "if MINX == 0.:\n",
    "    squareModel = True\n",
    "else: \n",
    "    squareModel = False\n",
    "    \n",
    "    \n",
    "dim = 2          # number of spatial dimensions\n",
    "\n",
    "\n",
    "#MESH STUFF\n",
    "\n",
    "RES = 128\n",
    "\n",
    "\n",
    "if MINX == 0.:\n",
    "    Xres = RES\n",
    "else:\n",
    "    Xres = 4*RES\n",
    "\n",
    "if stickyAir:\n",
    "    Yres = RES\n",
    "    MAXY = 1. + dp.StALS/dp.LS #150km\n",
    "    \n",
    "else:\n",
    "    Yres = RES\n",
    "    MAXY = 1.\n",
    "\n",
    "\n",
    "periodic = [False, False]\n",
    "elementType = \"Q1/dQ0\"\n",
    "#elementType =\"Q2/DPC1\"\n",
    "\n",
    "refineMesh = False\n",
    "\n",
    "\n",
    "#System/Solver stuff\n",
    "\n",
    "PIC_integration=True\n",
    "ppc = 25"
   ]
  },
  {
   "cell_type": "code",
   "execution_count": 11,
   "metadata": {
    "collapsed": true
   },
   "outputs": [],
   "source": [
    "###########\n",
    "#Model Runtime parameters\n",
    "###########\n",
    "\n",
    "swarm_update = 10\n",
    "swarm_repop = 25\n",
    "files_output = 1e6\n",
    "gldbs_output = 25\n",
    "images_output = 1e6\n",
    "checkpoint_every = 25\n",
    "metric_output = 25\n",
    "sticky_air_temp = 10\n",
    "\n",
    "comm.Barrier() #Barrier here so not procs run the check in the next cell too early \n",
    "\n",
    "assert metric_output <= checkpoint_every, 'Checkpointing should run less or as ofen as metric output'\n",
    "#assert (metric_output >= swarm_update), 'Swarm update is needed before checkpointing'\n",
    "#assert metric_output >= sticky_air_temp, 'Sticky air temp should be updated more frequently that metrics'"
   ]
  },
  {
   "cell_type": "code",
   "execution_count": 12,
   "metadata": {
    "collapsed": true
   },
   "outputs": [],
   "source": [
    "mesh = uw.mesh.FeMesh_Cartesian( elementType = elementType,\n",
    "                                 elementRes  = (Xres, Yres), \n",
    "                                 minCoord    = (MINX,MINY), \n",
    "                                 maxCoord=(MAXX,MAXY), periodic=periodic)\n",
    "\n",
    "\n",
    "\n",
    "velocityField       = uw.mesh.MeshVariable( mesh=mesh,         nodeDofCount=dim )\n",
    "pressureField       = uw.mesh.MeshVariable( mesh=mesh.subMesh, nodeDofCount=1 )\n",
    "temperatureField    = uw.mesh.MeshVariable( mesh=mesh,         nodeDofCount=1 )\n",
    "temperatureDotField = uw.mesh.MeshVariable( mesh=mesh,         nodeDofCount=1 )"
   ]
  },
  {
   "cell_type": "code",
   "execution_count": 13,
   "metadata": {
    "collapsed": true
   },
   "outputs": [],
   "source": [
    "# Initialise data.. Note that we are also setting boundary conditions here\n",
    "velocityField.data[:] = [0.,0.]\n",
    "pressureField.data[:] = 0.\n",
    "temperatureField.data[:] = 0.\n",
    "temperatureDotField.data[:] = 0."
   ]
  },
  {
   "cell_type": "code",
   "execution_count": 14,
   "metadata": {
    "collapsed": false
   },
   "outputs": [
    {
     "data": {
      "text/plain": [
       "0.7142999999999999"
      ]
     },
     "execution_count": 14,
     "metadata": {},
     "output_type": "execute_result"
    }
   ],
   "source": [
    "subzone"
   ]
  },
  {
   "cell_type": "code",
   "execution_count": 16,
   "metadata": {
    "collapsed": false
   },
   "outputs": [],
   "source": [
    "lith= boundary_layer2d.LithosphereTemps(mesh, temperatureField, dp.LS, subzone,  tint=ndp.TB, tsurf=ndp.TS, vel= 10e3, diffs = 1e-6)\n"
   ]
  },
  {
   "cell_type": "code",
   "execution_count": 17,
   "metadata": {
    "collapsed": true
   },
   "outputs": [],
   "source": [
    "coords = [(MINX, 1.), (subzone, 1.), (MINX, 0.)]\n",
    "Tri = fn.shape.Polygon(np.array(coords))"
   ]
  },
  {
   "cell_type": "code",
   "execution_count": 18,
   "metadata": {
    "collapsed": false
   },
   "outputs": [],
   "source": [
    "fudge = 1.\n",
    "\n",
    "thisage = 8\n",
    "\n",
    "for index, coord in enumerate(mesh.data):\n",
    "    xloc = coord[0]\n",
    "    agema = lith.agefunc(xloc)\n",
    "    #print agema\n",
    "    if agelimit:\n",
    "        agema = min(agelimit, agema)\n",
    "    if thermallimit:\n",
    "        if (1.-coord[1]) < (lith.lithdepthfunc(agema)/dp.LS)*thermallimit: #comparison of dimensionless (model) lengths\n",
    "            zloc = ((1.- coord[1])* dp.LS) # dimensional depth kms\n",
    "            t = lith.tempfunc(thisage,  zloc)\n",
    "            temperatureField.data[index] = t\n",
    "        else:\n",
    "            temperatureField.data[index] = lith.tint\n",
    "    \n",
    "    else:\n",
    "        #if coord[1] > (1. - lith.lithdepthfunc(thisage)) and (coord[1] < 1.) and (coord[0] > (MAXX - (60e3/dp.LS))):\n",
    "        #    temperatureField.data[index] = lith.tint\n",
    "        if coord[1] >= 1.:\n",
    "            temperatureField.data[index] = lith.tsurf\n",
    "        else:\n",
    "            zloc = ((1.- coord[1])* dp.LS) # dimensional depth kms\n",
    "            if coord[0] < subzone:\n",
    "                t = lith.tempfunc(thisage/4., zloc)\n",
    "            else:\n",
    "                t = lith.tempfunc(thisage, zloc)\n",
    "            temperatureField.data[index] = t\n",
    "    "
   ]
  },
  {
   "cell_type": "code",
   "execution_count": 20,
   "metadata": {
    "collapsed": true
   },
   "outputs": [],
   "source": [
    "def inCircleFnGenerator(centre, radius):\n",
    "    coord = fn.input()\n",
    "    offsetFn = coord - centre\n",
    "    return fn.math.dot( offsetFn, offsetFn ) < radius**2\n",
    "\n",
    "#Setup slab perturbation params (mostly dimensionles / model params here)\n",
    "phi = 90. - theta\n",
    "RocM = (Roc/dp.LS)*1e3\n",
    "CrustM = MANTLETOCRUST\n",
    "#slabdepth = lithdepthfunc(agefunc(off, off, vel), dp.k)\n",
    "slabdepthM = lith.lithdepthfunc(lith.agefunc(subzone)) /dp.LS\n",
    "#slabdepthM *= 5.\n",
    "Org = (0.+subzone, 1.-RocM)\n",
    "#Use three circles to define our slab and crust perturbation,  \n",
    "Oc = inCircleFnGenerator(Org , RocM)\n",
    "Gc = inCircleFnGenerator(Org , RocM + (50e3/dp.LS)) #a slightly larger circle for the 'gap'\n",
    "Ic = inCircleFnGenerator(Org , RocM - slabdepthM)\n",
    "Cc = inCircleFnGenerator(Org , RocM - CrustM)\n",
    "dx = (RocM)/(np.math.tan((np.math.pi/180.)*phi))\n",
    "\n",
    "#Work our which way the slab should face:\n",
    "sense = 'Left'\n",
    "#if lith.agefunc(subzone + 0.0001) < lith.agefunc(subzone - 0.0001):\n",
    "#    sense = 'Right'\n",
    "\n",
    "#We'll also create a triangle which will truncate the circles defining the slab...\n",
    "if sense == 'Left': \n",
    "    ptx = subzone - dx\n",
    "else:\n",
    "    ptx = subzone + dx\n",
    "\n",
    "coords = ((0.+subzone, 1), (0.+subzone, 1.-RocM), (ptx, 1.))\n",
    "Tri = fn.shape.Polygon(np.array(coords))"
   ]
  },
  {
   "cell_type": "code",
   "execution_count": 21,
   "metadata": {
    "collapsed": true
   },
   "outputs": [],
   "source": [
    "#Assign temperatures in the perturbation region\n",
    "#sds = []\n",
    "\n",
    "\n",
    "\n",
    "if sense == 'Left': \n",
    "    age = lith.agefunc(subzone + 0.001)\n",
    "else:\n",
    "    age = lith.agefunc(subzone - 0.001)\n",
    "    \n",
    "if agelimit:\n",
    "        age = min(agelim, age)\n",
    "\n",
    "for index, coord in enumerate(mesh.data):\n",
    "    #if Oc.evaluate(tuple(coord)) and Tri.evaluate(tuple(coord)) and not Ic.evaluate(tuple(coord)): #in inner circle, not in outer circle\n",
    "    if Gc.evaluate(tuple(coord)) and Tri.evaluate(tuple(coord)) and not Oc.evaluate(tuple(coord)):\n",
    "        temperatureField.data[index] = lith.tint\n",
    "    \n",
    "    elif Oc.evaluate(tuple(coord)) and Tri.evaluate(tuple(coord)): #In the quarter-circle defining the lithosphere\n",
    "\n",
    "        sd = ((RocM - math.sqrt((coord[0] - Org[0])**2 + (coord[1] - Org[1])**2))*dp.LS) #distance from slab edge in m\n",
    "        #print sd\n",
    "        if thermallimit:\n",
    "            if sd < (thisage)*thermallimit: #comparison of dimensionless (model) lengths\n",
    "                t = lith.tempfunc(age, sd)\n",
    "                temperatureField.data[index] = t\n",
    "        else:\n",
    "            t = lith.tempfunc(thisage, sd)\n",
    "            temperatureField.data[index] = t"
   ]
  },
  {
   "cell_type": "code",
   "execution_count": 22,
   "metadata": {
    "collapsed": false
   },
   "outputs": [
    {
     "data": {
      "text/html": [
       "<img src='data:image/png;base64,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'>"
      ],
      "text/plain": [
       "<IPython.core.display.HTML object>"
      ]
     },
     "execution_count": 22,
     "metadata": {},
     "output_type": "execute_result"
    }
   ],
   "source": [
    "figTemp = glucifer.Figure()\n",
    "figTemp.append( glucifer.objects.Surface(mesh, temperatureField))\n",
    "\n",
    "#figTemp.save_database('test.gldb')\n",
    "figTemp.show()"
   ]
  },
  {
   "cell_type": "markdown",
   "metadata": {},
   "source": [
    "## ICs BCs"
   ]
  },
  {
   "cell_type": "code",
   "execution_count": 23,
   "metadata": {
    "collapsed": true
   },
   "outputs": [],
   "source": [
    "# send boundary condition information to underworld\n",
    "IWalls = mesh.specialSets[\"MinI_VertexSet\"] + mesh.specialSets[\"MaxI_VertexSet\"]\n",
    "JWalls = mesh.specialSets[\"MinJ_VertexSet\"] + mesh.specialSets[\"MaxJ_VertexSet\"]\n",
    "TWalls = mesh.specialSets[\"MaxJ_VertexSet\"]\n",
    "BWalls = mesh.specialSets[\"MinJ_VertexSet\"]"
   ]
  },
  {
   "cell_type": "code",
   "execution_count": null,
   "metadata": {
    "collapsed": false
   },
   "outputs": [],
   "source": []
  },
  {
   "cell_type": "code",
   "execution_count": 24,
   "metadata": {
    "collapsed": false
   },
   "outputs": [],
   "source": [
    "#Set Dirichlet Temp conditions\n",
    "\n",
    "for index in mesh.specialSets[\"MinJ_VertexSet\"]:\n",
    "    temperatureField.data[index] = lith.tint\n",
    "for index in mesh.specialSets[\"MaxJ_VertexSet\"]:\n",
    "    temperatureField.data[index] = lith.tsurf\n",
    "\n",
    "\n",
    "# Now setup the dirichlet boundary condition\n",
    "# Note that through this object, we are flagging to the system \n",
    "# that these nodes are to be considered as boundary conditions. \n",
    "# Also note that we provide a tuple of sets.. One for the Vx, one for Vy.\n",
    "freeslipBC = uw.conditions.DirichletCondition(     variable=velocityField, \n",
    "                                              indexSetsPerDof=(IWalls, JWalls) )\n",
    "\n",
    "# also set dirichlet for temp field\n",
    "dirichTempBC = uw.conditions.DirichletCondition(     variable=temperatureField, \n",
    "                                              indexSetsPerDof=(JWalls,) )"
   ]
  },
  {
   "cell_type": "markdown",
   "metadata": {},
   "source": [
    "# Particles"
   ]
  },
  {
   "cell_type": "code",
   "execution_count": 25,
   "metadata": {
    "collapsed": true
   },
   "outputs": [],
   "source": [
    "###########\n",
    "#Material Swarm and variables\n",
    "###########\n",
    "\n",
    "gSwarm = uw.swarm.Swarm(mesh=mesh)\n",
    "materialVariable = gSwarm.add_variable( dataType=\"int\", count=1 )"
   ]
  },
  {
   "cell_type": "code",
   "execution_count": 26,
   "metadata": {
    "collapsed": false
   },
   "outputs": [],
   "source": [
    "mantleIndex = 0\n",
    "lithosphereIndex = 1\n",
    "eclIndex = 2\n",
    "crustIndex = 3\n",
    "airIndex = 4\n",
    "tempIndex = 5\n",
    "\n",
    "\n",
    "\n",
    "\n",
    "if checkpointLoad:\n",
    "    checkpointLoadDir = natsort.natsorted(checkdirs)[-1]\n",
    "    temperatureField.load(os.path.join(checkpointLoadDir, \"temperatureField\" + \".hdf5\"))\n",
    "    pressureField.load(os.path.join(checkpointLoadDir, \"pressureField\" + \".hdf5\"))\n",
    "    velocityField.load(os.path.join(checkpointLoadDir, \"velocityField\" + \".hdf5\"))\n",
    "    gSwarm.load(os.path.join(checkpointLoadDir, \"swarm\" + \".h5\"))\n",
    "    for ix in range(len(varlist)):\n",
    "        varb = varlist[ix]\n",
    "        varb.load(os.path.join(checkpointLoadDir,varnames[ix] + \".h5\"))\n",
    "\n",
    "else:\n",
    "\n",
    "    # Layouts are used to populate the swarm across the whole domain\n",
    "    # Create the layout object\n",
    "    layout = uw.swarm.layouts.PerCellRandomLayout(swarm=gSwarm, particlesPerCell=ppc)\n",
    "    # Now use it to populate.\n",
    "    gSwarm.populate_using_layout( layout=layout )\n",
    "\n",
    "    # Lets initialise the 'materialVariable' data to represent different materials\n",
    "    # Set the material to heavy everywhere via the numpy array\n",
    "    materialVariable.data[:] = mantleIndex\n",
    "    \n",
    "    \n",
    "    #Set initial air and crust materials (allow the graph to take care of lithsophere)\n",
    "    #########\n",
    "    #This initial material setup will be model dependent\n",
    "    #########\n",
    "    for particleID in range(gSwarm.particleCoordinates.data.shape[0]):\n",
    "        if (1. - gSwarm.particleCoordinates.data[particleID][1]) < 0:\n",
    "                 materialVariable.data[particleID] = airIndex\n",
    "        elif (1. - gSwarm.particleCoordinates.data[particleID][1]) < MANTLETOCRUST:\n",
    "                 materialVariable.data[particleID] = crustIndex\n"
   ]
  },
  {
   "cell_type": "markdown",
   "metadata": {},
   "source": [
    "# Material Graphs"
   ]
  },
  {
   "cell_type": "code",
   "execution_count": 27,
   "metadata": {
    "collapsed": true
   },
   "outputs": [],
   "source": [
    "##############\n",
    "#Important: This is a quick fix for a bug that arises in parallel runs\n",
    "##############\n",
    "material_list = [0,1,2,3,4,5]\n"
   ]
  },
  {
   "cell_type": "code",
   "execution_count": 28,
   "metadata": {
    "collapsed": true
   },
   "outputs": [],
   "source": [
    "#All depth conditions are given as (km/D) where D is the length scale,\n",
    "#note that 'model depths' are used, e.g. 1-z, where z is the vertical Underworld coordinate\n",
    "#All temp conditions are in dimensionless temp. [0. - 1.]\n",
    "\n",
    "#######Graph object\n",
    "DG = nx.DiGraph(field=\"Depth\")\n",
    "\n",
    "#######Nodes\n",
    "#Note that the order of materials, deepest to shallowest is important\n",
    "DG.add_node(0, mat='mantle')\n",
    "DG.add_node(1, mat='lithosphere')\n",
    "DG.add_node(2, mat='ecl')\n",
    "DG.add_node(3, mat='crust')\n",
    "DG.add_node(4, mat='air')\n",
    "DG.add_node(5, mat='temp')\n",
    "\n",
    "\n",
    "labels=dict((n,d['mat']) for n,d in DG.nodes(data=True))\n",
    "pos=nx.spring_layout(DG)\n",
    "\n",
    "\n",
    "#######Edges\n",
    "#anything to air\n",
    "DG.add_edges_from([(0,4),(1,4), (3,4)])\n",
    "DG[0][4]['depthcondition'] = -1*TOPOHEIGHT\n",
    "DG[1][4]['depthcondition'] = -1*TOPOHEIGHT\n",
    "DG[3][4]['depthcondition'] = -1*TOPOHEIGHT\n",
    "\n",
    "\n",
    "#Anything to mantle\n",
    "DG.add_edges_from([(3,0), (1,0), (2,0), (5,0)])\n",
    "DG[3][0]['depthcondition'] = CRUSTTOMANTLE #Normal crust\n",
    "DG[1][0]['depthcondition'] = LITHTOMANTLE #This means we're going to kill lithosphere at the 660.\n",
    "DG[2][0]['depthcondition'] = CRUSTTOMANTLE #Eclogite crust\n",
    "DG[5][0]['depthcondition'] = CRUSTTOMANTLE #Normal crust\n",
    "\n",
    "#Anything to lithsphere\n",
    "DG.add_edges_from([(0,1),(4,1)])\n",
    "DG[0][1]['depthcondition'] = MANTLETOLITH\n",
    "DG[0][1]['avgtempcondition'] = 0.75*AVGTEMP #definition of thermal lithosphere\n",
    "\n",
    "\n",
    "#Anything to crust\n",
    "DG.add_edges_from([(0,3), (1,3), (4,3)])\n",
    "DG[0][3]['depthcondition'] = MANTLETOCRUST\n",
    "DG[1][3]['depthcondition'] = MANTLETOCRUST\n",
    "DG[4][3]['depthcondition'] = TOPOHEIGHT\n",
    "\n",
    "#crust to eclogite\n",
    "DG.add_edges_from([(3,2)])\n",
    "DG[3][2]['depthcondition'] =CRUSTTOECL"
   ]
  },
  {
   "cell_type": "code",
   "execution_count": 29,
   "metadata": {
    "collapsed": false
   },
   "outputs": [],
   "source": [
    "remove_nodes = []\n",
    "for node in DG.nodes():\n",
    "    if not node in material_list:\n",
    "        remove_nodes.append(node)\n",
    "        \n",
    "for rmnode in remove_nodes:\n",
    "    DG.remove_node(rmnode)"
   ]
  },
  {
   "cell_type": "code",
   "execution_count": 30,
   "metadata": {
    "collapsed": true
   },
   "outputs": [],
   "source": [
    "#A Dictionary to map strings in the graph (e.g. 'depthcondition') to particle data arrays\n",
    "\n",
    "particledepths = 1. - gSwarm.particleCoordinates.data[:,1]\n",
    "particletemps = temperatureField.evaluate(gSwarm)[:,0]\n",
    "\n",
    "conditionmap = {}\n",
    "\n",
    "conditionmap['depthcondition'] = {}\n",
    "conditionmap['depthcondition']['data'] = particledepths\n",
    "conditionmap['avgtempcondition'] = {}\n",
    "conditionmap['avgtempcondition']['data'] = particletemps"
   ]
  },
  {
   "cell_type": "code",
   "execution_count": 31,
   "metadata": {
    "collapsed": true
   },
   "outputs": [],
   "source": [
    "def update_swarm(graph, particleIndex):\n",
    "    \"\"\"\n",
    "    This function takes the materials graph (networkx.DiGraph), and a particle index,\n",
    "    then determines if a material update is required \n",
    "    and if so, returns the new materialindex\n",
    "    Args:\n",
    "        graph (networkx.DiGraph): Directed multigraph representing the transformation of material types\n",
    "        particleIndex (int): the particle index as corressponding to the index in the swarm data arrays\n",
    "    Returns:\n",
    "        if update is required the function returns the the new material variable (int) \n",
    "        else returns None\n",
    "    Raises:\n",
    "        TypeError: not implemented\n",
    "        ValueError: not implemented\n",
    "    \"\"\"\n",
    "    ##Egde gives links to other materials, we then query the conditions to see if we should change materials\n",
    "    matId = materialVariable.data[particleIndex][0]\n",
    "    innerchange = False\n",
    "    outerchange = False\n",
    "    for edge in graph[matId]:\n",
    "        if outerchange:\n",
    "            break\n",
    "        for cond in graph[matId][edge].keys():\n",
    "            outerchange = False\n",
    "            if innerchange: #found a complete transition, break inner loop\n",
    "                break\n",
    "            currentparticlevalue = conditionmap[cond]['data'][particleIndex]\n",
    "            crossover = graph[matId][edge][cond]\n",
    "            if ((matId > edge) and (currentparticlevalue > crossover)):\n",
    "                innerchange = False # continue on, \n",
    "                if graph[matId][edge].keys()[-1] == cond:\n",
    "                    outerchange = True\n",
    "                    innerchange = edge\n",
    "                    break\n",
    "            elif ((matId < edge) and (currentparticlevalue < crossover)):\n",
    "                innerchange = False\n",
    "                if graph[matId][edge].keys()[-1] == cond:\n",
    "                    outerchange = True\n",
    "                    innerchange = edge\n",
    "                    break\n",
    "            else:\n",
    "                #condition not met, break outer loop, go to next edge, outerchange should still be False\n",
    "                break\n",
    "    if type(innerchange) == int:\n",
    "        return innerchange"
   ]
  },
  {
   "cell_type": "code",
   "execution_count": 32,
   "metadata": {
    "collapsed": false
   },
   "outputs": [],
   "source": [
    "#Set the crust material in the slab using shapes/function from uw.\n",
    "\n",
    "if not checkpointLoad:\n",
    "    #materialVariable.data[:] = mantleIndex\n",
    "    #lithtemp = 0.95*0.8\n",
    "    #tempswarm = temperatureField.evaluate(gSwarm)[:,0]\n",
    "\n",
    "    #At this point, we only have to assign any materials that are defined by setup shapes,\n",
    "    #the rest of the materials will be assigned using the materials graph\n",
    "\n",
    "    for particleID in range(gSwarm.particleCoordinates.data.shape[0]):\n",
    "        coord = gSwarm.particleCoordinates.data[particleID]\n",
    "        if gSwarm.particleCoordinates.data[particleID][1] > (1.0 - CrustM):\n",
    "            materialVariable.data[particleID] =  crustIndex\n",
    "        elif Oc.evaluate(tuple(coord)) and Tri.evaluate(tuple(coord)) and not Cc.evaluate(tuple(coord)):\n",
    "            #print(\"True\")\n",
    "            materialVariable.data[particleID] =  crustIndex\n",
    "        if Gc.evaluate(tuple(coord)) and Tri.evaluate(tuple(coord)) and not Oc.evaluate(tuple(coord)):\n",
    "            materialVariable.data[particleID] =  tempIndex"
   ]
  },
  {
   "cell_type": "code",
   "execution_count": 33,
   "metadata": {
    "collapsed": false
   },
   "outputs": [],
   "source": [
    "#Cleanse the swarm of its sins\n",
    "#For some Material Graphs, the graph may have to be traversed more than once\n",
    "\n",
    "check = -1\n",
    "number_updated = 1\n",
    "\n",
    "while number_updated != 0:\n",
    "    number_updated = 0\n",
    "    for particleID in range(gSwarm.particleCoordinates.data.shape[0]):\n",
    "        check = update_swarm(DG, particleID)\n",
    "        if check > -1:\n",
    "            number_updated += 1\n",
    "            materialVariable.data[particleID] = check"
   ]
  },
  {
   "cell_type": "code",
   "execution_count": 34,
   "metadata": {
    "collapsed": false
   },
   "outputs": [
    {
     "data": {
      "text/html": [
       "<img src='data:image/png;base64,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'>"
      ],
      "text/plain": [
       "<IPython.core.display.HTML object>"
      ]
     },
     "execution_count": 34,
     "metadata": {},
     "output_type": "execute_result"
    }
   ],
   "source": [
    "figMat = glucifer.Figure()\n",
    "figMat.append( glucifer.objects.Points(gSwarm,materialVariable, colours='white blue red black'))\n",
    "#figMat.append( glucifer.objects.Mesh(mesh))\n",
    "figMat.save_database('test.gldb')\n",
    "figMat.show()"
   ]
  },
  {
   "cell_type": "markdown",
   "metadata": {},
   "source": [
    "## Rheology"
   ]
  },
  {
   "cell_type": "code",
   "execution_count": 35,
   "metadata": {
    "collapsed": true
   },
   "outputs": [],
   "source": [
    "# The yeilding of the upper slab is dependent on the strain rate.\n",
    "strainRate_2ndInvariant = fn.tensor.second_invariant( \n",
    "                            fn.tensor.symmetric( \n",
    "                            velocityField.fn_gradient ))\n",
    "\n",
    "\n",
    "coordinate = fn.input()\n",
    "depth = 1. - coordinate[1]\n"
   ]
  },
  {
   "cell_type": "code",
   "execution_count": null,
   "metadata": {
    "collapsed": false
   },
   "outputs": [],
   "source": []
  },
  {
   "cell_type": "code",
   "execution_count": 36,
   "metadata": {
    "collapsed": false
   },
   "outputs": [],
   "source": [
    "arhennius = fn.misc.min(ndp.up_visc, fn.math.exp(((-1.*math.log(dp.E)) + (math.log(dp.E) / (temperatureField + 1e-6)))))  \n"
   ]
  },
  {
   "cell_type": "code",
   "execution_count": 51,
   "metadata": {
    "collapsed": false
   },
   "outputs": [
    {
     "data": {
      "text/html": [
       "<img src='data:image/png;base64,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'>"
      ],
      "text/plain": [
       "<IPython.core.display.HTML object>"
      ]
     },
     "execution_count": 51,
     "metadata": {},
     "output_type": "execute_result"
    }
   ],
   "source": [
    "figVisc = glucifer.Figure()\n",
    "figVisc.append( glucifer.objects.Surface(mesh, temperatureField))\n",
    "figVisc.append(glucifer.objects.VectorArrows(mesh, velocityField, scaling=0.0002))\n",
    "figVisc.show()"
   ]
  },
  {
   "cell_type": "code",
   "execution_count": 39,
   "metadata": {
    "collapsed": false
   },
   "outputs": [],
   "source": [
    "#Psuedo-plastic \n",
    "ys =  ndp.cohesion + (depth*ndp.fcd)\n",
    "#ys =  ndp.fc*lithopressuregrad*(30e3/dp.LS) # this is the byerlee strength at 30 km\n",
    "yss = fn.misc.max(ndp.cohesion, ys)\n",
    "plasticvisc = yss*(math.sqrt(2))/(strainRate_2ndInvariant*2.)\n",
    "plastic = fn.misc.max(ndp.low_visc,plasticvisc)\n",
    "#combine these\n",
    "mantleviscosityFn = fn.misc.min(arhennius, plastic)\n",
    "\n",
    "############\n",
    "#crust\n",
    "############\n",
    "\n",
    "\n",
    "\n",
    "ysc = (ndp.cohesion/100.) + (depth*(ndp.fcd/100.))\n",
    "#ysc = ys/100.\n",
    "ycs = fn.misc.max((ndp.cohesion/100.), ysc)\n",
    "crustplasticvisc = ycs*(math.sqrt(2))/(strainRate_2ndInvariant*2.)\n",
    "crustplastic = fn.misc.max(ndp.low_visc,crustplasticvisc) \n",
    "crustviscosityFn = fn.misc.min(arhennius, crustplastic)"
   ]
  },
  {
   "cell_type": "code",
   "execution_count": 40,
   "metadata": {
    "collapsed": false
   },
   "outputs": [],
   "source": [
    "# Here we set a viscosity value of '1.' for both materials\n",
    "viscosityMapFn = fn.branching.map( fn_key = materialVariable,\n",
    "                         mapping = {airIndex:ndp.StAeta0, \n",
    "                                    lithosphereIndex:mantleviscosityFn, \n",
    "                                    crustIndex:mantleviscosityFn,\n",
    "                                    mantleIndex:mantleviscosityFn, \n",
    "                                    eclIndex:crustviscosityFn,\n",
    "                                    tempIndex:mantleviscosityFn} )\n",
    "\n",
    "densityMapFn = fn.branching.map( fn_key = materialVariable,\n",
    "                         mapping = {airIndex:ndp.StA_RA, \n",
    "                                    lithosphereIndex:ndp.RA*temperatureField, \n",
    "                                    crustIndex:ndp.RA*temperatureField, \n",
    "                                    mantleIndex:ndp.RA*temperatureField, \n",
    "                                    eclIndex:ndp.RA*temperatureField,\n",
    "                                    tempIndex:ndp.RA*temperatureField, } )\n",
    "\n",
    "# Define our gravity using a python tuple (this will be automatically converted to a function)\n",
    "gravity = ( 0.0, 1.0 )\n",
    "\n",
    "buoyancyFn = gravity*densityMapFn"
   ]
  },
  {
   "cell_type": "markdown",
   "metadata": {},
   "source": [
    "## Build Stokes system"
   ]
  },
  {
   "cell_type": "code",
   "execution_count": 41,
   "metadata": {
    "collapsed": true
   },
   "outputs": [],
   "source": [
    "stokesPIC = uw.systems.Stokes( velocityField = velocityField, \n",
    "                               pressureField = pressureField,\n",
    "                               #swarm         = gSwarm, \n",
    "                               conditions    = [freeslipBC,],\n",
    "                               fn_viscosity   = arhennius, \n",
    "                               fn_bodyforce   = buoyancyFn,\n",
    "                               swarm=gSwarm)"
   ]
  },
  {
   "cell_type": "code",
   "execution_count": 42,
   "metadata": {
    "collapsed": true
   },
   "outputs": [],
   "source": [
    "#We do one solve with linear viscosity to get the initial strain rate invariant. \n",
    "#This solve step also calculates a 'guess' of the the velocity field based on the linear system, \n",
    "#which is used later in the non-linear solver.\n",
    "\n",
    "solver = uw.systems.Solver(stokesPIC)\n",
    "# If not doing a restart, do a solve on the non-plastic system\n",
    "if not checkpointLoad:\n",
    "    solver.solve()"
   ]
  },
  {
   "cell_type": "code",
   "execution_count": 45,
   "metadata": {
    "collapsed": true
   },
   "outputs": [],
   "source": [
    "#Switch particle escape on, this will also trigger the inflow population control \n",
    "gSwarm.particleEscape = True"
   ]
  },
  {
   "cell_type": "code",
   "execution_count": 46,
   "metadata": {
    "collapsed": true
   },
   "outputs": [],
   "source": [
    "####################\n",
    "#Add the non-linear viscosity to the Stokes system\n",
    "stokesPIC.fn_viscosity = viscosityMapFn\n",
    "###################\n",
    "\n",
    "#Set more advanced solver option\n",
    "solver.options.main.Q22_pc_type='gkgdiag'\n",
    "#solver.options.A11.ksp_rtol=1e-2\n",
    "#solver.options.scr.ksp_rtol=1e-3\n",
    "#solver.options.A11.ksp_type=\"cg\"\n",
    "solver.options.scr.use_previous_guess = True\n",
    "#solver.options.scr.ksp_set_min_it_converge = 1\n",
    "#solver.options.main.penalty=10.0\n",
    "\n",
    "#solver.options.mg.levels = 3\n",
    "#solver.options.main.remove_constant_pressure_null_space=True\n",
    "#solver.options.main.penalty = 1e2\n",
    "\n",
    "solver.options.A11.ksp_rtol=1e-4\n",
    "solver.options.scr.ksp_rtol=1e-4\n",
    "\n",
    "solver.options.A11.ksp_monitor=''\n",
    "solver.options.A11.ksp_converged_reason=''"
   ]
  },
  {
   "cell_type": "code",
   "execution_count": 47,
   "metadata": {
    "collapsed": true
   },
   "outputs": [],
   "source": [
    "solver.solve(nonLinearIterate=True)"
   ]
  },
  {
   "cell_type": "code",
   "execution_count": 141,
   "metadata": {
    "collapsed": false
   },
   "outputs": [
    {
     "data": {
      "text/plain": [
       "0"
      ]
     },
     "execution_count": 141,
     "metadata": {},
     "output_type": "execute_result"
    }
   ],
   "source": [
    "ndp.H"
   ]
  },
  {
   "cell_type": "code",
   "execution_count": 143,
   "metadata": {
    "collapsed": false
   },
   "outputs": [],
   "source": [
    "#Create advdiff system\n",
    "\n",
    "\n",
    "\n",
    "#advDiff = uw.systems.AdvectionDiffusion( phiField       = temperatureField, \n",
    "#                                         phiDotField    = temperatureDotField, \n",
    "#                                         velocityField  = velocityField, \n",
    "#                                         fn_diffusivity = 1.0,\n",
    "#                                         fn_sourceTerm = 0.,\n",
    "#                                         conditions     = [tempBC,] )\n",
    "\n",
    "\n",
    "advDiff = uw.systems.AdvectionDiffusion( phiField       = temperatureField, \n",
    "                                         phiDotField    = temperatureDotField, \n",
    "                                         velocityField  = velocityField,\n",
    "                                         fn_sourceTerm    = ndp.H,\n",
    "                                         fn_diffusivity = 1.0, \n",
    "                                         conditions     = [dirichTempBC,] )\n",
    "\n",
    "\n",
    "\n",
    "advector = uw.systems.SwarmAdvector( swarm         = gSwarm, \n",
    "                                     velocityField = velocityField, \n",
    "                                     order         = 1)"
   ]
  },
  {
   "cell_type": "code",
   "execution_count": null,
   "metadata": {
    "collapsed": true
   },
   "outputs": [],
   "source": [
    "pics = uw.swarm.PICIntegrationSwarm(gSwarm)"
   ]
  },
  {
   "cell_type": "markdown",
   "metadata": {},
   "source": [
    "## Figures / gldbs etc"
   ]
  },
  {
   "cell_type": "code",
   "execution_count": 145,
   "metadata": {
    "collapsed": true
   },
   "outputs": [],
   "source": [
    "viscVariable = gSwarm.add_variable( dataType=\"float\", count=1 )\n",
    "viscVariable.data[:] = viscosityMapFn.evaluate(gSwarm)"
   ]
  },
  {
   "cell_type": "code",
   "execution_count": 146,
   "metadata": {
    "collapsed": true
   },
   "outputs": [],
   "source": [
    "#Pack some stuff into a database as well\n",
    "figDb = glucifer.Figure()\n",
    "figDb.append( glucifer.objects.Points(gSwarm,viscVariable, logScale=True, colours='brown white blue'))\n",
    "figDb.append( glucifer.objects.Points(gSwarm,materialVariable, colours='brown white blue red'))\n",
    "figDb.append( glucifer.objects.Mesh(mesh))\n",
    "figDb.append( glucifer.objects.VectorArrows(mesh,velocityField, arrowHead=0.2, scaling=0.01))\n",
    "figDb.append( glucifer.objects.Surface(mesh, strainRate_2ndInvariant, logScale=True, colours='brown white blue'))\n",
    "figDb.append( glucifer.objects.Surface(mesh, temperatureField))"
   ]
  },
  {
   "cell_type": "code",
   "execution_count": 152,
   "metadata": {
    "collapsed": true
   },
   "outputs": [],
   "source": [
    "step = 0\n",
    "realtime = 0.\n",
    "timevals = [0.]"
   ]
  },
  {
   "cell_type": "code",
   "execution_count": null,
   "metadata": {
    "collapsed": false
   },
   "outputs": [
    {
     "name": "stdout",
     "output_type": "stream",
     "text": [
      "0.0\n",
      "1.0\n",
      "2.0\n",
      "3.0\n",
      "4.0"
     ]
    }
   ],
   "source": [
    "# initialise timer for computation\n",
    "startMain = time.clock()\n",
    "# Perform steps#\n",
    "while realtime < 0.2:\n",
    "#while step < 25:\n",
    "    #Enter non-linear loop\n",
    "    print step\n",
    "    solver.solve(nonLinearIterate=True)\n",
    "    dt = advDiff.get_max_dt()\n",
    "    if step == 0:\n",
    "        dt = 0.\n",
    "    #start = time.clock()\n",
    "    advDiff.integrate(dt)\n",
    "    #machine_time = (time.clock()-start)\n",
    "    #print(\"total advDiff time is: \" + str(machine_time))\n",
    "    # Advect swarm using this timestep size\n",
    "    #start = time.clock()\n",
    "    advector.integrate(dt)\n",
    "    #machine_time = (time.clock()-start)\n",
    "    #print(\"total advector time is: \" + str(machine_time))\n",
    "    # Increment\n",
    "    realtime += dt\n",
    "    step += 1\n",
    "    timevals.append(realtime)\n",
    "    \n",
    "    ################\n",
    "    #Gldb output\n",
    "    ################ \n",
    "    if (step % gldbs_output == 0):\n",
    "        #Rebuild any necessary swarm variables\n",
    "        viscVariable.data[:] = viscosityMapFn.evaluate(gSwarm)\n",
    "        #Write gldbs\n",
    "        fnamedb = \"dbFig\" + \"_\" + str(ModIt) + \"_\" + str(step) + \".gldb\"\n",
    "        fullpath = os.path.join(outputPath + \"gldbs/\" + fnamedb)\n",
    "        figDb.show()\n",
    "        figDb.save_database(fullpath)\n",
    "    ################\n",
    "    #Also repopulate entire swarm periodically\n",
    "    ################\n",
    "    if step % swarm_repop == 0:\n",
    "        pics.repopulate()\n",
    "    "
   ]
  },
  {
   "cell_type": "code",
   "execution_count": null,
   "metadata": {
    "collapsed": true
   },
   "outputs": [],
   "source": []
  }
 ],
 "metadata": {
  "kernelspec": {
   "display_name": "Python 2",
   "language": "python",
   "name": "python2"
  },
  "language_info": {
   "codemirror_mode": {
    "name": "ipython",
    "version": 2
   },
   "file_extension": ".py",
   "mimetype": "text/x-python",
   "name": "python",
   "nbconvert_exporter": "python",
   "pygments_lexer": "ipython2",
   "version": "2.7.11"
  }
 },
 "nbformat": 4,
 "nbformat_minor": 0
}
