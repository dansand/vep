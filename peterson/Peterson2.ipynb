{
 "cells": [
  {
   "cell_type": "markdown",
   "metadata": {
    "collapsed": true
   },
   "source": [
    "## Thermal slab\n",
    "\n",
    "Rheology similar to Kaplan (thesis), setup similar to Peterson (2015) "
   ]
  },
  {
   "cell_type": "code",
   "execution_count": 1,
   "metadata": {
    "collapsed": true
   },
   "outputs": [],
   "source": [
    "import networkx as nx\n",
    "import underworld as uw\n",
    "import math\n",
    "from underworld import function as fn\n",
    "import glucifer\n",
    "#import matplotlib.pyplot as pyplot\n",
    "import time\n",
    "import numpy as np\n",
    "import os\n",
    "import sys\n",
    "import natsort\n",
    "import shutil\n",
    "from easydict import EasyDict as edict\n",
    "import slippy2 as sp\n",
    "from slippy2 import unit_conversions\n",
    "from slippy2 import boundary_layer2d\n",
    "\n",
    "\n",
    "\n",
    "from mpi4py import MPI\n",
    "comm = MPI.COMM_WORLD\n",
    "rank = comm.Get_rank()"
   ]
  },
  {
   "cell_type": "code",
   "execution_count": 2,
   "metadata": {
    "collapsed": true
   },
   "outputs": [],
   "source": [
    "############\n",
    "#Model name.  \n",
    "############\n",
    "Model = \"T\"\n",
    "ModNum = 0\n",
    "\n",
    "if len(sys.argv) == 1:\n",
    "    ModIt = \"Base\"\n",
    "elif sys.argv[1] == '-f':\n",
    "    ModIt = \"Base\"\n",
    "else:\n",
    "    ModIt = str(sys.argv[1])"
   ]
  },
  {
   "cell_type": "code",
   "execution_count": 3,
   "metadata": {
    "collapsed": true
   },
   "outputs": [],
   "source": [
    "###########\n",
    "#Standard output directory setup\n",
    "###########\n",
    "\n",
    "\n",
    "outputPath = \"results\" + \"/\" +  str(Model) + \"/\" + str(ModNum) + \"/\" + str(ModIt) + \"/\"\n",
    "imagePath = outputPath + 'images/'\n",
    "filePath = outputPath + 'files/'\n",
    "checkpointPath = outputPath + 'checkpoint/'\n",
    "dbPath = outputPath + 'gldbs/'\n",
    "outputFile = 'results_model' + Model + '_' + str(ModNum) + '_' + str(ModIt) + '.dat'\n",
    "\n",
    "if uw.rank()==0:\n",
    "    # make directories if they don't exist\n",
    "    if not os.path.isdir(outputPath):\n",
    "        os.makedirs(outputPath)\n",
    "    if not os.path.isdir(checkpointPath):\n",
    "        os.makedirs(checkpointPath)\n",
    "    if not os.path.isdir(imagePath):\n",
    "        os.makedirs(imagePath)\n",
    "    if not os.path.isdir(dbPath):\n",
    "        os.makedirs(dbPath)\n",
    "    if not os.path.isdir(filePath):\n",
    "        os.makedirs(filePath)\n",
    "        \n",
    "comm.Barrier() #Barrier here so no procs run the check in the next cell too early "
   ]
  },
  {
   "cell_type": "code",
   "execution_count": 4,
   "metadata": {
    "collapsed": false
   },
   "outputs": [
    {
     "name": "stdout",
     "output_type": "stream",
     "text": [
      "results/T/0/Base/checkpoint/ is empty\n"
     ]
    }
   ],
   "source": [
    "###########\n",
    "#Check if starting from checkpoint\n",
    "###########\n",
    "\n",
    "checkdirs = []\n",
    "for dirpath, dirnames, files in os.walk(checkpointPath):\n",
    "    if files:\n",
    "        print dirpath, 'has files'\n",
    "        checkpointLoad = True\n",
    "        checkdirs.append(dirpath)\n",
    "    if not files:\n",
    "        print dirpath, 'is empty'\n",
    "        checkpointLoad = False\n",
    "        "
   ]
  },
  {
   "cell_type": "code",
   "execution_count": 5,
   "metadata": {
    "collapsed": false
   },
   "outputs": [],
   "source": [
    "###########\n",
    "#Physical parameters\n",
    "###########\n",
    "\n",
    "#dimensional parameter dictionary\n",
    "dp = edict({'LS':660.*1e3,\n",
    "           'rho':3300,\n",
    "           'g':9.81, \n",
    "           'eta0':1e20,\n",
    "           'k':10**-6,\n",
    "           'a':3e-5, \n",
    "           'deltaT':1400,\n",
    "           'TS':273,\n",
    "           'TB':1673,\n",
    "           'cohesion':5e6,\n",
    "           'fc':0.03,\n",
    "           'E':1e5, \n",
    "           'StALS': 100.*1e3})\n",
    "\n",
    "#scale_factors\n",
    "\n",
    "sf = edict({'stress':dp.LS**2/(dp.k*dp.eta0),\n",
    "           'lith_grad':dp.rho*dp.g*(dp.LS)**3/(dp.eta0*dp.k) })\n",
    "\n",
    "#dimensionless parameters\n",
    "\n",
    "ndp = edict({'RA':(dp.g*dp.rho*dp.a*dp.deltaT *(dp.LS)**3)/(dp.k*dp.eta0),\n",
    "           'cohesion':dp.cohesion*sf.stress,\n",
    "            'fcd':dp.fc*sf.lith_grad,\n",
    "            'TS':dp.TS/dp.deltaT,\n",
    "            'TB':dp.TB/dp.deltaT,\n",
    "            'low_visc':1e-4,\n",
    "            'StAeta0':0.01,\n",
    "            'up_visc':1e5,\n",
    "            'H':0.})"
   ]
  },
  {
   "cell_type": "code",
   "execution_count": 6,
   "metadata": {
    "collapsed": false
   },
   "outputs": [
    {
     "data": {
      "text/plain": [
       "(3908985.3633599994, 21779.999999999996)"
      ]
     },
     "execution_count": 6,
     "metadata": {},
     "output_type": "execute_result"
    }
   ],
   "source": [
    "ndp.RA, ndp.cohesion"
   ]
  },
  {
   "cell_type": "code",
   "execution_count": 7,
   "metadata": {
    "collapsed": true
   },
   "outputs": [],
   "source": [
    "ETAREF = dp.rho*dp.g*dp.a*dp.deltaT*((dp.LS)**3)/(ndp.RA*dp.k) #equivalent dimensional reference viscosity\n",
    "#RC = (3300.*dp.g*(dp.LS)**3)/(ETAREF *dp.k) #Composisitional Rayleigh number for rock-air buoyancy force\n",
    "RCA = (1650.*dp.g*(dp.LS)**3)/(ETAREF *dp.k) #Composisitional Rayleigh number for rock-air buoyancy force\n",
    "COMP_RA_FACT_AIR = RCA/ndp.RA\n",
    "#RCC = (100.*dp.g*(dp.LS)**3)/(ETAREF *dp.k) #Composisitional Rayleigh number for crust\n",
    "#COMP_RA_FACT_CRUST = RCC/ndp.RA\n",
    "#RCE = -1*(200.*dp.g*(dp.LS)**3)/(ETAREF *dp.k) #Composisitional Rayleigh number for eclogite \n",
    "#COMP_RA_FACT_ECL = RCE/ndp.RA\n",
    "ndp[\"StA_RA\"] = ndp.RA*COMP_RA_FACT_AIR"
   ]
  },
  {
   "cell_type": "code",
   "execution_count": 8,
   "metadata": {
    "collapsed": false
   },
   "outputs": [],
   "source": [
    "#A few parameters defining lengths scales, affects materal transistions etc.\n",
    "MANTLETOCRUST = (12.*1e3)/dp.LS #Crust depth\n",
    "CRUSTTOMANTLE = (900.*1e3)/dp.LS \n",
    "LITHTOMANTLE = (900.*1e3)/dp.LS \n",
    "MANTLETOLITH = (200.*1e3)/dp.LS \n",
    "TOPOHEIGHT = (0.*1e3)/dp.LS  #rock-air topography limits\n",
    "CRUSTTOECL  = (100.*1e3)/dp.LS\n",
    "AVGTEMP = ndp.TB #Used to define lithosphere"
   ]
  },
  {
   "cell_type": "code",
   "execution_count": 9,
   "metadata": {
    "collapsed": true
   },
   "outputs": [],
   "source": [
    "###########\n",
    "#Boundary layer / slab paramaters\n",
    "###########\n",
    "\n",
    "subzone = (2. - 1.2857)\n",
    "mor = 0.5\n",
    "vel = 20e3\n",
    "agelimit = False\n",
    "thermallimit = False\n",
    "\n",
    "#Slab perturbation paramaters\n",
    "Roc = 400.\n",
    "Crust = 35.\n",
    "theta = 60."
   ]
  },
  {
   "cell_type": "code",
   "execution_count": 10,
   "metadata": {
    "collapsed": false
   },
   "outputs": [],
   "source": [
    "#700./128"
   ]
  },
  {
   "cell_type": "code",
   "execution_count": 11,
   "metadata": {
    "collapsed": true
   },
   "outputs": [],
   "source": [
    "###########\n",
    "#Model setup parameters\n",
    "###########\n",
    "\n",
    "stickyAir = True\n",
    "\n",
    "MINX = -2.\n",
    "MINY = 0.\n",
    "MAXX = 2.0\n",
    "\n",
    "#MAXY = 1.035\n",
    "MAXY = 1.\n",
    "\n",
    "if MINX == 0.:\n",
    "    squareModel = True\n",
    "else: \n",
    "    squareModel = False\n",
    "    \n",
    "    \n",
    "dim = 2          # number of spatial dimensions\n",
    "\n",
    "\n",
    "#MESH STUFF\n",
    "\n",
    "RES = 64\n",
    "\n",
    "\n",
    "if MINX == 0.:\n",
    "    Xres = RES\n",
    "else:\n",
    "    Xres = 4*RES\n",
    "\n",
    "if stickyAir:\n",
    "    Yres = RES\n",
    "    MAXY = 1. + dp.StALS/dp.LS #150km\n",
    "    \n",
    "else:\n",
    "    Yres = RES\n",
    "    MAXY = 1.\n",
    "\n",
    "\n",
    "periodic = [False, False]\n",
    "elementType = \"Q1/dQ0\"\n",
    "#elementType =\"Q2/DPC1\"\n",
    "\n",
    "refineMesh = False\n",
    "\n",
    "\n",
    "#System/Solver stuff\n",
    "\n",
    "PIC_integration=True\n",
    "ppc = 25"
   ]
  },
  {
   "cell_type": "code",
   "execution_count": 12,
   "metadata": {
    "collapsed": true
   },
   "outputs": [],
   "source": [
    "###########\n",
    "#Model Runtime parameters\n",
    "###########\n",
    "\n",
    "swarm_update = 10\n",
    "swarm_repop = 25\n",
    "files_output = 1e6\n",
    "gldbs_output = 25\n",
    "images_output = 1e6\n",
    "checkpoint_every = 25\n",
    "metric_output = 25\n",
    "sticky_air_temp = 10\n",
    "\n",
    "comm.Barrier() #Barrier here so not procs run the check in the next cell too early \n",
    "\n",
    "assert metric_output <= checkpoint_every, 'Checkpointing should run less or as ofen as metric output'\n",
    "#assert (metric_output >= swarm_update), 'Swarm update is needed before checkpointing'\n",
    "#assert metric_output >= sticky_air_temp, 'Sticky air temp should be updated more frequently that metrics'"
   ]
  },
  {
   "cell_type": "code",
   "execution_count": 13,
   "metadata": {
    "collapsed": true
   },
   "outputs": [],
   "source": [
    "mesh = uw.mesh.FeMesh_Cartesian( elementType = elementType,\n",
    "                                 elementRes  = (Xres, Yres), \n",
    "                                 minCoord    = (MINX,MINY), \n",
    "                                 maxCoord=(MAXX,MAXY), periodic=periodic)\n",
    "\n",
    "\n",
    "\n",
    "velocityField       = uw.mesh.MeshVariable( mesh=mesh,         nodeDofCount=dim )\n",
    "pressureField       = uw.mesh.MeshVariable( mesh=mesh.subMesh, nodeDofCount=1 )\n",
    "temperatureField    = uw.mesh.MeshVariable( mesh=mesh,         nodeDofCount=1 )\n",
    "temperatureDotField = uw.mesh.MeshVariable( mesh=mesh,         nodeDofCount=1 )"
   ]
  },
  {
   "cell_type": "code",
   "execution_count": 14,
   "metadata": {
    "collapsed": true
   },
   "outputs": [],
   "source": [
    "# Initialise data.. Note that we are also setting boundary conditions here\n",
    "velocityField.data[:] = [0.,0.]\n",
    "pressureField.data[:] = 0.\n",
    "temperatureField.data[:] = 0.\n",
    "temperatureDotField.data[:] = 0."
   ]
  },
  {
   "cell_type": "code",
   "execution_count": 15,
   "metadata": {
    "collapsed": false
   },
   "outputs": [
    {
     "data": {
      "text/plain": [
       "0.7142999999999999"
      ]
     },
     "execution_count": 15,
     "metadata": {},
     "output_type": "execute_result"
    }
   ],
   "source": [
    "subzone"
   ]
  },
  {
   "cell_type": "code",
   "execution_count": 16,
   "metadata": {
    "collapsed": false
   },
   "outputs": [],
   "source": [
    "lith= boundary_layer2d.LithosphereTemps(mesh, temperatureField, dp.LS, subzone,  tint=ndp.TB, tsurf=ndp.TS, vel= 10e3, diffs = 1e-6)\n"
   ]
  },
  {
   "cell_type": "code",
   "execution_count": 17,
   "metadata": {
    "collapsed": true
   },
   "outputs": [],
   "source": [
    "coords = [(MINX, 1.), (subzone, 1.), (MINX, 0.)]\n",
    "Tri = fn.shape.Polygon(np.array(coords))"
   ]
  },
  {
   "cell_type": "code",
   "execution_count": 18,
   "metadata": {
    "collapsed": false
   },
   "outputs": [],
   "source": [
    "fudge = 1.\n",
    "\n",
    "thisage = 8\n",
    "\n",
    "for index, coord in enumerate(mesh.data):\n",
    "    xloc = coord[0]\n",
    "    agema = lith.agefunc(xloc)\n",
    "    #print agema\n",
    "    if agelimit:\n",
    "        agema = min(agelimit, agema)\n",
    "    if thermallimit:\n",
    "        if (1.-coord[1]) < (lith.lithdepthfunc(agema)/dp.LS)*thermallimit: #comparison of dimensionless (model) lengths\n",
    "            zloc = ((1.- coord[1])* dp.LS) # dimensional depth kms\n",
    "            t = lith.tempfunc(thisage,  zloc)\n",
    "            temperatureField.data[index] = t\n",
    "        else:\n",
    "            temperatureField.data[index] = lith.tint\n",
    "    \n",
    "    else:\n",
    "        #if coord[1] > (1. - lith.lithdepthfunc(thisage)) and (coord[1] < 1.) and (coord[0] > (MAXX - (60e3/dp.LS))):\n",
    "        #    temperatureField.data[index] = lith.tint\n",
    "        if coord[1] >= 1.:\n",
    "            temperatureField.data[index] = lith.tsurf\n",
    "        else:\n",
    "            zloc = ((1.- coord[1])* dp.LS) # dimensional depth kms\n",
    "            if coord[0] < subzone:\n",
    "                t = lith.tempfunc(thisage/4., zloc)\n",
    "            else:\n",
    "                t = lith.tempfunc(thisage, zloc)\n",
    "            temperatureField.data[index] = t\n",
    "    "
   ]
  },
  {
   "cell_type": "code",
   "execution_count": 19,
   "metadata": {
    "collapsed": true
   },
   "outputs": [],
   "source": [
    "def inCircleFnGenerator(centre, radius):\n",
    "    coord = fn.input()\n",
    "    offsetFn = coord - centre\n",
    "    return fn.math.dot( offsetFn, offsetFn ) < radius**2\n",
    "\n",
    "#Setup slab perturbation params (mostly dimensionles / model params here)\n",
    "phi = 90. - theta\n",
    "RocM = (Roc/dp.LS)*1e3\n",
    "CrustM = MANTLETOCRUST\n",
    "#slabdepth = lithdepthfunc(agefunc(off, off, vel), dp.k)\n",
    "slabdepthM = lith.lithdepthfunc(lith.agefunc(subzone)) /dp.LS\n",
    "#slabdepthM *= 5.\n",
    "Org = (0.+subzone, 1.-RocM)\n",
    "#Use three circles to define our slab and crust perturbation,  \n",
    "Oc = inCircleFnGenerator(Org , RocM)\n",
    "Gc = inCircleFnGenerator(Org , RocM + (50e3/dp.LS)) #a slightly larger circle for the 'gap'\n",
    "Ic = inCircleFnGenerator(Org , RocM - slabdepthM)\n",
    "Cc = inCircleFnGenerator(Org , RocM - CrustM)\n",
    "dx = (RocM)/(np.math.tan((np.math.pi/180.)*phi))\n",
    "\n",
    "#Work our which way the slab should face:\n",
    "sense = 'Left'\n",
    "#if lith.agefunc(subzone + 0.0001) < lith.agefunc(subzone - 0.0001):\n",
    "#    sense = 'Right'\n",
    "\n",
    "#We'll also create a triangle which will truncate the circles defining the slab...\n",
    "if sense == 'Left': \n",
    "    ptx = subzone - dx\n",
    "else:\n",
    "    ptx = subzone + dx\n",
    "\n",
    "coords = ((0.+subzone, 1), (0.+subzone, 1.-RocM), (ptx, 1.))\n",
    "Tri = fn.shape.Polygon(np.array(coords))"
   ]
  },
  {
   "cell_type": "code",
   "execution_count": 20,
   "metadata": {
    "collapsed": true
   },
   "outputs": [],
   "source": [
    "#Assign temperatures in the perturbation region\n",
    "#sds = []\n",
    "\n",
    "\n",
    "\n",
    "if sense == 'Left': \n",
    "    age = lith.agefunc(subzone + 0.001)\n",
    "else:\n",
    "    age = lith.agefunc(subzone - 0.001)\n",
    "    \n",
    "if agelimit:\n",
    "        age = min(agelim, age)\n",
    "\n",
    "for index, coord in enumerate(mesh.data):\n",
    "    #if Oc.evaluate(tuple(coord)) and Tri.evaluate(tuple(coord)) and not Ic.evaluate(tuple(coord)): #in inner circle, not in outer circle\n",
    "    if Gc.evaluate(tuple(coord)) and Tri.evaluate(tuple(coord)) and not Oc.evaluate(tuple(coord)):\n",
    "        temperatureField.data[index] = lith.tint\n",
    "    \n",
    "    elif Oc.evaluate(tuple(coord)) and Tri.evaluate(tuple(coord)): #In the quarter-circle defining the lithosphere\n",
    "\n",
    "        sd = ((RocM - math.sqrt((coord[0] - Org[0])**2 + (coord[1] - Org[1])**2))*dp.LS) #distance from slab edge in m\n",
    "        #print sd\n",
    "        if thermallimit:\n",
    "            if sd < (thisage)*thermallimit: #comparison of dimensionless (model) lengths\n",
    "                t = lith.tempfunc(age, sd)\n",
    "                temperatureField.data[index] = t\n",
    "        else:\n",
    "            t = lith.tempfunc(thisage, sd)\n",
    "            temperatureField.data[index] = t"
   ]
  },
  {
   "cell_type": "code",
   "execution_count": 21,
   "metadata": {
    "collapsed": false
   },
   "outputs": [
    {
     "data": {
      "text/html": [
       "<img src='data:image/png;base64,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'>"
      ],
      "text/plain": [
       "<IPython.core.display.HTML object>"
      ]
     },
     "execution_count": 21,
     "metadata": {},
     "output_type": "execute_result"
    }
   ],
   "source": [
    "figTemp = glucifer.Figure()\n",
    "figTemp.append( glucifer.objects.Surface(mesh, temperatureField))\n",
    "\n",
    "#figTemp.save_database('test.gldb')\n",
    "figTemp.show()"
   ]
  },
  {
   "cell_type": "markdown",
   "metadata": {},
   "source": [
    "## ICs BCs"
   ]
  },
  {
   "cell_type": "code",
   "execution_count": 22,
   "metadata": {
    "collapsed": true
   },
   "outputs": [],
   "source": [
    "# send boundary condition information to underworld\n",
    "IWalls = mesh.specialSets[\"MinI_VertexSet\"] + mesh.specialSets[\"MaxI_VertexSet\"]\n",
    "JWalls = mesh.specialSets[\"MinJ_VertexSet\"] + mesh.specialSets[\"MaxJ_VertexSet\"]\n",
    "TWalls = mesh.specialSets[\"MaxJ_VertexSet\"]\n",
    "BWalls = mesh.specialSets[\"MinJ_VertexSet\"]"
   ]
  },
  {
   "cell_type": "code",
   "execution_count": null,
   "metadata": {
    "collapsed": false
   },
   "outputs": [],
   "source": []
  },
  {
   "cell_type": "code",
   "execution_count": 23,
   "metadata": {
    "collapsed": false
   },
   "outputs": [],
   "source": [
    "#Set Dirichlet Temp conditions\n",
    "\n",
    "for index in mesh.specialSets[\"MinJ_VertexSet\"]:\n",
    "    temperatureField.data[index] = lith.tint\n",
    "for index in mesh.specialSets[\"MaxJ_VertexSet\"]:\n",
    "    temperatureField.data[index] = lith.tsurf\n",
    "\n",
    "\n",
    "# Now setup the dirichlet boundary condition\n",
    "# Note that through this object, we are flagging to the system \n",
    "# that these nodes are to be considered as boundary conditions. \n",
    "# Also note that we provide a tuple of sets.. One for the Vx, one for Vy.\n",
    "freeslipBC = uw.conditions.DirichletCondition(     variable=velocityField, \n",
    "                                              indexSetsPerDof=(IWalls, JWalls) )\n",
    "\n",
    "# also set dirichlet for temp field\n",
    "dirichTempBC = uw.conditions.DirichletCondition(     variable=temperatureField, \n",
    "                                              indexSetsPerDof=(JWalls,) )"
   ]
  },
  {
   "cell_type": "markdown",
   "metadata": {},
   "source": [
    "# Particles"
   ]
  },
  {
   "cell_type": "code",
   "execution_count": 24,
   "metadata": {
    "collapsed": true
   },
   "outputs": [],
   "source": [
    "###########\n",
    "#Material Swarm and variables\n",
    "###########\n",
    "\n",
    "gSwarm = uw.swarm.Swarm(mesh=mesh)\n",
    "materialVariable = gSwarm.add_variable( dataType=\"int\", count=1 )"
   ]
  },
  {
   "cell_type": "code",
   "execution_count": 25,
   "metadata": {
    "collapsed": false
   },
   "outputs": [],
   "source": [
    "mantleIndex = 0\n",
    "lithosphereIndex = 1\n",
    "eclIndex = 2\n",
    "crustIndex = 3\n",
    "airIndex = 4\n",
    "tempIndex = 5\n",
    "\n",
    "\n",
    "\n",
    "\n",
    "if checkpointLoad:\n",
    "    checkpointLoadDir = natsort.natsorted(checkdirs)[-1]\n",
    "    temperatureField.load(os.path.join(checkpointLoadDir, \"temperatureField\" + \".hdf5\"))\n",
    "    pressureField.load(os.path.join(checkpointLoadDir, \"pressureField\" + \".hdf5\"))\n",
    "    velocityField.load(os.path.join(checkpointLoadDir, \"velocityField\" + \".hdf5\"))\n",
    "    gSwarm.load(os.path.join(checkpointLoadDir, \"swarm\" + \".h5\"))\n",
    "    for ix in range(len(varlist)):\n",
    "        varb = varlist[ix]\n",
    "        varb.load(os.path.join(checkpointLoadDir,varnames[ix] + \".h5\"))\n",
    "\n",
    "else:\n",
    "\n",
    "    # Layouts are used to populate the swarm across the whole domain\n",
    "    # Create the layout object\n",
    "    layout = uw.swarm.layouts.PerCellRandomLayout(swarm=gSwarm, particlesPerCell=ppc)\n",
    "    # Now use it to populate.\n",
    "    gSwarm.populate_using_layout( layout=layout )\n",
    "\n",
    "    # Lets initialise the 'materialVariable' data to represent different materials\n",
    "    # Set the material to heavy everywhere via the numpy array\n",
    "    materialVariable.data[:] = mantleIndex\n",
    "    \n",
    "    \n",
    "    #Set initial air and crust materials (allow the graph to take care of lithsophere)\n",
    "    #########\n",
    "    #This initial material setup will be model dependent\n",
    "    #########\n",
    "    for particleID in range(gSwarm.particleCoordinates.data.shape[0]):\n",
    "        if (1. - gSwarm.particleCoordinates.data[particleID][1]) < 0:\n",
    "                 materialVariable.data[particleID] = airIndex\n",
    "        elif (1. - gSwarm.particleCoordinates.data[particleID][1]) < MANTLETOCRUST:\n",
    "                 materialVariable.data[particleID] = crustIndex\n"
   ]
  },
  {
   "cell_type": "markdown",
   "metadata": {},
   "source": [
    "# Material Graphs"
   ]
  },
  {
   "cell_type": "code",
   "execution_count": 26,
   "metadata": {
    "collapsed": true
   },
   "outputs": [],
   "source": [
    "##############\n",
    "#Important: This is a quick fix for a bug that arises in parallel runs\n",
    "##############\n",
    "material_list = [0,1,2,3,4,5]\n"
   ]
  },
  {
   "cell_type": "code",
   "execution_count": 27,
   "metadata": {
    "collapsed": true
   },
   "outputs": [],
   "source": [
    "#All depth conditions are given as (km/D) where D is the length scale,\n",
    "#note that 'model depths' are used, e.g. 1-z, where z is the vertical Underworld coordinate\n",
    "#All temp conditions are in dimensionless temp. [0. - 1.]\n",
    "\n",
    "#######Graph object\n",
    "DG = nx.DiGraph(field=\"Depth\")\n",
    "\n",
    "#######Nodes\n",
    "#Note that the order of materials, deepest to shallowest is important\n",
    "DG.add_node(0, mat='mantle')\n",
    "DG.add_node(1, mat='lithosphere')\n",
    "DG.add_node(2, mat='ecl')\n",
    "DG.add_node(3, mat='crust')\n",
    "DG.add_node(4, mat='air')\n",
    "DG.add_node(5, mat='temp')\n",
    "\n",
    "\n",
    "labels=dict((n,d['mat']) for n,d in DG.nodes(data=True))\n",
    "pos=nx.spring_layout(DG)\n",
    "\n",
    "\n",
    "#######Edges\n",
    "#anything to air\n",
    "DG.add_edges_from([(0,4),(1,4), (3,4)])\n",
    "DG[0][4]['depthcondition'] = -1*TOPOHEIGHT\n",
    "DG[1][4]['depthcondition'] = -1*TOPOHEIGHT\n",
    "DG[3][4]['depthcondition'] = -1*TOPOHEIGHT\n",
    "\n",
    "\n",
    "#Anything to mantle\n",
    "DG.add_edges_from([(3,0), (1,0), (2,0), (5,0)])\n",
    "DG[3][0]['depthcondition'] = CRUSTTOMANTLE #Normal crust\n",
    "DG[1][0]['depthcondition'] = LITHTOMANTLE #This means we're going to kill lithosphere at the 660.\n",
    "DG[2][0]['depthcondition'] = CRUSTTOMANTLE #Eclogite crust\n",
    "DG[5][0]['depthcondition'] = CRUSTTOMANTLE #Normal crust\n",
    "\n",
    "#Anything to lithsphere\n",
    "DG.add_edges_from([(0,1),(4,1)])\n",
    "DG[0][1]['depthcondition'] = MANTLETOLITH\n",
    "DG[0][1]['avgtempcondition'] = 0.75*AVGTEMP #definition of thermal lithosphere\n",
    "\n",
    "\n",
    "#Anything to crust\n",
    "DG.add_edges_from([(0,3), (1,3), (4,3)])\n",
    "DG[0][3]['depthcondition'] = MANTLETOCRUST\n",
    "DG[1][3]['depthcondition'] = MANTLETOCRUST\n",
    "DG[4][3]['depthcondition'] = TOPOHEIGHT\n",
    "\n",
    "#crust to eclogite\n",
    "DG.add_edges_from([(3,2)])\n",
    "DG[3][2]['depthcondition'] =CRUSTTOECL"
   ]
  },
  {
   "cell_type": "code",
   "execution_count": 28,
   "metadata": {
    "collapsed": false
   },
   "outputs": [],
   "source": [
    "remove_nodes = []\n",
    "for node in DG.nodes():\n",
    "    if not node in material_list:\n",
    "        remove_nodes.append(node)\n",
    "        \n",
    "for rmnode in remove_nodes:\n",
    "    DG.remove_node(rmnode)"
   ]
  },
  {
   "cell_type": "code",
   "execution_count": 29,
   "metadata": {
    "collapsed": true
   },
   "outputs": [],
   "source": [
    "#A Dictionary to map strings in the graph (e.g. 'depthcondition') to particle data arrays\n",
    "\n",
    "particledepths = 1. - gSwarm.particleCoordinates.data[:,1]\n",
    "particletemps = temperatureField.evaluate(gSwarm)[:,0]\n",
    "\n",
    "conditionmap = {}\n",
    "\n",
    "conditionmap['depthcondition'] = {}\n",
    "conditionmap['depthcondition']['data'] = particledepths\n",
    "conditionmap['avgtempcondition'] = {}\n",
    "conditionmap['avgtempcondition']['data'] = particletemps"
   ]
  },
  {
   "cell_type": "code",
   "execution_count": 30,
   "metadata": {
    "collapsed": true
   },
   "outputs": [],
   "source": [
    "def update_swarm(graph, particleIndex):\n",
    "    \"\"\"\n",
    "    This function takes the materials graph (networkx.DiGraph), and a particle index,\n",
    "    then determines if a material update is required \n",
    "    and if so, returns the new materialindex\n",
    "    Args:\n",
    "        graph (networkx.DiGraph): Directed multigraph representing the transformation of material types\n",
    "        particleIndex (int): the particle index as corressponding to the index in the swarm data arrays\n",
    "    Returns:\n",
    "        if update is required the function returns the the new material variable (int) \n",
    "        else returns None\n",
    "    Raises:\n",
    "        TypeError: not implemented\n",
    "        ValueError: not implemented\n",
    "    \"\"\"\n",
    "    ##Egde gives links to other materials, we then query the conditions to see if we should change materials\n",
    "    matId = materialVariable.data[particleIndex][0]\n",
    "    innerchange = False\n",
    "    outerchange = False\n",
    "    for edge in graph[matId]:\n",
    "        if outerchange:\n",
    "            break\n",
    "        for cond in graph[matId][edge].keys():\n",
    "            outerchange = False\n",
    "            if innerchange: #found a complete transition, break inner loop\n",
    "                break\n",
    "            currentparticlevalue = conditionmap[cond]['data'][particleIndex]\n",
    "            crossover = graph[matId][edge][cond]\n",
    "            if ((matId > edge) and (currentparticlevalue > crossover)):\n",
    "                innerchange = False # continue on, \n",
    "                if graph[matId][edge].keys()[-1] == cond:\n",
    "                    outerchange = True\n",
    "                    innerchange = edge\n",
    "                    break\n",
    "            elif ((matId < edge) and (currentparticlevalue < crossover)):\n",
    "                innerchange = False\n",
    "                if graph[matId][edge].keys()[-1] == cond:\n",
    "                    outerchange = True\n",
    "                    innerchange = edge\n",
    "                    break\n",
    "            else:\n",
    "                #condition not met, break outer loop, go to next edge, outerchange should still be False\n",
    "                break\n",
    "    if type(innerchange) == int:\n",
    "        return innerchange"
   ]
  },
  {
   "cell_type": "code",
   "execution_count": 31,
   "metadata": {
    "collapsed": false
   },
   "outputs": [],
   "source": [
    "#Set the crust material in the slab using shapes/function from uw.\n",
    "\n",
    "if not checkpointLoad:\n",
    "    #materialVariable.data[:] = mantleIndex\n",
    "    #lithtemp = 0.95*0.8\n",
    "    #tempswarm = temperatureField.evaluate(gSwarm)[:,0]\n",
    "\n",
    "    #At this point, we only have to assign any materials that are defined by setup shapes,\n",
    "    #the rest of the materials will be assigned using the materials graph\n",
    "\n",
    "    for particleID in range(gSwarm.particleCoordinates.data.shape[0]):\n",
    "        coord = gSwarm.particleCoordinates.data[particleID]\n",
    "        if gSwarm.particleCoordinates.data[particleID][1] > (1.0 - CrustM):\n",
    "            materialVariable.data[particleID] =  crustIndex\n",
    "        elif Oc.evaluate(tuple(coord)) and Tri.evaluate(tuple(coord)) and not Cc.evaluate(tuple(coord)):\n",
    "            #print(\"True\")\n",
    "            materialVariable.data[particleID] =  crustIndex\n",
    "        if Gc.evaluate(tuple(coord)) and Tri.evaluate(tuple(coord)) and not Oc.evaluate(tuple(coord)):\n",
    "            materialVariable.data[particleID] =  tempIndex"
   ]
  },
  {
   "cell_type": "code",
   "execution_count": 32,
   "metadata": {
    "collapsed": false
   },
   "outputs": [],
   "source": [
    "#Cleanse the swarm of its sins\n",
    "#For some Material Graphs, the graph may have to be traversed more than once\n",
    "\n",
    "check = -1\n",
    "number_updated = 1\n",
    "\n",
    "while number_updated != 0:\n",
    "    number_updated = 0\n",
    "    for particleID in range(gSwarm.particleCoordinates.data.shape[0]):\n",
    "        check = update_swarm(DG, particleID)\n",
    "        if check > -1:\n",
    "            number_updated += 1\n",
    "            materialVariable.data[particleID] = check"
   ]
  },
  {
   "cell_type": "code",
   "execution_count": 33,
   "metadata": {
    "collapsed": false
   },
   "outputs": [
    {
     "data": {
      "text/html": [
       "<img src='data:image/png;base64,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'>"
      ],
      "text/plain": [
       "<IPython.core.display.HTML object>"
      ]
     },
     "execution_count": 33,
     "metadata": {},
     "output_type": "execute_result"
    }
   ],
   "source": [
    "figMat = glucifer.Figure()\n",
    "figMat.append( glucifer.objects.Points(gSwarm,materialVariable, colours='white blue red black'))\n",
    "#figMat.append( glucifer.objects.Mesh(mesh))\n",
    "figMat.save_database('test.gldb')\n",
    "figMat.show()"
   ]
  },
  {
   "cell_type": "markdown",
   "metadata": {},
   "source": [
    "## Rheology"
   ]
  },
  {
   "cell_type": "code",
   "execution_count": 34,
   "metadata": {
    "collapsed": true
   },
   "outputs": [],
   "source": [
    "# The yeilding of the upper slab is dependent on the strain rate.\n",
    "strainRate_2ndInvariant = fn.tensor.second_invariant( \n",
    "                            fn.tensor.symmetric( \n",
    "                            velocityField.fn_gradient ))\n",
    "\n",
    "\n",
    "coordinate = fn.input()\n",
    "depth = 1. - coordinate[1]\n"
   ]
  },
  {
   "cell_type": "code",
   "execution_count": null,
   "metadata": {
    "collapsed": false
   },
   "outputs": [],
   "source": []
  },
  {
   "cell_type": "code",
   "execution_count": 35,
   "metadata": {
    "collapsed": false
   },
   "outputs": [],
   "source": [
    "arhennius = fn.misc.min(ndp.up_visc, fn.math.exp(((-1.*math.log(dp.E)) + (math.log(dp.E) / (temperatureField + 1e-6)))))  \n"
   ]
  },
  {
   "cell_type": "code",
   "execution_count": 36,
   "metadata": {
    "collapsed": false
   },
   "outputs": [],
   "source": [
    "\n",
    "#Psuedo-plastic \n",
    "ys =  ndp.cohesion + (depth*ndp.fcd)\n",
    "#ys =  ndp.fc*lithopressuregrad*(30e3/dp.LS) # this is the byerlee strength at 30 km\n",
    "yss = fn.misc.max(ndp.cohesion, ys)\n",
    "plasticvisc = yss*(math.sqrt(2))/(strainRate_2ndInvariant*2.)\n",
    "plastic = fn.misc.max(ndp.low_visc,plasticvisc)\n",
    "#combine these\n",
    "mantleviscosityFn = fn.misc.min(arhennius, plastic)\n",
    "\n",
    "############\n",
    "#crust\n",
    "############\n",
    "\n",
    "\n",
    "\n",
    "ysc = (ndp.cohesion/100.) + (depth*(ndp.fcd/100.))\n",
    "#ysc = ys/100.\n",
    "ycs = fn.misc.max((ndp.cohesion/100.), ysc)\n",
    "crustplasticvisc = ycs*(math.sqrt(2))/(strainRate_2ndInvariant*2.)\n",
    "crustplastic = fn.misc.max(ndp.low_visc,crustplasticvisc) \n",
    "crustviscosityFn = fn.misc.min(arhennius, crustplastic)"
   ]
  },
  {
   "cell_type": "code",
   "execution_count": 37,
   "metadata": {
    "collapsed": false
   },
   "outputs": [
    {
     "data": {
      "text/html": [
       "<img src='data:image/png;base64,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'>"
      ],
      "text/plain": [
       "<IPython.core.display.HTML object>"
      ]
     },
     "execution_count": 37,
     "metadata": {},
     "output_type": "execute_result"
    }
   ],
   "source": [
    "figVisc = glucifer.Figure()\n",
    "figVisc.append( glucifer.objects.Surface(mesh, mantleviscosityFn, logScale=True))\n",
    "figVisc.append(glucifer.objects.VectorArrows(mesh, velocityField, scaling=0.0002))\n",
    "figVisc.show()"
   ]
  },
  {
   "cell_type": "code",
   "execution_count": 38,
   "metadata": {
    "collapsed": false
   },
   "outputs": [],
   "source": [
    "# Here we set a viscosity value of '1.' for both materials\n",
    "viscosityMapFn = fn.branching.map( fn_key = materialVariable,\n",
    "                         mapping = {airIndex:ndp.StAeta0, \n",
    "                                    lithosphereIndex:mantleviscosityFn, \n",
    "                                    crustIndex:crustviscosityFn,\n",
    "                                    mantleIndex:mantleviscosityFn, \n",
    "                                    eclIndex:crustviscosityFn,\n",
    "                                    tempIndex:mantleviscosityFn} )\n",
    "\n",
    "densityMapFn = fn.branching.map( fn_key = materialVariable,\n",
    "                         mapping = {airIndex:ndp.StA_RA, \n",
    "                                    lithosphereIndex:ndp.RA*temperatureField, \n",
    "                                    crustIndex:ndp.RA*temperatureField, \n",
    "                                    mantleIndex:ndp.RA*temperatureField, \n",
    "                                    eclIndex:ndp.RA*temperatureField,\n",
    "                                    tempIndex:ndp.RA*temperatureField, } )\n",
    "\n",
    "# Define our gravity using a python tuple (this will be automatically converted to a function)\n",
    "gravity = ( 0.0, 1.0 )\n",
    "\n",
    "buoyancyFn = gravity*densityMapFn"
   ]
  },
  {
   "cell_type": "markdown",
   "metadata": {},
   "source": [
    "## Build Stokes system"
   ]
  },
  {
   "cell_type": "code",
   "execution_count": 39,
   "metadata": {
    "collapsed": true
   },
   "outputs": [],
   "source": [
    "stokesPIC = uw.systems.Stokes( velocityField = velocityField, \n",
    "                               pressureField = pressureField,\n",
    "                               #swarm         = gSwarm, \n",
    "                               conditions    = [freeslipBC,],\n",
    "                               fn_viscosity   = arhennius, \n",
    "                               fn_bodyforce   = buoyancyFn,\n",
    "                               swarm=gSwarm)"
   ]
  },
  {
   "cell_type": "code",
   "execution_count": 40,
   "metadata": {
    "collapsed": true
   },
   "outputs": [],
   "source": [
    "#We do one solve with linear viscosity to get the initial strain rate invariant. \n",
    "#This solve step also calculates a 'guess' of the the velocity field based on the linear system, \n",
    "#which is used later in the non-linear solver.\n",
    "\n",
    "solver = uw.systems.Solver(stokesPIC)\n",
    "# If not doing a restart, do a solve on the non-plastic system\n",
    "if not checkpointLoad:\n",
    "    solver.solve()"
   ]
  },
  {
   "cell_type": "code",
   "execution_count": 41,
   "metadata": {
    "collapsed": true
   },
   "outputs": [],
   "source": [
    "uw.utils.MeshVariable_Projection?"
   ]
  },
  {
   "cell_type": "code",
   "execution_count": 47,
   "metadata": {
    "collapsed": false
   },
   "outputs": [
    {
     "data": {
      "text/html": [
       "<img src='data:image/png;base64,iVBORw0KGgoAAAANSUhEUgAAAoAAAAHgCAIAAAC6s0uzAAAgAElEQVR42u3d2XMka3rf9+d5Mwtboxf03o2qwtLncM6c4SwkNRxyGKOQbEmkw2FJDjt84StfKUIXupMvZdGS73RhX/rCEf4DTIlhK0Kmg2I4GCZlKSgNZ4Y+M4fndKNQC3pDo7uBbmxVme/ji7cyK2sDCugV3d9PIPrgAInMrDeXX75vvvmmmpkAAIC3y1EEAAAQwAAAEMAAAIAABgCAAAYAAAQwAAAEMAAAIIABACCAAQAAAQwAAAEMAAABDAAACGAAAAhgAABAAAMAQAADAAACGAAAAhgAABDAAAAQwAAAEMAAAIAABgCAAAYAAAQwAAAEMAAAIIABACCAAQAAAQwAAAEMAAABDAAACGAAAAhgAABAAAMAQAADAAACGAAAAhgAABDAAAAQwAAAEMAAAIAABgCAAAYAAAQwAAAEMAAAIIABACCAAQAAAQwAAAEMAAABDAAACGAAAAhgAABAAAMAQAADAAACGAAAAhgAABDAAAAQwAAAEMAAAIAABgCAAAYAAAQwAAAEMAAAIIABACCAAQAAAQwAAAEMAAABDAAACGAAAAhgAABAAAMAQAADAAACGAAAAhgAABDAAAAQwAAAEMAAAIAABgCAAAYAAAQwAAAEMAAAIIABACCAAQAAAQwAAAEMAAABDAAACGAAAAhgAABAAAMAQAADAAACGAAAAhgAABDAAAAQwAAAgAAGAIAABgCAAAYAAAQwAAAEMAAAIIABACCAAQAAAQwAAAEMAAAIYAAACGAAAAhgAABAAAMAQAADAAACGAAAAhgAABDAAAAQwAAAgAAGAIAABgCAAAYAAAQwAAAEMAAAIIABACCAAQAAAQwAAAEMAAAIYAAACGAAAAhgAABAAAMAQAADAAACGAAAAhgAABDAAAAQwAAAgAAGAIAABgCAAAYAAAQwAAAEMAAAIIABACCAAQAAAQwAAAEMAAAIYAAACGAAAAhgAABAAAMAQAADAAACGAAAAhgAABDAAAAQwAAAgAAGAIAABgCAAAYAAAQwAAAEMAAAIIABACCAAQAAAQwAAAEMAAAIYAAA3hvxG527qlLEAICzyMzOcACLyFf//XfZigCAs+WX/vFP3/QiaIIGAOAdIIABAHgHYopgpGLDP/exgffhYORIBAH8UdDCYW8c/MA7PRjDYchlMQjgj+uwB/COj0QrXBPriDCe5Mi1M10CJ2wqwFnBPWAA7zVTMe3mUB7GesIc0rN8ST1hsirVBmrAZ1oi0VABpRQL8O4PRh08GE8RNh9DPpHBBPBZvcBs61TdLTaict2VD3RaRC76F0u+VfWtpXTDZcc/uzgwwTGl/fXYow69/Lea/WjLXa5H5XpUfuCuh59U0/tLvrWUtq76pyeqGn40kWrj/sbe1vrRDE4An34HmrP9b6RrM3Y4Ex3WXbkRLTbjxa9tZclvVF2r6ltLfmPW9umWBUxwTOXDCKn1ulL1HTjDHaxMRUXE5KbfnLHDWTucjQ7qrlyPyn8a//p5e7nkW0vpxlLaWvQPP/jz/kXbue6fHD3NfXdzV+cmCW17s5v7w4vhnxHAb+VkUdhfIvGrafNO2hCRp25hWy8Uu0OribOhswiAEYeVZflqKjrykBnoYGUiJupVVEXNLsrOd9Ivvpt8YaL1aLHuyvWoUnflPyn9+r+c+hvFAP5QXbQXVd+q+I1qulH1rSnpZOXUiz3vdNNdbrhywy3edzephb4+v08Avw1565j277qX/bPL8ixLX+273LMxbWoA+utF3WA1saHB4bu9q6xwjKmpiWnvZ6rmzFbSZmQ+Eh9JGklaj8qNaDHE0rS0i5WvgRZR04GD13ToSD/6WG5L985Ukp0w52236lsVfz+f5qlearjyI3fttdeAU3GpRF6iVF013ZiT/eKny1sawiftaNx0twdmMm3tqm9V/UYsSfjJSz3XcItNt9g719nzSrpx0x4P1GSPKJhEo7orN9zioU6Hn8zZftVvVNOWyy4CtvV8PSrfdzfzv7rqt6p+45ptvemd75Fea0SLT3Uh/0nF36/61rztjqx6DftXb/4I+agDeHjv6jZ/iVn/qSKr8qoVLj8BjDusNKTa0K3gkYee6eBhpWb5PMTU+v4kdIvuTX/Db4aAueq38utjLRy8XtWkG+qaVc21UEc/OobbUmpE5YZbDLXMRlQ+lKmQ5ZV0Iyy6I3HTlRvRYpis6RYPdeq1XsuYM3Nibuj1AM7Cr7zaYMkMuO0fhoCclk7dLYbPElY4TDBl7arfqPqNStqalrb2tsWIjZhKVI96ZdJwiy/1XPhV2d9f8q1quqFi2TTlRrRYzxY0awd5zT6/LJikEMZd5A2crUXksbvaXbfudiln1arnYZPdzlpQxsXw//QBBLCOrynmH/vYCSY77Mc2C49bUL4D1aPyrsxNuKBrtlVNW0t+43b6aJLL51OU2LE19RMV1Cn+apI/eY2fepLZHru3TDjNRDvSmCP71Urbsgl0wvW34U5M/Sn0Jg6rVyn/rM4qoRtjwy3u6Pm8BhbOyLNyYCIvdS4cdw23mEoUamBLaXM5bZX9gzC3h+5qPSqvu/Ijdy0scyndWE5b/1nnj2JJ61F5w93MFzplfsqnU973Vw37Vj6vJvaq5tY9p2vhAwwXT0kOP/f3Ppd7IvJYrzRc+am71Ktfej/l0yu2czN9+v3Oz7y4cN5vv44ALjYNRGbha2CacvqwkjwQ+bM9nWu4cjO6fcSspiydMn/Jv1hIv/yefCkiG+5mw5VfZNnpxE/5dNrSKcv7nOvIUI/FfyNZ/4atq8iWW2i4xU13xbLyjr2PzV+0nSt++1ft5yISrk72dDYr1XTap9M+fUNPmpT947I8/i358YFMh0sEn23nkvmST0vZ3vIu24je6OuWVPWr3/2uHnHc2nFXMzLpHY1jTkxDz/Lnf9Vwt+tRueHKdbf4xF2ZYPl60XaW0u4JZcm3Spa8xvN+fgk/8jMOrP/AiWaS4QlOt6DhknzNMWxHfcaBU+SEq/c6N8fEu+XAum3rhU13uVjO1/zWRduxcFo7ev17n0ILhWA6cSHYyQ+rCcv/iOINrUT33a38gYJH7pqKVcMh4zeqaeuKPT+Uqfy4C5N1NF5OW+HIWkpby2mrLVP1qLweletRue7K61H5sj1fTlvLIarTh8XVsPH17CMqhZNMM+IwKm6PIyZ4XQeHDh95Y6+d+i+wbOhQ1RErbEfVMY9etA4turi21j9XPW5BbySGjttk4xpE/9Z/93+86dcRvvEA/vKffE9t8Ggt9I0c34IwfFIYTNqR58djF2QDc1axUPbbej4EcLgu1vxcku2i+QW+ZS1aKlZNN0qSTHi2t+Pa7rKuKDrQ8qPj5zF4KreJLmaKCxqeuLBoG64I6ZH1JZvsiLBJLxKy8s8rLlmz4cj2qOKGPum6af+BODLerLD+2t93t3CK6S16Wy80onLddRtaEomu+a0lv1FNWwM3EfvX37J+w9123O4uV+zKZONOYmP39oHy18n205Hlr6PKv3BqD9OYiryUcw/dNRG1rI/VZXt+2T/r7dtmj9z1btC6cvimkt5fTlvLvpu1N/1m3ZVrUXk9qqxH5fWo8lLnykOdsN72OV2OK+XX37x/4nWbcD6vpRvzKYrlvdpkA/7lP/zPz/z7gP9d/CtLfuOmf2x9t1t6h6ofWTo66gbtQEFqr1lPslFytNDmbf0F7bt/2tcdo3jCvWQ7C+lOfgLV/pYr6Z4B81tK4YSi9poqXU/1UiMqP3ZX80anG/5x1W9csp3+5sfeEhKJwq2XjpbCes7ZfsVvVP1G94OPCuNNd6XhFrfcwrgLWye+6jeqvjVjh91sNytuMutdu/TdYbCTH/k2ovLU1+S1rRfqUbl7BhcR0at+a8m3LtuzkE3af62dzySs26ucB/PLhIE6VuGp8TjcYepo9ziatf0lv1HxG1K4eCr+1X13c1svtHXqUEvttNTWqWraKjbBWXf9u6sf/tPWqZBMqbgQhKET0KJ/KFYs/+FtpMUrleGCGvPBe5XC53qhMab81VTH7PDFw+e8vLyQvsyvHkz6L/vMVOSmfzwlnZJ1pqLOlHRK0qm7ckdLnbTUkTiRUiKlO2l9Sjr517qrfBWtCHCWvfEA/p9n/ptqobU2nNaH29YGOjdZL4b7punGQR6fqn152f1GZVTfCsvP770GOs1rMtofV6H+oYVmCxvR3KshjMOU1q2evFKj7L7MhK4KDVe+bM9CEOYdPQbWP+9uct/dCLed9nQ2/Ek13QjfnLeXA8Ub+mmEbpChe4LvH3JIQwCnre6s/EZ4EtH6K6/dArfhjzzcxjXcij/wrovB2YZOcPlUbZmqu3K42pi33SXfCrfhq75VTVtOvPTvUfm66Wm6qx/f0aO3R6mYSl7++zrbW7e0VfWtoxs8BtsDtHenVUy7DSKF1Wm526ExNtFoKdtAS+lG1bfO2V6hbDWroFtWex0+ItTGN0Fnl7bdwQ0Ps7toI8s/Eq8jb4hMUCMZ/leGb98WvrRwzQsQwMf4rw9+Pz/RhJZdZ5YHXu/kq0Otmr1OH8d3xtJeZhfvMmS9HAvtCHkXGBVJJF53i+vdca9mNLu7lp/HhlstTPSabYU7VTf8plf11tdAF3I9pEU96xY4LYdLaWsp3VjyrSlrj/wI1+zZNf/s1+QvOlIKGZz3ooxNIpPIixPfa+oUiaz9aVL7VGoisumuhk4Q+Qwjs8hbyfxAJ5Nb6eatdPMH9pNDnWm4xYZbzCtww0HkTJxZbL5vi4hK1rM0VVVR7TaZmhPrv6uho+682Ji804FGDjW5bNuX/favyBehb0s9Cp04NMsrVdHILG/MGKhpWf/JPfQgHbk7PXULIdvuuxthe97wmyFprtqzXsU6LMvERGJpf8PXviE16Xa5XHySdULprp7oJT92/SOxyCz8K9I7Hry4elSux+X1qLwrcyoyY4fLaWslbf619v+7pQv1qNsJyLKAVFM3XAjFkuw13Q9NM761Li//78kXXqKGW6xH5X2dsbyjsamIPnA3QgX9mV4abrNX6WupMh28ARH+/6o9W05aP2z/h7/j/zAMgFWLyutR+Q+nf7SnMytpazltriStlbT5q50/8OLWo3IrumUTN9KeqJ3mzbUhn7bZWe3I1Sp2Vx45oY367PqamruPXZC8r+MmHP0Z//5baBh/0/eA//U/+U+lUH+1vnPtqKrJaYc1u2LPL9gLK9wwe+Su7ctM/rzBcDNbbEnZPwjnjnDy3XSXZUT1rW81H7sr09Ze8q1uh5G0teRbJenkyRTO1I1oMe9dUo8WN93VpUIHk8v2fPSHHntjb/iG28kLSkfUv47fQUct6LztXvVboSneq5jollvY0fMq5rKU0r6/0FF1yCPXv7+P0tAWHHnz20TEiVXTVpb5aiqHOnXf3RxzT73rsn9movXsNmTdlQ906pptFSqarZa7lUo0Zo8aTp6BB8dHXM+NW/+ltNWMbq/ne2ZUfpztP8tpa8m3wj3UEQU17gJjkmmOLH8ZU/4msugfPtVLodBCT1c3oqeCDh5V/ZNsuQUVW05b4VIj/PtC59ej8npUrkWV9ahciyu30scraXMlba4krUr6YGRTikwcNjbx4XKi87n231CxE8/PBmYy2BA4PoYHbsP3TrZa6MIieW3B+u62jF/bIzt3Fg4ryx/6Htwi7yiAR2wRG33eHeGv/u7/eeY7Yf3df/Z7Q+fdEQ9XvNKBEk6g9jxv6K74+yby0F1rdE+mi4/c9cFjXiW2NHTxCH09OlLadFd6F/aF5y66B4CGAL4aTgrrrvIwurqchvbebqvjVdvqtmlnnWiybjjhTLpYd+Vztjc2gIsf+BSnh0naCl7HeWje74YriaXuKNlJXoOsR+Wmuz2y/WDEDfij10RHJPeovaV/jzLLettuVH3ror041Kl64WnFPZ0dGcBLaWvZt5bSVjl9UI8WD3U6r09PSbuatjbcrTxmnurCsRk8fPWmk63/ctYNeCltiUjeEzhE8jnbu1IM4BEFNbT/jFrQZHvLMeVvIovpw3xnmLe9EMBq4rJ2keK1abF6XTzQnriFWlSuxZVaVGlGt5fT5kraWkmaK2lzJW1d8c9rUbkWVWpxJXzT1lI5fXDMnYIJ9uXX1a3pFDcyTjGTSS6bdYLj6vibRBMU5qg/OHZB71V195jP+Pv/7X955jthVfx9fSs931TkqV5uR9NtmWrLVDXdWEwfL6aPP0vW6tldVT/04EdHSnejlbZMt2VqOW19ntztdvLMunrKQCcs1c/lrok81wvrWZ/MROMH7lZHptoy1U6n8q6tYY+87Lev+O1fkeJweuWnbkFGtG+/pXYbO+5ENMlyX+r5r6M7bZluy3Q1bV1Pn15Pn35T74UrnnpUbmfj47ziFcIpTqMmUd1V2zLVkamqb93wm9/0dz+Te41um8TiU7cwfPA91cttN9226bZML6WtaTuUwrWXiSynG8vpxiO3Fno1b0Q339BR4y2quWoo26W09SudL77X+cJUw6M49ai8Nbz+Iq/pUvY0gXTf3Q5ru+xbnydf540Erm9AykLbwNBQGFtuYc4O5uxg1g5m7aAWlQ9k5kCmD3X6UKZXpPVZspb/dtYOalHl5/GnApxlbzyA/8He/6qFTlJ5x6ejT/V2+jNCr80hltRErsvT6+nT78tfpBINLjy7+subJV12z7jYzNi9r2xmqmZhhB5dsJ1L9vPvJb8wkWyAuu6cS+OfK/8kaXwiDen9SX8A9z3y1K195C08aiPK5uiSHH0Kzu+P9o320N9gJX2P+ugxt5ZCaXsRuWQvLvlffFd+MfwZJ9nuw7O14yrQ42fbtyeE///U1z9N6iPXbahpSOLu6Il91T4TKftHZXn0W/LjROKJOn7r2Ia78WXbV/6xeRMx0zvWWE2bxV2u2KJ+bDmctPyP2Md0fFNoXLjvqwMBHMaiKvyqN0346vV/HNjwYYLuN5y4QQBPZM63h6PunbQ8xDJm3BMzPfKc1DuDmGW3sa37d2qhM85J1ymSzhHnvYFuFzoiIKV3K09P38k3j+HxtePTb7J45Gd8X/b7zjHXcwNPNQ0UW3cm7YmuHW04/07Q0pA9BpZdB6iaSOnku9w7OeqG989QDi90PrQkN6LboXSvps9W0+aP2n/2t/2/XosqtbgS/v1XM38tkWglba2mzdWksZo0f9D+2YFOr0WVZnSrV7p6xHqMuRsy6V3OvoNCj5ta30gxHrW2ascvN++jWvhEJ35Ib8TK2IhLQCv2dc2vsSa/4pvgWlaH7lRP+Ci2nWSr/b0PIIC7HWjf+7cHTXJZPdCVxvSNPg5hk67t4MDVJ1wK1YlX2hST/sVr2//PSP2veMYfvr1y3l4up91ntEIfqz+c/tG0tVeS5mraXEmbq0njbxz+6ZZbqEXltbhSiyo/jT/7SfzNlbS1mjRX08Zq0vyN9k+kf5yQo87CZuNGdy9e5k5yJXTih+5ebeMPP7Q5vLbaX1UYdxFYfLCz0CRpE3To1GK5WX+3rewKwIYXlK/7yF63w4MqHbtzmw5eKB9xf3N4TB4busAeucn0gwngM3OOVf3Y1tZe1xkCGH+l2D1NZyN5Zd0wbd52v518+Z3kSzWrR4t5B6t/M/Wr/zz67dWkGbJ2JW3+9sGfzNtuLa5YNvSH5g8ES7GP79juxsP1Vx0cZGVk889kn/FVL88mGqR3xBPtNuLNysctd3A+euJ17naftvFPcpv0NfkUlzXYG+A0e9QHdYC88QDejC41XDmMu8RZ/v2v2rGNXsWc7S+nrVv+Uf6T0Fnvibv8AZftYvpgOW3NyGH+E9fr/CwqcqDTtajciG5L1qPivO2uJs2bfjPc8V1OW+dtd9525/3uvO2ds71aVN7VuT2Z3dPZPZldTZu/3P46jLiSjbKSneK7bxsuDAMyNPbK4LBk47P0uEe0jh3Fc5LtPOmdh3GHqmWZnH18HUhHGd2tYfDWvomqjliYHXdFYn0z6a6JWvdSqPt/3ZxW370AEy3chxm4+lc7fSTbUHl1R52LbtSiyq6bzZeynLRW0mZv6P7eC7K6f72nM7Wocj+6kc3pqzMfwHtRvOfizehC/vITL44zNT7gAF7qPtgWnm1zibrnbj4bxLj84e3/i/5heH53OW0upa0b/onTMAxZrxe0iniJQh13Lao4sdVua3MjfNMdk0SsN6JIHuciziQy76RviPLCKCPdrpF21GlaZcIeDfpK7Ub2SrM/geK9vWyo8KybW/hZcVCY/nEDezPRcL00dl2H783pkWui/Z068zA2Fd/tYDd4e+KIF0S+SmNCGIvgobsa+hNsRDeW043CPY7mNf80ZLDP1qejUce5XTcTOiiI/C9vp4nojc1dtfaPvx0WcKjT4QHKPZnlTH2iw/IUPT5eSycR7g6fejs68SGTLtl2KMYDnQkB/OHt/63oZri8mLH2UtpcSu8Xq5QqMmuHK2lzJWmupK16tLhWeJz3kbuymjZX0+Zq0lxNmneSxjnbr0WVtbhykD3GdtlvrybN1aTh+u/BaqFbkA0NVTu6BvwK8TdJ/x17fUf9SVfm6LGudKieP3hpcpKVnOylC0NDC49aULH+qhN015p8i+QF8sxdDLucz/aPm35zJW1W0of97QG9ywIvrhaVf/S7f3DmB+Jo/aNvDRQMp/XjW7iO3p0n/pNj9tGJxyBgk72ujfihFmbdLeaPxTeixZFtA6tZBq+kzav+2bZeyDtY1aLKjjt3M30SMvhO2lxNmjN2KP2Pn9WjxeGXDw6812ugeC/ZznnbLf7wsbt62P+m3sX0oSs8IuHFDTzhPW3tMBz68Kn/dNfNk8fwc3fhhc4Xf3Ldb03b4eRLDLcAHmeD1IZlnbeXl/zOSSOtkb1pOPxvLMmt9HFxsl2d3cpGOOi+4cbvhOHoj5j58K3i4QEbdESDxvDDctrfcGLFrvh9TRcmx9+XUL31T39+5gfi0KHHN7jLeLorXj35n7yG0maTvdaN+KEW5kraWklbKv/2uZ4PATzwbIz1haWYyCW//Wv++ffb/5+K1KLyThYzwzc785OIV70XV9aiylpc3Xbzk+THJdvJm8fDyFmJ06a7Ea4VHrurIrLoH2TTtC7Zthe376bWXbnbYqFz03K4kraWs6uHkiTF6maoM+VNtWMqxHp8TW7UJIm6R9HlcHHTcrdE5Lp/ko/WeSO/LBjVclvsgv7SzYXe5rWonEjpvL3sDq+dNpfTDTn+TakiIqm6bCaVFzofS5IPGrqctmbs0Ktuu/nuuKFRxcRdsu0wgvdKVv6j56/qCw84edHuT1RtZFXezIk5M2fishv3xTfUhQDOhmPrPmJu+Tsxw6teem+ZG9XM/lYeN3jjNeCNf/Q5J94TXQjbB7QgNuIH84mOq/Fb/yuMio+H2qFMr8WVVnQzz+AL/uWdpHkj3VIZPIfmM9mIrtfiyp7O5BmwnG6sps1mdGstqtyLK83uyxj02Laii/5FPujsnO2LyBN3ed11q+zhZSSL6aNwD3up+zZPrXdHnC0/iK6LyJS1V7KwuZoNBTr4fO1RDzQel8Hjf7+t5/MGhl2dFZFrfit/QUUsyUA45eff4kzaOlXLRtV+4hZEZN52Qzoup60LWT31WI3odphJeA47tjTL4OZ1vyUi+zqzHlXCy5ufuQuh/LMRvJtztj/8UVXM+vrJD8bwyFakkK/OzPW/7cMKr+bMRmQzl3f/0t47ZIuvihnuQXD7f/j5mW+CzgPYqEedtMHgFWq/p1vQW1juR5PB9sEU5vDDlOMCuG8UuWwMNRU71Om1qLIWV+7FlbWouhZXSpbcSRp3kuadtPFJ0ryTNCJL82pQ6LBzP7oe/io0Uz+Iri91H0zqPp4UXmw63MB49Og0IYALsVQaGBZtYAIR2dPZgS2aT/P2N2pYmdyUdUIAn2hQ6yM+0UlncuqiMxkRq6ceP3X8mBtq4/fko58/Lv/TL858E/SJzvh4r4qOTUZhPnMXQ3PiprsySSdiNXHiw63c1bQZBgGdscNf7nz9nfZXJm4trqxFlc3ocmgJfKlzL3X2pc5dkJe+vxXRRLOmQjXRfZ3Z07ldN7frZ1+62V2bXUi3JX8SaaAmamNP4gO/KVmn1D8s2vB2mh0fTm9/ow6vzCnWoZCCJ2YTFMskC9Kxo8adxvg/NO1/kdSo8ZPy0VLf9gUVA3EAGGvBb3ek1JZSR0qhUXF3qN5TeG5SRMSJhTEjQ1+q1bSxmHXVicT/Umf9s3Ztx81vu/P5QyDbbr7kO1PSDrkbXnB5yz8+TKcOdeowLR1qqZ2WNqIbU9aeijpT0pmyTsk61/2W9EY1x0QppW94/kfUSt/hpz7pVfLbCWMCGMBRrvsn1/2TH3R+cqhTtagy3PDYcjfXo0otLq9HlbwvVfZMpznrvuNk4OuJW7gbV++WquvRbVO94p+FbtKraTPvchw6RpnIc3che3ipshZV/mTq187ZfngrcPfmbtoqZbdCJzwDn/QM+27bMOzYV3lOPBN7tf74I96w+ZoWdKItohNsVu11+zuxt7O5CWAAR5yGer2KZu3wc393eJrvy19ot29OeT2q1KPF/I1G2T3gqXtx9YG7FvJYxS76l6tJs5rer/qNu3H1bly9F1f/n+m/Mmf7K0lzNW2tJM3ltLnsW1PWMZHz9uK7yc+/l/xcRGrZqxqa0a0H0bUtd/Gpu/TUXVxOW6ET0KgPMbKnq53opG/Z2FPvaEMUX6usp0uIfCY2vlhOtCbjiuV0CwojZ50orY/erKcuqLe3WekFDeDoAD52lKLiNC90PnsDafeHU9a5F1fuxtV7ceVeXL0XV6ftMAyAtZp0a7217vNF3X8fuyuhXrvkuxXca/6pZCNQhjm/0HMDldzztssmw+uy+AE8BwzgzMkrIs/chfA47JYu5IF65J8NPI80+iWkO25+x83v+Pnt7Jvz/uV59zL8e/tqJGIAABJSSURBVMFePpGFF+7cjp17YfMvdP6Fnrsiz1yYY/ZW8TxuufuLM4oABjBc8S02BqqJ7rj58HDnedt1/dWC4aENH0TXij+ZscPLfjv/35J19nT6QXRt1g5m7WA2Opi1g5W0eTPd3NOZPT+zl87s6eyhlopPNBWzlsfjQAAD+JAzuD/1evKX8oZYzcdDCA3RXtzduHqvVAk3d9taEpEFvxMe/F1NmqEGHJqj/3j613/P/U4+SuVy2vxPDv94Wg7Xot5Y0CISmUWFlzSMGmULIIABfEAu++2r6fNld78W3V+P7i9F9/d0JtRKncnldGc1bUxZkg825MxE9Ea6dd1vXU+fXk+f3i1Vn7hLXsWrelVTuZM0rnae/ceH+iS6dC+7Mbzj5n/qvvEouvw4vbKSNj9NazPWHrlKWd9aLQz4RAaDAAZwBg2NSSSF18mJiFxPt26mW79lf96ReF9npdAhq1s3zQJYxcTESbfCOjAwsldJVDvOdcSZyAXZ+V7yxXeTLxKNdtzgWNDHharREA0CGMDZltcgd7U7ZP9jd2XgCU4VcWZO5Ga6uZo07yTNc7aXD3ytKmZqakNvqzcROdDpX8Sf/CL+ZMYO84d9w1O8V+yZiUaWLvgd490fIIABfMxJrGJ7OhuS+Lm7MDzNnaS5mr008E7SKFmSv3nGmUXir/mtbT+/7ed3/Px2Ot/W3nnmiVt4MrXwR/rDhcJ7csINYBWfvwLeCm+GpYUZBDCADzV3R38/komG3lUicsU/v5M0ikNQqUkkfjVp3Ema3+p89bf3/6ge32pFNwfe47vj5sPzvn809cNtd34l7b7pL7zyb8G26VoFAhjAByuRuBaXN/VKHrphfMfF9NFi1P167i44O+Zuaz26vR4v5v/rxFrR9VZ8o5ncaCbX76TN3+j8uRRv7mbvqd10l/ORN57phWfxtx66q4/Sa+E9tdNjOmEBBDCAD8GumwtDSNaiyrS1syeCmj9o//S/SP9g210I71stdHIerC7X49t348q9bETJl24u5KupeNVENdXC62iy9BWRBXv2a51nv5r8RfswzjthAR8PhqIEPu5TgMiBTHXfoB5XwjvbO1oKXaUu+Z1sMovMnMmtdPNO0vgkac7Y4cCs7sWVbMjJ6t24+iC+FrL8dvY2JMli+ILthpcoXLIdobkZ76W3MBQlAQx81OkrIpI1Mu/pbK370qFyLaqM7IRVsiQE8J2k8UnSuJM0S5YUw9WJN5F7pRDDlXtxtdX/vsKg7B8uZ68zWklb5+0lmwMfWwDTBA18XPpfOBMe3u1ejDsxFdMjTzodjb8srX5ZWhWRG+nWJ/2dsEREza+krdW0+b3OF3/34P/qBXBfb2YtPHQUvmc8DXx0CGDgY6v1dgdU7khci8vP9JJ23zJk87a3mjRvp09upU9uR5u3483nesH15+KD6FroAi0ij6Irj6IrA/N3YvX0Vj29uZ7cWk1vrSTN3+r8h7x+3P+NZsNLqp2Fl8cBBDCAVwngbgiqmBPZcfO1qBKe+j1n+6vhGd+k+VcP//1/tf8H23pBJe+EZSryMLr6dVy9G1fvlqp34+pTd3HcckzFi3rVVI9/uInRN0AAA/iQWaEaGknyaVL7RmdtX2drhQGwEi09dlfmo73ztnfdP8l6QYeRsOxG+uTbnb/0ovX49t24+nWp2pFYtO8N7Wtx5cvozp+U/kp4wDf0t1pOm1f9MzYBULhKpRMW8HEIParyJ4JKksz7vXwM51DBDQ8JdV8CaNLNXTMnPnwjot03K4iG9ys8yzpqmaioqFhH4ntxZS2urEXVtbiyEV2/lW6GDF72reW0dcU/69bFjbov3lN0wgLw6rXebsZt64VaVF6PyutRJQTwatJcTZp30kY5fRhi2LoRLCaqKt4sdI4yU+kND60hqp2YmLzUc+GNRmtxNRHnxEKV9/udn/6dgz8MAVy85A9fbBeAAAY+cHmsLqUbV/3Ta/7ZVf9sPaqsR+Xfm/nlSNLwmt7VNDxZ1Jyz/bxjlIh40eL7/x5FV2vxou/2n1LfjdXQjcrq8WI9XlxOby+ni/X09nLSWkmbP2r/GVsBIICBjzSDRURF5m3v252//E7nSxFpRbdqUWUtqtTi8r+d/u7/Fv3Onezp3k86zTtJYzF9VBwc2kS9Sqra0fhuXA1jbmwzghVAAAM4Pomztl8VuZU+PpDpfZ0+SKcPZOZAp+9H1+fs4Jw/mIsO5mz/nO2LSHj1woFOD8zKsvGcb/rN1bRZSR8Uf+V5qyBAAAMIXug51fDIr6hYyZLztnvB757Xl+fdy/N+d9/NDryS94Lthq/H0eXiUM+5GTl8oede6LkDmV5Jm6tpczVpztm+V+k2S2cDQQMggIGP1Ja7FMZ8bka3VaRknXDr928d/unF/Re1uPLYXc1fvRBGqIot+axT+0anZiqP3JW7cXXXzVnWSyvMthnfuhdVflz61u/N/k7+LofltLWctm6njxjlCiCAgY9Lf1W2TypRLSo/ctca0WIjWWy4xVBz/U77qzDgRv5gkoj4EJ4m1/3Ta+2nUqjUhiRuJrdW4upK2rqXVteiyv89/Zu1tLzcfb9vazlt3fKPGeUKIICBjy6GTbtJnKpLtdthOReeJorMYvOxec0G3HBmmmV4ePA3b0/upa+qiHhVrwNDTBfnb+QuQAADH1n6aq+tuBec3UjUUWEpauF9DN3sfOYufl2qfh0vHWppIGjzuZXTB3eSxvc7P1uLKmtxpRaVqeoCBDDw8dLiyw9UTHRWDmbsYNYOZu1gTvZFbE9nB75UzZmpijNTtTnbn7ODOdvfiK99HVfvlpZe6uzAgi775ytpayVtriTNz5K7v3P4x1k2q/CuX4AABj5CrvvQkZmpqd1Mn9xKnvym/KSjpborr0flWlSuxZX/ffY/OtDpO0nzZrpZzG9ntuB3VtPGatL80d6/e+ou3i1VX+pcMV8LdeswMqVLVXkCCSCAAYQ07d3QVbPIDj/z9+4k9VpcWU/LtahSiyq1uPyT0mcDf7jgt0PH5tBL67udX/SNk9X/rFH28+49ZtqhgWMukSkCAMfltxT7PatJt2uXhXvGvfE9wg3mwqjRAKgBAx+9erS4HlWeuIWQqSVLVpPGD9s//nX5WagBP3ZX1cwVwvOpu3ivVPnns79dTR+sJs2VpHnO9vJcDm8yKqcPltPWdf9ENAw7rd3QNjFhQCyAAAY+etPWnrZ2W0rrcaUWldejSjl9kL+J4YeHf37TP9HuE8Ddf1Nx90qVMAbW3bj6+7N/c1fnBmZ7zW+Fl/6Gf5fSDYoaIIAB9Nz0mzf95m90fryvM+tRuRZVwr//YvZvphKtps2b6ZN84nDbeMG2V9LWctL46+1/8yi6ci+uDAxFCYAABjCpWTv4ZnL302S9FpfD4JTrUaUWVf689PnAlAt+ZzltrmS12+8lP5+z/fy33OUFCGAAb4pmXy50uQr9rVQH7u8SxgABDGDCgz/5pWT9l5L1TXcltEU/dldc6NWc5elTd3Etqv6Lmc9X0uZK0lpJuy9auOUf21BOk8EAAQzgKMVxKFXserp1Pd36gfwkDL4Rul85MTV76c7di6r34sq9uLIWV/996dvT0l7OXnYUwjiWpJu+ZvR5BghgAGMVh8gIb2sITw6FwTRU1IupqBObsf3P06++mX7lD7Ue374XV/e6Q1FmrywUyx8CBkAAAzheInEtLicSS//d3HxgDRVZ8Ns3/WYYfqPsHyy2H9qoFAdAAAM4mVZ0K/SCDgN09FWUTRZsO3+z70ranJI2jcwAAQzgFQ/+5NNk/dNk/aG7Fh5GeuyuhqEkiw5l6utouSNxotFy2jxXeAwJAAEM4PRu+c1bfvM3Oz+WbPyN7ojOFgZ9VhP1IqbqRfMOXDRBAwQwgFdSuK0rJiphRGeR/LWClg3tTPszQAADeP12dbYV3cxfXCgiC377mt+Swtt/ARDAAF5XDVjzbzpSqsWV9ai8HpV3da7bCStphq5YsSQUF0AAA3g98ru5c7b/reTrz5Ov17ujQ5efuwsvde4v49W2ltpaWkmbc3TCAghgAG8iiVVkNW2ups1QJ6arFUAAA3hLCqFLxyvgTXEUAQAA1IABvA814L56L4/8AtSAAbwNKtb/wgbaoQFqwADeYgxTCAA1YAAACGAAAEAAAwBAAAMAAAIYAAACGAAAEMAAABDAAAAQwAAAgAAGAIAABgAABDAAAAQwAAAggAEAIIABAAABDAAAAQwAAAEMAAAIYAAACGAAAEAAAwBAAAMAAAIYAAACGAAAEMAAABDAAAAQwAAAgAAGAIAABgAABDAAAAQwAAAggAEAIIABAAABDAAAAQwAAAEMAAAIYAAACGAAAEAAAwBAAAMAAAIYAAACGAAAEMAAABDAAAAQwAAAgAAGAIAABgAABDAAAAQwAAAggAEAIIABAAABDAAAAQwAAAEMAAAIYAAACGAAAEAAAwBAAAMAAAIYAAACGAAAEMAAABDAAAAQwAAAgAAGAIAABgAABDAAAAQwAAAggAEAIIABAAABDAAAAQwAAAFMEQAAQAADAEAAAwCAN0PN7A3OXZUiBgCcRW80H994AAMAgJFoggYAgAAGAIAABgAABDAAAAQwAAAggAEAIIABAAABDAAAAQwAAAhgAAAIYAAACGAAAEAAAwBAAAMAAAIYAAACGAAAEMAAABDAAACAAAYAgAAGAIAABgAABDAAAAQwAAAggAEAIIABAAABDAAAAQwAAAhgAAAIYAAACGAAAEAAAwBAAAMAAAIYAAACGAAAEMAAABDAAACAAAYAgAAGAIAABgAABDAAAAQwAAAggAEAIIABAAABDAAAAQwAAAhgAAAIYAAACGAAAEAAAwBAAAMAAAIYAAACGAAAEMAAABDAAACAAAYAgAAGAIAABgAABDAAAAQwAAAggAEAIIABAAABDAAAAQwAAAhgAAAIYAAACGAAAEAAAwBAAAMAAAIYAAACGAAAEMAAABDAAACAAAYAgAAGAIAABgAABDAAAAQwAAAggAEAIIABAAABDAAAAQwAAAhgAAAIYAAACGCKAAAAAhgAAAIYAAAQwAAAEMAAAIAABgCAAAYAAAQwAAAEMAAAIIABACCAAQAggAEAAAEMAAABDAAACGAAAAhgAABAAAMAQAADAAACGAAAAhgAAAIYAAAQwAAAEMAAAIAABgCAAAYAAAQwAAAEMAAAIIABACCAAQAggAEAAAEMAAABDAAACGAAAAhgAABAAAMAQAADAAACGAAAAhgAAAIYAAAQwAAAEMAAAIAABgCAAAYAAAQwAAAEMAAAIIABACCAAQD4GMVneu1VlU0IAB8nMyOA36XP/sefiIiqiFj2Tchmy77pbikVkd5vh6YXC7/NJhszffbD0dP3fiui46cXER0/vYioqFj2zZjpxQq/HZperHdxouOnL5bP8PRHl2ex6Ey0WwKmlpeGqYiYqXQXp2ZS+H5gGinMoTtNNufw/cg5h+8H5tydftScu9P3z/nMr3/ht30/CdtxeMr+n/et1aif559lcMqhn/c+xZifD6/n2V9/ybda73+7m7JwtPamlIG/LWz03vTZATfhDK3wt5PM0PpXpnAGGzXDoU/Xm2HvhHPUpzt2hgOf7tgZmoi4f7Z+1vOLJmgAAAhgAAAIYAAAQAADAEAAAwAAAhgAAAIYAAAQwAAAvH/0TI8kwkhYAPDRYiQsNgCA46+VOVQpaipgA2iCBgCAAAYAgAAGAABvCDdmAACgBgwAwMfhbPeCznvBUY8H3snRN/LQO92BOTxDDvCTlu3I3477kyO24PvwcQY6Ob/ieh69oHdVCO5M74hmFgqOB4KBd3LePDpHJz8wh6fkAD/pSW/kb4s/fJ+v4UZuYit4LQsys4EFvdtd60NogubqGHivDrrw2xOdN4+YmAP8dOV/9FXOe/K48Cl2ldNdGr6fe1HMrgzgbdaYJzwV5pNR/X1dUV0s0rNyWTPQTn6KHenYFoV3uIMRwADeRty+ytmfSvAbqhe+/1dmISCL+8yrX0bkufvO9ysCGMCbqnWF02vx39OdKynS17tR3p8iPaKdo5i4x+5IA63rR1+3vT8fnwAG8FZPtROeJUnf11jLHFf4Z7GQx1WUT/RxBrL8XRVC/GHsXhxjwPt8xiye6WSyTjcc16+lcIajZeAJpfc2fUeu+fCOdLq5vSeFEH8YRzWXycB7crocd2C+ysPBHONHnPSOKPnhNtv3qhiP/jhywseaj13Q+/Dc84D/HwSCM2gPwnFiAAAAAElFTkSuQmCC'>"
      ],
      "text/plain": [
       "<IPython.core.display.HTML object>"
      ]
     },
     "execution_count": 47,
     "metadata": {},
     "output_type": "execute_result"
    }
   ],
   "source": [
    "# Mapping the viscosity function to the mesh to the mesh can help\n",
    "\n",
    "meshVisc  = uw.mesh.MeshVariable( mesh, 1 )\n",
    "projectorStrainRate = uw.utils.MeshVariable_Projection( meshVisc, viscosityMapFn)\n",
    "projectorStrainRate.solve()\n",
    "\n",
    "figVisc = glucifer.Figure()\n",
    "figVisc.append( glucifer.objects.Surface(mesh, meshVisc, logScale=True) )\n",
    "#figMeshStrainRate.append( glucifer.objects.Surface(mesh, strainRate_2ndInvariant  , colours=\"#0044BB, #777777, #FF9900\") )\n",
    "#figMeshStrainRate.append( glucifer.objects.Points(surfaceSwarm, pointSize=5.0, colours=\"#440000 #440000\", colourBar=False) )\n",
    "\n",
    "figVisc.show()"
   ]
  },
  {
   "cell_type": "code",
   "execution_count": 43,
   "metadata": {
    "collapsed": true
   },
   "outputs": [],
   "source": [
    "#Switch particle escape on, this will also trigger the inflow population control \n",
    "gSwarm.particleEscape = True"
   ]
  },
  {
   "cell_type": "code",
   "execution_count": 44,
   "metadata": {
    "collapsed": true
   },
   "outputs": [],
   "source": [
    "####################\n",
    "#Add the non-linear viscosity to the Stokes system\n",
    "stokesPIC.fn_viscosity = viscosityMapFn\n",
    "###################\n",
    "\n",
    "#Set more advanced solver option\n",
    "solver.options.main.Q22_pc_type='gkgdiag'\n",
    "#solver.options.A11.ksp_rtol=1e-2\n",
    "#solver.options.scr.ksp_rtol=1e-3\n",
    "#solver.options.A11.ksp_type=\"cg\"\n",
    "solver.options.scr.use_previous_guess = True\n",
    "#solver.options.scr.ksp_set_min_it_converge = 1\n",
    "#solver.options.main.penalty=10.0\n",
    "\n",
    "#solver.options.mg.levels = 3\n",
    "#solver.options.main.remove_constant_pressure_null_space=True\n",
    "#solver.options.main.penalty = 1e2\n",
    "\n",
    "solver.options.A11.ksp_rtol=1e-4\n",
    "solver.options.scr.ksp_rtol=1e-4\n",
    "\n",
    "solver.options.A11.ksp_monitor=''\n",
    "solver.options.A11.ksp_converged_reason=''"
   ]
  },
  {
   "cell_type": "code",
   "execution_count": 45,
   "metadata": {
    "collapsed": true
   },
   "outputs": [],
   "source": [
    "solver.solve(nonLinearIterate=True)"
   ]
  },
  {
   "cell_type": "code",
   "execution_count": 46,
   "metadata": {
    "collapsed": false
   },
   "outputs": [
    {
     "data": {
      "text/plain": [
       "0.0"
      ]
     },
     "execution_count": 46,
     "metadata": {},
     "output_type": "execute_result"
    }
   ],
   "source": [
    "ndp.H"
   ]
  },
  {
   "cell_type": "code",
   "execution_count": 143,
   "metadata": {
    "collapsed": false
   },
   "outputs": [],
   "source": [
    "#Create advdiff system\n",
    "\n",
    "\n",
    "\n",
    "#advDiff = uw.systems.AdvectionDiffusion( phiField       = temperatureField, \n",
    "#                                         phiDotField    = temperatureDotField, \n",
    "#                                         velocityField  = velocityField, \n",
    "#                                         fn_diffusivity = 1.0,\n",
    "#                                         fn_sourceTerm = 0.,\n",
    "#                                         conditions     = [tempBC,] )\n",
    "\n",
    "\n",
    "advDiff = uw.systems.AdvectionDiffusion( phiField       = temperatureField, \n",
    "                                         phiDotField    = temperatureDotField, \n",
    "                                         velocityField  = velocityField,\n",
    "                                         fn_sourceTerm    = ndp.H,\n",
    "                                         fn_diffusivity = 1.0, \n",
    "                                         conditions     = [dirichTempBC,] )\n",
    "\n",
    "\n",
    "\n",
    "advector = uw.systems.SwarmAdvector( swarm         = gSwarm, \n",
    "                                     velocityField = velocityField, \n",
    "                                     order         = 1)"
   ]
  },
  {
   "cell_type": "code",
   "execution_count": null,
   "metadata": {
    "collapsed": true
   },
   "outputs": [],
   "source": [
    "pics = uw.swarm.PICIntegrationSwarm(gSwarm)"
   ]
  },
  {
   "cell_type": "markdown",
   "metadata": {},
   "source": [
    "## Figures / gldbs etc"
   ]
  },
  {
   "cell_type": "code",
   "execution_count": 145,
   "metadata": {
    "collapsed": true
   },
   "outputs": [],
   "source": [
    "viscVariable = gSwarm.add_variable( dataType=\"float\", count=1 )\n",
    "viscVariable.data[:] = viscosityMapFn.evaluate(gSwarm)"
   ]
  },
  {
   "cell_type": "code",
   "execution_count": 146,
   "metadata": {
    "collapsed": true
   },
   "outputs": [],
   "source": [
    "#Pack some stuff into a database as well\n",
    "figDb = glucifer.Figure()\n",
    "figDb.append( glucifer.objects.Points(gSwarm,viscVariable, logScale=True, colours='brown white blue'))\n",
    "figDb.append( glucifer.objects.Points(gSwarm,materialVariable, colours='brown white blue red'))\n",
    "figDb.append( glucifer.objects.Mesh(mesh))\n",
    "figDb.append( glucifer.objects.VectorArrows(mesh,velocityField, arrowHead=0.2, scaling=0.01))\n",
    "figDb.append( glucifer.objects.Surface(mesh, strainRate_2ndInvariant, logScale=True, colours='brown white blue'))\n",
    "figDb.append( glucifer.objects.Surface(mesh, temperatureField))"
   ]
  },
  {
   "cell_type": "code",
   "execution_count": 152,
   "metadata": {
    "collapsed": true
   },
   "outputs": [],
   "source": [
    "step = 0\n",
    "realtime = 0.\n",
    "timevals = [0.]"
   ]
  },
  {
   "cell_type": "code",
   "execution_count": null,
   "metadata": {
    "collapsed": false
   },
   "outputs": [
    {
     "name": "stdout",
     "output_type": "stream",
     "text": [
      "0.0\n",
      "1.0\n",
      "2.0\n",
      "3.0\n",
      "4.0"
     ]
    }
   ],
   "source": [
    "# initialise timer for computation\n",
    "startMain = time.clock()\n",
    "# Perform steps#\n",
    "while realtime < 0.2:\n",
    "#while step < 25:\n",
    "    #Enter non-linear loop\n",
    "    print step\n",
    "    solver.solve(nonLinearIterate=True)\n",
    "    dt = advDiff.get_max_dt()\n",
    "    if step == 0:\n",
    "        dt = 0.\n",
    "    #start = time.clock()\n",
    "    advDiff.integrate(dt)\n",
    "    #machine_time = (time.clock()-start)\n",
    "    #print(\"total advDiff time is: \" + str(machine_time))\n",
    "    # Advect swarm using this timestep size\n",
    "    #start = time.clock()\n",
    "    advector.integrate(dt)\n",
    "    #machine_time = (time.clock()-start)\n",
    "    #print(\"total advector time is: \" + str(machine_time))\n",
    "    # Increment\n",
    "    realtime += dt\n",
    "    step += 1\n",
    "    timevals.append(realtime)\n",
    "    \n",
    "    ################\n",
    "    #Gldb output\n",
    "    ################ \n",
    "    if (step % gldbs_output == 0):\n",
    "        #Rebuild any necessary swarm variables\n",
    "        viscVariable.data[:] = viscosityMapFn.evaluate(gSwarm)\n",
    "        #Write gldbs\n",
    "        fnamedb = \"dbFig\" + \"_\" + str(ModIt) + \"_\" + str(step) + \".gldb\"\n",
    "        fullpath = os.path.join(outputPath + \"gldbs/\" + fnamedb)\n",
    "        figDb.show()\n",
    "        figDb.save_database(fullpath)\n",
    "    ################\n",
    "    #Also repopulate entire swarm periodically\n",
    "    ################\n",
    "    if step % swarm_repop == 0:\n",
    "        pics.repopulate()\n",
    "    "
   ]
  },
  {
   "cell_type": "code",
   "execution_count": null,
   "metadata": {
    "collapsed": true
   },
   "outputs": [],
   "source": []
  }
 ],
 "metadata": {
  "kernelspec": {
   "display_name": "Python 2",
   "language": "python",
   "name": "python2"
  },
  "language_info": {
   "codemirror_mode": {
    "name": "ipython",
    "version": 2
   },
   "file_extension": ".py",
   "mimetype": "text/x-python",
   "name": "python",
   "nbconvert_exporter": "python",
   "pygments_lexer": "ipython2",
   "version": "2.7.11"
  }
 },
 "nbformat": 4,
 "nbformat_minor": 0
}
